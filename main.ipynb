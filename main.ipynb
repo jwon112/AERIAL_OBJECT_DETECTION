{
 "cells": [
  {
   "cell_type": "code",
   "execution_count": 1,
   "id": "I5GOpRY8iceH",
   "metadata": {
    "colab": {
     "base_uri": "https://localhost:8080/"
    },
    "executionInfo": {
     "elapsed": 121074,
     "status": "ok",
     "timestamp": 1744696153033,
     "user": {
      "displayName": "천재원",
      "userId": "10314458299258158887"
     },
     "user_tz": -540
    },
    "id": "I5GOpRY8iceH",
    "outputId": "59ea41f2-0a57-4455-c4ae-89b38873f9fb"
   },
   "outputs": [],
   "source": [
    "#!pip install -r requirements.txt"
   ]
  },
  {
   "cell_type": "code",
   "execution_count": 2,
   "id": "6dd08f52",
   "metadata": {
    "colab": {
     "base_uri": "https://localhost:8080/"
    },
    "execution": {
     "iopub.execute_input": "2025-04-11T09:04:12.198519Z",
     "iopub.status.busy": "2025-04-11T09:04:12.198421Z",
     "iopub.status.idle": "2025-04-11T09:04:15.339455Z",
     "shell.execute_reply": "2025-04-11T09:04:15.339113Z",
     "shell.execute_reply.started": "2025-04-11T09:04:12.198511Z"
    },
    "executionInfo": {
     "elapsed": 13561,
     "status": "ok",
     "timestamp": 1744696166669,
     "user": {
      "displayName": "천재원",
      "userId": "10314458299258158887"
     },
     "user_tz": -540
    },
    "id": "6dd08f52",
    "outputId": "9861d3a5-ad07-48e8-a7a5-716d079f073f"
   },
   "outputs": [
    {
     "name": "stderr",
     "output_type": "stream",
     "text": [
      "Install mish-cuda to speed up training and inference. More importantly, replace the naive Mish with MishCuda will give a ~1.5G memory saving during training.\n",
      "c:\\Users\\user\\anaconda3\\envs\\AerialObjectDetection\\lib\\site-packages\\timm\\models\\layers\\__init__.py:48: FutureWarning: Importing from timm.models.layers is deprecated, please import via timm.layers\n",
      "  warnings.warn(f\"Importing from {__name__} is deprecated, please import via timm.layers\", FutureWarning)\n",
      "c:\\Users\\user\\anaconda3\\envs\\AerialObjectDetection\\lib\\site-packages\\timm\\models\\registry.py:4: FutureWarning: Importing from timm.models.registry is deprecated, please import via timm.models\n",
      "  warnings.warn(f\"Importing from {__name__} is deprecated, please import via timm.models\", FutureWarning)\n",
      "C:\\Users\\user\\Desktop\\Aerial Object Detection\\AERIAL_OBJECT_DETECTION\\Models\\YOLOH\\models\\backbone\\convnext.py:204: UserWarning: Overwriting convnext_tiny in registry with models.backbone.convnext.convnext_tiny. This is because the name being registered conflicts with an existing name. Please check if this is not expected.\n",
      "  def convnext_tiny(pretrained=False, res_dilation=False, **kwargs):\n",
      "C:\\Users\\user\\Desktop\\Aerial Object Detection\\AERIAL_OBJECT_DETECTION\\Models\\YOLOH\\models\\backbone\\convnext.py:211: UserWarning: Overwriting convnext_small in registry with models.backbone.convnext.convnext_small. This is because the name being registered conflicts with an existing name. Please check if this is not expected.\n",
      "  def convnext_small(pretrained=False, res_dilation=False, **kwargs):\n",
      "C:\\Users\\user\\Desktop\\Aerial Object Detection\\AERIAL_OBJECT_DETECTION\\Models\\YOLOH\\models\\backbone\\convnext.py:218: UserWarning: Overwriting convnext_base in registry with models.backbone.convnext.convnext_base. This is because the name being registered conflicts with an existing name. Please check if this is not expected.\n",
      "  def convnext_base(pretrained=False, res_dilation=False, in_22k=False, **kwargs):\n",
      "C:\\Users\\user\\Desktop\\Aerial Object Detection\\AERIAL_OBJECT_DETECTION\\Models\\YOLOH\\models\\backbone\\convnext.py:228: UserWarning: Overwriting convnext_large in registry with models.backbone.convnext.convnext_large. This is because the name being registered conflicts with an existing name. Please check if this is not expected.\n",
      "  def convnext_large(pretrained=False, res_dilation=False, in_22k=False, **kwargs):\n",
      "C:\\Users\\user\\Desktop\\Aerial Object Detection\\AERIAL_OBJECT_DETECTION\\Models\\YOLOH\\models\\backbone\\convnext.py:238: UserWarning: Overwriting convnext_xlarge in registry with models.backbone.convnext.convnext_xlarge. This is because the name being registered conflicts with an existing name. Please check if this is not expected.\n",
      "  def convnext_xlarge(pretrained=False, res_dilation=False, in_22k=False, **kwargs):\n"
     ]
    }
   ],
   "source": [
    "import yaml\n",
    "import timeit\n",
    "import numpy as np\n",
    "import pandas as pd\n",
    "import torch\n",
    "from datetime import datetime\n",
    "from utility import *\n",
    "from ultralytics import settings\n",
    "from registry import get_model, get_pipeline\n",
    "#settings.update({'datasets_dir': os.path.abspath('.')})\n"
   ]
  },
  {
   "cell_type": "code",
   "execution_count": 3,
   "id": "3c883b28-7e26-40bb-9d4f-b8a384ed40d8",
   "metadata": {
    "execution": {
     "iopub.execute_input": "2025-04-11T09:04:15.339909Z",
     "iopub.status.busy": "2025-04-11T09:04:15.339783Z",
     "iopub.status.idle": "2025-04-11T09:04:15.342378Z",
     "shell.execute_reply": "2025-04-11T09:04:15.342181Z",
     "shell.execute_reply.started": "2025-04-11T09:04:15.339901Z"
    },
    "executionInfo": {
     "elapsed": 4,
     "status": "ok",
     "timestamp": 1744696166729,
     "user": {
      "displayName": "천재원",
      "userId": "10314458299258158887"
     },
     "user_tz": -540
    },
    "id": "3c883b28-7e26-40bb-9d4f-b8a384ed40d8"
   },
   "outputs": [],
   "source": [
    "project_name = 'Object Detection'\n",
    "# dataset_root 가 상대경로일 경우 colab 환경에서는 무조건 앞에 datasets 를 붙여서 찾는 문제가 있음\n",
    "dataset_root = 'Datasets'\n",
    "output_dir = 'output'\n",
    "dataset_names = ['NWPU_VHR10_YOLO', 'COCO_airplane',]\n",
    "model_names = ['yolov8n']\n",
    "iterations = [1, 5]\n",
    "epochs = 10\n",
    "early_stop = 20\n",
    "batch_size = 16\n",
    "image_size = 640\n",
    "optimizer = 'AdamW'\n",
    "lr = 0.001\n",
    "momentum = 0.9\n",
    "weight_decay = 1e-4\n",
    "optim_args = {'optimizer': optimizer, 'lr': lr, 'momentum': momentum, 'weight_decay': weight_decay}\n",
    "devices = [0]\n",
    "device = torch.device(\"cuda:\"+str(devices[0])) if len(devices)>0 else torch.device(\"cpu\")\n",
    "train_split = 0.6\n",
    "val_split = 0.2\n",
    "test_split = 0.2\n",
    "num_workers = 0"
   ]
  },
  {
   "cell_type": "code",
   "execution_count": 4,
   "id": "3564f553-e7b4-45cd-9171-465418f355ae",
   "metadata": {
    "colab": {
     "base_uri": "https://localhost:8080/"
    },
    "execution": {
     "iopub.execute_input": "2025-04-11T09:04:15.342815Z",
     "iopub.status.busy": "2025-04-11T09:04:15.342678Z",
     "iopub.status.idle": "2025-04-11T09:04:20.532205Z",
     "shell.execute_reply": "2025-04-11T09:04:20.531371Z",
     "shell.execute_reply.started": "2025-04-11T09:04:15.342803Z"
    },
    "executionInfo": {
     "elapsed": 5894784,
     "status": "ok",
     "timestamp": 1744702065603,
     "user": {
      "displayName": "천재원",
      "userId": "10314458299258158887"
     },
     "user_tz": -540
    },
    "id": "3564f553-e7b4-45cd-9171-465418f355ae",
    "outputId": "24fde293-4a80-49a9-ed27-3892b0e3e555",
    "scrolled": true
   },
   "outputs": [
    {
     "name": "stdout",
     "output_type": "stream",
     "text": [
      "Experiment Start Time: 250522_154811\n",
      "(Iter 1)\n",
      "Dataset: NWPU_VHR10_YOLO (1/2)\n",
      "yolov8n (1/4) (Iter 1) Dataset: NWPU_VHR10_YOLO (1/2) New https://pypi.org/project/ultralytics/8.3.141 available  Update with 'pip install -U ultralytics'\n",
      "\u001b[34m\u001b[1mengine\\trainer: \u001b[0mtask=detect, mode=train, model=yolov8n.pt, data=Datasets/NWPU_VHR10_YOLO/data_iter_01.yaml, epochs=10, time=None, patience=100, batch=16, imgsz=640, save=True, save_period=-1, cache=False, device=cuda:0, workers=8, project=output, name=yolov8_train11, exist_ok=False, pretrained=True, optimizer=auto, verbose=True, seed=0, deterministic=True, single_cls=False, rect=False, cos_lr=False, close_mosaic=10, resume=False, amp=True, fraction=1.0, profile=False, freeze=None, multi_scale=False, overlap_mask=True, mask_ratio=4, dropout=0.0, val=True, split=val, save_json=False, save_hybrid=False, conf=None, iou=0.7, max_det=300, half=False, dnn=False, plots=True, source=None, vid_stride=1, stream_buffer=False, visualize=False, augment=False, agnostic_nms=False, classes=None, retina_masks=False, embed=None, show=False, save_frames=False, save_txt=False, save_conf=False, save_crop=False, show_labels=True, show_conf=True, show_boxes=True, line_width=None, format=torchscript, keras=False, optimize=False, int8=False, dynamic=False, simplify=True, opset=None, workspace=None, nms=False, lr0=0.01, lrf=0.01, momentum=0.937, weight_decay=0.0005, warmup_epochs=3.0, warmup_momentum=0.8, warmup_bias_lr=0.1, box=7.5, cls=0.5, dfl=1.5, pose=12.0, kobj=1.0, nbs=64, hsv_h=0.015, hsv_s=0.7, hsv_v=0.4, degrees=0.0, translate=0.1, scale=0.5, shear=0.0, perspective=0.0, flipud=0.0, fliplr=0.5, bgr=0.0, mosaic=1.0, mixup=0.0, copy_paste=0.0, copy_paste_mode=flip, auto_augment=randaugment, erasing=0.4, crop_fraction=1.0, cfg=None, tracker=botsort.yaml, save_dir=output\\yolov8_train11\n",
      "Overriding model.yaml nc=80 with nc=10\n",
      "\n",
      "                   from  n    params  module                                       arguments                     \n",
      "  0                  -1  1       464  ultralytics.nn.modules.conv.Conv             [3, 16, 3, 2]                 \n",
      "  1                  -1  1      4672  ultralytics.nn.modules.conv.Conv             [16, 32, 3, 2]                \n",
      "  2                  -1  1      7360  ultralytics.nn.modules.block.C2f             [32, 32, 1, True]             \n",
      "  3                  -1  1     18560  ultralytics.nn.modules.conv.Conv             [32, 64, 3, 2]                \n",
      "  4                  -1  2     49664  ultralytics.nn.modules.block.C2f             [64, 64, 2, True]             \n",
      "  5                  -1  1     73984  ultralytics.nn.modules.conv.Conv             [64, 128, 3, 2]               \n",
      "  6                  -1  2    197632  ultralytics.nn.modules.block.C2f             [128, 128, 2, True]           \n",
      "  7                  -1  1    295424  ultralytics.nn.modules.conv.Conv             [128, 256, 3, 2]              \n",
      "  8                  -1  1    460288  ultralytics.nn.modules.block.C2f             [256, 256, 1, True]           \n",
      "  9                  -1  1    164608  ultralytics.nn.modules.block.SPPF            [256, 256, 5]                 \n",
      " 10                  -1  1         0  torch.nn.modules.upsampling.Upsample         [None, 2, 'nearest']          \n",
      " 11             [-1, 6]  1         0  ultralytics.nn.modules.conv.Concat           [1]                           \n",
      " 12                  -1  1    148224  ultralytics.nn.modules.block.C2f             [384, 128, 1]                 \n",
      " 13                  -1  1         0  torch.nn.modules.upsampling.Upsample         [None, 2, 'nearest']          \n",
      " 14             [-1, 4]  1         0  ultralytics.nn.modules.conv.Concat           [1]                           \n",
      " 15                  -1  1     37248  ultralytics.nn.modules.block.C2f             [192, 64, 1]                  \n",
      " 16                  -1  1     36992  ultralytics.nn.modules.conv.Conv             [64, 64, 3, 2]                \n",
      " 17            [-1, 12]  1         0  ultralytics.nn.modules.conv.Concat           [1]                           \n",
      " 18                  -1  1    123648  ultralytics.nn.modules.block.C2f             [192, 128, 1]                 \n",
      " 19                  -1  1    147712  ultralytics.nn.modules.conv.Conv             [128, 128, 3, 2]              \n",
      " 20             [-1, 9]  1         0  ultralytics.nn.modules.conv.Concat           [1]                           \n",
      " 21                  -1  1    493056  ultralytics.nn.modules.block.C2f             [384, 256, 1]                 \n",
      " 22        [15, 18, 21]  1    753262  ultralytics.nn.modules.head.Detect           [10, [64, 128, 256]]          \n",
      "Model summary: 129 layers, 3,012,798 parameters, 3,012,782 gradients, 8.2 GFLOPs\n",
      "\n",
      "Transferred 319/355 items from pretrained weights\n",
      "Freezing layer 'model.22.dfl.conv.weight'\n",
      "\u001b[34m\u001b[1mAMP: \u001b[0mrunning Automatic Mixed Precision (AMP) checks...\n",
      "\u001b[34m\u001b[1mAMP: \u001b[0mchecks passed \n"
     ]
    },
    {
     "name": "stderr",
     "output_type": "stream",
     "text": [
      "\u001b[34m\u001b[1mtrain: \u001b[0mScanning Datasets\\NWPU_VHR10_YOLO\\labels... 390 images, 0 backgrounds, 0 corrupt: 100%|██████████| 390/390 [00:00<00:00, 1657.84it/s]\n"
     ]
    },
    {
     "name": "stdout",
     "output_type": "stream",
     "text": [
      "\u001b[34m\u001b[1mtrain: \u001b[0mNew cache created: Datasets\\NWPU_VHR10_YOLO\\labels.cache\n"
     ]
    },
    {
     "name": "stderr",
     "output_type": "stream",
     "text": [
      "\u001b[34m\u001b[1mval: \u001b[0mScanning Datasets\\NWPU_VHR10_YOLO\\labels... 130 images, 0 backgrounds, 0 corrupt: 100%|██████████| 130/130 [00:00<00:00, 1373.54it/s]"
     ]
    },
    {
     "name": "stdout",
     "output_type": "stream",
     "text": [
      "\u001b[34m\u001b[1mval: \u001b[0mNew cache created: Datasets\\NWPU_VHR10_YOLO\\labels.cache\n"
     ]
    },
    {
     "name": "stderr",
     "output_type": "stream",
     "text": [
      "\n"
     ]
    },
    {
     "name": "stdout",
     "output_type": "stream",
     "text": [
      "Plotting labels to output\\yolov8_train11\\labels.jpg... \n",
      "\u001b[34m\u001b[1moptimizer:\u001b[0m 'optimizer=auto' found, ignoring 'lr0=0.01' and 'momentum=0.937' and determining best 'optimizer', 'lr0' and 'momentum' automatically... \n",
      "\u001b[34m\u001b[1moptimizer:\u001b[0m AdamW(lr=0.000714, momentum=0.9) with parameter groups 57 weight(decay=0.0), 64 weight(decay=0.0005), 63 bias(decay=0.0)\n",
      "Image sizes 640 train, 640 val\n",
      "Using 8 dataloader workers\n",
      "Logging results to \u001b[1moutput\\yolov8_train11\u001b[0m\n",
      "Starting training for 10 epochs...\n",
      "Closing dataloader mosaic\n",
      "\n",
      "      Epoch    GPU_mem   box_loss   cls_loss   dfl_loss  Instances       Size\n"
     ]
    },
    {
     "name": "stderr",
     "output_type": "stream",
     "text": [
      "       1/10      2.22G      1.714      4.441      1.365         12        640: 100%|██████████| 25/25 [00:03<00:00,  6.83it/s]\n",
      "                 Class     Images  Instances      Box(P          R      mAP50  mAP50-95): 100%|██████████| 5/5 [00:01<00:00,  4.87it/s]"
     ]
    },
    {
     "name": "stdout",
     "output_type": "stream",
     "text": [
      "                   all        130        736    0.00849      0.207      0.106     0.0724\n"
     ]
    },
    {
     "name": "stderr",
     "output_type": "stream",
     "text": [
      "\n"
     ]
    },
    {
     "name": "stdout",
     "output_type": "stream",
     "text": [
      "\n",
      "      Epoch    GPU_mem   box_loss   cls_loss   dfl_loss  Instances       Size\n"
     ]
    },
    {
     "name": "stderr",
     "output_type": "stream",
     "text": [
      "       2/10      2.56G      1.604      3.122      1.216         31        640: 100%|██████████| 25/25 [00:02<00:00,  9.27it/s]\n",
      "                 Class     Images  Instances      Box(P          R      mAP50  mAP50-95): 100%|██████████| 5/5 [00:00<00:00,  6.89it/s]"
     ]
    },
    {
     "name": "stdout",
     "output_type": "stream",
     "text": [
      "                   all        130        736     0.0105      0.614      0.369      0.233\n"
     ]
    },
    {
     "name": "stderr",
     "output_type": "stream",
     "text": [
      "\n"
     ]
    },
    {
     "name": "stdout",
     "output_type": "stream",
     "text": [
      "\n",
      "      Epoch    GPU_mem   box_loss   cls_loss   dfl_loss  Instances       Size\n"
     ]
    },
    {
     "name": "stderr",
     "output_type": "stream",
     "text": [
      "       3/10      2.59G      1.506      2.274      1.174         24        640: 100%|██████████| 25/25 [00:02<00:00,  9.74it/s]\n",
      "                 Class     Images  Instances      Box(P          R      mAP50  mAP50-95): 100%|██████████| 5/5 [00:00<00:00,  7.18it/s]"
     ]
    },
    {
     "name": "stdout",
     "output_type": "stream",
     "text": [
      "                   all        130        736      0.963      0.218      0.511       0.32\n"
     ]
    },
    {
     "name": "stderr",
     "output_type": "stream",
     "text": [
      "\n"
     ]
    },
    {
     "name": "stdout",
     "output_type": "stream",
     "text": [
      "\n",
      "      Epoch    GPU_mem   box_loss   cls_loss   dfl_loss  Instances       Size\n"
     ]
    },
    {
     "name": "stderr",
     "output_type": "stream",
     "text": [
      "       4/10      2.59G      1.459      1.976      1.156         13        640: 100%|██████████| 25/25 [00:02<00:00, 10.08it/s]\n",
      "                 Class     Images  Instances      Box(P          R      mAP50  mAP50-95): 100%|██████████| 5/5 [00:00<00:00,  7.89it/s]"
     ]
    },
    {
     "name": "stdout",
     "output_type": "stream",
     "text": [
      "                   all        130        736      0.703      0.414      0.603      0.356\n"
     ]
    },
    {
     "name": "stderr",
     "output_type": "stream",
     "text": [
      "\n"
     ]
    },
    {
     "name": "stdout",
     "output_type": "stream",
     "text": [
      "\n",
      "      Epoch    GPU_mem   box_loss   cls_loss   dfl_loss  Instances       Size\n"
     ]
    },
    {
     "name": "stderr",
     "output_type": "stream",
     "text": [
      "       5/10      2.59G      1.444        1.7      1.124         85        640: 100%|██████████| 25/25 [00:02<00:00, 10.29it/s]\n",
      "                 Class     Images  Instances      Box(P          R      mAP50  mAP50-95): 100%|██████████| 5/5 [00:00<00:00,  7.95it/s]"
     ]
    },
    {
     "name": "stdout",
     "output_type": "stream",
     "text": [
      "                   all        130        736       0.62      0.628      0.683      0.429\n"
     ]
    },
    {
     "name": "stderr",
     "output_type": "stream",
     "text": [
      "\n"
     ]
    },
    {
     "name": "stdout",
     "output_type": "stream",
     "text": [
      "\n",
      "      Epoch    GPU_mem   box_loss   cls_loss   dfl_loss  Instances       Size\n"
     ]
    },
    {
     "name": "stderr",
     "output_type": "stream",
     "text": [
      "       6/10       2.6G      1.369      1.511      1.103         35        640: 100%|██████████| 25/25 [00:02<00:00, 10.29it/s]\n",
      "                 Class     Images  Instances      Box(P          R      mAP50  mAP50-95): 100%|██████████| 5/5 [00:00<00:00,  7.78it/s]"
     ]
    },
    {
     "name": "stdout",
     "output_type": "stream",
     "text": [
      "                   all        130        736      0.758      0.702      0.757       0.47\n"
     ]
    },
    {
     "name": "stderr",
     "output_type": "stream",
     "text": [
      "\n"
     ]
    },
    {
     "name": "stdout",
     "output_type": "stream",
     "text": [
      "\n",
      "      Epoch    GPU_mem   box_loss   cls_loss   dfl_loss  Instances       Size\n"
     ]
    },
    {
     "name": "stderr",
     "output_type": "stream",
     "text": [
      "       7/10      2.62G      1.329      1.383       1.09         31        640: 100%|██████████| 25/25 [00:02<00:00, 10.35it/s]\n",
      "                 Class     Images  Instances      Box(P          R      mAP50  mAP50-95): 100%|██████████| 5/5 [00:00<00:00,  7.68it/s]"
     ]
    },
    {
     "name": "stdout",
     "output_type": "stream",
     "text": [
      "                   all        130        736      0.757      0.789      0.788      0.509\n"
     ]
    },
    {
     "name": "stderr",
     "output_type": "stream",
     "text": [
      "\n"
     ]
    },
    {
     "name": "stdout",
     "output_type": "stream",
     "text": [
      "\n",
      "      Epoch    GPU_mem   box_loss   cls_loss   dfl_loss  Instances       Size\n"
     ]
    },
    {
     "name": "stderr",
     "output_type": "stream",
     "text": [
      "       8/10      2.64G      1.272       1.29       1.09         56        640: 100%|██████████| 25/25 [00:02<00:00, 10.27it/s]\n",
      "                 Class     Images  Instances      Box(P          R      mAP50  mAP50-95): 100%|██████████| 5/5 [00:00<00:00,  7.63it/s]"
     ]
    },
    {
     "name": "stdout",
     "output_type": "stream",
     "text": [
      "                   all        130        736      0.792      0.795      0.836      0.535\n"
     ]
    },
    {
     "name": "stderr",
     "output_type": "stream",
     "text": [
      "\n"
     ]
    },
    {
     "name": "stdout",
     "output_type": "stream",
     "text": [
      "\n",
      "      Epoch    GPU_mem   box_loss   cls_loss   dfl_loss  Instances       Size\n"
     ]
    },
    {
     "name": "stderr",
     "output_type": "stream",
     "text": [
      "       9/10      2.65G      1.234      1.232      1.073         16        640: 100%|██████████| 25/25 [00:02<00:00, 10.36it/s]\n",
      "                 Class     Images  Instances      Box(P          R      mAP50  mAP50-95): 100%|██████████| 5/5 [00:00<00:00,  8.03it/s]"
     ]
    },
    {
     "name": "stdout",
     "output_type": "stream",
     "text": [
      "                   all        130        736       0.85      0.766      0.878      0.563\n"
     ]
    },
    {
     "name": "stderr",
     "output_type": "stream",
     "text": [
      "\n"
     ]
    },
    {
     "name": "stdout",
     "output_type": "stream",
     "text": [
      "\n",
      "      Epoch    GPU_mem   box_loss   cls_loss   dfl_loss  Instances       Size\n"
     ]
    },
    {
     "name": "stderr",
     "output_type": "stream",
     "text": [
      "      10/10      2.67G      1.241       1.21      1.053         47        640: 100%|██████████| 25/25 [00:02<00:00,  9.98it/s]\n",
      "                 Class     Images  Instances      Box(P          R      mAP50  mAP50-95): 100%|██████████| 5/5 [00:00<00:00,  8.06it/s]\n"
     ]
    },
    {
     "name": "stdout",
     "output_type": "stream",
     "text": [
      "                   all        130        736      0.863      0.826      0.889      0.575\n",
      "\n",
      "10 epochs completed in 0.022 hours.\n",
      "Optimizer stripped from output\\yolov8_train11\\weights\\last.pt, 6.2MB\n",
      "Optimizer stripped from output\\yolov8_train11\\weights\\best.pt, 6.2MB\n",
      "\n",
      "Validating output\\yolov8_train11\\weights\\best.pt...\n",
      "Ultralytics 8.3.96  Python-3.10.16 torch-2.8.0.dev20250420+cu128 CUDA:0 (NVIDIA GeForce RTX 5060 Ti, 16311MiB)\n",
      "Model summary (fused): 72 layers, 3,007,598 parameters, 0 gradients, 8.1 GFLOPs\n"
     ]
    },
    {
     "name": "stderr",
     "output_type": "stream",
     "text": [
      "                 Class     Images  Instances      Box(P          R      mAP50  mAP50-95): 100%|██████████| 5/5 [00:01<00:00,  4.12it/s]\n"
     ]
    },
    {
     "name": "stdout",
     "output_type": "stream",
     "text": [
      "                   all        130        736      0.865      0.825      0.892      0.575\n",
      "              airplane         19        151       0.98      0.974      0.993      0.663\n",
      "                  ship          9         53      0.942      0.792      0.949      0.658\n",
      "          storage tank          3         62      0.881          1      0.995      0.597\n",
      "      baseball diamond         43         82      0.993      0.915      0.969       0.71\n",
      "          tennis court         15         75      0.905      0.889      0.918      0.557\n",
      "      basketball court         12         21      0.774      0.655      0.788       0.56\n",
      "    ground track field         38         38      0.898      0.974      0.987      0.829\n",
      "                harbor          6         59       0.68      0.881      0.822      0.467\n",
      "                bridge         13         21      0.854      0.558      0.784      0.286\n",
      "               vehicle         19        174      0.741      0.615      0.711      0.421\n",
      "Speed: 0.3ms preprocess, 1.1ms inference, 0.0ms loss, 1.4ms postprocess per image\n",
      "Results saved to \u001b[1moutput\\yolov8_train11\u001b[0m\n",
      "Model summary (fused): 72 layers, 3,007,598 parameters, 0 gradients, 8.1 GFLOPs\n"
     ]
    },
    {
     "name": "stderr",
     "output_type": "stream",
     "text": [
      "\u001b[34m\u001b[1mval: \u001b[0mScanning Datasets\\NWPU_VHR10_YOLO\\labels.cache... 130 images, 0 backgrounds, 0 corrupt: 100%|██████████| 130/130 [00:00<?, ?it/s]\n",
      "                 Class     Images  Instances      Box(P          R      mAP50  mAP50-95): 100%|██████████| 9/9 [00:07<00:00,  1.23it/s]\n"
     ]
    },
    {
     "name": "stdout",
     "output_type": "stream",
     "text": [
      "                   all        130        736      0.864      0.824      0.898      0.577\n",
      "              airplane         19        151      0.986       0.98      0.993      0.662\n",
      "                  ship          9         53       0.93      0.811       0.95      0.662\n",
      "          storage tank          3         62      0.879          1      0.995      0.598\n",
      "      baseball diamond         43         82      0.982      0.915      0.968      0.711\n",
      "          tennis court         15         75      0.895      0.893      0.916      0.554\n",
      "      basketball court         12         21      0.744      0.619      0.803       0.56\n",
      "    ground track field         38         38      0.879      0.958      0.985      0.824\n",
      "                harbor          6         59      0.677      0.847      0.825      0.466\n",
      "                bridge         13         21      0.928      0.612      0.833      0.305\n",
      "               vehicle         19        174      0.739      0.601      0.715      0.423\n",
      "Speed: 0.5ms preprocess, 3.8ms inference, 0.0ms loss, 2.8ms postprocess per image\n",
      "Results saved to \u001b[1moutput\\yolov8_train112\u001b[0m\n"
     ]
    },
    {
     "name": "stderr",
     "output_type": "stream",
     "text": [
      "\u001b[34m\u001b[1mval: \u001b[0mScanning Datasets\\NWPU_VHR10_YOLO\\labels... 130 images, 0 backgrounds, 0 corrupt: 100%|██████████| 130/130 [00:00<00:00, 1191.38it/s]"
     ]
    },
    {
     "name": "stdout",
     "output_type": "stream",
     "text": [
      "\u001b[34m\u001b[1mval: \u001b[0mNew cache created: Datasets\\NWPU_VHR10_YOLO\\labels.cache\n"
     ]
    },
    {
     "name": "stderr",
     "output_type": "stream",
     "text": [
      "\n",
      "                 Class     Images  Instances      Box(P          R      mAP50  mAP50-95): 100%|██████████| 9/9 [00:04<00:00,  1.84it/s]\n"
     ]
    },
    {
     "name": "stdout",
     "output_type": "stream",
     "text": [
      "                   all        130        814      0.827      0.771       0.83       0.53\n",
      "              airplane         13        102      0.961      0.979      0.994       0.64\n",
      "                  ship         12         53      0.929      0.736       0.81      0.502\n",
      "          storage tank          8        225      0.937      0.973       0.98      0.658\n",
      "      baseball diamond         39         89      0.922      0.935      0.955      0.674\n",
      "          tennis court         22        110      0.903        0.7      0.844      0.576\n",
      "      basketball court         19         38        0.7      0.492       0.52      0.284\n",
      "    ground track field         34         34      0.967      0.871      0.984      0.797\n",
      "                harbor          5         33      0.726      0.818      0.853      0.476\n",
      "                bridge         10         16      0.462      0.438      0.522      0.219\n",
      "               vehicle         20        114      0.759      0.772      0.842      0.478\n",
      "Speed: 0.5ms preprocess, 2.1ms inference, 0.0ms loss, 4.2ms postprocess per image\n",
      "Results saved to \u001b[1moutput\\yolov8_train113\u001b[0m\n",
      "DataFrame이 '250522_154811_Object Detection_Results.csv'에 저장되었습니다.\n",
      "YoloOW (2/4) (Iter 1) Dataset: NWPU_VHR10_YOLO (1/2) [YoloOW] Using config → C:\\Users\\user\\Desktop\\Aerial Object Detection\\AERIAL_OBJECT_DETECTION\\Models\\YoloOW\\cfg\\training\\yoloOW.yaml\n",
      "\n",
      "\u001b[34m\u001b[1mautoanchor: \u001b[0mAnalyzing anchors... [YOLOTxtDataset] Caching labels for anchor check...\n",
      "anchors/target = 1.64, Best Possible Recall (BPR) = 0.5963. Attempting to improve anchors, please wait...\n",
      "\u001b[34m\u001b[1mautoanchor: \u001b[0mRunning kmeans for 9 anchors on 2346 points...\n",
      "\u001b[34m\u001b[1mautoanchor: \u001b[0mthr=0.25: 1.0000 best possible recall, 6.72 anchors past thr\n",
      "\u001b[34m\u001b[1mautoanchor: \u001b[0mn=9, img_size=640, metric_all=0.424/0.788-mean/best, past_thr=0.512-mean: 16,36,  21,58,  37,48,  21,98,  38,87,  66,76,  55,167,  134,132,  112,335\n"
     ]
    },
    {
     "name": "stderr",
     "output_type": "stream",
     "text": [
      "\u001b[34m\u001b[1mautoanchor: \u001b[0mEvolving anchors with Genetic Algorithm: fitness = 0.8015: 100%|██████████| 1000/1000 [00:00<00:00, 2860.58it/s]\n"
     ]
    },
    {
     "name": "stdout",
     "output_type": "stream",
     "text": [
      "\u001b[34m\u001b[1mautoanchor: \u001b[0mthr=0.25: 1.0000 best possible recall, 6.99 anchors past thr\n",
      "\u001b[34m\u001b[1mautoanchor: \u001b[0mn=9, img_size=640, metric_all=0.450/0.802-mean/best, past_thr=0.532-mean: 16,32,  19,51,  31,49,  22,83,  34,80,  53,72,  49,115,  129,119,  102,314\n",
      "\u001b[34m\u001b[1mautoanchor: \u001b[0mNew anchors saved to model. Update model *.yaml to use these anchors in the future.\n",
      "\n",
      "==============================\n",
      "Optimizer: adamw\n",
      "--momentum: 0.9\n",
      "--weight_decay: 0.0001\n"
     ]
    },
    {
     "name": "stderr",
     "output_type": "stream",
     "text": [
      "[YoloOW] Epoch 1/10:   0%|          | 0/24 [00:00<?, ?it/s]"
     ]
    },
    {
     "name": "stdout",
     "output_type": "stream",
     "text": [
      "\n",
      "[DEBUG] first batch target rows = 89\n",
      "[DEBUG] first 5 targets:\n",
      " tensor([[0.00000, 6.00000, 0.40726, 0.34835, 0.35484, 0.50260],\n",
      "        [0.00000, 4.00000, 0.59677, 0.63865, 0.07258, 0.07799],\n",
      "        [1.00000, 1.00000, 0.13636, 0.19910, 0.06818, 0.07088],\n",
      "        [1.00000, 1.00000, 0.40341, 0.26804, 0.07335, 0.03866],\n",
      "        [1.00000, 1.00000, 0.51188, 0.54510, 0.06921, 0.07474]])\n"
     ]
    },
    {
     "name": "stderr",
     "output_type": "stream",
     "text": [
      "c:\\Users\\user\\anaconda3\\envs\\AerialObjectDetection\\lib\\site-packages\\torch\\_tensor.py:1128: UserWarning: Converting a tensor with requires_grad=True to a scalar may lead to unexpected behavior.\n",
      "Consider using tensor.detach() first. (Triggered internally at C:\\actions-runner\\_work\\pytorch\\pytorch\\pytorch\\aten\\src\\ATen\\native\\Scalar.cpp:23.)\n",
      "  return self.item().__format__(format_spec)\n"
     ]
    },
    {
     "name": "stdout",
     "output_type": "stream",
     "text": [
      "[DEBUG] Head 0 | iou.min=-0.1636, iou.max=0.8378, iou.mean=0.2563\n",
      "[DEBUG] Head 0 | ps[..., 4].sigmoid().mean = 0.0062\n",
      "[DEBUG] Head 1 | iou.min=-0.2825, iou.max=0.7407, iou.mean=0.2181\n",
      "[DEBUG] Head 1 | ps[..., 4].sigmoid().mean = 0.0114\n",
      "[DEBUG] Head 2 | iou.min=-0.2170, iou.max=0.6953, iou.mean=0.1515\n",
      "[DEBUG] Head 2 | ps[..., 4].sigmoid().mean = 0.0390\n"
     ]
    },
    {
     "name": "stderr",
     "output_type": "stream",
     "text": [
      "[YoloOW] Epoch 1/10:   4%|▍         | 1/24 [00:09<03:43,  9.72s/it]"
     ]
    },
    {
     "name": "stdout",
     "output_type": "stream",
     "text": [
      "[DEBUG] Head 0 | iou.min=-0.1600, iou.max=0.7785, iou.mean=0.1929\n",
      "[DEBUG] Head 0 | ps[..., 4].sigmoid().mean = 0.0152\n",
      "[DEBUG] Head 1 | iou.min=-0.3179, iou.max=0.7249, iou.mean=0.2007\n",
      "[DEBUG] Head 1 | ps[..., 4].sigmoid().mean = 0.0230\n",
      "[DEBUG] Head 2 | iou.min=-0.1963, iou.max=0.8140, iou.mean=0.1767\n",
      "[DEBUG] Head 2 | ps[..., 4].sigmoid().mean = 0.0563\n"
     ]
    },
    {
     "name": "stderr",
     "output_type": "stream",
     "text": [
      "[YoloOW] Epoch 1/10:   8%|▊         | 2/24 [00:10<01:42,  4.68s/it]"
     ]
    },
    {
     "name": "stdout",
     "output_type": "stream",
     "text": [
      "[DEBUG] Head 0 | iou.min=-0.1954, iou.max=0.8244, iou.mean=0.2140\n",
      "[DEBUG] Head 0 | ps[..., 4].sigmoid().mean = 0.0066\n",
      "[DEBUG] Head 1 | iou.min=-0.2195, iou.max=0.8522, iou.mean=0.2244\n",
      "[DEBUG] Head 1 | ps[..., 4].sigmoid().mean = 0.0110\n",
      "[DEBUG] Head 2 | iou.min=-0.2549, iou.max=0.7376, iou.mean=0.1639\n",
      "[DEBUG] Head 2 | ps[..., 4].sigmoid().mean = 0.0340\n"
     ]
    },
    {
     "name": "stderr",
     "output_type": "stream",
     "text": [
      "[YoloOW] Epoch 1/10:  12%|█▎        | 3/24 [00:12<01:07,  3.20s/it]"
     ]
    },
    {
     "name": "stdout",
     "output_type": "stream",
     "text": [
      "[DEBUG] Head 0 | iou.min=-0.1345, iou.max=0.7896, iou.mean=0.2137\n",
      "[DEBUG] Head 0 | ps[..., 4].sigmoid().mean = 0.0062\n",
      "[DEBUG] Head 1 | iou.min=-0.3199, iou.max=0.9641, iou.mean=0.2291\n",
      "[DEBUG] Head 1 | ps[..., 4].sigmoid().mean = 0.0128\n",
      "[DEBUG] Head 2 | iou.min=-0.3461, iou.max=0.8568, iou.mean=0.1823\n",
      "[DEBUG] Head 2 | ps[..., 4].sigmoid().mean = 0.0264\n"
     ]
    },
    {
     "name": "stderr",
     "output_type": "stream",
     "text": [
      "[YoloOW] Epoch 1/10:  17%|█▋        | 4/24 [00:13<00:47,  2.38s/it]"
     ]
    },
    {
     "name": "stdout",
     "output_type": "stream",
     "text": [
      "[DEBUG] Head 0 | iou.min=-0.2556, iou.max=0.8327, iou.mean=0.1907\n",
      "[DEBUG] Head 0 | ps[..., 4].sigmoid().mean = 0.0056\n",
      "[DEBUG] Head 1 | iou.min=-0.2948, iou.max=0.7970, iou.mean=0.2446\n",
      "[DEBUG] Head 1 | ps[..., 4].sigmoid().mean = 0.0072\n",
      "[DEBUG] Head 2 | iou.min=-0.3858, iou.max=0.7349, iou.mean=0.2099\n",
      "[DEBUG] Head 2 | ps[..., 4].sigmoid().mean = 0.0249\n"
     ]
    },
    {
     "name": "stderr",
     "output_type": "stream",
     "text": [
      "[YoloOW] Epoch 1/10:  21%|██        | 5/24 [00:14<00:38,  2.02s/it]"
     ]
    },
    {
     "name": "stdout",
     "output_type": "stream",
     "text": [
      "[DEBUG] Head 0 | iou.min=-0.0903, iou.max=0.8668, iou.mean=0.2229\n",
      "[DEBUG] Head 0 | ps[..., 4].sigmoid().mean = 0.0067\n",
      "[DEBUG] Head 1 | iou.min=-0.2068, iou.max=0.7775, iou.mean=0.1980\n",
      "[DEBUG] Head 1 | ps[..., 4].sigmoid().mean = 0.0112\n",
      "[DEBUG] Head 2 | iou.min=-0.3713, iou.max=0.7456, iou.mean=0.1358\n",
      "[DEBUG] Head 2 | ps[..., 4].sigmoid().mean = 0.0267\n"
     ]
    },
    {
     "name": "stderr",
     "output_type": "stream",
     "text": [
      "[YoloOW] Epoch 1/10:  25%|██▌       | 6/24 [00:15<00:30,  1.70s/it]"
     ]
    },
    {
     "name": "stdout",
     "output_type": "stream",
     "text": [
      "[DEBUG] Head 0 | iou.min=-0.1115, iou.max=0.8245, iou.mean=0.2014\n",
      "[DEBUG] Head 0 | ps[..., 4].sigmoid().mean = 0.0061\n",
      "[DEBUG] Head 1 | iou.min=-0.1418, iou.max=0.7665, iou.mean=0.2389\n",
      "[DEBUG] Head 1 | ps[..., 4].sigmoid().mean = 0.0102\n",
      "[DEBUG] Head 2 | iou.min=-0.2179, iou.max=0.7580, iou.mean=0.1961\n",
      "[DEBUG] Head 2 | ps[..., 4].sigmoid().mean = 0.0261\n"
     ]
    },
    {
     "name": "stderr",
     "output_type": "stream",
     "text": [
      "[YoloOW] Epoch 1/10:  29%|██▉       | 7/24 [00:17<00:27,  1.60s/it]"
     ]
    },
    {
     "name": "stdout",
     "output_type": "stream",
     "text": [
      "[DEBUG] Head 0 | iou.min=-0.2243, iou.max=0.8440, iou.mean=0.1948\n",
      "[DEBUG] Head 0 | ps[..., 4].sigmoid().mean = 0.0044\n",
      "[DEBUG] Head 1 | iou.min=-0.2430, iou.max=0.7627, iou.mean=0.1919\n",
      "[DEBUG] Head 1 | ps[..., 4].sigmoid().mean = 0.0082\n",
      "[DEBUG] Head 2 | iou.min=-0.3661, iou.max=0.9266, iou.mean=0.1634\n",
      "[DEBUG] Head 2 | ps[..., 4].sigmoid().mean = 0.0223\n"
     ]
    },
    {
     "name": "stderr",
     "output_type": "stream",
     "text": [
      "[YoloOW] Epoch 1/10:  33%|███▎      | 8/24 [00:18<00:23,  1.44s/it]"
     ]
    },
    {
     "name": "stdout",
     "output_type": "stream",
     "text": [
      "[DEBUG] Head 0 | iou.min=-0.1345, iou.max=0.8707, iou.mean=0.2361\n",
      "[DEBUG] Head 0 | ps[..., 4].sigmoid().mean = 0.0020\n",
      "[DEBUG] Head 1 | iou.min=-0.1038, iou.max=0.8546, iou.mean=0.3193\n",
      "[DEBUG] Head 1 | ps[..., 4].sigmoid().mean = 0.0065\n",
      "[DEBUG] Head 2 | iou.min=-0.1499, iou.max=0.7199, iou.mean=0.2417\n",
      "[DEBUG] Head 2 | ps[..., 4].sigmoid().mean = 0.0231\n"
     ]
    },
    {
     "name": "stderr",
     "output_type": "stream",
     "text": [
      "[YoloOW] Epoch 1/10:  38%|███▊      | 9/24 [00:19<00:21,  1.42s/it]"
     ]
    },
    {
     "name": "stdout",
     "output_type": "stream",
     "text": [
      "[DEBUG] Head 0 | iou.min=-0.0470, iou.max=0.9071, iou.mean=0.2933\n",
      "[DEBUG] Head 0 | ps[..., 4].sigmoid().mean = 0.0034\n",
      "[DEBUG] Head 1 | iou.min=-0.1566, iou.max=0.7824, iou.mean=0.2898\n",
      "[DEBUG] Head 1 | ps[..., 4].sigmoid().mean = 0.0066\n",
      "[DEBUG] Head 2 | iou.min=-0.1637, iou.max=0.5891, iou.mean=0.2078\n",
      "[DEBUG] Head 2 | ps[..., 4].sigmoid().mean = 0.0200\n"
     ]
    },
    {
     "name": "stderr",
     "output_type": "stream",
     "text": [
      "[YoloOW] Epoch 1/10:  42%|████▏     | 10/24 [00:20<00:18,  1.31s/it, Loss=7.5842, box=0.110, obj=0.033, cls=0.330, total loss=0.474, lr=0.000075]"
     ]
    },
    {
     "name": "stdout",
     "output_type": "stream",
     "text": [
      "[DEBUG] Head 0 | iou.min=-0.1586, iou.max=0.8015, iou.mean=0.1868\n",
      "[DEBUG] Head 0 | ps[..., 4].sigmoid().mean = 0.0035\n",
      "[DEBUG] Head 1 | iou.min=-0.1586, iou.max=0.7916, iou.mean=0.2146\n",
      "[DEBUG] Head 1 | ps[..., 4].sigmoid().mean = 0.0086\n",
      "[DEBUG] Head 2 | iou.min=-0.1587, iou.max=0.8097, iou.mean=0.2272\n",
      "[DEBUG] Head 2 | ps[..., 4].sigmoid().mean = 0.0192\n"
     ]
    },
    {
     "name": "stderr",
     "output_type": "stream",
     "text": [
      "[YoloOW] Epoch 1/10:  46%|████▌     | 11/24 [00:22<00:17,  1.34s/it, Loss=7.5842, box=0.110, obj=0.033, cls=0.330, total loss=0.474, lr=0.000075]"
     ]
    },
    {
     "name": "stdout",
     "output_type": "stream",
     "text": [
      "[DEBUG] Head 0 | iou.min=-0.1213, iou.max=0.7958, iou.mean=0.2316\n",
      "[DEBUG] Head 0 | ps[..., 4].sigmoid().mean = 0.0027\n",
      "[DEBUG] Head 1 | iou.min=-0.1915, iou.max=0.8313, iou.mean=0.2630\n",
      "[DEBUG] Head 1 | ps[..., 4].sigmoid().mean = 0.0064\n",
      "[DEBUG] Head 2 | iou.min=-0.1860, iou.max=0.7685, iou.mean=0.2212\n",
      "[DEBUG] Head 2 | ps[..., 4].sigmoid().mean = 0.0196\n"
     ]
    },
    {
     "name": "stderr",
     "output_type": "stream",
     "text": [
      "[YoloOW] Epoch 1/10:  50%|█████     | 12/24 [00:23<00:14,  1.25s/it, Loss=7.5842, box=0.110, obj=0.033, cls=0.330, total loss=0.474, lr=0.000075]"
     ]
    },
    {
     "name": "stdout",
     "output_type": "stream",
     "text": [
      "[DEBUG] Head 0 | iou.min=-0.1053, iou.max=0.8629, iou.mean=0.2126\n",
      "[DEBUG] Head 0 | ps[..., 4].sigmoid().mean = 0.0031\n",
      "[DEBUG] Head 1 | iou.min=-0.2166, iou.max=0.7739, iou.mean=0.2172\n",
      "[DEBUG] Head 1 | ps[..., 4].sigmoid().mean = 0.0063\n",
      "[DEBUG] Head 2 | iou.min=-0.2363, iou.max=0.8338, iou.mean=0.2702\n",
      "[DEBUG] Head 2 | ps[..., 4].sigmoid().mean = 0.0206\n"
     ]
    },
    {
     "name": "stderr",
     "output_type": "stream",
     "text": [
      "[YoloOW] Epoch 1/10:  54%|█████▍    | 13/24 [00:24<00:14,  1.29s/it, Loss=7.5842, box=0.110, obj=0.033, cls=0.330, total loss=0.474, lr=0.000075]"
     ]
    },
    {
     "name": "stdout",
     "output_type": "stream",
     "text": [
      "[DEBUG] Head 0 | iou.min=-0.0986, iou.max=0.9355, iou.mean=0.2467\n",
      "[DEBUG] Head 0 | ps[..., 4].sigmoid().mean = 0.0038\n",
      "[DEBUG] Head 1 | iou.min=-0.2037, iou.max=0.8126, iou.mean=0.3036\n",
      "[DEBUG] Head 1 | ps[..., 4].sigmoid().mean = 0.0083\n",
      "[DEBUG] Head 2 | iou.min=-0.2129, iou.max=0.7775, iou.mean=0.2305\n",
      "[DEBUG] Head 2 | ps[..., 4].sigmoid().mean = 0.0191\n"
     ]
    },
    {
     "name": "stderr",
     "output_type": "stream",
     "text": [
      "[YoloOW] Epoch 1/10:  58%|█████▊    | 14/24 [00:25<00:12,  1.22s/it, Loss=7.5842, box=0.110, obj=0.033, cls=0.330, total loss=0.474, lr=0.000075]"
     ]
    },
    {
     "name": "stdout",
     "output_type": "stream",
     "text": [
      "[DEBUG] Head 0 | iou.min=-0.0701, iou.max=0.8820, iou.mean=0.2630\n",
      "[DEBUG] Head 0 | ps[..., 4].sigmoid().mean = 0.0022\n",
      "[DEBUG] Head 1 | iou.min=-0.0854, iou.max=0.8349, iou.mean=0.3039\n",
      "[DEBUG] Head 1 | ps[..., 4].sigmoid().mean = 0.0061\n",
      "[DEBUG] Head 2 | iou.min=-0.3600, iou.max=0.7807, iou.mean=0.2022\n",
      "[DEBUG] Head 2 | ps[..., 4].sigmoid().mean = 0.0174\n"
     ]
    },
    {
     "name": "stderr",
     "output_type": "stream",
     "text": [
      "[YoloOW] Epoch 1/10:  62%|██████▎   | 15/24 [00:27<00:11,  1.27s/it, Loss=7.5842, box=0.110, obj=0.033, cls=0.330, total loss=0.474, lr=0.000075]"
     ]
    },
    {
     "name": "stdout",
     "output_type": "stream",
     "text": [
      "[DEBUG] Head 0 | iou.min=-0.1696, iou.max=0.8002, iou.mean=0.2400\n",
      "[DEBUG] Head 0 | ps[..., 4].sigmoid().mean = 0.0026\n",
      "[DEBUG] Head 1 | iou.min=-0.2364, iou.max=0.8821, iou.mean=0.2705\n",
      "[DEBUG] Head 1 | ps[..., 4].sigmoid().mean = 0.0055\n",
      "[DEBUG] Head 2 | iou.min=-0.2482, iou.max=0.7444, iou.mean=0.2112\n",
      "[DEBUG] Head 2 | ps[..., 4].sigmoid().mean = 0.0174\n"
     ]
    },
    {
     "name": "stderr",
     "output_type": "stream",
     "text": [
      "[YoloOW] Epoch 1/10:  67%|██████▋   | 16/24 [00:28<00:09,  1.22s/it, Loss=7.5842, box=0.110, obj=0.033, cls=0.330, total loss=0.474, lr=0.000075]"
     ]
    },
    {
     "name": "stdout",
     "output_type": "stream",
     "text": [
      "[DEBUG] Head 0 | iou.min=-0.1461, iou.max=0.8518, iou.mean=0.2456\n",
      "[DEBUG] Head 0 | ps[..., 4].sigmoid().mean = 0.0040\n",
      "[DEBUG] Head 1 | iou.min=-0.1471, iou.max=0.8261, iou.mean=0.2710\n",
      "[DEBUG] Head 1 | ps[..., 4].sigmoid().mean = 0.0062\n",
      "[DEBUG] Head 2 | iou.min=-0.2930, iou.max=0.8207, iou.mean=0.2537\n",
      "[DEBUG] Head 2 | ps[..., 4].sigmoid().mean = 0.0200\n"
     ]
    },
    {
     "name": "stderr",
     "output_type": "stream",
     "text": [
      "[YoloOW] Epoch 1/10:  71%|███████   | 17/24 [00:29<00:08,  1.28s/it, Loss=7.5842, box=0.110, obj=0.033, cls=0.330, total loss=0.474, lr=0.000075]"
     ]
    },
    {
     "name": "stdout",
     "output_type": "stream",
     "text": [
      "[DEBUG] Head 0 | iou.min=-0.1487, iou.max=0.8684, iou.mean=0.2856\n",
      "[DEBUG] Head 0 | ps[..., 4].sigmoid().mean = 0.0025\n",
      "[DEBUG] Head 1 | iou.min=-0.1209, iou.max=0.8988, iou.mean=0.3134\n",
      "[DEBUG] Head 1 | ps[..., 4].sigmoid().mean = 0.0065\n",
      "[DEBUG] Head 2 | iou.min=-0.2179, iou.max=0.8349, iou.mean=0.2373\n",
      "[DEBUG] Head 2 | ps[..., 4].sigmoid().mean = 0.0182\n"
     ]
    },
    {
     "name": "stderr",
     "output_type": "stream",
     "text": [
      "[YoloOW] Epoch 1/10:  75%|███████▌  | 18/24 [00:30<00:07,  1.21s/it, Loss=7.5842, box=0.110, obj=0.033, cls=0.330, total loss=0.474, lr=0.000075]"
     ]
    },
    {
     "name": "stdout",
     "output_type": "stream",
     "text": [
      "[DEBUG] Head 0 | iou.min=-0.0542, iou.max=0.8441, iou.mean=0.3392\n",
      "[DEBUG] Head 0 | ps[..., 4].sigmoid().mean = 0.0023\n",
      "[DEBUG] Head 1 | iou.min=-0.1348, iou.max=0.8585, iou.mean=0.3317\n",
      "[DEBUG] Head 1 | ps[..., 4].sigmoid().mean = 0.0059\n",
      "[DEBUG] Head 2 | iou.min=-0.1095, iou.max=0.8244, iou.mean=0.2328\n",
      "[DEBUG] Head 2 | ps[..., 4].sigmoid().mean = 0.0186\n"
     ]
    },
    {
     "name": "stderr",
     "output_type": "stream",
     "text": [
      "[YoloOW] Epoch 1/10:  79%|███████▉  | 19/24 [00:32<00:06,  1.29s/it, Loss=7.5842, box=0.110, obj=0.033, cls=0.330, total loss=0.474, lr=0.000075]"
     ]
    },
    {
     "name": "stdout",
     "output_type": "stream",
     "text": [
      "[DEBUG] Head 0 | iou.min=-0.0396, iou.max=0.8640, iou.mean=0.2832\n",
      "[DEBUG] Head 0 | ps[..., 4].sigmoid().mean = 0.0026\n",
      "[DEBUG] Head 1 | iou.min=-0.2393, iou.max=0.8289, iou.mean=0.2641\n",
      "[DEBUG] Head 1 | ps[..., 4].sigmoid().mean = 0.0058\n",
      "[DEBUG] Head 2 | iou.min=-0.1933, iou.max=0.7298, iou.mean=0.2397\n",
      "[DEBUG] Head 2 | ps[..., 4].sigmoid().mean = 0.0191\n"
     ]
    },
    {
     "name": "stderr",
     "output_type": "stream",
     "text": [
      "[YoloOW] Epoch 1/10:  83%|████████▎ | 20/24 [00:33<00:04,  1.23s/it, Loss=6.6141, box=0.111, obj=0.043, cls=0.260, total loss=0.413, lr=0.000158]"
     ]
    },
    {
     "name": "stdout",
     "output_type": "stream",
     "text": [
      "[DEBUG] Head 0 | iou.min=-0.1364, iou.max=0.9134, iou.mean=0.2523\n",
      "[DEBUG] Head 0 | ps[..., 4].sigmoid().mean = 0.0022\n",
      "[DEBUG] Head 1 | iou.min=-0.2537, iou.max=0.8098, iou.mean=0.2740\n",
      "[DEBUG] Head 1 | ps[..., 4].sigmoid().mean = 0.0052\n",
      "[DEBUG] Head 2 | iou.min=-0.1333, iou.max=0.8344, iou.mean=0.2308\n",
      "[DEBUG] Head 2 | ps[..., 4].sigmoid().mean = 0.0154\n"
     ]
    },
    {
     "name": "stderr",
     "output_type": "stream",
     "text": [
      "[YoloOW] Epoch 1/10:  88%|████████▊ | 21/24 [00:34<00:03,  1.28s/it, Loss=6.6141, box=0.111, obj=0.043, cls=0.260, total loss=0.413, lr=0.000158]"
     ]
    },
    {
     "name": "stdout",
     "output_type": "stream",
     "text": [
      "[DEBUG] Head 0 | iou.min=-0.1726, iou.max=0.8361, iou.mean=0.2486\n",
      "[DEBUG] Head 0 | ps[..., 4].sigmoid().mean = 0.0039\n",
      "[DEBUG] Head 1 | iou.min=-0.2183, iou.max=0.7823, iou.mean=0.2226\n",
      "[DEBUG] Head 1 | ps[..., 4].sigmoid().mean = 0.0060\n",
      "[DEBUG] Head 2 | iou.min=-0.1457, iou.max=0.7524, iou.mean=0.2174\n",
      "[DEBUG] Head 2 | ps[..., 4].sigmoid().mean = 0.0183\n"
     ]
    },
    {
     "name": "stderr",
     "output_type": "stream",
     "text": [
      "[YoloOW] Epoch 1/10:  92%|█████████▏| 22/24 [00:35<00:02,  1.23s/it, Loss=6.6141, box=0.111, obj=0.043, cls=0.260, total loss=0.413, lr=0.000158]"
     ]
    },
    {
     "name": "stdout",
     "output_type": "stream",
     "text": [
      "[DEBUG] Head 0 | iou.min=-0.1377, iou.max=0.9022, iou.mean=0.3302\n",
      "[DEBUG] Head 0 | ps[..., 4].sigmoid().mean = 0.0022\n",
      "[DEBUG] Head 1 | iou.min=-0.0403, iou.max=0.8405, iou.mean=0.3490\n",
      "[DEBUG] Head 1 | ps[..., 4].sigmoid().mean = 0.0064\n",
      "[DEBUG] Head 2 | iou.min=-0.0837, iou.max=0.7868, iou.mean=0.2987\n",
      "[DEBUG] Head 2 | ps[..., 4].sigmoid().mean = 0.0191\n"
     ]
    },
    {
     "name": "stderr",
     "output_type": "stream",
     "text": [
      "[YoloOW] Epoch 1/10:  96%|█████████▌| 23/24 [00:37<00:01,  1.27s/it, Loss=6.6141, box=0.111, obj=0.043, cls=0.260, total loss=0.413, lr=0.000158]"
     ]
    },
    {
     "name": "stdout",
     "output_type": "stream",
     "text": [
      "[DEBUG] Head 0 | iou.min=-0.1645, iou.max=0.8481, iou.mean=0.3400\n",
      "[DEBUG] Head 0 | ps[..., 4].sigmoid().mean = 0.0025\n",
      "[DEBUG] Head 1 | iou.min=-0.1467, iou.max=0.8281, iou.mean=0.3676\n",
      "[DEBUG] Head 1 | ps[..., 4].sigmoid().mean = 0.0064\n",
      "[DEBUG] Head 2 | iou.min=-0.0688, iou.max=0.7058, iou.mean=0.2872\n",
      "[DEBUG] Head 2 | ps[..., 4].sigmoid().mean = 0.0188\n"
     ]
    },
    {
     "name": "stderr",
     "output_type": "stream",
     "text": [
      "[YoloOW] Epoch 1/10: 100%|██████████| 24/24 [00:38<00:00,  1.59s/it, Loss=6.6994, box=0.100, obj=0.047, cls=0.271, total loss=0.419, lr=0.000192]\n"
     ]
    },
    {
     "name": "stdout",
     "output_type": "stream",
     "text": [
      "\n",
      "[YoloOW] ✅ Epoch 1/10 complete in 38.16s | Avg Loss: 7.4801\n",
      "\n",
      "[YoloOW] 📊 Running evaluation after epoch 1 ...\n",
      "[DEBUG] Head 0 | iou.min=0.0726, iou.max=0.8662, iou.mean=0.3483\n",
      "[DEBUG] Head 0 | ps[..., 4].sigmoid().mean = 0.0012\n",
      "[DEBUG] Head 1 | iou.min=0.0678, iou.max=0.8830, iou.mean=0.3988\n",
      "[DEBUG] Head 1 | ps[..., 4].sigmoid().mean = 0.0051\n",
      "[DEBUG] Head 2 | iou.min=-0.0478, iou.max=0.8217, iou.mean=0.2739\n",
      "[DEBUG] Head 2 | ps[..., 4].sigmoid().mean = 0.0187\n",
      "[DEBUG] Head 0 | iou.min=0.0710, iou.max=0.8799, iou.mean=0.3799\n",
      "[DEBUG] Head 0 | ps[..., 4].sigmoid().mean = 0.0012\n",
      "[DEBUG] Head 1 | iou.min=0.0531, iou.max=0.8587, iou.mean=0.3838\n",
      "[DEBUG] Head 1 | ps[..., 4].sigmoid().mean = 0.0051\n",
      "[DEBUG] Head 2 | iou.min=-0.0329, iou.max=0.7748, iou.mean=0.2671\n",
      "[DEBUG] Head 2 | ps[..., 4].sigmoid().mean = 0.0187\n",
      "[DEBUG] Head 0 | iou.min=0.0683, iou.max=0.9356, iou.mean=0.3688\n",
      "[DEBUG] Head 0 | ps[..., 4].sigmoid().mean = 0.0012\n",
      "[DEBUG] Head 1 | iou.min=0.0610, iou.max=0.8135, iou.mean=0.3826\n",
      "[DEBUG] Head 1 | ps[..., 4].sigmoid().mean = 0.0052\n",
      "[DEBUG] Head 2 | iou.min=-0.0522, iou.max=0.7398, iou.mean=0.2592\n",
      "[DEBUG] Head 2 | ps[..., 4].sigmoid().mean = 0.0188\n",
      "[DEBUG] Head 0 | iou.min=0.0694, iou.max=0.7132, iou.mean=0.2944\n",
      "[DEBUG] Head 0 | ps[..., 4].sigmoid().mean = 0.0012\n",
      "[DEBUG] Head 1 | iou.min=0.0773, iou.max=0.8133, iou.mean=0.4188\n",
      "[DEBUG] Head 1 | ps[..., 4].sigmoid().mean = 0.0051\n",
      "[DEBUG] Head 2 | iou.min=0.0049, iou.max=0.7481, iou.mean=0.2810\n",
      "[DEBUG] Head 2 | ps[..., 4].sigmoid().mean = 0.0190\n",
      "[DEBUG] Head 0 | iou.min=0.0566, iou.max=0.8271, iou.mean=0.2919\n",
      "[DEBUG] Head 0 | ps[..., 4].sigmoid().mean = 0.0012\n",
      "[DEBUG] Head 1 | iou.min=0.1220, iou.max=0.9087, iou.mean=0.4504\n",
      "[DEBUG] Head 1 | ps[..., 4].sigmoid().mean = 0.0052\n",
      "[DEBUG] Head 2 | iou.min=0.0394, iou.max=0.8578, iou.mean=0.3025\n",
      "[DEBUG] Head 2 | ps[..., 4].sigmoid().mean = 0.0190\n",
      "[DEBUG] Head 0 | iou.min=0.0868, iou.max=0.9053, iou.mean=0.3723\n",
      "[DEBUG] Head 0 | ps[..., 4].sigmoid().mean = 0.0012\n",
      "[DEBUG] Head 1 | iou.min=0.0787, iou.max=0.8353, iou.mean=0.4199\n",
      "[DEBUG] Head 1 | ps[..., 4].sigmoid().mean = 0.0051\n",
      "[DEBUG] Head 2 | iou.min=-0.0021, iou.max=0.8050, iou.mean=0.2408\n",
      "[DEBUG] Head 2 | ps[..., 4].sigmoid().mean = 0.0188\n",
      "[DEBUG] Head 0 | iou.min=0.0629, iou.max=0.7948, iou.mean=0.3883\n",
      "[DEBUG] Head 0 | ps[..., 4].sigmoid().mean = 0.0012\n",
      "[DEBUG] Head 1 | iou.min=0.0803, iou.max=0.8236, iou.mean=0.3590\n",
      "[DEBUG] Head 1 | ps[..., 4].sigmoid().mean = 0.0051\n",
      "[DEBUG] Head 2 | iou.min=-0.0435, iou.max=0.7488, iou.mean=0.2988\n",
      "[DEBUG] Head 2 | ps[..., 4].sigmoid().mean = 0.0187\n",
      "[DEBUG] Head 0 | iou.min=0.0601, iou.max=0.8771, iou.mean=0.4009\n",
      "[DEBUG] Head 0 | ps[..., 4].sigmoid().mean = 0.0012\n",
      "[DEBUG] Head 1 | iou.min=-0.0008, iou.max=0.7902, iou.mean=0.3045\n",
      "[DEBUG] Head 1 | ps[..., 4].sigmoid().mean = 0.0052\n",
      "[DEBUG] Head 2 | iou.min=-0.0257, iou.max=0.7730, iou.mean=0.2230\n",
      "[DEBUG] Head 2 | ps[..., 4].sigmoid().mean = 0.0184\n",
      "[DEBUG] Head 0 | iou.min=0.1047, iou.max=0.5110, iou.mean=0.2479\n",
      "[DEBUG] Head 0 | ps[..., 4].sigmoid().mean = 0.0012\n",
      "[DEBUG] Head 1 | iou.min=0.0788, iou.max=0.6919, iou.mean=0.4165\n",
      "[DEBUG] Head 1 | ps[..., 4].sigmoid().mean = 0.0051\n",
      "[DEBUG] Head 2 | iou.min=0.1020, iou.max=0.6634, iou.mean=0.2970\n",
      "[DEBUG] Head 2 | ps[..., 4].sigmoid().mean = 0.0193\n",
      "[validate_yoloow_model] ✅  Avg Loss  (box/obj/cls/total): 0.0996 / 0.1067 / 0.3032 / 0.5095\n"
     ]
    },
    {
     "name": "stderr",
     "output_type": "stream",
     "text": [
      "[YoloOW] Epoch 2/10:   0%|          | 0/24 [00:00<?, ?it/s]"
     ]
    },
    {
     "name": "stdout",
     "output_type": "stream",
     "text": [
      "[DEBUG] Head 0 | iou.min=0.0599, iou.max=0.9223, iou.mean=0.3673\n",
      "[DEBUG] Head 0 | ps[..., 4].sigmoid().mean = 0.0012\n",
      "[DEBUG] Head 1 | iou.min=0.0672, iou.max=0.8107, iou.mean=0.3667\n",
      "[DEBUG] Head 1 | ps[..., 4].sigmoid().mean = 0.0052\n",
      "[DEBUG] Head 2 | iou.min=-0.0447, iou.max=0.6787, iou.mean=0.2409\n",
      "[DEBUG] Head 2 | ps[..., 4].sigmoid().mean = 0.0187\n"
     ]
    },
    {
     "name": "stderr",
     "output_type": "stream",
     "text": [
      "[YoloOW] Epoch 2/10:   4%|▍         | 1/24 [00:01<00:31,  1.36s/it]"
     ]
    },
    {
     "name": "stdout",
     "output_type": "stream",
     "text": [
      "[DEBUG] Head 0 | iou.min=0.0641, iou.max=0.8675, iou.mean=0.3493\n",
      "[DEBUG] Head 0 | ps[..., 4].sigmoid().mean = 0.0012\n",
      "[DEBUG] Head 1 | iou.min=0.0929, iou.max=0.9408, iou.mean=0.4104\n",
      "[DEBUG] Head 1 | ps[..., 4].sigmoid().mean = 0.0051\n",
      "[DEBUG] Head 2 | iou.min=-0.0210, iou.max=0.7953, iou.mean=0.2872\n",
      "[DEBUG] Head 2 | ps[..., 4].sigmoid().mean = 0.0187\n"
     ]
    },
    {
     "name": "stderr",
     "output_type": "stream",
     "text": [
      "[YoloOW] Epoch 2/10:   8%|▊         | 2/24 [00:02<00:26,  1.19s/it]"
     ]
    },
    {
     "name": "stdout",
     "output_type": "stream",
     "text": [
      "[DEBUG] Head 0 | iou.min=0.0698, iou.max=0.8657, iou.mean=0.3184\n",
      "[DEBUG] Head 0 | ps[..., 4].sigmoid().mean = 0.0012\n",
      "[DEBUG] Head 1 | iou.min=0.0525, iou.max=0.7813, iou.mean=0.3931\n",
      "[DEBUG] Head 1 | ps[..., 4].sigmoid().mean = 0.0051\n",
      "[DEBUG] Head 2 | iou.min=-0.0344, iou.max=0.8022, iou.mean=0.3128\n",
      "[DEBUG] Head 2 | ps[..., 4].sigmoid().mean = 0.0186\n"
     ]
    },
    {
     "name": "stderr",
     "output_type": "stream",
     "text": [
      "[YoloOW] Epoch 2/10:  12%|█▎        | 3/24 [00:03<00:23,  1.12s/it]"
     ]
    },
    {
     "name": "stdout",
     "output_type": "stream",
     "text": [
      "[DEBUG] Head 0 | iou.min=0.0672, iou.max=0.9046, iou.mean=0.3992\n",
      "[DEBUG] Head 0 | ps[..., 4].sigmoid().mean = 0.0012\n",
      "[DEBUG] Head 1 | iou.min=0.0591, iou.max=0.8949, iou.mean=0.3455\n",
      "[DEBUG] Head 1 | ps[..., 4].sigmoid().mean = 0.0050\n",
      "[DEBUG] Head 2 | iou.min=-0.0336, iou.max=0.7724, iou.mean=0.2786\n",
      "[DEBUG] Head 2 | ps[..., 4].sigmoid().mean = 0.0178\n"
     ]
    },
    {
     "name": "stderr",
     "output_type": "stream",
     "text": [
      "[YoloOW] Epoch 2/10:  17%|█▋        | 4/24 [00:04<00:24,  1.25s/it]"
     ]
    },
    {
     "name": "stdout",
     "output_type": "stream",
     "text": [
      "[DEBUG] Head 0 | iou.min=0.0818, iou.max=0.8666, iou.mean=0.3778\n",
      "[DEBUG] Head 0 | ps[..., 4].sigmoid().mean = 0.0012\n",
      "[DEBUG] Head 1 | iou.min=0.0362, iou.max=0.8630, iou.mean=0.3736\n",
      "[DEBUG] Head 1 | ps[..., 4].sigmoid().mean = 0.0050\n",
      "[DEBUG] Head 2 | iou.min=-0.0450, iou.max=0.7109, iou.mean=0.2669\n",
      "[DEBUG] Head 2 | ps[..., 4].sigmoid().mean = 0.0172\n"
     ]
    },
    {
     "name": "stderr",
     "output_type": "stream",
     "text": [
      "[YoloOW] Epoch 2/10:  21%|██        | 5/24 [00:05<00:22,  1.17s/it]"
     ]
    },
    {
     "name": "stdout",
     "output_type": "stream",
     "text": [
      "[DEBUG] Head 0 | iou.min=0.0958, iou.max=0.9450, iou.mean=0.3753\n",
      "[DEBUG] Head 0 | ps[..., 4].sigmoid().mean = 0.0012\n",
      "[DEBUG] Head 1 | iou.min=0.0415, iou.max=0.8265, iou.mean=0.3989\n",
      "[DEBUG] Head 1 | ps[..., 4].sigmoid().mean = 0.0050\n",
      "[DEBUG] Head 2 | iou.min=-0.0537, iou.max=0.7284, iou.mean=0.2533\n",
      "[DEBUG] Head 2 | ps[..., 4].sigmoid().mean = 0.0170\n"
     ]
    },
    {
     "name": "stderr",
     "output_type": "stream",
     "text": [
      "[YoloOW] Epoch 2/10:  25%|██▌       | 6/24 [00:06<00:20,  1.13s/it]"
     ]
    },
    {
     "name": "stdout",
     "output_type": "stream",
     "text": [
      "[DEBUG] Head 0 | iou.min=0.0687, iou.max=0.7661, iou.mean=0.2772\n",
      "[DEBUG] Head 0 | ps[..., 4].sigmoid().mean = 0.0012\n",
      "[DEBUG] Head 1 | iou.min=0.0494, iou.max=0.8723, iou.mean=0.3962\n",
      "[DEBUG] Head 1 | ps[..., 4].sigmoid().mean = 0.0049\n",
      "[DEBUG] Head 2 | iou.min=0.0256, iou.max=0.7906, iou.mean=0.3542\n",
      "[DEBUG] Head 2 | ps[..., 4].sigmoid().mean = 0.0169\n"
     ]
    },
    {
     "name": "stderr",
     "output_type": "stream",
     "text": [
      "[YoloOW] Epoch 2/10:  29%|██▉       | 7/24 [00:08<00:19,  1.13s/it]"
     ]
    },
    {
     "name": "stdout",
     "output_type": "stream",
     "text": [
      "[DEBUG] Head 0 | iou.min=0.0571, iou.max=0.8550, iou.mean=0.3912\n",
      "[DEBUG] Head 0 | ps[..., 4].sigmoid().mean = 0.0012\n",
      "[DEBUG] Head 1 | iou.min=0.0008, iou.max=0.8637, iou.mean=0.2713\n",
      "[DEBUG] Head 1 | ps[..., 4].sigmoid().mean = 0.0049\n",
      "[DEBUG] Head 2 | iou.min=-0.0447, iou.max=0.7344, iou.mean=0.2355\n",
      "[DEBUG] Head 2 | ps[..., 4].sigmoid().mean = 0.0158\n"
     ]
    },
    {
     "name": "stderr",
     "output_type": "stream",
     "text": [
      "[YoloOW] Epoch 2/10:  33%|███▎      | 8/24 [00:09<00:17,  1.11s/it]"
     ]
    },
    {
     "name": "stdout",
     "output_type": "stream",
     "text": [
      "[DEBUG] Head 0 | iou.min=0.0722, iou.max=0.9256, iou.mean=0.4195\n",
      "[DEBUG] Head 0 | ps[..., 4].sigmoid().mean = 0.0012\n",
      "[DEBUG] Head 1 | iou.min=0.0313, iou.max=0.8792, iou.mean=0.3920\n",
      "[DEBUG] Head 1 | ps[..., 4].sigmoid().mean = 0.0049\n",
      "[DEBUG] Head 2 | iou.min=-0.0122, iou.max=0.8245, iou.mean=0.2651\n",
      "[DEBUG] Head 2 | ps[..., 4].sigmoid().mean = 0.0154\n"
     ]
    },
    {
     "name": "stderr",
     "output_type": "stream",
     "text": [
      "[YoloOW] Epoch 2/10:  38%|███▊      | 9/24 [00:10<00:16,  1.10s/it]"
     ]
    },
    {
     "name": "stdout",
     "output_type": "stream",
     "text": [
      "[DEBUG] Head 0 | iou.min=0.0842, iou.max=0.7574, iou.mean=0.2868\n",
      "[DEBUG] Head 0 | ps[..., 4].sigmoid().mean = 0.0012\n",
      "[DEBUG] Head 1 | iou.min=0.0761, iou.max=0.7921, iou.mean=0.3757\n",
      "[DEBUG] Head 1 | ps[..., 4].sigmoid().mean = 0.0048\n",
      "[DEBUG] Head 2 | iou.min=0.0068, iou.max=0.7807, iou.mean=0.3458\n",
      "[DEBUG] Head 2 | ps[..., 4].sigmoid().mean = 0.0152\n"
     ]
    },
    {
     "name": "stderr",
     "output_type": "stream",
     "text": [
      "[YoloOW] Epoch 2/10:  42%|████▏     | 10/24 [00:11<00:15,  1.10s/it, Loss=6.7794, box=0.100, obj=0.031, cls=0.293, total loss=0.424, lr=0.000275]"
     ]
    },
    {
     "name": "stdout",
     "output_type": "stream",
     "text": [
      "[DEBUG] Head 0 | iou.min=0.0798, iou.max=0.8882, iou.mean=0.4008\n",
      "[DEBUG] Head 0 | ps[..., 4].sigmoid().mean = 0.0012\n",
      "[DEBUG] Head 1 | iou.min=0.0720, iou.max=0.8251, iou.mean=0.3349\n",
      "[DEBUG] Head 1 | ps[..., 4].sigmoid().mean = 0.0048\n",
      "[DEBUG] Head 2 | iou.min=-0.0288, iou.max=0.8386, iou.mean=0.2903\n",
      "[DEBUG] Head 2 | ps[..., 4].sigmoid().mean = 0.0143\n"
     ]
    },
    {
     "name": "stderr",
     "output_type": "stream",
     "text": [
      "[YoloOW] Epoch 2/10:  46%|████▌     | 11/24 [00:12<00:14,  1.08s/it, Loss=6.7794, box=0.100, obj=0.031, cls=0.293, total loss=0.424, lr=0.000275]"
     ]
    },
    {
     "name": "stdout",
     "output_type": "stream",
     "text": [
      "[DEBUG] Head 0 | iou.min=0.0855, iou.max=0.8829, iou.mean=0.3405\n",
      "[DEBUG] Head 0 | ps[..., 4].sigmoid().mean = 0.0012\n",
      "[DEBUG] Head 1 | iou.min=0.0832, iou.max=0.8002, iou.mean=0.4222\n",
      "[DEBUG] Head 1 | ps[..., 4].sigmoid().mean = 0.0048\n",
      "[DEBUG] Head 2 | iou.min=-0.0154, iou.max=0.9016, iou.mean=0.3284\n",
      "[DEBUG] Head 2 | ps[..., 4].sigmoid().mean = 0.0136\n"
     ]
    },
    {
     "name": "stderr",
     "output_type": "stream",
     "text": [
      "[YoloOW] Epoch 2/10:  50%|█████     | 12/24 [00:13<00:12,  1.07s/it, Loss=6.7794, box=0.100, obj=0.031, cls=0.293, total loss=0.424, lr=0.000275]"
     ]
    },
    {
     "name": "stdout",
     "output_type": "stream",
     "text": [
      "[DEBUG] Head 0 | iou.min=0.0730, iou.max=0.8131, iou.mean=0.3335\n",
      "[DEBUG] Head 0 | ps[..., 4].sigmoid().mean = 0.0012\n",
      "[DEBUG] Head 1 | iou.min=0.0571, iou.max=0.8230, iou.mean=0.3667\n",
      "[DEBUG] Head 1 | ps[..., 4].sigmoid().mean = 0.0048\n",
      "[DEBUG] Head 2 | iou.min=0.0073, iou.max=0.8421, iou.mean=0.3056\n",
      "[DEBUG] Head 2 | ps[..., 4].sigmoid().mean = 0.0126\n"
     ]
    },
    {
     "name": "stderr",
     "output_type": "stream",
     "text": [
      "[YoloOW] Epoch 2/10:  54%|█████▍    | 13/24 [00:14<00:11,  1.08s/it, Loss=6.7794, box=0.100, obj=0.031, cls=0.293, total loss=0.424, lr=0.000275]"
     ]
    },
    {
     "name": "stdout",
     "output_type": "stream",
     "text": [
      "[DEBUG] Head 0 | iou.min=0.1041, iou.max=0.8590, iou.mean=0.3749\n",
      "[DEBUG] Head 0 | ps[..., 4].sigmoid().mean = 0.0012\n",
      "[DEBUG] Head 1 | iou.min=0.0796, iou.max=0.8318, iou.mean=0.4477\n",
      "[DEBUG] Head 1 | ps[..., 4].sigmoid().mean = 0.0048\n",
      "[DEBUG] Head 2 | iou.min=0.0034, iou.max=0.7915, iou.mean=0.3242\n",
      "[DEBUG] Head 2 | ps[..., 4].sigmoid().mean = 0.0119\n"
     ]
    },
    {
     "name": "stderr",
     "output_type": "stream",
     "text": [
      "[YoloOW] Epoch 2/10:  58%|█████▊    | 14/24 [00:15<00:10,  1.07s/it, Loss=6.7794, box=0.100, obj=0.031, cls=0.293, total loss=0.424, lr=0.000275]"
     ]
    },
    {
     "name": "stdout",
     "output_type": "stream",
     "text": [
      "[DEBUG] Head 0 | iou.min=0.0877, iou.max=0.9043, iou.mean=0.3691\n",
      "[DEBUG] Head 0 | ps[..., 4].sigmoid().mean = 0.0012\n",
      "[DEBUG] Head 1 | iou.min=0.0808, iou.max=0.9037, iou.mean=0.4328\n",
      "[DEBUG] Head 1 | ps[..., 4].sigmoid().mean = 0.0047\n",
      "[DEBUG] Head 2 | iou.min=-0.0078, iou.max=0.7528, iou.mean=0.3099\n",
      "[DEBUG] Head 2 | ps[..., 4].sigmoid().mean = 0.0109\n"
     ]
    },
    {
     "name": "stderr",
     "output_type": "stream",
     "text": [
      "[YoloOW] Epoch 2/10:  62%|██████▎   | 15/24 [00:16<00:09,  1.07s/it, Loss=6.7794, box=0.100, obj=0.031, cls=0.293, total loss=0.424, lr=0.000275]"
     ]
    },
    {
     "name": "stdout",
     "output_type": "stream",
     "text": [
      "[DEBUG] Head 0 | iou.min=0.0881, iou.max=0.8971, iou.mean=0.4040\n",
      "[DEBUG] Head 0 | ps[..., 4].sigmoid().mean = 0.0012\n",
      "[DEBUG] Head 1 | iou.min=0.0600, iou.max=0.8961, iou.mean=0.4141\n",
      "[DEBUG] Head 1 | ps[..., 4].sigmoid().mean = 0.0047\n",
      "[DEBUG] Head 2 | iou.min=-0.0249, iou.max=0.8820, iou.mean=0.2880\n",
      "[DEBUG] Head 2 | ps[..., 4].sigmoid().mean = 0.0103\n"
     ]
    },
    {
     "name": "stderr",
     "output_type": "stream",
     "text": [
      "[YoloOW] Epoch 2/10:  67%|██████▋   | 16/24 [00:17<00:08,  1.09s/it, Loss=6.7794, box=0.100, obj=0.031, cls=0.293, total loss=0.424, lr=0.000275]"
     ]
    },
    {
     "name": "stdout",
     "output_type": "stream",
     "text": [
      "[DEBUG] Head 0 | iou.min=0.0835, iou.max=0.8573, iou.mean=0.3450\n",
      "[DEBUG] Head 0 | ps[..., 4].sigmoid().mean = 0.0012\n",
      "[DEBUG] Head 1 | iou.min=0.0792, iou.max=0.8337, iou.mean=0.4076\n",
      "[DEBUG] Head 1 | ps[..., 4].sigmoid().mean = 0.0046\n",
      "[DEBUG] Head 2 | iou.min=0.0082, iou.max=0.7817, iou.mean=0.3111\n",
      "[DEBUG] Head 2 | ps[..., 4].sigmoid().mean = 0.0097\n"
     ]
    },
    {
     "name": "stderr",
     "output_type": "stream",
     "text": [
      "[YoloOW] Epoch 2/10:  71%|███████   | 17/24 [00:18<00:07,  1.08s/it, Loss=6.7794, box=0.100, obj=0.031, cls=0.293, total loss=0.424, lr=0.000275]"
     ]
    },
    {
     "name": "stdout",
     "output_type": "stream",
     "text": [
      "[DEBUG] Head 0 | iou.min=0.0718, iou.max=0.9301, iou.mean=0.3740\n",
      "[DEBUG] Head 0 | ps[..., 4].sigmoid().mean = 0.0012\n",
      "[DEBUG] Head 1 | iou.min=0.0900, iou.max=0.8540, iou.mean=0.4571\n",
      "[DEBUG] Head 1 | ps[..., 4].sigmoid().mean = 0.0046\n",
      "[DEBUG] Head 2 | iou.min=0.0381, iou.max=0.8243, iou.mean=0.3422\n",
      "[DEBUG] Head 2 | ps[..., 4].sigmoid().mean = 0.0099\n"
     ]
    },
    {
     "name": "stderr",
     "output_type": "stream",
     "text": [
      "[YoloOW] Epoch 2/10:  75%|███████▌  | 18/24 [00:19<00:06,  1.07s/it, Loss=6.7794, box=0.100, obj=0.031, cls=0.293, total loss=0.424, lr=0.000275]"
     ]
    },
    {
     "name": "stdout",
     "output_type": "stream",
     "text": [
      "[DEBUG] Head 0 | iou.min=0.1134, iou.max=0.8340, iou.mean=0.4212\n",
      "[DEBUG] Head 0 | ps[..., 4].sigmoid().mean = 0.0012\n",
      "[DEBUG] Head 1 | iou.min=0.0303, iou.max=0.7881, iou.mean=0.4176\n",
      "[DEBUG] Head 1 | ps[..., 4].sigmoid().mean = 0.0046\n",
      "[DEBUG] Head 2 | iou.min=0.0176, iou.max=0.8595, iou.mean=0.2933\n",
      "[DEBUG] Head 2 | ps[..., 4].sigmoid().mean = 0.0107\n"
     ]
    },
    {
     "name": "stderr",
     "output_type": "stream",
     "text": [
      "[YoloOW] Epoch 2/10:  79%|███████▉  | 19/24 [00:21<00:05,  1.08s/it, Loss=6.7794, box=0.100, obj=0.031, cls=0.293, total loss=0.424, lr=0.000275]"
     ]
    },
    {
     "name": "stdout",
     "output_type": "stream",
     "text": [
      "[DEBUG] Head 0 | iou.min=0.0893, iou.max=0.9012, iou.mean=0.3780\n",
      "[DEBUG] Head 0 | ps[..., 4].sigmoid().mean = 0.0012\n",
      "[DEBUG] Head 1 | iou.min=0.1004, iou.max=0.8599, iou.mean=0.4502\n",
      "[DEBUG] Head 1 | ps[..., 4].sigmoid().mean = 0.0046\n",
      "[DEBUG] Head 2 | iou.min=-0.0071, iou.max=0.7501, iou.mean=0.3413\n",
      "[DEBUG] Head 2 | ps[..., 4].sigmoid().mean = 0.0104\n"
     ]
    },
    {
     "name": "stderr",
     "output_type": "stream",
     "text": [
      "[YoloOW] Epoch 2/10:  83%|████████▎ | 20/24 [00:22<00:04,  1.07s/it, Loss=7.0785, box=0.092, obj=0.058, cls=0.293, total loss=0.442, lr=0.000358]"
     ]
    },
    {
     "name": "stdout",
     "output_type": "stream",
     "text": [
      "[DEBUG] Head 0 | iou.min=0.0814, iou.max=0.8822, iou.mean=0.3540\n",
      "[DEBUG] Head 0 | ps[..., 4].sigmoid().mean = 0.0012\n",
      "[DEBUG] Head 1 | iou.min=0.0837, iou.max=0.8595, iou.mean=0.4555\n",
      "[DEBUG] Head 1 | ps[..., 4].sigmoid().mean = 0.0045\n",
      "[DEBUG] Head 2 | iou.min=-0.0250, iou.max=0.7772, iou.mean=0.3237\n",
      "[DEBUG] Head 2 | ps[..., 4].sigmoid().mean = 0.0107\n"
     ]
    },
    {
     "name": "stderr",
     "output_type": "stream",
     "text": [
      "[YoloOW] Epoch 2/10:  88%|████████▊ | 21/24 [00:23<00:03,  1.06s/it, Loss=7.0785, box=0.092, obj=0.058, cls=0.293, total loss=0.442, lr=0.000358]"
     ]
    },
    {
     "name": "stdout",
     "output_type": "stream",
     "text": [
      "[DEBUG] Head 0 | iou.min=0.1052, iou.max=0.8545, iou.mean=0.3601\n",
      "[DEBUG] Head 0 | ps[..., 4].sigmoid().mean = 0.0012\n",
      "[DEBUG] Head 1 | iou.min=0.0758, iou.max=0.7998, iou.mean=0.5019\n",
      "[DEBUG] Head 1 | ps[..., 4].sigmoid().mean = 0.0045\n",
      "[DEBUG] Head 2 | iou.min=0.0329, iou.max=0.8379, iou.mean=0.3387\n",
      "[DEBUG] Head 2 | ps[..., 4].sigmoid().mean = 0.0108\n"
     ]
    },
    {
     "name": "stderr",
     "output_type": "stream",
     "text": [
      "[YoloOW] Epoch 2/10:  92%|█████████▏| 22/24 [00:24<00:02,  1.08s/it, Loss=7.0785, box=0.092, obj=0.058, cls=0.293, total loss=0.442, lr=0.000358]"
     ]
    },
    {
     "name": "stdout",
     "output_type": "stream",
     "text": [
      "[DEBUG] Head 0 | iou.min=0.0747, iou.max=0.8458, iou.mean=0.4215\n",
      "[DEBUG] Head 0 | ps[..., 4].sigmoid().mean = 0.0012\n",
      "[DEBUG] Head 1 | iou.min=0.1017, iou.max=0.8494, iou.mean=0.3908\n",
      "[DEBUG] Head 1 | ps[..., 4].sigmoid().mean = 0.0045\n",
      "[DEBUG] Head 2 | iou.min=-0.1120, iou.max=0.7143, iou.mean=0.2708\n",
      "[DEBUG] Head 2 | ps[..., 4].sigmoid().mean = 0.0112\n"
     ]
    },
    {
     "name": "stderr",
     "output_type": "stream",
     "text": [
      "[YoloOW] Epoch 2/10:  96%|█████████▌| 23/24 [00:25<00:01,  1.06s/it, Loss=7.0785, box=0.092, obj=0.058, cls=0.293, total loss=0.442, lr=0.000358]"
     ]
    },
    {
     "name": "stdout",
     "output_type": "stream",
     "text": [
      "[DEBUG] Head 0 | iou.min=0.0962, iou.max=0.8576, iou.mean=0.4015\n",
      "[DEBUG] Head 0 | ps[..., 4].sigmoid().mean = 0.0012\n",
      "[DEBUG] Head 1 | iou.min=0.1102, iou.max=0.8883, iou.mean=0.4678\n",
      "[DEBUG] Head 1 | ps[..., 4].sigmoid().mean = 0.0044\n",
      "[DEBUG] Head 2 | iou.min=-0.0802, iou.max=0.8666, iou.mean=0.3369\n",
      "[DEBUG] Head 2 | ps[..., 4].sigmoid().mean = 0.0114\n"
     ]
    },
    {
     "name": "stderr",
     "output_type": "stream",
     "text": [
      "[YoloOW] Epoch 2/10: 100%|██████████| 24/24 [00:26<00:00,  1.10s/it, Loss=6.8193, box=0.090, obj=0.057, cls=0.279, total loss=0.426, lr=0.000392]\n"
     ]
    },
    {
     "name": "stdout",
     "output_type": "stream",
     "text": [
      "\n",
      "[YoloOW] ✅ Epoch 2/10 complete in 26.33s | Avg Loss: 7.1431\n",
      "\n",
      "[YoloOW] 📊 Running evaluation after epoch 2 ...\n",
      "[DEBUG] Head 0 | iou.min=0.0936, iou.max=0.8194, iou.mean=0.3891\n",
      "[DEBUG] Head 0 | ps[..., 4].sigmoid().mean = 0.0012\n",
      "[DEBUG] Head 1 | iou.min=0.1430, iou.max=0.9560, iou.mean=0.4411\n",
      "[DEBUG] Head 1 | ps[..., 4].sigmoid().mean = 0.0044\n",
      "[DEBUG] Head 2 | iou.min=-0.1231, iou.max=0.7951, iou.mean=0.3291\n",
      "[DEBUG] Head 2 | ps[..., 4].sigmoid().mean = 0.0123\n",
      "[DEBUG] Head 0 | iou.min=0.0875, iou.max=0.8960, iou.mean=0.4191\n",
      "[DEBUG] Head 0 | ps[..., 4].sigmoid().mean = 0.0012\n",
      "[DEBUG] Head 1 | iou.min=0.0571, iou.max=0.8569, iou.mean=0.4233\n",
      "[DEBUG] Head 1 | ps[..., 4].sigmoid().mean = 0.0044\n",
      "[DEBUG] Head 2 | iou.min=-0.0562, iou.max=0.8367, iou.mean=0.3075\n",
      "[DEBUG] Head 2 | ps[..., 4].sigmoid().mean = 0.0124\n",
      "[DEBUG] Head 0 | iou.min=0.0884, iou.max=0.8712, iou.mean=0.4050\n",
      "[DEBUG] Head 0 | ps[..., 4].sigmoid().mean = 0.0012\n",
      "[DEBUG] Head 1 | iou.min=0.0561, iou.max=0.9312, iou.mean=0.4169\n",
      "[DEBUG] Head 1 | ps[..., 4].sigmoid().mean = 0.0044\n",
      "[DEBUG] Head 2 | iou.min=-0.1287, iou.max=0.7719, iou.mean=0.3115\n",
      "[DEBUG] Head 2 | ps[..., 4].sigmoid().mean = 0.0122\n",
      "[DEBUG] Head 0 | iou.min=0.0901, iou.max=0.8202, iou.mean=0.3388\n",
      "[DEBUG] Head 0 | ps[..., 4].sigmoid().mean = 0.0012\n",
      "[DEBUG] Head 1 | iou.min=0.0984, iou.max=0.8374, iou.mean=0.4835\n",
      "[DEBUG] Head 1 | ps[..., 4].sigmoid().mean = 0.0044\n",
      "[DEBUG] Head 2 | iou.min=-0.0537, iou.max=0.7756, iou.mean=0.3318\n",
      "[DEBUG] Head 2 | ps[..., 4].sigmoid().mean = 0.0118\n",
      "[DEBUG] Head 0 | iou.min=0.0698, iou.max=0.8227, iou.mean=0.3413\n",
      "[DEBUG] Head 0 | ps[..., 4].sigmoid().mean = 0.0012\n",
      "[DEBUG] Head 1 | iou.min=0.2093, iou.max=0.8583, iou.mean=0.5207\n",
      "[DEBUG] Head 1 | ps[..., 4].sigmoid().mean = 0.0044\n",
      "[DEBUG] Head 2 | iou.min=0.0259, iou.max=0.8773, iou.mean=0.3431\n",
      "[DEBUG] Head 2 | ps[..., 4].sigmoid().mean = 0.0118\n",
      "[DEBUG] Head 0 | iou.min=0.1128, iou.max=0.8736, iou.mean=0.4164\n",
      "[DEBUG] Head 0 | ps[..., 4].sigmoid().mean = 0.0012\n",
      "[DEBUG] Head 1 | iou.min=0.0720, iou.max=0.8701, iou.mean=0.4537\n",
      "[DEBUG] Head 1 | ps[..., 4].sigmoid().mean = 0.0044\n",
      "[DEBUG] Head 2 | iou.min=-0.0297, iou.max=0.7922, iou.mean=0.2867\n",
      "[DEBUG] Head 2 | ps[..., 4].sigmoid().mean = 0.0122\n",
      "[DEBUG] Head 0 | iou.min=0.0776, iou.max=0.8389, iou.mean=0.4259\n",
      "[DEBUG] Head 0 | ps[..., 4].sigmoid().mean = 0.0012\n",
      "[DEBUG] Head 1 | iou.min=0.0928, iou.max=0.7928, iou.mean=0.3912\n",
      "[DEBUG] Head 1 | ps[..., 4].sigmoid().mean = 0.0044\n",
      "[DEBUG] Head 2 | iou.min=-0.0615, iou.max=0.7511, iou.mean=0.3252\n",
      "[DEBUG] Head 2 | ps[..., 4].sigmoid().mean = 0.0123\n",
      "[DEBUG] Head 0 | iou.min=0.0777, iou.max=0.9173, iou.mean=0.4204\n",
      "[DEBUG] Head 0 | ps[..., 4].sigmoid().mean = 0.0012\n",
      "[DEBUG] Head 1 | iou.min=0.0630, iou.max=0.7956, iou.mean=0.3220\n",
      "[DEBUG] Head 1 | ps[..., 4].sigmoid().mean = 0.0044\n",
      "[DEBUG] Head 2 | iou.min=-0.0906, iou.max=0.9038, iou.mean=0.2773\n",
      "[DEBUG] Head 2 | ps[..., 4].sigmoid().mean = 0.0130\n",
      "[DEBUG] Head 0 | iou.min=0.1353, iou.max=0.5475, iou.mean=0.2942\n",
      "[DEBUG] Head 0 | ps[..., 4].sigmoid().mean = 0.0012\n",
      "[DEBUG] Head 1 | iou.min=0.0718, iou.max=0.6616, iou.mean=0.4725\n",
      "[DEBUG] Head 1 | ps[..., 4].sigmoid().mean = 0.0044\n",
      "[DEBUG] Head 2 | iou.min=0.0703, iou.max=0.7666, iou.mean=0.3613\n",
      "[DEBUG] Head 2 | ps[..., 4].sigmoid().mean = 0.0113\n",
      "[validate_yoloow_model] ✅  Avg Loss  (box/obj/cls/total): 0.0931 / 0.0949 / 0.2919 / 0.4799\n"
     ]
    },
    {
     "name": "stderr",
     "output_type": "stream",
     "text": [
      "[YoloOW] Epoch 3/10:   0%|          | 0/24 [00:00<?, ?it/s]"
     ]
    },
    {
     "name": "stdout",
     "output_type": "stream",
     "text": [
      "[DEBUG] Head 0 | iou.min=0.0875, iou.max=0.8220, iou.mean=0.3260\n",
      "[DEBUG] Head 0 | ps[..., 4].sigmoid().mean = 0.0012\n",
      "[DEBUG] Head 1 | iou.min=0.1452, iou.max=0.7848, iou.mean=0.4847\n",
      "[DEBUG] Head 1 | ps[..., 4].sigmoid().mean = 0.0044\n",
      "[DEBUG] Head 2 | iou.min=-0.0963, iou.max=0.8670, iou.mean=0.3607\n",
      "[DEBUG] Head 2 | ps[..., 4].sigmoid().mean = 0.0117\n"
     ]
    },
    {
     "name": "stderr",
     "output_type": "stream",
     "text": [
      "[YoloOW] Epoch 3/10:   4%|▍         | 1/24 [00:01<00:25,  1.09s/it]"
     ]
    },
    {
     "name": "stdout",
     "output_type": "stream",
     "text": [
      "[DEBUG] Head 0 | iou.min=0.0904, iou.max=0.8821, iou.mean=0.4023\n",
      "[DEBUG] Head 0 | ps[..., 4].sigmoid().mean = 0.0012\n",
      "[DEBUG] Head 1 | iou.min=0.0643, iou.max=0.7529, iou.mean=0.3951\n",
      "[DEBUG] Head 1 | ps[..., 4].sigmoid().mean = 0.0043\n",
      "[DEBUG] Head 2 | iou.min=-0.0148, iou.max=0.8401, iou.mean=0.3191\n",
      "[DEBUG] Head 2 | ps[..., 4].sigmoid().mean = 0.0122\n"
     ]
    },
    {
     "name": "stderr",
     "output_type": "stream",
     "text": [
      "[YoloOW] Epoch 3/10:   8%|▊         | 2/24 [00:02<00:23,  1.07s/it]"
     ]
    },
    {
     "name": "stdout",
     "output_type": "stream",
     "text": [
      "[DEBUG] Head 0 | iou.min=0.1116, iou.max=0.9226, iou.mean=0.4692\n",
      "[DEBUG] Head 0 | ps[..., 4].sigmoid().mean = 0.0012\n",
      "[DEBUG] Head 1 | iou.min=0.0605, iou.max=0.8175, iou.mean=0.4244\n",
      "[DEBUG] Head 1 | ps[..., 4].sigmoid().mean = 0.0043\n",
      "[DEBUG] Head 2 | iou.min=0.0051, iou.max=0.8036, iou.mean=0.2826\n",
      "[DEBUG] Head 2 | ps[..., 4].sigmoid().mean = 0.0132\n"
     ]
    },
    {
     "name": "stderr",
     "output_type": "stream",
     "text": [
      "[YoloOW] Epoch 3/10:  12%|█▎        | 3/24 [00:03<00:23,  1.10s/it]"
     ]
    },
    {
     "name": "stdout",
     "output_type": "stream",
     "text": [
      "[DEBUG] Head 0 | iou.min=0.0985, iou.max=0.8592, iou.mean=0.4015\n",
      "[DEBUG] Head 0 | ps[..., 4].sigmoid().mean = 0.0012\n",
      "[DEBUG] Head 1 | iou.min=0.0837, iou.max=0.8137, iou.mean=0.3876\n",
      "[DEBUG] Head 1 | ps[..., 4].sigmoid().mean = 0.0042\n",
      "[DEBUG] Head 2 | iou.min=-0.0515, iou.max=0.7732, iou.mean=0.2783\n",
      "[DEBUG] Head 2 | ps[..., 4].sigmoid().mean = 0.0131\n"
     ]
    },
    {
     "name": "stderr",
     "output_type": "stream",
     "text": [
      "[YoloOW] Epoch 3/10:  17%|█▋        | 4/24 [00:04<00:21,  1.10s/it]"
     ]
    },
    {
     "name": "stdout",
     "output_type": "stream",
     "text": [
      "[DEBUG] Head 0 | iou.min=0.1177, iou.max=0.8814, iou.mean=0.4547\n",
      "[DEBUG] Head 0 | ps[..., 4].sigmoid().mean = 0.0012\n",
      "[DEBUG] Head 1 | iou.min=0.1055, iou.max=0.9004, iou.mean=0.4468\n",
      "[DEBUG] Head 1 | ps[..., 4].sigmoid().mean = 0.0042\n",
      "[DEBUG] Head 2 | iou.min=-0.0228, iou.max=0.7998, iou.mean=0.3169\n",
      "[DEBUG] Head 2 | ps[..., 4].sigmoid().mean = 0.0133\n"
     ]
    },
    {
     "name": "stderr",
     "output_type": "stream",
     "text": [
      "[YoloOW] Epoch 3/10:  21%|██        | 5/24 [00:05<00:20,  1.07s/it]"
     ]
    },
    {
     "name": "stdout",
     "output_type": "stream",
     "text": [
      "[DEBUG] Head 0 | iou.min=0.1325, iou.max=0.9444, iou.mean=0.4684\n",
      "[DEBUG] Head 0 | ps[..., 4].sigmoid().mean = 0.0012\n",
      "[DEBUG] Head 1 | iou.min=0.0814, iou.max=0.8638, iou.mean=0.4359\n",
      "[DEBUG] Head 1 | ps[..., 4].sigmoid().mean = 0.0041\n",
      "[DEBUG] Head 2 | iou.min=0.0037, iou.max=0.7319, iou.mean=0.3010\n",
      "[DEBUG] Head 2 | ps[..., 4].sigmoid().mean = 0.0135\n"
     ]
    },
    {
     "name": "stderr",
     "output_type": "stream",
     "text": [
      "[YoloOW] Epoch 3/10:  25%|██▌       | 6/24 [00:06<00:19,  1.08s/it]"
     ]
    },
    {
     "name": "stdout",
     "output_type": "stream",
     "text": [
      "[DEBUG] Head 0 | iou.min=0.1249, iou.max=0.8734, iou.mean=0.3966\n",
      "[DEBUG] Head 0 | ps[..., 4].sigmoid().mean = 0.0012\n",
      "[DEBUG] Head 1 | iou.min=0.0694, iou.max=0.8483, iou.mean=0.4107\n",
      "[DEBUG] Head 1 | ps[..., 4].sigmoid().mean = 0.0042\n",
      "[DEBUG] Head 2 | iou.min=0.0159, iou.max=0.7576, iou.mean=0.3616\n",
      "[DEBUG] Head 2 | ps[..., 4].sigmoid().mean = 0.0121\n"
     ]
    },
    {
     "name": "stderr",
     "output_type": "stream",
     "text": [
      "[YoloOW] Epoch 3/10:  29%|██▉       | 7/24 [00:07<00:18,  1.09s/it]"
     ]
    },
    {
     "name": "stdout",
     "output_type": "stream",
     "text": [
      "[DEBUG] Head 0 | iou.min=0.1626, iou.max=0.8731, iou.mean=0.4396\n",
      "[DEBUG] Head 0 | ps[..., 4].sigmoid().mean = 0.0012\n",
      "[DEBUG] Head 1 | iou.min=0.1049, iou.max=0.8637, iou.mean=0.4486\n",
      "[DEBUG] Head 1 | ps[..., 4].sigmoid().mean = 0.0042\n",
      "[DEBUG] Head 2 | iou.min=0.0575, iou.max=0.8486, iou.mean=0.2964\n",
      "[DEBUG] Head 2 | ps[..., 4].sigmoid().mean = 0.0126\n"
     ]
    },
    {
     "name": "stderr",
     "output_type": "stream",
     "text": [
      "[YoloOW] Epoch 3/10:  33%|███▎      | 8/24 [00:08<00:17,  1.08s/it]"
     ]
    },
    {
     "name": "stdout",
     "output_type": "stream",
     "text": [
      "[DEBUG] Head 0 | iou.min=0.1172, iou.max=0.8801, iou.mean=0.4188\n",
      "[DEBUG] Head 0 | ps[..., 4].sigmoid().mean = 0.0012\n",
      "[DEBUG] Head 1 | iou.min=0.1071, iou.max=0.9350, iou.mean=0.4334\n",
      "[DEBUG] Head 1 | ps[..., 4].sigmoid().mean = 0.0042\n",
      "[DEBUG] Head 2 | iou.min=-0.0083, iou.max=0.8152, iou.mean=0.3394\n",
      "[DEBUG] Head 2 | ps[..., 4].sigmoid().mean = 0.0116\n"
     ]
    },
    {
     "name": "stderr",
     "output_type": "stream",
     "text": [
      "[YoloOW] Epoch 3/10:  38%|███▊      | 9/24 [00:09<00:16,  1.08s/it]"
     ]
    },
    {
     "name": "stdout",
     "output_type": "stream",
     "text": [
      "[DEBUG] Head 0 | iou.min=0.1069, iou.max=0.8901, iou.mean=0.4192\n",
      "[DEBUG] Head 0 | ps[..., 4].sigmoid().mean = 0.0012\n",
      "[DEBUG] Head 1 | iou.min=0.0563, iou.max=0.8143, iou.mean=0.3668\n",
      "[DEBUG] Head 1 | ps[..., 4].sigmoid().mean = 0.0043\n",
      "[DEBUG] Head 2 | iou.min=-0.0304, iou.max=0.8038, iou.mean=0.2988\n",
      "[DEBUG] Head 2 | ps[..., 4].sigmoid().mean = 0.0106\n"
     ]
    },
    {
     "name": "stderr",
     "output_type": "stream",
     "text": [
      "[YoloOW] Epoch 3/10:  42%|████▏     | 10/24 [00:10<00:15,  1.09s/it, Loss=7.0160, box=0.096, obj=0.049, cls=0.294, total loss=0.439, lr=0.000475]"
     ]
    },
    {
     "name": "stdout",
     "output_type": "stream",
     "text": [
      "[DEBUG] Head 0 | iou.min=0.1541, iou.max=0.8247, iou.mean=0.4379\n",
      "[DEBUG] Head 0 | ps[..., 4].sigmoid().mean = 0.0012\n",
      "[DEBUG] Head 1 | iou.min=0.0776, iou.max=0.8729, iou.mean=0.4282\n",
      "[DEBUG] Head 1 | ps[..., 4].sigmoid().mean = 0.0044\n",
      "[DEBUG] Head 2 | iou.min=0.0319, iou.max=0.7998, iou.mean=0.3238\n",
      "[DEBUG] Head 2 | ps[..., 4].sigmoid().mean = 0.0106\n"
     ]
    },
    {
     "name": "stderr",
     "output_type": "stream",
     "text": [
      "[YoloOW] Epoch 3/10:  46%|████▌     | 11/24 [00:11<00:14,  1.08s/it, Loss=7.0160, box=0.096, obj=0.049, cls=0.294, total loss=0.439, lr=0.000475]"
     ]
    },
    {
     "name": "stdout",
     "output_type": "stream",
     "text": [
      "[DEBUG] Head 0 | iou.min=0.1058, iou.max=0.9001, iou.mean=0.4657\n",
      "[DEBUG] Head 0 | ps[..., 4].sigmoid().mean = 0.0012\n",
      "[DEBUG] Head 1 | iou.min=0.0793, iou.max=0.8046, iou.mean=0.4069\n",
      "[DEBUG] Head 1 | ps[..., 4].sigmoid().mean = 0.0044\n",
      "[DEBUG] Head 2 | iou.min=-0.0014, iou.max=0.8161, iou.mean=0.3289\n",
      "[DEBUG] Head 2 | ps[..., 4].sigmoid().mean = 0.0113\n"
     ]
    },
    {
     "name": "stderr",
     "output_type": "stream",
     "text": [
      "[YoloOW] Epoch 3/10:  50%|█████     | 12/24 [00:12<00:12,  1.07s/it, Loss=7.0160, box=0.096, obj=0.049, cls=0.294, total loss=0.439, lr=0.000475]"
     ]
    },
    {
     "name": "stdout",
     "output_type": "stream",
     "text": [
      "[DEBUG] Head 0 | iou.min=0.1426, iou.max=0.8304, iou.mean=0.4672\n",
      "[DEBUG] Head 0 | ps[..., 4].sigmoid().mean = 0.0012\n",
      "[DEBUG] Head 1 | iou.min=0.0926, iou.max=0.7789, iou.mean=0.4219\n",
      "[DEBUG] Head 1 | ps[..., 4].sigmoid().mean = 0.0045\n",
      "[DEBUG] Head 2 | iou.min=0.0149, iou.max=0.7744, iou.mean=0.3036\n",
      "[DEBUG] Head 2 | ps[..., 4].sigmoid().mean = 0.0115\n"
     ]
    },
    {
     "name": "stderr",
     "output_type": "stream",
     "text": [
      "[YoloOW] Epoch 3/10:  54%|█████▍    | 13/24 [00:14<00:12,  1.09s/it, Loss=7.0160, box=0.096, obj=0.049, cls=0.294, total loss=0.439, lr=0.000475]"
     ]
    },
    {
     "name": "stdout",
     "output_type": "stream",
     "text": [
      "[DEBUG] Head 0 | iou.min=0.1332, iou.max=0.8819, iou.mean=0.4731\n",
      "[DEBUG] Head 0 | ps[..., 4].sigmoid().mean = 0.0012\n",
      "[DEBUG] Head 1 | iou.min=0.0868, iou.max=0.8697, iou.mean=0.4374\n",
      "[DEBUG] Head 1 | ps[..., 4].sigmoid().mean = 0.0047\n",
      "[DEBUG] Head 2 | iou.min=0.0107, iou.max=0.8793, iou.mean=0.3308\n",
      "[DEBUG] Head 2 | ps[..., 4].sigmoid().mean = 0.0103\n"
     ]
    },
    {
     "name": "stderr",
     "output_type": "stream",
     "text": [
      "[YoloOW] Epoch 3/10:  58%|█████▊    | 14/24 [00:15<00:10,  1.08s/it, Loss=7.0160, box=0.096, obj=0.049, cls=0.294, total loss=0.439, lr=0.000475]"
     ]
    },
    {
     "name": "stdout",
     "output_type": "stream",
     "text": [
      "[DEBUG] Head 0 | iou.min=0.1676, iou.max=0.9140, iou.mean=0.5120\n",
      "[DEBUG] Head 0 | ps[..., 4].sigmoid().mean = 0.0012\n",
      "[DEBUG] Head 1 | iou.min=0.0825, iou.max=0.8136, iou.mean=0.4439\n",
      "[DEBUG] Head 1 | ps[..., 4].sigmoid().mean = 0.0046\n",
      "[DEBUG] Head 2 | iou.min=-0.0059, iou.max=0.8890, iou.mean=0.3236\n",
      "[DEBUG] Head 2 | ps[..., 4].sigmoid().mean = 0.0094\n"
     ]
    },
    {
     "name": "stderr",
     "output_type": "stream",
     "text": [
      "[YoloOW] Epoch 3/10:  62%|██████▎   | 15/24 [00:16<00:09,  1.07s/it, Loss=7.0160, box=0.096, obj=0.049, cls=0.294, total loss=0.439, lr=0.000475]"
     ]
    },
    {
     "name": "stdout",
     "output_type": "stream",
     "text": [
      "[DEBUG] Head 0 | iou.min=0.0921, iou.max=0.8992, iou.mean=0.3886\n",
      "[DEBUG] Head 0 | ps[..., 4].sigmoid().mean = 0.0012\n",
      "[DEBUG] Head 1 | iou.min=0.0471, iou.max=0.8250, iou.mean=0.2898\n",
      "[DEBUG] Head 1 | ps[..., 4].sigmoid().mean = 0.0047\n",
      "[DEBUG] Head 2 | iou.min=-0.0367, iou.max=0.7662, iou.mean=0.2792\n",
      "[DEBUG] Head 2 | ps[..., 4].sigmoid().mean = 0.0097\n"
     ]
    },
    {
     "name": "stderr",
     "output_type": "stream",
     "text": [
      "[YoloOW] Epoch 3/10:  67%|██████▋   | 16/24 [00:17<00:08,  1.09s/it, Loss=7.0160, box=0.096, obj=0.049, cls=0.294, total loss=0.439, lr=0.000475]"
     ]
    },
    {
     "name": "stdout",
     "output_type": "stream",
     "text": [
      "[DEBUG] Head 0 | iou.min=0.2027, iou.max=0.9411, iou.mean=0.5453\n",
      "[DEBUG] Head 0 | ps[..., 4].sigmoid().mean = 0.0012\n",
      "[DEBUG] Head 1 | iou.min=0.1099, iou.max=0.8861, iou.mean=0.4640\n",
      "[DEBUG] Head 1 | ps[..., 4].sigmoid().mean = 0.0047\n",
      "[DEBUG] Head 2 | iou.min=0.0240, iou.max=0.7271, iou.mean=0.3252\n",
      "[DEBUG] Head 2 | ps[..., 4].sigmoid().mean = 0.0096\n"
     ]
    },
    {
     "name": "stderr",
     "output_type": "stream",
     "text": [
      "[YoloOW] Epoch 3/10:  71%|███████   | 17/24 [00:18<00:07,  1.08s/it, Loss=7.0160, box=0.096, obj=0.049, cls=0.294, total loss=0.439, lr=0.000475]"
     ]
    },
    {
     "name": "stdout",
     "output_type": "stream",
     "text": [
      "[DEBUG] Head 0 | iou.min=0.0967, iou.max=0.9318, iou.mean=0.5488\n",
      "[DEBUG] Head 0 | ps[..., 4].sigmoid().mean = 0.0012\n",
      "[DEBUG] Head 1 | iou.min=0.0616, iou.max=0.9492, iou.mean=0.4635\n",
      "[DEBUG] Head 1 | ps[..., 4].sigmoid().mean = 0.0047\n",
      "[DEBUG] Head 2 | iou.min=-0.0478, iou.max=0.7788, iou.mean=0.3252\n",
      "[DEBUG] Head 2 | ps[..., 4].sigmoid().mean = 0.0093\n"
     ]
    },
    {
     "name": "stderr",
     "output_type": "stream",
     "text": [
      "[YoloOW] Epoch 3/10:  75%|███████▌  | 18/24 [00:19<00:06,  1.08s/it, Loss=7.0160, box=0.096, obj=0.049, cls=0.294, total loss=0.439, lr=0.000475]"
     ]
    },
    {
     "name": "stdout",
     "output_type": "stream",
     "text": [
      "[DEBUG] Head 0 | iou.min=0.1614, iou.max=0.8511, iou.mean=0.4327\n",
      "[DEBUG] Head 0 | ps[..., 4].sigmoid().mean = 0.0012\n",
      "[DEBUG] Head 1 | iou.min=0.1017, iou.max=0.9006, iou.mean=0.3598\n",
      "[DEBUG] Head 1 | ps[..., 4].sigmoid().mean = 0.0047\n",
      "[DEBUG] Head 2 | iou.min=-0.0416, iou.max=0.8124, iou.mean=0.2909\n",
      "[DEBUG] Head 2 | ps[..., 4].sigmoid().mean = 0.0086\n"
     ]
    },
    {
     "name": "stderr",
     "output_type": "stream",
     "text": [
      "[YoloOW] Epoch 3/10:  79%|███████▉  | 19/24 [00:20<00:05,  1.08s/it, Loss=7.0160, box=0.096, obj=0.049, cls=0.294, total loss=0.439, lr=0.000475]"
     ]
    },
    {
     "name": "stdout",
     "output_type": "stream",
     "text": [
      "[DEBUG] Head 0 | iou.min=0.1676, iou.max=0.8965, iou.mean=0.5329\n",
      "[DEBUG] Head 0 | ps[..., 4].sigmoid().mean = 0.0012\n",
      "[DEBUG] Head 1 | iou.min=0.1040, iou.max=0.8579, iou.mean=0.4189\n",
      "[DEBUG] Head 1 | ps[..., 4].sigmoid().mean = 0.0048\n",
      "[DEBUG] Head 2 | iou.min=0.0103, iou.max=0.8030, iou.mean=0.3276\n",
      "[DEBUG] Head 2 | ps[..., 4].sigmoid().mean = 0.0081\n"
     ]
    },
    {
     "name": "stderr",
     "output_type": "stream",
     "text": [
      "[YoloOW] Epoch 3/10:  83%|████████▎ | 20/24 [00:21<00:04,  1.07s/it, Loss=6.8617, box=0.086, obj=0.050, cls=0.293, total loss=0.429, lr=0.000558]"
     ]
    },
    {
     "name": "stdout",
     "output_type": "stream",
     "text": [
      "[DEBUG] Head 0 | iou.min=0.1758, iou.max=0.8453, iou.mean=0.4528\n",
      "[DEBUG] Head 0 | ps[..., 4].sigmoid().mean = 0.0011\n",
      "[DEBUG] Head 1 | iou.min=0.1293, iou.max=0.8175, iou.mean=0.3938\n",
      "[DEBUG] Head 1 | ps[..., 4].sigmoid().mean = 0.0047\n",
      "[DEBUG] Head 2 | iou.min=-0.0574, iou.max=0.7204, iou.mean=0.2713\n",
      "[DEBUG] Head 2 | ps[..., 4].sigmoid().mean = 0.0091\n"
     ]
    },
    {
     "name": "stderr",
     "output_type": "stream",
     "text": [
      "[YoloOW] Epoch 3/10:  88%|████████▊ | 21/24 [00:22<00:03,  1.06s/it, Loss=6.8617, box=0.086, obj=0.050, cls=0.293, total loss=0.429, lr=0.000558]"
     ]
    },
    {
     "name": "stdout",
     "output_type": "stream",
     "text": [
      "[DEBUG] Head 0 | iou.min=0.1631, iou.max=0.8969, iou.mean=0.4545\n",
      "[DEBUG] Head 0 | ps[..., 4].sigmoid().mean = 0.0011\n",
      "[DEBUG] Head 1 | iou.min=0.1204, iou.max=0.7706, iou.mean=0.3780\n",
      "[DEBUG] Head 1 | ps[..., 4].sigmoid().mean = 0.0047\n",
      "[DEBUG] Head 2 | iou.min=-0.0138, iou.max=0.7871, iou.mean=0.3280\n",
      "[DEBUG] Head 2 | ps[..., 4].sigmoid().mean = 0.0098\n"
     ]
    },
    {
     "name": "stderr",
     "output_type": "stream",
     "text": [
      "[YoloOW] Epoch 3/10:  92%|█████████▏| 22/24 [00:23<00:02,  1.07s/it, Loss=6.8617, box=0.086, obj=0.050, cls=0.293, total loss=0.429, lr=0.000558]"
     ]
    },
    {
     "name": "stdout",
     "output_type": "stream",
     "text": [
      "[DEBUG] Head 0 | iou.min=0.1569, iou.max=0.8886, iou.mean=0.4841\n",
      "[DEBUG] Head 0 | ps[..., 4].sigmoid().mean = 0.0011\n",
      "[DEBUG] Head 1 | iou.min=0.0802, iou.max=0.8573, iou.mean=0.4298\n",
      "[DEBUG] Head 1 | ps[..., 4].sigmoid().mean = 0.0046\n",
      "[DEBUG] Head 2 | iou.min=-0.0442, iou.max=0.7671, iou.mean=0.2676\n",
      "[DEBUG] Head 2 | ps[..., 4].sigmoid().mean = 0.0109\n"
     ]
    },
    {
     "name": "stderr",
     "output_type": "stream",
     "text": [
      "[YoloOW] Epoch 3/10:  96%|█████████▌| 23/24 [00:24<00:01,  1.07s/it, Loss=6.8617, box=0.086, obj=0.050, cls=0.293, total loss=0.429, lr=0.000558]"
     ]
    },
    {
     "name": "stdout",
     "output_type": "stream",
     "text": [
      "[DEBUG] Head 0 | iou.min=0.1148, iou.max=0.9003, iou.mean=0.5196\n",
      "[DEBUG] Head 0 | ps[..., 4].sigmoid().mean = 0.0011\n",
      "[DEBUG] Head 1 | iou.min=0.0568, iou.max=0.8546, iou.mean=0.4259\n",
      "[DEBUG] Head 1 | ps[..., 4].sigmoid().mean = 0.0046\n",
      "[DEBUG] Head 2 | iou.min=-0.0740, iou.max=0.8581, iou.mean=0.3321\n",
      "[DEBUG] Head 2 | ps[..., 4].sigmoid().mean = 0.0110\n"
     ]
    },
    {
     "name": "stderr",
     "output_type": "stream",
     "text": [
      "[YoloOW] Epoch 3/10: 100%|██████████| 24/24 [00:25<00:00,  1.08s/it, Loss=7.0942, box=0.086, obj=0.089, cls=0.268, total loss=0.443, lr=0.000592]\n"
     ]
    },
    {
     "name": "stdout",
     "output_type": "stream",
     "text": [
      "\n",
      "[YoloOW] ✅ Epoch 3/10 complete in 25.91s | Avg Loss: 6.9119\n",
      "\n",
      "[YoloOW] 📊 Running evaluation after epoch 3 ...\n",
      "[DEBUG] Head 0 | iou.min=0.1688, iou.max=0.9101, iou.mean=0.5223\n",
      "[DEBUG] Head 0 | ps[..., 4].sigmoid().mean = 0.0011\n",
      "[DEBUG] Head 1 | iou.min=0.1115, iou.max=0.8695, iou.mean=0.4364\n",
      "[DEBUG] Head 1 | ps[..., 4].sigmoid().mean = 0.0046\n",
      "[DEBUG] Head 2 | iou.min=-0.0437, iou.max=0.7062, iou.mean=0.3203\n",
      "[DEBUG] Head 2 | ps[..., 4].sigmoid().mean = 0.0113\n",
      "[DEBUG] Head 0 | iou.min=0.1661, iou.max=0.9024, iou.mean=0.4915\n",
      "[DEBUG] Head 0 | ps[..., 4].sigmoid().mean = 0.0011\n",
      "[DEBUG] Head 1 | iou.min=0.0435, iou.max=0.8631, iou.mean=0.4256\n",
      "[DEBUG] Head 1 | ps[..., 4].sigmoid().mean = 0.0046\n",
      "[DEBUG] Head 2 | iou.min=-0.0291, iou.max=0.7931, iou.mean=0.3035\n",
      "[DEBUG] Head 2 | ps[..., 4].sigmoid().mean = 0.0112\n",
      "[DEBUG] Head 0 | iou.min=0.2071, iou.max=0.9574, iou.mean=0.4864\n",
      "[DEBUG] Head 0 | ps[..., 4].sigmoid().mean = 0.0011\n",
      "[DEBUG] Head 1 | iou.min=0.0428, iou.max=0.8416, iou.mean=0.4117\n",
      "[DEBUG] Head 1 | ps[..., 4].sigmoid().mean = 0.0046\n",
      "[DEBUG] Head 2 | iou.min=-0.0505, iou.max=0.9376, iou.mean=0.3036\n",
      "[DEBUG] Head 2 | ps[..., 4].sigmoid().mean = 0.0111\n",
      "[DEBUG] Head 0 | iou.min=0.1657, iou.max=0.9296, iou.mean=0.5693\n",
      "[DEBUG] Head 0 | ps[..., 4].sigmoid().mean = 0.0011\n",
      "[DEBUG] Head 1 | iou.min=0.0851, iou.max=0.8533, iou.mean=0.4595\n",
      "[DEBUG] Head 1 | ps[..., 4].sigmoid().mean = 0.0046\n",
      "[DEBUG] Head 2 | iou.min=0.0119, iou.max=0.7999, iou.mean=0.3290\n",
      "[DEBUG] Head 2 | ps[..., 4].sigmoid().mean = 0.0110\n",
      "[DEBUG] Head 0 | iou.min=0.2198, iou.max=0.8743, iou.mean=0.6122\n",
      "[DEBUG] Head 0 | ps[..., 4].sigmoid().mean = 0.0011\n",
      "[DEBUG] Head 1 | iou.min=0.1767, iou.max=0.8437, iou.mean=0.4915\n",
      "[DEBUG] Head 1 | ps[..., 4].sigmoid().mean = 0.0046\n",
      "[DEBUG] Head 2 | iou.min=0.0573, iou.max=0.8454, iou.mean=0.3440\n",
      "[DEBUG] Head 2 | ps[..., 4].sigmoid().mean = 0.0111\n",
      "[DEBUG] Head 0 | iou.min=0.2624, iou.max=0.9044, iou.mean=0.5412\n",
      "[DEBUG] Head 0 | ps[..., 4].sigmoid().mean = 0.0011\n",
      "[DEBUG] Head 1 | iou.min=0.0554, iou.max=0.8588, iou.mean=0.4498\n",
      "[DEBUG] Head 1 | ps[..., 4].sigmoid().mean = 0.0046\n",
      "[DEBUG] Head 2 | iou.min=0.0064, iou.max=0.8067, iou.mean=0.2680\n",
      "[DEBUG] Head 2 | ps[..., 4].sigmoid().mean = 0.0111\n",
      "[DEBUG] Head 0 | iou.min=0.2060, iou.max=0.8752, iou.mean=0.4450\n",
      "[DEBUG] Head 0 | ps[..., 4].sigmoid().mean = 0.0011\n",
      "[DEBUG] Head 1 | iou.min=0.0726, iou.max=0.7678, iou.mean=0.3866\n",
      "[DEBUG] Head 1 | ps[..., 4].sigmoid().mean = 0.0046\n",
      "[DEBUG] Head 2 | iou.min=-0.0439, iou.max=0.8249, iou.mean=0.3367\n",
      "[DEBUG] Head 2 | ps[..., 4].sigmoid().mean = 0.0112\n",
      "[DEBUG] Head 0 | iou.min=0.1008, iou.max=0.8709, iou.mean=0.3748\n",
      "[DEBUG] Head 0 | ps[..., 4].sigmoid().mean = 0.0011\n",
      "[DEBUG] Head 1 | iou.min=0.0708, iou.max=0.8687, iou.mean=0.3407\n",
      "[DEBUG] Head 1 | ps[..., 4].sigmoid().mean = 0.0046\n",
      "[DEBUG] Head 2 | iou.min=-0.0207, iou.max=0.7663, iou.mean=0.2630\n",
      "[DEBUG] Head 2 | ps[..., 4].sigmoid().mean = 0.0115\n",
      "[DEBUG] Head 0 | iou.min=0.2751, iou.max=0.7367, iou.mean=0.5365\n",
      "[DEBUG] Head 0 | ps[..., 4].sigmoid().mean = 0.0011\n",
      "[DEBUG] Head 1 | iou.min=0.0559, iou.max=0.6559, iou.mean=0.4195\n",
      "[DEBUG] Head 1 | ps[..., 4].sigmoid().mean = 0.0046\n",
      "[DEBUG] Head 2 | iou.min=0.0966, iou.max=0.7290, iou.mean=0.3581\n",
      "[DEBUG] Head 2 | ps[..., 4].sigmoid().mean = 0.0106\n",
      "[validate_yoloow_model] ✅  Avg Loss  (box/obj/cls/total): 0.0876 / 0.0832 / 0.2814 / 0.4522\n"
     ]
    },
    {
     "name": "stderr",
     "output_type": "stream",
     "text": [
      "[YoloOW] Epoch 4/10:   0%|          | 0/24 [00:00<?, ?it/s]"
     ]
    },
    {
     "name": "stdout",
     "output_type": "stream",
     "text": [
      "[DEBUG] Head 0 | iou.min=0.2146, iou.max=0.8376, iou.mean=0.5322\n",
      "[DEBUG] Head 0 | ps[..., 4].sigmoid().mean = 0.0011\n",
      "[DEBUG] Head 1 | iou.min=0.0616, iou.max=0.8016, iou.mean=0.4361\n",
      "[DEBUG] Head 1 | ps[..., 4].sigmoid().mean = 0.0046\n",
      "[DEBUG] Head 2 | iou.min=-0.0246, iou.max=0.8145, iou.mean=0.3346\n",
      "[DEBUG] Head 2 | ps[..., 4].sigmoid().mean = 0.0111\n"
     ]
    },
    {
     "name": "stderr",
     "output_type": "stream",
     "text": [
      "[YoloOW] Epoch 4/10:   4%|▍         | 1/24 [00:01<00:25,  1.10s/it]"
     ]
    },
    {
     "name": "stdout",
     "output_type": "stream",
     "text": [
      "[DEBUG] Head 0 | iou.min=0.1707, iou.max=0.8575, iou.mean=0.4059\n",
      "[DEBUG] Head 0 | ps[..., 4].sigmoid().mean = 0.0011\n",
      "[DEBUG] Head 1 | iou.min=0.1071, iou.max=0.8782, iou.mean=0.3480\n",
      "[DEBUG] Head 1 | ps[..., 4].sigmoid().mean = 0.0045\n",
      "[DEBUG] Head 2 | iou.min=-0.0372, iou.max=0.8399, iou.mean=0.3039\n",
      "[DEBUG] Head 2 | ps[..., 4].sigmoid().mean = 0.0106\n"
     ]
    },
    {
     "name": "stderr",
     "output_type": "stream",
     "text": [
      "[YoloOW] Epoch 4/10:   8%|▊         | 2/24 [00:02<00:24,  1.09s/it]"
     ]
    },
    {
     "name": "stdout",
     "output_type": "stream",
     "text": [
      "[DEBUG] Head 0 | iou.min=0.1655, iou.max=0.8857, iou.mean=0.4970\n",
      "[DEBUG] Head 0 | ps[..., 4].sigmoid().mean = 0.0011\n",
      "[DEBUG] Head 1 | iou.min=0.1149, iou.max=0.8711, iou.mean=0.4137\n",
      "[DEBUG] Head 1 | ps[..., 4].sigmoid().mean = 0.0044\n",
      "[DEBUG] Head 2 | iou.min=-0.0100, iou.max=0.8182, iou.mean=0.3002\n",
      "[DEBUG] Head 2 | ps[..., 4].sigmoid().mean = 0.0096\n"
     ]
    },
    {
     "name": "stderr",
     "output_type": "stream",
     "text": [
      "[YoloOW] Epoch 4/10:  12%|█▎        | 3/24 [00:03<00:22,  1.07s/it]"
     ]
    },
    {
     "name": "stdout",
     "output_type": "stream",
     "text": [
      "[DEBUG] Head 0 | iou.min=0.2287, iou.max=0.8829, iou.mean=0.5585\n",
      "[DEBUG] Head 0 | ps[..., 4].sigmoid().mean = 0.0011\n",
      "[DEBUG] Head 1 | iou.min=0.1318, iou.max=0.7920, iou.mean=0.4600\n",
      "[DEBUG] Head 1 | ps[..., 4].sigmoid().mean = 0.0043\n",
      "[DEBUG] Head 2 | iou.min=0.0450, iou.max=0.8336, iou.mean=0.3316\n",
      "[DEBUG] Head 2 | ps[..., 4].sigmoid().mean = 0.0092\n"
     ]
    },
    {
     "name": "stderr",
     "output_type": "stream",
     "text": [
      "[YoloOW] Epoch 4/10:  17%|█▋        | 4/24 [00:04<00:21,  1.08s/it]"
     ]
    },
    {
     "name": "stdout",
     "output_type": "stream",
     "text": [
      "[DEBUG] Head 0 | iou.min=0.0992, iou.max=0.8914, iou.mean=0.5425\n",
      "[DEBUG] Head 0 | ps[..., 4].sigmoid().mean = 0.0011\n",
      "[DEBUG] Head 1 | iou.min=0.1190, iou.max=0.8526, iou.mean=0.4663\n",
      "[DEBUG] Head 1 | ps[..., 4].sigmoid().mean = 0.0043\n",
      "[DEBUG] Head 2 | iou.min=0.0417, iou.max=0.8002, iou.mean=0.3436\n",
      "[DEBUG] Head 2 | ps[..., 4].sigmoid().mean = 0.0084\n"
     ]
    },
    {
     "name": "stderr",
     "output_type": "stream",
     "text": [
      "[YoloOW] Epoch 4/10:  21%|██        | 5/24 [00:05<00:20,  1.08s/it]"
     ]
    },
    {
     "name": "stdout",
     "output_type": "stream",
     "text": [
      "[DEBUG] Head 0 | iou.min=0.0947, iou.max=0.8650, iou.mean=0.3601\n",
      "[DEBUG] Head 0 | ps[..., 4].sigmoid().mean = 0.0011\n",
      "[DEBUG] Head 1 | iou.min=0.0555, iou.max=0.8592, iou.mean=0.2669\n",
      "[DEBUG] Head 1 | ps[..., 4].sigmoid().mean = 0.0044\n",
      "[DEBUG] Head 2 | iou.min=-0.0045, iou.max=0.8007, iou.mean=0.1990\n",
      "[DEBUG] Head 2 | ps[..., 4].sigmoid().mean = 0.0093\n"
     ]
    },
    {
     "name": "stderr",
     "output_type": "stream",
     "text": [
      "[YoloOW] Epoch 4/10:  25%|██▌       | 6/24 [00:06<00:19,  1.09s/it]"
     ]
    },
    {
     "name": "stdout",
     "output_type": "stream",
     "text": [
      "[DEBUG] Head 0 | iou.min=0.1060, iou.max=0.9000, iou.mean=0.5074\n",
      "[DEBUG] Head 0 | ps[..., 4].sigmoid().mean = 0.0012\n",
      "[DEBUG] Head 1 | iou.min=0.1386, iou.max=0.8323, iou.mean=0.4420\n",
      "[DEBUG] Head 1 | ps[..., 4].sigmoid().mean = 0.0046\n",
      "[DEBUG] Head 2 | iou.min=-0.0092, iou.max=0.7519, iou.mean=0.3311\n",
      "[DEBUG] Head 2 | ps[..., 4].sigmoid().mean = 0.0086\n"
     ]
    },
    {
     "name": "stderr",
     "output_type": "stream",
     "text": [
      "[YoloOW] Epoch 4/10:  29%|██▉       | 7/24 [00:07<00:18,  1.10s/it]"
     ]
    },
    {
     "name": "stdout",
     "output_type": "stream",
     "text": [
      "[DEBUG] Head 0 | iou.min=0.1907, iou.max=0.9533, iou.mean=0.5759\n",
      "[DEBUG] Head 0 | ps[..., 4].sigmoid().mean = 0.0012\n",
      "[DEBUG] Head 1 | iou.min=0.0866, iou.max=0.8507, iou.mean=0.4715\n",
      "[DEBUG] Head 1 | ps[..., 4].sigmoid().mean = 0.0048\n",
      "[DEBUG] Head 2 | iou.min=0.0516, iou.max=0.7414, iou.mean=0.3044\n",
      "[DEBUG] Head 2 | ps[..., 4].sigmoid().mean = 0.0097\n"
     ]
    },
    {
     "name": "stderr",
     "output_type": "stream",
     "text": [
      "[YoloOW] Epoch 4/10:  33%|███▎      | 8/24 [00:08<00:17,  1.09s/it]"
     ]
    },
    {
     "name": "stdout",
     "output_type": "stream",
     "text": [
      "[DEBUG] Head 0 | iou.min=0.1273, iou.max=0.8555, iou.mean=0.4775\n",
      "[DEBUG] Head 0 | ps[..., 4].sigmoid().mean = 0.0013\n",
      "[DEBUG] Head 1 | iou.min=0.1442, iou.max=0.7817, iou.mean=0.4316\n",
      "[DEBUG] Head 1 | ps[..., 4].sigmoid().mean = 0.0049\n",
      "[DEBUG] Head 2 | iou.min=0.0296, iou.max=0.9279, iou.mean=0.3615\n",
      "[DEBUG] Head 2 | ps[..., 4].sigmoid().mean = 0.0096\n"
     ]
    },
    {
     "name": "stderr",
     "output_type": "stream",
     "text": [
      "[YoloOW] Epoch 4/10:  38%|███▊      | 9/24 [00:09<00:16,  1.08s/it]"
     ]
    },
    {
     "name": "stdout",
     "output_type": "stream",
     "text": [
      "[DEBUG] Head 0 | iou.min=0.0901, iou.max=0.9010, iou.mean=0.4944\n",
      "[DEBUG] Head 0 | ps[..., 4].sigmoid().mean = 0.0013\n",
      "[DEBUG] Head 1 | iou.min=0.0756, iou.max=0.8316, iou.mean=0.4531\n",
      "[DEBUG] Head 1 | ps[..., 4].sigmoid().mean = 0.0051\n",
      "[DEBUG] Head 2 | iou.min=0.0391, iou.max=0.7209, iou.mean=0.3492\n",
      "[DEBUG] Head 2 | ps[..., 4].sigmoid().mean = 0.0104\n"
     ]
    },
    {
     "name": "stderr",
     "output_type": "stream",
     "text": [
      "[YoloOW] Epoch 4/10:  42%|████▏     | 10/24 [00:10<00:15,  1.09s/it, Loss=6.7053, box=0.085, obj=0.048, cls=0.286, total loss=0.419, lr=0.000675]"
     ]
    },
    {
     "name": "stdout",
     "output_type": "stream",
     "text": [
      "[DEBUG] Head 0 | iou.min=0.1945, iou.max=0.8343, iou.mean=0.4609\n",
      "[DEBUG] Head 0 | ps[..., 4].sigmoid().mean = 0.0013\n",
      "[DEBUG] Head 1 | iou.min=0.0807, iou.max=0.8799, iou.mean=0.3810\n",
      "[DEBUG] Head 1 | ps[..., 4].sigmoid().mean = 0.0051\n",
      "[DEBUG] Head 2 | iou.min=-0.0069, iou.max=0.8185, iou.mean=0.3300\n",
      "[DEBUG] Head 2 | ps[..., 4].sigmoid().mean = 0.0110\n"
     ]
    },
    {
     "name": "stderr",
     "output_type": "stream",
     "text": [
      "[YoloOW] Epoch 4/10:  46%|████▌     | 11/24 [00:11<00:13,  1.07s/it, Loss=6.7053, box=0.085, obj=0.048, cls=0.286, total loss=0.419, lr=0.000675]"
     ]
    },
    {
     "name": "stdout",
     "output_type": "stream",
     "text": [
      "[DEBUG] Head 0 | iou.min=0.1347, iou.max=0.8601, iou.mean=0.4273\n",
      "[DEBUG] Head 0 | ps[..., 4].sigmoid().mean = 0.0013\n",
      "[DEBUG] Head 1 | iou.min=0.0780, iou.max=0.8516, iou.mean=0.3627\n",
      "[DEBUG] Head 1 | ps[..., 4].sigmoid().mean = 0.0051\n",
      "[DEBUG] Head 2 | iou.min=-0.0374, iou.max=0.7600, iou.mean=0.3136\n",
      "[DEBUG] Head 2 | ps[..., 4].sigmoid().mean = 0.0117\n"
     ]
    },
    {
     "name": "stderr",
     "output_type": "stream",
     "text": [
      "[YoloOW] Epoch 4/10:  50%|█████     | 12/24 [00:12<00:12,  1.07s/it, Loss=6.7053, box=0.085, obj=0.048, cls=0.286, total loss=0.419, lr=0.000675]"
     ]
    },
    {
     "name": "stdout",
     "output_type": "stream",
     "text": [
      "[DEBUG] Head 0 | iou.min=0.1556, iou.max=0.8844, iou.mean=0.5788\n",
      "[DEBUG] Head 0 | ps[..., 4].sigmoid().mean = 0.0013\n",
      "[DEBUG] Head 1 | iou.min=0.1045, iou.max=0.9257, iou.mean=0.4592\n",
      "[DEBUG] Head 1 | ps[..., 4].sigmoid().mean = 0.0050\n",
      "[DEBUG] Head 2 | iou.min=-0.0287, iou.max=0.7150, iou.mean=0.2930\n",
      "[DEBUG] Head 2 | ps[..., 4].sigmoid().mean = 0.0124\n"
     ]
    },
    {
     "name": "stderr",
     "output_type": "stream",
     "text": [
      "[YoloOW] Epoch 4/10:  54%|█████▍    | 13/24 [00:14<00:12,  1.09s/it, Loss=6.7053, box=0.085, obj=0.048, cls=0.286, total loss=0.419, lr=0.000675]"
     ]
    },
    {
     "name": "stdout",
     "output_type": "stream",
     "text": [
      "[DEBUG] Head 0 | iou.min=0.2430, iou.max=0.9107, iou.mean=0.6057\n",
      "[DEBUG] Head 0 | ps[..., 4].sigmoid().mean = 0.0013\n",
      "[DEBUG] Head 1 | iou.min=0.0720, iou.max=0.9405, iou.mean=0.5156\n",
      "[DEBUG] Head 1 | ps[..., 4].sigmoid().mean = 0.0049\n",
      "[DEBUG] Head 2 | iou.min=0.0001, iou.max=0.8353, iou.mean=0.3108\n",
      "[DEBUG] Head 2 | ps[..., 4].sigmoid().mean = 0.0119\n"
     ]
    },
    {
     "name": "stderr",
     "output_type": "stream",
     "text": [
      "[YoloOW] Epoch 4/10:  58%|█████▊    | 14/24 [00:15<00:10,  1.08s/it, Loss=6.7053, box=0.085, obj=0.048, cls=0.286, total loss=0.419, lr=0.000675]"
     ]
    },
    {
     "name": "stdout",
     "output_type": "stream",
     "text": [
      "[DEBUG] Head 0 | iou.min=0.1319, iou.max=0.8958, iou.mean=0.4842\n",
      "[DEBUG] Head 0 | ps[..., 4].sigmoid().mean = 0.0013\n",
      "[DEBUG] Head 1 | iou.min=0.0807, iou.max=0.8213, iou.mean=0.3796\n",
      "[DEBUG] Head 1 | ps[..., 4].sigmoid().mean = 0.0048\n",
      "[DEBUG] Head 2 | iou.min=-0.0617, iou.max=0.7502, iou.mean=0.2884\n",
      "[DEBUG] Head 2 | ps[..., 4].sigmoid().mean = 0.0121\n"
     ]
    },
    {
     "name": "stderr",
     "output_type": "stream",
     "text": [
      "[YoloOW] Epoch 4/10:  62%|██████▎   | 15/24 [00:16<00:09,  1.08s/it, Loss=6.7053, box=0.085, obj=0.048, cls=0.286, total loss=0.419, lr=0.000675]"
     ]
    },
    {
     "name": "stdout",
     "output_type": "stream",
     "text": [
      "[DEBUG] Head 0 | iou.min=0.1777, iou.max=0.8940, iou.mean=0.4382\n",
      "[DEBUG] Head 0 | ps[..., 4].sigmoid().mean = 0.0013\n",
      "[DEBUG] Head 1 | iou.min=0.0914, iou.max=0.7969, iou.mean=0.3773\n",
      "[DEBUG] Head 1 | ps[..., 4].sigmoid().mean = 0.0047\n",
      "[DEBUG] Head 2 | iou.min=-0.0484, iou.max=0.8656, iou.mean=0.3262\n",
      "[DEBUG] Head 2 | ps[..., 4].sigmoid().mean = 0.0105\n"
     ]
    },
    {
     "name": "stderr",
     "output_type": "stream",
     "text": [
      "[YoloOW] Epoch 4/10:  67%|██████▋   | 16/24 [00:17<00:08,  1.10s/it, Loss=6.7053, box=0.085, obj=0.048, cls=0.286, total loss=0.419, lr=0.000675]"
     ]
    },
    {
     "name": "stdout",
     "output_type": "stream",
     "text": [
      "[DEBUG] Head 0 | iou.min=0.2040, iou.max=0.8902, iou.mean=0.5596\n",
      "[DEBUG] Head 0 | ps[..., 4].sigmoid().mean = 0.0013\n",
      "[DEBUG] Head 1 | iou.min=0.0916, iou.max=0.8318, iou.mean=0.4880\n",
      "[DEBUG] Head 1 | ps[..., 4].sigmoid().mean = 0.0046\n",
      "[DEBUG] Head 2 | iou.min=0.0259, iou.max=0.8874, iou.mean=0.3467\n",
      "[DEBUG] Head 2 | ps[..., 4].sigmoid().mean = 0.0101\n"
     ]
    },
    {
     "name": "stderr",
     "output_type": "stream",
     "text": [
      "[YoloOW] Epoch 4/10:  71%|███████   | 17/24 [00:18<00:07,  1.09s/it, Loss=6.7053, box=0.085, obj=0.048, cls=0.286, total loss=0.419, lr=0.000675]"
     ]
    },
    {
     "name": "stdout",
     "output_type": "stream",
     "text": [
      "[DEBUG] Head 0 | iou.min=0.1904, iou.max=0.9190, iou.mean=0.5623\n",
      "[DEBUG] Head 0 | ps[..., 4].sigmoid().mean = 0.0013\n",
      "[DEBUG] Head 1 | iou.min=0.1114, iou.max=0.8616, iou.mean=0.4658\n",
      "[DEBUG] Head 1 | ps[..., 4].sigmoid().mean = 0.0045\n",
      "[DEBUG] Head 2 | iou.min=-0.0292, iou.max=0.9041, iou.mean=0.3219\n",
      "[DEBUG] Head 2 | ps[..., 4].sigmoid().mean = 0.0100\n"
     ]
    },
    {
     "name": "stderr",
     "output_type": "stream",
     "text": [
      "[YoloOW] Epoch 4/10:  75%|███████▌  | 18/24 [00:19<00:06,  1.09s/it, Loss=6.7053, box=0.085, obj=0.048, cls=0.286, total loss=0.419, lr=0.000675]"
     ]
    },
    {
     "name": "stdout",
     "output_type": "stream",
     "text": [
      "[DEBUG] Head 0 | iou.min=0.1488, iou.max=0.8242, iou.mean=0.4940\n",
      "[DEBUG] Head 0 | ps[..., 4].sigmoid().mean = 0.0013\n",
      "[DEBUG] Head 1 | iou.min=0.0698, iou.max=0.8820, iou.mean=0.4330\n",
      "[DEBUG] Head 1 | ps[..., 4].sigmoid().mean = 0.0044\n",
      "[DEBUG] Head 2 | iou.min=-0.0381, iou.max=0.8790, iou.mean=0.3471\n",
      "[DEBUG] Head 2 | ps[..., 4].sigmoid().mean = 0.0106\n"
     ]
    },
    {
     "name": "stderr",
     "output_type": "stream",
     "text": [
      "[YoloOW] Epoch 4/10:  79%|███████▉  | 19/24 [00:20<00:05,  1.09s/it, Loss=6.7053, box=0.085, obj=0.048, cls=0.286, total loss=0.419, lr=0.000675]"
     ]
    },
    {
     "name": "stdout",
     "output_type": "stream",
     "text": [
      "[DEBUG] Head 0 | iou.min=0.1480, iou.max=0.8976, iou.mean=0.5787\n",
      "[DEBUG] Head 0 | ps[..., 4].sigmoid().mean = 0.0013\n",
      "[DEBUG] Head 1 | iou.min=0.1029, iou.max=0.8111, iou.mean=0.4851\n",
      "[DEBUG] Head 1 | ps[..., 4].sigmoid().mean = 0.0043\n",
      "[DEBUG] Head 2 | iou.min=0.0471, iou.max=0.8637, iou.mean=0.3367\n",
      "[DEBUG] Head 2 | ps[..., 4].sigmoid().mean = 0.0107\n"
     ]
    },
    {
     "name": "stderr",
     "output_type": "stream",
     "text": [
      "[YoloOW] Epoch 4/10:  83%|████████▎ | 20/24 [00:21<00:04,  1.08s/it, Loss=6.7141, box=0.080, obj=0.060, cls=0.280, total loss=0.420, lr=0.000758]"
     ]
    },
    {
     "name": "stdout",
     "output_type": "stream",
     "text": [
      "[DEBUG] Head 0 | iou.min=0.2302, iou.max=0.9127, iou.mean=0.5452\n",
      "[DEBUG] Head 0 | ps[..., 4].sigmoid().mean = 0.0012\n",
      "[DEBUG] Head 1 | iou.min=0.0934, iou.max=0.8314, iou.mean=0.4550\n",
      "[DEBUG] Head 1 | ps[..., 4].sigmoid().mean = 0.0042\n",
      "[DEBUG] Head 2 | iou.min=0.0115, iou.max=0.8385, iou.mean=0.3425\n",
      "[DEBUG] Head 2 | ps[..., 4].sigmoid().mean = 0.0103\n"
     ]
    },
    {
     "name": "stderr",
     "output_type": "stream",
     "text": [
      "[YoloOW] Epoch 4/10:  88%|████████▊ | 21/24 [00:22<00:03,  1.08s/it, Loss=6.7141, box=0.080, obj=0.060, cls=0.280, total loss=0.420, lr=0.000758]"
     ]
    },
    {
     "name": "stdout",
     "output_type": "stream",
     "text": [
      "[DEBUG] Head 0 | iou.min=0.1551, iou.max=0.9123, iou.mean=0.4913\n",
      "[DEBUG] Head 0 | ps[..., 4].sigmoid().mean = 0.0012\n",
      "[DEBUG] Head 1 | iou.min=0.1077, iou.max=0.8364, iou.mean=0.3977\n",
      "[DEBUG] Head 1 | ps[..., 4].sigmoid().mean = 0.0041\n",
      "[DEBUG] Head 2 | iou.min=-0.0475, iou.max=0.7565, iou.mean=0.2905\n",
      "[DEBUG] Head 2 | ps[..., 4].sigmoid().mean = 0.0107\n"
     ]
    },
    {
     "name": "stderr",
     "output_type": "stream",
     "text": [
      "[YoloOW] Epoch 4/10:  92%|█████████▏| 22/24 [00:23<00:02,  1.09s/it, Loss=6.7141, box=0.080, obj=0.060, cls=0.280, total loss=0.420, lr=0.000758]"
     ]
    },
    {
     "name": "stdout",
     "output_type": "stream",
     "text": [
      "[DEBUG] Head 0 | iou.min=0.1851, iou.max=0.9285, iou.mean=0.5076\n",
      "[DEBUG] Head 0 | ps[..., 4].sigmoid().mean = 0.0012\n",
      "[DEBUG] Head 1 | iou.min=0.1365, iou.max=0.7863, iou.mean=0.4268\n",
      "[DEBUG] Head 1 | ps[..., 4].sigmoid().mean = 0.0040\n",
      "[DEBUG] Head 2 | iou.min=-0.0122, iou.max=0.8254, iou.mean=0.2823\n",
      "[DEBUG] Head 2 | ps[..., 4].sigmoid().mean = 0.0107\n"
     ]
    },
    {
     "name": "stderr",
     "output_type": "stream",
     "text": [
      "[YoloOW] Epoch 4/10:  96%|█████████▌| 23/24 [00:24<00:01,  1.09s/it, Loss=6.7141, box=0.080, obj=0.060, cls=0.280, total loss=0.420, lr=0.000758]"
     ]
    },
    {
     "name": "stdout",
     "output_type": "stream",
     "text": [
      "[DEBUG] Head 0 | iou.min=0.1005, iou.max=0.9348, iou.mean=0.4928\n",
      "[DEBUG] Head 0 | ps[..., 4].sigmoid().mean = 0.0012\n",
      "[DEBUG] Head 1 | iou.min=0.0608, iou.max=0.9090, iou.mean=0.4156\n",
      "[DEBUG] Head 1 | ps[..., 4].sigmoid().mean = 0.0041\n",
      "[DEBUG] Head 2 | iou.min=-0.0259, iou.max=0.8099, iou.mean=0.3462\n",
      "[DEBUG] Head 2 | ps[..., 4].sigmoid().mean = 0.0103\n"
     ]
    },
    {
     "name": "stderr",
     "output_type": "stream",
     "text": [
      "[YoloOW] Epoch 4/10: 100%|██████████| 24/24 [00:26<00:00,  1.09s/it, Loss=6.6040, box=0.087, obj=0.066, cls=0.260, total loss=0.413, lr=0.000792]\n"
     ]
    },
    {
     "name": "stdout",
     "output_type": "stream",
     "text": [
      "\n",
      "[YoloOW] ✅ Epoch 4/10 complete in 26.07s | Avg Loss: 6.7157\n",
      "\n",
      "[YoloOW] 📊 Running evaluation after epoch 4 ...\n",
      "[DEBUG] Head 0 | iou.min=0.1768, iou.max=0.9414, iou.mean=0.5302\n",
      "[DEBUG] Head 0 | ps[..., 4].sigmoid().mean = 0.0012\n",
      "[DEBUG] Head 1 | iou.min=0.1455, iou.max=0.9308, iou.mean=0.4431\n",
      "[DEBUG] Head 1 | ps[..., 4].sigmoid().mean = 0.0041\n",
      "[DEBUG] Head 2 | iou.min=0.0109, iou.max=0.6942, iou.mean=0.3271\n",
      "[DEBUG] Head 2 | ps[..., 4].sigmoid().mean = 0.0099\n",
      "[DEBUG] Head 0 | iou.min=0.1738, iou.max=0.9021, iou.mean=0.5018\n",
      "[DEBUG] Head 0 | ps[..., 4].sigmoid().mean = 0.0012\n",
      "[DEBUG] Head 1 | iou.min=0.0634, iou.max=0.8896, iou.mean=0.4262\n",
      "[DEBUG] Head 1 | ps[..., 4].sigmoid().mean = 0.0041\n",
      "[DEBUG] Head 2 | iou.min=-0.0208, iou.max=0.8659, iou.mean=0.3133\n",
      "[DEBUG] Head 2 | ps[..., 4].sigmoid().mean = 0.0099\n",
      "[DEBUG] Head 0 | iou.min=0.2164, iou.max=0.8838, iou.mean=0.4933\n",
      "[DEBUG] Head 0 | ps[..., 4].sigmoid().mean = 0.0012\n",
      "[DEBUG] Head 1 | iou.min=0.0624, iou.max=0.9030, iou.mean=0.4157\n",
      "[DEBUG] Head 1 | ps[..., 4].sigmoid().mean = 0.0041\n",
      "[DEBUG] Head 2 | iou.min=0.0002, iou.max=0.8862, iou.mean=0.3110\n",
      "[DEBUG] Head 2 | ps[..., 4].sigmoid().mean = 0.0097\n",
      "[DEBUG] Head 0 | iou.min=0.1736, iou.max=0.8897, iou.mean=0.5616\n",
      "[DEBUG] Head 0 | ps[..., 4].sigmoid().mean = 0.0012\n",
      "[DEBUG] Head 1 | iou.min=0.0960, iou.max=0.8106, iou.mean=0.4879\n",
      "[DEBUG] Head 1 | ps[..., 4].sigmoid().mean = 0.0041\n",
      "[DEBUG] Head 2 | iou.min=0.0472, iou.max=0.8632, iou.mean=0.3438\n",
      "[DEBUG] Head 2 | ps[..., 4].sigmoid().mean = 0.0094\n",
      "[DEBUG] Head 0 | iou.min=0.1836, iou.max=0.8930, iou.mean=0.6030\n",
      "[DEBUG] Head 0 | ps[..., 4].sigmoid().mean = 0.0012\n",
      "[DEBUG] Head 1 | iou.min=0.2114, iou.max=0.9059, iou.mean=0.5233\n",
      "[DEBUG] Head 1 | ps[..., 4].sigmoid().mean = 0.0041\n",
      "[DEBUG] Head 2 | iou.min=0.0781, iou.max=0.8588, iou.mean=0.3498\n",
      "[DEBUG] Head 2 | ps[..., 4].sigmoid().mean = 0.0094\n",
      "[DEBUG] Head 0 | iou.min=0.2979, iou.max=0.9053, iou.mean=0.5491\n",
      "[DEBUG] Head 0 | ps[..., 4].sigmoid().mean = 0.0012\n",
      "[DEBUG] Head 1 | iou.min=0.0805, iou.max=0.8775, iou.mean=0.4477\n",
      "[DEBUG] Head 1 | ps[..., 4].sigmoid().mean = 0.0041\n",
      "[DEBUG] Head 2 | iou.min=0.0149, iou.max=0.7737, iou.mean=0.2774\n",
      "[DEBUG] Head 2 | ps[..., 4].sigmoid().mean = 0.0097\n",
      "[DEBUG] Head 0 | iou.min=0.2054, iou.max=0.8900, iou.mean=0.4563\n",
      "[DEBUG] Head 0 | ps[..., 4].sigmoid().mean = 0.0012\n",
      "[DEBUG] Head 1 | iou.min=0.1012, iou.max=0.8285, iou.mean=0.3924\n",
      "[DEBUG] Head 1 | ps[..., 4].sigmoid().mean = 0.0041\n",
      "[DEBUG] Head 2 | iou.min=-0.0414, iou.max=0.8281, iou.mean=0.3402\n",
      "[DEBUG] Head 2 | ps[..., 4].sigmoid().mean = 0.0099\n",
      "[DEBUG] Head 0 | iou.min=0.1107, iou.max=0.8635, iou.mean=0.3901\n",
      "[DEBUG] Head 0 | ps[..., 4].sigmoid().mean = 0.0012\n",
      "[DEBUG] Head 1 | iou.min=0.0581, iou.max=0.7891, iou.mean=0.3209\n",
      "[DEBUG] Head 1 | ps[..., 4].sigmoid().mean = 0.0041\n",
      "[DEBUG] Head 2 | iou.min=-0.0074, iou.max=0.8221, iou.mean=0.2709\n",
      "[DEBUG] Head 2 | ps[..., 4].sigmoid().mean = 0.0104\n",
      "[DEBUG] Head 0 | iou.min=0.2881, iou.max=0.6964, iou.mean=0.5216\n",
      "[DEBUG] Head 0 | ps[..., 4].sigmoid().mean = 0.0012\n",
      "[DEBUG] Head 1 | iou.min=0.0807, iou.max=0.6870, iou.mean=0.4721\n",
      "[DEBUG] Head 1 | ps[..., 4].sigmoid().mean = 0.0041\n",
      "[DEBUG] Head 2 | iou.min=0.0998, iou.max=0.8577, iou.mean=0.3762\n",
      "[DEBUG] Head 2 | ps[..., 4].sigmoid().mean = 0.0090\n",
      "[validate_yoloow_model] ✅  Avg Loss  (box/obj/cls/total): 0.0864 / 0.0707 / 0.2759 / 0.4330\n"
     ]
    },
    {
     "name": "stderr",
     "output_type": "stream",
     "text": [
      "[YoloOW] Epoch 5/10:   0%|          | 0/24 [00:00<?, ?it/s]"
     ]
    },
    {
     "name": "stdout",
     "output_type": "stream",
     "text": [
      "[DEBUG] Head 0 | iou.min=0.1707, iou.max=0.9085, iou.mean=0.5726\n",
      "[DEBUG] Head 0 | ps[..., 4].sigmoid().mean = 0.0012\n",
      "[DEBUG] Head 1 | iou.min=0.0812, iou.max=0.8912, iou.mean=0.4854\n",
      "[DEBUG] Head 1 | ps[..., 4].sigmoid().mean = 0.0041\n",
      "[DEBUG] Head 2 | iou.min=0.0055, iou.max=0.7862, iou.mean=0.3419\n",
      "[DEBUG] Head 2 | ps[..., 4].sigmoid().mean = 0.0095\n"
     ]
    },
    {
     "name": "stderr",
     "output_type": "stream",
     "text": [
      "[YoloOW] Epoch 5/10:   4%|▍         | 1/24 [00:01<00:25,  1.12s/it]"
     ]
    },
    {
     "name": "stdout",
     "output_type": "stream",
     "text": [
      "[DEBUG] Head 0 | iou.min=0.1799, iou.max=0.9098, iou.mean=0.4639\n",
      "[DEBUG] Head 0 | ps[..., 4].sigmoid().mean = 0.0012\n",
      "[DEBUG] Head 1 | iou.min=0.1060, iou.max=0.8381, iou.mean=0.3918\n",
      "[DEBUG] Head 1 | ps[..., 4].sigmoid().mean = 0.0041\n",
      "[DEBUG] Head 2 | iou.min=-0.0121, iou.max=0.7428, iou.mean=0.2947\n",
      "[DEBUG] Head 2 | ps[..., 4].sigmoid().mean = 0.0095\n"
     ]
    },
    {
     "name": "stderr",
     "output_type": "stream",
     "text": [
      "[YoloOW] Epoch 5/10:   8%|▊         | 2/24 [00:02<00:23,  1.08s/it]"
     ]
    },
    {
     "name": "stdout",
     "output_type": "stream",
     "text": [
      "[DEBUG] Head 0 | iou.min=0.2259, iou.max=0.8549, iou.mean=0.5436\n",
      "[DEBUG] Head 0 | ps[..., 4].sigmoid().mean = 0.0012\n",
      "[DEBUG] Head 1 | iou.min=0.1015, iou.max=0.8814, iou.mean=0.4497\n",
      "[DEBUG] Head 1 | ps[..., 4].sigmoid().mean = 0.0041\n",
      "[DEBUG] Head 2 | iou.min=-0.0283, iou.max=0.7032, iou.mean=0.2979\n",
      "[DEBUG] Head 2 | ps[..., 4].sigmoid().mean = 0.0091\n"
     ]
    },
    {
     "name": "stderr",
     "output_type": "stream",
     "text": [
      "[YoloOW] Epoch 5/10:  12%|█▎        | 3/24 [00:03<00:22,  1.07s/it]"
     ]
    },
    {
     "name": "stdout",
     "output_type": "stream",
     "text": [
      "[DEBUG] Head 0 | iou.min=0.0953, iou.max=0.8604, iou.mean=0.5372\n",
      "[DEBUG] Head 0 | ps[..., 4].sigmoid().mean = 0.0012\n",
      "[DEBUG] Head 1 | iou.min=0.0578, iou.max=0.8050, iou.mean=0.4503\n",
      "[DEBUG] Head 1 | ps[..., 4].sigmoid().mean = 0.0040\n",
      "[DEBUG] Head 2 | iou.min=0.0441, iou.max=0.8889, iou.mean=0.3572\n",
      "[DEBUG] Head 2 | ps[..., 4].sigmoid().mean = 0.0088\n"
     ]
    },
    {
     "name": "stderr",
     "output_type": "stream",
     "text": [
      "[YoloOW] Epoch 5/10:  17%|█▋        | 4/24 [00:04<00:21,  1.09s/it]"
     ]
    },
    {
     "name": "stdout",
     "output_type": "stream",
     "text": [
      "[DEBUG] Head 0 | iou.min=0.1248, iou.max=0.8283, iou.mean=0.4577\n",
      "[DEBUG] Head 0 | ps[..., 4].sigmoid().mean = 0.0011\n",
      "[DEBUG] Head 1 | iou.min=0.0667, iou.max=0.7982, iou.mean=0.4011\n",
      "[DEBUG] Head 1 | ps[..., 4].sigmoid().mean = 0.0040\n",
      "[DEBUG] Head 2 | iou.min=0.0162, iou.max=0.9052, iou.mean=0.3537\n",
      "[DEBUG] Head 2 | ps[..., 4].sigmoid().mean = 0.0094\n"
     ]
    },
    {
     "name": "stderr",
     "output_type": "stream",
     "text": [
      "[YoloOW] Epoch 5/10:  21%|██        | 5/24 [00:05<00:20,  1.09s/it]"
     ]
    },
    {
     "name": "stdout",
     "output_type": "stream",
     "text": [
      "[DEBUG] Head 0 | iou.min=0.2165, iou.max=0.9354, iou.mean=0.4815\n",
      "[DEBUG] Head 0 | ps[..., 4].sigmoid().mean = 0.0011\n",
      "[DEBUG] Head 1 | iou.min=0.0920, iou.max=0.7823, iou.mean=0.3635\n",
      "[DEBUG] Head 1 | ps[..., 4].sigmoid().mean = 0.0040\n",
      "[DEBUG] Head 2 | iou.min=-0.0033, iou.max=0.7821, iou.mean=0.2449\n",
      "[DEBUG] Head 2 | ps[..., 4].sigmoid().mean = 0.0106\n"
     ]
    },
    {
     "name": "stderr",
     "output_type": "stream",
     "text": [
      "[YoloOW] Epoch 5/10:  25%|██▌       | 6/24 [00:06<00:19,  1.08s/it]"
     ]
    },
    {
     "name": "stdout",
     "output_type": "stream",
     "text": [
      "[DEBUG] Head 0 | iou.min=0.1232, iou.max=0.8836, iou.mean=0.4941\n",
      "[DEBUG] Head 0 | ps[..., 4].sigmoid().mean = 0.0011\n",
      "[DEBUG] Head 1 | iou.min=0.1181, iou.max=0.8584, iou.mean=0.3924\n",
      "[DEBUG] Head 1 | ps[..., 4].sigmoid().mean = 0.0040\n",
      "[DEBUG] Head 2 | iou.min=-0.0014, iou.max=0.8714, iou.mean=0.3269\n",
      "[DEBUG] Head 2 | ps[..., 4].sigmoid().mean = 0.0107\n"
     ]
    },
    {
     "name": "stderr",
     "output_type": "stream",
     "text": [
      "[YoloOW] Epoch 5/10:  29%|██▉       | 7/24 [00:07<00:18,  1.09s/it]"
     ]
    },
    {
     "name": "stdout",
     "output_type": "stream",
     "text": [
      "[DEBUG] Head 0 | iou.min=0.1813, iou.max=0.8441, iou.mean=0.5237\n",
      "[DEBUG] Head 0 | ps[..., 4].sigmoid().mean = 0.0011\n",
      "[DEBUG] Head 1 | iou.min=0.0793, iou.max=0.7528, iou.mean=0.4385\n",
      "[DEBUG] Head 1 | ps[..., 4].sigmoid().mean = 0.0040\n",
      "[DEBUG] Head 2 | iou.min=0.0323, iou.max=0.8885, iou.mean=0.3294\n",
      "[DEBUG] Head 2 | ps[..., 4].sigmoid().mean = 0.0105\n"
     ]
    },
    {
     "name": "stderr",
     "output_type": "stream",
     "text": [
      "[YoloOW] Epoch 5/10:  33%|███▎      | 8/24 [00:08<00:17,  1.06s/it]"
     ]
    },
    {
     "name": "stdout",
     "output_type": "stream",
     "text": [
      "[DEBUG] Head 0 | iou.min=0.1366, iou.max=0.9017, iou.mean=0.4370\n",
      "[DEBUG] Head 0 | ps[..., 4].sigmoid().mean = 0.0011\n",
      "[DEBUG] Head 1 | iou.min=0.0737, iou.max=0.8963, iou.mean=0.3879\n",
      "[DEBUG] Head 1 | ps[..., 4].sigmoid().mean = 0.0040\n",
      "[DEBUG] Head 2 | iou.min=-0.0370, iou.max=0.8759, iou.mean=0.2994\n",
      "[DEBUG] Head 2 | ps[..., 4].sigmoid().mean = 0.0116\n"
     ]
    },
    {
     "name": "stderr",
     "output_type": "stream",
     "text": [
      "[YoloOW] Epoch 5/10:  38%|███▊      | 9/24 [00:09<00:15,  1.06s/it]"
     ]
    },
    {
     "name": "stdout",
     "output_type": "stream",
     "text": [
      "[DEBUG] Head 0 | iou.min=0.1677, iou.max=0.9122, iou.mean=0.5550\n",
      "[DEBUG] Head 0 | ps[..., 4].sigmoid().mean = 0.0011\n",
      "[DEBUG] Head 1 | iou.min=0.1316, iou.max=0.8463, iou.mean=0.4710\n",
      "[DEBUG] Head 1 | ps[..., 4].sigmoid().mean = 0.0041\n",
      "[DEBUG] Head 2 | iou.min=-0.0190, iou.max=0.8482, iou.mean=0.3276\n",
      "[DEBUG] Head 2 | ps[..., 4].sigmoid().mean = 0.0109\n"
     ]
    },
    {
     "name": "stderr",
     "output_type": "stream",
     "text": [
      "[YoloOW] Epoch 5/10:  42%|████▏     | 10/24 [00:10<00:15,  1.08s/it, Loss=6.5903, box=0.082, obj=0.067, cls=0.262, total loss=0.412, lr=0.000875]"
     ]
    },
    {
     "name": "stdout",
     "output_type": "stream",
     "text": [
      "[DEBUG] Head 0 | iou.min=0.1609, iou.max=0.9065, iou.mean=0.4630\n",
      "[DEBUG] Head 0 | ps[..., 4].sigmoid().mean = 0.0011\n",
      "[DEBUG] Head 1 | iou.min=0.1000, iou.max=0.8911, iou.mean=0.4016\n",
      "[DEBUG] Head 1 | ps[..., 4].sigmoid().mean = 0.0042\n",
      "[DEBUG] Head 2 | iou.min=-0.0467, iou.max=0.8470, iou.mean=0.3521\n",
      "[DEBUG] Head 2 | ps[..., 4].sigmoid().mean = 0.0102\n"
     ]
    },
    {
     "name": "stderr",
     "output_type": "stream",
     "text": [
      "[YoloOW] Epoch 5/10:  46%|████▌     | 11/24 [00:11<00:13,  1.07s/it, Loss=6.5903, box=0.082, obj=0.067, cls=0.262, total loss=0.412, lr=0.000875]"
     ]
    },
    {
     "name": "stdout",
     "output_type": "stream",
     "text": [
      "[DEBUG] Head 0 | iou.min=0.1303, iou.max=0.9623, iou.mean=0.5375\n",
      "[DEBUG] Head 0 | ps[..., 4].sigmoid().mean = 0.0011\n",
      "[DEBUG] Head 1 | iou.min=0.1575, iou.max=0.9031, iou.mean=0.4469\n",
      "[DEBUG] Head 1 | ps[..., 4].sigmoid().mean = 0.0042\n",
      "[DEBUG] Head 2 | iou.min=0.0348, iou.max=0.8197, iou.mean=0.3377\n",
      "[DEBUG] Head 2 | ps[..., 4].sigmoid().mean = 0.0097\n"
     ]
    },
    {
     "name": "stderr",
     "output_type": "stream",
     "text": [
      "[YoloOW] Epoch 5/10:  50%|█████     | 12/24 [00:12<00:12,  1.08s/it, Loss=6.5903, box=0.082, obj=0.067, cls=0.262, total loss=0.412, lr=0.000875]"
     ]
    },
    {
     "name": "stdout",
     "output_type": "stream",
     "text": [
      "[DEBUG] Head 0 | iou.min=0.0957, iou.max=0.9194, iou.mean=0.4901\n",
      "[DEBUG] Head 0 | ps[..., 4].sigmoid().mean = 0.0011\n",
      "[DEBUG] Head 1 | iou.min=0.0585, iou.max=0.8522, iou.mean=0.3627\n",
      "[DEBUG] Head 1 | ps[..., 4].sigmoid().mean = 0.0042\n",
      "[DEBUG] Head 2 | iou.min=-0.0223, iou.max=0.8465, iou.mean=0.2175\n",
      "[DEBUG] Head 2 | ps[..., 4].sigmoid().mean = 0.0100\n"
     ]
    },
    {
     "name": "stderr",
     "output_type": "stream",
     "text": [
      "[YoloOW] Epoch 5/10:  54%|█████▍    | 13/24 [00:14<00:12,  1.10s/it, Loss=6.5903, box=0.082, obj=0.067, cls=0.262, total loss=0.412, lr=0.000875]"
     ]
    },
    {
     "name": "stdout",
     "output_type": "stream",
     "text": [
      "[DEBUG] Head 0 | iou.min=0.1847, iou.max=0.8895, iou.mean=0.5411\n",
      "[DEBUG] Head 0 | ps[..., 4].sigmoid().mean = 0.0012\n",
      "[DEBUG] Head 1 | iou.min=0.0961, iou.max=0.8231, iou.mean=0.4700\n",
      "[DEBUG] Head 1 | ps[..., 4].sigmoid().mean = 0.0044\n",
      "[DEBUG] Head 2 | iou.min=-0.0107, iou.max=0.8818, iou.mean=0.3549\n",
      "[DEBUG] Head 2 | ps[..., 4].sigmoid().mean = 0.0090\n"
     ]
    },
    {
     "name": "stderr",
     "output_type": "stream",
     "text": [
      "[YoloOW] Epoch 5/10:  58%|█████▊    | 14/24 [00:15<00:10,  1.08s/it, Loss=6.5903, box=0.082, obj=0.067, cls=0.262, total loss=0.412, lr=0.000875]"
     ]
    },
    {
     "name": "stdout",
     "output_type": "stream",
     "text": [
      "[DEBUG] Head 0 | iou.min=0.1480, iou.max=0.8830, iou.mean=0.4956\n",
      "[DEBUG] Head 0 | ps[..., 4].sigmoid().mean = 0.0012\n",
      "[DEBUG] Head 1 | iou.min=0.0893, iou.max=0.8618, iou.mean=0.4208\n",
      "[DEBUG] Head 1 | ps[..., 4].sigmoid().mean = 0.0045\n",
      "[DEBUG] Head 2 | iou.min=0.0043, iou.max=0.9097, iou.mean=0.3638\n",
      "[DEBUG] Head 2 | ps[..., 4].sigmoid().mean = 0.0091\n"
     ]
    },
    {
     "name": "stderr",
     "output_type": "stream",
     "text": [
      "[YoloOW] Epoch 5/10:  62%|██████▎   | 15/24 [00:16<00:09,  1.08s/it, Loss=6.5903, box=0.082, obj=0.067, cls=0.262, total loss=0.412, lr=0.000875]"
     ]
    },
    {
     "name": "stdout",
     "output_type": "stream",
     "text": [
      "[DEBUG] Head 0 | iou.min=0.1621, iou.max=0.9233, iou.mean=0.4524\n",
      "[DEBUG] Head 0 | ps[..., 4].sigmoid().mean = 0.0013\n",
      "[DEBUG] Head 1 | iou.min=0.0935, iou.max=0.8823, iou.mean=0.3717\n",
      "[DEBUG] Head 1 | ps[..., 4].sigmoid().mean = 0.0046\n",
      "[DEBUG] Head 2 | iou.min=-0.0456, iou.max=0.7296, iou.mean=0.2777\n",
      "[DEBUG] Head 2 | ps[..., 4].sigmoid().mean = 0.0096\n"
     ]
    },
    {
     "name": "stderr",
     "output_type": "stream",
     "text": [
      "[YoloOW] Epoch 5/10:  67%|██████▋   | 16/24 [00:17<00:08,  1.10s/it, Loss=6.5903, box=0.082, obj=0.067, cls=0.262, total loss=0.412, lr=0.000875]"
     ]
    },
    {
     "name": "stdout",
     "output_type": "stream",
     "text": [
      "[DEBUG] Head 0 | iou.min=0.1909, iou.max=0.9221, iou.mean=0.5937\n",
      "[DEBUG] Head 0 | ps[..., 4].sigmoid().mean = 0.0013\n",
      "[DEBUG] Head 1 | iou.min=0.1322, iou.max=0.8571, iou.mean=0.5123\n",
      "[DEBUG] Head 1 | ps[..., 4].sigmoid().mean = 0.0048\n",
      "[DEBUG] Head 2 | iou.min=0.0510, iou.max=0.7701, iou.mean=0.3790\n",
      "[DEBUG] Head 2 | ps[..., 4].sigmoid().mean = 0.0092\n"
     ]
    },
    {
     "name": "stderr",
     "output_type": "stream",
     "text": [
      "[YoloOW] Epoch 5/10:  71%|███████   | 17/24 [00:18<00:07,  1.07s/it, Loss=6.5903, box=0.082, obj=0.067, cls=0.262, total loss=0.412, lr=0.000875]"
     ]
    },
    {
     "name": "stdout",
     "output_type": "stream",
     "text": [
      "[DEBUG] Head 0 | iou.min=0.1924, iou.max=0.8981, iou.mean=0.5499\n",
      "[DEBUG] Head 0 | ps[..., 4].sigmoid().mean = 0.0014\n",
      "[DEBUG] Head 1 | iou.min=0.0869, iou.max=0.8762, iou.mean=0.4542\n",
      "[DEBUG] Head 1 | ps[..., 4].sigmoid().mean = 0.0049\n",
      "[DEBUG] Head 2 | iou.min=0.0306, iou.max=0.8219, iou.mean=0.3255\n",
      "[DEBUG] Head 2 | ps[..., 4].sigmoid().mean = 0.0094\n"
     ]
    },
    {
     "name": "stderr",
     "output_type": "stream",
     "text": [
      "[YoloOW] Epoch 5/10:  75%|███████▌  | 18/24 [00:19<00:06,  1.06s/it, Loss=6.5903, box=0.082, obj=0.067, cls=0.262, total loss=0.412, lr=0.000875]"
     ]
    },
    {
     "name": "stdout",
     "output_type": "stream",
     "text": [
      "[DEBUG] Head 0 | iou.min=0.2207, iou.max=0.8995, iou.mean=0.5468\n",
      "[DEBUG] Head 0 | ps[..., 4].sigmoid().mean = 0.0015\n",
      "[DEBUG] Head 1 | iou.min=0.0877, iou.max=0.8385, iou.mean=0.4649\n",
      "[DEBUG] Head 1 | ps[..., 4].sigmoid().mean = 0.0051\n",
      "[DEBUG] Head 2 | iou.min=0.0342, iou.max=0.8851, iou.mean=0.3506\n",
      "[DEBUG] Head 2 | ps[..., 4].sigmoid().mean = 0.0098\n"
     ]
    },
    {
     "name": "stderr",
     "output_type": "stream",
     "text": [
      "[YoloOW] Epoch 5/10:  79%|███████▉  | 19/24 [00:20<00:05,  1.08s/it, Loss=6.5903, box=0.082, obj=0.067, cls=0.262, total loss=0.412, lr=0.000875]"
     ]
    },
    {
     "name": "stdout",
     "output_type": "stream",
     "text": [
      "[DEBUG] Head 0 | iou.min=0.1739, iou.max=0.9199, iou.mean=0.5685\n",
      "[DEBUG] Head 0 | ps[..., 4].sigmoid().mean = 0.0015\n",
      "[DEBUG] Head 1 | iou.min=0.1373, iou.max=0.9565, iou.mean=0.4866\n",
      "[DEBUG] Head 1 | ps[..., 4].sigmoid().mean = 0.0052\n",
      "[DEBUG] Head 2 | iou.min=0.0283, iou.max=0.8271, iou.mean=0.3538\n",
      "[DEBUG] Head 2 | ps[..., 4].sigmoid().mean = 0.0105\n"
     ]
    },
    {
     "name": "stderr",
     "output_type": "stream",
     "text": [
      "[YoloOW] Epoch 5/10:  83%|████████▎ | 20/24 [00:21<00:04,  1.07s/it, Loss=6.8480, box=0.080, obj=0.067, cls=0.281, total loss=0.428, lr=0.000958]"
     ]
    },
    {
     "name": "stdout",
     "output_type": "stream",
     "text": [
      "[DEBUG] Head 0 | iou.min=0.2390, iou.max=0.8737, iou.mean=0.5537\n",
      "[DEBUG] Head 0 | ps[..., 4].sigmoid().mean = 0.0015\n",
      "[DEBUG] Head 1 | iou.min=0.1072, iou.max=0.8953, iou.mean=0.4633\n",
      "[DEBUG] Head 1 | ps[..., 4].sigmoid().mean = 0.0053\n",
      "[DEBUG] Head 2 | iou.min=-0.0179, iou.max=0.7539, iou.mean=0.3140\n",
      "[DEBUG] Head 2 | ps[..., 4].sigmoid().mean = 0.0112\n"
     ]
    },
    {
     "name": "stderr",
     "output_type": "stream",
     "text": [
      "[YoloOW] Epoch 5/10:  88%|████████▊ | 21/24 [00:22<00:03,  1.06s/it, Loss=6.8480, box=0.080, obj=0.067, cls=0.281, total loss=0.428, lr=0.000958]"
     ]
    },
    {
     "name": "stdout",
     "output_type": "stream",
     "text": [
      "[DEBUG] Head 0 | iou.min=0.1725, iou.max=0.8790, iou.mean=0.5084\n",
      "[DEBUG] Head 0 | ps[..., 4].sigmoid().mean = 0.0014\n",
      "[DEBUG] Head 1 | iou.min=0.0772, iou.max=0.8406, iou.mean=0.4168\n",
      "[DEBUG] Head 1 | ps[..., 4].sigmoid().mean = 0.0053\n",
      "[DEBUG] Head 2 | iou.min=-0.0175, iou.max=0.7047, iou.mean=0.3049\n",
      "[DEBUG] Head 2 | ps[..., 4].sigmoid().mean = 0.0118\n"
     ]
    },
    {
     "name": "stderr",
     "output_type": "stream",
     "text": [
      "[YoloOW] Epoch 5/10:  92%|█████████▏| 22/24 [00:23<00:02,  1.08s/it, Loss=6.8480, box=0.080, obj=0.067, cls=0.281, total loss=0.428, lr=0.000958]"
     ]
    },
    {
     "name": "stdout",
     "output_type": "stream",
     "text": [
      "[DEBUG] Head 0 | iou.min=0.1483, iou.max=0.8440, iou.mean=0.4505\n",
      "[DEBUG] Head 0 | ps[..., 4].sigmoid().mean = 0.0014\n",
      "[DEBUG] Head 1 | iou.min=0.0902, iou.max=0.8334, iou.mean=0.3716\n",
      "[DEBUG] Head 1 | ps[..., 4].sigmoid().mean = 0.0051\n",
      "[DEBUG] Head 2 | iou.min=-0.0282, iou.max=0.7962, iou.mean=0.2960\n",
      "[DEBUG] Head 2 | ps[..., 4].sigmoid().mean = 0.0127\n"
     ]
    },
    {
     "name": "stderr",
     "output_type": "stream",
     "text": [
      "[YoloOW] Epoch 5/10:  96%|█████████▌| 23/24 [00:24<00:01,  1.07s/it, Loss=6.8480, box=0.080, obj=0.067, cls=0.281, total loss=0.428, lr=0.000958]"
     ]
    },
    {
     "name": "stdout",
     "output_type": "stream",
     "text": [
      "[DEBUG] Head 0 | iou.min=0.1770, iou.max=0.9179, iou.mean=0.5523\n",
      "[DEBUG] Head 0 | ps[..., 4].sigmoid().mean = 0.0013\n",
      "[DEBUG] Head 1 | iou.min=0.0886, iou.max=0.8178, iou.mean=0.4617\n",
      "[DEBUG] Head 1 | ps[..., 4].sigmoid().mean = 0.0050\n",
      "[DEBUG] Head 2 | iou.min=-0.0251, iou.max=0.7949, iou.mean=0.2979\n",
      "[DEBUG] Head 2 | ps[..., 4].sigmoid().mean = 0.0121\n"
     ]
    },
    {
     "name": "stderr",
     "output_type": "stream",
     "text": [
      "[YoloOW] Epoch 5/10: 100%|██████████| 24/24 [00:25<00:00,  1.08s/it, Loss=6.4917, box=0.084, obj=0.059, cls=0.262, total loss=0.406, lr=0.000992]\n"
     ]
    },
    {
     "name": "stdout",
     "output_type": "stream",
     "text": [
      "\n",
      "[YoloOW] ✅ Epoch 5/10 complete in 25.88s | Avg Loss: 6.6923\n",
      "\n",
      "[YoloOW] 📊 Running evaluation after epoch 5 ...\n",
      "[DEBUG] Head 0 | iou.min=0.1706, iou.max=0.8711, iou.mean=0.5247\n",
      "[DEBUG] Head 0 | ps[..., 4].sigmoid().mean = 0.0013\n",
      "[DEBUG] Head 1 | iou.min=0.1343, iou.max=0.9265, iou.mean=0.4426\n",
      "[DEBUG] Head 1 | ps[..., 4].sigmoid().mean = 0.0049\n",
      "[DEBUG] Head 2 | iou.min=-0.0415, iou.max=0.7801, iou.mean=0.3297\n",
      "[DEBUG] Head 2 | ps[..., 4].sigmoid().mean = 0.0119\n",
      "[DEBUG] Head 0 | iou.min=0.1671, iou.max=0.8933, iou.mean=0.5026\n",
      "[DEBUG] Head 0 | ps[..., 4].sigmoid().mean = 0.0013\n",
      "[DEBUG] Head 1 | iou.min=0.0628, iou.max=0.8469, iou.mean=0.4252\n",
      "[DEBUG] Head 1 | ps[..., 4].sigmoid().mean = 0.0048\n",
      "[DEBUG] Head 2 | iou.min=-0.0304, iou.max=0.8209, iou.mean=0.3094\n",
      "[DEBUG] Head 2 | ps[..., 4].sigmoid().mean = 0.0119\n",
      "[DEBUG] Head 0 | iou.min=0.2090, iou.max=0.8986, iou.mean=0.5002\n",
      "[DEBUG] Head 0 | ps[..., 4].sigmoid().mean = 0.0013\n",
      "[DEBUG] Head 1 | iou.min=0.0619, iou.max=0.9143, iou.mean=0.4175\n",
      "[DEBUG] Head 1 | ps[..., 4].sigmoid().mean = 0.0048\n",
      "[DEBUG] Head 2 | iou.min=-0.0474, iou.max=0.9308, iou.mean=0.3146\n",
      "[DEBUG] Head 2 | ps[..., 4].sigmoid().mean = 0.0117\n",
      "[DEBUG] Head 0 | iou.min=0.1675, iou.max=0.9010, iou.mean=0.5368\n",
      "[DEBUG] Head 0 | ps[..., 4].sigmoid().mean = 0.0013\n",
      "[DEBUG] Head 1 | iou.min=0.0892, iou.max=0.8604, iou.mean=0.4863\n",
      "[DEBUG] Head 1 | ps[..., 4].sigmoid().mean = 0.0049\n",
      "[DEBUG] Head 2 | iou.min=0.0126, iou.max=0.8486, iou.mean=0.3419\n",
      "[DEBUG] Head 2 | ps[..., 4].sigmoid().mean = 0.0115\n",
      "[DEBUG] Head 0 | iou.min=0.1664, iou.max=0.8714, iou.mean=0.5755\n",
      "[DEBUG] Head 0 | ps[..., 4].sigmoid().mean = 0.0013\n",
      "[DEBUG] Head 1 | iou.min=0.2158, iou.max=0.9107, iou.mean=0.5231\n",
      "[DEBUG] Head 1 | ps[..., 4].sigmoid().mean = 0.0048\n",
      "[DEBUG] Head 2 | iou.min=0.0496, iou.max=0.8103, iou.mean=0.3528\n",
      "[DEBUG] Head 2 | ps[..., 4].sigmoid().mean = 0.0115\n",
      "[DEBUG] Head 0 | iou.min=0.2921, iou.max=0.9201, iou.mean=0.5607\n",
      "[DEBUG] Head 0 | ps[..., 4].sigmoid().mean = 0.0013\n",
      "[DEBUG] Head 1 | iou.min=0.0798, iou.max=0.8936, iou.mean=0.4522\n",
      "[DEBUG] Head 1 | ps[..., 4].sigmoid().mean = 0.0048\n",
      "[DEBUG] Head 2 | iou.min=0.0009, iou.max=0.8154, iou.mean=0.2761\n",
      "[DEBUG] Head 2 | ps[..., 4].sigmoid().mean = 0.0117\n",
      "[DEBUG] Head 0 | iou.min=0.1854, iou.max=0.8901, iou.mean=0.4747\n",
      "[DEBUG] Head 0 | ps[..., 4].sigmoid().mean = 0.0013\n",
      "[DEBUG] Head 1 | iou.min=0.0933, iou.max=0.8296, iou.mean=0.3923\n",
      "[DEBUG] Head 1 | ps[..., 4].sigmoid().mean = 0.0049\n",
      "[DEBUG] Head 2 | iou.min=-0.0452, iou.max=0.8185, iou.mean=0.3421\n",
      "[DEBUG] Head 2 | ps[..., 4].sigmoid().mean = 0.0118\n",
      "[DEBUG] Head 0 | iou.min=0.1142, iou.max=0.9137, iou.mean=0.4020\n",
      "[DEBUG] Head 0 | ps[..., 4].sigmoid().mean = 0.0013\n",
      "[DEBUG] Head 1 | iou.min=0.0625, iou.max=0.7868, iou.mean=0.3213\n",
      "[DEBUG] Head 1 | ps[..., 4].sigmoid().mean = 0.0048\n",
      "[DEBUG] Head 2 | iou.min=-0.0205, iou.max=0.8119, iou.mean=0.2685\n",
      "[DEBUG] Head 2 | ps[..., 4].sigmoid().mean = 0.0123\n",
      "[DEBUG] Head 0 | iou.min=0.2775, iou.max=0.6853, iou.mean=0.5078\n",
      "[DEBUG] Head 0 | ps[..., 4].sigmoid().mean = 0.0013\n",
      "[DEBUG] Head 1 | iou.min=0.0799, iou.max=0.6791, iou.mean=0.4740\n",
      "[DEBUG] Head 1 | ps[..., 4].sigmoid().mean = 0.0049\n",
      "[DEBUG] Head 2 | iou.min=0.1018, iou.max=0.8629, iou.mean=0.3817\n",
      "[DEBUG] Head 2 | ps[..., 4].sigmoid().mean = 0.0110\n",
      "[validate_yoloow_model] ✅  Avg Loss  (box/obj/cls/total): 0.0865 / 0.0575 / 0.2768 / 0.4208\n"
     ]
    },
    {
     "name": "stderr",
     "output_type": "stream",
     "text": [
      "[YoloOW] Epoch 6/10:   0%|          | 0/24 [00:00<?, ?it/s]"
     ]
    },
    {
     "name": "stdout",
     "output_type": "stream",
     "text": [
      "[DEBUG] Head 0 | iou.min=0.2193, iou.max=0.8560, iou.mean=0.5493\n",
      "[DEBUG] Head 0 | ps[..., 4].sigmoid().mean = 0.0013\n",
      "[DEBUG] Head 1 | iou.min=0.1949, iou.max=0.8205, iou.mean=0.4652\n",
      "[DEBUG] Head 1 | ps[..., 4].sigmoid().mean = 0.0049\n",
      "[DEBUG] Head 2 | iou.min=-0.0146, iou.max=0.8193, iou.mean=0.3448\n",
      "[DEBUG] Head 2 | ps[..., 4].sigmoid().mean = 0.0117\n"
     ]
    },
    {
     "name": "stderr",
     "output_type": "stream",
     "text": [
      "[YoloOW] Epoch 6/10:   4%|▍         | 1/24 [00:01<00:25,  1.09s/it]"
     ]
    },
    {
     "name": "stdout",
     "output_type": "stream",
     "text": [
      "[DEBUG] Head 0 | iou.min=0.1386, iou.max=0.8952, iou.mean=0.5397\n",
      "[DEBUG] Head 0 | ps[..., 4].sigmoid().mean = 0.0013\n",
      "[DEBUG] Head 1 | iou.min=0.0974, iou.max=0.8736, iou.mean=0.4254\n",
      "[DEBUG] Head 1 | ps[..., 4].sigmoid().mean = 0.0047\n",
      "[DEBUG] Head 2 | iou.min=-0.0502, iou.max=0.8725, iou.mean=0.2887\n",
      "[DEBUG] Head 2 | ps[..., 4].sigmoid().mean = 0.0112\n"
     ]
    },
    {
     "name": "stderr",
     "output_type": "stream",
     "text": [
      "[YoloOW] Epoch 6/10:   8%|▊         | 2/24 [00:02<00:23,  1.07s/it]"
     ]
    },
    {
     "name": "stdout",
     "output_type": "stream",
     "text": [
      "[DEBUG] Head 0 | iou.min=0.1702, iou.max=0.8956, iou.mean=0.4448\n",
      "[DEBUG] Head 0 | ps[..., 4].sigmoid().mean = 0.0013\n",
      "[DEBUG] Head 1 | iou.min=0.0955, iou.max=0.8401, iou.mean=0.3638\n",
      "[DEBUG] Head 1 | ps[..., 4].sigmoid().mean = 0.0046\n",
      "[DEBUG] Head 2 | iou.min=-0.0239, iou.max=0.7863, iou.mean=0.3217\n",
      "[DEBUG] Head 2 | ps[..., 4].sigmoid().mean = 0.0102\n"
     ]
    },
    {
     "name": "stderr",
     "output_type": "stream",
     "text": [
      "[YoloOW] Epoch 6/10:  12%|█▎        | 3/24 [00:03<00:22,  1.08s/it]"
     ]
    },
    {
     "name": "stdout",
     "output_type": "stream",
     "text": [
      "[DEBUG] Head 0 | iou.min=0.1697, iou.max=0.8804, iou.mean=0.5579\n",
      "[DEBUG] Head 0 | ps[..., 4].sigmoid().mean = 0.0013\n",
      "[DEBUG] Head 1 | iou.min=0.0700, iou.max=0.8156, iou.mean=0.4377\n",
      "[DEBUG] Head 1 | ps[..., 4].sigmoid().mean = 0.0046\n",
      "[DEBUG] Head 2 | iou.min=-0.0332, iou.max=0.8572, iou.mean=0.2655\n",
      "[DEBUG] Head 2 | ps[..., 4].sigmoid().mean = 0.0108\n"
     ]
    },
    {
     "name": "stderr",
     "output_type": "stream",
     "text": [
      "[YoloOW] Epoch 6/10:  17%|█▋        | 4/24 [00:04<00:22,  1.10s/it]"
     ]
    },
    {
     "name": "stdout",
     "output_type": "stream",
     "text": [
      "[DEBUG] Head 0 | iou.min=0.1214, iou.max=0.8475, iou.mean=0.4652\n",
      "[DEBUG] Head 0 | ps[..., 4].sigmoid().mean = 0.0012\n",
      "[DEBUG] Head 1 | iou.min=0.0673, iou.max=0.7360, iou.mean=0.3803\n",
      "[DEBUG] Head 1 | ps[..., 4].sigmoid().mean = 0.0045\n",
      "[DEBUG] Head 2 | iou.min=-0.0568, iou.max=0.7806, iou.mean=0.2827\n",
      "[DEBUG] Head 2 | ps[..., 4].sigmoid().mean = 0.0104\n"
     ]
    },
    {
     "name": "stderr",
     "output_type": "stream",
     "text": [
      "[YoloOW] Epoch 6/10:  21%|██        | 5/24 [00:05<00:20,  1.09s/it]"
     ]
    },
    {
     "name": "stdout",
     "output_type": "stream",
     "text": [
      "[DEBUG] Head 0 | iou.min=0.1566, iou.max=0.8983, iou.mean=0.4904\n",
      "[DEBUG] Head 0 | ps[..., 4].sigmoid().mean = 0.0012\n",
      "[DEBUG] Head 1 | iou.min=0.0999, iou.max=0.9231, iou.mean=0.4111\n",
      "[DEBUG] Head 1 | ps[..., 4].sigmoid().mean = 0.0044\n",
      "[DEBUG] Head 2 | iou.min=-0.0517, iou.max=0.8810, iou.mean=0.3301\n",
      "[DEBUG] Head 2 | ps[..., 4].sigmoid().mean = 0.0105\n"
     ]
    },
    {
     "name": "stderr",
     "output_type": "stream",
     "text": [
      "[YoloOW] Epoch 6/10:  25%|██▌       | 6/24 [00:06<00:19,  1.07s/it]"
     ]
    },
    {
     "name": "stdout",
     "output_type": "stream",
     "text": [
      "[DEBUG] Head 0 | iou.min=0.1195, iou.max=0.8874, iou.mean=0.4374\n",
      "[DEBUG] Head 0 | ps[..., 4].sigmoid().mean = 0.0012\n",
      "[DEBUG] Head 1 | iou.min=0.0932, iou.max=0.9337, iou.mean=0.3507\n",
      "[DEBUG] Head 1 | ps[..., 4].sigmoid().mean = 0.0043\n",
      "[DEBUG] Head 2 | iou.min=-0.0825, iou.max=0.8568, iou.mean=0.3280\n",
      "[DEBUG] Head 2 | ps[..., 4].sigmoid().mean = 0.0106\n"
     ]
    },
    {
     "name": "stderr",
     "output_type": "stream",
     "text": [
      "[YoloOW] Epoch 6/10:  29%|██▉       | 7/24 [00:07<00:18,  1.09s/it]"
     ]
    },
    {
     "name": "stdout",
     "output_type": "stream",
     "text": [
      "[DEBUG] Head 0 | iou.min=0.1231, iou.max=0.9492, iou.mean=0.4511\n",
      "[DEBUG] Head 0 | ps[..., 4].sigmoid().mean = 0.0012\n",
      "[DEBUG] Head 1 | iou.min=0.0641, iou.max=0.9187, iou.mean=0.3648\n",
      "[DEBUG] Head 1 | ps[..., 4].sigmoid().mean = 0.0043\n",
      "[DEBUG] Head 2 | iou.min=-0.0683, iou.max=0.7685, iou.mean=0.2556\n",
      "[DEBUG] Head 2 | ps[..., 4].sigmoid().mean = 0.0110\n"
     ]
    },
    {
     "name": "stderr",
     "output_type": "stream",
     "text": [
      "[YoloOW] Epoch 6/10:  33%|███▎      | 8/24 [00:08<00:17,  1.08s/it]"
     ]
    },
    {
     "name": "stdout",
     "output_type": "stream",
     "text": [
      "[DEBUG] Head 0 | iou.min=0.1370, iou.max=0.8645, iou.mean=0.5502\n",
      "[DEBUG] Head 0 | ps[..., 4].sigmoid().mean = 0.0012\n",
      "[DEBUG] Head 1 | iou.min=0.0607, iou.max=0.8337, iou.mean=0.4353\n",
      "[DEBUG] Head 1 | ps[..., 4].sigmoid().mean = 0.0042\n",
      "[DEBUG] Head 2 | iou.min=0.0153, iou.max=0.8114, iou.mean=0.3240\n",
      "[DEBUG] Head 2 | ps[..., 4].sigmoid().mean = 0.0105\n"
     ]
    },
    {
     "name": "stderr",
     "output_type": "stream",
     "text": [
      "[YoloOW] Epoch 6/10:  38%|███▊      | 9/24 [00:09<00:16,  1.07s/it]"
     ]
    },
    {
     "name": "stdout",
     "output_type": "stream",
     "text": [
      "[DEBUG] Head 0 | iou.min=0.1563, iou.max=0.8661, iou.mean=0.5288\n",
      "[DEBUG] Head 0 | ps[..., 4].sigmoid().mean = 0.0012\n",
      "[DEBUG] Head 1 | iou.min=0.0555, iou.max=0.8556, iou.mean=0.4491\n",
      "[DEBUG] Head 1 | ps[..., 4].sigmoid().mean = 0.0042\n",
      "[DEBUG] Head 2 | iou.min=0.0466, iou.max=0.8770, iou.mean=0.3292\n",
      "[DEBUG] Head 2 | ps[..., 4].sigmoid().mean = 0.0100\n"
     ]
    },
    {
     "name": "stderr",
     "output_type": "stream",
     "text": [
      "[YoloOW] Epoch 6/10:  42%|████▏     | 10/24 [00:10<00:15,  1.08s/it, Loss=6.6685, box=0.085, obj=0.080, cls=0.252, total loss=0.417, lr=0.001000]"
     ]
    },
    {
     "name": "stdout",
     "output_type": "stream",
     "text": [
      "[DEBUG] Head 0 | iou.min=0.1017, iou.max=0.8939, iou.mean=0.4679\n",
      "[DEBUG] Head 0 | ps[..., 4].sigmoid().mean = 0.0012\n",
      "[DEBUG] Head 1 | iou.min=0.0817, iou.max=0.7855, iou.mean=0.4085\n",
      "[DEBUG] Head 1 | ps[..., 4].sigmoid().mean = 0.0041\n",
      "[DEBUG] Head 2 | iou.min=0.0561, iou.max=0.9381, iou.mean=0.3695\n",
      "[DEBUG] Head 2 | ps[..., 4].sigmoid().mean = 0.0098\n"
     ]
    },
    {
     "name": "stderr",
     "output_type": "stream",
     "text": [
      "[YoloOW] Epoch 6/10:  46%|████▌     | 11/24 [00:11<00:13,  1.07s/it, Loss=6.6685, box=0.085, obj=0.080, cls=0.252, total loss=0.417, lr=0.001000]"
     ]
    },
    {
     "name": "stdout",
     "output_type": "stream",
     "text": [
      "[DEBUG] Head 0 | iou.min=0.1248, iou.max=0.8936, iou.mean=0.5204\n",
      "[DEBUG] Head 0 | ps[..., 4].sigmoid().mean = 0.0012\n",
      "[DEBUG] Head 1 | iou.min=0.0780, iou.max=0.8959, iou.mean=0.4126\n",
      "[DEBUG] Head 1 | ps[..., 4].sigmoid().mean = 0.0041\n",
      "[DEBUG] Head 2 | iou.min=-0.0066, iou.max=0.7618, iou.mean=0.3396\n",
      "[DEBUG] Head 2 | ps[..., 4].sigmoid().mean = 0.0094\n"
     ]
    },
    {
     "name": "stderr",
     "output_type": "stream",
     "text": [
      "[YoloOW] Epoch 6/10:  50%|█████     | 12/24 [00:13<00:13,  1.09s/it, Loss=6.6685, box=0.085, obj=0.080, cls=0.252, total loss=0.417, lr=0.001000]"
     ]
    },
    {
     "name": "stdout",
     "output_type": "stream",
     "text": [
      "[DEBUG] Head 0 | iou.min=0.1851, iou.max=0.8781, iou.mean=0.5264\n",
      "[DEBUG] Head 0 | ps[..., 4].sigmoid().mean = 0.0012\n",
      "[DEBUG] Head 1 | iou.min=0.1202, iou.max=0.8547, iou.mean=0.4449\n",
      "[DEBUG] Head 1 | ps[..., 4].sigmoid().mean = 0.0041\n",
      "[DEBUG] Head 2 | iou.min=0.0697, iou.max=0.8037, iou.mean=0.3535\n",
      "[DEBUG] Head 2 | ps[..., 4].sigmoid().mean = 0.0095\n"
     ]
    },
    {
     "name": "stderr",
     "output_type": "stream",
     "text": [
      "[YoloOW] Epoch 6/10:  54%|█████▍    | 13/24 [00:14<00:12,  1.10s/it, Loss=6.6685, box=0.085, obj=0.080, cls=0.252, total loss=0.417, lr=0.001000]"
     ]
    },
    {
     "name": "stdout",
     "output_type": "stream",
     "text": [
      "[DEBUG] Head 0 | iou.min=0.1082, iou.max=0.8461, iou.mean=0.5295\n",
      "[DEBUG] Head 0 | ps[..., 4].sigmoid().mean = 0.0012\n",
      "[DEBUG] Head 1 | iou.min=0.0599, iou.max=0.8674, iou.mean=0.4359\n",
      "[DEBUG] Head 1 | ps[..., 4].sigmoid().mean = 0.0041\n",
      "[DEBUG] Head 2 | iou.min=0.0234, iou.max=0.8330, iou.mean=0.2779\n",
      "[DEBUG] Head 2 | ps[..., 4].sigmoid().mean = 0.0100\n"
     ]
    },
    {
     "name": "stderr",
     "output_type": "stream",
     "text": [
      "[YoloOW] Epoch 6/10:  58%|█████▊    | 14/24 [00:15<00:10,  1.09s/it, Loss=6.6685, box=0.085, obj=0.080, cls=0.252, total loss=0.417, lr=0.001000]"
     ]
    },
    {
     "name": "stdout",
     "output_type": "stream",
     "text": [
      "[DEBUG] Head 0 | iou.min=0.1652, iou.max=0.9281, iou.mean=0.5378\n",
      "[DEBUG] Head 0 | ps[..., 4].sigmoid().mean = 0.0013\n",
      "[DEBUG] Head 1 | iou.min=0.0785, iou.max=0.8611, iou.mean=0.4461\n",
      "[DEBUG] Head 1 | ps[..., 4].sigmoid().mean = 0.0042\n",
      "[DEBUG] Head 2 | iou.min=0.0157, iou.max=0.7874, iou.mean=0.3341\n",
      "[DEBUG] Head 2 | ps[..., 4].sigmoid().mean = 0.0096\n"
     ]
    },
    {
     "name": "stderr",
     "output_type": "stream",
     "text": [
      "[YoloOW] Epoch 6/10:  62%|██████▎   | 15/24 [00:16<00:09,  1.08s/it, Loss=6.6685, box=0.085, obj=0.080, cls=0.252, total loss=0.417, lr=0.001000]"
     ]
    },
    {
     "name": "stdout",
     "output_type": "stream",
     "text": [
      "[DEBUG] Head 0 | iou.min=0.1764, iou.max=0.8791, iou.mean=0.5297\n",
      "[DEBUG] Head 0 | ps[..., 4].sigmoid().mean = 0.0013\n",
      "[DEBUG] Head 1 | iou.min=0.1216, iou.max=0.8408, iou.mean=0.4357\n",
      "[DEBUG] Head 1 | ps[..., 4].sigmoid().mean = 0.0043\n",
      "[DEBUG] Head 2 | iou.min=-0.0036, iou.max=0.7949, iou.mean=0.2973\n",
      "[DEBUG] Head 2 | ps[..., 4].sigmoid().mean = 0.0097\n"
     ]
    },
    {
     "name": "stderr",
     "output_type": "stream",
     "text": [
      "[YoloOW] Epoch 6/10:  67%|██████▋   | 16/24 [00:17<00:08,  1.10s/it, Loss=6.6685, box=0.085, obj=0.080, cls=0.252, total loss=0.417, lr=0.001000]"
     ]
    },
    {
     "name": "stdout",
     "output_type": "stream",
     "text": [
      "[DEBUG] Head 0 | iou.min=0.0720, iou.max=0.8942, iou.mean=0.4780\n",
      "[DEBUG] Head 0 | ps[..., 4].sigmoid().mean = 0.0014\n",
      "[DEBUG] Head 1 | iou.min=0.0493, iou.max=0.8574, iou.mean=0.4345\n",
      "[DEBUG] Head 1 | ps[..., 4].sigmoid().mean = 0.0044\n",
      "[DEBUG] Head 2 | iou.min=0.0387, iou.max=0.8946, iou.mean=0.3614\n",
      "[DEBUG] Head 2 | ps[..., 4].sigmoid().mean = 0.0088\n"
     ]
    },
    {
     "name": "stderr",
     "output_type": "stream",
     "text": [
      "[YoloOW] Epoch 6/10:  71%|███████   | 17/24 [00:18<00:07,  1.09s/it, Loss=6.6685, box=0.085, obj=0.080, cls=0.252, total loss=0.417, lr=0.001000]"
     ]
    },
    {
     "name": "stdout",
     "output_type": "stream",
     "text": [
      "[DEBUG] Head 0 | iou.min=0.1607, iou.max=0.8634, iou.mean=0.5156\n",
      "[DEBUG] Head 0 | ps[..., 4].sigmoid().mean = 0.0014\n",
      "[DEBUG] Head 1 | iou.min=0.0935, iou.max=0.7679, iou.mean=0.4193\n",
      "[DEBUG] Head 1 | ps[..., 4].sigmoid().mean = 0.0046\n",
      "[DEBUG] Head 2 | iou.min=-0.0040, iou.max=0.8323, iou.mean=0.3020\n",
      "[DEBUG] Head 2 | ps[..., 4].sigmoid().mean = 0.0091\n"
     ]
    },
    {
     "name": "stderr",
     "output_type": "stream",
     "text": [
      "[YoloOW] Epoch 6/10:  75%|███████▌  | 18/24 [00:19<00:06,  1.09s/it, Loss=6.6685, box=0.085, obj=0.080, cls=0.252, total loss=0.417, lr=0.001000]"
     ]
    },
    {
     "name": "stdout",
     "output_type": "stream",
     "text": [
      "[DEBUG] Head 0 | iou.min=0.1732, iou.max=0.9263, iou.mean=0.5437\n",
      "[DEBUG] Head 0 | ps[..., 4].sigmoid().mean = 0.0014\n",
      "[DEBUG] Head 1 | iou.min=0.0982, iou.max=0.8444, iou.mean=0.4618\n",
      "[DEBUG] Head 1 | ps[..., 4].sigmoid().mean = 0.0046\n",
      "[DEBUG] Head 2 | iou.min=0.0320, iou.max=0.9103, iou.mean=0.3236\n",
      "[DEBUG] Head 2 | ps[..., 4].sigmoid().mean = 0.0090\n"
     ]
    },
    {
     "name": "stderr",
     "output_type": "stream",
     "text": [
      "[YoloOW] Epoch 6/10:  79%|███████▉  | 19/24 [00:20<00:05,  1.09s/it, Loss=6.6685, box=0.085, obj=0.080, cls=0.252, total loss=0.417, lr=0.001000]"
     ]
    },
    {
     "name": "stdout",
     "output_type": "stream",
     "text": [
      "[DEBUG] Head 0 | iou.min=0.1531, iou.max=0.9110, iou.mean=0.4904\n",
      "[DEBUG] Head 0 | ps[..., 4].sigmoid().mean = 0.0014\n",
      "[DEBUG] Head 1 | iou.min=0.1010, iou.max=0.9015, iou.mean=0.4290\n",
      "[DEBUG] Head 1 | ps[..., 4].sigmoid().mean = 0.0047\n",
      "[DEBUG] Head 2 | iou.min=0.0019, iou.max=0.8281, iou.mean=0.3492\n",
      "[DEBUG] Head 2 | ps[..., 4].sigmoid().mean = 0.0096\n"
     ]
    },
    {
     "name": "stderr",
     "output_type": "stream",
     "text": [
      "[YoloOW] Epoch 6/10:  83%|████████▎ | 20/24 [00:21<00:04,  1.07s/it, Loss=6.7797, box=0.087, obj=0.051, cls=0.286, total loss=0.424, lr=0.001000]"
     ]
    },
    {
     "name": "stdout",
     "output_type": "stream",
     "text": [
      "[DEBUG] Head 0 | iou.min=0.1694, iou.max=0.8617, iou.mean=0.5360\n",
      "[DEBUG] Head 0 | ps[..., 4].sigmoid().mean = 0.0014\n",
      "[DEBUG] Head 1 | iou.min=0.1046, iou.max=0.8176, iou.mean=0.4009\n",
      "[DEBUG] Head 1 | ps[..., 4].sigmoid().mean = 0.0047\n",
      "[DEBUG] Head 2 | iou.min=-0.0195, iou.max=0.9088, iou.mean=0.2889\n",
      "[DEBUG] Head 2 | ps[..., 4].sigmoid().mean = 0.0107\n"
     ]
    },
    {
     "name": "stderr",
     "output_type": "stream",
     "text": [
      "[YoloOW] Epoch 6/10:  88%|████████▊ | 21/24 [00:22<00:03,  1.08s/it, Loss=6.7797, box=0.087, obj=0.051, cls=0.286, total loss=0.424, lr=0.001000]"
     ]
    },
    {
     "name": "stdout",
     "output_type": "stream",
     "text": [
      "[DEBUG] Head 0 | iou.min=0.1843, iou.max=0.8892, iou.mean=0.5392\n",
      "[DEBUG] Head 0 | ps[..., 4].sigmoid().mean = 0.0013\n",
      "[DEBUG] Head 1 | iou.min=0.1364, iou.max=0.9402, iou.mean=0.4547\n",
      "[DEBUG] Head 1 | ps[..., 4].sigmoid().mean = 0.0047\n",
      "[DEBUG] Head 2 | iou.min=-0.0224, iou.max=0.7921, iou.mean=0.3471\n",
      "[DEBUG] Head 2 | ps[..., 4].sigmoid().mean = 0.0110\n"
     ]
    },
    {
     "name": "stderr",
     "output_type": "stream",
     "text": [
      "[YoloOW] Epoch 6/10:  92%|█████████▏| 22/24 [00:23<00:02,  1.09s/it, Loss=6.7797, box=0.087, obj=0.051, cls=0.286, total loss=0.424, lr=0.001000]"
     ]
    },
    {
     "name": "stdout",
     "output_type": "stream",
     "text": [
      "[DEBUG] Head 0 | iou.min=0.2453, iou.max=0.8992, iou.mean=0.5371\n",
      "[DEBUG] Head 0 | ps[..., 4].sigmoid().mean = 0.0013\n",
      "[DEBUG] Head 1 | iou.min=0.1561, iou.max=0.8235, iou.mean=0.4419\n",
      "[DEBUG] Head 1 | ps[..., 4].sigmoid().mean = 0.0047\n",
      "[DEBUG] Head 2 | iou.min=-0.0044, iou.max=0.7991, iou.mean=0.3059\n",
      "[DEBUG] Head 2 | ps[..., 4].sigmoid().mean = 0.0115\n"
     ]
    },
    {
     "name": "stderr",
     "output_type": "stream",
     "text": [
      "[YoloOW] Epoch 6/10:  96%|█████████▌| 23/24 [00:24<00:01,  1.09s/it, Loss=6.7797, box=0.087, obj=0.051, cls=0.286, total loss=0.424, lr=0.001000]"
     ]
    },
    {
     "name": "stdout",
     "output_type": "stream",
     "text": [
      "[DEBUG] Head 0 | iou.min=0.1495, iou.max=0.8726, iou.mean=0.4330\n",
      "[DEBUG] Head 0 | ps[..., 4].sigmoid().mean = 0.0013\n",
      "[DEBUG] Head 1 | iou.min=0.0680, iou.max=0.7967, iou.mean=0.3837\n",
      "[DEBUG] Head 1 | ps[..., 4].sigmoid().mean = 0.0047\n",
      "[DEBUG] Head 2 | iou.min=-0.0813, iou.max=0.8379, iou.mean=0.3190\n",
      "[DEBUG] Head 2 | ps[..., 4].sigmoid().mean = 0.0112\n"
     ]
    },
    {
     "name": "stderr",
     "output_type": "stream",
     "text": [
      "[YoloOW] Epoch 6/10: 100%|██████████| 24/24 [00:26<00:00,  1.08s/it, Loss=6.3729, box=0.093, obj=0.053, cls=0.252, total loss=0.398, lr=0.001000]\n"
     ]
    },
    {
     "name": "stdout",
     "output_type": "stream",
     "text": [
      "\n",
      "[YoloOW] ✅ Epoch 6/10 complete in 26.03s | Avg Loss: 6.6846\n",
      "\n",
      "[YoloOW] 📊 Running evaluation after epoch 6 ...\n",
      "[DEBUG] Head 0 | iou.min=0.1512, iou.max=0.9645, iou.mean=0.5180\n",
      "[DEBUG] Head 0 | ps[..., 4].sigmoid().mean = 0.0013\n",
      "[DEBUG] Head 1 | iou.min=0.1380, iou.max=0.9485, iou.mean=0.4431\n",
      "[DEBUG] Head 1 | ps[..., 4].sigmoid().mean = 0.0047\n",
      "[DEBUG] Head 2 | iou.min=-0.0774, iou.max=0.7577, iou.mean=0.3289\n",
      "[DEBUG] Head 2 | ps[..., 4].sigmoid().mean = 0.0112\n",
      "[DEBUG] Head 0 | iou.min=0.1487, iou.max=0.8855, iou.mean=0.5091\n",
      "[DEBUG] Head 0 | ps[..., 4].sigmoid().mean = 0.0013\n",
      "[DEBUG] Head 1 | iou.min=0.0595, iou.max=0.8695, iou.mean=0.4265\n",
      "[DEBUG] Head 1 | ps[..., 4].sigmoid().mean = 0.0047\n",
      "[DEBUG] Head 2 | iou.min=-0.0313, iou.max=0.8421, iou.mean=0.3082\n",
      "[DEBUG] Head 2 | ps[..., 4].sigmoid().mean = 0.0112\n",
      "[DEBUG] Head 0 | iou.min=0.1855, iou.max=0.9409, iou.mean=0.4994\n",
      "[DEBUG] Head 0 | ps[..., 4].sigmoid().mean = 0.0013\n",
      "[DEBUG] Head 1 | iou.min=0.0586, iou.max=0.9032, iou.mean=0.4179\n",
      "[DEBUG] Head 1 | ps[..., 4].sigmoid().mean = 0.0047\n",
      "[DEBUG] Head 2 | iou.min=-0.0810, iou.max=0.8502, iou.mean=0.3116\n",
      "[DEBUG] Head 2 | ps[..., 4].sigmoid().mean = 0.0111\n",
      "[DEBUG] Head 0 | iou.min=0.1485, iou.max=0.8971, iou.mean=0.5074\n",
      "[DEBUG] Head 0 | ps[..., 4].sigmoid().mean = 0.0013\n",
      "[DEBUG] Head 1 | iou.min=0.0914, iou.max=0.8454, iou.mean=0.4837\n",
      "[DEBUG] Head 1 | ps[..., 4].sigmoid().mean = 0.0047\n",
      "[DEBUG] Head 2 | iou.min=-0.0218, iou.max=0.8983, iou.mean=0.3347\n",
      "[DEBUG] Head 2 | ps[..., 4].sigmoid().mean = 0.0108\n",
      "[DEBUG] Head 0 | iou.min=0.1633, iou.max=0.8652, iou.mean=0.5408\n",
      "[DEBUG] Head 0 | ps[..., 4].sigmoid().mean = 0.0013\n",
      "[DEBUG] Head 1 | iou.min=0.2096, iou.max=0.8636, iou.mean=0.5200\n",
      "[DEBUG] Head 1 | ps[..., 4].sigmoid().mean = 0.0047\n",
      "[DEBUG] Head 2 | iou.min=0.0557, iou.max=0.8505, iou.mean=0.3490\n",
      "[DEBUG] Head 2 | ps[..., 4].sigmoid().mean = 0.0108\n",
      "[DEBUG] Head 0 | iou.min=0.3144, iou.max=0.9398, iou.mean=0.5518\n",
      "[DEBUG] Head 0 | ps[..., 4].sigmoid().mean = 0.0013\n",
      "[DEBUG] Head 1 | iou.min=0.0755, iou.max=0.8779, iou.mean=0.4543\n",
      "[DEBUG] Head 1 | ps[..., 4].sigmoid().mean = 0.0047\n",
      "[DEBUG] Head 2 | iou.min=-0.0050, iou.max=0.7692, iou.mean=0.2762\n",
      "[DEBUG] Head 2 | ps[..., 4].sigmoid().mean = 0.0110\n",
      "[DEBUG] Head 0 | iou.min=0.1819, iou.max=0.9151, iou.mean=0.4869\n",
      "[DEBUG] Head 0 | ps[..., 4].sigmoid().mean = 0.0013\n",
      "[DEBUG] Head 1 | iou.min=0.0959, iou.max=0.8212, iou.mean=0.3925\n",
      "[DEBUG] Head 1 | ps[..., 4].sigmoid().mean = 0.0047\n",
      "[DEBUG] Head 2 | iou.min=-0.0533, iou.max=0.8015, iou.mean=0.3415\n",
      "[DEBUG] Head 2 | ps[..., 4].sigmoid().mean = 0.0112\n",
      "[DEBUG] Head 0 | iou.min=0.1290, iou.max=0.9244, iou.mean=0.4253\n",
      "[DEBUG] Head 0 | ps[..., 4].sigmoid().mean = 0.0013\n",
      "[DEBUG] Head 1 | iou.min=0.0679, iou.max=0.7862, iou.mean=0.3248\n",
      "[DEBUG] Head 1 | ps[..., 4].sigmoid().mean = 0.0047\n",
      "[DEBUG] Head 2 | iou.min=-0.0483, iou.max=0.8321, iou.mean=0.2695\n",
      "[DEBUG] Head 2 | ps[..., 4].sigmoid().mean = 0.0117\n",
      "[DEBUG] Head 0 | iou.min=0.2464, iou.max=0.6529, iou.mean=0.4623\n",
      "[DEBUG] Head 0 | ps[..., 4].sigmoid().mean = 0.0013\n",
      "[DEBUG] Head 1 | iou.min=0.0754, iou.max=0.6680, iou.mean=0.4677\n",
      "[DEBUG] Head 1 | ps[..., 4].sigmoid().mean = 0.0047\n",
      "[DEBUG] Head 2 | iou.min=0.0844, iou.max=0.8337, iou.mean=0.3711\n",
      "[DEBUG] Head 2 | ps[..., 4].sigmoid().mean = 0.0104\n",
      "[validate_yoloow_model] ✅  Avg Loss  (box/obj/cls/total): 0.0871 / 0.0566 / 0.2750 / 0.4187\n"
     ]
    },
    {
     "name": "stderr",
     "output_type": "stream",
     "text": [
      "[YoloOW] Epoch 7/10:   0%|          | 0/24 [00:00<?, ?it/s]"
     ]
    },
    {
     "name": "stdout",
     "output_type": "stream",
     "text": [
      "[DEBUG] Head 0 | iou.min=0.1214, iou.max=0.8966, iou.mean=0.5591\n",
      "[DEBUG] Head 0 | ps[..., 4].sigmoid().mean = 0.0013\n",
      "[DEBUG] Head 1 | iou.min=0.0775, iou.max=0.8584, iou.mean=0.4888\n",
      "[DEBUG] Head 1 | ps[..., 4].sigmoid().mean = 0.0047\n",
      "[DEBUG] Head 2 | iou.min=0.0168, iou.max=0.7889, iou.mean=0.3379\n",
      "[DEBUG] Head 2 | ps[..., 4].sigmoid().mean = 0.0109\n"
     ]
    },
    {
     "name": "stderr",
     "output_type": "stream",
     "text": [
      "[YoloOW] Epoch 7/10:   4%|▍         | 1/24 [00:01<00:25,  1.09s/it]"
     ]
    },
    {
     "name": "stdout",
     "output_type": "stream",
     "text": [
      "[DEBUG] Head 0 | iou.min=0.1672, iou.max=0.9329, iou.mean=0.5723\n",
      "[DEBUG] Head 0 | ps[..., 4].sigmoid().mean = 0.0013\n",
      "[DEBUG] Head 1 | iou.min=0.1330, iou.max=0.8274, iou.mean=0.4789\n",
      "[DEBUG] Head 1 | ps[..., 4].sigmoid().mean = 0.0047\n",
      "[DEBUG] Head 2 | iou.min=-0.0337, iou.max=0.7880, iou.mean=0.3194\n",
      "[DEBUG] Head 2 | ps[..., 4].sigmoid().mean = 0.0108\n"
     ]
    },
    {
     "name": "stderr",
     "output_type": "stream",
     "text": [
      "[YoloOW] Epoch 7/10:   8%|▊         | 2/24 [00:02<00:23,  1.08s/it]"
     ]
    },
    {
     "name": "stdout",
     "output_type": "stream",
     "text": [
      "[DEBUG] Head 0 | iou.min=0.2145, iou.max=0.9184, iou.mean=0.4751\n",
      "[DEBUG] Head 0 | ps[..., 4].sigmoid().mean = 0.0013\n",
      "[DEBUG] Head 1 | iou.min=0.1053, iou.max=0.7503, iou.mean=0.3888\n",
      "[DEBUG] Head 1 | ps[..., 4].sigmoid().mean = 0.0046\n",
      "[DEBUG] Head 2 | iou.min=-0.0603, iou.max=0.7560, iou.mean=0.2915\n",
      "[DEBUG] Head 2 | ps[..., 4].sigmoid().mean = 0.0104\n"
     ]
    },
    {
     "name": "stderr",
     "output_type": "stream",
     "text": [
      "[YoloOW] Epoch 7/10:  12%|█▎        | 3/24 [00:03<00:22,  1.09s/it]"
     ]
    },
    {
     "name": "stdout",
     "output_type": "stream",
     "text": [
      "[DEBUG] Head 0 | iou.min=0.2349, iou.max=0.9267, iou.mean=0.5647\n",
      "[DEBUG] Head 0 | ps[..., 4].sigmoid().mean = 0.0013\n",
      "[DEBUG] Head 1 | iou.min=0.0652, iou.max=0.8265, iou.mean=0.4882\n",
      "[DEBUG] Head 1 | ps[..., 4].sigmoid().mean = 0.0046\n",
      "[DEBUG] Head 2 | iou.min=0.0113, iou.max=0.8145, iou.mean=0.3508\n",
      "[DEBUG] Head 2 | ps[..., 4].sigmoid().mean = 0.0100\n"
     ]
    },
    {
     "name": "stderr",
     "output_type": "stream",
     "text": [
      "[YoloOW] Epoch 7/10:  17%|█▋        | 4/24 [00:04<00:22,  1.13s/it]"
     ]
    },
    {
     "name": "stdout",
     "output_type": "stream",
     "text": [
      "[DEBUG] Head 0 | iou.min=0.1174, iou.max=0.9461, iou.mean=0.4892\n",
      "[DEBUG] Head 0 | ps[..., 4].sigmoid().mean = 0.0013\n",
      "[DEBUG] Head 1 | iou.min=0.0766, iou.max=0.8568, iou.mean=0.4153\n",
      "[DEBUG] Head 1 | ps[..., 4].sigmoid().mean = 0.0046\n",
      "[DEBUG] Head 2 | iou.min=-0.0539, iou.max=0.8651, iou.mean=0.3360\n",
      "[DEBUG] Head 2 | ps[..., 4].sigmoid().mean = 0.0095\n"
     ]
    },
    {
     "name": "stderr",
     "output_type": "stream",
     "text": [
      "[YoloOW] Epoch 7/10:  21%|██        | 5/24 [00:05<00:21,  1.11s/it]"
     ]
    },
    {
     "name": "stdout",
     "output_type": "stream",
     "text": [
      "[DEBUG] Head 0 | iou.min=0.1580, iou.max=0.8441, iou.mean=0.5103\n",
      "[DEBUG] Head 0 | ps[..., 4].sigmoid().mean = 0.0013\n",
      "[DEBUG] Head 1 | iou.min=0.0615, iou.max=0.8041, iou.mean=0.4677\n",
      "[DEBUG] Head 1 | ps[..., 4].sigmoid().mean = 0.0046\n",
      "[DEBUG] Head 2 | iou.min=0.0734, iou.max=0.9249, iou.mean=0.3856\n",
      "[DEBUG] Head 2 | ps[..., 4].sigmoid().mean = 0.0090\n"
     ]
    },
    {
     "name": "stderr",
     "output_type": "stream",
     "text": [
      "[YoloOW] Epoch 7/10:  25%|██▌       | 6/24 [00:06<00:19,  1.09s/it]"
     ]
    },
    {
     "name": "stdout",
     "output_type": "stream",
     "text": [
      "[DEBUG] Head 0 | iou.min=0.1247, iou.max=0.8656, iou.mean=0.3790\n",
      "[DEBUG] Head 0 | ps[..., 4].sigmoid().mean = 0.0013\n",
      "[DEBUG] Head 1 | iou.min=0.0690, iou.max=0.8579, iou.mean=0.3239\n",
      "[DEBUG] Head 1 | ps[..., 4].sigmoid().mean = 0.0046\n",
      "[DEBUG] Head 2 | iou.min=-0.0271, iou.max=0.8425, iou.mean=0.2706\n",
      "[DEBUG] Head 2 | ps[..., 4].sigmoid().mean = 0.0096\n"
     ]
    },
    {
     "name": "stderr",
     "output_type": "stream",
     "text": [
      "[YoloOW] Epoch 7/10:  29%|██▉       | 7/24 [00:07<00:18,  1.09s/it]"
     ]
    },
    {
     "name": "stdout",
     "output_type": "stream",
     "text": [
      "[DEBUG] Head 0 | iou.min=0.1695, iou.max=0.8963, iou.mean=0.6216\n",
      "[DEBUG] Head 0 | ps[..., 4].sigmoid().mean = 0.0013\n",
      "[DEBUG] Head 1 | iou.min=0.0837, iou.max=0.7734, iou.mean=0.5138\n",
      "[DEBUG] Head 1 | ps[..., 4].sigmoid().mean = 0.0046\n",
      "[DEBUG] Head 2 | iou.min=0.0395, iou.max=0.9060, iou.mean=0.3408\n",
      "[DEBUG] Head 2 | ps[..., 4].sigmoid().mean = 0.0094\n"
     ]
    },
    {
     "name": "stderr",
     "output_type": "stream",
     "text": [
      "[YoloOW] Epoch 7/10:  33%|███▎      | 8/24 [00:08<00:17,  1.08s/it]"
     ]
    },
    {
     "name": "stdout",
     "output_type": "stream",
     "text": [
      "[DEBUG] Head 0 | iou.min=0.1816, iou.max=0.8768, iou.mean=0.5326\n",
      "[DEBUG] Head 0 | ps[..., 4].sigmoid().mean = 0.0013\n",
      "[DEBUG] Head 1 | iou.min=0.0580, iou.max=0.8624, iou.mean=0.4487\n",
      "[DEBUG] Head 1 | ps[..., 4].sigmoid().mean = 0.0046\n",
      "[DEBUG] Head 2 | iou.min=0.0363, iou.max=0.7544, iou.mean=0.2898\n",
      "[DEBUG] Head 2 | ps[..., 4].sigmoid().mean = 0.0106\n"
     ]
    },
    {
     "name": "stderr",
     "output_type": "stream",
     "text": [
      "[YoloOW] Epoch 7/10:  38%|███▊      | 9/24 [00:09<00:16,  1.07s/it]"
     ]
    },
    {
     "name": "stdout",
     "output_type": "stream",
     "text": [
      "[DEBUG] Head 0 | iou.min=0.0784, iou.max=0.9442, iou.mean=0.3741\n",
      "[DEBUG] Head 0 | ps[..., 4].sigmoid().mean = 0.0013\n",
      "[DEBUG] Head 1 | iou.min=0.0561, iou.max=0.8537, iou.mean=0.3210\n",
      "[DEBUG] Head 1 | ps[..., 4].sigmoid().mean = 0.0046\n",
      "[DEBUG] Head 2 | iou.min=-0.0357, iou.max=0.8046, iou.mean=0.2774\n",
      "[DEBUG] Head 2 | ps[..., 4].sigmoid().mean = 0.0114\n"
     ]
    },
    {
     "name": "stderr",
     "output_type": "stream",
     "text": [
      "[YoloOW] Epoch 7/10:  42%|████▏     | 10/24 [00:10<00:15,  1.09s/it, Loss=7.0961, box=0.101, obj=0.071, cls=0.271, total loss=0.444, lr=0.000691]"
     ]
    },
    {
     "name": "stdout",
     "output_type": "stream",
     "text": [
      "[DEBUG] Head 0 | iou.min=0.2162, iou.max=0.9299, iou.mean=0.5283\n",
      "[DEBUG] Head 0 | ps[..., 4].sigmoid().mean = 0.0013\n",
      "[DEBUG] Head 1 | iou.min=0.0986, iou.max=0.8501, iou.mean=0.4322\n",
      "[DEBUG] Head 1 | ps[..., 4].sigmoid().mean = 0.0046\n",
      "[DEBUG] Head 2 | iou.min=-0.0187, iou.max=0.7947, iou.mean=0.2847\n",
      "[DEBUG] Head 2 | ps[..., 4].sigmoid().mean = 0.0117\n"
     ]
    },
    {
     "name": "stderr",
     "output_type": "stream",
     "text": [
      "[YoloOW] Epoch 7/10:  46%|████▌     | 11/24 [00:12<00:14,  1.09s/it, Loss=7.0961, box=0.101, obj=0.071, cls=0.271, total loss=0.444, lr=0.000691]"
     ]
    },
    {
     "name": "stdout",
     "output_type": "stream",
     "text": [
      "[DEBUG] Head 0 | iou.min=0.1253, iou.max=0.8289, iou.mean=0.4172\n",
      "[DEBUG] Head 0 | ps[..., 4].sigmoid().mean = 0.0013\n",
      "[DEBUG] Head 1 | iou.min=0.0882, iou.max=0.7949, iou.mean=0.3482\n",
      "[DEBUG] Head 1 | ps[..., 4].sigmoid().mean = 0.0047\n",
      "[DEBUG] Head 2 | iou.min=-0.0421, iou.max=0.8030, iou.mean=0.3059\n",
      "[DEBUG] Head 2 | ps[..., 4].sigmoid().mean = 0.0114\n"
     ]
    },
    {
     "name": "stderr",
     "output_type": "stream",
     "text": [
      "[YoloOW] Epoch 7/10:  50%|█████     | 12/24 [00:13<00:13,  1.09s/it, Loss=7.0961, box=0.101, obj=0.071, cls=0.271, total loss=0.444, lr=0.000691]"
     ]
    },
    {
     "name": "stdout",
     "output_type": "stream",
     "text": [
      "[DEBUG] Head 0 | iou.min=0.1814, iou.max=0.8701, iou.mean=0.4620\n",
      "[DEBUG] Head 0 | ps[..., 4].sigmoid().mean = 0.0012\n",
      "[DEBUG] Head 1 | iou.min=0.1359, iou.max=0.8762, iou.mean=0.3909\n",
      "[DEBUG] Head 1 | ps[..., 4].sigmoid().mean = 0.0047\n",
      "[DEBUG] Head 2 | iou.min=-0.0440, iou.max=0.8108, iou.mean=0.2835\n",
      "[DEBUG] Head 2 | ps[..., 4].sigmoid().mean = 0.0126\n"
     ]
    },
    {
     "name": "stderr",
     "output_type": "stream",
     "text": [
      "[YoloOW] Epoch 7/10:  54%|█████▍    | 13/24 [00:14<00:12,  1.09s/it, Loss=7.0961, box=0.101, obj=0.071, cls=0.271, total loss=0.444, lr=0.000691]"
     ]
    },
    {
     "name": "stdout",
     "output_type": "stream",
     "text": [
      "[DEBUG] Head 0 | iou.min=0.1969, iou.max=0.9002, iou.mean=0.5231\n",
      "[DEBUG] Head 0 | ps[..., 4].sigmoid().mean = 0.0012\n",
      "[DEBUG] Head 1 | iou.min=0.1613, iou.max=0.8149, iou.mean=0.4593\n",
      "[DEBUG] Head 1 | ps[..., 4].sigmoid().mean = 0.0047\n",
      "[DEBUG] Head 2 | iou.min=0.0021, iou.max=0.8425, iou.mean=0.3474\n",
      "[DEBUG] Head 2 | ps[..., 4].sigmoid().mean = 0.0125\n"
     ]
    },
    {
     "name": "stderr",
     "output_type": "stream",
     "text": [
      "[YoloOW] Epoch 7/10:  58%|█████▊    | 14/24 [00:15<00:10,  1.09s/it, Loss=7.0961, box=0.101, obj=0.071, cls=0.271, total loss=0.444, lr=0.000691]"
     ]
    },
    {
     "name": "stdout",
     "output_type": "stream",
     "text": [
      "[DEBUG] Head 0 | iou.min=0.1459, iou.max=0.8955, iou.mean=0.5356\n",
      "[DEBUG] Head 0 | ps[..., 4].sigmoid().mean = 0.0012\n",
      "[DEBUG] Head 1 | iou.min=0.1074, iou.max=0.8981, iou.mean=0.4442\n",
      "[DEBUG] Head 1 | ps[..., 4].sigmoid().mean = 0.0047\n",
      "[DEBUG] Head 2 | iou.min=-0.0280, iou.max=0.8486, iou.mean=0.3414\n",
      "[DEBUG] Head 2 | ps[..., 4].sigmoid().mean = 0.0130\n"
     ]
    },
    {
     "name": "stderr",
     "output_type": "stream",
     "text": [
      "[YoloOW] Epoch 7/10:  62%|██████▎   | 15/24 [00:16<00:09,  1.08s/it, Loss=7.0961, box=0.101, obj=0.071, cls=0.271, total loss=0.444, lr=0.000691]"
     ]
    },
    {
     "name": "stdout",
     "output_type": "stream",
     "text": [
      "[DEBUG] Head 0 | iou.min=0.1890, iou.max=0.8806, iou.mean=0.5275\n",
      "[DEBUG] Head 0 | ps[..., 4].sigmoid().mean = 0.0012\n",
      "[DEBUG] Head 1 | iou.min=0.0851, iou.max=0.8361, iou.mean=0.4247\n",
      "[DEBUG] Head 1 | ps[..., 4].sigmoid().mean = 0.0047\n",
      "[DEBUG] Head 2 | iou.min=-0.0132, iou.max=0.8239, iou.mean=0.2977\n",
      "[DEBUG] Head 2 | ps[..., 4].sigmoid().mean = 0.0131\n"
     ]
    },
    {
     "name": "stderr",
     "output_type": "stream",
     "text": [
      "[YoloOW] Epoch 7/10:  67%|██████▋   | 16/24 [00:17<00:08,  1.09s/it, Loss=7.0961, box=0.101, obj=0.071, cls=0.271, total loss=0.444, lr=0.000691]"
     ]
    },
    {
     "name": "stdout",
     "output_type": "stream",
     "text": [
      "[DEBUG] Head 0 | iou.min=0.1266, iou.max=0.8882, iou.mean=0.6062\n",
      "[DEBUG] Head 0 | ps[..., 4].sigmoid().mean = 0.0012\n",
      "[DEBUG] Head 1 | iou.min=0.1470, iou.max=0.8461, iou.mean=0.4557\n",
      "[DEBUG] Head 1 | ps[..., 4].sigmoid().mean = 0.0047\n",
      "[DEBUG] Head 2 | iou.min=-0.0304, iou.max=0.8495, iou.mean=0.2778\n",
      "[DEBUG] Head 2 | ps[..., 4].sigmoid().mean = 0.0132\n"
     ]
    },
    {
     "name": "stderr",
     "output_type": "stream",
     "text": [
      "[YoloOW] Epoch 7/10:  71%|███████   | 17/24 [00:18<00:07,  1.10s/it, Loss=7.0961, box=0.101, obj=0.071, cls=0.271, total loss=0.444, lr=0.000691]"
     ]
    },
    {
     "name": "stdout",
     "output_type": "stream",
     "text": [
      "[DEBUG] Head 0 | iou.min=0.1794, iou.max=0.9427, iou.mean=0.5105\n",
      "[DEBUG] Head 0 | ps[..., 4].sigmoid().mean = 0.0012\n",
      "[DEBUG] Head 1 | iou.min=0.1026, iou.max=0.8290, iou.mean=0.4535\n",
      "[DEBUG] Head 1 | ps[..., 4].sigmoid().mean = 0.0047\n",
      "[DEBUG] Head 2 | iou.min=0.0065, iou.max=0.8028, iou.mean=0.3239\n",
      "[DEBUG] Head 2 | ps[..., 4].sigmoid().mean = 0.0121\n"
     ]
    },
    {
     "name": "stderr",
     "output_type": "stream",
     "text": [
      "[YoloOW] Epoch 7/10:  75%|███████▌  | 18/24 [00:19<00:06,  1.09s/it, Loss=7.0961, box=0.101, obj=0.071, cls=0.271, total loss=0.444, lr=0.000691]"
     ]
    },
    {
     "name": "stdout",
     "output_type": "stream",
     "text": [
      "[DEBUG] Head 0 | iou.min=0.1355, iou.max=0.8613, iou.mean=0.5008\n",
      "[DEBUG] Head 0 | ps[..., 4].sigmoid().mean = 0.0012\n",
      "[DEBUG] Head 1 | iou.min=0.0650, iou.max=0.8551, iou.mean=0.4483\n",
      "[DEBUG] Head 1 | ps[..., 4].sigmoid().mean = 0.0047\n",
      "[DEBUG] Head 2 | iou.min=0.0148, iou.max=0.9039, iou.mean=0.3586\n",
      "[DEBUG] Head 2 | ps[..., 4].sigmoid().mean = 0.0120\n"
     ]
    },
    {
     "name": "stderr",
     "output_type": "stream",
     "text": [
      "[YoloOW] Epoch 7/10:  79%|███████▉  | 19/24 [00:20<00:05,  1.09s/it, Loss=7.0961, box=0.101, obj=0.071, cls=0.271, total loss=0.444, lr=0.000691]"
     ]
    },
    {
     "name": "stdout",
     "output_type": "stream",
     "text": [
      "[DEBUG] Head 0 | iou.min=0.1880, iou.max=0.8889, iou.mean=0.5598\n",
      "[DEBUG] Head 0 | ps[..., 4].sigmoid().mean = 0.0012\n",
      "[DEBUG] Head 1 | iou.min=0.1121, iou.max=0.8444, iou.mean=0.4233\n",
      "[DEBUG] Head 1 | ps[..., 4].sigmoid().mean = 0.0047\n",
      "[DEBUG] Head 2 | iou.min=-0.0243, iou.max=0.7488, iou.mean=0.2845\n",
      "[DEBUG] Head 2 | ps[..., 4].sigmoid().mean = 0.0120\n"
     ]
    },
    {
     "name": "stderr",
     "output_type": "stream",
     "text": [
      "[YoloOW] Epoch 7/10:  83%|████████▎ | 20/24 [00:21<00:04,  1.08s/it, Loss=6.4469, box=0.087, obj=0.050, cls=0.267, total loss=0.403, lr=0.000691]"
     ]
    },
    {
     "name": "stdout",
     "output_type": "stream",
     "text": [
      "[DEBUG] Head 0 | iou.min=0.1172, iou.max=0.9058, iou.mean=0.5098\n",
      "[DEBUG] Head 0 | ps[..., 4].sigmoid().mean = 0.0012\n",
      "[DEBUG] Head 1 | iou.min=0.0913, iou.max=0.7418, iou.mean=0.4270\n",
      "[DEBUG] Head 1 | ps[..., 4].sigmoid().mean = 0.0047\n",
      "[DEBUG] Head 2 | iou.min=0.0765, iou.max=0.7174, iou.mean=0.3154\n",
      "[DEBUG] Head 2 | ps[..., 4].sigmoid().mean = 0.0107\n"
     ]
    },
    {
     "name": "stderr",
     "output_type": "stream",
     "text": [
      "[YoloOW] Epoch 7/10:  88%|████████▊ | 21/24 [00:22<00:03,  1.07s/it, Loss=6.4469, box=0.087, obj=0.050, cls=0.267, total loss=0.403, lr=0.000691]"
     ]
    },
    {
     "name": "stdout",
     "output_type": "stream",
     "text": [
      "[DEBUG] Head 0 | iou.min=0.1102, iou.max=0.8727, iou.mean=0.4732\n",
      "[DEBUG] Head 0 | ps[..., 4].sigmoid().mean = 0.0012\n",
      "[DEBUG] Head 1 | iou.min=0.0641, iou.max=0.8174, iou.mean=0.4182\n",
      "[DEBUG] Head 1 | ps[..., 4].sigmoid().mean = 0.0046\n",
      "[DEBUG] Head 2 | iou.min=0.0313, iou.max=0.8012, iou.mean=0.3293\n",
      "[DEBUG] Head 2 | ps[..., 4].sigmoid().mean = 0.0106\n"
     ]
    },
    {
     "name": "stderr",
     "output_type": "stream",
     "text": [
      "[YoloOW] Epoch 7/10:  92%|█████████▏| 22/24 [00:23<00:02,  1.08s/it, Loss=6.4469, box=0.087, obj=0.050, cls=0.267, total loss=0.403, lr=0.000691]"
     ]
    },
    {
     "name": "stdout",
     "output_type": "stream",
     "text": [
      "[DEBUG] Head 0 | iou.min=0.2432, iou.max=0.9169, iou.mean=0.5373\n",
      "[DEBUG] Head 0 | ps[..., 4].sigmoid().mean = 0.0012\n",
      "[DEBUG] Head 1 | iou.min=0.1209, iou.max=0.8055, iou.mean=0.4313\n",
      "[DEBUG] Head 1 | ps[..., 4].sigmoid().mean = 0.0045\n",
      "[DEBUG] Head 2 | iou.min=-0.0075, iou.max=0.7762, iou.mean=0.2981\n",
      "[DEBUG] Head 2 | ps[..., 4].sigmoid().mean = 0.0108\n"
     ]
    },
    {
     "name": "stderr",
     "output_type": "stream",
     "text": [
      "[YoloOW] Epoch 7/10:  96%|█████████▌| 23/24 [00:25<00:01,  1.08s/it, Loss=6.4469, box=0.087, obj=0.050, cls=0.267, total loss=0.403, lr=0.000691]"
     ]
    },
    {
     "name": "stdout",
     "output_type": "stream",
     "text": [
      "[DEBUG] Head 0 | iou.min=0.1268, iou.max=0.8543, iou.mean=0.5100\n",
      "[DEBUG] Head 0 | ps[..., 4].sigmoid().mean = 0.0012\n",
      "[DEBUG] Head 1 | iou.min=0.0901, iou.max=0.8133, iou.mean=0.4222\n",
      "[DEBUG] Head 1 | ps[..., 4].sigmoid().mean = 0.0045\n",
      "[DEBUG] Head 2 | iou.min=-0.0053, iou.max=0.7464, iou.mean=0.3019\n",
      "[DEBUG] Head 2 | ps[..., 4].sigmoid().mean = 0.0104\n"
     ]
    },
    {
     "name": "stderr",
     "output_type": "stream",
     "text": [
      "[YoloOW] Epoch 7/10: 100%|██████████| 24/24 [00:26<00:00,  1.09s/it, Loss=6.5779, box=0.088, obj=0.065, cls=0.258, total loss=0.411, lr=0.000691]\n"
     ]
    },
    {
     "name": "stdout",
     "output_type": "stream",
     "text": [
      "\n",
      "[YoloOW] ✅ Epoch 7/10 complete in 26.11s | Avg Loss: 6.6757\n",
      "\n",
      "[YoloOW] 📊 Running evaluation after epoch 7 ...\n",
      "[DEBUG] Head 0 | iou.min=0.1430, iou.max=0.8947, iou.mean=0.5256\n",
      "[DEBUG] Head 0 | ps[..., 4].sigmoid().mean = 0.0012\n",
      "[DEBUG] Head 1 | iou.min=0.1338, iou.max=0.9216, iou.mean=0.4423\n",
      "[DEBUG] Head 1 | ps[..., 4].sigmoid().mean = 0.0044\n",
      "[DEBUG] Head 2 | iou.min=-0.0058, iou.max=0.7450, iou.mean=0.3308\n",
      "[DEBUG] Head 2 | ps[..., 4].sigmoid().mean = 0.0102\n",
      "[DEBUG] Head 0 | iou.min=0.1407, iou.max=0.8130, iou.mean=0.5095\n",
      "[DEBUG] Head 0 | ps[..., 4].sigmoid().mean = 0.0012\n",
      "[DEBUG] Head 1 | iou.min=0.0528, iou.max=0.8457, iou.mean=0.4260\n",
      "[DEBUG] Head 1 | ps[..., 4].sigmoid().mean = 0.0044\n",
      "[DEBUG] Head 2 | iou.min=-0.0126, iou.max=0.8500, iou.mean=0.3135\n",
      "[DEBUG] Head 2 | ps[..., 4].sigmoid().mean = 0.0103\n",
      "[DEBUG] Head 0 | iou.min=0.1759, iou.max=0.8287, iou.mean=0.5013\n",
      "[DEBUG] Head 0 | ps[..., 4].sigmoid().mean = 0.0012\n",
      "[DEBUG] Head 1 | iou.min=0.0520, iou.max=0.9329, iou.mean=0.4183\n",
      "[DEBUG] Head 1 | ps[..., 4].sigmoid().mean = 0.0044\n",
      "[DEBUG] Head 2 | iou.min=-0.0146, iou.max=0.8670, iou.mean=0.3164\n",
      "[DEBUG] Head 2 | ps[..., 4].sigmoid().mean = 0.0101\n",
      "[DEBUG] Head 0 | iou.min=0.1403, iou.max=0.8563, iou.mean=0.5305\n",
      "[DEBUG] Head 0 | ps[..., 4].sigmoid().mean = 0.0012\n",
      "[DEBUG] Head 1 | iou.min=0.0917, iou.max=0.7953, iou.mean=0.4786\n",
      "[DEBUG] Head 1 | ps[..., 4].sigmoid().mean = 0.0044\n",
      "[DEBUG] Head 2 | iou.min=0.0427, iou.max=0.8913, iou.mean=0.3457\n",
      "[DEBUG] Head 2 | ps[..., 4].sigmoid().mean = 0.0098\n",
      "[DEBUG] Head 0 | iou.min=0.1668, iou.max=0.8846, iou.mean=0.5707\n",
      "[DEBUG] Head 0 | ps[..., 4].sigmoid().mean = 0.0012\n",
      "[DEBUG] Head 1 | iou.min=0.2129, iou.max=0.8460, iou.mean=0.5163\n",
      "[DEBUG] Head 1 | ps[..., 4].sigmoid().mean = 0.0044\n",
      "[DEBUG] Head 2 | iou.min=0.0682, iou.max=0.8467, iou.mean=0.3528\n",
      "[DEBUG] Head 2 | ps[..., 4].sigmoid().mean = 0.0098\n",
      "[DEBUG] Head 0 | iou.min=0.3334, iou.max=0.9491, iou.mean=0.5621\n",
      "[DEBUG] Head 0 | ps[..., 4].sigmoid().mean = 0.0012\n",
      "[DEBUG] Head 1 | iou.min=0.0670, iou.max=0.8640, iou.mean=0.4563\n",
      "[DEBUG] Head 1 | ps[..., 4].sigmoid().mean = 0.0044\n",
      "[DEBUG] Head 2 | iou.min=0.0226, iou.max=0.8438, iou.mean=0.2861\n",
      "[DEBUG] Head 2 | ps[..., 4].sigmoid().mean = 0.0100\n",
      "[DEBUG] Head 0 | iou.min=0.1858, iou.max=0.9226, iou.mean=0.4777\n",
      "[DEBUG] Head 0 | ps[..., 4].sigmoid().mean = 0.0012\n",
      "[DEBUG] Head 1 | iou.min=0.0861, iou.max=0.8277, iou.mean=0.3920\n",
      "[DEBUG] Head 1 | ps[..., 4].sigmoid().mean = 0.0044\n",
      "[DEBUG] Head 2 | iou.min=-0.0321, iou.max=0.7976, iou.mean=0.3352\n",
      "[DEBUG] Head 2 | ps[..., 4].sigmoid().mean = 0.0102\n",
      "[DEBUG] Head 0 | iou.min=0.1314, iou.max=0.8887, iou.mean=0.4115\n",
      "[DEBUG] Head 0 | ps[..., 4].sigmoid().mean = 0.0012\n",
      "[DEBUG] Head 1 | iou.min=0.0663, iou.max=0.7877, iou.mean=0.3276\n",
      "[DEBUG] Head 1 | ps[..., 4].sigmoid().mean = 0.0044\n",
      "[DEBUG] Head 2 | iou.min=-0.0096, iou.max=0.7837, iou.mean=0.2738\n",
      "[DEBUG] Head 2 | ps[..., 4].sigmoid().mean = 0.0107\n",
      "[DEBUG] Head 0 | iou.min=0.2327, iou.max=0.5986, iou.mean=0.4831\n",
      "[DEBUG] Head 0 | ps[..., 4].sigmoid().mean = 0.0012\n",
      "[DEBUG] Head 1 | iou.min=0.0672, iou.max=0.6343, iou.mean=0.4617\n",
      "[DEBUG] Head 1 | ps[..., 4].sigmoid().mean = 0.0044\n",
      "[DEBUG] Head 2 | iou.min=0.1037, iou.max=0.7648, iou.mean=0.3820\n",
      "[DEBUG] Head 2 | ps[..., 4].sigmoid().mean = 0.0094\n",
      "[validate_yoloow_model] ✅  Avg Loss  (box/obj/cls/total): 0.0865 / 0.0569 / 0.2762 / 0.4195\n"
     ]
    },
    {
     "name": "stderr",
     "output_type": "stream",
     "text": [
      "[YoloOW] Epoch 8/10:   0%|          | 0/24 [00:00<?, ?it/s]"
     ]
    },
    {
     "name": "stdout",
     "output_type": "stream",
     "text": [
      "[DEBUG] Head 0 | iou.min=0.1145, iou.max=0.9663, iou.mean=0.5840\n",
      "[DEBUG] Head 0 | ps[..., 4].sigmoid().mean = 0.0012\n",
      "[DEBUG] Head 1 | iou.min=0.0573, iou.max=0.8416, iou.mean=0.4646\n",
      "[DEBUG] Head 1 | ps[..., 4].sigmoid().mean = 0.0044\n",
      "[DEBUG] Head 2 | iou.min=0.0324, iou.max=0.8298, iou.mean=0.3383\n",
      "[DEBUG] Head 2 | ps[..., 4].sigmoid().mean = 0.0102\n"
     ]
    },
    {
     "name": "stderr",
     "output_type": "stream",
     "text": [
      "[YoloOW] Epoch 8/10:   4%|▍         | 1/24 [00:01<00:25,  1.11s/it]"
     ]
    },
    {
     "name": "stdout",
     "output_type": "stream",
     "text": [
      "[DEBUG] Head 0 | iou.min=0.1505, iou.max=0.9065, iou.mean=0.5308\n",
      "[DEBUG] Head 0 | ps[..., 4].sigmoid().mean = 0.0012\n",
      "[DEBUG] Head 1 | iou.min=0.1432, iou.max=0.8503, iou.mean=0.4516\n",
      "[DEBUG] Head 1 | ps[..., 4].sigmoid().mean = 0.0044\n",
      "[DEBUG] Head 2 | iou.min=-0.0059, iou.max=0.9234, iou.mean=0.3409\n",
      "[DEBUG] Head 2 | ps[..., 4].sigmoid().mean = 0.0099\n"
     ]
    },
    {
     "name": "stderr",
     "output_type": "stream",
     "text": [
      "[YoloOW] Epoch 8/10:   8%|▊         | 2/24 [00:02<00:23,  1.09s/it]"
     ]
    },
    {
     "name": "stdout",
     "output_type": "stream",
     "text": [
      "[DEBUG] Head 0 | iou.min=0.1409, iou.max=0.8776, iou.mean=0.5092\n",
      "[DEBUG] Head 0 | ps[..., 4].sigmoid().mean = 0.0012\n",
      "[DEBUG] Head 1 | iou.min=0.0735, iou.max=0.8654, iou.mean=0.4337\n",
      "[DEBUG] Head 1 | ps[..., 4].sigmoid().mean = 0.0044\n",
      "[DEBUG] Head 2 | iou.min=-0.0256, iou.max=0.7721, iou.mean=0.3140\n",
      "[DEBUG] Head 2 | ps[..., 4].sigmoid().mean = 0.0095\n"
     ]
    },
    {
     "name": "stderr",
     "output_type": "stream",
     "text": [
      "[YoloOW] Epoch 8/10:  12%|█▎        | 3/24 [00:03<00:22,  1.05s/it]"
     ]
    },
    {
     "name": "stdout",
     "output_type": "stream",
     "text": [
      "[DEBUG] Head 0 | iou.min=0.1809, iou.max=0.8729, iou.mean=0.5452\n",
      "[DEBUG] Head 0 | ps[..., 4].sigmoid().mean = 0.0013\n",
      "[DEBUG] Head 1 | iou.min=0.1674, iou.max=0.8789, iou.mean=0.4722\n",
      "[DEBUG] Head 1 | ps[..., 4].sigmoid().mean = 0.0044\n",
      "[DEBUG] Head 2 | iou.min=-0.0056, iou.max=0.8492, iou.mean=0.3378\n",
      "[DEBUG] Head 2 | ps[..., 4].sigmoid().mean = 0.0098\n"
     ]
    },
    {
     "name": "stderr",
     "output_type": "stream",
     "text": [
      "[YoloOW] Epoch 8/10:  17%|█▋        | 4/24 [00:04<00:21,  1.07s/it]"
     ]
    },
    {
     "name": "stdout",
     "output_type": "stream",
     "text": [
      "[DEBUG] Head 0 | iou.min=0.1442, iou.max=0.7743, iou.mean=0.4326\n",
      "[DEBUG] Head 0 | ps[..., 4].sigmoid().mean = 0.0013\n",
      "[DEBUG] Head 1 | iou.min=0.0812, iou.max=0.8223, iou.mean=0.3775\n",
      "[DEBUG] Head 1 | ps[..., 4].sigmoid().mean = 0.0044\n",
      "[DEBUG] Head 2 | iou.min=-0.0252, iou.max=0.8268, iou.mean=0.3045\n",
      "[DEBUG] Head 2 | ps[..., 4].sigmoid().mean = 0.0096\n"
     ]
    },
    {
     "name": "stderr",
     "output_type": "stream",
     "text": [
      "[YoloOW] Epoch 8/10:  21%|██        | 5/24 [00:05<00:20,  1.07s/it]"
     ]
    },
    {
     "name": "stdout",
     "output_type": "stream",
     "text": [
      "[DEBUG] Head 0 | iou.min=0.2477, iou.max=0.8724, iou.mean=0.5889\n",
      "[DEBUG] Head 0 | ps[..., 4].sigmoid().mean = 0.0013\n",
      "[DEBUG] Head 1 | iou.min=0.0817, iou.max=0.8576, iou.mean=0.4920\n",
      "[DEBUG] Head 1 | ps[..., 4].sigmoid().mean = 0.0044\n",
      "[DEBUG] Head 2 | iou.min=0.0103, iou.max=0.8193, iou.mean=0.3419\n",
      "[DEBUG] Head 2 | ps[..., 4].sigmoid().mean = 0.0090\n"
     ]
    },
    {
     "name": "stderr",
     "output_type": "stream",
     "text": [
      "[YoloOW] Epoch 8/10:  25%|██▌       | 6/24 [00:06<00:19,  1.07s/it]"
     ]
    },
    {
     "name": "stdout",
     "output_type": "stream",
     "text": [
      "[DEBUG] Head 0 | iou.min=0.1673, iou.max=0.9093, iou.mean=0.5249\n",
      "[DEBUG] Head 0 | ps[..., 4].sigmoid().mean = 0.0013\n",
      "[DEBUG] Head 1 | iou.min=0.1023, iou.max=0.8567, iou.mean=0.4157\n",
      "[DEBUG] Head 1 | ps[..., 4].sigmoid().mean = 0.0044\n",
      "[DEBUG] Head 2 | iou.min=-0.0081, iou.max=0.8967, iou.mean=0.2882\n",
      "[DEBUG] Head 2 | ps[..., 4].sigmoid().mean = 0.0093\n"
     ]
    },
    {
     "name": "stderr",
     "output_type": "stream",
     "text": [
      "[YoloOW] Epoch 8/10:  29%|██▉       | 7/24 [00:07<00:18,  1.09s/it]"
     ]
    },
    {
     "name": "stdout",
     "output_type": "stream",
     "text": [
      "[DEBUG] Head 0 | iou.min=0.1842, iou.max=0.8988, iou.mean=0.4700\n",
      "[DEBUG] Head 0 | ps[..., 4].sigmoid().mean = 0.0013\n",
      "[DEBUG] Head 1 | iou.min=0.0679, iou.max=0.8250, iou.mean=0.3902\n",
      "[DEBUG] Head 1 | ps[..., 4].sigmoid().mean = 0.0045\n",
      "[DEBUG] Head 2 | iou.min=-0.0421, iou.max=0.7241, iou.mean=0.2954\n",
      "[DEBUG] Head 2 | ps[..., 4].sigmoid().mean = 0.0088\n"
     ]
    },
    {
     "name": "stderr",
     "output_type": "stream",
     "text": [
      "[YoloOW] Epoch 8/10:  33%|███▎      | 8/24 [00:08<00:17,  1.07s/it]"
     ]
    },
    {
     "name": "stdout",
     "output_type": "stream",
     "text": [
      "[DEBUG] Head 0 | iou.min=0.1856, iou.max=0.8548, iou.mean=0.5052\n",
      "[DEBUG] Head 0 | ps[..., 4].sigmoid().mean = 0.0014\n",
      "[DEBUG] Head 1 | iou.min=0.0850, iou.max=0.8255, iou.mean=0.4122\n",
      "[DEBUG] Head 1 | ps[..., 4].sigmoid().mean = 0.0045\n",
      "[DEBUG] Head 2 | iou.min=-0.0059, iou.max=0.8658, iou.mean=0.2898\n",
      "[DEBUG] Head 2 | ps[..., 4].sigmoid().mean = 0.0091\n"
     ]
    },
    {
     "name": "stderr",
     "output_type": "stream",
     "text": [
      "[YoloOW] Epoch 8/10:  38%|███▊      | 9/24 [00:09<00:16,  1.07s/it]"
     ]
    },
    {
     "name": "stdout",
     "output_type": "stream",
     "text": [
      "[DEBUG] Head 0 | iou.min=0.1437, iou.max=0.8974, iou.mean=0.4944\n",
      "[DEBUG] Head 0 | ps[..., 4].sigmoid().mean = 0.0014\n",
      "[DEBUG] Head 1 | iou.min=0.1372, iou.max=0.8001, iou.mean=0.4084\n",
      "[DEBUG] Head 1 | ps[..., 4].sigmoid().mean = 0.0045\n",
      "[DEBUG] Head 2 | iou.min=-0.0116, iou.max=0.7924, iou.mean=0.3163\n",
      "[DEBUG] Head 2 | ps[..., 4].sigmoid().mean = 0.0091\n"
     ]
    },
    {
     "name": "stderr",
     "output_type": "stream",
     "text": [
      "[YoloOW] Epoch 8/10:  42%|████▏     | 10/24 [00:10<00:15,  1.08s/it, Loss=7.0113, box=0.089, obj=0.066, cls=0.283, total loss=0.438, lr=0.000412]"
     ]
    },
    {
     "name": "stdout",
     "output_type": "stream",
     "text": [
      "[DEBUG] Head 0 | iou.min=0.0958, iou.max=0.8891, iou.mean=0.3563\n",
      "[DEBUG] Head 0 | ps[..., 4].sigmoid().mean = 0.0014\n",
      "[DEBUG] Head 1 | iou.min=0.0587, iou.max=0.7753, iou.mean=0.3028\n",
      "[DEBUG] Head 1 | ps[..., 4].sigmoid().mean = 0.0046\n",
      "[DEBUG] Head 2 | iou.min=-0.0508, iou.max=0.7274, iou.mean=0.2629\n",
      "[DEBUG] Head 2 | ps[..., 4].sigmoid().mean = 0.0096\n"
     ]
    },
    {
     "name": "stderr",
     "output_type": "stream",
     "text": [
      "[YoloOW] Epoch 8/10:  46%|████▌     | 11/24 [00:11<00:14,  1.08s/it, Loss=7.0113, box=0.089, obj=0.066, cls=0.283, total loss=0.438, lr=0.000412]"
     ]
    },
    {
     "name": "stdout",
     "output_type": "stream",
     "text": [
      "[DEBUG] Head 0 | iou.min=0.1400, iou.max=0.8244, iou.mean=0.4805\n",
      "[DEBUG] Head 0 | ps[..., 4].sigmoid().mean = 0.0014\n",
      "[DEBUG] Head 1 | iou.min=0.0908, iou.max=0.7964, iou.mean=0.4317\n",
      "[DEBUG] Head 1 | ps[..., 4].sigmoid().mean = 0.0046\n",
      "[DEBUG] Head 2 | iou.min=-0.0592, iou.max=0.8940, iou.mean=0.3528\n",
      "[DEBUG] Head 2 | ps[..., 4].sigmoid().mean = 0.0101\n"
     ]
    },
    {
     "name": "stderr",
     "output_type": "stream",
     "text": [
      "[YoloOW] Epoch 8/10:  50%|█████     | 12/24 [00:12<00:12,  1.06s/it, Loss=7.0113, box=0.089, obj=0.066, cls=0.283, total loss=0.438, lr=0.000412]"
     ]
    },
    {
     "name": "stdout",
     "output_type": "stream",
     "text": [
      "[DEBUG] Head 0 | iou.min=0.1404, iou.max=0.8689, iou.mean=0.5316\n",
      "[DEBUG] Head 0 | ps[..., 4].sigmoid().mean = 0.0014\n",
      "[DEBUG] Head 1 | iou.min=0.0866, iou.max=0.8099, iou.mean=0.4680\n",
      "[DEBUG] Head 1 | ps[..., 4].sigmoid().mean = 0.0047\n",
      "[DEBUG] Head 2 | iou.min=0.0286, iou.max=0.7566, iou.mean=0.3545\n",
      "[DEBUG] Head 2 | ps[..., 4].sigmoid().mean = 0.0103\n"
     ]
    },
    {
     "name": "stderr",
     "output_type": "stream",
     "text": [
      "[YoloOW] Epoch 8/10:  54%|█████▍    | 13/24 [00:13<00:11,  1.08s/it, Loss=7.0113, box=0.089, obj=0.066, cls=0.283, total loss=0.438, lr=0.000412]"
     ]
    },
    {
     "name": "stdout",
     "output_type": "stream",
     "text": [
      "[DEBUG] Head 0 | iou.min=0.0999, iou.max=0.8761, iou.mean=0.5034\n",
      "[DEBUG] Head 0 | ps[..., 4].sigmoid().mean = 0.0014\n",
      "[DEBUG] Head 1 | iou.min=0.0628, iou.max=0.8264, iou.mean=0.4239\n",
      "[DEBUG] Head 1 | ps[..., 4].sigmoid().mean = 0.0047\n",
      "[DEBUG] Head 2 | iou.min=-0.0321, iou.max=0.8730, iou.mean=0.3125\n",
      "[DEBUG] Head 2 | ps[..., 4].sigmoid().mean = 0.0111\n"
     ]
    },
    {
     "name": "stderr",
     "output_type": "stream",
     "text": [
      "[YoloOW] Epoch 8/10:  58%|█████▊    | 14/24 [00:15<00:10,  1.07s/it, Loss=7.0113, box=0.089, obj=0.066, cls=0.283, total loss=0.438, lr=0.000412]"
     ]
    },
    {
     "name": "stdout",
     "output_type": "stream",
     "text": [
      "[DEBUG] Head 0 | iou.min=0.2233, iou.max=0.9479, iou.mean=0.5136\n",
      "[DEBUG] Head 0 | ps[..., 4].sigmoid().mean = 0.0014\n",
      "[DEBUG] Head 1 | iou.min=0.0692, iou.max=0.8925, iou.mean=0.4462\n",
      "[DEBUG] Head 1 | ps[..., 4].sigmoid().mean = 0.0048\n",
      "[DEBUG] Head 2 | iou.min=-0.0249, iou.max=0.8362, iou.mean=0.3384\n",
      "[DEBUG] Head 2 | ps[..., 4].sigmoid().mean = 0.0113\n"
     ]
    },
    {
     "name": "stderr",
     "output_type": "stream",
     "text": [
      "[YoloOW] Epoch 8/10:  62%|██████▎   | 15/24 [00:15<00:09,  1.03s/it, Loss=7.0113, box=0.089, obj=0.066, cls=0.283, total loss=0.438, lr=0.000412]"
     ]
    },
    {
     "name": "stdout",
     "output_type": "stream",
     "text": [
      "[DEBUG] Head 0 | iou.min=0.1222, iou.max=0.8327, iou.mean=0.5070\n",
      "[DEBUG] Head 0 | ps[..., 4].sigmoid().mean = 0.0014\n",
      "[DEBUG] Head 1 | iou.min=0.0694, iou.max=0.8148, iou.mean=0.4230\n",
      "[DEBUG] Head 1 | ps[..., 4].sigmoid().mean = 0.0048\n",
      "[DEBUG] Head 2 | iou.min=-0.0267, iou.max=0.8066, iou.mean=0.2882\n",
      "[DEBUG] Head 2 | ps[..., 4].sigmoid().mean = 0.0113\n"
     ]
    },
    {
     "name": "stderr",
     "output_type": "stream",
     "text": [
      "[YoloOW] Epoch 8/10:  67%|██████▋   | 16/24 [00:17<00:08,  1.06s/it, Loss=7.0113, box=0.089, obj=0.066, cls=0.283, total loss=0.438, lr=0.000412]"
     ]
    },
    {
     "name": "stdout",
     "output_type": "stream",
     "text": [
      "[DEBUG] Head 0 | iou.min=0.1345, iou.max=0.8949, iou.mean=0.4830\n",
      "[DEBUG] Head 0 | ps[..., 4].sigmoid().mean = 0.0014\n",
      "[DEBUG] Head 1 | iou.min=0.1475, iou.max=0.7626, iou.mean=0.3955\n",
      "[DEBUG] Head 1 | ps[..., 4].sigmoid().mean = 0.0048\n",
      "[DEBUG] Head 2 | iou.min=-0.0322, iou.max=0.7872, iou.mean=0.3271\n",
      "[DEBUG] Head 2 | ps[..., 4].sigmoid().mean = 0.0106\n"
     ]
    },
    {
     "name": "stderr",
     "output_type": "stream",
     "text": [
      "[YoloOW] Epoch 8/10:  71%|███████   | 17/24 [00:18<00:07,  1.06s/it, Loss=7.0113, box=0.089, obj=0.066, cls=0.283, total loss=0.438, lr=0.000412]"
     ]
    },
    {
     "name": "stdout",
     "output_type": "stream",
     "text": [
      "[DEBUG] Head 0 | iou.min=0.3044, iou.max=0.9367, iou.mean=0.6009\n",
      "[DEBUG] Head 0 | ps[..., 4].sigmoid().mean = 0.0014\n",
      "[DEBUG] Head 1 | iou.min=0.2236, iou.max=0.8001, iou.mean=0.5046\n",
      "[DEBUG] Head 1 | ps[..., 4].sigmoid().mean = 0.0048\n",
      "[DEBUG] Head 2 | iou.min=-0.0264, iou.max=0.7154, iou.mean=0.3227\n",
      "[DEBUG] Head 2 | ps[..., 4].sigmoid().mean = 0.0099\n"
     ]
    },
    {
     "name": "stderr",
     "output_type": "stream",
     "text": [
      "[YoloOW] Epoch 8/10:  75%|███████▌  | 18/24 [00:19<00:06,  1.06s/it, Loss=7.0113, box=0.089, obj=0.066, cls=0.283, total loss=0.438, lr=0.000412]"
     ]
    },
    {
     "name": "stdout",
     "output_type": "stream",
     "text": [
      "[DEBUG] Head 0 | iou.min=0.1463, iou.max=0.8826, iou.mean=0.4932\n",
      "[DEBUG] Head 0 | ps[..., 4].sigmoid().mean = 0.0014\n",
      "[DEBUG] Head 1 | iou.min=0.1666, iou.max=0.8283, iou.mean=0.4213\n",
      "[DEBUG] Head 1 | ps[..., 4].sigmoid().mean = 0.0048\n",
      "[DEBUG] Head 2 | iou.min=0.0503, iou.max=0.8541, iou.mean=0.3659\n",
      "[DEBUG] Head 2 | ps[..., 4].sigmoid().mean = 0.0092\n"
     ]
    },
    {
     "name": "stderr",
     "output_type": "stream",
     "text": [
      "[YoloOW] Epoch 8/10:  79%|███████▉  | 19/24 [00:20<00:05,  1.08s/it, Loss=7.0113, box=0.089, obj=0.066, cls=0.283, total loss=0.438, lr=0.000412]"
     ]
    },
    {
     "name": "stdout",
     "output_type": "stream",
     "text": [
      "[DEBUG] Head 0 | iou.min=0.1102, iou.max=0.9242, iou.mean=0.4420\n",
      "[DEBUG] Head 0 | ps[..., 4].sigmoid().mean = 0.0014\n",
      "[DEBUG] Head 1 | iou.min=0.0655, iou.max=0.9059, iou.mean=0.3739\n",
      "[DEBUG] Head 1 | ps[..., 4].sigmoid().mean = 0.0047\n",
      "[DEBUG] Head 2 | iou.min=-0.0318, iou.max=0.8112, iou.mean=0.3205\n",
      "[DEBUG] Head 2 | ps[..., 4].sigmoid().mean = 0.0090\n"
     ]
    },
    {
     "name": "stderr",
     "output_type": "stream",
     "text": [
      "[YoloOW] Epoch 8/10:  83%|████████▎ | 20/24 [00:21<00:04,  1.09s/it, Loss=6.5882, box=0.093, obj=0.055, cls=0.263, total loss=0.412, lr=0.000412]"
     ]
    },
    {
     "name": "stdout",
     "output_type": "stream",
     "text": [
      "[DEBUG] Head 0 | iou.min=0.2218, iou.max=0.8997, iou.mean=0.5255\n",
      "[DEBUG] Head 0 | ps[..., 4].sigmoid().mean = 0.0014\n",
      "[DEBUG] Head 1 | iou.min=0.0774, iou.max=0.8618, iou.mean=0.4043\n",
      "[DEBUG] Head 1 | ps[..., 4].sigmoid().mean = 0.0047\n",
      "[DEBUG] Head 2 | iou.min=-0.0104, iou.max=0.8875, iou.mean=0.2737\n",
      "[DEBUG] Head 2 | ps[..., 4].sigmoid().mean = 0.0093\n"
     ]
    },
    {
     "name": "stderr",
     "output_type": "stream",
     "text": [
      "[YoloOW] Epoch 8/10:  88%|████████▊ | 21/24 [00:22<00:03,  1.08s/it, Loss=6.5882, box=0.093, obj=0.055, cls=0.263, total loss=0.412, lr=0.000412]"
     ]
    },
    {
     "name": "stdout",
     "output_type": "stream",
     "text": [
      "[DEBUG] Head 0 | iou.min=0.1778, iou.max=0.8725, iou.mean=0.5464\n",
      "[DEBUG] Head 0 | ps[..., 4].sigmoid().mean = 0.0013\n",
      "[DEBUG] Head 1 | iou.min=0.1435, iou.max=0.8018, iou.mean=0.4428\n",
      "[DEBUG] Head 1 | ps[..., 4].sigmoid().mean = 0.0047\n",
      "[DEBUG] Head 2 | iou.min=-0.0082, iou.max=0.7976, iou.mean=0.3269\n",
      "[DEBUG] Head 2 | ps[..., 4].sigmoid().mean = 0.0090\n"
     ]
    },
    {
     "name": "stderr",
     "output_type": "stream",
     "text": [
      "[YoloOW] Epoch 8/10:  92%|█████████▏| 22/24 [00:23<00:02,  1.09s/it, Loss=6.5882, box=0.093, obj=0.055, cls=0.263, total loss=0.412, lr=0.000412]"
     ]
    },
    {
     "name": "stdout",
     "output_type": "stream",
     "text": [
      "[DEBUG] Head 0 | iou.min=0.1380, iou.max=0.8405, iou.mean=0.5387\n",
      "[DEBUG] Head 0 | ps[..., 4].sigmoid().mean = 0.0013\n",
      "[DEBUG] Head 1 | iou.min=0.1187, iou.max=0.8263, iou.mean=0.4600\n",
      "[DEBUG] Head 1 | ps[..., 4].sigmoid().mean = 0.0046\n",
      "[DEBUG] Head 2 | iou.min=0.0457, iou.max=0.8181, iou.mean=0.3477\n",
      "[DEBUG] Head 2 | ps[..., 4].sigmoid().mean = 0.0090\n"
     ]
    },
    {
     "name": "stderr",
     "output_type": "stream",
     "text": [
      "[YoloOW] Epoch 8/10:  96%|█████████▌| 23/24 [00:24<00:01,  1.09s/it, Loss=6.5882, box=0.093, obj=0.055, cls=0.263, total loss=0.412, lr=0.000412]"
     ]
    },
    {
     "name": "stdout",
     "output_type": "stream",
     "text": [
      "[DEBUG] Head 0 | iou.min=0.1386, iou.max=0.8689, iou.mean=0.5290\n",
      "[DEBUG] Head 0 | ps[..., 4].sigmoid().mean = 0.0013\n",
      "[DEBUG] Head 1 | iou.min=0.0836, iou.max=0.8840, iou.mean=0.4528\n",
      "[DEBUG] Head 1 | ps[..., 4].sigmoid().mean = 0.0046\n",
      "[DEBUG] Head 2 | iou.min=-0.0212, iou.max=0.8903, iou.mean=0.3601\n",
      "[DEBUG] Head 2 | ps[..., 4].sigmoid().mean = 0.0091\n"
     ]
    },
    {
     "name": "stderr",
     "output_type": "stream",
     "text": [
      "[YoloOW] Epoch 8/10: 100%|██████████| 24/24 [00:25<00:00,  1.08s/it, Loss=6.3902, box=0.083, obj=0.056, cls=0.260, total loss=0.399, lr=0.000412]\n"
     ]
    },
    {
     "name": "stdout",
     "output_type": "stream",
     "text": [
      "\n",
      "[YoloOW] ✅ Epoch 8/10 complete in 25.81s | Avg Loss: 6.6258\n",
      "\n",
      "[YoloOW] 📊 Running evaluation after epoch 8 ...\n",
      "[DEBUG] Head 0 | iou.min=0.1660, iou.max=0.9083, iou.mean=0.5234\n",
      "[DEBUG] Head 0 | ps[..., 4].sigmoid().mean = 0.0013\n",
      "[DEBUG] Head 1 | iou.min=0.1407, iou.max=0.9285, iou.mean=0.4428\n",
      "[DEBUG] Head 1 | ps[..., 4].sigmoid().mean = 0.0045\n",
      "[DEBUG] Head 2 | iou.min=0.0026, iou.max=0.7418, iou.mean=0.3324\n",
      "[DEBUG] Head 2 | ps[..., 4].sigmoid().mean = 0.0095\n",
      "[DEBUG] Head 0 | iou.min=0.1622, iou.max=0.8866, iou.mean=0.5122\n",
      "[DEBUG] Head 0 | ps[..., 4].sigmoid().mean = 0.0013\n",
      "[DEBUG] Head 1 | iou.min=0.0605, iou.max=0.8674, iou.mean=0.4258\n",
      "[DEBUG] Head 1 | ps[..., 4].sigmoid().mean = 0.0045\n",
      "[DEBUG] Head 2 | iou.min=-0.0087, iou.max=0.8334, iou.mean=0.3148\n",
      "[DEBUG] Head 2 | ps[..., 4].sigmoid().mean = 0.0095\n",
      "[DEBUG] Head 0 | iou.min=0.2029, iou.max=0.8463, iou.mean=0.5004\n",
      "[DEBUG] Head 0 | ps[..., 4].sigmoid().mean = 0.0013\n",
      "[DEBUG] Head 1 | iou.min=0.0596, iou.max=0.9004, iou.mean=0.4171\n",
      "[DEBUG] Head 1 | ps[..., 4].sigmoid().mean = 0.0045\n",
      "[DEBUG] Head 2 | iou.min=-0.0069, iou.max=0.8194, iou.mean=0.3163\n",
      "[DEBUG] Head 2 | ps[..., 4].sigmoid().mean = 0.0093\n",
      "[DEBUG] Head 0 | iou.min=0.1627, iou.max=0.8624, iou.mean=0.5305\n",
      "[DEBUG] Head 0 | ps[..., 4].sigmoid().mean = 0.0013\n",
      "[DEBUG] Head 1 | iou.min=0.0934, iou.max=0.7997, iou.mean=0.4821\n",
      "[DEBUG] Head 1 | ps[..., 4].sigmoid().mean = 0.0045\n",
      "[DEBUG] Head 2 | iou.min=0.0529, iou.max=0.9321, iou.mean=0.3479\n",
      "[DEBUG] Head 2 | ps[..., 4].sigmoid().mean = 0.0090\n",
      "[DEBUG] Head 0 | iou.min=0.1470, iou.max=0.9128, iou.mean=0.5665\n",
      "[DEBUG] Head 0 | ps[..., 4].sigmoid().mean = 0.0013\n",
      "[DEBUG] Head 1 | iou.min=0.1970, iou.max=0.9031, iou.mean=0.5177\n",
      "[DEBUG] Head 1 | ps[..., 4].sigmoid().mean = 0.0045\n",
      "[DEBUG] Head 2 | iou.min=0.0768, iou.max=0.8333, iou.mean=0.3554\n",
      "[DEBUG] Head 2 | ps[..., 4].sigmoid().mean = 0.0091\n",
      "[DEBUG] Head 0 | iou.min=0.3195, iou.max=0.9004, iou.mean=0.5562\n",
      "[DEBUG] Head 0 | ps[..., 4].sigmoid().mean = 0.0013\n",
      "[DEBUG] Head 1 | iou.min=0.0768, iou.max=0.8772, iou.mean=0.4516\n",
      "[DEBUG] Head 1 | ps[..., 4].sigmoid().mean = 0.0045\n",
      "[DEBUG] Head 2 | iou.min=0.0282, iou.max=0.8037, iou.mean=0.2816\n",
      "[DEBUG] Head 2 | ps[..., 4].sigmoid().mean = 0.0093\n",
      "[DEBUG] Head 0 | iou.min=0.1636, iou.max=0.8980, iou.mean=0.4813\n",
      "[DEBUG] Head 0 | ps[..., 4].sigmoid().mean = 0.0013\n",
      "[DEBUG] Head 1 | iou.min=0.0980, iou.max=0.8289, iou.mean=0.3919\n",
      "[DEBUG] Head 1 | ps[..., 4].sigmoid().mean = 0.0045\n",
      "[DEBUG] Head 2 | iou.min=-0.0251, iou.max=0.8271, iou.mean=0.3420\n",
      "[DEBUG] Head 2 | ps[..., 4].sigmoid().mean = 0.0094\n",
      "[DEBUG] Head 0 | iou.min=0.1168, iou.max=0.9017, iou.mean=0.4149\n",
      "[DEBUG] Head 0 | ps[..., 4].sigmoid().mean = 0.0013\n",
      "[DEBUG] Head 1 | iou.min=0.0627, iou.max=0.7857, iou.mean=0.3253\n",
      "[DEBUG] Head 1 | ps[..., 4].sigmoid().mean = 0.0045\n",
      "[DEBUG] Head 2 | iou.min=-0.0108, iou.max=0.7675, iou.mean=0.2720\n",
      "[DEBUG] Head 2 | ps[..., 4].sigmoid().mean = 0.0099\n",
      "[DEBUG] Head 0 | iou.min=0.2698, iou.max=0.6669, iou.mean=0.4712\n",
      "[DEBUG] Head 0 | ps[..., 4].sigmoid().mean = 0.0012\n",
      "[DEBUG] Head 1 | iou.min=0.0769, iou.max=0.6879, iou.mean=0.4647\n",
      "[DEBUG] Head 1 | ps[..., 4].sigmoid().mean = 0.0045\n",
      "[DEBUG] Head 2 | iou.min=0.1109, iou.max=0.8940, iou.mean=0.3868\n",
      "[DEBUG] Head 2 | ps[..., 4].sigmoid().mean = 0.0086\n",
      "[validate_yoloow_model] ✅  Avg Loss  (box/obj/cls/total): 0.0865 / 0.0568 / 0.2748 / 0.4182\n"
     ]
    },
    {
     "name": "stderr",
     "output_type": "stream",
     "text": [
      "[YoloOW] Epoch 9/10:   0%|          | 0/24 [00:00<?, ?it/s]"
     ]
    },
    {
     "name": "stdout",
     "output_type": "stream",
     "text": [
      "[DEBUG] Head 0 | iou.min=0.1875, iou.max=0.8405, iou.mean=0.4919\n",
      "[DEBUG] Head 0 | ps[..., 4].sigmoid().mean = 0.0013\n",
      "[DEBUG] Head 1 | iou.min=0.0954, iou.max=0.8323, iou.mean=0.3975\n",
      "[DEBUG] Head 1 | ps[..., 4].sigmoid().mean = 0.0045\n",
      "[DEBUG] Head 2 | iou.min=-0.0019, iou.max=0.7986, iou.mean=0.2866\n",
      "[DEBUG] Head 2 | ps[..., 4].sigmoid().mean = 0.0095\n"
     ]
    },
    {
     "name": "stderr",
     "output_type": "stream",
     "text": [
      "[YoloOW] Epoch 9/10:   4%|▍         | 1/24 [00:01<00:26,  1.14s/it]"
     ]
    },
    {
     "name": "stdout",
     "output_type": "stream",
     "text": [
      "[DEBUG] Head 0 | iou.min=0.1717, iou.max=0.8724, iou.mean=0.4642\n",
      "[DEBUG] Head 0 | ps[..., 4].sigmoid().mean = 0.0013\n",
      "[DEBUG] Head 1 | iou.min=0.0941, iou.max=0.8198, iou.mean=0.3587\n",
      "[DEBUG] Head 1 | ps[..., 4].sigmoid().mean = 0.0045\n",
      "[DEBUG] Head 2 | iou.min=0.0592, iou.max=0.7261, iou.mean=0.3328\n",
      "[DEBUG] Head 2 | ps[..., 4].sigmoid().mean = 0.0090\n"
     ]
    },
    {
     "name": "stderr",
     "output_type": "stream",
     "text": [
      "[YoloOW] Epoch 9/10:   8%|▊         | 2/24 [00:02<00:23,  1.06s/it]"
     ]
    },
    {
     "name": "stdout",
     "output_type": "stream",
     "text": [
      "[DEBUG] Head 0 | iou.min=0.1360, iou.max=0.9316, iou.mean=0.5246\n",
      "[DEBUG] Head 0 | ps[..., 4].sigmoid().mean = 0.0013\n",
      "[DEBUG] Head 1 | iou.min=0.1351, iou.max=0.8619, iou.mean=0.4647\n",
      "[DEBUG] Head 1 | ps[..., 4].sigmoid().mean = 0.0045\n",
      "[DEBUG] Head 2 | iou.min=-0.0034, iou.max=0.8299, iou.mean=0.3571\n",
      "[DEBUG] Head 2 | ps[..., 4].sigmoid().mean = 0.0094\n"
     ]
    },
    {
     "name": "stderr",
     "output_type": "stream",
     "text": [
      "[YoloOW] Epoch 9/10:  12%|█▎        | 3/24 [00:03<00:22,  1.06s/it]"
     ]
    },
    {
     "name": "stdout",
     "output_type": "stream",
     "text": [
      "[DEBUG] Head 0 | iou.min=0.1370, iou.max=0.8871, iou.mean=0.4307\n",
      "[DEBUG] Head 0 | ps[..., 4].sigmoid().mean = 0.0012\n",
      "[DEBUG] Head 1 | iou.min=0.0651, iou.max=0.8605, iou.mean=0.3706\n",
      "[DEBUG] Head 1 | ps[..., 4].sigmoid().mean = 0.0045\n",
      "[DEBUG] Head 2 | iou.min=-0.0240, iou.max=0.8938, iou.mean=0.3124\n",
      "[DEBUG] Head 2 | ps[..., 4].sigmoid().mean = 0.0097\n"
     ]
    },
    {
     "name": "stderr",
     "output_type": "stream",
     "text": [
      "[YoloOW] Epoch 9/10:  17%|█▋        | 4/24 [00:04<00:21,  1.08s/it]"
     ]
    },
    {
     "name": "stdout",
     "output_type": "stream",
     "text": [
      "[DEBUG] Head 0 | iou.min=0.1792, iou.max=0.9158, iou.mean=0.5847\n",
      "[DEBUG] Head 0 | ps[..., 4].sigmoid().mean = 0.0013\n",
      "[DEBUG] Head 1 | iou.min=0.1899, iou.max=0.8806, iou.mean=0.4642\n",
      "[DEBUG] Head 1 | ps[..., 4].sigmoid().mean = 0.0045\n",
      "[DEBUG] Head 2 | iou.min=0.0064, iou.max=0.8874, iou.mean=0.3299\n",
      "[DEBUG] Head 2 | ps[..., 4].sigmoid().mean = 0.0099\n"
     ]
    },
    {
     "name": "stderr",
     "output_type": "stream",
     "text": [
      "[YoloOW] Epoch 9/10:  21%|██        | 5/24 [00:05<00:20,  1.07s/it]"
     ]
    },
    {
     "name": "stdout",
     "output_type": "stream",
     "text": [
      "[DEBUG] Head 0 | iou.min=0.1448, iou.max=0.9016, iou.mean=0.4375\n",
      "[DEBUG] Head 0 | ps[..., 4].sigmoid().mean = 0.0013\n",
      "[DEBUG] Head 1 | iou.min=0.0761, iou.max=0.8204, iou.mean=0.3749\n",
      "[DEBUG] Head 1 | ps[..., 4].sigmoid().mean = 0.0044\n",
      "[DEBUG] Head 2 | iou.min=-0.0366, iou.max=0.8199, iou.mean=0.3108\n",
      "[DEBUG] Head 2 | ps[..., 4].sigmoid().mean = 0.0097\n"
     ]
    },
    {
     "name": "stderr",
     "output_type": "stream",
     "text": [
      "[YoloOW] Epoch 9/10:  25%|██▌       | 6/24 [00:06<00:18,  1.05s/it]"
     ]
    },
    {
     "name": "stdout",
     "output_type": "stream",
     "text": [
      "[DEBUG] Head 0 | iou.min=0.0945, iou.max=0.8816, iou.mean=0.5218\n",
      "[DEBUG] Head 0 | ps[..., 4].sigmoid().mean = 0.0012\n",
      "[DEBUG] Head 1 | iou.min=0.0593, iou.max=0.8471, iou.mean=0.4392\n",
      "[DEBUG] Head 1 | ps[..., 4].sigmoid().mean = 0.0044\n",
      "[DEBUG] Head 2 | iou.min=0.0153, iou.max=0.8499, iou.mean=0.3056\n",
      "[DEBUG] Head 2 | ps[..., 4].sigmoid().mean = 0.0101\n"
     ]
    },
    {
     "name": "stderr",
     "output_type": "stream",
     "text": [
      "[YoloOW] Epoch 9/10:  29%|██▉       | 7/24 [00:07<00:18,  1.07s/it]"
     ]
    },
    {
     "name": "stdout",
     "output_type": "stream",
     "text": [
      "[DEBUG] Head 0 | iou.min=0.1710, iou.max=0.8468, iou.mean=0.4917\n",
      "[DEBUG] Head 0 | ps[..., 4].sigmoid().mean = 0.0012\n",
      "[DEBUG] Head 1 | iou.min=0.0878, iou.max=0.8270, iou.mean=0.4333\n",
      "[DEBUG] Head 1 | ps[..., 4].sigmoid().mean = 0.0044\n",
      "[DEBUG] Head 2 | iou.min=0.0176, iou.max=0.7792, iou.mean=0.3668\n",
      "[DEBUG] Head 2 | ps[..., 4].sigmoid().mean = 0.0096\n"
     ]
    },
    {
     "name": "stderr",
     "output_type": "stream",
     "text": [
      "[YoloOW] Epoch 9/10:  33%|███▎      | 8/24 [00:08<00:16,  1.06s/it]"
     ]
    },
    {
     "name": "stdout",
     "output_type": "stream",
     "text": [
      "[DEBUG] Head 0 | iou.min=0.0995, iou.max=0.8978, iou.mean=0.4730\n",
      "[DEBUG] Head 0 | ps[..., 4].sigmoid().mean = 0.0013\n",
      "[DEBUG] Head 1 | iou.min=0.0596, iou.max=0.8986, iou.mean=0.3858\n",
      "[DEBUG] Head 1 | ps[..., 4].sigmoid().mean = 0.0044\n",
      "[DEBUG] Head 2 | iou.min=-0.0322, iou.max=0.8507, iou.mean=0.3114\n",
      "[DEBUG] Head 2 | ps[..., 4].sigmoid().mean = 0.0103\n"
     ]
    },
    {
     "name": "stderr",
     "output_type": "stream",
     "text": [
      "[YoloOW] Epoch 9/10:  38%|███▊      | 9/24 [00:09<00:15,  1.05s/it]"
     ]
    },
    {
     "name": "stdout",
     "output_type": "stream",
     "text": [
      "[DEBUG] Head 0 | iou.min=0.1704, iou.max=0.9124, iou.mean=0.4619\n",
      "[DEBUG] Head 0 | ps[..., 4].sigmoid().mean = 0.0013\n",
      "[DEBUG] Head 1 | iou.min=0.0766, iou.max=0.7994, iou.mean=0.3591\n",
      "[DEBUG] Head 1 | ps[..., 4].sigmoid().mean = 0.0044\n",
      "[DEBUG] Head 2 | iou.min=-0.0075, iou.max=0.8361, iou.mean=0.2653\n",
      "[DEBUG] Head 2 | ps[..., 4].sigmoid().mean = 0.0106\n"
     ]
    },
    {
     "name": "stderr",
     "output_type": "stream",
     "text": [
      "[YoloOW] Epoch 9/10:  42%|████▏     | 10/24 [00:10<00:14,  1.06s/it, Loss=6.5232, box=0.096, obj=0.050, cls=0.262, total loss=0.408, lr=0.000191]"
     ]
    },
    {
     "name": "stdout",
     "output_type": "stream",
     "text": [
      "[DEBUG] Head 0 | iou.min=0.1301, iou.max=0.9045, iou.mean=0.4938\n",
      "[DEBUG] Head 0 | ps[..., 4].sigmoid().mean = 0.0014\n",
      "[DEBUG] Head 1 | iou.min=0.1297, iou.max=0.8522, iou.mean=0.4425\n",
      "[DEBUG] Head 1 | ps[..., 4].sigmoid().mean = 0.0044\n",
      "[DEBUG] Head 2 | iou.min=-0.0087, iou.max=0.8703, iou.mean=0.3468\n",
      "[DEBUG] Head 2 | ps[..., 4].sigmoid().mean = 0.0100\n"
     ]
    },
    {
     "name": "stderr",
     "output_type": "stream",
     "text": [
      "[YoloOW] Epoch 9/10:  46%|████▌     | 11/24 [00:11<00:13,  1.05s/it, Loss=6.5232, box=0.096, obj=0.050, cls=0.262, total loss=0.408, lr=0.000191]"
     ]
    },
    {
     "name": "stdout",
     "output_type": "stream",
     "text": [
      "[DEBUG] Head 0 | iou.min=0.2163, iou.max=0.9125, iou.mean=0.5400\n",
      "[DEBUG] Head 0 | ps[..., 4].sigmoid().mean = 0.0013\n",
      "[DEBUG] Head 1 | iou.min=0.0950, iou.max=0.8274, iou.mean=0.4742\n",
      "[DEBUG] Head 1 | ps[..., 4].sigmoid().mean = 0.0044\n",
      "[DEBUG] Head 2 | iou.min=0.0653, iou.max=0.8263, iou.mean=0.3558\n",
      "[DEBUG] Head 2 | ps[..., 4].sigmoid().mean = 0.0100\n"
     ]
    },
    {
     "name": "stderr",
     "output_type": "stream",
     "text": [
      "[YoloOW] Epoch 9/10:  50%|█████     | 12/24 [00:12<00:12,  1.05s/it, Loss=6.5232, box=0.096, obj=0.050, cls=0.262, total loss=0.408, lr=0.000191]"
     ]
    },
    {
     "name": "stdout",
     "output_type": "stream",
     "text": [
      "[DEBUG] Head 0 | iou.min=0.1416, iou.max=0.9427, iou.mean=0.5665\n",
      "[DEBUG] Head 0 | ps[..., 4].sigmoid().mean = 0.0013\n",
      "[DEBUG] Head 1 | iou.min=0.1387, iou.max=0.8063, iou.mean=0.4622\n",
      "[DEBUG] Head 1 | ps[..., 4].sigmoid().mean = 0.0045\n",
      "[DEBUG] Head 2 | iou.min=0.0303, iou.max=0.8508, iou.mean=0.3452\n",
      "[DEBUG] Head 2 | ps[..., 4].sigmoid().mean = 0.0100\n"
     ]
    },
    {
     "name": "stderr",
     "output_type": "stream",
     "text": [
      "[YoloOW] Epoch 9/10:  54%|█████▍    | 13/24 [00:13<00:11,  1.05s/it, Loss=6.5232, box=0.096, obj=0.050, cls=0.262, total loss=0.408, lr=0.000191]"
     ]
    },
    {
     "name": "stdout",
     "output_type": "stream",
     "text": [
      "[DEBUG] Head 0 | iou.min=0.2249, iou.max=0.9275, iou.mean=0.5222\n",
      "[DEBUG] Head 0 | ps[..., 4].sigmoid().mean = 0.0014\n",
      "[DEBUG] Head 1 | iou.min=0.1526, iou.max=0.8141, iou.mean=0.4265\n",
      "[DEBUG] Head 1 | ps[..., 4].sigmoid().mean = 0.0045\n",
      "[DEBUG] Head 2 | iou.min=-0.0099, iou.max=0.7537, iou.mean=0.2970\n",
      "[DEBUG] Head 2 | ps[..., 4].sigmoid().mean = 0.0106\n"
     ]
    },
    {
     "name": "stderr",
     "output_type": "stream",
     "text": [
      "[YoloOW] Epoch 9/10:  58%|█████▊    | 14/24 [00:14<00:10,  1.06s/it, Loss=6.5232, box=0.096, obj=0.050, cls=0.262, total loss=0.408, lr=0.000191]"
     ]
    },
    {
     "name": "stdout",
     "output_type": "stream",
     "text": [
      "[DEBUG] Head 0 | iou.min=0.1130, iou.max=0.9255, iou.mean=0.4959\n",
      "[DEBUG] Head 0 | ps[..., 4].sigmoid().mean = 0.0014\n",
      "[DEBUG] Head 1 | iou.min=0.0675, iou.max=0.8943, iou.mean=0.4184\n",
      "[DEBUG] Head 1 | ps[..., 4].sigmoid().mean = 0.0045\n",
      "[DEBUG] Head 2 | iou.min=-0.0263, iou.max=0.8426, iou.mean=0.3513\n",
      "[DEBUG] Head 2 | ps[..., 4].sigmoid().mean = 0.0101\n"
     ]
    },
    {
     "name": "stderr",
     "output_type": "stream",
     "text": [
      "[YoloOW] Epoch 9/10:  62%|██████▎   | 15/24 [00:15<00:09,  1.06s/it, Loss=6.5232, box=0.096, obj=0.050, cls=0.262, total loss=0.408, lr=0.000191]"
     ]
    },
    {
     "name": "stdout",
     "output_type": "stream",
     "text": [
      "[DEBUG] Head 0 | iou.min=0.1202, iou.max=0.8827, iou.mean=0.5188\n",
      "[DEBUG] Head 0 | ps[..., 4].sigmoid().mean = 0.0014\n",
      "[DEBUG] Head 1 | iou.min=0.0687, iou.max=0.8072, iou.mean=0.4197\n",
      "[DEBUG] Head 1 | ps[..., 4].sigmoid().mean = 0.0045\n",
      "[DEBUG] Head 2 | iou.min=-0.0105, iou.max=0.8983, iou.mean=0.2809\n",
      "[DEBUG] Head 2 | ps[..., 4].sigmoid().mean = 0.0105\n"
     ]
    },
    {
     "name": "stderr",
     "output_type": "stream",
     "text": [
      "[YoloOW] Epoch 9/10:  67%|██████▋   | 16/24 [00:16<00:08,  1.07s/it, Loss=6.5232, box=0.096, obj=0.050, cls=0.262, total loss=0.408, lr=0.000191]"
     ]
    },
    {
     "name": "stdout",
     "output_type": "stream",
     "text": [
      "[DEBUG] Head 0 | iou.min=0.1422, iou.max=0.8361, iou.mean=0.5042\n",
      "[DEBUG] Head 0 | ps[..., 4].sigmoid().mean = 0.0014\n",
      "[DEBUG] Head 1 | iou.min=0.0876, iou.max=0.8794, iou.mean=0.4223\n",
      "[DEBUG] Head 1 | ps[..., 4].sigmoid().mean = 0.0045\n",
      "[DEBUG] Head 2 | iou.min=-0.0256, iou.max=0.8895, iou.mean=0.3235\n",
      "[DEBUG] Head 2 | ps[..., 4].sigmoid().mean = 0.0103\n"
     ]
    },
    {
     "name": "stderr",
     "output_type": "stream",
     "text": [
      "[YoloOW] Epoch 9/10:  71%|███████   | 17/24 [00:17<00:07,  1.03s/it, Loss=6.5232, box=0.096, obj=0.050, cls=0.262, total loss=0.408, lr=0.000191]"
     ]
    },
    {
     "name": "stdout",
     "output_type": "stream",
     "text": [
      "[DEBUG] Head 0 | iou.min=0.2070, iou.max=0.9398, iou.mean=0.5799\n",
      "[DEBUG] Head 0 | ps[..., 4].sigmoid().mean = 0.0015\n",
      "[DEBUG] Head 1 | iou.min=0.0732, iou.max=0.8307, iou.mean=0.4562\n",
      "[DEBUG] Head 1 | ps[..., 4].sigmoid().mean = 0.0045\n",
      "[DEBUG] Head 2 | iou.min=0.0124, iou.max=0.8045, iou.mean=0.3212\n",
      "[DEBUG] Head 2 | ps[..., 4].sigmoid().mean = 0.0105\n"
     ]
    },
    {
     "name": "stderr",
     "output_type": "stream",
     "text": [
      "[YoloOW] Epoch 9/10:  75%|███████▌  | 18/24 [00:18<00:06,  1.03s/it, Loss=6.5232, box=0.096, obj=0.050, cls=0.262, total loss=0.408, lr=0.000191]"
     ]
    },
    {
     "name": "stdout",
     "output_type": "stream",
     "text": [
      "[DEBUG] Head 0 | iou.min=0.1581, iou.max=0.8353, iou.mean=0.5507\n",
      "[DEBUG] Head 0 | ps[..., 4].sigmoid().mean = 0.0014\n",
      "[DEBUG] Head 1 | iou.min=0.0949, iou.max=0.8164, iou.mean=0.4457\n",
      "[DEBUG] Head 1 | ps[..., 4].sigmoid().mean = 0.0045\n",
      "[DEBUG] Head 2 | iou.min=-0.0067, iou.max=0.7526, iou.mean=0.2844\n",
      "[DEBUG] Head 2 | ps[..., 4].sigmoid().mean = 0.0103\n"
     ]
    },
    {
     "name": "stderr",
     "output_type": "stream",
     "text": [
      "[YoloOW] Epoch 9/10:  79%|███████▉  | 19/24 [00:20<00:05,  1.04s/it, Loss=6.5232, box=0.096, obj=0.050, cls=0.262, total loss=0.408, lr=0.000191]"
     ]
    },
    {
     "name": "stdout",
     "output_type": "stream",
     "text": [
      "[DEBUG] Head 0 | iou.min=0.1799, iou.max=0.7883, iou.mean=0.4348\n",
      "[DEBUG] Head 0 | ps[..., 4].sigmoid().mean = 0.0015\n",
      "[DEBUG] Head 1 | iou.min=0.1354, iou.max=0.8193, iou.mean=0.3918\n",
      "[DEBUG] Head 1 | ps[..., 4].sigmoid().mean = 0.0045\n",
      "[DEBUG] Head 2 | iou.min=-0.0361, iou.max=0.9380, iou.mean=0.3294\n",
      "[DEBUG] Head 2 | ps[..., 4].sigmoid().mean = 0.0104\n"
     ]
    },
    {
     "name": "stderr",
     "output_type": "stream",
     "text": [
      "[YoloOW] Epoch 9/10:  83%|████████▎ | 20/24 [00:21<00:04,  1.04s/it, Loss=6.5157, box=0.092, obj=0.052, cls=0.263, total loss=0.407, lr=0.000191]"
     ]
    },
    {
     "name": "stdout",
     "output_type": "stream",
     "text": [
      "[DEBUG] Head 0 | iou.min=0.1623, iou.max=0.8655, iou.mean=0.5654\n",
      "[DEBUG] Head 0 | ps[..., 4].sigmoid().mean = 0.0014\n",
      "[DEBUG] Head 1 | iou.min=0.1042, iou.max=0.8419, iou.mean=0.4904\n",
      "[DEBUG] Head 1 | ps[..., 4].sigmoid().mean = 0.0045\n",
      "[DEBUG] Head 2 | iou.min=-0.0121, iou.max=0.7920, iou.mean=0.3572\n",
      "[DEBUG] Head 2 | ps[..., 4].sigmoid().mean = 0.0097\n"
     ]
    },
    {
     "name": "stderr",
     "output_type": "stream",
     "text": [
      "[YoloOW] Epoch 9/10:  88%|████████▊ | 21/24 [00:22<00:03,  1.03s/it, Loss=6.5157, box=0.092, obj=0.052, cls=0.263, total loss=0.407, lr=0.000191]"
     ]
    },
    {
     "name": "stdout",
     "output_type": "stream",
     "text": [
      "[DEBUG] Head 0 | iou.min=0.1794, iou.max=0.9112, iou.mean=0.5088\n",
      "[DEBUG] Head 0 | ps[..., 4].sigmoid().mean = 0.0016\n",
      "[DEBUG] Head 1 | iou.min=0.0879, iou.max=0.8567, iou.mean=0.4016\n",
      "[DEBUG] Head 1 | ps[..., 4].sigmoid().mean = 0.0045\n",
      "[DEBUG] Head 2 | iou.min=-0.0088, iou.max=0.8118, iou.mean=0.2887\n",
      "[DEBUG] Head 2 | ps[..., 4].sigmoid().mean = 0.0102\n"
     ]
    },
    {
     "name": "stderr",
     "output_type": "stream",
     "text": [
      "[YoloOW] Epoch 9/10:  92%|█████████▏| 22/24 [00:23<00:02,  1.04s/it, Loss=6.5157, box=0.092, obj=0.052, cls=0.263, total loss=0.407, lr=0.000191]"
     ]
    },
    {
     "name": "stdout",
     "output_type": "stream",
     "text": [
      "[DEBUG] Head 0 | iou.min=0.1454, iou.max=0.8702, iou.mean=0.5794\n",
      "[DEBUG] Head 0 | ps[..., 4].sigmoid().mean = 0.0014\n",
      "[DEBUG] Head 1 | iou.min=0.1046, iou.max=0.7963, iou.mean=0.4802\n",
      "[DEBUG] Head 1 | ps[..., 4].sigmoid().mean = 0.0044\n",
      "[DEBUG] Head 2 | iou.min=0.0693, iou.max=0.8108, iou.mean=0.3206\n",
      "[DEBUG] Head 2 | ps[..., 4].sigmoid().mean = 0.0098\n"
     ]
    },
    {
     "name": "stderr",
     "output_type": "stream",
     "text": [
      "[YoloOW] Epoch 9/10:  96%|█████████▌| 23/24 [00:24<00:01,  1.04s/it, Loss=6.5157, box=0.092, obj=0.052, cls=0.263, total loss=0.407, lr=0.000191]"
     ]
    },
    {
     "name": "stdout",
     "output_type": "stream",
     "text": [
      "[DEBUG] Head 0 | iou.min=0.1342, iou.max=0.8428, iou.mean=0.5327\n",
      "[DEBUG] Head 0 | ps[..., 4].sigmoid().mean = 0.0016\n",
      "[DEBUG] Head 1 | iou.min=0.1217, iou.max=0.8081, iou.mean=0.4278\n",
      "[DEBUG] Head 1 | ps[..., 4].sigmoid().mean = 0.0045\n",
      "[DEBUG] Head 2 | iou.min=-0.0264, iou.max=0.8601, iou.mean=0.3061\n",
      "[DEBUG] Head 2 | ps[..., 4].sigmoid().mean = 0.0102\n"
     ]
    },
    {
     "name": "stderr",
     "output_type": "stream",
     "text": [
      "[YoloOW] Epoch 9/10: 100%|██████████| 24/24 [00:25<00:00,  1.05s/it, Loss=6.1863, box=0.087, obj=0.050, cls=0.250, total loss=0.387, lr=0.000191]\n"
     ]
    },
    {
     "name": "stdout",
     "output_type": "stream",
     "text": [
      "\n",
      "[YoloOW] ✅ Epoch 9/10 complete in 25.17s | Avg Loss: 6.6213\n",
      "\n",
      "[YoloOW] 📊 Running evaluation after epoch 9 ...\n",
      "[DEBUG] Head 0 | iou.min=0.1612, iou.max=0.9058, iou.mean=0.5229\n",
      "[DEBUG] Head 0 | ps[..., 4].sigmoid().mean = 0.0015\n",
      "[DEBUG] Head 1 | iou.min=0.1377, iou.max=0.9326, iou.mean=0.4450\n",
      "[DEBUG] Head 1 | ps[..., 4].sigmoid().mean = 0.0044\n",
      "[DEBUG] Head 2 | iou.min=-0.0034, iou.max=0.7459, iou.mean=0.3322\n",
      "[DEBUG] Head 2 | ps[..., 4].sigmoid().mean = 0.0099\n",
      "[DEBUG] Head 0 | iou.min=0.1589, iou.max=0.8738, iou.mean=0.5110\n",
      "[DEBUG] Head 0 | ps[..., 4].sigmoid().mean = 0.0015\n",
      "[DEBUG] Head 1 | iou.min=0.0541, iou.max=0.8800, iou.mean=0.4280\n",
      "[DEBUG] Head 1 | ps[..., 4].sigmoid().mean = 0.0044\n",
      "[DEBUG] Head 2 | iou.min=-0.0166, iou.max=0.8556, iou.mean=0.3148\n",
      "[DEBUG] Head 2 | ps[..., 4].sigmoid().mean = 0.0099\n",
      "[DEBUG] Head 0 | iou.min=0.1977, iou.max=0.8678, iou.mean=0.4995\n",
      "[DEBUG] Head 0 | ps[..., 4].sigmoid().mean = 0.0015\n",
      "[DEBUG] Head 1 | iou.min=0.0535, iou.max=0.9078, iou.mean=0.4179\n",
      "[DEBUG] Head 1 | ps[..., 4].sigmoid().mean = 0.0044\n",
      "[DEBUG] Head 2 | iou.min=-0.0126, iou.max=0.8044, iou.mean=0.3166\n",
      "[DEBUG] Head 2 | ps[..., 4].sigmoid().mean = 0.0097\n",
      "[DEBUG] Head 0 | iou.min=0.1573, iou.max=0.8416, iou.mean=0.5479\n",
      "[DEBUG] Head 0 | ps[..., 4].sigmoid().mean = 0.0015\n",
      "[DEBUG] Head 1 | iou.min=0.0934, iou.max=0.7732, iou.mean=0.4818\n",
      "[DEBUG] Head 1 | ps[..., 4].sigmoid().mean = 0.0044\n",
      "[DEBUG] Head 2 | iou.min=0.0462, iou.max=0.9252, iou.mean=0.3458\n",
      "[DEBUG] Head 2 | ps[..., 4].sigmoid().mean = 0.0095\n",
      "[DEBUG] Head 0 | iou.min=0.1627, iou.max=0.8991, iou.mean=0.5859\n",
      "[DEBUG] Head 0 | ps[..., 4].sigmoid().mean = 0.0016\n",
      "[DEBUG] Head 1 | iou.min=0.2163, iou.max=0.8804, iou.mean=0.5185\n",
      "[DEBUG] Head 1 | ps[..., 4].sigmoid().mean = 0.0045\n",
      "[DEBUG] Head 2 | iou.min=0.0692, iou.max=0.8381, iou.mean=0.3536\n",
      "[DEBUG] Head 2 | ps[..., 4].sigmoid().mean = 0.0095\n",
      "[DEBUG] Head 0 | iou.min=0.3064, iou.max=0.8871, iou.mean=0.5636\n",
      "[DEBUG] Head 0 | ps[..., 4].sigmoid().mean = 0.0016\n",
      "[DEBUG] Head 1 | iou.min=0.0688, iou.max=0.8693, iou.mean=0.4524\n",
      "[DEBUG] Head 1 | ps[..., 4].sigmoid().mean = 0.0045\n",
      "[DEBUG] Head 2 | iou.min=0.0201, iou.max=0.8203, iou.mean=0.2859\n",
      "[DEBUG] Head 2 | ps[..., 4].sigmoid().mean = 0.0097\n",
      "[DEBUG] Head 0 | iou.min=0.1812, iou.max=0.9237, iou.mean=0.4778\n",
      "[DEBUG] Head 0 | ps[..., 4].sigmoid().mean = 0.0014\n",
      "[DEBUG] Head 1 | iou.min=0.0895, iou.max=0.8380, iou.mean=0.3927\n",
      "[DEBUG] Head 1 | ps[..., 4].sigmoid().mean = 0.0044\n",
      "[DEBUG] Head 2 | iou.min=-0.0347, iou.max=0.8176, iou.mean=0.3379\n",
      "[DEBUG] Head 2 | ps[..., 4].sigmoid().mean = 0.0098\n",
      "[DEBUG] Head 0 | iou.min=0.1169, iou.max=0.9056, iou.mean=0.4021\n",
      "[DEBUG] Head 0 | ps[..., 4].sigmoid().mean = 0.0016\n",
      "[DEBUG] Head 1 | iou.min=0.0681, iou.max=0.7731, iou.mean=0.3273\n",
      "[DEBUG] Head 1 | ps[..., 4].sigmoid().mean = 0.0045\n",
      "[DEBUG] Head 2 | iou.min=-0.0129, iou.max=0.7924, iou.mean=0.2750\n",
      "[DEBUG] Head 2 | ps[..., 4].sigmoid().mean = 0.0103\n",
      "[DEBUG] Head 0 | iou.min=0.2622, iou.max=0.6483, iou.mean=0.4844\n",
      "[DEBUG] Head 0 | ps[..., 4].sigmoid().mean = 0.0013\n",
      "[DEBUG] Head 1 | iou.min=0.0690, iou.max=0.6578, iou.mean=0.4643\n",
      "[DEBUG] Head 1 | ps[..., 4].sigmoid().mean = 0.0044\n",
      "[DEBUG] Head 2 | iou.min=0.1021, iou.max=0.8626, iou.mean=0.3814\n",
      "[DEBUG] Head 2 | ps[..., 4].sigmoid().mean = 0.0091\n",
      "[validate_yoloow_model] ✅  Avg Loss  (box/obj/cls/total): 0.0863 / 0.0567 / 0.2728 / 0.4158\n"
     ]
    },
    {
     "name": "stderr",
     "output_type": "stream",
     "text": [
      "[YoloOW] Epoch 10/10:   0%|          | 0/24 [00:00<?, ?it/s]"
     ]
    },
    {
     "name": "stdout",
     "output_type": "stream",
     "text": [
      "[DEBUG] Head 0 | iou.min=0.1756, iou.max=0.9066, iou.mean=0.5325\n",
      "[DEBUG] Head 0 | ps[..., 4].sigmoid().mean = 0.0016\n",
      "[DEBUG] Head 1 | iou.min=0.1207, iou.max=0.8588, iou.mean=0.4584\n",
      "[DEBUG] Head 1 | ps[..., 4].sigmoid().mean = 0.0045\n",
      "[DEBUG] Head 2 | iou.min=0.0306, iou.max=0.8976, iou.mean=0.3386\n",
      "[DEBUG] Head 2 | ps[..., 4].sigmoid().mean = 0.0098\n"
     ]
    },
    {
     "name": "stderr",
     "output_type": "stream",
     "text": [
      "[YoloOW] Epoch 10/10:   4%|▍         | 1/24 [00:01<00:24,  1.07s/it]"
     ]
    },
    {
     "name": "stdout",
     "output_type": "stream",
     "text": [
      "[DEBUG] Head 0 | iou.min=0.1395, iou.max=0.9080, iou.mean=0.5598\n",
      "[DEBUG] Head 0 | ps[..., 4].sigmoid().mean = 0.0018\n",
      "[DEBUG] Head 1 | iou.min=0.0849, iou.max=0.7818, iou.mean=0.4574\n",
      "[DEBUG] Head 1 | ps[..., 4].sigmoid().mean = 0.0045\n",
      "[DEBUG] Head 2 | iou.min=0.0052, iou.max=0.8263, iou.mean=0.3091\n",
      "[DEBUG] Head 2 | ps[..., 4].sigmoid().mean = 0.0099\n"
     ]
    },
    {
     "name": "stderr",
     "output_type": "stream",
     "text": [
      "[YoloOW] Epoch 10/10:   8%|▊         | 2/24 [00:02<00:22,  1.04s/it]"
     ]
    },
    {
     "name": "stdout",
     "output_type": "stream",
     "text": [
      "[DEBUG] Head 0 | iou.min=0.1983, iou.max=0.8619, iou.mean=0.4904\n",
      "[DEBUG] Head 0 | ps[..., 4].sigmoid().mean = 0.0014\n",
      "[DEBUG] Head 1 | iou.min=0.0688, iou.max=0.7950, iou.mean=0.4115\n",
      "[DEBUG] Head 1 | ps[..., 4].sigmoid().mean = 0.0044\n",
      "[DEBUG] Head 2 | iou.min=-0.0094, iou.max=0.9006, iou.mean=0.3329\n",
      "[DEBUG] Head 2 | ps[..., 4].sigmoid().mean = 0.0097\n"
     ]
    },
    {
     "name": "stderr",
     "output_type": "stream",
     "text": [
      "[YoloOW] Epoch 10/10:  12%|█▎        | 3/24 [00:03<00:21,  1.03s/it]"
     ]
    },
    {
     "name": "stdout",
     "output_type": "stream",
     "text": [
      "[DEBUG] Head 0 | iou.min=0.1693, iou.max=0.9300, iou.mean=0.4880\n",
      "[DEBUG] Head 0 | ps[..., 4].sigmoid().mean = 0.0014\n",
      "[DEBUG] Head 1 | iou.min=0.0954, iou.max=0.8782, iou.mean=0.3931\n",
      "[DEBUG] Head 1 | ps[..., 4].sigmoid().mean = 0.0044\n",
      "[DEBUG] Head 2 | iou.min=-0.0094, iou.max=0.7459, iou.mean=0.3019\n",
      "[DEBUG] Head 2 | ps[..., 4].sigmoid().mean = 0.0099\n"
     ]
    },
    {
     "name": "stderr",
     "output_type": "stream",
     "text": [
      "[YoloOW] Epoch 10/10:  17%|█▋        | 4/24 [00:04<00:20,  1.03s/it]"
     ]
    },
    {
     "name": "stdout",
     "output_type": "stream",
     "text": [
      "[DEBUG] Head 0 | iou.min=0.2782, iou.max=0.8861, iou.mean=0.6087\n",
      "[DEBUG] Head 0 | ps[..., 4].sigmoid().mean = 0.0015\n",
      "[DEBUG] Head 1 | iou.min=0.1205, iou.max=0.8279, iou.mean=0.4744\n",
      "[DEBUG] Head 1 | ps[..., 4].sigmoid().mean = 0.0045\n",
      "[DEBUG] Head 2 | iou.min=0.0456, iou.max=0.7050, iou.mean=0.3075\n",
      "[DEBUG] Head 2 | ps[..., 4].sigmoid().mean = 0.0099\n"
     ]
    },
    {
     "name": "stderr",
     "output_type": "stream",
     "text": [
      "[YoloOW] Epoch 10/10:  21%|██        | 5/24 [00:05<00:19,  1.02s/it]"
     ]
    },
    {
     "name": "stdout",
     "output_type": "stream",
     "text": [
      "[DEBUG] Head 0 | iou.min=0.1000, iou.max=0.9213, iou.mean=0.4015\n",
      "[DEBUG] Head 0 | ps[..., 4].sigmoid().mean = 0.0016\n",
      "[DEBUG] Head 1 | iou.min=0.0605, iou.max=0.8309, iou.mean=0.3187\n",
      "[DEBUG] Head 1 | ps[..., 4].sigmoid().mean = 0.0044\n",
      "[DEBUG] Head 2 | iou.min=-0.0424, iou.max=0.7663, iou.mean=0.2547\n",
      "[DEBUG] Head 2 | ps[..., 4].sigmoid().mean = 0.0101\n"
     ]
    },
    {
     "name": "stderr",
     "output_type": "stream",
     "text": [
      "[YoloOW] Epoch 10/10:  25%|██▌       | 6/24 [00:06<00:18,  1.03s/it]"
     ]
    },
    {
     "name": "stdout",
     "output_type": "stream",
     "text": [
      "[DEBUG] Head 0 | iou.min=0.2041, iou.max=0.8657, iou.mean=0.5459\n",
      "[DEBUG] Head 0 | ps[..., 4].sigmoid().mean = 0.0014\n",
      "[DEBUG] Head 1 | iou.min=0.0917, iou.max=0.8381, iou.mean=0.4718\n",
      "[DEBUG] Head 1 | ps[..., 4].sigmoid().mean = 0.0044\n",
      "[DEBUG] Head 2 | iou.min=-0.0280, iou.max=0.7805, iou.mean=0.3211\n",
      "[DEBUG] Head 2 | ps[..., 4].sigmoid().mean = 0.0102\n"
     ]
    },
    {
     "name": "stderr",
     "output_type": "stream",
     "text": [
      "[YoloOW] Epoch 10/10:  29%|██▉       | 7/24 [00:07<00:17,  1.03s/it]"
     ]
    },
    {
     "name": "stdout",
     "output_type": "stream",
     "text": [
      "[DEBUG] Head 0 | iou.min=0.2036, iou.max=0.8591, iou.mean=0.5885\n",
      "[DEBUG] Head 0 | ps[..., 4].sigmoid().mean = 0.0015\n",
      "[DEBUG] Head 1 | iou.min=0.1356, iou.max=0.8199, iou.mean=0.4844\n",
      "[DEBUG] Head 1 | ps[..., 4].sigmoid().mean = 0.0045\n",
      "[DEBUG] Head 2 | iou.min=0.0350, iou.max=0.7612, iou.mean=0.3316\n",
      "[DEBUG] Head 2 | ps[..., 4].sigmoid().mean = 0.0096\n"
     ]
    },
    {
     "name": "stderr",
     "output_type": "stream",
     "text": [
      "[YoloOW] Epoch 10/10:  33%|███▎      | 8/24 [00:08<00:16,  1.02s/it]"
     ]
    },
    {
     "name": "stdout",
     "output_type": "stream",
     "text": [
      "[DEBUG] Head 0 | iou.min=0.1796, iou.max=0.9029, iou.mean=0.5085\n",
      "[DEBUG] Head 0 | ps[..., 4].sigmoid().mean = 0.0015\n",
      "[DEBUG] Head 1 | iou.min=0.0925, iou.max=0.8239, iou.mean=0.4212\n",
      "[DEBUG] Head 1 | ps[..., 4].sigmoid().mean = 0.0045\n",
      "[DEBUG] Head 2 | iou.min=-0.0036, iou.max=0.7297, iou.mean=0.3098\n",
      "[DEBUG] Head 2 | ps[..., 4].sigmoid().mean = 0.0098\n"
     ]
    },
    {
     "name": "stderr",
     "output_type": "stream",
     "text": [
      "[YoloOW] Epoch 10/10:  38%|███▊      | 9/24 [00:09<00:15,  1.02s/it]"
     ]
    },
    {
     "name": "stdout",
     "output_type": "stream",
     "text": [
      "[DEBUG] Head 0 | iou.min=0.1704, iou.max=0.8866, iou.mean=0.5496\n",
      "[DEBUG] Head 0 | ps[..., 4].sigmoid().mean = 0.0014\n",
      "[DEBUG] Head 1 | iou.min=0.0844, iou.max=0.7854, iou.mean=0.4414\n",
      "[DEBUG] Head 1 | ps[..., 4].sigmoid().mean = 0.0045\n",
      "[DEBUG] Head 2 | iou.min=0.0431, iou.max=0.7908, iou.mean=0.3252\n",
      "[DEBUG] Head 2 | ps[..., 4].sigmoid().mean = 0.0096\n"
     ]
    },
    {
     "name": "stderr",
     "output_type": "stream",
     "text": [
      "[YoloOW] Epoch 10/10:  42%|████▏     | 10/24 [00:10<00:14,  1.03s/it, Loss=6.4906, box=0.084, obj=0.031, cls=0.291, total loss=0.406, lr=0.000049]"
     ]
    },
    {
     "name": "stdout",
     "output_type": "stream",
     "text": [
      "[DEBUG] Head 0 | iou.min=0.1476, iou.max=0.9190, iou.mean=0.4968\n",
      "[DEBUG] Head 0 | ps[..., 4].sigmoid().mean = 0.0015\n",
      "[DEBUG] Head 1 | iou.min=0.0906, iou.max=0.8292, iou.mean=0.4315\n",
      "[DEBUG] Head 1 | ps[..., 4].sigmoid().mean = 0.0045\n",
      "[DEBUG] Head 2 | iou.min=-0.0444, iou.max=0.8030, iou.mean=0.3457\n",
      "[DEBUG] Head 2 | ps[..., 4].sigmoid().mean = 0.0097\n"
     ]
    },
    {
     "name": "stderr",
     "output_type": "stream",
     "text": [
      "[YoloOW] Epoch 10/10:  46%|████▌     | 11/24 [00:11<00:13,  1.02s/it, Loss=6.4906, box=0.084, obj=0.031, cls=0.291, total loss=0.406, lr=0.000049]"
     ]
    },
    {
     "name": "stdout",
     "output_type": "stream",
     "text": [
      "[DEBUG] Head 0 | iou.min=0.1487, iou.max=0.8710, iou.mean=0.4557\n",
      "[DEBUG] Head 0 | ps[..., 4].sigmoid().mean = 0.0017\n",
      "[DEBUG] Head 1 | iou.min=0.0829, iou.max=0.8543, iou.mean=0.3860\n",
      "[DEBUG] Head 1 | ps[..., 4].sigmoid().mean = 0.0045\n",
      "[DEBUG] Head 2 | iou.min=-0.0282, iou.max=0.9493, iou.mean=0.3041\n",
      "[DEBUG] Head 2 | ps[..., 4].sigmoid().mean = 0.0101\n"
     ]
    },
    {
     "name": "stderr",
     "output_type": "stream",
     "text": [
      "[YoloOW] Epoch 10/10:  50%|█████     | 12/24 [00:12<00:12,  1.02s/it, Loss=6.4906, box=0.084, obj=0.031, cls=0.291, total loss=0.406, lr=0.000049]"
     ]
    },
    {
     "name": "stdout",
     "output_type": "stream",
     "text": [
      "[DEBUG] Head 0 | iou.min=0.1310, iou.max=0.8763, iou.mean=0.3986\n",
      "[DEBUG] Head 0 | ps[..., 4].sigmoid().mean = 0.0014\n",
      "[DEBUG] Head 1 | iou.min=0.1017, iou.max=0.7954, iou.mean=0.3334\n",
      "[DEBUG] Head 1 | ps[..., 4].sigmoid().mean = 0.0044\n",
      "[DEBUG] Head 2 | iou.min=-0.0339, iou.max=0.8633, iou.mean=0.2721\n",
      "[DEBUG] Head 2 | ps[..., 4].sigmoid().mean = 0.0097\n"
     ]
    },
    {
     "name": "stderr",
     "output_type": "stream",
     "text": [
      "[YoloOW] Epoch 10/10:  54%|█████▍    | 13/24 [00:13<00:11,  1.03s/it, Loss=6.4906, box=0.084, obj=0.031, cls=0.291, total loss=0.406, lr=0.000049]"
     ]
    },
    {
     "name": "stdout",
     "output_type": "stream",
     "text": [
      "[DEBUG] Head 0 | iou.min=0.1784, iou.max=0.9294, iou.mean=0.5110\n",
      "[DEBUG] Head 0 | ps[..., 4].sigmoid().mean = 0.0015\n",
      "[DEBUG] Head 1 | iou.min=0.1079, iou.max=0.8931, iou.mean=0.4284\n",
      "[DEBUG] Head 1 | ps[..., 4].sigmoid().mean = 0.0044\n",
      "[DEBUG] Head 2 | iou.min=-0.0126, iou.max=0.8076, iou.mean=0.3478\n",
      "[DEBUG] Head 2 | ps[..., 4].sigmoid().mean = 0.0098\n"
     ]
    },
    {
     "name": "stderr",
     "output_type": "stream",
     "text": [
      "[YoloOW] Epoch 10/10:  58%|█████▊    | 14/24 [00:14<00:10,  1.03s/it, Loss=6.4906, box=0.084, obj=0.031, cls=0.291, total loss=0.406, lr=0.000049]"
     ]
    },
    {
     "name": "stdout",
     "output_type": "stream",
     "text": [
      "[DEBUG] Head 0 | iou.min=0.1006, iou.max=0.9464, iou.mean=0.4880\n",
      "[DEBUG] Head 0 | ps[..., 4].sigmoid().mean = 0.0017\n",
      "[DEBUG] Head 1 | iou.min=0.0729, iou.max=0.8600, iou.mean=0.4018\n",
      "[DEBUG] Head 1 | ps[..., 4].sigmoid().mean = 0.0045\n",
      "[DEBUG] Head 2 | iou.min=-0.0307, iou.max=0.9003, iou.mean=0.3121\n",
      "[DEBUG] Head 2 | ps[..., 4].sigmoid().mean = 0.0100\n"
     ]
    },
    {
     "name": "stderr",
     "output_type": "stream",
     "text": [
      "[YoloOW] Epoch 10/10:  62%|██████▎   | 15/24 [00:15<00:09,  1.03s/it, Loss=6.4906, box=0.084, obj=0.031, cls=0.291, total loss=0.406, lr=0.000049]"
     ]
    },
    {
     "name": "stdout",
     "output_type": "stream",
     "text": [
      "[DEBUG] Head 0 | iou.min=0.1264, iou.max=0.8642, iou.mean=0.5193\n",
      "[DEBUG] Head 0 | ps[..., 4].sigmoid().mean = 0.0017\n",
      "[DEBUG] Head 1 | iou.min=0.0672, iou.max=0.8038, iou.mean=0.4461\n",
      "[DEBUG] Head 1 | ps[..., 4].sigmoid().mean = 0.0045\n",
      "[DEBUG] Head 2 | iou.min=0.0487, iou.max=0.8398, iou.mean=0.3446\n",
      "[DEBUG] Head 2 | ps[..., 4].sigmoid().mean = 0.0093\n"
     ]
    },
    {
     "name": "stderr",
     "output_type": "stream",
     "text": [
      "[YoloOW] Epoch 10/10:  67%|██████▋   | 16/24 [00:16<00:08,  1.04s/it, Loss=6.4906, box=0.084, obj=0.031, cls=0.291, total loss=0.406, lr=0.000049]"
     ]
    },
    {
     "name": "stdout",
     "output_type": "stream",
     "text": [
      "[DEBUG] Head 0 | iou.min=0.1831, iou.max=0.9320, iou.mean=0.5968\n",
      "[DEBUG] Head 0 | ps[..., 4].sigmoid().mean = 0.0017\n",
      "[DEBUG] Head 1 | iou.min=0.0903, iou.max=0.8641, iou.mean=0.5158\n",
      "[DEBUG] Head 1 | ps[..., 4].sigmoid().mean = 0.0045\n",
      "[DEBUG] Head 2 | iou.min=-0.0161, iou.max=0.7564, iou.mean=0.3522\n",
      "[DEBUG] Head 2 | ps[..., 4].sigmoid().mean = 0.0094\n"
     ]
    },
    {
     "name": "stderr",
     "output_type": "stream",
     "text": [
      "[YoloOW] Epoch 10/10:  71%|███████   | 17/24 [00:17<00:07,  1.02s/it, Loss=6.4906, box=0.084, obj=0.031, cls=0.291, total loss=0.406, lr=0.000049]"
     ]
    },
    {
     "name": "stdout",
     "output_type": "stream",
     "text": [
      "[DEBUG] Head 0 | iou.min=0.0989, iou.max=0.7525, iou.mean=0.4515\n",
      "[DEBUG] Head 0 | ps[..., 4].sigmoid().mean = 0.0014\n",
      "[DEBUG] Head 1 | iou.min=0.0612, iou.max=0.7959, iou.mean=0.4177\n",
      "[DEBUG] Head 1 | ps[..., 4].sigmoid().mean = 0.0045\n",
      "[DEBUG] Head 2 | iou.min=0.0705, iou.max=0.8719, iou.mean=0.3922\n",
      "[DEBUG] Head 2 | ps[..., 4].sigmoid().mean = 0.0092\n"
     ]
    },
    {
     "name": "stderr",
     "output_type": "stream",
     "text": [
      "[YoloOW] Epoch 10/10:  75%|███████▌  | 18/24 [00:18<00:06,  1.02s/it, Loss=6.4906, box=0.084, obj=0.031, cls=0.291, total loss=0.406, lr=0.000049]"
     ]
    },
    {
     "name": "stdout",
     "output_type": "stream",
     "text": [
      "[DEBUG] Head 0 | iou.min=0.2011, iou.max=0.8692, iou.mean=0.4985\n",
      "[DEBUG] Head 0 | ps[..., 4].sigmoid().mean = 0.0017\n",
      "[DEBUG] Head 1 | iou.min=0.0866, iou.max=0.8197, iou.mean=0.4212\n",
      "[DEBUG] Head 1 | ps[..., 4].sigmoid().mean = 0.0045\n",
      "[DEBUG] Head 2 | iou.min=-0.0126, iou.max=0.8565, iou.mean=0.3228\n",
      "[DEBUG] Head 2 | ps[..., 4].sigmoid().mean = 0.0100\n"
     ]
    },
    {
     "name": "stderr",
     "output_type": "stream",
     "text": [
      "[YoloOW] Epoch 10/10:  79%|███████▉  | 19/24 [00:19<00:05,  1.03s/it, Loss=6.4906, box=0.084, obj=0.031, cls=0.291, total loss=0.406, lr=0.000049]"
     ]
    },
    {
     "name": "stdout",
     "output_type": "stream",
     "text": [
      "[DEBUG] Head 0 | iou.min=0.2032, iou.max=0.8812, iou.mean=0.4876\n",
      "[DEBUG] Head 0 | ps[..., 4].sigmoid().mean = 0.0015\n",
      "[DEBUG] Head 1 | iou.min=0.1039, iou.max=0.7757, iou.mean=0.4254\n",
      "[DEBUG] Head 1 | ps[..., 4].sigmoid().mean = 0.0045\n",
      "[DEBUG] Head 2 | iou.min=-0.0049, iou.max=0.8696, iou.mean=0.3424\n",
      "[DEBUG] Head 2 | ps[..., 4].sigmoid().mean = 0.0096\n"
     ]
    },
    {
     "name": "stderr",
     "output_type": "stream",
     "text": [
      "[YoloOW] Epoch 10/10:  83%|████████▎ | 20/24 [00:20<00:04,  1.02s/it, Loss=6.6313, box=0.087, obj=0.060, cls=0.268, total loss=0.414, lr=0.000049]"
     ]
    },
    {
     "name": "stdout",
     "output_type": "stream",
     "text": [
      "[DEBUG] Head 0 | iou.min=0.1316, iou.max=0.9438, iou.mean=0.5065\n",
      "[DEBUG] Head 0 | ps[..., 4].sigmoid().mean = 0.0015\n",
      "[DEBUG] Head 1 | iou.min=0.0696, iou.max=0.8327, iou.mean=0.4157\n",
      "[DEBUG] Head 1 | ps[..., 4].sigmoid().mean = 0.0045\n",
      "[DEBUG] Head 2 | iou.min=-0.0118, iou.max=0.8343, iou.mean=0.3063\n",
      "[DEBUG] Head 2 | ps[..., 4].sigmoid().mean = 0.0098\n"
     ]
    },
    {
     "name": "stderr",
     "output_type": "stream",
     "text": [
      "[YoloOW] Epoch 10/10:  88%|████████▊ | 21/24 [00:21<00:03,  1.01s/it, Loss=6.6313, box=0.087, obj=0.060, cls=0.268, total loss=0.414, lr=0.000049]"
     ]
    },
    {
     "name": "stdout",
     "output_type": "stream",
     "text": [
      "[DEBUG] Head 0 | iou.min=0.1279, iou.max=0.8871, iou.mean=0.4938\n",
      "[DEBUG] Head 0 | ps[..., 4].sigmoid().mean = 0.0015\n",
      "[DEBUG] Head 1 | iou.min=0.0722, iou.max=0.7685, iou.mean=0.4058\n",
      "[DEBUG] Head 1 | ps[..., 4].sigmoid().mean = 0.0045\n",
      "[DEBUG] Head 2 | iou.min=0.0142, iou.max=0.7487, iou.mean=0.2779\n",
      "[DEBUG] Head 2 | ps[..., 4].sigmoid().mean = 0.0103\n"
     ]
    },
    {
     "name": "stderr",
     "output_type": "stream",
     "text": [
      "[YoloOW] Epoch 10/10:  92%|█████████▏| 22/24 [00:22<00:02,  1.02s/it, Loss=6.6313, box=0.087, obj=0.060, cls=0.268, total loss=0.414, lr=0.000049]"
     ]
    },
    {
     "name": "stdout",
     "output_type": "stream",
     "text": [
      "[DEBUG] Head 0 | iou.min=0.1422, iou.max=0.8702, iou.mean=0.5549\n",
      "[DEBUG] Head 0 | ps[..., 4].sigmoid().mean = 0.0014\n",
      "[DEBUG] Head 1 | iou.min=0.1286, iou.max=0.8787, iou.mean=0.4668\n",
      "[DEBUG] Head 1 | ps[..., 4].sigmoid().mean = 0.0045\n",
      "[DEBUG] Head 2 | iou.min=-0.0011, iou.max=0.8134, iou.mean=0.3330\n",
      "[DEBUG] Head 2 | ps[..., 4].sigmoid().mean = 0.0095\n"
     ]
    },
    {
     "name": "stderr",
     "output_type": "stream",
     "text": [
      "[YoloOW] Epoch 10/10:  96%|█████████▌| 23/24 [00:23<00:01,  1.01s/it, Loss=6.6313, box=0.087, obj=0.060, cls=0.268, total loss=0.414, lr=0.000049]"
     ]
    },
    {
     "name": "stdout",
     "output_type": "stream",
     "text": [
      "[DEBUG] Head 0 | iou.min=0.1397, iou.max=0.8869, iou.mean=0.5306\n",
      "[DEBUG] Head 0 | ps[..., 4].sigmoid().mean = 0.0015\n",
      "[DEBUG] Head 1 | iou.min=0.0585, iou.max=0.8696, iou.mean=0.4463\n",
      "[DEBUG] Head 1 | ps[..., 4].sigmoid().mean = 0.0045\n",
      "[DEBUG] Head 2 | iou.min=0.0094, iou.max=0.8590, iou.mean=0.3463\n",
      "[DEBUG] Head 2 | ps[..., 4].sigmoid().mean = 0.0097\n"
     ]
    },
    {
     "name": "stderr",
     "output_type": "stream",
     "text": [
      "[YoloOW] Epoch 10/10: 100%|██████████| 24/24 [00:24<00:00,  1.02s/it, Loss=6.4936, box=0.084, obj=0.058, cls=0.264, total loss=0.406, lr=0.000049]\n"
     ]
    },
    {
     "name": "stdout",
     "output_type": "stream",
     "text": [
      "\n",
      "[YoloOW] ✅ Epoch 10/10 complete in 24.58s | Avg Loss: 6.5765\n",
      "\n",
      "[YoloOW] 📊 Running evaluation after epoch 10 ...\n",
      "[DEBUG] Head 0 | iou.min=0.1606, iou.max=0.9059, iou.mean=0.5192\n",
      "[DEBUG] Head 0 | ps[..., 4].sigmoid().mean = 0.0016\n",
      "[DEBUG] Head 1 | iou.min=0.1374, iou.max=0.9197, iou.mean=0.4449\n",
      "[DEBUG] Head 1 | ps[..., 4].sigmoid().mean = 0.0045\n",
      "[DEBUG] Head 2 | iou.min=-0.0075, iou.max=0.7542, iou.mean=0.3334\n",
      "[DEBUG] Head 2 | ps[..., 4].sigmoid().mean = 0.0099\n",
      "[DEBUG] Head 0 | iou.min=0.1591, iou.max=0.8519, iou.mean=0.5110\n",
      "[DEBUG] Head 0 | ps[..., 4].sigmoid().mean = 0.0014\n",
      "[DEBUG] Head 1 | iou.min=0.0538, iou.max=0.8602, iou.mean=0.4277\n",
      "[DEBUG] Head 1 | ps[..., 4].sigmoid().mean = 0.0045\n",
      "[DEBUG] Head 2 | iou.min=-0.0173, iou.max=0.8390, iou.mean=0.3150\n",
      "[DEBUG] Head 2 | ps[..., 4].sigmoid().mean = 0.0100\n",
      "[DEBUG] Head 0 | iou.min=0.1970, iou.max=0.8446, iou.mean=0.5016\n",
      "[DEBUG] Head 0 | ps[..., 4].sigmoid().mean = 0.0014\n",
      "[DEBUG] Head 1 | iou.min=0.0534, iou.max=0.9107, iou.mean=0.4185\n",
      "[DEBUG] Head 1 | ps[..., 4].sigmoid().mean = 0.0045\n",
      "[DEBUG] Head 2 | iou.min=-0.0163, iou.max=0.7928, iou.mean=0.3172\n",
      "[DEBUG] Head 2 | ps[..., 4].sigmoid().mean = 0.0098\n",
      "[DEBUG] Head 0 | iou.min=0.1568, iou.max=0.8659, iou.mean=0.5372\n",
      "[DEBUG] Head 0 | ps[..., 4].sigmoid().mean = 0.0015\n",
      "[DEBUG] Head 1 | iou.min=0.0915, iou.max=0.7761, iou.mean=0.4804\n",
      "[DEBUG] Head 1 | ps[..., 4].sigmoid().mean = 0.0045\n",
      "[DEBUG] Head 2 | iou.min=0.0441, iou.max=0.9139, iou.mean=0.3466\n",
      "[DEBUG] Head 2 | ps[..., 4].sigmoid().mean = 0.0095\n",
      "[DEBUG] Head 0 | iou.min=0.1532, iou.max=0.8925, iou.mean=0.5730\n",
      "[DEBUG] Head 0 | ps[..., 4].sigmoid().mean = 0.0016\n",
      "[DEBUG] Head 1 | iou.min=0.2146, iou.max=0.8602, iou.mean=0.5173\n",
      "[DEBUG] Head 1 | ps[..., 4].sigmoid().mean = 0.0045\n",
      "[DEBUG] Head 2 | iou.min=0.0742, iou.max=0.8321, iou.mean=0.3550\n",
      "[DEBUG] Head 2 | ps[..., 4].sigmoid().mean = 0.0096\n",
      "[DEBUG] Head 0 | iou.min=0.3108, iou.max=0.9304, iou.mean=0.5641\n",
      "[DEBUG] Head 0 | ps[..., 4].sigmoid().mean = 0.0017\n",
      "[DEBUG] Head 1 | iou.min=0.0686, iou.max=0.8678, iou.mean=0.4529\n",
      "[DEBUG] Head 1 | ps[..., 4].sigmoid().mean = 0.0045\n",
      "[DEBUG] Head 2 | iou.min=0.0193, iou.max=0.8227, iou.mean=0.2845\n",
      "[DEBUG] Head 2 | ps[..., 4].sigmoid().mean = 0.0097\n",
      "[DEBUG] Head 0 | iou.min=0.1704, iou.max=0.9174, iou.mean=0.4854\n",
      "[DEBUG] Head 0 | ps[..., 4].sigmoid().mean = 0.0013\n",
      "[DEBUG] Head 1 | iou.min=0.0892, iou.max=0.8384, iou.mean=0.3929\n",
      "[DEBUG] Head 1 | ps[..., 4].sigmoid().mean = 0.0045\n",
      "[DEBUG] Head 2 | iou.min=-0.0346, iou.max=0.8183, iou.mean=0.3408\n",
      "[DEBUG] Head 2 | ps[..., 4].sigmoid().mean = 0.0099\n",
      "[DEBUG] Head 0 | iou.min=0.1195, iou.max=0.9315, iou.mean=0.4085\n",
      "[DEBUG] Head 0 | ps[..., 4].sigmoid().mean = 0.0016\n",
      "[DEBUG] Head 1 | iou.min=0.0680, iou.max=0.7654, iou.mean=0.3282\n",
      "[DEBUG] Head 1 | ps[..., 4].sigmoid().mean = 0.0045\n",
      "[DEBUG] Head 2 | iou.min=-0.0127, iou.max=0.7914, iou.mean=0.2746\n",
      "[DEBUG] Head 2 | ps[..., 4].sigmoid().mean = 0.0104\n",
      "[DEBUG] Head 0 | iou.min=0.2615, iou.max=0.6475, iou.mean=0.4688\n",
      "[DEBUG] Head 0 | ps[..., 4].sigmoid().mean = 0.0012\n",
      "[DEBUG] Head 1 | iou.min=0.0688, iou.max=0.6422, iou.mean=0.4631\n",
      "[DEBUG] Head 1 | ps[..., 4].sigmoid().mean = 0.0044\n",
      "[DEBUG] Head 2 | iou.min=0.1028, iou.max=0.8857, iou.mean=0.3838\n",
      "[DEBUG] Head 2 | ps[..., 4].sigmoid().mean = 0.0091\n",
      "[validate_yoloow_model] ✅  Avg Loss  (box/obj/cls/total): 0.0864 / 0.0566 / 0.2716 / 0.4147\n",
      "[DEBUG] Head 0 | iou.min=0.1606, iou.max=0.9059, iou.mean=0.5192\n",
      "[DEBUG] Head 0 | ps[..., 4].sigmoid().mean = 0.0016\n",
      "[DEBUG] Head 1 | iou.min=0.1374, iou.max=0.9197, iou.mean=0.4449\n",
      "[DEBUG] Head 1 | ps[..., 4].sigmoid().mean = 0.0045\n",
      "[DEBUG] Head 2 | iou.min=-0.0075, iou.max=0.7542, iou.mean=0.3334\n",
      "[DEBUG] Head 2 | ps[..., 4].sigmoid().mean = 0.0099\n",
      "[DEBUG] Head 0 | iou.min=0.1591, iou.max=0.8519, iou.mean=0.5110\n",
      "[DEBUG] Head 0 | ps[..., 4].sigmoid().mean = 0.0014\n",
      "[DEBUG] Head 1 | iou.min=0.0538, iou.max=0.8602, iou.mean=0.4277\n",
      "[DEBUG] Head 1 | ps[..., 4].sigmoid().mean = 0.0045\n",
      "[DEBUG] Head 2 | iou.min=-0.0173, iou.max=0.8390, iou.mean=0.3150\n",
      "[DEBUG] Head 2 | ps[..., 4].sigmoid().mean = 0.0100\n",
      "[DEBUG] Head 0 | iou.min=0.1970, iou.max=0.8446, iou.mean=0.5016\n",
      "[DEBUG] Head 0 | ps[..., 4].sigmoid().mean = 0.0014\n",
      "[DEBUG] Head 1 | iou.min=0.0534, iou.max=0.9107, iou.mean=0.4185\n",
      "[DEBUG] Head 1 | ps[..., 4].sigmoid().mean = 0.0045\n",
      "[DEBUG] Head 2 | iou.min=-0.0163, iou.max=0.7928, iou.mean=0.3172\n",
      "[DEBUG] Head 2 | ps[..., 4].sigmoid().mean = 0.0098\n",
      "[DEBUG] Head 0 | iou.min=0.1568, iou.max=0.8659, iou.mean=0.5372\n",
      "[DEBUG] Head 0 | ps[..., 4].sigmoid().mean = 0.0015\n",
      "[DEBUG] Head 1 | iou.min=0.0915, iou.max=0.7761, iou.mean=0.4804\n",
      "[DEBUG] Head 1 | ps[..., 4].sigmoid().mean = 0.0045\n",
      "[DEBUG] Head 2 | iou.min=0.0441, iou.max=0.9139, iou.mean=0.3466\n",
      "[DEBUG] Head 2 | ps[..., 4].sigmoid().mean = 0.0095\n",
      "[DEBUG] Head 0 | iou.min=0.1532, iou.max=0.8925, iou.mean=0.5730\n",
      "[DEBUG] Head 0 | ps[..., 4].sigmoid().mean = 0.0016\n",
      "[DEBUG] Head 1 | iou.min=0.2146, iou.max=0.8602, iou.mean=0.5173\n",
      "[DEBUG] Head 1 | ps[..., 4].sigmoid().mean = 0.0045\n",
      "[DEBUG] Head 2 | iou.min=0.0742, iou.max=0.8321, iou.mean=0.3550\n",
      "[DEBUG] Head 2 | ps[..., 4].sigmoid().mean = 0.0096\n",
      "[DEBUG] Head 0 | iou.min=0.3108, iou.max=0.9304, iou.mean=0.5641\n",
      "[DEBUG] Head 0 | ps[..., 4].sigmoid().mean = 0.0017\n",
      "[DEBUG] Head 1 | iou.min=0.0686, iou.max=0.8678, iou.mean=0.4529\n",
      "[DEBUG] Head 1 | ps[..., 4].sigmoid().mean = 0.0045\n",
      "[DEBUG] Head 2 | iou.min=0.0193, iou.max=0.8227, iou.mean=0.2845\n",
      "[DEBUG] Head 2 | ps[..., 4].sigmoid().mean = 0.0097\n",
      "[DEBUG] Head 0 | iou.min=0.1704, iou.max=0.9174, iou.mean=0.4854\n",
      "[DEBUG] Head 0 | ps[..., 4].sigmoid().mean = 0.0013\n",
      "[DEBUG] Head 1 | iou.min=0.0892, iou.max=0.8384, iou.mean=0.3929\n",
      "[DEBUG] Head 1 | ps[..., 4].sigmoid().mean = 0.0045\n",
      "[DEBUG] Head 2 | iou.min=-0.0346, iou.max=0.8183, iou.mean=0.3408\n",
      "[DEBUG] Head 2 | ps[..., 4].sigmoid().mean = 0.0099\n",
      "[DEBUG] Head 0 | iou.min=0.1195, iou.max=0.9315, iou.mean=0.4085\n",
      "[DEBUG] Head 0 | ps[..., 4].sigmoid().mean = 0.0016\n",
      "[DEBUG] Head 1 | iou.min=0.0680, iou.max=0.7654, iou.mean=0.3282\n",
      "[DEBUG] Head 1 | ps[..., 4].sigmoid().mean = 0.0045\n",
      "[DEBUG] Head 2 | iou.min=-0.0127, iou.max=0.7914, iou.mean=0.2746\n",
      "[DEBUG] Head 2 | ps[..., 4].sigmoid().mean = 0.0104\n",
      "[DEBUG] Head 0 | iou.min=0.2615, iou.max=0.6475, iou.mean=0.4688\n",
      "[DEBUG] Head 0 | ps[..., 4].sigmoid().mean = 0.0012\n",
      "[DEBUG] Head 1 | iou.min=0.0688, iou.max=0.6422, iou.mean=0.4631\n",
      "[DEBUG] Head 1 | ps[..., 4].sigmoid().mean = 0.0044\n",
      "[DEBUG] Head 2 | iou.min=0.1028, iou.max=0.8857, iou.mean=0.3838\n",
      "[DEBUG] Head 2 | ps[..., 4].sigmoid().mean = 0.0091\n",
      "[validate_yoloow_model] ✅  Avg Loss  (box/obj/cls/total): 0.0864 / 0.0566 / 0.2716 / 0.4147\n",
      "[DEBUG] After : cls=8.0, cx=405.5, cy=245.0, bw=363.0, bh=244.0\n",
      "[DEBUG] After : cls=6.0, cx=476.5, cy=241.0, bw=343.0, bh=314.0\n",
      "[DEBUG] After : cls=4.0, cx=533.5, cy=493.0, bw=69.0, bh=66.0\n",
      "[DEBUG] After : cls=4.0, cx=567.0, cy=475.0, bw=68.0, bh=62.0\n",
      "[DEBUG] After : cls=4.0, cx=597.5, cy=455.5, bw=69.0, bh=61.0\n",
      "[DEBUG] After : cls=4.0, cx=628.5, cy=437.0, bw=69.0, bh=64.0\n",
      "[DEBUG] After : cls=4.0, cx=657.0, cy=418.0, bw=68.0, bh=64.0\n",
      "[DEBUG] After : cls=4.0, cx=685.5, cy=400.0, bw=73.0, bh=62.0\n",
      "[DEBUG] After : cls=4.0, cx=717.0, cy=383.0, bw=74.0, bh=60.0\n",
      "[DEBUG] After : cls=4.0, cx=243.0, cy=128.0, bw=54.0, bh=68.0\n",
      "[DEBUG] After : cls=4.0, cx=289.0, cy=119.5, bw=56.0, bh=65.0\n",
      "[DEBUG] After : cls=4.0, cx=335.0, cy=108.5, bw=58.0, bh=67.0\n",
      "[DEBUG] After : cls=4.0, cx=412.0, cy=141.5, bw=60.0, bh=69.0\n",
      "[DEBUG] After : cls=4.0, cx=458.0, cy=130.5, bw=56.0, bh=67.0\n",
      "[DEBUG] After : cls=4.0, cx=538.0, cy=165.5, bw=62.0, bh=71.0\n",
      "[DEBUG] After : cls=4.0, cx=582.0, cy=155.5, bw=64.0, bh=69.0\n",
      "[DEBUG] After : cls=4.0, cx=204.0, cy=255.5, bw=58.0, bh=75.0\n",
      "[DEBUG] After : cls=4.0, cx=252.5, cy=243.5, bw=57.0, bh=73.0\n",
      "[DEBUG] After : cls=4.0, cx=301.0, cy=233.5, bw=56.0, bh=73.0\n",
      "[DEBUG] After : cls=4.0, cx=382.0, cy=270.5, bw=58.0, bh=77.0\n",
      "[DEBUG] After : cls=4.0, cx=430.5, cy=260.0, bw=61.0, bh=74.0\n",
      "[DEBUG] After : cls=4.0, cx=515.0, cy=296.5, bw=66.0, bh=77.0\n",
      "[DEBUG] After : cls=4.0, cx=563.0, cy=285.0, bw=66.0, bh=78.0\n",
      "[DEBUG] After : cls=4.0, cx=610.5, cy=272.5, bw=69.0, bh=77.0\n",
      "[DEBUG] After : cls=4.0, cx=563.5, cy=442.0, bw=69.0, bh=88.0\n",
      "[DEBUG] After : cls=4.0, cx=614.0, cy=428.5, bw=68.0, bh=87.0\n",
      "[DEBUG] After : cls=4.0, cx=664.0, cy=415.5, bw=70.0, bh=87.0\n",
      "[DEBUG] After : cls=0.0, cx=129.5, cy=670.0, bw=93.0, bh=76.0\n",
      "[DEBUG] After : cls=0.0, cx=561.0, cy=90.5, bw=68.0, bh=49.0\n",
      "[DEBUG] After : cls=6.0, cx=330.0, cy=227.0, bw=160.0, bh=282.0\n",
      "[DEBUG] After : cls=1.0, cx=758.5, cy=33.0, bw=77.0, bh=18.0\n",
      "[DEBUG] After : cls=1.0, cx=910.0, cy=109.5, bw=86.0, bh=21.0\n",
      "[DEBUG] After : cls=1.0, cx=239.0, cy=107.0, bw=36.0, bh=24.0\n",
      "[DEBUG] After : cls=1.0, cx=196.0, cy=262.0, bw=58.0, bh=26.0\n",
      "[DEBUG] After : cls=1.0, cx=170.5, cy=449.0, bw=71.0, bh=24.0\n",
      "[DEBUG] After : cls=1.0, cx=506.0, cy=207.5, bw=70.0, bh=45.0\n",
      "[DEBUG] After : cls=1.0, cx=717.0, cy=233.5, bw=72.0, bh=39.0\n",
      "[DEBUG] After : cls=3.0, cx=360.0, cy=143.5, bw=84.0, bh=65.0\n",
      "[DEBUG] After : cls=3.0, cx=390.5, cy=304.5, bw=85.0, bh=75.0\n",
      "[DEBUG] After : cls=3.0, cx=252.5, cy=330.5, bw=87.0, bh=79.0\n",
      "[DEBUG] After : cls=6.0, cx=188.0, cy=234.0, bw=208.0, bh=242.0\n",
      "[DEBUG] After : cls=3.0, cx=388.0, cy=235.0, bw=82.0, bh=84.0\n",
      "[DEBUG] After : cls=3.0, cx=536.5, cy=239.5, bw=101.0, bh=105.0\n",
      "[DEBUG] After : cls=4.0, cx=481.5, cy=523.0, bw=29.0, bh=60.0\n",
      "[DEBUG] After : cls=4.0, cx=512.5, cy=521.5, bw=31.0, bh=55.0\n",
      "[DEBUG] After : cls=5.0, cx=445.0, cy=523.0, bw=38.0, bh=68.0\n",
      "[DEBUG] After : cls=9.0, cx=286.0, cy=265.5, bw=62.0, bh=29.0\n",
      "[DEBUG] After : cls=9.0, cx=543.5, cy=208.0, bw=61.0, bh=28.0\n",
      "[DEBUG] After : cls=9.0, cx=932.5, cy=228.0, bw=57.0, bh=28.0\n",
      "[DEBUG] After : cls=9.0, cx=731.0, cy=193.5, bw=64.0, bh=19.0\n",
      "[DEBUG] After : cls=6.0, cx=452.5, cy=375.0, bw=265.0, bh=340.0\n",
      "[DEBUG] After : cls=4.0, cx=307.5, cy=469.5, bw=55.0, bh=79.0\n",
      "[DEBUG] After : cls=4.0, cx=337.0, cy=516.0, bw=60.0, bh=72.0\n",
      "[DEBUG] After : cls=4.0, cx=366.5, cy=559.0, bw=51.0, bh=80.0\n",
      "[DEBUG] After : cls=3.0, cx=236.5, cy=68.5, bw=69.0, bh=49.0\n",
      "[DEBUG] After : cls=3.0, cx=341.0, cy=139.0, bw=74.0, bh=52.0\n",
      "[DEBUG] After : cls=7.0, cx=323.0, cy=180.5, bw=124.0, bh=67.0\n",
      "[DEBUG] After : cls=7.0, cx=347.5, cy=235.5, bw=133.0, bh=69.0\n",
      "[DEBUG] After : cls=7.0, cx=369.0, cy=285.0, bw=134.0, bh=72.0\n",
      "[DEBUG] After : cls=7.0, cx=386.0, cy=329.0, bw=126.0, bh=70.0\n",
      "[DEBUG] After : cls=7.0, cx=394.0, cy=379.5, bw=104.0, bh=61.0\n",
      "[DEBUG] After : cls=5.0, cx=99.0, cy=203.0, bw=54.0, bh=72.0\n",
      "[DEBUG] After : cls=5.0, cx=159.5, cy=198.0, bw=51.0, bh=70.0\n",
      "[DEBUG] After : cls=5.0, cx=91.5, cy=281.5, bw=53.0, bh=69.0\n",
      "[DEBUG] After : cls=5.0, cx=154.5, cy=275.0, bw=55.0, bh=72.0\n",
      "[DEBUG] After : cls=5.0, cx=84.0, cy=366.0, bw=54.0, bh=78.0\n",
      "[DEBUG] After : cls=5.0, cx=147.5, cy=356.5, bw=55.0, bh=77.0\n",
      "[DEBUG] After : cls=3.0, cx=320.0, cy=73.5, bw=84.0, bh=61.0\n",
      "[DEBUG] After : cls=6.0, cx=354.0, cy=261.0, bw=176.0, bh=260.0\n",
      "[DEBUG] After : cls=0.0, cx=233.0, cy=118.5, bw=68.0, bh=53.0\n",
      "[DEBUG] After : cls=0.0, cx=86.0, cy=392.0, bw=60.0, bh=48.0\n",
      "[DEBUG] After : cls=0.0, cx=326.0, cy=206.5, bw=66.0, bh=47.0\n",
      "[DEBUG] After : cls=0.0, cx=443.0, cy=332.0, bw=78.0, bh=56.0\n",
      "[DEBUG] After : cls=0.0, cx=453.0, cy=419.5, bw=80.0, bh=57.0\n",
      "[DEBUG] After : cls=0.0, cx=619.0, cy=243.0, bw=90.0, bh=72.0\n",
      "[DEBUG] After : cls=0.0, cx=630.0, cy=360.0, bw=96.0, bh=84.0\n",
      "[DEBUG] After : cls=0.0, cx=614.5, cy=477.0, bw=105.0, bh=92.0\n",
      "[DEBUG] After : cls=6.0, cx=519.5, cy=302.0, bw=347.0, bh=306.0\n",
      "[DEBUG] After : cls=3.0, cx=320.0, cy=149.5, bw=100.0, bh=67.0\n",
      "[DEBUG] After : cls=3.0, cx=766.0, cy=295.0, bw=74.0, bh=52.0\n",
      "[DEBUG] After : cls=9.0, cx=455.0, cy=537.0, bw=68.0, bh=46.0\n",
      "[DEBUG] After : cls=9.0, cx=585.0, cy=464.5, bw=68.0, bh=43.0\n",
      "[DEBUG] After : cls=9.0, cx=600.0, cy=495.5, bw=60.0, bh=37.0\n",
      "[DEBUG] After : cls=9.0, cx=622.0, cy=521.0, bw=62.0, bh=42.0\n",
      "[DEBUG] After : cls=9.0, cx=464.0, cy=573.0, bw=80.0, bh=52.0\n",
      "[TEST] img.shape = torch.Size([16, 3, 640, 640])\n",
      "[TEST] targets.shape = torch.Size([85, 6])\n",
      "[DEBUG] After : cls=8.0, cx=405.5, cy=245.0, bw=363.0, bh=244.0\n",
      "[DEBUG] After : cls=6.0, cx=476.5, cy=241.0, bw=343.0, bh=314.0\n",
      "[DEBUG] After : cls=4.0, cx=533.5, cy=493.0, bw=69.0, bh=66.0\n",
      "[DEBUG] After : cls=4.0, cx=567.0, cy=475.0, bw=68.0, bh=62.0\n",
      "[DEBUG] After : cls=4.0, cx=597.5, cy=455.5, bw=69.0, bh=61.0\n",
      "[DEBUG] After : cls=4.0, cx=628.5, cy=437.0, bw=69.0, bh=64.0\n",
      "[DEBUG] After : cls=4.0, cx=657.0, cy=418.0, bw=68.0, bh=64.0\n",
      "[DEBUG] After : cls=4.0, cx=685.5, cy=400.0, bw=73.0, bh=62.0\n",
      "[DEBUG] After : cls=4.0, cx=717.0, cy=383.0, bw=74.0, bh=60.0\n",
      "[DEBUG] After : cls=4.0, cx=243.0, cy=128.0, bw=54.0, bh=68.0\n",
      "[DEBUG] After : cls=4.0, cx=289.0, cy=119.5, bw=56.0, bh=65.0\n",
      "[DEBUG] After : cls=4.0, cx=335.0, cy=108.5, bw=58.0, bh=67.0\n",
      "[DEBUG] After : cls=4.0, cx=412.0, cy=141.5, bw=60.0, bh=69.0\n",
      "[DEBUG] After : cls=4.0, cx=458.0, cy=130.5, bw=56.0, bh=67.0\n",
      "[DEBUG] After : cls=4.0, cx=538.0, cy=165.5, bw=62.0, bh=71.0\n",
      "[DEBUG] After : cls=4.0, cx=582.0, cy=155.5, bw=64.0, bh=69.0\n",
      "[DEBUG] After : cls=4.0, cx=204.0, cy=255.5, bw=58.0, bh=75.0\n",
      "[DEBUG] After : cls=4.0, cx=252.5, cy=243.5, bw=57.0, bh=73.0\n",
      "[DEBUG] After : cls=4.0, cx=301.0, cy=233.5, bw=56.0, bh=73.0\n",
      "[DEBUG] After : cls=4.0, cx=382.0, cy=270.5, bw=58.0, bh=77.0\n",
      "[DEBUG] After : cls=4.0, cx=430.5, cy=260.0, bw=61.0, bh=74.0\n",
      "[DEBUG] After : cls=4.0, cx=515.0, cy=296.5, bw=66.0, bh=77.0\n",
      "[DEBUG] After : cls=4.0, cx=563.0, cy=285.0, bw=66.0, bh=78.0\n",
      "[DEBUG] After : cls=4.0, cx=610.5, cy=272.5, bw=69.0, bh=77.0\n",
      "[DEBUG] After : cls=4.0, cx=563.5, cy=442.0, bw=69.0, bh=88.0\n",
      "[DEBUG] After : cls=4.0, cx=614.0, cy=428.5, bw=68.0, bh=87.0\n",
      "[DEBUG] After : cls=4.0, cx=664.0, cy=415.5, bw=70.0, bh=87.0\n",
      "[DEBUG] After : cls=0.0, cx=129.5, cy=670.0, bw=93.0, bh=76.0\n",
      "[DEBUG] After : cls=0.0, cx=561.0, cy=90.5, bw=68.0, bh=49.0\n",
      "[DEBUG] After : cls=6.0, cx=330.0, cy=227.0, bw=160.0, bh=282.0\n",
      "[DEBUG] After : cls=1.0, cx=758.5, cy=33.0, bw=77.0, bh=18.0\n",
      "[DEBUG] After : cls=1.0, cx=910.0, cy=109.5, bw=86.0, bh=21.0\n",
      "[DEBUG] After : cls=1.0, cx=239.0, cy=107.0, bw=36.0, bh=24.0\n",
      "[DEBUG] After : cls=1.0, cx=196.0, cy=262.0, bw=58.0, bh=26.0\n",
      "[DEBUG] After : cls=1.0, cx=170.5, cy=449.0, bw=71.0, bh=24.0\n",
      "[DEBUG] After : cls=1.0, cx=506.0, cy=207.5, bw=70.0, bh=45.0\n",
      "[DEBUG] After : cls=1.0, cx=717.0, cy=233.5, bw=72.0, bh=39.0\n",
      "[DEBUG] After : cls=3.0, cx=360.0, cy=143.5, bw=84.0, bh=65.0\n",
      "[DEBUG] After : cls=3.0, cx=390.5, cy=304.5, bw=85.0, bh=75.0\n",
      "[DEBUG] After : cls=3.0, cx=252.5, cy=330.5, bw=87.0, bh=79.0\n",
      "[DEBUG] After : cls=6.0, cx=188.0, cy=234.0, bw=208.0, bh=242.0\n",
      "[DEBUG] After : cls=3.0, cx=388.0, cy=235.0, bw=82.0, bh=84.0\n",
      "[DEBUG] After : cls=3.0, cx=536.5, cy=239.5, bw=101.0, bh=105.0\n",
      "[DEBUG] After : cls=4.0, cx=481.5, cy=523.0, bw=29.0, bh=60.0\n",
      "[DEBUG] After : cls=4.0, cx=512.5, cy=521.5, bw=31.0, bh=55.0\n",
      "[DEBUG] After : cls=5.0, cx=445.0, cy=523.0, bw=38.0, bh=68.0\n",
      "[DEBUG] After : cls=9.0, cx=286.0, cy=265.5, bw=62.0, bh=29.0\n",
      "[DEBUG] After : cls=9.0, cx=543.5, cy=208.0, bw=61.0, bh=28.0\n",
      "[DEBUG] After : cls=9.0, cx=932.5, cy=228.0, bw=57.0, bh=28.0\n",
      "[DEBUG] After : cls=9.0, cx=731.0, cy=193.5, bw=64.0, bh=19.0\n",
      "[DEBUG] After : cls=6.0, cx=452.5, cy=375.0, bw=265.0, bh=340.0\n",
      "[DEBUG] After : cls=4.0, cx=307.5, cy=469.5, bw=55.0, bh=79.0\n",
      "[DEBUG] After : cls=4.0, cx=337.0, cy=516.0, bw=60.0, bh=72.0\n",
      "[DEBUG] After : cls=4.0, cx=366.5, cy=559.0, bw=51.0, bh=80.0\n",
      "[DEBUG] After : cls=3.0, cx=236.5, cy=68.5, bw=69.0, bh=49.0\n",
      "[DEBUG] After : cls=3.0, cx=341.0, cy=139.0, bw=74.0, bh=52.0\n",
      "[DEBUG] After : cls=7.0, cx=323.0, cy=180.5, bw=124.0, bh=67.0\n",
      "[DEBUG] After : cls=7.0, cx=347.5, cy=235.5, bw=133.0, bh=69.0\n",
      "[DEBUG] After : cls=7.0, cx=369.0, cy=285.0, bw=134.0, bh=72.0\n",
      "[DEBUG] After : cls=7.0, cx=386.0, cy=329.0, bw=126.0, bh=70.0\n",
      "[DEBUG] After : cls=7.0, cx=394.0, cy=379.5, bw=104.0, bh=61.0\n",
      "[DEBUG] After : cls=5.0, cx=99.0, cy=203.0, bw=54.0, bh=72.0\n",
      "[DEBUG] After : cls=5.0, cx=159.5, cy=198.0, bw=51.0, bh=70.0\n",
      "[DEBUG] After : cls=5.0, cx=91.5, cy=281.5, bw=53.0, bh=69.0\n",
      "[DEBUG] After : cls=5.0, cx=154.5, cy=275.0, bw=55.0, bh=72.0\n",
      "[DEBUG] After : cls=5.0, cx=84.0, cy=366.0, bw=54.0, bh=78.0\n",
      "[DEBUG] After : cls=5.0, cx=147.5, cy=356.5, bw=55.0, bh=77.0\n",
      "[DEBUG] After : cls=3.0, cx=320.0, cy=73.5, bw=84.0, bh=61.0\n",
      "[DEBUG] After : cls=6.0, cx=354.0, cy=261.0, bw=176.0, bh=260.0\n",
      "[DEBUG] After : cls=0.0, cx=233.0, cy=118.5, bw=68.0, bh=53.0\n",
      "[DEBUG] After : cls=0.0, cx=86.0, cy=392.0, bw=60.0, bh=48.0\n",
      "[DEBUG] After : cls=0.0, cx=326.0, cy=206.5, bw=66.0, bh=47.0\n",
      "[DEBUG] After : cls=0.0, cx=443.0, cy=332.0, bw=78.0, bh=56.0\n",
      "[DEBUG] After : cls=0.0, cx=453.0, cy=419.5, bw=80.0, bh=57.0\n",
      "[DEBUG] After : cls=0.0, cx=619.0, cy=243.0, bw=90.0, bh=72.0\n",
      "[DEBUG] After : cls=0.0, cx=630.0, cy=360.0, bw=96.0, bh=84.0\n",
      "[DEBUG] After : cls=0.0, cx=614.5, cy=477.0, bw=105.0, bh=92.0\n",
      "[DEBUG] After : cls=6.0, cx=519.5, cy=302.0, bw=347.0, bh=306.0\n",
      "[DEBUG] After : cls=3.0, cx=320.0, cy=149.5, bw=100.0, bh=67.0\n",
      "[DEBUG] After : cls=3.0, cx=766.0, cy=295.0, bw=74.0, bh=52.0\n",
      "[DEBUG] After : cls=9.0, cx=455.0, cy=537.0, bw=68.0, bh=46.0\n",
      "[DEBUG] After : cls=9.0, cx=585.0, cy=464.5, bw=68.0, bh=43.0\n",
      "[DEBUG] After : cls=9.0, cx=600.0, cy=495.5, bw=60.0, bh=37.0\n",
      "[DEBUG] After : cls=9.0, cx=622.0, cy=521.0, bw=62.0, bh=42.0\n",
      "[DEBUG] After : cls=9.0, cx=464.0, cy=573.0, bw=80.0, bh=52.0\n",
      "[DEBUG] number of preds after NMS: [0, 0, 0, 0, 0, 0, 0, 0, 0, 0, 0, 0, 0, 0, 0, 0]\n",
      "[DEBUG] number of targets in batch: 85\n",
      "[DEBUG] batch 0: 0 preds vs 1 GTs -> 0 matches (IoU>0.5)\n",
      "[DEBUG] batch 1: 0 preds vs 8 GTs -> 0 matches (IoU>0.5)\n",
      "[DEBUG] batch 2: 0 preds vs 18 GTs -> 0 matches (IoU>0.5)\n",
      "[DEBUG] batch 3: 0 preds vs 2 GTs -> 0 matches (IoU>0.5)\n",
      "[DEBUG] batch 4: 0 preds vs 1 GTs -> 0 matches (IoU>0.5)\n",
      "[DEBUG] batch 5: 0 preds vs 7 GTs -> 0 matches (IoU>0.5)\n",
      "[DEBUG] batch 6: 0 preds vs 4 GTs -> 0 matches (IoU>0.5)\n",
      "[DEBUG] batch 7: 0 preds vs 5 GTs -> 0 matches (IoU>0.5)\n",
      "[DEBUG] batch 8: 0 preds vs 4 GTs -> 0 matches (IoU>0.5)\n",
      "[DEBUG] batch 9: 0 preds vs 6 GTs -> 0 matches (IoU>0.5)\n",
      "[DEBUG] batch 10: 0 preds vs 5 GTs -> 0 matches (IoU>0.5)\n",
      "[DEBUG] batch 11: 0 preds vs 6 GTs -> 0 matches (IoU>0.5)\n",
      "[DEBUG] batch 12: 0 preds vs 2 GTs -> 0 matches (IoU>0.5)\n",
      "[DEBUG] batch 13: 0 preds vs 8 GTs -> 0 matches (IoU>0.5)\n",
      "[DEBUG] batch 14: 0 preds vs 3 GTs -> 0 matches (IoU>0.5)\n",
      "[DEBUG] batch 15: 0 preds vs 5 GTs -> 0 matches (IoU>0.5)\n",
      "[DEBUG] After : cls=9.0, cx=97.5, cy=377.5, bw=79.0, bh=47.0\n",
      "[DEBUG] After : cls=9.0, cx=90.0, cy=433.5, bw=66.0, bh=37.0\n",
      "[DEBUG] After : cls=9.0, cx=347.0, cy=371.0, bw=58.0, bh=36.0\n",
      "[DEBUG] After : cls=9.0, cx=830.5, cy=322.5, bw=39.0, bh=63.0\n",
      "[DEBUG] After : cls=1.0, cx=92.0, cy=281.5, bw=58.0, bh=73.0\n",
      "[DEBUG] After : cls=1.0, cx=382.0, cy=138.0, bw=38.0, bh=72.0\n",
      "[DEBUG] After : cls=1.0, cx=526.0, cy=65.0, bw=34.0, bh=68.0\n",
      "[DEBUG] After : cls=1.0, cx=492.0, cy=290.5, bw=50.0, bh=81.0\n",
      "[DEBUG] After : cls=1.0, cx=768.5, cy=311.5, bw=35.0, bh=85.0\n",
      "[DEBUG] After : cls=1.0, cx=1021.5, cy=137.0, bw=69.0, bh=66.0\n",
      "[DEBUG] After : cls=1.0, cx=993.0, cy=369.0, bw=60.0, bh=74.0\n",
      "[DEBUG] After : cls=2.0, cx=271.5, cy=203.5, bw=59.0, bh=59.0\n",
      "[DEBUG] After : cls=2.0, cx=330.0, cy=214.5, bw=58.0, bh=61.0\n",
      "[DEBUG] After : cls=2.0, cx=386.5, cy=220.0, bw=49.0, bh=52.0\n",
      "[DEBUG] After : cls=2.0, cx=278.0, cy=259.5, bw=50.0, bh=51.0\n",
      "[DEBUG] After : cls=2.0, cx=331.0, cy=272.0, bw=50.0, bh=50.0\n",
      "[DEBUG] After : cls=2.0, cx=383.0, cy=271.0, bw=50.0, bh=50.0\n",
      "[DEBUG] After : cls=2.0, cx=457.5, cy=310.0, bw=43.0, bh=44.0\n",
      "[DEBUG] After : cls=2.0, cx=413.5, cy=331.0, bw=41.0, bh=44.0\n",
      "[DEBUG] After : cls=2.0, cx=452.0, cy=354.0, bw=40.0, bh=44.0\n",
      "[DEBUG] After : cls=2.0, cx=711.0, cy=316.0, bw=52.0, bh=54.0\n",
      "[DEBUG] After : cls=2.0, cx=766.0, cy=310.0, bw=52.0, bh=48.0\n",
      "[DEBUG] After : cls=2.0, cx=822.5, cy=310.0, bw=55.0, bh=54.0\n",
      "[DEBUG] After : cls=2.0, cx=778.0, cy=361.0, bw=50.0, bh=48.0\n",
      "[DEBUG] After : cls=2.0, cx=710.5, cy=380.0, bw=51.0, bh=50.0\n",
      "[DEBUG] After : cls=3.0, cx=866.5, cy=246.5, bw=79.0, bh=85.0\n",
      "[DEBUG] After : cls=3.0, cx=851.5, cy=525.0, bw=81.0, bh=86.0\n",
      "[DEBUG] After : cls=3.0, cx=287.5, cy=423.5, bw=67.0, bh=75.0\n",
      "[DEBUG] After : cls=4.0, cx=658.5, cy=80.5, bw=37.0, bh=59.0\n",
      "[DEBUG] After : cls=4.0, cx=662.0, cy=136.0, bw=36.0, bh=58.0\n",
      "[DEBUG] After : cls=4.0, cx=665.0, cy=197.0, bw=38.0, bh=54.0\n",
      "[DEBUG] After : cls=4.0, cx=666.0, cy=253.0, bw=32.0, bh=56.0\n",
      "[DEBUG] After : cls=4.0, cx=670.5, cy=308.0, bw=35.0, bh=52.0\n",
      "[DEBUG] After : cls=4.0, cx=672.5, cy=365.5, bw=31.0, bh=55.0\n",
      "[DEBUG] After : cls=6.0, cx=206.5, cy=285.5, bw=395.0, bh=177.0\n",
      "[DEBUG] After : cls=0.0, cx=61.5, cy=152.5, bw=41.0, bh=43.0\n",
      "[DEBUG] After : cls=0.0, cx=225.5, cy=129.0, bw=59.0, bh=60.0\n",
      "[DEBUG] After : cls=1.0, cx=858.0, cy=99.5, bw=76.0, bh=73.0\n",
      "[DEBUG] After : cls=1.0, cx=1068.5, cy=509.5, bw=75.0, bh=71.0\n",
      "[DEBUG] After : cls=8.0, cx=383.0, cy=289.0, bw=154.0, bh=214.0\n",
      "[DEBUG] After : cls=6.0, cx=602.5, cy=222.5, bw=459.0, bh=365.0\n",
      "[DEBUG] After : cls=5.0, cx=344.0, cy=376.5, bw=52.0, bh=77.0\n",
      "[DEBUG] After : cls=5.0, cx=300.0, cy=377.0, bw=52.0, bh=82.0\n",
      "[DEBUG] After : cls=5.0, cx=256.0, cy=378.0, bw=52.0, bh=80.0\n",
      "[DEBUG] After : cls=5.0, cx=212.0, cy=378.0, bw=54.0, bh=80.0\n",
      "[DEBUG] After : cls=3.0, cx=547.5, cy=271.5, bw=115.0, bh=115.0\n",
      "[DEBUG] After : cls=9.0, cx=152.0, cy=61.0, bw=60.0, bh=32.0\n",
      "[DEBUG] After : cls=9.0, cx=734.0, cy=557.5, bw=66.0, bh=53.0\n",
      "[DEBUG] After : cls=9.0, cx=898.0, cy=648.5, bw=60.0, bh=51.0\n",
      "[DEBUG] After : cls=6.0, cx=430.0, cy=276.0, bw=172.0, bh=294.0\n",
      "[DEBUG] After : cls=3.0, cx=251.5, cy=121.0, bw=83.0, bh=74.0\n",
      "[DEBUG] After : cls=3.0, cx=126.0, cy=300.0, bw=96.0, bh=94.0\n",
      "[DEBUG] After : cls=0.0, cx=501.5, cy=102.0, bw=63.0, bh=66.0\n",
      "[DEBUG] After : cls=0.0, cx=584.0, cy=137.0, bw=66.0, bh=68.0\n",
      "[DEBUG] After : cls=0.0, cx=661.0, cy=192.5, bw=68.0, bh=73.0\n",
      "[DEBUG] After : cls=0.0, cx=739.0, cy=245.5, bw=70.0, bh=79.0\n",
      "[DEBUG] After : cls=0.0, cx=832.5, cy=278.0, bw=77.0, bh=76.0\n",
      "[DEBUG] After : cls=0.0, cx=230.0, cy=328.0, bw=76.0, bh=52.0\n",
      "[DEBUG] After : cls=0.0, cx=169.0, cy=411.0, bw=86.0, bh=66.0\n",
      "[DEBUG] After : cls=0.0, cx=99.5, cy=490.5, bw=83.0, bh=69.0\n",
      "[DEBUG] After : cls=1.0, cx=503.5, cy=417.0, bw=29.0, bh=28.0\n",
      "[DEBUG] After : cls=1.0, cx=503.0, cy=451.0, bw=30.0, bh=28.0\n",
      "[DEBUG] After : cls=4.0, cx=299.5, cy=202.5, bw=45.0, bh=83.0\n",
      "[DEBUG] After : cls=4.0, cx=349.5, cy=205.5, bw=49.0, bh=83.0\n",
      "[DEBUG] After : cls=4.0, cx=401.5, cy=208.5, bw=49.0, bh=83.0\n",
      "[DEBUG] After : cls=5.0, cx=475.5, cy=214.5, bw=65.0, bh=99.0\n",
      "[DEBUG] After : cls=3.0, cx=138.0, cy=466.5, bw=76.0, bh=61.0\n",
      "[DEBUG] After : cls=3.0, cx=601.0, cy=434.5, bw=96.0, bh=83.0\n",
      "[DEBUG] After : cls=6.0, cx=638.5, cy=236.0, bw=169.0, bh=296.0\n",
      "[DEBUG] After : cls=4.0, cx=403.0, cy=259.5, bw=76.0, bh=59.0\n",
      "[DEBUG] After : cls=4.0, cx=442.0, cy=235.0, bw=76.0, bh=58.0\n",
      "[DEBUG] After : cls=0.0, cx=104.0, cy=229.0, bw=76.0, bh=86.0\n",
      "[DEBUG] After : cls=0.0, cx=236.0, cy=225.5, bw=64.0, bh=69.0\n",
      "[DEBUG] After : cls=0.0, cx=329.0, cy=225.5, bw=64.0, bh=71.0\n",
      "[DEBUG] After : cls=0.0, cx=403.5, cy=226.0, bw=59.0, bh=58.0\n",
      "[DEBUG] After : cls=0.0, cx=476.5, cy=225.0, bw=57.0, bh=52.0\n",
      "[DEBUG] After : cls=0.0, cx=653.5, cy=225.0, bw=65.0, bh=62.0\n",
      "[DEBUG] After : cls=0.0, cx=65.5, cy=459.0, bw=77.0, bh=84.0\n",
      "[DEBUG] After : cls=0.0, cx=192.0, cy=471.5, bw=100.0, bh=105.0\n",
      "[DEBUG] After : cls=0.0, cx=301.5, cy=465.0, bw=79.0, bh=90.0\n",
      "[DEBUG] After : cls=0.0, cx=403.5, cy=470.0, bw=79.0, bh=96.0\n",
      "[DEBUG] After : cls=0.0, cx=614.0, cy=469.5, bw=54.0, bh=63.0\n",
      "[DEBUG] number of preds after NMS: [0, 0, 0, 0, 0, 0, 0, 0, 0, 0, 0, 0, 0, 0, 0, 0]\n",
      "[DEBUG] number of targets in batch: 82\n",
      "[DEBUG] batch 0: 0 preds vs 4 GTs -> 0 matches (IoU>0.5)\n",
      "[DEBUG] batch 1: 0 preds vs 7 GTs -> 0 matches (IoU>0.5)\n",
      "[DEBUG] batch 2: 0 preds vs 14 GTs -> 0 matches (IoU>0.5)\n",
      "[DEBUG] batch 3: 0 preds vs 9 GTs -> 0 matches (IoU>0.5)\n",
      "[DEBUG] batch 4: 0 preds vs 1 GTs -> 0 matches (IoU>0.5)\n",
      "[DEBUG] batch 5: 0 preds vs 4 GTs -> 0 matches (IoU>0.5)\n",
      "[DEBUG] batch 6: 0 preds vs 1 GTs -> 0 matches (IoU>0.5)\n",
      "[DEBUG] batch 7: 0 preds vs 5 GTs -> 0 matches (IoU>0.5)\n",
      "[DEBUG] batch 8: 0 preds vs 1 GTs -> 0 matches (IoU>0.5)\n",
      "[DEBUG] batch 9: 0 preds vs 3 GTs -> 0 matches (IoU>0.5)\n",
      "[DEBUG] batch 10: 0 preds vs 3 GTs -> 0 matches (IoU>0.5)\n",
      "[DEBUG] batch 11: 0 preds vs 10 GTs -> 0 matches (IoU>0.5)\n",
      "[DEBUG] batch 12: 0 preds vs 4 GTs -> 0 matches (IoU>0.5)\n",
      "[DEBUG] batch 13: 0 preds vs 3 GTs -> 0 matches (IoU>0.5)\n",
      "[DEBUG] batch 14: 0 preds vs 2 GTs -> 0 matches (IoU>0.5)\n",
      "[DEBUG] batch 15: 0 preds vs 11 GTs -> 0 matches (IoU>0.5)\n",
      "[DEBUG] After : cls=1.0, cx=249.5, cy=291.0, bw=37.0, bh=70.0\n",
      "[DEBUG] After : cls=1.0, cx=224.0, cy=428.0, bw=52.0, bh=66.0\n",
      "[DEBUG] After : cls=1.0, cx=177.0, cy=641.5, bw=48.0, bh=63.0\n",
      "[DEBUG] After : cls=9.0, cx=532.0, cy=359.0, bw=58.0, bh=50.0\n",
      "[DEBUG] After : cls=9.0, cx=754.5, cy=351.0, bw=57.0, bh=44.0\n",
      "[DEBUG] After : cls=9.0, cx=849.5, cy=521.5, bw=55.0, bh=41.0\n",
      "[DEBUG] After : cls=9.0, cx=911.0, cy=547.5, bw=82.0, bh=59.0\n",
      "[DEBUG] After : cls=9.0, cx=346.0, cy=240.5, bw=42.0, bh=41.0\n",
      "[DEBUG] After : cls=9.0, cx=239.0, cy=162.5, bw=42.0, bh=43.0\n",
      "[DEBUG] After : cls=6.0, cx=333.0, cy=225.5, bw=284.0, bh=225.0\n",
      "[DEBUG] After : cls=3.0, cx=179.5, cy=224.0, bw=73.0, bh=80.0\n",
      "[DEBUG] After : cls=3.0, cx=828.0, cy=436.0, bw=116.0, bh=140.0\n",
      "[DEBUG] After : cls=6.0, cx=302.0, cy=288.5, bw=264.0, bh=263.0\n",
      "[DEBUG] After : cls=3.0, cx=97.0, cy=220.0, bw=68.0, bh=64.0\n",
      "[DEBUG] After : cls=6.0, cx=175.5, cy=80.0, bw=237.0, bh=106.0\n",
      "[DEBUG] After : cls=3.0, cx=599.5, cy=54.0, bw=143.0, bh=96.0\n",
      "[DEBUG] After : cls=5.0, cx=660.5, cy=341.0, bw=99.0, bh=104.0\n",
      "[DEBUG] After : cls=5.0, cx=739.0, cy=324.5, bw=90.0, bh=97.0\n",
      "[DEBUG] After : cls=0.0, cx=225.0, cy=476.0, bw=52.0, bh=48.0\n",
      "[DEBUG] After : cls=0.0, cx=413.0, cy=109.0, bw=34.0, bh=32.0\n",
      "[DEBUG] After : cls=5.0, cx=310.5, cy=415.5, bw=95.0, bh=57.0\n",
      "[DEBUG] After : cls=3.0, cx=805.5, cy=141.0, bw=83.0, bh=64.0\n",
      "[DEBUG] After : cls=3.0, cx=593.5, cy=259.0, bw=95.0, bh=80.0\n",
      "[DEBUG] After : cls=3.0, cx=841.0, cy=363.5, bw=52.0, bh=41.0\n",
      "[DEBUG] After : cls=6.0, cx=414.5, cy=264.5, bw=155.0, bh=325.0\n",
      "[DEBUG] After : cls=8.0, cx=367.0, cy=319.5, bw=252.0, bh=197.0\n",
      "[DEBUG] After : cls=5.0, cx=608.0, cy=232.5, bw=114.0, bh=77.0\n",
      "[DEBUG] After : cls=5.0, cx=586.5, cy=282.5, bw=117.0, bh=81.0\n",
      "[DEBUG] After : cls=4.0, cx=522.0, cy=351.5, bw=62.0, bh=91.0\n",
      "[DEBUG] After : cls=4.0, cx=580.5, cy=371.5, bw=63.0, bh=91.0\n",
      "[DEBUG] After : cls=4.0, cx=471.0, cy=464.0, bw=76.0, bh=92.0\n",
      "[DEBUG] After : cls=4.0, cx=531.5, cy=486.5, bw=75.0, bh=95.0\n",
      "[DEBUG] After : cls=3.0, cx=693.0, cy=226.0, bw=90.0, bh=84.0\n",
      "[DEBUG] After : cls=6.0, cx=502.5, cy=239.5, bw=225.0, bh=293.0\n",
      "[DEBUG] After : cls=6.0, cx=333.0, cy=242.0, bw=184.0, bh=328.0\n",
      "[DEBUG] After : cls=8.0, cx=130.5, cy=283.5, bw=81.0, bh=123.0\n",
      "[DEBUG] After : cls=8.0, cx=578.0, cy=188.5, bw=178.0, bh=155.0\n",
      "[DEBUG] After : cls=8.0, cx=1073.5, cy=124.0, bw=121.0, bh=86.0\n",
      "[DEBUG] After : cls=0.0, cx=344.5, cy=108.5, bw=81.0, bh=85.0\n",
      "[DEBUG] After : cls=0.0, cx=428.5, cy=72.5, bw=53.0, bh=55.0\n",
      "[DEBUG] After : cls=0.0, cx=341.5, cy=512.5, bw=57.0, bh=49.0\n",
      "[DEBUG] After : cls=0.0, cx=443.5, cy=570.5, bw=53.0, bh=57.0\n",
      "[DEBUG] number of preds after NMS: [0, 0, 0, 0, 0, 0, 0, 0, 0, 0, 0, 0, 0, 0, 0, 0]\n",
      "[DEBUG] number of targets in batch: 42\n",
      "[DEBUG] batch 0: 0 preds vs 3 GTs -> 0 matches (IoU>0.5)\n",
      "[DEBUG] batch 1: 0 preds vs 6 GTs -> 0 matches (IoU>0.5)\n",
      "[DEBUG] batch 2: 0 preds vs 1 GTs -> 0 matches (IoU>0.5)\n",
      "[DEBUG] batch 3: 0 preds vs 2 GTs -> 0 matches (IoU>0.5)\n",
      "[DEBUG] batch 4: 0 preds vs 1 GTs -> 0 matches (IoU>0.5)\n",
      "[DEBUG] batch 5: 0 preds vs 2 GTs -> 0 matches (IoU>0.5)\n",
      "[DEBUG] batch 6: 0 preds vs 3 GTs -> 0 matches (IoU>0.5)\n",
      "[DEBUG] batch 7: 0 preds vs 2 GTs -> 0 matches (IoU>0.5)\n",
      "[DEBUG] batch 8: 0 preds vs 1 GTs -> 0 matches (IoU>0.5)\n",
      "[DEBUG] batch 9: 0 preds vs 4 GTs -> 0 matches (IoU>0.5)\n",
      "[DEBUG] batch 10: 0 preds vs 1 GTs -> 0 matches (IoU>0.5)\n",
      "[DEBUG] batch 11: 0 preds vs 6 GTs -> 0 matches (IoU>0.5)\n",
      "[DEBUG] batch 12: 0 preds vs 2 GTs -> 0 matches (IoU>0.5)\n",
      "[DEBUG] batch 13: 0 preds vs 1 GTs -> 0 matches (IoU>0.5)\n",
      "[DEBUG] batch 14: 0 preds vs 3 GTs -> 0 matches (IoU>0.5)\n",
      "[DEBUG] batch 15: 0 preds vs 4 GTs -> 0 matches (IoU>0.5)\n",
      "[DEBUG] After : cls=8.0, cx=322.5, cy=169.0, bw=125.0, bh=74.0\n",
      "[DEBUG] After : cls=3.0, cx=428.5, cy=196.5, bw=53.0, bh=45.0\n",
      "[DEBUG] After : cls=3.0, cx=496.5, cy=196.0, bw=43.0, bh=38.0\n",
      "[DEBUG] After : cls=3.0, cx=424.0, cy=266.5, bw=72.0, bh=61.0\n",
      "[DEBUG] After : cls=3.0, cx=513.5, cy=258.5, bw=71.0, bh=65.0\n",
      "[DEBUG] After : cls=3.0, cx=539.0, cy=82.0, bw=54.0, bh=52.0\n",
      "[DEBUG] After : cls=3.0, cx=401.0, cy=160.0, bw=72.0, bh=72.0\n",
      "[DEBUG] After : cls=3.0, cx=520.0, cy=203.5, bw=60.0, bh=63.0\n",
      "[DEBUG] After : cls=3.0, cx=546.0, cy=282.5, bw=72.0, bh=69.0\n",
      "[DEBUG] After : cls=3.0, cx=411.0, cy=299.5, bw=66.0, bh=61.0\n",
      "[DEBUG] After : cls=3.0, cx=506.5, cy=362.5, bw=57.0, bh=57.0\n",
      "[DEBUG] After : cls=3.0, cx=725.0, cy=85.0, bw=98.0, bh=108.0\n",
      "[DEBUG] After : cls=3.0, cx=780.0, cy=156.5, bw=100.0, bh=99.0\n",
      "[DEBUG] After : cls=9.0, cx=520.0, cy=64.0, bw=42.0, bh=28.0\n",
      "[DEBUG] After : cls=9.0, cx=537.0, cy=155.0, bw=46.0, bh=32.0\n",
      "[DEBUG] After : cls=9.0, cx=534.0, cy=193.0, bw=54.0, bh=30.0\n",
      "[DEBUG] After : cls=9.0, cx=441.0, cy=277.5, bw=26.0, bh=51.0\n",
      "[DEBUG] After : cls=9.0, cx=456.5, cy=344.0, bw=29.0, bh=48.0\n",
      "[DEBUG] After : cls=9.0, cx=478.0, cy=415.5, bw=34.0, bh=51.0\n",
      "[DEBUG] After : cls=9.0, cx=415.0, cy=198.0, bw=48.0, bh=42.0\n",
      "[DEBUG] After : cls=9.0, cx=296.0, cy=260.0, bw=52.0, bh=24.0\n",
      "[DEBUG] After : cls=9.0, cx=123.5, cy=299.0, bw=55.0, bh=42.0\n",
      "[DEBUG] After : cls=6.0, cx=261.5, cy=274.5, bw=205.0, bh=389.0\n",
      "[DEBUG] After : cls=3.0, cx=514.5, cy=318.5, bw=73.0, bh=71.0\n",
      "[DEBUG] After : cls=3.0, cx=475.5, cy=222.0, bw=99.0, bh=110.0\n",
      "[DEBUG] After : cls=9.0, cx=830.5, cy=453.5, bw=37.0, bh=63.0\n",
      "[DEBUG] After : cls=9.0, cx=711.5, cy=573.0, bw=37.0, bh=82.0\n",
      "[DEBUG] After : cls=5.0, cx=610.5, cy=303.5, bw=93.0, bh=93.0\n",
      "[DEBUG] After : cls=0.0, cx=89.5, cy=102.5, bw=79.0, bh=67.0\n",
      "[DEBUG] After : cls=0.0, cx=112.0, cy=295.0, bw=94.0, bh=92.0\n",
      "[DEBUG] After : cls=0.0, cx=207.5, cy=306.5, bw=49.0, bh=57.0\n",
      "[DEBUG] After : cls=0.0, cx=305.0, cy=306.0, bw=90.0, bh=96.0\n",
      "[DEBUG] After : cls=0.0, cx=398.0, cy=276.5, bw=66.0, bh=51.0\n",
      "[DEBUG] After : cls=0.0, cx=451.0, cy=188.5, bw=88.0, bh=79.0\n",
      "[DEBUG] After : cls=0.0, cx=567.0, cy=122.0, bw=88.0, bh=104.0\n",
      "[DEBUG] After : cls=0.0, cx=661.0, cy=130.0, bw=54.0, bh=72.0\n",
      "[DEBUG] After : cls=0.0, cx=734.5, cy=135.0, bw=53.0, bh=60.0\n",
      "[DEBUG] After : cls=0.0, cx=829.5, cy=142.5, bw=73.0, bh=99.0\n",
      "[DEBUG] After : cls=0.0, cx=912.0, cy=137.0, bw=52.0, bh=68.0\n",
      "[DEBUG] After : cls=0.0, cx=986.5, cy=144.0, bw=53.0, bh=76.0\n",
      "[DEBUG] After : cls=0.0, cx=100.0, cy=540.5, bw=80.0, bh=89.0\n",
      "[DEBUG] After : cls=0.0, cx=190.0, cy=526.0, bw=80.0, bh=94.0\n",
      "[DEBUG] After : cls=0.0, cx=293.0, cy=532.0, bw=78.0, bh=86.0\n",
      "[DEBUG] After : cls=0.0, cx=389.5, cy=583.0, bw=55.0, bh=40.0\n",
      "[DEBUG] After : cls=0.0, cx=722.0, cy=347.5, bw=54.0, bh=59.0\n",
      "[DEBUG] After : cls=0.0, cx=786.5, cy=352.0, bw=49.0, bh=60.0\n",
      "[DEBUG] After : cls=0.0, cx=852.0, cy=353.5, bw=44.0, bh=59.0\n",
      "[DEBUG] After : cls=0.0, cx=914.0, cy=355.5, bw=48.0, bh=53.0\n",
      "[DEBUG] After : cls=0.0, cx=715.0, cy=549.0, bw=46.0, bh=46.0\n",
      "[DEBUG] After : cls=0.0, cx=842.0, cy=554.5, bw=52.0, bh=43.0\n",
      "[DEBUG] After : cls=2.0, cx=125.0, cy=597.0, bw=68.0, bh=60.0\n",
      "[DEBUG] After : cls=2.0, cx=127.0, cy=674.0, bw=84.0, bh=76.0\n",
      "[DEBUG] After : cls=2.0, cx=129.5, cy=788.0, bw=79.0, bh=74.0\n",
      "[DEBUG] After : cls=2.0, cx=129.5, cy=874.5, bw=83.0, bh=75.0\n",
      "[DEBUG] After : cls=2.0, cx=237.5, cy=729.5, bw=79.0, bh=73.0\n",
      "[DEBUG] After : cls=2.0, cx=235.0, cy=805.5, bw=78.0, bh=75.0\n",
      "[DEBUG] After : cls=2.0, cx=237.5, cy=885.0, bw=85.0, bh=72.0\n",
      "[DEBUG] After : cls=2.0, cx=336.5, cy=723.5, bw=79.0, bh=77.0\n",
      "[DEBUG] After : cls=2.0, cx=336.5, cy=803.5, bw=83.0, bh=75.0\n",
      "[DEBUG] After : cls=2.0, cx=450.0, cy=724.5, bw=84.0, bh=81.0\n",
      "[DEBUG] After : cls=2.0, cx=453.0, cy=805.0, bw=84.0, bh=84.0\n",
      "[DEBUG] After : cls=2.0, cx=452.5, cy=906.5, bw=87.0, bh=79.0\n",
      "[DEBUG] After : cls=2.0, cx=541.5, cy=720.0, bw=81.0, bh=78.0\n",
      "[DEBUG] After : cls=2.0, cx=540.5, cy=803.0, bw=83.0, bh=80.0\n",
      "[DEBUG] After : cls=2.0, cx=647.0, cy=710.5, bw=74.0, bh=63.0\n",
      "[DEBUG] After : cls=2.0, cx=650.0, cy=777.5, bw=70.0, bh=65.0\n",
      "[DEBUG] After : cls=2.0, cx=651.5, cy=858.0, bw=71.0, bh=66.0\n",
      "[DEBUG] After : cls=2.0, cx=651.5, cy=926.0, bw=71.0, bh=64.0\n",
      "[DEBUG] After : cls=2.0, cx=721.5, cy=708.0, bw=69.0, bh=66.0\n",
      "[DEBUG] After : cls=2.0, cx=719.0, cy=777.5, bw=70.0, bh=61.0\n",
      "[DEBUG] After : cls=2.0, cx=725.0, cy=852.5, bw=68.0, bh=59.0\n",
      "[DEBUG] After : cls=2.0, cx=723.5, cy=925.0, bw=71.0, bh=66.0\n",
      "[DEBUG] After : cls=2.0, cx=830.0, cy=721.5, bw=68.0, bh=63.0\n",
      "[DEBUG] After : cls=2.0, cx=899.0, cy=724.0, bw=64.0, bh=66.0\n",
      "[DEBUG] After : cls=2.0, cx=833.0, cy=823.5, bw=76.0, bh=81.0\n",
      "[DEBUG] After : cls=2.0, cx=815.5, cy=917.5, bw=75.0, bh=69.0\n",
      "[DEBUG] After : cls=2.0, cx=898.0, cy=917.5, bw=78.0, bh=75.0\n",
      "[DEBUG] After : cls=2.0, cx=863.0, cy=463.0, bw=76.0, bh=72.0\n",
      "[DEBUG] After : cls=2.0, cx=941.0, cy=489.0, bw=76.0, bh=72.0\n",
      "[DEBUG] After : cls=2.0, cx=1038.5, cy=482.0, bw=79.0, bh=80.0\n",
      "[DEBUG] After : cls=2.0, cx=1117.5, cy=483.0, bw=81.0, bh=78.0\n",
      "[DEBUG] After : cls=2.0, cx=991.5, cy=329.0, bw=75.0, bh=64.0\n",
      "[DEBUG] After : cls=2.0, cx=1113.5, cy=363.5, bw=71.0, bh=61.0\n",
      "[DEBUG] After : cls=2.0, cx=1213.5, cy=296.5, bw=75.0, bh=69.0\n",
      "[DEBUG] After : cls=2.0, cx=1286.0, cy=323.0, bw=56.0, bh=62.0\n",
      "[DEBUG] After : cls=2.0, cx=1264.5, cy=370.5, bw=63.0, bh=57.0\n",
      "[DEBUG] After : cls=2.0, cx=1341.5, cy=366.0, bw=71.0, bh=66.0\n",
      "[DEBUG] After : cls=2.0, cx=1047.5, cy=700.0, bw=77.0, bh=78.0\n",
      "[DEBUG] After : cls=2.0, cx=995.0, cy=812.0, bw=68.0, bh=58.0\n",
      "[DEBUG] After : cls=2.0, cx=991.0, cy=864.5, bw=60.0, bh=59.0\n",
      "[DEBUG] After : cls=2.0, cx=995.0, cy=917.5, bw=68.0, bh=63.0\n",
      "[DEBUG] After : cls=2.0, cx=1073.0, cy=807.0, bw=62.0, bh=60.0\n",
      "[DEBUG] After : cls=2.0, cx=1071.5, cy=867.0, bw=65.0, bh=54.0\n",
      "[DEBUG] After : cls=2.0, cx=1071.5, cy=915.0, bw=65.0, bh=54.0\n",
      "[DEBUG] After : cls=2.0, cx=1165.0, cy=813.0, bw=78.0, bh=72.0\n",
      "[DEBUG] After : cls=2.0, cx=1164.5, cy=885.0, bw=77.0, bh=66.0\n",
      "[DEBUG] After : cls=2.0, cx=1257.0, cy=813.0, bw=66.0, bh=60.0\n",
      "[DEBUG] After : cls=2.0, cx=1253.0, cy=882.0, bw=68.0, bh=60.0\n",
      "[DEBUG] After : cls=2.0, cx=1353.5, cy=851.0, bw=79.0, bh=76.0\n",
      "[DEBUG] After : cls=2.0, cx=1456.0, cy=804.0, bw=66.0, bh=54.0\n",
      "[DEBUG] After : cls=2.0, cx=1453.0, cy=861.0, bw=60.0, bh=60.0\n",
      "[DEBUG] After : cls=2.0, cx=1529.0, cy=797.5, bw=74.0, bh=57.0\n",
      "[DEBUG] After : cls=2.0, cx=1527.0, cy=849.5, bw=72.0, bh=65.0\n",
      "[DEBUG] After : cls=2.0, cx=1609.0, cy=831.5, bw=66.0, bh=61.0\n",
      "[DEBUG] After : cls=2.0, cx=1670.0, cy=797.5, bw=68.0, bh=63.0\n",
      "[DEBUG] After : cls=1.0, cx=500.0, cy=355.5, bw=98.0, bh=111.0\n",
      "[DEBUG] After : cls=1.0, cx=786.5, cy=122.0, bw=113.0, bh=128.0\n",
      "[DEBUG] After : cls=2.0, cx=1064.0, cy=267.5, bw=68.0, bh=65.0\n",
      "[DEBUG] After : cls=9.0, cx=762.5, cy=88.0, bw=65.0, bh=40.0\n",
      "[DEBUG] After : cls=9.0, cx=519.5, cy=263.5, bw=65.0, bh=47.0\n",
      "[DEBUG] After : cls=9.0, cx=362.5, cy=257.5, bw=65.0, bh=45.0\n",
      "[DEBUG] After : cls=9.0, cx=448.5, cy=188.5, bw=67.0, bh=41.0\n",
      "[DEBUG] After : cls=9.0, cx=235.0, cy=299.0, bw=64.0, bh=42.0\n",
      "[DEBUG] After : cls=9.0, cx=232.0, cy=387.5, bw=66.0, bh=41.0\n",
      "[DEBUG] After : cls=9.0, cx=274.5, cy=334.0, bw=69.0, bh=46.0\n",
      "[DEBUG] After : cls=6.0, cx=373.0, cy=229.0, bw=160.0, bh=262.0\n",
      "[DEBUG] After : cls=1.0, cx=575.0, cy=461.5, bw=52.0, bh=67.0\n",
      "[DEBUG] After : cls=2.0, cx=234.0, cy=98.5, bw=66.0, bh=63.0\n",
      "[DEBUG] After : cls=2.0, cx=234.0, cy=168.5, bw=66.0, bh=67.0\n",
      "[DEBUG] After : cls=2.0, cx=234.0, cy=272.0, bw=66.0, bh=62.0\n",
      "[DEBUG] After : cls=2.0, cx=234.0, cy=343.5, bw=66.0, bh=69.0\n",
      "[DEBUG] After : cls=2.0, cx=294.0, cy=95.0, bw=64.0, bh=66.0\n",
      "[DEBUG] After : cls=2.0, cx=294.0, cy=168.5, bw=64.0, bh=65.0\n",
      "[DEBUG] After : cls=2.0, cx=294.0, cy=272.0, bw=64.0, bh=62.0\n",
      "[DEBUG] After : cls=2.0, cx=294.0, cy=343.5, bw=64.0, bh=69.0\n",
      "[DEBUG] After : cls=2.0, cx=235.5, cy=485.0, bw=59.0, bh=68.0\n",
      "[DEBUG] After : cls=2.0, cx=235.5, cy=572.0, bw=59.0, bh=70.0\n",
      "[DEBUG] After : cls=2.0, cx=235.5, cy=678.0, bw=59.0, bh=66.0\n",
      "[DEBUG] After : cls=2.0, cx=235.5, cy=752.0, bw=59.0, bh=58.0\n",
      "[DEBUG] After : cls=2.0, cx=299.0, cy=485.0, bw=64.0, bh=68.0\n",
      "[DEBUG] After : cls=2.0, cx=299.0, cy=572.0, bw=64.0, bh=70.0\n",
      "[DEBUG] After : cls=2.0, cx=299.0, cy=678.0, bw=64.0, bh=66.0\n",
      "[DEBUG] After : cls=2.0, cx=299.0, cy=752.0, bw=64.0, bh=58.0\n",
      "[DEBUG] After : cls=2.0, cx=363.5, cy=485.0, bw=65.0, bh=68.0\n",
      "[DEBUG] After : cls=2.0, cx=363.5, cy=572.0, bw=65.0, bh=70.0\n",
      "[DEBUG] After : cls=2.0, cx=363.5, cy=678.0, bw=65.0, bh=66.0\n",
      "[DEBUG] After : cls=2.0, cx=363.5, cy=752.0, bw=65.0, bh=58.0\n",
      "[DEBUG] After : cls=2.0, cx=428.0, cy=485.0, bw=64.0, bh=68.0\n",
      "[DEBUG] After : cls=2.0, cx=428.0, cy=572.0, bw=64.0, bh=70.0\n",
      "[DEBUG] After : cls=2.0, cx=428.0, cy=678.0, bw=64.0, bh=66.0\n",
      "[DEBUG] After : cls=2.0, cx=428.0, cy=752.0, bw=64.0, bh=58.0\n",
      "[DEBUG] After : cls=2.0, cx=566.0, cy=164.0, bw=68.0, bh=62.0\n",
      "[DEBUG] After : cls=2.0, cx=566.0, cy=236.0, bw=68.0, bh=62.0\n",
      "[DEBUG] After : cls=2.0, cx=700.0, cy=95.5, bw=64.0, bh=63.0\n",
      "[DEBUG] After : cls=2.0, cx=700.0, cy=168.0, bw=64.0, bh=60.0\n",
      "[DEBUG] After : cls=2.0, cx=700.0, cy=223.0, bw=64.0, bh=62.0\n",
      "[DEBUG] After : cls=2.0, cx=700.0, cy=282.5, bw=64.0, bh=65.0\n",
      "[DEBUG] After : cls=2.0, cx=700.0, cy=339.5, bw=64.0, bh=59.0\n",
      "[DEBUG] After : cls=2.0, cx=764.5, cy=95.5, bw=71.0, bh=63.0\n",
      "[DEBUG] After : cls=2.0, cx=764.5, cy=168.0, bw=71.0, bh=60.0\n",
      "[DEBUG] After : cls=2.0, cx=764.5, cy=223.0, bw=71.0, bh=62.0\n",
      "[DEBUG] After : cls=2.0, cx=764.5, cy=282.5, bw=71.0, bh=65.0\n",
      "[DEBUG] After : cls=2.0, cx=764.5, cy=339.5, bw=71.0, bh=59.0\n",
      "[DEBUG] After : cls=2.0, cx=566.0, cy=483.5, bw=64.0, bh=61.0\n",
      "[DEBUG] After : cls=2.0, cx=566.0, cy=570.5, bw=64.0, bh=65.0\n",
      "[DEBUG] After : cls=2.0, cx=566.0, cy=678.5, bw=64.0, bh=67.0\n",
      "[DEBUG] After : cls=2.0, cx=630.5, cy=483.5, bw=61.0, bh=61.0\n",
      "[DEBUG] After : cls=2.0, cx=630.5, cy=570.5, bw=61.0, bh=65.0\n",
      "[DEBUG] After : cls=2.0, cx=630.5, cy=678.5, bw=61.0, bh=67.0\n",
      "[DEBUG] After : cls=2.0, cx=696.0, cy=483.5, bw=64.0, bh=61.0\n",
      "[DEBUG] After : cls=2.0, cx=696.0, cy=570.5, bw=64.0, bh=65.0\n",
      "[DEBUG] After : cls=2.0, cx=696.0, cy=678.5, bw=64.0, bh=67.0\n",
      "[DEBUG] After : cls=2.0, cx=762.0, cy=483.5, bw=64.0, bh=61.0\n",
      "[DEBUG] After : cls=2.0, cx=762.0, cy=570.5, bw=64.0, bh=65.0\n",
      "[DEBUG] After : cls=2.0, cx=762.0, cy=678.5, bw=64.0, bh=67.0\n",
      "[DEBUG] After : cls=2.0, cx=1114.0, cy=221.5, bw=60.0, bh=65.0\n",
      "[DEBUG] After : cls=2.0, cx=1177.0, cy=221.5, bw=62.0, bh=65.0\n",
      "[DEBUG] After : cls=2.0, cx=1091.0, cy=486.0, bw=62.0, bh=64.0\n",
      "[DEBUG] After : cls=2.0, cx=1160.0, cy=486.0, bw=62.0, bh=64.0\n",
      "[DEBUG] After : cls=2.0, cx=1088.0, cy=566.5, bw=60.0, bh=61.0\n",
      "[DEBUG] After : cls=2.0, cx=1160.0, cy=566.5, bw=62.0, bh=61.0\n",
      "[DEBUG] After : cls=2.0, cx=1082.0, cy=671.0, bw=64.0, bh=64.0\n",
      "[DEBUG] After : cls=2.0, cx=1162.0, cy=671.0, bw=68.0, bh=64.0\n",
      "[DEBUG] After : cls=8.0, cx=227.0, cy=197.5, bw=154.0, bh=127.0\n",
      "[DEBUG] After : cls=8.0, cx=846.5, cy=253.5, bw=107.0, bh=135.0\n",
      "[DEBUG] After : cls=3.0, cx=526.0, cy=92.5, bw=86.0, bh=63.0\n",
      "[DEBUG] After : cls=3.0, cx=662.5, cy=67.5, bw=65.0, bh=49.0\n",
      "[DEBUG] After : cls=6.0, cx=724.0, cy=252.0, bw=232.0, bh=262.0\n",
      "[DEBUG] number of preds after NMS: [0, 0, 0, 0, 0, 0, 0, 0, 0, 0, 0, 0, 0, 0, 0, 0]\n",
      "[DEBUG] number of targets in batch: 178\n",
      "[DEBUG] batch 0: 0 preds vs 1 GTs -> 0 matches (IoU>0.5)\n",
      "[DEBUG] batch 1: 0 preds vs 4 GTs -> 0 matches (IoU>0.5)\n",
      "[DEBUG] batch 2: 0 preds vs 8 GTs -> 0 matches (IoU>0.5)\n",
      "[DEBUG] batch 3: 0 preds vs 9 GTs -> 0 matches (IoU>0.5)\n",
      "[DEBUG] batch 4: 0 preds vs 2 GTs -> 0 matches (IoU>0.5)\n",
      "[DEBUG] batch 5: 0 preds vs 1 GTs -> 0 matches (IoU>0.5)\n",
      "[DEBUG] batch 6: 0 preds vs 2 GTs -> 0 matches (IoU>0.5)\n",
      "[DEBUG] batch 7: 0 preds vs 1 GTs -> 0 matches (IoU>0.5)\n",
      "[DEBUG] batch 8: 0 preds vs 22 GTs -> 0 matches (IoU>0.5)\n",
      "[DEBUG] batch 9: 0 preds vs 58 GTs -> 0 matches (IoU>0.5)\n",
      "[DEBUG] batch 10: 0 preds vs 7 GTs -> 0 matches (IoU>0.5)\n",
      "[DEBUG] batch 11: 0 preds vs 1 GTs -> 0 matches (IoU>0.5)\n",
      "[DEBUG] batch 12: 0 preds vs 1 GTs -> 0 matches (IoU>0.5)\n",
      "[DEBUG] batch 13: 0 preds vs 56 GTs -> 0 matches (IoU>0.5)\n",
      "[DEBUG] batch 14: 0 preds vs 2 GTs -> 0 matches (IoU>0.5)\n",
      "[DEBUG] batch 15: 0 preds vs 3 GTs -> 0 matches (IoU>0.5)\n",
      "[DEBUG] After : cls=3.0, cx=149.0, cy=54.5, bw=78.0, bh=55.0\n",
      "[DEBUG] After : cls=3.0, cx=218.5, cy=212.0, bw=87.0, bh=70.0\n",
      "[DEBUG] After : cls=3.0, cx=117.5, cy=437.5, bw=69.0, bh=51.0\n",
      "[DEBUG] After : cls=6.0, cx=475.0, cy=267.5, bw=170.0, bh=259.0\n",
      "[DEBUG] After : cls=8.0, cx=372.5, cy=230.0, bw=133.0, bh=96.0\n",
      "[DEBUG] After : cls=8.0, cx=224.0, cy=415.0, bw=98.0, bh=176.0\n",
      "[DEBUG] After : cls=8.0, cx=522.5, cy=400.0, bw=91.0, bh=154.0\n",
      "[DEBUG] After : cls=8.0, cx=970.5, cy=115.0, bw=111.0, bh=94.0\n",
      "[DEBUG] After : cls=6.0, cx=503.5, cy=330.0, bw=177.0, bh=338.0\n",
      "[DEBUG] After : cls=3.0, cx=422.5, cy=74.0, bw=89.0, bh=74.0\n",
      "[DEBUG] After : cls=4.0, cx=226.0, cy=190.5, bw=28.0, bh=49.0\n",
      "[DEBUG] After : cls=4.0, cx=256.0, cy=191.5, bw=28.0, bh=49.0\n",
      "[DEBUG] After : cls=1.0, cx=150.5, cy=66.0, bw=89.0, bh=22.0\n",
      "[DEBUG] After : cls=1.0, cx=448.0, cy=65.0, bw=92.0, bh=24.0\n",
      "[DEBUG] After : cls=1.0, cx=552.5, cy=67.0, bw=89.0, bh=24.0\n",
      "[DEBUG] After : cls=1.0, cx=59.5, cy=127.0, bw=47.0, bh=76.0\n",
      "[DEBUG] After : cls=1.0, cx=118.5, cy=440.5, bw=91.0, bh=23.0\n",
      "[DEBUG] After : cls=1.0, cx=315.5, cy=468.5, bw=75.0, bh=21.0\n",
      "[DEBUG] After : cls=1.0, cx=573.5, cy=606.5, bw=27.0, bh=91.0\n",
      "[DEBUG] After : cls=1.0, cx=847.5, cy=447.0, bw=85.0, bh=24.0\n",
      "[DEBUG] After : cls=1.0, cx=1003.5, cy=474.0, bw=65.0, bh=64.0\n",
      "[DEBUG] After : cls=2.0, cx=553.0, cy=155.0, bw=52.0, bh=52.0\n",
      "[DEBUG] After : cls=2.0, cx=552.5, cy=211.0, bw=53.0, bh=50.0\n",
      "[DEBUG] After : cls=2.0, cx=550.0, cy=263.0, bw=52.0, bh=50.0\n",
      "[DEBUG] After : cls=2.0, cx=693.5, cy=212.5, bw=49.0, bh=49.0\n",
      "[DEBUG] After : cls=2.0, cx=693.0, cy=264.0, bw=48.0, bh=50.0\n",
      "[DEBUG] After : cls=2.0, cx=759.0, cy=257.0, bw=54.0, bh=52.0\n",
      "[DEBUG] After : cls=2.0, cx=818.0, cy=257.5, bw=52.0, bh=51.0\n",
      "[DEBUG] After : cls=5.0, cx=221.5, cy=270.5, bw=119.0, bh=97.0\n",
      "[DEBUG] After : cls=5.0, cx=264.0, cy=305.5, bw=116.0, bh=97.0\n",
      "[DEBUG] After : cls=9.0, cx=363.0, cy=348.0, bw=54.0, bh=38.0\n",
      "[DEBUG] After : cls=9.0, cx=355.5, cy=531.0, bw=37.0, bh=52.0\n",
      "[DEBUG] After : cls=9.0, cx=520.5, cy=205.5, bw=37.0, bh=51.0\n",
      "[DEBUG] After : cls=9.0, cx=655.5, cy=154.0, bw=51.0, bh=38.0\n",
      "[DEBUG] After : cls=9.0, cx=691.0, cy=91.5, bw=42.0, bh=39.0\n",
      "[DEBUG] After : cls=9.0, cx=671.0, cy=123.5, bw=58.0, bh=45.0\n",
      "[DEBUG] After : cls=9.0, cx=704.0, cy=58.0, bw=40.0, bh=32.0\n",
      "[DEBUG] After : cls=9.0, cx=640.5, cy=179.0, bw=39.0, bh=28.0\n",
      "[DEBUG] After : cls=9.0, cx=473.5, cy=287.5, bw=31.0, bh=47.0\n",
      "[DEBUG] After : cls=9.0, cx=446.0, cy=344.5, bw=30.0, bh=45.0\n",
      "[DEBUG] After : cls=9.0, cx=296.5, cy=645.0, bw=31.0, bh=36.0\n",
      "[DEBUG] After : cls=9.0, cx=304.0, cy=428.5, bw=50.0, bh=37.0\n",
      "[DEBUG] After : cls=4.0, cx=322.5, cy=104.0, bw=65.0, bh=30.0\n",
      "[DEBUG] After : cls=4.0, cx=322.5, cy=137.5, bw=65.0, bh=27.0\n",
      "[DEBUG] After : cls=4.0, cx=321.5, cy=171.5, bw=63.0, bh=29.0\n",
      "[DEBUG] After : cls=4.0, cx=407.5, cy=102.5, bw=63.0, bh=29.0\n",
      "[DEBUG] After : cls=4.0, cx=490.5, cy=98.5, bw=65.0, bh=27.0\n",
      "[DEBUG] After : cls=5.0, cx=305.5, cy=221.0, bw=67.0, bh=34.0\n",
      "[DEBUG] After : cls=5.0, cx=306.0, cy=254.5, bw=62.0, bh=33.0\n",
      "[DEBUG] After : cls=5.0, cx=304.5, cy=290.5, bw=65.0, bh=33.0\n",
      "[DEBUG] After : cls=5.0, cx=305.5, cy=326.0, bw=65.0, bh=36.0\n",
      "[DEBUG] After : cls=6.0, cx=162.5, cy=232.5, bw=175.0, bh=283.0\n",
      "[DEBUG] After : cls=0.0, cx=151.5, cy=87.5, bw=93.0, bh=89.0\n",
      "[DEBUG] After : cls=0.0, cx=145.0, cy=221.0, bw=92.0, bh=90.0\n",
      "[DEBUG] After : cls=0.0, cx=136.0, cy=333.0, bw=92.0, bh=88.0\n",
      "[DEBUG] After : cls=0.0, cx=409.0, cy=75.0, bw=82.0, bh=80.0\n",
      "[DEBUG] After : cls=0.0, cx=340.0, cy=369.0, bw=98.0, bh=86.0\n",
      "[DEBUG] After : cls=0.0, cx=385.5, cy=468.5, bw=87.0, bh=89.0\n",
      "[DEBUG] After : cls=0.0, cx=383.0, cy=561.5, bw=84.0, bh=83.0\n",
      "[DEBUG] After : cls=3.0, cx=382.5, cy=145.5, bw=73.0, bh=49.0\n",
      "[DEBUG] After : cls=3.0, cx=348.0, cy=206.5, bw=66.0, bh=57.0\n",
      "[DEBUG] After : cls=3.0, cx=356.0, cy=328.5, bw=66.0, bh=57.0\n",
      "[DEBUG] After : cls=3.0, cx=250.0, cy=432.5, bw=70.0, bh=63.0\n",
      "[DEBUG] After : cls=3.0, cx=217.0, cy=500.5, bw=70.0, bh=57.0\n",
      "[DEBUG] After : cls=3.0, cx=818.5, cy=124.0, bw=91.0, bh=102.0\n",
      "[DEBUG] After : cls=3.0, cx=933.5, cy=213.0, bw=99.0, bh=98.0\n",
      "[DEBUG] After : cls=6.0, cx=577.0, cy=172.0, bw=338.0, bh=212.0\n",
      "[DEBUG] After : cls=3.0, cx=334.0, cy=257.0, bw=120.0, bh=94.0\n",
      "[DEBUG] After : cls=3.0, cx=122.5, cy=350.5, bw=89.0, bh=81.0\n",
      "[DEBUG] After : cls=4.0, cx=227.5, cy=406.5, bw=91.0, bh=81.0\n",
      "[DEBUG] After : cls=4.0, cx=265.5, cy=430.5, bw=83.0, bh=75.0\n",
      "[DEBUG] After : cls=4.0, cx=301.0, cy=454.5, bw=90.0, bh=75.0\n",
      "[DEBUG] After : cls=4.0, cx=336.0, cy=476.0, bw=86.0, bh=84.0\n",
      "[DEBUG] After : cls=4.0, cx=401.5, cy=510.0, bw=77.0, bh=92.0\n",
      "[DEBUG] After : cls=4.0, cx=437.0, cy=530.5, bw=88.0, bh=83.0\n",
      "[DEBUG] After : cls=6.0, cx=557.0, cy=258.0, bw=370.0, bh=400.0\n",
      "[DEBUG] After : cls=4.0, cx=259.5, cy=268.0, bw=59.0, bh=70.0\n",
      "[DEBUG] After : cls=4.0, cx=307.0, cy=245.0, bw=62.0, bh=66.0\n",
      "[DEBUG] After : cls=4.0, cx=430.0, cy=183.0, bw=60.0, bh=60.0\n",
      "[DEBUG] After : cls=4.0, cx=474.5, cy=162.5, bw=61.0, bh=61.0\n",
      "[DEBUG] After : cls=3.0, cx=478.5, cy=114.5, bw=159.0, bh=127.0\n",
      "[DEBUG] After : cls=3.0, cx=629.0, cy=370.0, bw=110.0, bh=104.0\n",
      "[DEBUG] After : cls=5.0, cx=328.0, cy=142.0, bw=82.0, bh=76.0\n",
      "[DEBUG] After : cls=4.0, cx=282.0, cy=181.5, bw=80.0, bh=81.0\n",
      "[DEBUG] After : cls=2.0, cx=443.5, cy=225.0, bw=69.0, bh=66.0\n",
      "[DEBUG] After : cls=2.0, cx=519.0, cy=223.5, bw=72.0, bh=69.0\n",
      "[DEBUG] After : cls=2.0, cx=634.0, cy=227.0, bw=72.0, bh=70.0\n",
      "[DEBUG] After : cls=2.0, cx=630.5, cy=295.5, bw=65.0, bh=69.0\n",
      "[DEBUG] After : cls=2.0, cx=748.0, cy=150.0, bw=78.0, bh=72.0\n",
      "[DEBUG] After : cls=2.0, cx=743.0, cy=227.0, bw=74.0, bh=70.0\n",
      "[DEBUG] After : cls=2.0, cx=721.0, cy=298.5, bw=72.0, bh=69.0\n",
      "[DEBUG] After : cls=2.0, cx=875.0, cy=139.5, bw=82.0, bh=75.0\n",
      "[DEBUG] After : cls=2.0, cx=876.5, cy=217.0, bw=79.0, bh=72.0\n",
      "[DEBUG] After : cls=2.0, cx=872.5, cy=295.5, bw=81.0, bh=75.0\n",
      "[DEBUG] After : cls=2.0, cx=997.0, cy=139.0, bw=78.0, bh=78.0\n",
      "[DEBUG] After : cls=2.0, cx=996.5, cy=215.5, bw=79.0, bh=75.0\n",
      "[DEBUG] After : cls=2.0, cx=994.5, cy=297.5, bw=81.0, bh=79.0\n",
      "[DEBUG] After : cls=2.0, cx=1127.5, cy=140.5, bw=81.0, bh=75.0\n",
      "[DEBUG] After : cls=2.0, cx=1129.5, cy=218.5, bw=81.0, bh=75.0\n",
      "[DEBUG] After : cls=2.0, cx=1130.0, cy=297.5, bw=80.0, bh=77.0\n",
      "[DEBUG] After : cls=2.0, cx=1227.5, cy=126.5, bw=65.0, bh=59.0\n",
      "[DEBUG] After : cls=2.0, cx=1231.0, cy=183.0, bw=66.0, bh=60.0\n",
      "[DEBUG] After : cls=2.0, cx=450.5, cy=561.5, bw=83.0, bh=83.0\n",
      "[DEBUG] After : cls=2.0, cx=451.0, cy=638.5, bw=84.0, bh=75.0\n",
      "[DEBUG] After : cls=2.0, cx=546.0, cy=564.0, bw=84.0, bh=78.0\n",
      "[DEBUG] After : cls=2.0, cx=547.5, cy=637.5, bw=81.0, bh=75.0\n",
      "[DEBUG] After : cls=2.0, cx=279.5, cy=752.0, bw=89.0, bh=86.0\n",
      "[DEBUG] After : cls=2.0, cx=293.5, cy=831.0, bw=81.0, bh=84.0\n",
      "[DEBUG] After : cls=2.0, cx=360.0, cy=749.0, bw=78.0, bh=86.0\n",
      "[DEBUG] After : cls=2.0, cx=366.5, cy=847.0, bw=71.0, bh=72.0\n",
      "[DEBUG] After : cls=2.0, cx=417.0, cy=802.5, bw=66.0, bh=69.0\n",
      "[DEBUG] After : cls=2.0, cx=496.0, cy=751.5, bw=72.0, bh=69.0\n",
      "[DEBUG] After : cls=2.0, cx=537.0, cy=804.0, bw=60.0, bh=60.0\n",
      "[DEBUG] After : cls=2.0, cx=495.5, cy=846.5, bw=79.0, bh=73.0\n",
      "[DEBUG] After : cls=2.0, cx=638.0, cy=761.0, bw=88.0, bh=80.0\n",
      "[DEBUG] After : cls=2.0, cx=637.5, cy=839.0, bw=87.0, bh=80.0\n",
      "[DEBUG] After : cls=2.0, cx=738.0, cy=754.5, bw=78.0, bh=75.0\n",
      "[DEBUG] After : cls=2.0, cx=734.0, cy=835.0, bw=80.0, bh=78.0\n",
      "[DEBUG] After : cls=2.0, cx=831.0, cy=789.5, bw=96.0, bh=77.0\n",
      "[DEBUG] After : cls=2.0, cx=740.5, cy=409.5, bw=81.0, bh=81.0\n",
      "[DEBUG] After : cls=2.0, cx=740.0, cy=490.0, bw=82.0, bh=78.0\n",
      "[DEBUG] After : cls=2.0, cx=744.5, cy=569.0, bw=89.0, bh=80.0\n",
      "[DEBUG] After : cls=2.0, cx=743.0, cy=639.0, bw=76.0, bh=66.0\n",
      "[DEBUG] After : cls=2.0, cx=877.5, cy=413.0, bw=87.0, bh=76.0\n",
      "[DEBUG] After : cls=2.0, cx=871.0, cy=491.0, bw=84.0, bh=80.0\n",
      "[DEBUG] After : cls=2.0, cx=877.0, cy=568.0, bw=78.0, bh=78.0\n",
      "[DEBUG] After : cls=2.0, cx=872.0, cy=644.0, bw=74.0, bh=68.0\n",
      "[DEBUG] After : cls=2.0, cx=998.0, cy=412.0, bw=86.0, bh=78.0\n",
      "[DEBUG] After : cls=2.0, cx=997.5, cy=490.0, bw=81.0, bh=78.0\n",
      "[DEBUG] After : cls=2.0, cx=1146.5, cy=419.0, bw=77.0, bh=76.0\n",
      "[DEBUG] number of preds after NMS: [0, 0, 0, 0, 0, 0, 0, 0, 0, 0, 0, 0, 0, 0, 0, 0]\n",
      "[DEBUG] number of targets in batch: 130\n",
      "[DEBUG] batch 0: 0 preds vs 4 GTs -> 0 matches (IoU>0.5)\n",
      "[DEBUG] batch 1: 0 preds vs 1 GTs -> 0 matches (IoU>0.5)\n",
      "[DEBUG] batch 2: 0 preds vs 3 GTs -> 0 matches (IoU>0.5)\n",
      "[DEBUG] batch 3: 0 preds vs 4 GTs -> 0 matches (IoU>0.5)\n",
      "[DEBUG] batch 4: 0 preds vs 16 GTs -> 0 matches (IoU>0.5)\n",
      "[DEBUG] batch 5: 0 preds vs 2 GTs -> 0 matches (IoU>0.5)\n",
      "[DEBUG] batch 6: 0 preds vs 12 GTs -> 0 matches (IoU>0.5)\n",
      "[DEBUG] batch 7: 0 preds vs 10 GTs -> 0 matches (IoU>0.5)\n",
      "[DEBUG] batch 8: 0 preds vs 7 GTs -> 0 matches (IoU>0.5)\n",
      "[DEBUG] batch 9: 0 preds vs 5 GTs -> 0 matches (IoU>0.5)\n",
      "[DEBUG] batch 10: 0 preds vs 2 GTs -> 0 matches (IoU>0.5)\n",
      "[DEBUG] batch 11: 0 preds vs 3 GTs -> 0 matches (IoU>0.5)\n",
      "[DEBUG] batch 12: 0 preds vs 7 GTs -> 0 matches (IoU>0.5)\n",
      "[DEBUG] batch 13: 0 preds vs 4 GTs -> 0 matches (IoU>0.5)\n",
      "[DEBUG] batch 14: 0 preds vs 4 GTs -> 0 matches (IoU>0.5)\n",
      "[DEBUG] batch 15: 0 preds vs 46 GTs -> 0 matches (IoU>0.5)\n",
      "[DEBUG] After : cls=4.0, cx=171.5, cy=163.0, bw=101.0, bh=70.0\n",
      "[DEBUG] After : cls=4.0, cx=213.5, cy=125.5, bw=97.0, bh=67.0\n",
      "[DEBUG] After : cls=5.0, cx=422.5, cy=222.5, bw=105.0, bh=63.0\n",
      "[DEBUG] After : cls=5.0, cx=415.5, cy=275.5, bw=105.0, bh=63.0\n",
      "[DEBUG] After : cls=6.0, cx=422.5, cy=164.0, bw=255.0, bh=258.0\n",
      "[DEBUG] After : cls=3.0, cx=505.5, cy=367.5, bw=101.0, bh=97.0\n",
      "[DEBUG] After : cls=9.0, cx=87.5, cy=500.5, bw=47.0, bh=57.0\n",
      "[DEBUG] After : cls=9.0, cx=840.5, cy=568.5, bw=49.0, bh=55.0\n",
      "[DEBUG] After : cls=9.0, cx=569.5, cy=270.0, bw=47.0, bh=50.0\n",
      "[DEBUG] After : cls=9.0, cx=669.0, cy=157.5, bw=40.0, bh=45.0\n",
      "[DEBUG] After : cls=9.0, cx=93.0, cy=365.5, bw=46.0, bh=43.0\n",
      "[DEBUG] After : cls=9.0, cx=412.0, cy=151.5, bw=40.0, bh=45.0\n",
      "[DEBUG] After : cls=9.0, cx=414.0, cy=102.0, bw=48.0, bh=48.0\n",
      "[DEBUG] After : cls=1.0, cx=643.5, cy=372.0, bw=39.0, bh=76.0\n",
      "[DEBUG] After : cls=1.0, cx=793.0, cy=231.5, bw=38.0, bh=69.0\n",
      "[DEBUG] After : cls=1.0, cx=764.0, cy=460.5, bw=42.0, bh=75.0\n",
      "[DEBUG] After : cls=2.0, cx=615.0, cy=512.0, bw=44.0, bh=48.0\n",
      "[DEBUG] After : cls=2.0, cx=586.5, cy=550.5, bw=43.0, bh=47.0\n",
      "[DEBUG] After : cls=2.0, cx=679.0, cy=559.5, bw=42.0, bh=47.0\n",
      "[DEBUG] After : cls=2.0, cx=651.5, cy=599.0, bw=41.0, bh=50.0\n",
      "[DEBUG] After : cls=2.0, cx=722.5, cy=601.5, bw=45.0, bh=49.0\n",
      "[DEBUG] After : cls=2.0, cx=692.5, cy=641.0, bw=41.0, bh=48.0\n",
      "[DEBUG] After : cls=2.0, cx=438.0, cy=674.5, bw=44.0, bh=47.0\n",
      "[DEBUG] After : cls=2.0, cx=494.5, cy=677.0, bw=45.0, bh=44.0\n",
      "[DEBUG] After : cls=7.0, cx=339.0, cy=221.5, bw=96.0, bh=131.0\n",
      "[DEBUG] After : cls=7.0, cx=445.0, cy=215.5, bw=72.0, bh=105.0\n",
      "[DEBUG] After : cls=7.0, cx=533.0, cy=211.0, bw=62.0, bh=86.0\n",
      "[DEBUG] After : cls=3.0, cx=143.5, cy=222.5, bw=71.0, bh=47.0\n",
      "[DEBUG] After : cls=3.0, cx=288.5, cy=310.0, bw=61.0, bh=52.0\n",
      "[DEBUG] After : cls=3.0, cx=559.0, cy=365.5, bw=68.0, bh=67.0\n",
      "[DEBUG] After : cls=6.0, cx=240.5, cy=411.0, bw=223.0, bh=162.0\n",
      "[DEBUG] After : cls=3.0, cx=618.5, cy=162.5, bw=83.0, bh=83.0\n",
      "[DEBUG] After : cls=3.0, cx=828.0, cy=219.5, bw=92.0, bh=101.0\n",
      "[DEBUG] After : cls=9.0, cx=18.0, cy=88.0, bw=32.0, bh=46.0\n",
      "[DEBUG] After : cls=9.0, cx=46.5, cy=76.0, bw=31.0, bh=46.0\n",
      "[DEBUG] After : cls=9.0, cx=71.0, cy=67.0, bw=30.0, bh=46.0\n",
      "[DEBUG] After : cls=9.0, cx=93.5, cy=61.5, bw=33.0, bh=45.0\n",
      "[DEBUG] After : cls=9.0, cx=120.5, cy=54.0, bw=31.0, bh=46.0\n",
      "[DEBUG] After : cls=9.0, cx=98.5, cy=236.5, bw=49.0, bh=31.0\n",
      "[DEBUG] After : cls=9.0, cx=186.0, cy=242.0, bw=58.0, bh=34.0\n",
      "[DEBUG] After : cls=9.0, cx=407.0, cy=168.5, bw=56.0, bh=21.0\n",
      "[DEBUG] After : cls=9.0, cx=325.0, cy=147.0, bw=54.0, bh=70.0\n",
      "[DEBUG] After : cls=9.0, cx=421.0, cy=368.5, bw=44.0, bh=57.0\n",
      "[DEBUG] After : cls=9.0, cx=405.5, cy=541.0, bw=53.0, bh=70.0\n",
      "[DEBUG] After : cls=6.0, cx=558.5, cy=235.0, bw=265.0, bh=180.0\n",
      "[DEBUG] After : cls=3.0, cx=378.5, cy=304.5, bw=85.0, bh=67.0\n",
      "[DEBUG] After : cls=3.0, cx=230.0, cy=374.0, bw=72.0, bh=54.0\n",
      "[DEBUG] After : cls=5.0, cx=270.0, cy=224.0, bw=40.0, bh=48.0\n",
      "[DEBUG] After : cls=5.0, cx=312.0, cy=225.0, bw=40.0, bh=50.0\n",
      "[DEBUG] After : cls=4.0, cx=530.5, cy=603.0, bw=89.0, bh=68.0\n",
      "[DEBUG] After : cls=4.0, cx=496.0, cy=498.0, bw=82.0, bh=60.0\n",
      "[DEBUG] After : cls=4.0, cx=679.5, cy=535.5, bw=63.0, bh=49.0\n",
      "[DEBUG] After : cls=4.0, cx=665.5, cy=205.5, bw=51.0, bh=39.0\n",
      "[DEBUG] After : cls=4.0, cx=697.0, cy=239.0, bw=50.0, bh=42.0\n",
      "[DEBUG] After : cls=4.0, cx=647.0, cy=279.0, bw=50.0, bh=44.0\n",
      "[DEBUG] After : cls=4.0, cx=682.0, cy=308.0, bw=54.0, bh=46.0\n",
      "[DEBUG] After : cls=4.0, cx=705.5, cy=348.5, bw=53.0, bh=45.0\n",
      "[DEBUG] After : cls=4.0, cx=591.5, cy=318.5, bw=45.0, bh=41.0\n",
      "[DEBUG] After : cls=4.0, cx=631.0, cy=351.0, bw=58.0, bh=42.0\n",
      "[DEBUG] After : cls=4.0, cx=655.5, cy=394.5, bw=55.0, bh=47.0\n",
      "[DEBUG] After : cls=4.0, cx=681.0, cy=442.0, bw=56.0, bh=46.0\n",
      "[DEBUG] After : cls=4.0, cx=577.0, cy=393.5, bw=64.0, bh=49.0\n",
      "[DEBUG] After : cls=4.0, cx=597.0, cy=445.5, bw=56.0, bh=47.0\n",
      "[DEBUG] After : cls=4.0, cx=621.0, cy=495.0, bw=54.0, bh=44.0\n",
      "[DEBUG] After : cls=9.0, cx=510.0, cy=313.0, bw=44.0, bh=58.0\n",
      "[DEBUG] After : cls=9.0, cx=462.5, cy=589.5, bw=69.0, bh=41.0\n",
      "[DEBUG] After : cls=3.0, cx=224.5, cy=204.0, bw=105.0, bh=110.0\n",
      "[DEBUG] After : cls=3.0, cx=480.5, cy=368.5, bw=109.0, bh=107.0\n",
      "[DEBUG] number of preds after NMS: [0, 0, 0, 0, 0, 0, 0, 0, 0, 0, 0, 0, 0, 0, 0, 0]\n",
      "[DEBUG] number of targets in batch: 68\n",
      "[DEBUG] batch 0: 0 preds vs 2 GTs -> 0 matches (IoU>0.5)\n",
      "[DEBUG] batch 1: 0 preds vs 2 GTs -> 0 matches (IoU>0.5)\n",
      "[DEBUG] batch 2: 0 preds vs 2 GTs -> 0 matches (IoU>0.5)\n",
      "[DEBUG] batch 3: 0 preds vs 7 GTs -> 0 matches (IoU>0.5)\n",
      "[DEBUG] batch 4: 0 preds vs 11 GTs -> 0 matches (IoU>0.5)\n",
      "[DEBUG] batch 5: 0 preds vs 3 GTs -> 0 matches (IoU>0.5)\n",
      "[DEBUG] batch 6: 0 preds vs 4 GTs -> 0 matches (IoU>0.5)\n",
      "[DEBUG] batch 7: 0 preds vs 2 GTs -> 0 matches (IoU>0.5)\n",
      "[DEBUG] batch 8: 0 preds vs 8 GTs -> 0 matches (IoU>0.5)\n",
      "[DEBUG] batch 9: 0 preds vs 3 GTs -> 0 matches (IoU>0.5)\n",
      "[DEBUG] batch 10: 0 preds vs 3 GTs -> 0 matches (IoU>0.5)\n",
      "[DEBUG] batch 11: 0 preds vs 2 GTs -> 0 matches (IoU>0.5)\n",
      "[DEBUG] batch 12: 0 preds vs 15 GTs -> 0 matches (IoU>0.5)\n",
      "[DEBUG] batch 13: 0 preds vs 2 GTs -> 0 matches (IoU>0.5)\n",
      "[DEBUG] batch 14: 0 preds vs 1 GTs -> 0 matches (IoU>0.5)\n",
      "[DEBUG] batch 15: 0 preds vs 1 GTs -> 0 matches (IoU>0.5)\n",
      "[DEBUG] After : cls=4.0, cx=727.5, cy=189.0, bw=87.0, bh=66.0\n",
      "[DEBUG] After : cls=4.0, cx=769.0, cy=165.5, bw=84.0, bh=67.0\n",
      "[DEBUG] After : cls=4.0, cx=805.5, cy=274.0, bw=91.0, bh=72.0\n",
      "[DEBUG] After : cls=4.0, cx=849.5, cy=245.0, bw=91.0, bh=72.0\n",
      "[DEBUG] After : cls=1.0, cx=617.5, cy=482.5, bw=33.0, bh=99.0\n",
      "[DEBUG] After : cls=2.0, cx=728.0, cy=412.5, bw=40.0, bh=41.0\n",
      "[DEBUG] After : cls=2.0, cx=779.0, cy=418.5, bw=44.0, bh=41.0\n",
      "[DEBUG] After : cls=2.0, cx=706.5, cy=510.5, bw=33.0, bh=35.0\n",
      "[DEBUG] After : cls=2.0, cx=743.0, cy=515.0, bw=34.0, bh=38.0\n",
      "[DEBUG] After : cls=2.0, cx=779.5, cy=518.5, bw=35.0, bh=37.0\n",
      "[DEBUG] After : cls=2.0, cx=827.5, cy=526.0, bw=37.0, bh=40.0\n",
      "[DEBUG] After : cls=2.0, cx=865.0, cy=533.0, bw=36.0, bh=36.0\n",
      "[DEBUG] After : cls=2.0, cx=927.0, cy=540.5, bw=34.0, bh=39.0\n",
      "[DEBUG] After : cls=2.0, cx=702.0, cy=546.5, bw=34.0, bh=39.0\n",
      "[DEBUG] After : cls=2.0, cx=740.5, cy=553.0, bw=35.0, bh=36.0\n",
      "[DEBUG] After : cls=2.0, cx=778.0, cy=559.0, bw=34.0, bh=34.0\n",
      "[DEBUG] After : cls=2.0, cx=826.0, cy=565.5, bw=36.0, bh=35.0\n",
      "[DEBUG] After : cls=2.0, cx=862.5, cy=568.0, bw=35.0, bh=40.0\n",
      "[DEBUG] After : cls=2.0, cx=923.5, cy=582.5, bw=37.0, bh=39.0\n",
      "[DEBUG] After : cls=2.0, cx=699.5, cy=584.5, bw=35.0, bh=37.0\n",
      "[DEBUG] After : cls=2.0, cx=736.0, cy=591.5, bw=38.0, bh=37.0\n",
      "[DEBUG] After : cls=2.0, cx=773.5, cy=596.0, bw=35.0, bh=34.0\n",
      "[DEBUG] After : cls=2.0, cx=824.0, cy=601.5, bw=34.0, bh=39.0\n",
      "[DEBUG] After : cls=2.0, cx=860.0, cy=608.5, bw=34.0, bh=41.0\n",
      "[DEBUG] After : cls=2.0, cx=931.5, cy=632.0, bw=39.0, bh=42.0\n",
      "[DEBUG] After : cls=2.0, cx=710.5, cy=641.0, bw=47.0, bh=54.0\n",
      "[DEBUG] After : cls=2.0, cx=763.0, cy=648.0, bw=48.0, bh=56.0\n",
      "[DEBUG] After : cls=2.0, cx=817.5, cy=657.5, bw=49.0, bh=51.0\n",
      "[DEBUG] After : cls=2.0, cx=867.0, cy=663.0, bw=46.0, bh=50.0\n",
      "[DEBUG] After : cls=2.0, cx=929.0, cy=681.5, bw=38.0, bh=43.0\n",
      "[DEBUG] After : cls=2.0, cx=705.0, cy=693.5, bw=44.0, bh=53.0\n",
      "[DEBUG] After : cls=2.0, cx=756.5, cy=703.0, bw=49.0, bh=50.0\n",
      "[DEBUG] After : cls=2.0, cx=814.5, cy=711.0, bw=49.0, bh=50.0\n",
      "[DEBUG] After : cls=2.0, cx=865.5, cy=719.5, bw=49.0, bh=51.0\n",
      "[DEBUG] After : cls=2.0, cx=926.5, cy=737.0, bw=41.0, bh=40.0\n",
      "[DEBUG] After : cls=4.0, cx=322.5, cy=127.5, bw=41.0, bh=67.0\n",
      "[DEBUG] After : cls=4.0, cx=369.0, cy=129.0, bw=40.0, bh=64.0\n",
      "[DEBUG] After : cls=4.0, cx=414.5, cy=130.5, bw=39.0, bh=65.0\n",
      "[DEBUG] After : cls=4.0, cx=461.5, cy=133.0, bw=43.0, bh=68.0\n",
      "[DEBUG] After : cls=4.0, cx=358.0, cy=227.5, bw=42.0, bh=73.0\n",
      "[DEBUG] After : cls=4.0, cx=406.5, cy=228.0, bw=43.0, bh=72.0\n",
      "[DEBUG] After : cls=4.0, cx=456.0, cy=231.0, bw=44.0, bh=74.0\n",
      "[DEBUG] After : cls=4.0, cx=504.0, cy=232.0, bw=42.0, bh=74.0\n",
      "[DEBUG] After : cls=4.0, cx=550.5, cy=235.0, bw=45.0, bh=76.0\n",
      "[DEBUG] After : cls=4.0, cx=382.5, cy=338.5, bw=47.0, bh=79.0\n",
      "[DEBUG] After : cls=4.0, cx=430.0, cy=341.0, bw=46.0, bh=80.0\n",
      "[DEBUG] After : cls=4.0, cx=473.5, cy=342.0, bw=47.0, bh=80.0\n",
      "[DEBUG] After : cls=5.0, cx=569.5, cy=321.0, bw=109.0, bh=60.0\n",
      "[DEBUG] After : cls=9.0, cx=900.0, cy=563.5, bw=50.0, bh=41.0\n",
      "[DEBUG] After : cls=9.0, cx=437.0, cy=292.5, bw=50.0, bh=35.0\n",
      "[DEBUG] After : cls=9.0, cx=392.5, cy=265.0, bw=49.0, bh=38.0\n",
      "[DEBUG] After : cls=9.0, cx=298.0, cy=209.5, bw=50.0, bh=37.0\n",
      "[DEBUG] After : cls=9.0, cx=188.0, cy=117.5, bw=54.0, bh=33.0\n",
      "[DEBUG] After : cls=9.0, cx=315.5, cy=350.0, bw=37.0, bh=46.0\n",
      "[DEBUG] After : cls=9.0, cx=240.5, cy=305.5, bw=53.0, bh=37.0\n",
      "[DEBUG] After : cls=9.0, cx=188.5, cy=277.0, bw=47.0, bh=34.0\n",
      "[DEBUG] After : cls=9.0, cx=252.0, cy=184.0, bw=48.0, bh=48.0\n",
      "[DEBUG] After : cls=9.0, cx=499.0, cy=330.0, bw=44.0, bh=40.0\n",
      "[DEBUG] After : cls=9.0, cx=557.5, cy=362.5, bw=43.0, bh=43.0\n",
      "[DEBUG] After : cls=9.0, cx=169.5, cy=302.0, bw=41.0, bh=40.0\n",
      "[DEBUG] After : cls=9.0, cx=225.5, cy=331.0, bw=49.0, bh=46.0\n",
      "[DEBUG] After : cls=0.0, cx=123.0, cy=205.5, bw=62.0, bh=55.0\n",
      "[DEBUG] After : cls=0.0, cx=215.5, cy=207.5, bw=49.0, bh=55.0\n",
      "[DEBUG] After : cls=0.0, cx=290.5, cy=209.0, bw=59.0, bh=54.0\n",
      "[DEBUG] After : cls=0.0, cx=429.0, cy=208.0, bw=50.0, bh=48.0\n",
      "[DEBUG] After : cls=0.0, cx=593.0, cy=210.0, bw=60.0, bh=52.0\n",
      "[DEBUG] After : cls=0.0, cx=665.0, cy=212.5, bw=64.0, bh=53.0\n",
      "[DEBUG] After : cls=0.0, cx=802.5, cy=207.5, bw=57.0, bh=49.0\n",
      "[DEBUG] After : cls=0.0, cx=91.0, cy=377.5, bw=60.0, bh=57.0\n",
      "[DEBUG] After : cls=0.0, cx=251.0, cy=376.5, bw=64.0, bh=59.0\n",
      "[DEBUG] After : cls=0.0, cx=595.5, cy=412.0, bw=65.0, bh=68.0\n",
      "[DEBUG] After : cls=0.0, cx=680.0, cy=392.5, bw=46.0, bh=61.0\n",
      "[DEBUG] After : cls=0.0, cx=764.0, cy=385.0, bw=48.0, bh=64.0\n",
      "[DEBUG] After : cls=0.0, cx=950.5, cy=377.0, bw=61.0, bh=64.0\n",
      "[DEBUG] After : cls=5.0, cx=602.5, cy=385.0, bw=97.0, bh=60.0\n",
      "[DEBUG] After : cls=5.0, cx=737.0, cy=340.0, bw=98.0, bh=62.0\n",
      "[DEBUG] After : cls=0.0, cx=385.0, cy=535.0, bw=32.0, bh=34.0\n",
      "[DEBUG] After : cls=0.0, cx=429.0, cy=421.5, bw=56.0, bh=51.0\n",
      "[DEBUG] After : cls=0.0, cx=698.5, cy=96.0, bw=41.0, bh=42.0\n",
      "[DEBUG] After : cls=0.0, cx=710.0, cy=330.5, bw=38.0, bh=43.0\n",
      "[DEBUG] After : cls=0.0, cx=767.0, cy=313.5, bw=44.0, bh=45.0\n",
      "[DEBUG] After : cls=0.0, cx=821.5, cy=299.5, bw=43.0, bh=45.0\n",
      "[DEBUG] After : cls=6.0, cx=119.0, cy=235.0, bw=186.0, bh=312.0\n",
      "[DEBUG] After : cls=4.0, cx=93.0, cy=27.0, bw=30.0, bh=46.0\n",
      "[DEBUG] After : cls=4.0, cx=66.5, cy=25.5, bw=31.0, bh=47.0\n",
      "[DEBUG] After : cls=4.0, cx=39.0, cy=26.0, bw=32.0, bh=46.0\n",
      "[DEBUG] After : cls=8.0, cx=615.0, cy=350.0, bw=338.0, bh=216.0\n",
      "[DEBUG] After : cls=7.0, cx=220.0, cy=241.5, bw=78.0, bh=57.0\n",
      "[DEBUG] After : cls=7.0, cx=173.5, cy=300.0, bw=119.0, bh=46.0\n",
      "[DEBUG] After : cls=7.0, cx=308.5, cy=261.5, bw=85.0, bh=125.0\n",
      "[DEBUG] After : cls=7.0, cx=412.0, cy=271.5, bw=86.0, bh=135.0\n",
      "[DEBUG] After : cls=7.0, cx=206.5, cy=367.0, bw=233.0, bh=60.0\n",
      "[DEBUG] After : cls=7.0, cx=517.0, cy=275.5, bw=60.0, bh=111.0\n",
      "[DEBUG] After : cls=7.0, cx=595.5, cy=302.0, bw=63.0, bh=138.0\n",
      "[DEBUG] After : cls=7.0, cx=543.0, cy=406.0, bw=196.0, bh=70.0\n",
      "[DEBUG] After : cls=7.0, cx=682.5, cy=307.5, bw=59.0, bh=195.0\n",
      "[DEBUG] After : cls=7.0, cx=980.5, cy=145.5, bw=157.0, bh=131.0\n",
      "[DEBUG] After : cls=7.0, cx=894.0, cy=256.5, bw=194.0, bh=195.0\n",
      "[DEBUG] After : cls=7.0, cx=1047.0, cy=285.5, bw=178.0, bh=151.0\n",
      "[DEBUG] After : cls=3.0, cx=277.5, cy=75.0, bw=107.0, bh=60.0\n",
      "[DEBUG] After : cls=3.0, cx=269.0, cy=246.0, bw=86.0, bh=58.0\n",
      "[DEBUG] After : cls=3.0, cx=223.5, cy=428.0, bw=83.0, bh=64.0\n",
      "[DEBUG] After : cls=3.0, cx=429.5, cy=324.5, bw=73.0, bh=57.0\n",
      "[DEBUG] After : cls=9.0, cx=391.0, cy=170.5, bw=52.0, bh=61.0\n",
      "[DEBUG] After : cls=9.0, cx=450.0, cy=276.5, bw=42.0, bh=51.0\n",
      "[DEBUG] After : cls=9.0, cx=301.5, cy=208.5, bw=51.0, bh=35.0\n",
      "[DEBUG] After : cls=3.0, cx=703.5, cy=119.0, bw=113.0, bh=104.0\n",
      "[DEBUG] After : cls=6.0, cx=331.0, cy=197.5, bw=308.0, bh=365.0\n",
      "[DEBUG] After : cls=9.0, cx=424.0, cy=156.5, bw=36.0, bh=65.0\n",
      "[DEBUG] After : cls=9.0, cx=464.0, cy=156.5, bw=34.0, bh=59.0\n",
      "[DEBUG] After : cls=8.0, cx=271.5, cy=115.0, bw=193.0, bh=60.0\n",
      "[DEBUG] After : cls=8.0, cx=599.5, cy=403.0, bw=143.0, bh=94.0\n",
      "[DEBUG] After : cls=6.0, cx=246.5, cy=228.0, bw=227.0, bh=364.0\n",
      "[DEBUG] After : cls=4.0, cx=561.0, cy=394.0, bw=38.0, bh=74.0\n",
      "[DEBUG] After : cls=4.0, cx=597.5, cy=398.0, bw=37.0, bh=72.0\n",
      "[DEBUG] After : cls=4.0, cx=634.5, cy=400.5, bw=37.0, bh=71.0\n",
      "[DEBUG] After : cls=4.0, cx=669.5, cy=403.0, bw=39.0, bh=72.0\n",
      "[DEBUG] After : cls=3.0, cx=431.5, cy=139.0, bw=93.0, bh=78.0\n",
      "[DEBUG] After : cls=3.0, cx=368.0, cy=385.0, bw=78.0, bh=72.0\n",
      "[DEBUG] After : cls=3.0, cx=687.5, cy=267.0, bw=83.0, bh=70.0\n",
      "[DEBUG] After : cls=6.0, cx=494.0, cy=157.0, bw=108.0, bh=184.0\n",
      "[DEBUG] number of preds after NMS: [0, 0, 0, 0, 0, 0, 0, 0, 0, 0, 0, 0, 0, 0, 0, 0]\n",
      "[DEBUG] number of targets in batch: 121\n",
      "[DEBUG] batch 0: 0 preds vs 4 GTs -> 0 matches (IoU>0.5)\n",
      "[DEBUG] batch 1: 0 preds vs 31 GTs -> 0 matches (IoU>0.5)\n",
      "[DEBUG] batch 2: 0 preds vs 13 GTs -> 0 matches (IoU>0.5)\n",
      "[DEBUG] batch 3: 0 preds vs 13 GTs -> 0 matches (IoU>0.5)\n",
      "[DEBUG] batch 4: 0 preds vs 13 GTs -> 0 matches (IoU>0.5)\n",
      "[DEBUG] batch 5: 0 preds vs 2 GTs -> 0 matches (IoU>0.5)\n",
      "[DEBUG] batch 6: 0 preds vs 6 GTs -> 0 matches (IoU>0.5)\n",
      "[DEBUG] batch 7: 0 preds vs 5 GTs -> 0 matches (IoU>0.5)\n",
      "[DEBUG] batch 8: 0 preds vs 12 GTs -> 0 matches (IoU>0.5)\n",
      "[DEBUG] batch 9: 0 preds vs 4 GTs -> 0 matches (IoU>0.5)\n",
      "[DEBUG] batch 10: 0 preds vs 3 GTs -> 0 matches (IoU>0.5)\n",
      "[DEBUG] batch 11: 0 preds vs 2 GTs -> 0 matches (IoU>0.5)\n",
      "[DEBUG] batch 12: 0 preds vs 2 GTs -> 0 matches (IoU>0.5)\n",
      "[DEBUG] batch 13: 0 preds vs 2 GTs -> 0 matches (IoU>0.5)\n",
      "[DEBUG] batch 14: 0 preds vs 8 GTs -> 0 matches (IoU>0.5)\n",
      "[DEBUG] batch 15: 0 preds vs 1 GTs -> 0 matches (IoU>0.5)\n",
      "[DEBUG] After : cls=6.0, cx=397.5, cy=169.0, bw=195.0, bh=236.0\n",
      "[DEBUG] After : cls=3.0, cx=411.5, cy=362.0, bw=93.0, bh=86.0\n",
      "[DEBUG] After : cls=9.0, cx=112.0, cy=160.5, bw=78.0, bh=39.0\n",
      "[DEBUG] After : cls=9.0, cx=194.5, cy=173.5, bw=77.0, bh=41.0\n",
      "[DEBUG] After : cls=9.0, cx=527.5, cy=205.0, bw=77.0, bh=38.0\n",
      "[DEBUG] After : cls=9.0, cx=685.0, cy=331.0, bw=74.0, bh=40.0\n",
      "[DEBUG] After : cls=3.0, cx=273.5, cy=251.5, bw=83.0, bh=89.0\n",
      "[DEBUG] After : cls=3.0, cx=631.0, cy=136.5, bw=84.0, bh=89.0\n",
      "[DEBUG] After : cls=3.0, cx=543.0, cy=341.5, bw=76.0, bh=83.0\n",
      "[DEBUG] After : cls=3.0, cx=421.5, cy=484.5, bw=69.0, bh=71.0\n",
      "[DEBUG] After : cls=3.0, cx=611.0, cy=588.0, bw=68.0, bh=70.0\n",
      "[DEBUG] After : cls=3.0, cx=807.5, cy=394.0, bw=77.0, bh=82.0\n",
      "[DEBUG] After : cls=3.0, cx=578.5, cy=207.0, bw=99.0, bh=106.0\n",
      "[DEBUG] After : cls=3.0, cx=355.5, cy=299.5, bw=93.0, bh=107.0\n",
      "[DEBUG] After : cls=4.0, cx=743.5, cy=324.0, bw=67.0, bh=100.0\n",
      "[DEBUG] After : cls=4.0, cx=789.5, cy=344.0, bw=63.0, bh=94.0\n",
      "[DEBUG] After : cls=5.0, cx=402.5, cy=74.0, bw=117.0, bh=56.0\n",
      "[DEBUG] After : cls=3.0, cx=208.0, cy=294.0, bw=102.0, bh=84.0\n",
      "[DEBUG] After : cls=3.0, cx=487.5, cy=96.0, bw=147.0, bh=118.0\n",
      "[DEBUG] After : cls=3.0, cx=664.0, cy=286.5, bw=136.0, bh=123.0\n",
      "[DEBUG] After : cls=5.0, cx=424.5, cy=236.5, bw=47.0, bh=73.0\n",
      "[DEBUG] After : cls=5.0, cx=482.5, cy=236.5, bw=47.0, bh=71.0\n",
      "[DEBUG] After : cls=4.0, cx=419.5, cy=331.0, bw=37.0, bh=68.0\n",
      "[DEBUG] After : cls=4.0, cx=461.0, cy=329.5, bw=36.0, bh=67.0\n",
      "[DEBUG] After : cls=4.0, cx=503.0, cy=329.0, bw=36.0, bh=68.0\n",
      "[DEBUG] After : cls=6.0, cx=624.0, cy=269.0, bw=220.0, bh=316.0\n",
      "[DEBUG] After : cls=1.0, cx=141.5, cy=348.0, bw=57.0, bh=42.0\n",
      "[DEBUG] After : cls=2.0, cx=674.5, cy=667.0, bw=47.0, bh=50.0\n",
      "[DEBUG] After : cls=2.0, cx=709.5, cy=635.0, bw=47.0, bh=46.0\n",
      "[DEBUG] After : cls=2.0, cx=742.5, cy=670.5, bw=47.0, bh=47.0\n",
      "[DEBUG] After : cls=2.0, cx=706.5, cy=702.5, bw=47.0, bh=49.0\n",
      "[DEBUG] After : cls=2.0, cx=751.0, cy=282.5, bw=24.0, bh=25.0\n",
      "[DEBUG] After : cls=2.0, cx=766.0, cy=267.5, bw=22.0, bh=25.0\n",
      "[DEBUG] After : cls=2.0, cx=780.5, cy=284.0, bw=23.0, bh=24.0\n",
      "[DEBUG] After : cls=2.0, cx=764.5, cy=299.0, bw=25.0, bh=24.0\n",
      "[DEBUG] After : cls=1.0, cx=84.0, cy=471.0, bw=44.0, bh=52.0\n",
      "[DEBUG] After : cls=1.0, cx=129.0, cy=313.5, bw=72.0, bh=65.0\n",
      "[DEBUG] After : cls=1.0, cx=291.5, cy=355.5, bw=51.0, bh=53.0\n",
      "[DEBUG] After : cls=1.0, cx=368.5, cy=128.0, bw=47.0, bh=64.0\n",
      "[DEBUG] After : cls=1.0, cx=551.5, cy=42.5, bw=57.0, bh=35.0\n",
      "[DEBUG] After : cls=1.0, cx=668.0, cy=182.5, bw=46.0, bh=65.0\n",
      "[DEBUG] After : cls=1.0, cx=702.0, cy=273.5, bw=76.0, bh=51.0\n",
      "[DEBUG] After : cls=1.0, cx=543.5, cy=426.5, bw=83.0, bh=31.0\n",
      "[DEBUG] After : cls=1.0, cx=831.0, cy=76.0, bw=56.0, bh=32.0\n",
      "[DEBUG] After : cls=1.0, cx=905.5, cy=108.0, bw=57.0, bh=30.0\n",
      "[DEBUG] After : cls=1.0, cx=939.5, cy=261.5, bw=61.0, bh=27.0\n",
      "[DEBUG] After : cls=1.0, cx=881.5, cy=458.5, bw=69.0, bh=67.0\n",
      "[DEBUG] After : cls=1.0, cx=1022.5, cy=86.5, bw=49.0, bh=33.0\n",
      "[DEBUG] After : cls=1.0, cx=1088.5, cy=170.5, bw=47.0, bh=25.0\n",
      "[DEBUG] After : cls=1.0, cx=1154.5, cy=146.0, bw=41.0, bh=38.0\n",
      "[DEBUG] After : cls=7.0, cx=566.0, cy=98.5, bw=120.0, bh=115.0\n",
      "[DEBUG] After : cls=7.0, cx=515.5, cy=138.5, bw=127.0, bh=111.0\n",
      "[DEBUG] After : cls=7.0, cx=455.5, cy=191.5, bw=131.0, bh=119.0\n",
      "[DEBUG] After : cls=7.0, cx=387.5, cy=253.5, bw=127.0, bh=129.0\n",
      "[DEBUG] After : cls=7.0, cx=308.5, cy=318.5, bw=137.0, bh=151.0\n",
      "[DEBUG] After : cls=7.0, cx=214.5, cy=403.5, bw=153.0, bh=157.0\n",
      "[DEBUG] After : cls=7.0, cx=110.5, cy=505.0, bw=155.0, bh=172.0\n",
      "[DEBUG] After : cls=5.0, cx=379.0, cy=232.5, bw=90.0, bh=99.0\n",
      "[DEBUG] After : cls=5.0, cx=443.0, cy=275.0, bw=104.0, bh=78.0\n",
      "[DEBUG] After : cls=5.0, cx=473.5, cy=382.5, bw=109.0, bh=127.0\n",
      "[DEBUG] After : cls=4.0, cx=237.0, cy=407.5, bw=76.0, bh=119.0\n",
      "[DEBUG] After : cls=4.0, cx=324.5, cy=409.5, bw=75.0, bh=121.0\n",
      "[DEBUG] After : cls=0.0, cx=447.5, cy=197.5, bw=45.0, bh=49.0\n",
      "[DEBUG] After : cls=0.0, cx=428.5, cy=419.5, bw=47.0, bh=55.0\n",
      "[DEBUG] After : cls=0.0, cx=583.0, cy=496.5, bw=46.0, bh=63.0\n",
      "[DEBUG] After : cls=9.0, cx=294.0, cy=528.0, bw=54.0, bh=28.0\n",
      "[DEBUG] After : cls=9.0, cx=418.5, cy=565.5, bw=31.0, bh=55.0\n",
      "[DEBUG] After : cls=9.0, cx=372.0, cy=237.5, bw=30.0, bh=51.0\n",
      "[DEBUG] After : cls=9.0, cx=557.5, cy=102.5, bw=51.0, bh=33.0\n",
      "[DEBUG] After : cls=9.0, cx=727.0, cy=147.5, bw=50.0, bh=31.0\n",
      "[DEBUG] After : cls=9.0, cx=121.0, cy=25.5, bw=50.0, bh=25.0\n",
      "[DEBUG] After : cls=9.0, cx=490.5, cy=86.0, bw=49.0, bh=30.0\n",
      "[DEBUG] After : cls=9.0, cx=973.5, cy=150.0, bw=51.0, bh=30.0\n",
      "[DEBUG] After : cls=9.0, cx=1032.0, cy=164.0, bw=48.0, bh=28.0\n",
      "[DEBUG] After : cls=9.0, cx=299.0, cy=558.5, bw=58.0, bh=19.0\n",
      "[DEBUG] After : cls=9.0, cx=318.0, cy=244.5, bw=50.0, bh=41.0\n",
      "[DEBUG] After : cls=9.0, cx=464.5, cy=332.0, bw=49.0, bh=40.0\n",
      "[DEBUG] After : cls=9.0, cx=598.0, cy=408.5, bw=48.0, bh=39.0\n",
      "[DEBUG] After : cls=9.0, cx=831.0, cy=282.5, bw=50.0, bh=39.0\n",
      "[DEBUG] After : cls=9.0, cx=873.0, cy=339.5, bw=36.0, bh=47.0\n",
      "[DEBUG] After : cls=9.0, cx=851.5, cy=260.5, bw=47.0, bh=39.0\n",
      "[DEBUG] After : cls=9.0, cx=816.5, cy=307.0, bw=41.0, bh=38.0\n",
      "[DEBUG] After : cls=3.0, cx=603.0, cy=144.5, bw=104.0, bh=73.0\n",
      "[DEBUG] After : cls=3.0, cx=112.0, cy=69.0, bw=58.0, bh=54.0\n",
      "[DEBUG] After : cls=6.0, cx=448.0, cy=365.0, bw=330.0, bh=330.0\n",
      "[DEBUG] After : cls=7.0, cx=414.5, cy=96.0, bw=133.0, bh=64.0\n",
      "[DEBUG] After : cls=7.0, cx=419.5, cy=179.5, bw=165.0, bh=61.0\n",
      "[DEBUG] After : cls=7.0, cx=430.5, cy=232.0, bw=177.0, bh=64.0\n",
      "[DEBUG] After : cls=7.0, cx=444.0, cy=293.0, bw=192.0, bh=58.0\n",
      "[DEBUG] After : cls=7.0, cx=446.0, cy=357.0, bw=182.0, bh=72.0\n",
      "[DEBUG] After : cls=7.0, cx=476.0, cy=435.5, bw=176.0, bh=77.0\n",
      "[DEBUG] number of preds after NMS: [0, 0, 0, 0, 0, 0, 0, 0, 0, 0, 0, 0, 0, 0, 0, 0]\n",
      "[DEBUG] number of targets in batch: 91\n",
      "[DEBUG] batch 0: 0 preds vs 2 GTs -> 0 matches (IoU>0.5)\n",
      "[DEBUG] batch 1: 0 preds vs 4 GTs -> 0 matches (IoU>0.5)\n",
      "[DEBUG] batch 2: 0 preds vs 6 GTs -> 0 matches (IoU>0.5)\n",
      "[DEBUG] batch 3: 0 preds vs 5 GTs -> 0 matches (IoU>0.5)\n",
      "[DEBUG] batch 4: 0 preds vs 8 GTs -> 0 matches (IoU>0.5)\n",
      "[DEBUG] batch 5: 0 preds vs 1 GTs -> 0 matches (IoU>0.5)\n",
      "[DEBUG] batch 6: 0 preds vs 9 GTs -> 0 matches (IoU>0.5)\n",
      "[DEBUG] batch 7: 0 preds vs 15 GTs -> 0 matches (IoU>0.5)\n",
      "[DEBUG] batch 8: 0 preds vs 7 GTs -> 0 matches (IoU>0.5)\n",
      "[DEBUG] batch 9: 0 preds vs 2 GTs -> 0 matches (IoU>0.5)\n",
      "[DEBUG] batch 10: 0 preds vs 3 GTs -> 0 matches (IoU>0.5)\n",
      "[DEBUG] batch 11: 0 preds vs 3 GTs -> 0 matches (IoU>0.5)\n",
      "[DEBUG] batch 12: 0 preds vs 10 GTs -> 0 matches (IoU>0.5)\n",
      "[DEBUG] batch 13: 0 preds vs 7 GTs -> 0 matches (IoU>0.5)\n",
      "[DEBUG] batch 14: 0 preds vs 3 GTs -> 0 matches (IoU>0.5)\n",
      "[DEBUG] batch 15: 0 preds vs 6 GTs -> 0 matches (IoU>0.5)\n",
      "[DEBUG] After : cls=9.0, cx=889.0, cy=258.0, bw=56.0, bh=56.0\n",
      "[DEBUG] After : cls=9.0, cx=857.5, cy=285.5, bw=61.0, bh=59.0\n",
      "[DEBUG] After : cls=9.0, cx=748.5, cy=353.5, bw=49.0, bh=61.0\n",
      "[DEBUG] After : cls=0.0, cx=110.5, cy=314.0, bw=63.0, bh=56.0\n",
      "[DEBUG] After : cls=0.0, cx=185.0, cy=319.0, bw=52.0, bh=70.0\n",
      "[DEBUG] After : cls=0.0, cx=260.5, cy=303.5, bw=61.0, bh=67.0\n",
      "[DEBUG] After : cls=0.0, cx=337.5, cy=307.5, bw=59.0, bh=73.0\n",
      "[DEBUG] After : cls=0.0, cx=494.0, cy=293.0, bw=60.0, bh=62.0\n",
      "[DEBUG] After : cls=0.0, cx=542.5, cy=232.0, bw=71.0, bh=62.0\n",
      "[DEBUG] After : cls=0.0, cx=656.0, cy=107.5, bw=66.0, bh=53.0\n",
      "[DEBUG] After : cls=0.0, cx=690.5, cy=45.5, bw=77.0, bh=67.0\n",
      "[DEBUG] After : cls=0.0, cx=82.5, cy=552.0, bw=53.0, bh=54.0\n",
      "[DEBUG] After : cls=0.0, cx=232.0, cy=580.5, bw=64.0, bh=65.0\n",
      "[DEBUG] After : cls=0.0, cx=387.5, cy=608.0, bw=55.0, bh=40.0\n",
      "[DEBUG] After : cls=0.0, cx=732.0, cy=324.5, bw=72.0, bh=57.0\n",
      "[DEBUG] After : cls=0.0, cx=787.0, cy=265.0, bw=62.0, bh=68.0\n",
      "[DEBUG] After : cls=0.0, cx=1052.5, cy=434.5, bw=65.0, bh=73.0\n",
      "[DEBUG] number of preds after NMS: [0, 0]\n",
      "[DEBUG] number of targets in batch: 17\n",
      "[DEBUG] batch 0: 0 preds vs 3 GTs -> 0 matches (IoU>0.5)\n",
      "[DEBUG] batch 1: 0 preds vs 14 GTs -> 0 matches (IoU>0.5)\n",
      "\n",
      "[TEST] 📋 Test Results Summary:\n",
      "  - Mean Precision     : 0.0000\n",
      "  - Mean Recall        : 0.0000\n",
      "  - mAP@0.5            : 0.0000\n",
      "  - mAP@0.5:0.95       : 0.0000\n",
      "  - mAP@0.75           : 0.0000\n",
      "DataFrame이 '250522_154811_Object Detection_Results.csv'에 저장되었습니다.\n",
      "yoloh50 (3/4) (Iter 1) Dataset: NWPU_VHR10_YOLO (1/2) ==============================\n",
      "Backbone: RESNET50\n",
      "--pretrained: True\n",
      "==============================\n",
      "Neck: dilated_encoder\n",
      "==============================\n",
      "Head: naive_head\n",
      "==============================\n",
      "Optimizer: adamw\n",
      "--momentum: 0.9\n",
      "--weight_decay: 0.0001\n"
     ]
    },
    {
     "name": "stderr",
     "output_type": "stream",
     "text": [
      "[YOLOH] Epoch 1/10:   0%|          | 0/24 [00:00<?, ?it/s]"
     ]
    },
    {
     "name": "stdout",
     "output_type": "stream",
     "text": [
      "\n",
      "[DEBUG] first batch target rows = 120\n",
      "[DEBUG] first 5 targets:\n",
      " tensor([[0.00000, 8.00000, 0.09659, 0.54352, 0.18056, 0.28064],\n",
      "        [0.00000, 8.00000, 0.25316, 0.38632, 0.17550, 0.12966],\n",
      "        [0.00000, 8.00000, 0.29040, 0.26288, 0.11869, 0.19893],\n",
      "        [1.00000, 5.00000, 0.37340, 0.57941, 0.11060, 0.12216],\n",
      "        [1.00000, 5.00000, 0.39351, 0.68586, 0.11792, 0.15009]])\n",
      "[Before Interpolate] x2: torch.Size([16, 512, 20, 20]), x1: torch.Size([16, 512, 40, 40]), x0: torch.Size([16, 512, 40, 40])\n",
      "[After Interpolate]  x2: torch.Size([16, 512, 40, 40]), x1: torch.Size([16, 512, 40, 40]), x0: torch.Size([16, 512, 40, 40])\n"
     ]
    },
    {
     "name": "stderr",
     "output_type": "stream",
     "text": [
      "c:\\Users\\user\\anaconda3\\envs\\AerialObjectDetection\\lib\\site-packages\\torch\\functional.py:554: UserWarning: torch.meshgrid: in an upcoming release, it will be required to pass the indexing argument. (Triggered internally at C:\\actions-runner\\_work\\pytorch\\pytorch\\pytorch\\aten\\src\\ATen\\native\\TensorShape.cpp:4316.)\n",
      "  return _VF.meshgrid(tensors, **kwargs)  # type: ignore[attr-defined]\n",
      "[YOLOH] Epoch 1/10:   0%|          | 0/24 [00:00<?, ?it/s]\n"
     ]
    },
    {
     "ename": "TypeError",
     "evalue": "unsupported operand type(s) for &: 'Tensor' and 'NoneType'",
     "output_type": "error",
     "traceback": [
      "\u001b[1;31m---------------------------------------------------------------------------\u001b[0m",
      "\u001b[1;31mTypeError\u001b[0m                                 Traceback (most recent call last)",
      "Cell \u001b[1;32mIn[4], line 45\u001b[0m\n\u001b[0;32m     42\u001b[0m ex_dict[\u001b[38;5;124m'\u001b[39m\u001b[38;5;124mModel Name\u001b[39m\u001b[38;5;124m'\u001b[39m] \u001b[38;5;241m=\u001b[39m model_name; ex_dict[\u001b[38;5;124m'\u001b[39m\u001b[38;5;124mModel\u001b[39m\u001b[38;5;124m'\u001b[39m]\u001b[38;5;241m=\u001b[39mmodel;\n\u001b[0;32m     43\u001b[0m start \u001b[38;5;241m=\u001b[39m timeit\u001b[38;5;241m.\u001b[39mdefault_timer()\n\u001b[1;32m---> 45\u001b[0m ex_dict \u001b[38;5;241m=\u001b[39m \u001b[43mtrain_fn\u001b[49m\u001b[43m(\u001b[49m\u001b[43mex_dict\u001b[49m\u001b[43m)\u001b[49m\n\u001b[0;32m     46\u001b[0m ex_dict \u001b[38;5;241m=\u001b[39m eval_fn(ex_dict)\n\u001b[0;32m     47\u001b[0m ex_dict \u001b[38;5;241m=\u001b[39m test_fn(ex_dict)\n",
      "File \u001b[1;32mc:\\Users\\user\\Desktop\\Aerial Object Detection\\AERIAL_OBJECT_DETECTION\\Models\\YOLOH\\yoloh_utils.py:125\u001b[0m, in \u001b[0;36mtrain_yoloh_model\u001b[1;34m(ex_dict)\u001b[0m\n\u001b[0;32m    122\u001b[0m criterion  \u001b[38;5;241m=\u001b[39m YoloHLossWrapper(model, num_cls)\n\u001b[0;32m    124\u001b[0m \u001b[38;5;66;03m# ── train loop (공용)\u001b[39;00m\n\u001b[1;32m--> 125\u001b[0m ex_dict \u001b[38;5;241m=\u001b[39m \u001b[43mrun_train_loop\u001b[49m\u001b[43m(\u001b[49m\n\u001b[0;32m    126\u001b[0m \u001b[43m    \u001b[49m\u001b[43mmodel\u001b[49m\u001b[43m       \u001b[49m\u001b[38;5;241;43m=\u001b[39;49m\u001b[43m \u001b[49m\u001b[43mmodel\u001b[49m\u001b[43m,\u001b[49m\n\u001b[0;32m    127\u001b[0m \u001b[43m    \u001b[49m\u001b[43mtrain_loader\u001b[49m\u001b[38;5;241;43m=\u001b[39;49m\u001b[43m \u001b[49m\u001b[43mtrain_loader\u001b[49m\u001b[43m,\u001b[49m\n\u001b[0;32m    128\u001b[0m \u001b[43m    \u001b[49m\u001b[43mcriterion\u001b[49m\u001b[43m   \u001b[49m\u001b[38;5;241;43m=\u001b[39;49m\u001b[43m \u001b[49m\u001b[43mcriterion\u001b[49m\u001b[43m,\u001b[49m\n\u001b[0;32m    129\u001b[0m \u001b[43m    \u001b[49m\u001b[43moptimizer\u001b[49m\u001b[43m   \u001b[49m\u001b[38;5;241;43m=\u001b[39;49m\u001b[43m \u001b[49m\u001b[43moptimizer\u001b[49m\u001b[43m,\u001b[49m\n\u001b[0;32m    130\u001b[0m \u001b[43m    \u001b[49m\u001b[43mscheduler\u001b[49m\u001b[43m   \u001b[49m\u001b[38;5;241;43m=\u001b[39;49m\u001b[43m \u001b[49m\u001b[43mscheduler\u001b[49m\u001b[43m,\u001b[49m\n\u001b[0;32m    131\u001b[0m \u001b[43m    \u001b[49m\u001b[43mepochs\u001b[49m\u001b[43m      \u001b[49m\u001b[38;5;241;43m=\u001b[39;49m\u001b[43m \u001b[49m\u001b[43mepochs\u001b[49m\u001b[43m,\u001b[49m\n\u001b[0;32m    132\u001b[0m \u001b[43m    \u001b[49m\u001b[43mdevice\u001b[49m\u001b[43m      \u001b[49m\u001b[38;5;241;43m=\u001b[39;49m\u001b[43m \u001b[49m\u001b[43mdevice\u001b[49m\u001b[43m,\u001b[49m\n\u001b[0;32m    133\u001b[0m \u001b[43m    \u001b[49m\u001b[43mmodel_name\u001b[49m\u001b[43m  \u001b[49m\u001b[38;5;241;43m=\u001b[39;49m\u001b[43m \u001b[49m\u001b[38;5;124;43m\"\u001b[39;49m\u001b[38;5;124;43mYOLOH\u001b[39;49m\u001b[38;5;124;43m\"\u001b[39;49m\u001b[43m,\u001b[49m\n\u001b[0;32m    134\u001b[0m \u001b[43m    \u001b[49m\u001b[43mprint_interval\u001b[49m\u001b[43m \u001b[49m\u001b[38;5;241;43m=\u001b[39;49m\u001b[43m \u001b[49m\u001b[38;5;241;43m10\u001b[39;49m\u001b[43m,\u001b[49m\n\u001b[0;32m    135\u001b[0m \u001b[43m    \u001b[49m\u001b[43meval_fn\u001b[49m\u001b[43m     \u001b[49m\u001b[38;5;241;43m=\u001b[39;49m\u001b[43m \u001b[49m\u001b[43meval_yoloh_model\u001b[49m\u001b[43m,\u001b[49m\u001b[43m   \u001b[49m\u001b[38;5;66;43;03m# per-epoch val (다음 섹션)\u001b[39;49;00m\n\u001b[0;32m    136\u001b[0m \u001b[43m    \u001b[49m\u001b[43mex_dict\u001b[49m\u001b[43m     \u001b[49m\u001b[38;5;241;43m=\u001b[39;49m\u001b[43m \u001b[49m\u001b[43mex_dict\u001b[49m\n\u001b[0;32m    137\u001b[0m \u001b[43m\u001b[49m\u001b[43m)\u001b[49m\n\u001b[0;32m    139\u001b[0m \u001b[38;5;66;03m# ── save checkpoint (최종)\u001b[39;00m\n\u001b[0;32m    140\u001b[0m pt_path \u001b[38;5;241m=\u001b[39m os\u001b[38;5;241m.\u001b[39mpath\u001b[38;5;241m.\u001b[39mjoin(project, \u001b[38;5;124m\"\u001b[39m\u001b[38;5;124mTrain\u001b[39m\u001b[38;5;124m\"\u001b[39m, \u001b[38;5;124m\"\u001b[39m\u001b[38;5;124mweights\u001b[39m\u001b[38;5;124m\"\u001b[39m, \u001b[38;5;124m\"\u001b[39m\u001b[38;5;124mbest.pt\u001b[39m\u001b[38;5;124m\"\u001b[39m)\n",
      "File \u001b[1;32mc:\\Users\\user\\Desktop\\Aerial Object Detection\\AERIAL_OBJECT_DETECTION\\utility\\trainer.py:110\u001b[0m, in \u001b[0;36mrun_train_loop\u001b[1;34m(model, train_loader, criterion, optimizer, scheduler, epochs, device, model_name, print_interval, eval_fn, ex_dict)\u001b[0m\n\u001b[0;32m    108\u001b[0m \u001b[38;5;66;03m# 🔁 Loss는 FPN 피처맵(preds[1]) 기준으로 계산\u001b[39;00m\n\u001b[0;32m    109\u001b[0m preds_for_loss \u001b[38;5;241m=\u001b[39m preds[\u001b[38;5;241m1\u001b[39m] \u001b[38;5;28;01mif\u001b[39;00m \u001b[38;5;28misinstance\u001b[39m(preds, \u001b[38;5;28mtuple\u001b[39m) \u001b[38;5;28;01melse\u001b[39;00m preds\n\u001b[1;32m--> 110\u001b[0m loss, loss_items \u001b[38;5;241m=\u001b[39m \u001b[43mcriterion\u001b[49m\u001b[43m(\u001b[49m\u001b[43mpreds_for_loss\u001b[49m\u001b[43m,\u001b[49m\u001b[43m \u001b[49m\u001b[43mtargets\u001b[49m\u001b[43m)\u001b[49m\n\u001b[0;32m    111\u001b[0m loss\u001b[38;5;241m.\u001b[39mbackward()\n\u001b[0;32m    112\u001b[0m optimizer\u001b[38;5;241m.\u001b[39mstep()\n",
      "File \u001b[1;32mc:\\Users\\user\\Desktop\\Aerial Object Detection\\AERIAL_OBJECT_DETECTION\\Models\\YOLOH\\yoloh_utils.py:79\u001b[0m, in \u001b[0;36mYoloHLossWrapper.__call__\u001b[1;34m(self, preds, targets)\u001b[0m\n\u001b[0;32m     76\u001b[0m tgt_list \u001b[38;5;241m=\u001b[39m _yolo_txt_to_targets(targets)\n\u001b[0;32m     78\u001b[0m \u001b[38;5;66;03m# Criterion forward\u001b[39;00m\n\u001b[1;32m---> 79\u001b[0m loss_cls, loss_box, total \u001b[38;5;241m=\u001b[39m \u001b[38;5;28;43mself\u001b[39;49m\u001b[38;5;241;43m.\u001b[39;49m\u001b[43mcrit\u001b[49m\u001b[43m(\u001b[49m\u001b[43mpreds\u001b[49m\u001b[43m,\u001b[49m\u001b[43m \u001b[49m\u001b[43mtgt_list\u001b[49m\u001b[43m,\u001b[49m\n\u001b[0;32m     80\u001b[0m \u001b[43m                                      \u001b[49m\u001b[43manchor_boxes\u001b[49m\u001b[38;5;241;43m=\u001b[39;49m\u001b[38;5;28;43mself\u001b[39;49m\u001b[38;5;241;43m.\u001b[39;49m\u001b[43mmodel\u001b[49m\u001b[38;5;241;43m.\u001b[39;49m\u001b[43manchor_boxes\u001b[49m\u001b[43m)\u001b[49m\n\u001b[0;32m     82\u001b[0m loss_total \u001b[38;5;241m=\u001b[39m total\n\u001b[0;32m     83\u001b[0m loss_items \u001b[38;5;241m=\u001b[39m ( \u001b[38;5;28mfloat\u001b[39m(loss_box),   \u001b[38;5;66;03m# box\u001b[39;00m\n\u001b[0;32m     84\u001b[0m                \u001b[38;5;241m0.0\u001b[39m,               \u001b[38;5;66;03m# obj (no objectness in YOLOH)\u001b[39;00m\n\u001b[0;32m     85\u001b[0m                \u001b[38;5;28mfloat\u001b[39m(loss_cls),   \u001b[38;5;66;03m# cls\u001b[39;00m\n\u001b[0;32m     86\u001b[0m                \u001b[38;5;28mfloat\u001b[39m(total) )     \u001b[38;5;66;03m# total\u001b[39;00m\n",
      "File \u001b[1;32mc:\\Users\\user\\anaconda3\\envs\\AerialObjectDetection\\lib\\site-packages\\torch\\nn\\modules\\module.py:1751\u001b[0m, in \u001b[0;36mModule._wrapped_call_impl\u001b[1;34m(self, *args, **kwargs)\u001b[0m\n\u001b[0;32m   1749\u001b[0m     \u001b[38;5;28;01mreturn\u001b[39;00m \u001b[38;5;28mself\u001b[39m\u001b[38;5;241m.\u001b[39m_compiled_call_impl(\u001b[38;5;241m*\u001b[39margs, \u001b[38;5;241m*\u001b[39m\u001b[38;5;241m*\u001b[39mkwargs)  \u001b[38;5;66;03m# type: ignore[misc]\u001b[39;00m\n\u001b[0;32m   1750\u001b[0m \u001b[38;5;28;01melse\u001b[39;00m:\n\u001b[1;32m-> 1751\u001b[0m     \u001b[38;5;28;01mreturn\u001b[39;00m \u001b[38;5;28mself\u001b[39m\u001b[38;5;241m.\u001b[39m_call_impl(\u001b[38;5;241m*\u001b[39margs, \u001b[38;5;241m*\u001b[39m\u001b[38;5;241m*\u001b[39mkwargs)\n",
      "File \u001b[1;32mc:\\Users\\user\\anaconda3\\envs\\AerialObjectDetection\\lib\\site-packages\\torch\\nn\\modules\\module.py:1762\u001b[0m, in \u001b[0;36mModule._call_impl\u001b[1;34m(self, *args, **kwargs)\u001b[0m\n\u001b[0;32m   1757\u001b[0m \u001b[38;5;66;03m# If we don't have any hooks, we want to skip the rest of the logic in\u001b[39;00m\n\u001b[0;32m   1758\u001b[0m \u001b[38;5;66;03m# this function, and just call forward.\u001b[39;00m\n\u001b[0;32m   1759\u001b[0m \u001b[38;5;28;01mif\u001b[39;00m \u001b[38;5;129;01mnot\u001b[39;00m (\u001b[38;5;28mself\u001b[39m\u001b[38;5;241m.\u001b[39m_backward_hooks \u001b[38;5;129;01mor\u001b[39;00m \u001b[38;5;28mself\u001b[39m\u001b[38;5;241m.\u001b[39m_backward_pre_hooks \u001b[38;5;129;01mor\u001b[39;00m \u001b[38;5;28mself\u001b[39m\u001b[38;5;241m.\u001b[39m_forward_hooks \u001b[38;5;129;01mor\u001b[39;00m \u001b[38;5;28mself\u001b[39m\u001b[38;5;241m.\u001b[39m_forward_pre_hooks\n\u001b[0;32m   1760\u001b[0m         \u001b[38;5;129;01mor\u001b[39;00m _global_backward_pre_hooks \u001b[38;5;129;01mor\u001b[39;00m _global_backward_hooks\n\u001b[0;32m   1761\u001b[0m         \u001b[38;5;129;01mor\u001b[39;00m _global_forward_hooks \u001b[38;5;129;01mor\u001b[39;00m _global_forward_pre_hooks):\n\u001b[1;32m-> 1762\u001b[0m     \u001b[38;5;28;01mreturn\u001b[39;00m forward_call(\u001b[38;5;241m*\u001b[39margs, \u001b[38;5;241m*\u001b[39m\u001b[38;5;241m*\u001b[39mkwargs)\n\u001b[0;32m   1764\u001b[0m result \u001b[38;5;241m=\u001b[39m \u001b[38;5;28;01mNone\u001b[39;00m\n\u001b[0;32m   1765\u001b[0m called_always_called_hooks \u001b[38;5;241m=\u001b[39m \u001b[38;5;28mset\u001b[39m()\n",
      "File \u001b[1;32m~\\Desktop\\Aerial Object Detection\\AERIAL_OBJECT_DETECTION\\Models\\YOLOH\\utils\\criterion.py:159\u001b[0m, in \u001b[0;36mCriterion.forward\u001b[1;34m(self, outputs, targets, anchor_boxes)\u001b[0m\n\u001b[0;32m    157\u001b[0m \u001b[38;5;66;03m# cls loss\u001b[39;00m\n\u001b[0;32m    158\u001b[0m masks \u001b[38;5;241m=\u001b[39m outputs[\u001b[38;5;124m'\u001b[39m\u001b[38;5;124mmask\u001b[39m\u001b[38;5;124m'\u001b[39m]\n\u001b[1;32m--> 159\u001b[0m valid_idxs \u001b[38;5;241m=\u001b[39m \u001b[43m(\u001b[49m\u001b[43mgt_cls\u001b[49m\u001b[43m \u001b[49m\u001b[38;5;241;43m>\u001b[39;49m\u001b[38;5;241;43m=\u001b[39;49m\u001b[43m \u001b[49m\u001b[38;5;241;43m0\u001b[39;49m\u001b[43m)\u001b[49m\u001b[43m \u001b[49m\u001b[38;5;241;43m&\u001b[39;49m\u001b[43m \u001b[49m\u001b[43mmasks\u001b[49m\n\u001b[0;32m    160\u001b[0m loss_labels \u001b[38;5;241m=\u001b[39m \u001b[38;5;28mself\u001b[39m\u001b[38;5;241m.\u001b[39mloss_labels(pred_cls[valid_idxs], \n\u001b[0;32m    161\u001b[0m                                gt_cls_target[valid_idxs], \n\u001b[0;32m    162\u001b[0m                                num_foreground)\n\u001b[0;32m    164\u001b[0m \u001b[38;5;66;03m# box loss\u001b[39;00m\n",
      "\u001b[1;31mTypeError\u001b[0m: unsupported operand type(s) for &: 'Tensor' and 'NoneType'"
     ]
    }
   ],
   "source": [
    "from utility.utils import control_random_seed, update_dataset_paths, format_measures, merge_and_update_df\n",
    "\n",
    "\n",
    "Experiments_Time = datetime.now().strftime(\"%y%m%d_%H%M%S\")\n",
    "print('Experiment Start Time:',Experiments_Time)\n",
    "\n",
    "ex_dict = {}\n",
    "ex_dict['Experiment Time'] = Experiments_Time;ex_dict['Epochs'] = epochs;\n",
    "ex_dict['Batch Size'] = batch_size;\n",
    "ex_dict['Early Stop'] = early_stop;\n",
    "ex_dict['Device'] = device\n",
    "ex_dict['Optimizer'] = optimizer;\n",
    "ex_dict['LR']=optim_args['lr']; ex_dict['Weight Decay']=optim_args['weight_decay'];ex_dict['Momentum']=optim_args['momentum'];\n",
    "#ex_dict['Hyp'] = dict(lr0=ex_dict['LR'], momentum=ex_dict['Momentum'], weight_decay=ex_dict['Weight Decay'])\n",
    "ex_dict['Image Size'] = image_size\n",
    "ex_dict['Output Dir'] = output_dir\n",
    "ex_dict['Num Workers'] = num_workers\n",
    "ex_dict['AutoAnchor'] = True\n",
    "\n",
    "for iteration in range(iterations[0], iterations[1]+1):\n",
    "    print(f'(Iter {iteration})')\n",
    "    seed = iteration\n",
    "    ex_dict['Iteration'] = iteration\n",
    "    for j, Dataset_Name in enumerate(dataset_names):\n",
    "        print(f'Dataset: {Dataset_Name} ({j+1}/{len(dataset_names)})');\n",
    "        control_random_seed(seed)\n",
    "        data_yaml_path = f\"{dataset_root}/{Dataset_Name}/data_iter_{iteration:02d}.yaml\"\n",
    "        with open(data_yaml_path, 'r') as f:\n",
    "            data_config = yaml.load(f, Loader=yaml.FullLoader)\n",
    "        ex_dict['Dataset Name'] = Dataset_Name; ex_dict['Data Config'] = data_yaml_path; ex_dict['Number of Classes'] = data_config['nc']; ex_dict['Class Names'] = data_config['names'];\n",
    "        ex_dict['Split Size'] = f\"{data_config['train_count']}/{data_config['val_count']}/{data_config['test_count']}\"\n",
    "        update_dataset_paths(dataset_root, Dataset_Name, iteration)\n",
    "        \n",
    "        for k, model_name in enumerate(model_names):\n",
    "            print(f'{model_name} ({k+1}/{len(model_names)}) (Iter {iteration})', end=' ')\n",
    "            print(f'Dataset: {Dataset_Name} ({j+1}/{len(dataset_names)})', end=' ')\n",
    "            control_random_seed(seed)\n",
    "            \n",
    "            model = get_model(model_name, ex_dict)\n",
    "            train_fn, eval_fn, test_fn = get_pipeline(model_name)\n",
    "\n",
    "            ex_dict['Model Name'] = model_name; ex_dict['Model']=model;\n",
    "            start = timeit.default_timer()\n",
    "\n",
    "            ex_dict = train_fn(ex_dict)\n",
    "            ex_dict = eval_fn(ex_dict)\n",
    "            ex_dict = test_fn(ex_dict)\n",
    "\n",
    "            ex_dict['Train-Test Time'] = timeit.default_timer() - start\n",
    "            #################\n",
    "            if ex_dict.get('Test Results') is None:\n",
    "                raise RuntimeError(\"평가 결과가 없습니다. 위의 체크리스트를 참고해 원인부터 해결하세요.\")\n",
    "\n",
    "            eval_dict = format_measures(ex_dict.get('Test Results'))\n",
    "            output_csv = f\"{ex_dict['Experiment Time']}_{project_name}_Results.csv\"\n",
    "            merge_and_update_df(ex_dict, eval_dict, output_csv, exclude_columns=['Model', 'Train Results', 'Test Results'])"
   ]
  },
  {
   "cell_type": "code",
   "execution_count": null,
   "id": "c3a0aa77",
   "metadata": {},
   "outputs": [
    {
     "name": "stdout",
     "output_type": "stream",
     "text": [
      "CUDA 사용 가능 여부: True\n",
      "CUDA 디바이스 수: 1\n",
      "현재 사용 디바이스: 0\n",
      "디바이스 이름: NVIDIA GeForce RTX 5060 Ti\n",
      "PyTorch CUDA 버전: 12.8\n",
      "PyTorch 버전: 2.8.0.dev20250420+cu128\n"
     ]
    }
   ],
   "source": [
    "import torch\n",
    "\n",
    "print(f\"CUDA 사용 가능 여부: {torch.cuda.is_available()}\")\n",
    "print(f\"CUDA 디바이스 수: {torch.cuda.device_count()}\")\n",
    "print(f\"현재 사용 디바이스: {torch.cuda.current_device()}\")\n",
    "print(f\"디바이스 이름: {torch.cuda.get_device_name(0)}\")\n",
    "print(f\"PyTorch CUDA 버전: {torch.version.cuda}\")\n",
    "print(f\"PyTorch 버전: {torch.__version__}\")\n"
   ]
  }
 ],
 "metadata": {
  "colab": {
   "provenance": []
  },
  "kernelspec": {
   "display_name": "AerialObjectDetection",
   "language": "python",
   "name": "python3"
  },
  "language_info": {
   "codemirror_mode": {
    "name": "ipython",
    "version": 3
   },
   "file_extension": ".py",
   "mimetype": "text/x-python",
   "name": "python",
   "nbconvert_exporter": "python",
   "pygments_lexer": "ipython3",
   "version": "3.10.16"
  }
 },
 "nbformat": 4,
 "nbformat_minor": 5
}
