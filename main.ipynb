{
 "cells": [
  {
   "cell_type": "code",
   "execution_count": 1,
   "id": "I5GOpRY8iceH",
   "metadata": {
    "colab": {
     "base_uri": "https://localhost:8080/"
    },
    "executionInfo": {
     "elapsed": 121074,
     "status": "ok",
     "timestamp": 1744696153033,
     "user": {
      "displayName": "천재원",
      "userId": "10314458299258158887"
     },
     "user_tz": -540
    },
    "id": "I5GOpRY8iceH",
    "outputId": "59ea41f2-0a57-4455-c4ae-89b38873f9fb"
   },
   "outputs": [],
   "source": [
    "#!pip install -r requirements.txt"
   ]
  },
  {
   "cell_type": "code",
   "execution_count": 2,
   "id": "6dd08f52",
   "metadata": {
    "colab": {
     "base_uri": "https://localhost:8080/"
    },
    "execution": {
     "iopub.execute_input": "2025-04-11T09:04:12.198519Z",
     "iopub.status.busy": "2025-04-11T09:04:12.198421Z",
     "iopub.status.idle": "2025-04-11T09:04:15.339455Z",
     "shell.execute_reply": "2025-04-11T09:04:15.339113Z",
     "shell.execute_reply.started": "2025-04-11T09:04:12.198511Z"
    },
    "executionInfo": {
     "elapsed": 13561,
     "status": "ok",
     "timestamp": 1744696166669,
     "user": {
      "displayName": "천재원",
      "userId": "10314458299258158887"
     },
     "user_tz": -540
    },
    "id": "6dd08f52",
    "outputId": "9861d3a5-ad07-48e8-a7a5-716d079f073f"
   },
   "outputs": [
    {
     "name": "stderr",
     "output_type": "stream",
     "text": [
      "Install mish-cuda to speed up training and inference. More importantly, replace the naive Mish with MishCuda will give a ~1.5G memory saving during training.\n"
     ]
    },
    {
     "name": "stdout",
     "output_type": "stream",
     "text": [
      "[path_manager] + C:\\Users\\user\\Desktop\\Aerial Object Detection\\AERIAL_OBJECT_DETECTION\\Models\\YOLOH\n",
      " 👀  현재 sys.path[0] : C:\\Users\\user\\Desktop\\Aerial Object Detection\\AERIAL_OBJECT_DETECTION\\Models\\YOLOH\n",
      " 📂  root 내용: ['.gitignore', 'benchmark.py', 'config', 'data', 'demo.py', 'eval.py', 'evaluator', 'models', 'README.md', 'test.py']\n",
      "📂  root/models/yoloh : True\n"
     ]
    },
    {
     "name": "stderr",
     "output_type": "stream",
     "text": [
      "c:\\Users\\user\\anaconda3\\envs\\AerialObjectDetection\\lib\\site-packages\\timm\\models\\layers\\__init__.py:48: FutureWarning: Importing from timm.models.layers is deprecated, please import via timm.layers\n",
      "  warnings.warn(f\"Importing from {__name__} is deprecated, please import via timm.layers\", FutureWarning)\n",
      "c:\\Users\\user\\anaconda3\\envs\\AerialObjectDetection\\lib\\site-packages\\timm\\models\\registry.py:4: FutureWarning: Importing from timm.models.registry is deprecated, please import via timm.models\n",
      "  warnings.warn(f\"Importing from {__name__} is deprecated, please import via timm.models\", FutureWarning)\n",
      "C:\\Users\\user\\Desktop\\Aerial Object Detection\\AERIAL_OBJECT_DETECTION\\Models\\YOLOH\\models\\backbone\\convnext.py:204: UserWarning: Overwriting convnext_tiny in registry with models.backbone.convnext.convnext_tiny. This is because the name being registered conflicts with an existing name. Please check if this is not expected.\n",
      "  def convnext_tiny(pretrained=False, res_dilation=False, **kwargs):\n",
      "C:\\Users\\user\\Desktop\\Aerial Object Detection\\AERIAL_OBJECT_DETECTION\\Models\\YOLOH\\models\\backbone\\convnext.py:211: UserWarning: Overwriting convnext_small in registry with models.backbone.convnext.convnext_small. This is because the name being registered conflicts with an existing name. Please check if this is not expected.\n",
      "  def convnext_small(pretrained=False, res_dilation=False, **kwargs):\n",
      "C:\\Users\\user\\Desktop\\Aerial Object Detection\\AERIAL_OBJECT_DETECTION\\Models\\YOLOH\\models\\backbone\\convnext.py:218: UserWarning: Overwriting convnext_base in registry with models.backbone.convnext.convnext_base. This is because the name being registered conflicts with an existing name. Please check if this is not expected.\n",
      "  def convnext_base(pretrained=False, res_dilation=False, in_22k=False, **kwargs):\n",
      "C:\\Users\\user\\Desktop\\Aerial Object Detection\\AERIAL_OBJECT_DETECTION\\Models\\YOLOH\\models\\backbone\\convnext.py:228: UserWarning: Overwriting convnext_large in registry with models.backbone.convnext.convnext_large. This is because the name being registered conflicts with an existing name. Please check if this is not expected.\n",
      "  def convnext_large(pretrained=False, res_dilation=False, in_22k=False, **kwargs):\n",
      "C:\\Users\\user\\Desktop\\Aerial Object Detection\\AERIAL_OBJECT_DETECTION\\Models\\YOLOH\\models\\backbone\\convnext.py:238: UserWarning: Overwriting convnext_xlarge in registry with models.backbone.convnext.convnext_xlarge. This is because the name being registered conflicts with an existing name. Please check if this is not expected.\n",
      "  def convnext_xlarge(pretrained=False, res_dilation=False, in_22k=False, **kwargs):\n",
      "Install mish-cuda to speed up training and inference. More importantly, replace the naive Mish with MishCuda will give a ~1.5G memory saving during training.\n"
     ]
    },
    {
     "name": "stdout",
     "output_type": "stream",
     "text": [
      "[path_manager] - C:\\Users\\user\\Desktop\\Aerial Object Detection\\AERIAL_OBJECT_DETECTION\\Models\\YOLOH\n"
     ]
    },
    {
     "name": "stderr",
     "output_type": "stream",
     "text": [
      "C:\\Users\\user\\Desktop\\Aerial Object Detection\\AERIAL_OBJECT_DETECTION\\Models\\YOLOH\\models\\backbone\\convnext.py:204: UserWarning: Overwriting convnext_tiny in registry with models.backbone.convnext.convnext_tiny. This is because the name being registered conflicts with an existing name. Please check if this is not expected.\n",
      "  def convnext_tiny(pretrained=False, res_dilation=False, **kwargs):\n",
      "C:\\Users\\user\\Desktop\\Aerial Object Detection\\AERIAL_OBJECT_DETECTION\\Models\\YOLOH\\models\\backbone\\convnext.py:211: UserWarning: Overwriting convnext_small in registry with models.backbone.convnext.convnext_small. This is because the name being registered conflicts with an existing name. Please check if this is not expected.\n",
      "  def convnext_small(pretrained=False, res_dilation=False, **kwargs):\n",
      "C:\\Users\\user\\Desktop\\Aerial Object Detection\\AERIAL_OBJECT_DETECTION\\Models\\YOLOH\\models\\backbone\\convnext.py:218: UserWarning: Overwriting convnext_base in registry with models.backbone.convnext.convnext_base. This is because the name being registered conflicts with an existing name. Please check if this is not expected.\n",
      "  def convnext_base(pretrained=False, res_dilation=False, in_22k=False, **kwargs):\n",
      "C:\\Users\\user\\Desktop\\Aerial Object Detection\\AERIAL_OBJECT_DETECTION\\Models\\YOLOH\\models\\backbone\\convnext.py:228: UserWarning: Overwriting convnext_large in registry with models.backbone.convnext.convnext_large. This is because the name being registered conflicts with an existing name. Please check if this is not expected.\n",
      "  def convnext_large(pretrained=False, res_dilation=False, in_22k=False, **kwargs):\n",
      "C:\\Users\\user\\Desktop\\Aerial Object Detection\\AERIAL_OBJECT_DETECTION\\Models\\YOLOH\\models\\backbone\\convnext.py:238: UserWarning: Overwriting convnext_xlarge in registry with models.backbone.convnext.convnext_xlarge. This is because the name being registered conflicts with an existing name. Please check if this is not expected.\n",
      "  def convnext_xlarge(pretrained=False, res_dilation=False, in_22k=False, **kwargs):\n"
     ]
    }
   ],
   "source": [
    "import yaml\n",
    "import timeit\n",
    "import numpy as np\n",
    "import pandas as pd\n",
    "import torch\n",
    "from datetime import datetime\n",
    "from utility import *\n",
    "from ultralytics import settings\n",
    "from registry import get_model, get_pipeline\n",
    "#settings.update({'datasets_dir': os.path.abspath('.')})\n"
   ]
  },
  {
   "cell_type": "code",
   "execution_count": 3,
   "id": "3c883b28-7e26-40bb-9d4f-b8a384ed40d8",
   "metadata": {
    "execution": {
     "iopub.execute_input": "2025-04-11T09:04:15.339909Z",
     "iopub.status.busy": "2025-04-11T09:04:15.339783Z",
     "iopub.status.idle": "2025-04-11T09:04:15.342378Z",
     "shell.execute_reply": "2025-04-11T09:04:15.342181Z",
     "shell.execute_reply.started": "2025-04-11T09:04:15.339901Z"
    },
    "executionInfo": {
     "elapsed": 4,
     "status": "ok",
     "timestamp": 1744696166729,
     "user": {
      "displayName": "천재원",
      "userId": "10314458299258158887"
     },
     "user_tz": -540
    },
    "id": "3c883b28-7e26-40bb-9d4f-b8a384ed40d8"
   },
   "outputs": [],
   "source": [
    "project_name = 'Object Detection'\n",
    "# dataset_root 가 상대경로일 경우 colab 환경에서는 무조건 앞에 datasets 를 붙여서 찾는 문제가 있음\n",
    "dataset_root = 'Datasets'\n",
    "output_dir = 'output'\n",
    "dataset_names = ['COCO_airplane']\n",
    "model_names = ['YoloOW', 'yoloh18', 'yoloh50', 'yoloh101' ]\n",
    "iterations = [1, 5]\n",
    "epochs = 20\n",
    "early_stop = 20\n",
    "batch_size = 16\n",
    "image_size = 640\n",
    "optimizer = 'AdamW'\n",
    "lr = 1e-3\n",
    "momentum = 0.9\n",
    "weight_decay = 1e-4\n",
    "optim_args = {'optimizer': optimizer, 'lr': lr, 'momentum': momentum, 'weight_decay': weight_decay}\n",
    "devices = [0]\n",
    "device = torch.device(\"cuda:\"+str(devices[0])) if len(devices)>0 else torch.device(\"cpu\")\n",
    "train_split = 0.6\n",
    "val_split = 0.2\n",
    "test_split = 0.2\n",
    "num_workers = 2"
   ]
  },
  {
   "cell_type": "code",
   "execution_count": null,
   "id": "3564f553-e7b4-45cd-9171-465418f355ae",
   "metadata": {
    "colab": {
     "base_uri": "https://localhost:8080/"
    },
    "execution": {
     "iopub.execute_input": "2025-04-11T09:04:15.342815Z",
     "iopub.status.busy": "2025-04-11T09:04:15.342678Z",
     "iopub.status.idle": "2025-04-11T09:04:20.532205Z",
     "shell.execute_reply": "2025-04-11T09:04:20.531371Z",
     "shell.execute_reply.started": "2025-04-11T09:04:15.342803Z"
    },
    "executionInfo": {
     "elapsed": 5894784,
     "status": "ok",
     "timestamp": 1744702065603,
     "user": {
      "displayName": "천재원",
      "userId": "10314458299258158887"
     },
     "user_tz": -540
    },
    "id": "3564f553-e7b4-45cd-9171-465418f355ae",
    "outputId": "24fde293-4a80-49a9-ed27-3892b0e3e555",
    "scrolled": true
   },
   "outputs": [
    {
     "name": "stdout",
     "output_type": "stream",
     "text": [
      "Experiment Start Time: 250424_213126\n",
      "(Iter 1)\n",
      "Dataset: COCO_airplane (1/1)\n",
      "YoloOW (1/4) (Iter 1) Dataset: COCO_airplane (1/1) [YoloOW] Using config → C:\\Users\\user\\Desktop\\Aerial Object Detection\\AERIAL_OBJECT_DETECTION\\Models\\YoloOW\\cfg\\training\\yoloOW.yaml\n",
      "\n",
      "[trainer] 🔍 Checking anchor fit to dataset...\n",
      "[trainer] ⚠️ model has no `.anchors` attribute. Skipping anchor check.\n",
      "==============================\n",
      "Optimizer: adamw\n",
      "--momentum: 0.9\n",
      "--weight_decay: 0.0001\n"
     ]
    },
    {
     "name": "stderr",
     "output_type": "stream",
     "text": [
      "[YoloOW] Epoch 1/20:   0%|          | 0/41 [00:00<?, ?it/s]c:\\Users\\user\\Desktop\\Aerial Object Detection\\AERIAL_OBJECT_DETECTION\\utility\\trainer.py:92: UserWarning: Converting a tensor with requires_grad=True to a scalar may lead to unexpected behavior.\n",
      "Consider using tensor.detach() first. (Triggered internally at C:\\actions-runner\\_work\\pytorch\\pytorch\\pytorch\\aten\\src\\ATen\\native\\Scalar.cpp:23.)\n",
      "  total_loss += loss.item()\n",
      "[YoloOW] Epoch 1/20: 100%|██████████| 41/41 [00:35<00:00,  1.16it/s, Loss=2.0080, box=0.116, obj=0.009, cls=0.000, lr=0.000325]\n"
     ]
    },
    {
     "name": "stdout",
     "output_type": "stream",
     "text": [
      "\n",
      "[YoloOW] ✅ Epoch 1/20 complete in 35.46s | Avg Loss: 1.6461\n",
      "\n",
      "[YoloOW] 📊 Running evaluation after epoch 1 ...\n",
      "[eval_yoloow_model] ⚠️ No valid detections found. Evaluation aborted.\n"
     ]
    },
    {
     "name": "stderr",
     "output_type": "stream",
     "text": [
      "[YoloOW] Epoch 2/20: 100%|██████████| 41/41 [00:32<00:00,  1.26it/s, Loss=1.3478, box=0.082, obj=0.002, cls=0.000, lr=0.000659]\n"
     ]
    },
    {
     "name": "stdout",
     "output_type": "stream",
     "text": [
      "\n",
      "[YoloOW] ✅ Epoch 2/20 complete in 32.74s | Avg Loss: 1.3804\n",
      "\n",
      "[YoloOW] 📊 Running evaluation after epoch 2 ...\n",
      "[eval_yoloow_model] ⚠️ No valid detections found. Evaluation aborted.\n"
     ]
    },
    {
     "name": "stderr",
     "output_type": "stream",
     "text": [
      "[YoloOW] Epoch 3/20: 100%|██████████| 41/41 [00:32<00:00,  1.26it/s, Loss=1.5800, box=0.096, obj=0.003, cls=0.000, lr=0.000992]\n"
     ]
    },
    {
     "name": "stdout",
     "output_type": "stream",
     "text": [
      "\n",
      "[YoloOW] ✅ Epoch 3/20 complete in 32.85s | Avg Loss: 1.1195\n",
      "\n",
      "[YoloOW] 📊 Running evaluation after epoch 3 ...\n",
      "[eval_yoloow_model] ⚠️ No valid detections found. Evaluation aborted.\n"
     ]
    },
    {
     "name": "stderr",
     "output_type": "stream",
     "text": [
      "[YoloOW] Epoch 4/20: 100%|██████████| 41/41 [00:33<00:00,  1.21it/s, Loss=1.7335, box=0.106, obj=0.003, cls=0.000, lr=0.001000]\n"
     ]
    },
    {
     "name": "stdout",
     "output_type": "stream",
     "text": [
      "\n",
      "[YoloOW] ✅ Epoch 4/20 complete in 34.00s | Avg Loss: 1.2634\n",
      "\n",
      "[YoloOW] 📊 Running evaluation after epoch 4 ...\n",
      "[eval_yoloow_model] ⚠️ No valid detections found. Evaluation aborted.\n"
     ]
    },
    {
     "name": "stderr",
     "output_type": "stream",
     "text": [
      "[YoloOW] Epoch 5/20: 100%|██████████| 41/41 [00:45<00:00,  1.10s/it, Loss=2.0002, box=0.122, obj=0.003, cls=0.000, lr=0.000957]\n"
     ]
    },
    {
     "name": "stdout",
     "output_type": "stream",
     "text": [
      "\n",
      "[YoloOW] ✅ Epoch 5/20 complete in 45.18s | Avg Loss: 1.3562\n",
      "\n",
      "[YoloOW] 📊 Running evaluation after epoch 5 ...\n",
      "[eval_yoloow_model] ⚠️ No valid detections found. Evaluation aborted.\n"
     ]
    },
    {
     "name": "stderr",
     "output_type": "stream",
     "text": [
      "[YoloOW] Epoch 6/20: 100%|██████████| 41/41 [00:56<00:00,  1.38s/it, Loss=587044585734144.0000, box=0.143, obj=36690286608384.000, cls=0.000, lr=0.000903]\n"
     ]
    },
    {
     "name": "stdout",
     "output_type": "stream",
     "text": [
      "\n",
      "[YoloOW] ✅ Epoch 6/20 complete in 56.62s | Avg Loss: 189804530087230.1875\n",
      "\n",
      "[YoloOW] 📊 Running evaluation after epoch 6 ...\n",
      "[eval_yoloow_model] ⚠️ No valid detections found. Evaluation aborted.\n"
     ]
    },
    {
     "name": "stderr",
     "output_type": "stream",
     "text": [
      "[YoloOW] Epoch 7/20: 100%|██████████| 41/41 [00:52<00:00,  1.29s/it, Loss=541886513152.0000, box=0.160, obj=33867907072.000, cls=0.000, lr=0.000840]\n"
     ]
    },
    {
     "name": "stdout",
     "output_type": "stream",
     "text": [
      "\n",
      "[YoloOW] ✅ Epoch 7/20 complete in 53.07s | Avg Loss: 74877723659888.3906\n",
      "\n",
      "[YoloOW] 📊 Running evaluation after epoch 7 ...\n",
      "[eval_yoloow_model] ⚠️ No valid detections found. Evaluation aborted.\n"
     ]
    },
    {
     "name": "stderr",
     "output_type": "stream",
     "text": [
      "[YoloOW] Epoch 8/20: 100%|██████████| 41/41 [00:54<00:00,  1.33s/it, Loss=2.7052, box=0.169, obj=0.000, cls=0.000, lr=0.000769]                           \n"
     ]
    },
    {
     "name": "stdout",
     "output_type": "stream",
     "text": [
      "\n",
      "[YoloOW] ✅ Epoch 8/20 complete in 54.54s | Avg Loss: 34180706104812.2969\n",
      "\n",
      "[YoloOW] 📊 Running evaluation after epoch 8 ...\n",
      "[eval_yoloow_model] ⚠️ No valid detections found. Evaluation aborted.\n"
     ]
    },
    {
     "name": "stderr",
     "output_type": "stream",
     "text": [
      "[YoloOW] Epoch 9/20: 100%|██████████| 41/41 [00:52<00:00,  1.28s/it, Loss=1.7964, box=0.112, obj=0.000, cls=0.000, lr=0.000692]           \n"
     ]
    },
    {
     "name": "stdout",
     "output_type": "stream",
     "text": [
      "\n",
      "[YoloOW] ✅ Epoch 9/20 complete in 52.62s | Avg Loss: 795730426.8886\n",
      "\n",
      "[YoloOW] 📊 Running evaluation after epoch 9 ...\n",
      "[eval_yoloow_model] ⚠️ No valid detections found. Evaluation aborted.\n"
     ]
    },
    {
     "name": "stderr",
     "output_type": "stream",
     "text": [
      "[YoloOW] Epoch 10/20: 100%|██████████| 41/41 [00:53<00:00,  1.30s/it, Loss=2.7217, box=0.170, obj=0.000, cls=0.000, lr=0.000612]               \n"
     ]
    },
    {
     "name": "stdout",
     "output_type": "stream",
     "text": [
      "\n",
      "[YoloOW] ✅ Epoch 10/20 complete in 53.51s | Avg Loss: 56125964.5176\n",
      "\n",
      "[YoloOW] 📊 Running evaluation after epoch 10 ...\n",
      "[eval_yoloow_model] ⚠️ No valid detections found. Evaluation aborted.\n"
     ]
    },
    {
     "name": "stderr",
     "output_type": "stream",
     "text": [
      "[YoloOW] Epoch 11/20: 100%|██████████| 41/41 [00:53<00:00,  1.31s/it, Loss=1.7955, box=0.112, obj=0.000, cls=0.000, lr=0.000529]\n"
     ]
    },
    {
     "name": "stdout",
     "output_type": "stream",
     "text": [
      "\n",
      "[YoloOW] ✅ Epoch 11/20 complete in 53.97s | Avg Loss: 39863710.2691\n",
      "\n",
      "[YoloOW] 📊 Running evaluation after epoch 11 ...\n",
      "[eval_yoloow_model] ⚠️ No valid detections found. Evaluation aborted.\n"
     ]
    },
    {
     "name": "stderr",
     "output_type": "stream",
     "text": [
      "[YoloOW] Epoch 12/20: 100%|██████████| 41/41 [00:49<00:00,  1.22s/it, Loss=1.7884, box=0.112, obj=0.000, cls=0.000, lr=0.000446]               \n"
     ]
    },
    {
     "name": "stdout",
     "output_type": "stream",
     "text": [
      "\n",
      "[YoloOW] ✅ Epoch 12/20 complete in 50.11s | Avg Loss: 70375289.8133\n",
      "\n",
      "[YoloOW] 📊 Running evaluation after epoch 12 ...\n",
      "[eval_yoloow_model] ⚠️ No valid detections found. Evaluation aborted.\n"
     ]
    },
    {
     "name": "stderr",
     "output_type": "stream",
     "text": [
      "[YoloOW] Epoch 13/20: 100%|██████████| 41/41 [00:53<00:00,  1.31s/it, Loss=1.7884, box=0.112, obj=0.000, cls=0.000, lr=0.000365]             \n"
     ]
    },
    {
     "name": "stdout",
     "output_type": "stream",
     "text": [
      "\n",
      "[YoloOW] ✅ Epoch 13/20 complete in 53.83s | Avg Loss: 19572292.5713\n",
      "\n",
      "[YoloOW] 📊 Running evaluation after epoch 13 ...\n",
      "[eval_yoloow_model] ⚠️ No valid detections found. Evaluation aborted.\n"
     ]
    },
    {
     "name": "stderr",
     "output_type": "stream",
     "text": [
      "[YoloOW] Epoch 14/20: 100%|██████████| 41/41 [00:57<00:00,  1.41s/it, Loss=7171709.0000, box=0.169, obj=448231.656, cls=0.000, lr=0.000289]\n"
     ]
    },
    {
     "name": "stdout",
     "output_type": "stream",
     "text": [
      "\n",
      "[YoloOW] ✅ Epoch 14/20 complete in 57.93s | Avg Loss: 5345057.8064\n",
      "\n",
      "[YoloOW] 📊 Running evaluation after epoch 14 ...\n",
      "[eval_yoloow_model] ⚠️ No valid detections found. Evaluation aborted.\n"
     ]
    },
    {
     "name": "stderr",
     "output_type": "stream",
     "text": [
      "[YoloOW] Epoch 15/20: 100%|██████████| 41/41 [00:48<00:00,  1.18s/it, Loss=1.9389, box=0.121, obj=0.000, cls=0.000, lr=0.000218]           \n"
     ]
    },
    {
     "name": "stdout",
     "output_type": "stream",
     "text": [
      "\n",
      "[YoloOW] ✅ Epoch 15/20 complete in 48.51s | Avg Loss: 1238729.5741\n",
      "\n",
      "[YoloOW] 📊 Running evaluation after epoch 15 ...\n",
      "[eval_yoloow_model] ⚠️ No valid detections found. Evaluation aborted.\n"
     ]
    },
    {
     "name": "stderr",
     "output_type": "stream",
     "text": [
      "[YoloOW] Epoch 16/20: 100%|██████████| 41/41 [00:57<00:00,  1.40s/it, Loss=0.8303, box=0.052, obj=0.000, cls=0.000, lr=0.000155]            \n"
     ]
    },
    {
     "name": "stdout",
     "output_type": "stream",
     "text": [
      "\n",
      "[YoloOW] ✅ Epoch 16/20 complete in 57.57s | Avg Loss: 888358.6897\n",
      "\n",
      "[YoloOW] 📊 Running evaluation after epoch 16 ...\n",
      "[eval_yoloow_model] ⚠️ No valid detections found. Evaluation aborted.\n"
     ]
    },
    {
     "name": "stderr",
     "output_type": "stream",
     "text": [
      "[YoloOW] Epoch 17/20: 100%|██████████| 41/41 [00:54<00:00,  1.33s/it, Loss=0.8321, box=0.052, obj=0.000, cls=0.000, lr=0.000101]\n"
     ]
    },
    {
     "name": "stdout",
     "output_type": "stream",
     "text": [
      "\n",
      "[YoloOW] ✅ Epoch 17/20 complete in 54.60s | Avg Loss: 380645.7296\n",
      "\n",
      "[YoloOW] 📊 Running evaluation after epoch 17 ...\n",
      "[eval_yoloow_model] ⚠️ No valid detections found. Evaluation aborted.\n"
     ]
    },
    {
     "name": "stderr",
     "output_type": "stream",
     "text": [
      "[YoloOW] Epoch 18/20: 100%|██████████| 41/41 [00:55<00:00,  1.35s/it, Loss=2.7331, box=0.171, obj=0.000, cls=0.000, lr=0.000058]         \n"
     ]
    },
    {
     "name": "stdout",
     "output_type": "stream",
     "text": [
      "\n",
      "[YoloOW] ✅ Epoch 18/20 complete in 55.45s | Avg Loss: 278572.7838\n",
      "\n",
      "[YoloOW] 📊 Running evaluation after epoch 18 ...\n",
      "[eval_yoloow_model] ⚠️ No valid detections found. Evaluation aborted.\n"
     ]
    },
    {
     "name": "stderr",
     "output_type": "stream",
     "text": [
      "[YoloOW] Epoch 19/20: 100%|██████████| 41/41 [00:50<00:00,  1.23s/it, Loss=849919.8750, box=0.171, obj=53119.820, cls=0.000, lr=0.000026]\n"
     ]
    },
    {
     "name": "stdout",
     "output_type": "stream",
     "text": [
      "\n",
      "[YoloOW] ✅ Epoch 19/20 complete in 50.70s | Avg Loss: 222293.1923\n",
      "\n",
      "[YoloOW] 📊 Running evaluation after epoch 19 ...\n",
      "[eval_yoloow_model] ⚠️ No valid detections found. Evaluation aborted.\n"
     ]
    },
    {
     "name": "stderr",
     "output_type": "stream",
     "text": [
      "[YoloOW] Epoch 20/20: 100%|██████████| 41/41 [00:49<00:00,  1.20s/it, Loss=2.8391, box=0.177, obj=0.000, cls=0.000, lr=0.000007]\n"
     ]
    },
    {
     "name": "stdout",
     "output_type": "stream",
     "text": [
      "\n",
      "[YoloOW] ✅ Epoch 20/20 complete in 49.42s | Avg Loss: 202150.7208\n",
      "\n",
      "[YoloOW] 📊 Running evaluation after epoch 20 ...\n",
      "[eval_yoloow_model] ⚠️ No valid detections found. Evaluation aborted.\n",
      "[eval_yoloow_model] ⚠️ No valid detections found. Evaluation aborted.\n"
     ]
    },
    {
     "ename": "AttributeError",
     "evalue": "'NoneType' object has no attribute 'box'",
     "output_type": "error",
     "traceback": [
      "\u001b[1;31m---------------------------------------------------------------------------\u001b[0m",
      "\u001b[1;31mAttributeError\u001b[0m                            Traceback (most recent call last)",
      "Cell \u001b[1;32mIn[4], line 48\u001b[0m\n\u001b[0;32m     45\u001b[0m ex_dict \u001b[38;5;241m=\u001b[39m eval_fn(ex_dict)\n\u001b[0;32m     47\u001b[0m ex_dict[\u001b[38;5;124m'\u001b[39m\u001b[38;5;124mTrain-Test Time\u001b[39m\u001b[38;5;124m'\u001b[39m] \u001b[38;5;241m=\u001b[39m timeit\u001b[38;5;241m.\u001b[39mdefault_timer() \u001b[38;5;241m-\u001b[39m start\n\u001b[1;32m---> 48\u001b[0m eval_dict \u001b[38;5;241m=\u001b[39m \u001b[43mformat_measures\u001b[49m\u001b[43m(\u001b[49m\u001b[43mex_dict\u001b[49m\u001b[38;5;241;43m.\u001b[39;49m\u001b[43mget\u001b[49m\u001b[43m(\u001b[49m\u001b[38;5;124;43m'\u001b[39;49m\u001b[38;5;124;43mTest Results\u001b[39;49m\u001b[38;5;124;43m'\u001b[39;49m\u001b[43m)\u001b[49m\u001b[43m)\u001b[49m\n\u001b[0;32m     49\u001b[0m output_csv \u001b[38;5;241m=\u001b[39m \u001b[38;5;124mf\u001b[39m\u001b[38;5;124m\"\u001b[39m\u001b[38;5;132;01m{\u001b[39;00mex_dict[\u001b[38;5;124m'\u001b[39m\u001b[38;5;124mExperiment Time\u001b[39m\u001b[38;5;124m'\u001b[39m]\u001b[38;5;132;01m}\u001b[39;00m\u001b[38;5;124m_\u001b[39m\u001b[38;5;132;01m{\u001b[39;00mproject_name\u001b[38;5;132;01m}\u001b[39;00m\u001b[38;5;124m_Results.csv\u001b[39m\u001b[38;5;124m\"\u001b[39m\n\u001b[0;32m     50\u001b[0m merge_and_update_df(ex_dict, eval_dict, output_csv, exclude_columns\u001b[38;5;241m=\u001b[39m[\u001b[38;5;124m'\u001b[39m\u001b[38;5;124mModel\u001b[39m\u001b[38;5;124m'\u001b[39m, \u001b[38;5;124m'\u001b[39m\u001b[38;5;124mTrain Results\u001b[39m\u001b[38;5;124m'\u001b[39m, \u001b[38;5;124m'\u001b[39m\u001b[38;5;124mTest Results\u001b[39m\u001b[38;5;124m'\u001b[39m])\n",
      "File \u001b[1;32mc:\\Users\\user\\Desktop\\Aerial Object Detection\\AERIAL_OBJECT_DETECTION\\utility\\utils.py:122\u001b[0m, in \u001b[0;36mformat_measures\u001b[1;34m(results, main_decimals, class_decimals, speed_decimals)\u001b[0m\n\u001b[0;32m    120\u001b[0m \u001b[38;5;28;01mdef\u001b[39;00m\u001b[38;5;250m \u001b[39m\u001b[38;5;21mformat_measures\u001b[39m(results, main_decimals\u001b[38;5;241m=\u001b[39m\u001b[38;5;241m4\u001b[39m, class_decimals\u001b[38;5;241m=\u001b[39m\u001b[38;5;241m3\u001b[39m, speed_decimals\u001b[38;5;241m=\u001b[39m\u001b[38;5;241m1\u001b[39m):\n\u001b[0;32m    121\u001b[0m     eval_dict \u001b[38;5;241m=\u001b[39m {\n\u001b[1;32m--> 122\u001b[0m         \u001b[38;5;124m'\u001b[39m\u001b[38;5;124mmAP@0.5\u001b[39m\u001b[38;5;124m'\u001b[39m: \u001b[38;5;28mround\u001b[39m(\u001b[43mresults\u001b[49m\u001b[38;5;241;43m.\u001b[39;49m\u001b[43mbox\u001b[49m\u001b[38;5;241m.\u001b[39mmap50, main_decimals),  \n\u001b[0;32m    123\u001b[0m         \u001b[38;5;124m'\u001b[39m\u001b[38;5;124mmAP@0.5:0.95\u001b[39m\u001b[38;5;124m'\u001b[39m: \u001b[38;5;28mround\u001b[39m(results\u001b[38;5;241m.\u001b[39mbox\u001b[38;5;241m.\u001b[39mmap, main_decimals),  \n\u001b[0;32m    124\u001b[0m         \u001b[38;5;124m'\u001b[39m\u001b[38;5;124mMean Precision\u001b[39m\u001b[38;5;124m'\u001b[39m: \u001b[38;5;28mround\u001b[39m(results\u001b[38;5;241m.\u001b[39mbox\u001b[38;5;241m.\u001b[39mmp, main_decimals),  \n\u001b[0;32m    125\u001b[0m         \u001b[38;5;124m'\u001b[39m\u001b[38;5;124mMean Recall\u001b[39m\u001b[38;5;124m'\u001b[39m: \u001b[38;5;28mround\u001b[39m(results\u001b[38;5;241m.\u001b[39mbox\u001b[38;5;241m.\u001b[39mmr, main_decimals),  \n\u001b[0;32m    126\u001b[0m         \u001b[38;5;124m'\u001b[39m\u001b[38;5;124mmAP@0.75\u001b[39m\u001b[38;5;124m'\u001b[39m: \u001b[38;5;28mround\u001b[39m(results\u001b[38;5;241m.\u001b[39mbox\u001b[38;5;241m.\u001b[39mmap75, main_decimals),  \n\u001b[0;32m    127\u001b[0m     }\n\u001b[0;32m    129\u001b[0m     \u001b[38;5;28;01mif\u001b[39;00m \u001b[38;5;28mhasattr\u001b[39m(results\u001b[38;5;241m.\u001b[39mbox, \u001b[38;5;124m'\u001b[39m\u001b[38;5;124map_class_index\u001b[39m\u001b[38;5;124m'\u001b[39m) \u001b[38;5;129;01mand\u001b[39;00m results\u001b[38;5;241m.\u001b[39mbox\u001b[38;5;241m.\u001b[39map_class_index \u001b[38;5;129;01mis\u001b[39;00m \u001b[38;5;129;01mnot\u001b[39;00m \u001b[38;5;28;01mNone\u001b[39;00m:\n\u001b[0;32m    130\u001b[0m         \u001b[38;5;28;01mfor\u001b[39;00m i, class_idx \u001b[38;5;129;01min\u001b[39;00m \u001b[38;5;28menumerate\u001b[39m(results\u001b[38;5;241m.\u001b[39mbox\u001b[38;5;241m.\u001b[39map_class_index):\n",
      "\u001b[1;31mAttributeError\u001b[0m: 'NoneType' object has no attribute 'box'"
     ]
    }
   ],
   "source": [
    "from utility.utils import control_random_seed, update_dataset_paths, format_measures, merge_and_update_df\n",
    "\n",
    "\n",
    "Experiments_Time = datetime.now().strftime(\"%y%m%d_%H%M%S\")\n",
    "print('Experiment Start Time:',Experiments_Time)\n",
    "\n",
    "ex_dict = {}\n",
    "ex_dict['Experiment Time'] = Experiments_Time;ex_dict['Epochs'] = epochs;\n",
    "ex_dict['Batch Size'] = batch_size;\n",
    "ex_dict['Early Stop'] = early_stop;\n",
    "ex_dict['Device'] = device\n",
    "ex_dict['Optimizer'] = optimizer;\n",
    "ex_dict['LR']=optim_args['lr']; ex_dict['Weight Decay']=optim_args['weight_decay'];ex_dict['Momentum']=optim_args['momentum'];\n",
    "#ex_dict['Hyp'] = dict(lr0=ex_dict['LR'], momentum=ex_dict['Momentum'], weight_decay=ex_dict['Weight Decay'])\n",
    "ex_dict['Image Size'] = image_size\n",
    "ex_dict['Output Dir'] = output_dir\n",
    "ex_dict['Num Workers'] = num_workers\n",
    "\n",
    "for iteration in range(iterations[0], iterations[1]+1):\n",
    "    print(f'(Iter {iteration})')\n",
    "    seed = iteration\n",
    "    ex_dict['Iteration'] = iteration\n",
    "    for j, Dataset_Name in enumerate(dataset_names):\n",
    "        print(f'Dataset: {Dataset_Name} ({j+1}/{len(dataset_names)})');\n",
    "        control_random_seed(seed)\n",
    "        data_yaml_path = f\"{dataset_root}/{Dataset_Name}/data_iter_{iteration:02d}.yaml\"\n",
    "        with open(data_yaml_path, 'r') as f:\n",
    "            data_config = yaml.load(f, Loader=yaml.FullLoader)\n",
    "        ex_dict['Dataset Name'] = Dataset_Name; ex_dict['Data Config'] = data_yaml_path; ex_dict['Number of Classes'] = data_config['nc']; ex_dict['Class Names'] = data_config['names'];\n",
    "        ex_dict['Split Size'] = f\"{data_config['train_count']}/{data_config['val_count']}/{data_config['test_count']}\"\n",
    "        update_dataset_paths(dataset_root, Dataset_Name, iteration)\n",
    "        \n",
    "        for k, model_name in enumerate(model_names):\n",
    "            print(f'{model_name} ({k+1}/{len(model_names)}) (Iter {iteration})', end=' ')\n",
    "            print(f'Dataset: {Dataset_Name} ({j+1}/{len(dataset_names)})', end=' ')\n",
    "            control_random_seed(seed)\n",
    "            \n",
    "            model = get_model(model_name, ex_dict)\n",
    "            train_fn, eval_fn = get_pipeline(model_name)\n",
    "\n",
    "            ex_dict['Model Name'] = model_name; ex_dict['Model']=model;\n",
    "            start = timeit.default_timer()\n",
    "\n",
    "            ex_dict = train_fn(ex_dict)\n",
    "            ex_dict = eval_fn(ex_dict)\n",
    "\n",
    "            ex_dict['Train-Test Time'] = timeit.default_timer() - start\n",
    "            #################\n",
    "            if ex_dict.get('Test Results') is None:\n",
    "                raise RuntimeError(\"평가 결과가 없습니다. 위의 체크리스트를 참고해 원인부터 해결하세요.\")\n",
    "\n",
    "            eval_dict = format_measures(ex_dict.get('Test Results'))\n",
    "            output_csv = f\"{ex_dict['Experiment Time']}_{project_name}_Results.csv\"\n",
    "            merge_and_update_df(ex_dict, eval_dict, output_csv, exclude_columns=['Model', 'Train Results', 'Test Results'])"
   ]
  },
  {
   "cell_type": "code",
   "execution_count": null,
   "id": "c3a0aa77",
   "metadata": {},
   "outputs": [
    {
     "name": "stdout",
     "output_type": "stream",
     "text": [
      "CUDA 사용 가능 여부: True\n",
      "CUDA 디바이스 수: 1\n",
      "현재 사용 디바이스: 0\n",
      "디바이스 이름: NVIDIA GeForce RTX 5060 Ti\n",
      "PyTorch CUDA 버전: 12.8\n",
      "PyTorch 버전: 2.8.0.dev20250420+cu128\n"
     ]
    }
   ],
   "source": [
    "import torch\n",
    "\n",
    "print(f\"CUDA 사용 가능 여부: {torch.cuda.is_available()}\")\n",
    "print(f\"CUDA 디바이스 수: {torch.cuda.device_count()}\")\n",
    "print(f\"현재 사용 디바이스: {torch.cuda.current_device()}\")\n",
    "print(f\"디바이스 이름: {torch.cuda.get_device_name(0)}\")\n",
    "print(f\"PyTorch CUDA 버전: {torch.version.cuda}\")\n",
    "print(f\"PyTorch 버전: {torch.__version__}\")\n"
   ]
  },
  {
   "cell_type": "code",
   "execution_count": null,
   "id": "3128ef8a-7dd8-4329-a92d-4e73283bfac4",
   "metadata": {
    "colab": {
     "base_uri": "https://localhost:8080/"
    },
    "executionInfo": {
     "elapsed": 187,
     "status": "ok",
     "timestamp": 1744690106616,
     "user": {
      "displayName": "천재원",
      "userId": "10314458299258158887"
     },
     "user_tz": -540
    },
    "id": "3128ef8a-7dd8-4329-a92d-4e73283bfac4",
    "outputId": "e9d646f5-312a-4f0e-885c-af9229b5ed87"
   },
   "outputs": [
    {
     "name": "stdout",
     "output_type": "stream",
     "text": [
      "cat: /root/.config/Ultralytics/settings.json: No such file or directory\n"
     ]
    }
   ],
   "source": []
  }
 ],
 "metadata": {
  "colab": {
   "provenance": []
  },
  "kernelspec": {
   "display_name": "AerialObjectDetection",
   "language": "python",
   "name": "python3"
  },
  "language_info": {
   "codemirror_mode": {
    "name": "ipython",
    "version": 3
   },
   "file_extension": ".py",
   "mimetype": "text/x-python",
   "name": "python",
   "nbconvert_exporter": "python",
   "pygments_lexer": "ipython3",
   "version": "3.10.16"
  }
 },
 "nbformat": 4,
 "nbformat_minor": 5
}
