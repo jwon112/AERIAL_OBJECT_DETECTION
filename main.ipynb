{
 "cells": [
  {
   "cell_type": "code",
   "execution_count": 1,
   "id": "I5GOpRY8iceH",
   "metadata": {
    "colab": {
     "base_uri": "https://localhost:8080/"
    },
    "executionInfo": {
     "elapsed": 121074,
     "status": "ok",
     "timestamp": 1744696153033,
     "user": {
      "displayName": "천재원",
      "userId": "10314458299258158887"
     },
     "user_tz": -540
    },
    "id": "I5GOpRY8iceH",
    "outputId": "59ea41f2-0a57-4455-c4ae-89b38873f9fb"
   },
   "outputs": [],
   "source": [
    "#!pip install -r requirements.txt"
   ]
  },
  {
   "cell_type": "code",
   "execution_count": 2,
   "id": "6dd08f52",
   "metadata": {
    "colab": {
     "base_uri": "https://localhost:8080/"
    },
    "execution": {
     "iopub.execute_input": "2025-04-11T09:04:12.198519Z",
     "iopub.status.busy": "2025-04-11T09:04:12.198421Z",
     "iopub.status.idle": "2025-04-11T09:04:15.339455Z",
     "shell.execute_reply": "2025-04-11T09:04:15.339113Z",
     "shell.execute_reply.started": "2025-04-11T09:04:12.198511Z"
    },
    "executionInfo": {
     "elapsed": 13561,
     "status": "ok",
     "timestamp": 1744696166669,
     "user": {
      "displayName": "천재원",
      "userId": "10314458299258158887"
     },
     "user_tz": -540
    },
    "id": "6dd08f52",
    "outputId": "9861d3a5-ad07-48e8-a7a5-716d079f073f"
   },
   "outputs": [
    {
     "name": "stderr",
     "output_type": "stream",
     "text": [
      "Install mish-cuda to speed up training and inference. More importantly, replace the naive Mish with MishCuda will give a ~1.5G memory saving during training.\n",
      "c:\\Users\\user\\anaconda3\\envs\\AerialObjectDetection\\lib\\site-packages\\timm\\models\\layers\\__init__.py:48: FutureWarning: Importing from timm.models.layers is deprecated, please import via timm.layers\n",
      "  warnings.warn(f\"Importing from {__name__} is deprecated, please import via timm.layers\", FutureWarning)\n",
      "c:\\Users\\user\\anaconda3\\envs\\AerialObjectDetection\\lib\\site-packages\\timm\\models\\registry.py:4: FutureWarning: Importing from timm.models.registry is deprecated, please import via timm.models\n",
      "  warnings.warn(f\"Importing from {__name__} is deprecated, please import via timm.models\", FutureWarning)\n",
      "C:\\Users\\user\\Desktop\\Aerial Object Detection\\AERIAL_OBJECT_DETECTION\\Models\\YOLOH\\models\\backbone\\convnext.py:204: UserWarning: Overwriting convnext_tiny in registry with models.backbone.convnext.convnext_tiny. This is because the name being registered conflicts with an existing name. Please check if this is not expected.\n",
      "  def convnext_tiny(pretrained=False, res_dilation=False, **kwargs):\n",
      "C:\\Users\\user\\Desktop\\Aerial Object Detection\\AERIAL_OBJECT_DETECTION\\Models\\YOLOH\\models\\backbone\\convnext.py:211: UserWarning: Overwriting convnext_small in registry with models.backbone.convnext.convnext_small. This is because the name being registered conflicts with an existing name. Please check if this is not expected.\n",
      "  def convnext_small(pretrained=False, res_dilation=False, **kwargs):\n",
      "C:\\Users\\user\\Desktop\\Aerial Object Detection\\AERIAL_OBJECT_DETECTION\\Models\\YOLOH\\models\\backbone\\convnext.py:218: UserWarning: Overwriting convnext_base in registry with models.backbone.convnext.convnext_base. This is because the name being registered conflicts with an existing name. Please check if this is not expected.\n",
      "  def convnext_base(pretrained=False, res_dilation=False, in_22k=False, **kwargs):\n",
      "C:\\Users\\user\\Desktop\\Aerial Object Detection\\AERIAL_OBJECT_DETECTION\\Models\\YOLOH\\models\\backbone\\convnext.py:228: UserWarning: Overwriting convnext_large in registry with models.backbone.convnext.convnext_large. This is because the name being registered conflicts with an existing name. Please check if this is not expected.\n",
      "  def convnext_large(pretrained=False, res_dilation=False, in_22k=False, **kwargs):\n",
      "C:\\Users\\user\\Desktop\\Aerial Object Detection\\AERIAL_OBJECT_DETECTION\\Models\\YOLOH\\models\\backbone\\convnext.py:238: UserWarning: Overwriting convnext_xlarge in registry with models.backbone.convnext.convnext_xlarge. This is because the name being registered conflicts with an existing name. Please check if this is not expected.\n",
      "  def convnext_xlarge(pretrained=False, res_dilation=False, in_22k=False, **kwargs):\n"
     ]
    }
   ],
   "source": [
    "import yaml\n",
    "import timeit\n",
    "import numpy as np\n",
    "import pandas as pd\n",
    "import torch\n",
    "from datetime import datetime\n",
    "from utility import *\n",
    "from ultralytics import settings\n",
    "from registry import get_model, get_pipeline\n",
    "import os\n",
    "settings.update({'datasets_dir': os.path.abspath('.')})\n"
   ]
  },
  {
   "cell_type": "code",
   "execution_count": 3,
   "id": "3c883b28-7e26-40bb-9d4f-b8a384ed40d8",
   "metadata": {
    "execution": {
     "iopub.execute_input": "2025-04-11T09:04:15.339909Z",
     "iopub.status.busy": "2025-04-11T09:04:15.339783Z",
     "iopub.status.idle": "2025-04-11T09:04:15.342378Z",
     "shell.execute_reply": "2025-04-11T09:04:15.342181Z",
     "shell.execute_reply.started": "2025-04-11T09:04:15.339901Z"
    },
    "executionInfo": {
     "elapsed": 4,
     "status": "ok",
     "timestamp": 1744696166729,
     "user": {
      "displayName": "천재원",
      "userId": "10314458299258158887"
     },
     "user_tz": -540
    },
    "id": "3c883b28-7e26-40bb-9d4f-b8a384ed40d8"
   },
   "outputs": [],
   "source": [
    "project_name = 'Object Detection'\n",
    "# dataset_root 가 상대경로일 경우 colab 환경에서는 무조건 앞에 datasets 를 붙여서 찾는 문제가 있음\n",
    "dataset_root = 'Datasets'\n",
    "output_dir = 'output'\n",
    "dataset_names = ['NWPU_VHR10_YOLO', 'COCO_airplane',]\n",
    "model_names = ['yolov8n','YoloOW_CLI']\n",
    "iterations = [1,2]\n",
    "epochs = 30\n",
    "early_stop = 20\n",
    "batch_size = 16\n",
    "image_size = 640\n",
    "optimizer = 'AdamW'\n",
    "lr = 0.001 \n",
    "momentum = 0.9\n",
    "weight_decay = 1e-4\n",
    "optim_args = {'optimizer': optimizer, 'lr': lr, 'momentum': momentum, 'weight_decay': weight_decay}\n",
    "devices = [0]\n",
    "device = torch.device(\"cuda:\"+str(devices[0])) if len(devices)>0 else torch.device(\"cpu\")\n",
    "train_split = 0.6\n",
    "val_split = 0.2\n",
    "test_split = 0.2\n",
    "num_workers = 0"
   ]
  },
  {
   "cell_type": "code",
   "execution_count": 4,
   "id": "3564f553-e7b4-45cd-9171-465418f355ae",
   "metadata": {
    "colab": {
     "base_uri": "https://localhost:8080/"
    },
    "execution": {
     "iopub.execute_input": "2025-04-11T09:04:15.342815Z",
     "iopub.status.busy": "2025-04-11T09:04:15.342678Z",
     "iopub.status.idle": "2025-04-11T09:04:20.532205Z",
     "shell.execute_reply": "2025-04-11T09:04:20.531371Z",
     "shell.execute_reply.started": "2025-04-11T09:04:15.342803Z"
    },
    "executionInfo": {
     "elapsed": 5894784,
     "status": "ok",
     "timestamp": 1744702065603,
     "user": {
      "displayName": "천재원",
      "userId": "10314458299258158887"
     },
     "user_tz": -540
    },
    "id": "3564f553-e7b4-45cd-9171-465418f355ae",
    "outputId": "24fde293-4a80-49a9-ed27-3892b0e3e555",
    "scrolled": true
   },
   "outputs": [
    {
     "name": "stdout",
     "output_type": "stream",
     "text": [
      "Experiment Start Time: 250527_170914\n",
      "(Iter 1)\n",
      "Dataset: NWPU_VHR10_YOLO (1/2)\n",
      "yolov8n (1/3) (Iter 1) Dataset: NWPU_VHR10_YOLO (1/2) WARNING  no model scale passed. Assuming scale='n'.\n",
      "New https://pypi.org/project/ultralytics/8.3.145 available  Update with 'pip install -U ultralytics'\n",
      "\u001b[34m\u001b[1mengine\\trainer: \u001b[0mtask=detect, mode=train, model=Models/ultralytics/ultralytics/cfg/models/v8/yolov8.yaml, data=Datasets/NWPU_VHR10_YOLO/data_iter_01.yaml, epochs=30, time=None, patience=100, batch=16, imgsz=640, save=True, save_period=-1, cache=False, device=cuda:0, workers=8, project=output, name=250527_170914_yolov8n_NWPU_VHR10_YOLO_iteration1, exist_ok=False, pretrained=True, optimizer=auto, verbose=True, seed=0, deterministic=True, single_cls=False, rect=False, cos_lr=False, close_mosaic=10, resume=False, amp=True, fraction=1.0, profile=False, freeze=None, multi_scale=False, overlap_mask=True, mask_ratio=4, dropout=0.0, val=True, split=val, save_json=False, save_hybrid=False, conf=None, iou=0.7, max_det=300, half=False, dnn=False, plots=True, source=None, vid_stride=1, stream_buffer=False, visualize=False, augment=False, agnostic_nms=False, classes=None, retina_masks=False, embed=None, show=False, save_frames=False, save_txt=False, save_conf=False, save_crop=False, show_labels=True, show_conf=True, show_boxes=True, line_width=None, format=torchscript, keras=False, optimize=False, int8=False, dynamic=False, simplify=True, opset=None, workspace=None, nms=False, lr0=0.01, lrf=0.01, momentum=0.937, weight_decay=0.0005, warmup_epochs=3.0, warmup_momentum=0.8, warmup_bias_lr=0.1, box=7.5, cls=0.5, dfl=1.5, pose=12.0, kobj=1.0, nbs=64, hsv_h=0.015, hsv_s=0.7, hsv_v=0.4, degrees=0.0, translate=0.1, scale=0.5, shear=0.0, perspective=0.0, flipud=0.0, fliplr=0.5, bgr=0.0, mosaic=1.0, mixup=0.0, copy_paste=0.0, copy_paste_mode=flip, auto_augment=randaugment, erasing=0.4, crop_fraction=1.0, cfg=None, tracker=botsort.yaml, save_dir=output\\250527_170914_yolov8n_NWPU_VHR10_YOLO_iteration1\n",
      "Overriding model.yaml nc=80 with nc=10\n",
      "WARNING  no model scale passed. Assuming scale='n'.\n",
      "\n",
      "                   from  n    params  module                                       arguments                     \n",
      "  0                  -1  1       464  ultralytics.nn.modules.conv.Conv             [3, 16, 3, 2]                 \n",
      "  1                  -1  1      4672  ultralytics.nn.modules.conv.Conv             [16, 32, 3, 2]                \n",
      "  2                  -1  1      7360  ultralytics.nn.modules.block.C2f             [32, 32, 1, True]             \n",
      "  3                  -1  1     18560  ultralytics.nn.modules.conv.Conv             [32, 64, 3, 2]                \n",
      "  4                  -1  2     49664  ultralytics.nn.modules.block.C2f             [64, 64, 2, True]             \n",
      "  5                  -1  1     73984  ultralytics.nn.modules.conv.Conv             [64, 128, 3, 2]               \n",
      "  6                  -1  2    197632  ultralytics.nn.modules.block.C2f             [128, 128, 2, True]           \n",
      "  7                  -1  1    295424  ultralytics.nn.modules.conv.Conv             [128, 256, 3, 2]              \n",
      "  8                  -1  1    460288  ultralytics.nn.modules.block.C2f             [256, 256, 1, True]           \n",
      "  9                  -1  1    164608  ultralytics.nn.modules.block.SPPF            [256, 256, 5]                 \n",
      " 10                  -1  1         0  torch.nn.modules.upsampling.Upsample         [None, 2, 'nearest']          \n",
      " 11             [-1, 6]  1         0  ultralytics.nn.modules.conv.Concat           [1]                           \n",
      " 12                  -1  1    148224  ultralytics.nn.modules.block.C2f             [384, 128, 1]                 \n",
      " 13                  -1  1         0  torch.nn.modules.upsampling.Upsample         [None, 2, 'nearest']          \n",
      " 14             [-1, 4]  1         0  ultralytics.nn.modules.conv.Concat           [1]                           \n",
      " 15                  -1  1     37248  ultralytics.nn.modules.block.C2f             [192, 64, 1]                  \n",
      " 16                  -1  1     36992  ultralytics.nn.modules.conv.Conv             [64, 64, 3, 2]                \n",
      " 17            [-1, 12]  1         0  ultralytics.nn.modules.conv.Concat           [1]                           \n",
      " 18                  -1  1    123648  ultralytics.nn.modules.block.C2f             [192, 128, 1]                 \n",
      " 19                  -1  1    147712  ultralytics.nn.modules.conv.Conv             [128, 128, 3, 2]              \n",
      " 20             [-1, 9]  1         0  ultralytics.nn.modules.conv.Concat           [1]                           \n",
      " 21                  -1  1    493056  ultralytics.nn.modules.block.C2f             [384, 256, 1]                 \n",
      " 22        [15, 18, 21]  1    753262  ultralytics.nn.modules.head.Detect           [10, [64, 128, 256]]          \n",
      "YOLOv8 summary: 129 layers, 3,012,798 parameters, 3,012,782 gradients, 8.2 GFLOPs\n",
      "\n",
      "Freezing layer 'model.22.dfl.conv.weight'\n",
      "\u001b[34m\u001b[1mAMP: \u001b[0mrunning Automatic Mixed Precision (AMP) checks...\n",
      "\u001b[34m\u001b[1mAMP: \u001b[0mchecks passed \n"
     ]
    },
    {
     "name": "stderr",
     "output_type": "stream",
     "text": [
      "\u001b[34m\u001b[1mtrain: \u001b[0mScanning Datasets\\NWPU_VHR10_YOLO\\labels... 390 images, 0 backgrounds, 0 corrupt: 100%|██████████| 390/390 [00:00<00:00, 1360.71it/s]"
     ]
    },
    {
     "name": "stdout",
     "output_type": "stream",
     "text": [
      "\u001b[34m\u001b[1mtrain: \u001b[0mNew cache created: Datasets\\NWPU_VHR10_YOLO\\labels.cache\n"
     ]
    },
    {
     "name": "stderr",
     "output_type": "stream",
     "text": [
      "\n",
      "\u001b[34m\u001b[1mval: \u001b[0mScanning Datasets\\NWPU_VHR10_YOLO\\labels... 130 images, 0 backgrounds, 0 corrupt: 100%|██████████| 130/130 [00:00<00:00, 1206.94it/s]"
     ]
    },
    {
     "name": "stdout",
     "output_type": "stream",
     "text": [
      "\u001b[34m\u001b[1mval: \u001b[0mNew cache created: Datasets\\NWPU_VHR10_YOLO\\labels.cache\n"
     ]
    },
    {
     "name": "stderr",
     "output_type": "stream",
     "text": [
      "\n"
     ]
    },
    {
     "name": "stdout",
     "output_type": "stream",
     "text": [
      "Plotting labels to output\\250527_170914_yolov8n_NWPU_VHR10_YOLO_iteration1\\labels.jpg... \n",
      "\u001b[34m\u001b[1moptimizer:\u001b[0m 'optimizer=auto' found, ignoring 'lr0=0.01' and 'momentum=0.937' and determining best 'optimizer', 'lr0' and 'momentum' automatically... \n",
      "\u001b[34m\u001b[1moptimizer:\u001b[0m AdamW(lr=0.000714, momentum=0.9) with parameter groups 57 weight(decay=0.0), 64 weight(decay=0.0005), 63 bias(decay=0.0)\n",
      "Image sizes 640 train, 640 val\n",
      "Using 8 dataloader workers\n",
      "Logging results to \u001b[1moutput\\250527_170914_yolov8n_NWPU_VHR10_YOLO_iteration1\u001b[0m\n",
      "Starting training for 30 epochs...\n",
      "\n",
      "      Epoch    GPU_mem   box_loss   cls_loss   dfl_loss  Instances       Size\n"
     ]
    },
    {
     "name": "stderr",
     "output_type": "stream",
     "text": [
      "       1/30      2.22G      4.528      5.431      4.278         67        640: 100%|██████████| 25/25 [00:07<00:00,  3.48it/s]\n",
      "                 Class     Images  Instances      Box(P          R      mAP50  mAP50-95): 100%|██████████| 5/5 [00:08<00:00,  1.71s/it]"
     ]
    },
    {
     "name": "stdout",
     "output_type": "stream",
     "text": [
      "                   all        130        736          0          0          0          0\n"
     ]
    },
    {
     "name": "stderr",
     "output_type": "stream",
     "text": [
      "\n"
     ]
    },
    {
     "name": "stdout",
     "output_type": "stream",
     "text": [
      "\n",
      "      Epoch    GPU_mem   box_loss   cls_loss   dfl_loss  Instances       Size\n"
     ]
    },
    {
     "name": "stderr",
     "output_type": "stream",
     "text": [
      "       2/30      2.56G      4.343       5.17      4.145         68        640: 100%|██████████| 25/25 [00:04<00:00,  6.12it/s]\n",
      "                 Class     Images  Instances      Box(P          R      mAP50  mAP50-95): 100%|██████████| 5/5 [00:00<00:00,  5.08it/s]"
     ]
    },
    {
     "name": "stdout",
     "output_type": "stream",
     "text": [
      "                   all        130        736          0          0          0          0\n"
     ]
    },
    {
     "name": "stderr",
     "output_type": "stream",
     "text": [
      "\n"
     ]
    },
    {
     "name": "stdout",
     "output_type": "stream",
     "text": [
      "\n",
      "      Epoch    GPU_mem   box_loss   cls_loss   dfl_loss  Instances       Size\n"
     ]
    },
    {
     "name": "stderr",
     "output_type": "stream",
     "text": [
      "       3/30      2.59G      3.927      4.839      3.943         46        640: 100%|██████████| 25/25 [00:03<00:00,  6.33it/s]\n",
      "                 Class     Images  Instances      Box(P          R      mAP50  mAP50-95): 100%|██████████| 5/5 [00:00<00:00,  6.89it/s]"
     ]
    },
    {
     "name": "stdout",
     "output_type": "stream",
     "text": [
      "                   all        130        736          0          0          0          0\n"
     ]
    },
    {
     "name": "stderr",
     "output_type": "stream",
     "text": [
      "\n"
     ]
    },
    {
     "name": "stdout",
     "output_type": "stream",
     "text": [
      "\n",
      "      Epoch    GPU_mem   box_loss   cls_loss   dfl_loss  Instances       Size\n"
     ]
    },
    {
     "name": "stderr",
     "output_type": "stream",
     "text": [
      "       4/30      2.59G       3.61      4.497      3.593         92        640: 100%|██████████| 25/25 [00:03<00:00,  7.96it/s]\n",
      "                 Class     Images  Instances      Box(P          R      mAP50  mAP50-95): 100%|██████████| 5/5 [00:00<00:00,  6.72it/s]"
     ]
    },
    {
     "name": "stdout",
     "output_type": "stream",
     "text": [
      "                   all        130        736   0.000129     0.0789   0.000273   9.77e-05\n"
     ]
    },
    {
     "name": "stderr",
     "output_type": "stream",
     "text": [
      "\n"
     ]
    },
    {
     "name": "stdout",
     "output_type": "stream",
     "text": [
      "\n",
      "      Epoch    GPU_mem   box_loss   cls_loss   dfl_loss  Instances       Size\n"
     ]
    },
    {
     "name": "stderr",
     "output_type": "stream",
     "text": [
      "       5/30      2.59G      3.603      4.407      3.338         67        640: 100%|██████████| 25/25 [00:03<00:00,  7.94it/s]\n",
      "                 Class     Images  Instances      Box(P          R      mAP50  mAP50-95): 100%|██████████| 5/5 [00:00<00:00,  6.24it/s]"
     ]
    },
    {
     "name": "stdout",
     "output_type": "stream",
     "text": [
      "                   all        130        736    0.00033     0.0665   0.000301   9.23e-05\n"
     ]
    },
    {
     "name": "stderr",
     "output_type": "stream",
     "text": [
      "\n"
     ]
    },
    {
     "name": "stdout",
     "output_type": "stream",
     "text": [
      "\n",
      "      Epoch    GPU_mem   box_loss   cls_loss   dfl_loss  Instances       Size\n"
     ]
    },
    {
     "name": "stderr",
     "output_type": "stream",
     "text": [
      "       6/30       2.6G      3.288      4.052      3.135         58        640: 100%|██████████| 25/25 [00:03<00:00,  7.89it/s]\n",
      "                 Class     Images  Instances      Box(P          R      mAP50  mAP50-95): 100%|██████████| 5/5 [00:00<00:00,  6.07it/s]"
     ]
    },
    {
     "name": "stdout",
     "output_type": "stream",
     "text": [
      "                   all        130        736      0.536     0.0607     0.0184     0.0073\n"
     ]
    },
    {
     "name": "stderr",
     "output_type": "stream",
     "text": [
      "\n"
     ]
    },
    {
     "name": "stdout",
     "output_type": "stream",
     "text": [
      "\n",
      "      Epoch    GPU_mem   box_loss   cls_loss   dfl_loss  Instances       Size\n"
     ]
    },
    {
     "name": "stderr",
     "output_type": "stream",
     "text": [
      "       7/30      2.62G      3.208       3.87      2.952         51        640: 100%|██████████| 25/25 [00:02<00:00,  8.39it/s]\n",
      "                 Class     Images  Instances      Box(P          R      mAP50  mAP50-95): 100%|██████████| 5/5 [00:00<00:00,  6.88it/s]"
     ]
    },
    {
     "name": "stdout",
     "output_type": "stream",
     "text": [
      "                   all        130        736      0.458     0.0934      0.046     0.0181\n"
     ]
    },
    {
     "name": "stderr",
     "output_type": "stream",
     "text": [
      "\n"
     ]
    },
    {
     "name": "stdout",
     "output_type": "stream",
     "text": [
      "\n",
      "      Epoch    GPU_mem   box_loss   cls_loss   dfl_loss  Instances       Size\n"
     ]
    },
    {
     "name": "stderr",
     "output_type": "stream",
     "text": [
      "       8/30      2.64G      3.088      3.623      2.857         64        640: 100%|██████████| 25/25 [00:02<00:00,  9.19it/s]\n",
      "                 Class     Images  Instances      Box(P          R      mAP50  mAP50-95): 100%|██████████| 5/5 [00:00<00:00,  7.77it/s]"
     ]
    },
    {
     "name": "stdout",
     "output_type": "stream",
     "text": [
      "                   all        130        736      0.302      0.134      0.081     0.0305\n"
     ]
    },
    {
     "name": "stderr",
     "output_type": "stream",
     "text": [
      "\n"
     ]
    },
    {
     "name": "stdout",
     "output_type": "stream",
     "text": [
      "\n",
      "      Epoch    GPU_mem   box_loss   cls_loss   dfl_loss  Instances       Size\n"
     ]
    },
    {
     "name": "stderr",
     "output_type": "stream",
     "text": [
      "       9/30      2.65G      2.972      3.495      2.775         43        640: 100%|██████████| 25/25 [00:02<00:00,  9.63it/s]\n",
      "                 Class     Images  Instances      Box(P          R      mAP50  mAP50-95): 100%|██████████| 5/5 [00:00<00:00,  8.68it/s]\n"
     ]
    },
    {
     "name": "stdout",
     "output_type": "stream",
     "text": [
      "                   all        130        736      0.616      0.139      0.123     0.0417\n",
      "\n",
      "      Epoch    GPU_mem   box_loss   cls_loss   dfl_loss  Instances       Size\n"
     ]
    },
    {
     "name": "stderr",
     "output_type": "stream",
     "text": [
      "      10/30      2.67G       2.91      3.189      2.633        100        640: 100%|██████████| 25/25 [00:02<00:00, 10.07it/s]\n",
      "                 Class     Images  Instances      Box(P          R      mAP50  mAP50-95): 100%|██████████| 5/5 [00:00<00:00,  7.19it/s]"
     ]
    },
    {
     "name": "stdout",
     "output_type": "stream",
     "text": [
      "                   all        130        736      0.732      0.136      0.143     0.0516\n"
     ]
    },
    {
     "name": "stderr",
     "output_type": "stream",
     "text": [
      "\n"
     ]
    },
    {
     "name": "stdout",
     "output_type": "stream",
     "text": [
      "\n",
      "      Epoch    GPU_mem   box_loss   cls_loss   dfl_loss  Instances       Size\n"
     ]
    },
    {
     "name": "stderr",
     "output_type": "stream",
     "text": [
      "      11/30      2.69G       2.85      3.124      2.496         41        640: 100%|██████████| 25/25 [00:02<00:00,  9.52it/s]\n",
      "                 Class     Images  Instances      Box(P          R      mAP50  mAP50-95): 100%|██████████| 5/5 [00:00<00:00,  7.28it/s]"
     ]
    },
    {
     "name": "stdout",
     "output_type": "stream",
     "text": [
      "                   all        130        736      0.276      0.259      0.175     0.0654\n"
     ]
    },
    {
     "name": "stderr",
     "output_type": "stream",
     "text": [
      "\n"
     ]
    },
    {
     "name": "stdout",
     "output_type": "stream",
     "text": [
      "\n",
      "      Epoch    GPU_mem   box_loss   cls_loss   dfl_loss  Instances       Size\n"
     ]
    },
    {
     "name": "stderr",
     "output_type": "stream",
     "text": [
      "      12/30      2.71G       2.77      3.021      2.447        134        640: 100%|██████████| 25/25 [00:02<00:00, 10.08it/s]\n",
      "                 Class     Images  Instances      Box(P          R      mAP50  mAP50-95): 100%|██████████| 5/5 [00:00<00:00,  7.76it/s]"
     ]
    },
    {
     "name": "stdout",
     "output_type": "stream",
     "text": [
      "                   all        130        736      0.493      0.199      0.173     0.0679\n"
     ]
    },
    {
     "name": "stderr",
     "output_type": "stream",
     "text": [
      "\n"
     ]
    },
    {
     "name": "stdout",
     "output_type": "stream",
     "text": [
      "\n",
      "      Epoch    GPU_mem   box_loss   cls_loss   dfl_loss  Instances       Size\n"
     ]
    },
    {
     "name": "stderr",
     "output_type": "stream",
     "text": [
      "      13/30      2.72G      2.648      2.816      2.347         33        640: 100%|██████████| 25/25 [00:02<00:00,  9.91it/s]\n",
      "                 Class     Images  Instances      Box(P          R      mAP50  mAP50-95): 100%|██████████| 5/5 [00:00<00:00,  8.39it/s]\n"
     ]
    },
    {
     "name": "stdout",
     "output_type": "stream",
     "text": [
      "                   all        130        736      0.487      0.223      0.199     0.0794\n",
      "\n",
      "      Epoch    GPU_mem   box_loss   cls_loss   dfl_loss  Instances       Size\n"
     ]
    },
    {
     "name": "stderr",
     "output_type": "stream",
     "text": [
      "      14/30      2.74G       2.66      2.744       2.28         74        640: 100%|██████████| 25/25 [00:02<00:00, 10.03it/s]\n",
      "                 Class     Images  Instances      Box(P          R      mAP50  mAP50-95): 100%|██████████| 5/5 [00:00<00:00,  8.06it/s]"
     ]
    },
    {
     "name": "stdout",
     "output_type": "stream",
     "text": [
      "                   all        130        736      0.321      0.272      0.224     0.0975\n"
     ]
    },
    {
     "name": "stderr",
     "output_type": "stream",
     "text": [
      "\n"
     ]
    },
    {
     "name": "stdout",
     "output_type": "stream",
     "text": [
      "\n",
      "      Epoch    GPU_mem   box_loss   cls_loss   dfl_loss  Instances       Size\n"
     ]
    },
    {
     "name": "stderr",
     "output_type": "stream",
     "text": [
      "      15/30      2.76G      2.589      2.746       2.28         52        640: 100%|██████████| 25/25 [00:02<00:00, 10.52it/s]\n",
      "                 Class     Images  Instances      Box(P          R      mAP50  mAP50-95): 100%|██████████| 5/5 [00:00<00:00,  8.33it/s]"
     ]
    },
    {
     "name": "stdout",
     "output_type": "stream",
     "text": [
      "                   all        130        736      0.583      0.256      0.261      0.107\n"
     ]
    },
    {
     "name": "stderr",
     "output_type": "stream",
     "text": [
      "\n"
     ]
    },
    {
     "name": "stdout",
     "output_type": "stream",
     "text": [
      "\n",
      "      Epoch    GPU_mem   box_loss   cls_loss   dfl_loss  Instances       Size\n"
     ]
    },
    {
     "name": "stderr",
     "output_type": "stream",
     "text": [
      "      16/30      2.78G      2.578      2.637      2.265         58        640: 100%|██████████| 25/25 [00:02<00:00, 10.27it/s]\n",
      "                 Class     Images  Instances      Box(P          R      mAP50  mAP50-95): 100%|██████████| 5/5 [00:00<00:00,  7.67it/s]"
     ]
    },
    {
     "name": "stdout",
     "output_type": "stream",
     "text": [
      "                   all        130        736      0.383       0.32      0.283      0.127\n"
     ]
    },
    {
     "name": "stderr",
     "output_type": "stream",
     "text": [
      "\n"
     ]
    },
    {
     "name": "stdout",
     "output_type": "stream",
     "text": [
      "\n",
      "      Epoch    GPU_mem   box_loss   cls_loss   dfl_loss  Instances       Size\n"
     ]
    },
    {
     "name": "stderr",
     "output_type": "stream",
     "text": [
      "      17/30      2.78G       2.53      2.546      2.181         68        640: 100%|██████████| 25/25 [00:02<00:00, 10.41it/s]\n",
      "                 Class     Images  Instances      Box(P          R      mAP50  mAP50-95): 100%|██████████| 5/5 [00:00<00:00,  8.02it/s]"
     ]
    },
    {
     "name": "stdout",
     "output_type": "stream",
     "text": [
      "                   all        130        736      0.502      0.323      0.309      0.142\n"
     ]
    },
    {
     "name": "stderr",
     "output_type": "stream",
     "text": [
      "\n"
     ]
    },
    {
     "name": "stdout",
     "output_type": "stream",
     "text": [
      "\n",
      "      Epoch    GPU_mem   box_loss   cls_loss   dfl_loss  Instances       Size\n"
     ]
    },
    {
     "name": "stderr",
     "output_type": "stream",
     "text": [
      "      18/30      2.78G      2.474      2.445      2.118         95        640: 100%|██████████| 25/25 [00:02<00:00, 10.31it/s]\n",
      "                 Class     Images  Instances      Box(P          R      mAP50  mAP50-95): 100%|██████████| 5/5 [00:00<00:00,  7.99it/s]"
     ]
    },
    {
     "name": "stdout",
     "output_type": "stream",
     "text": [
      "                   all        130        736      0.633      0.334      0.331      0.155\n"
     ]
    },
    {
     "name": "stderr",
     "output_type": "stream",
     "text": [
      "\n"
     ]
    },
    {
     "name": "stdout",
     "output_type": "stream",
     "text": [
      "\n",
      "      Epoch    GPU_mem   box_loss   cls_loss   dfl_loss  Instances       Size\n"
     ]
    },
    {
     "name": "stderr",
     "output_type": "stream",
     "text": [
      "      19/30      2.78G      2.396      2.331      2.095         48        640: 100%|██████████| 25/25 [00:02<00:00,  8.37it/s]\n",
      "                 Class     Images  Instances      Box(P          R      mAP50  mAP50-95): 100%|██████████| 5/5 [00:00<00:00,  6.56it/s]"
     ]
    },
    {
     "name": "stdout",
     "output_type": "stream",
     "text": [
      "                   all        130        736      0.526      0.341      0.344      0.162\n"
     ]
    },
    {
     "name": "stderr",
     "output_type": "stream",
     "text": [
      "\n"
     ]
    },
    {
     "name": "stdout",
     "output_type": "stream",
     "text": [
      "\n",
      "      Epoch    GPU_mem   box_loss   cls_loss   dfl_loss  Instances       Size\n"
     ]
    },
    {
     "name": "stderr",
     "output_type": "stream",
     "text": [
      "      20/30      2.78G      2.387      2.365      2.082         69        640: 100%|██████████| 25/25 [00:02<00:00, 10.57it/s]\n",
      "                 Class     Images  Instances      Box(P          R      mAP50  mAP50-95): 100%|██████████| 5/5 [00:00<00:00,  8.83it/s]\n"
     ]
    },
    {
     "name": "stdout",
     "output_type": "stream",
     "text": [
      "                   all        130        736      0.509      0.378      0.344      0.165\n",
      "Closing dataloader mosaic\n",
      "\n",
      "      Epoch    GPU_mem   box_loss   cls_loss   dfl_loss  Instances       Size\n"
     ]
    },
    {
     "name": "stderr",
     "output_type": "stream",
     "text": [
      "      21/30      2.78G      2.329      2.694      2.172         27        640: 100%|██████████| 25/25 [00:02<00:00,  8.49it/s]\n",
      "                 Class     Images  Instances      Box(P          R      mAP50  mAP50-95): 100%|██████████| 5/5 [00:00<00:00,  6.55it/s]"
     ]
    },
    {
     "name": "stdout",
     "output_type": "stream",
     "text": [
      "                   all        130        736      0.507      0.326       0.33      0.151\n"
     ]
    },
    {
     "name": "stderr",
     "output_type": "stream",
     "text": [
      "\n"
     ]
    },
    {
     "name": "stdout",
     "output_type": "stream",
     "text": [
      "\n",
      "      Epoch    GPU_mem   box_loss   cls_loss   dfl_loss  Instances       Size\n"
     ]
    },
    {
     "name": "stderr",
     "output_type": "stream",
     "text": [
      "      22/30      2.78G      2.212       2.44      2.076         30        640: 100%|██████████| 25/25 [00:02<00:00,  8.97it/s]\n",
      "                 Class     Images  Instances      Box(P          R      mAP50  mAP50-95): 100%|██████████| 5/5 [00:00<00:00,  5.89it/s]"
     ]
    },
    {
     "name": "stdout",
     "output_type": "stream",
     "text": [
      "                   all        130        736      0.604      0.331      0.356      0.172\n"
     ]
    },
    {
     "name": "stderr",
     "output_type": "stream",
     "text": [
      "\n"
     ]
    },
    {
     "name": "stdout",
     "output_type": "stream",
     "text": [
      "\n",
      "      Epoch    GPU_mem   box_loss   cls_loss   dfl_loss  Instances       Size\n"
     ]
    },
    {
     "name": "stderr",
     "output_type": "stream",
     "text": [
      "      23/30      2.78G      2.224      2.427      2.067         34        640: 100%|██████████| 25/25 [00:02<00:00,  9.44it/s]\n",
      "                 Class     Images  Instances      Box(P          R      mAP50  mAP50-95): 100%|██████████| 5/5 [00:00<00:00,  8.25it/s]"
     ]
    },
    {
     "name": "stdout",
     "output_type": "stream",
     "text": [
      "                   all        130        736      0.549      0.428      0.379      0.185\n"
     ]
    },
    {
     "name": "stderr",
     "output_type": "stream",
     "text": [
      "\n"
     ]
    },
    {
     "name": "stdout",
     "output_type": "stream",
     "text": [
      "\n",
      "      Epoch    GPU_mem   box_loss   cls_loss   dfl_loss  Instances       Size\n"
     ]
    },
    {
     "name": "stderr",
     "output_type": "stream",
     "text": [
      "      24/30      2.78G      2.196      2.381      2.022         15        640: 100%|██████████| 25/25 [00:02<00:00, 10.46it/s]\n",
      "                 Class     Images  Instances      Box(P          R      mAP50  mAP50-95): 100%|██████████| 5/5 [00:00<00:00,  8.35it/s]"
     ]
    },
    {
     "name": "stdout",
     "output_type": "stream",
     "text": [
      "                   all        130        736      0.681      0.346      0.379      0.195\n"
     ]
    },
    {
     "name": "stderr",
     "output_type": "stream",
     "text": [
      "\n"
     ]
    },
    {
     "name": "stdout",
     "output_type": "stream",
     "text": [
      "\n",
      "      Epoch    GPU_mem   box_loss   cls_loss   dfl_loss  Instances       Size\n"
     ]
    },
    {
     "name": "stderr",
     "output_type": "stream",
     "text": [
      "      25/30      2.78G      2.184       2.35      2.021         34        640: 100%|██████████| 25/25 [00:02<00:00, 10.76it/s]\n",
      "                 Class     Images  Instances      Box(P          R      mAP50  mAP50-95): 100%|██████████| 5/5 [00:00<00:00,  8.50it/s]"
     ]
    },
    {
     "name": "stdout",
     "output_type": "stream",
     "text": [
      "                   all        130        736      0.565      0.403      0.387      0.197\n"
     ]
    },
    {
     "name": "stderr",
     "output_type": "stream",
     "text": [
      "\n"
     ]
    },
    {
     "name": "stdout",
     "output_type": "stream",
     "text": [
      "\n",
      "      Epoch    GPU_mem   box_loss   cls_loss   dfl_loss  Instances       Size\n"
     ]
    },
    {
     "name": "stderr",
     "output_type": "stream",
     "text": [
      "      26/30      2.78G      2.081      2.254      1.954         24        640: 100%|██████████| 25/25 [00:02<00:00, 10.81it/s]\n",
      "                 Class     Images  Instances      Box(P          R      mAP50  mAP50-95): 100%|██████████| 5/5 [00:00<00:00,  8.65it/s]\n"
     ]
    },
    {
     "name": "stdout",
     "output_type": "stream",
     "text": [
      "                   all        130        736      0.654      0.375      0.408      0.208\n",
      "\n",
      "      Epoch    GPU_mem   box_loss   cls_loss   dfl_loss  Instances       Size\n"
     ]
    },
    {
     "name": "stderr",
     "output_type": "stream",
     "text": [
      "      27/30      2.78G      2.149      2.263      1.927         57        640: 100%|██████████| 25/25 [00:02<00:00, 10.69it/s]\n",
      "                 Class     Images  Instances      Box(P          R      mAP50  mAP50-95): 100%|██████████| 5/5 [00:00<00:00,  8.46it/s]\n"
     ]
    },
    {
     "name": "stdout",
     "output_type": "stream",
     "text": [
      "                   all        130        736      0.641       0.37      0.418      0.215\n",
      "\n",
      "      Epoch    GPU_mem   box_loss   cls_loss   dfl_loss  Instances       Size\n"
     ]
    },
    {
     "name": "stderr",
     "output_type": "stream",
     "text": [
      "      28/30      2.78G      2.132      2.205      2.005         38        640: 100%|██████████| 25/25 [00:02<00:00, 10.81it/s]\n",
      "                 Class     Images  Instances      Box(P          R      mAP50  mAP50-95): 100%|██████████| 5/5 [00:00<00:00,  8.40it/s]"
     ]
    },
    {
     "name": "stdout",
     "output_type": "stream",
     "text": [
      "                   all        130        736      0.454      0.492      0.433      0.225\n"
     ]
    },
    {
     "name": "stderr",
     "output_type": "stream",
     "text": [
      "\n"
     ]
    },
    {
     "name": "stdout",
     "output_type": "stream",
     "text": [
      "\n",
      "      Epoch    GPU_mem   box_loss   cls_loss   dfl_loss  Instances       Size\n"
     ]
    },
    {
     "name": "stderr",
     "output_type": "stream",
     "text": [
      "      29/30      2.78G      2.107      2.168      1.978         64        640: 100%|██████████| 25/25 [00:02<00:00, 10.78it/s]\n",
      "                 Class     Images  Instances      Box(P          R      mAP50  mAP50-95): 100%|██████████| 5/5 [00:00<00:00,  8.33it/s]"
     ]
    },
    {
     "name": "stdout",
     "output_type": "stream",
     "text": [
      "                   all        130        736      0.632      0.371      0.432      0.222\n"
     ]
    },
    {
     "name": "stderr",
     "output_type": "stream",
     "text": [
      "\n"
     ]
    },
    {
     "name": "stdout",
     "output_type": "stream",
     "text": [
      "\n",
      "      Epoch    GPU_mem   box_loss   cls_loss   dfl_loss  Instances       Size\n"
     ]
    },
    {
     "name": "stderr",
     "output_type": "stream",
     "text": [
      "      30/30      2.78G      2.137      2.274      1.972         19        640: 100%|██████████| 25/25 [00:02<00:00, 10.90it/s]\n",
      "                 Class     Images  Instances      Box(P          R      mAP50  mAP50-95): 100%|██████████| 5/5 [00:00<00:00,  8.17it/s]"
     ]
    },
    {
     "name": "stdout",
     "output_type": "stream",
     "text": [
      "                   all        130        736      0.594      0.393      0.431      0.223\n"
     ]
    },
    {
     "name": "stderr",
     "output_type": "stream",
     "text": [
      "\n"
     ]
    },
    {
     "name": "stdout",
     "output_type": "stream",
     "text": [
      "\n",
      "30 epochs completed in 0.043 hours.\n",
      "Optimizer stripped from output\\250527_170914_yolov8n_NWPU_VHR10_YOLO_iteration1\\weights\\last.pt, 6.2MB\n",
      "Optimizer stripped from output\\250527_170914_yolov8n_NWPU_VHR10_YOLO_iteration1\\weights\\best.pt, 6.2MB\n",
      "\n",
      "Validating output\\250527_170914_yolov8n_NWPU_VHR10_YOLO_iteration1\\weights\\best.pt...\n",
      "Ultralytics 8.3.96  Python-3.10.16 torch-2.8.0.dev20250420+cu128 CUDA:0 (NVIDIA GeForce RTX 5060 Ti, 16311MiB)\n",
      "YOLOv8 summary (fused): 72 layers, 3,007,598 parameters, 0 gradients, 8.1 GFLOPs\n"
     ]
    },
    {
     "name": "stderr",
     "output_type": "stream",
     "text": [
      "                 Class     Images  Instances      Box(P          R      mAP50  mAP50-95): 100%|██████████| 5/5 [00:00<00:00,  5.01it/s]\n"
     ]
    },
    {
     "name": "stdout",
     "output_type": "stream",
     "text": [
      "                   all        130        736      0.451      0.491      0.433      0.225\n",
      "              airplane         19        151      0.391      0.881      0.754       0.35\n",
      "                  ship          9         53      0.337      0.661       0.46      0.237\n",
      "          storage tank          3         62      0.729      0.484      0.617      0.296\n",
      "      baseball diamond         43         82      0.537      0.902       0.86      0.531\n",
      "          tennis court         15         75      0.459      0.397      0.339      0.128\n",
      "      basketball court         12         21       0.23     0.0476     0.0707     0.0447\n",
      "    ground track field         38         38      0.626      0.816      0.756      0.513\n",
      "                harbor          6         59      0.179      0.656      0.248     0.0779\n",
      "                bridge         13         21      0.449     0.0476      0.151     0.0472\n",
      "               vehicle         19        174      0.572      0.023     0.0762     0.0246\n",
      "Speed: 0.1ms preprocess, 1.2ms inference, 0.0ms loss, 1.0ms postprocess per image\n",
      "Results saved to \u001b[1moutput\\250527_170914_yolov8n_NWPU_VHR10_YOLO_iteration1\u001b[0m\n",
      "YOLOv8 summary (fused): 72 layers, 3,007,598 parameters, 0 gradients, 8.1 GFLOPs\n"
     ]
    },
    {
     "name": "stderr",
     "output_type": "stream",
     "text": [
      "\u001b[34m\u001b[1mval: \u001b[0mScanning Datasets\\NWPU_VHR10_YOLO\\labels.cache... 130 images, 0 backgrounds, 0 corrupt: 100%|██████████| 130/130 [00:00<?, ?it/s]\n",
      "                 Class     Images  Instances      Box(P          R      mAP50  mAP50-95): 100%|██████████| 9/9 [00:07<00:00,  1.14it/s]\n"
     ]
    },
    {
     "name": "stdout",
     "output_type": "stream",
     "text": [
      "                   all        130        736      0.464      0.488      0.432      0.223\n",
      "              airplane         19        151      0.385      0.875      0.749      0.354\n",
      "                  ship          9         53      0.328      0.642      0.456      0.235\n",
      "          storage tank          3         62      0.713      0.484      0.614      0.296\n",
      "      baseball diamond         43         82      0.526      0.902      0.858      0.527\n",
      "          tennis court         15         75      0.431      0.393      0.339      0.125\n",
      "      basketball court         12         21      0.231     0.0476     0.0737      0.045\n",
      "    ground track field         38         38       0.61      0.816      0.748      0.503\n",
      "                harbor          6         59      0.182      0.653      0.252     0.0793\n",
      "                bridge         13         21      0.646     0.0476      0.156     0.0485\n",
      "               vehicle         19        174      0.583     0.0172     0.0719     0.0232\n",
      "Speed: 1.0ms preprocess, 4.9ms inference, 0.0ms loss, 2.1ms postprocess per image\n",
      "Results saved to \u001b[1moutput\\250527_170914_yolov8n_NWPU_VHR10_YOLO_iteration12\u001b[0m\n"
     ]
    },
    {
     "name": "stderr",
     "output_type": "stream",
     "text": [
      "\u001b[34m\u001b[1mval: \u001b[0mScanning Datasets\\NWPU_VHR10_YOLO\\labels... 130 images, 0 backgrounds, 0 corrupt: 100%|██████████| 130/130 [00:00<00:00, 1108.94it/s]"
     ]
    },
    {
     "name": "stdout",
     "output_type": "stream",
     "text": [
      "\u001b[34m\u001b[1mval: \u001b[0mNew cache created: Datasets\\NWPU_VHR10_YOLO\\labels.cache\n"
     ]
    },
    {
     "name": "stderr",
     "output_type": "stream",
     "text": [
      "\n",
      "                 Class     Images  Instances      Box(P          R      mAP50  mAP50-95): 100%|██████████| 9/9 [00:09<00:00,  1.05s/it]\n"
     ]
    },
    {
     "name": "stdout",
     "output_type": "stream",
     "text": [
      "                   all        130        814      0.513      0.394      0.425      0.217\n",
      "              airplane         13        102      0.575      0.578      0.638      0.289\n",
      "                  ship         12         53      0.633      0.302      0.386      0.152\n",
      "          storage tank          8        225      0.747       0.76      0.832      0.455\n",
      "      baseball diamond         39         89      0.727      0.843      0.883      0.506\n",
      "          tennis court         22        110      0.376      0.445       0.37      0.168\n",
      "      basketball court         19         38          0          0     0.0134    0.00389\n",
      "    ground track field         34         34      0.748      0.523      0.644      0.422\n",
      "                harbor          5         33      0.329      0.485      0.279     0.0835\n",
      "                bridge         10         16          1          0      0.112     0.0555\n",
      "               vehicle         20        114          0          0     0.0918     0.0364\n",
      "Speed: 0.5ms preprocess, 3.5ms inference, 0.0ms loss, 4.6ms postprocess per image\n",
      "Results saved to \u001b[1moutput\\250527_170914_yolov8n_NWPU_VHR10_YOLO_iteration13\u001b[0m\n",
      "DataFrame이 '250527_170914_Object Detection_Results.csv'에 저장되었습니다.\n",
      "YoloOW_CLI (2/3) (Iter 1) Dataset: NWPU_VHR10_YOLO (1/2) Data Config 절대 경로: c:\\Users\\user\\Desktop\\Aerial Object Detection\\AERIAL_OBJECT_DETECTION\\Datasets\\NWPU_VHR10_YOLO\\data_iter_01.yaml\n",
      "Data Config 파일 존재 여부: True\n",
      "경로 변환: Datasets\\NWPU_VHR10_YOLO -> c:\\Users\\user\\Desktop\\Aerial Object Detection\\AERIAL_OBJECT_DETECTION\\Datasets\\NWPU_VHR10_YOLO\n",
      "train 경로 변환: train_iter_01.txt -> c:\\Users\\user\\Desktop\\Aerial Object Detection\\AERIAL_OBJECT_DETECTION\\Datasets\\NWPU_VHR10_YOLO\\train_iter_01.txt\n",
      "train 파일 존재 여부: True\n",
      "val 경로 변환: val_iter_01.txt -> c:\\Users\\user\\Desktop\\Aerial Object Detection\\AERIAL_OBJECT_DETECTION\\Datasets\\NWPU_VHR10_YOLO\\val_iter_01.txt\n",
      "val 파일 존재 여부: True\n",
      "test 경로 변환: test_iter_01.txt -> c:\\Users\\user\\Desktop\\Aerial Object Detection\\AERIAL_OBJECT_DETECTION\\Datasets\\NWPU_VHR10_YOLO\\test_iter_01.txt\n",
      "test 파일 존재 여부: True\n",
      "임시 데이터 설정 파일: C:\\Users\\user\\AppData\\Local\\Temp\\tmpmwhggr7o.yaml\n",
      "실행 명령어: python c:\\Users\\user\\Desktop\\Aerial Object Detection\\AERIAL_OBJECT_DETECTION\\Models\\YoloOW\\train.py --workers=0 --device=0 --batch-size=16 --data=C:\\Users\\user\\AppData\\Local\\Temp\\tmpmwhggr7o.yaml --img-size=640 --cfg=c:\\Users\\user\\Desktop\\Aerial Object Detection\\AERIAL_OBJECT_DETECTION\\Models\\YoloOW\\cfg\\training\\yoloOW.yaml --weights= --name=250527_171253_YoloOW_CLI_NWPU_VHR10_YOLO_Iter_1 --epochs=30 --project=output --hyp=c:\\Users\\user\\Desktop\\Aerial Object Detection\\AERIAL_OBJECT_DETECTION\\Models\\YoloOW\\data\\hyp.scratch.p5.yaml --adam --exist-ok\n",
      "프로젝트 루트 디렉토리: c:\\Users\\user\\Desktop\\Aerial Object Detection\\AERIAL_OBJECT_DETECTION\n",
      "YoloOW 실행 디렉토리: c:\\Users\\user\\Desktop\\Aerial Object Detection\\AERIAL_OBJECT_DETECTION\\Models\\YoloOW\n",
      "학습 시작...\n",
      "[STDOUT] YOLOR  2025-4-22 torch 2.8.0.dev20250420+cu128 CUDA:0 (NVIDIA GeForce RTX 5060 Ti, 16310.5625MB)\n",
      "[STDOUT] \n",
      "[STDOUT] Namespace(weights='', cfg='c:\\\\Users\\\\user\\\\Desktop\\\\Aerial Object Detection\\\\AERIAL_OBJECT_DETECTION\\\\Models\\\\YoloOW\\\\cfg\\\\training\\\\yoloOW.yaml', data='C:\\\\Users\\\\user\\\\AppData\\\\Local\\\\Temp\\\\tmpmwhggr7o.yaml', hyp='c:\\\\Users\\\\user\\\\Desktop\\\\Aerial Object Detection\\\\AERIAL_OBJECT_DETECTION\\\\Models\\\\YoloOW\\\\data\\\\hyp.scratch.p5.yaml', epochs=30, batch_size=16, img_size=[640, 640], rect=False, resume=False, nosave=False, notest=False, noautoanchor=False, evolve=False, bucket='', cache_images=False, image_weights=False, device='0', multi_scale=False, single_cls=False, adam=True, sync_bn=False, local_rank=-1, workers=0, project='output', entity=None, name='250527_171253_YoloOW_CLI_NWPU_VHR10_YOLO_Iter_1', exist_ok=True, quad=False, linear_lr=False, label_smoothing=0.0, upload_dataset=False, bbox_interval=-1, save_period=-1, artifact_alias='latest', freeze=[0], v5_metric=False, world_size=1, global_rank=-1, save_dir=WindowsPath('output/250527_171253_YoloOW_CLI_NWPU_VHR10_YOLO_Iter_1'), total_batch_size=16)\n",
      "[STDOUT] TensorBoard not available, continuing without logging\n",
      "[STDOUT] \u001b[34m\u001b[1mhyperparameters: \u001b[0mlr0=0.01, lrf=0.1, momentum=0.937, weight_decay=0.0005, warmup_epochs=3.0, warmup_momentum=0.8, warmup_bias_lr=0.1, box=0.05, cls=0.3, cls_pw=1.0, obj=0.7, obj_pw=1.0, iou_t=0.2, anchor_t=4.0, fl_gamma=0.0, hsv_h=0.015, hsv_s=0.7, hsv_v=0.4, degrees=0.0, translate=0.2, scale=0.9, shear=0.0, perspective=0.0, flipud=0.0, fliplr=0.5, mosaic=1.0, mixup=0.15, copy_paste=0.0, paste_in=0.15, loss_ota=1\n",
      "[STDOUT] \u001b[34m\u001b[1mwandb: \u001b[0mInstall Weights & Biases for YOLOR logging with 'pip install wandb' (recommended)\n",
      "[STDOUT] \n",
      "[STDOUT] from  n    params  module                                  arguments\n",
      "[STDOUT] 0                -1  1      1088  models.common.OaohRepConv               [3, 32, 3, 2, None, 1, False]\n",
      "[STDOUT] 1                -1  1     20736  models.common.RepConv                   [32, 64, 3, 2]\n",
      "[STDOUT] 2                -1  1      4224  models.common.Conv                      [64, 64, 1, 1]\n",
      "[STDOUT] 3                -2  1      4224  models.common.Conv                      [64, 64, 1, 1]\n",
      "[STDOUT] 4                -1  1     41216  models.common.OaohRepConv               [64, 64, 3, 1, None, 1, False, False]\n",
      "[STDOUT] 5                -1  1     41216  models.common.RepConv                   [64, 64, 3, 1, None, 1, True, False]\n",
      "[STDOUT] 6                -1  1     41216  models.common.OaohRepConv               [64, 64, 3, 1, None, 1, False, False]\n",
      "[STDOUT] 7                -1  1     41216  models.common.RepConv                   [64, 64, 3, 1, None, 1, True, False]\n",
      "[STDOUT] 8  [-1, -3, -5, -6]  1         0  models.common.Concat                    [1]\n",
      "[STDOUT] 9                -1  1     66048  models.common.Conv                      [256, 256, 1, 1]\n",
      "[STDOUT] 10                -1  1    328192  models.common.RepConv                   [256, 128, 3, 2]\n",
      "[STDOUT] 11                -1  1     16640  models.common.Conv                      [128, 128, 1, 1]\n",
      "[STDOUT] 12                -2  1     16640  models.common.Conv                      [128, 128, 1, 1]\n",
      "[STDOUT] 13                -1  1    164352  models.common.OaohRepConv               [128, 128, 3, 1, None, 1, False, False]\n",
      "[STDOUT] 14                -1  1    164352  models.common.RepConv                   [128, 128, 3, 1, None, 1, True, False]\n",
      "[STDOUT] 15                -1  1    164352  models.common.OaohRepConv               [128, 128, 3, 1, None, 1, False, False]\n",
      "[STDOUT] 16                -1  1    164352  models.common.RepConv                   [128, 128, 3, 1, None, 1, True, False]\n",
      "[STDOUT] 17  [-1, -3, -5, -6]  1         0  models.common.Concat                    [1]\n",
      "[STDOUT] 18                -1  1    263168  models.common.Conv                      [512, 512, 1, 1]\n",
      "[STDOUT] 19                -1  1   1311744  models.common.RepConv                   [512, 256, 3, 2]\n",
      "[STDOUT] 20                -1  1     66048  models.common.Conv                      [256, 256, 1, 1]\n",
      "[STDOUT] 21                -2  1     66048  models.common.Conv                      [256, 256, 1, 1]\n",
      "[STDOUT] 22                -1  1    656384  models.common.OaohRepConv               [256, 256, 3, 1, None, 1, False, False]\n",
      "[STDOUT] 23                -1  1    656384  models.common.RepConv                   [256, 256, 3, 1, None, 1, True, False]\n",
      "[STDOUT] 24                -1  1    656384  models.common.OaohRepConv               [256, 256, 3, 1, None, 1, False, False]\n",
      "[STDOUT] 25                -1  1    656384  models.common.RepConv                   [256, 256, 3, 1, None, 1, True, False]\n",
      "[STDOUT] 26  [-1, -3, -5, -6]  1         0  models.common.Concat                    [1]\n",
      "[STDOUT] 27                -1  1   1050624  models.common.Conv                      [1024, 1024, 1, 1]\n",
      "[STDOUT] 28                -1  1  10489856  models.common.RepConv                   [1024, 1024, 3, 2]\n",
      "[STDOUT] 29                -1  1    262656  models.common.Conv                      [1024, 256, 1, 1]\n",
      "[STDOUT] 30                -2  1    262656  models.common.Conv                      [1024, 256, 1, 1]\n",
      "[STDOUT] 31                -1  1    656384  models.common.OaohRepConv               [256, 256, 3, 1, None, 1, False, False]\n",
      "[STDOUT] 32                -1  1    656384  models.common.RepConv                   [256, 256, 3, 1, None, 1, True, False]\n",
      "[STDOUT] 33                -1  1    656384  models.common.OaohRepConv               [256, 256, 3, 1, None, 1, False, False]\n",
      "[STDOUT] 34                -1  1    656384  models.common.RepConv                   [256, 256, 3, 1, None, 1, True, False]\n",
      "[STDOUT] 35  [-1, -3, -5, -6]  1         0  models.common.Concat                    [1]\n",
      "[STDOUT] 36                -1  1   1050624  models.common.Conv                      [1024, 1024, 1, 1]\n",
      "[STDOUT] 37                -1  1   7609344  models.common.SPPFCSPC                  [1024, 512]\n",
      "[STDOUT] 38                -1  1    131584  models.common.Conv                      [512, 256, 1, 1]\n",
      "[STDOUT] 39                -1  1         0  torch.nn.modules.upsampling.Upsample    [None, 2, 'nearest']\n",
      "[STDOUT] 40                27  1    262656  models.common.Conv                      [1024, 256, 1, 1]\n",
      "[STDOUT] 41                18  1    131584  models.common.Conv                      [512, 256, 1, 1]\n",
      "[STDOUT] 42                -1  1         0  torch.nn.modules.upsampling.Upsample    [None, 0.5, 'nearest']\n",
      "[STDOUT] 43      [-1, -3, -4]  1         0  models.common.Concat                    [1]\n",
      "[STDOUT] 44                -1  1    197120  models.common.Conv                      [768, 256, 1, 1]\n",
      "[STDOUT] 45                -2  1    197120  models.common.Conv                      [768, 256, 1, 1]\n",
      "[STDOUT] 46                -1  1    328192  models.common.OaohRepConv               [256, 128, 3, 1, None, 1, False, False]\n",
      "[STDOUT] 47                -1  1    164352  models.common.RepConv                   [128, 128, 3, 1, None, 1, True, False]\n",
      "[STDOUT] 48                -1  1    164352  models.common.OaohRepConv               [128, 128, 3, 1, None, 1, False, False]\n",
      "[STDOUT] 49                -1  1    164352  models.common.RepConv                   [128, 128, 3, 1, None, 1, True, False]\n",
      "[STDOUT] 50[-1, -2, -3, -4, -5, -6]  1         0  models.common.Concat                    [1]\n",
      "[STDOUT] 51                -1  1    262656  models.common.Conv                      [1024, 256, 1, 1]\n",
      "[STDOUT] 52                -1  1     33024  models.common.Conv                      [256, 128, 1, 1]\n",
      "[STDOUT] 53                -1  1         0  torch.nn.modules.upsampling.Upsample    [None, 2, 'nearest']\n",
      "[STDOUT] 54                18  1     65792  models.common.Conv                      [512, 128, 1, 1]\n",
      "[STDOUT] 55                 9  1     33024  models.common.Conv                      [256, 128, 1, 1]\n",
      "[STDOUT] 56                -1  1         0  torch.nn.modules.upsampling.Upsample    [None, 0.5, 'nearest']\n",
      "[STDOUT] 57      [-1, -3, -4]  1         0  models.common.Concat                    [1]\n",
      "[STDOUT] 58                -1  1     49408  models.common.Conv                      [384, 128, 1, 1]\n",
      "[STDOUT] 59                -2  1     49408  models.common.Conv                      [384, 128, 1, 1]\n",
      "[STDOUT] 60                -1  1     82176  models.common.OaohRepConv               [128, 64, 3, 1, None, 1, False, False]\n",
      "[STDOUT] 61                -1  1     41216  models.common.RepConv                   [64, 64, 3, 1, None, 1, True, False]\n",
      "[STDOUT] 62                -1  1     41216  models.common.OaohRepConv               [64, 64, 3, 1, None, 1, False, False]\n",
      "[STDOUT] 63                -1  1     41216  models.common.RepConv                   [64, 64, 3, 1, None, 1, True, False]\n",
      "[STDOUT] 64[-1, -2, -3, -4, -5, -6]  1         0  models.common.Concat                    [1]\n",
      "[STDOUT] 65                -1  1     65792  models.common.Conv                      [512, 128, 1, 1]\n",
      "[STDOUT] 66                -1  1    147712  models.common.Conv                      [128, 128, 3, 2]\n",
      "[STDOUT] 67          [-1, 51]  1         0  models.common.Concat                    [1]\n",
      "[STDOUT] 68                -1  1     98816  models.common.Conv                      [384, 256, 1, 1]\n",
      "[STDOUT] 69                -2  1     98816  models.common.Conv                      [384, 256, 1, 1]\n",
      "[STDOUT] 70                -1  1    328192  models.common.OaohRepConv               [256, 128, 3, 1, None, 1, False, False]\n",
      "[STDOUT] 71                -1  1    164352  models.common.RepConv                   [128, 128, 3, 1, None, 1, True, False]\n",
      "[STDOUT] 72                -1  1    164352  models.common.OaohRepConv               [128, 128, 3, 1, None, 1, False, False]\n",
      "[STDOUT] 73                -1  1    164352  models.common.RepConv                   [128, 128, 3, 1, None, 1, True, False]\n",
      "[STDOUT] 74[-1, -2, -3, -4, -5, -6]  1         0  models.common.Concat                    [1]\n",
      "[STDOUT] 75                -1  1    262656  models.common.Conv                      [1024, 256, 1, 1]\n",
      "[STDOUT] 76                -1  1    590336  models.common.Conv                      [256, 256, 3, 2]\n",
      "[STDOUT] 77          [-1, 37]  1         0  models.common.Concat                    [1]\n",
      "[STDOUT] 78                -1  1    394240  models.common.Conv                      [768, 512, 1, 1]\n",
      "[STDOUT] 79                -2  1    394240  models.common.Conv                      [768, 512, 1, 1]\n",
      "[STDOUT] 80                -1  1   1311744  models.common.OaohRepConv               [512, 256, 3, 1, None, 1, False, False]\n",
      "[STDOUT] 81                -1  1    656384  models.common.RepConv                   [256, 256, 3, 1, None, 1, True, False]\n",
      "[STDOUT] 82                -1  1    656384  models.common.OaohRepConv               [256, 256, 3, 1, None, 1, False, False]\n",
      "[STDOUT] 83                -1  1    656384  models.common.RepConv                   [256, 256, 3, 1, None, 1, True, False]\n",
      "[STDOUT] 84[-1, -2, -3, -4, -5, -6]  1         0  models.common.Concat                    [1]\n",
      "[STDOUT] 85                -1  1   1049600  models.common.Conv                      [2048, 512, 1, 1]\n",
      "[STDOUT] 86                65  1    164608  models.common.RepConv                   [128, 128, 3, 1]\n",
      "[STDOUT] 87                75  1    656896  models.common.RepConv                   [256, 256, 3, 1]\n",
      "[STDOUT] 88                85  1   2624512  models.common.RepConv                   [512, 512, 3, 1]\n",
      "[STDOUT] 89      [86, 87, 88]  1     41486  models.yolo.IDetect                     [10, [[96, 68, 86, 152, 180, 137], [140, 301, 303, 264, 238, 542], [436, 615, 739, 380, 925, 792]], [128, 256, 512]]\n",
      "[STDOUT] Model Summary: 529 layers, 42096206 parameters, 42096206 gradients, 94.8 GFLOPS\n",
      "[STDOUT] \n",
      "[STDOUT] Scaled weight_decay = 0.0005\n",
      "[STDOUT] Optimizer groups: 125 .bias, 122 conv.weight, 128 other\n",
      "[STDOUT] \n",
      "[STDOUT] \u001b[34m\u001b[1mtrain: \u001b[0mScanning 'c:\\Users\\user\\Desktop\\Aerial Object Detection\\AERIAL_OBJECT_DETECTION\\Datasets\\NWPU_VHR10_YOLO\\train_iter_01.cache' images and labels... 390 found, 0 missing, 0 empty, 0 corrupted: 100%|██████████| 390/390 [00:00<?, ?it/s]\n",
      "[STDOUT] \u001b[34m\u001b[1mtrain: \u001b[0mScanning 'c:\\Users\\user\\Desktop\\Aerial Object Detection\\AERIAL_OBJECT_DETECTION\\Datasets\\NWPU_VHR10_YOLO\\train_iter_01.cache' images and labels... 390 found, 0 missing, 0 empty, 0 corrupted: 100%|██████████| 390/390 [00:00<?, ?it/s]\n",
      "[STDOUT] \n",
      "[STDOUT] \u001b[34m\u001b[1mval: \u001b[0mScanning 'c:\\Users\\user\\Desktop\\Aerial Object Detection\\AERIAL_OBJECT_DETECTION\\Datasets\\NWPU_VHR10_YOLO\\val_iter_01.cache' images and labels... 130 found, 0 missing, 0 empty, 0 corrupted: 100%|██████████| 130/130 [00:00<?, ?it/s]\n",
      "[STDOUT] \u001b[34m\u001b[1mval: \u001b[0mScanning 'c:\\Users\\user\\Desktop\\Aerial Object Detection\\AERIAL_OBJECT_DETECTION\\Datasets\\NWPU_VHR10_YOLO\\val_iter_01.cache' images and labels... 130 found, 0 missing, 0 empty, 0 corrupted: 100%|██████████| 130/130 [00:00<?, ?it/s]\n",
      "[STDOUT] \n",
      "[STDOUT] \u001b[34m\u001b[1mautoanchor: \u001b[0mAnalyzing anchors... anchors/target = 2.04, Best Possible Recall (BPR) = 0.8623. Attempting to improve anchors, please wait...\n",
      "[STDOUT] \u001b[34m\u001b[1mautoanchor: \u001b[0mRunning kmeans for 9 anchors on 2346 points...\n",
      "[STDOUT] \u001b[34m\u001b[1mautoanchor: \u001b[0mthr=0.25: 1.0000 best possible recall, 6.45 anchors past thr\n",
      "[STDOUT] \u001b[34m\u001b[1mautoanchor: \u001b[0mn=9, img_size=640, metric_all=0.426/0.803-mean/best, past_thr=0.528-mean: 23,24,  36,33,  41,51,  65,43,  67,73,  116,65,  117,132,  238,124,  176,221\n",
      "[STDOUT] \n",
      "[STDOUT] \u001b[34m\u001b[1mautoanchor: \u001b[0mEvolving anchors with Genetic Algorithm::   0%|          | 0/1000 [00:00<?, ?it/s]\n",
      "[STDOUT] \u001b[34m\u001b[1mautoanchor: \u001b[0mEvolving anchors with Genetic Algorithm: fitness = 0.8134:  15%|█▌        | 150/1000 [00:00<00:00, 1497.04it/s]\n",
      "[STDOUT] \u001b[34m\u001b[1mautoanchor: \u001b[0mEvolving anchors with Genetic Algorithm: fitness = 0.8164:  32%|███▎      | 325/1000 [00:00<00:00, 1642.75it/s]\n",
      "[STDOUT] \u001b[34m\u001b[1mautoanchor: \u001b[0mEvolving anchors with Genetic Algorithm: fitness = 0.8169:  49%|████▉     | 490/1000 [00:00<00:00, 1616.64it/s]\n",
      "[STDOUT] \u001b[34m\u001b[1mautoanchor: \u001b[0mEvolving anchors with Genetic Algorithm: fitness = 0.8173:  66%|██████▌   | 658/1000 [00:00<00:00, 1637.61it/s]\n",
      "[STDOUT] \u001b[34m\u001b[1mautoanchor: \u001b[0mEvolving anchors with Genetic Algorithm: fitness = 0.8189:  83%|████████▎ | 831/1000 [00:00<00:00, 1664.72it/s]\n",
      "[STDOUT] \u001b[34m\u001b[1mautoanchor: \u001b[0mEvolving anchors with Genetic Algorithm: fitness = 0.8198: 100%|█████████▉| 999/1000 [00:00<00:00, 1665.75it/s]\n",
      "[STDOUT] \u001b[34m\u001b[1mautoanchor: \u001b[0mEvolving anchors with Genetic Algorithm: fitness = 0.8198: 100%|██████████| 1000/1000 [00:00<00:00, 1645.22it/s]\n",
      "[STDOUT] \u001b[34m\u001b[1mautoanchor: \u001b[0mthr=0.25: 1.0000 best possible recall, 6.68 anchors past thr\n",
      "[STDOUT] \u001b[34m\u001b[1mautoanchor: \u001b[0mn=9, img_size=640, metric_all=0.448/0.820-mean/best, past_thr=0.547-mean: 22,23,  32,31,  34,48,  49,37,  56,54,  85,63,  114,111,  251,125,  174,228\n",
      "[STDOUT] \u001b[34m\u001b[1mautoanchor: \u001b[0mNew anchors saved to model. Update model *.yaml to use these anchors in the future.\n",
      "[STDOUT] \n",
      "[STDOUT] c:\\Users\\user\\Desktop\\Aerial Object Detection\\AERIAL_OBJECT_DETECTION\\Models\\YoloOW\\train.py:307: FutureWarning: `torch.cuda.amp.GradScaler(args...)` is deprecated. Please use `torch.amp.GradScaler('cuda', args...)` instead.\n",
      "[STDOUT] scaler = amp.GradScaler(enabled=cuda)\n",
      "[STDOUT] Image sizes 640 train, 640 test\n",
      "[STDOUT] Using 0 dataloader workers\n",
      "[STDOUT] Logging results to output\\250527_171253_YoloOW_CLI_NWPU_VHR10_YOLO_Iter_1\n",
      "[STDOUT] Starting training for 30 epochs...\n",
      "[STDOUT] OaohRepConv act_learn weight: 0.000\n",
      "[STDOUT] OaohRepConv act_learn weight: 0.000\n",
      "[STDOUT] OaohRepConv act_learn weight: 0.000\n",
      "[STDOUT] OaohRepConv act_learn weight: 0.000\n",
      "[STDOUT] OaohRepConv act_learn weight: 0.000\n",
      "[STDOUT] OaohRepConv act_learn weight: 0.000\n",
      "[STDOUT] OaohRepConv act_learn weight: 0.000\n",
      "[STDOUT] OaohRepConv act_learn weight: 0.000\n",
      "[STDOUT] OaohRepConv act_learn weight: 0.000\n",
      "[STDOUT] OaohRepConv act_learn weight: 0.000\n",
      "[STDOUT] OaohRepConv act_learn weight: 0.000\n",
      "[STDOUT] OaohRepConv act_learn weight: 0.000\n",
      "[STDOUT] OaohRepConv act_learn weight: 0.000\n",
      "[STDOUT] OaohRepConv act_learn weight: 0.000\n",
      "[STDOUT] OaohRepConv act_learn weight: 0.000\n",
      "[STDOUT] OaohRepConv act_learn weight: 0.000\n",
      "[STDOUT] OaohRepConv act_learn weight: 0.000\n",
      "[STDOUT] \n",
      "[STDOUT] Epoch   gpu_mem       box       obj       cls     total    labels  img_size\n",
      "[STDOUT] \n",
      "[STDOUT] 0%|          | 0/25 [00:00<?, ?it/s]c:\\Users\\user\\Desktop\\Aerial Object Detection\\AERIAL_OBJECT_DETECTION\\Models\\YoloOW\\train.py:385: FutureWarning: `torch.cuda.amp.autocast(args...)` is deprecated. Please use `torch.amp.autocast('cuda', args...)` instead.\n",
      "[STDOUT] with amp.autocast(enabled=cuda):\n",
      "[STDOUT] \n",
      "[STDOUT] 0/29     1.87G   0.07791   0.03985   0.03932    0.1571       329       640:   0%|          | 0/25 [00:06<?, ?it/s][TRAINING]       0/29     1.87G   0.07791   0.03985   0.03932    0.1571       329       640\n",
      "[STDOUT] \n",
      "[STDOUT] 0/29     1.87G   0.07791   0.03985   0.03932    0.1571       329       640:   4%|▍         | 1/25 [00:06<02:26,  6.09s/it]\n",
      "[STDOUT] 0/29     8.37G   0.08283    0.0339   0.04112    0.1578       230       640:   4%|▍         | 1/25 [00:08<02:26,  6.09s/it]\n",
      "[STDOUT] 0/29     8.37G   0.08283    0.0339   0.04112    0.1578       230       640:   8%|▊         | 2/25 [00:08<01:24,  3.66s/it]\n",
      "[STDOUT] 0/29     8.37G    0.0819   0.03322   0.04068    0.1558       191       640:   8%|▊         | 2/25 [00:10<01:24,  3.66s/it]\n",
      "[STDOUT] 0/29     8.37G    0.0819   0.03322   0.04068    0.1558       191       640:  12%|█▏        | 3/25 [00:10<01:03,  2.90s/it]\n",
      "[STDOUT] 0/29     8.46G   0.08042   0.03299   0.04029    0.1537       206       640:  12%|█▏        | 3/25 [00:11<01:03,  2.90s/it]\n",
      "[STDOUT] 0/29     8.46G   0.08042   0.03299   0.04029    0.1537       206       640:  16%|█▌        | 4/25 [00:11<00:52,  2.49s/it]\n",
      "[STDOUT] 0/29     8.46G   0.08026   0.03142   0.04019    0.1519       226       640:  16%|█▌        | 4/25 [00:13<00:52,  2.49s/it]\n",
      "[STDOUT] 0/29     8.46G   0.08026   0.03142   0.04019    0.1519       226       640:  20%|██        | 5/25 [00:13<00:45,  2.29s/it]\n",
      "[STDOUT] 0/29     8.77G   0.07987   0.02899   0.03976    0.1486       107       640:  20%|██        | 5/25 [00:15<00:45,  2.29s/it]\n",
      "[STDOUT] 0/29     8.77G   0.07987   0.02899   0.03976    0.1486       107       640:  24%|██▍       | 6/25 [00:15<00:39,  2.06s/it]\n",
      "[STDOUT] 0/29     8.77G   0.07957   0.02678   0.03967     0.146        93       640:  24%|██▍       | 6/25 [00:17<00:39,  2.06s/it]\n",
      "[STDOUT] 0/29     8.77G   0.07957   0.02678   0.03967     0.146        93       640:  28%|██▊       | 7/25 [00:17<00:35,  1.96s/it]\n",
      "[STDOUT] 0/29     8.77G   0.07976   0.02616   0.03932    0.1452       216       640:  28%|██▊       | 7/25 [00:18<00:35,  1.96s/it]\n",
      "[STDOUT] 0/29     8.77G   0.07976   0.02616   0.03932    0.1452       216       640:  32%|███▏      | 8/25 [00:18<00:31,  1.88s/it]\n",
      "[STDOUT] 0/29     8.77G    0.0795   0.02478   0.03859    0.1429       108       640:  32%|███▏      | 8/25 [00:20<00:31,  1.88s/it]\n",
      "[STDOUT] 0/29     8.77G    0.0795   0.02478   0.03859    0.1429       108       640:  36%|███▌      | 9/25 [00:20<00:28,  1.80s/it]\n",
      "[STDOUT] 0/29     8.77G   0.07993   0.02374   0.03842    0.1421       183       640:  36%|███▌      | 9/25 [00:22<00:28,  1.80s/it]\n",
      "[STDOUT] 0/29     8.77G   0.07993   0.02374   0.03842    0.1421       183       640:  40%|████      | 10/25 [00:22<00:26,  1.77s/it]\n",
      "[STDOUT] 0/29     8.77G   0.07978   0.02302   0.03843    0.1412       203       640:  40%|████      | 10/25 [00:23<00:26,  1.77s/it][TRAINING]       0/29     8.77G   0.07978   0.02302   0.03843    0.1412       203       640\n",
      "[STDOUT] \n",
      "[STDOUT] 0/29     8.77G   0.07978   0.02302   0.03843    0.1412       203       640:  44%|████▍     | 11/25 [00:23<00:23,  1.69s/it]\n",
      "[STDOUT] 0/29     8.77G   0.07985   0.02289   0.03827     0.141       322       640:  44%|████▍     | 11/25 [00:25<00:23,  1.69s/it]\n",
      "[STDOUT] 0/29     8.77G   0.07985   0.02289   0.03827     0.141       322       640:  48%|████▊     | 12/25 [00:25<00:22,  1.74s/it]\n",
      "[STDOUT] 0/29     8.77G   0.08042   0.02261   0.03794     0.141       347       640:  48%|████▊     | 12/25 [00:27<00:22,  1.74s/it]\n",
      "[STDOUT] 0/29     8.77G   0.08042   0.02261   0.03794     0.141       347       640:  52%|█████▏    | 13/25 [00:27<00:21,  1.82s/it]\n",
      "[STDOUT] 0/29     8.77G   0.07985   0.02313   0.03796    0.1409       262       640:  52%|█████▏    | 13/25 [00:29<00:21,  1.82s/it]\n",
      "[STDOUT] 0/29     8.77G   0.07985   0.02313   0.03796    0.1409       262       640:  56%|█████▌    | 14/25 [00:29<00:19,  1.79s/it]\n",
      "[STDOUT] 0/29     8.77G    0.0801   0.02297   0.03761    0.1407       258       640:  56%|█████▌    | 14/25 [00:31<00:19,  1.79s/it]\n",
      "[STDOUT] 0/29     8.77G    0.0801   0.02297   0.03761    0.1407       258       640:  60%|██████    | 15/25 [00:31<00:18,  1.86s/it]\n",
      "[STDOUT] 0/29     8.77G   0.07975   0.02284   0.03746      0.14       161       640:  60%|██████    | 15/25 [00:32<00:18,  1.86s/it]\n",
      "[STDOUT] 0/29     8.77G   0.07975   0.02284   0.03746      0.14       161       640:  64%|██████▍   | 16/25 [00:32<00:15,  1.74s/it]\n",
      "[STDOUT] 0/29     8.77G   0.07962   0.02258   0.03735    0.1396       208       640:  64%|██████▍   | 16/25 [00:34<00:15,  1.74s/it]\n",
      "[STDOUT] 0/29     8.77G   0.07962   0.02258   0.03735    0.1396       208       640:  68%|██████▊   | 17/25 [00:34<00:13,  1.72s/it]\n",
      "[STDOUT] 0/29     8.77G   0.07924    0.0226   0.03707    0.1389       168       640:  68%|██████▊   | 17/25 [00:35<00:13,  1.72s/it]\n",
      "[STDOUT] 0/29     8.77G   0.07924    0.0226   0.03707    0.1389       168       640:  72%|███████▏  | 18/25 [00:35<00:11,  1.64s/it]\n",
      "[STDOUT] 0/29     8.77G    0.0794   0.02236   0.03685    0.1386       197       640:  72%|███████▏  | 18/25 [00:37<00:11,  1.64s/it]\n",
      "[STDOUT] 0/29     8.77G    0.0794   0.02236   0.03685    0.1386       197       640:  76%|███████▌  | 19/25 [00:37<00:09,  1.63s/it]\n",
      "[STDOUT] 0/29     8.77G    0.0792   0.02207   0.03678    0.1381       125       640:  76%|███████▌  | 19/25 [00:39<00:09,  1.63s/it]\n",
      "[STDOUT] 0/29     8.77G    0.0792   0.02207   0.03678    0.1381       125       640:  80%|████████  | 20/25 [00:39<00:07,  1.59s/it]\n",
      "[STDOUT] 0/29     8.77G   0.07923   0.02221   0.03661     0.138       294       640:  80%|████████  | 20/25 [00:40<00:07,  1.59s/it][TRAINING]       0/29     8.77G   0.07923   0.02221   0.03661     0.138       294       640\n",
      "[STDOUT] \n",
      "[STDOUT] 0/29     8.77G   0.07923   0.02221   0.03661     0.138       294       640:  84%|████████▍ | 21/25 [00:40<00:06,  1.66s/it]\n",
      "[STDOUT] 0/29     8.77G   0.07914   0.02185   0.03643    0.1374       153       640:  84%|████████▍ | 21/25 [00:42<00:06,  1.66s/it]\n",
      "[STDOUT] 0/29     8.77G   0.07914   0.02185   0.03643    0.1374       153       640:  88%|████████▊ | 22/25 [00:42<00:05,  1.71s/it]\n",
      "[STDOUT] 0/29     8.77G   0.07924   0.02163   0.03615     0.137       300       640:  88%|████████▊ | 22/25 [00:44<00:05,  1.71s/it]\n",
      "[STDOUT] 0/29     8.77G   0.07924   0.02163   0.03615     0.137       300       640:  92%|█████████▏| 23/25 [00:44<00:03,  1.73s/it]\n",
      "[STDOUT] 0/29     8.77G   0.07895   0.02141   0.03596    0.1363       116       640:  92%|█████████▏| 23/25 [00:46<00:03,  1.73s/it]\n",
      "[STDOUT] 0/29     8.77G   0.07895   0.02141   0.03596    0.1363       116       640:  96%|█████████▌| 24/25 [00:46<00:01,  1.71s/it]\n",
      "[STDOUT] 0/29     2.18G   0.07869   0.02128   0.03569    0.1357        47       640:  96%|█████████▌| 24/25 [00:48<00:01,  1.71s/it]\n",
      "[STDOUT] 0/29     2.18G   0.07869   0.02128   0.03569    0.1357        47       640: 100%|██████████| 25/25 [00:48<00:00,  1.86s/it]\n",
      "[STDOUT] 0/29     2.18G   0.07869   0.02128   0.03569    0.1357        47       640: 100%|██████████| 25/25 [00:48<00:00,  1.93s/it]\n",
      "[STDOUT] \n",
      "[STDOUT] Class      Images      Labels           P           R      mAP@.5  mAP@.5:.95:   0%|          | 0/5 [00:00<?, ?it/s][DEBUG] Head 0 | iou.min=0.0701, iou.max=0.9567, iou.mean=0.4494\n",
      "[STDOUT] [DEBUG] Head 0 | ps[..., 4].sigmoid().mean = 0.0004\n",
      "[STDOUT] [DEBUG] Head 1 | iou.min=-0.0679, iou.max=0.8805, iou.mean=0.3172\n",
      "[STDOUT] [DEBUG] Head 1 | ps[..., 4].sigmoid().mean = 0.0004\n",
      "[STDOUT] [DEBUG] Head 2 | iou.min=-0.2738, iou.max=0.7543, iou.mean=0.1180\n",
      "[STDOUT] [DEBUG] Head 2 | ps[..., 4].sigmoid().mean = 0.0008\n",
      "[STDOUT] \n",
      "[STDOUT] Class      Images      Labels           P           R      mAP@.5  mAP@.5:.95:  20%|██        | 1/5 [00:02<00:08,  2.22s/it][DEBUG] Head 0 | iou.min=0.0578, iou.max=0.9557, iou.mean=0.4227\n",
      "[STDOUT] [DEBUG] Head 0 | ps[..., 4].sigmoid().mean = 0.0004\n",
      "[STDOUT] [DEBUG] Head 1 | iou.min=0.0091, iou.max=0.9106, iou.mean=0.3330\n",
      "[STDOUT] [DEBUG] Head 1 | ps[..., 4].sigmoid().mean = 0.0004\n",
      "[STDOUT] [DEBUG] Head 2 | iou.min=-0.2705, iou.max=0.7459, iou.mean=0.1525\n",
      "[STDOUT] [DEBUG] Head 2 | ps[..., 4].sigmoid().mean = 0.0008\n",
      "[STDOUT] \n",
      "[STDOUT] Class      Images      Labels           P           R      mAP@.5  mAP@.5:.95:  40%|████      | 2/5 [00:04<00:07,  2.36s/it][DEBUG] Head 0 | iou.min=0.0499, iou.max=0.8877, iou.mean=0.4054\n",
      "[STDOUT] [DEBUG] Head 0 | ps[..., 4].sigmoid().mean = 0.0004\n",
      "[STDOUT] [DEBUG] Head 1 | iou.min=-0.1333, iou.max=0.8640, iou.mean=0.2621\n",
      "[STDOUT] [DEBUG] Head 1 | ps[..., 4].sigmoid().mean = 0.0004\n",
      "[STDOUT] [DEBUG] Head 2 | iou.min=-0.2726, iou.max=0.7055, iou.mean=0.1199\n",
      "[STDOUT] [DEBUG] Head 2 | ps[..., 4].sigmoid().mean = 0.0008\n",
      "[STDOUT] \n",
      "[STDOUT] Class      Images      Labels           P           R      mAP@.5  mAP@.5:.95:  60%|██████    | 3/5 [00:05<00:03,  1.64s/it][DEBUG] Head 0 | iou.min=0.0691, iou.max=0.8800, iou.mean=0.4145\n",
      "[STDOUT] [DEBUG] Head 0 | ps[..., 4].sigmoid().mean = 0.0004\n",
      "[STDOUT] [DEBUG] Head 1 | iou.min=-0.1241, iou.max=0.7691, iou.mean=0.2771\n",
      "[STDOUT] [DEBUG] Head 1 | ps[..., 4].sigmoid().mean = 0.0004\n",
      "[STDOUT] [DEBUG] Head 2 | iou.min=-0.2873, iou.max=0.8295, iou.mean=0.1001\n",
      "[STDOUT] [DEBUG] Head 2 | ps[..., 4].sigmoid().mean = 0.0009\n",
      "[STDOUT] \n",
      "[STDOUT] Class      Images      Labels           P           R      mAP@.5  mAP@.5:.95:  80%|████████  | 4/5 [00:08<00:02,  2.07s/it][DEBUG] Head 0 | iou.min=0.2136, iou.max=0.7084, iou.mean=0.4903\n",
      "[STDOUT] [DEBUG] Head 0 | ps[..., 4].sigmoid().mean = 0.0004\n",
      "[STDOUT] [DEBUG] Head 1 | iou.min=0.1369, iou.max=0.6706, iou.mean=0.3657\n",
      "[STDOUT] [DEBUG] Head 1 | ps[..., 4].sigmoid().mean = 0.0004\n",
      "[STDOUT] [DEBUG] Head 2 | iou.min=-0.2379, iou.max=0.3102, iou.mean=0.0384\n",
      "[STDOUT] [DEBUG] Head 2 | ps[..., 4].sigmoid().mean = 0.0009\n",
      "[STDOUT] \n",
      "[STDOUT] Class      Images      Labels           P           R      mAP@.5  mAP@.5:.95: 100%|██████████| 5/5 [00:08<00:00,  1.44s/it]\n",
      "[STDOUT] Class      Images      Labels           P           R      mAP@.5  mAP@.5:.95: 100%|██████████| 5/5 [00:08<00:00,  1.71s/it]\n",
      "[STDOUT] all         130           0           0           0           0           0\n",
      "[STDOUT] OaohRepConv act_learn weight: 0.033\n",
      "[STDOUT] OaohRepConv act_learn weight: 0.033\n",
      "[STDOUT] OaohRepConv act_learn weight: 0.033\n",
      "[STDOUT] OaohRepConv act_learn weight: 0.033\n",
      "[STDOUT] OaohRepConv act_learn weight: 0.033\n",
      "[STDOUT] OaohRepConv act_learn weight: 0.033\n",
      "[STDOUT] OaohRepConv act_learn weight: 0.033\n",
      "[STDOUT] OaohRepConv act_learn weight: 0.033\n",
      "[STDOUT] OaohRepConv act_learn weight: 0.033\n",
      "[STDOUT] OaohRepConv act_learn weight: 0.033\n",
      "[STDOUT] OaohRepConv act_learn weight: 0.033\n",
      "[STDOUT] OaohRepConv act_learn weight: 0.033\n",
      "[STDOUT] OaohRepConv act_learn weight: 0.033\n",
      "[STDOUT] OaohRepConv act_learn weight: 0.033\n",
      "[STDOUT] OaohRepConv act_learn weight: 0.033\n",
      "[STDOUT] OaohRepConv act_learn weight: 0.033\n",
      "[STDOUT] OaohRepConv act_learn weight: 0.033\n",
      "[STDOUT] \n",
      "[STDOUT] Epoch   gpu_mem       box       obj       cls     total    labels  img_size\n",
      "[STDOUT] \n",
      "[STDOUT] 0%|          | 0/25 [00:00<?, ?it/s]\n",
      "[STDOUT] 1/29     8.74G   0.07532   0.02284   0.03616    0.1343       200       640:   0%|          | 0/25 [00:02<?, ?it/s][TRAINING]       1/29     8.74G   0.07532   0.02284   0.03616    0.1343       200       640\n",
      "[STDOUT] \n",
      "[STDOUT] 1/29     8.74G   0.07532   0.02284   0.03616    0.1343       200       640:   4%|▍         | 1/25 [00:02<00:50,  2.08s/it]\n",
      "[STDOUT] 1/29     9.16G   0.07576   0.02601   0.03381    0.1356       374       640:   4%|▍         | 1/25 [00:04<00:50,  2.08s/it]\n",
      "[STDOUT] 1/29     9.16G   0.07576   0.02601   0.03381    0.1356       374       640:   8%|▊         | 2/25 [00:04<00:46,  2.00s/it]\n",
      "[STDOUT] 1/29     9.16G   0.07623   0.02271   0.03306     0.132       182       640:   8%|▊         | 2/25 [00:05<00:46,  2.00s/it]\n",
      "[STDOUT] 1/29     9.16G   0.07623   0.02271   0.03306     0.132       182       640:  12%|█▏        | 3/25 [00:05<00:38,  1.75s/it]\n",
      "[STDOUT] 1/29     9.16G   0.07808   0.02104   0.03306    0.1322       230       640:  12%|█▏        | 3/25 [00:07<00:38,  1.75s/it]\n",
      "[STDOUT] 1/29     9.16G   0.07808   0.02104   0.03306    0.1322       230       640:  16%|█▌        | 4/25 [00:07<00:38,  1.82s/it]\n",
      "[STDOUT] 1/29     9.16G   0.07878   0.02064   0.03241    0.1318       229       640:  16%|█▌        | 4/25 [00:09<00:38,  1.82s/it]\n",
      "[STDOUT] 1/29     9.16G   0.07878   0.02064   0.03241    0.1318       229       640:  20%|██        | 5/25 [00:09<00:36,  1.83s/it]\n",
      "[STDOUT] 1/29     9.16G   0.07733   0.02122    0.0322    0.1308       204       640:  20%|██        | 5/25 [00:11<00:36,  1.83s/it]\n",
      "[STDOUT] 1/29     9.16G   0.07733   0.02122    0.0322    0.1308       204       640:  24%|██▍       | 6/25 [00:11<00:35,  1.89s/it]\n",
      "[STDOUT] 1/29     9.16G   0.07725   0.02127   0.03196    0.1305       185       640:  24%|██▍       | 6/25 [00:13<00:35,  1.89s/it]\n",
      "[STDOUT] 1/29     9.16G   0.07725   0.02127   0.03196    0.1305       185       640:  28%|██▊       | 7/25 [00:13<00:33,  1.88s/it]\n",
      "[STDOUT] 1/29     9.16G   0.07694   0.02054   0.03162    0.1291       173       640:  28%|██▊       | 7/25 [00:14<00:33,  1.88s/it]\n",
      "[STDOUT] 1/29     9.16G   0.07694   0.02054   0.03162    0.1291       173       640:  32%|███▏      | 8/25 [00:14<00:31,  1.84s/it]\n",
      "[STDOUT] 1/29     9.16G   0.07654   0.02037   0.03135    0.1283       167       640:  32%|███▏      | 8/25 [00:17<00:31,  1.84s/it]\n",
      "[STDOUT] 1/29     9.16G   0.07654   0.02037   0.03135    0.1283       167       640:  36%|███▌      | 9/25 [00:17<00:31,  1.97s/it]\n",
      "[STDOUT] 1/29     9.16G   0.07637   0.02015   0.03103    0.1276       176       640:  36%|███▌      | 9/25 [00:19<00:31,  1.97s/it]\n",
      "[STDOUT] 1/29     9.16G   0.07637   0.02015   0.03103    0.1276       176       640:  40%|████      | 10/25 [00:19<00:29,  1.95s/it]\n",
      "[STDOUT] 1/29     9.16G   0.07667   0.01995   0.03117    0.1278       223       640:  40%|████      | 10/25 [00:20<00:29,  1.95s/it][TRAINING]       1/29     9.16G   0.07667   0.01995   0.03117    0.1278       223       640\n",
      "[STDOUT] \n",
      "[STDOUT] 1/29     9.16G   0.07667   0.01995   0.03117    0.1278       223       640:  44%|████▍     | 11/25 [00:20<00:26,  1.87s/it]\n",
      "[STDOUT] 1/29     9.16G   0.07625   0.02015   0.03155    0.1279       221       640:  44%|████▍     | 11/25 [00:22<00:26,  1.87s/it]\n",
      "[STDOUT] 1/29     9.16G   0.07625   0.02015   0.03155    0.1279       221       640:  48%|████▊     | 12/25 [00:22<00:24,  1.86s/it]\n",
      "[STDOUT] 1/29     9.16G   0.07649   0.02004   0.03136    0.1279       279       640:  48%|████▊     | 12/25 [00:24<00:24,  1.86s/it]\n",
      "[STDOUT] 1/29     9.16G   0.07649   0.02004   0.03136    0.1279       279       640:  52%|█████▏    | 13/25 [00:24<00:21,  1.83s/it]\n",
      "[STDOUT] 1/29     9.16G   0.07655   0.01969   0.03152    0.1278       229       640:  52%|█████▏    | 13/25 [00:25<00:21,  1.83s/it]\n",
      "[STDOUT] 1/29     9.16G   0.07655   0.01969   0.03152    0.1278       229       640:  56%|█████▌    | 14/25 [00:25<00:19,  1.77s/it]\n",
      "[STDOUT] 1/29     9.16G   0.07638    0.0194   0.03156    0.1273       147       640:  56%|█████▌    | 14/25 [00:27<00:19,  1.77s/it]\n",
      "[STDOUT] 1/29     9.16G   0.07638    0.0194   0.03156    0.1273       147       640:  60%|██████    | 15/25 [00:27<00:17,  1.75s/it]\n",
      "[STDOUT] 1/29     9.16G   0.07647   0.01929   0.03153    0.1273       169       640:  60%|██████    | 15/25 [00:29<00:17,  1.75s/it]\n",
      "[STDOUT] 1/29     9.16G   0.07647   0.01929   0.03153    0.1273       169       640:  64%|██████▍   | 16/25 [00:29<00:15,  1.77s/it]\n",
      "[STDOUT] 1/29     9.16G   0.07626   0.01987    0.0315    0.1276       219       640:  64%|██████▍   | 16/25 [00:31<00:15,  1.77s/it]\n",
      "[STDOUT] 1/29     9.16G   0.07626   0.01987    0.0315    0.1276       219       640:  68%|██████▊   | 17/25 [00:31<00:14,  1.83s/it]\n",
      "[STDOUT] 1/29     9.16G   0.07625   0.01989    0.0314    0.1275       182       640:  68%|██████▊   | 17/25 [00:33<00:14,  1.83s/it]\n",
      "[STDOUT] 1/29     9.16G   0.07625   0.01989    0.0314    0.1275       182       640:  72%|███████▏  | 18/25 [00:33<00:12,  1.77s/it]\n",
      "[STDOUT] 1/29     9.16G   0.07596   0.02007   0.03139    0.1274       153       640:  72%|███████▏  | 18/25 [00:34<00:12,  1.77s/it]\n",
      "[STDOUT] 1/29     9.16G   0.07596   0.02007   0.03139    0.1274       153       640:  76%|███████▌  | 19/25 [00:34<00:10,  1.75s/it]\n",
      "[STDOUT] 1/29     9.16G   0.07618   0.02012    0.0314    0.1277       258       640:  76%|███████▌  | 19/25 [00:36<00:10,  1.75s/it]\n",
      "[STDOUT] 1/29     9.16G   0.07618   0.02012    0.0314    0.1277       258       640:  80%|████████  | 20/25 [00:36<00:09,  1.83s/it]\n",
      "[STDOUT] 1/29     9.16G   0.07606   0.02023   0.03144    0.1277       200       640:  80%|████████  | 20/25 [00:38<00:09,  1.83s/it][TRAINING]       1/29     9.16G   0.07606   0.02023   0.03144    0.1277       200       640\n",
      "[STDOUT] \n",
      "[STDOUT] 1/29     9.16G   0.07606   0.02023   0.03144    0.1277       200       640:  84%|████████▍ | 21/25 [00:38<00:07,  1.78s/it]\n",
      "[STDOUT] 1/29     9.16G   0.07603   0.02051   0.03132    0.1279       264       640:  84%|████████▍ | 21/25 [00:40<00:07,  1.78s/it]\n",
      "[STDOUT] 1/29     9.16G   0.07603   0.02051   0.03132    0.1279       264       640:  88%|████████▊ | 22/25 [00:40<00:05,  1.75s/it]\n",
      "[STDOUT] 1/29     9.16G   0.07592   0.02048   0.03117    0.1276       214       640:  88%|████████▊ | 22/25 [00:41<00:05,  1.75s/it]\n",
      "[STDOUT] 1/29     9.16G   0.07592   0.02048   0.03117    0.1276       214       640:  92%|█████████▏| 23/25 [00:41<00:03,  1.70s/it]\n",
      "[STDOUT] 1/29     9.16G   0.07578    0.0204    0.0311    0.1273       160       640:  92%|█████████▏| 23/25 [00:43<00:03,  1.70s/it]\n",
      "[STDOUT] 1/29     9.16G   0.07578    0.0204    0.0311    0.1273       160       640:  96%|█████████▌| 24/25 [00:43<00:01,  1.70s/it]\n",
      "[STDOUT] 1/29     9.16G   0.07591   0.02044   0.03109    0.1274       106       640:  96%|█████████▌| 24/25 [00:44<00:01,  1.70s/it]\n",
      "[STDOUT] 1/29     9.16G   0.07591   0.02044   0.03109    0.1274       106       640: 100%|██████████| 25/25 [00:44<00:00,  1.37s/it]\n",
      "[STDOUT] 1/29     9.16G   0.07591   0.02044   0.03109    0.1274       106       640: 100%|██████████| 25/25 [00:44<00:00,  1.76s/it]\n",
      "[STDOUT] \n",
      "[STDOUT] Class      Images      Labels           P           R      mAP@.5  mAP@.5:.95:   0%|          | 0/5 [00:00<?, ?it/s][DEBUG] Head 0 | iou.min=0.0623, iou.max=0.9430, iou.mean=0.3919\n",
      "[STDOUT] [DEBUG] Head 0 | ps[..., 4].sigmoid().mean = 0.0008\n",
      "[STDOUT] [DEBUG] Head 1 | iou.min=0.0145, iou.max=0.7297, iou.mean=0.1867\n",
      "[STDOUT] [DEBUG] Head 1 | ps[..., 4].sigmoid().mean = 0.0004\n",
      "[STDOUT] [DEBUG] Head 2 | iou.min=-0.4362, iou.max=0.3314, iou.mean=-0.0966\n",
      "[STDOUT] [DEBUG] Head 2 | ps[..., 4].sigmoid().mean = 0.0000\n",
      "[STDOUT] \n",
      "[STDOUT] Class      Images      Labels           P           R      mAP@.5  mAP@.5:.95:  20%|██        | 1/5 [00:00<00:02,  1.64it/s][DEBUG] Head 0 | iou.min=0.0508, iou.max=0.9179, iou.mean=0.3477\n",
      "[STDOUT] [DEBUG] Head 0 | ps[..., 4].sigmoid().mean = 0.0008\n",
      "[STDOUT] [DEBUG] Head 1 | iou.min=-0.0494, iou.max=0.8207, iou.mean=0.2619\n",
      "[STDOUT] [DEBUG] Head 1 | ps[..., 4].sigmoid().mean = 0.0004\n",
      "[STDOUT] [DEBUG] Head 2 | iou.min=-0.3770, iou.max=0.2481, iou.mean=-0.0610\n",
      "[STDOUT] [DEBUG] Head 2 | ps[..., 4].sigmoid().mean = 0.0000\n",
      "[STDOUT] \n",
      "[STDOUT] Class      Images      Labels           P           R      mAP@.5  mAP@.5:.95:  40%|████      | 2/5 [00:01<00:01,  1.58it/s][DEBUG] Head 0 | iou.min=0.0445, iou.max=0.8911, iou.mean=0.4011\n",
      "[STDOUT] [DEBUG] Head 0 | ps[..., 4].sigmoid().mean = 0.0008\n",
      "[STDOUT] [DEBUG] Head 1 | iou.min=-0.0579, iou.max=0.8358, iou.mean=0.1362\n",
      "[STDOUT] [DEBUG] Head 1 | ps[..., 4].sigmoid().mean = 0.0004\n",
      "[STDOUT] [DEBUG] Head 2 | iou.min=-0.4024, iou.max=0.2316, iou.mean=-0.0921\n",
      "[STDOUT] [DEBUG] Head 2 | ps[..., 4].sigmoid().mean = 0.0000\n",
      "[STDOUT] \n",
      "[STDOUT] Class      Images      Labels           P           R      mAP@.5  mAP@.5:.95:  60%|██████    | 3/5 [00:01<00:01,  1.51it/s][DEBUG] Head 0 | iou.min=0.0594, iou.max=0.9013, iou.mean=0.3945\n",
      "[STDOUT] [DEBUG] Head 0 | ps[..., 4].sigmoid().mean = 0.0008\n",
      "[STDOUT] [DEBUG] Head 1 | iou.min=-0.0799, iou.max=0.7722, iou.mean=0.1413\n",
      "[STDOUT] [DEBUG] Head 1 | ps[..., 4].sigmoid().mean = 0.0004\n",
      "[STDOUT] [DEBUG] Head 2 | iou.min=-0.4692, iou.max=0.3706, iou.mean=-0.1248\n",
      "[STDOUT] [DEBUG] Head 2 | ps[..., 4].sigmoid().mean = 0.0000\n",
      "[STDOUT] \n",
      "[STDOUT] Class      Images      Labels           P           R      mAP@.5  mAP@.5:.95:  80%|████████  | 4/5 [00:02<00:00,  1.39it/s][DEBUG] Head 0 | iou.min=0.1863, iou.max=0.7272, iou.mean=0.4078\n",
      "[STDOUT] [DEBUG] Head 0 | ps[..., 4].sigmoid().mean = 0.0008\n",
      "[STDOUT] [DEBUG] Head 1 | iou.min=0.0996, iou.max=0.3993, iou.mean=0.1839\n",
      "[STDOUT] [DEBUG] Head 1 | ps[..., 4].sigmoid().mean = 0.0005\n",
      "[STDOUT] [DEBUG] Head 2 | iou.min=-0.3810, iou.max=0.0822, iou.mean=-0.1500\n",
      "[STDOUT] [DEBUG] Head 2 | ps[..., 4].sigmoid().mean = 0.0000\n",
      "[STDOUT] \n",
      "[STDOUT] Class      Images      Labels           P           R      mAP@.5  mAP@.5:.95: 100%|██████████| 5/5 [00:02<00:00,  1.77it/s]\n",
      "[STDOUT] all         130           0           0           0           0           0\n",
      "[STDOUT] OaohRepConv act_learn weight: 0.067\n",
      "[STDOUT] OaohRepConv act_learn weight: 0.067\n",
      "[STDOUT] OaohRepConv act_learn weight: 0.067\n",
      "[STDOUT] OaohRepConv act_learn weight: 0.067\n",
      "[STDOUT] OaohRepConv act_learn weight: 0.067\n",
      "[STDOUT] OaohRepConv act_learn weight: 0.067\n",
      "[STDOUT] OaohRepConv act_learn weight: 0.067\n",
      "[STDOUT] OaohRepConv act_learn weight: 0.067\n",
      "[STDOUT] OaohRepConv act_learn weight: 0.067\n",
      "[STDOUT] OaohRepConv act_learn weight: 0.067\n",
      "[STDOUT] OaohRepConv act_learn weight: 0.067\n",
      "[STDOUT] OaohRepConv act_learn weight: 0.067\n",
      "[STDOUT] OaohRepConv act_learn weight: 0.067\n",
      "[STDOUT] OaohRepConv act_learn weight: 0.067\n",
      "[STDOUT] OaohRepConv act_learn weight: 0.067\n",
      "[STDOUT] OaohRepConv act_learn weight: 0.067\n",
      "[STDOUT] OaohRepConv act_learn weight: 0.067\n",
      "[STDOUT] \n",
      "[STDOUT] Epoch   gpu_mem       box       obj       cls     total    labels  img_size\n",
      "[STDOUT] \n",
      "[STDOUT] 0%|          | 0/25 [00:00<?, ?it/s]\n",
      "[STDOUT] 2/29     11.9G   0.07012   0.02433   0.02763    0.1221       213       640:   0%|          | 0/25 [00:01<?, ?it/s][TRAINING]       2/29     11.9G   0.07012   0.02433   0.02763    0.1221       213       640\n",
      "[STDOUT] \n",
      "[STDOUT] 2/29     11.9G   0.07012   0.02433   0.02763    0.1221       213       640:   4%|▍         | 1/25 [00:01<00:47,  1.96s/it]\n",
      "[STDOUT] 2/29     11.9G   0.06974   0.02516    0.0279    0.1228       196       640:   4%|▍         | 1/25 [00:03<00:47,  1.96s/it]\n",
      "[STDOUT] 2/29     11.9G   0.06974   0.02516    0.0279    0.1228       196       640:   8%|▊         | 2/25 [00:03<00:43,  1.88s/it]\n",
      "[STDOUT] 2/29     11.9G   0.06935   0.02486   0.02873    0.1229       182       640:   8%|▊         | 2/25 [00:05<00:43,  1.88s/it]\n",
      "[STDOUT] 2/29     11.9G   0.06935   0.02486   0.02873    0.1229       182       640:  12%|█▏        | 3/25 [00:05<00:40,  1.84s/it]\n",
      "[STDOUT] 2/29     11.9G   0.07091   0.02344    0.0296    0.1239       183       640:  12%|█▏        | 3/25 [00:07<00:40,  1.84s/it]\n",
      "[STDOUT] 2/29     11.9G   0.07091   0.02344    0.0296    0.1239       183       640:  16%|█▌        | 4/25 [00:07<00:36,  1.76s/it]\n",
      "[STDOUT] 2/29     11.9G   0.07211   0.02258   0.02971    0.1244       201       640:  16%|█▌        | 4/25 [00:08<00:36,  1.76s/it]\n",
      "[STDOUT] 2/29     11.9G   0.07211   0.02258   0.02971    0.1244       201       640:  20%|██        | 5/25 [00:08<00:35,  1.76s/it]\n",
      "[STDOUT] 2/29     11.9G    0.0724   0.02227   0.03035     0.125       238       640:  20%|██        | 5/25 [00:10<00:35,  1.76s/it]\n",
      "[STDOUT] 2/29     11.9G    0.0724   0.02227   0.03035     0.125       238       640:  24%|██▍       | 6/25 [00:10<00:33,  1.79s/it]\n",
      "[STDOUT] 2/29     11.9G   0.07257    0.0213   0.03014     0.124       126       640:  24%|██▍       | 6/25 [00:12<00:33,  1.79s/it]\n",
      "[STDOUT] 2/29     11.9G   0.07257    0.0213   0.03014     0.124       126       640:  28%|██▊       | 7/25 [00:12<00:32,  1.79s/it]\n",
      "[STDOUT] 2/29     11.9G   0.07286   0.02044   0.02992    0.1232       131       640:  28%|██▊       | 7/25 [00:14<00:32,  1.79s/it]\n",
      "[STDOUT] 2/29     11.9G   0.07286   0.02044   0.02992    0.1232       131       640:  32%|███▏      | 8/25 [00:14<00:30,  1.82s/it]\n",
      "[STDOUT] 2/29     11.9G    0.0731   0.02019   0.02978    0.1231       179       640:  32%|███▏      | 8/25 [00:16<00:30,  1.82s/it]\n",
      "[STDOUT] 2/29     11.9G    0.0731   0.02019   0.02978    0.1231       179       640:  36%|███▌      | 9/25 [00:16<00:29,  1.81s/it]\n",
      "[STDOUT] 2/29     11.9G   0.07305   0.02044   0.02966    0.1232       216       640:  36%|███▌      | 9/25 [00:17<00:29,  1.81s/it]\n",
      "[STDOUT] 2/29     11.9G   0.07305   0.02044   0.02966    0.1232       216       640:  40%|████      | 10/25 [00:17<00:26,  1.75s/it]\n",
      "[STDOUT] 2/29     11.9G   0.07369   0.02064   0.03024    0.1246       287       640:  40%|████      | 10/25 [00:19<00:26,  1.75s/it][TRAINING]       2/29     11.9G   0.07369   0.02064   0.03024    0.1246       287       640\n",
      "[STDOUT] \n",
      "[STDOUT] 2/29     11.9G   0.07369   0.02064   0.03024    0.1246       287       640:  44%|████▍     | 11/25 [00:19<00:24,  1.77s/it]\n",
      "[STDOUT] 2/29     11.9G   0.07333   0.02045   0.03038    0.1242       131       640:  44%|████▍     | 11/25 [00:21<00:24,  1.77s/it]\n",
      "[STDOUT] 2/29     11.9G   0.07333   0.02045   0.03038    0.1242       131       640:  48%|████▊     | 12/25 [00:21<00:22,  1.74s/it]\n",
      "[STDOUT] 2/29     11.9G   0.07316   0.02067   0.03028    0.1241       241       640:  48%|████▊     | 12/25 [00:23<00:22,  1.74s/it]\n",
      "[STDOUT] 2/29     11.9G   0.07316   0.02067   0.03028    0.1241       241       640:  52%|█████▏    | 13/25 [00:23<00:21,  1.82s/it]\n",
      "[STDOUT] 2/29     11.9G   0.07346   0.02026   0.03031     0.124       168       640:  52%|█████▏    | 13/25 [00:24<00:21,  1.82s/it]\n",
      "[STDOUT] 2/29     11.9G   0.07346   0.02026   0.03031     0.124       168       640:  56%|█████▌    | 14/25 [00:24<00:18,  1.72s/it]\n",
      "[STDOUT] 2/29     11.9G   0.07381   0.01994   0.03032    0.1241       198       640:  56%|█████▌    | 14/25 [00:26<00:18,  1.72s/it]\n",
      "[STDOUT] 2/29     11.9G   0.07381   0.01994   0.03032    0.1241       198       640:  60%|██████    | 15/25 [00:26<00:16,  1.68s/it]\n",
      "[STDOUT] 2/29     11.9G   0.07369   0.02025   0.03033    0.1243       196       640:  60%|██████    | 15/25 [00:28<00:16,  1.68s/it]\n",
      "[STDOUT] 2/29     11.9G   0.07369   0.02025   0.03033    0.1243       196       640:  64%|██████▍   | 16/25 [00:28<00:15,  1.72s/it]\n",
      "[STDOUT] 2/29     11.9G   0.07379   0.02015   0.03034    0.1243       189       640:  64%|██████▍   | 16/25 [00:29<00:15,  1.72s/it]\n",
      "[STDOUT] 2/29     11.9G   0.07379   0.02015   0.03034    0.1243       189       640:  68%|██████▊   | 17/25 [00:29<00:13,  1.72s/it]\n",
      "[STDOUT] 2/29     11.9G   0.07356   0.02019   0.03014    0.1239       150       640:  68%|██████▊   | 17/25 [00:31<00:13,  1.72s/it]\n",
      "[STDOUT] 2/29     11.9G   0.07356   0.02019   0.03014    0.1239       150       640:  72%|███████▏  | 18/25 [00:31<00:11,  1.68s/it]\n",
      "[STDOUT] 2/29     11.9G   0.07345    0.0204   0.03013     0.124       186       640:  72%|███████▏  | 18/25 [00:33<00:11,  1.68s/it]\n",
      "[STDOUT] 2/29     11.9G   0.07345    0.0204   0.03013     0.124       186       640:  76%|███████▌  | 19/25 [00:33<00:10,  1.74s/it]\n",
      "[STDOUT] 2/29     11.9G   0.07337   0.02063   0.03005     0.124       287       640:  76%|███████▌  | 19/25 [00:35<00:10,  1.74s/it]\n",
      "[STDOUT] 2/29     11.9G   0.07337   0.02063   0.03005     0.124       287       640:  80%|████████  | 20/25 [00:35<00:08,  1.79s/it]\n",
      "[STDOUT] 2/29     11.9G   0.07337   0.02069   0.03027    0.1243       191       640:  80%|████████  | 20/25 [00:36<00:08,  1.79s/it][TRAINING]       2/29     11.9G   0.07337   0.02069   0.03027    0.1243       191       640\n",
      "[STDOUT] \n",
      "[STDOUT] 2/29     11.9G   0.07337   0.02069   0.03027    0.1243       191       640:  84%|████████▍ | 21/25 [00:36<00:06,  1.73s/it]\n",
      "[STDOUT] 2/29     11.9G   0.07346   0.02114   0.03031    0.1249       324       640:  84%|████████▍ | 21/25 [00:38<00:06,  1.73s/it]\n",
      "[STDOUT] 2/29     11.9G   0.07346   0.02114   0.03031    0.1249       324       640:  88%|████████▊ | 22/25 [00:38<00:05,  1.70s/it]\n",
      "[STDOUT] 2/29     11.9G   0.07331   0.02109    0.0303    0.1247       162       640:  88%|████████▊ | 22/25 [00:40<00:05,  1.70s/it]\n",
      "[STDOUT] 2/29     11.9G   0.07331   0.02109    0.0303    0.1247       162       640:  92%|█████████▏| 23/25 [00:40<00:03,  1.66s/it]\n",
      "[STDOUT] 2/29     11.9G   0.07319   0.02131   0.03024    0.1247       204       640:  92%|█████████▏| 23/25 [00:41<00:03,  1.66s/it]\n",
      "[STDOUT] 2/29     11.9G   0.07319   0.02131   0.03024    0.1247       204       640:  96%|█████████▌| 24/25 [00:41<00:01,  1.69s/it]\n",
      "[STDOUT] 2/29     11.9G   0.07318   0.02155   0.03035    0.1251        92       640:  96%|█████████▌| 24/25 [00:42<00:01,  1.69s/it]\n",
      "[STDOUT] 2/29     11.9G   0.07318   0.02155   0.03035    0.1251        92       640: 100%|██████████| 25/25 [00:42<00:00,  1.39s/it]\n",
      "[STDOUT] 2/29     11.9G   0.07318   0.02155   0.03035    0.1251        92       640: 100%|██████████| 25/25 [00:42<00:00,  1.70s/it]\n",
      "[STDOUT] \n",
      "[STDOUT] Class      Images      Labels           P           R      mAP@.5  mAP@.5:.95:   0%|          | 0/5 [00:00<?, ?it/s][DEBUG] Head 0 | iou.min=0.0299, iou.max=0.8790, iou.mean=0.3070\n",
      "[STDOUT] [DEBUG] Head 0 | ps[..., 4].sigmoid().mean = 0.0166\n",
      "[STDOUT] [DEBUG] Head 1 | iou.min=-0.3271, iou.max=0.7302, iou.mean=0.0508\n",
      "[STDOUT] [DEBUG] Head 1 | ps[..., 4].sigmoid().mean = 0.0000\n",
      "[STDOUT] [DEBUG] Head 2 | iou.min=-0.4740, iou.max=0.1584, iou.mean=-0.1579\n",
      "[STDOUT] [DEBUG] Head 2 | ps[..., 4].sigmoid().mean = 0.0000\n",
      "[STDOUT] \n",
      "[STDOUT] Class      Images      Labels           P           R      mAP@.5  mAP@.5:.95:  20%|██        | 1/5 [00:00<00:02,  1.72it/s][DEBUG] Head 0 | iou.min=0.0318, iou.max=0.8747, iou.mean=0.4026\n",
      "[STDOUT] [DEBUG] Head 0 | ps[..., 4].sigmoid().mean = 0.0107\n",
      "[STDOUT] [DEBUG] Head 1 | iou.min=-0.2873, iou.max=0.9044, iou.mean=0.0902\n",
      "[STDOUT] [DEBUG] Head 1 | ps[..., 4].sigmoid().mean = 0.0000\n",
      "[STDOUT] [DEBUG] Head 2 | iou.min=-0.4116, iou.max=0.2470, iou.mean=-0.0961\n",
      "[STDOUT] [DEBUG] Head 2 | ps[..., 4].sigmoid().mean = 0.0000\n",
      "[STDOUT] \n",
      "[STDOUT] Class      Images      Labels           P           R      mAP@.5  mAP@.5:.95:  40%|████      | 2/5 [00:01<00:01,  1.65it/s][DEBUG] Head 0 | iou.min=0.0069, iou.max=0.9072, iou.mean=0.2261\n",
      "[STDOUT] [DEBUG] Head 0 | ps[..., 4].sigmoid().mean = 0.0084\n",
      "[STDOUT] [DEBUG] Head 1 | iou.min=-0.2227, iou.max=0.7899, iou.mean=0.0299\n",
      "[STDOUT] [DEBUG] Head 1 | ps[..., 4].sigmoid().mean = 0.0000\n",
      "[STDOUT] [DEBUG] Head 2 | iou.min=-0.4975, iou.max=0.1589, iou.mean=-0.1444\n",
      "[STDOUT] [DEBUG] Head 2 | ps[..., 4].sigmoid().mean = 0.0000\n",
      "[STDOUT] \n",
      "[STDOUT] Class      Images      Labels           P           R      mAP@.5  mAP@.5:.95:  60%|██████    | 3/5 [00:01<00:01,  1.58it/s][DEBUG] Head 0 | iou.min=0.0156, iou.max=0.8958, iou.mean=0.2225\n",
      "[STDOUT] [DEBUG] Head 0 | ps[..., 4].sigmoid().mean = 0.0239\n",
      "[STDOUT] [DEBUG] Head 1 | iou.min=-0.2229, iou.max=0.6501, iou.mean=0.0255\n",
      "[STDOUT] [DEBUG] Head 1 | ps[..., 4].sigmoid().mean = 0.0000\n",
      "[STDOUT] [DEBUG] Head 2 | iou.min=-0.4856, iou.max=0.2395, iou.mean=-0.1951\n",
      "[STDOUT] [DEBUG] Head 2 | ps[..., 4].sigmoid().mean = 0.0000\n",
      "[STDOUT] \n",
      "[STDOUT] Class      Images      Labels           P           R      mAP@.5  mAP@.5:.95:  80%|████████  | 4/5 [00:02<00:00,  1.53it/s][DEBUG] Head 0 | iou.min=0.1241, iou.max=0.7316, iou.mean=0.3103\n",
      "[STDOUT] [DEBUG] Head 0 | ps[..., 4].sigmoid().mean = 0.0073\n",
      "[STDOUT] [DEBUG] Head 1 | iou.min=-0.1464, iou.max=0.2750, iou.mean=0.0324\n",
      "[STDOUT] [DEBUG] Head 1 | ps[..., 4].sigmoid().mean = 0.0000\n",
      "[STDOUT] [DEBUG] Head 2 | iou.min=-0.4313, iou.max=0.0078, iou.mean=-0.2188\n",
      "[STDOUT] [DEBUG] Head 2 | ps[..., 4].sigmoid().mean = 0.0000\n",
      "[STDOUT] \n",
      "[STDOUT] Class      Images      Labels           P           R      mAP@.5  mAP@.5:.95: 100%|██████████| 5/5 [00:02<00:00,  1.92it/s]\n",
      "[STDOUT] all         130           0           0           0           0           0\n",
      "[STDOUT] OaohRepConv act_learn weight: 0.100\n",
      "[STDOUT] OaohRepConv act_learn weight: 0.100\n",
      "[STDOUT] OaohRepConv act_learn weight: 0.100\n",
      "[STDOUT] OaohRepConv act_learn weight: 0.100\n",
      "[STDOUT] OaohRepConv act_learn weight: 0.100\n",
      "[STDOUT] OaohRepConv act_learn weight: 0.100\n",
      "[STDOUT] OaohRepConv act_learn weight: 0.100\n",
      "[STDOUT] OaohRepConv act_learn weight: 0.100\n",
      "[STDOUT] OaohRepConv act_learn weight: 0.100\n",
      "[STDOUT] OaohRepConv act_learn weight: 0.100\n",
      "[STDOUT] OaohRepConv act_learn weight: 0.100\n",
      "[STDOUT] OaohRepConv act_learn weight: 0.100\n",
      "[STDOUT] OaohRepConv act_learn weight: 0.100\n",
      "[STDOUT] OaohRepConv act_learn weight: 0.100\n",
      "[STDOUT] OaohRepConv act_learn weight: 0.100\n",
      "[STDOUT] OaohRepConv act_learn weight: 0.100\n",
      "[STDOUT] OaohRepConv act_learn weight: 0.100\n",
      "[STDOUT] \n",
      "[STDOUT] Epoch   gpu_mem       box       obj       cls     total    labels  img_size\n",
      "[STDOUT] \n",
      "[STDOUT] 0%|          | 0/25 [00:00<?, ?it/s]\n",
      "[STDOUT] 3/29     11.9G   0.07589   0.02049    0.0284    0.1248       205       640:   0%|          | 0/25 [00:02<?, ?it/s][TRAINING]       3/29     11.9G   0.07589   0.02049    0.0284    0.1248       205       640\n",
      "[STDOUT] \n",
      "[STDOUT] 3/29     11.9G   0.07589   0.02049    0.0284    0.1248       205       640:   4%|▍         | 1/25 [00:02<00:51,  2.13s/it]\n",
      "[STDOUT] 3/29     11.9G   0.07042   0.02511   0.02615    0.1217       208       640:   4%|▍         | 1/25 [00:03<00:51,  2.13s/it]\n",
      "[STDOUT] 3/29     11.9G   0.07042   0.02511   0.02615    0.1217       208       640:   8%|▊         | 2/25 [00:03<00:41,  1.81s/it]\n",
      "[STDOUT] 3/29     11.9G   0.07061   0.02379   0.02686    0.1213       215       640:   8%|▊         | 2/25 [00:05<00:41,  1.81s/it]\n",
      "[STDOUT] 3/29     11.9G   0.07061   0.02379   0.02686    0.1213       215       640:  12%|█▏        | 3/25 [00:05<00:35,  1.63s/it]\n",
      "[STDOUT] 3/29     11.9G   0.07027   0.02347   0.02685    0.1206       160       640:  12%|█▏        | 3/25 [00:06<00:35,  1.63s/it]\n",
      "[STDOUT] 3/29     11.9G   0.07027   0.02347   0.02685    0.1206       160       640:  16%|█▌        | 4/25 [00:06<00:34,  1.63s/it]\n",
      "[STDOUT] 3/29     11.9G   0.07072    0.0221   0.02794    0.1208       178       640:  16%|█▌        | 4/25 [00:08<00:34,  1.63s/it]\n",
      "[STDOUT] 3/29     11.9G   0.07072    0.0221   0.02794    0.1208       178       640:  20%|██        | 5/25 [00:08<00:32,  1.61s/it]\n",
      "[STDOUT] 3/29     11.9G   0.07034   0.02208    0.0285    0.1209       151       640:  20%|██        | 5/25 [00:09<00:32,  1.61s/it]\n",
      "[STDOUT] 3/29     11.9G   0.07034   0.02208    0.0285    0.1209       151       640:  24%|██▍       | 6/25 [00:09<00:30,  1.62s/it]\n",
      "[STDOUT] 3/29     11.9G   0.06965    0.0212   0.02839    0.1192        97       640:  24%|██▍       | 6/25 [00:11<00:30,  1.62s/it]\n",
      "[STDOUT] 3/29     11.9G   0.06965    0.0212   0.02839    0.1192        97       640:  28%|██▊       | 7/25 [00:11<00:28,  1.57s/it]\n",
      "[STDOUT] 3/29     11.9G   0.06986   0.02093   0.02852    0.1193       166       640:  28%|██▊       | 7/25 [00:13<00:28,  1.57s/it]\n",
      "[STDOUT] 3/29     11.9G   0.06986   0.02093   0.02852    0.1193       166       640:  32%|███▏      | 8/25 [00:13<00:27,  1.60s/it]\n",
      "[STDOUT] 3/29     11.9G   0.06969   0.02153    0.0284    0.1196       179       640:  32%|███▏      | 8/25 [00:14<00:27,  1.60s/it]\n",
      "[STDOUT] 3/29     11.9G   0.06969   0.02153    0.0284    0.1196       179       640:  36%|███▌      | 9/25 [00:14<00:26,  1.64s/it]\n",
      "[STDOUT] 3/29     11.9G   0.06988   0.02161   0.02825    0.1197       212       640:  36%|███▌      | 9/25 [00:16<00:26,  1.64s/it]\n",
      "[STDOUT] 3/29     11.9G   0.06988   0.02161   0.02825    0.1197       212       640:  40%|████      | 10/25 [00:16<00:24,  1.65s/it]\n",
      "[STDOUT] 3/29     11.9G   0.06985   0.02242   0.02837    0.1206       234       640:  40%|████      | 10/25 [00:18<00:24,  1.65s/it][TRAINING]       3/29     11.9G   0.06985   0.02242   0.02837    0.1206       234       640\n",
      "[STDOUT] \n",
      "[STDOUT] 3/29     11.9G   0.06985   0.02242   0.02837    0.1206       234       640:  44%|████▍     | 11/25 [00:18<00:23,  1.65s/it]\n",
      "[STDOUT] 3/29     11.9G   0.06972   0.02215    0.0282    0.1201       160       640:  44%|████▍     | 11/25 [00:19<00:23,  1.65s/it]\n",
      "[STDOUT] 3/29     11.9G   0.06972   0.02215    0.0282    0.1201       160       640:  48%|████▊     | 12/25 [00:19<00:21,  1.67s/it]\n",
      "[STDOUT] 3/29     11.9G   0.07002   0.02271   0.02836    0.1211       352       640:  48%|████▊     | 12/25 [00:22<00:21,  1.67s/it]\n",
      "[STDOUT] 3/29     11.9G   0.07002   0.02271   0.02836    0.1211       352       640:  52%|█████▏    | 13/25 [00:22<00:21,  1.82s/it]\n",
      "[STDOUT] 3/29     11.9G   0.06998   0.02232   0.02841    0.1207       158       640:  52%|█████▏    | 13/25 [00:23<00:21,  1.82s/it]\n",
      "[STDOUT] 3/29     11.9G   0.06998   0.02232   0.02841    0.1207       158       640:  56%|█████▌    | 14/25 [00:23<00:18,  1.68s/it]\n",
      "[STDOUT] 3/29     11.9G   0.06975   0.02222   0.02846    0.1204       129       640:  56%|█████▌    | 14/25 [00:25<00:18,  1.68s/it]\n",
      "[STDOUT] 3/29     11.9G   0.06975   0.02222   0.02846    0.1204       129       640:  60%|██████    | 15/25 [00:25<00:17,  1.73s/it]\n",
      "[STDOUT] 3/29     11.9G   0.07003   0.02199   0.02852    0.1205       167       640:  60%|██████    | 15/25 [00:26<00:17,  1.73s/it]\n",
      "[STDOUT] 3/29     11.9G   0.07003   0.02199   0.02852    0.1205       167       640:  64%|██████▍   | 16/25 [00:26<00:14,  1.64s/it]\n",
      "[STDOUT] 3/29     11.9G   0.07004   0.02209   0.02852    0.1207       205       640:  64%|██████▍   | 16/25 [00:28<00:14,  1.64s/it]\n",
      "[STDOUT] 3/29     11.9G   0.07004   0.02209   0.02852    0.1207       205       640:  68%|██████▊   | 17/25 [00:28<00:12,  1.59s/it]\n",
      "[STDOUT] 3/29     11.9G   0.06981   0.02193    0.0287    0.1204       149       640:  68%|██████▊   | 17/25 [00:29<00:12,  1.59s/it]\n",
      "[STDOUT] 3/29     11.9G   0.06981   0.02193    0.0287    0.1204       149       640:  72%|███████▏  | 18/25 [00:29<00:10,  1.57s/it]\n",
      "[STDOUT] 3/29     11.9G    0.0697   0.02192   0.02868    0.1203       147       640:  72%|███████▏  | 18/25 [00:31<00:10,  1.57s/it]\n",
      "[STDOUT] 3/29     11.9G    0.0697   0.02192   0.02868    0.1203       147       640:  76%|███████▌  | 19/25 [00:31<00:09,  1.56s/it]\n",
      "[STDOUT] 3/29     11.9G   0.06999     0.022   0.02892    0.1209       304       640:  76%|███████▌  | 19/25 [00:32<00:09,  1.56s/it]\n",
      "[STDOUT] 3/29     11.9G   0.06999     0.022   0.02892    0.1209       304       640:  80%|████████  | 20/25 [00:32<00:07,  1.56s/it]\n",
      "[STDOUT] 3/29     11.9G   0.06991   0.02234   0.02884    0.1211       213       640:  80%|████████  | 20/25 [00:34<00:07,  1.56s/it][TRAINING]       3/29     11.9G   0.06991   0.02234   0.02884    0.1211       213       640\n",
      "[STDOUT] \n",
      "[STDOUT] 3/29     11.9G   0.06991   0.02234   0.02884    0.1211       213       640:  84%|████████▍ | 21/25 [00:34<00:06,  1.55s/it]\n",
      "[STDOUT] 3/29     11.9G   0.06992   0.02235   0.02897    0.1212       179       640:  84%|████████▍ | 21/25 [00:35<00:06,  1.55s/it]\n",
      "[STDOUT] 3/29     11.9G   0.06992   0.02235   0.02897    0.1212       179       640:  88%|████████▊ | 22/25 [00:35<00:04,  1.54s/it]\n",
      "[STDOUT] 3/29     11.9G   0.06994   0.02236   0.02899    0.1213       180       640:  88%|████████▊ | 22/25 [00:37<00:04,  1.54s/it]\n",
      "[STDOUT] 3/29     11.9G   0.06994   0.02236   0.02899    0.1213       180       640:  92%|█████████▏| 23/25 [00:37<00:03,  1.57s/it]\n",
      "[STDOUT] 3/29     11.9G   0.06997   0.02257   0.02904    0.1216       238       640:  92%|█████████▏| 23/25 [00:39<00:03,  1.57s/it]\n",
      "[STDOUT] 3/29     11.9G   0.06997   0.02257   0.02904    0.1216       238       640:  96%|█████████▌| 24/25 [00:39<00:01,  1.61s/it]\n",
      "[STDOUT] 3/29     11.9G   0.06986   0.02266   0.02909    0.1216        68       640:  96%|█████████▌| 24/25 [00:39<00:01,  1.61s/it]\n",
      "[STDOUT] 3/29     11.9G   0.06986   0.02266   0.02909    0.1216        68       640: 100%|██████████| 25/25 [00:39<00:00,  1.33s/it]\n",
      "[STDOUT] 3/29     11.9G   0.06986   0.02266   0.02909    0.1216        68       640: 100%|██████████| 25/25 [00:39<00:00,  1.59s/it]\n",
      "[STDOUT] \n",
      "[STDOUT] Class      Images      Labels           P           R      mAP@.5  mAP@.5:.95:   0%|          | 0/5 [00:00<?, ?it/s][DEBUG] Head 0 | iou.min=0.0162, iou.max=0.8081, iou.mean=0.2805\n",
      "[STDOUT] [DEBUG] Head 0 | ps[..., 4].sigmoid().mean = 0.0008\n",
      "[STDOUT] [DEBUG] Head 1 | iou.min=-0.3246, iou.max=0.7048, iou.mean=0.0656\n",
      "[STDOUT] [DEBUG] Head 1 | ps[..., 4].sigmoid().mean = 0.0000\n",
      "[STDOUT] [DEBUG] Head 2 | iou.min=-0.4546, iou.max=0.1578, iou.mean=-0.1462\n",
      "[STDOUT] [DEBUG] Head 2 | ps[..., 4].sigmoid().mean = 0.0000\n",
      "[STDOUT] \n",
      "[STDOUT] Class      Images      Labels           P           R      mAP@.5  mAP@.5:.95:  20%|██        | 1/5 [00:00<00:02,  1.82it/s][DEBUG] Head 0 | iou.min=0.0307, iou.max=0.8333, iou.mean=0.3500\n",
      "[STDOUT] [DEBUG] Head 0 | ps[..., 4].sigmoid().mean = 0.0006\n",
      "[STDOUT] [DEBUG] Head 1 | iou.min=-0.2861, iou.max=0.8268, iou.mean=0.1206\n",
      "[STDOUT] [DEBUG] Head 1 | ps[..., 4].sigmoid().mean = 0.0000\n",
      "[STDOUT] [DEBUG] Head 2 | iou.min=-0.4100, iou.max=0.2468, iou.mean=-0.0897\n",
      "[STDOUT] [DEBUG] Head 2 | ps[..., 4].sigmoid().mean = 0.0000\n",
      "[STDOUT] \n",
      "[STDOUT] Class      Images      Labels           P           R      mAP@.5  mAP@.5:.95:  40%|████      | 2/5 [00:01<00:01,  1.72it/s][DEBUG] Head 0 | iou.min=0.0041, iou.max=0.7910, iou.mean=0.2093\n",
      "[STDOUT] [DEBUG] Head 0 | ps[..., 4].sigmoid().mean = 0.0005\n",
      "[STDOUT] [DEBUG] Head 1 | iou.min=-0.2179, iou.max=0.7700, iou.mean=0.0473\n",
      "[STDOUT] [DEBUG] Head 1 | ps[..., 4].sigmoid().mean = 0.0000\n",
      "[STDOUT] [DEBUG] Head 2 | iou.min=-0.4974, iou.max=0.1592, iou.mean=-0.1303\n",
      "[STDOUT] [DEBUG] Head 2 | ps[..., 4].sigmoid().mean = 0.0000\n",
      "[STDOUT] \n",
      "[STDOUT] Class      Images      Labels           P           R      mAP@.5  mAP@.5:.95:  60%|██████    | 3/5 [00:01<00:01,  1.63it/s][DEBUG] Head 0 | iou.min=-0.0233, iou.max=0.8132, iou.mean=0.2176\n",
      "[STDOUT] [DEBUG] Head 0 | ps[..., 4].sigmoid().mean = 0.0013\n",
      "[STDOUT] [DEBUG] Head 1 | iou.min=-0.1819, iou.max=0.6483, iou.mean=0.0447\n",
      "[STDOUT] [DEBUG] Head 1 | ps[..., 4].sigmoid().mean = 0.0000\n",
      "[STDOUT] [DEBUG] Head 2 | iou.min=-0.4851, iou.max=0.2391, iou.mean=-0.1852\n",
      "[STDOUT] [DEBUG] Head 2 | ps[..., 4].sigmoid().mean = 0.0000\n",
      "[STDOUT] \n",
      "[STDOUT] Class      Images      Labels           P           R      mAP@.5  mAP@.5:.95:  80%|████████  | 4/5 [00:02<00:00,  1.57it/s][DEBUG] Head 0 | iou.min=0.0590, iou.max=0.6472, iou.mean=0.2425\n",
      "[STDOUT] [DEBUG] Head 0 | ps[..., 4].sigmoid().mean = 0.0008\n",
      "[STDOUT] [DEBUG] Head 1 | iou.min=-0.1416, iou.max=0.2132, iou.mean=0.0459\n",
      "[STDOUT] [DEBUG] Head 1 | ps[..., 4].sigmoid().mean = 0.0000\n",
      "[STDOUT] [DEBUG] Head 2 | iou.min=-0.4310, iou.max=0.0851, iou.mean=-0.1837\n",
      "[STDOUT] [DEBUG] Head 2 | ps[..., 4].sigmoid().mean = 0.0000\n",
      "[STDOUT] \n",
      "[STDOUT] Class      Images      Labels           P           R      mAP@.5  mAP@.5:.95: 100%|██████████| 5/5 [00:02<00:00,  1.98it/s]\n",
      "[STDOUT] all         130           0           0           0           0           0\n",
      "[STDOUT] OaohRepConv act_learn weight: 0.133\n",
      "[STDOUT] OaohRepConv act_learn weight: 0.133\n",
      "[STDOUT] OaohRepConv act_learn weight: 0.133\n",
      "[STDOUT] OaohRepConv act_learn weight: 0.133\n",
      "[STDOUT] OaohRepConv act_learn weight: 0.133\n",
      "[STDOUT] OaohRepConv act_learn weight: 0.133\n",
      "[STDOUT] OaohRepConv act_learn weight: 0.133\n",
      "[STDOUT] OaohRepConv act_learn weight: 0.133\n",
      "[STDOUT] OaohRepConv act_learn weight: 0.133\n",
      "[STDOUT] OaohRepConv act_learn weight: 0.133\n",
      "[STDOUT] OaohRepConv act_learn weight: 0.133\n",
      "[STDOUT] OaohRepConv act_learn weight: 0.133\n",
      "[STDOUT] OaohRepConv act_learn weight: 0.133\n",
      "[STDOUT] OaohRepConv act_learn weight: 0.133\n",
      "[STDOUT] OaohRepConv act_learn weight: 0.133\n",
      "[STDOUT] OaohRepConv act_learn weight: 0.133\n",
      "[STDOUT] OaohRepConv act_learn weight: 0.133\n",
      "[STDOUT] \n",
      "[STDOUT] Epoch   gpu_mem       box       obj       cls     total    labels  img_size\n",
      "[STDOUT] \n",
      "[STDOUT] 0%|          | 0/25 [00:00<?, ?it/s]\n",
      "[STDOUT] 4/29     11.9G   0.06556   0.03639   0.02994    0.1319       224       640:   0%|          | 0/25 [00:02<?, ?it/s][TRAINING]       4/29     11.9G   0.06556   0.03639   0.02994    0.1319       224       640\n",
      "[STDOUT] \n",
      "[STDOUT] 4/29     11.9G   0.06556   0.03639   0.02994    0.1319       224       640:   4%|▍         | 1/25 [00:02<00:48,  2.01s/it]\n",
      "[STDOUT] 4/29     11.9G   0.06769   0.03224   0.02968    0.1296       210       640:   4%|▍         | 1/25 [00:03<00:48,  2.01s/it]\n",
      "[STDOUT] 4/29     11.9G   0.06769   0.03224   0.02968    0.1296       210       640:   8%|▊         | 2/25 [00:03<00:41,  1.82s/it]\n",
      "[STDOUT] 4/29     11.9G   0.06731   0.02794   0.02975     0.125       126       640:   8%|▊         | 2/25 [00:05<00:41,  1.82s/it]\n",
      "[STDOUT] 4/29     11.9G   0.06731   0.02794   0.02975     0.125       126       640:  12%|█▏        | 3/25 [00:05<00:37,  1.71s/it]\n",
      "[STDOUT] 4/29     11.9G   0.06699   0.02593   0.02979    0.1227       134       640:  12%|█▏        | 3/25 [00:06<00:37,  1.71s/it]\n",
      "[STDOUT] 4/29     11.9G   0.06699   0.02593   0.02979    0.1227       134       640:  16%|█▌        | 4/25 [00:06<00:35,  1.67s/it]\n",
      "[STDOUT] 4/29     11.9G   0.06705   0.02498   0.02997     0.122       144       640:  16%|█▌        | 4/25 [00:08<00:35,  1.67s/it]\n",
      "[STDOUT] 4/29     11.9G   0.06705   0.02498   0.02997     0.122       144       640:  20%|██        | 5/25 [00:08<00:34,  1.70s/it]\n",
      "[STDOUT] 4/29     11.9G   0.06735   0.02505   0.02971    0.1221       206       640:  20%|██        | 5/25 [00:10<00:34,  1.70s/it]\n",
      "[STDOUT] 4/29     11.9G   0.06735   0.02505   0.02971    0.1221       206       640:  24%|██▍       | 6/25 [00:10<00:31,  1.67s/it]\n",
      "[STDOUT] 4/29     11.9G   0.06696   0.02553   0.02929    0.1218       188       640:  24%|██▍       | 6/25 [00:11<00:31,  1.67s/it]\n",
      "[STDOUT] 4/29     11.9G   0.06696   0.02553   0.02929    0.1218       188       640:  28%|██▊       | 7/25 [00:11<00:29,  1.62s/it]\n",
      "[STDOUT] 4/29     11.9G   0.06716   0.02514   0.02928    0.1216       194       640:  28%|██▊       | 7/25 [00:13<00:29,  1.62s/it]\n",
      "[STDOUT] 4/29     11.9G   0.06716   0.02514   0.02928    0.1216       194       640:  32%|███▏      | 8/25 [00:13<00:26,  1.57s/it]\n",
      "[STDOUT] 4/29     11.9G   0.06784   0.02473    0.0294     0.122       256       640:  32%|███▏      | 8/25 [00:14<00:26,  1.57s/it]\n",
      "[STDOUT] 4/29     11.9G   0.06784   0.02473    0.0294     0.122       256       640:  36%|███▌      | 9/25 [00:14<00:24,  1.54s/it]\n",
      "[STDOUT] 4/29     11.9G   0.06823   0.02418   0.02892    0.1213       172       640:  36%|███▌      | 9/25 [00:16<00:24,  1.54s/it]\n",
      "[STDOUT] 4/29     11.9G   0.06823   0.02418   0.02892    0.1213       172       640:  40%|████      | 10/25 [00:16<00:22,  1.52s/it]\n",
      "[STDOUT] 4/29     11.9G   0.06868   0.02342   0.02939    0.1215       177       640:  40%|████      | 10/25 [00:17<00:22,  1.52s/it][TRAINING]       4/29     11.9G   0.06868   0.02342   0.02939    0.1215       177       640\n",
      "[STDOUT] \n",
      "[STDOUT] 4/29     11.9G   0.06868   0.02342   0.02939    0.1215       177       640:  44%|████▍     | 11/25 [00:17<00:21,  1.56s/it]\n",
      "[STDOUT] 4/29     11.9G   0.06881   0.02367   0.02899    0.1215       201       640:  44%|████▍     | 11/25 [00:19<00:21,  1.56s/it]\n",
      "[STDOUT] 4/29     11.9G   0.06881   0.02367   0.02899    0.1215       201       640:  48%|████▊     | 12/25 [00:19<00:19,  1.52s/it]\n",
      "[STDOUT] 4/29     11.9G    0.0688   0.02413    0.0291     0.122       327       640:  48%|████▊     | 12/25 [00:20<00:19,  1.52s/it]\n",
      "[STDOUT] 4/29     11.9G    0.0688   0.02413    0.0291     0.122       327       640:  52%|█████▏    | 13/25 [00:20<00:18,  1.57s/it]\n",
      "[STDOUT] 4/29     11.9G   0.06894   0.02338   0.02936    0.1217       105       640:  52%|█████▏    | 13/25 [00:22<00:18,  1.57s/it]\n",
      "[STDOUT] 4/29     11.9G   0.06894   0.02338   0.02936    0.1217       105       640:  56%|█████▌    | 14/25 [00:22<00:17,  1.62s/it]\n",
      "[STDOUT] 4/29     11.9G   0.06878   0.02359   0.02939    0.1218       194       640:  56%|█████▌    | 14/25 [00:24<00:17,  1.62s/it]\n",
      "[STDOUT] 4/29     11.9G   0.06878   0.02359   0.02939    0.1218       194       640:  60%|██████    | 15/25 [00:24<00:16,  1.62s/it]\n",
      "[STDOUT] 4/29     11.9G   0.06854   0.02352    0.0294    0.1215       200       640:  60%|██████    | 15/25 [00:26<00:16,  1.62s/it]\n",
      "[STDOUT] 4/29     11.9G   0.06854   0.02352    0.0294    0.1215       200       640:  64%|██████▍   | 16/25 [00:26<00:14,  1.65s/it]\n",
      "[STDOUT] 4/29     11.9G   0.06867   0.02349   0.02944    0.1216       212       640:  64%|██████▍   | 16/25 [00:27<00:14,  1.65s/it]\n",
      "[STDOUT] 4/29     11.9G   0.06867   0.02349   0.02944    0.1216       212       640:  68%|██████▊   | 17/25 [00:27<00:12,  1.61s/it]\n",
      "[STDOUT] 4/29     11.9G   0.06863   0.02345   0.02933    0.1214       181       640:  68%|██████▊   | 17/25 [00:29<00:12,  1.61s/it]\n",
      "[STDOUT] 4/29     11.9G   0.06863   0.02345   0.02933    0.1214       181       640:  72%|███████▏  | 18/25 [00:29<00:11,  1.61s/it]\n",
      "[STDOUT] 4/29     11.9G   0.06852   0.02337   0.02925    0.1211       190       640:  72%|███████▏  | 18/25 [00:30<00:11,  1.61s/it]\n",
      "[STDOUT] 4/29     11.9G   0.06852   0.02337   0.02925    0.1211       190       640:  76%|███████▌  | 19/25 [00:30<00:09,  1.58s/it]\n",
      "[STDOUT] 4/29     11.9G   0.06864   0.02323   0.02904    0.1209       244       640:  76%|███████▌  | 19/25 [00:32<00:09,  1.58s/it]\n",
      "[STDOUT] 4/29     11.9G   0.06864   0.02323   0.02904    0.1209       244       640:  80%|████████  | 20/25 [00:32<00:08,  1.61s/it]\n",
      "[STDOUT] 4/29     11.9G   0.06869   0.02325    0.0291     0.121       215       640:  80%|████████  | 20/25 [00:33<00:08,  1.61s/it][TRAINING]       4/29     11.9G   0.06869   0.02325    0.0291     0.121       215       640\n",
      "[STDOUT] \n",
      "[STDOUT] 4/29     11.9G   0.06869   0.02325    0.0291     0.121       215       640:  84%|████████▍ | 21/25 [00:33<00:06,  1.63s/it]\n",
      "[STDOUT] 4/29     11.9G   0.06878   0.02355   0.02905    0.1214       290       640:  84%|████████▍ | 21/25 [00:35<00:06,  1.63s/it]\n",
      "[STDOUT] 4/29     11.9G   0.06878   0.02355   0.02905    0.1214       290       640:  88%|████████▊ | 22/25 [00:35<00:04,  1.61s/it]\n",
      "[STDOUT] 4/29     11.9G   0.06882   0.02365   0.02891    0.1214       216       640:  88%|████████▊ | 22/25 [00:37<00:04,  1.61s/it]\n",
      "[STDOUT] 4/29     11.9G   0.06882   0.02365   0.02891    0.1214       216       640:  92%|█████████▏| 23/25 [00:37<00:03,  1.62s/it]\n",
      "[STDOUT] 4/29     11.9G   0.06889   0.02358   0.02885    0.1213       203       640:  92%|█████████▏| 23/25 [00:38<00:03,  1.62s/it]\n",
      "[STDOUT] 4/29     11.9G   0.06889   0.02358   0.02885    0.1213       203       640:  96%|█████████▌| 24/25 [00:38<00:01,  1.53s/it]\n",
      "[STDOUT] 4/29     11.9G   0.06895   0.02363   0.02864    0.1212        75       640:  96%|█████████▌| 24/25 [00:39<00:01,  1.53s/it]\n",
      "[STDOUT] 4/29     11.9G   0.06895   0.02363   0.02864    0.1212        75       640: 100%|██████████| 25/25 [00:39<00:00,  1.27s/it]\n",
      "[STDOUT] 4/29     11.9G   0.06895   0.02363   0.02864    0.1212        75       640: 100%|██████████| 25/25 [00:39<00:00,  1.57s/it]\n",
      "[STDOUT] \n",
      "[STDOUT] Class      Images      Labels           P           R      mAP@.5  mAP@.5:.95:   0%|          | 0/5 [00:00<?, ?it/s][DEBUG] Head 0 | iou.min=0.0286, iou.max=0.8493, iou.mean=0.3017\n",
      "[STDOUT] [DEBUG] Head 0 | ps[..., 4].sigmoid().mean = 0.0029\n",
      "[STDOUT] [DEBUG] Head 1 | iou.min=-0.3892, iou.max=0.7054, iou.mean=0.0313\n",
      "[STDOUT] [DEBUG] Head 1 | ps[..., 4].sigmoid().mean = 0.0000\n",
      "[STDOUT] [DEBUG] Head 2 | iou.min=-0.4761, iou.max=0.1587, iou.mean=-0.1603\n",
      "[STDOUT] [DEBUG] Head 2 | ps[..., 4].sigmoid().mean = 0.0000\n",
      "[STDOUT] \n",
      "[STDOUT] Class      Images      Labels           P           R      mAP@.5  mAP@.5:.95:  20%|██        | 1/5 [00:00<00:02,  1.77it/s][DEBUG] Head 0 | iou.min=0.0281, iou.max=0.8986, iou.mean=0.3917\n",
      "[STDOUT] [DEBUG] Head 0 | ps[..., 4].sigmoid().mean = 0.0023\n",
      "[STDOUT] [DEBUG] Head 1 | iou.min=-0.4013, iou.max=0.8272, iou.mean=0.0989\n",
      "[STDOUT] [DEBUG] Head 1 | ps[..., 4].sigmoid().mean = 0.0000\n",
      "[STDOUT] [DEBUG] Head 2 | iou.min=-0.4116, iou.max=0.2478, iou.mean=-0.0967\n",
      "[STDOUT] [DEBUG] Head 2 | ps[..., 4].sigmoid().mean = 0.0000\n",
      "[STDOUT] \n",
      "[STDOUT] Class      Images      Labels           P           R      mAP@.5  mAP@.5:.95:  40%|████      | 2/5 [00:01<00:01,  1.72it/s][DEBUG] Head 0 | iou.min=0.0095, iou.max=0.9175, iou.mean=0.2227\n",
      "[STDOUT] [DEBUG] Head 0 | ps[..., 4].sigmoid().mean = 0.0020\n",
      "[STDOUT] [DEBUG] Head 1 | iou.min=-0.4354, iou.max=0.7702, iou.mean=-0.0081\n",
      "[STDOUT] [DEBUG] Head 1 | ps[..., 4].sigmoid().mean = 0.0000\n",
      "[STDOUT] [DEBUG] Head 2 | iou.min=-0.4975, iou.max=0.1583, iou.mean=-0.1461\n",
      "[STDOUT] [DEBUG] Head 2 | ps[..., 4].sigmoid().mean = 0.0000\n",
      "[STDOUT] \n",
      "[STDOUT] Class      Images      Labels           P           R      mAP@.5  mAP@.5:.95:  60%|██████    | 3/5 [00:01<00:01,  1.65it/s][DEBUG] Head 0 | iou.min=0.0145, iou.max=0.9098, iou.mean=0.2177\n",
      "[STDOUT] [DEBUG] Head 0 | ps[..., 4].sigmoid().mean = 0.0041\n",
      "[STDOUT] [DEBUG] Head 1 | iou.min=-0.4581, iou.max=0.6485, iou.mean=-0.0143\n",
      "[STDOUT] [DEBUG] Head 1 | ps[..., 4].sigmoid().mean = 0.0000\n",
      "[STDOUT] [DEBUG] Head 2 | iou.min=-0.4865, iou.max=0.2403, iou.mean=-0.1962\n",
      "[STDOUT] [DEBUG] Head 2 | ps[..., 4].sigmoid().mean = 0.0000\n",
      "[STDOUT] \n",
      "[STDOUT] Class      Images      Labels           P           R      mAP@.5  mAP@.5:.95:  80%|████████  | 4/5 [00:02<00:00,  1.61it/s][DEBUG] Head 0 | iou.min=0.1208, iou.max=0.7071, iou.mean=0.3097\n",
      "[STDOUT] [DEBUG] Head 0 | ps[..., 4].sigmoid().mean = 0.0045\n",
      "[STDOUT] [DEBUG] Head 1 | iou.min=-0.2136, iou.max=0.2133, iou.mean=0.0165\n",
      "[STDOUT] [DEBUG] Head 1 | ps[..., 4].sigmoid().mean = 0.0000\n",
      "[STDOUT] [DEBUG] Head 2 | iou.min=-0.4314, iou.max=0.0085, iou.mean=-0.2203\n",
      "[STDOUT] [DEBUG] Head 2 | ps[..., 4].sigmoid().mean = 0.0000\n",
      "[STDOUT] \n",
      "[STDOUT] Class      Images      Labels           P           R      mAP@.5  mAP@.5:.95: 100%|██████████| 5/5 [00:02<00:00,  2.00it/s]\n",
      "[STDOUT] all         130           0           0           0           0           0\n",
      "[STDOUT] OaohRepConv act_learn weight: 0.167\n",
      "[STDOUT] OaohRepConv act_learn weight: 0.167\n",
      "[STDOUT] OaohRepConv act_learn weight: 0.167\n",
      "[STDOUT] OaohRepConv act_learn weight: 0.167\n",
      "[STDOUT] OaohRepConv act_learn weight: 0.167\n",
      "[STDOUT] OaohRepConv act_learn weight: 0.167\n",
      "[STDOUT] OaohRepConv act_learn weight: 0.167\n",
      "[STDOUT] OaohRepConv act_learn weight: 0.167\n",
      "[STDOUT] OaohRepConv act_learn weight: 0.167\n",
      "[STDOUT] OaohRepConv act_learn weight: 0.167\n",
      "[STDOUT] OaohRepConv act_learn weight: 0.167\n",
      "[STDOUT] OaohRepConv act_learn weight: 0.167\n",
      "[STDOUT] OaohRepConv act_learn weight: 0.167\n",
      "[STDOUT] OaohRepConv act_learn weight: 0.167\n",
      "[STDOUT] OaohRepConv act_learn weight: 0.167\n",
      "[STDOUT] OaohRepConv act_learn weight: 0.167\n",
      "[STDOUT] OaohRepConv act_learn weight: 0.167\n",
      "[STDOUT] \n",
      "[STDOUT] Epoch   gpu_mem       box       obj       cls     total    labels  img_size\n",
      "[STDOUT] \n",
      "[STDOUT] 0%|          | 0/25 [00:00<?, ?it/s]\n",
      "[STDOUT] 5/29     11.9G   0.06876   0.02294   0.02354    0.1152       178       640:   0%|          | 0/25 [00:01<?, ?it/s][TRAINING]       5/29     11.9G   0.06876   0.02294   0.02354    0.1152       178       640\n",
      "[STDOUT] \n",
      "[STDOUT] 5/29     11.9G   0.06876   0.02294   0.02354    0.1152       178       640:   4%|▍         | 1/25 [00:01<00:40,  1.70s/it]\n",
      "[STDOUT] 5/29     11.9G   0.06704   0.02992   0.02638    0.1233       265       640:   4%|▍         | 1/25 [00:03<00:40,  1.70s/it]\n",
      "[STDOUT] 5/29     11.9G   0.06704   0.02992   0.02638    0.1233       265       640:   8%|▊         | 2/25 [00:03<00:38,  1.69s/it]\n",
      "[STDOUT] 5/29     11.9G   0.06686    0.0298   0.02608    0.1227       218       640:   8%|▊         | 2/25 [00:04<00:38,  1.69s/it]\n",
      "[STDOUT] 5/29     11.9G   0.06686    0.0298   0.02608    0.1227       218       640:  12%|█▏        | 3/25 [00:04<00:35,  1.62s/it]\n",
      "[STDOUT] 5/29     11.9G   0.06681   0.02882   0.02685    0.1225       204       640:  12%|█▏        | 3/25 [00:06<00:35,  1.62s/it]\n",
      "[STDOUT] 5/29     11.9G   0.06681   0.02882   0.02685    0.1225       204       640:  16%|█▌        | 4/25 [00:06<00:33,  1.61s/it]\n",
      "[STDOUT] 5/29     11.9G   0.06688   0.02788   0.02684    0.1216       163       640:  16%|█▌        | 4/25 [00:08<00:33,  1.61s/it]\n",
      "[STDOUT] 5/29     11.9G   0.06688   0.02788   0.02684    0.1216       163       640:  20%|██        | 5/25 [00:08<00:32,  1.62s/it]\n",
      "[STDOUT] 5/29     11.9G    0.0674   0.02656   0.02827    0.1222       156       640:  20%|██        | 5/25 [00:09<00:32,  1.62s/it]\n",
      "[STDOUT] 5/29     11.9G    0.0674   0.02656   0.02827    0.1222       156       640:  24%|██▍       | 6/25 [00:09<00:31,  1.65s/it]\n",
      "[STDOUT] 5/29     11.9G   0.06785     0.025    0.0283    0.1211       162       640:  24%|██▍       | 6/25 [00:11<00:31,  1.65s/it]\n",
      "[STDOUT] 5/29     11.9G   0.06785     0.025    0.0283    0.1211       162       640:  28%|██▊       | 7/25 [00:11<00:28,  1.60s/it]\n",
      "[STDOUT] 5/29     11.9G   0.06824   0.02448   0.02805    0.1208       176       640:  28%|██▊       | 7/25 [00:12<00:28,  1.60s/it]\n",
      "[STDOUT] 5/29     11.9G   0.06824   0.02448   0.02805    0.1208       176       640:  32%|███▏      | 8/25 [00:12<00:26,  1.59s/it]\n",
      "[STDOUT] 5/29     11.9G   0.06797   0.02435   0.02747    0.1198       174       640:  32%|███▏      | 8/25 [00:14<00:26,  1.59s/it]\n",
      "[STDOUT] 5/29     11.9G   0.06797   0.02435   0.02747    0.1198       174       640:  36%|███▌      | 9/25 [00:14<00:25,  1.57s/it]\n",
      "[STDOUT] 5/29     11.9G    0.0681   0.02431    0.0275    0.1199       212       640:  36%|███▌      | 9/25 [00:15<00:25,  1.57s/it]\n",
      "[STDOUT] 5/29     11.9G    0.0681   0.02431    0.0275    0.1199       212       640:  40%|████      | 10/25 [00:15<00:23,  1.56s/it]\n",
      "[STDOUT] 5/29     11.9G    0.0682   0.02384   0.02757    0.1196       190       640:  40%|████      | 10/25 [00:17<00:23,  1.56s/it][TRAINING]       5/29     11.9G    0.0682   0.02384   0.02757    0.1196       190       640\n",
      "[STDOUT] \n",
      "[STDOUT] 5/29     11.9G    0.0682   0.02384   0.02757    0.1196       190       640:  44%|████▍     | 11/25 [00:17<00:21,  1.56s/it]\n",
      "[STDOUT] 5/29     11.9G   0.06837   0.02359   0.02784    0.1198       270       640:  44%|████▍     | 11/25 [00:19<00:21,  1.56s/it]\n",
      "[STDOUT] 5/29     11.9G   0.06837   0.02359   0.02784    0.1198       270       640:  48%|████▊     | 12/25 [00:19<00:20,  1.55s/it]\n",
      "[STDOUT] 5/29     11.9G   0.06817    0.0237   0.02765    0.1195       248       640:  48%|████▊     | 12/25 [00:20<00:20,  1.55s/it]\n",
      "[STDOUT] 5/29     11.9G   0.06817    0.0237   0.02765    0.1195       248       640:  52%|█████▏    | 13/25 [00:20<00:19,  1.61s/it]\n",
      "[STDOUT] 5/29     11.9G   0.06809    0.0241   0.02725    0.1194       221       640:  52%|█████▏    | 13/25 [00:22<00:19,  1.61s/it]\n",
      "[STDOUT] 5/29     11.9G   0.06809    0.0241   0.02725    0.1194       221       640:  56%|█████▌    | 14/25 [00:22<00:17,  1.57s/it]\n",
      "[STDOUT] 5/29     11.9G   0.06849    0.0238   0.02722    0.1195       232       640:  56%|█████▌    | 14/25 [00:23<00:17,  1.57s/it]\n",
      "[STDOUT] 5/29     11.9G   0.06849    0.0238   0.02722    0.1195       232       640:  60%|██████    | 15/25 [00:23<00:15,  1.51s/it]\n",
      "[STDOUT] 5/29     11.9G   0.06865   0.02378    0.0275    0.1199       212       640:  60%|██████    | 15/25 [00:25<00:15,  1.51s/it]\n",
      "[STDOUT] 5/29     11.9G   0.06865   0.02378    0.0275    0.1199       212       640:  64%|██████▍   | 16/25 [00:25<00:13,  1.53s/it]\n",
      "[STDOUT] 5/29     11.9G   0.06885   0.02403   0.02745    0.1203       339       640:  64%|██████▍   | 16/25 [00:26<00:13,  1.53s/it]\n",
      "[STDOUT] 5/29     11.9G   0.06885   0.02403   0.02745    0.1203       339       640:  68%|██████▊   | 17/25 [00:26<00:12,  1.58s/it]\n",
      "[STDOUT] 5/29     11.9G   0.06855   0.02359   0.02739    0.1195       148       640:  68%|██████▊   | 17/25 [00:28<00:12,  1.58s/it]\n",
      "[STDOUT] 5/29     11.9G   0.06855   0.02359   0.02739    0.1195       148       640:  72%|███████▏  | 18/25 [00:28<00:10,  1.51s/it]\n",
      "[STDOUT] 5/29     11.9G   0.06848   0.02369   0.02731    0.1195       224       640:  72%|███████▏  | 18/25 [00:30<00:10,  1.51s/it]\n",
      "[STDOUT] 5/29     11.9G   0.06848   0.02369   0.02731    0.1195       224       640:  76%|███████▌  | 19/25 [00:30<00:09,  1.58s/it]\n",
      "[STDOUT] 5/29     11.9G    0.0685   0.02369    0.0272    0.1194       188       640:  76%|███████▌  | 19/25 [00:31<00:09,  1.58s/it]\n",
      "[STDOUT] 5/29     11.9G    0.0685   0.02369    0.0272    0.1194       188       640:  80%|████████  | 20/25 [00:31<00:07,  1.55s/it]\n",
      "[STDOUT] 5/29     11.9G   0.06865   0.02352   0.02728    0.1195       201       640:  80%|████████  | 20/25 [00:33<00:07,  1.55s/it][TRAINING]       5/29     11.9G   0.06865   0.02352   0.02728    0.1195       201       640\n",
      "[STDOUT] \n",
      "[STDOUT] 5/29     11.9G   0.06865   0.02352   0.02728    0.1195       201       640:  84%|████████▍ | 21/25 [00:33<00:06,  1.60s/it]\n",
      "[STDOUT] 5/29     11.9G   0.06843   0.02364   0.02719    0.1193       160       640:  84%|████████▍ | 21/25 [00:34<00:06,  1.60s/it]\n",
      "[STDOUT] 5/29     11.9G   0.06843   0.02364   0.02719    0.1193       160       640:  88%|████████▊ | 22/25 [00:34<00:04,  1.59s/it]\n",
      "[STDOUT] 5/29     11.9G   0.06823   0.02385   0.02713    0.1192       198       640:  88%|████████▊ | 22/25 [00:36<00:04,  1.59s/it]\n",
      "[STDOUT] 5/29     11.9G   0.06823   0.02385   0.02713    0.1192       198       640:  92%|█████████▏| 23/25 [00:36<00:03,  1.55s/it]\n",
      "[STDOUT] 5/29     11.9G   0.06832   0.02379   0.02721    0.1193       206       640:  92%|█████████▏| 23/25 [00:38<00:03,  1.55s/it]\n",
      "[STDOUT] 5/29     11.9G   0.06832   0.02379   0.02721    0.1193       206       640:  96%|█████████▌| 24/25 [00:38<00:01,  1.62s/it]\n",
      "[STDOUT] 5/29     11.9G    0.0681   0.02397   0.02718    0.1192        55       640:  96%|█████████▌| 24/25 [00:38<00:01,  1.62s/it]\n",
      "[STDOUT] 5/29     11.9G    0.0681   0.02397   0.02718    0.1192        55       640: 100%|██████████| 25/25 [00:38<00:00,  1.30s/it]\n",
      "[STDOUT] 5/29     11.9G    0.0681   0.02397   0.02718    0.1192        55       640: 100%|██████████| 25/25 [00:38<00:00,  1.54s/it]\n",
      "[STDOUT] \n",
      "[STDOUT] Class      Images      Labels           P           R      mAP@.5  mAP@.5:.95:   0%|          | 0/5 [00:00<?, ?it/s][DEBUG] Head 0 | iou.min=0.0555, iou.max=0.8653, iou.mean=0.3334\n",
      "[STDOUT] [DEBUG] Head 0 | ps[..., 4].sigmoid().mean = 0.0004\n",
      "[STDOUT] [DEBUG] Head 1 | iou.min=-0.3919, iou.max=0.6780, iou.mean=0.0386\n",
      "[STDOUT] [DEBUG] Head 1 | ps[..., 4].sigmoid().mean = 0.0000\n",
      "[STDOUT] [DEBUG] Head 2 | iou.min=-0.4552, iou.max=0.1586, iou.mean=-0.1581\n",
      "[STDOUT] [DEBUG] Head 2 | ps[..., 4].sigmoid().mean = 0.0000\n",
      "[STDOUT] \n",
      "[STDOUT] Class      Images      Labels           P           R      mAP@.5  mAP@.5:.95:  20%|██        | 1/5 [00:00<00:02,  1.77it/s][DEBUG] Head 0 | iou.min=0.0118, iou.max=0.8475, iou.mean=0.4171\n",
      "[STDOUT] [DEBUG] Head 0 | ps[..., 4].sigmoid().mean = 0.0004\n",
      "[STDOUT] [DEBUG] Head 1 | iou.min=-0.4019, iou.max=0.8523, iou.mean=0.1013\n",
      "[STDOUT] [DEBUG] Head 1 | ps[..., 4].sigmoid().mean = 0.0000\n",
      "[STDOUT] [DEBUG] Head 2 | iou.min=-0.4116, iou.max=0.2477, iou.mean=-0.0959\n",
      "[STDOUT] [DEBUG] Head 2 | ps[..., 4].sigmoid().mean = 0.0000\n",
      "[STDOUT] \n",
      "[STDOUT] Class      Images      Labels           P           R      mAP@.5  mAP@.5:.95:  40%|████      | 2/5 [00:01<00:01,  1.71it/s][DEBUG] Head 0 | iou.min=0.0273, iou.max=0.9695, iou.mean=0.2498\n",
      "[STDOUT] [DEBUG] Head 0 | ps[..., 4].sigmoid().mean = 0.0004\n",
      "[STDOUT] [DEBUG] Head 1 | iou.min=-0.4378, iou.max=0.7932, iou.mean=-0.0051\n",
      "[STDOUT] [DEBUG] Head 1 | ps[..., 4].sigmoid().mean = 0.0000\n",
      "[STDOUT] [DEBUG] Head 2 | iou.min=-0.4975, iou.max=0.1583, iou.mean=-0.1414\n",
      "[STDOUT] [DEBUG] Head 2 | ps[..., 4].sigmoid().mean = 0.0000\n",
      "[STDOUT] \n",
      "[STDOUT] Class      Images      Labels           P           R      mAP@.5  mAP@.5:.95:  60%|██████    | 3/5 [00:01<00:01,  1.63it/s][DEBUG] Head 0 | iou.min=0.0168, iou.max=0.9274, iou.mean=0.2319\n",
      "[STDOUT] [DEBUG] Head 0 | ps[..., 4].sigmoid().mean = 0.0008\n",
      "[STDOUT] [DEBUG] Head 1 | iou.min=-0.4609, iou.max=0.6351, iou.mean=-0.0112\n",
      "[STDOUT] [DEBUG] Head 1 | ps[..., 4].sigmoid().mean = 0.0000\n",
      "[STDOUT] [DEBUG] Head 2 | iou.min=-0.4856, iou.max=0.2403, iou.mean=-0.1945\n",
      "[STDOUT] [DEBUG] Head 2 | ps[..., 4].sigmoid().mean = 0.0000\n",
      "[STDOUT] \n",
      "[STDOUT] Class      Images      Labels           P           R      mAP@.5  mAP@.5:.95:  80%|████████  | 4/5 [00:02<00:00,  1.59it/s][DEBUG] Head 0 | iou.min=0.1280, iou.max=0.7300, iou.mean=0.3293\n",
      "[STDOUT] [DEBUG] Head 0 | ps[..., 4].sigmoid().mean = 0.0029\n",
      "[STDOUT] [DEBUG] Head 1 | iou.min=-0.2236, iou.max=0.2179, iou.mean=0.0193\n",
      "[STDOUT] [DEBUG] Head 1 | ps[..., 4].sigmoid().mean = 0.0000\n",
      "[STDOUT] [DEBUG] Head 2 | iou.min=-0.4314, iou.max=0.0085, iou.mean=-0.2199\n",
      "[STDOUT] [DEBUG] Head 2 | ps[..., 4].sigmoid().mean = 0.0000\n",
      "[STDOUT] \n",
      "[STDOUT] Class      Images      Labels           P           R      mAP@.5  mAP@.5:.95: 100%|██████████| 5/5 [00:02<00:00,  1.99it/s]\n",
      "[STDOUT] all         130           0           0           0           0           0\n",
      "[STDOUT] OaohRepConv act_learn weight: 0.200\n",
      "[STDOUT] OaohRepConv act_learn weight: 0.200\n",
      "[STDOUT] OaohRepConv act_learn weight: 0.200\n",
      "[STDOUT] OaohRepConv act_learn weight: 0.200\n",
      "[STDOUT] OaohRepConv act_learn weight: 0.200\n",
      "[STDOUT] OaohRepConv act_learn weight: 0.200\n",
      "[STDOUT] OaohRepConv act_learn weight: 0.200\n",
      "[STDOUT] OaohRepConv act_learn weight: 0.200\n",
      "[STDOUT] OaohRepConv act_learn weight: 0.200\n",
      "[STDOUT] OaohRepConv act_learn weight: 0.200\n",
      "[STDOUT] OaohRepConv act_learn weight: 0.200\n",
      "[STDOUT] OaohRepConv act_learn weight: 0.200\n",
      "[STDOUT] OaohRepConv act_learn weight: 0.200\n",
      "[STDOUT] OaohRepConv act_learn weight: 0.200\n",
      "[STDOUT] OaohRepConv act_learn weight: 0.200\n",
      "[STDOUT] OaohRepConv act_learn weight: 0.200\n",
      "[STDOUT] OaohRepConv act_learn weight: 0.200\n",
      "[STDOUT] \n",
      "[STDOUT] Epoch   gpu_mem       box       obj       cls     total    labels  img_size\n",
      "[STDOUT] \n",
      "[STDOUT] 0%|          | 0/25 [00:00<?, ?it/s]\n",
      "[STDOUT] 6/29     11.9G   0.06483   0.02177    0.0253    0.1119       197       640:   0%|          | 0/25 [00:01<?, ?it/s][TRAINING]       6/29     11.9G   0.06483   0.02177    0.0253    0.1119       197       640\n",
      "[STDOUT] \n",
      "[STDOUT] 6/29     11.9G   0.06483   0.02177    0.0253    0.1119       197       640:   4%|▍         | 1/25 [00:01<00:36,  1.53s/it]\n",
      "[STDOUT] 6/29     11.9G   0.06534   0.02306   0.02625    0.1147       181       640:   4%|▍         | 1/25 [00:03<00:36,  1.53s/it]\n",
      "[STDOUT] 6/29     11.9G   0.06534   0.02306   0.02625    0.1147       181       640:   8%|▊         | 2/25 [00:03<00:35,  1.55s/it]\n",
      "[STDOUT] 6/29     11.9G   0.06588   0.02522   0.02575    0.1168       290       640:   8%|▊         | 2/25 [00:04<00:35,  1.55s/it]\n",
      "[STDOUT] 6/29     11.9G   0.06588   0.02522   0.02575    0.1168       290       640:  12%|█▏        | 3/25 [00:04<00:35,  1.62s/it]\n",
      "[STDOUT] 6/29     11.9G   0.06613   0.02484   0.02561    0.1166       174       640:  12%|█▏        | 3/25 [00:06<00:35,  1.62s/it]\n",
      "[STDOUT] 6/29     11.9G   0.06613   0.02484   0.02561    0.1166       174       640:  16%|█▌        | 4/25 [00:06<00:35,  1.71s/it]\n",
      "[STDOUT] 6/29     11.9G    0.0665   0.02438   0.02571    0.1166       156       640:  16%|█▌        | 4/25 [00:08<00:35,  1.71s/it]\n",
      "[STDOUT] 6/29     11.9G    0.0665   0.02438   0.02571    0.1166       156       640:  20%|██        | 5/25 [00:08<00:33,  1.66s/it]\n",
      "[STDOUT] 6/29     11.9G   0.06585   0.02414   0.02642    0.1164       169       640:  20%|██        | 5/25 [00:09<00:33,  1.66s/it]\n",
      "[STDOUT] 6/29     11.9G   0.06585   0.02414   0.02642    0.1164       169       640:  24%|██▍       | 6/25 [00:09<00:30,  1.61s/it]\n",
      "[STDOUT] 6/29     11.9G   0.06609   0.02356   0.02686    0.1165       138       640:  24%|██▍       | 6/25 [00:11<00:30,  1.61s/it]\n",
      "[STDOUT] 6/29     11.9G   0.06609   0.02356   0.02686    0.1165       138       640:  28%|██▊       | 7/25 [00:11<00:28,  1.57s/it]\n",
      "[STDOUT] 6/29     11.9G   0.06607   0.02381   0.02654    0.1164       206       640:  28%|██▊       | 7/25 [00:12<00:28,  1.57s/it]\n",
      "[STDOUT] 6/29     11.9G   0.06607   0.02381   0.02654    0.1164       206       640:  32%|███▏      | 8/25 [00:12<00:26,  1.56s/it]\n",
      "[STDOUT] 6/29     11.9G   0.06634   0.02331   0.02605    0.1157       170       640:  32%|███▏      | 8/25 [00:14<00:26,  1.56s/it]\n",
      "[STDOUT] 6/29     11.9G   0.06634   0.02331   0.02605    0.1157       170       640:  36%|███▌      | 9/25 [00:14<00:24,  1.53s/it]\n",
      "[STDOUT] 6/29     11.9G    0.0663   0.02294   0.02626    0.1155       141       640:  36%|███▌      | 9/25 [00:15<00:24,  1.53s/it]\n",
      "[STDOUT] 6/29     11.9G    0.0663   0.02294   0.02626    0.1155       141       640:  40%|████      | 10/25 [00:15<00:23,  1.58s/it]\n",
      "[STDOUT] 6/29     11.9G   0.06609   0.02328   0.02657    0.1159       187       640:  40%|████      | 10/25 [00:17<00:23,  1.58s/it][TRAINING]       6/29     11.9G   0.06609   0.02328   0.02657    0.1159       187       640\n",
      "[STDOUT] \n",
      "[STDOUT] 6/29     11.9G   0.06609   0.02328   0.02657    0.1159       187       640:  44%|████▍     | 11/25 [00:17<00:22,  1.62s/it]\n",
      "[STDOUT] 6/29     11.9G   0.06583   0.02411   0.02719    0.1171       295       640:  44%|████▍     | 11/25 [00:19<00:22,  1.62s/it]\n",
      "[STDOUT] 6/29     11.9G   0.06583   0.02411   0.02719    0.1171       295       640:  48%|████▊     | 12/25 [00:19<00:21,  1.62s/it]\n",
      "[STDOUT] 6/29     11.9G   0.06582   0.02411   0.02717    0.1171       148       640:  48%|████▊     | 12/25 [00:20<00:21,  1.62s/it]\n",
      "[STDOUT] 6/29     11.9G   0.06582   0.02411   0.02717    0.1171       148       640:  52%|█████▏    | 13/25 [00:20<00:19,  1.62s/it]\n",
      "[STDOUT] 6/29     11.9G   0.06609   0.02385   0.02663    0.1166       232       640:  52%|█████▏    | 13/25 [00:22<00:19,  1.62s/it]\n",
      "[STDOUT] 6/29     11.9G   0.06609   0.02385   0.02663    0.1166       232       640:  56%|█████▌    | 14/25 [00:22<00:17,  1.62s/it]\n",
      "[STDOUT] 6/29     11.9G   0.06616   0.02388   0.02677    0.1168       186       640:  56%|█████▌    | 14/25 [00:24<00:17,  1.62s/it]\n",
      "[STDOUT] 6/29     11.9G   0.06616   0.02388   0.02677    0.1168       186       640:  60%|██████    | 15/25 [00:24<00:16,  1.61s/it]\n",
      "[STDOUT] 6/29     11.9G   0.06647    0.0239   0.02685    0.1172       225       640:  60%|██████    | 15/25 [00:25<00:16,  1.61s/it]\n",
      "[STDOUT] 6/29     11.9G   0.06647    0.0239   0.02685    0.1172       225       640:  64%|██████▍   | 16/25 [00:25<00:14,  1.65s/it]\n",
      "[STDOUT] 6/29     11.9G   0.06663   0.02431    0.0268    0.1177       255       640:  64%|██████▍   | 16/25 [00:27<00:14,  1.65s/it]\n",
      "[STDOUT] 6/29     11.9G   0.06663   0.02431    0.0268    0.1177       255       640:  68%|██████▊   | 17/25 [00:27<00:13,  1.72s/it]\n",
      "[STDOUT] 6/29     11.9G    0.0668   0.02433   0.02668    0.1178       221       640:  68%|██████▊   | 17/25 [00:29<00:13,  1.72s/it]\n",
      "[STDOUT] 6/29     11.9G    0.0668   0.02433   0.02668    0.1178       221       640:  72%|███████▏  | 18/25 [00:29<00:11,  1.64s/it]\n",
      "[STDOUT] 6/29     11.9G   0.06684   0.02409   0.02694    0.1179       159       640:  72%|███████▏  | 18/25 [00:30<00:11,  1.64s/it]\n",
      "[STDOUT] 6/29     11.9G   0.06684   0.02409   0.02694    0.1179       159       640:  76%|███████▌  | 19/25 [00:30<00:09,  1.63s/it]\n",
      "[STDOUT] 6/29     11.9G    0.0668   0.02492   0.02684    0.1186       339       640:  76%|███████▌  | 19/25 [00:32<00:09,  1.63s/it]\n",
      "[STDOUT] 6/29     11.9G    0.0668   0.02492   0.02684    0.1186       339       640:  80%|████████  | 20/25 [00:32<00:08,  1.65s/it]\n",
      "[STDOUT] 6/29     11.9G   0.06689   0.02475   0.02707    0.1187       166       640:  80%|████████  | 20/25 [00:34<00:08,  1.65s/it][TRAINING]       6/29     11.9G   0.06689   0.02475   0.02707    0.1187       166       640\n",
      "[STDOUT] \n",
      "[STDOUT] 6/29     11.9G   0.06689   0.02475   0.02707    0.1187       166       640:  84%|████████▍ | 21/25 [00:34<00:06,  1.65s/it]\n",
      "[STDOUT] 6/29     11.9G   0.06679   0.02496   0.02705    0.1188       240       640:  84%|████████▍ | 21/25 [00:36<00:06,  1.65s/it]\n",
      "[STDOUT] 6/29     11.9G   0.06679   0.02496   0.02705    0.1188       240       640:  88%|████████▊ | 22/25 [00:36<00:05,  1.74s/it]\n",
      "[STDOUT] 6/29     11.9G   0.06698   0.02487   0.02708    0.1189       212       640:  88%|████████▊ | 22/25 [00:37<00:05,  1.74s/it]\n",
      "[STDOUT] 6/29     11.9G   0.06698   0.02487   0.02708    0.1189       212       640:  92%|█████████▏| 23/25 [00:37<00:03,  1.75s/it]\n",
      "[STDOUT] 6/29     11.9G   0.06686   0.02473   0.02686    0.1184       159       640:  92%|█████████▏| 23/25 [00:39<00:03,  1.75s/it]\n",
      "[STDOUT] 6/29     11.9G   0.06686   0.02473   0.02686    0.1184       159       640:  96%|█████████▌| 24/25 [00:39<00:01,  1.68s/it]\n",
      "[STDOUT] 6/29     11.9G   0.06684   0.02484   0.02672    0.1184        75       640:  96%|█████████▌| 24/25 [00:39<00:01,  1.68s/it]\n",
      "[STDOUT] 6/29     11.9G   0.06684   0.02484   0.02672    0.1184        75       640: 100%|██████████| 25/25 [00:39<00:00,  1.35s/it]\n",
      "[STDOUT] 6/29     11.9G   0.06684   0.02484   0.02672    0.1184        75       640: 100%|██████████| 25/25 [00:39<00:00,  1.60s/it]\n",
      "[STDOUT] \n",
      "[STDOUT] Class      Images      Labels           P           R      mAP@.5  mAP@.5:.95:   0%|          | 0/5 [00:00<?, ?it/s][DEBUG] Head 0 | iou.min=-0.2085, iou.max=0.8542, iou.mean=0.1697\n",
      "[STDOUT] [DEBUG] Head 0 | ps[..., 4].sigmoid().mean = 0.0035\n",
      "[STDOUT] [DEBUG] Head 1 | iou.min=-0.1686, iou.max=0.8834, iou.mean=0.1806\n",
      "[STDOUT] [DEBUG] Head 1 | ps[..., 4].sigmoid().mean = 0.0014\n",
      "[STDOUT] [DEBUG] Head 2 | iou.min=-0.4505, iou.max=0.6755, iou.mean=-0.0129\n",
      "[STDOUT] [DEBUG] Head 2 | ps[..., 4].sigmoid().mean = 0.0002\n",
      "[STDOUT] \n",
      "[STDOUT] Class      Images      Labels           P           R      mAP@.5  mAP@.5:.95:  20%|██        | 1/5 [00:00<00:02,  1.78it/s][DEBUG] Head 0 | iou.min=-0.0854, iou.max=0.7079, iou.mean=0.1423\n",
      "[STDOUT] [DEBUG] Head 0 | ps[..., 4].sigmoid().mean = 0.0046\n",
      "[STDOUT] [DEBUG] Head 1 | iou.min=-0.0561, iou.max=0.8743, iou.mean=0.2582\n",
      "[STDOUT] [DEBUG] Head 1 | ps[..., 4].sigmoid().mean = 0.0006\n",
      "[STDOUT] [DEBUG] Head 2 | iou.min=-0.4008, iou.max=0.7982, iou.mean=0.0449\n",
      "[STDOUT] [DEBUG] Head 2 | ps[..., 4].sigmoid().mean = 0.0002\n",
      "[STDOUT] \n",
      "[STDOUT] Class      Images      Labels           P           R      mAP@.5  mAP@.5:.95:  40%|████      | 2/5 [00:01<00:01,  1.67it/s][DEBUG] Head 0 | iou.min=-0.1740, iou.max=0.7686, iou.mean=0.2104\n",
      "[STDOUT] [DEBUG] Head 0 | ps[..., 4].sigmoid().mean = 0.0062\n",
      "[STDOUT] [DEBUG] Head 1 | iou.min=-0.0329, iou.max=0.6933, iou.mean=0.1209\n",
      "[STDOUT] [DEBUG] Head 1 | ps[..., 4].sigmoid().mean = 0.0005\n",
      "[STDOUT] [DEBUG] Head 2 | iou.min=-0.4857, iou.max=0.7856, iou.mean=0.0247\n",
      "[STDOUT] [DEBUG] Head 2 | ps[..., 4].sigmoid().mean = 0.0002\n",
      "[STDOUT] \n",
      "[STDOUT] Class      Images      Labels           P           R      mAP@.5  mAP@.5:.95:  60%|██████    | 3/5 [00:01<00:01,  1.60it/s][DEBUG] Head 0 | iou.min=-0.0577, iou.max=0.8832, iou.mean=0.2012\n",
      "[STDOUT] [DEBUG] Head 0 | ps[..., 4].sigmoid().mean = 0.0095\n",
      "[STDOUT] [DEBUG] Head 1 | iou.min=-0.1675, iou.max=0.8373, iou.mean=0.1328\n",
      "[STDOUT] [DEBUG] Head 1 | ps[..., 4].sigmoid().mean = 0.0003\n",
      "[STDOUT] [DEBUG] Head 2 | iou.min=-0.4802, iou.max=0.6135, iou.mean=-0.1188\n",
      "[STDOUT] [DEBUG] Head 2 | ps[..., 4].sigmoid().mean = 0.0001\n",
      "[STDOUT] \n",
      "[STDOUT] Class      Images      Labels           P           R      mAP@.5  mAP@.5:.95:  80%|████████  | 4/5 [00:02<00:00,  1.55it/s][DEBUG] Head 0 | iou.min=-0.0244, iou.max=0.7382, iou.mean=0.2739\n",
      "[STDOUT] [DEBUG] Head 0 | ps[..., 4].sigmoid().mean = 0.0227\n",
      "[STDOUT] [DEBUG] Head 1 | iou.min=0.0418, iou.max=0.2860, iou.mean=0.1329\n",
      "[STDOUT] [DEBUG] Head 1 | ps[..., 4].sigmoid().mean = 0.0003\n",
      "[STDOUT] [DEBUG] Head 2 | iou.min=-0.3572, iou.max=0.1870, iou.mean=-0.0705\n",
      "[STDOUT] [DEBUG] Head 2 | ps[..., 4].sigmoid().mean = 0.0001\n",
      "[STDOUT] \n",
      "[STDOUT] Class      Images      Labels           P           R      mAP@.5  mAP@.5:.95: 100%|██████████| 5/5 [00:02<00:00,  1.94it/s]\n",
      "[STDOUT] all         130           0           0           0           0           0\n",
      "[STDOUT] OaohRepConv act_learn weight: 0.233\n",
      "[STDOUT] OaohRepConv act_learn weight: 0.233\n",
      "[STDOUT] OaohRepConv act_learn weight: 0.233\n",
      "[STDOUT] OaohRepConv act_learn weight: 0.233\n",
      "[STDOUT] OaohRepConv act_learn weight: 0.233\n",
      "[STDOUT] OaohRepConv act_learn weight: 0.233\n",
      "[STDOUT] OaohRepConv act_learn weight: 0.233\n",
      "[STDOUT] OaohRepConv act_learn weight: 0.233\n",
      "[STDOUT] OaohRepConv act_learn weight: 0.233\n",
      "[STDOUT] OaohRepConv act_learn weight: 0.233\n",
      "[STDOUT] OaohRepConv act_learn weight: 0.233\n",
      "[STDOUT] OaohRepConv act_learn weight: 0.233\n",
      "[STDOUT] OaohRepConv act_learn weight: 0.233\n",
      "[STDOUT] OaohRepConv act_learn weight: 0.233\n",
      "[STDOUT] OaohRepConv act_learn weight: 0.233\n",
      "[STDOUT] OaohRepConv act_learn weight: 0.233\n",
      "[STDOUT] OaohRepConv act_learn weight: 0.233\n",
      "[STDOUT] \n",
      "[STDOUT] Epoch   gpu_mem       box       obj       cls     total    labels  img_size\n",
      "[STDOUT] \n",
      "[STDOUT] 0%|          | 0/25 [00:00<?, ?it/s]\n",
      "[STDOUT] 7/29     11.9G   0.06148   0.02515   0.02394    0.1106       183       640:   0%|          | 0/25 [00:01<?, ?it/s][TRAINING]       7/29     11.9G   0.06148   0.02515   0.02394    0.1106       183       640\n",
      "[STDOUT] \n",
      "[STDOUT] 7/29     11.9G   0.06148   0.02515   0.02394    0.1106       183       640:   4%|▍         | 1/25 [00:01<00:43,  1.81s/it]\n",
      "[STDOUT] 7/29     11.9G   0.06541   0.02461   0.02519    0.1152       246       640:   4%|▍         | 1/25 [00:03<00:43,  1.81s/it]\n",
      "[STDOUT] 7/29     11.9G   0.06541   0.02461   0.02519    0.1152       246       640:   8%|▊         | 2/25 [00:03<00:38,  1.69s/it]\n",
      "[STDOUT] 7/29     11.9G   0.06655    0.0224   0.02686    0.1158       174       640:   8%|▊         | 2/25 [00:05<00:38,  1.69s/it]\n",
      "[STDOUT] 7/29     11.9G   0.06655    0.0224   0.02686    0.1158       174       640:  12%|█▏        | 3/25 [00:05<00:37,  1.68s/it]\n",
      "[STDOUT] 7/29     11.9G    0.0665   0.02167   0.02662    0.1148       138       640:  12%|█▏        | 3/25 [00:06<00:37,  1.68s/it]\n",
      "[STDOUT] 7/29     11.9G    0.0665   0.02167   0.02662    0.1148       138       640:  16%|█▌        | 4/25 [00:06<00:34,  1.63s/it]\n",
      "[STDOUT] 7/29     11.9G   0.06649   0.02089   0.02678    0.1142       139       640:  16%|█▌        | 4/25 [00:08<00:34,  1.63s/it]\n",
      "[STDOUT] 7/29     11.9G   0.06649   0.02089   0.02678    0.1142       139       640:  20%|██        | 5/25 [00:08<00:32,  1.60s/it]\n",
      "[STDOUT] 7/29     11.9G   0.06634   0.02206   0.02726    0.1157       228       640:  20%|██        | 5/25 [00:09<00:32,  1.60s/it]\n",
      "[STDOUT] 7/29     11.9G   0.06634   0.02206   0.02726    0.1157       228       640:  24%|██▍       | 6/25 [00:09<00:31,  1.65s/it]\n",
      "[STDOUT] 7/29     11.9G   0.06664   0.02145   0.02768    0.1158       139       640:  24%|██▍       | 6/25 [00:11<00:31,  1.65s/it]\n",
      "[STDOUT] 7/29     11.9G   0.06664   0.02145   0.02768    0.1158       139       640:  28%|██▊       | 7/25 [00:11<00:28,  1.58s/it]\n",
      "[STDOUT] 7/29     11.9G   0.06635   0.02199   0.02743    0.1158       183       640:  28%|██▊       | 7/25 [00:12<00:28,  1.58s/it]\n",
      "[STDOUT] 7/29     11.9G   0.06635   0.02199   0.02743    0.1158       183       640:  32%|███▏      | 8/25 [00:12<00:26,  1.59s/it]\n",
      "[STDOUT] 7/29     11.9G   0.06671   0.02254    0.0269    0.1161       215       640:  32%|███▏      | 8/25 [00:14<00:26,  1.59s/it]\n",
      "[STDOUT] 7/29     11.9G   0.06671   0.02254    0.0269    0.1161       215       640:  36%|███▌      | 9/25 [00:14<00:25,  1.59s/it]\n",
      "[STDOUT] 7/29     11.9G   0.06658   0.02226   0.02645    0.1153       153       640:  36%|███▌      | 9/25 [00:16<00:25,  1.59s/it]\n",
      "[STDOUT] 7/29     11.9G   0.06658   0.02226   0.02645    0.1153       153       640:  40%|████      | 10/25 [00:16<00:23,  1.58s/it]\n",
      "[STDOUT] 7/29     11.9G   0.06633   0.02208   0.02651    0.1149       154       640:  40%|████      | 10/25 [00:17<00:23,  1.58s/it][TRAINING]       7/29     11.9G   0.06633   0.02208   0.02651    0.1149       154       640\n",
      "[STDOUT] \n",
      "[STDOUT] 7/29     11.9G   0.06633   0.02208   0.02651    0.1149       154       640:  44%|████▍     | 11/25 [00:17<00:21,  1.56s/it]\n",
      "[STDOUT] 7/29     11.9G   0.06582   0.02299   0.02639    0.1152       293       640:  44%|████▍     | 11/25 [00:19<00:21,  1.56s/it]\n",
      "[STDOUT] 7/29     11.9G   0.06582   0.02299   0.02639    0.1152       293       640:  48%|████▊     | 12/25 [00:19<00:20,  1.59s/it]\n",
      "[STDOUT] 7/29     11.9G   0.06611   0.02293    0.0264    0.1154       269       640:  48%|████▊     | 12/25 [00:20<00:20,  1.59s/it]\n",
      "[STDOUT] 7/29     11.9G   0.06611   0.02293    0.0264    0.1154       269       640:  52%|█████▏    | 13/25 [00:20<00:18,  1.51s/it]\n",
      "[STDOUT] 7/29     11.9G   0.06603   0.02271   0.02627     0.115       132       640:  52%|█████▏    | 13/25 [00:22<00:18,  1.51s/it]\n",
      "[STDOUT] 7/29     11.9G   0.06603   0.02271   0.02627     0.115       132       640:  56%|█████▌    | 14/25 [00:22<00:16,  1.51s/it]\n",
      "[STDOUT] 7/29     11.9G   0.06603   0.02266   0.02643    0.1151       147       640:  56%|█████▌    | 14/25 [00:23<00:16,  1.51s/it]\n",
      "[STDOUT] 7/29     11.9G   0.06603   0.02266   0.02643    0.1151       147       640:  60%|██████    | 15/25 [00:23<00:15,  1.57s/it]\n",
      "[STDOUT] 7/29     11.9G   0.06615   0.02292   0.02649    0.1156       217       640:  60%|██████    | 15/25 [00:25<00:15,  1.57s/it]\n",
      "[STDOUT] 7/29     11.9G   0.06615   0.02292   0.02649    0.1156       217       640:  64%|██████▍   | 16/25 [00:25<00:14,  1.60s/it]\n",
      "[STDOUT] 7/29     11.9G   0.06643   0.02272   0.02659    0.1157       209       640:  64%|██████▍   | 16/25 [00:27<00:14,  1.60s/it]\n",
      "[STDOUT] 7/29     11.9G   0.06643   0.02272   0.02659    0.1157       209       640:  68%|██████▊   | 17/25 [00:27<00:12,  1.62s/it]\n",
      "[STDOUT] 7/29     11.9G    0.0664   0.02291   0.02646    0.1158       210       640:  68%|██████▊   | 17/25 [00:28<00:12,  1.62s/it]\n",
      "[STDOUT] 7/29     11.9G    0.0664   0.02291   0.02646    0.1158       210       640:  72%|███████▏  | 18/25 [00:28<00:11,  1.61s/it]\n",
      "[STDOUT] 7/29     11.9G   0.06631   0.02302   0.02647    0.1158       216       640:  72%|███████▏  | 18/25 [00:30<00:11,  1.61s/it]\n",
      "[STDOUT] 7/29     11.9G   0.06631   0.02302   0.02647    0.1158       216       640:  76%|███████▌  | 19/25 [00:30<00:09,  1.55s/it]\n",
      "[STDOUT] 7/29     11.9G   0.06624   0.02318   0.02639    0.1158       205       640:  76%|███████▌  | 19/25 [00:31<00:09,  1.55s/it]\n",
      "[STDOUT] 7/29     11.9G   0.06624   0.02318   0.02639    0.1158       205       640:  80%|████████  | 20/25 [00:31<00:07,  1.55s/it]\n",
      "[STDOUT] 7/29     11.9G   0.06645     0.023   0.02638    0.1158       177       640:  80%|████████  | 20/25 [00:33<00:07,  1.55s/it][TRAINING]       7/29     11.9G   0.06645     0.023   0.02638    0.1158       177       640\n",
      "[STDOUT] \n",
      "[STDOUT] 7/29     11.9G   0.06645     0.023   0.02638    0.1158       177       640:  84%|████████▍ | 21/25 [00:33<00:06,  1.57s/it]\n",
      "[STDOUT] 7/29     11.9G   0.06658   0.02314   0.02641    0.1161       330       640:  84%|████████▍ | 21/25 [00:35<00:06,  1.57s/it]\n",
      "[STDOUT] 7/29     11.9G   0.06658   0.02314   0.02641    0.1161       330       640:  88%|████████▊ | 22/25 [00:35<00:04,  1.60s/it]\n",
      "[STDOUT] 7/29     11.9G   0.06653    0.0232   0.02634    0.1161       184       640:  88%|████████▊ | 22/25 [00:36<00:04,  1.60s/it]\n",
      "[STDOUT] 7/29     11.9G   0.06653    0.0232   0.02634    0.1161       184       640:  92%|█████████▏| 23/25 [00:36<00:03,  1.62s/it]\n",
      "[STDOUT] 7/29     11.9G   0.06664   0.02296   0.02643     0.116       135       640:  92%|█████████▏| 23/25 [00:38<00:03,  1.62s/it]\n",
      "[STDOUT] 7/29     11.9G   0.06664   0.02296   0.02643     0.116       135       640:  96%|█████████▌| 24/25 [00:38<00:01,  1.57s/it]\n",
      "[STDOUT] 7/29     11.9G   0.06636   0.02287   0.02631    0.1155        40       640:  96%|█████████▌| 24/25 [00:38<00:01,  1.57s/it]\n",
      "[STDOUT] 7/29     11.9G   0.06636   0.02287   0.02631    0.1155        40       640: 100%|██████████| 25/25 [00:38<00:00,  1.25s/it]\n",
      "[STDOUT] 7/29     11.9G   0.06636   0.02287   0.02631    0.1155        40       640: 100%|██████████| 25/25 [00:38<00:00,  1.55s/it]\n",
      "[STDOUT] \n",
      "[STDOUT] Class      Images      Labels           P           R      mAP@.5  mAP@.5:.95:   0%|          | 0/5 [00:00<?, ?it/s][DEBUG] Head 0 | iou.min=-0.1507, iou.max=0.8104, iou.mean=0.2420\n",
      "[STDOUT] [DEBUG] Head 0 | ps[..., 4].sigmoid().mean = 0.0052\n",
      "[STDOUT] [DEBUG] Head 1 | iou.min=-0.0328, iou.max=0.8296, iou.mean=0.3009\n",
      "[STDOUT] [DEBUG] Head 1 | ps[..., 4].sigmoid().mean = 0.0039\n",
      "[STDOUT] [DEBUG] Head 2 | iou.min=-0.3895, iou.max=0.8027, iou.mean=0.2301\n",
      "[STDOUT] [DEBUG] Head 2 | ps[..., 4].sigmoid().mean = 0.0014\n",
      "[STDOUT] \n",
      "[STDOUT] Class      Images      Labels           P           R      mAP@.5  mAP@.5:.95:  20%|██        | 1/5 [00:00<00:02,  1.80it/s][DEBUG] Head 0 | iou.min=-0.0231, iou.max=0.8695, iou.mean=0.2094\n",
      "[STDOUT] [DEBUG] Head 0 | ps[..., 4].sigmoid().mean = 0.0067\n",
      "[STDOUT] [DEBUG] Head 1 | iou.min=0.0123, iou.max=0.7864, iou.mean=0.3524\n",
      "[STDOUT] [DEBUG] Head 1 | ps[..., 4].sigmoid().mean = 0.0044\n",
      "[STDOUT] [DEBUG] Head 2 | iou.min=0.0258, iou.max=0.7592, iou.mean=0.3173\n",
      "[STDOUT] [DEBUG] Head 2 | ps[..., 4].sigmoid().mean = 0.0015\n",
      "[STDOUT] \n",
      "[STDOUT] Class      Images      Labels           P           R      mAP@.5  mAP@.5:.95:  40%|████      | 2/5 [00:01<00:01,  1.67it/s][DEBUG] Head 0 | iou.min=-0.1136, iou.max=0.8704, iou.mean=0.2342\n",
      "[STDOUT] [DEBUG] Head 0 | ps[..., 4].sigmoid().mean = 0.0076\n",
      "[STDOUT] [DEBUG] Head 1 | iou.min=-0.0730, iou.max=0.8276, iou.mean=0.2348\n",
      "[STDOUT] [DEBUG] Head 1 | ps[..., 4].sigmoid().mean = 0.0038\n",
      "[STDOUT] [DEBUG] Head 2 | iou.min=0.0237, iou.max=0.8180, iou.mean=0.2521\n",
      "[STDOUT] [DEBUG] Head 2 | ps[..., 4].sigmoid().mean = 0.0015\n",
      "[STDOUT] \n",
      "[STDOUT] Class      Images      Labels           P           R      mAP@.5  mAP@.5:.95:  60%|██████    | 3/5 [00:01<00:01,  1.58it/s][DEBUG] Head 0 | iou.min=-0.0691, iou.max=0.8524, iou.mean=0.2661\n",
      "[STDOUT] [DEBUG] Head 0 | ps[..., 4].sigmoid().mean = 0.0121\n",
      "[STDOUT] [DEBUG] Head 1 | iou.min=-0.0089, iou.max=0.9025, iou.mean=0.2223\n",
      "[STDOUT] [DEBUG] Head 1 | ps[..., 4].sigmoid().mean = 0.0046\n",
      "[STDOUT] [DEBUG] Head 2 | iou.min=-0.0612, iou.max=0.8055, iou.mean=0.1973\n",
      "[STDOUT] [DEBUG] Head 2 | ps[..., 4].sigmoid().mean = 0.0014\n",
      "[STDOUT] \n",
      "[STDOUT] Class      Images      Labels           P           R      mAP@.5  mAP@.5:.95:  80%|████████  | 4/5 [00:02<00:00,  1.51it/s][DEBUG] Head 0 | iou.min=-0.0177, iou.max=0.7343, iou.mean=0.3097\n",
      "[STDOUT] [DEBUG] Head 0 | ps[..., 4].sigmoid().mean = 0.0190\n",
      "[STDOUT] [DEBUG] Head 1 | iou.min=0.1645, iou.max=0.6873, iou.mean=0.3079\n",
      "[STDOUT] [DEBUG] Head 1 | ps[..., 4].sigmoid().mean = 0.0103\n",
      "[STDOUT] [DEBUG] Head 2 | iou.min=0.0514, iou.max=0.3243, iou.mean=0.1248\n",
      "[STDOUT] [DEBUG] Head 2 | ps[..., 4].sigmoid().mean = 0.0016\n",
      "[STDOUT] \n",
      "[STDOUT] Class      Images      Labels           P           R      mAP@.5  mAP@.5:.95: 100%|██████████| 5/5 [00:02<00:00,  1.91it/s]\n",
      "[STDOUT] all         130           0           0           0           0           0\n",
      "[STDOUT] OaohRepConv act_learn weight: 0.267\n",
      "[STDOUT] OaohRepConv act_learn weight: 0.267\n",
      "[STDOUT] OaohRepConv act_learn weight: 0.267\n",
      "[STDOUT] OaohRepConv act_learn weight: 0.267\n",
      "[STDOUT] OaohRepConv act_learn weight: 0.267\n",
      "[STDOUT] OaohRepConv act_learn weight: 0.267\n",
      "[STDOUT] OaohRepConv act_learn weight: 0.267\n",
      "[STDOUT] OaohRepConv act_learn weight: 0.267\n",
      "[STDOUT] OaohRepConv act_learn weight: 0.267\n",
      "[STDOUT] OaohRepConv act_learn weight: 0.267\n",
      "[STDOUT] OaohRepConv act_learn weight: 0.267\n",
      "[STDOUT] OaohRepConv act_learn weight: 0.267\n",
      "[STDOUT] OaohRepConv act_learn weight: 0.267\n",
      "[STDOUT] OaohRepConv act_learn weight: 0.267\n",
      "[STDOUT] OaohRepConv act_learn weight: 0.267\n",
      "[STDOUT] OaohRepConv act_learn weight: 0.267\n",
      "[STDOUT] OaohRepConv act_learn weight: 0.267\n",
      "[STDOUT] \n",
      "[STDOUT] Epoch   gpu_mem       box       obj       cls     total    labels  img_size\n",
      "[STDOUT] \n",
      "[STDOUT] 0%|          | 0/25 [00:00<?, ?it/s]\n",
      "[STDOUT] 8/29     11.9G   0.06649   0.02879   0.02219    0.1175       252       640:   0%|          | 0/25 [00:02<?, ?it/s][TRAINING]       8/29     11.9G   0.06649   0.02879   0.02219    0.1175       252       640\n",
      "[STDOUT] \n",
      "[STDOUT] 8/29     11.9G   0.06649   0.02879   0.02219    0.1175       252       640:   4%|▍         | 1/25 [00:02<00:55,  2.29s/it]\n",
      "[STDOUT] 8/29     11.9G   0.06413   0.03225     0.023    0.1194       328       640:   4%|▍         | 1/25 [00:03<00:55,  2.29s/it]\n",
      "[STDOUT] 8/29     11.9G   0.06413   0.03225     0.023    0.1194       328       640:   8%|▊         | 2/25 [00:03<00:44,  1.92s/it]\n",
      "[STDOUT] 8/29     11.9G   0.06469   0.02837   0.02385    0.1169       183       640:   8%|▊         | 2/25 [00:05<00:44,  1.92s/it]\n",
      "[STDOUT] 8/29     11.9G   0.06469   0.02837   0.02385    0.1169       183       640:  12%|█▏        | 3/25 [00:05<00:42,  1.92s/it]\n",
      "[STDOUT] 8/29     11.9G   0.06424   0.02739   0.02357    0.1152       155       640:  12%|█▏        | 3/25 [00:07<00:42,  1.92s/it]\n",
      "[STDOUT] 8/29     11.9G   0.06424   0.02739   0.02357    0.1152       155       640:  16%|█▌        | 4/25 [00:07<00:37,  1.80s/it]\n",
      "[STDOUT] 8/29     11.9G   0.06447   0.02772   0.02438    0.1166       210       640:  16%|█▌        | 4/25 [00:09<00:37,  1.80s/it]\n",
      "[STDOUT] 8/29     11.9G   0.06447   0.02772   0.02438    0.1166       210       640:  20%|██        | 5/25 [00:09<00:37,  1.87s/it]\n",
      "[STDOUT] 8/29     11.9G   0.06471   0.02563   0.02572    0.1161       100       640:  20%|██        | 5/25 [00:11<00:37,  1.87s/it]\n",
      "[STDOUT] 8/29     11.9G   0.06471   0.02563   0.02572    0.1161       100       640:  24%|██▍       | 6/25 [00:11<00:35,  1.89s/it]\n",
      "[STDOUT] 8/29     11.9G   0.06491   0.02611   0.02617    0.1172       203       640:  24%|██▍       | 6/25 [00:13<00:35,  1.89s/it]\n",
      "[STDOUT] 8/29     11.9G   0.06491   0.02611   0.02617    0.1172       203       640:  28%|██▊       | 7/25 [00:13<00:33,  1.86s/it]\n",
      "[STDOUT] 8/29     11.9G   0.06549   0.02612   0.02649    0.1181       242       640:  28%|██▊       | 7/25 [00:15<00:33,  1.86s/it]\n",
      "[STDOUT] 8/29     11.9G   0.06549   0.02612   0.02649    0.1181       242       640:  32%|███▏      | 8/25 [00:15<00:31,  1.88s/it]\n",
      "[STDOUT] 8/29     11.9G   0.06511   0.02628   0.02573    0.1171       189       640:  32%|███▏      | 8/25 [00:16<00:31,  1.88s/it]\n",
      "[STDOUT] 8/29     11.9G   0.06511   0.02628   0.02573    0.1171       189       640:  36%|███▌      | 9/25 [00:16<00:29,  1.85s/it]\n",
      "[STDOUT] 8/29     11.9G   0.06547   0.02596   0.02559     0.117       210       640:  36%|███▌      | 9/25 [00:18<00:29,  1.85s/it]\n",
      "[STDOUT] 8/29     11.9G   0.06547   0.02596   0.02559     0.117       210       640:  40%|████      | 10/25 [00:18<00:27,  1.83s/it]\n",
      "[STDOUT] 8/29     11.9G   0.06591   0.02531   0.02602    0.1172       201       640:  40%|████      | 10/25 [00:20<00:27,  1.83s/it][TRAINING]       8/29     11.9G   0.06591   0.02531   0.02602    0.1172       201       640\n",
      "[STDOUT] \n",
      "[STDOUT] 8/29     11.9G   0.06591   0.02531   0.02602    0.1172       201       640:  44%|████▍     | 11/25 [00:20<00:24,  1.76s/it]\n",
      "[STDOUT] 8/29     11.9G   0.06526   0.02759   0.02615     0.119       342       640:  44%|████▍     | 11/25 [00:22<00:24,  1.76s/it]\n",
      "[STDOUT] 8/29     11.9G   0.06526   0.02759   0.02615     0.119       342       640:  48%|████▊     | 12/25 [00:22<00:22,  1.75s/it]\n",
      "[STDOUT] 8/29     11.9G   0.06551   0.02791     0.026    0.1194       278       640:  48%|████▊     | 12/25 [00:23<00:22,  1.75s/it]\n",
      "[STDOUT] 8/29     11.9G   0.06551   0.02791     0.026    0.1194       278       640:  52%|█████▏    | 13/25 [00:23<00:21,  1.78s/it]\n",
      "[STDOUT] 8/29     11.9G   0.06554     0.028   0.02591    0.1195       228       640:  52%|█████▏    | 13/25 [00:25<00:21,  1.78s/it]\n",
      "[STDOUT] 8/29     11.9G   0.06554     0.028   0.02591    0.1195       228       640:  56%|█████▌    | 14/25 [00:25<00:19,  1.76s/it]\n",
      "[STDOUT] 8/29     11.9G   0.06546   0.02748    0.0256    0.1185       169       640:  56%|█████▌    | 14/25 [00:27<00:19,  1.76s/it]\n",
      "[STDOUT] 8/29     11.9G   0.06546   0.02748    0.0256    0.1185       169       640:  60%|██████    | 15/25 [00:27<00:17,  1.78s/it]\n",
      "[STDOUT] 8/29     11.9G   0.06539   0.02819   0.02586    0.1194       333       640:  60%|██████    | 15/25 [00:29<00:17,  1.78s/it]\n",
      "[STDOUT] 8/29     11.9G   0.06539   0.02819   0.02586    0.1194       333       640:  64%|██████▍   | 16/25 [00:29<00:16,  1.78s/it]\n",
      "[STDOUT] 8/29     11.9G   0.06534   0.02855   0.02592    0.1198       263       640:  64%|██████▍   | 16/25 [00:31<00:16,  1.78s/it]\n",
      "[STDOUT] 8/29     11.9G   0.06534   0.02855   0.02592    0.1198       263       640:  68%|██████▊   | 17/25 [00:31<00:14,  1.81s/it]\n",
      "[STDOUT] 8/29     11.9G   0.06556   0.02846   0.02571    0.1197       288       640:  68%|██████▊   | 17/25 [00:32<00:14,  1.81s/it]\n",
      "[STDOUT] 8/29     11.9G   0.06556   0.02846   0.02571    0.1197       288       640:  72%|███████▏  | 18/25 [00:32<00:11,  1.71s/it]\n",
      "[STDOUT] 8/29     11.9G    0.0655   0.02801   0.02542    0.1189       152       640:  72%|███████▏  | 18/25 [00:33<00:11,  1.71s/it]\n",
      "[STDOUT] 8/29     11.9G    0.0655   0.02801   0.02542    0.1189       152       640:  76%|███████▌  | 19/25 [00:33<00:09,  1.62s/it]\n",
      "[STDOUT] 8/29     11.9G    0.0654   0.02788   0.02544    0.1187       155       640:  76%|███████▌  | 19/25 [00:35<00:09,  1.62s/it]\n",
      "[STDOUT] 8/29     11.9G    0.0654   0.02788   0.02544    0.1187       155       640:  80%|████████  | 20/25 [00:35<00:07,  1.51s/it]\n",
      "[STDOUT] 8/29     11.9G   0.06529   0.02785   0.02552    0.1187       190       640:  80%|████████  | 20/25 [00:36<00:07,  1.51s/it][TRAINING]       8/29     11.9G   0.06529   0.02785   0.02552    0.1187       190       640\n",
      "[STDOUT] \n",
      "[STDOUT] 8/29     11.9G   0.06529   0.02785   0.02552    0.1187       190       640:  84%|████████▍ | 21/25 [00:36<00:06,  1.52s/it]\n",
      "[STDOUT] 8/29     11.9G   0.06521   0.02741   0.02551    0.1181       141       640:  84%|████████▍ | 21/25 [00:38<00:06,  1.52s/it]\n",
      "[STDOUT] 8/29     11.9G   0.06521   0.02741   0.02551    0.1181       141       640:  88%|████████▊ | 22/25 [00:38<00:04,  1.52s/it]\n",
      "[STDOUT] 8/29     11.9G    0.0652   0.02722   0.02543    0.1179       220       640:  88%|████████▊ | 22/25 [00:39<00:04,  1.52s/it]\n",
      "[STDOUT] 8/29     11.9G    0.0652   0.02722   0.02543    0.1179       220       640:  92%|█████████▏| 23/25 [00:39<00:03,  1.51s/it]\n",
      "[STDOUT] 8/29     11.9G    0.0652   0.02771   0.02538    0.1183       271       640:  92%|█████████▏| 23/25 [00:41<00:03,  1.51s/it]\n",
      "[STDOUT] 8/29     11.9G    0.0652   0.02771   0.02538    0.1183       271       640:  96%|█████████▌| 24/25 [00:41<00:01,  1.65s/it]\n",
      "[STDOUT] 8/29     11.9G   0.06518   0.02731   0.02544    0.1179        44       640:  96%|█████████▌| 24/25 [00:42<00:01,  1.65s/it]\n",
      "[STDOUT] 8/29     11.9G   0.06518   0.02731   0.02544    0.1179        44       640: 100%|██████████| 25/25 [00:42<00:00,  1.35s/it]\n",
      "[STDOUT] 8/29     11.9G   0.06518   0.02731   0.02544    0.1179        44       640: 100%|██████████| 25/25 [00:42<00:00,  1.70s/it]\n",
      "[STDOUT] \n",
      "[STDOUT] Class      Images      Labels           P           R      mAP@.5  mAP@.5:.95:   0%|          | 0/5 [00:00<?, ?it/s][DEBUG] Head 0 | iou.min=-0.0713, iou.max=0.9102, iou.mean=0.2934\n",
      "[STDOUT] [DEBUG] Head 0 | ps[..., 4].sigmoid().mean = 0.0572\n",
      "[STDOUT] [DEBUG] Head 1 | iou.min=-0.0822, iou.max=0.8999, iou.mean=0.2693\n",
      "[STDOUT] [DEBUG] Head 1 | ps[..., 4].sigmoid().mean = 0.0038\n",
      "[STDOUT] [DEBUG] Head 2 | iou.min=-0.1070, iou.max=0.8026, iou.mean=0.2214\n",
      "[STDOUT] [DEBUG] Head 2 | ps[..., 4].sigmoid().mean = 0.0017\n",
      "[STDOUT] \n",
      "[STDOUT] Class      Images      Labels           P           R      mAP@.5  mAP@.5:.95:  20%|██        | 1/5 [00:00<00:02,  1.55it/s][DEBUG] Head 0 | iou.min=-0.0715, iou.max=0.8057, iou.mean=0.2204\n",
      "[STDOUT] [DEBUG] Head 0 | ps[..., 4].sigmoid().mean = 0.0582\n",
      "[STDOUT] [DEBUG] Head 1 | iou.min=-0.0385, iou.max=0.8521, iou.mean=0.3265\n",
      "[STDOUT] [DEBUG] Head 1 | ps[..., 4].sigmoid().mean = 0.0034\n",
      "[STDOUT] [DEBUG] Head 2 | iou.min=0.0452, iou.max=0.8183, iou.mean=0.2927\n",
      "[STDOUT] [DEBUG] Head 2 | ps[..., 4].sigmoid().mean = 0.0017\n",
      "[STDOUT] \n",
      "[STDOUT] Class      Images      Labels           P           R      mAP@.5  mAP@.5:.95:  40%|████      | 2/5 [00:01<00:02,  1.50it/s][DEBUG] Head 0 | iou.min=-0.1297, iou.max=0.8593, iou.mean=0.2433\n",
      "[STDOUT] [DEBUG] Head 0 | ps[..., 4].sigmoid().mean = 0.0578\n",
      "[STDOUT] [DEBUG] Head 1 | iou.min=-0.0771, iou.max=0.8578, iou.mean=0.2046\n",
      "[STDOUT] [DEBUG] Head 1 | ps[..., 4].sigmoid().mean = 0.0026\n",
      "[STDOUT] [DEBUG] Head 2 | iou.min=0.0112, iou.max=0.7835, iou.mean=0.2172\n",
      "[STDOUT] [DEBUG] Head 2 | ps[..., 4].sigmoid().mean = 0.0018\n",
      "[STDOUT] \n",
      "[STDOUT] Class      Images      Labels           P           R      mAP@.5  mAP@.5:.95:  60%|██████    | 3/5 [00:02<00:01,  1.43it/s][DEBUG] Head 0 | iou.min=-0.0151, iou.max=0.8696, iou.mean=0.2785\n",
      "[STDOUT] [DEBUG] Head 0 | ps[..., 4].sigmoid().mean = 0.1284\n",
      "[STDOUT] [DEBUG] Head 1 | iou.min=-0.0252, iou.max=0.7801, iou.mean=0.2056\n",
      "[STDOUT] [DEBUG] Head 1 | ps[..., 4].sigmoid().mean = 0.0038\n",
      "[STDOUT] [DEBUG] Head 2 | iou.min=0.0007, iou.max=0.7265, iou.mean=0.1674\n",
      "[STDOUT] [DEBUG] Head 2 | ps[..., 4].sigmoid().mean = 0.0018\n",
      "[STDOUT] \n",
      "[STDOUT] Class      Images      Labels           P           R      mAP@.5  mAP@.5:.95:  80%|████████  | 4/5 [00:02<00:00,  1.38it/s][DEBUG] Head 0 | iou.min=-0.0001, iou.max=0.7635, iou.mean=0.3401\n",
      "[STDOUT] [DEBUG] Head 0 | ps[..., 4].sigmoid().mean = 0.1809\n",
      "[STDOUT] [DEBUG] Head 1 | iou.min=0.0189, iou.max=0.7506, iou.mean=0.2969\n",
      "[STDOUT] [DEBUG] Head 1 | ps[..., 4].sigmoid().mean = 0.0062\n",
      "[STDOUT] [DEBUG] Head 2 | iou.min=0.0492, iou.max=0.4880, iou.mean=0.1116\n",
      "[STDOUT] [DEBUG] Head 2 | ps[..., 4].sigmoid().mean = 0.0019\n",
      "[STDOUT] \n",
      "[STDOUT] Class      Images      Labels           P           R      mAP@.5  mAP@.5:.95: 100%|██████████| 5/5 [00:02<00:00,  1.73it/s]\n",
      "[STDOUT] all         130         736     0.00227       0.016    0.000359    7.65e-05\n",
      "[STDOUT] OaohRepConv act_learn weight: 0.300\n",
      "[STDOUT] OaohRepConv act_learn weight: 0.300\n",
      "[STDOUT] OaohRepConv act_learn weight: 0.300\n",
      "[STDOUT] OaohRepConv act_learn weight: 0.300\n",
      "[STDOUT] OaohRepConv act_learn weight: 0.300\n",
      "[STDOUT] OaohRepConv act_learn weight: 0.300\n",
      "[STDOUT] OaohRepConv act_learn weight: 0.300\n",
      "[STDOUT] OaohRepConv act_learn weight: 0.300\n",
      "[STDOUT] OaohRepConv act_learn weight: 0.300\n",
      "[STDOUT] OaohRepConv act_learn weight: 0.300\n",
      "[STDOUT] OaohRepConv act_learn weight: 0.300\n",
      "[STDOUT] OaohRepConv act_learn weight: 0.300\n",
      "[STDOUT] OaohRepConv act_learn weight: 0.300\n",
      "[STDOUT] OaohRepConv act_learn weight: 0.300\n",
      "[STDOUT] OaohRepConv act_learn weight: 0.300\n",
      "[STDOUT] OaohRepConv act_learn weight: 0.300\n",
      "[STDOUT] OaohRepConv act_learn weight: 0.300\n",
      "[STDOUT] \n",
      "[STDOUT] Epoch   gpu_mem       box       obj       cls     total    labels  img_size\n",
      "[STDOUT] \n",
      "[STDOUT] 0%|          | 0/25 [00:00<?, ?it/s]\n",
      "[STDOUT] 9/29     11.9G   0.06294   0.02398   0.02319    0.1101       186       640:   0%|          | 0/25 [00:01<?, ?it/s][TRAINING]       9/29     11.9G   0.06294   0.02398   0.02319    0.1101       186       640\n",
      "[STDOUT] \n",
      "[STDOUT] 9/29     11.9G   0.06294   0.02398   0.02319    0.1101       186       640:   4%|▍         | 1/25 [00:01<00:40,  1.67s/it]\n",
      "[STDOUT] 9/29     11.9G   0.06197   0.02974   0.02298    0.1147       265       640:   4%|▍         | 1/25 [00:03<00:40,  1.67s/it]\n",
      "[STDOUT] 9/29     11.9G   0.06197   0.02974   0.02298    0.1147       265       640:   8%|▊         | 2/25 [00:03<00:38,  1.68s/it]\n",
      "[STDOUT] 9/29     11.9G   0.06293   0.02685   0.02314    0.1129       225       640:   8%|▊         | 2/25 [00:04<00:38,  1.68s/it]\n",
      "[STDOUT] 9/29     11.9G   0.06293   0.02685   0.02314    0.1129       225       640:  12%|█▏        | 3/25 [00:04<00:35,  1.62s/it]\n",
      "[STDOUT] 9/29     11.9G   0.06272   0.02668   0.02361     0.113       185       640:  12%|█▏        | 3/25 [00:06<00:35,  1.62s/it]\n",
      "[STDOUT] 9/29     11.9G   0.06272   0.02668   0.02361     0.113       185       640:  16%|█▌        | 4/25 [00:06<00:37,  1.78s/it]\n",
      "[STDOUT] 9/29     11.9G   0.06263    0.0246   0.02352    0.1108       106       640:  16%|█▌        | 4/25 [00:08<00:37,  1.78s/it]\n",
      "[STDOUT] 9/29     11.9G   0.06263    0.0246   0.02352    0.1108       106       640:  20%|██        | 5/25 [00:08<00:33,  1.68s/it]\n",
      "[STDOUT] 9/29     11.9G   0.06312   0.02437   0.02358    0.1111       145       640:  20%|██        | 5/25 [00:09<00:33,  1.68s/it]\n",
      "[STDOUT] 9/29     11.9G   0.06312   0.02437   0.02358    0.1111       145       640:  24%|██▍       | 6/25 [00:09<00:30,  1.62s/it]\n",
      "[STDOUT] 9/29     11.9G   0.06316   0.02481   0.02369    0.1117       199       640:  24%|██▍       | 6/25 [00:11<00:30,  1.62s/it]\n",
      "[STDOUT] 9/29     11.9G   0.06316   0.02481   0.02369    0.1117       199       640:  28%|██▊       | 7/25 [00:11<00:29,  1.63s/it]\n",
      "[STDOUT] 9/29     11.9G   0.06285   0.02438   0.02308    0.1103       124       640:  28%|██▊       | 7/25 [00:13<00:29,  1.63s/it]\n",
      "[STDOUT] 9/29     11.9G   0.06285   0.02438   0.02308    0.1103       124       640:  32%|███▏      | 8/25 [00:13<00:27,  1.62s/it]\n",
      "[STDOUT] 9/29     11.9G   0.06293   0.02431   0.02329    0.1105       235       640:  32%|███▏      | 8/25 [00:14<00:27,  1.62s/it]\n",
      "[STDOUT] 9/29     11.9G   0.06293   0.02431   0.02329    0.1105       235       640:  36%|███▌      | 9/25 [00:14<00:25,  1.57s/it]\n",
      "[STDOUT] 9/29     11.9G   0.06276   0.02449   0.02317    0.1104       181       640:  36%|███▌      | 9/25 [00:16<00:25,  1.57s/it]\n",
      "[STDOUT] 9/29     11.9G   0.06276   0.02449   0.02317    0.1104       181       640:  40%|████      | 10/25 [00:16<00:23,  1.58s/it]\n",
      "[STDOUT] 9/29     11.9G   0.06273   0.02456   0.02333    0.1106       255       640:  40%|████      | 10/25 [00:17<00:23,  1.58s/it][TRAINING]       9/29     11.9G   0.06273   0.02456   0.02333    0.1106       255       640\n",
      "[STDOUT] \n",
      "[STDOUT] 9/29     11.9G   0.06273   0.02456   0.02333    0.1106       255       640:  44%|████▍     | 11/25 [00:17<00:21,  1.55s/it]\n",
      "[STDOUT] 9/29     11.9G    0.0631   0.02562   0.02327     0.112       317       640:  44%|████▍     | 11/25 [00:19<00:21,  1.55s/it]\n",
      "[STDOUT] 9/29     11.9G    0.0631   0.02562   0.02327     0.112       317       640:  48%|████▊     | 12/25 [00:19<00:21,  1.65s/it]\n",
      "[STDOUT] 9/29     11.9G   0.06337   0.02557   0.02332    0.1123       218       640:  48%|████▊     | 12/25 [00:21<00:21,  1.65s/it]\n",
      "[STDOUT] 9/29     11.9G   0.06337   0.02557   0.02332    0.1123       218       640:  52%|█████▏    | 13/25 [00:21<00:19,  1.62s/it]\n",
      "[STDOUT] 9/29     11.9G   0.06372   0.02579   0.02364    0.1131       289       640:  52%|█████▏    | 13/25 [00:22<00:19,  1.62s/it]\n",
      "[STDOUT] 9/29     11.9G   0.06372   0.02579   0.02364    0.1131       289       640:  56%|█████▌    | 14/25 [00:22<00:17,  1.63s/it]\n",
      "[STDOUT] 9/29     11.9G   0.06374   0.02565   0.02371    0.1131       188       640:  56%|█████▌    | 14/25 [00:24<00:17,  1.63s/it]\n",
      "[STDOUT] 9/29     11.9G   0.06374   0.02565   0.02371    0.1131       188       640:  60%|██████    | 15/25 [00:24<00:16,  1.63s/it]\n",
      "[STDOUT] 9/29     11.9G   0.06389   0.02569   0.02392    0.1135       235       640:  60%|██████    | 15/25 [00:26<00:16,  1.63s/it]\n",
      "[STDOUT] 9/29     11.9G   0.06389   0.02569   0.02392    0.1135       235       640:  64%|██████▍   | 16/25 [00:26<00:14,  1.65s/it]\n",
      "[STDOUT] 9/29     11.9G   0.06384   0.02569   0.02392    0.1135       206       640:  64%|██████▍   | 16/25 [00:27<00:14,  1.65s/it]\n",
      "[STDOUT] 9/29     11.9G   0.06384   0.02569   0.02392    0.1135       206       640:  68%|██████▊   | 17/25 [00:27<00:12,  1.62s/it]\n",
      "[STDOUT] 9/29     11.9G    0.0638   0.02548    0.0237     0.113       127       640:  68%|██████▊   | 17/25 [00:29<00:12,  1.62s/it]\n",
      "[STDOUT] 9/29     11.9G    0.0638   0.02548    0.0237     0.113       127       640:  72%|███████▏  | 18/25 [00:29<00:11,  1.59s/it]\n",
      "[STDOUT] 9/29     11.9G     0.064   0.02512   0.02388     0.113       175       640:  72%|███████▏  | 18/25 [00:30<00:11,  1.59s/it]\n",
      "[STDOUT] 9/29     11.9G     0.064   0.02512   0.02388     0.113       175       640:  76%|███████▌  | 19/25 [00:30<00:09,  1.64s/it]\n",
      "[STDOUT] 9/29     11.9G   0.06413    0.0248   0.02409     0.113       192       640:  76%|███████▌  | 19/25 [00:32<00:09,  1.64s/it]\n",
      "[STDOUT] 9/29     11.9G   0.06413    0.0248   0.02409     0.113       192       640:  80%|████████  | 20/25 [00:32<00:08,  1.63s/it]\n",
      "[STDOUT] 9/29     11.9G   0.06444   0.02476   0.02419    0.1134       207       640:  80%|████████  | 20/25 [00:34<00:08,  1.63s/it][TRAINING]       9/29     11.9G   0.06444   0.02476   0.02419    0.1134       207       640\n",
      "[STDOUT] \n",
      "[STDOUT] 9/29     11.9G   0.06444   0.02476   0.02419    0.1134       207       640:  84%|████████▍ | 21/25 [00:34<00:06,  1.58s/it]\n",
      "[STDOUT] 9/29     11.9G    0.0645   0.02463   0.02409    0.1132       146       640:  84%|████████▍ | 21/25 [00:35<00:06,  1.58s/it]\n",
      "[STDOUT] 9/29     11.9G    0.0645   0.02463   0.02409    0.1132       146       640:  88%|████████▊ | 22/25 [00:35<00:04,  1.57s/it]\n",
      "[STDOUT] 9/29     11.9G   0.06444   0.02479   0.02399    0.1132       207       640:  88%|████████▊ | 22/25 [00:37<00:04,  1.57s/it]\n",
      "[STDOUT] 9/29     11.9G   0.06444   0.02479   0.02399    0.1132       207       640:  92%|█████████▏| 23/25 [00:37<00:03,  1.52s/it]\n",
      "[STDOUT] 9/29     11.9G   0.06449   0.02465   0.02396    0.1131       183       640:  92%|█████████▏| 23/25 [00:38<00:03,  1.52s/it]\n",
      "[STDOUT] 9/29     11.9G   0.06449   0.02465   0.02396    0.1131       183       640:  96%|█████████▌| 24/25 [00:38<00:01,  1.55s/it]\n",
      "[STDOUT] 9/29     11.9G   0.06448   0.02537   0.02382    0.1137       126       640:  96%|█████████▌| 24/25 [00:39<00:01,  1.55s/it]\n",
      "[STDOUT] 9/29     11.9G   0.06448   0.02537   0.02382    0.1137       126       640: 100%|██████████| 25/25 [00:39<00:00,  1.30s/it]\n",
      "[STDOUT] 9/29     11.9G   0.06448   0.02537   0.02382    0.1137       126       640: 100%|██████████| 25/25 [00:39<00:00,  1.57s/it]\n",
      "[STDOUT] \n",
      "[STDOUT] Class      Images      Labels           P           R      mAP@.5  mAP@.5:.95:   0%|          | 0/5 [00:00<?, ?it/s][DEBUG] Head 0 | iou.min=-0.0400, iou.max=0.8964, iou.mean=0.2704\n",
      "[STDOUT] [DEBUG] Head 0 | ps[..., 4].sigmoid().mean = 0.0027\n",
      "[STDOUT] [DEBUG] Head 1 | iou.min=-0.2763, iou.max=0.7987, iou.mean=0.2162\n",
      "[STDOUT] [DEBUG] Head 1 | ps[..., 4].sigmoid().mean = 0.0065\n",
      "[STDOUT] [DEBUG] Head 2 | iou.min=-0.4308, iou.max=0.7752, iou.mean=0.1318\n",
      "[STDOUT] [DEBUG] Head 2 | ps[..., 4].sigmoid().mean = 0.0010\n",
      "[STDOUT] \n",
      "[STDOUT] Class      Images      Labels           P           R      mAP@.5  mAP@.5:.95:  20%|██        | 1/5 [00:00<00:02,  1.71it/s][DEBUG] Head 0 | iou.min=-0.0498, iou.max=0.6907, iou.mean=0.2280\n",
      "[STDOUT] [DEBUG] Head 0 | ps[..., 4].sigmoid().mean = 0.0026\n",
      "[STDOUT] [DEBUG] Head 1 | iou.min=-0.1079, iou.max=0.8783, iou.mean=0.2679\n",
      "[STDOUT] [DEBUG] Head 1 | ps[..., 4].sigmoid().mean = 0.0059\n",
      "[STDOUT] [DEBUG] Head 2 | iou.min=-0.2527, iou.max=0.7604, iou.mean=0.2391\n",
      "[STDOUT] [DEBUG] Head 2 | ps[..., 4].sigmoid().mean = 0.0009\n",
      "[STDOUT] \n",
      "[STDOUT] Class      Images      Labels           P           R      mAP@.5  mAP@.5:.95:  40%|████      | 2/5 [00:01<00:01,  1.64it/s][DEBUG] Head 0 | iou.min=-0.1084, iou.max=0.8502, iou.mean=0.2529\n",
      "[STDOUT] [DEBUG] Head 0 | ps[..., 4].sigmoid().mean = 0.0027\n",
      "[STDOUT] [DEBUG] Head 1 | iou.min=-0.1056, iou.max=0.7747, iou.mean=0.1621\n",
      "[STDOUT] [DEBUG] Head 1 | ps[..., 4].sigmoid().mean = 0.0046\n",
      "[STDOUT] [DEBUG] Head 2 | iou.min=-0.3783, iou.max=0.8742, iou.mean=0.1821\n",
      "[STDOUT] [DEBUG] Head 2 | ps[..., 4].sigmoid().mean = 0.0010\n",
      "[STDOUT] \n",
      "[STDOUT] Class      Images      Labels           P           R      mAP@.5  mAP@.5:.95:  60%|██████    | 3/5 [00:01<00:01,  1.59it/s][DEBUG] Head 0 | iou.min=-0.1297, iou.max=0.8686, iou.mean=0.2763\n",
      "[STDOUT] [DEBUG] Head 0 | ps[..., 4].sigmoid().mean = 0.0035\n",
      "[STDOUT] [DEBUG] Head 1 | iou.min=-0.0750, iou.max=0.7729, iou.mean=0.1556\n",
      "[STDOUT] [DEBUG] Head 1 | ps[..., 4].sigmoid().mean = 0.0064\n",
      "[STDOUT] [DEBUG] Head 2 | iou.min=-0.4435, iou.max=0.8266, iou.mean=0.1024\n",
      "[STDOUT] [DEBUG] Head 2 | ps[..., 4].sigmoid().mean = 0.0008\n",
      "[STDOUT] \n",
      "[STDOUT] Class      Images      Labels           P           R      mAP@.5  mAP@.5:.95:  80%|████████  | 4/5 [00:02<00:00,  1.53it/s][DEBUG] Head 0 | iou.min=0.0280, iou.max=0.8221, iou.mean=0.3098\n",
      "[STDOUT] [DEBUG] Head 0 | ps[..., 4].sigmoid().mean = 0.0041\n",
      "[STDOUT] [DEBUG] Head 1 | iou.min=0.0468, iou.max=0.6306, iou.mean=0.2140\n",
      "[STDOUT] [DEBUG] Head 1 | ps[..., 4].sigmoid().mean = 0.0120\n",
      "[STDOUT] [DEBUG] Head 2 | iou.min=-0.0175, iou.max=0.3705, iou.mean=0.1280\n",
      "[STDOUT] [DEBUG] Head 2 | ps[..., 4].sigmoid().mean = 0.0011\n",
      "[STDOUT] \n",
      "[STDOUT] Class      Images      Labels           P           R      mAP@.5  mAP@.5:.95: 100%|██████████| 5/5 [00:02<00:00,  1.92it/s]\n",
      "[STDOUT] all         130           0           0           0           0           0\n",
      "[STDOUT] OaohRepConv act_learn weight: 0.333\n",
      "[STDOUT] OaohRepConv act_learn weight: 0.333\n",
      "[STDOUT] OaohRepConv act_learn weight: 0.333\n",
      "[STDOUT] OaohRepConv act_learn weight: 0.333\n",
      "[STDOUT] OaohRepConv act_learn weight: 0.333\n",
      "[STDOUT] OaohRepConv act_learn weight: 0.333\n",
      "[STDOUT] OaohRepConv act_learn weight: 0.333\n",
      "[STDOUT] OaohRepConv act_learn weight: 0.333\n",
      "[STDOUT] OaohRepConv act_learn weight: 0.333\n",
      "[STDOUT] OaohRepConv act_learn weight: 0.333\n",
      "[STDOUT] OaohRepConv act_learn weight: 0.333\n",
      "[STDOUT] OaohRepConv act_learn weight: 0.333\n",
      "[STDOUT] OaohRepConv act_learn weight: 0.333\n",
      "[STDOUT] OaohRepConv act_learn weight: 0.333\n",
      "[STDOUT] OaohRepConv act_learn weight: 0.333\n",
      "[STDOUT] OaohRepConv act_learn weight: 0.333\n",
      "[STDOUT] OaohRepConv act_learn weight: 0.333\n",
      "[STDOUT] \n",
      "[STDOUT] Epoch   gpu_mem       box       obj       cls     total    labels  img_size\n",
      "[STDOUT] \n",
      "[STDOUT] 0%|          | 0/25 [00:00<?, ?it/s]\n",
      "[STDOUT] 10/29     11.9G   0.06776   0.02869   0.02311    0.1196       351       640:   0%|          | 0/25 [00:02<?, ?it/s][TRAINING]      10/29     11.9G   0.06776   0.02869   0.02311    0.1196       351       640\n",
      "[STDOUT] \n",
      "[STDOUT] 10/29     11.9G   0.06776   0.02869   0.02311    0.1196       351       640:   4%|▍         | 1/25 [00:02<00:48,  2.01s/it]\n",
      "[STDOUT] 10/29     11.9G   0.06555   0.02817   0.02707    0.1208       274       640:   4%|▍         | 1/25 [00:03<00:48,  2.01s/it]\n",
      "[STDOUT] 10/29     11.9G   0.06555   0.02817   0.02707    0.1208       274       640:   8%|▊         | 2/25 [00:03<00:39,  1.70s/it]\n",
      "[STDOUT] 10/29     11.9G    0.0658   0.03098    0.0263    0.1231       319       640:   8%|▊         | 2/25 [00:05<00:39,  1.70s/it]\n",
      "[STDOUT] 10/29     11.9G    0.0658   0.03098    0.0263    0.1231       319       640:  12%|█▏        | 3/25 [00:05<00:37,  1.72s/it]\n",
      "[STDOUT] 10/29     11.9G   0.06558    0.0294    0.0242    0.1192       185       640:  12%|█▏        | 3/25 [00:06<00:37,  1.72s/it]\n",
      "[STDOUT] 10/29     11.9G   0.06558    0.0294    0.0242    0.1192       185       640:  16%|█▌        | 4/25 [00:06<00:33,  1.60s/it]\n",
      "[STDOUT] 10/29     11.9G   0.06635   0.02776   0.02363    0.1177       228       640:  16%|█▌        | 4/25 [00:08<00:33,  1.60s/it]\n",
      "[STDOUT] 10/29     11.9G   0.06635   0.02776   0.02363    0.1177       228       640:  20%|██        | 5/25 [00:08<00:33,  1.67s/it]\n",
      "[STDOUT] 10/29     11.9G   0.06655   0.02661    0.0238     0.117       185       640:  20%|██        | 5/25 [00:10<00:33,  1.67s/it]\n",
      "[STDOUT] 10/29     11.9G   0.06655   0.02661    0.0238     0.117       185       640:  24%|██▍       | 6/25 [00:10<00:31,  1.64s/it]\n",
      "[STDOUT] 10/29     11.9G   0.06626   0.02741   0.02427    0.1179       270       640:  24%|██▍       | 6/25 [00:11<00:31,  1.64s/it]\n",
      "[STDOUT] 10/29     11.9G   0.06626   0.02741   0.02427    0.1179       270       640:  28%|██▊       | 7/25 [00:11<00:29,  1.64s/it]\n",
      "[STDOUT] 10/29     11.9G   0.06644   0.02716   0.02404    0.1176       250       640:  28%|██▊       | 7/25 [00:13<00:29,  1.64s/it]\n",
      "[STDOUT] 10/29     11.9G   0.06644   0.02716   0.02404    0.1176       250       640:  32%|███▏      | 8/25 [00:13<00:28,  1.66s/it]\n",
      "[STDOUT] 10/29     11.9G   0.06638   0.02693   0.02374    0.1171       186       640:  32%|███▏      | 8/25 [00:15<00:28,  1.66s/it]\n",
      "[STDOUT] 10/29     11.9G   0.06638   0.02693   0.02374    0.1171       186       640:  36%|███▌      | 9/25 [00:15<00:26,  1.67s/it]\n",
      "[STDOUT] 10/29     11.9G   0.06662   0.02741   0.02369    0.1177       353       640:  36%|███▌      | 9/25 [00:16<00:26,  1.67s/it]\n",
      "[STDOUT] 10/29     11.9G   0.06662   0.02741   0.02369    0.1177       353       640:  40%|████      | 10/25 [00:16<00:25,  1.73s/it]\n",
      "[STDOUT] 10/29     11.9G   0.06614   0.02721   0.02341    0.1168       171       640:  40%|████      | 10/25 [00:18<00:25,  1.73s/it][TRAINING]      10/29     11.9G   0.06614   0.02721   0.02341    0.1168       171       640\n",
      "[STDOUT] \n",
      "[STDOUT] 10/29     11.9G   0.06614   0.02721   0.02341    0.1168       171       640:  44%|████▍     | 11/25 [00:18<00:23,  1.71s/it]\n",
      "[STDOUT] 10/29     11.9G   0.06593   0.02825   0.02341    0.1176       306       640:  44%|████▍     | 11/25 [00:20<00:23,  1.71s/it]\n",
      "[STDOUT] 10/29     11.9G   0.06593   0.02825   0.02341    0.1176       306       640:  48%|████▊     | 12/25 [00:20<00:22,  1.74s/it]\n",
      "[STDOUT] 10/29     11.9G   0.06675   0.02784   0.02377    0.1184       266       640:  48%|████▊     | 12/25 [00:22<00:22,  1.74s/it]\n",
      "[STDOUT] 10/29     11.9G   0.06675   0.02784   0.02377    0.1184       266       640:  52%|█████▏    | 13/25 [00:22<00:20,  1.70s/it]\n",
      "[STDOUT] 10/29     11.9G   0.06679   0.02786   0.02357    0.1182       236       640:  52%|█████▏    | 13/25 [00:23<00:20,  1.70s/it]\n",
      "[STDOUT] 10/29     11.9G   0.06679   0.02786   0.02357    0.1182       236       640:  56%|█████▌    | 14/25 [00:23<00:18,  1.70s/it]\n",
      "[STDOUT] 10/29     11.9G   0.06656   0.02786   0.02381    0.1182       194       640:  56%|█████▌    | 14/25 [00:25<00:18,  1.70s/it]\n",
      "[STDOUT] 10/29     11.9G   0.06656   0.02786   0.02381    0.1182       194       640:  60%|██████    | 15/25 [00:25<00:17,  1.74s/it]\n",
      "[STDOUT] 10/29     11.9G   0.06658   0.02769   0.02406    0.1183       236       640:  60%|██████    | 15/25 [00:27<00:17,  1.74s/it]\n",
      "[STDOUT] 10/29     11.9G   0.06658   0.02769   0.02406    0.1183       236       640:  64%|██████▍   | 16/25 [00:27<00:15,  1.71s/it]\n",
      "[STDOUT] 10/29     11.9G   0.06654   0.02774    0.0239    0.1182       277       640:  64%|██████▍   | 16/25 [00:29<00:15,  1.71s/it]\n",
      "[STDOUT] 10/29     11.9G   0.06654   0.02774    0.0239    0.1182       277       640:  68%|██████▊   | 17/25 [00:29<00:14,  1.75s/it]\n",
      "[STDOUT] 10/29     11.9G   0.06621   0.02779   0.02367    0.1177       202       640:  68%|██████▊   | 17/25 [00:30<00:14,  1.75s/it]\n",
      "[STDOUT] 10/29     11.9G   0.06621   0.02779   0.02367    0.1177       202       640:  72%|███████▏  | 18/25 [00:30<00:12,  1.78s/it]\n",
      "[STDOUT] 10/29     11.9G   0.06626   0.02767    0.0236    0.1175       243       640:  72%|███████▏  | 18/25 [00:32<00:12,  1.78s/it]\n",
      "[STDOUT] 10/29     11.9G   0.06626   0.02767    0.0236    0.1175       243       640:  76%|███████▌  | 19/25 [00:32<00:10,  1.72s/it]\n",
      "[STDOUT] 10/29     11.9G   0.06658   0.02738   0.02386    0.1178       248       640:  76%|███████▌  | 19/25 [00:33<00:10,  1.72s/it]\n",
      "[STDOUT] 10/29     11.9G   0.06658   0.02738   0.02386    0.1178       248       640:  80%|████████  | 20/25 [00:33<00:08,  1.66s/it]\n",
      "[STDOUT] 10/29     11.9G   0.06647   0.02703   0.02394    0.1174       121       640:  80%|████████  | 20/25 [00:35<00:08,  1.66s/it][TRAINING]      10/29     11.9G   0.06647   0.02703   0.02394    0.1174       121       640\n",
      "[STDOUT] \n",
      "[STDOUT] 10/29     11.9G   0.06647   0.02703   0.02394    0.1174       121       640:  84%|████████▍ | 21/25 [00:35<00:06,  1.70s/it]\n",
      "[STDOUT] 10/29     11.9G   0.06649   0.02703   0.02389    0.1174       241       640:  84%|████████▍ | 21/25 [00:37<00:06,  1.70s/it]\n",
      "[STDOUT] 10/29     11.9G   0.06649   0.02703   0.02389    0.1174       241       640:  88%|████████▊ | 22/25 [00:37<00:05,  1.70s/it]\n",
      "[STDOUT] 10/29     11.9G   0.06636   0.02682   0.02372    0.1169       178       640:  88%|████████▊ | 22/25 [00:39<00:05,  1.70s/it]\n",
      "[STDOUT] 10/29     11.9G   0.06636   0.02682   0.02372    0.1169       178       640:  92%|█████████▏| 23/25 [00:39<00:03,  1.65s/it]\n",
      "[STDOUT] 10/29     11.9G   0.06623   0.02665   0.02377    0.1167       196       640:  92%|█████████▏| 23/25 [00:40<00:03,  1.65s/it]\n",
      "[STDOUT] 10/29     11.9G   0.06623   0.02665   0.02377    0.1167       196       640:  96%|█████████▌| 24/25 [00:40<00:01,  1.69s/it]\n",
      "[STDOUT] 10/29     11.9G   0.06634   0.02648   0.02389    0.1167        74       640:  96%|█████████▌| 24/25 [00:41<00:01,  1.69s/it]\n",
      "[STDOUT] 10/29     11.9G   0.06634   0.02648   0.02389    0.1167        74       640: 100%|██████████| 25/25 [00:41<00:00,  1.41s/it]\n",
      "[STDOUT] 10/29     11.9G   0.06634   0.02648   0.02389    0.1167        74       640: 100%|██████████| 25/25 [00:41<00:00,  1.66s/it]\n",
      "[STDOUT] \n",
      "[STDOUT] Class      Images      Labels           P           R      mAP@.5  mAP@.5:.95:   0%|          | 0/5 [00:00<?, ?it/s][DEBUG] Head 0 | iou.min=-0.0181, iou.max=0.8884, iou.mean=0.3421\n",
      "[STDOUT] [DEBUG] Head 0 | ps[..., 4].sigmoid().mean = 0.1156\n",
      "[STDOUT] [DEBUG] Head 1 | iou.min=-0.2050, iou.max=0.9326, iou.mean=0.2055\n",
      "[STDOUT] [DEBUG] Head 1 | ps[..., 4].sigmoid().mean = 0.0058\n",
      "[STDOUT] [DEBUG] Head 2 | iou.min=-0.4269, iou.max=0.7084, iou.mean=0.2047\n",
      "[STDOUT] [DEBUG] Head 2 | ps[..., 4].sigmoid().mean = 0.0018\n",
      "[STDOUT] \n",
      "[STDOUT] Class      Images      Labels           P           R      mAP@.5  mAP@.5:.95:  20%|██        | 1/5 [00:00<00:02,  1.56it/s][DEBUG] Head 0 | iou.min=-0.0008, iou.max=0.8543, iou.mean=0.2699\n",
      "[STDOUT] [DEBUG] Head 0 | ps[..., 4].sigmoid().mean = 0.1184\n",
      "[STDOUT] [DEBUG] Head 1 | iou.min=-0.2066, iou.max=0.9011, iou.mean=0.2040\n",
      "[STDOUT] [DEBUG] Head 1 | ps[..., 4].sigmoid().mean = 0.0068\n",
      "[STDOUT] [DEBUG] Head 2 | iou.min=-0.2710, iou.max=0.8895, iou.mean=0.2980\n",
      "[STDOUT] [DEBUG] Head 2 | ps[..., 4].sigmoid().mean = 0.0017\n",
      "[STDOUT] \n",
      "[STDOUT] Class      Images      Labels           P           R      mAP@.5  mAP@.5:.95:  40%|████      | 2/5 [00:01<00:01,  1.51it/s][DEBUG] Head 0 | iou.min=-0.1175, iou.max=0.8695, iou.mean=0.2944\n",
      "[STDOUT] [DEBUG] Head 0 | ps[..., 4].sigmoid().mean = 0.1152\n",
      "[STDOUT] [DEBUG] Head 1 | iou.min=-0.2376, iou.max=0.8396, iou.mean=0.1812\n",
      "[STDOUT] [DEBUG] Head 1 | ps[..., 4].sigmoid().mean = 0.0050\n",
      "[STDOUT] [DEBUG] Head 2 | iou.min=-0.3326, iou.max=0.7468, iou.mean=0.2490\n",
      "[STDOUT] [DEBUG] Head 2 | ps[..., 4].sigmoid().mean = 0.0020\n",
      "[STDOUT] \n",
      "[STDOUT] Class      Images      Labels           P           R      mAP@.5  mAP@.5:.95:  60%|██████    | 3/5 [00:02<00:01,  1.45it/s][DEBUG] Head 0 | iou.min=0.0026, iou.max=0.8898, iou.mean=0.3988\n",
      "[STDOUT] [DEBUG] Head 0 | ps[..., 4].sigmoid().mean = 0.2060\n",
      "[STDOUT] [DEBUG] Head 1 | iou.min=-0.2060, iou.max=0.8385, iou.mean=0.1749\n",
      "[STDOUT] [DEBUG] Head 1 | ps[..., 4].sigmoid().mean = 0.0097\n",
      "[STDOUT] [DEBUG] Head 2 | iou.min=-0.1988, iou.max=0.7081, iou.mean=0.1941\n",
      "[STDOUT] [DEBUG] Head 2 | ps[..., 4].sigmoid().mean = 0.0017\n",
      "[STDOUT] \n",
      "[STDOUT] Class      Images      Labels           P           R      mAP@.5  mAP@.5:.95:  80%|████████  | 4/5 [00:02<00:00,  1.39it/s][DEBUG] Head 0 | iou.min=0.1225, iou.max=0.7596, iou.mean=0.4355\n",
      "[STDOUT] [DEBUG] Head 0 | ps[..., 4].sigmoid().mean = 0.2416\n",
      "[STDOUT] [DEBUG] Head 1 | iou.min=0.0091, iou.max=0.5954, iou.mean=0.2368\n",
      "[STDOUT] [DEBUG] Head 1 | ps[..., 4].sigmoid().mean = 0.0190\n",
      "[STDOUT] [DEBUG] Head 2 | iou.min=0.0562, iou.max=0.4014, iou.mean=0.1665\n",
      "[STDOUT] [DEBUG] Head 2 | ps[..., 4].sigmoid().mean = 0.0023\n",
      "[STDOUT] \n",
      "[STDOUT] Class      Images      Labels           P           R      mAP@.5  mAP@.5:.95: 100%|██████████| 5/5 [00:02<00:00,  1.75it/s]\n",
      "[STDOUT] all         130         736     0.00337      0.0519    0.000668    0.000132\n",
      "[STDOUT] OaohRepConv act_learn weight: 0.367\n",
      "[STDOUT] OaohRepConv act_learn weight: 0.367\n",
      "[STDOUT] OaohRepConv act_learn weight: 0.367\n",
      "[STDOUT] OaohRepConv act_learn weight: 0.367\n",
      "[STDOUT] OaohRepConv act_learn weight: 0.367\n",
      "[STDOUT] OaohRepConv act_learn weight: 0.367\n",
      "[STDOUT] OaohRepConv act_learn weight: 0.367\n",
      "[STDOUT] OaohRepConv act_learn weight: 0.367\n",
      "[STDOUT] OaohRepConv act_learn weight: 0.367\n",
      "[STDOUT] OaohRepConv act_learn weight: 0.367\n",
      "[STDOUT] OaohRepConv act_learn weight: 0.367\n",
      "[STDOUT] OaohRepConv act_learn weight: 0.367\n",
      "[STDOUT] OaohRepConv act_learn weight: 0.367\n",
      "[STDOUT] OaohRepConv act_learn weight: 0.367\n",
      "[STDOUT] OaohRepConv act_learn weight: 0.367\n",
      "[STDOUT] OaohRepConv act_learn weight: 0.367\n",
      "[STDOUT] OaohRepConv act_learn weight: 0.367\n",
      "[STDOUT] \n",
      "[STDOUT] Epoch   gpu_mem       box       obj       cls     total    labels  img_size\n",
      "[STDOUT] \n",
      "[STDOUT] 0%|          | 0/25 [00:00<?, ?it/s]\n",
      "[STDOUT] 11/29     11.9G     0.066   0.02518   0.02383     0.115       250       640:   0%|          | 0/25 [00:01<?, ?it/s][TRAINING]      11/29     11.9G     0.066   0.02518   0.02383     0.115       250       640\n",
      "[STDOUT] \n",
      "[STDOUT] 11/29     11.9G     0.066   0.02518   0.02383     0.115       250       640:   4%|▍         | 1/25 [00:01<00:41,  1.71s/it]\n",
      "[STDOUT] 11/29       12G   0.06533   0.02677   0.02492     0.117       259       640:   4%|▍         | 1/25 [00:03<00:41,  1.71s/it]\n",
      "[STDOUT] 11/29       12G   0.06533   0.02677   0.02492     0.117       259       640:   8%|▊         | 2/25 [00:03<00:39,  1.73s/it]\n",
      "[STDOUT] 11/29       12G   0.06476   0.02511    0.0251     0.115       197       640:   8%|▊         | 2/25 [00:05<00:39,  1.73s/it]\n",
      "[STDOUT] 11/29       12G   0.06476   0.02511    0.0251     0.115       197       640:  12%|█▏        | 3/25 [00:05<00:37,  1.72s/it]\n",
      "[STDOUT] 11/29       12G   0.06448   0.02411   0.02331    0.1119       154       640:  12%|█▏        | 3/25 [00:07<00:37,  1.72s/it]\n",
      "[STDOUT] 11/29       12G   0.06448   0.02411   0.02331    0.1119       154       640:  16%|█▌        | 4/25 [00:07<00:37,  1.77s/it]\n",
      "[STDOUT] 11/29       12G   0.06322   0.02513   0.02275    0.1111       205       640:  16%|█▌        | 4/25 [00:08<00:37,  1.77s/it]\n",
      "[STDOUT] 11/29       12G   0.06322   0.02513   0.02275    0.1111       205       640:  20%|██        | 5/25 [00:08<00:33,  1.70s/it]\n",
      "[STDOUT] 11/29       12G   0.06342   0.02504   0.02272    0.1112       223       640:  20%|██        | 5/25 [00:10<00:33,  1.70s/it]\n",
      "[STDOUT] 11/29       12G   0.06342   0.02504   0.02272    0.1112       223       640:  24%|██▍       | 6/25 [00:10<00:31,  1.66s/it]\n",
      "[STDOUT] 11/29       12G   0.06394   0.02426   0.02317    0.1114       120       640:  24%|██▍       | 6/25 [00:11<00:31,  1.66s/it]\n",
      "[STDOUT] 11/29       12G   0.06394   0.02426   0.02317    0.1114       120       640:  28%|██▊       | 7/25 [00:11<00:29,  1.65s/it]\n",
      "[STDOUT] 11/29       12G   0.06352   0.02392   0.02321    0.1106       112       640:  28%|██▊       | 7/25 [00:13<00:29,  1.65s/it]\n",
      "[STDOUT] 11/29       12G   0.06352   0.02392   0.02321    0.1106       112       640:  32%|███▏      | 8/25 [00:13<00:28,  1.67s/it]\n",
      "[STDOUT] 11/29       12G   0.06399   0.02366    0.0227    0.1103       200       640:  32%|███▏      | 8/25 [00:15<00:28,  1.67s/it]\n",
      "[STDOUT] 11/29       12G   0.06399   0.02366    0.0227    0.1103       200       640:  36%|███▌      | 9/25 [00:15<00:26,  1.65s/it]\n",
      "[STDOUT] 11/29       12G    0.0643   0.02342   0.02299    0.1107       231       640:  36%|███▌      | 9/25 [00:16<00:26,  1.65s/it]\n",
      "[STDOUT] 11/29       12G    0.0643   0.02342   0.02299    0.1107       231       640:  40%|████      | 10/25 [00:16<00:25,  1.70s/it]\n",
      "[STDOUT] 11/29       12G   0.06429   0.02417   0.02288    0.1113       262       640:  40%|████      | 10/25 [00:18<00:25,  1.70s/it][TRAINING]      11/29       12G   0.06429   0.02417   0.02288    0.1113       262       640\n",
      "[STDOUT] \n",
      "[STDOUT] 11/29       12G   0.06429   0.02417   0.02288    0.1113       262       640:  44%|████▍     | 11/25 [00:18<00:23,  1.71s/it]\n",
      "[STDOUT] 11/29       12G   0.06412   0.02492     0.023     0.112       297       640:  44%|████▍     | 11/25 [00:20<00:23,  1.71s/it]\n",
      "[STDOUT] 11/29       12G   0.06412   0.02492     0.023     0.112       297       640:  48%|████▊     | 12/25 [00:20<00:22,  1.73s/it]\n",
      "[STDOUT] 11/29       12G   0.06432   0.02504   0.02327    0.1126       264       640:  48%|████▊     | 12/25 [00:22<00:22,  1.73s/it]\n",
      "[STDOUT] 11/29       12G   0.06432   0.02504   0.02327    0.1126       264       640:  52%|█████▏    | 13/25 [00:22<00:20,  1.72s/it]\n",
      "[STDOUT] 11/29       12G   0.06401   0.02512   0.02305    0.1122       149       640:  52%|█████▏    | 13/25 [00:23<00:20,  1.72s/it]\n",
      "[STDOUT] 11/29       12G   0.06401   0.02512   0.02305    0.1122       149       640:  56%|█████▌    | 14/25 [00:23<00:18,  1.64s/it]\n",
      "[STDOUT] 11/29       12G   0.06412   0.02462   0.02296    0.1117       231       640:  56%|█████▌    | 14/25 [00:25<00:18,  1.64s/it]\n",
      "[STDOUT] 11/29       12G   0.06412   0.02462   0.02296    0.1117       231       640:  60%|██████    | 15/25 [00:25<00:16,  1.63s/it]\n",
      "[STDOUT] 11/29       12G   0.06433    0.0243   0.02297    0.1116       167       640:  60%|██████    | 15/25 [00:26<00:16,  1.63s/it]\n",
      "[STDOUT] 11/29       12G   0.06433    0.0243   0.02297    0.1116       167       640:  64%|██████▍   | 16/25 [00:26<00:14,  1.61s/it]\n",
      "[STDOUT] 11/29       12G   0.06459   0.02398   0.02295    0.1115       202       640:  64%|██████▍   | 16/25 [00:28<00:14,  1.61s/it]\n",
      "[STDOUT] 11/29       12G   0.06459   0.02398   0.02295    0.1115       202       640:  68%|██████▊   | 17/25 [00:28<00:13,  1.64s/it]\n",
      "[STDOUT] 11/29       12G   0.06478   0.02419   0.02291    0.1119       256       640:  68%|██████▊   | 17/25 [00:30<00:13,  1.64s/it]\n",
      "[STDOUT] 11/29       12G   0.06478   0.02419   0.02291    0.1119       256       640:  72%|███████▏  | 18/25 [00:30<00:11,  1.69s/it]\n",
      "[STDOUT] 11/29       12G   0.06495   0.02415   0.02281    0.1119       231       640:  72%|███████▏  | 18/25 [00:31<00:11,  1.69s/it]\n",
      "[STDOUT] 11/29       12G   0.06495   0.02415   0.02281    0.1119       231       640:  76%|███████▌  | 19/25 [00:31<00:09,  1.66s/it]\n",
      "[STDOUT] 11/29       12G   0.06488   0.02403   0.02275    0.1116       175       640:  76%|███████▌  | 19/25 [00:33<00:09,  1.66s/it]\n",
      "[STDOUT] 11/29       12G   0.06488   0.02403   0.02275    0.1116       175       640:  80%|████████  | 20/25 [00:33<00:08,  1.70s/it]\n",
      "[STDOUT] 11/29       12G   0.06483   0.02404   0.02275    0.1116       182       640:  80%|████████  | 20/25 [00:35<00:08,  1.70s/it][TRAINING]      11/29       12G   0.06483   0.02404   0.02275    0.1116       182       640\n",
      "[STDOUT] \n",
      "[STDOUT] 11/29       12G   0.06483   0.02404   0.02275    0.1116       182       640:  84%|████████▍ | 21/25 [00:35<00:06,  1.65s/it]\n",
      "[STDOUT] 11/29       12G   0.06464   0.02429   0.02269    0.1116       180       640:  84%|████████▍ | 21/25 [00:36<00:06,  1.65s/it]\n",
      "[STDOUT] 11/29       12G   0.06464   0.02429   0.02269    0.1116       180       640:  88%|████████▊ | 22/25 [00:36<00:04,  1.65s/it]\n",
      "[STDOUT] 11/29       12G    0.0647   0.02469   0.02276    0.1121       303       640:  88%|████████▊ | 22/25 [00:38<00:04,  1.65s/it]\n",
      "[STDOUT] 11/29       12G    0.0647   0.02469   0.02276    0.1121       303       640:  92%|█████████▏| 23/25 [00:38<00:03,  1.58s/it]\n",
      "[STDOUT] 11/29       12G   0.06477   0.02481   0.02269    0.1123       295       640:  92%|█████████▏| 23/25 [00:39<00:03,  1.58s/it]\n",
      "[STDOUT] 11/29       12G   0.06477   0.02481   0.02269    0.1123       295       640:  96%|█████████▌| 24/25 [00:39<00:01,  1.60s/it]\n",
      "[STDOUT] 11/29       12G   0.06502   0.02452   0.02277    0.1123        63       640:  96%|█████████▌| 24/25 [00:40<00:01,  1.60s/it]\n",
      "[STDOUT] 11/29       12G   0.06502   0.02452   0.02277    0.1123        63       640: 100%|██████████| 25/25 [00:40<00:00,  1.27s/it]\n",
      "[STDOUT] 11/29       12G   0.06502   0.02452   0.02277    0.1123        63       640: 100%|██████████| 25/25 [00:40<00:00,  1.62s/it]\n",
      "[STDOUT] \n",
      "[STDOUT] Class      Images      Labels           P           R      mAP@.5  mAP@.5:.95:   0%|          | 0/5 [00:00<?, ?it/s][DEBUG] Head 0 | iou.min=-0.0921, iou.max=0.9114, iou.mean=0.1838\n",
      "[STDOUT] [DEBUG] Head 0 | ps[..., 4].sigmoid().mean = 0.0215\n",
      "[STDOUT] [DEBUG] Head 1 | iou.min=-0.1417, iou.max=0.9197, iou.mean=0.3117\n",
      "[STDOUT] [DEBUG] Head 1 | ps[..., 4].sigmoid().mean = 0.0039\n",
      "[STDOUT] [DEBUG] Head 2 | iou.min=-0.0585, iou.max=0.8655, iou.mean=0.1924\n",
      "[STDOUT] [DEBUG] Head 2 | ps[..., 4].sigmoid().mean = 0.0029\n",
      "[STDOUT] \n",
      "[STDOUT] Class      Images      Labels           P           R      mAP@.5  mAP@.5:.95:  20%|██        | 1/5 [00:00<00:02,  1.68it/s][DEBUG] Head 0 | iou.min=-0.0600, iou.max=0.7690, iou.mean=0.1435\n",
      "[STDOUT] [DEBUG] Head 0 | ps[..., 4].sigmoid().mean = 0.0184\n",
      "[STDOUT] [DEBUG] Head 1 | iou.min=-0.0363, iou.max=0.8343, iou.mean=0.2775\n",
      "[STDOUT] [DEBUG] Head 1 | ps[..., 4].sigmoid().mean = 0.0041\n",
      "[STDOUT] [DEBUG] Head 2 | iou.min=0.0058, iou.max=0.8213, iou.mean=0.2785\n",
      "[STDOUT] [DEBUG] Head 2 | ps[..., 4].sigmoid().mean = 0.0026\n",
      "[STDOUT] \n",
      "[STDOUT] Class      Images      Labels           P           R      mAP@.5  mAP@.5:.95:  40%|████      | 2/5 [00:01<00:01,  1.60it/s][DEBUG] Head 0 | iou.min=-0.2082, iou.max=0.8407, iou.mean=0.1985\n",
      "[STDOUT] [DEBUG] Head 0 | ps[..., 4].sigmoid().mean = 0.0225\n",
      "[STDOUT] [DEBUG] Head 1 | iou.min=-0.1593, iou.max=0.8828, iou.mean=0.2710\n",
      "[STDOUT] [DEBUG] Head 1 | ps[..., 4].sigmoid().mean = 0.0040\n",
      "[STDOUT] [DEBUG] Head 2 | iou.min=-0.0269, iou.max=0.8229, iou.mean=0.1895\n",
      "[STDOUT] [DEBUG] Head 2 | ps[..., 4].sigmoid().mean = 0.0027\n",
      "[STDOUT] \n",
      "[STDOUT] Class      Images      Labels           P           R      mAP@.5  mAP@.5:.95:  60%|██████    | 3/5 [00:01<00:01,  1.54it/s][DEBUG] Head 0 | iou.min=-0.1703, iou.max=0.8940, iou.mean=0.1861\n",
      "[STDOUT] [DEBUG] Head 0 | ps[..., 4].sigmoid().mean = 0.0364\n",
      "[STDOUT] [DEBUG] Head 1 | iou.min=-0.1167, iou.max=0.8047, iou.mean=0.2803\n",
      "[STDOUT] [DEBUG] Head 1 | ps[..., 4].sigmoid().mean = 0.0047\n",
      "[STDOUT] [DEBUG] Head 2 | iou.min=0.0083, iou.max=0.8463, iou.mean=0.1392\n",
      "[STDOUT] [DEBUG] Head 2 | ps[..., 4].sigmoid().mean = 0.0030\n",
      "[STDOUT] \n",
      "[STDOUT] Class      Images      Labels           P           R      mAP@.5  mAP@.5:.95:  80%|████████  | 4/5 [00:02<00:00,  1.48it/s][DEBUG] Head 0 | iou.min=-0.0112, iou.max=0.7217, iou.mean=0.1558\n",
      "[STDOUT] [DEBUG] Head 0 | ps[..., 4].sigmoid().mean = 0.0400\n",
      "[STDOUT] [DEBUG] Head 1 | iou.min=0.0510, iou.max=0.7469, iou.mean=0.3877\n",
      "[STDOUT] [DEBUG] Head 1 | ps[..., 4].sigmoid().mean = 0.0078\n",
      "[STDOUT] [DEBUG] Head 2 | iou.min=0.0502, iou.max=0.1458, iou.mean=0.0757\n",
      "[STDOUT] [DEBUG] Head 2 | ps[..., 4].sigmoid().mean = 0.0034\n",
      "[STDOUT] \n",
      "[STDOUT] Class      Images      Labels           P           R      mAP@.5  mAP@.5:.95: 100%|██████████| 5/5 [00:02<00:00,  1.86it/s]\n",
      "[STDOUT] all         130           0           0           0           0           0\n",
      "[STDOUT] OaohRepConv act_learn weight: 0.400\n",
      "[STDOUT] OaohRepConv act_learn weight: 0.400\n",
      "[STDOUT] OaohRepConv act_learn weight: 0.400\n",
      "[STDOUT] OaohRepConv act_learn weight: 0.400\n",
      "[STDOUT] OaohRepConv act_learn weight: 0.400\n",
      "[STDOUT] OaohRepConv act_learn weight: 0.400\n",
      "[STDOUT] OaohRepConv act_learn weight: 0.400\n",
      "[STDOUT] OaohRepConv act_learn weight: 0.400\n",
      "[STDOUT] OaohRepConv act_learn weight: 0.400\n",
      "[STDOUT] OaohRepConv act_learn weight: 0.400\n",
      "[STDOUT] OaohRepConv act_learn weight: 0.400\n",
      "[STDOUT] OaohRepConv act_learn weight: 0.400\n",
      "[STDOUT] OaohRepConv act_learn weight: 0.400\n",
      "[STDOUT] OaohRepConv act_learn weight: 0.400\n",
      "[STDOUT] OaohRepConv act_learn weight: 0.400\n",
      "[STDOUT] OaohRepConv act_learn weight: 0.400\n",
      "[STDOUT] OaohRepConv act_learn weight: 0.400\n",
      "[STDOUT] \n",
      "[STDOUT] Epoch   gpu_mem       box       obj       cls     total    labels  img_size\n",
      "[STDOUT] \n",
      "[STDOUT] 0%|          | 0/25 [00:00<?, ?it/s]\n",
      "[STDOUT] 12/29       12G   0.05959    0.0267   0.02281    0.1091       190       640:   0%|          | 0/25 [00:01<?, ?it/s][TRAINING]      12/29       12G   0.05959    0.0267   0.02281    0.1091       190       640\n",
      "[STDOUT] \n",
      "[STDOUT] 12/29       12G   0.05959    0.0267   0.02281    0.1091       190       640:   4%|▍         | 1/25 [00:01<00:40,  1.67s/it]\n",
      "[STDOUT] 12/29       12G   0.06043    0.0287   0.02432    0.1134       289       640:   4%|▍         | 1/25 [00:03<00:40,  1.67s/it]\n",
      "[STDOUT] 12/29       12G   0.06043    0.0287   0.02432    0.1134       289       640:   8%|▊         | 2/25 [00:03<00:39,  1.73s/it]\n",
      "[STDOUT] 12/29       12G    0.0609   0.02817   0.02421    0.1133       184       640:   8%|▊         | 2/25 [00:05<00:39,  1.73s/it]\n",
      "[STDOUT] 12/29       12G    0.0609   0.02817   0.02421    0.1133       184       640:  12%|█▏        | 3/25 [00:05<00:36,  1.65s/it]\n",
      "[STDOUT] 12/29       12G    0.0612   0.02575   0.02291    0.1099       133       640:  12%|█▏        | 3/25 [00:06<00:36,  1.65s/it]\n",
      "[STDOUT] 12/29       12G    0.0612   0.02575   0.02291    0.1099       133       640:  16%|█▌        | 4/25 [00:06<00:35,  1.69s/it]\n",
      "[STDOUT] 12/29       12G   0.06152   0.02396   0.02244    0.1079       117       640:  16%|█▌        | 4/25 [00:08<00:35,  1.69s/it]\n",
      "[STDOUT] 12/29       12G   0.06152   0.02396   0.02244    0.1079       117       640:  20%|██        | 5/25 [00:08<00:33,  1.65s/it]\n",
      "[STDOUT] 12/29       12G   0.06145    0.0242   0.02187    0.1075       196       640:  20%|██        | 5/25 [00:10<00:33,  1.65s/it]\n",
      "[STDOUT] 12/29       12G   0.06145    0.0242   0.02187    0.1075       196       640:  24%|██▍       | 6/25 [00:10<00:32,  1.69s/it]\n",
      "[STDOUT] 12/29       12G   0.06177   0.02366    0.0221    0.1075       144       640:  24%|██▍       | 6/25 [00:11<00:32,  1.69s/it]\n",
      "[STDOUT] 12/29       12G   0.06177   0.02366    0.0221    0.1075       144       640:  28%|██▊       | 7/25 [00:11<00:31,  1.73s/it]\n",
      "[STDOUT] 12/29       12G   0.06205   0.02297   0.02227    0.1073       112       640:  28%|██▊       | 7/25 [00:13<00:31,  1.73s/it]\n",
      "[STDOUT] 12/29       12G   0.06205   0.02297   0.02227    0.1073       112       640:  32%|███▏      | 8/25 [00:13<00:28,  1.66s/it]\n",
      "[STDOUT] 12/29       12G   0.06179   0.02392   0.02217    0.1079       208       640:  32%|███▏      | 8/25 [00:15<00:28,  1.66s/it]\n",
      "[STDOUT] 12/29       12G   0.06179   0.02392   0.02217    0.1079       208       640:  36%|███▌      | 9/25 [00:15<00:27,  1.71s/it]\n",
      "[STDOUT] 12/29       12G   0.06151   0.02416    0.0218    0.1075       148       640:  36%|███▌      | 9/25 [00:16<00:27,  1.71s/it]\n",
      "[STDOUT] 12/29       12G   0.06151   0.02416    0.0218    0.1075       148       640:  40%|████      | 10/25 [00:16<00:25,  1.68s/it]\n",
      "[STDOUT] 12/29       12G   0.06221   0.02449   0.02199    0.1087       233       640:  40%|████      | 10/25 [00:18<00:25,  1.68s/it][TRAINING]      12/29       12G   0.06221   0.02449   0.02199    0.1087       233       640\n",
      "[STDOUT] \n",
      "[STDOUT] 12/29       12G   0.06221   0.02449   0.02199    0.1087       233       640:  44%|████▍     | 11/25 [00:18<00:25,  1.79s/it]\n",
      "[STDOUT] 12/29       12G   0.06206   0.02495   0.02187    0.1089       337       640:  44%|████▍     | 11/25 [00:20<00:25,  1.79s/it]\n",
      "[STDOUT] 12/29       12G   0.06206   0.02495   0.02187    0.1089       337       640:  48%|████▊     | 12/25 [00:20<00:22,  1.77s/it]\n",
      "[STDOUT] 12/29       12G   0.06243   0.02515   0.02188    0.1095       245       640:  48%|████▊     | 12/25 [00:22<00:22,  1.77s/it]\n",
      "[STDOUT] 12/29       12G   0.06243   0.02515   0.02188    0.1095       245       640:  52%|█████▏    | 13/25 [00:22<00:20,  1.74s/it]\n",
      "[STDOUT] 12/29       12G   0.06244   0.02468   0.02158    0.1087       203       640:  52%|█████▏    | 13/25 [00:23<00:20,  1.74s/it]\n",
      "[STDOUT] 12/29       12G   0.06244   0.02468   0.02158    0.1087       203       640:  56%|█████▌    | 14/25 [00:23<00:18,  1.70s/it]\n",
      "[STDOUT] 12/29       12G   0.06262   0.02424   0.02157    0.1084       130       640:  56%|█████▌    | 14/25 [00:25<00:18,  1.70s/it]\n",
      "[STDOUT] 12/29       12G   0.06262   0.02424   0.02157    0.1084       130       640:  60%|██████    | 15/25 [00:25<00:16,  1.66s/it]\n",
      "[STDOUT] 12/29       12G   0.06307    0.0241   0.02172    0.1089       230       640:  60%|██████    | 15/25 [00:27<00:16,  1.66s/it]\n",
      "[STDOUT] 12/29       12G   0.06307    0.0241   0.02172    0.1089       230       640:  64%|██████▍   | 16/25 [00:27<00:14,  1.64s/it]\n",
      "[STDOUT] 12/29       12G   0.06295   0.02458   0.02161    0.1091       264       640:  64%|██████▍   | 16/25 [00:28<00:14,  1.64s/it]\n",
      "[STDOUT] 12/29       12G   0.06295   0.02458   0.02161    0.1091       264       640:  68%|██████▊   | 17/25 [00:28<00:13,  1.69s/it]\n",
      "[STDOUT] 12/29       12G   0.06277   0.02474   0.02166    0.1092       209       640:  68%|██████▊   | 17/25 [00:30<00:13,  1.69s/it]\n",
      "[STDOUT] 12/29       12G   0.06277   0.02474   0.02166    0.1092       209       640:  72%|███████▏  | 18/25 [00:30<00:12,  1.72s/it]\n",
      "[STDOUT] 12/29       12G   0.06288   0.02496   0.02168    0.1095       245       640:  72%|███████▏  | 18/25 [00:32<00:12,  1.72s/it]\n",
      "[STDOUT] 12/29       12G   0.06288   0.02496   0.02168    0.1095       245       640:  76%|███████▌  | 19/25 [00:32<00:10,  1.70s/it]\n",
      "[STDOUT] 12/29       12G   0.06304   0.02455   0.02172    0.1093       147       640:  76%|███████▌  | 19/25 [00:33<00:10,  1.70s/it]\n",
      "[STDOUT] 12/29       12G   0.06304   0.02455   0.02172    0.1093       147       640:  80%|████████  | 20/25 [00:33<00:08,  1.61s/it]\n",
      "[STDOUT] 12/29       12G   0.06298   0.02442   0.02158     0.109       143       640:  80%|████████  | 20/25 [00:35<00:08,  1.61s/it][TRAINING]      12/29       12G   0.06298   0.02442   0.02158     0.109       143       640\n",
      "[STDOUT] \n",
      "[STDOUT] 12/29       12G   0.06298   0.02442   0.02158     0.109       143       640:  84%|████████▍ | 21/25 [00:35<00:06,  1.62s/it]\n",
      "[STDOUT] 12/29       12G   0.06273   0.02446   0.02159    0.1088       197       640:  84%|████████▍ | 21/25 [00:37<00:06,  1.62s/it]\n",
      "[STDOUT] 12/29       12G   0.06273   0.02446   0.02159    0.1088       197       640:  88%|████████▊ | 22/25 [00:37<00:05,  1.68s/it]\n",
      "[STDOUT] 12/29       12G    0.0625   0.02493   0.02129    0.1087       227       640:  88%|████████▊ | 22/25 [00:38<00:05,  1.68s/it]\n",
      "[STDOUT] 12/29       12G    0.0625   0.02493   0.02129    0.1087       227       640:  92%|█████████▏| 23/25 [00:38<00:03,  1.69s/it]\n",
      "[STDOUT] 12/29       12G   0.06228   0.02499   0.02126    0.1085       176       640:  92%|█████████▏| 23/25 [00:40<00:03,  1.69s/it]\n",
      "[STDOUT] 12/29       12G   0.06228   0.02499   0.02126    0.1085       176       640:  96%|█████████▌| 24/25 [00:40<00:01,  1.70s/it]\n",
      "[STDOUT] 12/29       12G   0.06213   0.02515    0.0211    0.1084        83       640:  96%|█████████▌| 24/25 [00:41<00:01,  1.70s/it]\n",
      "[STDOUT] 12/29       12G   0.06213   0.02515    0.0211    0.1084        83       640: 100%|██████████| 25/25 [00:41<00:00,  1.41s/it]\n",
      "[STDOUT] 12/29       12G   0.06213   0.02515    0.0211    0.1084        83       640: 100%|██████████| 25/25 [00:41<00:00,  1.65s/it]\n",
      "[STDOUT] \n",
      "[STDOUT] Class      Images      Labels           P           R      mAP@.5  mAP@.5:.95:   0%|          | 0/5 [00:00<?, ?it/s][DEBUG] Head 0 | iou.min=-0.0881, iou.max=0.9246, iou.mean=0.3214\n",
      "[STDOUT] [DEBUG] Head 0 | ps[..., 4].sigmoid().mean = 0.0126\n",
      "[STDOUT] [DEBUG] Head 1 | iou.min=-0.0318, iou.max=0.9030, iou.mean=0.3743\n",
      "[STDOUT] [DEBUG] Head 1 | ps[..., 4].sigmoid().mean = 0.0055\n",
      "[STDOUT] [DEBUG] Head 2 | iou.min=-0.4174, iou.max=0.7685, iou.mean=0.1813\n",
      "[STDOUT] [DEBUG] Head 2 | ps[..., 4].sigmoid().mean = 0.0016\n",
      "[STDOUT] \n",
      "[STDOUT] Class      Images      Labels           P           R      mAP@.5  mAP@.5:.95:  20%|██        | 1/5 [00:00<00:02,  1.72it/s][DEBUG] Head 0 | iou.min=-0.0224, iou.max=0.7897, iou.mean=0.2462\n",
      "[STDOUT] [DEBUG] Head 0 | ps[..., 4].sigmoid().mean = 0.0118\n",
      "[STDOUT] [DEBUG] Head 1 | iou.min=-0.0696, iou.max=0.9310, iou.mean=0.3651\n",
      "[STDOUT] [DEBUG] Head 1 | ps[..., 4].sigmoid().mean = 0.0078\n",
      "[STDOUT] [DEBUG] Head 2 | iou.min=-0.3250, iou.max=0.8321, iou.mean=0.2730\n",
      "[STDOUT] [DEBUG] Head 2 | ps[..., 4].sigmoid().mean = 0.0015\n",
      "[STDOUT] \n",
      "[STDOUT] Class      Images      Labels           P           R      mAP@.5  mAP@.5:.95:  40%|████      | 2/5 [00:01<00:01,  1.65it/s][DEBUG] Head 0 | iou.min=-0.1175, iou.max=0.9103, iou.mean=0.3117\n",
      "[STDOUT] [DEBUG] Head 0 | ps[..., 4].sigmoid().mean = 0.0126\n",
      "[STDOUT] [DEBUG] Head 1 | iou.min=-0.1090, iou.max=0.9362, iou.mean=0.2779\n",
      "[STDOUT] [DEBUG] Head 1 | ps[..., 4].sigmoid().mean = 0.0049\n",
      "[STDOUT] [DEBUG] Head 2 | iou.min=-0.4518, iou.max=0.7993, iou.mean=0.1863\n",
      "[STDOUT] [DEBUG] Head 2 | ps[..., 4].sigmoid().mean = 0.0016\n",
      "[STDOUT] \n",
      "[STDOUT] Class      Images      Labels           P           R      mAP@.5  mAP@.5:.95:  60%|██████    | 3/5 [00:01<00:01,  1.56it/s][DEBUG] Head 0 | iou.min=-0.0026, iou.max=0.9159, iou.mean=0.4421\n",
      "[STDOUT] [DEBUG] Head 0 | ps[..., 4].sigmoid().mean = 0.0269\n",
      "[STDOUT] [DEBUG] Head 1 | iou.min=-0.0309, iou.max=0.9090, iou.mean=0.3663\n",
      "[STDOUT] [DEBUG] Head 1 | ps[..., 4].sigmoid().mean = 0.0067\n",
      "[STDOUT] [DEBUG] Head 2 | iou.min=-0.2468, iou.max=0.6709, iou.mean=0.1574\n",
      "[STDOUT] [DEBUG] Head 2 | ps[..., 4].sigmoid().mean = 0.0015\n",
      "[STDOUT] \n",
      "[STDOUT] Class      Images      Labels           P           R      mAP@.5  mAP@.5:.95:  80%|████████  | 4/5 [00:02<00:00,  1.51it/s][DEBUG] Head 0 | iou.min=0.0316, iou.max=0.7848, iou.mean=0.3391\n",
      "[STDOUT] [DEBUG] Head 0 | ps[..., 4].sigmoid().mean = 0.0221\n",
      "[STDOUT] [DEBUG] Head 1 | iou.min=0.2213, iou.max=0.9399, iou.mean=0.4987\n",
      "[STDOUT] [DEBUG] Head 1 | ps[..., 4].sigmoid().mean = 0.0138\n",
      "[STDOUT] [DEBUG] Head 2 | iou.min=0.0480, iou.max=0.2596, iou.mean=0.1099\n",
      "[STDOUT] [DEBUG] Head 2 | ps[..., 4].sigmoid().mean = 0.0018\n",
      "[STDOUT] \n",
      "[STDOUT] Class      Images      Labels           P           R      mAP@.5  mAP@.5:.95: 100%|██████████| 5/5 [00:02<00:00,  1.90it/s]\n",
      "[STDOUT] all         130         736      0.0116     0.00323    0.000466    7.02e-05\n",
      "[STDOUT] OaohRepConv act_learn weight: 0.433\n",
      "[STDOUT] OaohRepConv act_learn weight: 0.433\n",
      "[STDOUT] OaohRepConv act_learn weight: 0.433\n",
      "[STDOUT] OaohRepConv act_learn weight: 0.433\n",
      "[STDOUT] OaohRepConv act_learn weight: 0.433\n",
      "[STDOUT] OaohRepConv act_learn weight: 0.433\n",
      "[STDOUT] OaohRepConv act_learn weight: 0.433\n",
      "[STDOUT] OaohRepConv act_learn weight: 0.433\n",
      "[STDOUT] OaohRepConv act_learn weight: 0.433\n",
      "[STDOUT] OaohRepConv act_learn weight: 0.433\n",
      "[STDOUT] OaohRepConv act_learn weight: 0.433\n",
      "[STDOUT] OaohRepConv act_learn weight: 0.433\n",
      "[STDOUT] OaohRepConv act_learn weight: 0.433\n",
      "[STDOUT] OaohRepConv act_learn weight: 0.433\n",
      "[STDOUT] OaohRepConv act_learn weight: 0.433\n",
      "[STDOUT] OaohRepConv act_learn weight: 0.433\n",
      "[STDOUT] OaohRepConv act_learn weight: 0.433\n",
      "[STDOUT] \n",
      "[STDOUT] Epoch   gpu_mem       box       obj       cls     total    labels  img_size\n",
      "[STDOUT] \n",
      "[STDOUT] 0%|          | 0/25 [00:00<?, ?it/s]\n",
      "[STDOUT] 13/29       12G    0.0595   0.02936   0.01733    0.1062       242       640:   0%|          | 0/25 [00:01<?, ?it/s][TRAINING]      13/29       12G    0.0595   0.02936   0.01733    0.1062       242       640\n",
      "[STDOUT] \n",
      "[STDOUT] 13/29       12G    0.0595   0.02936   0.01733    0.1062       242       640:   4%|▍         | 1/25 [00:01<00:43,  1.82s/it]\n",
      "[STDOUT] 13/29       12G   0.06028   0.02946   0.01608    0.1058       262       640:   4%|▍         | 1/25 [00:03<00:43,  1.82s/it]\n",
      "[STDOUT] 13/29       12G   0.06028   0.02946   0.01608    0.1058       262       640:   8%|▊         | 2/25 [00:03<00:39,  1.73s/it]\n",
      "[STDOUT] 13/29       12G   0.06048   0.02898   0.01727    0.1067       296       640:   8%|▊         | 2/25 [00:05<00:39,  1.73s/it]\n",
      "[STDOUT] 13/29       12G   0.06048   0.02898   0.01727    0.1067       296       640:  12%|█▏        | 3/25 [00:05<00:39,  1.79s/it]\n",
      "[STDOUT] 13/29       12G   0.06088   0.02676   0.01926    0.1069       135       640:  12%|█▏        | 3/25 [00:07<00:39,  1.79s/it]\n",
      "[STDOUT] 13/29       12G   0.06088   0.02676   0.01926    0.1069       135       640:  16%|█▌        | 4/25 [00:07<00:37,  1.80s/it]\n",
      "[STDOUT] 13/29       12G   0.06048   0.02856   0.01877    0.1078       246       640:  16%|█▌        | 4/25 [00:09<00:37,  1.80s/it]\n",
      "[STDOUT] 13/29       12G   0.06048   0.02856   0.01877    0.1078       246       640:  20%|██        | 5/25 [00:09<00:36,  1.82s/it]\n",
      "[STDOUT] 13/29       12G   0.06072   0.02695   0.01939    0.1071       201       640:  20%|██        | 5/25 [00:10<00:36,  1.82s/it]\n",
      "[STDOUT] 13/29       12G   0.06072   0.02695   0.01939    0.1071       201       640:  24%|██▍       | 6/25 [00:10<00:32,  1.69s/it]\n",
      "[STDOUT] 13/29       12G    0.0616   0.02589   0.01996    0.1074       129       640:  24%|██▍       | 6/25 [00:12<00:32,  1.69s/it]\n",
      "[STDOUT] 13/29       12G    0.0616   0.02589   0.01996    0.1074       129       640:  28%|██▊       | 7/25 [00:12<00:29,  1.67s/it]\n",
      "[STDOUT] 13/29       12G   0.06158   0.02699    0.0198    0.1084       280       640:  28%|██▊       | 7/25 [00:13<00:29,  1.67s/it]\n",
      "[STDOUT] 13/29       12G   0.06158   0.02699    0.0198    0.1084       280       640:  32%|███▏      | 8/25 [00:13<00:28,  1.69s/it]\n",
      "[STDOUT] 13/29       12G   0.06164   0.02613   0.01927     0.107       137       640:  32%|███▏      | 8/25 [00:15<00:28,  1.69s/it]\n",
      "[STDOUT] 13/29       12G   0.06164   0.02613   0.01927     0.107       137       640:  36%|███▌      | 9/25 [00:15<00:26,  1.66s/it]\n",
      "[STDOUT] 13/29       12G   0.06173   0.02637   0.01876    0.1069       220       640:  36%|███▌      | 9/25 [00:17<00:26,  1.66s/it]\n",
      "[STDOUT] 13/29       12G   0.06173   0.02637   0.01876    0.1069       220       640:  40%|████      | 10/25 [00:17<00:24,  1.66s/it]\n",
      "[STDOUT] 13/29       12G   0.06221   0.02663   0.01903    0.1079       284       640:  40%|████      | 10/25 [00:18<00:24,  1.66s/it][TRAINING]      13/29       12G   0.06221   0.02663   0.01903    0.1079       284       640\n",
      "[STDOUT] \n",
      "[STDOUT] 13/29       12G   0.06221   0.02663   0.01903    0.1079       284       640:  44%|████▍     | 11/25 [00:18<00:23,  1.68s/it]\n",
      "[STDOUT] 13/29       12G   0.06304   0.02608   0.01926    0.1084       271       640:  44%|████▍     | 11/25 [00:20<00:23,  1.68s/it]\n",
      "[STDOUT] 13/29       12G   0.06304   0.02608   0.01926    0.1084       271       640:  48%|████▊     | 12/25 [00:20<00:21,  1.62s/it]\n",
      "[STDOUT] 13/29       12G    0.0627   0.02656   0.01936    0.1086       313       640:  48%|████▊     | 12/25 [00:21<00:21,  1.62s/it]\n",
      "[STDOUT] 13/29       12G    0.0627   0.02656   0.01936    0.1086       313       640:  52%|█████▏    | 13/25 [00:21<00:19,  1.63s/it]\n",
      "[STDOUT] 13/29       12G   0.06222   0.02636   0.01908    0.1077       142       640:  52%|█████▏    | 13/25 [00:23<00:19,  1.63s/it]\n",
      "[STDOUT] 13/29       12G   0.06222   0.02636   0.01908    0.1077       142       640:  56%|█████▌    | 14/25 [00:23<00:17,  1.58s/it]\n",
      "[STDOUT] 13/29       12G   0.06251   0.02588   0.01947    0.1079       129       640:  56%|█████▌    | 14/25 [00:24<00:17,  1.58s/it]\n",
      "[STDOUT] 13/29       12G   0.06251   0.02588   0.01947    0.1079       129       640:  60%|██████    | 15/25 [00:24<00:15,  1.55s/it]\n",
      "[STDOUT] 13/29       12G   0.06266     0.026   0.01943    0.1081       304       640:  60%|██████    | 15/25 [00:26<00:15,  1.55s/it]\n",
      "[STDOUT] 13/29       12G   0.06266     0.026   0.01943    0.1081       304       640:  64%|██████▍   | 16/25 [00:26<00:14,  1.66s/it]\n",
      "[STDOUT] 13/29       12G   0.06259   0.02661   0.01924    0.1084       358       640:  64%|██████▍   | 16/25 [00:28<00:14,  1.66s/it]\n",
      "[STDOUT] 13/29       12G   0.06259   0.02661   0.01924    0.1084       358       640:  68%|██████▊   | 17/25 [00:28<00:13,  1.69s/it]\n",
      "[STDOUT] 13/29       12G   0.06292   0.02654   0.01936    0.1088       237       640:  68%|██████▊   | 17/25 [00:30<00:13,  1.69s/it]\n",
      "[STDOUT] 13/29       12G   0.06292   0.02654   0.01936    0.1088       237       640:  72%|███████▏  | 18/25 [00:30<00:11,  1.70s/it]\n",
      "[STDOUT] 13/29       12G   0.06341    0.0263   0.01959    0.1093       218       640:  72%|███████▏  | 18/25 [00:31<00:11,  1.70s/it]\n",
      "[STDOUT] 13/29       12G   0.06341    0.0263   0.01959    0.1093       218       640:  76%|███████▌  | 19/25 [00:31<00:09,  1.65s/it]\n",
      "[STDOUT] 13/29       12G   0.06364   0.02575   0.01997    0.1094       118       640:  76%|███████▌  | 19/25 [00:33<00:09,  1.65s/it]\n",
      "[STDOUT] 13/29       12G   0.06364   0.02575   0.01997    0.1094       118       640:  80%|████████  | 20/25 [00:33<00:08,  1.62s/it]\n",
      "[STDOUT] 13/29       12G   0.06387   0.02538   0.01999    0.1092       158       640:  80%|████████  | 20/25 [00:34<00:08,  1.62s/it][TRAINING]      13/29       12G   0.06387   0.02538   0.01999    0.1092       158       640\n",
      "[STDOUT] \n",
      "[STDOUT] 13/29       12G   0.06387   0.02538   0.01999    0.1092       158       640:  84%|████████▍ | 21/25 [00:34<00:06,  1.60s/it]\n",
      "[STDOUT] 13/29       12G   0.06361   0.02547   0.01975    0.1088       192       640:  84%|████████▍ | 21/25 [00:36<00:06,  1.60s/it]\n",
      "[STDOUT] 13/29       12G   0.06361   0.02547   0.01975    0.1088       192       640:  88%|████████▊ | 22/25 [00:36<00:04,  1.60s/it]\n",
      "[STDOUT] 13/29       12G   0.06353   0.02551   0.01983    0.1089       180       640:  88%|████████▊ | 22/25 [00:37<00:04,  1.60s/it]\n",
      "[STDOUT] 13/29       12G   0.06353   0.02551   0.01983    0.1089       180       640:  92%|█████████▏| 23/25 [00:37<00:03,  1.54s/it]\n",
      "[STDOUT] 13/29       12G   0.06376   0.02527   0.01978    0.1088       153       640:  92%|█████████▏| 23/25 [00:39<00:03,  1.54s/it]\n",
      "[STDOUT] 13/29       12G   0.06376   0.02527   0.01978    0.1088       153       640:  96%|█████████▌| 24/25 [00:39<00:01,  1.55s/it]\n",
      "[STDOUT] 13/29       12G    0.0639   0.02533   0.01982    0.1091        97       640:  96%|█████████▌| 24/25 [00:39<00:01,  1.55s/it]\n",
      "[STDOUT] 13/29       12G    0.0639   0.02533   0.01982    0.1091        97       640: 100%|██████████| 25/25 [00:39<00:00,  1.24s/it]\n",
      "[STDOUT] 13/29       12G    0.0639   0.02533   0.01982    0.1091        97       640: 100%|██████████| 25/25 [00:39<00:00,  1.60s/it]\n",
      "[STDOUT] \n",
      "[STDOUT] Class      Images      Labels           P           R      mAP@.5  mAP@.5:.95:   0%|          | 0/5 [00:00<?, ?it/s][DEBUG] Head 0 | iou.min=-0.2128, iou.max=0.9079, iou.mean=0.2872\n",
      "[STDOUT] [DEBUG] Head 0 | ps[..., 4].sigmoid().mean = 0.0036\n",
      "[STDOUT] [DEBUG] Head 1 | iou.min=-0.1071, iou.max=0.8681, iou.mean=0.2898\n",
      "[STDOUT] [DEBUG] Head 1 | ps[..., 4].sigmoid().mean = 0.0118\n",
      "[STDOUT] [DEBUG] Head 2 | iou.min=-0.4633, iou.max=0.8142, iou.mean=0.1342\n",
      "[STDOUT] [DEBUG] Head 2 | ps[..., 4].sigmoid().mean = 0.0007\n",
      "[STDOUT] \n",
      "[STDOUT] Class      Images      Labels           P           R      mAP@.5  mAP@.5:.95:  20%|██        | 1/5 [00:00<00:02,  1.65it/s][DEBUG] Head 0 | iou.min=-0.0932, iou.max=0.8581, iou.mean=0.2808\n",
      "[STDOUT] [DEBUG] Head 0 | ps[..., 4].sigmoid().mean = 0.0046\n",
      "[STDOUT] [DEBUG] Head 1 | iou.min=-0.1142, iou.max=0.7824, iou.mean=0.3246\n",
      "[STDOUT] [DEBUG] Head 1 | ps[..., 4].sigmoid().mean = 0.0133\n",
      "[STDOUT] [DEBUG] Head 2 | iou.min=-0.3562, iou.max=0.8611, iou.mean=0.1922\n",
      "[STDOUT] [DEBUG] Head 2 | ps[..., 4].sigmoid().mean = 0.0005\n",
      "[STDOUT] \n",
      "[STDOUT] Class      Images      Labels           P           R      mAP@.5  mAP@.5:.95:  40%|████      | 2/5 [00:01<00:01,  1.62it/s][DEBUG] Head 0 | iou.min=-0.1588, iou.max=0.8673, iou.mean=0.2153\n",
      "[STDOUT] [DEBUG] Head 0 | ps[..., 4].sigmoid().mean = 0.0043\n",
      "[STDOUT] [DEBUG] Head 1 | iou.min=-0.2492, iou.max=0.8479, iou.mean=0.1775\n",
      "[STDOUT] [DEBUG] Head 1 | ps[..., 4].sigmoid().mean = 0.0108\n",
      "[STDOUT] [DEBUG] Head 2 | iou.min=-0.4165, iou.max=0.8098, iou.mean=0.1483\n",
      "[STDOUT] [DEBUG] Head 2 | ps[..., 4].sigmoid().mean = 0.0007\n",
      "[STDOUT] \n",
      "[STDOUT] Class      Images      Labels           P           R      mAP@.5  mAP@.5:.95:  60%|██████    | 3/5 [00:01<00:01,  1.56it/s][DEBUG] Head 0 | iou.min=-0.1681, iou.max=0.8489, iou.mean=0.2712\n",
      "[STDOUT] [DEBUG] Head 0 | ps[..., 4].sigmoid().mean = 0.0048\n",
      "[STDOUT] [DEBUG] Head 1 | iou.min=-0.0999, iou.max=0.8281, iou.mean=0.2412\n",
      "[STDOUT] [DEBUG] Head 1 | ps[..., 4].sigmoid().mean = 0.0121\n",
      "[STDOUT] [DEBUG] Head 2 | iou.min=-0.4760, iou.max=0.8734, iou.mean=0.0874\n",
      "[STDOUT] [DEBUG] Head 2 | ps[..., 4].sigmoid().mean = 0.0006\n",
      "[STDOUT] \n",
      "[STDOUT] Class      Images      Labels           P           R      mAP@.5  mAP@.5:.95:  80%|████████  | 4/5 [00:02<00:00,  1.52it/s][DEBUG] Head 0 | iou.min=-0.0088, iou.max=0.9340, iou.mean=0.3830\n",
      "[STDOUT] [DEBUG] Head 0 | ps[..., 4].sigmoid().mean = 0.0037\n",
      "[STDOUT] [DEBUG] Head 1 | iou.min=0.0918, iou.max=0.6087, iou.mean=0.3402\n",
      "[STDOUT] [DEBUG] Head 1 | ps[..., 4].sigmoid().mean = 0.0189\n",
      "[STDOUT] [DEBUG] Head 2 | iou.min=-0.2957, iou.max=0.3042, iou.mean=0.1081\n",
      "[STDOUT] [DEBUG] Head 2 | ps[..., 4].sigmoid().mean = 0.0003\n",
      "[STDOUT] \n",
      "[STDOUT] Class      Images      Labels           P           R      mAP@.5  mAP@.5:.95: 100%|██████████| 5/5 [00:02<00:00,  1.90it/s]\n",
      "[STDOUT] all         130           0           0           0           0           0\n",
      "[STDOUT] OaohRepConv act_learn weight: 0.467\n",
      "[STDOUT] OaohRepConv act_learn weight: 0.467\n",
      "[STDOUT] OaohRepConv act_learn weight: 0.467\n",
      "[STDOUT] OaohRepConv act_learn weight: 0.467\n",
      "[STDOUT] OaohRepConv act_learn weight: 0.467\n",
      "[STDOUT] OaohRepConv act_learn weight: 0.467\n",
      "[STDOUT] OaohRepConv act_learn weight: 0.467\n",
      "[STDOUT] OaohRepConv act_learn weight: 0.467\n",
      "[STDOUT] OaohRepConv act_learn weight: 0.467\n",
      "[STDOUT] OaohRepConv act_learn weight: 0.467\n",
      "[STDOUT] OaohRepConv act_learn weight: 0.467\n",
      "[STDOUT] OaohRepConv act_learn weight: 0.467\n",
      "[STDOUT] OaohRepConv act_learn weight: 0.467\n",
      "[STDOUT] OaohRepConv act_learn weight: 0.467\n",
      "[STDOUT] OaohRepConv act_learn weight: 0.467\n",
      "[STDOUT] OaohRepConv act_learn weight: 0.467\n",
      "[STDOUT] OaohRepConv act_learn weight: 0.467\n",
      "[STDOUT] \n",
      "[STDOUT] Epoch   gpu_mem       box       obj       cls     total    labels  img_size\n",
      "[STDOUT] \n",
      "[STDOUT] 0%|          | 0/25 [00:00<?, ?it/s]\n",
      "[STDOUT] 14/29       12G   0.06112   0.02859   0.01988    0.1096       242       640:   0%|          | 0/25 [00:01<?, ?it/s][TRAINING]      14/29       12G   0.06112   0.02859   0.01988    0.1096       242       640\n",
      "[STDOUT] \n",
      "[STDOUT] 14/29       12G   0.06112   0.02859   0.01988    0.1096       242       640:   4%|▍         | 1/25 [00:01<00:37,  1.55s/it]\n",
      "[STDOUT] 14/29       12G   0.06067     0.029   0.01861    0.1083       224       640:   4%|▍         | 1/25 [00:03<00:37,  1.55s/it]\n",
      "[STDOUT] 14/29       12G   0.06067     0.029   0.01861    0.1083       224       640:   8%|▊         | 2/25 [00:03<00:39,  1.70s/it]\n",
      "[STDOUT] 14/29       12G   0.06194   0.02721   0.02141    0.1106       189       640:   8%|▊         | 2/25 [00:05<00:39,  1.70s/it]\n",
      "[STDOUT] 14/29       12G   0.06194   0.02721   0.02141    0.1106       189       640:  12%|█▏        | 3/25 [00:05<00:36,  1.68s/it]\n",
      "[STDOUT] 14/29       12G   0.06371   0.02561    0.0215    0.1108       223       640:  12%|█▏        | 3/25 [00:06<00:36,  1.68s/it]\n",
      "[STDOUT] 14/29       12G   0.06371   0.02561    0.0215    0.1108       223       640:  16%|█▌        | 4/25 [00:06<00:35,  1.67s/it]\n",
      "[STDOUT] 14/29       12G   0.06375   0.02559     0.021    0.1103       192       640:  16%|█▌        | 4/25 [00:08<00:35,  1.67s/it]\n",
      "[STDOUT] 14/29       12G   0.06375   0.02559     0.021    0.1103       192       640:  20%|██        | 5/25 [00:08<00:33,  1.66s/it]\n",
      "[STDOUT] 14/29       12G     0.063   0.02661   0.02096    0.1106       207       640:  20%|██        | 5/25 [00:09<00:33,  1.66s/it]\n",
      "[STDOUT] 14/29       12G     0.063   0.02661   0.02096    0.1106       207       640:  24%|██▍       | 6/25 [00:09<00:31,  1.65s/it]\n",
      "[STDOUT] 14/29       12G   0.06374   0.02599   0.02122    0.1109       190       640:  24%|██▍       | 6/25 [00:11<00:31,  1.65s/it]\n",
      "[STDOUT] 14/29       12G   0.06374   0.02599   0.02122    0.1109       190       640:  28%|██▊       | 7/25 [00:11<00:29,  1.65s/it]\n",
      "[STDOUT] 14/29       12G   0.06361   0.02643   0.02077    0.1108       224       640:  28%|██▊       | 7/25 [00:13<00:29,  1.65s/it]\n",
      "[STDOUT] 14/29       12G   0.06361   0.02643   0.02077    0.1108       224       640:  32%|███▏      | 8/25 [00:13<00:28,  1.70s/it]\n",
      "[STDOUT] 14/29       12G   0.06382   0.02572   0.02117    0.1107       134       640:  32%|███▏      | 8/25 [00:15<00:28,  1.70s/it]\n",
      "[STDOUT] 14/29       12G   0.06382   0.02572   0.02117    0.1107       134       640:  36%|███▌      | 9/25 [00:15<00:27,  1.72s/it]\n",
      "[STDOUT] 14/29       12G   0.06427   0.02468   0.02079    0.1097       124       640:  36%|███▌      | 9/25 [00:16<00:27,  1.72s/it]\n",
      "[STDOUT] 14/29       12G   0.06427   0.02468   0.02079    0.1097       124       640:  40%|████      | 10/25 [00:16<00:25,  1.71s/it]\n",
      "[STDOUT] 14/29       12G   0.06419   0.02478   0.02092    0.1099       230       640:  40%|████      | 10/25 [00:18<00:25,  1.71s/it][TRAINING]      14/29       12G   0.06419   0.02478   0.02092    0.1099       230       640\n",
      "[STDOUT] \n",
      "[STDOUT] 14/29       12G   0.06419   0.02478   0.02092    0.1099       230       640:  44%|████▍     | 11/25 [00:18<00:24,  1.73s/it]\n",
      "[STDOUT] 14/29       12G   0.06363   0.02576   0.02097    0.1104       343       640:  44%|████▍     | 11/25 [00:20<00:24,  1.73s/it]\n",
      "[STDOUT] 14/29       12G   0.06363   0.02576   0.02097    0.1104       343       640:  48%|████▊     | 12/25 [00:20<00:22,  1.73s/it]\n",
      "[STDOUT] 14/29       12G   0.06354   0.02596   0.02079    0.1103       194       640:  48%|████▊     | 12/25 [00:21<00:22,  1.73s/it]\n",
      "[STDOUT] 14/29       12G   0.06354   0.02596   0.02079    0.1103       194       640:  52%|█████▏    | 13/25 [00:21<00:20,  1.69s/it]\n",
      "[STDOUT] 14/29       12G   0.06312   0.02597   0.02065    0.1097       159       640:  52%|█████▏    | 13/25 [00:23<00:20,  1.69s/it]\n",
      "[STDOUT] 14/29       12G   0.06312   0.02597   0.02065    0.1097       159       640:  56%|█████▌    | 14/25 [00:23<00:18,  1.68s/it]\n",
      "[STDOUT] 14/29       12G   0.06315    0.0252   0.02069     0.109        91       640:  56%|█████▌    | 14/25 [00:25<00:18,  1.68s/it]\n",
      "[STDOUT] 14/29       12G   0.06315    0.0252   0.02069     0.109        91       640:  60%|██████    | 15/25 [00:25<00:16,  1.65s/it]\n",
      "[STDOUT] 14/29       12G   0.06293   0.02509   0.02053    0.1085       222       640:  60%|██████    | 15/25 [00:26<00:16,  1.65s/it]\n",
      "[STDOUT] 14/29       12G   0.06293   0.02509   0.02053    0.1085       222       640:  64%|██████▍   | 16/25 [00:26<00:14,  1.64s/it]\n",
      "[STDOUT] 14/29       12G   0.06315   0.02486   0.02096     0.109       192       640:  64%|██████▍   | 16/25 [00:28<00:14,  1.64s/it]\n",
      "[STDOUT] 14/29       12G   0.06315   0.02486   0.02096     0.109       192       640:  68%|██████▊   | 17/25 [00:28<00:13,  1.70s/it]\n",
      "[STDOUT] 14/29       12G    0.0631   0.02474    0.0208    0.1086       160       640:  68%|██████▊   | 17/25 [00:30<00:13,  1.70s/it]\n",
      "[STDOUT] 14/29       12G    0.0631   0.02474    0.0208    0.1086       160       640:  72%|███████▏  | 18/25 [00:30<00:11,  1.67s/it]\n",
      "[STDOUT] 14/29       12G   0.06328   0.02465   0.02055    0.1085       208       640:  72%|███████▏  | 18/25 [00:31<00:11,  1.67s/it]\n",
      "[STDOUT] 14/29       12G   0.06328   0.02465   0.02055    0.1085       208       640:  76%|███████▌  | 19/25 [00:31<00:10,  1.67s/it]\n",
      "[STDOUT] 14/29       12G   0.06334   0.02431   0.02069    0.1083       166       640:  76%|███████▌  | 19/25 [00:33<00:10,  1.67s/it]\n",
      "[STDOUT] 14/29       12G   0.06334   0.02431   0.02069    0.1083       166       640:  80%|████████  | 20/25 [00:33<00:08,  1.64s/it]\n",
      "[STDOUT] 14/29       12G   0.06332   0.02421   0.02064    0.1082       219       640:  80%|████████  | 20/25 [00:35<00:08,  1.64s/it][TRAINING]      14/29       12G   0.06332   0.02421   0.02064    0.1082       219       640\n",
      "[STDOUT] \n",
      "[STDOUT] 14/29       12G   0.06332   0.02421   0.02064    0.1082       219       640:  84%|████████▍ | 21/25 [00:35<00:06,  1.63s/it]\n",
      "[STDOUT] 14/29       12G   0.06332   0.02432   0.02056    0.1082       238       640:  84%|████████▍ | 21/25 [00:36<00:06,  1.63s/it]\n",
      "[STDOUT] 14/29       12G   0.06332   0.02432   0.02056    0.1082       238       640:  88%|████████▊ | 22/25 [00:36<00:04,  1.63s/it]\n",
      "[STDOUT] 14/29       12G   0.06323   0.02452   0.02045    0.1082       189       640:  88%|████████▊ | 22/25 [00:38<00:04,  1.63s/it]\n",
      "[STDOUT] 14/29       12G   0.06323   0.02452   0.02045    0.1082       189       640:  92%|█████████▏| 23/25 [00:38<00:03,  1.73s/it]\n",
      "[STDOUT] 14/29       12G   0.06313    0.0245   0.02032     0.108       220       640:  92%|█████████▏| 23/25 [00:40<00:03,  1.73s/it]\n",
      "[STDOUT] 14/29       12G   0.06313    0.0245   0.02032     0.108       220       640:  96%|█████████▌| 24/25 [00:40<00:01,  1.67s/it]\n",
      "[STDOUT] 14/29       12G   0.06343   0.02431   0.02049    0.1082        66       640:  96%|█████████▌| 24/25 [00:40<00:01,  1.67s/it]\n",
      "[STDOUT] 14/29       12G   0.06343   0.02431   0.02049    0.1082        66       640: 100%|██████████| 25/25 [00:40<00:00,  1.36s/it]\n",
      "[STDOUT] 14/29       12G   0.06343   0.02431   0.02049    0.1082        66       640: 100%|██████████| 25/25 [00:40<00:00,  1.63s/it]\n",
      "[STDOUT] \n",
      "[STDOUT] Class      Images      Labels           P           R      mAP@.5  mAP@.5:.95:   0%|          | 0/5 [00:00<?, ?it/s][DEBUG] Head 0 | iou.min=-0.0875, iou.max=0.8517, iou.mean=0.1939\n",
      "[STDOUT] [DEBUG] Head 0 | ps[..., 4].sigmoid().mean = 0.0478\n",
      "[STDOUT] [DEBUG] Head 1 | iou.min=-0.0708, iou.max=0.8665, iou.mean=0.2520\n",
      "[STDOUT] [DEBUG] Head 1 | ps[..., 4].sigmoid().mean = 0.0872\n",
      "[STDOUT] [DEBUG] Head 2 | iou.min=-0.4801, iou.max=0.8504, iou.mean=0.1150\n",
      "[STDOUT] [DEBUG] Head 2 | ps[..., 4].sigmoid().mean = 0.0010\n",
      "[STDOUT] \n",
      "[STDOUT] Class      Images      Labels           P           R      mAP@.5  mAP@.5:.95:  20%|██        | 1/5 [00:00<00:02,  1.57it/s][DEBUG] Head 0 | iou.min=-0.1719, iou.max=0.9398, iou.mean=0.1729\n",
      "[STDOUT] [DEBUG] Head 0 | ps[..., 4].sigmoid().mean = 0.0516\n",
      "[STDOUT] [DEBUG] Head 1 | iou.min=-0.0769, iou.max=0.9170, iou.mean=0.2739\n",
      "[STDOUT] [DEBUG] Head 1 | ps[..., 4].sigmoid().mean = 0.0684\n",
      "[STDOUT] [DEBUG] Head 2 | iou.min=-0.4000, iou.max=0.7615, iou.mean=0.1363\n",
      "[STDOUT] [DEBUG] Head 2 | ps[..., 4].sigmoid().mean = 0.0006\n",
      "[STDOUT] \n",
      "[STDOUT] Class      Images      Labels           P           R      mAP@.5  mAP@.5:.95:  40%|████      | 2/5 [00:01<00:01,  1.52it/s][DEBUG] Head 0 | iou.min=-0.2026, iou.max=0.8385, iou.mean=0.1524\n",
      "[STDOUT] [DEBUG] Head 0 | ps[..., 4].sigmoid().mean = 0.0438\n",
      "[STDOUT] [DEBUG] Head 1 | iou.min=-0.2025, iou.max=0.8449, iou.mean=0.1368\n",
      "[STDOUT] [DEBUG] Head 1 | ps[..., 4].sigmoid().mean = 0.0423\n",
      "[STDOUT] [DEBUG] Head 2 | iou.min=-0.4635, iou.max=0.9147, iou.mean=0.0931\n",
      "[STDOUT] [DEBUG] Head 2 | ps[..., 4].sigmoid().mean = 0.0007\n",
      "[STDOUT] \n",
      "[STDOUT] Class      Images      Labels           P           R      mAP@.5  mAP@.5:.95:  60%|██████    | 3/5 [00:02<00:01,  1.43it/s][DEBUG] Head 0 | iou.min=-0.0836, iou.max=0.9149, iou.mean=0.2163\n",
      "[STDOUT] [DEBUG] Head 0 | ps[..., 4].sigmoid().mean = 0.0680\n",
      "[STDOUT] [DEBUG] Head 1 | iou.min=-0.0653, iou.max=0.8280, iou.mean=0.1867\n",
      "[STDOUT] [DEBUG] Head 1 | ps[..., 4].sigmoid().mean = 0.1353\n",
      "[STDOUT] [DEBUG] Head 2 | iou.min=-0.4628, iou.max=0.7561, iou.mean=0.0887\n",
      "[STDOUT] [DEBUG] Head 2 | ps[..., 4].sigmoid().mean = 0.0009\n",
      "[STDOUT] \n",
      "[STDOUT] Class      Images      Labels           P           R      mAP@.5  mAP@.5:.95:  80%|████████  | 4/5 [00:02<00:00,  1.39it/s][DEBUG] Head 0 | iou.min=-0.0251, iou.max=0.6956, iou.mean=0.1911\n",
      "[STDOUT] [DEBUG] Head 0 | ps[..., 4].sigmoid().mean = 0.1132\n",
      "[STDOUT] [DEBUG] Head 1 | iou.min=0.0359, iou.max=0.6615, iou.mean=0.2109\n",
      "[STDOUT] [DEBUG] Head 1 | ps[..., 4].sigmoid().mean = 0.1087\n",
      "[STDOUT] [DEBUG] Head 2 | iou.min=-0.3901, iou.max=0.2687, iou.mean=-0.0613\n",
      "[STDOUT] [DEBUG] Head 2 | ps[..., 4].sigmoid().mean = 0.0004\n",
      "[STDOUT] \n",
      "[STDOUT] Class      Images      Labels           P           R      mAP@.5  mAP@.5:.95: 100%|██████████| 5/5 [00:02<00:00,  1.74it/s]\n",
      "[STDOUT] all         130         736       0.102     0.00962    0.000133    2.22e-05\n",
      "[STDOUT] OaohRepConv act_learn weight: 0.500\n",
      "[STDOUT] OaohRepConv act_learn weight: 0.500\n",
      "[STDOUT] OaohRepConv act_learn weight: 0.500\n",
      "[STDOUT] OaohRepConv act_learn weight: 0.500\n",
      "[STDOUT] OaohRepConv act_learn weight: 0.500\n",
      "[STDOUT] OaohRepConv act_learn weight: 0.500\n",
      "[STDOUT] OaohRepConv act_learn weight: 0.500\n",
      "[STDOUT] OaohRepConv act_learn weight: 0.500\n",
      "[STDOUT] OaohRepConv act_learn weight: 0.500\n",
      "[STDOUT] OaohRepConv act_learn weight: 0.500\n",
      "[STDOUT] OaohRepConv act_learn weight: 0.500\n",
      "[STDOUT] OaohRepConv act_learn weight: 0.500\n",
      "[STDOUT] OaohRepConv act_learn weight: 0.500\n",
      "[STDOUT] OaohRepConv act_learn weight: 0.500\n",
      "[STDOUT] OaohRepConv act_learn weight: 0.500\n",
      "[STDOUT] OaohRepConv act_learn weight: 0.500\n",
      "[STDOUT] OaohRepConv act_learn weight: 0.500\n",
      "[STDOUT] \n",
      "[STDOUT] Epoch   gpu_mem       box       obj       cls     total    labels  img_size\n",
      "[STDOUT] \n",
      "[STDOUT] 0%|          | 0/25 [00:00<?, ?it/s]\n",
      "[STDOUT] 15/29       12G   0.05584   0.02657   0.01541   0.09782       219       640:   0%|          | 0/25 [00:01<?, ?it/s][TRAINING]      15/29       12G   0.05584   0.02657   0.01541   0.09782       219       640\n",
      "[STDOUT] \n",
      "[STDOUT] 15/29       12G   0.05584   0.02657   0.01541   0.09782       219       640:   4%|▍         | 1/25 [00:01<00:41,  1.73s/it]\n",
      "[STDOUT] 15/29       12G   0.05735   0.03247   0.01609    0.1059       345       640:   4%|▍         | 1/25 [00:03<00:41,  1.73s/it]\n",
      "[STDOUT] 15/29       12G   0.05735   0.03247   0.01609    0.1059       345       640:   8%|▊         | 2/25 [00:03<00:39,  1.71s/it]\n",
      "[STDOUT] 15/29       12G   0.05982   0.02985   0.01791    0.1076       222       640:   8%|▊         | 2/25 [00:05<00:39,  1.71s/it]\n",
      "[STDOUT] 15/29       12G   0.05982   0.02985   0.01791    0.1076       222       640:  12%|█▏        | 3/25 [00:05<00:38,  1.76s/it]\n",
      "[STDOUT] 15/29       12G   0.06011   0.02955   0.01928    0.1089       259       640:  12%|█▏        | 3/25 [00:06<00:38,  1.76s/it]\n",
      "[STDOUT] 15/29       12G   0.06011   0.02955   0.01928    0.1089       259       640:  16%|█▌        | 4/25 [00:06<00:36,  1.75s/it]\n",
      "[STDOUT] 15/29       12G   0.05983   0.02718   0.02024    0.1072       120       640:  16%|█▌        | 4/25 [00:08<00:36,  1.75s/it]\n",
      "[STDOUT] 15/29       12G   0.05983   0.02718   0.02024    0.1072       120       640:  20%|██        | 5/25 [00:08<00:32,  1.62s/it]\n",
      "[STDOUT] 15/29       12G   0.05999   0.02695   0.01911    0.1061       210       640:  20%|██        | 5/25 [00:09<00:32,  1.62s/it]\n",
      "[STDOUT] 15/29       12G   0.05999   0.02695   0.01911    0.1061       210       640:  24%|██▍       | 6/25 [00:09<00:29,  1.56s/it]\n",
      "[STDOUT] 15/29       12G   0.06075   0.02572   0.01975    0.1062       141       640:  24%|██▍       | 6/25 [00:11<00:29,  1.56s/it]\n",
      "[STDOUT] 15/29       12G   0.06075   0.02572   0.01975    0.1062       141       640:  28%|██▊       | 7/25 [00:11<00:27,  1.55s/it]\n",
      "[STDOUT] 15/29       12G   0.06141   0.02515   0.01931    0.1059       200       640:  28%|██▊       | 7/25 [00:12<00:27,  1.55s/it]\n",
      "[STDOUT] 15/29       12G   0.06141   0.02515   0.01931    0.1059       200       640:  32%|███▏      | 8/25 [00:12<00:26,  1.56s/it]\n",
      "[STDOUT] 15/29       12G   0.06125    0.0247   0.01895    0.1049       106       640:  32%|███▏      | 8/25 [00:14<00:26,  1.56s/it]\n",
      "[STDOUT] 15/29       12G   0.06125    0.0247   0.01895    0.1049       106       640:  36%|███▌      | 9/25 [00:14<00:24,  1.51s/it]\n",
      "[STDOUT] 15/29       12G    0.0613   0.02464    0.0185    0.1044       137       640:  36%|███▌      | 9/25 [00:15<00:24,  1.51s/it]\n",
      "[STDOUT] 15/29       12G    0.0613   0.02464    0.0185    0.1044       137       640:  40%|████      | 10/25 [00:15<00:22,  1.51s/it]\n",
      "[STDOUT] 15/29       12G    0.0616   0.02462    0.0185    0.1047       185       640:  40%|████      | 10/25 [00:17<00:22,  1.51s/it][TRAINING]      15/29       12G    0.0616   0.02462    0.0185    0.1047       185       640\n",
      "[STDOUT] \n",
      "[STDOUT] 15/29       12G    0.0616   0.02462    0.0185    0.1047       185       640:  44%|████▍     | 11/25 [00:17<00:23,  1.68s/it]\n",
      "[STDOUT] 15/29       12G   0.06209   0.02489   0.01979    0.1068       375       640:  44%|████▍     | 11/25 [00:19<00:23,  1.68s/it]\n",
      "[STDOUT] 15/29       12G   0.06209   0.02489   0.01979    0.1068       375       640:  48%|████▊     | 12/25 [00:19<00:21,  1.64s/it]\n",
      "[STDOUT] 15/29       12G   0.06283   0.02461   0.01969    0.1071       322       640:  48%|████▊     | 12/25 [00:21<00:21,  1.64s/it]\n",
      "[STDOUT] 15/29       12G   0.06283   0.02461   0.01969    0.1071       322       640:  52%|█████▏    | 13/25 [00:21<00:19,  1.62s/it]\n",
      "[STDOUT] 15/29       12G   0.06308   0.02478   0.01968    0.1075       219       640:  52%|█████▏    | 13/25 [00:23<00:19,  1.62s/it]\n",
      "[STDOUT] 15/29       12G   0.06308   0.02478   0.01968    0.1075       219       640:  56%|█████▌    | 14/25 [00:23<00:19,  1.74s/it]\n",
      "[STDOUT] 15/29       12G   0.06302   0.02502   0.01965    0.1077       252       640:  56%|█████▌    | 14/25 [00:24<00:19,  1.74s/it]\n",
      "[STDOUT] 15/29       12G   0.06302   0.02502   0.01965    0.1077       252       640:  60%|██████    | 15/25 [00:24<00:17,  1.74s/it]\n",
      "[STDOUT] 15/29       12G    0.0628   0.02496   0.01989    0.1077       179       640:  60%|██████    | 15/25 [00:26<00:17,  1.74s/it]\n",
      "[STDOUT] 15/29       12G    0.0628   0.02496   0.01989    0.1077       179       640:  64%|██████▍   | 16/25 [00:26<00:15,  1.67s/it]\n",
      "[STDOUT] 15/29       12G   0.06355   0.02457   0.02018    0.1083       198       640:  64%|██████▍   | 16/25 [00:27<00:15,  1.67s/it]\n",
      "[STDOUT] 15/29       12G   0.06355   0.02457   0.02018    0.1083       198       640:  68%|██████▊   | 17/25 [00:27<00:13,  1.64s/it]\n",
      "[STDOUT] 15/29       12G   0.06341    0.0242    0.0201    0.1077       117       640:  68%|██████▊   | 17/25 [00:29<00:13,  1.64s/it]\n",
      "[STDOUT] 15/29       12G   0.06341    0.0242    0.0201    0.1077       117       640:  72%|███████▏  | 18/25 [00:29<00:11,  1.57s/it]\n",
      "[STDOUT] 15/29       12G   0.06326   0.02412   0.01987    0.1072       230       640:  72%|███████▏  | 18/25 [00:30<00:11,  1.57s/it]\n",
      "[STDOUT] 15/29       12G   0.06326   0.02412   0.01987    0.1072       230       640:  76%|███████▌  | 19/25 [00:30<00:09,  1.54s/it]\n",
      "[STDOUT] 15/29       12G   0.06324   0.02427   0.01987    0.1074       254       640:  76%|███████▌  | 19/25 [00:32<00:09,  1.54s/it]\n",
      "[STDOUT] 15/29       12G   0.06324   0.02427   0.01987    0.1074       254       640:  80%|████████  | 20/25 [00:32<00:08,  1.63s/it]\n",
      "[STDOUT] 15/29       12G   0.06312   0.02423   0.01978    0.1071       150       640:  80%|████████  | 20/25 [00:34<00:08,  1.63s/it][TRAINING]      15/29       12G   0.06312   0.02423   0.01978    0.1071       150       640\n",
      "[STDOUT] \n",
      "[STDOUT] 15/29       12G   0.06312   0.02423   0.01978    0.1071       150       640:  84%|████████▍ | 21/25 [00:34<00:06,  1.63s/it]\n",
      "[STDOUT] 15/29       12G   0.06334   0.02423   0.01968    0.1073       285       640:  84%|████████▍ | 21/25 [00:35<00:06,  1.63s/it]\n",
      "[STDOUT] 15/29       12G   0.06334   0.02423   0.01968    0.1073       285       640:  88%|████████▊ | 22/25 [00:35<00:04,  1.63s/it]\n",
      "[STDOUT] 15/29       12G   0.06323   0.02377   0.01982    0.1068       103       640:  88%|████████▊ | 22/25 [00:37<00:04,  1.63s/it]\n",
      "[STDOUT] 15/29       12G   0.06323   0.02377   0.01982    0.1068       103       640:  92%|█████████▏| 23/25 [00:37<00:03,  1.55s/it]\n",
      "[STDOUT] 15/29       12G   0.06304   0.02408   0.01973    0.1068       220       640:  92%|█████████▏| 23/25 [00:38<00:03,  1.55s/it]\n",
      "[STDOUT] 15/29       12G   0.06304   0.02408   0.01973    0.1068       220       640:  96%|█████████▌| 24/25 [00:38<00:01,  1.58s/it]\n",
      "[STDOUT] 15/29       12G   0.06272   0.02448   0.01941    0.1066        78       640:  96%|█████████▌| 24/25 [00:39<00:01,  1.58s/it]\n",
      "[STDOUT] 15/29       12G   0.06272   0.02448   0.01941    0.1066        78       640: 100%|██████████| 25/25 [00:39<00:00,  1.25s/it]\n",
      "[STDOUT] 15/29       12G   0.06272   0.02448   0.01941    0.1066        78       640: 100%|██████████| 25/25 [00:39<00:00,  1.57s/it]\n",
      "[STDOUT] \n",
      "[STDOUT] Class      Images      Labels           P           R      mAP@.5  mAP@.5:.95:   0%|          | 0/5 [00:00<?, ?it/s][DEBUG] Head 0 | iou.min=-0.0157, iou.max=0.8417, iou.mean=0.2079\n",
      "[STDOUT] [DEBUG] Head 0 | ps[..., 4].sigmoid().mean = 0.0103\n",
      "[STDOUT] [DEBUG] Head 1 | iou.min=-0.0052, iou.max=0.9030, iou.mean=0.4099\n",
      "[STDOUT] [DEBUG] Head 1 | ps[..., 4].sigmoid().mean = 0.2173\n",
      "[STDOUT] [DEBUG] Head 2 | iou.min=-0.0327, iou.max=0.7939, iou.mean=0.1229\n",
      "[STDOUT] [DEBUG] Head 2 | ps[..., 4].sigmoid().mean = 0.0013\n",
      "[STDOUT] \n",
      "[STDOUT] Class      Images      Labels           P           R      mAP@.5  mAP@.5:.95:  20%|██        | 1/5 [00:00<00:02,  1.52it/s][DEBUG] Head 0 | iou.min=-0.0389, iou.max=0.8018, iou.mean=0.1424\n",
      "[STDOUT] [DEBUG] Head 0 | ps[..., 4].sigmoid().mean = 0.0098\n",
      "[STDOUT] [DEBUG] Head 1 | iou.min=-0.1628, iou.max=0.9204, iou.mean=0.4292\n",
      "[STDOUT] [DEBUG] Head 1 | ps[..., 4].sigmoid().mean = 0.2500\n",
      "[STDOUT] [DEBUG] Head 2 | iou.min=-0.3392, iou.max=0.7860, iou.mean=0.1939\n",
      "[STDOUT] [DEBUG] Head 2 | ps[..., 4].sigmoid().mean = 0.0014\n",
      "[STDOUT] \n",
      "[STDOUT] Class      Images      Labels           P           R      mAP@.5  mAP@.5:.95:  40%|████      | 2/5 [00:01<00:02,  1.49it/s][DEBUG] Head 0 | iou.min=-0.0801, iou.max=0.8790, iou.mean=0.2596\n",
      "[STDOUT] [DEBUG] Head 0 | ps[..., 4].sigmoid().mean = 0.0096\n",
      "[STDOUT] [DEBUG] Head 1 | iou.min=-0.1886, iou.max=0.9075, iou.mean=0.2574\n",
      "[STDOUT] [DEBUG] Head 1 | ps[..., 4].sigmoid().mean = 0.2735\n",
      "[STDOUT] [DEBUG] Head 2 | iou.min=-0.4528, iou.max=0.7552, iou.mean=0.1110\n",
      "[STDOUT] [DEBUG] Head 2 | ps[..., 4].sigmoid().mean = 0.0014\n",
      "[STDOUT] \n",
      "[STDOUT] Class      Images      Labels           P           R      mAP@.5  mAP@.5:.95:  60%|██████    | 3/5 [00:02<00:01,  1.43it/s][DEBUG] Head 0 | iou.min=-0.0284, iou.max=0.9081, iou.mean=0.2911\n",
      "[STDOUT] [DEBUG] Head 0 | ps[..., 4].sigmoid().mean = 0.0133\n",
      "[STDOUT] [DEBUG] Head 1 | iou.min=-0.0090, iou.max=0.8925, iou.mean=0.3750\n",
      "[STDOUT] [DEBUG] Head 1 | ps[..., 4].sigmoid().mean = 0.1286\n",
      "[STDOUT] [DEBUG] Head 2 | iou.min=0.0075, iou.max=0.7903, iou.mean=0.1000\n",
      "[STDOUT] [DEBUG] Head 2 | ps[..., 4].sigmoid().mean = 0.0013\n",
      "[STDOUT] \n",
      "[STDOUT] Class      Images      Labels           P           R      mAP@.5  mAP@.5:.95:  80%|████████  | 4/5 [00:02<00:00,  1.39it/s][DEBUG] Head 0 | iou.min=0.0130, iou.max=0.6441, iou.mean=0.1577\n",
      "[STDOUT] [DEBUG] Head 0 | ps[..., 4].sigmoid().mean = 0.0127\n",
      "[STDOUT] [DEBUG] Head 1 | iou.min=0.1973, iou.max=0.7785, iou.mean=0.4754\n",
      "[STDOUT] [DEBUG] Head 1 | ps[..., 4].sigmoid().mean = 0.2168\n",
      "[STDOUT] [DEBUG] Head 2 | iou.min=0.0102, iou.max=0.0968, iou.mean=0.0337\n",
      "[STDOUT] [DEBUG] Head 2 | ps[..., 4].sigmoid().mean = 0.0018\n",
      "[STDOUT] \n",
      "[STDOUT] Class      Images      Labels           P           R      mAP@.5  mAP@.5:.95: 100%|██████████| 5/5 [00:02<00:00,  1.74it/s]\n",
      "[STDOUT] all         130         736       0.323      0.0183     0.00843     0.00171\n",
      "[STDOUT] OaohRepConv act_learn weight: 0.533\n",
      "[STDOUT] OaohRepConv act_learn weight: 0.533\n",
      "[STDOUT] OaohRepConv act_learn weight: 0.533\n",
      "[STDOUT] OaohRepConv act_learn weight: 0.533\n",
      "[STDOUT] OaohRepConv act_learn weight: 0.533\n",
      "[STDOUT] OaohRepConv act_learn weight: 0.533\n",
      "[STDOUT] OaohRepConv act_learn weight: 0.533\n",
      "[STDOUT] OaohRepConv act_learn weight: 0.533\n",
      "[STDOUT] OaohRepConv act_learn weight: 0.533\n",
      "[STDOUT] OaohRepConv act_learn weight: 0.533\n",
      "[STDOUT] OaohRepConv act_learn weight: 0.533\n",
      "[STDOUT] OaohRepConv act_learn weight: 0.533\n",
      "[STDOUT] OaohRepConv act_learn weight: 0.533\n",
      "[STDOUT] OaohRepConv act_learn weight: 0.533\n",
      "[STDOUT] OaohRepConv act_learn weight: 0.533\n",
      "[STDOUT] OaohRepConv act_learn weight: 0.533\n",
      "[STDOUT] OaohRepConv act_learn weight: 0.533\n",
      "[STDOUT] \n",
      "[STDOUT] Epoch   gpu_mem       box       obj       cls     total    labels  img_size\n",
      "[STDOUT] \n",
      "[STDOUT] 0%|          | 0/25 [00:00<?, ?it/s]\n",
      "[STDOUT] 16/29       12G   0.06266   0.02336   0.01933    0.1054       180       640:   0%|          | 0/25 [00:01<?, ?it/s][TRAINING]      16/29       12G   0.06266   0.02336   0.01933    0.1054       180       640\n",
      "[STDOUT] \n",
      "[STDOUT] 16/29       12G   0.06266   0.02336   0.01933    0.1054       180       640:   4%|▍         | 1/25 [00:01<00:43,  1.80s/it]\n",
      "[STDOUT] 16/29       12G   0.06052   0.02613    0.0212    0.1078       239       640:   4%|▍         | 1/25 [00:03<00:43,  1.80s/it]\n",
      "[STDOUT] 16/29       12G   0.06052   0.02613    0.0212    0.1078       239       640:   8%|▊         | 2/25 [00:03<00:40,  1.75s/it]\n",
      "[STDOUT] 16/29       12G   0.05962   0.02503   0.01885    0.1035       151       640:   8%|▊         | 2/25 [00:04<00:40,  1.75s/it]\n",
      "[STDOUT] 16/29       12G   0.05962   0.02503   0.01885    0.1035       151       640:  12%|█▏        | 3/25 [00:04<00:35,  1.62s/it]\n",
      "[STDOUT] 16/29       12G   0.05747   0.02468     0.018    0.1002       171       640:  12%|█▏        | 3/25 [00:06<00:35,  1.62s/it]\n",
      "[STDOUT] 16/29       12G   0.05747   0.02468     0.018    0.1002       171       640:  16%|█▌        | 4/25 [00:06<00:33,  1.59s/it]\n",
      "[STDOUT] 16/29       12G   0.05855   0.02407   0.01746    0.1001       196       640:  16%|█▌        | 4/25 [00:08<00:33,  1.59s/it]\n",
      "[STDOUT] 16/29       12G   0.05855   0.02407   0.01746    0.1001       196       640:  20%|██        | 5/25 [00:08<00:32,  1.63s/it]\n",
      "[STDOUT] 16/29       12G   0.05862   0.02445   0.01707    0.1001       181       640:  20%|██        | 5/25 [00:09<00:32,  1.63s/it]\n",
      "[STDOUT] 16/29       12G   0.05862   0.02445   0.01707    0.1001       181       640:  24%|██▍       | 6/25 [00:09<00:29,  1.54s/it]\n",
      "[STDOUT] 16/29       12G   0.05883   0.02362   0.01711   0.09955       150       640:  24%|██▍       | 6/25 [00:11<00:29,  1.54s/it]\n",
      "[STDOUT] 16/29       12G   0.05883   0.02362   0.01711   0.09955       150       640:  28%|██▊       | 7/25 [00:11<00:28,  1.57s/it]\n",
      "[STDOUT] 16/29       12G   0.05875    0.0236    0.0167   0.09905       203       640:  28%|██▊       | 7/25 [00:12<00:28,  1.57s/it]\n",
      "[STDOUT] 16/29       12G   0.05875    0.0236    0.0167   0.09905       203       640:  32%|███▏      | 8/25 [00:12<00:25,  1.52s/it]\n",
      "[STDOUT] 16/29       12G   0.05912   0.02407   0.01687    0.1001       220       640:  32%|███▏      | 8/25 [00:14<00:25,  1.52s/it]\n",
      "[STDOUT] 16/29       12G   0.05912   0.02407   0.01687    0.1001       220       640:  36%|███▌      | 9/25 [00:14<00:25,  1.59s/it]\n",
      "[STDOUT] 16/29       12G   0.05907   0.02408   0.01676   0.09991       182       640:  36%|███▌      | 9/25 [00:15<00:25,  1.59s/it]\n",
      "[STDOUT] 16/29       12G   0.05907   0.02408   0.01676   0.09991       182       640:  40%|████      | 10/25 [00:15<00:23,  1.55s/it]\n",
      "[STDOUT] 16/29       12G   0.05907   0.02508   0.01729    0.1014       266       640:  40%|████      | 10/25 [00:17<00:23,  1.55s/it][TRAINING]      16/29       12G   0.05907   0.02508   0.01729    0.1014       266       640\n",
      "[STDOUT] \n",
      "[STDOUT] 16/29       12G   0.05907   0.02508   0.01729    0.1014       266       640:  44%|████▍     | 11/25 [00:17<00:22,  1.62s/it]\n",
      "[STDOUT] 16/29       12G   0.05956   0.02508   0.01745    0.1021       387       640:  44%|████▍     | 11/25 [00:19<00:22,  1.62s/it]\n",
      "[STDOUT] 16/29       12G   0.05956   0.02508   0.01745    0.1021       387       640:  48%|████▊     | 12/25 [00:19<00:20,  1.62s/it]\n",
      "[STDOUT] 16/29       12G   0.05948    0.0259   0.01694    0.1023       334       640:  48%|████▊     | 12/25 [00:21<00:20,  1.62s/it]\n",
      "[STDOUT] 16/29       12G   0.05948    0.0259   0.01694    0.1023       334       640:  52%|█████▏    | 13/25 [00:21<00:20,  1.67s/it]\n",
      "[STDOUT] 16/29       12G   0.05935   0.02676    0.0168    0.1029       247       640:  52%|█████▏    | 13/25 [00:22<00:20,  1.67s/it]\n",
      "[STDOUT] 16/29       12G   0.05935   0.02676    0.0168    0.1029       247       640:  56%|█████▌    | 14/25 [00:22<00:18,  1.67s/it]\n",
      "[STDOUT] 16/29       12G   0.05953   0.02672   0.01695    0.1032       220       640:  56%|█████▌    | 14/25 [00:24<00:18,  1.67s/it]\n",
      "[STDOUT] 16/29       12G   0.05953   0.02672   0.01695    0.1032       220       640:  60%|██████    | 15/25 [00:24<00:17,  1.78s/it]\n",
      "[STDOUT] 16/29       12G   0.05951   0.02678   0.01696    0.1033       215       640:  60%|██████    | 15/25 [00:26<00:17,  1.78s/it]\n",
      "[STDOUT] 16/29       12G   0.05951   0.02678   0.01696    0.1033       215       640:  64%|██████▍   | 16/25 [00:26<00:15,  1.74s/it]\n",
      "[STDOUT] 16/29       12G    0.0597   0.02681   0.01738    0.1039       270       640:  64%|██████▍   | 16/25 [00:28<00:15,  1.74s/it]\n",
      "[STDOUT] 16/29       12G    0.0597   0.02681   0.01738    0.1039       270       640:  68%|██████▊   | 17/25 [00:28<00:14,  1.79s/it]\n",
      "[STDOUT] 16/29       12G   0.05989   0.02675   0.01722    0.1039       196       640:  68%|██████▊   | 17/25 [00:29<00:14,  1.79s/it]\n",
      "[STDOUT] 16/29       12G   0.05989   0.02675   0.01722    0.1039       196       640:  72%|███████▏  | 18/25 [00:29<00:11,  1.70s/it]\n",
      "[STDOUT] 16/29       12G   0.05985   0.02686   0.01729     0.104       211       640:  72%|███████▏  | 18/25 [00:31<00:11,  1.70s/it]\n",
      "[STDOUT] 16/29       12G   0.05985   0.02686   0.01729     0.104       211       640:  76%|███████▌  | 19/25 [00:31<00:10,  1.73s/it]\n",
      "[STDOUT] 16/29       12G   0.06025   0.02667   0.01737    0.1043       337       640:  76%|███████▌  | 19/25 [00:33<00:10,  1.73s/it]\n",
      "[STDOUT] 16/29       12G   0.06025   0.02667   0.01737    0.1043       337       640:  80%|████████  | 20/25 [00:33<00:08,  1.69s/it]\n",
      "[STDOUT] 16/29       12G    0.0604   0.02626   0.01728    0.1039       152       640:  80%|████████  | 20/25 [00:34<00:08,  1.69s/it][TRAINING]      16/29       12G    0.0604   0.02626   0.01728    0.1039       152       640\n",
      "[STDOUT] \n",
      "[STDOUT] 16/29       12G    0.0604   0.02626   0.01728    0.1039       152       640:  84%|████████▍ | 21/25 [00:34<00:06,  1.66s/it]\n",
      "[STDOUT] 16/29       12G   0.06032   0.02612   0.01734    0.1038       183       640:  84%|████████▍ | 21/25 [00:36<00:06,  1.66s/it]\n",
      "[STDOUT] 16/29       12G   0.06032   0.02612   0.01734    0.1038       183       640:  88%|████████▊ | 22/25 [00:36<00:04,  1.63s/it]\n",
      "[STDOUT] 16/29       12G   0.06039    0.0261   0.01732    0.1038       171       640:  88%|████████▊ | 22/25 [00:38<00:04,  1.63s/it]\n",
      "[STDOUT] 16/29       12G   0.06039    0.0261   0.01732    0.1038       171       640:  92%|█████████▏| 23/25 [00:38<00:03,  1.67s/it]\n",
      "[STDOUT] 16/29       12G   0.06055   0.02599   0.01728    0.1038       203       640:  92%|█████████▏| 23/25 [00:39<00:03,  1.67s/it]\n",
      "[STDOUT] 16/29       12G   0.06055   0.02599   0.01728    0.1038       203       640:  96%|█████████▌| 24/25 [00:39<00:01,  1.66s/it]\n",
      "[STDOUT] 16/29       12G   0.06031   0.02602   0.01709    0.1034        70       640:  96%|█████████▌| 24/25 [00:40<00:01,  1.66s/it]\n",
      "[STDOUT] 16/29       12G   0.06031   0.02602   0.01709    0.1034        70       640: 100%|██████████| 25/25 [00:40<00:00,  1.33s/it]\n",
      "[STDOUT] 16/29       12G   0.06031   0.02602   0.01709    0.1034        70       640: 100%|██████████| 25/25 [00:40<00:00,  1.61s/it]\n",
      "[STDOUT] \n",
      "[STDOUT] Class      Images      Labels           P           R      mAP@.5  mAP@.5:.95:   0%|          | 0/5 [00:00<?, ?it/s][DEBUG] Head 0 | iou.min=-0.0307, iou.max=0.7772, iou.mean=0.2125\n",
      "[STDOUT] [DEBUG] Head 0 | ps[..., 4].sigmoid().mean = 0.0154\n",
      "[STDOUT] [DEBUG] Head 1 | iou.min=0.0027, iou.max=0.9122, iou.mean=0.3745\n",
      "[STDOUT] [DEBUG] Head 1 | ps[..., 4].sigmoid().mean = 0.1881\n",
      "[STDOUT] [DEBUG] Head 2 | iou.min=0.0097, iou.max=0.8244, iou.mean=0.1390\n",
      "[STDOUT] [DEBUG] Head 2 | ps[..., 4].sigmoid().mean = 0.0009\n",
      "[STDOUT] \n",
      "[STDOUT] Class      Images      Labels           P           R      mAP@.5  mAP@.5:.95:  20%|██        | 1/5 [00:00<00:02,  1.58it/s][DEBUG] Head 0 | iou.min=-0.1023, iou.max=0.8528, iou.mean=0.1351\n",
      "[STDOUT] [DEBUG] Head 0 | ps[..., 4].sigmoid().mean = 0.0144\n",
      "[STDOUT] [DEBUG] Head 1 | iou.min=0.0206, iou.max=0.8384, iou.mean=0.3354\n",
      "[STDOUT] [DEBUG] Head 1 | ps[..., 4].sigmoid().mean = 0.2348\n",
      "[STDOUT] [DEBUG] Head 2 | iou.min=0.0012, iou.max=0.8145, iou.mean=0.2229\n",
      "[STDOUT] [DEBUG] Head 2 | ps[..., 4].sigmoid().mean = 0.0010\n",
      "[STDOUT] \n",
      "[STDOUT] Class      Images      Labels           P           R      mAP@.5  mAP@.5:.95:  40%|████      | 2/5 [00:01<00:01,  1.54it/s][DEBUG] Head 0 | iou.min=-0.0967, iou.max=0.8821, iou.mean=0.2352\n",
      "[STDOUT] [DEBUG] Head 0 | ps[..., 4].sigmoid().mean = 0.0119\n",
      "[STDOUT] [DEBUG] Head 1 | iou.min=-0.0002, iou.max=0.8452, iou.mean=0.3280\n",
      "[STDOUT] [DEBUG] Head 1 | ps[..., 4].sigmoid().mean = 0.3007\n",
      "[STDOUT] [DEBUG] Head 2 | iou.min=0.0050, iou.max=0.8241, iou.mean=0.1446\n",
      "[STDOUT] [DEBUG] Head 2 | ps[..., 4].sigmoid().mean = 0.0009\n",
      "[STDOUT] \n",
      "[STDOUT] Class      Images      Labels           P           R      mAP@.5  mAP@.5:.95:  60%|██████    | 3/5 [00:02<00:01,  1.46it/s][DEBUG] Head 0 | iou.min=-0.0415, iou.max=0.9146, iou.mean=0.2818\n",
      "[STDOUT] [DEBUG] Head 0 | ps[..., 4].sigmoid().mean = 0.0201\n",
      "[STDOUT] [DEBUG] Head 1 | iou.min=-0.0469, iou.max=0.8874, iou.mean=0.3614\n",
      "[STDOUT] [DEBUG] Head 1 | ps[..., 4].sigmoid().mean = 0.1354\n",
      "[STDOUT] [DEBUG] Head 2 | iou.min=0.0051, iou.max=0.6029, iou.mean=0.1021\n",
      "[STDOUT] [DEBUG] Head 2 | ps[..., 4].sigmoid().mean = 0.0009\n",
      "[STDOUT] \n",
      "[STDOUT] Class      Images      Labels           P           R      mAP@.5  mAP@.5:.95:  80%|████████  | 4/5 [00:02<00:00,  1.39it/s][DEBUG] Head 0 | iou.min=-0.0005, iou.max=0.5014, iou.mean=0.1790\n",
      "[STDOUT] [DEBUG] Head 0 | ps[..., 4].sigmoid().mean = 0.0136\n",
      "[STDOUT] [DEBUG] Head 1 | iou.min=0.1889, iou.max=0.8432, iou.mean=0.4261\n",
      "[STDOUT] [DEBUG] Head 1 | ps[..., 4].sigmoid().mean = 0.2737\n",
      "[STDOUT] [DEBUG] Head 2 | iou.min=0.0198, iou.max=0.0925, iou.mean=0.0364\n",
      "[STDOUT] [DEBUG] Head 2 | ps[..., 4].sigmoid().mean = 0.0008\n",
      "[STDOUT] \n",
      "[STDOUT] Class      Images      Labels           P           R      mAP@.5  mAP@.5:.95: 100%|██████████| 5/5 [00:02<00:00,  1.73it/s]\n",
      "[STDOUT] all         130         736       0.202      0.0136    0.000416    7.79e-05\n",
      "[STDOUT] OaohRepConv act_learn weight: 0.567\n",
      "[STDOUT] OaohRepConv act_learn weight: 0.567\n",
      "[STDOUT] OaohRepConv act_learn weight: 0.567\n",
      "[STDOUT] OaohRepConv act_learn weight: 0.567\n",
      "[STDOUT] OaohRepConv act_learn weight: 0.567\n",
      "[STDOUT] OaohRepConv act_learn weight: 0.567\n",
      "[STDOUT] OaohRepConv act_learn weight: 0.567\n",
      "[STDOUT] OaohRepConv act_learn weight: 0.567\n",
      "[STDOUT] OaohRepConv act_learn weight: 0.567\n",
      "[STDOUT] OaohRepConv act_learn weight: 0.567\n",
      "[STDOUT] OaohRepConv act_learn weight: 0.567\n",
      "[STDOUT] OaohRepConv act_learn weight: 0.567\n",
      "[STDOUT] OaohRepConv act_learn weight: 0.567\n",
      "[STDOUT] OaohRepConv act_learn weight: 0.567\n",
      "[STDOUT] OaohRepConv act_learn weight: 0.567\n",
      "[STDOUT] OaohRepConv act_learn weight: 0.567\n",
      "[STDOUT] OaohRepConv act_learn weight: 0.567\n",
      "[STDOUT] \n",
      "[STDOUT] Epoch   gpu_mem       box       obj       cls     total    labels  img_size\n",
      "[STDOUT] \n",
      "[STDOUT] 0%|          | 0/25 [00:00<?, ?it/s]\n",
      "[STDOUT] 17/29       12G   0.05986   0.02537   0.02006    0.1053       237       640:   0%|          | 0/25 [00:01<?, ?it/s][TRAINING]      17/29       12G   0.05986   0.02537   0.02006    0.1053       237       640\n",
      "[STDOUT] \n",
      "[STDOUT] 17/29       12G   0.05986   0.02537   0.02006    0.1053       237       640:   4%|▍         | 1/25 [00:01<00:46,  1.92s/it]\n",
      "[STDOUT] 17/29       12G   0.05861   0.03001   0.02191    0.1105       360       640:   4%|▍         | 1/25 [00:03<00:46,  1.92s/it]\n",
      "[STDOUT] 17/29       12G   0.05861   0.03001   0.02191    0.1105       360       640:   8%|▊         | 2/25 [00:03<00:39,  1.74s/it]\n",
      "[STDOUT] 17/29       12G   0.05711   0.02973   0.02143    0.1083       189       640:   8%|▊         | 2/25 [00:05<00:39,  1.74s/it]\n",
      "[STDOUT] 17/29       12G   0.05711   0.02973   0.02143    0.1083       189       640:  12%|█▏        | 3/25 [00:05<00:39,  1.79s/it]\n",
      "[STDOUT] 17/29       12G   0.05777   0.03154   0.02051    0.1098       288       640:  12%|█▏        | 3/25 [00:07<00:39,  1.79s/it]\n",
      "[STDOUT] 17/29       12G   0.05777   0.03154   0.02051    0.1098       288       640:  16%|█▌        | 4/25 [00:07<00:37,  1.77s/it]\n",
      "[STDOUT] 17/29       12G   0.05853   0.02987    0.0198    0.1082       234       640:  16%|█▌        | 4/25 [00:08<00:37,  1.77s/it]\n",
      "[STDOUT] 17/29       12G   0.05853   0.02987    0.0198    0.1082       234       640:  20%|██        | 5/25 [00:08<00:34,  1.71s/it]\n",
      "[STDOUT] 17/29       12G   0.05878   0.02871   0.01898    0.1065       212       640:  20%|██        | 5/25 [00:10<00:34,  1.71s/it]\n",
      "[STDOUT] 17/29       12G   0.05878   0.02871   0.01898    0.1065       212       640:  24%|██▍       | 6/25 [00:10<00:32,  1.70s/it]\n",
      "[STDOUT] 17/29       12G   0.05932     0.029   0.01924    0.1076       265       640:  24%|██▍       | 6/25 [00:12<00:32,  1.70s/it]\n",
      "[STDOUT] 17/29       12G   0.05932     0.029   0.01924    0.1076       265       640:  28%|██▊       | 7/25 [00:12<00:30,  1.72s/it]\n",
      "[STDOUT] 17/29       12G   0.05965   0.02852   0.01944    0.1076       165       640:  28%|██▊       | 7/25 [00:13<00:30,  1.72s/it]\n",
      "[STDOUT] 17/29       12G   0.05965   0.02852   0.01944    0.1076       165       640:  32%|███▏      | 8/25 [00:13<00:28,  1.70s/it]\n",
      "[STDOUT] 17/29       12G    0.0596   0.02776   0.01855    0.1059       247       640:  32%|███▏      | 8/25 [00:15<00:28,  1.70s/it]\n",
      "[STDOUT] 17/29       12G    0.0596   0.02776   0.01855    0.1059       247       640:  36%|███▌      | 9/25 [00:15<00:25,  1.61s/it]\n",
      "[STDOUT] 17/29       12G   0.05935   0.02711   0.01818    0.1046       110       640:  36%|███▌      | 9/25 [00:16<00:25,  1.61s/it]\n",
      "[STDOUT] 17/29       12G   0.05935   0.02711   0.01818    0.1046       110       640:  40%|████      | 10/25 [00:16<00:24,  1.60s/it]\n",
      "[STDOUT] 17/29       12G   0.05962   0.02723   0.01854    0.1054       283       640:  40%|████      | 10/25 [00:18<00:24,  1.60s/it][TRAINING]      17/29       12G   0.05962   0.02723   0.01854    0.1054       283       640\n",
      "[STDOUT] \n",
      "[STDOUT] 17/29       12G   0.05962   0.02723   0.01854    0.1054       283       640:  44%|████▍     | 11/25 [00:18<00:22,  1.63s/it]\n",
      "[STDOUT] 17/29       12G   0.05926   0.02765   0.01826    0.1052       259       640:  44%|████▍     | 11/25 [00:20<00:22,  1.63s/it]\n",
      "[STDOUT] 17/29       12G   0.05926   0.02765   0.01826    0.1052       259       640:  48%|████▊     | 12/25 [00:20<00:21,  1.69s/it]\n",
      "[STDOUT] 17/29       12G   0.05929   0.02789   0.01786     0.105       304       640:  48%|████▊     | 12/25 [00:22<00:21,  1.69s/it]\n",
      "[STDOUT] 17/29       12G   0.05929   0.02789   0.01786     0.105       304       640:  52%|█████▏    | 13/25 [00:22<00:21,  1.75s/it]\n",
      "[STDOUT] 17/29       12G   0.05957   0.02784   0.01814    0.1055       208       640:  52%|█████▏    | 13/25 [00:24<00:21,  1.75s/it]\n",
      "[STDOUT] 17/29       12G   0.05957   0.02784   0.01814    0.1055       208       640:  56%|█████▌    | 14/25 [00:24<00:19,  1.76s/it]\n",
      "[STDOUT] 17/29       12G   0.05957   0.02695   0.01822    0.1047       116       640:  56%|█████▌    | 14/25 [00:25<00:19,  1.76s/it]\n",
      "[STDOUT] 17/29       12G   0.05957   0.02695   0.01822    0.1047       116       640:  60%|██████    | 15/25 [00:25<00:17,  1.70s/it]\n",
      "[STDOUT] 17/29       12G   0.05959    0.0264   0.01817    0.1042       183       640:  60%|██████    | 15/25 [00:27<00:17,  1.70s/it]\n",
      "[STDOUT] 17/29       12G   0.05959    0.0264   0.01817    0.1042       183       640:  64%|██████▍   | 16/25 [00:27<00:15,  1.68s/it]\n",
      "[STDOUT] 17/29       12G   0.05997   0.02675   0.01827     0.105       270       640:  64%|██████▍   | 16/25 [00:29<00:15,  1.68s/it]\n",
      "[STDOUT] 17/29       12G   0.05997   0.02675   0.01827     0.105       270       640:  68%|██████▊   | 17/25 [00:29<00:14,  1.78s/it]\n",
      "[STDOUT] 17/29       12G   0.06024   0.02656   0.01829    0.1051       260       640:  68%|██████▊   | 17/25 [00:30<00:14,  1.78s/it]\n",
      "[STDOUT] 17/29       12G   0.06024   0.02656   0.01829    0.1051       260       640:  72%|███████▏  | 18/25 [00:30<00:12,  1.75s/it]\n",
      "[STDOUT] 17/29       12G   0.06024   0.02621   0.01821    0.1047       138       640:  72%|███████▏  | 18/25 [00:32<00:12,  1.75s/it]\n",
      "[STDOUT] 17/29       12G   0.06024   0.02621   0.01821    0.1047       138       640:  76%|███████▌  | 19/25 [00:32<00:10,  1.73s/it]\n",
      "[STDOUT] 17/29       12G   0.06018   0.02647   0.01805    0.1047       254       640:  76%|███████▌  | 19/25 [00:34<00:10,  1.73s/it]\n",
      "[STDOUT] 17/29       12G   0.06018   0.02647   0.01805    0.1047       254       640:  80%|████████  | 20/25 [00:34<00:08,  1.76s/it]\n",
      "[STDOUT] 17/29       12G   0.06024   0.02653   0.01806    0.1048       201       640:  80%|████████  | 20/25 [00:36<00:08,  1.76s/it][TRAINING]      17/29       12G   0.06024   0.02653   0.01806    0.1048       201       640\n",
      "[STDOUT] \n",
      "[STDOUT] 17/29       12G   0.06024   0.02653   0.01806    0.1048       201       640:  84%|████████▍ | 21/25 [00:36<00:07,  1.78s/it]\n",
      "[STDOUT] 17/29       12G   0.06021   0.02678   0.01813    0.1051       301       640:  84%|████████▍ | 21/25 [00:37<00:07,  1.78s/it]\n",
      "[STDOUT] 17/29       12G   0.06021   0.02678   0.01813    0.1051       301       640:  88%|████████▊ | 22/25 [00:37<00:05,  1.72s/it]\n",
      "[STDOUT] 17/29       12G   0.06016   0.02682    0.0181    0.1051       232       640:  88%|████████▊ | 22/25 [00:39<00:05,  1.72s/it]\n",
      "[STDOUT] 17/29       12G   0.06016   0.02682    0.0181    0.1051       232       640:  92%|█████████▏| 23/25 [00:39<00:03,  1.67s/it]\n",
      "[STDOUT] 17/29       12G   0.06015   0.02657   0.01791    0.1046       192       640:  92%|█████████▏| 23/25 [00:40<00:03,  1.67s/it]\n",
      "[STDOUT] 17/29       12G   0.06015   0.02657   0.01791    0.1046       192       640:  96%|█████████▌| 24/25 [00:40<00:01,  1.62s/it]\n",
      "[STDOUT] 17/29       12G   0.06018   0.02637   0.01796    0.1045        72       640:  96%|█████████▌| 24/25 [00:41<00:01,  1.62s/it]\n",
      "[STDOUT] 17/29       12G   0.06018   0.02637   0.01796    0.1045        72       640: 100%|██████████| 25/25 [00:41<00:00,  1.34s/it]\n",
      "[STDOUT] 17/29       12G   0.06018   0.02637   0.01796    0.1045        72       640: 100%|██████████| 25/25 [00:41<00:00,  1.66s/it]\n",
      "[STDOUT] \n",
      "[STDOUT] Class      Images      Labels           P           R      mAP@.5  mAP@.5:.95:   0%|          | 0/5 [00:00<?, ?it/s][DEBUG] Head 0 | iou.min=0.0055, iou.max=0.8200, iou.mean=0.2084\n",
      "[STDOUT] [DEBUG] Head 0 | ps[..., 4].sigmoid().mean = 0.0090\n",
      "[STDOUT] [DEBUG] Head 1 | iou.min=0.0017, iou.max=0.9181, iou.mean=0.4563\n",
      "[STDOUT] [DEBUG] Head 1 | ps[..., 4].sigmoid().mean = 0.1926\n",
      "[STDOUT] [DEBUG] Head 2 | iou.min=0.0211, iou.max=0.8138, iou.mean=0.2445\n",
      "[STDOUT] [DEBUG] Head 2 | ps[..., 4].sigmoid().mean = 0.0018\n",
      "[STDOUT] \n",
      "[STDOUT] Class      Images      Labels           P           R      mAP@.5  mAP@.5:.95:  20%|██        | 1/5 [00:00<00:02,  1.53it/s][DEBUG] Head 0 | iou.min=-0.0165, iou.max=0.7865, iou.mean=0.1390\n",
      "[STDOUT] [DEBUG] Head 0 | ps[..., 4].sigmoid().mean = 0.0129\n",
      "[STDOUT] [DEBUG] Head 1 | iou.min=0.0246, iou.max=0.8994, iou.mean=0.4483\n",
      "[STDOUT] [DEBUG] Head 1 | ps[..., 4].sigmoid().mean = 0.1833\n",
      "[STDOUT] [DEBUG] Head 2 | iou.min=0.0291, iou.max=0.9227, iou.mean=0.3170\n",
      "[STDOUT] [DEBUG] Head 2 | ps[..., 4].sigmoid().mean = 0.0019\n",
      "[STDOUT] \n",
      "[STDOUT] Class      Images      Labels           P           R      mAP@.5  mAP@.5:.95:  40%|████      | 2/5 [00:01<00:02,  1.49it/s][DEBUG] Head 0 | iou.min=-0.1104, iou.max=0.8739, iou.mean=0.2916\n",
      "[STDOUT] [DEBUG] Head 0 | ps[..., 4].sigmoid().mean = 0.0141\n",
      "[STDOUT] [DEBUG] Head 1 | iou.min=-0.1289, iou.max=0.9361, iou.mean=0.3658\n",
      "[STDOUT] [DEBUG] Head 1 | ps[..., 4].sigmoid().mean = 0.2630\n",
      "[STDOUT] [DEBUG] Head 2 | iou.min=0.0111, iou.max=0.8306, iou.mean=0.2276\n",
      "[STDOUT] [DEBUG] Head 2 | ps[..., 4].sigmoid().mean = 0.0020\n",
      "[STDOUT] \n",
      "[STDOUT] Class      Images      Labels           P           R      mAP@.5  mAP@.5:.95:  60%|██████    | 3/5 [00:02<00:01,  1.43it/s][DEBUG] Head 0 | iou.min=-0.0028, iou.max=0.8932, iou.mean=0.2373\n",
      "[STDOUT] [DEBUG] Head 0 | ps[..., 4].sigmoid().mean = 0.0098\n",
      "[STDOUT] [DEBUG] Head 1 | iou.min=0.0152, iou.max=0.9582, iou.mean=0.4424\n",
      "[STDOUT] [DEBUG] Head 1 | ps[..., 4].sigmoid().mean = 0.0938\n",
      "[STDOUT] [DEBUG] Head 2 | iou.min=0.0074, iou.max=0.7555, iou.mean=0.1721\n",
      "[STDOUT] [DEBUG] Head 2 | ps[..., 4].sigmoid().mean = 0.0018\n",
      "[STDOUT] \n",
      "[STDOUT] Class      Images      Labels           P           R      mAP@.5  mAP@.5:.95:  80%|████████  | 4/5 [00:02<00:00,  1.40it/s][DEBUG] Head 0 | iou.min=0.0223, iou.max=0.3552, iou.mean=0.1418\n",
      "[STDOUT] [DEBUG] Head 0 | ps[..., 4].sigmoid().mean = 0.0179\n",
      "[STDOUT] [DEBUG] Head 1 | iou.min=0.2896, iou.max=0.7748, iou.mean=0.5319\n",
      "[STDOUT] [DEBUG] Head 1 | ps[..., 4].sigmoid().mean = 0.2402\n",
      "[STDOUT] [DEBUG] Head 2 | iou.min=0.0438, iou.max=0.3239, iou.mean=0.1108\n",
      "[STDOUT] [DEBUG] Head 2 | ps[..., 4].sigmoid().mean = 0.0017\n",
      "[STDOUT] \n",
      "[STDOUT] Class      Images      Labels           P           R      mAP@.5  mAP@.5:.95: 100%|██████████| 5/5 [00:02<00:00,  1.74it/s]\n",
      "[STDOUT] all         130         736       0.097      0.0875      0.0451      0.0124\n",
      "[STDOUT] OaohRepConv act_learn weight: 0.600\n",
      "[STDOUT] OaohRepConv act_learn weight: 0.600\n",
      "[STDOUT] OaohRepConv act_learn weight: 0.600\n",
      "[STDOUT] OaohRepConv act_learn weight: 0.600\n",
      "[STDOUT] OaohRepConv act_learn weight: 0.600\n",
      "[STDOUT] OaohRepConv act_learn weight: 0.600\n",
      "[STDOUT] OaohRepConv act_learn weight: 0.600\n",
      "[STDOUT] OaohRepConv act_learn weight: 0.600\n",
      "[STDOUT] OaohRepConv act_learn weight: 0.600\n",
      "[STDOUT] OaohRepConv act_learn weight: 0.600\n",
      "[STDOUT] OaohRepConv act_learn weight: 0.600\n",
      "[STDOUT] OaohRepConv act_learn weight: 0.600\n",
      "[STDOUT] OaohRepConv act_learn weight: 0.600\n",
      "[STDOUT] OaohRepConv act_learn weight: 0.600\n",
      "[STDOUT] OaohRepConv act_learn weight: 0.600\n",
      "[STDOUT] OaohRepConv act_learn weight: 0.600\n",
      "[STDOUT] OaohRepConv act_learn weight: 0.600\n",
      "[STDOUT] \n",
      "[STDOUT] Epoch   gpu_mem       box       obj       cls     total    labels  img_size\n",
      "[STDOUT] \n",
      "[STDOUT] 0%|          | 0/25 [00:00<?, ?it/s]\n",
      "[STDOUT] 18/29       12G   0.05922   0.02696    0.0184    0.1046       195       640:   0%|          | 0/25 [00:02<?, ?it/s][TRAINING]      18/29       12G   0.05922   0.02696    0.0184    0.1046       195       640\n",
      "[STDOUT] \n",
      "[STDOUT] 18/29       12G   0.05922   0.02696    0.0184    0.1046       195       640:   4%|▍         | 1/25 [00:02<00:53,  2.22s/it]\n",
      "[STDOUT] 18/29       12G   0.05895   0.02775   0.01985    0.1066       227       640:   4%|▍         | 1/25 [00:04<00:53,  2.22s/it]\n",
      "[STDOUT] 18/29       12G   0.05895   0.02775   0.01985    0.1066       227       640:   8%|▊         | 2/25 [00:04<00:47,  2.04s/it]\n",
      "[STDOUT] 18/29       12G   0.06028   0.02675   0.01978    0.1068       216       640:   8%|▊         | 2/25 [00:05<00:47,  2.04s/it]\n",
      "[STDOUT] 18/29       12G   0.06028   0.02675   0.01978    0.1068       216       640:  12%|█▏        | 3/25 [00:05<00:41,  1.90s/it]\n",
      "[STDOUT] 18/29       12G   0.06144   0.02507   0.01872    0.1052       197       640:  12%|█▏        | 3/25 [00:07<00:41,  1.90s/it]\n",
      "[STDOUT] 18/29       12G   0.06144   0.02507   0.01872    0.1052       197       640:  16%|█▌        | 4/25 [00:07<00:36,  1.75s/it]\n",
      "[STDOUT] 18/29       12G   0.05993   0.02616   0.01737    0.1035       223       640:  16%|█▌        | 4/25 [00:09<00:36,  1.75s/it]\n",
      "[STDOUT] 18/29       12G   0.05993   0.02616   0.01737    0.1035       223       640:  20%|██        | 5/25 [00:09<00:34,  1.71s/it]\n",
      "[STDOUT] 18/29       12G   0.05926   0.02511     0.017    0.1014       123       640:  20%|██        | 5/25 [00:10<00:34,  1.71s/it]\n",
      "[STDOUT] 18/29       12G   0.05926   0.02511     0.017    0.1014       123       640:  24%|██▍       | 6/25 [00:10<00:30,  1.59s/it]\n",
      "[STDOUT] 18/29       12G   0.06039   0.02457   0.01753    0.1025       195       640:  24%|██▍       | 6/25 [00:12<00:30,  1.59s/it]\n",
      "[STDOUT] 18/29       12G   0.06039   0.02457   0.01753    0.1025       195       640:  28%|██▊       | 7/25 [00:12<00:29,  1.62s/it]\n",
      "[STDOUT] 18/29       12G   0.06036   0.02523    0.0171    0.1027       230       640:  28%|██▊       | 7/25 [00:13<00:29,  1.62s/it]\n",
      "[STDOUT] 18/29       12G   0.06036   0.02523    0.0171    0.1027       230       640:  32%|███▏      | 8/25 [00:13<00:27,  1.63s/it]\n",
      "[STDOUT] 18/29       12G   0.06063   0.02528   0.01696    0.1029       202       640:  32%|███▏      | 8/25 [00:15<00:27,  1.63s/it]\n",
      "[STDOUT] 18/29       12G   0.06063   0.02528   0.01696    0.1029       202       640:  36%|███▌      | 9/25 [00:15<00:26,  1.68s/it]\n",
      "[STDOUT] 18/29       12G   0.06087   0.02536   0.01711    0.1033       325       640:  36%|███▌      | 9/25 [00:17<00:26,  1.68s/it]\n",
      "[STDOUT] 18/29       12G   0.06087   0.02536   0.01711    0.1033       325       640:  40%|████      | 10/25 [00:17<00:25,  1.73s/it]\n",
      "[STDOUT] 18/29       12G   0.06061   0.02544   0.01708    0.1031       195       640:  40%|████      | 10/25 [00:19<00:25,  1.73s/it][TRAINING]      18/29       12G   0.06061   0.02544   0.01708    0.1031       195       640\n",
      "[STDOUT] \n",
      "[STDOUT] 18/29       12G   0.06061   0.02544   0.01708    0.1031       195       640:  44%|████▍     | 11/25 [00:19<00:24,  1.74s/it]\n",
      "[STDOUT] 18/29       12G   0.05958    0.0257    0.0165    0.1018       213       640:  44%|████▍     | 11/25 [00:20<00:24,  1.74s/it]\n",
      "[STDOUT] 18/29       12G   0.05958    0.0257    0.0165    0.1018       213       640:  48%|████▊     | 12/25 [00:20<00:21,  1.62s/it]\n",
      "[STDOUT] 18/29       12G   0.05947   0.02653   0.01636    0.1024       296       640:  48%|████▊     | 12/25 [00:22<00:21,  1.62s/it]\n",
      "[STDOUT] 18/29       12G   0.05947   0.02653   0.01636    0.1024       296       640:  52%|█████▏    | 13/25 [00:22<00:20,  1.69s/it]\n",
      "[STDOUT] 18/29       12G   0.05944   0.02591   0.01635    0.1017       119       640:  52%|█████▏    | 13/25 [00:24<00:20,  1.69s/it]\n",
      "[STDOUT] 18/29       12G   0.05944   0.02591   0.01635    0.1017       119       640:  56%|█████▌    | 14/25 [00:24<00:18,  1.72s/it]\n",
      "[STDOUT] 18/29       12G    0.0593   0.02575   0.01648    0.1015       188       640:  56%|█████▌    | 14/25 [00:25<00:18,  1.72s/it]\n",
      "[STDOUT] 18/29       12G    0.0593   0.02575   0.01648    0.1015       188       640:  60%|██████    | 15/25 [00:25<00:16,  1.68s/it]\n",
      "[STDOUT] 18/29       12G   0.05931   0.02546   0.01666    0.1014       182       640:  60%|██████    | 15/25 [00:27<00:16,  1.68s/it]\n",
      "[STDOUT] 18/29       12G   0.05931   0.02546   0.01666    0.1014       182       640:  64%|██████▍   | 16/25 [00:27<00:15,  1.69s/it]\n",
      "[STDOUT] 18/29       12G    0.0595   0.02525   0.01666    0.1014       242       640:  64%|██████▍   | 16/25 [00:29<00:15,  1.69s/it]\n",
      "[STDOUT] 18/29       12G    0.0595   0.02525   0.01666    0.1014       242       640:  68%|██████▊   | 17/25 [00:29<00:13,  1.71s/it]\n",
      "[STDOUT] 18/29       12G   0.05945   0.02552   0.01641    0.1014       198       640:  68%|██████▊   | 17/25 [00:30<00:13,  1.71s/it]\n",
      "[STDOUT] 18/29       12G   0.05945   0.02552   0.01641    0.1014       198       640:  72%|███████▏  | 18/25 [00:30<00:11,  1.67s/it]\n",
      "[STDOUT] 18/29       12G   0.05941   0.02538   0.01642    0.1012       159       640:  72%|███████▏  | 18/25 [00:32<00:11,  1.67s/it]\n",
      "[STDOUT] 18/29       12G   0.05941   0.02538   0.01642    0.1012       159       640:  76%|███████▌  | 19/25 [00:32<00:09,  1.63s/it]\n",
      "[STDOUT] 18/29       12G   0.05953   0.02554   0.01629    0.1014       268       640:  76%|███████▌  | 19/25 [00:34<00:09,  1.63s/it]\n",
      "[STDOUT] 18/29       12G   0.05953   0.02554   0.01629    0.1014       268       640:  80%|████████  | 20/25 [00:34<00:08,  1.69s/it]\n",
      "[STDOUT] 18/29       12G    0.0596   0.02578   0.01627    0.1016       214       640:  80%|████████  | 20/25 [00:35<00:08,  1.69s/it][TRAINING]      18/29       12G    0.0596   0.02578   0.01627    0.1016       214       640\n",
      "[STDOUT] \n",
      "[STDOUT] 18/29       12G    0.0596   0.02578   0.01627    0.1016       214       640:  84%|████████▍ | 21/25 [00:35<00:06,  1.74s/it]\n",
      "[STDOUT] 18/29       12G   0.05974   0.02559   0.01611    0.1014       243       640:  84%|████████▍ | 21/25 [00:37<00:06,  1.74s/it]\n",
      "[STDOUT] 18/29       12G   0.05974   0.02559   0.01611    0.1014       243       640:  88%|████████▊ | 22/25 [00:37<00:04,  1.66s/it]\n",
      "[STDOUT] 18/29       12G   0.05975   0.02539   0.01599    0.1011       176       640:  88%|████████▊ | 22/25 [00:39<00:04,  1.66s/it]\n",
      "[STDOUT] 18/29       12G   0.05975   0.02539   0.01599    0.1011       176       640:  92%|█████████▏| 23/25 [00:39<00:03,  1.64s/it]\n",
      "[STDOUT] 18/29       12G   0.05971   0.02539   0.01622    0.1013       198       640:  92%|█████████▏| 23/25 [00:40<00:03,  1.64s/it]\n",
      "[STDOUT] 18/29       12G   0.05971   0.02539   0.01622    0.1013       198       640:  96%|█████████▌| 24/25 [00:40<00:01,  1.60s/it]\n",
      "[STDOUT] 18/29       12G   0.05965   0.02528   0.01607     0.101        77       640:  96%|█████████▌| 24/25 [00:41<00:01,  1.60s/it]\n",
      "[STDOUT] 18/29       12G   0.05965   0.02528   0.01607     0.101        77       640: 100%|██████████| 25/25 [00:41<00:00,  1.29s/it]\n",
      "[STDOUT] 18/29       12G   0.05965   0.02528   0.01607     0.101        77       640: 100%|██████████| 25/25 [00:41<00:00,  1.64s/it]\n",
      "[STDOUT] \n",
      "[STDOUT] Class      Images      Labels           P           R      mAP@.5  mAP@.5:.95:   0%|          | 0/5 [00:00<?, ?it/s][DEBUG] Head 0 | iou.min=0.0038, iou.max=0.8280, iou.mean=0.2393\n",
      "[STDOUT] [DEBUG] Head 0 | ps[..., 4].sigmoid().mean = 0.0080\n",
      "[STDOUT] [DEBUG] Head 1 | iou.min=-0.1505, iou.max=0.9431, iou.mean=0.3801\n",
      "[STDOUT] [DEBUG] Head 1 | ps[..., 4].sigmoid().mean = 0.2185\n",
      "[STDOUT] [DEBUG] Head 2 | iou.min=0.0119, iou.max=0.8020, iou.mean=0.1910\n",
      "[STDOUT] [DEBUG] Head 2 | ps[..., 4].sigmoid().mean = 0.0023\n",
      "[STDOUT] \n",
      "[STDOUT] Class      Images      Labels           P           R      mAP@.5  mAP@.5:.95:  20%|██        | 1/5 [00:00<00:02,  1.53it/s][DEBUG] Head 0 | iou.min=0.0032, iou.max=0.8361, iou.mean=0.1741\n",
      "[STDOUT] [DEBUG] Head 0 | ps[..., 4].sigmoid().mean = 0.0111\n",
      "[STDOUT] [DEBUG] Head 1 | iou.min=-0.1735, iou.max=0.9022, iou.mean=0.3566\n",
      "[STDOUT] [DEBUG] Head 1 | ps[..., 4].sigmoid().mean = 0.2861\n",
      "[STDOUT] [DEBUG] Head 2 | iou.min=0.0001, iou.max=0.7996, iou.mean=0.2624\n",
      "[STDOUT] [DEBUG] Head 2 | ps[..., 4].sigmoid().mean = 0.0026\n",
      "[STDOUT] \n",
      "[STDOUT] Class      Images      Labels           P           R      mAP@.5  mAP@.5:.95:  40%|████      | 2/5 [00:01<00:02,  1.47it/s][DEBUG] Head 0 | iou.min=-0.0056, iou.max=0.9052, iou.mean=0.3121\n",
      "[STDOUT] [DEBUG] Head 0 | ps[..., 4].sigmoid().mean = 0.0108\n",
      "[STDOUT] [DEBUG] Head 1 | iou.min=-0.2137, iou.max=0.9610, iou.mean=0.3222\n",
      "[STDOUT] [DEBUG] Head 1 | ps[..., 4].sigmoid().mean = 0.2775\n",
      "[STDOUT] [DEBUG] Head 2 | iou.min=0.0128, iou.max=0.7561, iou.mean=0.1666\n",
      "[STDOUT] [DEBUG] Head 2 | ps[..., 4].sigmoid().mean = 0.0030\n",
      "[STDOUT] \n",
      "[STDOUT] Class      Images      Labels           P           R      mAP@.5  mAP@.5:.95:  60%|██████    | 3/5 [00:02<00:01,  1.40it/s][DEBUG] Head 0 | iou.min=0.0081, iou.max=0.9032, iou.mean=0.3423\n",
      "[STDOUT] [DEBUG] Head 0 | ps[..., 4].sigmoid().mean = 0.0156\n",
      "[STDOUT] [DEBUG] Head 1 | iou.min=-0.1781, iou.max=0.8978, iou.mean=0.3818\n",
      "[STDOUT] [DEBUG] Head 1 | ps[..., 4].sigmoid().mean = 0.0909\n",
      "[STDOUT] [DEBUG] Head 2 | iou.min=0.0093, iou.max=0.9023, iou.mean=0.1676\n",
      "[STDOUT] [DEBUG] Head 2 | ps[..., 4].sigmoid().mean = 0.0020\n",
      "[STDOUT] \n",
      "[STDOUT] Class      Images      Labels           P           R      mAP@.5  mAP@.5:.95:  80%|████████  | 4/5 [00:02<00:00,  1.38it/s][DEBUG] Head 0 | iou.min=0.0289, iou.max=0.5460, iou.mean=0.2109\n",
      "[STDOUT] [DEBUG] Head 0 | ps[..., 4].sigmoid().mean = 0.0122\n",
      "[STDOUT] [DEBUG] Head 1 | iou.min=0.1570, iou.max=0.9355, iou.mean=0.5161\n",
      "[STDOUT] [DEBUG] Head 1 | ps[..., 4].sigmoid().mean = 0.0858\n",
      "[STDOUT] [DEBUG] Head 2 | iou.min=0.0146, iou.max=0.3557, iou.mean=0.0808\n",
      "[STDOUT] [DEBUG] Head 2 | ps[..., 4].sigmoid().mean = 0.0019\n",
      "[STDOUT] \n",
      "[STDOUT] Class      Images      Labels           P           R      mAP@.5  mAP@.5:.95: 100%|██████████| 5/5 [00:02<00:00,  1.72it/s]\n",
      "[STDOUT] all         130         736       0.249      0.0751      0.0458      0.0101\n",
      "[STDOUT] OaohRepConv act_learn weight: 0.633\n",
      "[STDOUT] OaohRepConv act_learn weight: 0.633\n",
      "[STDOUT] OaohRepConv act_learn weight: 0.633\n",
      "[STDOUT] OaohRepConv act_learn weight: 0.633\n",
      "[STDOUT] OaohRepConv act_learn weight: 0.633\n",
      "[STDOUT] OaohRepConv act_learn weight: 0.633\n",
      "[STDOUT] OaohRepConv act_learn weight: 0.633\n",
      "[STDOUT] OaohRepConv act_learn weight: 0.633\n",
      "[STDOUT] OaohRepConv act_learn weight: 0.633\n",
      "[STDOUT] OaohRepConv act_learn weight: 0.633\n",
      "[STDOUT] OaohRepConv act_learn weight: 0.633\n",
      "[STDOUT] OaohRepConv act_learn weight: 0.633\n",
      "[STDOUT] OaohRepConv act_learn weight: 0.633\n",
      "[STDOUT] OaohRepConv act_learn weight: 0.633\n",
      "[STDOUT] OaohRepConv act_learn weight: 0.633\n",
      "[STDOUT] OaohRepConv act_learn weight: 0.633\n",
      "[STDOUT] OaohRepConv act_learn weight: 0.633\n",
      "[STDOUT] \n",
      "[STDOUT] Epoch   gpu_mem       box       obj       cls     total    labels  img_size\n",
      "[STDOUT] \n",
      "[STDOUT] 0%|          | 0/25 [00:00<?, ?it/s]\n",
      "[STDOUT] 19/29       12G   0.06167   0.03584   0.02031    0.1178       323       640:   0%|          | 0/25 [00:02<?, ?it/s][TRAINING]      19/29       12G   0.06167   0.03584   0.02031    0.1178       323       640\n",
      "[STDOUT] \n",
      "[STDOUT] 19/29       12G   0.06167   0.03584   0.02031    0.1178       323       640:   4%|▍         | 1/25 [00:02<00:49,  2.07s/it]\n",
      "[STDOUT] 19/29       12G   0.06156   0.03913   0.01565    0.1163       489       640:   4%|▍         | 1/25 [00:03<00:49,  2.07s/it]\n",
      "[STDOUT] 19/29       12G   0.06156   0.03913   0.01565    0.1163       489       640:   8%|▊         | 2/25 [00:03<00:43,  1.88s/it]\n",
      "[STDOUT] 19/29       12G    0.0609   0.03336   0.01563    0.1099       222       640:   8%|▊         | 2/25 [00:05<00:43,  1.88s/it]\n",
      "[STDOUT] 19/29       12G    0.0609   0.03336   0.01563    0.1099       222       640:  12%|█▏        | 3/25 [00:05<00:38,  1.74s/it]\n",
      "[STDOUT] 19/29       12G   0.06071   0.03018    0.0163    0.1072       205       640:  12%|█▏        | 3/25 [00:06<00:38,  1.74s/it]\n",
      "[STDOUT] 19/29       12G   0.06071   0.03018    0.0163    0.1072       205       640:  16%|█▌        | 4/25 [00:06<00:35,  1.69s/it]\n",
      "[STDOUT] 19/29       12G   0.06138   0.02948   0.01645    0.1073       208       640:  16%|█▌        | 4/25 [00:08<00:35,  1.69s/it]\n",
      "[STDOUT] 19/29       12G   0.06138   0.02948   0.01645    0.1073       208       640:  20%|██        | 5/25 [00:08<00:34,  1.72s/it]\n",
      "[STDOUT] 19/29       12G   0.06205    0.0287   0.01787    0.1086       289       640:  20%|██        | 5/25 [00:10<00:34,  1.72s/it]\n",
      "[STDOUT] 19/29       12G   0.06205    0.0287   0.01787    0.1086       289       640:  24%|██▍       | 6/25 [00:10<00:33,  1.77s/it]\n",
      "[STDOUT] 19/29       12G   0.06199   0.02813   0.01787     0.108       197       640:  24%|██▍       | 6/25 [00:12<00:33,  1.77s/it]\n",
      "[STDOUT] 19/29       12G   0.06199   0.02813   0.01787     0.108       197       640:  28%|██▊       | 7/25 [00:12<00:31,  1.72s/it]\n",
      "[STDOUT] 19/29       12G   0.06171   0.02699    0.0182    0.1069       101       640:  28%|██▊       | 7/25 [00:13<00:31,  1.72s/it]\n",
      "[STDOUT] 19/29       12G   0.06171   0.02699    0.0182    0.1069       101       640:  32%|███▏      | 8/25 [00:13<00:28,  1.70s/it]\n",
      "[STDOUT] 19/29       12G   0.06147   0.02642    0.0178    0.1057       182       640:  32%|███▏      | 8/25 [00:15<00:28,  1.70s/it]\n",
      "[STDOUT] 19/29       12G   0.06147   0.02642    0.0178    0.1057       182       640:  36%|███▌      | 9/25 [00:15<00:25,  1.58s/it]\n",
      "[STDOUT] 19/29       12G   0.06104   0.02625   0.01717    0.1045       224       640:  36%|███▌      | 9/25 [00:16<00:25,  1.58s/it]\n",
      "[STDOUT] 19/29       12G   0.06104   0.02625   0.01717    0.1045       224       640:  40%|████      | 10/25 [00:16<00:22,  1.53s/it]\n",
      "[STDOUT] 19/29       12G   0.06076   0.02616   0.01718    0.1041       178       640:  40%|████      | 10/25 [00:18<00:22,  1.53s/it][TRAINING]      19/29       12G   0.06076   0.02616   0.01718    0.1041       178       640\n",
      "[STDOUT] \n",
      "[STDOUT] 19/29       12G   0.06076   0.02616   0.01718    0.1041       178       640:  44%|████▍     | 11/25 [00:18<00:22,  1.59s/it]\n",
      "[STDOUT] 19/29       12G   0.06018   0.02641   0.01673    0.1033       315       640:  44%|████▍     | 11/25 [00:20<00:22,  1.59s/it]\n",
      "[STDOUT] 19/29       12G   0.06018   0.02641   0.01673    0.1033       315       640:  48%|████▊     | 12/25 [00:20<00:20,  1.61s/it]\n",
      "[STDOUT] 19/29       12G   0.05986   0.02641   0.01659    0.1029       217       640:  48%|████▊     | 12/25 [00:21<00:20,  1.61s/it]\n",
      "[STDOUT] 19/29       12G   0.05986   0.02641   0.01659    0.1029       217       640:  52%|█████▏    | 13/25 [00:21<00:19,  1.60s/it]\n",
      "[STDOUT] 19/29       12G   0.05966   0.02626    0.0163    0.1022       173       640:  52%|█████▏    | 13/25 [00:23<00:19,  1.60s/it]\n",
      "[STDOUT] 19/29       12G   0.05966   0.02626    0.0163    0.1022       173       640:  56%|█████▌    | 14/25 [00:23<00:18,  1.64s/it]\n",
      "[STDOUT] 19/29       12G   0.05939   0.02588   0.01624    0.1015       150       640:  56%|█████▌    | 14/25 [00:25<00:18,  1.64s/it]\n",
      "[STDOUT] 19/29       12G   0.05939   0.02588   0.01624    0.1015       150       640:  60%|██████    | 15/25 [00:25<00:16,  1.68s/it]\n",
      "[STDOUT] 19/29       12G   0.05951   0.02631   0.01661    0.1024       276       640:  60%|██████    | 15/25 [00:27<00:16,  1.68s/it]\n",
      "[STDOUT] 19/29       12G   0.05951   0.02631   0.01661    0.1024       276       640:  64%|██████▍   | 16/25 [00:27<00:16,  1.80s/it]\n",
      "[STDOUT] 19/29       12G    0.0598   0.02654   0.01687    0.1032       313       640:  64%|██████▍   | 16/25 [00:29<00:16,  1.80s/it]\n",
      "[STDOUT] 19/29       12G    0.0598   0.02654   0.01687    0.1032       313       640:  68%|██████▊   | 17/25 [00:29<00:15,  1.88s/it]\n",
      "[STDOUT] 19/29       12G   0.05973   0.02642   0.01685     0.103       204       640:  68%|██████▊   | 17/25 [00:31<00:15,  1.88s/it]\n",
      "[STDOUT] 19/29       12G   0.05973   0.02642   0.01685     0.103       204       640:  72%|███████▏  | 18/25 [00:31<00:13,  1.88s/it]\n",
      "[STDOUT] 19/29       12G   0.05969   0.02625   0.01659    0.1025       208       640:  72%|███████▏  | 18/25 [00:32<00:13,  1.88s/it]\n",
      "[STDOUT] 19/29       12G   0.05969   0.02625   0.01659    0.1025       208       640:  76%|███████▌  | 19/25 [00:32<00:10,  1.80s/it]\n",
      "[STDOUT] 19/29       12G    0.0594   0.02594   0.01631    0.1017       188       640:  76%|███████▌  | 19/25 [00:34<00:10,  1.80s/it]\n",
      "[STDOUT] 19/29       12G    0.0594   0.02594   0.01631    0.1017       188       640:  80%|████████  | 20/25 [00:34<00:08,  1.74s/it]\n",
      "[STDOUT] 19/29       12G   0.05953   0.02596   0.01651     0.102       273       640:  80%|████████  | 20/25 [00:36<00:08,  1.74s/it][TRAINING]      19/29       12G   0.05953   0.02596   0.01651     0.102       273       640\n",
      "[STDOUT] \n",
      "[STDOUT] 19/29       12G   0.05953   0.02596   0.01651     0.102       273       640:  84%|████████▍ | 21/25 [00:36<00:06,  1.73s/it]\n",
      "[STDOUT] 19/29       12G   0.05948   0.02577   0.01643    0.1017       146       640:  84%|████████▍ | 21/25 [00:37<00:06,  1.73s/it]\n",
      "[STDOUT] 19/29       12G   0.05948   0.02577   0.01643    0.1017       146       640:  88%|████████▊ | 22/25 [00:37<00:05,  1.69s/it]\n",
      "[STDOUT] 19/29       12G   0.05937   0.02592   0.01668     0.102       202       640:  88%|████████▊ | 22/25 [00:39<00:05,  1.69s/it]\n",
      "[STDOUT] 19/29       12G   0.05937   0.02592   0.01668     0.102       202       640:  92%|█████████▏| 23/25 [00:39<00:03,  1.64s/it]\n",
      "[STDOUT] 19/29       12G   0.05919   0.02574   0.01659    0.1015       146       640:  92%|█████████▏| 23/25 [00:40<00:03,  1.64s/it]\n",
      "[STDOUT] 19/29       12G   0.05919   0.02574   0.01659    0.1015       146       640:  96%|█████████▌| 24/25 [00:40<00:01,  1.68s/it]\n",
      "[STDOUT] 19/29       12G   0.05935   0.02529   0.01654    0.1012        74       640:  96%|█████████▌| 24/25 [00:41<00:01,  1.68s/it]\n",
      "[STDOUT] 19/29       12G   0.05935   0.02529   0.01654    0.1012        74       640: 100%|██████████| 25/25 [00:41<00:00,  1.36s/it]\n",
      "[STDOUT] 19/29       12G   0.05935   0.02529   0.01654    0.1012        74       640: 100%|██████████| 25/25 [00:41<00:00,  1.66s/it]\n",
      "[STDOUT] \n",
      "[STDOUT] Class      Images      Labels           P           R      mAP@.5  mAP@.5:.95:   0%|          | 0/5 [00:00<?, ?it/s][DEBUG] Head 0 | iou.min=0.0135, iou.max=0.9189, iou.mean=0.2722\n",
      "[STDOUT] [DEBUG] Head 0 | ps[..., 4].sigmoid().mean = 0.0076\n",
      "[STDOUT] [DEBUG] Head 1 | iou.min=-0.0287, iou.max=0.9661, iou.mean=0.4626\n",
      "[STDOUT] [DEBUG] Head 1 | ps[..., 4].sigmoid().mean = 0.0657\n",
      "[STDOUT] [DEBUG] Head 2 | iou.min=-0.2138, iou.max=0.8716, iou.mean=0.2209\n",
      "[STDOUT] [DEBUG] Head 2 | ps[..., 4].sigmoid().mean = 0.0027\n",
      "[STDOUT] \n",
      "[STDOUT] Class      Images      Labels           P           R      mAP@.5  mAP@.5:.95:  20%|██        | 1/5 [00:00<00:02,  1.65it/s][DEBUG] Head 0 | iou.min=0.0060, iou.max=0.8133, iou.mean=0.1880\n",
      "[STDOUT] [DEBUG] Head 0 | ps[..., 4].sigmoid().mean = 0.0049\n",
      "[STDOUT] [DEBUG] Head 1 | iou.min=0.0067, iou.max=0.9145, iou.mean=0.4349\n",
      "[STDOUT] [DEBUG] Head 1 | ps[..., 4].sigmoid().mean = 0.0582\n",
      "[STDOUT] [DEBUG] Head 2 | iou.min=0.0200, iou.max=0.8611, iou.mean=0.2969\n",
      "[STDOUT] [DEBUG] Head 2 | ps[..., 4].sigmoid().mean = 0.0028\n",
      "[STDOUT] \n",
      "[STDOUT] Class      Images      Labels           P           R      mAP@.5  mAP@.5:.95:  40%|████      | 2/5 [00:01<00:01,  1.60it/s][DEBUG] Head 0 | iou.min=0.0011, iou.max=0.8892, iou.mean=0.3442\n",
      "[STDOUT] [DEBUG] Head 0 | ps[..., 4].sigmoid().mean = 0.0045\n",
      "[STDOUT] [DEBUG] Head 1 | iou.min=-0.0565, iou.max=0.9346, iou.mean=0.3496\n",
      "[STDOUT] [DEBUG] Head 1 | ps[..., 4].sigmoid().mean = 0.0536\n",
      "[STDOUT] [DEBUG] Head 2 | iou.min=-0.0200, iou.max=0.8180, iou.mean=0.2178\n",
      "[STDOUT] [DEBUG] Head 2 | ps[..., 4].sigmoid().mean = 0.0025\n",
      "[STDOUT] \n",
      "[STDOUT] Class      Images      Labels           P           R      mAP@.5  mAP@.5:.95:  60%|██████    | 3/5 [00:01<00:01,  1.52it/s][DEBUG] Head 0 | iou.min=0.0080, iou.max=0.9126, iou.mean=0.4449\n",
      "[STDOUT] [DEBUG] Head 0 | ps[..., 4].sigmoid().mean = 0.0206\n",
      "[STDOUT] [DEBUG] Head 1 | iou.min=0.0100, iou.max=0.9323, iou.mean=0.4610\n",
      "[STDOUT] [DEBUG] Head 1 | ps[..., 4].sigmoid().mean = 0.0324\n",
      "[STDOUT] [DEBUG] Head 2 | iou.min=0.0090, iou.max=0.7961, iou.mean=0.1660\n",
      "[STDOUT] [DEBUG] Head 2 | ps[..., 4].sigmoid().mean = 0.0024\n",
      "[STDOUT] \n",
      "[STDOUT] Class      Images      Labels           P           R      mAP@.5  mAP@.5:.95:  80%|████████  | 4/5 [00:02<00:00,  1.49it/s][DEBUG] Head 0 | iou.min=0.0721, iou.max=0.5055, iou.mean=0.2555\n",
      "[STDOUT] [DEBUG] Head 0 | ps[..., 4].sigmoid().mean = 0.0022\n",
      "[STDOUT] [DEBUG] Head 1 | iou.min=0.2230, iou.max=0.8406, iou.mean=0.5759\n",
      "[STDOUT] [DEBUG] Head 1 | ps[..., 4].sigmoid().mean = 0.0305\n",
      "[STDOUT] [DEBUG] Head 2 | iou.min=0.0281, iou.max=0.1649, iou.mean=0.0808\n",
      "[STDOUT] [DEBUG] Head 2 | ps[..., 4].sigmoid().mean = 0.0024\n",
      "[STDOUT] \n",
      "[STDOUT] Class      Images      Labels           P           R      mAP@.5  mAP@.5:.95: 100%|██████████| 5/5 [00:02<00:00,  1.86it/s]\n",
      "[STDOUT] all         130         736        0.17      0.0492      0.0318     0.00849\n",
      "[STDOUT] OaohRepConv act_learn weight: 0.667\n",
      "[STDOUT] OaohRepConv act_learn weight: 0.667\n",
      "[STDOUT] OaohRepConv act_learn weight: 0.667\n",
      "[STDOUT] OaohRepConv act_learn weight: 0.667\n",
      "[STDOUT] OaohRepConv act_learn weight: 0.667\n",
      "[STDOUT] OaohRepConv act_learn weight: 0.667\n",
      "[STDOUT] OaohRepConv act_learn weight: 0.667\n",
      "[STDOUT] OaohRepConv act_learn weight: 0.667\n",
      "[STDOUT] OaohRepConv act_learn weight: 0.667\n",
      "[STDOUT] OaohRepConv act_learn weight: 0.667\n",
      "[STDOUT] OaohRepConv act_learn weight: 0.667\n",
      "[STDOUT] OaohRepConv act_learn weight: 0.667\n",
      "[STDOUT] OaohRepConv act_learn weight: 0.667\n",
      "[STDOUT] OaohRepConv act_learn weight: 0.667\n",
      "[STDOUT] OaohRepConv act_learn weight: 0.667\n",
      "[STDOUT] OaohRepConv act_learn weight: 0.667\n",
      "[STDOUT] OaohRepConv act_learn weight: 0.667\n",
      "[STDOUT] \n",
      "[STDOUT] Epoch   gpu_mem       box       obj       cls     total    labels  img_size\n",
      "[STDOUT] \n",
      "[STDOUT] 0%|          | 0/25 [00:00<?, ?it/s]\n",
      "[STDOUT] 20/29       12G   0.05456   0.02193   0.01705   0.09354       185       640:   0%|          | 0/25 [00:01<?, ?it/s][TRAINING]      20/29       12G   0.05456   0.02193   0.01705   0.09354       185       640\n",
      "[STDOUT] \n",
      "[STDOUT] 20/29       12G   0.05456   0.02193   0.01705   0.09354       185       640:   4%|▍         | 1/25 [00:01<00:45,  1.88s/it]\n",
      "[STDOUT] 20/29       12G    0.0546   0.02315    0.0167   0.09446       230       640:   4%|▍         | 1/25 [00:03<00:45,  1.88s/it]\n",
      "[STDOUT] 20/29       12G    0.0546   0.02315    0.0167   0.09446       230       640:   8%|▊         | 2/25 [00:03<00:42,  1.83s/it]\n",
      "[STDOUT] 20/29       12G    0.0551   0.02246   0.01578   0.09334       182       640:   8%|▊         | 2/25 [00:05<00:42,  1.83s/it]\n",
      "[STDOUT] 20/29       12G    0.0551   0.02246   0.01578   0.09334       182       640:  12%|█▏        | 3/25 [00:05<00:38,  1.76s/it]\n",
      "[STDOUT] 20/29       12G   0.05595   0.02253   0.01579   0.09426       229       640:  12%|█▏        | 3/25 [00:07<00:38,  1.76s/it]\n",
      "[STDOUT] 20/29       12G   0.05595   0.02253   0.01579   0.09426       229       640:  16%|█▌        | 4/25 [00:07<00:37,  1.79s/it]\n",
      "[STDOUT] 20/29       12G   0.05644   0.02215    0.0166   0.09519       199       640:  16%|█▌        | 4/25 [00:08<00:37,  1.79s/it]\n",
      "[STDOUT] 20/29       12G   0.05644   0.02215    0.0166   0.09519       199       640:  20%|██        | 5/25 [00:08<00:34,  1.74s/it]\n",
      "[STDOUT] 20/29       12G   0.05712   0.02109   0.01679     0.095       133       640:  20%|██        | 5/25 [00:10<00:34,  1.74s/it]\n",
      "[STDOUT] 20/29       12G   0.05712   0.02109   0.01679     0.095       133       640:  24%|██▍       | 6/25 [00:10<00:31,  1.65s/it]\n",
      "[STDOUT] 20/29       12G   0.05775   0.02094   0.01683   0.09552       183       640:  24%|██▍       | 6/25 [00:11<00:31,  1.65s/it]\n",
      "[STDOUT] 20/29       12G   0.05775   0.02094   0.01683   0.09552       183       640:  28%|██▊       | 7/25 [00:11<00:28,  1.59s/it]\n",
      "[STDOUT] 20/29       12G   0.05771    0.0213   0.01603   0.09505       197       640:  28%|██▊       | 7/25 [00:13<00:28,  1.59s/it]\n",
      "[STDOUT] 20/29       12G   0.05771    0.0213   0.01603   0.09505       197       640:  32%|███▏      | 8/25 [00:13<00:27,  1.62s/it]\n",
      "[STDOUT] 20/29       12G   0.05844   0.02113   0.01618   0.09576       190       640:  32%|███▏      | 8/25 [00:15<00:27,  1.62s/it]\n",
      "[STDOUT] 20/29       12G   0.05844   0.02113   0.01618   0.09576       190       640:  36%|███▌      | 9/25 [00:15<00:25,  1.62s/it]\n",
      "[STDOUT] 20/29       12G   0.05885   0.02167   0.01623   0.09675       269       640:  36%|███▌      | 9/25 [00:16<00:25,  1.62s/it]\n",
      "[STDOUT] 20/29       12G   0.05885   0.02167   0.01623   0.09675       269       640:  40%|████      | 10/25 [00:16<00:24,  1.61s/it]\n",
      "[STDOUT] 20/29       12G   0.05874   0.02248   0.01627   0.09749       243       640:  40%|████      | 10/25 [00:18<00:24,  1.61s/it][TRAINING]      20/29       12G   0.05874   0.02248   0.01627   0.09749       243       640\n",
      "[STDOUT] \n",
      "[STDOUT] 20/29       12G   0.05874   0.02248   0.01627   0.09749       243       640:  44%|████▍     | 11/25 [00:18<00:23,  1.65s/it]\n",
      "[STDOUT] 20/29       12G   0.05821   0.02318   0.01644   0.09783       250       640:  44%|████▍     | 11/25 [00:19<00:23,  1.65s/it]\n",
      "[STDOUT] 20/29       12G   0.05821   0.02318   0.01644   0.09783       250       640:  48%|████▊     | 12/25 [00:19<00:21,  1.63s/it]\n",
      "[STDOUT] 20/29       12G   0.05821   0.02341   0.01635   0.09797       263       640:  48%|████▊     | 12/25 [00:21<00:21,  1.63s/it]\n",
      "[STDOUT] 20/29       12G   0.05821   0.02341   0.01635   0.09797       263       640:  52%|█████▏    | 13/25 [00:21<00:19,  1.64s/it]\n",
      "[STDOUT] 20/29       12G   0.05848    0.0237   0.01604   0.09822       264       640:  52%|█████▏    | 13/25 [00:23<00:19,  1.64s/it]\n",
      "[STDOUT] 20/29       12G   0.05848    0.0237   0.01604   0.09822       264       640:  56%|█████▌    | 14/25 [00:23<00:18,  1.69s/it]\n",
      "[STDOUT] 20/29       12G   0.05845    0.0235   0.01582   0.09777       171       640:  56%|█████▌    | 14/25 [00:25<00:18,  1.69s/it]\n",
      "[STDOUT] 20/29       12G   0.05845    0.0235   0.01582   0.09777       171       640:  60%|██████    | 15/25 [00:25<00:16,  1.66s/it]\n",
      "[STDOUT] 20/29       12G   0.05834   0.02341   0.01577   0.09752       161       640:  60%|██████    | 15/25 [00:26<00:16,  1.66s/it]\n",
      "[STDOUT] 20/29       12G   0.05834   0.02341   0.01577   0.09752       161       640:  64%|██████▍   | 16/25 [00:26<00:14,  1.63s/it]\n",
      "[STDOUT] 20/29       12G   0.05851   0.02329   0.01583   0.09763       182       640:  64%|██████▍   | 16/25 [00:28<00:14,  1.63s/it]\n",
      "[STDOUT] 20/29       12G   0.05851   0.02329   0.01583   0.09763       182       640:  68%|██████▊   | 17/25 [00:28<00:13,  1.63s/it]\n",
      "[STDOUT] 20/29       12G   0.05812   0.02325   0.01551   0.09688       156       640:  68%|██████▊   | 17/25 [00:29<00:13,  1.63s/it]\n",
      "[STDOUT] 20/29       12G   0.05812   0.02325   0.01551   0.09688       156       640:  72%|███████▏  | 18/25 [00:29<00:11,  1.60s/it]\n",
      "[STDOUT] 20/29       12G   0.05804   0.02314   0.01533    0.0965       190       640:  72%|███████▏  | 18/25 [00:31<00:11,  1.60s/it]\n",
      "[STDOUT] 20/29       12G   0.05804   0.02314   0.01533    0.0965       190       640:  76%|███████▌  | 19/25 [00:31<00:09,  1.62s/it]\n",
      "[STDOUT] 20/29       12G   0.05798   0.02323   0.01557   0.09678       188       640:  76%|███████▌  | 19/25 [00:33<00:09,  1.62s/it]\n",
      "[STDOUT] 20/29       12G   0.05798   0.02323   0.01557   0.09678       188       640:  80%|████████  | 20/25 [00:33<00:08,  1.67s/it]\n",
      "[STDOUT] 20/29       12G   0.05808   0.02329   0.01546   0.09682       226       640:  80%|████████  | 20/25 [00:34<00:08,  1.67s/it][TRAINING]      20/29       12G   0.05808   0.02329   0.01546   0.09682       226       640\n",
      "[STDOUT] \n",
      "[STDOUT] 20/29       12G   0.05808   0.02329   0.01546   0.09682       226       640:  84%|████████▍ | 21/25 [00:34<00:06,  1.64s/it]\n",
      "[STDOUT] 20/29       12G   0.05814   0.02304   0.01544   0.09662       169       640:  84%|████████▍ | 21/25 [00:36<00:06,  1.64s/it]\n",
      "[STDOUT] 20/29       12G   0.05814   0.02304   0.01544   0.09662       169       640:  88%|████████▊ | 22/25 [00:36<00:04,  1.61s/it]\n",
      "[STDOUT] 20/29       12G    0.0582    0.0232   0.01535   0.09675       258       640:  88%|████████▊ | 22/25 [00:38<00:04,  1.61s/it]\n",
      "[STDOUT] 20/29       12G    0.0582    0.0232   0.01535   0.09675       258       640:  92%|█████████▏| 23/25 [00:38<00:03,  1.64s/it]\n",
      "[STDOUT] 20/29       12G   0.05816   0.02321   0.01529   0.09666       191       640:  92%|█████████▏| 23/25 [00:39<00:03,  1.64s/it]\n",
      "[STDOUT] 20/29       12G   0.05816   0.02321   0.01529   0.09666       191       640:  96%|█████████▌| 24/25 [00:39<00:01,  1.55s/it]\n",
      "[STDOUT] 20/29       12G    0.0583   0.02324   0.01524   0.09678        77       640:  96%|█████████▌| 24/25 [00:40<00:01,  1.55s/it]\n",
      "[STDOUT] 20/29       12G    0.0583   0.02324   0.01524   0.09678        77       640: 100%|██████████| 25/25 [00:40<00:00,  1.27s/it]\n",
      "[STDOUT] 20/29       12G    0.0583   0.02324   0.01524   0.09678        77       640: 100%|██████████| 25/25 [00:40<00:00,  1.60s/it]\n",
      "[STDOUT] \n",
      "[STDOUT] Class      Images      Labels           P           R      mAP@.5  mAP@.5:.95:   0%|          | 0/5 [00:00<?, ?it/s][DEBUG] Head 0 | iou.min=0.0024, iou.max=0.9424, iou.mean=0.2345\n",
      "[STDOUT] [DEBUG] Head 0 | ps[..., 4].sigmoid().mean = 0.0045\n",
      "[STDOUT] [DEBUG] Head 1 | iou.min=-0.1998, iou.max=0.9176, iou.mean=0.4041\n",
      "[STDOUT] [DEBUG] Head 1 | ps[..., 4].sigmoid().mean = 0.0247\n",
      "[STDOUT] [DEBUG] Head 2 | iou.min=-0.1794, iou.max=0.7808, iou.mean=0.2042\n",
      "[STDOUT] [DEBUG] Head 2 | ps[..., 4].sigmoid().mean = 0.0023\n",
      "[STDOUT] \n",
      "[STDOUT] Class      Images      Labels           P           R      mAP@.5  mAP@.5:.95:  20%|██        | 1/5 [00:00<00:02,  1.68it/s][DEBUG] Head 0 | iou.min=-0.1793, iou.max=0.6502, iou.mean=0.1132\n",
      "[STDOUT] [DEBUG] Head 0 | ps[..., 4].sigmoid().mean = 0.0025\n",
      "[STDOUT] [DEBUG] Head 1 | iou.min=-0.4094, iou.max=0.9058, iou.mean=0.3322\n",
      "[STDOUT] [DEBUG] Head 1 | ps[..., 4].sigmoid().mean = 0.0216\n",
      "[STDOUT] [DEBUG] Head 2 | iou.min=-0.0256, iou.max=0.8172, iou.mean=0.2843\n",
      "[STDOUT] [DEBUG] Head 2 | ps[..., 4].sigmoid().mean = 0.0027\n",
      "[STDOUT] \n",
      "[STDOUT] Class      Images      Labels           P           R      mAP@.5  mAP@.5:.95:  40%|████      | 2/5 [00:01<00:01,  1.65it/s][DEBUG] Head 0 | iou.min=-0.2262, iou.max=0.8328, iou.mean=0.1676\n",
      "[STDOUT] [DEBUG] Head 0 | ps[..., 4].sigmoid().mean = 0.0019\n",
      "[STDOUT] [DEBUG] Head 1 | iou.min=-0.4294, iou.max=0.8652, iou.mean=0.1645\n",
      "[STDOUT] [DEBUG] Head 1 | ps[..., 4].sigmoid().mean = 0.0122\n",
      "[STDOUT] [DEBUG] Head 2 | iou.min=-0.5023, iou.max=0.9039, iou.mean=0.1856\n",
      "[STDOUT] [DEBUG] Head 2 | ps[..., 4].sigmoid().mean = 0.0018\n",
      "[STDOUT] \n",
      "[STDOUT] Class      Images      Labels           P           R      mAP@.5  mAP@.5:.95:  60%|██████    | 3/5 [00:01<00:01,  1.56it/s][DEBUG] Head 0 | iou.min=-0.0231, iou.max=0.8742, iou.mean=0.2975\n",
      "[STDOUT] [DEBUG] Head 0 | ps[..., 4].sigmoid().mean = 0.0064\n",
      "[STDOUT] [DEBUG] Head 1 | iou.min=-0.0498, iou.max=0.9298, iou.mean=0.4102\n",
      "[STDOUT] [DEBUG] Head 1 | ps[..., 4].sigmoid().mean = 0.0072\n",
      "[STDOUT] [DEBUG] Head 2 | iou.min=-0.4167, iou.max=0.8403, iou.mean=0.1379\n",
      "[STDOUT] [DEBUG] Head 2 | ps[..., 4].sigmoid().mean = 0.0018\n",
      "[STDOUT] \n",
      "[STDOUT] Class      Images      Labels           P           R      mAP@.5  mAP@.5:.95:  80%|████████  | 4/5 [00:02<00:00,  1.53it/s][DEBUG] Head 0 | iou.min=0.0362, iou.max=0.5989, iou.mean=0.2023\n",
      "[STDOUT] [DEBUG] Head 0 | ps[..., 4].sigmoid().mean = 0.0025\n",
      "[STDOUT] [DEBUG] Head 1 | iou.min=0.3437, iou.max=0.8803, iou.mean=0.5932\n",
      "[STDOUT] [DEBUG] Head 1 | ps[..., 4].sigmoid().mean = 0.0092\n",
      "[STDOUT] [DEBUG] Head 2 | iou.min=0.0233, iou.max=0.1551, iou.mean=0.0811\n",
      "[STDOUT] [DEBUG] Head 2 | ps[..., 4].sigmoid().mean = 0.0021\n",
      "[STDOUT] \n",
      "[STDOUT] Class      Images      Labels           P           R      mAP@.5  mAP@.5:.95: 100%|██████████| 5/5 [00:02<00:00,  1.91it/s]\n",
      "[STDOUT] all         130         736      0.0254     0.00385    0.000698     0.00012\n",
      "[STDOUT] OaohRepConv act_learn weight: 0.700\n",
      "[STDOUT] OaohRepConv act_learn weight: 0.700\n",
      "[STDOUT] OaohRepConv act_learn weight: 0.700\n",
      "[STDOUT] OaohRepConv act_learn weight: 0.700\n",
      "[STDOUT] OaohRepConv act_learn weight: 0.700\n",
      "[STDOUT] OaohRepConv act_learn weight: 0.700\n",
      "[STDOUT] OaohRepConv act_learn weight: 0.700\n",
      "[STDOUT] OaohRepConv act_learn weight: 0.700\n",
      "[STDOUT] OaohRepConv act_learn weight: 0.700\n",
      "[STDOUT] OaohRepConv act_learn weight: 0.700\n",
      "[STDOUT] OaohRepConv act_learn weight: 0.700\n",
      "[STDOUT] OaohRepConv act_learn weight: 0.700\n",
      "[STDOUT] OaohRepConv act_learn weight: 0.700\n",
      "[STDOUT] OaohRepConv act_learn weight: 0.700\n",
      "[STDOUT] OaohRepConv act_learn weight: 0.700\n",
      "[STDOUT] OaohRepConv act_learn weight: 0.700\n",
      "[STDOUT] OaohRepConv act_learn weight: 0.700\n",
      "[STDOUT] \n",
      "[STDOUT] Epoch   gpu_mem       box       obj       cls     total    labels  img_size\n",
      "[STDOUT] \n",
      "[STDOUT] 0%|          | 0/25 [00:00<?, ?it/s]\n",
      "[STDOUT] 21/29       12G   0.05686   0.02822   0.01484   0.09992       240       640:   0%|          | 0/25 [00:02<?, ?it/s][TRAINING]      21/29       12G   0.05686   0.02822   0.01484   0.09992       240       640\n",
      "[STDOUT] \n",
      "[STDOUT] 21/29       12G   0.05686   0.02822   0.01484   0.09992       240       640:   4%|▍         | 1/25 [00:02<00:49,  2.05s/it]\n",
      "[STDOUT] 21/29       12G   0.05912    0.0297     0.015    0.1038       335       640:   4%|▍         | 1/25 [00:03<00:49,  2.05s/it]\n",
      "[STDOUT] 21/29       12G   0.05912    0.0297     0.015    0.1038       335       640:   8%|▊         | 2/25 [00:03<00:40,  1.77s/it]\n",
      "[STDOUT] 21/29       12G   0.05865   0.02666   0.01521    0.1005       221       640:   8%|▊         | 2/25 [00:05<00:40,  1.77s/it]\n",
      "[STDOUT] 21/29       12G   0.05865   0.02666   0.01521    0.1005       221       640:  12%|█▏        | 3/25 [00:05<00:37,  1.72s/it]\n",
      "[STDOUT] 21/29       12G   0.05791   0.02432   0.01399   0.09622       115       640:  12%|█▏        | 3/25 [00:06<00:37,  1.72s/it]\n",
      "[STDOUT] 21/29       12G   0.05791   0.02432   0.01399   0.09622       115       640:  16%|█▌        | 4/25 [00:06<00:34,  1.64s/it]\n",
      "[STDOUT] 21/29       12G   0.05863   0.02348   0.01521   0.09732       179       640:  16%|█▌        | 4/25 [00:08<00:34,  1.64s/it]\n",
      "[STDOUT] 21/29       12G   0.05863   0.02348   0.01521   0.09732       179       640:  20%|██        | 5/25 [00:08<00:33,  1.67s/it]\n",
      "[STDOUT] 21/29       12G   0.05884   0.02309    0.0151   0.09703       192       640:  20%|██        | 5/25 [00:10<00:33,  1.67s/it]\n",
      "[STDOUT] 21/29       12G   0.05884   0.02309    0.0151   0.09703       192       640:  24%|██▍       | 6/25 [00:10<00:32,  1.71s/it]\n",
      "[STDOUT] 21/29       12G   0.05929   0.02264   0.01578   0.09772       151       640:  24%|██▍       | 6/25 [00:11<00:32,  1.71s/it]\n",
      "[STDOUT] 21/29       12G   0.05929   0.02264   0.01578   0.09772       151       640:  28%|██▊       | 7/25 [00:11<00:29,  1.61s/it]\n",
      "[STDOUT] 21/29       12G   0.05913   0.02183   0.01504   0.09599       137       640:  28%|██▊       | 7/25 [00:13<00:29,  1.61s/it]\n",
      "[STDOUT] 21/29       12G   0.05913   0.02183   0.01504   0.09599       137       640:  32%|███▏      | 8/25 [00:13<00:27,  1.59s/it]\n",
      "[STDOUT] 21/29       12G    0.0582   0.02289   0.01475   0.09584       209       640:  32%|███▏      | 8/25 [00:14<00:27,  1.59s/it]\n",
      "[STDOUT] 21/29       12G    0.0582   0.02289   0.01475   0.09584       209       640:  36%|███▌      | 9/25 [00:14<00:25,  1.61s/it]\n",
      "[STDOUT] 21/29       12G   0.05802   0.02388   0.01477   0.09667       228       640:  36%|███▌      | 9/25 [00:16<00:25,  1.61s/it]\n",
      "[STDOUT] 21/29       12G   0.05802   0.02388   0.01477   0.09667       228       640:  40%|████      | 10/25 [00:16<00:24,  1.63s/it]\n",
      "[STDOUT] 21/29       12G   0.05844   0.02381   0.01483   0.09708       262       640:  40%|████      | 10/25 [00:18<00:24,  1.63s/it][TRAINING]      21/29       12G   0.05844   0.02381   0.01483   0.09708       262       640\n",
      "[STDOUT] \n",
      "[STDOUT] 21/29       12G   0.05844   0.02381   0.01483   0.09708       262       640:  44%|████▍     | 11/25 [00:18<00:23,  1.65s/it]\n",
      "[STDOUT] 21/29       12G   0.05874   0.02336    0.0148   0.09689       231       640:  44%|████▍     | 11/25 [00:19<00:23,  1.65s/it]\n",
      "[STDOUT] 21/29       12G   0.05874   0.02336    0.0148   0.09689       231       640:  48%|████▊     | 12/25 [00:19<00:21,  1.62s/it]\n",
      "[STDOUT] 21/29       12G   0.05878   0.02311   0.01475   0.09664       278       640:  48%|████▊     | 12/25 [00:21<00:21,  1.62s/it]\n",
      "[STDOUT] 21/29       12G   0.05878   0.02311   0.01475   0.09664       278       640:  52%|█████▏    | 13/25 [00:21<00:19,  1.63s/it]\n",
      "[STDOUT] 21/29       12G   0.05844   0.02313   0.01438   0.09595       201       640:  52%|█████▏    | 13/25 [00:22<00:19,  1.63s/it]\n",
      "[STDOUT] 21/29       12G   0.05844   0.02313   0.01438   0.09595       201       640:  56%|█████▌    | 14/25 [00:22<00:17,  1.56s/it]\n",
      "[STDOUT] 21/29       12G   0.05845   0.02368   0.01455   0.09669       231       640:  56%|█████▌    | 14/25 [00:24<00:17,  1.56s/it]\n",
      "[STDOUT] 21/29       12G   0.05845   0.02368   0.01455   0.09669       231       640:  60%|██████    | 15/25 [00:24<00:16,  1.61s/it]\n",
      "[STDOUT] 21/29       12G   0.05862   0.02331   0.01463   0.09656       155       640:  60%|██████    | 15/25 [00:26<00:16,  1.61s/it]\n",
      "[STDOUT] 21/29       12G   0.05862   0.02331   0.01463   0.09656       155       640:  64%|██████▍   | 16/25 [00:26<00:14,  1.66s/it]\n",
      "[STDOUT] 21/29       12G   0.05872   0.02321   0.01496   0.09689       231       640:  64%|██████▍   | 16/25 [00:27<00:14,  1.66s/it]\n",
      "[STDOUT] 21/29       12G   0.05872   0.02321   0.01496   0.09689       231       640:  68%|██████▊   | 17/25 [00:27<00:12,  1.62s/it]\n",
      "[STDOUT] 21/29       12G   0.05885   0.02358    0.0151   0.09754       255       640:  68%|██████▊   | 17/25 [00:29<00:12,  1.62s/it]\n",
      "[STDOUT] 21/29       12G   0.05885   0.02358    0.0151   0.09754       255       640:  72%|███████▏  | 18/25 [00:29<00:11,  1.63s/it]\n",
      "[STDOUT] 21/29       12G   0.05885   0.02373     0.015   0.09758       237       640:  72%|███████▏  | 18/25 [00:31<00:11,  1.63s/it]\n",
      "[STDOUT] 21/29       12G   0.05885   0.02373     0.015   0.09758       237       640:  76%|███████▌  | 19/25 [00:31<00:09,  1.61s/it]\n",
      "[STDOUT] 21/29       12G   0.05894    0.0235   0.01516    0.0976       220       640:  76%|███████▌  | 19/25 [00:32<00:09,  1.61s/it]\n",
      "[STDOUT] 21/29       12G   0.05894    0.0235   0.01516    0.0976       220       640:  80%|████████  | 20/25 [00:32<00:08,  1.64s/it]\n",
      "[STDOUT] 21/29       12G   0.05913    0.0237   0.01537   0.09821       194       640:  80%|████████  | 20/25 [00:34<00:08,  1.64s/it][TRAINING]      21/29       12G   0.05913    0.0237   0.01537   0.09821       194       640\n",
      "[STDOUT] \n",
      "[STDOUT] 21/29       12G   0.05913    0.0237   0.01537   0.09821       194       640:  84%|████████▍ | 21/25 [00:34<00:06,  1.66s/it]\n",
      "[STDOUT] 21/29       12G   0.05912   0.02364   0.01557   0.09833       160       640:  84%|████████▍ | 21/25 [00:36<00:06,  1.66s/it]\n",
      "[STDOUT] 21/29       12G   0.05912   0.02364   0.01557   0.09833       160       640:  88%|████████▊ | 22/25 [00:36<00:04,  1.65s/it]\n",
      "[STDOUT] 21/29       12G   0.05913   0.02378   0.01552   0.09843       224       640:  88%|████████▊ | 22/25 [00:37<00:04,  1.65s/it]\n",
      "[STDOUT] 21/29       12G   0.05913   0.02378   0.01552   0.09843       224       640:  92%|█████████▏| 23/25 [00:37<00:03,  1.64s/it]\n",
      "[STDOUT] 21/29       12G   0.05901   0.02396   0.01557   0.09854       196       640:  92%|█████████▏| 23/25 [00:39<00:03,  1.64s/it]\n",
      "[STDOUT] 21/29       12G   0.05901   0.02396   0.01557   0.09854       196       640:  96%|█████████▌| 24/25 [00:39<00:01,  1.73s/it]\n",
      "[STDOUT] 21/29       12G    0.0591   0.02475   0.01555    0.0994       121       640:  96%|█████████▌| 24/25 [00:40<00:01,  1.73s/it]\n",
      "[STDOUT] 21/29       12G    0.0591   0.02475   0.01555    0.0994       121       640: 100%|██████████| 25/25 [00:40<00:00,  1.42s/it]\n",
      "[STDOUT] 21/29       12G    0.0591   0.02475   0.01555    0.0994       121       640: 100%|██████████| 25/25 [00:40<00:00,  1.62s/it]\n",
      "[STDOUT] \n",
      "[STDOUT] Class      Images      Labels           P           R      mAP@.5  mAP@.5:.95:   0%|          | 0/5 [00:00<?, ?it/s][DEBUG] Head 0 | iou.min=-0.0382, iou.max=0.9046, iou.mean=0.2843\n",
      "[STDOUT] [DEBUG] Head 0 | ps[..., 4].sigmoid().mean = 0.0021\n",
      "[STDOUT] [DEBUG] Head 1 | iou.min=-0.3855, iou.max=0.9225, iou.mean=0.3992\n",
      "[STDOUT] [DEBUG] Head 1 | ps[..., 4].sigmoid().mean = 0.0297\n",
      "[STDOUT] [DEBUG] Head 2 | iou.min=-0.4035, iou.max=0.8452, iou.mean=0.2547\n",
      "[STDOUT] [DEBUG] Head 2 | ps[..., 4].sigmoid().mean = 0.0014\n",
      "[STDOUT] \n",
      "[STDOUT] Class      Images      Labels           P           R      mAP@.5  mAP@.5:.95:  20%|██        | 1/5 [00:00<00:02,  1.67it/s][DEBUG] Head 0 | iou.min=-0.1529, iou.max=0.7246, iou.mean=0.1686\n",
      "[STDOUT] [DEBUG] Head 0 | ps[..., 4].sigmoid().mean = 0.0206\n",
      "[STDOUT] [DEBUG] Head 1 | iou.min=-0.4145, iou.max=0.9166, iou.mean=0.3569\n",
      "[STDOUT] [DEBUG] Head 1 | ps[..., 4].sigmoid().mean = 0.0265\n",
      "[STDOUT] [DEBUG] Head 2 | iou.min=-0.4086, iou.max=0.8691, iou.mean=0.3238\n",
      "[STDOUT] [DEBUG] Head 2 | ps[..., 4].sigmoid().mean = 0.0014\n",
      "[STDOUT] \n",
      "[STDOUT] Class      Images      Labels           P           R      mAP@.5  mAP@.5:.95:  40%|████      | 2/5 [00:01<00:01,  1.60it/s][DEBUG] Head 0 | iou.min=-0.2265, iou.max=0.9299, iou.mean=0.1613\n",
      "[STDOUT] [DEBUG] Head 0 | ps[..., 4].sigmoid().mean = 0.0440\n",
      "[STDOUT] [DEBUG] Head 1 | iou.min=-0.4293, iou.max=0.9259, iou.mean=0.1657\n",
      "[STDOUT] [DEBUG] Head 1 | ps[..., 4].sigmoid().mean = 0.0270\n",
      "[STDOUT] [DEBUG] Head 2 | iou.min=-0.5023, iou.max=0.7652, iou.mean=0.2350\n",
      "[STDOUT] [DEBUG] Head 2 | ps[..., 4].sigmoid().mean = 0.0021\n",
      "[STDOUT] \n",
      "[STDOUT] Class      Images      Labels           P           R      mAP@.5  mAP@.5:.95:  60%|██████    | 3/5 [00:01<00:01,  1.48it/s][DEBUG] Head 0 | iou.min=0.0164, iou.max=0.8770, iou.mean=0.4082\n",
      "[STDOUT] [DEBUG] Head 0 | ps[..., 4].sigmoid().mean = 0.0052\n",
      "[STDOUT] [DEBUG] Head 1 | iou.min=-0.3501, iou.max=0.8897, iou.mean=0.4168\n",
      "[STDOUT] [DEBUG] Head 1 | ps[..., 4].sigmoid().mean = 0.0148\n",
      "[STDOUT] [DEBUG] Head 2 | iou.min=-0.4888, iou.max=0.7709, iou.mean=0.1698\n",
      "[STDOUT] [DEBUG] Head 2 | ps[..., 4].sigmoid().mean = 0.0112\n",
      "[STDOUT] \n",
      "[STDOUT] Class      Images      Labels           P           R      mAP@.5  mAP@.5:.95:  80%|████████  | 4/5 [00:02<00:00,  1.42it/s][DEBUG] Head 0 | iou.min=0.0408, iou.max=0.7317, iou.mean=0.3263\n",
      "[STDOUT] [DEBUG] Head 0 | ps[..., 4].sigmoid().mean = 0.0022\n",
      "[STDOUT] [DEBUG] Head 1 | iou.min=0.2420, iou.max=0.8240, iou.mean=0.5924\n",
      "[STDOUT] [DEBUG] Head 1 | ps[..., 4].sigmoid().mean = 0.0065\n",
      "[STDOUT] [DEBUG] Head 2 | iou.min=0.0849, iou.max=0.2550, iou.mean=0.1344\n",
      "[STDOUT] [DEBUG] Head 2 | ps[..., 4].sigmoid().mean = 0.0018\n",
      "[STDOUT] \n",
      "[STDOUT] Class      Images      Labels           P           R      mAP@.5  mAP@.5:.95: 100%|██████████| 5/5 [00:02<00:00,  1.80it/s]\n",
      "[STDOUT] all         130         736      0.0909      0.0253      0.0215      0.0085\n",
      "[STDOUT] OaohRepConv act_learn weight: 0.733\n",
      "[STDOUT] OaohRepConv act_learn weight: 0.733\n",
      "[STDOUT] OaohRepConv act_learn weight: 0.733\n",
      "[STDOUT] OaohRepConv act_learn weight: 0.733\n",
      "[STDOUT] OaohRepConv act_learn weight: 0.733\n",
      "[STDOUT] OaohRepConv act_learn weight: 0.733\n",
      "[STDOUT] OaohRepConv act_learn weight: 0.733\n",
      "[STDOUT] OaohRepConv act_learn weight: 0.733\n",
      "[STDOUT] OaohRepConv act_learn weight: 0.733\n",
      "[STDOUT] OaohRepConv act_learn weight: 0.733\n",
      "[STDOUT] OaohRepConv act_learn weight: 0.733\n",
      "[STDOUT] OaohRepConv act_learn weight: 0.733\n",
      "[STDOUT] OaohRepConv act_learn weight: 0.733\n",
      "[STDOUT] OaohRepConv act_learn weight: 0.733\n",
      "[STDOUT] OaohRepConv act_learn weight: 0.733\n",
      "[STDOUT] OaohRepConv act_learn weight: 0.733\n",
      "[STDOUT] OaohRepConv act_learn weight: 0.733\n",
      "[STDOUT] \n",
      "[STDOUT] Epoch   gpu_mem       box       obj       cls     total    labels  img_size\n",
      "[STDOUT] \n",
      "[STDOUT] 0%|          | 0/25 [00:00<?, ?it/s]\n",
      "[STDOUT] 22/29       12G   0.05772   0.03103   0.02012    0.1089       277       640:   0%|          | 0/25 [00:01<?, ?it/s][TRAINING]      22/29       12G   0.05772   0.03103   0.02012    0.1089       277       640\n",
      "[STDOUT] \n",
      "[STDOUT] 22/29       12G   0.05772   0.03103   0.02012    0.1089       277       640:   4%|▍         | 1/25 [00:01<00:43,  1.83s/it]\n",
      "[STDOUT] 22/29       12G   0.05828   0.03004   0.01897    0.1073       227       640:   4%|▍         | 1/25 [00:03<00:43,  1.83s/it]\n",
      "[STDOUT] 22/29       12G   0.05828   0.03004   0.01897    0.1073       227       640:   8%|▊         | 2/25 [00:03<00:38,  1.69s/it]\n",
      "[STDOUT] 22/29       12G   0.05772   0.03282   0.01714    0.1077       375       640:   8%|▊         | 2/25 [00:05<00:38,  1.69s/it]\n",
      "[STDOUT] 22/29       12G   0.05772   0.03282   0.01714    0.1077       375       640:  12%|█▏        | 3/25 [00:05<00:38,  1.73s/it]\n",
      "[STDOUT] 22/29       12G   0.05696   0.03301   0.01531    0.1053       331       640:  12%|█▏        | 3/25 [00:07<00:38,  1.73s/it]\n",
      "[STDOUT] 22/29       12G   0.05696   0.03301   0.01531    0.1053       331       640:  16%|█▌        | 4/25 [00:07<00:38,  1.81s/it]\n",
      "[STDOUT] 22/29       12G   0.05705   0.03028   0.01563     0.103       157       640:  16%|█▌        | 4/25 [00:08<00:38,  1.81s/it]\n",
      "[STDOUT] 22/29       12G   0.05705   0.03028   0.01563     0.103       157       640:  20%|██        | 5/25 [00:08<00:36,  1.81s/it]\n",
      "[STDOUT] 22/29       12G   0.05728   0.02936   0.01481    0.1014       172       640:  20%|██        | 5/25 [00:10<00:36,  1.81s/it]\n",
      "[STDOUT] 22/29       12G   0.05728   0.02936   0.01481    0.1014       172       640:  24%|██▍       | 6/25 [00:10<00:32,  1.73s/it]\n",
      "[STDOUT] 22/29       12G   0.05831   0.02769   0.01463    0.1006       142       640:  24%|██▍       | 6/25 [00:12<00:32,  1.73s/it]\n",
      "[STDOUT] 22/29       12G   0.05831   0.02769   0.01463    0.1006       142       640:  28%|██▊       | 7/25 [00:12<00:30,  1.69s/it]\n",
      "[STDOUT] 22/29       12G   0.05879   0.02632   0.01484   0.09994       160       640:  28%|██▊       | 7/25 [00:13<00:30,  1.69s/it]\n",
      "[STDOUT] 22/29       12G   0.05879   0.02632   0.01484   0.09994       160       640:  32%|███▏      | 8/25 [00:13<00:28,  1.67s/it]\n",
      "[STDOUT] 22/29       12G   0.05846   0.02626   0.01455   0.09927       207       640:  32%|███▏      | 8/25 [00:15<00:28,  1.67s/it]\n",
      "[STDOUT] 22/29       12G   0.05846   0.02626   0.01455   0.09927       207       640:  36%|███▌      | 9/25 [00:15<00:28,  1.77s/it]\n",
      "[STDOUT] 22/29       12G   0.05819   0.02616   0.01422   0.09856       163       640:  36%|███▌      | 9/25 [00:17<00:28,  1.77s/it]\n",
      "[STDOUT] 22/29       12G   0.05819   0.02616   0.01422   0.09856       163       640:  40%|████      | 10/25 [00:17<00:24,  1.66s/it]\n",
      "[STDOUT] 22/29       12G    0.0585   0.02562   0.01437    0.0985       166       640:  40%|████      | 10/25 [00:19<00:24,  1.66s/it][TRAINING]      22/29       12G    0.0585   0.02562   0.01437    0.0985       166       640\n",
      "[STDOUT] \n",
      "[STDOUT] 22/29       12G    0.0585   0.02562   0.01437    0.0985       166       640:  44%|████▍     | 11/25 [00:19<00:24,  1.75s/it]\n",
      "[STDOUT] 22/29       12G   0.05866   0.02601   0.01479   0.09946       281       640:  44%|████▍     | 11/25 [00:20<00:24,  1.75s/it]\n",
      "[STDOUT] 22/29       12G   0.05866   0.02601   0.01479   0.09946       281       640:  48%|████▊     | 12/25 [00:20<00:22,  1.71s/it]\n",
      "[STDOUT] 22/29       12G   0.05896   0.02528   0.01489   0.09913       254       640:  48%|████▊     | 12/25 [00:22<00:22,  1.71s/it]\n",
      "[STDOUT] 22/29       12G   0.05896   0.02528   0.01489   0.09913       254       640:  52%|█████▏    | 13/25 [00:22<00:20,  1.67s/it]\n",
      "[STDOUT] 22/29       12G   0.05893   0.02553   0.01471   0.09917       245       640:  52%|█████▏    | 13/25 [00:24<00:20,  1.67s/it]\n",
      "[STDOUT] 22/29       12G   0.05893   0.02553   0.01471   0.09917       245       640:  56%|█████▌    | 14/25 [00:24<00:18,  1.69s/it]\n",
      "[STDOUT] 22/29       12G   0.05887   0.02631   0.01501    0.1002       269       640:  56%|█████▌    | 14/25 [00:25<00:18,  1.69s/it]\n",
      "[STDOUT] 22/29       12G   0.05887   0.02631   0.01501    0.1002       269       640:  60%|██████    | 15/25 [00:25<00:17,  1.74s/it]\n",
      "[STDOUT] 22/29       12G   0.05923   0.02618   0.01551    0.1009       215       640:  60%|██████    | 15/25 [00:27<00:17,  1.74s/it]\n",
      "[STDOUT] 22/29       12G   0.05923   0.02618   0.01551    0.1009       215       640:  64%|██████▍   | 16/25 [00:27<00:15,  1.73s/it]\n",
      "[STDOUT] 22/29       12G   0.05955   0.02656   0.01561    0.1017       352       640:  64%|██████▍   | 16/25 [00:29<00:15,  1.73s/it]\n",
      "[STDOUT] 22/29       12G   0.05955   0.02656   0.01561    0.1017       352       640:  68%|██████▊   | 17/25 [00:29<00:13,  1.75s/it]\n",
      "[STDOUT] 22/29       12G   0.05952   0.02638   0.01538    0.1013       250       640:  68%|██████▊   | 17/25 [00:31<00:13,  1.75s/it]\n",
      "[STDOUT] 22/29       12G   0.05952   0.02638   0.01538    0.1013       250       640:  72%|███████▏  | 18/25 [00:31<00:12,  1.76s/it]\n",
      "[STDOUT] 22/29       12G   0.05925   0.02622   0.01509    0.1006       156       640:  72%|███████▏  | 18/25 [00:32<00:12,  1.76s/it]\n",
      "[STDOUT] 22/29       12G   0.05925   0.02622   0.01509    0.1006       156       640:  76%|███████▌  | 19/25 [00:32<00:10,  1.73s/it]\n",
      "[STDOUT] 22/29       12G   0.05935   0.02587   0.01508    0.1003       231       640:  76%|███████▌  | 19/25 [00:34<00:10,  1.73s/it]\n",
      "[STDOUT] 22/29       12G   0.05935   0.02587   0.01508    0.1003       231       640:  80%|████████  | 20/25 [00:34<00:08,  1.65s/it]\n",
      "[STDOUT] 22/29       12G    0.0593   0.02605   0.01522    0.1006       239       640:  80%|████████  | 20/25 [00:36<00:08,  1.65s/it][TRAINING]      22/29       12G    0.0593   0.02605   0.01522    0.1006       239       640\n",
      "[STDOUT] \n",
      "[STDOUT] 22/29       12G    0.0593   0.02605   0.01522    0.1006       239       640:  84%|████████▍ | 21/25 [00:36<00:06,  1.73s/it]\n",
      "[STDOUT] 22/29       12G   0.05894   0.02582   0.01501   0.09977       146       640:  84%|████████▍ | 21/25 [00:37<00:06,  1.73s/it]\n",
      "[STDOUT] 22/29       12G   0.05894   0.02582   0.01501   0.09977       146       640:  88%|████████▊ | 22/25 [00:37<00:05,  1.70s/it]\n",
      "[STDOUT] 22/29       12G   0.05869   0.02568    0.0147   0.09907       197       640:  88%|████████▊ | 22/25 [00:39<00:05,  1.70s/it]\n",
      "[STDOUT] 22/29       12G   0.05869   0.02568    0.0147   0.09907       197       640:  92%|█████████▏| 23/25 [00:39<00:03,  1.61s/it]\n",
      "[STDOUT] 22/29       12G   0.05851   0.02571   0.01448    0.0987       204       640:  92%|█████████▏| 23/25 [00:40<00:03,  1.61s/it]\n",
      "[STDOUT] 22/29       12G   0.05851   0.02571   0.01448    0.0987       204       640:  96%|█████████▌| 24/25 [00:40<00:01,  1.65s/it]\n",
      "[STDOUT] 22/29       12G   0.05862   0.02579   0.01465   0.09906        95       640:  96%|█████████▌| 24/25 [00:41<00:01,  1.65s/it]\n",
      "[STDOUT] 22/29       12G   0.05862   0.02579   0.01465   0.09906        95       640: 100%|██████████| 25/25 [00:41<00:00,  1.32s/it]\n",
      "[STDOUT] 22/29       12G   0.05862   0.02579   0.01465   0.09906        95       640: 100%|██████████| 25/25 [00:41<00:00,  1.66s/it]\n",
      "[STDOUT] \n",
      "[STDOUT] Class      Images      Labels           P           R      mAP@.5  mAP@.5:.95:   0%|          | 0/5 [00:00<?, ?it/s][DEBUG] Head 0 | iou.min=-0.0202, iou.max=0.8829, iou.mean=0.2908\n",
      "[STDOUT] [DEBUG] Head 0 | ps[..., 4].sigmoid().mean = 0.0040\n",
      "[STDOUT] [DEBUG] Head 1 | iou.min=-0.2945, iou.max=0.9539, iou.mean=0.4428\n",
      "[STDOUT] [DEBUG] Head 1 | ps[..., 4].sigmoid().mean = 0.0324\n",
      "[STDOUT] [DEBUG] Head 2 | iou.min=-0.1061, iou.max=0.8860, iou.mean=0.2081\n",
      "[STDOUT] [DEBUG] Head 2 | ps[..., 4].sigmoid().mean = 0.0022\n",
      "[STDOUT] \n",
      "[STDOUT] Class      Images      Labels           P           R      mAP@.5  mAP@.5:.95:  20%|██        | 1/5 [00:00<00:02,  1.68it/s][DEBUG] Head 0 | iou.min=-0.1657, iou.max=0.7284, iou.mean=0.1584\n",
      "[STDOUT] [DEBUG] Head 0 | ps[..., 4].sigmoid().mean = 0.0096\n",
      "[STDOUT] [DEBUG] Head 1 | iou.min=-0.3464, iou.max=0.9239, iou.mean=0.4206\n",
      "[STDOUT] [DEBUG] Head 1 | ps[..., 4].sigmoid().mean = 0.0184\n",
      "[STDOUT] [DEBUG] Head 2 | iou.min=-0.4086, iou.max=0.8966, iou.mean=0.2976\n",
      "[STDOUT] [DEBUG] Head 2 | ps[..., 4].sigmoid().mean = 0.0193\n",
      "[STDOUT] \n",
      "[STDOUT] Class      Images      Labels           P           R      mAP@.5  mAP@.5:.95:  40%|████      | 2/5 [00:01<00:01,  1.63it/s][DEBUG] Head 0 | iou.min=-0.2042, iou.max=0.8746, iou.mean=0.1587\n",
      "[STDOUT] [DEBUG] Head 0 | ps[..., 4].sigmoid().mean = 0.0147\n",
      "[STDOUT] [DEBUG] Head 1 | iou.min=-0.4232, iou.max=0.9061, iou.mean=0.2116\n",
      "[STDOUT] [DEBUG] Head 1 | ps[..., 4].sigmoid().mean = 0.0151\n",
      "[STDOUT] [DEBUG] Head 2 | iou.min=-0.5023, iou.max=0.8597, iou.mean=0.1801\n",
      "[STDOUT] [DEBUG] Head 2 | ps[..., 4].sigmoid().mean = 0.0566\n",
      "[STDOUT] \n",
      "[STDOUT] Class      Images      Labels           P           R      mAP@.5  mAP@.5:.95:  60%|██████    | 3/5 [00:01<00:01,  1.54it/s][DEBUG] Head 0 | iou.min=0.0166, iou.max=0.8976, iou.mean=0.4113\n",
      "[STDOUT] [DEBUG] Head 0 | ps[..., 4].sigmoid().mean = 0.0056\n",
      "[STDOUT] [DEBUG] Head 1 | iou.min=-0.2875, iou.max=0.9348, iou.mean=0.4262\n",
      "[STDOUT] [DEBUG] Head 1 | ps[..., 4].sigmoid().mean = 0.0357\n",
      "[STDOUT] [DEBUG] Head 2 | iou.min=-0.4888, iou.max=0.8225, iou.mean=0.1359\n",
      "[STDOUT] [DEBUG] Head 2 | ps[..., 4].sigmoid().mean = 0.0624\n",
      "[STDOUT] \n",
      "[STDOUT] Class      Images      Labels           P           R      mAP@.5  mAP@.5:.95:  80%|████████  | 4/5 [00:02<00:00,  1.48it/s][DEBUG] Head 0 | iou.min=0.0453, iou.max=0.6313, iou.mean=0.2734\n",
      "[STDOUT] [DEBUG] Head 0 | ps[..., 4].sigmoid().mean = 0.0028\n",
      "[STDOUT] [DEBUG] Head 1 | iou.min=0.3288, iou.max=0.8741, iou.mean=0.6698\n",
      "[STDOUT] [DEBUG] Head 1 | ps[..., 4].sigmoid().mean = 0.0241\n",
      "[STDOUT] [DEBUG] Head 2 | iou.min=0.0294, iou.max=0.1682, iou.mean=0.0687\n",
      "[STDOUT] [DEBUG] Head 2 | ps[..., 4].sigmoid().mean = 0.0012\n",
      "[STDOUT] \n",
      "[STDOUT] Class      Images      Labels           P           R      mAP@.5  mAP@.5:.95: 100%|██████████| 5/5 [00:02<00:00,  1.86it/s]\n",
      "[STDOUT] all         130         736      0.0732      0.0223     0.00784     0.00275\n",
      "[STDOUT] OaohRepConv act_learn weight: 0.767\n",
      "[STDOUT] OaohRepConv act_learn weight: 0.767\n",
      "[STDOUT] OaohRepConv act_learn weight: 0.767\n",
      "[STDOUT] OaohRepConv act_learn weight: 0.767\n",
      "[STDOUT] OaohRepConv act_learn weight: 0.767\n",
      "[STDOUT] OaohRepConv act_learn weight: 0.767\n",
      "[STDOUT] OaohRepConv act_learn weight: 0.767\n",
      "[STDOUT] OaohRepConv act_learn weight: 0.767\n",
      "[STDOUT] OaohRepConv act_learn weight: 0.767\n",
      "[STDOUT] OaohRepConv act_learn weight: 0.767\n",
      "[STDOUT] OaohRepConv act_learn weight: 0.767\n",
      "[STDOUT] OaohRepConv act_learn weight: 0.767\n",
      "[STDOUT] OaohRepConv act_learn weight: 0.767\n",
      "[STDOUT] OaohRepConv act_learn weight: 0.767\n",
      "[STDOUT] OaohRepConv act_learn weight: 0.767\n",
      "[STDOUT] OaohRepConv act_learn weight: 0.767\n",
      "[STDOUT] OaohRepConv act_learn weight: 0.767\n",
      "[STDOUT] \n",
      "[STDOUT] Epoch   gpu_mem       box       obj       cls     total    labels  img_size\n",
      "[STDOUT] \n",
      "[STDOUT] 0%|          | 0/25 [00:00<?, ?it/s]\n",
      "[STDOUT] 23/29       12G   0.05298   0.03127    0.0136   0.09785       228       640:   0%|          | 0/25 [00:02<?, ?it/s][TRAINING]      23/29       12G   0.05298   0.03127    0.0136   0.09785       228       640\n",
      "[STDOUT] \n",
      "[STDOUT] 23/29       12G   0.05298   0.03127    0.0136   0.09785       228       640:   4%|▍         | 1/25 [00:02<00:49,  2.05s/it]\n",
      "[STDOUT] 23/29       12G   0.05551   0.03008   0.01329   0.09888       233       640:   4%|▍         | 1/25 [00:03<00:49,  2.05s/it]\n",
      "[STDOUT] 23/29       12G   0.05551   0.03008   0.01329   0.09888       233       640:   8%|▊         | 2/25 [00:03<00:45,  1.98s/it]\n",
      "[STDOUT] 23/29       12G   0.05495   0.02569   0.01217   0.09281       214       640:   8%|▊         | 2/25 [00:05<00:45,  1.98s/it]\n",
      "[STDOUT] 23/29       12G   0.05495   0.02569   0.01217   0.09281       214       640:  12%|█▏        | 3/25 [00:05<00:41,  1.89s/it]\n",
      "[STDOUT] 23/29       12G   0.05611   0.02439   0.01187   0.09236       227       640:  12%|█▏        | 3/25 [00:07<00:41,  1.89s/it]\n",
      "[STDOUT] 23/29       12G   0.05611   0.02439   0.01187   0.09236       227       640:  16%|█▌        | 4/25 [00:07<00:37,  1.76s/it]\n",
      "[STDOUT] 23/29       12G   0.05707   0.02331   0.01304   0.09342       134       640:  16%|█▌        | 4/25 [00:09<00:37,  1.76s/it]\n",
      "[STDOUT] 23/29       12G   0.05707   0.02331   0.01304   0.09342       134       640:  20%|██        | 5/25 [00:09<00:35,  1.78s/it]\n",
      "[STDOUT] 23/29       12G   0.05724   0.02284   0.01366   0.09375       205       640:  20%|██        | 5/25 [00:10<00:35,  1.78s/it]\n",
      "[STDOUT] 23/29       12G   0.05724   0.02284   0.01366   0.09375       205       640:  24%|██▍       | 6/25 [00:10<00:32,  1.73s/it]\n",
      "[STDOUT] 23/29       12G   0.05716   0.02291   0.01359   0.09366       146       640:  24%|██▍       | 6/25 [00:12<00:32,  1.73s/it]\n",
      "[STDOUT] 23/29       12G   0.05716   0.02291   0.01359   0.09366       146       640:  28%|██▊       | 7/25 [00:12<00:31,  1.75s/it]\n",
      "[STDOUT] 23/29       12G   0.05723   0.02279   0.01394   0.09397       228       640:  28%|██▊       | 7/25 [00:14<00:31,  1.75s/it]\n",
      "[STDOUT] 23/29       12G   0.05723   0.02279   0.01394   0.09397       228       640:  32%|███▏      | 8/25 [00:14<00:29,  1.72s/it]\n",
      "[STDOUT] 23/29       12G   0.05722   0.02276   0.01442    0.0944       133       640:  32%|███▏      | 8/25 [00:15<00:29,  1.72s/it]\n",
      "[STDOUT] 23/29       12G   0.05722   0.02276   0.01442    0.0944       133       640:  36%|███▌      | 9/25 [00:15<00:27,  1.73s/it]\n",
      "[STDOUT] 23/29       12G   0.05716   0.02241   0.01416   0.09372       170       640:  36%|███▌      | 9/25 [00:17<00:27,  1.73s/it]\n",
      "[STDOUT] 23/29       12G   0.05716   0.02241   0.01416   0.09372       170       640:  40%|████      | 10/25 [00:17<00:23,  1.59s/it]\n",
      "[STDOUT] 23/29       12G   0.05771   0.02199   0.01407   0.09377       148       640:  40%|████      | 10/25 [00:18<00:23,  1.59s/it][TRAINING]      23/29       12G   0.05771   0.02199   0.01407   0.09377       148       640\n",
      "[STDOUT] \n",
      "[STDOUT] 23/29       12G   0.05771   0.02199   0.01407   0.09377       148       640:  44%|████▍     | 11/25 [00:18<00:22,  1.57s/it]\n",
      "[STDOUT] 23/29       12G   0.05743   0.02219   0.01398    0.0936       218       640:  44%|████▍     | 11/25 [00:20<00:22,  1.57s/it]\n",
      "[STDOUT] 23/29       12G   0.05743   0.02219   0.01398    0.0936       218       640:  48%|████▊     | 12/25 [00:20<00:20,  1.60s/it]\n",
      "[STDOUT] 23/29       12G    0.0574    0.0223   0.01388   0.09357       179       640:  48%|████▊     | 12/25 [00:22<00:20,  1.60s/it]\n",
      "[STDOUT] 23/29       12G    0.0574    0.0223   0.01388   0.09357       179       640:  52%|█████▏    | 13/25 [00:22<00:19,  1.63s/it]\n",
      "[STDOUT] 23/29       12G   0.05712   0.02252   0.01386    0.0935       184       640:  52%|█████▏    | 13/25 [00:23<00:19,  1.63s/it]\n",
      "[STDOUT] 23/29       12G   0.05712   0.02252   0.01386    0.0935       184       640:  56%|█████▌    | 14/25 [00:23<00:17,  1.60s/it]\n",
      "[STDOUT] 23/29       12G   0.05708    0.0225   0.01402    0.0936       182       640:  56%|█████▌    | 14/25 [00:25<00:17,  1.60s/it]\n",
      "[STDOUT] 23/29       12G   0.05708    0.0225   0.01402    0.0936       182       640:  60%|██████    | 15/25 [00:25<00:15,  1.55s/it]\n",
      "[STDOUT] 23/29       12G   0.05706   0.02267   0.01386   0.09359       229       640:  60%|██████    | 15/25 [00:26<00:15,  1.55s/it]\n",
      "[STDOUT] 23/29       12G   0.05706   0.02267   0.01386   0.09359       229       640:  64%|██████▍   | 16/25 [00:26<00:14,  1.60s/it]\n",
      "[STDOUT] 23/29       12G   0.05724   0.02266   0.01389   0.09379       240       640:  64%|██████▍   | 16/25 [00:28<00:14,  1.60s/it]\n",
      "[STDOUT] 23/29       12G   0.05724   0.02266   0.01389   0.09379       240       640:  68%|██████▊   | 17/25 [00:28<00:12,  1.58s/it]\n",
      "[STDOUT] 23/29       12G   0.05723   0.02252   0.01386   0.09362       155       640:  68%|██████▊   | 17/25 [00:30<00:12,  1.58s/it]\n",
      "[STDOUT] 23/29       12G   0.05723   0.02252   0.01386   0.09362       155       640:  72%|███████▏  | 18/25 [00:30<00:11,  1.63s/it]\n",
      "[STDOUT] 23/29       12G     0.057   0.02249   0.01375   0.09324       153       640:  72%|███████▏  | 18/25 [00:31<00:11,  1.63s/it]\n",
      "[STDOUT] 23/29       12G     0.057   0.02249   0.01375   0.09324       153       640:  76%|███████▌  | 19/25 [00:31<00:10,  1.68s/it]\n",
      "[STDOUT] 23/29       12G   0.05696   0.02314   0.01372   0.09381       264       640:  76%|███████▌  | 19/25 [00:33<00:10,  1.68s/it]\n",
      "[STDOUT] 23/29       12G   0.05696   0.02314   0.01372   0.09381       264       640:  80%|████████  | 20/25 [00:33<00:08,  1.69s/it]\n",
      "[STDOUT] 23/29       12G   0.05726   0.02335   0.01391   0.09451       310       640:  80%|████████  | 20/25 [00:35<00:08,  1.69s/it][TRAINING]      23/29       12G   0.05726   0.02335   0.01391   0.09451       310       640\n",
      "[STDOUT] \n",
      "[STDOUT] 23/29       12G   0.05726   0.02335   0.01391   0.09451       310       640:  84%|████████▍ | 21/25 [00:35<00:06,  1.69s/it]\n",
      "[STDOUT] 23/29       12G   0.05759   0.02348   0.01409   0.09516       269       640:  84%|████████▍ | 21/25 [00:36<00:06,  1.69s/it]\n",
      "[STDOUT] 23/29       12G   0.05759   0.02348   0.01409   0.09516       269       640:  88%|████████▊ | 22/25 [00:36<00:04,  1.64s/it]\n",
      "[STDOUT] 23/29       12G   0.05757   0.02325   0.01393   0.09476       217       640:  88%|████████▊ | 22/25 [00:38<00:04,  1.64s/it]\n",
      "[STDOUT] 23/29       12G   0.05757   0.02325   0.01393   0.09476       217       640:  92%|█████████▏| 23/25 [00:38<00:03,  1.61s/it]\n",
      "[STDOUT] 23/29       12G   0.05774   0.02332   0.01403   0.09509       294       640:  92%|█████████▏| 23/25 [00:39<00:03,  1.61s/it]\n",
      "[STDOUT] 23/29       12G   0.05774   0.02332   0.01403   0.09509       294       640:  96%|█████████▌| 24/25 [00:39<00:01,  1.61s/it]\n",
      "[STDOUT] 23/29       12G   0.05795   0.02296   0.01432   0.09524        32       640:  96%|█████████▌| 24/25 [00:40<00:01,  1.61s/it]\n",
      "[STDOUT] 23/29       12G   0.05795   0.02296   0.01432   0.09524        32       640: 100%|██████████| 25/25 [00:40<00:00,  1.31s/it]\n",
      "[STDOUT] 23/29       12G   0.05795   0.02296   0.01432   0.09524        32       640: 100%|██████████| 25/25 [00:40<00:00,  1.62s/it]\n",
      "[STDOUT] \n",
      "[STDOUT] Class      Images      Labels           P           R      mAP@.5  mAP@.5:.95:   0%|          | 0/5 [00:00<?, ?it/s][DEBUG] Head 0 | iou.min=0.0057, iou.max=0.8790, iou.mean=0.3070\n",
      "[STDOUT] [DEBUG] Head 0 | ps[..., 4].sigmoid().mean = 0.0084\n",
      "[STDOUT] [DEBUG] Head 1 | iou.min=-0.2271, iou.max=0.9234, iou.mean=0.5032\n",
      "[STDOUT] [DEBUG] Head 1 | ps[..., 4].sigmoid().mean = 0.0444\n",
      "[STDOUT] [DEBUG] Head 2 | iou.min=0.0109, iou.max=0.8832, iou.mean=0.1879\n",
      "[STDOUT] [DEBUG] Head 2 | ps[..., 4].sigmoid().mean = 0.0026\n",
      "[STDOUT] \n",
      "[STDOUT] Class      Images      Labels           P           R      mAP@.5  mAP@.5:.95:  20%|██        | 1/5 [00:00<00:02,  1.68it/s][DEBUG] Head 0 | iou.min=0.0025, iou.max=0.9334, iou.mean=0.2008\n",
      "[STDOUT] [DEBUG] Head 0 | ps[..., 4].sigmoid().mean = 0.0056\n",
      "[STDOUT] [DEBUG] Head 1 | iou.min=-0.2020, iou.max=0.9139, iou.mean=0.4545\n",
      "[STDOUT] [DEBUG] Head 1 | ps[..., 4].sigmoid().mean = 0.0239\n",
      "[STDOUT] [DEBUG] Head 2 | iou.min=-0.3899, iou.max=0.8684, iou.mean=0.2723\n",
      "[STDOUT] [DEBUG] Head 2 | ps[..., 4].sigmoid().mean = 0.0029\n",
      "[STDOUT] \n",
      "[STDOUT] Class      Images      Labels           P           R      mAP@.5  mAP@.5:.95:  40%|████      | 2/5 [00:01<00:01,  1.64it/s][DEBUG] Head 0 | iou.min=-0.0106, iou.max=0.9097, iou.mean=0.3345\n",
      "[STDOUT] [DEBUG] Head 0 | ps[..., 4].sigmoid().mean = 0.0154\n",
      "[STDOUT] [DEBUG] Head 1 | iou.min=-0.3507, iou.max=0.9568, iou.mean=0.2558\n",
      "[STDOUT] [DEBUG] Head 1 | ps[..., 4].sigmoid().mean = 0.0208\n",
      "[STDOUT] [DEBUG] Head 2 | iou.min=-0.5023, iou.max=0.8726, iou.mean=0.1643\n",
      "[STDOUT] [DEBUG] Head 2 | ps[..., 4].sigmoid().mean = 0.0027\n",
      "[STDOUT] \n",
      "[STDOUT] Class      Images      Labels           P           R      mAP@.5  mAP@.5:.95:  60%|██████    | 3/5 [00:01<00:01,  1.53it/s][DEBUG] Head 0 | iou.min=-0.0091, iou.max=0.9076, iou.mean=0.3615\n",
      "[STDOUT] [DEBUG] Head 0 | ps[..., 4].sigmoid().mean = 0.0030\n",
      "[STDOUT] [DEBUG] Head 1 | iou.min=-0.1284, iou.max=0.9325, iou.mean=0.4472\n",
      "[STDOUT] [DEBUG] Head 1 | ps[..., 4].sigmoid().mean = 0.0157\n",
      "[STDOUT] [DEBUG] Head 2 | iou.min=-0.3925, iou.max=0.8435, iou.mean=0.1284\n",
      "[STDOUT] [DEBUG] Head 2 | ps[..., 4].sigmoid().mean = 0.0017\n",
      "[STDOUT] \n",
      "[STDOUT] Class      Images      Labels           P           R      mAP@.5  mAP@.5:.95:  80%|████████  | 4/5 [00:02<00:00,  1.50it/s][DEBUG] Head 0 | iou.min=0.0264, iou.max=0.6322, iou.mean=0.3002\n",
      "[STDOUT] [DEBUG] Head 0 | ps[..., 4].sigmoid().mean = 0.0025\n",
      "[STDOUT] [DEBUG] Head 1 | iou.min=0.2995, iou.max=0.8978, iou.mean=0.6109\n",
      "[STDOUT] [DEBUG] Head 1 | ps[..., 4].sigmoid().mean = 0.0164\n",
      "[STDOUT] [DEBUG] Head 2 | iou.min=0.0098, iou.max=0.1369, iou.mean=0.0396\n",
      "[STDOUT] [DEBUG] Head 2 | ps[..., 4].sigmoid().mean = 0.0015\n",
      "[STDOUT] \n",
      "[STDOUT] Class      Images      Labels           P           R      mAP@.5  mAP@.5:.95: 100%|██████████| 5/5 [00:02<00:00,  1.88it/s]\n",
      "[STDOUT] all         130         736       0.368      0.0491      0.0375      0.0133\n",
      "[STDOUT] OaohRepConv act_learn weight: 0.800\n",
      "[STDOUT] OaohRepConv act_learn weight: 0.800\n",
      "[STDOUT] OaohRepConv act_learn weight: 0.800\n",
      "[STDOUT] OaohRepConv act_learn weight: 0.800\n",
      "[STDOUT] OaohRepConv act_learn weight: 0.800\n",
      "[STDOUT] OaohRepConv act_learn weight: 0.800\n",
      "[STDOUT] OaohRepConv act_learn weight: 0.800\n",
      "[STDOUT] OaohRepConv act_learn weight: 0.800\n",
      "[STDOUT] OaohRepConv act_learn weight: 0.800\n",
      "[STDOUT] OaohRepConv act_learn weight: 0.800\n",
      "[STDOUT] OaohRepConv act_learn weight: 0.800\n",
      "[STDOUT] OaohRepConv act_learn weight: 0.800\n",
      "[STDOUT] OaohRepConv act_learn weight: 0.800\n",
      "[STDOUT] OaohRepConv act_learn weight: 0.800\n",
      "[STDOUT] OaohRepConv act_learn weight: 0.800\n",
      "[STDOUT] OaohRepConv act_learn weight: 0.800\n",
      "[STDOUT] OaohRepConv act_learn weight: 0.800\n",
      "[STDOUT] \n",
      "[STDOUT] Epoch   gpu_mem       box       obj       cls     total    labels  img_size\n",
      "[STDOUT] \n",
      "[STDOUT] 0%|          | 0/25 [00:00<?, ?it/s]\n",
      "[STDOUT] 24/29       12G   0.05413   0.02382   0.01505     0.093       176       640:   0%|          | 0/25 [00:01<?, ?it/s][TRAINING]      24/29       12G   0.05413   0.02382   0.01505     0.093       176       640\n",
      "[STDOUT] \n",
      "[STDOUT] 24/29       12G   0.05413   0.02382   0.01505     0.093       176       640:   4%|▍         | 1/25 [00:01<00:47,  1.98s/it]\n",
      "[STDOUT] 24/29       12G   0.05499   0.02924   0.01687    0.1011       311       640:   4%|▍         | 1/25 [00:03<00:47,  1.98s/it]\n",
      "[STDOUT] 24/29       12G   0.05499   0.02924   0.01687    0.1011       311       640:   8%|▊         | 2/25 [00:03<00:43,  1.91s/it]\n",
      "[STDOUT] 24/29       12G   0.05638   0.02879   0.01696    0.1021       260       640:   8%|▊         | 2/25 [00:05<00:43,  1.91s/it]\n",
      "[STDOUT] 24/29       12G   0.05638   0.02879   0.01696    0.1021       260       640:  12%|█▏        | 3/25 [00:05<00:39,  1.79s/it]\n",
      "[STDOUT] 24/29       12G   0.05566   0.02576   0.01781   0.09922       145       640:  12%|█▏        | 3/25 [00:07<00:39,  1.79s/it]\n",
      "[STDOUT] 24/29       12G   0.05566   0.02576   0.01781   0.09922       145       640:  16%|█▌        | 4/25 [00:07<00:35,  1.71s/it]\n",
      "[STDOUT] 24/29       12G   0.05567   0.02529   0.01721   0.09817       197       640:  16%|█▌        | 4/25 [00:08<00:35,  1.71s/it]\n",
      "[STDOUT] 24/29       12G   0.05567   0.02529   0.01721   0.09817       197       640:  20%|██        | 5/25 [00:08<00:34,  1.71s/it]\n",
      "[STDOUT] 24/29       12G   0.05541   0.02572   0.01731   0.09844       187       640:  20%|██        | 5/25 [00:10<00:34,  1.71s/it]\n",
      "[STDOUT] 24/29       12G   0.05541   0.02572   0.01731   0.09844       187       640:  24%|██▍       | 6/25 [00:10<00:31,  1.68s/it]\n",
      "[STDOUT] 24/29       12G   0.05609   0.02475   0.01708   0.09793       177       640:  24%|██▍       | 6/25 [00:12<00:31,  1.68s/it]\n",
      "[STDOUT] 24/29       12G   0.05609   0.02475   0.01708   0.09793       177       640:  28%|██▊       | 7/25 [00:12<00:30,  1.68s/it]\n",
      "[STDOUT] 24/29       12G   0.05595   0.02456   0.01621   0.09671       185       640:  28%|██▊       | 7/25 [00:13<00:30,  1.68s/it]\n",
      "[STDOUT] 24/29       12G   0.05595   0.02456   0.01621   0.09671       185       640:  32%|███▏      | 8/25 [00:13<00:28,  1.66s/it]\n",
      "[STDOUT] 24/29       12G   0.05615   0.02405   0.01565   0.09585       161       640:  32%|███▏      | 8/25 [00:15<00:28,  1.66s/it]\n",
      "[STDOUT] 24/29       12G   0.05615   0.02405   0.01565   0.09585       161       640:  36%|███▌      | 9/25 [00:15<00:26,  1.68s/it]\n",
      "[STDOUT] 24/29       12G   0.05574   0.02402   0.01537   0.09513       167       640:  36%|███▌      | 9/25 [00:17<00:26,  1.68s/it]\n",
      "[STDOUT] 24/29       12G   0.05574   0.02402   0.01537   0.09513       167       640:  40%|████      | 10/25 [00:17<00:25,  1.68s/it]\n",
      "[STDOUT] 24/29       12G   0.05609     0.024   0.01597   0.09605       134       640:  40%|████      | 10/25 [00:18<00:25,  1.68s/it][TRAINING]      24/29       12G   0.05609     0.024   0.01597   0.09605       134       640\n",
      "[STDOUT] \n",
      "[STDOUT] 24/29       12G   0.05609     0.024   0.01597   0.09605       134       640:  44%|████▍     | 11/25 [00:18<00:24,  1.72s/it]\n",
      "[STDOUT] 24/29       12G   0.05581   0.02469   0.01534   0.09584       283       640:  44%|████▍     | 11/25 [00:20<00:24,  1.72s/it]\n",
      "[STDOUT] 24/29       12G   0.05581   0.02469   0.01534   0.09584       283       640:  48%|████▊     | 12/25 [00:20<00:23,  1.77s/it]\n",
      "[STDOUT] 24/29       12G   0.05599   0.02505   0.01517   0.09621       270       640:  48%|████▊     | 12/25 [00:22<00:23,  1.77s/it]\n",
      "[STDOUT] 24/29       12G   0.05599   0.02505   0.01517   0.09621       270       640:  52%|█████▏    | 13/25 [00:22<00:20,  1.74s/it]\n",
      "[STDOUT] 24/29       12G   0.05604   0.02491   0.01492   0.09587       237       640:  52%|█████▏    | 13/25 [00:24<00:20,  1.74s/it]\n",
      "[STDOUT] 24/29       12G   0.05604   0.02491   0.01492   0.09587       237       640:  56%|█████▌    | 14/25 [00:24<00:18,  1.69s/it]\n",
      "[STDOUT] 24/29       12G   0.05619   0.02433   0.01475   0.09527       216       640:  56%|█████▌    | 14/25 [00:25<00:18,  1.69s/it]\n",
      "[STDOUT] 24/29       12G   0.05619   0.02433   0.01475   0.09527       216       640:  60%|██████    | 15/25 [00:25<00:16,  1.66s/it]\n",
      "[STDOUT] 24/29       12G   0.05631    0.0239   0.01468   0.09489       175       640:  60%|██████    | 15/25 [00:27<00:16,  1.66s/it]\n",
      "[STDOUT] 24/29       12G   0.05631    0.0239   0.01468   0.09489       175       640:  64%|██████▍   | 16/25 [00:27<00:14,  1.60s/it]\n",
      "[STDOUT] 24/29       12G   0.05637   0.02385   0.01461   0.09483       250       640:  64%|██████▍   | 16/25 [00:28<00:14,  1.60s/it]\n",
      "[STDOUT] 24/29       12G   0.05637   0.02385   0.01461   0.09483       250       640:  68%|██████▊   | 17/25 [00:28<00:13,  1.67s/it]\n",
      "[STDOUT] 24/29       12G   0.05642   0.02351   0.01461   0.09455       165       640:  68%|██████▊   | 17/25 [00:30<00:13,  1.67s/it]\n",
      "[STDOUT] 24/29       12G   0.05642   0.02351   0.01461   0.09455       165       640:  72%|███████▏  | 18/25 [00:30<00:11,  1.62s/it]\n",
      "[STDOUT] 24/29       12G   0.05614   0.02367   0.01443   0.09424       257       640:  72%|███████▏  | 18/25 [00:32<00:11,  1.62s/it]\n",
      "[STDOUT] 24/29       12G   0.05614   0.02367   0.01443   0.09424       257       640:  76%|███████▌  | 19/25 [00:32<00:09,  1.63s/it]\n",
      "[STDOUT] 24/29       12G     0.056   0.02346   0.01424   0.09371       148       640:  76%|███████▌  | 19/25 [00:33<00:09,  1.63s/it]\n",
      "[STDOUT] 24/29       12G     0.056   0.02346   0.01424   0.09371       148       640:  80%|████████  | 20/25 [00:33<00:07,  1.58s/it]\n",
      "[STDOUT] 24/29       12G   0.05618   0.02305   0.01443   0.09367       146       640:  80%|████████  | 20/25 [00:35<00:07,  1.58s/it][TRAINING]      24/29       12G   0.05618   0.02305   0.01443   0.09367       146       640\n",
      "[STDOUT] \n",
      "[STDOUT] 24/29       12G   0.05618   0.02305   0.01443   0.09367       146       640:  84%|████████▍ | 21/25 [00:35<00:06,  1.59s/it]\n",
      "[STDOUT] 24/29       12G   0.05652   0.02317   0.01445   0.09414       251       640:  84%|████████▍ | 21/25 [00:36<00:06,  1.59s/it]\n",
      "[STDOUT] 24/29       12G   0.05652   0.02317   0.01445   0.09414       251       640:  88%|████████▊ | 22/25 [00:36<00:04,  1.61s/it]\n",
      "[STDOUT] 24/29       12G   0.05652   0.02329   0.01426   0.09406       229       640:  88%|████████▊ | 22/25 [00:38<00:04,  1.61s/it]\n",
      "[STDOUT] 24/29       12G   0.05652   0.02329   0.01426   0.09406       229       640:  92%|█████████▏| 23/25 [00:38<00:03,  1.63s/it]\n",
      "[STDOUT] 24/29       12G   0.05659    0.0231   0.01423   0.09391       173       640:  92%|█████████▏| 23/25 [00:39<00:03,  1.63s/it]\n",
      "[STDOUT] 24/29       12G   0.05659    0.0231   0.01423   0.09391       173       640:  96%|█████████▌| 24/25 [00:39<00:01,  1.57s/it]\n",
      "[STDOUT] 24/29       12G   0.05633   0.02354     0.014   0.09387       114       640:  96%|█████████▌| 24/25 [00:40<00:01,  1.57s/it]\n",
      "[STDOUT] 24/29       12G   0.05633   0.02354     0.014   0.09387       114       640: 100%|██████████| 25/25 [00:40<00:00,  1.30s/it]\n",
      "[STDOUT] 24/29       12G   0.05633   0.02354     0.014   0.09387       114       640: 100%|██████████| 25/25 [00:40<00:00,  1.63s/it]\n",
      "[STDOUT] \n",
      "[STDOUT] Class      Images      Labels           P           R      mAP@.5  mAP@.5:.95:   0%|          | 0/5 [00:00<?, ?it/s][DEBUG] Head 0 | iou.min=0.0061, iou.max=0.8897, iou.mean=0.3277\n",
      "[STDOUT] [DEBUG] Head 0 | ps[..., 4].sigmoid().mean = 0.0222\n",
      "[STDOUT] [DEBUG] Head 1 | iou.min=-0.0948, iou.max=0.9356, iou.mean=0.4940\n",
      "[STDOUT] [DEBUG] Head 1 | ps[..., 4].sigmoid().mean = 0.2242\n",
      "[STDOUT] [DEBUG] Head 2 | iou.min=-0.2705, iou.max=0.8630, iou.mean=0.1881\n",
      "[STDOUT] [DEBUG] Head 2 | ps[..., 4].sigmoid().mean = 0.0031\n",
      "[STDOUT] \n",
      "[STDOUT] Class      Images      Labels           P           R      mAP@.5  mAP@.5:.95:  20%|██        | 1/5 [00:00<00:02,  1.54it/s][DEBUG] Head 0 | iou.min=0.0041, iou.max=0.8962, iou.mean=0.2036\n",
      "[STDOUT] [DEBUG] Head 0 | ps[..., 4].sigmoid().mean = 0.0170\n",
      "[STDOUT] [DEBUG] Head 1 | iou.min=0.0293, iou.max=0.9696, iou.mean=0.4671\n",
      "[STDOUT] [DEBUG] Head 1 | ps[..., 4].sigmoid().mean = 0.2380\n",
      "[STDOUT] [DEBUG] Head 2 | iou.min=-0.1372, iou.max=0.8231, iou.mean=0.2584\n",
      "[STDOUT] [DEBUG] Head 2 | ps[..., 4].sigmoid().mean = 0.0032\n",
      "[STDOUT] \n",
      "[STDOUT] Class      Images      Labels           P           R      mAP@.5  mAP@.5:.95:  40%|████      | 2/5 [00:01<00:02,  1.49it/s][DEBUG] Head 0 | iou.min=-0.0013, iou.max=0.9120, iou.mean=0.3757\n",
      "[STDOUT] [DEBUG] Head 0 | ps[..., 4].sigmoid().mean = 0.0251\n",
      "[STDOUT] [DEBUG] Head 1 | iou.min=-0.1915, iou.max=0.9471, iou.mean=0.3730\n",
      "[STDOUT] [DEBUG] Head 1 | ps[..., 4].sigmoid().mean = 0.1744\n",
      "[STDOUT] [DEBUG] Head 2 | iou.min=-0.2619, iou.max=0.8666, iou.mean=0.1830\n",
      "[STDOUT] [DEBUG] Head 2 | ps[..., 4].sigmoid().mean = 0.0030\n",
      "[STDOUT] \n",
      "[STDOUT] Class      Images      Labels           P           R      mAP@.5  mAP@.5:.95:  60%|██████    | 3/5 [00:02<00:01,  1.42it/s][DEBUG] Head 0 | iou.min=0.0068, iou.max=0.9343, iou.mean=0.3673\n",
      "[STDOUT] [DEBUG] Head 0 | ps[..., 4].sigmoid().mean = 0.0441\n",
      "[STDOUT] [DEBUG] Head 1 | iou.min=-0.1640, iou.max=0.9424, iou.mean=0.4759\n",
      "[STDOUT] [DEBUG] Head 1 | ps[..., 4].sigmoid().mean = 0.1261\n",
      "[STDOUT] [DEBUG] Head 2 | iou.min=0.0082, iou.max=0.8379, iou.mean=0.1426\n",
      "[STDOUT] [DEBUG] Head 2 | ps[..., 4].sigmoid().mean = 0.0030\n",
      "[STDOUT] \n",
      "[STDOUT] Class      Images      Labels           P           R      mAP@.5  mAP@.5:.95:  80%|████████  | 4/5 [00:02<00:00,  1.39it/s][DEBUG] Head 0 | iou.min=0.0772, iou.max=0.7099, iou.mean=0.3581\n",
      "[STDOUT] [DEBUG] Head 0 | ps[..., 4].sigmoid().mean = 0.0145\n",
      "[STDOUT] [DEBUG] Head 1 | iou.min=0.3356, iou.max=0.8763, iou.mean=0.6036\n",
      "[STDOUT] [DEBUG] Head 1 | ps[..., 4].sigmoid().mean = 0.1908\n",
      "[STDOUT] [DEBUG] Head 2 | iou.min=0.0214, iou.max=0.1235, iou.mean=0.0571\n",
      "[STDOUT] [DEBUG] Head 2 | ps[..., 4].sigmoid().mean = 0.0022\n",
      "[STDOUT] \n",
      "[STDOUT] Class      Images      Labels           P           R      mAP@.5  mAP@.5:.95: 100%|██████████| 5/5 [00:02<00:00,  1.74it/s]\n",
      "[STDOUT] all         130         736       0.427       0.182       0.146      0.0528\n",
      "[STDOUT] OaohRepConv act_learn weight: 0.833\n",
      "[STDOUT] OaohRepConv act_learn weight: 0.833\n",
      "[STDOUT] OaohRepConv act_learn weight: 0.833\n",
      "[STDOUT] OaohRepConv act_learn weight: 0.833\n",
      "[STDOUT] OaohRepConv act_learn weight: 0.833\n",
      "[STDOUT] OaohRepConv act_learn weight: 0.833\n",
      "[STDOUT] OaohRepConv act_learn weight: 0.833\n",
      "[STDOUT] OaohRepConv act_learn weight: 0.833\n",
      "[STDOUT] OaohRepConv act_learn weight: 0.833\n",
      "[STDOUT] OaohRepConv act_learn weight: 0.833\n",
      "[STDOUT] OaohRepConv act_learn weight: 0.833\n",
      "[STDOUT] OaohRepConv act_learn weight: 0.833\n",
      "[STDOUT] OaohRepConv act_learn weight: 0.833\n",
      "[STDOUT] OaohRepConv act_learn weight: 0.833\n",
      "[STDOUT] OaohRepConv act_learn weight: 0.833\n",
      "[STDOUT] OaohRepConv act_learn weight: 0.833\n",
      "[STDOUT] OaohRepConv act_learn weight: 0.833\n",
      "[STDOUT] \n",
      "[STDOUT] Epoch   gpu_mem       box       obj       cls     total    labels  img_size\n",
      "[STDOUT] \n",
      "[STDOUT] 0%|          | 0/25 [00:00<?, ?it/s]\n",
      "[STDOUT] 25/29       12G    0.0551   0.02398   0.01003   0.08911       228       640:   0%|          | 0/25 [00:01<?, ?it/s][TRAINING]      25/29       12G    0.0551   0.02398   0.01003   0.08911       228       640\n",
      "[STDOUT] \n",
      "[STDOUT] 25/29       12G    0.0551   0.02398   0.01003   0.08911       228       640:   4%|▍         | 1/25 [00:01<00:46,  1.93s/it]\n",
      "[STDOUT] 25/29       12G   0.05403   0.02914   0.01133   0.09449       282       640:   4%|▍         | 1/25 [00:03<00:46,  1.93s/it]\n",
      "[STDOUT] 25/29       12G   0.05403   0.02914   0.01133   0.09449       282       640:   8%|▊         | 2/25 [00:03<00:41,  1.82s/it]\n",
      "[STDOUT] 25/29       12G    0.0561   0.02832   0.01257   0.09699       238       640:   8%|▊         | 2/25 [00:05<00:41,  1.82s/it]\n",
      "[STDOUT] 25/29       12G    0.0561   0.02832   0.01257   0.09699       238       640:  12%|█▏        | 3/25 [00:05<00:41,  1.89s/it]\n",
      "[STDOUT] 25/29       12G   0.05693   0.02867    0.0133    0.0989       333       640:  12%|█▏        | 3/25 [00:07<00:41,  1.89s/it]\n",
      "[STDOUT] 25/29       12G   0.05693   0.02867    0.0133    0.0989       333       640:  16%|█▌        | 4/25 [00:07<00:41,  1.99s/it]\n",
      "[STDOUT] 25/29       12G   0.05763   0.02671   0.01442   0.09876       147       640:  16%|█▌        | 4/25 [00:09<00:41,  1.99s/it]\n",
      "[STDOUT] 25/29       12G   0.05763   0.02671   0.01442   0.09876       147       640:  20%|██        | 5/25 [00:09<00:36,  1.85s/it]\n",
      "[STDOUT] 25/29       12G   0.05782   0.02731   0.01555    0.1007       225       640:  20%|██        | 5/25 [00:11<00:36,  1.85s/it]\n",
      "[STDOUT] 25/29       12G   0.05782   0.02731   0.01555    0.1007       225       640:  24%|██▍       | 6/25 [00:11<00:35,  1.88s/it]\n",
      "[STDOUT] 25/29       12G   0.05762   0.02733   0.01537    0.1003       252       640:  24%|██▍       | 6/25 [00:13<00:35,  1.88s/it]\n",
      "[STDOUT] 25/29       12G   0.05762   0.02733   0.01537    0.1003       252       640:  28%|██▊       | 7/25 [00:13<00:32,  1.81s/it]\n",
      "[STDOUT] 25/29       12G   0.05786   0.02685   0.01587    0.1006       178       640:  28%|██▊       | 7/25 [00:14<00:32,  1.81s/it]\n",
      "[STDOUT] 25/29       12G   0.05786   0.02685   0.01587    0.1006       178       640:  32%|███▏      | 8/25 [00:14<00:30,  1.80s/it]\n",
      "[STDOUT] 25/29       12G   0.05746   0.02572   0.01544   0.09862       108       640:  32%|███▏      | 8/25 [00:16<00:30,  1.80s/it]\n",
      "[STDOUT] 25/29       12G   0.05746   0.02572   0.01544   0.09862       108       640:  36%|███▌      | 9/25 [00:16<00:27,  1.72s/it]\n",
      "[STDOUT] 25/29       12G   0.05716   0.02644   0.01546   0.09906       317       640:  36%|███▌      | 9/25 [00:18<00:27,  1.72s/it]\n",
      "[STDOUT] 25/29       12G   0.05716   0.02644   0.01546   0.09906       317       640:  40%|████      | 10/25 [00:18<00:25,  1.72s/it]\n",
      "[STDOUT] 25/29       12G   0.05716   0.02645   0.01489   0.09849       249       640:  40%|████      | 10/25 [00:19<00:25,  1.72s/it][TRAINING]      25/29       12G   0.05716   0.02645   0.01489   0.09849       249       640\n",
      "[STDOUT] \n",
      "[STDOUT] 25/29       12G   0.05716   0.02645   0.01489   0.09849       249       640:  44%|████▍     | 11/25 [00:19<00:23,  1.68s/it]\n",
      "[STDOUT] 25/29       12G   0.05713   0.02661   0.01459   0.09832       241       640:  44%|████▍     | 11/25 [00:21<00:23,  1.68s/it]\n",
      "[STDOUT] 25/29       12G   0.05713   0.02661   0.01459   0.09832       241       640:  48%|████▊     | 12/25 [00:21<00:21,  1.68s/it]\n",
      "[STDOUT] 25/29       12G   0.05724   0.02667   0.01485   0.09875       212       640:  48%|████▊     | 12/25 [00:22<00:21,  1.68s/it]\n",
      "[STDOUT] 25/29       12G   0.05724   0.02667   0.01485   0.09875       212       640:  52%|█████▏    | 13/25 [00:22<00:19,  1.65s/it]\n",
      "[STDOUT] 25/29       12G   0.05738   0.02636   0.01485   0.09858       175       640:  52%|█████▏    | 13/25 [00:24<00:19,  1.65s/it]\n",
      "[STDOUT] 25/29       12G   0.05738   0.02636   0.01485   0.09858       175       640:  56%|█████▌    | 14/25 [00:24<00:18,  1.64s/it]\n",
      "[STDOUT] 25/29       12G   0.05694   0.02564   0.01445   0.09703       176       640:  56%|█████▌    | 14/25 [00:26<00:18,  1.64s/it]\n",
      "[STDOUT] 25/29       12G   0.05694   0.02564   0.01445   0.09703       176       640:  60%|██████    | 15/25 [00:26<00:16,  1.61s/it]\n",
      "[STDOUT] 25/29       12G   0.05696   0.02532   0.01458   0.09686       141       640:  60%|██████    | 15/25 [00:27<00:16,  1.61s/it]\n",
      "[STDOUT] 25/29       12G   0.05696   0.02532   0.01458   0.09686       141       640:  64%|██████▍   | 16/25 [00:27<00:13,  1.52s/it]\n",
      "[STDOUT] 25/29       12G   0.05701   0.02519   0.01477   0.09696       214       640:  64%|██████▍   | 16/25 [00:28<00:13,  1.52s/it]\n",
      "[STDOUT] 25/29       12G   0.05701   0.02519   0.01477   0.09696       214       640:  68%|██████▊   | 17/25 [00:28<00:12,  1.53s/it]\n",
      "[STDOUT] 25/29       12G   0.05678   0.02499   0.01448   0.09625       178       640:  68%|██████▊   | 17/25 [00:30<00:12,  1.53s/it]\n",
      "[STDOUT] 25/29       12G   0.05678   0.02499   0.01448   0.09625       178       640:  72%|███████▏  | 18/25 [00:30<00:10,  1.54s/it]\n",
      "[STDOUT] 25/29       12G   0.05697   0.02504    0.0144   0.09641       256       640:  72%|███████▏  | 18/25 [00:32<00:10,  1.54s/it]\n",
      "[STDOUT] 25/29       12G   0.05697   0.02504    0.0144   0.09641       256       640:  76%|███████▌  | 19/25 [00:32<00:09,  1.54s/it]\n",
      "[STDOUT] 25/29       12G   0.05686   0.02504   0.01426   0.09616       176       640:  76%|███████▌  | 19/25 [00:33<00:09,  1.54s/it]\n",
      "[STDOUT] 25/29       12G   0.05686   0.02504   0.01426   0.09616       176       640:  80%|████████  | 20/25 [00:33<00:07,  1.53s/it]\n",
      "[STDOUT] 25/29       12G   0.05696   0.02512   0.01441    0.0965       223       640:  80%|████████  | 20/25 [00:35<00:07,  1.53s/it][TRAINING]      25/29       12G   0.05696   0.02512   0.01441    0.0965       223       640\n",
      "[STDOUT] \n",
      "[STDOUT] 25/29       12G   0.05696   0.02512   0.01441    0.0965       223       640:  84%|████████▍ | 21/25 [00:35<00:06,  1.54s/it]\n",
      "[STDOUT] 25/29       12G   0.05663   0.02506   0.01421   0.09589       168       640:  84%|████████▍ | 21/25 [00:36<00:06,  1.54s/it]\n",
      "[STDOUT] 25/29       12G   0.05663   0.02506   0.01421   0.09589       168       640:  88%|████████▊ | 22/25 [00:36<00:04,  1.56s/it]\n",
      "[STDOUT] 25/29       12G   0.05676   0.02498   0.01401   0.09575       227       640:  88%|████████▊ | 22/25 [00:38<00:04,  1.56s/it]\n",
      "[STDOUT] 25/29       12G   0.05676   0.02498   0.01401   0.09575       227       640:  92%|█████████▏| 23/25 [00:38<00:03,  1.58s/it]\n",
      "[STDOUT] 25/29       12G    0.0568    0.0252   0.01387   0.09587       285       640:  92%|█████████▏| 23/25 [00:40<00:03,  1.58s/it]\n",
      "[STDOUT] 25/29       12G    0.0568    0.0252   0.01387   0.09587       285       640:  96%|█████████▌| 24/25 [00:40<00:01,  1.64s/it]\n",
      "[STDOUT] 25/29       12G   0.05709   0.02505   0.01396    0.0961        81       640:  96%|█████████▌| 24/25 [00:40<00:01,  1.64s/it]\n",
      "[STDOUT] 25/29       12G   0.05709   0.02505   0.01396    0.0961        81       640: 100%|██████████| 25/25 [00:40<00:00,  1.30s/it]\n",
      "[STDOUT] 25/29       12G   0.05709   0.02505   0.01396    0.0961        81       640: 100%|██████████| 25/25 [00:40<00:00,  1.62s/it]\n",
      "[STDOUT] \n",
      "[STDOUT] Class      Images      Labels           P           R      mAP@.5  mAP@.5:.95:   0%|          | 0/5 [00:00<?, ?it/s][DEBUG] Head 0 | iou.min=0.0127, iou.max=0.9239, iou.mean=0.4502\n",
      "[STDOUT] [DEBUG] Head 0 | ps[..., 4].sigmoid().mean = 0.0183\n",
      "[STDOUT] [DEBUG] Head 1 | iou.min=0.0339, iou.max=0.9593, iou.mean=0.5415\n",
      "[STDOUT] [DEBUG] Head 1 | ps[..., 4].sigmoid().mean = 0.1441\n",
      "[STDOUT] [DEBUG] Head 2 | iou.min=0.0115, iou.max=0.8748, iou.mean=0.2155\n",
      "[STDOUT] [DEBUG] Head 2 | ps[..., 4].sigmoid().mean = 0.0018\n",
      "[STDOUT] \n",
      "[STDOUT] Class      Images      Labels           P           R      mAP@.5  mAP@.5:.95:  20%|██        | 1/5 [00:00<00:02,  1.56it/s][DEBUG] Head 0 | iou.min=0.0052, iou.max=0.8637, iou.mean=0.2858\n",
      "[STDOUT] [DEBUG] Head 0 | ps[..., 4].sigmoid().mean = 0.0074\n",
      "[STDOUT] [DEBUG] Head 1 | iou.min=0.0286, iou.max=0.9531, iou.mean=0.5365\n",
      "[STDOUT] [DEBUG] Head 1 | ps[..., 4].sigmoid().mean = 0.0972\n",
      "[STDOUT] [DEBUG] Head 2 | iou.min=0.0410, iou.max=0.8374, iou.mean=0.3044\n",
      "[STDOUT] [DEBUG] Head 2 | ps[..., 4].sigmoid().mean = 0.0019\n",
      "[STDOUT] \n",
      "[STDOUT] Class      Images      Labels           P           R      mAP@.5  mAP@.5:.95:  40%|████      | 2/5 [00:01<00:01,  1.55it/s][DEBUG] Head 0 | iou.min=0.0010, iou.max=0.9047, iou.mean=0.3914\n",
      "[STDOUT] [DEBUG] Head 0 | ps[..., 4].sigmoid().mean = 0.0255\n",
      "[STDOUT] [DEBUG] Head 1 | iou.min=-0.0195, iou.max=0.9271, iou.mean=0.3557\n",
      "[STDOUT] [DEBUG] Head 1 | ps[..., 4].sigmoid().mean = 0.0594\n",
      "[STDOUT] [DEBUG] Head 2 | iou.min=0.0156, iou.max=0.8965, iou.mean=0.2112\n",
      "[STDOUT] [DEBUG] Head 2 | ps[..., 4].sigmoid().mean = 0.0016\n",
      "[STDOUT] \n",
      "[STDOUT] Class      Images      Labels           P           R      mAP@.5  mAP@.5:.95:  60%|██████    | 3/5 [00:02<00:01,  1.47it/s][DEBUG] Head 0 | iou.min=0.0240, iou.max=0.9122, iou.mean=0.4920\n",
      "[STDOUT] [DEBUG] Head 0 | ps[..., 4].sigmoid().mean = 0.0273\n",
      "[STDOUT] [DEBUG] Head 1 | iou.min=0.0098, iou.max=0.8995, iou.mean=0.4505\n",
      "[STDOUT] [DEBUG] Head 1 | ps[..., 4].sigmoid().mean = 0.1111\n",
      "[STDOUT] [DEBUG] Head 2 | iou.min=0.0041, iou.max=0.8831, iou.mean=0.1564\n",
      "[STDOUT] [DEBUG] Head 2 | ps[..., 4].sigmoid().mean = 0.0022\n",
      "[STDOUT] \n",
      "[STDOUT] Class      Images      Labels           P           R      mAP@.5  mAP@.5:.95:  80%|████████  | 4/5 [00:02<00:00,  1.43it/s][DEBUG] Head 0 | iou.min=0.0942, iou.max=0.8210, iou.mean=0.4016\n",
      "[STDOUT] [DEBUG] Head 0 | ps[..., 4].sigmoid().mean = 0.0039\n",
      "[STDOUT] [DEBUG] Head 1 | iou.min=0.2268, iou.max=0.9000, iou.mean=0.6195\n",
      "[STDOUT] [DEBUG] Head 1 | ps[..., 4].sigmoid().mean = 0.0447\n",
      "[STDOUT] [DEBUG] Head 2 | iou.min=0.0331, iou.max=0.1165, iou.mean=0.0651\n",
      "[STDOUT] [DEBUG] Head 2 | ps[..., 4].sigmoid().mean = 0.0019\n",
      "[STDOUT] \n",
      "[STDOUT] Class      Images      Labels           P           R      mAP@.5  mAP@.5:.95: 100%|██████████| 5/5 [00:02<00:00,  1.79it/s]\n",
      "[STDOUT] all         130         736       0.328       0.188       0.167      0.0762\n",
      "[STDOUT] OaohRepConv act_learn weight: 0.867\n",
      "[STDOUT] OaohRepConv act_learn weight: 0.867\n",
      "[STDOUT] OaohRepConv act_learn weight: 0.867\n",
      "[STDOUT] OaohRepConv act_learn weight: 0.867\n",
      "[STDOUT] OaohRepConv act_learn weight: 0.867\n",
      "[STDOUT] OaohRepConv act_learn weight: 0.867\n",
      "[STDOUT] OaohRepConv act_learn weight: 0.867\n",
      "[STDOUT] OaohRepConv act_learn weight: 0.867\n",
      "[STDOUT] OaohRepConv act_learn weight: 0.867\n",
      "[STDOUT] OaohRepConv act_learn weight: 0.867\n",
      "[STDOUT] OaohRepConv act_learn weight: 0.867\n",
      "[STDOUT] OaohRepConv act_learn weight: 0.867\n",
      "[STDOUT] OaohRepConv act_learn weight: 0.867\n",
      "[STDOUT] OaohRepConv act_learn weight: 0.867\n",
      "[STDOUT] OaohRepConv act_learn weight: 0.867\n",
      "[STDOUT] OaohRepConv act_learn weight: 0.867\n",
      "[STDOUT] OaohRepConv act_learn weight: 0.867\n",
      "[STDOUT] \n",
      "[STDOUT] Epoch   gpu_mem       box       obj       cls     total    labels  img_size\n",
      "[STDOUT] \n",
      "[STDOUT] 0%|          | 0/25 [00:00<?, ?it/s]\n",
      "[STDOUT] 26/29       12G   0.04953   0.02039   0.01954   0.08946       169       640:   0%|          | 0/25 [00:01<?, ?it/s][TRAINING]      26/29       12G   0.04953   0.02039   0.01954   0.08946       169       640\n",
      "[STDOUT] \n",
      "[STDOUT] 26/29       12G   0.04953   0.02039   0.01954   0.08946       169       640:   4%|▍         | 1/25 [00:01<00:42,  1.75s/it]\n",
      "[STDOUT] 26/29       12G   0.05348   0.02411   0.01668   0.09427       308       640:   4%|▍         | 1/25 [00:03<00:42,  1.75s/it]\n",
      "[STDOUT] 26/29       12G   0.05348   0.02411   0.01668   0.09427       308       640:   8%|▊         | 2/25 [00:03<00:42,  1.86s/it]\n",
      "[STDOUT] 26/29       12G    0.0523   0.02501   0.01497   0.09228       202       640:   8%|▊         | 2/25 [00:05<00:42,  1.86s/it]\n",
      "[STDOUT] 26/29       12G    0.0523   0.02501   0.01497   0.09228       202       640:  12%|█▏        | 3/25 [00:05<00:40,  1.82s/it]\n",
      "[STDOUT] 26/29       12G   0.05188    0.0233    0.0145   0.08968       148       640:  12%|█▏        | 3/25 [00:06<00:40,  1.82s/it]\n",
      "[STDOUT] 26/29       12G   0.05188    0.0233    0.0145   0.08968       148       640:  16%|█▌        | 4/25 [00:06<00:35,  1.69s/it]\n",
      "[STDOUT] 26/29       12G   0.05195   0.02258   0.01363   0.08817       163       640:  16%|█▌        | 4/25 [00:08<00:35,  1.69s/it]\n",
      "[STDOUT] 26/29       12G   0.05195   0.02258   0.01363   0.08817       163       640:  20%|██        | 5/25 [00:08<00:32,  1.64s/it]\n",
      "[STDOUT] 26/29       12G   0.05288   0.02236   0.01381   0.08906       239       640:  20%|██        | 5/25 [00:10<00:32,  1.64s/it]\n",
      "[STDOUT] 26/29       12G   0.05288   0.02236   0.01381   0.08906       239       640:  24%|██▍       | 6/25 [00:10<00:30,  1.59s/it]\n",
      "[STDOUT] 26/29       12G   0.05296   0.02176   0.01327   0.08799       126       640:  24%|██▍       | 6/25 [00:11<00:30,  1.59s/it]\n",
      "[STDOUT] 26/29       12G   0.05296   0.02176   0.01327   0.08799       126       640:  28%|██▊       | 7/25 [00:11<00:27,  1.50s/it]\n",
      "[STDOUT] 26/29       12G   0.05329   0.02156   0.01321   0.08805       205       640:  28%|██▊       | 7/25 [00:13<00:27,  1.50s/it]\n",
      "[STDOUT] 26/29       12G   0.05329   0.02156   0.01321   0.08805       205       640:  32%|███▏      | 8/25 [00:13<00:26,  1.56s/it]\n",
      "[STDOUT] 26/29       12G    0.0534   0.02217   0.01333    0.0889       212       640:  32%|███▏      | 8/25 [00:14<00:26,  1.56s/it]\n",
      "[STDOUT] 26/29       12G    0.0534   0.02217   0.01333    0.0889       212       640:  36%|███▌      | 9/25 [00:14<00:26,  1.66s/it]\n",
      "[STDOUT] 26/29       12G   0.05301   0.02234   0.01279   0.08815       210       640:  36%|███▌      | 9/25 [00:16<00:26,  1.66s/it]\n",
      "[STDOUT] 26/29       12G   0.05301   0.02234   0.01279   0.08815       210       640:  40%|████      | 10/25 [00:16<00:24,  1.64s/it]\n",
      "[STDOUT] 26/29       12G   0.05332   0.02322   0.01285   0.08938       249       640:  40%|████      | 10/25 [00:18<00:24,  1.64s/it][TRAINING]      26/29       12G   0.05332   0.02322   0.01285   0.08938       249       640\n",
      "[STDOUT] \n",
      "[STDOUT] 26/29       12G   0.05332   0.02322   0.01285   0.08938       249       640:  44%|████▍     | 11/25 [00:18<00:22,  1.64s/it]\n",
      "[STDOUT] 26/29       12G   0.05321   0.02342   0.01266    0.0893       192       640:  44%|████▍     | 11/25 [00:19<00:22,  1.64s/it]\n",
      "[STDOUT] 26/29       12G   0.05321   0.02342   0.01266    0.0893       192       640:  48%|████▊     | 12/25 [00:19<00:20,  1.61s/it]\n",
      "[STDOUT] 26/29       12G   0.05319   0.02309   0.01257   0.08885       236       640:  48%|████▊     | 12/25 [00:21<00:20,  1.61s/it]\n",
      "[STDOUT] 26/29       12G   0.05319   0.02309   0.01257   0.08885       236       640:  52%|█████▏    | 13/25 [00:21<00:19,  1.65s/it]\n",
      "[STDOUT] 26/29       12G   0.05332   0.02284   0.01253    0.0887       183       640:  52%|█████▏    | 13/25 [00:22<00:19,  1.65s/it]\n",
      "[STDOUT] 26/29       12G   0.05332   0.02284   0.01253    0.0887       183       640:  56%|█████▌    | 14/25 [00:22<00:17,  1.62s/it]\n",
      "[STDOUT] 26/29       12G   0.05353   0.02299   0.01257   0.08908       217       640:  56%|█████▌    | 14/25 [00:24<00:17,  1.62s/it]\n",
      "[STDOUT] 26/29       12G   0.05353   0.02299   0.01257   0.08908       217       640:  60%|██████    | 15/25 [00:24<00:16,  1.65s/it]\n",
      "[STDOUT] 26/29       12G   0.05408   0.02299   0.01286   0.08993       206       640:  60%|██████    | 15/25 [00:26<00:16,  1.65s/it]\n",
      "[STDOUT] 26/29       12G   0.05408   0.02299   0.01286   0.08993       206       640:  64%|██████▍   | 16/25 [00:26<00:14,  1.65s/it]\n",
      "[STDOUT] 26/29       12G    0.0542   0.02308   0.01287   0.09015       240       640:  64%|██████▍   | 16/25 [00:27<00:14,  1.65s/it]\n",
      "[STDOUT] 26/29       12G    0.0542   0.02308   0.01287   0.09015       240       640:  68%|██████▊   | 17/25 [00:27<00:13,  1.65s/it]\n",
      "[STDOUT] 26/29       12G   0.05436   0.02284   0.01275   0.08995       149       640:  68%|██████▊   | 17/25 [00:29<00:13,  1.65s/it]\n",
      "[STDOUT] 26/29       12G   0.05436   0.02284   0.01275   0.08995       149       640:  72%|███████▏  | 18/25 [00:29<00:10,  1.54s/it]\n",
      "[STDOUT] 26/29       12G   0.05451   0.02264   0.01269   0.08985       148       640:  72%|███████▏  | 18/25 [00:30<00:10,  1.54s/it]\n",
      "[STDOUT] 26/29       12G   0.05451   0.02264   0.01269   0.08985       148       640:  76%|███████▌  | 19/25 [00:30<00:09,  1.53s/it]\n",
      "[STDOUT] 26/29       12G    0.0546   0.02233   0.01259   0.08952       136       640:  76%|███████▌  | 19/25 [00:32<00:09,  1.53s/it]\n",
      "[STDOUT] 26/29       12G    0.0546   0.02233   0.01259   0.08952       136       640:  80%|████████  | 20/25 [00:32<00:07,  1.56s/it]\n",
      "[STDOUT] 26/29       12G   0.05509   0.02212   0.01285   0.09006       150       640:  80%|████████  | 20/25 [00:34<00:07,  1.56s/it][TRAINING]      26/29       12G   0.05509   0.02212   0.01285   0.09006       150       640\n",
      "[STDOUT] \n",
      "[STDOUT] 26/29       12G   0.05509   0.02212   0.01285   0.09006       150       640:  84%|████████▍ | 21/25 [00:34<00:06,  1.63s/it]\n",
      "[STDOUT] 26/29       12G   0.05524   0.02193   0.01285   0.09002       186       640:  84%|████████▍ | 21/25 [00:35<00:06,  1.63s/it]\n",
      "[STDOUT] 26/29       12G   0.05524   0.02193   0.01285   0.09002       186       640:  88%|████████▊ | 22/25 [00:35<00:04,  1.58s/it]\n",
      "[STDOUT] 26/29       12G   0.05528   0.02199   0.01268   0.08996       275       640:  88%|████████▊ | 22/25 [00:37<00:04,  1.58s/it]\n",
      "[STDOUT] 26/29       12G   0.05528   0.02199   0.01268   0.08996       275       640:  92%|█████████▏| 23/25 [00:37<00:03,  1.63s/it]\n",
      "[STDOUT] 26/29       12G   0.05545   0.02177   0.01275   0.08998       157       640:  92%|█████████▏| 23/25 [00:38<00:03,  1.63s/it]\n",
      "[STDOUT] 26/29       12G   0.05545   0.02177   0.01275   0.08998       157       640:  96%|█████████▌| 24/25 [00:38<00:01,  1.59s/it]\n",
      "[STDOUT] 26/29       12G   0.05526   0.02128   0.01252   0.08906        15       640:  96%|█████████▌| 24/25 [00:39<00:01,  1.59s/it]\n",
      "[STDOUT] 26/29       12G   0.05526   0.02128   0.01252   0.08906        15       640: 100%|██████████| 25/25 [00:39<00:00,  1.28s/it]\n",
      "[STDOUT] 26/29       12G   0.05526   0.02128   0.01252   0.08906        15       640: 100%|██████████| 25/25 [00:39<00:00,  1.58s/it]\n",
      "[STDOUT] \n",
      "[STDOUT] Class      Images      Labels           P           R      mAP@.5  mAP@.5:.95:   0%|          | 0/5 [00:00<?, ?it/s][DEBUG] Head 0 | iou.min=0.0049, iou.max=0.9383, iou.mean=0.3569\n",
      "[STDOUT] [DEBUG] Head 0 | ps[..., 4].sigmoid().mean = 0.0153\n",
      "[STDOUT] [DEBUG] Head 1 | iou.min=0.0269, iou.max=0.9533, iou.mean=0.5716\n",
      "[STDOUT] [DEBUG] Head 1 | ps[..., 4].sigmoid().mean = 0.1513\n",
      "[STDOUT] [DEBUG] Head 2 | iou.min=0.0139, iou.max=0.9307, iou.mean=0.2081\n",
      "[STDOUT] [DEBUG] Head 2 | ps[..., 4].sigmoid().mean = 0.0032\n",
      "[STDOUT] \n",
      "[STDOUT] Class      Images      Labels           P           R      mAP@.5  mAP@.5:.95:  20%|██        | 1/5 [00:00<00:02,  1.56it/s][DEBUG] Head 0 | iou.min=0.0047, iou.max=0.8662, iou.mean=0.2244\n",
      "[STDOUT] [DEBUG] Head 0 | ps[..., 4].sigmoid().mean = 0.0102\n",
      "[STDOUT] [DEBUG] Head 1 | iou.min=-0.0864, iou.max=0.9284, iou.mean=0.5494\n",
      "[STDOUT] [DEBUG] Head 1 | ps[..., 4].sigmoid().mean = 0.0874\n",
      "[STDOUT] [DEBUG] Head 2 | iou.min=0.0339, iou.max=0.8459, iou.mean=0.2982\n",
      "[STDOUT] [DEBUG] Head 2 | ps[..., 4].sigmoid().mean = 0.0042\n",
      "[STDOUT] \n",
      "[STDOUT] Class      Images      Labels           P           R      mAP@.5  mAP@.5:.95:  40%|████      | 2/5 [00:01<00:01,  1.53it/s][DEBUG] Head 0 | iou.min=-0.0026, iou.max=0.8859, iou.mean=0.4075\n",
      "[STDOUT] [DEBUG] Head 0 | ps[..., 4].sigmoid().mean = 0.0175\n",
      "[STDOUT] [DEBUG] Head 1 | iou.min=-0.3389, iou.max=0.9118, iou.mean=0.3438\n",
      "[STDOUT] [DEBUG] Head 1 | ps[..., 4].sigmoid().mean = 0.0592\n",
      "[STDOUT] [DEBUG] Head 2 | iou.min=-0.4887, iou.max=0.8550, iou.mean=0.1873\n",
      "[STDOUT] [DEBUG] Head 2 | ps[..., 4].sigmoid().mean = 0.0031\n",
      "[STDOUT] \n",
      "[STDOUT] Class      Images      Labels           P           R      mAP@.5  mAP@.5:.95:  60%|██████    | 3/5 [00:02<00:01,  1.47it/s][DEBUG] Head 0 | iou.min=0.0153, iou.max=0.9520, iou.mean=0.4363\n",
      "[STDOUT] [DEBUG] Head 0 | ps[..., 4].sigmoid().mean = 0.0247\n",
      "[STDOUT] [DEBUG] Head 1 | iou.min=0.0100, iou.max=0.9306, iou.mean=0.4681\n",
      "[STDOUT] [DEBUG] Head 1 | ps[..., 4].sigmoid().mean = 0.0724\n",
      "[STDOUT] [DEBUG] Head 2 | iou.min=0.0062, iou.max=0.8644, iou.mean=0.1577\n",
      "[STDOUT] [DEBUG] Head 2 | ps[..., 4].sigmoid().mean = 0.0029\n",
      "[STDOUT] \n",
      "[STDOUT] Class      Images      Labels           P           R      mAP@.5  mAP@.5:.95:  80%|████████  | 4/5 [00:02<00:00,  1.45it/s][DEBUG] Head 0 | iou.min=0.0443, iou.max=0.8353, iou.mean=0.3091\n",
      "[STDOUT] [DEBUG] Head 0 | ps[..., 4].sigmoid().mean = 0.0016\n",
      "[STDOUT] [DEBUG] Head 1 | iou.min=0.2705, iou.max=0.9091, iou.mean=0.6276\n",
      "[STDOUT] [DEBUG] Head 1 | ps[..., 4].sigmoid().mean = 0.0325\n",
      "[STDOUT] [DEBUG] Head 2 | iou.min=0.0296, iou.max=0.1018, iou.mean=0.0612\n",
      "[STDOUT] [DEBUG] Head 2 | ps[..., 4].sigmoid().mean = 0.0012\n",
      "[STDOUT] \n",
      "[STDOUT] Class      Images      Labels           P           R      mAP@.5  mAP@.5:.95: 100%|██████████| 5/5 [00:02<00:00,  1.80it/s]\n",
      "[STDOUT] all         130         736        0.53       0.208       0.188      0.0829\n",
      "[STDOUT] OaohRepConv act_learn weight: 0.900\n",
      "[STDOUT] OaohRepConv act_learn weight: 0.900\n",
      "[STDOUT] OaohRepConv act_learn weight: 0.900\n",
      "[STDOUT] OaohRepConv act_learn weight: 0.900\n",
      "[STDOUT] OaohRepConv act_learn weight: 0.900\n",
      "[STDOUT] OaohRepConv act_learn weight: 0.900\n",
      "[STDOUT] OaohRepConv act_learn weight: 0.900\n",
      "[STDOUT] OaohRepConv act_learn weight: 0.900\n",
      "[STDOUT] OaohRepConv act_learn weight: 0.900\n",
      "[STDOUT] OaohRepConv act_learn weight: 0.900\n",
      "[STDOUT] OaohRepConv act_learn weight: 0.900\n",
      "[STDOUT] OaohRepConv act_learn weight: 0.900\n",
      "[STDOUT] OaohRepConv act_learn weight: 0.900\n",
      "[STDOUT] OaohRepConv act_learn weight: 0.900\n",
      "[STDOUT] OaohRepConv act_learn weight: 0.900\n",
      "[STDOUT] OaohRepConv act_learn weight: 0.900\n",
      "[STDOUT] OaohRepConv act_learn weight: 0.900\n",
      "[STDOUT] \n",
      "[STDOUT] Epoch   gpu_mem       box       obj       cls     total    labels  img_size\n",
      "[STDOUT] \n",
      "[STDOUT] 0%|          | 0/25 [00:00<?, ?it/s]\n",
      "[STDOUT] 27/29       12G   0.05201   0.02415   0.00686   0.08302       261       640:   0%|          | 0/25 [00:01<?, ?it/s][TRAINING]      27/29       12G   0.05201   0.02415   0.00686   0.08302       261       640\n",
      "[STDOUT] \n",
      "[STDOUT] 27/29       12G   0.05201   0.02415   0.00686   0.08302       261       640:   4%|▍         | 1/25 [00:01<00:39,  1.63s/it]\n",
      "[STDOUT] 27/29       12G   0.05238   0.02775  0.008436   0.08857       253       640:   4%|▍         | 1/25 [00:03<00:39,  1.63s/it]\n",
      "[STDOUT] 27/29       12G   0.05238   0.02775  0.008436   0.08857       253       640:   8%|▊         | 2/25 [00:03<00:39,  1.73s/it]\n",
      "[STDOUT] 27/29       12G   0.05387   0.02666  0.009327   0.08986       200       640:   8%|▊         | 2/25 [00:05<00:39,  1.73s/it]\n",
      "[STDOUT] 27/29       12G   0.05387   0.02666  0.009327   0.08986       200       640:  12%|█▏        | 3/25 [00:05<00:37,  1.72s/it]\n",
      "[STDOUT] 27/29       12G   0.05529   0.02679   0.01072    0.0928       292       640:  12%|█▏        | 3/25 [00:07<00:37,  1.72s/it]\n",
      "[STDOUT] 27/29       12G   0.05529   0.02679   0.01072    0.0928       292       640:  16%|█▌        | 4/25 [00:07<00:37,  1.80s/it]\n",
      "[STDOUT] 27/29       12G   0.05533   0.02565   0.01122    0.0922       199       640:  16%|█▌        | 4/25 [00:08<00:37,  1.80s/it]\n",
      "[STDOUT] 27/29       12G   0.05533   0.02565   0.01122    0.0922       199       640:  20%|██        | 5/25 [00:08<00:34,  1.70s/it]\n",
      "[STDOUT] 27/29       12G    0.0559   0.02419   0.01162    0.0917       177       640:  20%|██        | 5/25 [00:10<00:34,  1.70s/it]\n",
      "[STDOUT] 27/29       12G    0.0559   0.02419   0.01162    0.0917       177       640:  24%|██▍       | 6/25 [00:10<00:30,  1.62s/it]\n",
      "[STDOUT] 27/29       12G   0.05621   0.02507   0.01173   0.09301       274       640:  24%|██▍       | 6/25 [00:11<00:30,  1.62s/it]\n",
      "[STDOUT] 27/29       12G   0.05621   0.02507   0.01173   0.09301       274       640:  28%|██▊       | 7/25 [00:11<00:30,  1.70s/it]\n",
      "[STDOUT] 27/29       12G   0.05518   0.02461   0.01145   0.09124       174       640:  28%|██▊       | 7/25 [00:13<00:30,  1.70s/it]\n",
      "[STDOUT] 27/29       12G   0.05518   0.02461   0.01145   0.09124       174       640:  32%|███▏      | 8/25 [00:13<00:27,  1.63s/it]\n",
      "[STDOUT] 27/29       12G   0.05525   0.02432   0.01121   0.09078       192       640:  32%|███▏      | 8/25 [00:15<00:27,  1.63s/it]\n",
      "[STDOUT] 27/29       12G   0.05525   0.02432   0.01121   0.09078       192       640:  36%|███▌      | 9/25 [00:15<00:25,  1.62s/it]\n",
      "[STDOUT] 27/29       12G   0.05532   0.02448   0.01101    0.0908       234       640:  36%|███▌      | 9/25 [00:16<00:25,  1.62s/it]\n",
      "[STDOUT] 27/29       12G   0.05532   0.02448   0.01101    0.0908       234       640:  40%|████      | 10/25 [00:16<00:24,  1.64s/it]\n",
      "[STDOUT] 27/29       12G   0.05548   0.02402   0.01156   0.09107       161       640:  40%|████      | 10/25 [00:18<00:24,  1.64s/it][TRAINING]      27/29       12G   0.05548   0.02402   0.01156   0.09107       161       640\n",
      "[STDOUT] \n",
      "[STDOUT] 27/29       12G   0.05548   0.02402   0.01156   0.09107       161       640:  44%|████▍     | 11/25 [00:18<00:22,  1.62s/it]\n",
      "[STDOUT] 27/29       12G   0.05518   0.02529   0.01171   0.09218       306       640:  44%|████▍     | 11/25 [00:19<00:22,  1.62s/it]\n",
      "[STDOUT] 27/29       12G   0.05518   0.02529   0.01171   0.09218       306       640:  48%|████▊     | 12/25 [00:19<00:21,  1.63s/it]\n",
      "[STDOUT] 27/29       12G    0.0552   0.02532    0.0117   0.09222       255       640:  48%|████▊     | 12/25 [00:21<00:21,  1.63s/it]\n",
      "[STDOUT] 27/29       12G    0.0552   0.02532    0.0117   0.09222       255       640:  52%|█████▏    | 13/25 [00:21<00:19,  1.63s/it]\n",
      "[STDOUT] 27/29       12G   0.05517   0.02548   0.01193   0.09259       221       640:  52%|█████▏    | 13/25 [00:23<00:19,  1.63s/it]\n",
      "[STDOUT] 27/29       12G   0.05517   0.02548   0.01193   0.09259       221       640:  56%|█████▌    | 14/25 [00:23<00:18,  1.70s/it]\n",
      "[STDOUT] 27/29       12G   0.05509    0.0247   0.01181    0.0916       182       640:  56%|█████▌    | 14/25 [00:24<00:18,  1.70s/it]\n",
      "[STDOUT] 27/29       12G   0.05509    0.0247   0.01181    0.0916       182       640:  60%|██████    | 15/25 [00:24<00:16,  1.61s/it]\n",
      "[STDOUT] 27/29       12G   0.05521   0.02433   0.01187   0.09142       212       640:  60%|██████    | 15/25 [00:26<00:16,  1.61s/it]\n",
      "[STDOUT] 27/29       12G   0.05521   0.02433   0.01187   0.09142       212       640:  64%|██████▍   | 16/25 [00:26<00:14,  1.65s/it]\n",
      "[STDOUT] 27/29       12G   0.05521   0.02439   0.01188   0.09149       283       640:  64%|██████▍   | 16/25 [00:28<00:14,  1.65s/it]\n",
      "[STDOUT] 27/29       12G   0.05521   0.02439   0.01188   0.09149       283       640:  68%|██████▊   | 17/25 [00:28<00:13,  1.67s/it]\n",
      "[STDOUT] 27/29       12G   0.05491     0.024   0.01178   0.09069       140       640:  68%|██████▊   | 17/25 [00:29<00:13,  1.67s/it]\n",
      "[STDOUT] 27/29       12G   0.05491     0.024   0.01178   0.09069       140       640:  72%|███████▏  | 18/25 [00:29<00:11,  1.61s/it]\n",
      "[STDOUT] 27/29       12G   0.05509   0.02356   0.01191   0.09056       200       640:  72%|███████▏  | 18/25 [00:31<00:11,  1.61s/it]\n",
      "[STDOUT] 27/29       12G   0.05509   0.02356   0.01191   0.09056       200       640:  76%|███████▌  | 19/25 [00:31<00:09,  1.58s/it]\n",
      "[STDOUT] 27/29       12G   0.05533    0.0241   0.01193   0.09135       388       640:  76%|███████▌  | 19/25 [00:32<00:09,  1.58s/it]\n",
      "[STDOUT] 27/29       12G   0.05533    0.0241   0.01193   0.09135       388       640:  80%|████████  | 20/25 [00:32<00:08,  1.62s/it]\n",
      "[STDOUT] 27/29       12G   0.05531   0.02402   0.01194   0.09127       177       640:  80%|████████  | 20/25 [00:34<00:08,  1.62s/it][TRAINING]      27/29       12G   0.05531   0.02402   0.01194   0.09127       177       640\n",
      "[STDOUT] \n",
      "[STDOUT] 27/29       12G   0.05531   0.02402   0.01194   0.09127       177       640:  84%|████████▍ | 21/25 [00:34<00:06,  1.61s/it]\n",
      "[STDOUT] 27/29       12G    0.0552   0.02464   0.01204   0.09188       335       640:  84%|████████▍ | 21/25 [00:36<00:06,  1.61s/it]\n",
      "[STDOUT] 27/29       12G    0.0552   0.02464   0.01204   0.09188       335       640:  88%|████████▊ | 22/25 [00:36<00:05,  1.73s/it]\n",
      "[STDOUT] 27/29       12G   0.05521   0.02457    0.0121   0.09189       211       640:  88%|████████▊ | 22/25 [00:38<00:05,  1.73s/it]\n",
      "[STDOUT] 27/29       12G   0.05521   0.02457    0.0121   0.09189       211       640:  92%|█████████▏| 23/25 [00:38<00:03,  1.74s/it]\n",
      "[STDOUT] 27/29       12G   0.05513   0.02438   0.01214   0.09164       177       640:  92%|█████████▏| 23/25 [00:39<00:03,  1.74s/it]\n",
      "[STDOUT] 27/29       12G   0.05513   0.02438   0.01214   0.09164       177       640:  96%|█████████▌| 24/25 [00:39<00:01,  1.71s/it]\n",
      "[STDOUT] 27/29       12G   0.05482   0.02473    0.0119   0.09145        99       640:  96%|█████████▌| 24/25 [00:40<00:01,  1.71s/it]\n",
      "[STDOUT] 27/29       12G   0.05482   0.02473    0.0119   0.09145        99       640: 100%|██████████| 25/25 [00:40<00:00,  1.38s/it]\n",
      "[STDOUT] 27/29       12G   0.05482   0.02473    0.0119   0.09145        99       640: 100%|██████████| 25/25 [00:40<00:00,  1.62s/it]\n",
      "[STDOUT] \n",
      "[STDOUT] Class      Images      Labels           P           R      mAP@.5  mAP@.5:.95:   0%|          | 0/5 [00:00<?, ?it/s][DEBUG] Head 0 | iou.min=0.0057, iou.max=0.9540, iou.mean=0.3785\n",
      "[STDOUT] [DEBUG] Head 0 | ps[..., 4].sigmoid().mean = 0.0762\n",
      "[STDOUT] [DEBUG] Head 1 | iou.min=0.0309, iou.max=0.9643, iou.mean=0.5452\n",
      "[STDOUT] [DEBUG] Head 1 | ps[..., 4].sigmoid().mean = 0.1906\n",
      "[STDOUT] [DEBUG] Head 2 | iou.min=-0.1789, iou.max=0.9045, iou.mean=0.2495\n",
      "[STDOUT] [DEBUG] Head 2 | ps[..., 4].sigmoid().mean = 0.0023\n",
      "[STDOUT] \n",
      "[STDOUT] Class      Images      Labels           P           R      mAP@.5  mAP@.5:.95:  20%|██        | 1/5 [00:00<00:02,  1.55it/s][DEBUG] Head 0 | iou.min=0.0054, iou.max=0.8565, iou.mean=0.2323\n",
      "[STDOUT] [DEBUG] Head 0 | ps[..., 4].sigmoid().mean = 0.0269\n",
      "[STDOUT] [DEBUG] Head 1 | iou.min=-0.3521, iou.max=0.9357, iou.mean=0.4636\n",
      "[STDOUT] [DEBUG] Head 1 | ps[..., 4].sigmoid().mean = 0.1044\n",
      "[STDOUT] [DEBUG] Head 2 | iou.min=-0.3755, iou.max=0.8696, iou.mean=0.3224\n",
      "[STDOUT] [DEBUG] Head 2 | ps[..., 4].sigmoid().mean = 0.0032\n",
      "[STDOUT] \n",
      "[STDOUT] Class      Images      Labels           P           R      mAP@.5  mAP@.5:.95:  40%|████      | 2/5 [00:01<00:01,  1.54it/s][DEBUG] Head 0 | iou.min=-0.0024, iou.max=0.9531, iou.mean=0.4149\n",
      "[STDOUT] [DEBUG] Head 0 | ps[..., 4].sigmoid().mean = 0.0309\n",
      "[STDOUT] [DEBUG] Head 1 | iou.min=-0.3136, iou.max=0.9418, iou.mean=0.3658\n",
      "[STDOUT] [DEBUG] Head 1 | ps[..., 4].sigmoid().mean = 0.0687\n",
      "[STDOUT] [DEBUG] Head 2 | iou.min=-0.4961, iou.max=0.9264, iou.mean=0.2230\n",
      "[STDOUT] [DEBUG] Head 2 | ps[..., 4].sigmoid().mean = 0.0019\n",
      "[STDOUT] \n",
      "[STDOUT] Class      Images      Labels           P           R      mAP@.5  mAP@.5:.95:  60%|██████    | 3/5 [00:02<00:01,  1.46it/s][DEBUG] Head 0 | iou.min=0.0153, iou.max=0.9202, iou.mean=0.4446\n",
      "[STDOUT] [DEBUG] Head 0 | ps[..., 4].sigmoid().mean = 0.1240\n",
      "[STDOUT] [DEBUG] Head 1 | iou.min=-0.1307, iou.max=0.9391, iou.mean=0.5290\n",
      "[STDOUT] [DEBUG] Head 1 | ps[..., 4].sigmoid().mean = 0.1015\n",
      "[STDOUT] [DEBUG] Head 2 | iou.min=-0.1502, iou.max=0.8713, iou.mean=0.1849\n",
      "[STDOUT] [DEBUG] Head 2 | ps[..., 4].sigmoid().mean = 0.0030\n",
      "[STDOUT] \n",
      "[STDOUT] Class      Images      Labels           P           R      mAP@.5  mAP@.5:.95:  80%|████████  | 4/5 [00:02<00:00,  1.42it/s][DEBUG] Head 0 | iou.min=0.0460, iou.max=0.6232, iou.mean=0.2783\n",
      "[STDOUT] [DEBUG] Head 0 | ps[..., 4].sigmoid().mean = 0.0092\n",
      "[STDOUT] [DEBUG] Head 1 | iou.min=0.3017, iou.max=0.8312, iou.mean=0.6143\n",
      "[STDOUT] [DEBUG] Head 1 | ps[..., 4].sigmoid().mean = 0.0967\n",
      "[STDOUT] [DEBUG] Head 2 | iou.min=0.0369, iou.max=0.1364, iou.mean=0.0893\n",
      "[STDOUT] [DEBUG] Head 2 | ps[..., 4].sigmoid().mean = 0.0015\n",
      "[STDOUT] \n",
      "[STDOUT] Class      Images      Labels           P           R      mAP@.5  mAP@.5:.95: 100%|██████████| 5/5 [00:02<00:00,  1.78it/s]\n",
      "[STDOUT] all         130         736       0.404        0.27       0.224      0.0917\n",
      "[STDOUT] OaohRepConv act_learn weight: 0.933\n",
      "[STDOUT] OaohRepConv act_learn weight: 0.933\n",
      "[STDOUT] OaohRepConv act_learn weight: 0.933\n",
      "[STDOUT] OaohRepConv act_learn weight: 0.933\n",
      "[STDOUT] OaohRepConv act_learn weight: 0.933\n",
      "[STDOUT] OaohRepConv act_learn weight: 0.933\n",
      "[STDOUT] OaohRepConv act_learn weight: 0.933\n",
      "[STDOUT] OaohRepConv act_learn weight: 0.933\n",
      "[STDOUT] OaohRepConv act_learn weight: 0.933\n",
      "[STDOUT] OaohRepConv act_learn weight: 0.933\n",
      "[STDOUT] OaohRepConv act_learn weight: 0.933\n",
      "[STDOUT] OaohRepConv act_learn weight: 0.933\n",
      "[STDOUT] OaohRepConv act_learn weight: 0.933\n",
      "[STDOUT] OaohRepConv act_learn weight: 0.933\n",
      "[STDOUT] OaohRepConv act_learn weight: 0.933\n",
      "[STDOUT] OaohRepConv act_learn weight: 0.933\n",
      "[STDOUT] OaohRepConv act_learn weight: 0.933\n",
      "[STDOUT] \n",
      "[STDOUT] Epoch   gpu_mem       box       obj       cls     total    labels  img_size\n",
      "[STDOUT] \n",
      "[STDOUT] 0%|          | 0/25 [00:00<?, ?it/s]\n",
      "[STDOUT] 28/29       12G   0.06372   0.02533   0.01915    0.1082       270       640:   0%|          | 0/25 [00:01<?, ?it/s][TRAINING]      28/29       12G   0.06372   0.02533   0.01915    0.1082       270       640\n",
      "[STDOUT] \n",
      "[STDOUT] 28/29       12G   0.06372   0.02533   0.01915    0.1082       270       640:   4%|▍         | 1/25 [00:01<00:47,  1.98s/it]\n",
      "[STDOUT] 28/29       12G   0.06004   0.02654   0.01447     0.101       252       640:   4%|▍         | 1/25 [00:03<00:47,  1.98s/it]\n",
      "[STDOUT] 28/29       12G   0.06004   0.02654   0.01447     0.101       252       640:   8%|▊         | 2/25 [00:03<00:39,  1.73s/it]\n",
      "[STDOUT] 28/29       12G   0.05746   0.02632   0.01297   0.09675       234       640:   8%|▊         | 2/25 [00:05<00:39,  1.73s/it]\n",
      "[STDOUT] 28/29       12G   0.05746   0.02632   0.01297   0.09675       234       640:  12%|█▏        | 3/25 [00:05<00:37,  1.72s/it]\n",
      "[STDOUT] 28/29       12G   0.05643   0.02537   0.01318   0.09497       155       640:  12%|█▏        | 3/25 [00:06<00:37,  1.72s/it]\n",
      "[STDOUT] 28/29       12G   0.05643   0.02537   0.01318   0.09497       155       640:  16%|█▌        | 4/25 [00:06<00:36,  1.72s/it]\n",
      "[STDOUT] 28/29       12G   0.05664   0.02356   0.01328   0.09347       127       640:  16%|█▌        | 4/25 [00:08<00:36,  1.72s/it]\n",
      "[STDOUT] 28/29       12G   0.05664   0.02356   0.01328   0.09347       127       640:  20%|██        | 5/25 [00:08<00:33,  1.67s/it]\n",
      "[STDOUT] 28/29       12G   0.05768   0.02419   0.01326   0.09514       270       640:  20%|██        | 5/25 [00:10<00:33,  1.67s/it]\n",
      "[STDOUT] 28/29       12G   0.05768   0.02419   0.01326   0.09514       270       640:  24%|██▍       | 6/25 [00:10<00:32,  1.71s/it]\n",
      "[STDOUT] 28/29       12G   0.05805   0.02349   0.01329   0.09483       197       640:  24%|██▍       | 6/25 [00:11<00:32,  1.71s/it]\n",
      "[STDOUT] 28/29       12G   0.05805   0.02349   0.01329   0.09483       197       640:  28%|██▊       | 7/25 [00:11<00:30,  1.69s/it]\n",
      "[STDOUT] 28/29       12G   0.05833   0.02338   0.01316   0.09487       214       640:  28%|██▊       | 7/25 [00:13<00:30,  1.69s/it]\n",
      "[STDOUT] 28/29       12G   0.05833   0.02338   0.01316   0.09487       214       640:  32%|███▏      | 8/25 [00:13<00:29,  1.72s/it]\n",
      "[STDOUT] 28/29       12G   0.05745    0.0237   0.01297   0.09412       234       640:  32%|███▏      | 8/25 [00:15<00:29,  1.72s/it]\n",
      "[STDOUT] 28/29       12G   0.05745    0.0237   0.01297   0.09412       234       640:  36%|███▌      | 9/25 [00:15<00:26,  1.67s/it]\n",
      "[STDOUT] 28/29       12G    0.0568   0.02341   0.01247   0.09268       194       640:  36%|███▌      | 9/25 [00:16<00:26,  1.67s/it]\n",
      "[STDOUT] 28/29       12G    0.0568   0.02341   0.01247   0.09268       194       640:  40%|████      | 10/25 [00:16<00:24,  1.64s/it]\n",
      "[STDOUT] 28/29       12G   0.05689   0.02283   0.01229   0.09201       207       640:  40%|████      | 10/25 [00:18<00:24,  1.64s/it][TRAINING]      28/29       12G   0.05689   0.02283   0.01229   0.09201       207       640\n",
      "[STDOUT] \n",
      "[STDOUT] 28/29       12G   0.05689   0.02283   0.01229   0.09201       207       640:  44%|████▍     | 11/25 [00:18<00:22,  1.57s/it]\n",
      "[STDOUT] 28/29       12G   0.05623   0.02332   0.01219   0.09174       239       640:  44%|████▍     | 11/25 [00:19<00:22,  1.57s/it]\n",
      "[STDOUT] 28/29       12G   0.05623   0.02332   0.01219   0.09174       239       640:  48%|████▊     | 12/25 [00:19<00:20,  1.60s/it]\n",
      "[STDOUT] 28/29       12G   0.05641   0.02401   0.01235   0.09277       331       640:  48%|████▊     | 12/25 [00:21<00:20,  1.60s/it]\n",
      "[STDOUT] 28/29       12G   0.05641   0.02401   0.01235   0.09277       331       640:  52%|█████▏    | 13/25 [00:21<00:19,  1.66s/it]\n",
      "[STDOUT] 28/29       12G   0.05604   0.02363   0.01205   0.09171       127       640:  52%|█████▏    | 13/25 [00:23<00:19,  1.66s/it]\n",
      "[STDOUT] 28/29       12G   0.05604   0.02363   0.01205   0.09171       127       640:  56%|█████▌    | 14/25 [00:23<00:18,  1.70s/it]\n",
      "[STDOUT] 28/29       12G   0.05617   0.02326   0.01213   0.09156       148       640:  56%|█████▌    | 14/25 [00:25<00:18,  1.70s/it]\n",
      "[STDOUT] 28/29       12G   0.05617   0.02326   0.01213   0.09156       148       640:  60%|██████    | 15/25 [00:25<00:17,  1.73s/it]\n",
      "[STDOUT] 28/29       12G   0.05636   0.02356   0.01276   0.09268       325       640:  60%|██████    | 15/25 [00:27<00:17,  1.73s/it]\n",
      "[STDOUT] 28/29       12G   0.05636   0.02356   0.01276   0.09268       325       640:  64%|██████▍   | 16/25 [00:27<00:16,  1.85s/it]\n",
      "[STDOUT] 28/29       12G    0.0562   0.02328   0.01258   0.09207       180       640:  64%|██████▍   | 16/25 [00:29<00:16,  1.85s/it]\n",
      "[STDOUT] 28/29       12G    0.0562   0.02328   0.01258   0.09207       180       640:  68%|██████▊   | 17/25 [00:29<00:14,  1.78s/it]\n",
      "[STDOUT] 28/29       12G     0.056   0.02304   0.01253   0.09157       136       640:  68%|██████▊   | 17/25 [00:30<00:14,  1.78s/it]\n",
      "[STDOUT] 28/29       12G     0.056   0.02304   0.01253   0.09157       136       640:  72%|███████▏  | 18/25 [00:30<00:12,  1.81s/it]\n",
      "[STDOUT] 28/29       12G   0.05566   0.02285   0.01226   0.09077       164       640:  72%|███████▏  | 18/25 [00:32<00:12,  1.81s/it]\n",
      "[STDOUT] 28/29       12G   0.05566   0.02285   0.01226   0.09077       164       640:  76%|███████▌  | 19/25 [00:32<00:10,  1.67s/it]\n",
      "[STDOUT] 28/29       12G   0.05575   0.02265    0.0122    0.0906       215       640:  76%|███████▌  | 19/25 [00:34<00:10,  1.67s/it]\n",
      "[STDOUT] 28/29       12G   0.05575   0.02265    0.0122    0.0906       215       640:  80%|████████  | 20/25 [00:34<00:08,  1.68s/it]\n",
      "[STDOUT] 28/29       12G    0.0557   0.02248   0.01224   0.09043       141       640:  80%|████████  | 20/25 [00:35<00:08,  1.68s/it][TRAINING]      28/29       12G    0.0557   0.02248   0.01224   0.09043       141       640\n",
      "[STDOUT] \n",
      "[STDOUT] 28/29       12G    0.0557   0.02248   0.01224   0.09043       141       640:  84%|████████▍ | 21/25 [00:35<00:06,  1.59s/it]\n",
      "[STDOUT] 28/29       12G   0.05559   0.02261   0.01222   0.09043       185       640:  84%|████████▍ | 21/25 [00:37<00:06,  1.59s/it]\n",
      "[STDOUT] 28/29       12G   0.05559   0.02261   0.01222   0.09043       185       640:  88%|████████▊ | 22/25 [00:37<00:04,  1.61s/it]\n",
      "[STDOUT] 28/29       12G   0.05537   0.02251   0.01211   0.08998       189       640:  88%|████████▊ | 22/25 [00:38<00:04,  1.61s/it]\n",
      "[STDOUT] 28/29       12G   0.05537   0.02251   0.01211   0.08998       189       640:  92%|█████████▏| 23/25 [00:38<00:03,  1.63s/it]\n",
      "[STDOUT] 28/29       12G   0.05514   0.02283    0.0121   0.09008       318       640:  92%|█████████▏| 23/25 [00:40<00:03,  1.63s/it]\n",
      "[STDOUT] 28/29       12G   0.05514   0.02283    0.0121   0.09008       318       640:  96%|█████████▌| 24/25 [00:40<00:01,  1.58s/it]\n",
      "[STDOUT] 28/29       12G   0.05508   0.02286   0.01196    0.0899        58       640:  96%|█████████▌| 24/25 [00:40<00:01,  1.58s/it]\n",
      "[STDOUT] 28/29       12G   0.05508   0.02286   0.01196    0.0899        58       640: 100%|██████████| 25/25 [00:40<00:00,  1.28s/it]\n",
      "[STDOUT] 28/29       12G   0.05508   0.02286   0.01196    0.0899        58       640: 100%|██████████| 25/25 [00:40<00:00,  1.63s/it]\n",
      "[STDOUT] \n",
      "[STDOUT] Class      Images      Labels           P           R      mAP@.5  mAP@.5:.95:   0%|          | 0/5 [00:00<?, ?it/s][DEBUG] Head 0 | iou.min=0.0189, iou.max=0.9733, iou.mean=0.3851\n",
      "[STDOUT] [DEBUG] Head 0 | ps[..., 4].sigmoid().mean = 0.0382\n",
      "[STDOUT] [DEBUG] Head 1 | iou.min=0.0406, iou.max=0.9519, iou.mean=0.5740\n",
      "[STDOUT] [DEBUG] Head 1 | ps[..., 4].sigmoid().mean = 0.2355\n",
      "[STDOUT] [DEBUG] Head 2 | iou.min=-0.0001, iou.max=0.8717, iou.mean=0.2343\n",
      "[STDOUT] [DEBUG] Head 2 | ps[..., 4].sigmoid().mean = 0.0038\n",
      "[STDOUT] \n",
      "[STDOUT] Class      Images      Labels           P           R      mAP@.5  mAP@.5:.95:  20%|██        | 1/5 [00:00<00:02,  1.51it/s][DEBUG] Head 0 | iou.min=0.0078, iou.max=0.8355, iou.mean=0.2470\n",
      "[STDOUT] [DEBUG] Head 0 | ps[..., 4].sigmoid().mean = 0.0153\n",
      "[STDOUT] [DEBUG] Head 1 | iou.min=-0.0964, iou.max=0.9503, iou.mean=0.5564\n",
      "[STDOUT] [DEBUG] Head 1 | ps[..., 4].sigmoid().mean = 0.1715\n",
      "[STDOUT] [DEBUG] Head 2 | iou.min=0.0258, iou.max=0.8847, iou.mean=0.3171\n",
      "[STDOUT] [DEBUG] Head 2 | ps[..., 4].sigmoid().mean = 0.0069\n",
      "[STDOUT] \n",
      "[STDOUT] Class      Images      Labels           P           R      mAP@.5  mAP@.5:.95:  40%|████      | 2/5 [00:01<00:02,  1.49it/s][DEBUG] Head 0 | iou.min=-0.0087, iou.max=0.9326, iou.mean=0.4253\n",
      "[STDOUT] [DEBUG] Head 0 | ps[..., 4].sigmoid().mean = 0.0478\n",
      "[STDOUT] [DEBUG] Head 1 | iou.min=-0.2116, iou.max=0.9513, iou.mean=0.3638\n",
      "[STDOUT] [DEBUG] Head 1 | ps[..., 4].sigmoid().mean = 0.0734\n",
      "[STDOUT] [DEBUG] Head 2 | iou.min=0.0083, iou.max=0.8486, iou.mean=0.2117\n",
      "[STDOUT] [DEBUG] Head 2 | ps[..., 4].sigmoid().mean = 0.0037\n",
      "[STDOUT] \n",
      "[STDOUT] Class      Images      Labels           P           R      mAP@.5  mAP@.5:.95:  60%|██████    | 3/5 [00:02<00:01,  1.41it/s][DEBUG] Head 0 | iou.min=0.0142, iou.max=0.9482, iou.mean=0.4915\n",
      "[STDOUT] [DEBUG] Head 0 | ps[..., 4].sigmoid().mean = 0.0339\n",
      "[STDOUT] [DEBUG] Head 1 | iou.min=0.0124, iou.max=0.9482, iou.mean=0.5144\n",
      "[STDOUT] [DEBUG] Head 1 | ps[..., 4].sigmoid().mean = 0.1611\n",
      "[STDOUT] [DEBUG] Head 2 | iou.min=0.0081, iou.max=0.8081, iou.mean=0.1728\n",
      "[STDOUT] [DEBUG] Head 2 | ps[..., 4].sigmoid().mean = 0.0044\n",
      "[STDOUT] \n",
      "[STDOUT] Class      Images      Labels           P           R      mAP@.5  mAP@.5:.95:  80%|████████  | 4/5 [00:02<00:00,  1.37it/s][DEBUG] Head 0 | iou.min=0.0491, iou.max=0.6774, iou.mean=0.3279\n",
      "[STDOUT] [DEBUG] Head 0 | ps[..., 4].sigmoid().mean = 0.0049\n",
      "[STDOUT] [DEBUG] Head 1 | iou.min=0.3287, iou.max=0.8485, iou.mean=0.6718\n",
      "[STDOUT] [DEBUG] Head 1 | ps[..., 4].sigmoid().mean = 0.0810\n",
      "[STDOUT] [DEBUG] Head 2 | iou.min=0.0221, iou.max=0.1618, iou.mean=0.0572\n",
      "[STDOUT] [DEBUG] Head 2 | ps[..., 4].sigmoid().mean = 0.0017\n",
      "[STDOUT] \n",
      "[STDOUT] Class      Images      Labels           P           R      mAP@.5  mAP@.5:.95: 100%|██████████| 5/5 [00:02<00:00,  1.72it/s]\n",
      "[STDOUT] all         130         736       0.456       0.294       0.252      0.0993\n",
      "[STDOUT] OaohRepConv act_learn weight: 0.967\n",
      "[STDOUT] OaohRepConv act_learn weight: 0.967\n",
      "[STDOUT] OaohRepConv act_learn weight: 0.967\n",
      "[STDOUT] OaohRepConv act_learn weight: 0.967\n",
      "[STDOUT] OaohRepConv act_learn weight: 0.967\n",
      "[STDOUT] OaohRepConv act_learn weight: 0.967\n",
      "[STDOUT] OaohRepConv act_learn weight: 0.967\n",
      "[STDOUT] OaohRepConv act_learn weight: 0.967\n",
      "[STDOUT] OaohRepConv act_learn weight: 0.967\n",
      "[STDOUT] OaohRepConv act_learn weight: 0.967\n",
      "[STDOUT] OaohRepConv act_learn weight: 0.967\n",
      "[STDOUT] OaohRepConv act_learn weight: 0.967\n",
      "[STDOUT] OaohRepConv act_learn weight: 0.967\n",
      "[STDOUT] OaohRepConv act_learn weight: 0.967\n",
      "[STDOUT] OaohRepConv act_learn weight: 0.967\n",
      "[STDOUT] OaohRepConv act_learn weight: 0.967\n",
      "[STDOUT] OaohRepConv act_learn weight: 0.967\n",
      "[STDOUT] \n",
      "[STDOUT] Epoch   gpu_mem       box       obj       cls     total    labels  img_size\n",
      "[STDOUT] \n",
      "[STDOUT] 0%|          | 0/25 [00:00<?, ?it/s]\n",
      "[STDOUT] 29/29       12G   0.05094    0.0215   0.01195   0.08439       152       640:   0%|          | 0/25 [00:01<?, ?it/s][TRAINING]      29/29       12G   0.05094    0.0215   0.01195   0.08439       152       640\n",
      "[STDOUT] \n",
      "[STDOUT] 29/29       12G   0.05094    0.0215   0.01195   0.08439       152       640:   4%|▍         | 1/25 [00:01<00:42,  1.77s/it]\n",
      "[STDOUT] 29/29       12G   0.05057   0.02174   0.01042   0.08273       164       640:   4%|▍         | 1/25 [00:03<00:42,  1.77s/it]\n",
      "[STDOUT] 29/29       12G   0.05057   0.02174   0.01042   0.08273       164       640:   8%|▊         | 2/25 [00:03<00:37,  1.64s/it]\n",
      "[STDOUT] 29/29       12G   0.05198   0.02287   0.01099   0.08584       257       640:   8%|▊         | 2/25 [00:04<00:37,  1.64s/it]\n",
      "[STDOUT] 29/29       12G   0.05198   0.02287   0.01099   0.08584       257       640:  12%|█▏        | 3/25 [00:04<00:34,  1.59s/it]\n",
      "[STDOUT] 29/29       12G   0.05137   0.02233   0.01058   0.08428       151       640:  12%|█▏        | 3/25 [00:06<00:34,  1.59s/it]\n",
      "[STDOUT] 29/29       12G   0.05137   0.02233   0.01058   0.08428       151       640:  16%|█▌        | 4/25 [00:06<00:35,  1.67s/it]\n",
      "[STDOUT] 29/29       12G   0.05297    0.0212   0.01097   0.08514       253       640:  16%|█▌        | 4/25 [00:08<00:35,  1.67s/it]\n",
      "[STDOUT] 29/29       12G   0.05297    0.0212   0.01097   0.08514       253       640:  20%|██        | 5/25 [00:08<00:32,  1.63s/it]\n",
      "[STDOUT] 29/29       12G   0.05288   0.02085   0.01118    0.0849       131       640:  20%|██        | 5/25 [00:09<00:32,  1.63s/it]\n",
      "[STDOUT] 29/29       12G   0.05288   0.02085   0.01118    0.0849       131       640:  24%|██▍       | 6/25 [00:09<00:29,  1.55s/it]\n",
      "[STDOUT] 29/29       12G   0.05361   0.02015   0.01154   0.08531       129       640:  24%|██▍       | 6/25 [00:11<00:29,  1.55s/it]\n",
      "[STDOUT] 29/29       12G   0.05361   0.02015   0.01154   0.08531       129       640:  28%|██▊       | 7/25 [00:11<00:27,  1.55s/it]\n",
      "[STDOUT] 29/29       12G   0.05364   0.01961   0.01144   0.08469       124       640:  28%|██▊       | 7/25 [00:12<00:27,  1.55s/it]\n",
      "[STDOUT] 29/29       12G   0.05364   0.01961   0.01144   0.08469       124       640:  32%|███▏      | 8/25 [00:12<00:26,  1.58s/it]\n",
      "[STDOUT] 29/29       12G   0.05404   0.01991   0.01175   0.08569       186       640:  32%|███▏      | 8/25 [00:14<00:26,  1.58s/it]\n",
      "[STDOUT] 29/29       12G   0.05404   0.01991   0.01175   0.08569       186       640:  36%|███▌      | 9/25 [00:14<00:25,  1.57s/it]\n",
      "[STDOUT] 29/29       12G   0.05434   0.01975   0.01181   0.08589       141       640:  36%|███▌      | 9/25 [00:16<00:25,  1.57s/it]\n",
      "[STDOUT] 29/29       12G   0.05434   0.01975   0.01181   0.08589       141       640:  40%|████      | 10/25 [00:16<00:24,  1.62s/it]\n",
      "[STDOUT] 29/29       12G   0.05459      0.02   0.01174   0.08634       186       640:  40%|████      | 10/25 [00:17<00:24,  1.62s/it][TRAINING]      29/29       12G   0.05459      0.02   0.01174   0.08634       186       640\n",
      "[STDOUT] \n",
      "[STDOUT] 29/29       12G   0.05459      0.02   0.01174   0.08634       186       640:  44%|████▍     | 11/25 [00:17<00:22,  1.60s/it]\n",
      "[STDOUT] 29/29       12G   0.05452   0.02161   0.01157    0.0877       325       640:  44%|████▍     | 11/25 [00:19<00:22,  1.60s/it]\n",
      "[STDOUT] 29/29       12G   0.05452   0.02161   0.01157    0.0877       325       640:  48%|████▊     | 12/25 [00:19<00:21,  1.65s/it]\n",
      "[STDOUT] 29/29       12G   0.05446   0.02158   0.01157    0.0876       213       640:  48%|████▊     | 12/25 [00:21<00:21,  1.65s/it]\n",
      "[STDOUT] 29/29       12G   0.05446   0.02158   0.01157    0.0876       213       640:  52%|█████▏    | 13/25 [00:21<00:20,  1.68s/it]\n",
      "[STDOUT] 29/29       12G   0.05431    0.0215   0.01157   0.08738       198       640:  52%|█████▏    | 13/25 [00:22<00:20,  1.68s/it]\n",
      "[STDOUT] 29/29       12G   0.05431    0.0215   0.01157   0.08738       198       640:  56%|█████▌    | 14/25 [00:22<00:18,  1.67s/it]\n",
      "[STDOUT] 29/29       12G   0.05411   0.02164   0.01167   0.08742       197       640:  56%|█████▌    | 14/25 [00:24<00:18,  1.67s/it]\n",
      "[STDOUT] 29/29       12G   0.05411   0.02164   0.01167   0.08742       197       640:  60%|██████    | 15/25 [00:24<00:16,  1.67s/it]\n",
      "[STDOUT] 29/29       12G   0.05417   0.02201   0.01178   0.08796       232       640:  60%|██████    | 15/25 [00:25<00:16,  1.67s/it]\n",
      "[STDOUT] 29/29       12G   0.05417   0.02201   0.01178   0.08796       232       640:  64%|██████▍   | 16/25 [00:25<00:14,  1.60s/it]\n",
      "[STDOUT] 29/29       12G   0.05422   0.02203    0.0117   0.08794       323       640:  64%|██████▍   | 16/25 [00:27<00:14,  1.60s/it]\n",
      "[STDOUT] 29/29       12G   0.05422   0.02203    0.0117   0.08794       323       640:  68%|██████▊   | 17/25 [00:27<00:12,  1.62s/it]\n",
      "[STDOUT] 29/29       12G   0.05411   0.02212   0.01144   0.08767       238       640:  68%|██████▊   | 17/25 [00:29<00:12,  1.62s/it]\n",
      "[STDOUT] 29/29       12G   0.05411   0.02212   0.01144   0.08767       238       640:  72%|███████▏  | 18/25 [00:29<00:11,  1.63s/it]\n",
      "[STDOUT] 29/29       12G   0.05387   0.02189    0.0115   0.08726       148       640:  72%|███████▏  | 18/25 [00:30<00:11,  1.63s/it]\n",
      "[STDOUT] 29/29       12G   0.05387   0.02189    0.0115   0.08726       148       640:  76%|███████▌  | 19/25 [00:30<00:09,  1.56s/it]\n",
      "[STDOUT] 29/29       12G   0.05402   0.02188   0.01151   0.08741       244       640:  76%|███████▌  | 19/25 [00:32<00:09,  1.56s/it]\n",
      "[STDOUT] 29/29       12G   0.05402   0.02188   0.01151   0.08741       244       640:  80%|████████  | 20/25 [00:32<00:08,  1.60s/it]\n",
      "[STDOUT] 29/29       12G    0.0543   0.02196   0.01156   0.08783       215       640:  80%|████████  | 20/25 [00:33<00:08,  1.60s/it][TRAINING]      29/29       12G    0.0543   0.02196   0.01156   0.08783       215       640\n",
      "[STDOUT] \n",
      "[STDOUT] 29/29       12G    0.0543   0.02196   0.01156   0.08783       215       640:  84%|████████▍ | 21/25 [00:33<00:06,  1.62s/it]\n",
      "[STDOUT] 29/29       12G   0.05446   0.02203   0.01147   0.08796       264       640:  84%|████████▍ | 21/25 [00:35<00:06,  1.62s/it]\n",
      "[STDOUT] 29/29       12G   0.05446   0.02203   0.01147   0.08796       264       640:  88%|████████▊ | 22/25 [00:35<00:04,  1.60s/it]\n",
      "[STDOUT] 29/29       12G   0.05448   0.02181   0.01146   0.08775       138       640:  88%|████████▊ | 22/25 [00:37<00:04,  1.60s/it]\n",
      "[STDOUT] 29/29       12G   0.05448   0.02181   0.01146   0.08775       138       640:  92%|█████████▏| 23/25 [00:37<00:03,  1.61s/it]\n",
      "[STDOUT] 29/29       12G    0.0545   0.02166   0.01156   0.08771       182       640:  92%|█████████▏| 23/25 [00:38<00:03,  1.61s/it]\n",
      "[STDOUT] 29/29       12G    0.0545   0.02166   0.01156   0.08771       182       640:  96%|█████████▌| 24/25 [00:38<00:01,  1.52s/it]\n",
      "[STDOUT] 29/29       12G   0.05372   0.02143   0.01145    0.0866        47       640:  96%|█████████▌| 24/25 [00:39<00:01,  1.52s/it]\n",
      "[STDOUT] 29/29       12G   0.05372   0.02143   0.01145    0.0866        47       640: 100%|██████████| 25/25 [00:39<00:00,  1.24s/it]\n",
      "[STDOUT] 29/29       12G   0.05372   0.02143   0.01145    0.0866        47       640: 100%|██████████| 25/25 [00:39<00:00,  1.56s/it]\n",
      "[STDOUT] \n",
      "[STDOUT] Class      Images      Labels           P           R      mAP@.5  mAP@.5:.95:   0%|          | 0/5 [00:00<?, ?it/s][DEBUG] Head 0 | iou.min=0.0185, iou.max=0.9480, iou.mean=0.4267\n",
      "[STDOUT] [DEBUG] Head 0 | ps[..., 4].sigmoid().mean = 0.0379\n",
      "[STDOUT] [DEBUG] Head 1 | iou.min=0.0508, iou.max=0.9717, iou.mean=0.5684\n",
      "[STDOUT] [DEBUG] Head 1 | ps[..., 4].sigmoid().mean = 0.1805\n",
      "[STDOUT] [DEBUG] Head 2 | iou.min=0.0112, iou.max=0.8883, iou.mean=0.2364\n",
      "[STDOUT] [DEBUG] Head 2 | ps[..., 4].sigmoid().mean = 0.0025\n",
      "[STDOUT] \n",
      "[STDOUT] Class      Images      Labels           P           R      mAP@.5  mAP@.5:.95:  20%|██        | 1/5 [00:00<00:02,  1.44it/s][DEBUG] Head 0 | iou.min=0.0041, iou.max=0.8656, iou.mean=0.2844\n",
      "[STDOUT] [DEBUG] Head 0 | ps[..., 4].sigmoid().mean = 0.0128\n",
      "[STDOUT] [DEBUG] Head 1 | iou.min=-0.3266, iou.max=0.9475, iou.mean=0.5556\n",
      "[STDOUT] [DEBUG] Head 1 | ps[..., 4].sigmoid().mean = 0.1139\n",
      "[STDOUT] [DEBUG] Head 2 | iou.min=0.0129, iou.max=0.8889, iou.mean=0.3298\n",
      "[STDOUT] [DEBUG] Head 2 | ps[..., 4].sigmoid().mean = 0.0033\n",
      "[STDOUT] \n",
      "[STDOUT] Class      Images      Labels           P           R      mAP@.5  mAP@.5:.95:  40%|████      | 2/5 [00:01<00:02,  1.39it/s][DEBUG] Head 0 | iou.min=-0.0054, iou.max=0.9091, iou.mean=0.4555\n",
      "[STDOUT] [DEBUG] Head 0 | ps[..., 4].sigmoid().mean = 0.0241\n",
      "[STDOUT] [DEBUG] Head 1 | iou.min=-0.1761, iou.max=0.9559, iou.mean=0.3654\n",
      "[STDOUT] [DEBUG] Head 1 | ps[..., 4].sigmoid().mean = 0.0601\n",
      "[STDOUT] [DEBUG] Head 2 | iou.min=0.0067, iou.max=0.8627, iou.mean=0.2200\n",
      "[STDOUT] [DEBUG] Head 2 | ps[..., 4].sigmoid().mean = 0.0028\n",
      "[STDOUT] \n",
      "[STDOUT] Class      Images      Labels           P           R      mAP@.5  mAP@.5:.95:  60%|██████    | 3/5 [00:02<00:01,  1.32it/s][DEBUG] Head 0 | iou.min=0.0167, iou.max=0.9099, iou.mean=0.5118\n",
      "[STDOUT] [DEBUG] Head 0 | ps[..., 4].sigmoid().mean = 0.0713\n",
      "[STDOUT] [DEBUG] Head 1 | iou.min=0.0119, iou.max=0.9641, iou.mean=0.4905\n",
      "[STDOUT] [DEBUG] Head 1 | ps[..., 4].sigmoid().mean = 0.1160\n",
      "[STDOUT] [DEBUG] Head 2 | iou.min=0.0045, iou.max=0.8720, iou.mean=0.1798\n",
      "[STDOUT] [DEBUG] Head 2 | ps[..., 4].sigmoid().mean = 0.0031\n",
      "[STDOUT] \n",
      "[STDOUT] Class      Images      Labels           P           R      mAP@.5  mAP@.5:.95:  80%|████████  | 4/5 [00:03<00:00,  1.31it/s][DEBUG] Head 0 | iou.min=0.0378, iou.max=0.6646, iou.mean=0.3309\n",
      "[STDOUT] [DEBUG] Head 0 | ps[..., 4].sigmoid().mean = 0.0067\n",
      "[STDOUT] [DEBUG] Head 1 | iou.min=0.2756, iou.max=0.8943, iou.mean=0.7092\n",
      "[STDOUT] [DEBUG] Head 1 | ps[..., 4].sigmoid().mean = 0.0997\n",
      "[STDOUT] [DEBUG] Head 2 | iou.min=0.0185, iou.max=0.2344, iou.mean=0.0602\n",
      "[STDOUT] [DEBUG] Head 2 | ps[..., 4].sigmoid().mean = 0.0016\n",
      "[STDOUT] \n",
      "[STDOUT] Class      Images      Labels           P           R      mAP@.5  mAP@.5:.95: 100%|██████████| 5/5 [00:03<00:00,  1.63it/s]\n",
      "[STDOUT] all         130         736       0.595       0.262       0.236       0.101\n",
      "[STDOUT] airplane         130         151       0.759       0.755       0.663       0.291\n",
      "[STDOUT] ship         130          53       0.885       0.434       0.425       0.144\n",
      "[STDOUT] storage tank         130          62       0.849       0.532       0.508       0.235\n",
      "[STDOUT] baseball diamond         130          82       0.701       0.573       0.454       0.243\n",
      "[STDOUT] tennis court         130          75        0.85       0.227       0.216      0.0604\n",
      "[STDOUT] basketball court         130          21           0           0           0           0\n",
      "[STDOUT] ground track field         130          38       0.333      0.0263      0.0271     0.00271\n",
      "[STDOUT] harbor         130          59       0.571      0.0678      0.0565      0.0222\n",
      "[STDOUT] bridge         130          21           0           0           0           0\n",
      "[STDOUT] vehicle         130         174           1     0.00575      0.0107     0.00645\n",
      "[STDOUT] 30 epochs completed in 0.379 hours.\n",
      "[STDOUT] \n",
      "[STDOUT] Optimizer stripped from output\\250527_171253_YoloOW_CLI_NWPU_VHR10_YOLO_Iter_1\\weights\\last.pt, 84.7MB\n",
      "[STDOUT] Optimizer stripped from output\\250527_171253_YoloOW_CLI_NWPU_VHR10_YOLO_Iter_1\\weights\\best.pt, 84.7MB\n",
      "학습 프로세스 종료 코드: 0\n",
      "학습이 성공적으로 완료되었습니다!\n",
      "출력 디렉토리: output\\250527_171253_YoloOW_CLI_NWPU_VHR10_YOLO_Iter_1\n",
      "출력 디렉토리 내용: ['confusion_matrix.png', 'F1_curve.png', 'hyp.yaml', 'opt.yaml', 'PR_curve.png', 'P_curve.png', 'results.png', 'results.txt', 'R_curve.png', 'test_batch0_labels.jpg', 'test_batch0_pred.jpg', 'test_batch1_labels.jpg', 'test_batch1_pred.jpg', 'test_batch2_labels.jpg', 'test_batch2_pred.jpg', 'train_batch0.jpg', 'train_batch1.jpg', 'train_batch2.jpg', 'train_batch3.jpg', 'train_batch4.jpg', 'train_batch5.jpg', 'train_batch6.jpg', 'train_batch7.jpg', 'train_batch8.jpg', 'train_batch9.jpg', 'weights']\n",
      "weights 디렉토리 내용: ['best.pt', 'epoch_000.pt', 'epoch_024.pt', 'epoch_025.pt', 'epoch_026.pt', 'epoch_027.pt', 'epoch_028.pt', 'epoch_029.pt', 'init.pt', 'last.pt']\n",
      "생성된 파일: output\\250527_171253_YoloOW_CLI_NWPU_VHR10_YOLO_Iter_1\\confusion_matrix.png\n",
      "생성된 파일: output\\250527_171253_YoloOW_CLI_NWPU_VHR10_YOLO_Iter_1\\F1_curve.png\n",
      "생성된 파일: output\\250527_171253_YoloOW_CLI_NWPU_VHR10_YOLO_Iter_1\\hyp.yaml\n",
      "생성된 파일: output\\250527_171253_YoloOW_CLI_NWPU_VHR10_YOLO_Iter_1\\opt.yaml\n",
      "생성된 파일: output\\250527_171253_YoloOW_CLI_NWPU_VHR10_YOLO_Iter_1\\PR_curve.png\n",
      "생성된 파일: output\\250527_171253_YoloOW_CLI_NWPU_VHR10_YOLO_Iter_1\\P_curve.png\n",
      "생성된 파일: output\\250527_171253_YoloOW_CLI_NWPU_VHR10_YOLO_Iter_1\\results.png\n",
      "생성된 파일: output\\250527_171253_YoloOW_CLI_NWPU_VHR10_YOLO_Iter_1\\results.txt\n",
      "생성된 파일: output\\250527_171253_YoloOW_CLI_NWPU_VHR10_YOLO_Iter_1\\R_curve.png\n",
      "생성된 파일: output\\250527_171253_YoloOW_CLI_NWPU_VHR10_YOLO_Iter_1\\test_batch0_labels.jpg\n",
      "생성된 파일: output\\250527_171253_YoloOW_CLI_NWPU_VHR10_YOLO_Iter_1\\test_batch0_pred.jpg\n",
      "생성된 파일: output\\250527_171253_YoloOW_CLI_NWPU_VHR10_YOLO_Iter_1\\test_batch1_labels.jpg\n",
      "생성된 파일: output\\250527_171253_YoloOW_CLI_NWPU_VHR10_YOLO_Iter_1\\test_batch1_pred.jpg\n",
      "생성된 파일: output\\250527_171253_YoloOW_CLI_NWPU_VHR10_YOLO_Iter_1\\test_batch2_labels.jpg\n",
      "생성된 파일: output\\250527_171253_YoloOW_CLI_NWPU_VHR10_YOLO_Iter_1\\test_batch2_pred.jpg\n",
      "생성된 파일: output\\250527_171253_YoloOW_CLI_NWPU_VHR10_YOLO_Iter_1\\train_batch0.jpg\n",
      "생성된 파일: output\\250527_171253_YoloOW_CLI_NWPU_VHR10_YOLO_Iter_1\\train_batch1.jpg\n",
      "생성된 파일: output\\250527_171253_YoloOW_CLI_NWPU_VHR10_YOLO_Iter_1\\train_batch2.jpg\n",
      "생성된 파일: output\\250527_171253_YoloOW_CLI_NWPU_VHR10_YOLO_Iter_1\\train_batch3.jpg\n",
      "생성된 파일: output\\250527_171253_YoloOW_CLI_NWPU_VHR10_YOLO_Iter_1\\train_batch4.jpg\n",
      "생성된 파일: output\\250527_171253_YoloOW_CLI_NWPU_VHR10_YOLO_Iter_1\\train_batch5.jpg\n",
      "생성된 파일: output\\250527_171253_YoloOW_CLI_NWPU_VHR10_YOLO_Iter_1\\train_batch6.jpg\n",
      "생성된 파일: output\\250527_171253_YoloOW_CLI_NWPU_VHR10_YOLO_Iter_1\\train_batch7.jpg\n",
      "생성된 파일: output\\250527_171253_YoloOW_CLI_NWPU_VHR10_YOLO_Iter_1\\train_batch8.jpg\n",
      "생성된 파일: output\\250527_171253_YoloOW_CLI_NWPU_VHR10_YOLO_Iter_1\\train_batch9.jpg\n",
      "생성된 파일: output\\250527_171253_YoloOW_CLI_NWPU_VHR10_YOLO_Iter_1\\weights\\best.pt\n",
      "생성된 파일: output\\250527_171253_YoloOW_CLI_NWPU_VHR10_YOLO_Iter_1\\weights\\epoch_000.pt\n",
      "생성된 파일: output\\250527_171253_YoloOW_CLI_NWPU_VHR10_YOLO_Iter_1\\weights\\epoch_024.pt\n",
      "생성된 파일: output\\250527_171253_YoloOW_CLI_NWPU_VHR10_YOLO_Iter_1\\weights\\epoch_025.pt\n",
      "생성된 파일: output\\250527_171253_YoloOW_CLI_NWPU_VHR10_YOLO_Iter_1\\weights\\epoch_026.pt\n",
      "생성된 파일: output\\250527_171253_YoloOW_CLI_NWPU_VHR10_YOLO_Iter_1\\weights\\epoch_027.pt\n",
      "생성된 파일: output\\250527_171253_YoloOW_CLI_NWPU_VHR10_YOLO_Iter_1\\weights\\epoch_028.pt\n",
      "생성된 파일: output\\250527_171253_YoloOW_CLI_NWPU_VHR10_YOLO_Iter_1\\weights\\epoch_029.pt\n",
      "생성된 파일: output\\250527_171253_YoloOW_CLI_NWPU_VHR10_YOLO_Iter_1\\weights\\init.pt\n",
      "생성된 파일: output\\250527_171253_YoloOW_CLI_NWPU_VHR10_YOLO_Iter_1\\weights\\last.pt\n",
      "예상 best.pt 경로: output\\250527_171253_YoloOW_CLI_NWPU_VHR10_YOLO_Iter_1\\weights\\best.pt\n",
      "best.pt 파일 존재 여부: True\n",
      "last.pt 파일 존재 여부: True\n",
      "results.txt 마지막 줄: 29/29       12G   0.05372   0.02143   0.01145    0.0866        47       640    0.5949     0.262     0.236    0.1006   0.09275   0.03612   0.03325\n",
      "results.txt 경로: output\\250527_171253_YoloOW_CLI_NWPU_VHR10_YOLO_Iter_1\\results.txt\n",
      "results.txt 존재 여부: True\n",
      "파싱된 메트릭: {'precision': 0.5949, 'recall': 0.262, 'map50': 0.236, 'map': 0.1006, 'box_loss': 0.09275, 'obj_loss': 0.03612, 'cls_loss': 0.03325, 'total_loss': 0.16212}\n",
      "임시 파일 삭제: C:\\Users\\user\\AppData\\Local\\Temp\\tmpmwhggr7o.yaml\n",
      "검증 명령어: c:\\Users\\user\\anaconda3\\envs\\AerialObjectDetection\\python.exe c:\\Users\\user\\Desktop\\Aerial Object Detection\\AERIAL_OBJECT_DETECTION\\Models\\YoloOW\\test.py --weights=output\\250527_171253_YoloOW_CLI_NWPU_VHR10_YOLO_Iter_1\\weights\\best.pt --data=Datasets/NWPU_VHR10_YOLO/data_iter_01.yaml --batch-size=16 --img=640 --task=val --device=0\n",
      "테스트 명령어: c:\\Users\\user\\anaconda3\\envs\\AerialObjectDetection\\python.exe c:\\Users\\user\\Desktop\\Aerial Object Detection\\AERIAL_OBJECT_DETECTION\\Models\\YoloOW\\test.py --weights=output\\250527_171253_YoloOW_CLI_NWPU_VHR10_YOLO_Iter_1\\weights\\best.pt --data=Datasets/NWPU_VHR10_YOLO/data_iter_01.yaml --batch-size=16 --img=640 --task=test --device=0\n",
      "DataFrame이 '250527_170914_Object Detection_Results.csv'에 저장되었습니다.\n",
      "YoloOW (3/3) (Iter 1) Dataset: NWPU_VHR10_YOLO (1/2) [YoloOW] Using config → C:\\Users\\user\\Desktop\\Aerial Object Detection\\AERIAL_OBJECT_DETECTION\\Models\\YoloOW\\cfg\\training\\yoloOW.yaml\n",
      "\n",
      "\u001b[34m\u001b[1mautoanchor: \u001b[0mAnalyzing anchors... [YOLOTxtDataset] Caching labels for anchor check...\n",
      "anchors/target = 1.64, Best Possible Recall (BPR) = 0.5963. Attempting to improve anchors, please wait...\n",
      "\u001b[34m\u001b[1mautoanchor: \u001b[0mRunning kmeans for 9 anchors on 2346 points...\n",
      "\u001b[34m\u001b[1mautoanchor: \u001b[0mthr=0.25: 1.0000 best possible recall, 6.72 anchors past thr\n",
      "\u001b[34m\u001b[1mautoanchor: \u001b[0mn=9, img_size=640, metric_all=0.424/0.788-mean/best, past_thr=0.512-mean: 16,36,  21,58,  37,48,  21,98,  38,87,  66,76,  55,167,  134,132,  112,335\n"
     ]
    },
    {
     "name": "stderr",
     "output_type": "stream",
     "text": [
      "\u001b[34m\u001b[1mautoanchor: \u001b[0mEvolving anchors with Genetic Algorithm: fitness = 0.8015: 100%|██████████| 1000/1000 [00:00<00:00, 3094.75it/s]\n"
     ]
    },
    {
     "name": "stdout",
     "output_type": "stream",
     "text": [
      "\u001b[34m\u001b[1mautoanchor: \u001b[0mthr=0.25: 1.0000 best possible recall, 6.99 anchors past thr\n",
      "\u001b[34m\u001b[1mautoanchor: \u001b[0mn=9, img_size=640, metric_all=0.450/0.802-mean/best, past_thr=0.532-mean: 16,32,  19,51,  31,49,  22,83,  34,80,  53,72,  49,115,  129,119,  102,314\n",
      "\u001b[34m\u001b[1mautoanchor: \u001b[0mNew anchors saved to model. Update model *.yaml to use these anchors in the future.\n",
      "\n",
      "==============================\n",
      "Optimizer: adamw\n",
      "--momentum: 0.9\n",
      "--weight_decay: 0.0001\n"
     ]
    },
    {
     "name": "stderr",
     "output_type": "stream",
     "text": [
      "[YoloOW] Epoch 1/30:   0%|          | 0/24 [00:00<?, ?it/s]"
     ]
    },
    {
     "name": "stdout",
     "output_type": "stream",
     "text": [
      "\n",
      "[DEBUG] first batch target rows = 89\n",
      "[DEBUG] first 5 targets:\n",
      " tensor([[0.00000, 6.00000, 0.40726, 0.34835, 0.35484, 0.50260],\n",
      "        [0.00000, 4.00000, 0.59677, 0.63865, 0.07258, 0.07799],\n",
      "        [1.00000, 1.00000, 0.13636, 0.19910, 0.06818, 0.07088],\n",
      "        [1.00000, 1.00000, 0.40341, 0.26804, 0.07335, 0.03866],\n",
      "        [1.00000, 1.00000, 0.51188, 0.54510, 0.06921, 0.07474]])\n"
     ]
    },
    {
     "name": "stderr",
     "output_type": "stream",
     "text": [
      "c:\\Users\\user\\anaconda3\\envs\\AerialObjectDetection\\lib\\site-packages\\torch\\_tensor.py:1128: UserWarning: Converting a tensor with requires_grad=True to a scalar may lead to unexpected behavior.\n",
      "Consider using tensor.detach() first. (Triggered internally at C:\\actions-runner\\_work\\pytorch\\pytorch\\pytorch\\aten\\src\\ATen\\native\\Scalar.cpp:23.)\n",
      "  return self.item().__format__(format_spec)\n"
     ]
    },
    {
     "name": "stdout",
     "output_type": "stream",
     "text": [
      "[DEBUG] Head 0 | iou.min=-0.1636, iou.max=0.8378, iou.mean=0.2563\n",
      "[DEBUG] Head 0 | ps[..., 4].sigmoid().mean = 0.0062\n",
      "[DEBUG] Head 1 | iou.min=-0.2825, iou.max=0.7407, iou.mean=0.2181\n",
      "[DEBUG] Head 1 | ps[..., 4].sigmoid().mean = 0.0114\n",
      "[DEBUG] Head 2 | iou.min=-0.2170, iou.max=0.6953, iou.mean=0.1515\n",
      "[DEBUG] Head 2 | ps[..., 4].sigmoid().mean = 0.0390\n"
     ]
    },
    {
     "name": "stderr",
     "output_type": "stream",
     "text": [
      "[YoloOW] Epoch 1/30:   4%|▍         | 1/24 [00:01<00:40,  1.77s/it]"
     ]
    },
    {
     "name": "stdout",
     "output_type": "stream",
     "text": [
      "[DEBUG] Head 0 | iou.min=-0.1600, iou.max=0.7785, iou.mean=0.1929\n",
      "[DEBUG] Head 0 | ps[..., 4].sigmoid().mean = 0.0152\n",
      "[DEBUG] Head 1 | iou.min=-0.3179, iou.max=0.7249, iou.mean=0.2007\n",
      "[DEBUG] Head 1 | ps[..., 4].sigmoid().mean = 0.0230\n",
      "[DEBUG] Head 2 | iou.min=-0.1963, iou.max=0.8140, iou.mean=0.1767\n",
      "[DEBUG] Head 2 | ps[..., 4].sigmoid().mean = 0.0563\n"
     ]
    },
    {
     "name": "stderr",
     "output_type": "stream",
     "text": [
      "[YoloOW] Epoch 1/30:   8%|▊         | 2/24 [00:02<00:28,  1.30s/it]"
     ]
    },
    {
     "name": "stdout",
     "output_type": "stream",
     "text": [
      "[DEBUG] Head 0 | iou.min=-0.1953, iou.max=0.8253, iou.mean=0.2142\n",
      "[DEBUG] Head 0 | ps[..., 4].sigmoid().mean = 0.0066\n",
      "[DEBUG] Head 1 | iou.min=-0.2199, iou.max=0.8523, iou.mean=0.2244\n",
      "[DEBUG] Head 1 | ps[..., 4].sigmoid().mean = 0.0110\n",
      "[DEBUG] Head 2 | iou.min=-0.2555, iou.max=0.7377, iou.mean=0.1641\n",
      "[DEBUG] Head 2 | ps[..., 4].sigmoid().mean = 0.0339\n"
     ]
    },
    {
     "name": "stderr",
     "output_type": "stream",
     "text": [
      "[YoloOW] Epoch 1/30:  12%|█▎        | 3/24 [00:03<00:24,  1.15s/it]"
     ]
    },
    {
     "name": "stdout",
     "output_type": "stream",
     "text": [
      "[DEBUG] Head 0 | iou.min=-0.1324, iou.max=0.7897, iou.mean=0.2138\n",
      "[DEBUG] Head 0 | ps[..., 4].sigmoid().mean = 0.0062\n",
      "[DEBUG] Head 1 | iou.min=-0.3198, iou.max=0.9640, iou.mean=0.2290\n",
      "[DEBUG] Head 1 | ps[..., 4].sigmoid().mean = 0.0128\n",
      "[DEBUG] Head 2 | iou.min=-0.3457, iou.max=0.8568, iou.mean=0.1823\n",
      "[DEBUG] Head 2 | ps[..., 4].sigmoid().mean = 0.0264\n"
     ]
    },
    {
     "name": "stderr",
     "output_type": "stream",
     "text": [
      "[YoloOW] Epoch 1/30:  17%|█▋        | 4/24 [00:04<00:21,  1.07s/it]"
     ]
    },
    {
     "name": "stdout",
     "output_type": "stream",
     "text": [
      "[DEBUG] Head 0 | iou.min=-0.2559, iou.max=0.8355, iou.mean=0.1907\n",
      "[DEBUG] Head 0 | ps[..., 4].sigmoid().mean = 0.0056\n",
      "[DEBUG] Head 1 | iou.min=-0.2952, iou.max=0.8078, iou.mean=0.2451\n",
      "[DEBUG] Head 1 | ps[..., 4].sigmoid().mean = 0.0072\n",
      "[DEBUG] Head 2 | iou.min=-0.3559, iou.max=0.7390, iou.mean=0.2106\n",
      "[DEBUG] Head 2 | ps[..., 4].sigmoid().mean = 0.0249\n"
     ]
    },
    {
     "name": "stderr",
     "output_type": "stream",
     "text": [
      "[YoloOW] Epoch 1/30:  21%|██        | 5/24 [00:05<00:19,  1.02s/it]"
     ]
    },
    {
     "name": "stdout",
     "output_type": "stream",
     "text": [
      "[DEBUG] Head 0 | iou.min=-0.0900, iou.max=0.8656, iou.mean=0.2244\n",
      "[DEBUG] Head 0 | ps[..., 4].sigmoid().mean = 0.0068\n",
      "[DEBUG] Head 1 | iou.min=-0.2004, iou.max=0.7770, iou.mean=0.1990\n",
      "[DEBUG] Head 1 | ps[..., 4].sigmoid().mean = 0.0113\n",
      "[DEBUG] Head 2 | iou.min=-0.3639, iou.max=0.7516, iou.mean=0.1353\n",
      "[DEBUG] Head 2 | ps[..., 4].sigmoid().mean = 0.0264\n"
     ]
    },
    {
     "name": "stderr",
     "output_type": "stream",
     "text": [
      "[YoloOW] Epoch 1/30:  25%|██▌       | 6/24 [00:06<00:17,  1.00it/s]"
     ]
    },
    {
     "name": "stdout",
     "output_type": "stream",
     "text": [
      "[DEBUG] Head 0 | iou.min=-0.1117, iou.max=0.8202, iou.mean=0.2008\n",
      "[DEBUG] Head 0 | ps[..., 4].sigmoid().mean = 0.0058\n",
      "[DEBUG] Head 1 | iou.min=-0.1501, iou.max=0.7753, iou.mean=0.2414\n",
      "[DEBUG] Head 1 | ps[..., 4].sigmoid().mean = 0.0100\n",
      "[DEBUG] Head 2 | iou.min=-0.2256, iou.max=0.7603, iou.mean=0.1962\n",
      "[DEBUG] Head 2 | ps[..., 4].sigmoid().mean = 0.0261\n"
     ]
    },
    {
     "name": "stderr",
     "output_type": "stream",
     "text": [
      "[YoloOW] Epoch 1/30:  29%|██▉       | 7/24 [00:07<00:16,  1.03it/s]"
     ]
    },
    {
     "name": "stdout",
     "output_type": "stream",
     "text": [
      "[DEBUG] Head 0 | iou.min=-0.2248, iou.max=0.8261, iou.mean=0.1944\n",
      "[DEBUG] Head 0 | ps[..., 4].sigmoid().mean = 0.0043\n",
      "[DEBUG] Head 1 | iou.min=-0.2337, iou.max=0.7632, iou.mean=0.1893\n",
      "[DEBUG] Head 1 | ps[..., 4].sigmoid().mean = 0.0084\n",
      "[DEBUG] Head 2 | iou.min=-0.3530, iou.max=0.9298, iou.mean=0.1649\n",
      "[DEBUG] Head 2 | ps[..., 4].sigmoid().mean = 0.0216\n"
     ]
    },
    {
     "name": "stderr",
     "output_type": "stream",
     "text": [
      "[YoloOW] Epoch 1/30:  33%|███▎      | 8/24 [00:08<00:15,  1.04it/s]"
     ]
    },
    {
     "name": "stdout",
     "output_type": "stream",
     "text": [
      "[DEBUG] Head 0 | iou.min=-0.1352, iou.max=0.8725, iou.mean=0.2379\n",
      "[DEBUG] Head 0 | ps[..., 4].sigmoid().mean = 0.0020\n",
      "[DEBUG] Head 1 | iou.min=-0.0928, iou.max=0.8456, iou.mean=0.3184\n",
      "[DEBUG] Head 1 | ps[..., 4].sigmoid().mean = 0.0067\n",
      "[DEBUG] Head 2 | iou.min=-0.1384, iou.max=0.7005, iou.mean=0.2414\n",
      "[DEBUG] Head 2 | ps[..., 4].sigmoid().mean = 0.0233\n"
     ]
    },
    {
     "name": "stderr",
     "output_type": "stream",
     "text": [
      "[YoloOW] Epoch 1/30:  38%|███▊      | 9/24 [00:09<00:14,  1.05it/s]"
     ]
    },
    {
     "name": "stdout",
     "output_type": "stream",
     "text": [
      "[DEBUG] Head 0 | iou.min=-0.0370, iou.max=0.9057, iou.mean=0.2935\n",
      "[DEBUG] Head 0 | ps[..., 4].sigmoid().mean = 0.0039\n",
      "[DEBUG] Head 1 | iou.min=-0.1306, iou.max=0.8008, iou.mean=0.2945\n",
      "[DEBUG] Head 1 | ps[..., 4].sigmoid().mean = 0.0068\n",
      "[DEBUG] Head 2 | iou.min=-0.1618, iou.max=0.6003, iou.mean=0.2104\n",
      "[DEBUG] Head 2 | ps[..., 4].sigmoid().mean = 0.0205\n"
     ]
    },
    {
     "name": "stderr",
     "output_type": "stream",
     "text": [
      "[YoloOW] Epoch 1/30:  42%|████▏     | 10/24 [00:10<00:13,  1.06it/s, Loss=7.5660, box=0.110, obj=0.034, cls=0.329, total loss=0.473, lr=0.000075]"
     ]
    },
    {
     "name": "stdout",
     "output_type": "stream",
     "text": [
      "[DEBUG] Head 0 | iou.min=-0.1586, iou.max=0.7873, iou.mean=0.1877\n",
      "[DEBUG] Head 0 | ps[..., 4].sigmoid().mean = 0.0037\n",
      "[DEBUG] Head 1 | iou.min=-0.2237, iou.max=0.7480, iou.mean=0.2138\n",
      "[DEBUG] Head 1 | ps[..., 4].sigmoid().mean = 0.0087\n",
      "[DEBUG] Head 2 | iou.min=-0.2011, iou.max=0.8663, iou.mean=0.2228\n",
      "[DEBUG] Head 2 | ps[..., 4].sigmoid().mean = 0.0192\n"
     ]
    },
    {
     "name": "stderr",
     "output_type": "stream",
     "text": [
      "[YoloOW] Epoch 1/30:  46%|████▌     | 11/24 [00:11<00:12,  1.07it/s, Loss=7.5660, box=0.110, obj=0.034, cls=0.329, total loss=0.473, lr=0.000075]"
     ]
    },
    {
     "name": "stdout",
     "output_type": "stream",
     "text": [
      "[DEBUG] Head 0 | iou.min=-0.1201, iou.max=0.7749, iou.mean=0.2321\n",
      "[DEBUG] Head 0 | ps[..., 4].sigmoid().mean = 0.0026\n",
      "[DEBUG] Head 1 | iou.min=-0.1936, iou.max=0.8936, iou.mean=0.2654\n",
      "[DEBUG] Head 1 | ps[..., 4].sigmoid().mean = 0.0067\n",
      "[DEBUG] Head 2 | iou.min=-0.1924, iou.max=0.7770, iou.mean=0.2192\n",
      "[DEBUG] Head 2 | ps[..., 4].sigmoid().mean = 0.0203\n"
     ]
    },
    {
     "name": "stderr",
     "output_type": "stream",
     "text": [
      "[YoloOW] Epoch 1/30:  50%|█████     | 12/24 [00:12<00:11,  1.08it/s, Loss=7.5660, box=0.110, obj=0.034, cls=0.329, total loss=0.473, lr=0.000075]"
     ]
    },
    {
     "name": "stdout",
     "output_type": "stream",
     "text": [
      "[DEBUG] Head 0 | iou.min=-0.0804, iou.max=0.8410, iou.mean=0.2200\n",
      "[DEBUG] Head 0 | ps[..., 4].sigmoid().mean = 0.0032\n",
      "[DEBUG] Head 1 | iou.min=-0.3079, iou.max=0.7687, iou.mean=0.2230\n",
      "[DEBUG] Head 1 | ps[..., 4].sigmoid().mean = 0.0055\n",
      "[DEBUG] Head 2 | iou.min=-0.2464, iou.max=0.8444, iou.mean=0.2743\n",
      "[DEBUG] Head 2 | ps[..., 4].sigmoid().mean = 0.0217\n"
     ]
    },
    {
     "name": "stderr",
     "output_type": "stream",
     "text": [
      "[YoloOW] Epoch 1/30:  54%|█████▍    | 13/24 [00:13<00:10,  1.08it/s, Loss=7.5660, box=0.110, obj=0.034, cls=0.329, total loss=0.473, lr=0.000075]"
     ]
    },
    {
     "name": "stdout",
     "output_type": "stream",
     "text": [
      "[DEBUG] Head 0 | iou.min=-0.0996, iou.max=0.8948, iou.mean=0.2395\n",
      "[DEBUG] Head 0 | ps[..., 4].sigmoid().mean = 0.0052\n",
      "[DEBUG] Head 1 | iou.min=-0.2236, iou.max=0.8257, iou.mean=0.3051\n",
      "[DEBUG] Head 1 | ps[..., 4].sigmoid().mean = 0.0088\n",
      "[DEBUG] Head 2 | iou.min=-0.2364, iou.max=0.7881, iou.mean=0.2330\n",
      "[DEBUG] Head 2 | ps[..., 4].sigmoid().mean = 0.0194\n"
     ]
    },
    {
     "name": "stderr",
     "output_type": "stream",
     "text": [
      "[YoloOW] Epoch 1/30:  58%|█████▊    | 14/24 [00:13<00:09,  1.08it/s, Loss=7.5660, box=0.110, obj=0.034, cls=0.329, total loss=0.473, lr=0.000075]"
     ]
    },
    {
     "name": "stdout",
     "output_type": "stream",
     "text": [
      "[DEBUG] Head 0 | iou.min=-0.0774, iou.max=0.9024, iou.mean=0.2613\n",
      "[DEBUG] Head 0 | ps[..., 4].sigmoid().mean = 0.0024\n",
      "[DEBUG] Head 1 | iou.min=-0.1319, iou.max=0.8853, iou.mean=0.3032\n",
      "[DEBUG] Head 1 | ps[..., 4].sigmoid().mean = 0.0060\n",
      "[DEBUG] Head 2 | iou.min=-0.3055, iou.max=0.7297, iou.mean=0.2037\n",
      "[DEBUG] Head 2 | ps[..., 4].sigmoid().mean = 0.0179\n"
     ]
    },
    {
     "name": "stderr",
     "output_type": "stream",
     "text": [
      "[YoloOW] Epoch 1/30:  62%|██████▎   | 15/24 [00:14<00:08,  1.08it/s, Loss=7.5660, box=0.110, obj=0.034, cls=0.329, total loss=0.473, lr=0.000075]"
     ]
    },
    {
     "name": "stdout",
     "output_type": "stream",
     "text": [
      "[DEBUG] Head 0 | iou.min=-0.1453, iou.max=0.8541, iou.mean=0.2419\n",
      "[DEBUG] Head 0 | ps[..., 4].sigmoid().mean = 0.0028\n",
      "[DEBUG] Head 1 | iou.min=-0.3368, iou.max=0.8510, iou.mean=0.2750\n",
      "[DEBUG] Head 1 | ps[..., 4].sigmoid().mean = 0.0057\n",
      "[DEBUG] Head 2 | iou.min=-0.2574, iou.max=0.7567, iou.mean=0.2087\n",
      "[DEBUG] Head 2 | ps[..., 4].sigmoid().mean = 0.0184\n"
     ]
    },
    {
     "name": "stderr",
     "output_type": "stream",
     "text": [
      "[YoloOW] Epoch 1/30:  67%|██████▋   | 16/24 [00:15<00:07,  1.07it/s, Loss=7.5660, box=0.110, obj=0.034, cls=0.329, total loss=0.473, lr=0.000075]"
     ]
    },
    {
     "name": "stdout",
     "output_type": "stream",
     "text": [
      "[DEBUG] Head 0 | iou.min=-0.1499, iou.max=0.8395, iou.mean=0.2491\n",
      "[DEBUG] Head 0 | ps[..., 4].sigmoid().mean = 0.0040\n",
      "[DEBUG] Head 1 | iou.min=-0.1549, iou.max=0.8701, iou.mean=0.2723\n",
      "[DEBUG] Head 1 | ps[..., 4].sigmoid().mean = 0.0062\n",
      "[DEBUG] Head 2 | iou.min=-0.2399, iou.max=0.8521, iou.mean=0.2587\n",
      "[DEBUG] Head 2 | ps[..., 4].sigmoid().mean = 0.0212\n"
     ]
    },
    {
     "name": "stderr",
     "output_type": "stream",
     "text": [
      "[YoloOW] Epoch 1/30:  71%|███████   | 17/24 [00:16<00:06,  1.07it/s, Loss=7.5660, box=0.110, obj=0.034, cls=0.329, total loss=0.473, lr=0.000075]"
     ]
    },
    {
     "name": "stdout",
     "output_type": "stream",
     "text": [
      "[DEBUG] Head 0 | iou.min=-0.1660, iou.max=0.8693, iou.mean=0.2888\n",
      "[DEBUG] Head 0 | ps[..., 4].sigmoid().mean = 0.0029\n",
      "[DEBUG] Head 1 | iou.min=-0.1987, iou.max=0.9334, iou.mean=0.3137\n",
      "[DEBUG] Head 1 | ps[..., 4].sigmoid().mean = 0.0057\n",
      "[DEBUG] Head 2 | iou.min=-0.2133, iou.max=0.8471, iou.mean=0.2368\n",
      "[DEBUG] Head 2 | ps[..., 4].sigmoid().mean = 0.0178\n"
     ]
    },
    {
     "name": "stderr",
     "output_type": "stream",
     "text": [
      "[YoloOW] Epoch 1/30:  75%|███████▌  | 18/24 [00:17<00:05,  1.08it/s, Loss=7.5660, box=0.110, obj=0.034, cls=0.329, total loss=0.473, lr=0.000075]"
     ]
    },
    {
     "name": "stdout",
     "output_type": "stream",
     "text": [
      "[DEBUG] Head 0 | iou.min=-0.0471, iou.max=0.8931, iou.mean=0.3304\n",
      "[DEBUG] Head 0 | ps[..., 4].sigmoid().mean = 0.0024\n",
      "[DEBUG] Head 1 | iou.min=-0.1131, iou.max=0.8679, iou.mean=0.3313\n",
      "[DEBUG] Head 1 | ps[..., 4].sigmoid().mean = 0.0059\n",
      "[DEBUG] Head 2 | iou.min=-0.1810, iou.max=0.7435, iou.mean=0.2403\n",
      "[DEBUG] Head 2 | ps[..., 4].sigmoid().mean = 0.0191\n"
     ]
    },
    {
     "name": "stderr",
     "output_type": "stream",
     "text": [
      "[YoloOW] Epoch 1/30:  79%|███████▉  | 19/24 [00:18<00:04,  1.08it/s, Loss=7.5660, box=0.110, obj=0.034, cls=0.329, total loss=0.473, lr=0.000075]"
     ]
    },
    {
     "name": "stdout",
     "output_type": "stream",
     "text": [
      "[DEBUG] Head 0 | iou.min=-0.0594, iou.max=0.8130, iou.mean=0.2867\n",
      "[DEBUG] Head 0 | ps[..., 4].sigmoid().mean = 0.0026\n",
      "[DEBUG] Head 1 | iou.min=-0.1116, iou.max=0.7957, iou.mean=0.2654\n",
      "[DEBUG] Head 1 | ps[..., 4].sigmoid().mean = 0.0059\n",
      "[DEBUG] Head 2 | iou.min=-0.2705, iou.max=0.7535, iou.mean=0.2508\n",
      "[DEBUG] Head 2 | ps[..., 4].sigmoid().mean = 0.0210\n"
     ]
    },
    {
     "name": "stderr",
     "output_type": "stream",
     "text": [
      "[YoloOW] Epoch 1/30:  83%|████████▎ | 20/24 [00:19<00:03,  1.07it/s, Loss=6.6323, box=0.110, obj=0.043, cls=0.261, total loss=0.415, lr=0.000158]"
     ]
    },
    {
     "name": "stdout",
     "output_type": "stream",
     "text": [
      "[DEBUG] Head 0 | iou.min=-0.1874, iou.max=0.8408, iou.mean=0.2439\n",
      "[DEBUG] Head 0 | ps[..., 4].sigmoid().mean = 0.0024\n",
      "[DEBUG] Head 1 | iou.min=-0.1753, iou.max=0.8325, iou.mean=0.2872\n",
      "[DEBUG] Head 1 | ps[..., 4].sigmoid().mean = 0.0052\n",
      "[DEBUG] Head 2 | iou.min=-0.2578, iou.max=0.8203, iou.mean=0.2360\n",
      "[DEBUG] Head 2 | ps[..., 4].sigmoid().mean = 0.0163\n"
     ]
    },
    {
     "name": "stderr",
     "output_type": "stream",
     "text": [
      "[YoloOW] Epoch 1/30:  88%|████████▊ | 21/24 [00:20<00:02,  1.08it/s, Loss=6.6323, box=0.110, obj=0.043, cls=0.261, total loss=0.415, lr=0.000158]"
     ]
    },
    {
     "name": "stdout",
     "output_type": "stream",
     "text": [
      "[DEBUG] Head 0 | iou.min=-0.1502, iou.max=0.8249, iou.mean=0.2489\n",
      "[DEBUG] Head 0 | ps[..., 4].sigmoid().mean = 0.0035\n",
      "[DEBUG] Head 1 | iou.min=-0.2439, iou.max=0.8588, iou.mean=0.2246\n",
      "[DEBUG] Head 1 | ps[..., 4].sigmoid().mean = 0.0059\n",
      "[DEBUG] Head 2 | iou.min=-0.1107, iou.max=0.7799, iou.mean=0.2184\n",
      "[DEBUG] Head 2 | ps[..., 4].sigmoid().mean = 0.0193\n"
     ]
    },
    {
     "name": "stderr",
     "output_type": "stream",
     "text": [
      "[YoloOW] Epoch 1/30:  92%|█████████▏| 22/24 [00:21<00:01,  1.07it/s, Loss=6.6323, box=0.110, obj=0.043, cls=0.261, total loss=0.415, lr=0.000158]"
     ]
    },
    {
     "name": "stdout",
     "output_type": "stream",
     "text": [
      "[DEBUG] Head 0 | iou.min=-0.0291, iou.max=0.9166, iou.mean=0.3297\n",
      "[DEBUG] Head 0 | ps[..., 4].sigmoid().mean = 0.0021\n",
      "[DEBUG] Head 1 | iou.min=-0.1602, iou.max=0.8748, iou.mean=0.3516\n",
      "[DEBUG] Head 1 | ps[..., 4].sigmoid().mean = 0.0066\n",
      "[DEBUG] Head 2 | iou.min=-0.1456, iou.max=0.7981, iou.mean=0.2951\n",
      "[DEBUG] Head 2 | ps[..., 4].sigmoid().mean = 0.0206\n"
     ]
    },
    {
     "name": "stderr",
     "output_type": "stream",
     "text": [
      "[YoloOW] Epoch 1/30:  96%|█████████▌| 23/24 [00:22<00:00,  1.08it/s, Loss=6.6323, box=0.110, obj=0.043, cls=0.261, total loss=0.415, lr=0.000158]"
     ]
    },
    {
     "name": "stdout",
     "output_type": "stream",
     "text": [
      "[DEBUG] Head 0 | iou.min=-0.0823, iou.max=0.9286, iou.mean=0.3422\n",
      "[DEBUG] Head 0 | ps[..., 4].sigmoid().mean = 0.0024\n",
      "[DEBUG] Head 1 | iou.min=-0.1767, iou.max=0.8726, iou.mean=0.3608\n",
      "[DEBUG] Head 1 | ps[..., 4].sigmoid().mean = 0.0065\n",
      "[DEBUG] Head 2 | iou.min=-0.0880, iou.max=0.8432, iou.mean=0.2855\n",
      "[DEBUG] Head 2 | ps[..., 4].sigmoid().mean = 0.0192\n"
     ]
    },
    {
     "name": "stderr",
     "output_type": "stream",
     "text": [
      "[YoloOW] Epoch 1/30: 100%|██████████| 24/24 [00:23<00:00,  1.03it/s, Loss=6.7517, box=0.101, obj=0.047, cls=0.274, total loss=0.422, lr=0.000192]\n"
     ]
    },
    {
     "name": "stdout",
     "output_type": "stream",
     "text": [
      "\n",
      "[YoloOW] ✅ Epoch 1/30 complete in 23.28s | Avg Loss: 7.4888\n",
      "\n",
      "[YoloOW] 📊 Running evaluation after epoch 1 ...\n",
      "[DEBUG] Head 0 | iou.min=0.0726, iou.max=0.8651, iou.mean=0.3485\n",
      "[DEBUG] Head 0 | ps[..., 4].sigmoid().mean = 0.0012\n",
      "[DEBUG] Head 1 | iou.min=0.0661, iou.max=0.8795, iou.mean=0.3986\n",
      "[DEBUG] Head 1 | ps[..., 4].sigmoid().mean = 0.0052\n",
      "[DEBUG] Head 2 | iou.min=-0.0471, iou.max=0.8269, iou.mean=0.2740\n",
      "[DEBUG] Head 2 | ps[..., 4].sigmoid().mean = 0.0186\n",
      "[DEBUG] Head 0 | iou.min=0.0712, iou.max=0.8804, iou.mean=0.3801\n",
      "[DEBUG] Head 0 | ps[..., 4].sigmoid().mean = 0.0012\n",
      "[DEBUG] Head 1 | iou.min=0.0515, iou.max=0.8622, iou.mean=0.3836\n",
      "[DEBUG] Head 1 | ps[..., 4].sigmoid().mean = 0.0052\n",
      "[DEBUG] Head 2 | iou.min=-0.0296, iou.max=0.7747, iou.mean=0.2667\n",
      "[DEBUG] Head 2 | ps[..., 4].sigmoid().mean = 0.0186\n",
      "[DEBUG] Head 0 | iou.min=0.0683, iou.max=0.9356, iou.mean=0.3689\n",
      "[DEBUG] Head 0 | ps[..., 4].sigmoid().mean = 0.0012\n",
      "[DEBUG] Head 1 | iou.min=0.0611, iou.max=0.8114, iou.mean=0.3823\n",
      "[DEBUG] Head 1 | ps[..., 4].sigmoid().mean = 0.0052\n",
      "[DEBUG] Head 2 | iou.min=-0.0514, iou.max=0.7349, iou.mean=0.2593\n",
      "[DEBUG] Head 2 | ps[..., 4].sigmoid().mean = 0.0187\n",
      "[DEBUG] Head 0 | iou.min=0.0693, iou.max=0.7125, iou.mean=0.2946\n",
      "[DEBUG] Head 0 | ps[..., 4].sigmoid().mean = 0.0012\n",
      "[DEBUG] Head 1 | iou.min=0.0773, iou.max=0.8105, iou.mean=0.4185\n",
      "[DEBUG] Head 1 | ps[..., 4].sigmoid().mean = 0.0051\n",
      "[DEBUG] Head 2 | iou.min=0.0046, iou.max=0.7518, iou.mean=0.2808\n",
      "[DEBUG] Head 2 | ps[..., 4].sigmoid().mean = 0.0189\n",
      "[DEBUG] Head 0 | iou.min=0.0567, iou.max=0.8266, iou.mean=0.2921\n",
      "[DEBUG] Head 0 | ps[..., 4].sigmoid().mean = 0.0012\n",
      "[DEBUG] Head 1 | iou.min=0.1217, iou.max=0.9088, iou.mean=0.4501\n",
      "[DEBUG] Head 1 | ps[..., 4].sigmoid().mean = 0.0052\n",
      "[DEBUG] Head 2 | iou.min=0.0435, iou.max=0.8514, iou.mean=0.3024\n",
      "[DEBUG] Head 2 | ps[..., 4].sigmoid().mean = 0.0189\n",
      "[DEBUG] Head 0 | iou.min=0.0867, iou.max=0.9047, iou.mean=0.3725\n",
      "[DEBUG] Head 0 | ps[..., 4].sigmoid().mean = 0.0012\n",
      "[DEBUG] Head 1 | iou.min=0.0788, iou.max=0.8338, iou.mean=0.4196\n",
      "[DEBUG] Head 1 | ps[..., 4].sigmoid().mean = 0.0052\n",
      "[DEBUG] Head 2 | iou.min=0.0013, iou.max=0.8024, iou.mean=0.2400\n",
      "[DEBUG] Head 2 | ps[..., 4].sigmoid().mean = 0.0188\n",
      "[DEBUG] Head 0 | iou.min=0.0631, iou.max=0.7952, iou.mean=0.3885\n",
      "[DEBUG] Head 0 | ps[..., 4].sigmoid().mean = 0.0012\n",
      "[DEBUG] Head 1 | iou.min=0.0803, iou.max=0.8257, iou.mean=0.3588\n",
      "[DEBUG] Head 1 | ps[..., 4].sigmoid().mean = 0.0052\n",
      "[DEBUG] Head 2 | iou.min=-0.0400, iou.max=0.7544, iou.mean=0.2988\n",
      "[DEBUG] Head 2 | ps[..., 4].sigmoid().mean = 0.0186\n",
      "[DEBUG] Head 0 | iou.min=0.0601, iou.max=0.8781, iou.mean=0.4011\n",
      "[DEBUG] Head 0 | ps[..., 4].sigmoid().mean = 0.0012\n",
      "[DEBUG] Head 1 | iou.min=-0.0019, iou.max=0.7901, iou.mean=0.3044\n",
      "[DEBUG] Head 1 | ps[..., 4].sigmoid().mean = 0.0052\n",
      "[DEBUG] Head 2 | iou.min=-0.0252, iou.max=0.7577, iou.mean=0.2224\n",
      "[DEBUG] Head 2 | ps[..., 4].sigmoid().mean = 0.0183\n",
      "[DEBUG] Head 0 | iou.min=0.1046, iou.max=0.5110, iou.mean=0.2481\n",
      "[DEBUG] Head 0 | ps[..., 4].sigmoid().mean = 0.0012\n",
      "[DEBUG] Head 1 | iou.min=0.0789, iou.max=0.6919, iou.mean=0.4163\n",
      "[DEBUG] Head 1 | ps[..., 4].sigmoid().mean = 0.0051\n",
      "[DEBUG] Head 2 | iou.min=0.1036, iou.max=0.6709, iou.mean=0.2980\n",
      "[DEBUG] Head 2 | ps[..., 4].sigmoid().mean = 0.0192\n",
      "[validate_yoloow_model] ✅  Avg Loss  (box/obj/cls/total): 0.0996 / 0.1067 / 0.3032 / 0.5095\n"
     ]
    },
    {
     "name": "stderr",
     "output_type": "stream",
     "text": [
      "[YoloOW] Epoch 2/30:   0%|          | 0/24 [00:00<?, ?it/s]"
     ]
    },
    {
     "name": "stdout",
     "output_type": "stream",
     "text": [
      "[DEBUG] Head 0 | iou.min=0.0600, iou.max=0.9234, iou.mean=0.3675\n",
      "[DEBUG] Head 0 | ps[..., 4].sigmoid().mean = 0.0012\n",
      "[DEBUG] Head 1 | iou.min=0.0682, iou.max=0.8068, iou.mean=0.3665\n",
      "[DEBUG] Head 1 | ps[..., 4].sigmoid().mean = 0.0052\n",
      "[DEBUG] Head 2 | iou.min=-0.0440, iou.max=0.6881, iou.mean=0.2411\n",
      "[DEBUG] Head 2 | ps[..., 4].sigmoid().mean = 0.0186\n"
     ]
    },
    {
     "name": "stderr",
     "output_type": "stream",
     "text": [
      "[YoloOW] Epoch 2/30:   4%|▍         | 1/24 [00:00<00:20,  1.11it/s]"
     ]
    },
    {
     "name": "stdout",
     "output_type": "stream",
     "text": [
      "[DEBUG] Head 0 | iou.min=0.0641, iou.max=0.8670, iou.mean=0.3495\n",
      "[DEBUG] Head 0 | ps[..., 4].sigmoid().mean = 0.0012\n",
      "[DEBUG] Head 1 | iou.min=0.0926, iou.max=0.9493, iou.mean=0.4101\n",
      "[DEBUG] Head 1 | ps[..., 4].sigmoid().mean = 0.0052\n",
      "[DEBUG] Head 2 | iou.min=-0.0171, iou.max=0.7801, iou.mean=0.2873\n",
      "[DEBUG] Head 2 | ps[..., 4].sigmoid().mean = 0.0186\n"
     ]
    },
    {
     "name": "stderr",
     "output_type": "stream",
     "text": [
      "[YoloOW] Epoch 2/30:   8%|▊         | 2/24 [00:01<00:19,  1.10it/s]"
     ]
    },
    {
     "name": "stdout",
     "output_type": "stream",
     "text": [
      "[DEBUG] Head 0 | iou.min=0.0697, iou.max=0.8666, iou.mean=0.3186\n",
      "[DEBUG] Head 0 | ps[..., 4].sigmoid().mean = 0.0012\n",
      "[DEBUG] Head 1 | iou.min=0.0541, iou.max=0.7779, iou.mean=0.3927\n",
      "[DEBUG] Head 1 | ps[..., 4].sigmoid().mean = 0.0051\n",
      "[DEBUG] Head 2 | iou.min=-0.0292, iou.max=0.8146, iou.mean=0.3134\n",
      "[DEBUG] Head 2 | ps[..., 4].sigmoid().mean = 0.0185\n"
     ]
    },
    {
     "name": "stderr",
     "output_type": "stream",
     "text": [
      "[YoloOW] Epoch 2/30:  12%|█▎        | 3/24 [00:02<00:19,  1.10it/s]"
     ]
    },
    {
     "name": "stdout",
     "output_type": "stream",
     "text": [
      "[DEBUG] Head 0 | iou.min=0.0674, iou.max=0.9038, iou.mean=0.3994\n",
      "[DEBUG] Head 0 | ps[..., 4].sigmoid().mean = 0.0012\n",
      "[DEBUG] Head 1 | iou.min=0.0602, iou.max=0.9006, iou.mean=0.3455\n",
      "[DEBUG] Head 1 | ps[..., 4].sigmoid().mean = 0.0051\n",
      "[DEBUG] Head 2 | iou.min=-0.0312, iou.max=0.7343, iou.mean=0.2775\n",
      "[DEBUG] Head 2 | ps[..., 4].sigmoid().mean = 0.0177\n"
     ]
    },
    {
     "name": "stderr",
     "output_type": "stream",
     "text": [
      "[YoloOW] Epoch 2/30:  17%|█▋        | 4/24 [00:03<00:18,  1.09it/s]"
     ]
    },
    {
     "name": "stdout",
     "output_type": "stream",
     "text": [
      "[DEBUG] Head 0 | iou.min=0.0818, iou.max=0.8671, iou.mean=0.3780\n",
      "[DEBUG] Head 0 | ps[..., 4].sigmoid().mean = 0.0012\n",
      "[DEBUG] Head 1 | iou.min=0.0382, iou.max=0.8618, iou.mean=0.3736\n",
      "[DEBUG] Head 1 | ps[..., 4].sigmoid().mean = 0.0050\n",
      "[DEBUG] Head 2 | iou.min=-0.0355, iou.max=0.7354, iou.mean=0.2636\n",
      "[DEBUG] Head 2 | ps[..., 4].sigmoid().mean = 0.0171\n"
     ]
    },
    {
     "name": "stderr",
     "output_type": "stream",
     "text": [
      "[YoloOW] Epoch 2/30:  21%|██        | 5/24 [00:04<00:17,  1.08it/s]"
     ]
    },
    {
     "name": "stdout",
     "output_type": "stream",
     "text": [
      "[DEBUG] Head 0 | iou.min=0.0957, iou.max=0.9451, iou.mean=0.3756\n",
      "[DEBUG] Head 0 | ps[..., 4].sigmoid().mean = 0.0012\n",
      "[DEBUG] Head 1 | iou.min=0.0404, iou.max=0.8212, iou.mean=0.3988\n",
      "[DEBUG] Head 1 | ps[..., 4].sigmoid().mean = 0.0050\n",
      "[DEBUG] Head 2 | iou.min=-0.0493, iou.max=0.7282, iou.mean=0.2508\n",
      "[DEBUG] Head 2 | ps[..., 4].sigmoid().mean = 0.0169\n"
     ]
    },
    {
     "name": "stderr",
     "output_type": "stream",
     "text": [
      "[YoloOW] Epoch 2/30:  25%|██▌       | 6/24 [00:05<00:16,  1.09it/s]"
     ]
    },
    {
     "name": "stdout",
     "output_type": "stream",
     "text": [
      "[DEBUG] Head 0 | iou.min=0.0686, iou.max=0.7668, iou.mean=0.2774\n",
      "[DEBUG] Head 0 | ps[..., 4].sigmoid().mean = 0.0012\n",
      "[DEBUG] Head 1 | iou.min=0.0486, iou.max=0.8692, iou.mean=0.3952\n",
      "[DEBUG] Head 1 | ps[..., 4].sigmoid().mean = 0.0050\n",
      "[DEBUG] Head 2 | iou.min=0.0329, iou.max=0.7892, iou.mean=0.3552\n",
      "[DEBUG] Head 2 | ps[..., 4].sigmoid().mean = 0.0168\n"
     ]
    },
    {
     "name": "stderr",
     "output_type": "stream",
     "text": [
      "[YoloOW] Epoch 2/30:  29%|██▉       | 7/24 [00:06<00:15,  1.09it/s]"
     ]
    },
    {
     "name": "stdout",
     "output_type": "stream",
     "text": [
      "[DEBUG] Head 0 | iou.min=0.0574, iou.max=0.8538, iou.mean=0.3915\n",
      "[DEBUG] Head 0 | ps[..., 4].sigmoid().mean = 0.0012\n",
      "[DEBUG] Head 1 | iou.min=-0.0004, iou.max=0.8710, iou.mean=0.2720\n",
      "[DEBUG] Head 1 | ps[..., 4].sigmoid().mean = 0.0050\n",
      "[DEBUG] Head 2 | iou.min=-0.0407, iou.max=0.7434, iou.mean=0.2324\n",
      "[DEBUG] Head 2 | ps[..., 4].sigmoid().mean = 0.0157\n"
     ]
    },
    {
     "name": "stderr",
     "output_type": "stream",
     "text": [
      "[YoloOW] Epoch 2/30:  33%|███▎      | 8/24 [00:07<00:14,  1.09it/s]"
     ]
    },
    {
     "name": "stdout",
     "output_type": "stream",
     "text": [
      "[DEBUG] Head 0 | iou.min=0.0725, iou.max=0.9256, iou.mean=0.4199\n",
      "[DEBUG] Head 0 | ps[..., 4].sigmoid().mean = 0.0012\n",
      "[DEBUG] Head 1 | iou.min=0.0304, iou.max=0.8695, iou.mean=0.3927\n",
      "[DEBUG] Head 1 | ps[..., 4].sigmoid().mean = 0.0050\n",
      "[DEBUG] Head 2 | iou.min=-0.0049, iou.max=0.8282, iou.mean=0.2606\n",
      "[DEBUG] Head 2 | ps[..., 4].sigmoid().mean = 0.0153\n"
     ]
    },
    {
     "name": "stderr",
     "output_type": "stream",
     "text": [
      "[YoloOW] Epoch 2/30:  38%|███▊      | 9/24 [00:08<00:14,  1.07it/s]"
     ]
    },
    {
     "name": "stdout",
     "output_type": "stream",
     "text": [
      "[DEBUG] Head 0 | iou.min=0.0842, iou.max=0.7571, iou.mean=0.2870\n",
      "[DEBUG] Head 0 | ps[..., 4].sigmoid().mean = 0.0012\n",
      "[DEBUG] Head 1 | iou.min=0.0754, iou.max=0.7901, iou.mean=0.3741\n",
      "[DEBUG] Head 1 | ps[..., 4].sigmoid().mean = 0.0049\n",
      "[DEBUG] Head 2 | iou.min=0.0125, iou.max=0.7818, iou.mean=0.3517\n",
      "[DEBUG] Head 2 | ps[..., 4].sigmoid().mean = 0.0153\n"
     ]
    },
    {
     "name": "stderr",
     "output_type": "stream",
     "text": [
      "[YoloOW] Epoch 2/30:  42%|████▏     | 10/24 [00:09<00:12,  1.08it/s, Loss=6.7800, box=0.099, obj=0.031, cls=0.293, total loss=0.424, lr=0.000275]"
     ]
    },
    {
     "name": "stdout",
     "output_type": "stream",
     "text": [
      "[DEBUG] Head 0 | iou.min=0.0811, iou.max=0.8875, iou.mean=0.4012\n",
      "[DEBUG] Head 0 | ps[..., 4].sigmoid().mean = 0.0012\n",
      "[DEBUG] Head 1 | iou.min=0.0709, iou.max=0.8214, iou.mean=0.3352\n",
      "[DEBUG] Head 1 | ps[..., 4].sigmoid().mean = 0.0049\n",
      "[DEBUG] Head 2 | iou.min=-0.0270, iou.max=0.8840, iou.mean=0.2920\n",
      "[DEBUG] Head 2 | ps[..., 4].sigmoid().mean = 0.0143\n"
     ]
    },
    {
     "name": "stderr",
     "output_type": "stream",
     "text": [
      "[YoloOW] Epoch 2/30:  46%|████▌     | 11/24 [00:10<00:11,  1.09it/s, Loss=6.7800, box=0.099, obj=0.031, cls=0.293, total loss=0.424, lr=0.000275]"
     ]
    },
    {
     "name": "stdout",
     "output_type": "stream",
     "text": [
      "[DEBUG] Head 0 | iou.min=0.0854, iou.max=0.8827, iou.mean=0.3408\n",
      "[DEBUG] Head 0 | ps[..., 4].sigmoid().mean = 0.0012\n",
      "[DEBUG] Head 1 | iou.min=0.0824, iou.max=0.7979, iou.mean=0.4215\n",
      "[DEBUG] Head 1 | ps[..., 4].sigmoid().mean = 0.0049\n",
      "[DEBUG] Head 2 | iou.min=-0.0135, iou.max=0.9152, iou.mean=0.3312\n",
      "[DEBUG] Head 2 | ps[..., 4].sigmoid().mean = 0.0137\n"
     ]
    },
    {
     "name": "stderr",
     "output_type": "stream",
     "text": [
      "[YoloOW] Epoch 2/30:  50%|█████     | 12/24 [00:11<00:10,  1.09it/s, Loss=6.7800, box=0.099, obj=0.031, cls=0.293, total loss=0.424, lr=0.000275]"
     ]
    },
    {
     "name": "stdout",
     "output_type": "stream",
     "text": [
      "[DEBUG] Head 0 | iou.min=0.0729, iou.max=0.8146, iou.mean=0.3339\n",
      "[DEBUG] Head 0 | ps[..., 4].sigmoid().mean = 0.0012\n",
      "[DEBUG] Head 1 | iou.min=0.0583, iou.max=0.8229, iou.mean=0.3661\n",
      "[DEBUG] Head 1 | ps[..., 4].sigmoid().mean = 0.0048\n",
      "[DEBUG] Head 2 | iou.min=0.0056, iou.max=0.8644, iou.mean=0.3101\n",
      "[DEBUG] Head 2 | ps[..., 4].sigmoid().mean = 0.0127\n"
     ]
    },
    {
     "name": "stderr",
     "output_type": "stream",
     "text": [
      "[YoloOW] Epoch 2/30:  54%|█████▍    | 13/24 [00:11<00:10,  1.10it/s, Loss=6.7800, box=0.099, obj=0.031, cls=0.293, total loss=0.424, lr=0.000275]"
     ]
    },
    {
     "name": "stdout",
     "output_type": "stream",
     "text": [
      "[DEBUG] Head 0 | iou.min=0.1039, iou.max=0.8588, iou.mean=0.3753\n",
      "[DEBUG] Head 0 | ps[..., 4].sigmoid().mean = 0.0012\n",
      "[DEBUG] Head 1 | iou.min=0.0787, iou.max=0.8395, iou.mean=0.4478\n",
      "[DEBUG] Head 1 | ps[..., 4].sigmoid().mean = 0.0048\n",
      "[DEBUG] Head 2 | iou.min=0.0026, iou.max=0.8020, iou.mean=0.3257\n",
      "[DEBUG] Head 2 | ps[..., 4].sigmoid().mean = 0.0120\n"
     ]
    },
    {
     "name": "stderr",
     "output_type": "stream",
     "text": [
      "[YoloOW] Epoch 2/30:  58%|█████▊    | 14/24 [00:12<00:09,  1.10it/s, Loss=6.7800, box=0.099, obj=0.031, cls=0.293, total loss=0.424, lr=0.000275]"
     ]
    },
    {
     "name": "stdout",
     "output_type": "stream",
     "text": [
      "[DEBUG] Head 0 | iou.min=0.0877, iou.max=0.9048, iou.mean=0.3694\n",
      "[DEBUG] Head 0 | ps[..., 4].sigmoid().mean = 0.0012\n",
      "[DEBUG] Head 1 | iou.min=0.0799, iou.max=0.8943, iou.mean=0.4326\n",
      "[DEBUG] Head 1 | ps[..., 4].sigmoid().mean = 0.0048\n",
      "[DEBUG] Head 2 | iou.min=-0.0197, iou.max=0.7538, iou.mean=0.3083\n",
      "[DEBUG] Head 2 | ps[..., 4].sigmoid().mean = 0.0110\n"
     ]
    },
    {
     "name": "stderr",
     "output_type": "stream",
     "text": [
      "[YoloOW] Epoch 2/30:  62%|██████▎   | 15/24 [00:13<00:08,  1.08it/s, Loss=6.7800, box=0.099, obj=0.031, cls=0.293, total loss=0.424, lr=0.000275]"
     ]
    },
    {
     "name": "stdout",
     "output_type": "stream",
     "text": [
      "[DEBUG] Head 0 | iou.min=0.0886, iou.max=0.8967, iou.mean=0.4044\n",
      "[DEBUG] Head 0 | ps[..., 4].sigmoid().mean = 0.0012\n",
      "[DEBUG] Head 1 | iou.min=0.0608, iou.max=0.9057, iou.mean=0.4144\n",
      "[DEBUG] Head 1 | ps[..., 4].sigmoid().mean = 0.0047\n",
      "[DEBUG] Head 2 | iou.min=-0.0273, iou.max=0.8329, iou.mean=0.2843\n",
      "[DEBUG] Head 2 | ps[..., 4].sigmoid().mean = 0.0104\n"
     ]
    },
    {
     "name": "stderr",
     "output_type": "stream",
     "text": [
      "[YoloOW] Epoch 2/30:  67%|██████▋   | 16/24 [00:14<00:07,  1.02it/s, Loss=6.7800, box=0.099, obj=0.031, cls=0.293, total loss=0.424, lr=0.000275]"
     ]
    },
    {
     "name": "stdout",
     "output_type": "stream",
     "text": [
      "[DEBUG] Head 0 | iou.min=0.0834, iou.max=0.8572, iou.mean=0.3454\n",
      "[DEBUG] Head 0 | ps[..., 4].sigmoid().mean = 0.0012\n",
      "[DEBUG] Head 1 | iou.min=0.0793, iou.max=0.8352, iou.mean=0.4069\n",
      "[DEBUG] Head 1 | ps[..., 4].sigmoid().mean = 0.0047\n",
      "[DEBUG] Head 2 | iou.min=0.0016, iou.max=0.7618, iou.mean=0.3065\n",
      "[DEBUG] Head 2 | ps[..., 4].sigmoid().mean = 0.0099\n"
     ]
    },
    {
     "name": "stderr",
     "output_type": "stream",
     "text": [
      "[YoloOW] Epoch 2/30:  71%|███████   | 17/24 [00:16<00:07,  1.01s/it, Loss=6.7800, box=0.099, obj=0.031, cls=0.293, total loss=0.424, lr=0.000275]"
     ]
    },
    {
     "name": "stdout",
     "output_type": "stream",
     "text": [
      "[DEBUG] Head 0 | iou.min=0.0717, iou.max=0.9306, iou.mean=0.3744\n",
      "[DEBUG] Head 0 | ps[..., 4].sigmoid().mean = 0.0012\n",
      "[DEBUG] Head 1 | iou.min=0.0882, iou.max=0.8496, iou.mean=0.4565\n",
      "[DEBUG] Head 1 | ps[..., 4].sigmoid().mean = 0.0047\n",
      "[DEBUG] Head 2 | iou.min=0.0372, iou.max=0.8422, iou.mean=0.3420\n",
      "[DEBUG] Head 2 | ps[..., 4].sigmoid().mean = 0.0101\n"
     ]
    },
    {
     "name": "stderr",
     "output_type": "stream",
     "text": [
      "[YoloOW] Epoch 2/30:  75%|███████▌  | 18/24 [00:18<00:08,  1.39s/it, Loss=6.7800, box=0.099, obj=0.031, cls=0.293, total loss=0.424, lr=0.000275]"
     ]
    },
    {
     "name": "stdout",
     "output_type": "stream",
     "text": [
      "[DEBUG] Head 0 | iou.min=0.1132, iou.max=0.8336, iou.mean=0.4217\n",
      "[DEBUG] Head 0 | ps[..., 4].sigmoid().mean = 0.0012\n",
      "[DEBUG] Head 1 | iou.min=0.0292, iou.max=0.7935, iou.mean=0.4179\n",
      "[DEBUG] Head 1 | ps[..., 4].sigmoid().mean = 0.0047\n",
      "[DEBUG] Head 2 | iou.min=0.0149, iou.max=0.8422, iou.mean=0.2968\n",
      "[DEBUG] Head 2 | ps[..., 4].sigmoid().mean = 0.0110\n"
     ]
    },
    {
     "name": "stderr",
     "output_type": "stream",
     "text": [
      "[YoloOW] Epoch 2/30:  79%|███████▉  | 19/24 [00:20<00:08,  1.64s/it, Loss=6.7800, box=0.099, obj=0.031, cls=0.293, total loss=0.424, lr=0.000275]"
     ]
    },
    {
     "name": "stdout",
     "output_type": "stream",
     "text": [
      "[DEBUG] Head 0 | iou.min=0.0892, iou.max=0.9010, iou.mean=0.3784\n",
      "[DEBUG] Head 0 | ps[..., 4].sigmoid().mean = 0.0012\n",
      "[DEBUG] Head 1 | iou.min=0.0997, iou.max=0.8485, iou.mean=0.4494\n",
      "[DEBUG] Head 1 | ps[..., 4].sigmoid().mean = 0.0046\n",
      "[DEBUG] Head 2 | iou.min=-0.0169, iou.max=0.7869, iou.mean=0.3435\n",
      "[DEBUG] Head 2 | ps[..., 4].sigmoid().mean = 0.0109\n"
     ]
    },
    {
     "name": "stderr",
     "output_type": "stream",
     "text": [
      "[YoloOW] Epoch 2/30:  83%|████████▎ | 20/24 [00:22<00:06,  1.73s/it, Loss=7.0568, box=0.091, obj=0.058, cls=0.292, total loss=0.441, lr=0.000358]"
     ]
    },
    {
     "name": "stdout",
     "output_type": "stream",
     "text": [
      "[DEBUG] Head 0 | iou.min=0.0813, iou.max=0.8830, iou.mean=0.3543\n",
      "[DEBUG] Head 0 | ps[..., 4].sigmoid().mean = 0.0012\n",
      "[DEBUG] Head 1 | iou.min=0.0830, iou.max=0.8636, iou.mean=0.4547\n",
      "[DEBUG] Head 1 | ps[..., 4].sigmoid().mean = 0.0046\n",
      "[DEBUG] Head 2 | iou.min=-0.0092, iou.max=0.8069, iou.mean=0.3250\n",
      "[DEBUG] Head 2 | ps[..., 4].sigmoid().mean = 0.0111\n"
     ]
    },
    {
     "name": "stderr",
     "output_type": "stream",
     "text": [
      "[YoloOW] Epoch 2/30:  88%|████████▊ | 21/24 [00:25<00:06,  2.02s/it, Loss=7.0568, box=0.091, obj=0.058, cls=0.292, total loss=0.441, lr=0.000358]"
     ]
    },
    {
     "name": "stdout",
     "output_type": "stream",
     "text": [
      "[DEBUG] Head 0 | iou.min=0.1050, iou.max=0.8551, iou.mean=0.3605\n",
      "[DEBUG] Head 0 | ps[..., 4].sigmoid().mean = 0.0012\n",
      "[DEBUG] Head 1 | iou.min=0.0757, iou.max=0.7965, iou.mean=0.5010\n",
      "[DEBUG] Head 1 | ps[..., 4].sigmoid().mean = 0.0046\n",
      "[DEBUG] Head 2 | iou.min=0.0458, iou.max=0.8729, iou.mean=0.3381\n",
      "[DEBUG] Head 2 | ps[..., 4].sigmoid().mean = 0.0113\n"
     ]
    },
    {
     "name": "stderr",
     "output_type": "stream",
     "text": [
      "[YoloOW] Epoch 2/30:  92%|█████████▏| 22/24 [00:27<00:04,  2.14s/it, Loss=7.0568, box=0.091, obj=0.058, cls=0.292, total loss=0.441, lr=0.000358]"
     ]
    },
    {
     "name": "stdout",
     "output_type": "stream",
     "text": [
      "[DEBUG] Head 0 | iou.min=0.0751, iou.max=0.8451, iou.mean=0.4218\n",
      "[DEBUG] Head 0 | ps[..., 4].sigmoid().mean = 0.0012\n",
      "[DEBUG] Head 1 | iou.min=0.1028, iou.max=0.8450, iou.mean=0.3912\n",
      "[DEBUG] Head 1 | ps[..., 4].sigmoid().mean = 0.0046\n",
      "[DEBUG] Head 2 | iou.min=-0.0884, iou.max=0.6949, iou.mean=0.2704\n",
      "[DEBUG] Head 2 | ps[..., 4].sigmoid().mean = 0.0116\n"
     ]
    },
    {
     "name": "stderr",
     "output_type": "stream",
     "text": [
      "[YoloOW] Epoch 2/30:  96%|█████████▌| 23/24 [00:29<00:02,  2.07s/it, Loss=7.0568, box=0.091, obj=0.058, cls=0.292, total loss=0.441, lr=0.000358]"
     ]
    },
    {
     "name": "stdout",
     "output_type": "stream",
     "text": [
      "[DEBUG] Head 0 | iou.min=0.0960, iou.max=0.8569, iou.mean=0.4019\n",
      "[DEBUG] Head 0 | ps[..., 4].sigmoid().mean = 0.0012\n",
      "[DEBUG] Head 1 | iou.min=0.1092, iou.max=0.8969, iou.mean=0.4679\n",
      "[DEBUG] Head 1 | ps[..., 4].sigmoid().mean = 0.0045\n",
      "[DEBUG] Head 2 | iou.min=-0.0692, iou.max=0.9130, iou.mean=0.3387\n",
      "[DEBUG] Head 2 | ps[..., 4].sigmoid().mean = 0.0115\n"
     ]
    },
    {
     "name": "stderr",
     "output_type": "stream",
     "text": [
      "[YoloOW] Epoch 2/30: 100%|██████████| 24/24 [00:31<00:00,  1.31s/it, Loss=6.8231, box=0.090, obj=0.057, cls=0.280, total loss=0.426, lr=0.000392]\n"
     ]
    },
    {
     "name": "stdout",
     "output_type": "stream",
     "text": [
      "\n",
      "[YoloOW] ✅ Epoch 2/30 complete in 31.46s | Avg Loss: 7.1455\n",
      "\n",
      "[YoloOW] 📊 Running evaluation after epoch 2 ...\n",
      "[DEBUG] Head 0 | iou.min=0.0934, iou.max=0.8147, iou.mean=0.3895\n",
      "[DEBUG] Head 0 | ps[..., 4].sigmoid().mean = 0.0012\n",
      "[DEBUG] Head 1 | iou.min=0.1442, iou.max=0.9632, iou.mean=0.4410\n",
      "[DEBUG] Head 1 | ps[..., 4].sigmoid().mean = 0.0045\n",
      "[DEBUG] Head 2 | iou.min=-0.1248, iou.max=0.7466, iou.mean=0.3279\n",
      "[DEBUG] Head 2 | ps[..., 4].sigmoid().mean = 0.0123\n",
      "[DEBUG] Head 0 | iou.min=0.0880, iou.max=0.9003, iou.mean=0.4195\n",
      "[DEBUG] Head 0 | ps[..., 4].sigmoid().mean = 0.0012\n",
      "[DEBUG] Head 1 | iou.min=0.0575, iou.max=0.8474, iou.mean=0.4232\n",
      "[DEBUG] Head 1 | ps[..., 4].sigmoid().mean = 0.0045\n",
      "[DEBUG] Head 2 | iou.min=-0.0622, iou.max=0.7975, iou.mean=0.3057\n",
      "[DEBUG] Head 2 | ps[..., 4].sigmoid().mean = 0.0123\n",
      "[DEBUG] Head 0 | iou.min=0.0882, iou.max=0.8646, iou.mean=0.4053\n",
      "[DEBUG] Head 0 | ps[..., 4].sigmoid().mean = 0.0012\n",
      "[DEBUG] Head 1 | iou.min=0.0565, iou.max=0.9238, iou.mean=0.4170\n",
      "[DEBUG] Head 1 | ps[..., 4].sigmoid().mean = 0.0045\n",
      "[DEBUG] Head 2 | iou.min=-0.1298, iou.max=0.7852, iou.mean=0.3113\n",
      "[DEBUG] Head 2 | ps[..., 4].sigmoid().mean = 0.0121\n",
      "[DEBUG] Head 0 | iou.min=0.0900, iou.max=0.8253, iou.mean=0.3393\n",
      "[DEBUG] Head 0 | ps[..., 4].sigmoid().mean = 0.0012\n",
      "[DEBUG] Head 1 | iou.min=0.0977, iou.max=0.8324, iou.mean=0.4830\n",
      "[DEBUG] Head 1 | ps[..., 4].sigmoid().mean = 0.0045\n",
      "[DEBUG] Head 2 | iou.min=-0.0585, iou.max=0.7730, iou.mean=0.3302\n",
      "[DEBUG] Head 2 | ps[..., 4].sigmoid().mean = 0.0117\n",
      "[DEBUG] Head 0 | iou.min=0.0701, iou.max=0.8226, iou.mean=0.3417\n",
      "[DEBUG] Head 0 | ps[..., 4].sigmoid().mean = 0.0012\n",
      "[DEBUG] Head 1 | iou.min=0.2068, iou.max=0.8488, iou.mean=0.5203\n",
      "[DEBUG] Head 1 | ps[..., 4].sigmoid().mean = 0.0045\n",
      "[DEBUG] Head 2 | iou.min=0.0185, iou.max=0.8785, iou.mean=0.3416\n",
      "[DEBUG] Head 2 | ps[..., 4].sigmoid().mean = 0.0117\n",
      "[DEBUG] Head 0 | iou.min=0.1126, iou.max=0.8725, iou.mean=0.4169\n",
      "[DEBUG] Head 0 | ps[..., 4].sigmoid().mean = 0.0012\n",
      "[DEBUG] Head 1 | iou.min=0.0725, iou.max=0.8677, iou.mean=0.4542\n",
      "[DEBUG] Head 1 | ps[..., 4].sigmoid().mean = 0.0045\n",
      "[DEBUG] Head 2 | iou.min=-0.0335, iou.max=0.8016, iou.mean=0.2878\n",
      "[DEBUG] Head 2 | ps[..., 4].sigmoid().mean = 0.0121\n",
      "[DEBUG] Head 0 | iou.min=0.0780, iou.max=0.8389, iou.mean=0.4263\n",
      "[DEBUG] Head 0 | ps[..., 4].sigmoid().mean = 0.0012\n",
      "[DEBUG] Head 1 | iou.min=0.0935, iou.max=0.7980, iou.mean=0.3912\n",
      "[DEBUG] Head 1 | ps[..., 4].sigmoid().mean = 0.0045\n",
      "[DEBUG] Head 2 | iou.min=-0.0661, iou.max=0.7689, iou.mean=0.3211\n",
      "[DEBUG] Head 2 | ps[..., 4].sigmoid().mean = 0.0123\n",
      "[DEBUG] Head 0 | iou.min=0.0775, iou.max=0.9172, iou.mean=0.4208\n",
      "[DEBUG] Head 0 | ps[..., 4].sigmoid().mean = 0.0012\n",
      "[DEBUG] Head 1 | iou.min=0.0622, iou.max=0.8016, iou.mean=0.3223\n",
      "[DEBUG] Head 1 | ps[..., 4].sigmoid().mean = 0.0045\n",
      "[DEBUG] Head 2 | iou.min=-0.0974, iou.max=0.9212, iou.mean=0.2767\n",
      "[DEBUG] Head 2 | ps[..., 4].sigmoid().mean = 0.0130\n",
      "[DEBUG] Head 0 | iou.min=0.1351, iou.max=0.5475, iou.mean=0.2945\n",
      "[DEBUG] Head 0 | ps[..., 4].sigmoid().mean = 0.0012\n",
      "[DEBUG] Head 1 | iou.min=0.0724, iou.max=0.6602, iou.mean=0.4721\n",
      "[DEBUG] Head 1 | ps[..., 4].sigmoid().mean = 0.0045\n",
      "[DEBUG] Head 2 | iou.min=0.0709, iou.max=0.7120, iou.mean=0.3603\n",
      "[DEBUG] Head 2 | ps[..., 4].sigmoid().mean = 0.0111\n",
      "[validate_yoloow_model] ✅  Avg Loss  (box/obj/cls/total): 0.0931 / 0.0949 / 0.2924 / 0.4804\n"
     ]
    },
    {
     "name": "stderr",
     "output_type": "stream",
     "text": [
      "[YoloOW] Epoch 3/30:   0%|          | 0/24 [00:00<?, ?it/s]"
     ]
    },
    {
     "name": "stdout",
     "output_type": "stream",
     "text": [
      "[DEBUG] Head 0 | iou.min=0.0873, iou.max=0.8227, iou.mean=0.3264\n",
      "[DEBUG] Head 0 | ps[..., 4].sigmoid().mean = 0.0012\n",
      "[DEBUG] Head 1 | iou.min=0.1463, iou.max=0.7909, iou.mean=0.4843\n",
      "[DEBUG] Head 1 | ps[..., 4].sigmoid().mean = 0.0045\n",
      "[DEBUG] Head 2 | iou.min=-0.1001, iou.max=0.8476, iou.mean=0.3605\n",
      "[DEBUG] Head 2 | ps[..., 4].sigmoid().mean = 0.0116\n"
     ]
    },
    {
     "name": "stderr",
     "output_type": "stream",
     "text": [
      "[YoloOW] Epoch 3/30:   4%|▍         | 1/24 [00:02<00:48,  2.09s/it]"
     ]
    },
    {
     "name": "stdout",
     "output_type": "stream",
     "text": [
      "[DEBUG] Head 0 | iou.min=0.0902, iou.max=0.8810, iou.mean=0.4027\n",
      "[DEBUG] Head 0 | ps[..., 4].sigmoid().mean = 0.0012\n",
      "[DEBUG] Head 1 | iou.min=0.0636, iou.max=0.7529, iou.mean=0.3957\n",
      "[DEBUG] Head 1 | ps[..., 4].sigmoid().mean = 0.0044\n",
      "[DEBUG] Head 2 | iou.min=-0.0256, iou.max=0.8659, iou.mean=0.3146\n",
      "[DEBUG] Head 2 | ps[..., 4].sigmoid().mean = 0.0121\n"
     ]
    },
    {
     "name": "stderr",
     "output_type": "stream",
     "text": [
      "[YoloOW] Epoch 3/30:   8%|▊         | 2/24 [00:04<00:50,  2.31s/it]"
     ]
    },
    {
     "name": "stdout",
     "output_type": "stream",
     "text": [
      "[DEBUG] Head 0 | iou.min=0.1116, iou.max=0.9233, iou.mean=0.4698\n",
      "[DEBUG] Head 0 | ps[..., 4].sigmoid().mean = 0.0012\n",
      "[DEBUG] Head 1 | iou.min=0.0614, iou.max=0.8166, iou.mean=0.4249\n",
      "[DEBUG] Head 1 | ps[..., 4].sigmoid().mean = 0.0044\n",
      "[DEBUG] Head 2 | iou.min=-0.0092, iou.max=0.7899, iou.mean=0.2813\n",
      "[DEBUG] Head 2 | ps[..., 4].sigmoid().mean = 0.0134\n"
     ]
    },
    {
     "name": "stderr",
     "output_type": "stream",
     "text": [
      "[YoloOW] Epoch 3/30:  12%|█▎        | 3/24 [00:06<00:43,  2.07s/it]"
     ]
    },
    {
     "name": "stdout",
     "output_type": "stream",
     "text": [
      "[DEBUG] Head 0 | iou.min=0.0982, iou.max=0.8604, iou.mean=0.4019\n",
      "[DEBUG] Head 0 | ps[..., 4].sigmoid().mean = 0.0012\n",
      "[DEBUG] Head 1 | iou.min=0.0841, iou.max=0.8135, iou.mean=0.3887\n",
      "[DEBUG] Head 1 | ps[..., 4].sigmoid().mean = 0.0043\n",
      "[DEBUG] Head 2 | iou.min=-0.0630, iou.max=0.7829, iou.mean=0.2760\n",
      "[DEBUG] Head 2 | ps[..., 4].sigmoid().mean = 0.0135\n"
     ]
    },
    {
     "name": "stderr",
     "output_type": "stream",
     "text": [
      "[YoloOW] Epoch 3/30:  17%|█▋        | 4/24 [00:08<00:40,  2.02s/it]"
     ]
    },
    {
     "name": "stdout",
     "output_type": "stream",
     "text": [
      "[DEBUG] Head 0 | iou.min=0.1174, iou.max=0.8810, iou.mean=0.4552\n",
      "[DEBUG] Head 0 | ps[..., 4].sigmoid().mean = 0.0012\n",
      "[DEBUG] Head 1 | iou.min=0.1076, iou.max=0.8993, iou.mean=0.4467\n",
      "[DEBUG] Head 1 | ps[..., 4].sigmoid().mean = 0.0042\n",
      "[DEBUG] Head 2 | iou.min=-0.0339, iou.max=0.8392, iou.mean=0.3140\n",
      "[DEBUG] Head 2 | ps[..., 4].sigmoid().mean = 0.0139\n"
     ]
    },
    {
     "name": "stderr",
     "output_type": "stream",
     "text": [
      "[YoloOW] Epoch 3/30:  21%|██        | 5/24 [00:09<00:35,  1.87s/it]"
     ]
    },
    {
     "name": "stdout",
     "output_type": "stream",
     "text": [
      "[DEBUG] Head 0 | iou.min=0.1322, iou.max=0.9435, iou.mean=0.4690\n",
      "[DEBUG] Head 0 | ps[..., 4].sigmoid().mean = 0.0012\n",
      "[DEBUG] Head 1 | iou.min=0.0831, iou.max=0.8606, iou.mean=0.4353\n",
      "[DEBUG] Head 1 | ps[..., 4].sigmoid().mean = 0.0042\n",
      "[DEBUG] Head 2 | iou.min=-0.0018, iou.max=0.7114, iou.mean=0.2951\n",
      "[DEBUG] Head 2 | ps[..., 4].sigmoid().mean = 0.0143\n"
     ]
    },
    {
     "name": "stderr",
     "output_type": "stream",
     "text": [
      "[YoloOW] Epoch 3/30:  25%|██▌       | 6/24 [00:11<00:31,  1.78s/it]"
     ]
    },
    {
     "name": "stdout",
     "output_type": "stream",
     "text": [
      "[DEBUG] Head 0 | iou.min=0.1250, iou.max=0.8743, iou.mean=0.3972\n",
      "[DEBUG] Head 0 | ps[..., 4].sigmoid().mean = 0.0012\n",
      "[DEBUG] Head 1 | iou.min=0.0710, iou.max=0.8520, iou.mean=0.4115\n",
      "[DEBUG] Head 1 | ps[..., 4].sigmoid().mean = 0.0043\n",
      "[DEBUG] Head 2 | iou.min=0.0024, iou.max=0.7598, iou.mean=0.3612\n",
      "[DEBUG] Head 2 | ps[..., 4].sigmoid().mean = 0.0129\n"
     ]
    },
    {
     "name": "stderr",
     "output_type": "stream",
     "text": [
      "[YoloOW] Epoch 3/30:  29%|██▉       | 7/24 [00:13<00:28,  1.69s/it]"
     ]
    },
    {
     "name": "stdout",
     "output_type": "stream",
     "text": [
      "[DEBUG] Head 0 | iou.min=0.1628, iou.max=0.8750, iou.mean=0.4405\n",
      "[DEBUG] Head 0 | ps[..., 4].sigmoid().mean = 0.0012\n",
      "[DEBUG] Head 1 | iou.min=0.1026, iou.max=0.8727, iou.mean=0.4481\n",
      "[DEBUG] Head 1 | ps[..., 4].sigmoid().mean = 0.0043\n",
      "[DEBUG] Head 2 | iou.min=0.0483, iou.max=0.8339, iou.mean=0.2912\n",
      "[DEBUG] Head 2 | ps[..., 4].sigmoid().mean = 0.0132\n"
     ]
    },
    {
     "name": "stderr",
     "output_type": "stream",
     "text": [
      "[YoloOW] Epoch 3/30:  33%|███▎      | 8/24 [00:14<00:26,  1.65s/it]"
     ]
    },
    {
     "name": "stdout",
     "output_type": "stream",
     "text": [
      "[DEBUG] Head 0 | iou.min=0.1171, iou.max=0.8820, iou.mean=0.4197\n",
      "[DEBUG] Head 0 | ps[..., 4].sigmoid().mean = 0.0012\n",
      "[DEBUG] Head 1 | iou.min=0.1063, iou.max=0.9346, iou.mean=0.4334\n",
      "[DEBUG] Head 1 | ps[..., 4].sigmoid().mean = 0.0043\n",
      "[DEBUG] Head 2 | iou.min=-0.0063, iou.max=0.8168, iou.mean=0.3380\n",
      "[DEBUG] Head 2 | ps[..., 4].sigmoid().mean = 0.0120\n"
     ]
    },
    {
     "name": "stderr",
     "output_type": "stream",
     "text": [
      "[YoloOW] Epoch 3/30:  38%|███▊      | 9/24 [00:16<00:25,  1.70s/it]"
     ]
    },
    {
     "name": "stdout",
     "output_type": "stream",
     "text": [
      "[DEBUG] Head 0 | iou.min=0.1067, iou.max=0.8908, iou.mean=0.4197\n",
      "[DEBUG] Head 0 | ps[..., 4].sigmoid().mean = 0.0012\n",
      "[DEBUG] Head 1 | iou.min=0.0551, iou.max=0.8222, iou.mean=0.3668\n",
      "[DEBUG] Head 1 | ps[..., 4].sigmoid().mean = 0.0044\n",
      "[DEBUG] Head 2 | iou.min=-0.0235, iou.max=0.7536, iou.mean=0.2965\n",
      "[DEBUG] Head 2 | ps[..., 4].sigmoid().mean = 0.0106\n"
     ]
    },
    {
     "name": "stderr",
     "output_type": "stream",
     "text": [
      "[YoloOW] Epoch 3/30:  42%|████▏     | 10/24 [00:17<00:22,  1.64s/it, Loss=7.0174, box=0.096, obj=0.048, cls=0.294, total loss=0.439, lr=0.000475]"
     ]
    },
    {
     "name": "stdout",
     "output_type": "stream",
     "text": [
      "[DEBUG] Head 0 | iou.min=0.1543, iou.max=0.8252, iou.mean=0.4387\n",
      "[DEBUG] Head 0 | ps[..., 4].sigmoid().mean = 0.0012\n",
      "[DEBUG] Head 1 | iou.min=0.0777, iou.max=0.8774, iou.mean=0.4286\n",
      "[DEBUG] Head 1 | ps[..., 4].sigmoid().mean = 0.0044\n",
      "[DEBUG] Head 2 | iou.min=0.0341, iou.max=0.8422, iou.mean=0.3182\n",
      "[DEBUG] Head 2 | ps[..., 4].sigmoid().mean = 0.0103\n"
     ]
    },
    {
     "name": "stderr",
     "output_type": "stream",
     "text": [
      "[YoloOW] Epoch 3/30:  46%|████▌     | 11/24 [00:19<00:20,  1.60s/it, Loss=7.0174, box=0.096, obj=0.048, cls=0.294, total loss=0.439, lr=0.000475]"
     ]
    },
    {
     "name": "stdout",
     "output_type": "stream",
     "text": [
      "[DEBUG] Head 0 | iou.min=0.1070, iou.max=0.8984, iou.mean=0.4667\n",
      "[DEBUG] Head 0 | ps[..., 4].sigmoid().mean = 0.0012\n",
      "[DEBUG] Head 1 | iou.min=0.0793, iou.max=0.8070, iou.mean=0.4071\n",
      "[DEBUG] Head 1 | ps[..., 4].sigmoid().mean = 0.0044\n",
      "[DEBUG] Head 2 | iou.min=-0.0037, iou.max=0.8427, iou.mean=0.3282\n",
      "[DEBUG] Head 2 | ps[..., 4].sigmoid().mean = 0.0109\n"
     ]
    },
    {
     "name": "stderr",
     "output_type": "stream",
     "text": [
      "[YoloOW] Epoch 3/30:  50%|█████     | 12/24 [00:21<00:19,  1.62s/it, Loss=7.0174, box=0.096, obj=0.048, cls=0.294, total loss=0.439, lr=0.000475]"
     ]
    },
    {
     "name": "stdout",
     "output_type": "stream",
     "text": [
      "[DEBUG] Head 0 | iou.min=0.1427, iou.max=0.8327, iou.mean=0.4683\n",
      "[DEBUG] Head 0 | ps[..., 4].sigmoid().mean = 0.0012\n",
      "[DEBUG] Head 1 | iou.min=0.0925, iou.max=0.7768, iou.mean=0.4219\n",
      "[DEBUG] Head 1 | ps[..., 4].sigmoid().mean = 0.0046\n",
      "[DEBUG] Head 2 | iou.min=0.0165, iou.max=0.7815, iou.mean=0.3080\n",
      "[DEBUG] Head 2 | ps[..., 4].sigmoid().mean = 0.0112\n"
     ]
    },
    {
     "name": "stderr",
     "output_type": "stream",
     "text": [
      "[YoloOW] Epoch 3/30:  54%|█████▍    | 13/24 [00:22<00:18,  1.68s/it, Loss=7.0174, box=0.096, obj=0.048, cls=0.294, total loss=0.439, lr=0.000475]"
     ]
    },
    {
     "name": "stdout",
     "output_type": "stream",
     "text": [
      "[DEBUG] Head 0 | iou.min=0.1351, iou.max=0.8941, iou.mean=0.4748\n",
      "[DEBUG] Head 0 | ps[..., 4].sigmoid().mean = 0.0012\n",
      "[DEBUG] Head 1 | iou.min=0.0864, iou.max=0.8732, iou.mean=0.4371\n",
      "[DEBUG] Head 1 | ps[..., 4].sigmoid().mean = 0.0047\n",
      "[DEBUG] Head 2 | iou.min=0.0111, iou.max=0.8581, iou.mean=0.3297\n",
      "[DEBUG] Head 2 | ps[..., 4].sigmoid().mean = 0.0102\n"
     ]
    },
    {
     "name": "stderr",
     "output_type": "stream",
     "text": [
      "[YoloOW] Epoch 3/30:  58%|█████▊    | 14/24 [00:24<00:16,  1.67s/it, Loss=7.0174, box=0.096, obj=0.048, cls=0.294, total loss=0.439, lr=0.000475]"
     ]
    },
    {
     "name": "stdout",
     "output_type": "stream",
     "text": [
      "[DEBUG] Head 0 | iou.min=0.1670, iou.max=0.9159, iou.mean=0.5138\n",
      "[DEBUG] Head 0 | ps[..., 4].sigmoid().mean = 0.0012\n",
      "[DEBUG] Head 1 | iou.min=0.0828, iou.max=0.8169, iou.mean=0.4437\n",
      "[DEBUG] Head 1 | ps[..., 4].sigmoid().mean = 0.0047\n",
      "[DEBUG] Head 2 | iou.min=-0.0044, iou.max=0.9066, iou.mean=0.3243\n",
      "[DEBUG] Head 2 | ps[..., 4].sigmoid().mean = 0.0094\n"
     ]
    },
    {
     "name": "stderr",
     "output_type": "stream",
     "text": [
      "[YoloOW] Epoch 3/30:  62%|██████▎   | 15/24 [00:26<00:15,  1.77s/it, Loss=7.0174, box=0.096, obj=0.048, cls=0.294, total loss=0.439, lr=0.000475]"
     ]
    },
    {
     "name": "stdout",
     "output_type": "stream",
     "text": [
      "[DEBUG] Head 0 | iou.min=0.0915, iou.max=0.8986, iou.mean=0.3877\n",
      "[DEBUG] Head 0 | ps[..., 4].sigmoid().mean = 0.0012\n",
      "[DEBUG] Head 1 | iou.min=0.0470, iou.max=0.8327, iou.mean=0.2896\n",
      "[DEBUG] Head 1 | ps[..., 4].sigmoid().mean = 0.0047\n",
      "[DEBUG] Head 2 | iou.min=-0.0401, iou.max=0.7568, iou.mean=0.2783\n",
      "[DEBUG] Head 2 | ps[..., 4].sigmoid().mean = 0.0097\n"
     ]
    },
    {
     "name": "stderr",
     "output_type": "stream",
     "text": [
      "[YoloOW] Epoch 3/30:  67%|██████▋   | 16/24 [00:28<00:15,  1.88s/it, Loss=7.0174, box=0.096, obj=0.048, cls=0.294, total loss=0.439, lr=0.000475]"
     ]
    },
    {
     "name": "stdout",
     "output_type": "stream",
     "text": [
      "[DEBUG] Head 0 | iou.min=0.2037, iou.max=0.9462, iou.mean=0.5468\n",
      "[DEBUG] Head 0 | ps[..., 4].sigmoid().mean = 0.0012\n",
      "[DEBUG] Head 1 | iou.min=0.1099, iou.max=0.8858, iou.mean=0.4636\n",
      "[DEBUG] Head 1 | ps[..., 4].sigmoid().mean = 0.0047\n",
      "[DEBUG] Head 2 | iou.min=0.0207, iou.max=0.7403, iou.mean=0.3218\n",
      "[DEBUG] Head 2 | ps[..., 4].sigmoid().mean = 0.0094\n"
     ]
    },
    {
     "name": "stderr",
     "output_type": "stream",
     "text": [
      "[YoloOW] Epoch 3/30:  71%|███████   | 17/24 [00:31<00:14,  2.02s/it, Loss=7.0174, box=0.096, obj=0.048, cls=0.294, total loss=0.439, lr=0.000475]"
     ]
    },
    {
     "name": "stdout",
     "output_type": "stream",
     "text": [
      "[DEBUG] Head 0 | iou.min=0.0960, iou.max=0.9285, iou.mean=0.5500\n",
      "[DEBUG] Head 0 | ps[..., 4].sigmoid().mean = 0.0012\n",
      "[DEBUG] Head 1 | iou.min=0.0595, iou.max=0.9284, iou.mean=0.4631\n",
      "[DEBUG] Head 1 | ps[..., 4].sigmoid().mean = 0.0047\n",
      "[DEBUG] Head 2 | iou.min=-0.0465, iou.max=0.7962, iou.mean=0.3231\n",
      "[DEBUG] Head 2 | ps[..., 4].sigmoid().mean = 0.0089\n"
     ]
    },
    {
     "name": "stderr",
     "output_type": "stream",
     "text": [
      "[YoloOW] Epoch 3/30:  75%|███████▌  | 18/24 [00:32<00:11,  1.93s/it, Loss=7.0174, box=0.096, obj=0.048, cls=0.294, total loss=0.439, lr=0.000475]"
     ]
    },
    {
     "name": "stdout",
     "output_type": "stream",
     "text": [
      "[DEBUG] Head 0 | iou.min=0.1608, iou.max=0.8574, iou.mean=0.4313\n",
      "[DEBUG] Head 0 | ps[..., 4].sigmoid().mean = 0.0012\n",
      "[DEBUG] Head 1 | iou.min=0.1004, iou.max=0.8948, iou.mean=0.3591\n",
      "[DEBUG] Head 1 | ps[..., 4].sigmoid().mean = 0.0047\n",
      "[DEBUG] Head 2 | iou.min=-0.0399, iou.max=0.8223, iou.mean=0.2904\n",
      "[DEBUG] Head 2 | ps[..., 4].sigmoid().mean = 0.0082\n"
     ]
    },
    {
     "name": "stderr",
     "output_type": "stream",
     "text": [
      "[YoloOW] Epoch 3/30:  79%|███████▉  | 19/24 [00:34<00:08,  1.77s/it, Loss=7.0174, box=0.096, obj=0.048, cls=0.294, total loss=0.439, lr=0.000475]"
     ]
    },
    {
     "name": "stdout",
     "output_type": "stream",
     "text": [
      "[DEBUG] Head 0 | iou.min=0.1680, iou.max=0.8923, iou.mean=0.5321\n",
      "[DEBUG] Head 0 | ps[..., 4].sigmoid().mean = 0.0011\n",
      "[DEBUG] Head 1 | iou.min=0.1043, iou.max=0.8624, iou.mean=0.4187\n",
      "[DEBUG] Head 1 | ps[..., 4].sigmoid().mean = 0.0047\n",
      "[DEBUG] Head 2 | iou.min=0.0158, iou.max=0.8112, iou.mean=0.3247\n",
      "[DEBUG] Head 2 | ps[..., 4].sigmoid().mean = 0.0075\n"
     ]
    },
    {
     "name": "stderr",
     "output_type": "stream",
     "text": [
      "[YoloOW] Epoch 3/30:  83%|████████▎ | 20/24 [00:35<00:07,  1.76s/it, Loss=6.8660, box=0.086, obj=0.050, cls=0.293, total loss=0.429, lr=0.000558]"
     ]
    },
    {
     "name": "stdout",
     "output_type": "stream",
     "text": [
      "[DEBUG] Head 0 | iou.min=0.1752, iou.max=0.8457, iou.mean=0.4503\n",
      "[DEBUG] Head 0 | ps[..., 4].sigmoid().mean = 0.0011\n",
      "[DEBUG] Head 1 | iou.min=0.1300, iou.max=0.8188, iou.mean=0.3930\n",
      "[DEBUG] Head 1 | ps[..., 4].sigmoid().mean = 0.0047\n",
      "[DEBUG] Head 2 | iou.min=-0.0544, iou.max=0.7310, iou.mean=0.2706\n",
      "[DEBUG] Head 2 | ps[..., 4].sigmoid().mean = 0.0084\n"
     ]
    },
    {
     "name": "stderr",
     "output_type": "stream",
     "text": [
      "[YoloOW] Epoch 3/30:  88%|████████▊ | 21/24 [00:37<00:04,  1.65s/it, Loss=6.8660, box=0.086, obj=0.050, cls=0.293, total loss=0.429, lr=0.000558]"
     ]
    },
    {
     "name": "stdout",
     "output_type": "stream",
     "text": [
      "[DEBUG] Head 0 | iou.min=0.1644, iou.max=0.9023, iou.mean=0.4537\n",
      "[DEBUG] Head 0 | ps[..., 4].sigmoid().mean = 0.0011\n",
      "[DEBUG] Head 1 | iou.min=0.1201, iou.max=0.7684, iou.mean=0.3783\n",
      "[DEBUG] Head 1 | ps[..., 4].sigmoid().mean = 0.0047\n",
      "[DEBUG] Head 2 | iou.min=-0.0106, iou.max=0.7955, iou.mean=0.3245\n",
      "[DEBUG] Head 2 | ps[..., 4].sigmoid().mean = 0.0091\n"
     ]
    },
    {
     "name": "stderr",
     "output_type": "stream",
     "text": [
      "[YoloOW] Epoch 3/30:  92%|█████████▏| 22/24 [00:38<00:02,  1.46s/it, Loss=6.8660, box=0.086, obj=0.050, cls=0.293, total loss=0.429, lr=0.000558]"
     ]
    },
    {
     "name": "stdout",
     "output_type": "stream",
     "text": [
      "[DEBUG] Head 0 | iou.min=0.1561, iou.max=0.8831, iou.mean=0.4830\n",
      "[DEBUG] Head 0 | ps[..., 4].sigmoid().mean = 0.0011\n",
      "[DEBUG] Head 1 | iou.min=0.0798, iou.max=0.8550, iou.mean=0.4287\n",
      "[DEBUG] Head 1 | ps[..., 4].sigmoid().mean = 0.0046\n",
      "[DEBUG] Head 2 | iou.min=-0.0526, iou.max=0.7758, iou.mean=0.2681\n",
      "[DEBUG] Head 2 | ps[..., 4].sigmoid().mean = 0.0104\n"
     ]
    },
    {
     "name": "stderr",
     "output_type": "stream",
     "text": [
      "[YoloOW] Epoch 3/30:  96%|█████████▌| 23/24 [00:39<00:01,  1.39s/it, Loss=6.8660, box=0.086, obj=0.050, cls=0.293, total loss=0.429, lr=0.000558]"
     ]
    },
    {
     "name": "stdout",
     "output_type": "stream",
     "text": [
      "[DEBUG] Head 0 | iou.min=0.1138, iou.max=0.9050, iou.mean=0.5193\n",
      "[DEBUG] Head 0 | ps[..., 4].sigmoid().mean = 0.0011\n",
      "[DEBUG] Head 1 | iou.min=0.0568, iou.max=0.8665, iou.mean=0.4255\n",
      "[DEBUG] Head 1 | ps[..., 4].sigmoid().mean = 0.0046\n",
      "[DEBUG] Head 2 | iou.min=-0.0755, iou.max=0.8697, iou.mean=0.3325\n",
      "[DEBUG] Head 2 | ps[..., 4].sigmoid().mean = 0.0106\n"
     ]
    },
    {
     "name": "stderr",
     "output_type": "stream",
     "text": [
      "[YoloOW] Epoch 3/30: 100%|██████████| 24/24 [00:41<00:00,  1.72s/it, Loss=7.0876, box=0.086, obj=0.089, cls=0.268, total loss=0.443, lr=0.000592]\n"
     ]
    },
    {
     "name": "stdout",
     "output_type": "stream",
     "text": [
      "\n",
      "[YoloOW] ✅ Epoch 3/30 complete in 41.36s | Avg Loss: 6.9122\n",
      "\n",
      "[YoloOW] 📊 Running evaluation after epoch 3 ...\n",
      "[DEBUG] Head 0 | iou.min=0.1648, iou.max=0.9118, iou.mean=0.5214\n",
      "[DEBUG] Head 0 | ps[..., 4].sigmoid().mean = 0.0011\n",
      "[DEBUG] Head 1 | iou.min=0.1121, iou.max=0.8741, iou.mean=0.4367\n",
      "[DEBUG] Head 1 | ps[..., 4].sigmoid().mean = 0.0045\n",
      "[DEBUG] Head 2 | iou.min=-0.0455, iou.max=0.6938, iou.mean=0.3200\n",
      "[DEBUG] Head 2 | ps[..., 4].sigmoid().mean = 0.0110\n",
      "[DEBUG] Head 0 | iou.min=0.1621, iou.max=0.8878, iou.mean=0.4905\n",
      "[DEBUG] Head 0 | ps[..., 4].sigmoid().mean = 0.0011\n",
      "[DEBUG] Head 1 | iou.min=0.0437, iou.max=0.8709, iou.mean=0.4258\n",
      "[DEBUG] Head 1 | ps[..., 4].sigmoid().mean = 0.0045\n",
      "[DEBUG] Head 2 | iou.min=-0.0371, iou.max=0.7840, iou.mean=0.3030\n",
      "[DEBUG] Head 2 | ps[..., 4].sigmoid().mean = 0.0110\n",
      "[DEBUG] Head 0 | iou.min=0.2021, iou.max=0.9529, iou.mean=0.4862\n",
      "[DEBUG] Head 0 | ps[..., 4].sigmoid().mean = 0.0011\n",
      "[DEBUG] Head 1 | iou.min=0.0430, iou.max=0.8489, iou.mean=0.4115\n",
      "[DEBUG] Head 1 | ps[..., 4].sigmoid().mean = 0.0045\n",
      "[DEBUG] Head 2 | iou.min=-0.0523, iou.max=0.9265, iou.mean=0.3037\n",
      "[DEBUG] Head 2 | ps[..., 4].sigmoid().mean = 0.0109\n",
      "[DEBUG] Head 0 | iou.min=0.1618, iou.max=0.9406, iou.mean=0.5680\n",
      "[DEBUG] Head 0 | ps[..., 4].sigmoid().mean = 0.0011\n",
      "[DEBUG] Head 1 | iou.min=0.0855, iou.max=0.8538, iou.mean=0.4602\n",
      "[DEBUG] Head 1 | ps[..., 4].sigmoid().mean = 0.0045\n",
      "[DEBUG] Head 2 | iou.min=0.0131, iou.max=0.8180, iou.mean=0.3287\n",
      "[DEBUG] Head 2 | ps[..., 4].sigmoid().mean = 0.0108\n",
      "[DEBUG] Head 0 | iou.min=0.2212, iou.max=0.8791, iou.mean=0.6107\n",
      "[DEBUG] Head 0 | ps[..., 4].sigmoid().mean = 0.0011\n",
      "[DEBUG] Head 1 | iou.min=0.1775, iou.max=0.8523, iou.mean=0.4920\n",
      "[DEBUG] Head 1 | ps[..., 4].sigmoid().mean = 0.0045\n",
      "[DEBUG] Head 2 | iou.min=0.0440, iou.max=0.8284, iou.mean=0.3436\n",
      "[DEBUG] Head 2 | ps[..., 4].sigmoid().mean = 0.0108\n",
      "[DEBUG] Head 0 | iou.min=0.2589, iou.max=0.9021, iou.mean=0.5413\n",
      "[DEBUG] Head 0 | ps[..., 4].sigmoid().mean = 0.0011\n",
      "[DEBUG] Head 1 | iou.min=0.0557, iou.max=0.8639, iou.mean=0.4493\n",
      "[DEBUG] Head 1 | ps[..., 4].sigmoid().mean = 0.0045\n",
      "[DEBUG] Head 2 | iou.min=-0.0025, iou.max=0.8065, iou.mean=0.2682\n",
      "[DEBUG] Head 2 | ps[..., 4].sigmoid().mean = 0.0109\n",
      "[DEBUG] Head 0 | iou.min=0.2050, iou.max=0.8959, iou.mean=0.4444\n",
      "[DEBUG] Head 0 | ps[..., 4].sigmoid().mean = 0.0011\n",
      "[DEBUG] Head 1 | iou.min=0.0730, iou.max=0.7692, iou.mean=0.3866\n",
      "[DEBUG] Head 1 | ps[..., 4].sigmoid().mean = 0.0045\n",
      "[DEBUG] Head 2 | iou.min=-0.0513, iou.max=0.8386, iou.mean=0.3361\n",
      "[DEBUG] Head 2 | ps[..., 4].sigmoid().mean = 0.0109\n",
      "[DEBUG] Head 0 | iou.min=0.1004, iou.max=0.8735, iou.mean=0.3745\n",
      "[DEBUG] Head 0 | ps[..., 4].sigmoid().mean = 0.0011\n",
      "[DEBUG] Head 1 | iou.min=0.0716, iou.max=0.8711, iou.mean=0.3404\n",
      "[DEBUG] Head 1 | ps[..., 4].sigmoid().mean = 0.0045\n",
      "[DEBUG] Head 2 | iou.min=-0.0265, iou.max=0.7803, iou.mean=0.2635\n",
      "[DEBUG] Head 2 | ps[..., 4].sigmoid().mean = 0.0113\n",
      "[DEBUG] Head 0 | iou.min=0.2685, iou.max=0.7442, iou.mean=0.5358\n",
      "[DEBUG] Head 0 | ps[..., 4].sigmoid().mean = 0.0011\n",
      "[DEBUG] Head 1 | iou.min=0.0562, iou.max=0.6627, iou.mean=0.4204\n",
      "[DEBUG] Head 1 | ps[..., 4].sigmoid().mean = 0.0045\n",
      "[DEBUG] Head 2 | iou.min=0.0944, iou.max=0.7330, iou.mean=0.3577\n",
      "[DEBUG] Head 2 | ps[..., 4].sigmoid().mean = 0.0104\n",
      "[validate_yoloow_model] ✅  Avg Loss  (box/obj/cls/total): 0.0877 / 0.0832 / 0.2814 / 0.4523\n"
     ]
    },
    {
     "name": "stderr",
     "output_type": "stream",
     "text": [
      "[YoloOW] Epoch 4/30:   0%|          | 0/24 [00:00<?, ?it/s]"
     ]
    },
    {
     "name": "stdout",
     "output_type": "stream",
     "text": [
      "[DEBUG] Head 0 | iou.min=0.2135, iou.max=0.8383, iou.mean=0.5313\n",
      "[DEBUG] Head 0 | ps[..., 4].sigmoid().mean = 0.0011\n",
      "[DEBUG] Head 1 | iou.min=0.0619, iou.max=0.7973, iou.mean=0.4362\n",
      "[DEBUG] Head 1 | ps[..., 4].sigmoid().mean = 0.0045\n",
      "[DEBUG] Head 2 | iou.min=-0.0237, iou.max=0.8234, iou.mean=0.3343\n",
      "[DEBUG] Head 2 | ps[..., 4].sigmoid().mean = 0.0109\n"
     ]
    },
    {
     "name": "stderr",
     "output_type": "stream",
     "text": [
      "[YoloOW] Epoch 4/30:   4%|▍         | 1/24 [00:00<00:19,  1.20it/s]"
     ]
    },
    {
     "name": "stdout",
     "output_type": "stream",
     "text": [
      "[DEBUG] Head 0 | iou.min=0.1702, iou.max=0.8564, iou.mean=0.4058\n",
      "[DEBUG] Head 0 | ps[..., 4].sigmoid().mean = 0.0011\n",
      "[DEBUG] Head 1 | iou.min=0.1084, iou.max=0.8686, iou.mean=0.3479\n",
      "[DEBUG] Head 1 | ps[..., 4].sigmoid().mean = 0.0045\n",
      "[DEBUG] Head 2 | iou.min=-0.0356, iou.max=0.8582, iou.mean=0.3041\n",
      "[DEBUG] Head 2 | ps[..., 4].sigmoid().mean = 0.0105\n"
     ]
    },
    {
     "name": "stderr",
     "output_type": "stream",
     "text": [
      "[YoloOW] Epoch 4/30:   8%|▊         | 2/24 [00:01<00:18,  1.19it/s]"
     ]
    },
    {
     "name": "stdout",
     "output_type": "stream",
     "text": [
      "[DEBUG] Head 0 | iou.min=0.1618, iou.max=0.8844, iou.mean=0.4972\n",
      "[DEBUG] Head 0 | ps[..., 4].sigmoid().mean = 0.0011\n",
      "[DEBUG] Head 1 | iou.min=0.1173, iou.max=0.8544, iou.mean=0.4142\n",
      "[DEBUG] Head 1 | ps[..., 4].sigmoid().mean = 0.0043\n",
      "[DEBUG] Head 2 | iou.min=-0.0123, iou.max=0.8448, iou.mean=0.2995\n",
      "[DEBUG] Head 2 | ps[..., 4].sigmoid().mean = 0.0095\n"
     ]
    },
    {
     "name": "stderr",
     "output_type": "stream",
     "text": [
      "[YoloOW] Epoch 4/30:  12%|█▎        | 3/24 [00:02<00:18,  1.12it/s]"
     ]
    },
    {
     "name": "stdout",
     "output_type": "stream",
     "text": [
      "[DEBUG] Head 0 | iou.min=0.2234, iou.max=0.8765, iou.mean=0.5581\n",
      "[DEBUG] Head 0 | ps[..., 4].sigmoid().mean = 0.0011\n",
      "[DEBUG] Head 1 | iou.min=0.1357, iou.max=0.7846, iou.mean=0.4612\n",
      "[DEBUG] Head 1 | ps[..., 4].sigmoid().mean = 0.0043\n",
      "[DEBUG] Head 2 | iou.min=0.0521, iou.max=0.8516, iou.mean=0.3325\n",
      "[DEBUG] Head 2 | ps[..., 4].sigmoid().mean = 0.0092\n"
     ]
    },
    {
     "name": "stderr",
     "output_type": "stream",
     "text": [
      "[YoloOW] Epoch 4/30:  17%|█▋        | 4/24 [00:03<00:18,  1.06it/s]"
     ]
    },
    {
     "name": "stdout",
     "output_type": "stream",
     "text": [
      "[DEBUG] Head 0 | iou.min=0.0987, iou.max=0.8810, iou.mean=0.5429\n",
      "[DEBUG] Head 0 | ps[..., 4].sigmoid().mean = 0.0011\n",
      "[DEBUG] Head 1 | iou.min=0.1220, iou.max=0.8516, iou.mean=0.4679\n",
      "[DEBUG] Head 1 | ps[..., 4].sigmoid().mean = 0.0043\n",
      "[DEBUG] Head 2 | iou.min=0.0419, iou.max=0.7891, iou.mean=0.3472\n",
      "[DEBUG] Head 2 | ps[..., 4].sigmoid().mean = 0.0085\n"
     ]
    },
    {
     "name": "stderr",
     "output_type": "stream",
     "text": [
      "[YoloOW] Epoch 4/30:  21%|██        | 5/24 [00:04<00:18,  1.03it/s]"
     ]
    },
    {
     "name": "stdout",
     "output_type": "stream",
     "text": [
      "[DEBUG] Head 0 | iou.min=0.0947, iou.max=0.8642, iou.mean=0.3622\n",
      "[DEBUG] Head 0 | ps[..., 4].sigmoid().mean = 0.0012\n",
      "[DEBUG] Head 1 | iou.min=0.0558, iou.max=0.8474, iou.mean=0.2682\n",
      "[DEBUG] Head 1 | ps[..., 4].sigmoid().mean = 0.0044\n",
      "[DEBUG] Head 2 | iou.min=-0.0017, iou.max=0.7981, iou.mean=0.1981\n",
      "[DEBUG] Head 2 | ps[..., 4].sigmoid().mean = 0.0092\n"
     ]
    },
    {
     "name": "stderr",
     "output_type": "stream",
     "text": [
      "[YoloOW] Epoch 4/30:  25%|██▌       | 6/24 [00:05<00:18,  1.02s/it]"
     ]
    },
    {
     "name": "stdout",
     "output_type": "stream",
     "text": [
      "[DEBUG] Head 0 | iou.min=0.1086, iou.max=0.8666, iou.mean=0.5077\n",
      "[DEBUG] Head 0 | ps[..., 4].sigmoid().mean = 0.0012\n",
      "[DEBUG] Head 1 | iou.min=0.1410, iou.max=0.8153, iou.mean=0.4416\n",
      "[DEBUG] Head 1 | ps[..., 4].sigmoid().mean = 0.0046\n",
      "[DEBUG] Head 2 | iou.min=-0.0080, iou.max=0.7520, iou.mean=0.3291\n",
      "[DEBUG] Head 2 | ps[..., 4].sigmoid().mean = 0.0084\n"
     ]
    },
    {
     "name": "stderr",
     "output_type": "stream",
     "text": [
      "[YoloOW] Epoch 4/30:  29%|██▉       | 7/24 [00:06<00:17,  1.02s/it]"
     ]
    },
    {
     "name": "stdout",
     "output_type": "stream",
     "text": [
      "[DEBUG] Head 0 | iou.min=0.1964, iou.max=0.9733, iou.mean=0.5747\n",
      "[DEBUG] Head 0 | ps[..., 4].sigmoid().mean = 0.0012\n",
      "[DEBUG] Head 1 | iou.min=0.0884, iou.max=0.8528, iou.mean=0.4720\n",
      "[DEBUG] Head 1 | ps[..., 4].sigmoid().mean = 0.0047\n",
      "[DEBUG] Head 2 | iou.min=0.0487, iou.max=0.8015, iou.mean=0.3035\n",
      "[DEBUG] Head 2 | ps[..., 4].sigmoid().mean = 0.0095\n"
     ]
    },
    {
     "name": "stderr",
     "output_type": "stream",
     "text": [
      "[YoloOW] Epoch 4/30:  33%|███▎      | 8/24 [00:07<00:16,  1.01s/it]"
     ]
    },
    {
     "name": "stdout",
     "output_type": "stream",
     "text": [
      "[DEBUG] Head 0 | iou.min=0.1309, iou.max=0.8486, iou.mean=0.4785\n",
      "[DEBUG] Head 0 | ps[..., 4].sigmoid().mean = 0.0013\n",
      "[DEBUG] Head 1 | iou.min=0.1447, iou.max=0.7867, iou.mean=0.4320\n",
      "[DEBUG] Head 1 | ps[..., 4].sigmoid().mean = 0.0049\n",
      "[DEBUG] Head 2 | iou.min=0.0253, iou.max=0.9192, iou.mean=0.3604\n",
      "[DEBUG] Head 2 | ps[..., 4].sigmoid().mean = 0.0094\n"
     ]
    },
    {
     "name": "stderr",
     "output_type": "stream",
     "text": [
      "[YoloOW] Epoch 4/30:  38%|███▊      | 9/24 [00:08<00:14,  1.00it/s]"
     ]
    },
    {
     "name": "stdout",
     "output_type": "stream",
     "text": [
      "[DEBUG] Head 0 | iou.min=0.0911, iou.max=0.9042, iou.mean=0.4951\n",
      "[DEBUG] Head 0 | ps[..., 4].sigmoid().mean = 0.0013\n",
      "[DEBUG] Head 1 | iou.min=0.0761, iou.max=0.8352, iou.mean=0.4532\n",
      "[DEBUG] Head 1 | ps[..., 4].sigmoid().mean = 0.0050\n",
      "[DEBUG] Head 2 | iou.min=0.0381, iou.max=0.7055, iou.mean=0.3503\n",
      "[DEBUG] Head 2 | ps[..., 4].sigmoid().mean = 0.0102\n"
     ]
    },
    {
     "name": "stderr",
     "output_type": "stream",
     "text": [
      "[YoloOW] Epoch 4/30:  42%|████▏     | 10/24 [00:10<00:17,  1.25s/it, Loss=6.6991, box=0.085, obj=0.048, cls=0.285, total loss=0.419, lr=0.000675]"
     ]
    },
    {
     "name": "stdout",
     "output_type": "stream",
     "text": [
      "[DEBUG] Head 0 | iou.min=0.1963, iou.max=0.8334, iou.mean=0.4614\n",
      "[DEBUG] Head 0 | ps[..., 4].sigmoid().mean = 0.0013\n",
      "[DEBUG] Head 1 | iou.min=0.0818, iou.max=0.8781, iou.mean=0.3818\n",
      "[DEBUG] Head 1 | ps[..., 4].sigmoid().mean = 0.0051\n",
      "[DEBUG] Head 2 | iou.min=-0.0029, iou.max=0.8137, iou.mean=0.3294\n",
      "[DEBUG] Head 2 | ps[..., 4].sigmoid().mean = 0.0109\n"
     ]
    },
    {
     "name": "stderr",
     "output_type": "stream",
     "text": [
      "[YoloOW] Epoch 4/30:  46%|████▌     | 11/24 [00:11<00:15,  1.16s/it, Loss=6.6991, box=0.085, obj=0.048, cls=0.285, total loss=0.419, lr=0.000675]"
     ]
    },
    {
     "name": "stdout",
     "output_type": "stream",
     "text": [
      "[DEBUG] Head 0 | iou.min=0.1337, iou.max=0.8580, iou.mean=0.4275\n",
      "[DEBUG] Head 0 | ps[..., 4].sigmoid().mean = 0.0013\n",
      "[DEBUG] Head 1 | iou.min=0.0789, iou.max=0.8482, iou.mean=0.3631\n",
      "[DEBUG] Head 1 | ps[..., 4].sigmoid().mean = 0.0051\n",
      "[DEBUG] Head 2 | iou.min=-0.0347, iou.max=0.7434, iou.mean=0.3137\n",
      "[DEBUG] Head 2 | ps[..., 4].sigmoid().mean = 0.0117\n"
     ]
    },
    {
     "name": "stderr",
     "output_type": "stream",
     "text": [
      "[YoloOW] Epoch 4/30:  50%|█████     | 12/24 [00:12<00:13,  1.13s/it, Loss=6.6991, box=0.085, obj=0.048, cls=0.285, total loss=0.419, lr=0.000675]"
     ]
    },
    {
     "name": "stdout",
     "output_type": "stream",
     "text": [
      "[DEBUG] Head 0 | iou.min=0.1565, iou.max=0.8881, iou.mean=0.5809\n",
      "[DEBUG] Head 0 | ps[..., 4].sigmoid().mean = 0.0013\n",
      "[DEBUG] Head 1 | iou.min=0.1006, iou.max=0.9290, iou.mean=0.4590\n",
      "[DEBUG] Head 1 | ps[..., 4].sigmoid().mean = 0.0050\n",
      "[DEBUG] Head 2 | iou.min=-0.0313, iou.max=0.7162, iou.mean=0.2931\n",
      "[DEBUG] Head 2 | ps[..., 4].sigmoid().mean = 0.0125\n"
     ]
    },
    {
     "name": "stderr",
     "output_type": "stream",
     "text": [
      "[YoloOW] Epoch 4/30:  54%|█████▍    | 13/24 [00:14<00:14,  1.30s/it, Loss=6.6991, box=0.085, obj=0.048, cls=0.285, total loss=0.419, lr=0.000675]"
     ]
    },
    {
     "name": "stdout",
     "output_type": "stream",
     "text": [
      "[DEBUG] Head 0 | iou.min=0.2425, iou.max=0.9082, iou.mean=0.6096\n",
      "[DEBUG] Head 0 | ps[..., 4].sigmoid().mean = 0.0013\n",
      "[DEBUG] Head 1 | iou.min=0.0710, iou.max=0.9438, iou.mean=0.5161\n",
      "[DEBUG] Head 1 | ps[..., 4].sigmoid().mean = 0.0049\n",
      "[DEBUG] Head 2 | iou.min=-0.0031, iou.max=0.8485, iou.mean=0.3080\n",
      "[DEBUG] Head 2 | ps[..., 4].sigmoid().mean = 0.0121\n"
     ]
    },
    {
     "name": "stderr",
     "output_type": "stream",
     "text": [
      "[YoloOW] Epoch 4/30:  58%|█████▊    | 14/24 [00:15<00:12,  1.26s/it, Loss=6.6991, box=0.085, obj=0.048, cls=0.285, total loss=0.419, lr=0.000675]"
     ]
    },
    {
     "name": "stdout",
     "output_type": "stream",
     "text": [
      "[DEBUG] Head 0 | iou.min=0.1316, iou.max=0.8819, iou.mean=0.4839\n",
      "[DEBUG] Head 0 | ps[..., 4].sigmoid().mean = 0.0013\n",
      "[DEBUG] Head 1 | iou.min=0.0808, iou.max=0.8156, iou.mean=0.3796\n",
      "[DEBUG] Head 1 | ps[..., 4].sigmoid().mean = 0.0048\n",
      "[DEBUG] Head 2 | iou.min=-0.0590, iou.max=0.7645, iou.mean=0.2873\n",
      "[DEBUG] Head 2 | ps[..., 4].sigmoid().mean = 0.0123\n"
     ]
    },
    {
     "name": "stderr",
     "output_type": "stream",
     "text": [
      "[YoloOW] Epoch 4/30:  62%|██████▎   | 15/24 [00:16<00:10,  1.18s/it, Loss=6.6991, box=0.085, obj=0.048, cls=0.285, total loss=0.419, lr=0.000675]"
     ]
    },
    {
     "name": "stdout",
     "output_type": "stream",
     "text": [
      "[DEBUG] Head 0 | iou.min=0.1761, iou.max=0.8942, iou.mean=0.4384\n",
      "[DEBUG] Head 0 | ps[..., 4].sigmoid().mean = 0.0013\n",
      "[DEBUG] Head 1 | iou.min=0.0923, iou.max=0.7958, iou.mean=0.3776\n",
      "[DEBUG] Head 1 | ps[..., 4].sigmoid().mean = 0.0047\n",
      "[DEBUG] Head 2 | iou.min=-0.0459, iou.max=0.9204, iou.mean=0.3336\n",
      "[DEBUG] Head 2 | ps[..., 4].sigmoid().mean = 0.0109\n"
     ]
    },
    {
     "name": "stderr",
     "output_type": "stream",
     "text": [
      "[YoloOW] Epoch 4/30:  67%|██████▋   | 16/24 [00:17<00:08,  1.09s/it, Loss=6.6991, box=0.085, obj=0.048, cls=0.285, total loss=0.419, lr=0.000675]"
     ]
    },
    {
     "name": "stdout",
     "output_type": "stream",
     "text": [
      "[DEBUG] Head 0 | iou.min=0.2026, iou.max=0.9034, iou.mean=0.5624\n",
      "[DEBUG] Head 0 | ps[..., 4].sigmoid().mean = 0.0013\n",
      "[DEBUG] Head 1 | iou.min=0.0914, iou.max=0.8246, iou.mean=0.4886\n",
      "[DEBUG] Head 1 | ps[..., 4].sigmoid().mean = 0.0046\n",
      "[DEBUG] Head 2 | iou.min=0.0422, iou.max=0.8392, iou.mean=0.3536\n",
      "[DEBUG] Head 2 | ps[..., 4].sigmoid().mean = 0.0103\n"
     ]
    },
    {
     "name": "stderr",
     "output_type": "stream",
     "text": [
      "[YoloOW] Epoch 4/30:  71%|███████   | 17/24 [00:18<00:07,  1.01s/it, Loss=6.6991, box=0.085, obj=0.048, cls=0.285, total loss=0.419, lr=0.000675]"
     ]
    },
    {
     "name": "stdout",
     "output_type": "stream",
     "text": [
      "[DEBUG] Head 0 | iou.min=0.1888, iou.max=0.9153, iou.mean=0.5631\n",
      "[DEBUG] Head 0 | ps[..., 4].sigmoid().mean = 0.0013\n",
      "[DEBUG] Head 1 | iou.min=0.1117, iou.max=0.8619, iou.mean=0.4658\n",
      "[DEBUG] Head 1 | ps[..., 4].sigmoid().mean = 0.0045\n",
      "[DEBUG] Head 2 | iou.min=-0.0274, iou.max=0.8828, iou.mean=0.3262\n",
      "[DEBUG] Head 2 | ps[..., 4].sigmoid().mean = 0.0101\n"
     ]
    },
    {
     "name": "stderr",
     "output_type": "stream",
     "text": [
      "[YoloOW] Epoch 4/30:  75%|███████▌  | 18/24 [00:19<00:05,  1.03it/s, Loss=6.6991, box=0.085, obj=0.048, cls=0.285, total loss=0.419, lr=0.000675]"
     ]
    },
    {
     "name": "stdout",
     "output_type": "stream",
     "text": [
      "[DEBUG] Head 0 | iou.min=0.1471, iou.max=0.8097, iou.mean=0.4936\n",
      "[DEBUG] Head 0 | ps[..., 4].sigmoid().mean = 0.0013\n",
      "[DEBUG] Head 1 | iou.min=0.0695, iou.max=0.8818, iou.mean=0.4325\n",
      "[DEBUG] Head 1 | ps[..., 4].sigmoid().mean = 0.0044\n",
      "[DEBUG] Head 2 | iou.min=-0.0340, iou.max=0.9258, iou.mean=0.3480\n",
      "[DEBUG] Head 2 | ps[..., 4].sigmoid().mean = 0.0105\n"
     ]
    },
    {
     "name": "stderr",
     "output_type": "stream",
     "text": [
      "[YoloOW] Epoch 4/30:  79%|███████▉  | 19/24 [00:19<00:04,  1.03it/s, Loss=6.6991, box=0.085, obj=0.048, cls=0.285, total loss=0.419, lr=0.000675]"
     ]
    },
    {
     "name": "stdout",
     "output_type": "stream",
     "text": [
      "[DEBUG] Head 0 | iou.min=0.1498, iou.max=0.8959, iou.mean=0.5794\n",
      "[DEBUG] Head 0 | ps[..., 4].sigmoid().mean = 0.0013\n",
      "[DEBUG] Head 1 | iou.min=0.1036, iou.max=0.8075, iou.mean=0.4853\n",
      "[DEBUG] Head 1 | ps[..., 4].sigmoid().mean = 0.0043\n",
      "[DEBUG] Head 2 | iou.min=0.0491, iou.max=0.8511, iou.mean=0.3393\n",
      "[DEBUG] Head 2 | ps[..., 4].sigmoid().mean = 0.0104\n"
     ]
    },
    {
     "name": "stderr",
     "output_type": "stream",
     "text": [
      "[YoloOW] Epoch 4/30:  83%|████████▎ | 20/24 [00:20<00:03,  1.06it/s, Loss=6.7200, box=0.080, obj=0.060, cls=0.280, total loss=0.420, lr=0.000758]"
     ]
    },
    {
     "name": "stdout",
     "output_type": "stream",
     "text": [
      "[DEBUG] Head 0 | iou.min=0.2266, iou.max=0.9127, iou.mean=0.5455\n",
      "[DEBUG] Head 0 | ps[..., 4].sigmoid().mean = 0.0013\n",
      "[DEBUG] Head 1 | iou.min=0.0928, iou.max=0.8349, iou.mean=0.4554\n",
      "[DEBUG] Head 1 | ps[..., 4].sigmoid().mean = 0.0042\n",
      "[DEBUG] Head 2 | iou.min=0.0226, iou.max=0.8300, iou.mean=0.3449\n",
      "[DEBUG] Head 2 | ps[..., 4].sigmoid().mean = 0.0100\n"
     ]
    },
    {
     "name": "stderr",
     "output_type": "stream",
     "text": [
      "[YoloOW] Epoch 4/30:  88%|████████▊ | 21/24 [00:21<00:02,  1.09it/s, Loss=6.7200, box=0.080, obj=0.060, cls=0.280, total loss=0.420, lr=0.000758]"
     ]
    },
    {
     "name": "stdout",
     "output_type": "stream",
     "text": [
      "[DEBUG] Head 0 | iou.min=0.1580, iou.max=0.8998, iou.mean=0.4936\n",
      "[DEBUG] Head 0 | ps[..., 4].sigmoid().mean = 0.0012\n",
      "[DEBUG] Head 1 | iou.min=0.1074, iou.max=0.8344, iou.mean=0.3974\n",
      "[DEBUG] Head 1 | ps[..., 4].sigmoid().mean = 0.0041\n",
      "[DEBUG] Head 2 | iou.min=-0.0398, iou.max=0.7618, iou.mean=0.2912\n",
      "[DEBUG] Head 2 | ps[..., 4].sigmoid().mean = 0.0104\n"
     ]
    },
    {
     "name": "stderr",
     "output_type": "stream",
     "text": [
      "[YoloOW] Epoch 4/30:  92%|█████████▏| 22/24 [00:22<00:01,  1.08it/s, Loss=6.7200, box=0.080, obj=0.060, cls=0.280, total loss=0.420, lr=0.000758]"
     ]
    },
    {
     "name": "stdout",
     "output_type": "stream",
     "text": [
      "[DEBUG] Head 0 | iou.min=0.1887, iou.max=0.9146, iou.mean=0.5124\n",
      "[DEBUG] Head 0 | ps[..., 4].sigmoid().mean = 0.0012\n",
      "[DEBUG] Head 1 | iou.min=0.1367, iou.max=0.7878, iou.mean=0.4262\n",
      "[DEBUG] Head 1 | ps[..., 4].sigmoid().mean = 0.0040\n",
      "[DEBUG] Head 2 | iou.min=-0.0164, iou.max=0.8044, iou.mean=0.2843\n",
      "[DEBUG] Head 2 | ps[..., 4].sigmoid().mean = 0.0106\n"
     ]
    },
    {
     "name": "stderr",
     "output_type": "stream",
     "text": [
      "[YoloOW] Epoch 4/30:  96%|█████████▌| 23/24 [00:23<00:00,  1.05it/s, Loss=6.7200, box=0.080, obj=0.060, cls=0.280, total loss=0.420, lr=0.000758]"
     ]
    },
    {
     "name": "stdout",
     "output_type": "stream",
     "text": [
      "[DEBUG] Head 0 | iou.min=0.1021, iou.max=0.9436, iou.mean=0.4936\n",
      "[DEBUG] Head 0 | ps[..., 4].sigmoid().mean = 0.0012\n",
      "[DEBUG] Head 1 | iou.min=0.0611, iou.max=0.9182, iou.mean=0.4157\n",
      "[DEBUG] Head 1 | ps[..., 4].sigmoid().mean = 0.0041\n",
      "[DEBUG] Head 2 | iou.min=-0.0323, iou.max=0.8482, iou.mean=0.3464\n",
      "[DEBUG] Head 2 | ps[..., 4].sigmoid().mean = 0.0103\n"
     ]
    },
    {
     "name": "stderr",
     "output_type": "stream",
     "text": [
      "[YoloOW] Epoch 4/30: 100%|██████████| 24/24 [00:24<00:00,  1.03s/it, Loss=6.6027, box=0.087, obj=0.066, cls=0.260, total loss=0.413, lr=0.000792]\n"
     ]
    },
    {
     "name": "stdout",
     "output_type": "stream",
     "text": [
      "\n",
      "[YoloOW] ✅ Epoch 4/30 complete in 24.68s | Avg Loss: 6.7155\n",
      "\n",
      "[YoloOW] 📊 Running evaluation after epoch 4 ...\n",
      "[DEBUG] Head 0 | iou.min=0.1747, iou.max=0.9594, iou.mean=0.5309\n",
      "[DEBUG] Head 0 | ps[..., 4].sigmoid().mean = 0.0012\n",
      "[DEBUG] Head 1 | iou.min=0.1464, iou.max=0.9227, iou.mean=0.4434\n",
      "[DEBUG] Head 1 | ps[..., 4].sigmoid().mean = 0.0041\n",
      "[DEBUG] Head 2 | iou.min=-0.0011, iou.max=0.7061, iou.mean=0.3301\n",
      "[DEBUG] Head 2 | ps[..., 4].sigmoid().mean = 0.0099\n",
      "[DEBUG] Head 0 | iou.min=0.1717, iou.max=0.9034, iou.mean=0.5033\n",
      "[DEBUG] Head 0 | ps[..., 4].sigmoid().mean = 0.0012\n",
      "[DEBUG] Head 1 | iou.min=0.0635, iou.max=0.8940, iou.mean=0.4263\n",
      "[DEBUG] Head 1 | ps[..., 4].sigmoid().mean = 0.0041\n",
      "[DEBUG] Head 2 | iou.min=-0.0144, iou.max=0.9000, iou.mean=0.3146\n",
      "[DEBUG] Head 2 | ps[..., 4].sigmoid().mean = 0.0100\n",
      "[DEBUG] Head 0 | iou.min=0.2138, iou.max=0.8629, iou.mean=0.4951\n",
      "[DEBUG] Head 0 | ps[..., 4].sigmoid().mean = 0.0012\n",
      "[DEBUG] Head 1 | iou.min=0.0626, iou.max=0.9051, iou.mean=0.4157\n",
      "[DEBUG] Head 1 | ps[..., 4].sigmoid().mean = 0.0041\n",
      "[DEBUG] Head 2 | iou.min=-0.0111, iou.max=0.8146, iou.mean=0.3125\n",
      "[DEBUG] Head 2 | ps[..., 4].sigmoid().mean = 0.0098\n",
      "[DEBUG] Head 0 | iou.min=0.1716, iou.max=0.8834, iou.mean=0.5582\n",
      "[DEBUG] Head 0 | ps[..., 4].sigmoid().mean = 0.0012\n",
      "[DEBUG] Head 1 | iou.min=0.0966, iou.max=0.8150, iou.mean=0.4887\n",
      "[DEBUG] Head 1 | ps[..., 4].sigmoid().mean = 0.0041\n",
      "[DEBUG] Head 2 | iou.min=0.0373, iou.max=0.8566, iou.mean=0.3435\n",
      "[DEBUG] Head 2 | ps[..., 4].sigmoid().mean = 0.0095\n",
      "[DEBUG] Head 0 | iou.min=0.1794, iou.max=0.8909, iou.mean=0.5998\n",
      "[DEBUG] Head 0 | ps[..., 4].sigmoid().mean = 0.0012\n",
      "[DEBUG] Head 1 | iou.min=0.2142, iou.max=0.9105, iou.mean=0.5242\n",
      "[DEBUG] Head 1 | ps[..., 4].sigmoid().mean = 0.0041\n",
      "[DEBUG] Head 2 | iou.min=0.0757, iou.max=0.8749, iou.mean=0.3515\n",
      "[DEBUG] Head 2 | ps[..., 4].sigmoid().mean = 0.0095\n",
      "[DEBUG] Head 0 | iou.min=0.3016, iou.max=0.8802, iou.mean=0.5515\n",
      "[DEBUG] Head 0 | ps[..., 4].sigmoid().mean = 0.0012\n",
      "[DEBUG] Head 1 | iou.min=0.0807, iou.max=0.8850, iou.mean=0.4470\n",
      "[DEBUG] Head 1 | ps[..., 4].sigmoid().mean = 0.0041\n",
      "[DEBUG] Head 2 | iou.min=0.0237, iou.max=0.7607, iou.mean=0.2813\n",
      "[DEBUG] Head 2 | ps[..., 4].sigmoid().mean = 0.0098\n",
      "[DEBUG] Head 0 | iou.min=0.2007, iou.max=0.9017, iou.mean=0.4592\n",
      "[DEBUG] Head 0 | ps[..., 4].sigmoid().mean = 0.0012\n",
      "[DEBUG] Head 1 | iou.min=0.1018, iou.max=0.8344, iou.mean=0.3924\n",
      "[DEBUG] Head 1 | ps[..., 4].sigmoid().mean = 0.0041\n",
      "[DEBUG] Head 2 | iou.min=-0.0349, iou.max=0.8006, iou.mean=0.3398\n",
      "[DEBUG] Head 2 | ps[..., 4].sigmoid().mean = 0.0099\n",
      "[DEBUG] Head 0 | iou.min=0.1120, iou.max=0.8529, iou.mean=0.3934\n",
      "[DEBUG] Head 0 | ps[..., 4].sigmoid().mean = 0.0012\n",
      "[DEBUG] Head 1 | iou.min=0.0582, iou.max=0.7934, iou.mean=0.3203\n",
      "[DEBUG] Head 1 | ps[..., 4].sigmoid().mean = 0.0041\n",
      "[DEBUG] Head 2 | iou.min=-0.0076, iou.max=0.8288, iou.mean=0.2735\n",
      "[DEBUG] Head 2 | ps[..., 4].sigmoid().mean = 0.0105\n",
      "[DEBUG] Head 0 | iou.min=0.2848, iou.max=0.6868, iou.mean=0.5181\n",
      "[DEBUG] Head 0 | ps[..., 4].sigmoid().mean = 0.0012\n",
      "[DEBUG] Head 1 | iou.min=0.0809, iou.max=0.6873, iou.mean=0.4733\n",
      "[DEBUG] Head 1 | ps[..., 4].sigmoid().mean = 0.0041\n",
      "[DEBUG] Head 2 | iou.min=0.0974, iou.max=0.8645, iou.mean=0.3763\n",
      "[DEBUG] Head 2 | ps[..., 4].sigmoid().mean = 0.0090\n",
      "[validate_yoloow_model] ✅  Avg Loss  (box/obj/cls/total): 0.0863 / 0.0708 / 0.2760 / 0.4330\n"
     ]
    },
    {
     "name": "stderr",
     "output_type": "stream",
     "text": [
      "[YoloOW] Epoch 5/30:   0%|          | 0/24 [00:00<?, ?it/s]"
     ]
    },
    {
     "name": "stdout",
     "output_type": "stream",
     "text": [
      "[DEBUG] Head 0 | iou.min=0.1688, iou.max=0.9133, iou.mean=0.5718\n",
      "[DEBUG] Head 0 | ps[..., 4].sigmoid().mean = 0.0012\n",
      "[DEBUG] Head 1 | iou.min=0.0814, iou.max=0.8903, iou.mean=0.4859\n",
      "[DEBUG] Head 1 | ps[..., 4].sigmoid().mean = 0.0041\n",
      "[DEBUG] Head 2 | iou.min=0.0026, iou.max=0.7857, iou.mean=0.3435\n",
      "[DEBUG] Head 2 | ps[..., 4].sigmoid().mean = 0.0096\n"
     ]
    },
    {
     "name": "stderr",
     "output_type": "stream",
     "text": [
      "[YoloOW] Epoch 5/30:   4%|▍         | 1/24 [00:00<00:20,  1.11it/s]"
     ]
    },
    {
     "name": "stdout",
     "output_type": "stream",
     "text": [
      "[DEBUG] Head 0 | iou.min=0.1809, iou.max=0.8927, iou.mean=0.4656\n",
      "[DEBUG] Head 0 | ps[..., 4].sigmoid().mean = 0.0012\n",
      "[DEBUG] Head 1 | iou.min=0.1074, iou.max=0.8397, iou.mean=0.3917\n",
      "[DEBUG] Head 1 | ps[..., 4].sigmoid().mean = 0.0041\n",
      "[DEBUG] Head 2 | iou.min=-0.0124, iou.max=0.7040, iou.mean=0.2942\n",
      "[DEBUG] Head 2 | ps[..., 4].sigmoid().mean = 0.0097\n"
     ]
    },
    {
     "name": "stderr",
     "output_type": "stream",
     "text": [
      "[YoloOW] Epoch 5/30:   8%|▊         | 2/24 [00:01<00:20,  1.08it/s]"
     ]
    },
    {
     "name": "stdout",
     "output_type": "stream",
     "text": [
      "[DEBUG] Head 0 | iou.min=0.2257, iou.max=0.8654, iou.mean=0.5452\n",
      "[DEBUG] Head 0 | ps[..., 4].sigmoid().mean = 0.0012\n",
      "[DEBUG] Head 1 | iou.min=0.1017, iou.max=0.8780, iou.mean=0.4495\n",
      "[DEBUG] Head 1 | ps[..., 4].sigmoid().mean = 0.0041\n",
      "[DEBUG] Head 2 | iou.min=-0.0283, iou.max=0.7071, iou.mean=0.2986\n",
      "[DEBUG] Head 2 | ps[..., 4].sigmoid().mean = 0.0094\n"
     ]
    },
    {
     "name": "stderr",
     "output_type": "stream",
     "text": [
      "[YoloOW] Epoch 5/30:  12%|█▎        | 3/24 [00:02<00:19,  1.07it/s]"
     ]
    },
    {
     "name": "stdout",
     "output_type": "stream",
     "text": [
      "[DEBUG] Head 0 | iou.min=0.0976, iou.max=0.8607, iou.mean=0.5398\n",
      "[DEBUG] Head 0 | ps[..., 4].sigmoid().mean = 0.0011\n",
      "[DEBUG] Head 1 | iou.min=0.0579, iou.max=0.8061, iou.mean=0.4501\n",
      "[DEBUG] Head 1 | ps[..., 4].sigmoid().mean = 0.0040\n",
      "[DEBUG] Head 2 | iou.min=0.0466, iou.max=0.8828, iou.mean=0.3594\n",
      "[DEBUG] Head 2 | ps[..., 4].sigmoid().mean = 0.0093\n"
     ]
    },
    {
     "name": "stderr",
     "output_type": "stream",
     "text": [
      "[YoloOW] Epoch 5/30:  17%|█▋        | 4/24 [00:03<00:18,  1.11it/s]"
     ]
    },
    {
     "name": "stdout",
     "output_type": "stream",
     "text": [
      "[DEBUG] Head 0 | iou.min=0.1276, iou.max=0.8411, iou.mean=0.4587\n",
      "[DEBUG] Head 0 | ps[..., 4].sigmoid().mean = 0.0011\n",
      "[DEBUG] Head 1 | iou.min=0.0665, iou.max=0.8063, iou.mean=0.4007\n",
      "[DEBUG] Head 1 | ps[..., 4].sigmoid().mean = 0.0040\n",
      "[DEBUG] Head 2 | iou.min=0.0056, iou.max=0.8848, iou.mean=0.3539\n",
      "[DEBUG] Head 2 | ps[..., 4].sigmoid().mean = 0.0100\n"
     ]
    },
    {
     "name": "stderr",
     "output_type": "stream",
     "text": [
      "[YoloOW] Epoch 5/30:  21%|██        | 5/24 [00:04<00:16,  1.15it/s]"
     ]
    },
    {
     "name": "stdout",
     "output_type": "stream",
     "text": [
      "[DEBUG] Head 0 | iou.min=0.2204, iou.max=0.9475, iou.mean=0.4814\n",
      "[DEBUG] Head 0 | ps[..., 4].sigmoid().mean = 0.0011\n",
      "[DEBUG] Head 1 | iou.min=0.0928, iou.max=0.7670, iou.mean=0.3628\n",
      "[DEBUG] Head 1 | ps[..., 4].sigmoid().mean = 0.0040\n",
      "[DEBUG] Head 2 | iou.min=0.0004, iou.max=0.7931, iou.mean=0.2457\n",
      "[DEBUG] Head 2 | ps[..., 4].sigmoid().mean = 0.0111\n"
     ]
    },
    {
     "name": "stderr",
     "output_type": "stream",
     "text": [
      "[YoloOW] Epoch 5/30:  25%|██▌       | 6/24 [00:05<00:15,  1.15it/s]"
     ]
    },
    {
     "name": "stdout",
     "output_type": "stream",
     "text": [
      "[DEBUG] Head 0 | iou.min=0.1234, iou.max=0.8860, iou.mean=0.4939\n",
      "[DEBUG] Head 0 | ps[..., 4].sigmoid().mean = 0.0011\n",
      "[DEBUG] Head 1 | iou.min=0.1185, iou.max=0.8557, iou.mean=0.3925\n",
      "[DEBUG] Head 1 | ps[..., 4].sigmoid().mean = 0.0040\n",
      "[DEBUG] Head 2 | iou.min=-0.0010, iou.max=0.8938, iou.mean=0.3268\n",
      "[DEBUG] Head 2 | ps[..., 4].sigmoid().mean = 0.0110\n"
     ]
    },
    {
     "name": "stderr",
     "output_type": "stream",
     "text": [
      "[YoloOW] Epoch 5/30:  29%|██▉       | 7/24 [00:06<00:15,  1.13it/s]"
     ]
    },
    {
     "name": "stdout",
     "output_type": "stream",
     "text": [
      "[DEBUG] Head 0 | iou.min=0.1813, iou.max=0.8401, iou.mean=0.5247\n",
      "[DEBUG] Head 0 | ps[..., 4].sigmoid().mean = 0.0011\n",
      "[DEBUG] Head 1 | iou.min=0.0798, iou.max=0.7540, iou.mean=0.4383\n",
      "[DEBUG] Head 1 | ps[..., 4].sigmoid().mean = 0.0041\n",
      "[DEBUG] Head 2 | iou.min=0.0336, iou.max=0.8680, iou.mean=0.3298\n",
      "[DEBUG] Head 2 | ps[..., 4].sigmoid().mean = 0.0106\n"
     ]
    },
    {
     "name": "stderr",
     "output_type": "stream",
     "text": [
      "[YoloOW] Epoch 5/30:  33%|███▎      | 8/24 [00:07<00:14,  1.10it/s]"
     ]
    },
    {
     "name": "stdout",
     "output_type": "stream",
     "text": [
      "[DEBUG] Head 0 | iou.min=0.1364, iou.max=0.8967, iou.mean=0.4373\n",
      "[DEBUG] Head 0 | ps[..., 4].sigmoid().mean = 0.0011\n",
      "[DEBUG] Head 1 | iou.min=0.0740, iou.max=0.8911, iou.mean=0.3878\n",
      "[DEBUG] Head 1 | ps[..., 4].sigmoid().mean = 0.0041\n",
      "[DEBUG] Head 2 | iou.min=-0.0260, iou.max=0.8668, iou.mean=0.2999\n",
      "[DEBUG] Head 2 | ps[..., 4].sigmoid().mean = 0.0115\n"
     ]
    },
    {
     "name": "stderr",
     "output_type": "stream",
     "text": [
      "[YoloOW] Epoch 5/30:  38%|███▊      | 9/24 [00:08<00:14,  1.06it/s]"
     ]
    },
    {
     "name": "stdout",
     "output_type": "stream",
     "text": [
      "[DEBUG] Head 0 | iou.min=0.1728, iou.max=0.9088, iou.mean=0.5564\n",
      "[DEBUG] Head 0 | ps[..., 4].sigmoid().mean = 0.0011\n",
      "[DEBUG] Head 1 | iou.min=0.1322, iou.max=0.8503, iou.mean=0.4710\n",
      "[DEBUG] Head 1 | ps[..., 4].sigmoid().mean = 0.0041\n",
      "[DEBUG] Head 2 | iou.min=-0.0044, iou.max=0.8518, iou.mean=0.3333\n",
      "[DEBUG] Head 2 | ps[..., 4].sigmoid().mean = 0.0104\n"
     ]
    },
    {
     "name": "stderr",
     "output_type": "stream",
     "text": [
      "[YoloOW] Epoch 5/30:  42%|████▏     | 10/24 [00:09<00:13,  1.07it/s, Loss=6.5803, box=0.082, obj=0.068, cls=0.262, total loss=0.411, lr=0.000875]"
     ]
    },
    {
     "name": "stdout",
     "output_type": "stream",
     "text": [
      "[DEBUG] Head 0 | iou.min=0.1605, iou.max=0.9030, iou.mean=0.4634\n",
      "[DEBUG] Head 0 | ps[..., 4].sigmoid().mean = 0.0011\n",
      "[DEBUG] Head 1 | iou.min=0.0998, iou.max=0.8879, iou.mean=0.4016\n",
      "[DEBUG] Head 1 | ps[..., 4].sigmoid().mean = 0.0042\n",
      "[DEBUG] Head 2 | iou.min=-0.0309, iou.max=0.8061, iou.mean=0.3524\n",
      "[DEBUG] Head 2 | ps[..., 4].sigmoid().mean = 0.0094\n"
     ]
    },
    {
     "name": "stderr",
     "output_type": "stream",
     "text": [
      "[YoloOW] Epoch 5/30:  46%|████▌     | 11/24 [00:10<00:12,  1.07it/s, Loss=6.5803, box=0.082, obj=0.068, cls=0.262, total loss=0.411, lr=0.000875]"
     ]
    },
    {
     "name": "stdout",
     "output_type": "stream",
     "text": [
      "[DEBUG] Head 0 | iou.min=0.1311, iou.max=0.9711, iou.mean=0.5383\n",
      "[DEBUG] Head 0 | ps[..., 4].sigmoid().mean = 0.0011\n",
      "[DEBUG] Head 1 | iou.min=0.1572, iou.max=0.9068, iou.mean=0.4469\n",
      "[DEBUG] Head 1 | ps[..., 4].sigmoid().mean = 0.0042\n",
      "[DEBUG] Head 2 | iou.min=0.0327, iou.max=0.8925, iou.mean=0.3350\n",
      "[DEBUG] Head 2 | ps[..., 4].sigmoid().mean = 0.0089\n"
     ]
    },
    {
     "name": "stderr",
     "output_type": "stream",
     "text": [
      "[YoloOW] Epoch 5/30:  50%|█████     | 12/24 [00:11<00:11,  1.07it/s, Loss=6.5803, box=0.082, obj=0.068, cls=0.262, total loss=0.411, lr=0.000875]"
     ]
    },
    {
     "name": "stdout",
     "output_type": "stream",
     "text": [
      "[DEBUG] Head 0 | iou.min=0.0948, iou.max=0.9061, iou.mean=0.4860\n",
      "[DEBUG] Head 0 | ps[..., 4].sigmoid().mean = 0.0011\n",
      "[DEBUG] Head 1 | iou.min=0.0586, iou.max=0.8571, iou.mean=0.3630\n",
      "[DEBUG] Head 1 | ps[..., 4].sigmoid().mean = 0.0042\n",
      "[DEBUG] Head 2 | iou.min=-0.0137, iou.max=0.8614, iou.mean=0.2197\n",
      "[DEBUG] Head 2 | ps[..., 4].sigmoid().mean = 0.0095\n"
     ]
    },
    {
     "name": "stderr",
     "output_type": "stream",
     "text": [
      "[YoloOW] Epoch 5/30:  54%|█████▍    | 13/24 [00:12<00:10,  1.04it/s, Loss=6.5803, box=0.082, obj=0.068, cls=0.262, total loss=0.411, lr=0.000875]"
     ]
    },
    {
     "name": "stdout",
     "output_type": "stream",
     "text": [
      "[DEBUG] Head 0 | iou.min=0.1836, iou.max=0.8918, iou.mean=0.5430\n",
      "[DEBUG] Head 0 | ps[..., 4].sigmoid().mean = 0.0012\n",
      "[DEBUG] Head 1 | iou.min=0.0955, iou.max=0.8192, iou.mean=0.4704\n",
      "[DEBUG] Head 1 | ps[..., 4].sigmoid().mean = 0.0044\n",
      "[DEBUG] Head 2 | iou.min=-0.0188, iou.max=0.8707, iou.mean=0.3548\n",
      "[DEBUG] Head 2 | ps[..., 4].sigmoid().mean = 0.0090\n"
     ]
    },
    {
     "name": "stderr",
     "output_type": "stream",
     "text": [
      "[YoloOW] Epoch 5/30:  58%|█████▊    | 14/24 [00:12<00:09,  1.05it/s, Loss=6.5803, box=0.082, obj=0.068, cls=0.262, total loss=0.411, lr=0.000875]"
     ]
    },
    {
     "name": "stdout",
     "output_type": "stream",
     "text": [
      "[DEBUG] Head 0 | iou.min=0.1475, iou.max=0.8850, iou.mean=0.4961\n",
      "[DEBUG] Head 0 | ps[..., 4].sigmoid().mean = 0.0012\n",
      "[DEBUG] Head 1 | iou.min=0.0887, iou.max=0.8633, iou.mean=0.4215\n",
      "[DEBUG] Head 1 | ps[..., 4].sigmoid().mean = 0.0045\n",
      "[DEBUG] Head 2 | iou.min=-0.0062, iou.max=0.8987, iou.mean=0.3668\n",
      "[DEBUG] Head 2 | ps[..., 4].sigmoid().mean = 0.0095\n"
     ]
    },
    {
     "name": "stderr",
     "output_type": "stream",
     "text": [
      "[YoloOW] Epoch 5/30:  62%|██████▎   | 15/24 [00:13<00:08,  1.07it/s, Loss=6.5803, box=0.082, obj=0.068, cls=0.262, total loss=0.411, lr=0.000875]"
     ]
    },
    {
     "name": "stdout",
     "output_type": "stream",
     "text": [
      "[DEBUG] Head 0 | iou.min=0.1620, iou.max=0.9247, iou.mean=0.4524\n",
      "[DEBUG] Head 0 | ps[..., 4].sigmoid().mean = 0.0013\n",
      "[DEBUG] Head 1 | iou.min=0.0922, iou.max=0.8893, iou.mean=0.3712\n",
      "[DEBUG] Head 1 | ps[..., 4].sigmoid().mean = 0.0046\n",
      "[DEBUG] Head 2 | iou.min=-0.0531, iou.max=0.7102, iou.mean=0.2771\n",
      "[DEBUG] Head 2 | ps[..., 4].sigmoid().mean = 0.0102\n"
     ]
    },
    {
     "name": "stderr",
     "output_type": "stream",
     "text": [
      "[YoloOW] Epoch 5/30:  67%|██████▋   | 16/24 [00:14<00:07,  1.02it/s, Loss=6.5803, box=0.082, obj=0.068, cls=0.262, total loss=0.411, lr=0.000875]"
     ]
    },
    {
     "name": "stdout",
     "output_type": "stream",
     "text": [
      "[DEBUG] Head 0 | iou.min=0.1904, iou.max=0.9171, iou.mean=0.5926\n",
      "[DEBUG] Head 0 | ps[..., 4].sigmoid().mean = 0.0013\n",
      "[DEBUG] Head 1 | iou.min=0.1307, iou.max=0.8540, iou.mean=0.5129\n",
      "[DEBUG] Head 1 | ps[..., 4].sigmoid().mean = 0.0047\n",
      "[DEBUG] Head 2 | iou.min=0.0573, iou.max=0.7570, iou.mean=0.3779\n",
      "[DEBUG] Head 2 | ps[..., 4].sigmoid().mean = 0.0100\n"
     ]
    },
    {
     "name": "stderr",
     "output_type": "stream",
     "text": [
      "[YoloOW] Epoch 5/30:  71%|███████   | 17/24 [00:15<00:06,  1.03it/s, Loss=6.5803, box=0.082, obj=0.068, cls=0.262, total loss=0.411, lr=0.000875]"
     ]
    },
    {
     "name": "stdout",
     "output_type": "stream",
     "text": [
      "[DEBUG] Head 0 | iou.min=0.1916, iou.max=0.8955, iou.mean=0.5504\n",
      "[DEBUG] Head 0 | ps[..., 4].sigmoid().mean = 0.0014\n",
      "[DEBUG] Head 1 | iou.min=0.0864, iou.max=0.8864, iou.mean=0.4535\n",
      "[DEBUG] Head 1 | ps[..., 4].sigmoid().mean = 0.0049\n",
      "[DEBUG] Head 2 | iou.min=0.0309, iou.max=0.8140, iou.mean=0.3288\n",
      "[DEBUG] Head 2 | ps[..., 4].sigmoid().mean = 0.0101\n"
     ]
    },
    {
     "name": "stderr",
     "output_type": "stream",
     "text": [
      "[YoloOW] Epoch 5/30:  75%|███████▌  | 18/24 [00:16<00:05,  1.05it/s, Loss=6.5803, box=0.082, obj=0.068, cls=0.262, total loss=0.411, lr=0.000875]"
     ]
    },
    {
     "name": "stdout",
     "output_type": "stream",
     "text": [
      "[DEBUG] Head 0 | iou.min=0.2160, iou.max=0.8921, iou.mean=0.5467\n",
      "[DEBUG] Head 0 | ps[..., 4].sigmoid().mean = 0.0015\n",
      "[DEBUG] Head 1 | iou.min=0.0876, iou.max=0.8468, iou.mean=0.4643\n",
      "[DEBUG] Head 1 | ps[..., 4].sigmoid().mean = 0.0050\n",
      "[DEBUG] Head 2 | iou.min=0.0289, iou.max=0.8724, iou.mean=0.3505\n",
      "[DEBUG] Head 2 | ps[..., 4].sigmoid().mean = 0.0103\n"
     ]
    },
    {
     "name": "stderr",
     "output_type": "stream",
     "text": [
      "[YoloOW] Epoch 5/30:  79%|███████▉  | 19/24 [00:17<00:04,  1.01it/s, Loss=6.5803, box=0.082, obj=0.068, cls=0.262, total loss=0.411, lr=0.000875]"
     ]
    },
    {
     "name": "stdout",
     "output_type": "stream",
     "text": [
      "[DEBUG] Head 0 | iou.min=0.1740, iou.max=0.9168, iou.mean=0.5681\n",
      "[DEBUG] Head 0 | ps[..., 4].sigmoid().mean = 0.0015\n",
      "[DEBUG] Head 1 | iou.min=0.1367, iou.max=0.9608, iou.mean=0.4863\n",
      "[DEBUG] Head 1 | ps[..., 4].sigmoid().mean = 0.0052\n",
      "[DEBUG] Head 2 | iou.min=0.0228, iou.max=0.8037, iou.mean=0.3545\n",
      "[DEBUG] Head 2 | ps[..., 4].sigmoid().mean = 0.0106\n"
     ]
    },
    {
     "name": "stderr",
     "output_type": "stream",
     "text": [
      "[YoloOW] Epoch 5/30:  83%|████████▎ | 20/24 [00:18<00:03,  1.02it/s, Loss=6.8448, box=0.080, obj=0.067, cls=0.281, total loss=0.428, lr=0.000958]"
     ]
    },
    {
     "name": "stdout",
     "output_type": "stream",
     "text": [
      "[DEBUG] Head 0 | iou.min=0.2377, iou.max=0.8692, iou.mean=0.5538\n",
      "[DEBUG] Head 0 | ps[..., 4].sigmoid().mean = 0.0015\n",
      "[DEBUG] Head 1 | iou.min=0.1069, iou.max=0.8899, iou.mean=0.4636\n",
      "[DEBUG] Head 1 | ps[..., 4].sigmoid().mean = 0.0053\n",
      "[DEBUG] Head 2 | iou.min=-0.0187, iou.max=0.7490, iou.mean=0.3172\n",
      "[DEBUG] Head 2 | ps[..., 4].sigmoid().mean = 0.0109\n"
     ]
    },
    {
     "name": "stderr",
     "output_type": "stream",
     "text": [
      "[YoloOW] Epoch 5/30:  88%|████████▊ | 21/24 [00:19<00:02,  1.03it/s, Loss=6.8448, box=0.080, obj=0.067, cls=0.281, total loss=0.428, lr=0.000958]"
     ]
    },
    {
     "name": "stdout",
     "output_type": "stream",
     "text": [
      "[DEBUG] Head 0 | iou.min=0.1698, iou.max=0.8805, iou.mean=0.5089\n",
      "[DEBUG] Head 0 | ps[..., 4].sigmoid().mean = 0.0014\n",
      "[DEBUG] Head 1 | iou.min=0.0771, iou.max=0.8358, iou.mean=0.4174\n",
      "[DEBUG] Head 1 | ps[..., 4].sigmoid().mean = 0.0053\n",
      "[DEBUG] Head 2 | iou.min=-0.0136, iou.max=0.6710, iou.mean=0.3092\n",
      "[DEBUG] Head 2 | ps[..., 4].sigmoid().mean = 0.0112\n"
     ]
    },
    {
     "name": "stderr",
     "output_type": "stream",
     "text": [
      "[YoloOW] Epoch 5/30:  92%|█████████▏| 22/24 [00:20<00:01,  1.03it/s, Loss=6.8448, box=0.080, obj=0.067, cls=0.281, total loss=0.428, lr=0.000958]"
     ]
    },
    {
     "name": "stdout",
     "output_type": "stream",
     "text": [
      "[DEBUG] Head 0 | iou.min=0.1488, iou.max=0.8487, iou.mean=0.4494\n",
      "[DEBUG] Head 0 | ps[..., 4].sigmoid().mean = 0.0014\n",
      "[DEBUG] Head 1 | iou.min=0.0897, iou.max=0.8388, iou.mean=0.3720\n",
      "[DEBUG] Head 1 | ps[..., 4].sigmoid().mean = 0.0051\n",
      "[DEBUG] Head 2 | iou.min=-0.0193, iou.max=0.7964, iou.mean=0.3007\n",
      "[DEBUG] Head 2 | ps[..., 4].sigmoid().mean = 0.0119\n"
     ]
    },
    {
     "name": "stderr",
     "output_type": "stream",
     "text": [
      "[YoloOW] Epoch 5/30:  96%|█████████▌| 23/24 [00:21<00:00,  1.04it/s, Loss=6.8448, box=0.080, obj=0.067, cls=0.281, total loss=0.428, lr=0.000958]"
     ]
    },
    {
     "name": "stdout",
     "output_type": "stream",
     "text": [
      "[DEBUG] Head 0 | iou.min=0.1781, iou.max=0.9180, iou.mean=0.5535\n",
      "[DEBUG] Head 0 | ps[..., 4].sigmoid().mean = 0.0014\n",
      "[DEBUG] Head 1 | iou.min=0.0879, iou.max=0.8198, iou.mean=0.4622\n",
      "[DEBUG] Head 1 | ps[..., 4].sigmoid().mean = 0.0050\n",
      "[DEBUG] Head 2 | iou.min=-0.0214, iou.max=0.7754, iou.mean=0.3063\n",
      "[DEBUG] Head 2 | ps[..., 4].sigmoid().mean = 0.0114\n"
     ]
    },
    {
     "name": "stderr",
     "output_type": "stream",
     "text": [
      "[YoloOW] Epoch 5/30: 100%|██████████| 24/24 [00:22<00:00,  1.06it/s, Loss=6.4837, box=0.084, obj=0.060, cls=0.262, total loss=0.405, lr=0.000992]\n"
     ]
    },
    {
     "name": "stdout",
     "output_type": "stream",
     "text": [
      "\n",
      "[YoloOW] ✅ Epoch 5/30 complete in 22.69s | Avg Loss: 6.6911\n",
      "\n",
      "[YoloOW] 📊 Running evaluation after epoch 5 ...\n",
      "[DEBUG] Head 0 | iou.min=0.1706, iou.max=0.8722, iou.mean=0.5249\n",
      "[DEBUG] Head 0 | ps[..., 4].sigmoid().mean = 0.0013\n",
      "[DEBUG] Head 1 | iou.min=0.1342, iou.max=0.9192, iou.mean=0.4423\n",
      "[DEBUG] Head 1 | ps[..., 4].sigmoid().mean = 0.0049\n",
      "[DEBUG] Head 2 | iou.min=-0.0354, iou.max=0.7769, iou.mean=0.3322\n",
      "[DEBUG] Head 2 | ps[..., 4].sigmoid().mean = 0.0115\n",
      "[DEBUG] Head 0 | iou.min=0.1670, iou.max=0.8862, iou.mean=0.5015\n",
      "[DEBUG] Head 0 | ps[..., 4].sigmoid().mean = 0.0013\n",
      "[DEBUG] Head 1 | iou.min=0.0625, iou.max=0.8494, iou.mean=0.4249\n",
      "[DEBUG] Head 1 | ps[..., 4].sigmoid().mean = 0.0048\n",
      "[DEBUG] Head 2 | iou.min=-0.0192, iou.max=0.8868, iou.mean=0.3120\n",
      "[DEBUG] Head 2 | ps[..., 4].sigmoid().mean = 0.0115\n",
      "[DEBUG] Head 0 | iou.min=0.2089, iou.max=0.9007, iou.mean=0.4997\n",
      "[DEBUG] Head 0 | ps[..., 4].sigmoid().mean = 0.0013\n",
      "[DEBUG] Head 1 | iou.min=0.0616, iou.max=0.9224, iou.mean=0.4175\n",
      "[DEBUG] Head 1 | ps[..., 4].sigmoid().mean = 0.0048\n",
      "[DEBUG] Head 2 | iou.min=-0.0417, iou.max=0.8709, iou.mean=0.3176\n",
      "[DEBUG] Head 2 | ps[..., 4].sigmoid().mean = 0.0113\n",
      "[DEBUG] Head 0 | iou.min=0.1675, iou.max=0.8990, iou.mean=0.5396\n",
      "[DEBUG] Head 0 | ps[..., 4].sigmoid().mean = 0.0013\n",
      "[DEBUG] Head 1 | iou.min=0.0892, iou.max=0.8492, iou.mean=0.4862\n",
      "[DEBUG] Head 1 | ps[..., 4].sigmoid().mean = 0.0049\n",
      "[DEBUG] Head 2 | iou.min=0.0170, iou.max=0.8764, iou.mean=0.3460\n",
      "[DEBUG] Head 2 | ps[..., 4].sigmoid().mean = 0.0111\n",
      "[DEBUG] Head 0 | iou.min=0.1679, iou.max=0.8706, iou.mean=0.5785\n",
      "[DEBUG] Head 0 | ps[..., 4].sigmoid().mean = 0.0013\n",
      "[DEBUG] Head 1 | iou.min=0.2157, iou.max=0.9093, iou.mean=0.5230\n",
      "[DEBUG] Head 1 | ps[..., 4].sigmoid().mean = 0.0048\n",
      "[DEBUG] Head 2 | iou.min=0.0655, iou.max=0.7892, iou.mean=0.3548\n",
      "[DEBUG] Head 2 | ps[..., 4].sigmoid().mean = 0.0111\n",
      "[DEBUG] Head 0 | iou.min=0.2915, iou.max=0.9320, iou.mean=0.5612\n",
      "[DEBUG] Head 0 | ps[..., 4].sigmoid().mean = 0.0013\n",
      "[DEBUG] Head 1 | iou.min=0.0794, iou.max=0.8927, iou.mean=0.4522\n",
      "[DEBUG] Head 1 | ps[..., 4].sigmoid().mean = 0.0048\n",
      "[DEBUG] Head 2 | iou.min=0.0134, iou.max=0.8046, iou.mean=0.2811\n",
      "[DEBUG] Head 2 | ps[..., 4].sigmoid().mean = 0.0113\n",
      "[DEBUG] Head 0 | iou.min=0.1870, iou.max=0.9014, iou.mean=0.4727\n",
      "[DEBUG] Head 0 | ps[..., 4].sigmoid().mean = 0.0013\n",
      "[DEBUG] Head 1 | iou.min=0.0932, iou.max=0.8261, iou.mean=0.3922\n",
      "[DEBUG] Head 1 | ps[..., 4].sigmoid().mean = 0.0049\n",
      "[DEBUG] Head 2 | iou.min=-0.0340, iou.max=0.7584, iou.mean=0.3397\n",
      "[DEBUG] Head 2 | ps[..., 4].sigmoid().mean = 0.0114\n",
      "[DEBUG] Head 0 | iou.min=0.1143, iou.max=0.9034, iou.mean=0.3996\n",
      "[DEBUG] Head 0 | ps[..., 4].sigmoid().mean = 0.0013\n",
      "[DEBUG] Head 1 | iou.min=0.0627, iou.max=0.7902, iou.mean=0.3213\n",
      "[DEBUG] Head 1 | ps[..., 4].sigmoid().mean = 0.0048\n",
      "[DEBUG] Head 2 | iou.min=-0.0141, iou.max=0.7360, iou.mean=0.2698\n",
      "[DEBUG] Head 2 | ps[..., 4].sigmoid().mean = 0.0120\n",
      "[DEBUG] Head 0 | iou.min=0.2776, iou.max=0.6853, iou.mean=0.5113\n",
      "[DEBUG] Head 0 | ps[..., 4].sigmoid().mean = 0.0013\n",
      "[DEBUG] Head 1 | iou.min=0.0794, iou.max=0.6750, iou.mean=0.4740\n",
      "[DEBUG] Head 1 | ps[..., 4].sigmoid().mean = 0.0048\n",
      "[DEBUG] Head 2 | iou.min=0.1074, iou.max=0.7807, iou.mean=0.3881\n",
      "[DEBUG] Head 2 | ps[..., 4].sigmoid().mean = 0.0106\n",
      "[validate_yoloow_model] ✅  Avg Loss  (box/obj/cls/total): 0.0863 / 0.0576 / 0.2769 / 0.4208\n"
     ]
    },
    {
     "name": "stderr",
     "output_type": "stream",
     "text": [
      "[YoloOW] Epoch 6/30:   0%|          | 0/24 [00:00<?, ?it/s]"
     ]
    },
    {
     "name": "stdout",
     "output_type": "stream",
     "text": [
      "[DEBUG] Head 0 | iou.min=0.2192, iou.max=0.8708, iou.mean=0.5494\n",
      "[DEBUG] Head 0 | ps[..., 4].sigmoid().mean = 0.0013\n",
      "[DEBUG] Head 1 | iou.min=0.1895, iou.max=0.8217, iou.mean=0.4649\n",
      "[DEBUG] Head 1 | ps[..., 4].sigmoid().mean = 0.0049\n",
      "[DEBUG] Head 2 | iou.min=-0.0040, iou.max=0.7518, iou.mean=0.3449\n",
      "[DEBUG] Head 2 | ps[..., 4].sigmoid().mean = 0.0113\n"
     ]
    },
    {
     "name": "stderr",
     "output_type": "stream",
     "text": [
      "[YoloOW] Epoch 6/30:   4%|▍         | 1/24 [00:00<00:19,  1.19it/s]"
     ]
    },
    {
     "name": "stdout",
     "output_type": "stream",
     "text": [
      "[DEBUG] Head 0 | iou.min=0.1382, iou.max=0.8884, iou.mean=0.5393\n",
      "[DEBUG] Head 0 | ps[..., 4].sigmoid().mean = 0.0013\n",
      "[DEBUG] Head 1 | iou.min=0.0973, iou.max=0.8833, iou.mean=0.4259\n",
      "[DEBUG] Head 1 | ps[..., 4].sigmoid().mean = 0.0047\n",
      "[DEBUG] Head 2 | iou.min=-0.0384, iou.max=0.8670, iou.mean=0.2882\n",
      "[DEBUG] Head 2 | ps[..., 4].sigmoid().mean = 0.0113\n"
     ]
    },
    {
     "name": "stderr",
     "output_type": "stream",
     "text": [
      "[YoloOW] Epoch 6/30:   8%|▊         | 2/24 [00:02<00:24,  1.10s/it]"
     ]
    },
    {
     "name": "stdout",
     "output_type": "stream",
     "text": [
      "[DEBUG] Head 0 | iou.min=0.1707, iou.max=0.8869, iou.mean=0.4435\n",
      "[DEBUG] Head 0 | ps[..., 4].sigmoid().mean = 0.0013\n",
      "[DEBUG] Head 1 | iou.min=0.0934, iou.max=0.8425, iou.mean=0.3637\n",
      "[DEBUG] Head 1 | ps[..., 4].sigmoid().mean = 0.0047\n",
      "[DEBUG] Head 2 | iou.min=-0.0260, iou.max=0.8132, iou.mean=0.3256\n",
      "[DEBUG] Head 2 | ps[..., 4].sigmoid().mean = 0.0106\n"
     ]
    },
    {
     "name": "stderr",
     "output_type": "stream",
     "text": [
      "[YoloOW] Epoch 6/30:  12%|█▎        | 3/24 [00:03<00:21,  1.01s/it]"
     ]
    },
    {
     "name": "stdout",
     "output_type": "stream",
     "text": [
      "[DEBUG] Head 0 | iou.min=0.1686, iou.max=0.8829, iou.mean=0.5564\n",
      "[DEBUG] Head 0 | ps[..., 4].sigmoid().mean = 0.0013\n",
      "[DEBUG] Head 1 | iou.min=0.0699, iou.max=0.8141, iou.mean=0.4375\n",
      "[DEBUG] Head 1 | ps[..., 4].sigmoid().mean = 0.0046\n",
      "[DEBUG] Head 2 | iou.min=-0.0373, iou.max=0.8266, iou.mean=0.2643\n",
      "[DEBUG] Head 2 | ps[..., 4].sigmoid().mean = 0.0113\n"
     ]
    },
    {
     "name": "stderr",
     "output_type": "stream",
     "text": [
      "[YoloOW] Epoch 6/30:  17%|█▋        | 4/24 [00:03<00:19,  1.03it/s]"
     ]
    },
    {
     "name": "stdout",
     "output_type": "stream",
     "text": [
      "[DEBUG] Head 0 | iou.min=0.1204, iou.max=0.8406, iou.mean=0.4643\n",
      "[DEBUG] Head 0 | ps[..., 4].sigmoid().mean = 0.0013\n",
      "[DEBUG] Head 1 | iou.min=0.0673, iou.max=0.7371, iou.mean=0.3801\n",
      "[DEBUG] Head 1 | ps[..., 4].sigmoid().mean = 0.0045\n",
      "[DEBUG] Head 2 | iou.min=-0.0615, iou.max=0.7694, iou.mean=0.2824\n",
      "[DEBUG] Head 2 | ps[..., 4].sigmoid().mean = 0.0110\n"
     ]
    },
    {
     "name": "stderr",
     "output_type": "stream",
     "text": [
      "[YoloOW] Epoch 6/30:  21%|██        | 5/24 [00:04<00:18,  1.03it/s]"
     ]
    },
    {
     "name": "stdout",
     "output_type": "stream",
     "text": [
      "[DEBUG] Head 0 | iou.min=0.1550, iou.max=0.9027, iou.mean=0.4901\n",
      "[DEBUG] Head 0 | ps[..., 4].sigmoid().mean = 0.0012\n",
      "[DEBUG] Head 1 | iou.min=0.1001, iou.max=0.9160, iou.mean=0.4114\n",
      "[DEBUG] Head 1 | ps[..., 4].sigmoid().mean = 0.0044\n",
      "[DEBUG] Head 2 | iou.min=-0.0587, iou.max=0.8562, iou.mean=0.3297\n",
      "[DEBUG] Head 2 | ps[..., 4].sigmoid().mean = 0.0111\n"
     ]
    },
    {
     "name": "stderr",
     "output_type": "stream",
     "text": [
      "[YoloOW] Epoch 6/30:  25%|██▌       | 6/24 [00:05<00:16,  1.08it/s]"
     ]
    },
    {
     "name": "stdout",
     "output_type": "stream",
     "text": [
      "[DEBUG] Head 0 | iou.min=0.1181, iou.max=0.8900, iou.mean=0.4374\n",
      "[DEBUG] Head 0 | ps[..., 4].sigmoid().mean = 0.0012\n",
      "[DEBUG] Head 1 | iou.min=0.0940, iou.max=0.9329, iou.mean=0.3508\n",
      "[DEBUG] Head 1 | ps[..., 4].sigmoid().mean = 0.0043\n",
      "[DEBUG] Head 2 | iou.min=-0.0922, iou.max=0.8716, iou.mean=0.3277\n",
      "[DEBUG] Head 2 | ps[..., 4].sigmoid().mean = 0.0111\n"
     ]
    },
    {
     "name": "stderr",
     "output_type": "stream",
     "text": [
      "[YoloOW] Epoch 6/30:  29%|██▉       | 7/24 [00:06<00:15,  1.12it/s]"
     ]
    },
    {
     "name": "stdout",
     "output_type": "stream",
     "text": [
      "[DEBUG] Head 0 | iou.min=0.1217, iou.max=0.9448, iou.mean=0.4512\n",
      "[DEBUG] Head 0 | ps[..., 4].sigmoid().mean = 0.0012\n",
      "[DEBUG] Head 1 | iou.min=0.0644, iou.max=0.9236, iou.mean=0.3647\n",
      "[DEBUG] Head 1 | ps[..., 4].sigmoid().mean = 0.0043\n",
      "[DEBUG] Head 2 | iou.min=-0.0764, iou.max=0.7621, iou.mean=0.2554\n",
      "[DEBUG] Head 2 | ps[..., 4].sigmoid().mean = 0.0112\n"
     ]
    },
    {
     "name": "stderr",
     "output_type": "stream",
     "text": [
      "[YoloOW] Epoch 6/30:  33%|███▎      | 8/24 [00:07<00:14,  1.13it/s]"
     ]
    },
    {
     "name": "stdout",
     "output_type": "stream",
     "text": [
      "[DEBUG] Head 0 | iou.min=0.1357, iou.max=0.8658, iou.mean=0.5495\n",
      "[DEBUG] Head 0 | ps[..., 4].sigmoid().mean = 0.0012\n",
      "[DEBUG] Head 1 | iou.min=0.0612, iou.max=0.8334, iou.mean=0.4353\n",
      "[DEBUG] Head 1 | ps[..., 4].sigmoid().mean = 0.0042\n",
      "[DEBUG] Head 2 | iou.min=0.0105, iou.max=0.8130, iou.mean=0.3231\n",
      "[DEBUG] Head 2 | ps[..., 4].sigmoid().mean = 0.0104\n"
     ]
    },
    {
     "name": "stderr",
     "output_type": "stream",
     "text": [
      "[YoloOW] Epoch 6/30:  38%|███▊      | 9/24 [00:08<00:13,  1.15it/s]"
     ]
    },
    {
     "name": "stdout",
     "output_type": "stream",
     "text": [
      "[DEBUG] Head 0 | iou.min=0.1550, iou.max=0.8648, iou.mean=0.5280\n",
      "[DEBUG] Head 0 | ps[..., 4].sigmoid().mean = 0.0012\n",
      "[DEBUG] Head 1 | iou.min=0.0558, iou.max=0.8501, iou.mean=0.4491\n",
      "[DEBUG] Head 1 | ps[..., 4].sigmoid().mean = 0.0042\n",
      "[DEBUG] Head 2 | iou.min=0.0462, iou.max=0.8459, iou.mean=0.3301\n",
      "[DEBUG] Head 2 | ps[..., 4].sigmoid().mean = 0.0096\n"
     ]
    },
    {
     "name": "stderr",
     "output_type": "stream",
     "text": [
      "[YoloOW] Epoch 6/30:  42%|████▏     | 10/24 [00:09<00:11,  1.17it/s, Loss=6.6574, box=0.085, obj=0.080, cls=0.251, total loss=0.416, lr=0.001000]"
     ]
    },
    {
     "name": "stdout",
     "output_type": "stream",
     "text": [
      "[DEBUG] Head 0 | iou.min=0.1012, iou.max=0.8965, iou.mean=0.4679\n",
      "[DEBUG] Head 0 | ps[..., 4].sigmoid().mean = 0.0012\n",
      "[DEBUG] Head 1 | iou.min=0.0823, iou.max=0.7877, iou.mean=0.4087\n",
      "[DEBUG] Head 1 | ps[..., 4].sigmoid().mean = 0.0041\n",
      "[DEBUG] Head 2 | iou.min=0.0485, iou.max=0.9434, iou.mean=0.3680\n",
      "[DEBUG] Head 2 | ps[..., 4].sigmoid().mean = 0.0091\n"
     ]
    },
    {
     "name": "stderr",
     "output_type": "stream",
     "text": [
      "[YoloOW] Epoch 6/30:  46%|████▌     | 11/24 [00:09<00:10,  1.18it/s, Loss=6.6574, box=0.085, obj=0.080, cls=0.251, total loss=0.416, lr=0.001000]"
     ]
    },
    {
     "name": "stdout",
     "output_type": "stream",
     "text": [
      "[DEBUG] Head 0 | iou.min=0.1248, iou.max=0.8968, iou.mean=0.5199\n",
      "[DEBUG] Head 0 | ps[..., 4].sigmoid().mean = 0.0012\n",
      "[DEBUG] Head 1 | iou.min=0.0783, iou.max=0.9015, iou.mean=0.4126\n",
      "[DEBUG] Head 1 | ps[..., 4].sigmoid().mean = 0.0041\n",
      "[DEBUG] Head 2 | iou.min=-0.0013, iou.max=0.8168, iou.mean=0.3361\n",
      "[DEBUG] Head 2 | ps[..., 4].sigmoid().mean = 0.0088\n"
     ]
    },
    {
     "name": "stderr",
     "output_type": "stream",
     "text": [
      "[YoloOW] Epoch 6/30:  50%|█████     | 12/24 [00:10<00:10,  1.14it/s, Loss=6.6574, box=0.085, obj=0.080, cls=0.251, total loss=0.416, lr=0.001000]"
     ]
    },
    {
     "name": "stdout",
     "output_type": "stream",
     "text": [
      "[DEBUG] Head 0 | iou.min=0.1859, iou.max=0.8809, iou.mean=0.5270\n",
      "[DEBUG] Head 0 | ps[..., 4].sigmoid().mean = 0.0012\n",
      "[DEBUG] Head 1 | iou.min=0.1204, iou.max=0.8649, iou.mean=0.4448\n",
      "[DEBUG] Head 1 | ps[..., 4].sigmoid().mean = 0.0042\n",
      "[DEBUG] Head 2 | iou.min=0.0668, iou.max=0.8072, iou.mean=0.3529\n",
      "[DEBUG] Head 2 | ps[..., 4].sigmoid().mean = 0.0090\n"
     ]
    },
    {
     "name": "stderr",
     "output_type": "stream",
     "text": [
      "[YoloOW] Epoch 6/30:  54%|█████▍    | 13/24 [00:11<00:09,  1.11it/s, Loss=6.6574, box=0.085, obj=0.080, cls=0.251, total loss=0.416, lr=0.001000]"
     ]
    },
    {
     "name": "stdout",
     "output_type": "stream",
     "text": [
      "[DEBUG] Head 0 | iou.min=0.1074, iou.max=0.8509, iou.mean=0.5284\n",
      "[DEBUG] Head 0 | ps[..., 4].sigmoid().mean = 0.0012\n",
      "[DEBUG] Head 1 | iou.min=0.0613, iou.max=0.8703, iou.mean=0.4363\n",
      "[DEBUG] Head 1 | ps[..., 4].sigmoid().mean = 0.0042\n",
      "[DEBUG] Head 2 | iou.min=0.0187, iou.max=0.8433, iou.mean=0.2767\n",
      "[DEBUG] Head 2 | ps[..., 4].sigmoid().mean = 0.0098\n"
     ]
    },
    {
     "name": "stderr",
     "output_type": "stream",
     "text": [
      "[YoloOW] Epoch 6/30:  58%|█████▊    | 14/24 [00:12<00:09,  1.10it/s, Loss=6.6574, box=0.085, obj=0.080, cls=0.251, total loss=0.416, lr=0.001000]"
     ]
    },
    {
     "name": "stdout",
     "output_type": "stream",
     "text": [
      "[DEBUG] Head 0 | iou.min=0.1634, iou.max=0.9251, iou.mean=0.5377\n",
      "[DEBUG] Head 0 | ps[..., 4].sigmoid().mean = 0.0013\n",
      "[DEBUG] Head 1 | iou.min=0.0785, iou.max=0.8501, iou.mean=0.4464\n",
      "[DEBUG] Head 1 | ps[..., 4].sigmoid().mean = 0.0042\n",
      "[DEBUG] Head 2 | iou.min=0.0093, iou.max=0.7890, iou.mean=0.3336\n",
      "[DEBUG] Head 2 | ps[..., 4].sigmoid().mean = 0.0097\n"
     ]
    },
    {
     "name": "stderr",
     "output_type": "stream",
     "text": [
      "[YoloOW] Epoch 6/30:  62%|██████▎   | 15/24 [00:13<00:08,  1.08it/s, Loss=6.6574, box=0.085, obj=0.080, cls=0.251, total loss=0.416, lr=0.001000]"
     ]
    },
    {
     "name": "stdout",
     "output_type": "stream",
     "text": [
      "[DEBUG] Head 0 | iou.min=0.1745, iou.max=0.8744, iou.mean=0.5291\n",
      "[DEBUG] Head 0 | ps[..., 4].sigmoid().mean = 0.0013\n",
      "[DEBUG] Head 1 | iou.min=0.1239, iou.max=0.8365, iou.mean=0.4362\n",
      "[DEBUG] Head 1 | ps[..., 4].sigmoid().mean = 0.0043\n",
      "[DEBUG] Head 2 | iou.min=-0.0093, iou.max=0.7843, iou.mean=0.2940\n",
      "[DEBUG] Head 2 | ps[..., 4].sigmoid().mean = 0.0099\n"
     ]
    },
    {
     "name": "stderr",
     "output_type": "stream",
     "text": [
      "[YoloOW] Epoch 6/30:  67%|██████▋   | 16/24 [00:14<00:07,  1.04it/s, Loss=6.6574, box=0.085, obj=0.080, cls=0.251, total loss=0.416, lr=0.001000]"
     ]
    },
    {
     "name": "stdout",
     "output_type": "stream",
     "text": [
      "[DEBUG] Head 0 | iou.min=0.0717, iou.max=0.9001, iou.mean=0.4782\n",
      "[DEBUG] Head 0 | ps[..., 4].sigmoid().mean = 0.0014\n",
      "[DEBUG] Head 1 | iou.min=0.0492, iou.max=0.8621, iou.mean=0.4345\n",
      "[DEBUG] Head 1 | ps[..., 4].sigmoid().mean = 0.0044\n",
      "[DEBUG] Head 2 | iou.min=0.0299, iou.max=0.8460, iou.mean=0.3703\n",
      "[DEBUG] Head 2 | ps[..., 4].sigmoid().mean = 0.0092\n"
     ]
    },
    {
     "name": "stderr",
     "output_type": "stream",
     "text": [
      "[YoloOW] Epoch 6/30:  71%|███████   | 17/24 [00:15<00:06,  1.04it/s, Loss=6.6574, box=0.085, obj=0.080, cls=0.251, total loss=0.416, lr=0.001000]"
     ]
    },
    {
     "name": "stdout",
     "output_type": "stream",
     "text": [
      "[DEBUG] Head 0 | iou.min=0.1606, iou.max=0.8643, iou.mean=0.5157\n",
      "[DEBUG] Head 0 | ps[..., 4].sigmoid().mean = 0.0014\n",
      "[DEBUG] Head 1 | iou.min=0.0936, iou.max=0.7663, iou.mean=0.4192\n",
      "[DEBUG] Head 1 | ps[..., 4].sigmoid().mean = 0.0046\n",
      "[DEBUG] Head 2 | iou.min=0.0012, iou.max=0.8741, iou.mean=0.3066\n",
      "[DEBUG] Head 2 | ps[..., 4].sigmoid().mean = 0.0094\n"
     ]
    },
    {
     "name": "stderr",
     "output_type": "stream",
     "text": [
      "[YoloOW] Epoch 6/30:  75%|███████▌  | 18/24 [00:16<00:05,  1.02it/s, Loss=6.6574, box=0.085, obj=0.080, cls=0.251, total loss=0.416, lr=0.001000]"
     ]
    },
    {
     "name": "stdout",
     "output_type": "stream",
     "text": [
      "[DEBUG] Head 0 | iou.min=0.1734, iou.max=0.9267, iou.mean=0.5441\n",
      "[DEBUG] Head 0 | ps[..., 4].sigmoid().mean = 0.0014\n",
      "[DEBUG] Head 1 | iou.min=0.0983, iou.max=0.8434, iou.mean=0.4617\n",
      "[DEBUG] Head 1 | ps[..., 4].sigmoid().mean = 0.0046\n",
      "[DEBUG] Head 2 | iou.min=0.0348, iou.max=0.8761, iou.mean=0.3246\n",
      "[DEBUG] Head 2 | ps[..., 4].sigmoid().mean = 0.0092\n"
     ]
    },
    {
     "name": "stderr",
     "output_type": "stream",
     "text": [
      "[YoloOW] Epoch 6/30:  79%|███████▉  | 19/24 [00:18<00:05,  1.07s/it, Loss=6.6574, box=0.085, obj=0.080, cls=0.251, total loss=0.416, lr=0.001000]"
     ]
    },
    {
     "name": "stdout",
     "output_type": "stream",
     "text": [
      "[DEBUG] Head 0 | iou.min=0.1532, iou.max=0.9144, iou.mean=0.4895\n",
      "[DEBUG] Head 0 | ps[..., 4].sigmoid().mean = 0.0014\n",
      "[DEBUG] Head 1 | iou.min=0.0992, iou.max=0.9050, iou.mean=0.4290\n",
      "[DEBUG] Head 1 | ps[..., 4].sigmoid().mean = 0.0047\n",
      "[DEBUG] Head 2 | iou.min=0.0005, iou.max=0.8093, iou.mean=0.3483\n",
      "[DEBUG] Head 2 | ps[..., 4].sigmoid().mean = 0.0097\n"
     ]
    },
    {
     "name": "stderr",
     "output_type": "stream",
     "text": [
      "[YoloOW] Epoch 6/30:  83%|████████▎ | 20/24 [00:18<00:04,  1.03s/it, Loss=6.7785, box=0.087, obj=0.051, cls=0.286, total loss=0.424, lr=0.001000]"
     ]
    },
    {
     "name": "stdout",
     "output_type": "stream",
     "text": [
      "[DEBUG] Head 0 | iou.min=0.1680, iou.max=0.8586, iou.mean=0.5387\n",
      "[DEBUG] Head 0 | ps[..., 4].sigmoid().mean = 0.0014\n",
      "[DEBUG] Head 1 | iou.min=0.1049, iou.max=0.8136, iou.mean=0.4004\n",
      "[DEBUG] Head 1 | ps[..., 4].sigmoid().mean = 0.0047\n",
      "[DEBUG] Head 2 | iou.min=-0.0154, iou.max=0.9109, iou.mean=0.2887\n",
      "[DEBUG] Head 2 | ps[..., 4].sigmoid().mean = 0.0106\n"
     ]
    },
    {
     "name": "stderr",
     "output_type": "stream",
     "text": [
      "[YoloOW] Epoch 6/30:  88%|████████▊ | 21/24 [00:19<00:03,  1.01s/it, Loss=6.7785, box=0.087, obj=0.051, cls=0.286, total loss=0.424, lr=0.001000]"
     ]
    },
    {
     "name": "stdout",
     "output_type": "stream",
     "text": [
      "[DEBUG] Head 0 | iou.min=0.1823, iou.max=0.8795, iou.mean=0.5376\n",
      "[DEBUG] Head 0 | ps[..., 4].sigmoid().mean = 0.0013\n",
      "[DEBUG] Head 1 | iou.min=0.1380, iou.max=0.9422, iou.mean=0.4547\n",
      "[DEBUG] Head 1 | ps[..., 4].sigmoid().mean = 0.0047\n",
      "[DEBUG] Head 2 | iou.min=-0.0195, iou.max=0.7822, iou.mean=0.3493\n",
      "[DEBUG] Head 2 | ps[..., 4].sigmoid().mean = 0.0109\n"
     ]
    },
    {
     "name": "stderr",
     "output_type": "stream",
     "text": [
      "[YoloOW] Epoch 6/30:  92%|█████████▏| 22/24 [00:21<00:02,  1.23s/it, Loss=6.7785, box=0.087, obj=0.051, cls=0.286, total loss=0.424, lr=0.001000]"
     ]
    },
    {
     "name": "stdout",
     "output_type": "stream",
     "text": [
      "[DEBUG] Head 0 | iou.min=0.2480, iou.max=0.9073, iou.mean=0.5373\n",
      "[DEBUG] Head 0 | ps[..., 4].sigmoid().mean = 0.0013\n",
      "[DEBUG] Head 1 | iou.min=0.1557, iou.max=0.8200, iou.mean=0.4414\n",
      "[DEBUG] Head 1 | ps[..., 4].sigmoid().mean = 0.0047\n",
      "[DEBUG] Head 2 | iou.min=0.0034, iou.max=0.8112, iou.mean=0.3114\n",
      "[DEBUG] Head 2 | ps[..., 4].sigmoid().mean = 0.0114\n"
     ]
    },
    {
     "name": "stderr",
     "output_type": "stream",
     "text": [
      "[YoloOW] Epoch 6/30:  96%|█████████▌| 23/24 [00:22<00:01,  1.20s/it, Loss=6.7785, box=0.087, obj=0.051, cls=0.286, total loss=0.424, lr=0.001000]"
     ]
    },
    {
     "name": "stdout",
     "output_type": "stream",
     "text": [
      "[DEBUG] Head 0 | iou.min=0.1508, iou.max=0.8641, iou.mean=0.4324\n",
      "[DEBUG] Head 0 | ps[..., 4].sigmoid().mean = 0.0013\n",
      "[DEBUG] Head 1 | iou.min=0.0679, iou.max=0.8000, iou.mean=0.3836\n",
      "[DEBUG] Head 1 | ps[..., 4].sigmoid().mean = 0.0047\n",
      "[DEBUG] Head 2 | iou.min=-0.0783, iou.max=0.8116, iou.mean=0.3232\n",
      "[DEBUG] Head 2 | ps[..., 4].sigmoid().mean = 0.0111\n"
     ]
    },
    {
     "name": "stderr",
     "output_type": "stream",
     "text": [
      "[YoloOW] Epoch 6/30: 100%|██████████| 24/24 [00:24<00:00,  1.00s/it, Loss=6.3714, box=0.093, obj=0.053, cls=0.252, total loss=0.398, lr=0.001000]\n"
     ]
    },
    {
     "name": "stdout",
     "output_type": "stream",
     "text": [
      "\n",
      "[YoloOW] ✅ Epoch 6/30 complete in 24.03s | Avg Loss: 6.6826\n",
      "\n",
      "[YoloOW] 📊 Running evaluation after epoch 6 ...\n",
      "[DEBUG] Head 0 | iou.min=0.1504, iou.max=0.9597, iou.mean=0.5168\n",
      "[DEBUG] Head 0 | ps[..., 4].sigmoid().mean = 0.0013\n",
      "[DEBUG] Head 1 | iou.min=0.1397, iou.max=0.9461, iou.mean=0.4430\n",
      "[DEBUG] Head 1 | ps[..., 4].sigmoid().mean = 0.0047\n",
      "[DEBUG] Head 2 | iou.min=-0.0707, iou.max=0.7403, iou.mean=0.3314\n",
      "[DEBUG] Head 2 | ps[..., 4].sigmoid().mean = 0.0112\n",
      "[DEBUG] Head 0 | iou.min=0.1477, iou.max=0.8873, iou.mean=0.5087\n",
      "[DEBUG] Head 0 | ps[..., 4].sigmoid().mean = 0.0013\n",
      "[DEBUG] Head 1 | iou.min=0.0594, iou.max=0.8691, iou.mean=0.4264\n",
      "[DEBUG] Head 1 | ps[..., 4].sigmoid().mean = 0.0047\n",
      "[DEBUG] Head 2 | iou.min=-0.0211, iou.max=0.8620, iou.mean=0.3108\n",
      "[DEBUG] Head 2 | ps[..., 4].sigmoid().mean = 0.0112\n",
      "[DEBUG] Head 0 | iou.min=0.1842, iou.max=0.9446, iou.mean=0.4992\n",
      "[DEBUG] Head 0 | ps[..., 4].sigmoid().mean = 0.0013\n",
      "[DEBUG] Head 1 | iou.min=0.0585, iou.max=0.9094, iou.mean=0.4179\n",
      "[DEBUG] Head 1 | ps[..., 4].sigmoid().mean = 0.0047\n",
      "[DEBUG] Head 2 | iou.min=-0.0747, iou.max=0.8485, iou.mean=0.3138\n",
      "[DEBUG] Head 2 | ps[..., 4].sigmoid().mean = 0.0110\n",
      "[DEBUG] Head 0 | iou.min=0.1477, iou.max=0.8938, iou.mean=0.5051\n",
      "[DEBUG] Head 0 | ps[..., 4].sigmoid().mean = 0.0013\n",
      "[DEBUG] Head 1 | iou.min=0.0925, iou.max=0.8437, iou.mean=0.4846\n",
      "[DEBUG] Head 1 | ps[..., 4].sigmoid().mean = 0.0047\n",
      "[DEBUG] Head 2 | iou.min=-0.0177, iou.max=0.8346, iou.mean=0.3381\n",
      "[DEBUG] Head 2 | ps[..., 4].sigmoid().mean = 0.0108\n",
      "[DEBUG] Head 0 | iou.min=0.1608, iou.max=0.8595, iou.mean=0.5380\n",
      "[DEBUG] Head 0 | ps[..., 4].sigmoid().mean = 0.0013\n",
      "[DEBUG] Head 1 | iou.min=0.2118, iou.max=0.8671, iou.mean=0.5210\n",
      "[DEBUG] Head 1 | ps[..., 4].sigmoid().mean = 0.0047\n",
      "[DEBUG] Head 2 | iou.min=0.0624, iou.max=0.8911, iou.mean=0.3511\n",
      "[DEBUG] Head 2 | ps[..., 4].sigmoid().mean = 0.0108\n",
      "[DEBUG] Head 0 | iou.min=0.3119, iou.max=0.9420, iou.mean=0.5516\n",
      "[DEBUG] Head 0 | ps[..., 4].sigmoid().mean = 0.0013\n",
      "[DEBUG] Head 1 | iou.min=0.0753, iou.max=0.8852, iou.mean=0.4542\n",
      "[DEBUG] Head 1 | ps[..., 4].sigmoid().mean = 0.0047\n",
      "[DEBUG] Head 2 | iou.min=-0.0023, iou.max=0.7512, iou.mean=0.2790\n",
      "[DEBUG] Head 2 | ps[..., 4].sigmoid().mean = 0.0110\n",
      "[DEBUG] Head 0 | iou.min=0.1791, iou.max=0.9153, iou.mean=0.4873\n",
      "[DEBUG] Head 0 | ps[..., 4].sigmoid().mean = 0.0013\n",
      "[DEBUG] Head 1 | iou.min=0.0970, iou.max=0.8193, iou.mean=0.3925\n",
      "[DEBUG] Head 1 | ps[..., 4].sigmoid().mean = 0.0047\n",
      "[DEBUG] Head 2 | iou.min=-0.0447, iou.max=0.7921, iou.mean=0.3425\n",
      "[DEBUG] Head 2 | ps[..., 4].sigmoid().mean = 0.0111\n",
      "[DEBUG] Head 0 | iou.min=0.1296, iou.max=0.9238, iou.mean=0.4258\n",
      "[DEBUG] Head 0 | ps[..., 4].sigmoid().mean = 0.0013\n",
      "[DEBUG] Head 1 | iou.min=0.0683, iou.max=0.7829, iou.mean=0.3240\n",
      "[DEBUG] Head 1 | ps[..., 4].sigmoid().mean = 0.0047\n",
      "[DEBUG] Head 2 | iou.min=-0.0418, iou.max=0.8420, iou.mean=0.2722\n",
      "[DEBUG] Head 2 | ps[..., 4].sigmoid().mean = 0.0117\n",
      "[DEBUG] Head 0 | iou.min=0.2451, iou.max=0.6494, iou.mean=0.4596\n",
      "[DEBUG] Head 0 | ps[..., 4].sigmoid().mean = 0.0013\n",
      "[DEBUG] Head 1 | iou.min=0.0753, iou.max=0.6660, iou.mean=0.4691\n",
      "[DEBUG] Head 1 | ps[..., 4].sigmoid().mean = 0.0047\n",
      "[DEBUG] Head 2 | iou.min=0.0861, iou.max=0.8839, iou.mean=0.3742\n",
      "[DEBUG] Head 2 | ps[..., 4].sigmoid().mean = 0.0104\n",
      "[validate_yoloow_model] ✅  Avg Loss  (box/obj/cls/total): 0.0870 / 0.0567 / 0.2749 / 0.4186\n"
     ]
    },
    {
     "name": "stderr",
     "output_type": "stream",
     "text": [
      "[YoloOW] Epoch 7/30:   0%|          | 0/24 [00:00<?, ?it/s]"
     ]
    },
    {
     "name": "stdout",
     "output_type": "stream",
     "text": [
      "[DEBUG] Head 0 | iou.min=0.1206, iou.max=0.8996, iou.mean=0.5573\n",
      "[DEBUG] Head 0 | ps[..., 4].sigmoid().mean = 0.0013\n",
      "[DEBUG] Head 1 | iou.min=0.0774, iou.max=0.8567, iou.mean=0.4890\n",
      "[DEBUG] Head 1 | ps[..., 4].sigmoid().mean = 0.0047\n",
      "[DEBUG] Head 2 | iou.min=0.0219, iou.max=0.7897, iou.mean=0.3405\n",
      "[DEBUG] Head 2 | ps[..., 4].sigmoid().mean = 0.0109\n"
     ]
    },
    {
     "name": "stderr",
     "output_type": "stream",
     "text": [
      "[YoloOW] Epoch 7/30:   4%|▍         | 1/24 [00:01<00:28,  1.23s/it]"
     ]
    },
    {
     "name": "stdout",
     "output_type": "stream",
     "text": [
      "[DEBUG] Head 0 | iou.min=0.1667, iou.max=0.9276, iou.mean=0.5728\n",
      "[DEBUG] Head 0 | ps[..., 4].sigmoid().mean = 0.0013\n",
      "[DEBUG] Head 1 | iou.min=0.1307, iou.max=0.8124, iou.mean=0.4790\n",
      "[DEBUG] Head 1 | ps[..., 4].sigmoid().mean = 0.0047\n",
      "[DEBUG] Head 2 | iou.min=-0.0270, iou.max=0.7752, iou.mean=0.3224\n",
      "[DEBUG] Head 2 | ps[..., 4].sigmoid().mean = 0.0106\n"
     ]
    },
    {
     "name": "stderr",
     "output_type": "stream",
     "text": [
      "[YoloOW] Epoch 7/30:   8%|▊         | 2/24 [00:03<00:35,  1.59s/it]"
     ]
    },
    {
     "name": "stdout",
     "output_type": "stream",
     "text": [
      "[DEBUG] Head 0 | iou.min=0.2128, iou.max=0.9135, iou.mean=0.4745\n",
      "[DEBUG] Head 0 | ps[..., 4].sigmoid().mean = 0.0013\n",
      "[DEBUG] Head 1 | iou.min=0.1015, iou.max=0.7504, iou.mean=0.3896\n",
      "[DEBUG] Head 1 | ps[..., 4].sigmoid().mean = 0.0046\n",
      "[DEBUG] Head 2 | iou.min=-0.0529, iou.max=0.8090, iou.mean=0.2911\n",
      "[DEBUG] Head 2 | ps[..., 4].sigmoid().mean = 0.0101\n"
     ]
    },
    {
     "name": "stderr",
     "output_type": "stream",
     "text": [
      "[YoloOW] Epoch 7/30:  12%|█▎        | 3/24 [00:04<00:34,  1.64s/it]"
     ]
    },
    {
     "name": "stdout",
     "output_type": "stream",
     "text": [
      "[DEBUG] Head 0 | iou.min=0.2367, iou.max=0.9055, iou.mean=0.5699\n",
      "[DEBUG] Head 0 | ps[..., 4].sigmoid().mean = 0.0013\n",
      "[DEBUG] Head 1 | iou.min=0.0615, iou.max=0.8116, iou.mean=0.4854\n",
      "[DEBUG] Head 1 | ps[..., 4].sigmoid().mean = 0.0046\n",
      "[DEBUG] Head 2 | iou.min=0.0203, iou.max=0.8341, iou.mean=0.3478\n",
      "[DEBUG] Head 2 | ps[..., 4].sigmoid().mean = 0.0097\n"
     ]
    },
    {
     "name": "stderr",
     "output_type": "stream",
     "text": [
      "[YoloOW] Epoch 7/30:  17%|█▋        | 4/24 [00:05<00:28,  1.41s/it]"
     ]
    },
    {
     "name": "stdout",
     "output_type": "stream",
     "text": [
      "[DEBUG] Head 0 | iou.min=0.1141, iou.max=0.9423, iou.mean=0.4907\n",
      "[DEBUG] Head 0 | ps[..., 4].sigmoid().mean = 0.0013\n",
      "[DEBUG] Head 1 | iou.min=0.0731, iou.max=0.8797, iou.mean=0.4130\n",
      "[DEBUG] Head 1 | ps[..., 4].sigmoid().mean = 0.0046\n",
      "[DEBUG] Head 2 | iou.min=-0.0466, iou.max=0.8842, iou.mean=0.3291\n",
      "[DEBUG] Head 2 | ps[..., 4].sigmoid().mean = 0.0093\n"
     ]
    },
    {
     "name": "stderr",
     "output_type": "stream",
     "text": [
      "[YoloOW] Epoch 7/30:  21%|██        | 5/24 [00:06<00:24,  1.27s/it]"
     ]
    },
    {
     "name": "stdout",
     "output_type": "stream",
     "text": [
      "[DEBUG] Head 0 | iou.min=0.1638, iou.max=0.8387, iou.mean=0.5277\n",
      "[DEBUG] Head 0 | ps[..., 4].sigmoid().mean = 0.0013\n",
      "[DEBUG] Head 1 | iou.min=0.0580, iou.max=0.8105, iou.mean=0.4617\n",
      "[DEBUG] Head 1 | ps[..., 4].sigmoid().mean = 0.0046\n",
      "[DEBUG] Head 2 | iou.min=0.0838, iou.max=0.9419, iou.mean=0.3851\n",
      "[DEBUG] Head 2 | ps[..., 4].sigmoid().mean = 0.0090\n"
     ]
    },
    {
     "name": "stderr",
     "output_type": "stream",
     "text": [
      "[YoloOW] Epoch 7/30:  25%|██▌       | 6/24 [00:07<00:20,  1.14s/it]"
     ]
    },
    {
     "name": "stdout",
     "output_type": "stream",
     "text": [
      "[DEBUG] Head 0 | iou.min=0.1151, iou.max=0.8579, iou.mean=0.3663\n",
      "[DEBUG] Head 0 | ps[..., 4].sigmoid().mean = 0.0013\n",
      "[DEBUG] Head 1 | iou.min=0.0675, iou.max=0.8596, iou.mean=0.3234\n",
      "[DEBUG] Head 1 | ps[..., 4].sigmoid().mean = 0.0046\n",
      "[DEBUG] Head 2 | iou.min=-0.0235, iou.max=0.7634, iou.mean=0.2755\n",
      "[DEBUG] Head 2 | ps[..., 4].sigmoid().mean = 0.0100\n"
     ]
    },
    {
     "name": "stderr",
     "output_type": "stream",
     "text": [
      "[YoloOW] Epoch 7/30:  29%|██▉       | 7/24 [00:08<00:19,  1.13s/it]"
     ]
    },
    {
     "name": "stdout",
     "output_type": "stream",
     "text": [
      "[DEBUG] Head 0 | iou.min=0.1868, iou.max=0.9191, iou.mean=0.6193\n",
      "[DEBUG] Head 0 | ps[..., 4].sigmoid().mean = 0.0013\n",
      "[DEBUG] Head 1 | iou.min=0.0849, iou.max=0.7628, iou.mean=0.5149\n",
      "[DEBUG] Head 1 | ps[..., 4].sigmoid().mean = 0.0046\n",
      "[DEBUG] Head 2 | iou.min=0.0551, iou.max=0.9222, iou.mean=0.3351\n",
      "[DEBUG] Head 2 | ps[..., 4].sigmoid().mean = 0.0104\n"
     ]
    },
    {
     "name": "stderr",
     "output_type": "stream",
     "text": [
      "[YoloOW] Epoch 7/30:  33%|███▎      | 8/24 [00:09<00:16,  1.04s/it]"
     ]
    },
    {
     "name": "stdout",
     "output_type": "stream",
     "text": [
      "[DEBUG] Head 0 | iou.min=0.1659, iou.max=0.8829, iou.mean=0.5212\n",
      "[DEBUG] Head 0 | ps[..., 4].sigmoid().mean = 0.0013\n",
      "[DEBUG] Head 1 | iou.min=0.0610, iou.max=0.8282, iou.mean=0.4456\n",
      "[DEBUG] Head 1 | ps[..., 4].sigmoid().mean = 0.0046\n",
      "[DEBUG] Head 2 | iou.min=0.0345, iou.max=0.7536, iou.mean=0.2853\n",
      "[DEBUG] Head 2 | ps[..., 4].sigmoid().mean = 0.0118\n"
     ]
    },
    {
     "name": "stderr",
     "output_type": "stream",
     "text": [
      "[YoloOW] Epoch 7/30:  38%|███▊      | 9/24 [00:10<00:15,  1.02s/it]"
     ]
    },
    {
     "name": "stdout",
     "output_type": "stream",
     "text": [
      "[DEBUG] Head 0 | iou.min=0.0746, iou.max=0.9251, iou.mean=0.3706\n",
      "[DEBUG] Head 0 | ps[..., 4].sigmoid().mean = 0.0013\n",
      "[DEBUG] Head 1 | iou.min=0.0541, iou.max=0.8568, iou.mean=0.3173\n",
      "[DEBUG] Head 1 | ps[..., 4].sigmoid().mean = 0.0046\n",
      "[DEBUG] Head 2 | iou.min=-0.0360, iou.max=0.8465, iou.mean=0.2668\n",
      "[DEBUG] Head 2 | ps[..., 4].sigmoid().mean = 0.0127\n"
     ]
    },
    {
     "name": "stderr",
     "output_type": "stream",
     "text": [
      "[YoloOW] Epoch 7/30:  42%|████▏     | 10/24 [00:11<00:13,  1.01it/s, Loss=7.1267, box=0.102, obj=0.070, cls=0.273, total loss=0.445, lr=0.000969]"
     ]
    },
    {
     "name": "stdout",
     "output_type": "stream",
     "text": [
      "[DEBUG] Head 0 | iou.min=0.2182, iou.max=0.9206, iou.mean=0.5296\n",
      "[DEBUG] Head 0 | ps[..., 4].sigmoid().mean = 0.0012\n",
      "[DEBUG] Head 1 | iou.min=0.1063, iou.max=0.8504, iou.mean=0.4285\n",
      "[DEBUG] Head 1 | ps[..., 4].sigmoid().mean = 0.0047\n",
      "[DEBUG] Head 2 | iou.min=-0.0189, iou.max=0.8281, iou.mean=0.2726\n",
      "[DEBUG] Head 2 | ps[..., 4].sigmoid().mean = 0.0131\n"
     ]
    },
    {
     "name": "stderr",
     "output_type": "stream",
     "text": [
      "[YoloOW] Epoch 7/30:  46%|████▌     | 11/24 [00:12<00:13,  1.03s/it, Loss=7.1267, box=0.102, obj=0.070, cls=0.273, total loss=0.445, lr=0.000969]"
     ]
    },
    {
     "name": "stdout",
     "output_type": "stream",
     "text": [
      "[DEBUG] Head 0 | iou.min=0.1299, iou.max=0.8078, iou.mean=0.4180\n",
      "[DEBUG] Head 0 | ps[..., 4].sigmoid().mean = 0.0012\n",
      "[DEBUG] Head 1 | iou.min=0.0877, iou.max=0.7925, iou.mean=0.3487\n",
      "[DEBUG] Head 1 | ps[..., 4].sigmoid().mean = 0.0047\n",
      "[DEBUG] Head 2 | iou.min=-0.0535, iou.max=0.7937, iou.mean=0.3043\n",
      "[DEBUG] Head 2 | ps[..., 4].sigmoid().mean = 0.0128\n"
     ]
    },
    {
     "name": "stderr",
     "output_type": "stream",
     "text": [
      "[YoloOW] Epoch 7/30:  50%|█████     | 12/24 [00:14<00:16,  1.36s/it, Loss=7.1267, box=0.102, obj=0.070, cls=0.273, total loss=0.445, lr=0.000969]"
     ]
    },
    {
     "name": "stdout",
     "output_type": "stream",
     "text": [
      "[DEBUG] Head 0 | iou.min=0.1940, iou.max=0.8380, iou.mean=0.4628\n",
      "[DEBUG] Head 0 | ps[..., 4].sigmoid().mean = 0.0012\n",
      "[DEBUG] Head 1 | iou.min=0.1280, iou.max=0.8943, iou.mean=0.3909\n",
      "[DEBUG] Head 1 | ps[..., 4].sigmoid().mean = 0.0047\n",
      "[DEBUG] Head 2 | iou.min=-0.0434, iou.max=0.8135, iou.mean=0.2751\n",
      "[DEBUG] Head 2 | ps[..., 4].sigmoid().mean = 0.0137\n"
     ]
    },
    {
     "name": "stderr",
     "output_type": "stream",
     "text": [
      "[YoloOW] Epoch 7/30:  54%|█████▍    | 13/24 [00:16<00:14,  1.31s/it, Loss=7.1267, box=0.102, obj=0.070, cls=0.273, total loss=0.445, lr=0.000969]"
     ]
    },
    {
     "name": "stdout",
     "output_type": "stream",
     "text": [
      "[DEBUG] Head 0 | iou.min=0.1832, iou.max=0.8756, iou.mean=0.5134\n",
      "[DEBUG] Head 0 | ps[..., 4].sigmoid().mean = 0.0012\n",
      "[DEBUG] Head 1 | iou.min=0.1497, iou.max=0.8239, iou.mean=0.4574\n",
      "[DEBUG] Head 1 | ps[..., 4].sigmoid().mean = 0.0047\n",
      "[DEBUG] Head 2 | iou.min=0.0022, iou.max=0.8422, iou.mean=0.3292\n",
      "[DEBUG] Head 2 | ps[..., 4].sigmoid().mean = 0.0134\n"
     ]
    },
    {
     "name": "stderr",
     "output_type": "stream",
     "text": [
      "[YoloOW] Epoch 7/30:  58%|█████▊    | 14/24 [00:16<00:11,  1.19s/it, Loss=7.1267, box=0.102, obj=0.070, cls=0.273, total loss=0.445, lr=0.000969]"
     ]
    },
    {
     "name": "stdout",
     "output_type": "stream",
     "text": [
      "[DEBUG] Head 0 | iou.min=0.1362, iou.max=0.9031, iou.mean=0.5278\n",
      "[DEBUG] Head 0 | ps[..., 4].sigmoid().mean = 0.0012\n",
      "[DEBUG] Head 1 | iou.min=0.1113, iou.max=0.9153, iou.mean=0.4413\n",
      "[DEBUG] Head 1 | ps[..., 4].sigmoid().mean = 0.0047\n",
      "[DEBUG] Head 2 | iou.min=-0.0361, iou.max=0.8381, iou.mean=0.3330\n",
      "[DEBUG] Head 2 | ps[..., 4].sigmoid().mean = 0.0135\n"
     ]
    },
    {
     "name": "stderr",
     "output_type": "stream",
     "text": [
      "[YoloOW] Epoch 7/30:  62%|██████▎   | 15/24 [00:17<00:09,  1.10s/it, Loss=7.1267, box=0.102, obj=0.070, cls=0.273, total loss=0.445, lr=0.000969]"
     ]
    },
    {
     "name": "stdout",
     "output_type": "stream",
     "text": [
      "[DEBUG] Head 0 | iou.min=0.1774, iou.max=0.8748, iou.mean=0.5283\n",
      "[DEBUG] Head 0 | ps[..., 4].sigmoid().mean = 0.0011\n",
      "[DEBUG] Head 1 | iou.min=0.0877, iou.max=0.8378, iou.mean=0.4230\n",
      "[DEBUG] Head 1 | ps[..., 4].sigmoid().mean = 0.0047\n",
      "[DEBUG] Head 2 | iou.min=-0.0163, iou.max=0.8262, iou.mean=0.2961\n",
      "[DEBUG] Head 2 | ps[..., 4].sigmoid().mean = 0.0130\n"
     ]
    },
    {
     "name": "stderr",
     "output_type": "stream",
     "text": [
      "[YoloOW] Epoch 7/30:  67%|██████▋   | 16/24 [00:18<00:08,  1.04s/it, Loss=7.1267, box=0.102, obj=0.070, cls=0.273, total loss=0.445, lr=0.000969]"
     ]
    },
    {
     "name": "stdout",
     "output_type": "stream",
     "text": [
      "[DEBUG] Head 0 | iou.min=0.1196, iou.max=0.8996, iou.mean=0.6144\n",
      "[DEBUG] Head 0 | ps[..., 4].sigmoid().mean = 0.0012\n",
      "[DEBUG] Head 1 | iou.min=0.1448, iou.max=0.8402, iou.mean=0.4554\n",
      "[DEBUG] Head 1 | ps[..., 4].sigmoid().mean = 0.0047\n",
      "[DEBUG] Head 2 | iou.min=-0.0280, iou.max=0.8311, iou.mean=0.2807\n",
      "[DEBUG] Head 2 | ps[..., 4].sigmoid().mean = 0.0126\n"
     ]
    },
    {
     "name": "stderr",
     "output_type": "stream",
     "text": [
      "[YoloOW] Epoch 7/30:  71%|███████   | 17/24 [00:19<00:07,  1.03s/it, Loss=7.1267, box=0.102, obj=0.070, cls=0.273, total loss=0.445, lr=0.000969]"
     ]
    },
    {
     "name": "stdout",
     "output_type": "stream",
     "text": [
      "[DEBUG] Head 0 | iou.min=0.1881, iou.max=0.9432, iou.mean=0.5064\n",
      "[DEBUG] Head 0 | ps[..., 4].sigmoid().mean = 0.0012\n",
      "[DEBUG] Head 1 | iou.min=0.1034, iou.max=0.8635, iou.mean=0.4524\n",
      "[DEBUG] Head 1 | ps[..., 4].sigmoid().mean = 0.0047\n",
      "[DEBUG] Head 2 | iou.min=0.0152, iou.max=0.8074, iou.mean=0.3299\n",
      "[DEBUG] Head 2 | ps[..., 4].sigmoid().mean = 0.0111\n"
     ]
    },
    {
     "name": "stderr",
     "output_type": "stream",
     "text": [
      "[YoloOW] Epoch 7/30:  75%|███████▌  | 18/24 [00:20<00:06,  1.03s/it, Loss=7.1267, box=0.102, obj=0.070, cls=0.273, total loss=0.445, lr=0.000969]"
     ]
    },
    {
     "name": "stdout",
     "output_type": "stream",
     "text": [
      "[DEBUG] Head 0 | iou.min=0.1406, iou.max=0.8578, iou.mean=0.4974\n",
      "[DEBUG] Head 0 | ps[..., 4].sigmoid().mean = 0.0012\n",
      "[DEBUG] Head 1 | iou.min=0.0660, iou.max=0.8659, iou.mean=0.4472\n",
      "[DEBUG] Head 1 | ps[..., 4].sigmoid().mean = 0.0047\n",
      "[DEBUG] Head 2 | iou.min=0.0270, iou.max=0.8562, iou.mean=0.3608\n",
      "[DEBUG] Head 2 | ps[..., 4].sigmoid().mean = 0.0104\n"
     ]
    },
    {
     "name": "stderr",
     "output_type": "stream",
     "text": [
      "[YoloOW] Epoch 7/30:  79%|███████▉  | 19/24 [00:21<00:04,  1.01it/s, Loss=7.1267, box=0.102, obj=0.070, cls=0.273, total loss=0.445, lr=0.000969]"
     ]
    },
    {
     "name": "stdout",
     "output_type": "stream",
     "text": [
      "[DEBUG] Head 0 | iou.min=0.1835, iou.max=0.8743, iou.mean=0.5605\n",
      "[DEBUG] Head 0 | ps[..., 4].sigmoid().mean = 0.0012\n",
      "[DEBUG] Head 1 | iou.min=0.1135, iou.max=0.8371, iou.mean=0.4257\n",
      "[DEBUG] Head 1 | ps[..., 4].sigmoid().mean = 0.0046\n",
      "[DEBUG] Head 2 | iou.min=-0.0101, iou.max=0.7548, iou.mean=0.2750\n",
      "[DEBUG] Head 2 | ps[..., 4].sigmoid().mean = 0.0097\n"
     ]
    },
    {
     "name": "stderr",
     "output_type": "stream",
     "text": [
      "[YoloOW] Epoch 7/30:  83%|████████▎ | 20/24 [00:22<00:03,  1.03it/s, Loss=6.4774, box=0.087, obj=0.049, cls=0.269, total loss=0.405, lr=0.000969]"
     ]
    },
    {
     "name": "stdout",
     "output_type": "stream",
     "text": [
      "[DEBUG] Head 0 | iou.min=0.1153, iou.max=0.9041, iou.mean=0.5107\n",
      "[DEBUG] Head 0 | ps[..., 4].sigmoid().mean = 0.0012\n",
      "[DEBUG] Head 1 | iou.min=0.0905, iou.max=0.7458, iou.mean=0.4253\n",
      "[DEBUG] Head 1 | ps[..., 4].sigmoid().mean = 0.0046\n",
      "[DEBUG] Head 2 | iou.min=0.0425, iou.max=0.6516, iou.mean=0.2705\n",
      "[DEBUG] Head 2 | ps[..., 4].sigmoid().mean = 0.0081\n"
     ]
    },
    {
     "name": "stderr",
     "output_type": "stream",
     "text": [
      "[YoloOW] Epoch 7/30:  88%|████████▊ | 21/24 [00:23<00:02,  1.02it/s, Loss=6.4774, box=0.087, obj=0.049, cls=0.269, total loss=0.405, lr=0.000969]"
     ]
    },
    {
     "name": "stdout",
     "output_type": "stream",
     "text": [
      "[DEBUG] Head 0 | iou.min=0.1059, iou.max=0.8719, iou.mean=0.4776\n",
      "[DEBUG] Head 0 | ps[..., 4].sigmoid().mean = 0.0012\n",
      "[DEBUG] Head 1 | iou.min=0.0618, iou.max=0.8149, iou.mean=0.4171\n",
      "[DEBUG] Head 1 | ps[..., 4].sigmoid().mean = 0.0045\n",
      "[DEBUG] Head 2 | iou.min=0.0331, iou.max=0.7751, iou.mean=0.3306\n",
      "[DEBUG] Head 2 | ps[..., 4].sigmoid().mean = 0.0098\n"
     ]
    },
    {
     "name": "stderr",
     "output_type": "stream",
     "text": [
      "[YoloOW] Epoch 7/30:  92%|█████████▏| 22/24 [00:25<00:02,  1.23s/it, Loss=6.4774, box=0.087, obj=0.049, cls=0.269, total loss=0.405, lr=0.000969]"
     ]
    },
    {
     "name": "stdout",
     "output_type": "stream",
     "text": [
      "[DEBUG] Head 0 | iou.min=0.2254, iou.max=0.9048, iou.mean=0.5314\n",
      "[DEBUG] Head 0 | ps[..., 4].sigmoid().mean = 0.0012\n",
      "[DEBUG] Head 1 | iou.min=0.1140, iou.max=0.8185, iou.mean=0.4307\n",
      "[DEBUG] Head 1 | ps[..., 4].sigmoid().mean = 0.0044\n",
      "[DEBUG] Head 2 | iou.min=-0.0140, iou.max=0.7376, iou.mean=0.2874\n",
      "[DEBUG] Head 2 | ps[..., 4].sigmoid().mean = 0.0120\n"
     ]
    },
    {
     "name": "stderr",
     "output_type": "stream",
     "text": [
      "[YoloOW] Epoch 7/30:  96%|█████████▌| 23/24 [00:26<00:01,  1.18s/it, Loss=6.4774, box=0.087, obj=0.049, cls=0.269, total loss=0.405, lr=0.000969]"
     ]
    },
    {
     "name": "stdout",
     "output_type": "stream",
     "text": [
      "[DEBUG] Head 0 | iou.min=0.1291, iou.max=0.8674, iou.mean=0.5093\n",
      "[DEBUG] Head 0 | ps[..., 4].sigmoid().mean = 0.0012\n",
      "[DEBUG] Head 1 | iou.min=0.0913, iou.max=0.8248, iou.mean=0.4175\n",
      "[DEBUG] Head 1 | ps[..., 4].sigmoid().mean = 0.0043\n",
      "[DEBUG] Head 2 | iou.min=-0.0194, iou.max=0.8301, iou.mean=0.2916\n",
      "[DEBUG] Head 2 | ps[..., 4].sigmoid().mean = 0.0125\n"
     ]
    },
    {
     "name": "stderr",
     "output_type": "stream",
     "text": [
      "[YoloOW] Epoch 7/30: 100%|██████████| 24/24 [00:27<00:00,  1.14s/it, Loss=6.6307, box=0.089, obj=0.065, cls=0.261, total loss=0.414, lr=0.000969]\n"
     ]
    },
    {
     "name": "stdout",
     "output_type": "stream",
     "text": [
      "\n",
      "[YoloOW] ✅ Epoch 7/30 complete in 27.40s | Avg Loss: 6.6943\n",
      "\n",
      "[YoloOW] 📊 Running evaluation after epoch 7 ...\n",
      "[DEBUG] Head 0 | iou.min=0.1476, iou.max=0.9158, iou.mean=0.5281\n",
      "[DEBUG] Head 0 | ps[..., 4].sigmoid().mean = 0.0012\n",
      "[DEBUG] Head 1 | iou.min=0.1252, iou.max=0.9223, iou.mean=0.4416\n",
      "[DEBUG] Head 1 | ps[..., 4].sigmoid().mean = 0.0042\n",
      "[DEBUG] Head 2 | iou.min=-0.0196, iou.max=0.7557, iou.mean=0.3276\n",
      "[DEBUG] Head 2 | ps[..., 4].sigmoid().mean = 0.0114\n",
      "[DEBUG] Head 0 | iou.min=0.1452, iou.max=0.8823, iou.mean=0.5053\n",
      "[DEBUG] Head 0 | ps[..., 4].sigmoid().mean = 0.0012\n",
      "[DEBUG] Head 1 | iou.min=0.0496, iou.max=0.8986, iou.mean=0.4258\n",
      "[DEBUG] Head 1 | ps[..., 4].sigmoid().mean = 0.0042\n",
      "[DEBUG] Head 2 | iou.min=-0.0239, iou.max=0.8460, iou.mean=0.3078\n",
      "[DEBUG] Head 2 | ps[..., 4].sigmoid().mean = 0.0115\n",
      "[DEBUG] Head 0 | iou.min=0.1815, iou.max=0.8437, iou.mean=0.4973\n",
      "[DEBUG] Head 0 | ps[..., 4].sigmoid().mean = 0.0012\n",
      "[DEBUG] Head 1 | iou.min=0.0488, iou.max=0.8908, iou.mean=0.4153\n",
      "[DEBUG] Head 1 | ps[..., 4].sigmoid().mean = 0.0042\n",
      "[DEBUG] Head 2 | iou.min=-0.0263, iou.max=0.9013, iou.mean=0.3114\n",
      "[DEBUG] Head 2 | ps[..., 4].sigmoid().mean = 0.0113\n",
      "[DEBUG] Head 0 | iou.min=0.1448, iou.max=0.8598, iou.mean=0.5479\n",
      "[DEBUG] Head 0 | ps[..., 4].sigmoid().mean = 0.0012\n",
      "[DEBUG] Head 1 | iou.min=0.0931, iou.max=0.7867, iou.mean=0.4761\n",
      "[DEBUG] Head 1 | ps[..., 4].sigmoid().mean = 0.0042\n",
      "[DEBUG] Head 2 | iou.min=0.0299, iou.max=0.8296, iou.mean=0.3368\n",
      "[DEBUG] Head 2 | ps[..., 4].sigmoid().mean = 0.0111\n",
      "[DEBUG] Head 0 | iou.min=0.1928, iou.max=0.8988, iou.mean=0.5913\n",
      "[DEBUG] Head 0 | ps[..., 4].sigmoid().mean = 0.0012\n",
      "[DEBUG] Head 1 | iou.min=0.2021, iou.max=0.8673, iou.mean=0.5146\n",
      "[DEBUG] Head 1 | ps[..., 4].sigmoid().mean = 0.0042\n",
      "[DEBUG] Head 2 | iou.min=0.0543, iou.max=0.7668, iou.mean=0.3512\n",
      "[DEBUG] Head 2 | ps[..., 4].sigmoid().mean = 0.0111\n",
      "[DEBUG] Head 0 | iou.min=0.3192, iou.max=0.9332, iou.mean=0.5581\n",
      "[DEBUG] Head 0 | ps[..., 4].sigmoid().mean = 0.0012\n",
      "[DEBUG] Head 1 | iou.min=0.0627, iou.max=0.8546, iou.mean=0.4511\n",
      "[DEBUG] Head 1 | ps[..., 4].sigmoid().mean = 0.0042\n",
      "[DEBUG] Head 2 | iou.min=0.0043, iou.max=0.8407, iou.mean=0.2722\n",
      "[DEBUG] Head 2 | ps[..., 4].sigmoid().mean = 0.0113\n",
      "[DEBUG] Head 0 | iou.min=0.1917, iou.max=0.9163, iou.mean=0.4658\n",
      "[DEBUG] Head 0 | ps[..., 4].sigmoid().mean = 0.0012\n",
      "[DEBUG] Head 1 | iou.min=0.0801, iou.max=0.8245, iou.mean=0.3897\n",
      "[DEBUG] Head 1 | ps[..., 4].sigmoid().mean = 0.0042\n",
      "[DEBUG] Head 2 | iou.min=-0.0407, iou.max=0.8091, iou.mean=0.3429\n",
      "[DEBUG] Head 2 | ps[..., 4].sigmoid().mean = 0.0114\n",
      "[DEBUG] Head 0 | iou.min=0.1150, iou.max=0.8805, iou.mean=0.3989\n",
      "[DEBUG] Head 0 | ps[..., 4].sigmoid().mean = 0.0012\n",
      "[DEBUG] Head 1 | iou.min=0.0643, iou.max=0.8104, iou.mean=0.3273\n",
      "[DEBUG] Head 1 | ps[..., 4].sigmoid().mean = 0.0042\n",
      "[DEBUG] Head 2 | iou.min=-0.0144, iou.max=0.7511, iou.mean=0.2643\n",
      "[DEBUG] Head 2 | ps[..., 4].sigmoid().mean = 0.0118\n",
      "[DEBUG] Head 0 | iou.min=0.2400, iou.max=0.6640, iou.mean=0.5058\n",
      "[DEBUG] Head 0 | ps[..., 4].sigmoid().mean = 0.0012\n",
      "[DEBUG] Head 1 | iou.min=0.0628, iou.max=0.6684, iou.mean=0.4572\n",
      "[DEBUG] Head 1 | ps[..., 4].sigmoid().mean = 0.0042\n",
      "[DEBUG] Head 2 | iou.min=0.1114, iou.max=0.7896, iou.mean=0.3756\n",
      "[DEBUG] Head 2 | ps[..., 4].sigmoid().mean = 0.0108\n",
      "[validate_yoloow_model] ✅  Avg Loss  (box/obj/cls/total): 0.0867 / 0.0566 / 0.2782 / 0.4215\n"
     ]
    },
    {
     "name": "stderr",
     "output_type": "stream",
     "text": [
      "[YoloOW] Epoch 8/30:   0%|          | 0/24 [00:00<?, ?it/s]"
     ]
    },
    {
     "name": "stdout",
     "output_type": "stream",
     "text": [
      "[DEBUG] Head 0 | iou.min=0.1181, iou.max=0.9515, iou.mean=0.5792\n",
      "[DEBUG] Head 0 | ps[..., 4].sigmoid().mean = 0.0012\n",
      "[DEBUG] Head 1 | iou.min=0.0534, iou.max=0.8431, iou.mean=0.4614\n",
      "[DEBUG] Head 1 | ps[..., 4].sigmoid().mean = 0.0042\n",
      "[DEBUG] Head 2 | iou.min=0.0144, iou.max=0.8625, iou.mean=0.3344\n",
      "[DEBUG] Head 2 | ps[..., 4].sigmoid().mean = 0.0114\n"
     ]
    },
    {
     "name": "stderr",
     "output_type": "stream",
     "text": [
      "[YoloOW] Epoch 8/30:   4%|▍         | 1/24 [00:00<00:19,  1.16it/s]"
     ]
    },
    {
     "name": "stdout",
     "output_type": "stream",
     "text": [
      "[DEBUG] Head 0 | iou.min=0.1573, iou.max=0.8736, iou.mean=0.5350\n",
      "[DEBUG] Head 0 | ps[..., 4].sigmoid().mean = 0.0012\n",
      "[DEBUG] Head 1 | iou.min=0.1374, iou.max=0.8801, iou.mean=0.4486\n",
      "[DEBUG] Head 1 | ps[..., 4].sigmoid().mean = 0.0042\n",
      "[DEBUG] Head 2 | iou.min=-0.0126, iou.max=0.8781, iou.mean=0.3367\n",
      "[DEBUG] Head 2 | ps[..., 4].sigmoid().mean = 0.0101\n"
     ]
    },
    {
     "name": "stderr",
     "output_type": "stream",
     "text": [
      "[YoloOW] Epoch 8/30:   8%|▊         | 2/24 [00:01<00:19,  1.14it/s]"
     ]
    },
    {
     "name": "stdout",
     "output_type": "stream",
     "text": [
      "[DEBUG] Head 0 | iou.min=0.1504, iou.max=0.8805, iou.mean=0.5155\n",
      "[DEBUG] Head 0 | ps[..., 4].sigmoid().mean = 0.0013\n",
      "[DEBUG] Head 1 | iou.min=0.0711, iou.max=0.8423, iou.mean=0.4318\n",
      "[DEBUG] Head 1 | ps[..., 4].sigmoid().mean = 0.0042\n",
      "[DEBUG] Head 2 | iou.min=-0.0259, iou.max=0.7552, iou.mean=0.3131\n",
      "[DEBUG] Head 2 | ps[..., 4].sigmoid().mean = 0.0089\n"
     ]
    },
    {
     "name": "stderr",
     "output_type": "stream",
     "text": [
      "[YoloOW] Epoch 8/30:  12%|█▎        | 3/24 [00:02<00:19,  1.10it/s]"
     ]
    },
    {
     "name": "stdout",
     "output_type": "stream",
     "text": [
      "[DEBUG] Head 0 | iou.min=0.1976, iou.max=0.9142, iou.mean=0.5461\n",
      "[DEBUG] Head 0 | ps[..., 4].sigmoid().mean = 0.0013\n",
      "[DEBUG] Head 1 | iou.min=0.1549, iou.max=0.8584, iou.mean=0.4720\n",
      "[DEBUG] Head 1 | ps[..., 4].sigmoid().mean = 0.0043\n",
      "[DEBUG] Head 2 | iou.min=-0.0024, iou.max=0.8473, iou.mean=0.3365\n",
      "[DEBUG] Head 2 | ps[..., 4].sigmoid().mean = 0.0085\n"
     ]
    },
    {
     "name": "stderr",
     "output_type": "stream",
     "text": [
      "[YoloOW] Epoch 8/30:  17%|█▋        | 4/24 [00:03<00:17,  1.13it/s]"
     ]
    },
    {
     "name": "stdout",
     "output_type": "stream",
     "text": [
      "[DEBUG] Head 0 | iou.min=0.1186, iou.max=0.8484, iou.mean=0.4214\n",
      "[DEBUG] Head 0 | ps[..., 4].sigmoid().mean = 0.0013\n",
      "[DEBUG] Head 1 | iou.min=0.0830, iou.max=0.8278, iou.mean=0.3753\n",
      "[DEBUG] Head 1 | ps[..., 4].sigmoid().mean = 0.0043\n",
      "[DEBUG] Head 2 | iou.min=-0.0206, iou.max=0.8758, iou.mean=0.3002\n",
      "[DEBUG] Head 2 | ps[..., 4].sigmoid().mean = 0.0080\n"
     ]
    },
    {
     "name": "stderr",
     "output_type": "stream",
     "text": [
      "[YoloOW] Epoch 8/30:  21%|██        | 5/24 [00:04<00:17,  1.10it/s]"
     ]
    },
    {
     "name": "stdout",
     "output_type": "stream",
     "text": [
      "[DEBUG] Head 0 | iou.min=0.2145, iou.max=0.9087, iou.mean=0.5985\n",
      "[DEBUG] Head 0 | ps[..., 4].sigmoid().mean = 0.0014\n",
      "[DEBUG] Head 1 | iou.min=0.0858, iou.max=0.9060, iou.mean=0.4932\n",
      "[DEBUG] Head 1 | ps[..., 4].sigmoid().mean = 0.0044\n",
      "[DEBUG] Head 2 | iou.min=0.0122, iou.max=0.8740, iou.mean=0.3390\n",
      "[DEBUG] Head 2 | ps[..., 4].sigmoid().mean = 0.0072\n"
     ]
    },
    {
     "name": "stderr",
     "output_type": "stream",
     "text": [
      "[YoloOW] Epoch 8/30:  25%|██▌       | 6/24 [00:05<00:16,  1.10it/s]"
     ]
    },
    {
     "name": "stdout",
     "output_type": "stream",
     "text": [
      "[DEBUG] Head 0 | iou.min=0.1415, iou.max=0.9039, iou.mean=0.4861\n",
      "[DEBUG] Head 0 | ps[..., 4].sigmoid().mean = 0.0014\n",
      "[DEBUG] Head 1 | iou.min=0.1019, iou.max=0.8577, iou.mean=0.4082\n",
      "[DEBUG] Head 1 | ps[..., 4].sigmoid().mean = 0.0045\n",
      "[DEBUG] Head 2 | iou.min=-0.0097, iou.max=0.8853, iou.mean=0.2860\n",
      "[DEBUG] Head 2 | ps[..., 4].sigmoid().mean = 0.0074\n"
     ]
    },
    {
     "name": "stderr",
     "output_type": "stream",
     "text": [
      "[YoloOW] Epoch 8/30:  29%|██▉       | 7/24 [00:06<00:15,  1.10it/s]"
     ]
    },
    {
     "name": "stdout",
     "output_type": "stream",
     "text": [
      "[DEBUG] Head 0 | iou.min=0.1655, iou.max=0.8859, iou.mean=0.4643\n",
      "[DEBUG] Head 0 | ps[..., 4].sigmoid().mean = 0.0014\n",
      "[DEBUG] Head 1 | iou.min=0.0738, iou.max=0.8033, iou.mean=0.3886\n",
      "[DEBUG] Head 1 | ps[..., 4].sigmoid().mean = 0.0046\n",
      "[DEBUG] Head 2 | iou.min=-0.0535, iou.max=0.7153, iou.mean=0.2956\n",
      "[DEBUG] Head 2 | ps[..., 4].sigmoid().mean = 0.0073\n"
     ]
    },
    {
     "name": "stderr",
     "output_type": "stream",
     "text": [
      "[YoloOW] Epoch 8/30:  33%|███▎      | 8/24 [00:07<00:14,  1.09it/s]"
     ]
    },
    {
     "name": "stdout",
     "output_type": "stream",
     "text": [
      "[DEBUG] Head 0 | iou.min=0.1811, iou.max=0.8833, iou.mean=0.4983\n",
      "[DEBUG] Head 0 | ps[..., 4].sigmoid().mean = 0.0015\n",
      "[DEBUG] Head 1 | iou.min=0.0927, iou.max=0.8155, iou.mean=0.4123\n",
      "[DEBUG] Head 1 | ps[..., 4].sigmoid().mean = 0.0047\n",
      "[DEBUG] Head 2 | iou.min=-0.0270, iou.max=0.8523, iou.mean=0.2922\n",
      "[DEBUG] Head 2 | ps[..., 4].sigmoid().mean = 0.0081\n"
     ]
    },
    {
     "name": "stderr",
     "output_type": "stream",
     "text": [
      "[YoloOW] Epoch 8/30:  38%|███▊      | 9/24 [00:08<00:13,  1.08it/s]"
     ]
    },
    {
     "name": "stdout",
     "output_type": "stream",
     "text": [
      "[DEBUG] Head 0 | iou.min=0.1438, iou.max=0.8839, iou.mean=0.4989\n",
      "[DEBUG] Head 0 | ps[..., 4].sigmoid().mean = 0.0015\n",
      "[DEBUG] Head 1 | iou.min=0.1385, iou.max=0.7996, iou.mean=0.4102\n",
      "[DEBUG] Head 1 | ps[..., 4].sigmoid().mean = 0.0048\n",
      "[DEBUG] Head 2 | iou.min=-0.0391, iou.max=0.7430, iou.mean=0.3159\n",
      "[DEBUG] Head 2 | ps[..., 4].sigmoid().mean = 0.0087\n"
     ]
    },
    {
     "name": "stderr",
     "output_type": "stream",
     "text": [
      "[YoloOW] Epoch 8/30:  42%|████▏     | 10/24 [00:09<00:12,  1.09it/s, Loss=7.0123, box=0.089, obj=0.066, cls=0.284, total loss=0.438, lr=0.000934]"
     ]
    },
    {
     "name": "stdout",
     "output_type": "stream",
     "text": [
      "[DEBUG] Head 0 | iou.min=0.1018, iou.max=0.8945, iou.mean=0.3666\n",
      "[DEBUG] Head 0 | ps[..., 4].sigmoid().mean = 0.0015\n",
      "[DEBUG] Head 1 | iou.min=0.0613, iou.max=0.7892, iou.mean=0.3067\n",
      "[DEBUG] Head 1 | ps[..., 4].sigmoid().mean = 0.0049\n",
      "[DEBUG] Head 2 | iou.min=-0.0814, iou.max=0.7197, iou.mean=0.2581\n",
      "[DEBUG] Head 2 | ps[..., 4].sigmoid().mean = 0.0100\n"
     ]
    },
    {
     "name": "stderr",
     "output_type": "stream",
     "text": [
      "[YoloOW] Epoch 8/30:  46%|████▌     | 11/24 [00:10<00:12,  1.07it/s, Loss=7.0123, box=0.089, obj=0.066, cls=0.284, total loss=0.438, lr=0.000934]"
     ]
    },
    {
     "name": "stdout",
     "output_type": "stream",
     "text": [
      "[DEBUG] Head 0 | iou.min=0.1539, iou.max=0.8833, iou.mean=0.4611\n",
      "[DEBUG] Head 0 | ps[..., 4].sigmoid().mean = 0.0015\n",
      "[DEBUG] Head 1 | iou.min=0.0962, iou.max=0.7927, iou.mean=0.4238\n",
      "[DEBUG] Head 1 | ps[..., 4].sigmoid().mean = 0.0051\n",
      "[DEBUG] Head 2 | iou.min=-0.0880, iou.max=0.8426, iou.mean=0.3389\n",
      "[DEBUG] Head 2 | ps[..., 4].sigmoid().mean = 0.0113\n"
     ]
    },
    {
     "name": "stderr",
     "output_type": "stream",
     "text": [
      "[YoloOW] Epoch 8/30:  50%|█████     | 12/24 [00:10<00:10,  1.11it/s, Loss=7.0123, box=0.089, obj=0.066, cls=0.284, total loss=0.438, lr=0.000934]"
     ]
    },
    {
     "name": "stdout",
     "output_type": "stream",
     "text": [
      "[DEBUG] Head 0 | iou.min=0.1222, iou.max=0.9304, iou.mean=0.4922\n",
      "[DEBUG] Head 0 | ps[..., 4].sigmoid().mean = 0.0015\n",
      "[DEBUG] Head 1 | iou.min=0.0755, iou.max=0.8169, iou.mean=0.4526\n",
      "[DEBUG] Head 1 | ps[..., 4].sigmoid().mean = 0.0052\n",
      "[DEBUG] Head 2 | iou.min=0.0140, iou.max=0.7317, iou.mean=0.3427\n",
      "[DEBUG] Head 2 | ps[..., 4].sigmoid().mean = 0.0116\n"
     ]
    },
    {
     "name": "stderr",
     "output_type": "stream",
     "text": [
      "[YoloOW] Epoch 8/30:  54%|█████▍    | 13/24 [00:11<00:09,  1.11it/s, Loss=7.0123, box=0.089, obj=0.066, cls=0.284, total loss=0.438, lr=0.000934]"
     ]
    },
    {
     "name": "stdout",
     "output_type": "stream",
     "text": [
      "[DEBUG] Head 0 | iou.min=0.1143, iou.max=0.8994, iou.mean=0.4885\n",
      "[DEBUG] Head 0 | ps[..., 4].sigmoid().mean = 0.0014\n",
      "[DEBUG] Head 1 | iou.min=0.0716, iou.max=0.8583, iou.mean=0.4195\n",
      "[DEBUG] Head 1 | ps[..., 4].sigmoid().mean = 0.0052\n",
      "[DEBUG] Head 2 | iou.min=-0.0439, iou.max=0.8316, iou.mean=0.3094\n",
      "[DEBUG] Head 2 | ps[..., 4].sigmoid().mean = 0.0122\n"
     ]
    },
    {
     "name": "stderr",
     "output_type": "stream",
     "text": [
      "[YoloOW] Epoch 8/30:  58%|█████▊    | 14/24 [00:13<00:11,  1.11s/it, Loss=7.0123, box=0.089, obj=0.066, cls=0.284, total loss=0.438, lr=0.000934]"
     ]
    },
    {
     "name": "stdout",
     "output_type": "stream",
     "text": [
      "[DEBUG] Head 0 | iou.min=0.1990, iou.max=0.9104, iou.mean=0.4815\n",
      "[DEBUG] Head 0 | ps[..., 4].sigmoid().mean = 0.0014\n",
      "[DEBUG] Head 1 | iou.min=0.0722, iou.max=0.8712, iou.mean=0.4362\n",
      "[DEBUG] Head 1 | ps[..., 4].sigmoid().mean = 0.0052\n",
      "[DEBUG] Head 2 | iou.min=-0.0290, iou.max=0.7871, iou.mean=0.3408\n",
      "[DEBUG] Head 2 | ps[..., 4].sigmoid().mean = 0.0118\n"
     ]
    },
    {
     "name": "stderr",
     "output_type": "stream",
     "text": [
      "[YoloOW] Epoch 8/30:  62%|██████▎   | 15/24 [00:14<00:09,  1.05s/it, Loss=7.0123, box=0.089, obj=0.066, cls=0.284, total loss=0.438, lr=0.000934]"
     ]
    },
    {
     "name": "stdout",
     "output_type": "stream",
     "text": [
      "[DEBUG] Head 0 | iou.min=0.1386, iou.max=0.8810, iou.mean=0.5116\n",
      "[DEBUG] Head 0 | ps[..., 4].sigmoid().mean = 0.0014\n",
      "[DEBUG] Head 1 | iou.min=0.0634, iou.max=0.8446, iou.mean=0.4231\n",
      "[DEBUG] Head 1 | ps[..., 4].sigmoid().mean = 0.0052\n",
      "[DEBUG] Head 2 | iou.min=-0.0244, iou.max=0.7991, iou.mean=0.2901\n",
      "[DEBUG] Head 2 | ps[..., 4].sigmoid().mean = 0.0113\n"
     ]
    },
    {
     "name": "stderr",
     "output_type": "stream",
     "text": [
      "[YoloOW] Epoch 8/30:  67%|██████▋   | 16/24 [00:17<00:13,  1.66s/it, Loss=7.0123, box=0.089, obj=0.066, cls=0.284, total loss=0.438, lr=0.000934]"
     ]
    },
    {
     "name": "stdout",
     "output_type": "stream",
     "text": [
      "[DEBUG] Head 0 | iou.min=0.1231, iou.max=0.9082, iou.mean=0.5126\n",
      "[DEBUG] Head 0 | ps[..., 4].sigmoid().mean = 0.0014\n",
      "[DEBUG] Head 1 | iou.min=0.1455, iou.max=0.7910, iou.mean=0.3957\n",
      "[DEBUG] Head 1 | ps[..., 4].sigmoid().mean = 0.0051\n",
      "[DEBUG] Head 2 | iou.min=-0.0237, iou.max=0.8118, iou.mean=0.3285\n",
      "[DEBUG] Head 2 | ps[..., 4].sigmoid().mean = 0.0106\n"
     ]
    },
    {
     "name": "stderr",
     "output_type": "stream",
     "text": [
      "[YoloOW] Epoch 8/30:  71%|███████   | 17/24 [00:18<00:10,  1.49s/it, Loss=7.0123, box=0.089, obj=0.066, cls=0.284, total loss=0.438, lr=0.000934]"
     ]
    },
    {
     "name": "stdout",
     "output_type": "stream",
     "text": [
      "[DEBUG] Head 0 | iou.min=0.2377, iou.max=0.9401, iou.mean=0.5757\n",
      "[DEBUG] Head 0 | ps[..., 4].sigmoid().mean = 0.0014\n",
      "[DEBUG] Head 1 | iou.min=0.2170, iou.max=0.8162, iou.mean=0.5014\n",
      "[DEBUG] Head 1 | ps[..., 4].sigmoid().mean = 0.0050\n",
      "[DEBUG] Head 2 | iou.min=-0.0147, iou.max=0.7109, iou.mean=0.3219\n",
      "[DEBUG] Head 2 | ps[..., 4].sigmoid().mean = 0.0099\n"
     ]
    },
    {
     "name": "stderr",
     "output_type": "stream",
     "text": [
      "[YoloOW] Epoch 8/30:  75%|███████▌  | 18/24 [00:19<00:08,  1.34s/it, Loss=7.0123, box=0.089, obj=0.066, cls=0.284, total loss=0.438, lr=0.000934]"
     ]
    },
    {
     "name": "stdout",
     "output_type": "stream",
     "text": [
      "[DEBUG] Head 0 | iou.min=0.1365, iou.max=0.8615, iou.mean=0.4707\n",
      "[DEBUG] Head 0 | ps[..., 4].sigmoid().mean = 0.0014\n",
      "[DEBUG] Head 1 | iou.min=0.1658, iou.max=0.8196, iou.mean=0.4189\n",
      "[DEBUG] Head 1 | ps[..., 4].sigmoid().mean = 0.0050\n",
      "[DEBUG] Head 2 | iou.min=0.0546, iou.max=0.8754, iou.mean=0.3713\n",
      "[DEBUG] Head 2 | ps[..., 4].sigmoid().mean = 0.0093\n"
     ]
    },
    {
     "name": "stderr",
     "output_type": "stream",
     "text": [
      "[YoloOW] Epoch 8/30:  79%|███████▉  | 19/24 [00:20<00:05,  1.18s/it, Loss=7.0123, box=0.089, obj=0.066, cls=0.284, total loss=0.438, lr=0.000934]"
     ]
    },
    {
     "name": "stdout",
     "output_type": "stream",
     "text": [
      "[DEBUG] Head 0 | iou.min=0.1185, iou.max=0.9140, iou.mean=0.4395\n",
      "[DEBUG] Head 0 | ps[..., 4].sigmoid().mean = 0.0014\n",
      "[DEBUG] Head 1 | iou.min=0.0636, iou.max=0.9234, iou.mean=0.3730\n",
      "[DEBUG] Head 1 | ps[..., 4].sigmoid().mean = 0.0049\n",
      "[DEBUG] Head 2 | iou.min=-0.0110, iou.max=0.7929, iou.mean=0.3191\n",
      "[DEBUG] Head 2 | ps[..., 4].sigmoid().mean = 0.0093\n"
     ]
    },
    {
     "name": "stderr",
     "output_type": "stream",
     "text": [
      "[YoloOW] Epoch 8/30:  83%|████████▎ | 20/24 [00:21<00:04,  1.09s/it, Loss=6.5896, box=0.093, obj=0.055, cls=0.264, total loss=0.412, lr=0.000934]"
     ]
    },
    {
     "name": "stdout",
     "output_type": "stream",
     "text": [
      "[DEBUG] Head 0 | iou.min=0.2256, iou.max=0.9119, iou.mean=0.5363\n",
      "[DEBUG] Head 0 | ps[..., 4].sigmoid().mean = 0.0015\n",
      "[DEBUG] Head 1 | iou.min=0.0776, iou.max=0.8543, iou.mean=0.4038\n",
      "[DEBUG] Head 1 | ps[..., 4].sigmoid().mean = 0.0048\n",
      "[DEBUG] Head 2 | iou.min=-0.0013, iou.max=0.8722, iou.mean=0.2699\n",
      "[DEBUG] Head 2 | ps[..., 4].sigmoid().mean = 0.0098\n"
     ]
    },
    {
     "name": "stderr",
     "output_type": "stream",
     "text": [
      "[YoloOW] Epoch 8/30:  88%|████████▊ | 21/24 [00:22<00:03,  1.07s/it, Loss=6.5896, box=0.093, obj=0.055, cls=0.264, total loss=0.412, lr=0.000934]"
     ]
    },
    {
     "name": "stdout",
     "output_type": "stream",
     "text": [
      "[DEBUG] Head 0 | iou.min=0.1795, iou.max=0.9018, iou.mean=0.5443\n",
      "[DEBUG] Head 0 | ps[..., 4].sigmoid().mean = 0.0014\n",
      "[DEBUG] Head 1 | iou.min=0.1469, iou.max=0.8113, iou.mean=0.4430\n",
      "[DEBUG] Head 1 | ps[..., 4].sigmoid().mean = 0.0046\n",
      "[DEBUG] Head 2 | iou.min=-0.0025, iou.max=0.8030, iou.mean=0.3282\n",
      "[DEBUG] Head 2 | ps[..., 4].sigmoid().mean = 0.0096\n"
     ]
    },
    {
     "name": "stderr",
     "output_type": "stream",
     "text": [
      "[YoloOW] Epoch 8/30:  92%|█████████▏| 22/24 [00:23<00:02,  1.23s/it, Loss=6.5896, box=0.093, obj=0.055, cls=0.264, total loss=0.412, lr=0.000934]"
     ]
    },
    {
     "name": "stdout",
     "output_type": "stream",
     "text": [
      "[DEBUG] Head 0 | iou.min=0.1405, iou.max=0.8369, iou.mean=0.5328\n",
      "[DEBUG] Head 0 | ps[..., 4].sigmoid().mean = 0.0013\n",
      "[DEBUG] Head 1 | iou.min=0.1155, iou.max=0.8483, iou.mean=0.4612\n",
      "[DEBUG] Head 1 | ps[..., 4].sigmoid().mean = 0.0045\n",
      "[DEBUG] Head 2 | iou.min=0.0499, iou.max=0.8752, iou.mean=0.3480\n",
      "[DEBUG] Head 2 | ps[..., 4].sigmoid().mean = 0.0098\n"
     ]
    },
    {
     "name": "stderr",
     "output_type": "stream",
     "text": [
      "[YoloOW] Epoch 8/30:  96%|█████████▌| 23/24 [00:24<00:01,  1.13s/it, Loss=6.5896, box=0.093, obj=0.055, cls=0.264, total loss=0.412, lr=0.000934]"
     ]
    },
    {
     "name": "stdout",
     "output_type": "stream",
     "text": [
      "[DEBUG] Head 0 | iou.min=0.1396, iou.max=0.8662, iou.mean=0.5253\n",
      "[DEBUG] Head 0 | ps[..., 4].sigmoid().mean = 0.0015\n",
      "[DEBUG] Head 1 | iou.min=0.0850, iou.max=0.8404, iou.mean=0.4545\n",
      "[DEBUG] Head 1 | ps[..., 4].sigmoid().mean = 0.0044\n",
      "[DEBUG] Head 2 | iou.min=-0.0199, iou.max=0.8573, iou.mean=0.3572\n",
      "[DEBUG] Head 2 | ps[..., 4].sigmoid().mean = 0.0102\n"
     ]
    },
    {
     "name": "stderr",
     "output_type": "stream",
     "text": [
      "[YoloOW] Epoch 8/30: 100%|██████████| 24/24 [00:25<00:00,  1.06s/it, Loss=6.3683, box=0.083, obj=0.056, cls=0.259, total loss=0.398, lr=0.000934]\n"
     ]
    },
    {
     "name": "stdout",
     "output_type": "stream",
     "text": [
      "\n",
      "[YoloOW] ✅ Epoch 8/30 complete in 25.54s | Avg Loss: 6.6364\n",
      "\n",
      "[YoloOW] 📊 Running evaluation after epoch 8 ...\n",
      "[DEBUG] Head 0 | iou.min=0.1715, iou.max=0.8863, iou.mean=0.5219\n",
      "[DEBUG] Head 0 | ps[..., 4].sigmoid().mean = 0.0015\n",
      "[DEBUG] Head 1 | iou.min=0.1464, iou.max=0.9040, iou.mean=0.4447\n",
      "[DEBUG] Head 1 | ps[..., 4].sigmoid().mean = 0.0043\n",
      "[DEBUG] Head 2 | iou.min=0.0024, iou.max=0.7173, iou.mean=0.3302\n",
      "[DEBUG] Head 2 | ps[..., 4].sigmoid().mean = 0.0104\n",
      "[DEBUG] Head 0 | iou.min=0.1683, iou.max=0.9114, iou.mean=0.5129\n",
      "[DEBUG] Head 0 | ps[..., 4].sigmoid().mean = 0.0014\n",
      "[DEBUG] Head 1 | iou.min=0.0577, iou.max=0.8885, iou.mean=0.4276\n",
      "[DEBUG] Head 1 | ps[..., 4].sigmoid().mean = 0.0043\n",
      "[DEBUG] Head 2 | iou.min=-0.0095, iou.max=0.8514, iou.mean=0.3121\n",
      "[DEBUG] Head 2 | ps[..., 4].sigmoid().mean = 0.0104\n",
      "[DEBUG] Head 0 | iou.min=0.2094, iou.max=0.8255, iou.mean=0.4991\n",
      "[DEBUG] Head 0 | ps[..., 4].sigmoid().mean = 0.0014\n",
      "[DEBUG] Head 1 | iou.min=0.0570, iou.max=0.8952, iou.mean=0.4163\n",
      "[DEBUG] Head 1 | ps[..., 4].sigmoid().mean = 0.0043\n",
      "[DEBUG] Head 2 | iou.min=-0.0068, iou.max=0.8714, iou.mean=0.3129\n",
      "[DEBUG] Head 2 | ps[..., 4].sigmoid().mean = 0.0102\n",
      "[DEBUG] Head 0 | iou.min=0.1672, iou.max=0.8433, iou.mean=0.5381\n",
      "[DEBUG] Head 0 | ps[..., 4].sigmoid().mean = 0.0014\n",
      "[DEBUG] Head 1 | iou.min=0.0993, iou.max=0.7987, iou.mean=0.4853\n",
      "[DEBUG] Head 1 | ps[..., 4].sigmoid().mean = 0.0043\n",
      "[DEBUG] Head 2 | iou.min=0.0499, iou.max=0.8182, iou.mean=0.3420\n",
      "[DEBUG] Head 2 | ps[..., 4].sigmoid().mean = 0.0101\n",
      "[DEBUG] Head 0 | iou.min=0.1476, iou.max=0.9003, iou.mean=0.5734\n",
      "[DEBUG] Head 0 | ps[..., 4].sigmoid().mean = 0.0015\n",
      "[DEBUG] Head 1 | iou.min=0.2092, iou.max=0.9110, iou.mean=0.5207\n",
      "[DEBUG] Head 1 | ps[..., 4].sigmoid().mean = 0.0043\n",
      "[DEBUG] Head 2 | iou.min=0.0820, iou.max=0.7995, iou.mean=0.3534\n",
      "[DEBUG] Head 2 | ps[..., 4].sigmoid().mean = 0.0101\n",
      "[DEBUG] Head 0 | iou.min=0.3084, iou.max=0.9349, iou.mean=0.5539\n",
      "[DEBUG] Head 0 | ps[..., 4].sigmoid().mean = 0.0015\n",
      "[DEBUG] Head 1 | iou.min=0.0734, iou.max=0.8858, iou.mean=0.4484\n",
      "[DEBUG] Head 1 | ps[..., 4].sigmoid().mean = 0.0043\n",
      "[DEBUG] Head 2 | iou.min=0.0238, iou.max=0.8209, iou.mean=0.2754\n",
      "[DEBUG] Head 2 | ps[..., 4].sigmoid().mean = 0.0102\n",
      "[DEBUG] Head 0 | iou.min=0.1637, iou.max=0.9347, iou.mean=0.4807\n",
      "[DEBUG] Head 0 | ps[..., 4].sigmoid().mean = 0.0013\n",
      "[DEBUG] Head 1 | iou.min=0.0960, iou.max=0.8306, iou.mean=0.3922\n",
      "[DEBUG] Head 1 | ps[..., 4].sigmoid().mean = 0.0043\n",
      "[DEBUG] Head 2 | iou.min=-0.0268, iou.max=0.7752, iou.mean=0.3455\n",
      "[DEBUG] Head 2 | ps[..., 4].sigmoid().mean = 0.0103\n",
      "[DEBUG] Head 0 | iou.min=0.1177, iou.max=0.8898, iou.mean=0.4098\n",
      "[DEBUG] Head 0 | ps[..., 4].sigmoid().mean = 0.0015\n",
      "[DEBUG] Head 1 | iou.min=0.0658, iou.max=0.7912, iou.mean=0.3242\n",
      "[DEBUG] Head 1 | ps[..., 4].sigmoid().mean = 0.0043\n",
      "[DEBUG] Head 2 | iou.min=-0.0024, iou.max=0.7917, iou.mean=0.2674\n",
      "[DEBUG] Head 2 | ps[..., 4].sigmoid().mean = 0.0108\n",
      "[DEBUG] Head 0 | iou.min=0.2785, iou.max=0.6742, iou.mean=0.4710\n",
      "[DEBUG] Head 0 | ps[..., 4].sigmoid().mean = 0.0012\n",
      "[DEBUG] Head 1 | iou.min=0.0736, iou.max=0.6895, iou.mean=0.4676\n",
      "[DEBUG] Head 1 | ps[..., 4].sigmoid().mean = 0.0043\n",
      "[DEBUG] Head 2 | iou.min=0.1154, iou.max=0.8465, iou.mean=0.3807\n",
      "[DEBUG] Head 2 | ps[..., 4].sigmoid().mean = 0.0097\n",
      "[validate_yoloow_model] ✅  Avg Loss  (box/obj/cls/total): 0.0866 / 0.0565 / 0.2734 / 0.4165\n"
     ]
    },
    {
     "name": "stderr",
     "output_type": "stream",
     "text": [
      "[YoloOW] Epoch 9/30:   0%|          | 0/24 [00:00<?, ?it/s]"
     ]
    },
    {
     "name": "stdout",
     "output_type": "stream",
     "text": [
      "[DEBUG] Head 0 | iou.min=0.1830, iou.max=0.8630, iou.mean=0.4851\n",
      "[DEBUG] Head 0 | ps[..., 4].sigmoid().mean = 0.0015\n",
      "[DEBUG] Head 1 | iou.min=0.0992, iou.max=0.8376, iou.mean=0.3960\n",
      "[DEBUG] Head 1 | ps[..., 4].sigmoid().mean = 0.0043\n",
      "[DEBUG] Head 2 | iou.min=0.0062, iou.max=0.8042, iou.mean=0.2847\n",
      "[DEBUG] Head 2 | ps[..., 4].sigmoid().mean = 0.0104\n"
     ]
    },
    {
     "name": "stderr",
     "output_type": "stream",
     "text": [
      "[YoloOW] Epoch 9/30:   4%|▍         | 1/24 [00:00<00:20,  1.10it/s]"
     ]
    },
    {
     "name": "stdout",
     "output_type": "stream",
     "text": [
      "[DEBUG] Head 0 | iou.min=0.1695, iou.max=0.8876, iou.mean=0.4587\n",
      "[DEBUG] Head 0 | ps[..., 4].sigmoid().mean = 0.0014\n",
      "[DEBUG] Head 1 | iou.min=0.0892, iou.max=0.8016, iou.mean=0.3584\n",
      "[DEBUG] Head 1 | ps[..., 4].sigmoid().mean = 0.0042\n",
      "[DEBUG] Head 2 | iou.min=0.0603, iou.max=0.7433, iou.mean=0.3353\n",
      "[DEBUG] Head 2 | ps[..., 4].sigmoid().mean = 0.0099\n"
     ]
    },
    {
     "name": "stderr",
     "output_type": "stream",
     "text": [
      "[YoloOW] Epoch 9/30:   8%|▊         | 2/24 [00:01<00:19,  1.16it/s]"
     ]
    },
    {
     "name": "stdout",
     "output_type": "stream",
     "text": [
      "[DEBUG] Head 0 | iou.min=0.1384, iou.max=0.9457, iou.mean=0.5229\n",
      "[DEBUG] Head 0 | ps[..., 4].sigmoid().mean = 0.0017\n",
      "[DEBUG] Head 1 | iou.min=0.1241, iou.max=0.9003, iou.mean=0.4623\n",
      "[DEBUG] Head 1 | ps[..., 4].sigmoid().mean = 0.0041\n",
      "[DEBUG] Head 2 | iou.min=-0.0026, iou.max=0.8223, iou.mean=0.3512\n",
      "[DEBUG] Head 2 | ps[..., 4].sigmoid().mean = 0.0102\n"
     ]
    },
    {
     "name": "stderr",
     "output_type": "stream",
     "text": [
      "[YoloOW] Epoch 9/30:  12%|█▎        | 3/24 [00:02<00:18,  1.15it/s]"
     ]
    },
    {
     "name": "stdout",
     "output_type": "stream",
     "text": [
      "[DEBUG] Head 0 | iou.min=0.1352, iou.max=0.8734, iou.mean=0.4284\n",
      "[DEBUG] Head 0 | ps[..., 4].sigmoid().mean = 0.0014\n",
      "[DEBUG] Head 1 | iou.min=0.0611, iou.max=0.8132, iou.mean=0.3680\n",
      "[DEBUG] Head 1 | ps[..., 4].sigmoid().mean = 0.0040\n",
      "[DEBUG] Head 2 | iou.min=-0.0172, iou.max=0.8762, iou.mean=0.3098\n",
      "[DEBUG] Head 2 | ps[..., 4].sigmoid().mean = 0.0099\n"
     ]
    },
    {
     "name": "stderr",
     "output_type": "stream",
     "text": [
      "[YoloOW] Epoch 9/30:  17%|█▋        | 4/24 [00:03<00:17,  1.14it/s]"
     ]
    },
    {
     "name": "stdout",
     "output_type": "stream",
     "text": [
      "[DEBUG] Head 0 | iou.min=0.1660, iou.max=0.8951, iou.mean=0.5560\n",
      "[DEBUG] Head 0 | ps[..., 4].sigmoid().mean = 0.0021\n",
      "[DEBUG] Head 1 | iou.min=0.1757, iou.max=0.8760, iou.mean=0.4618\n",
      "[DEBUG] Head 1 | ps[..., 4].sigmoid().mean = 0.0040\n",
      "[DEBUG] Head 2 | iou.min=0.0186, iou.max=0.8621, iou.mean=0.3288\n",
      "[DEBUG] Head 2 | ps[..., 4].sigmoid().mean = 0.0096\n"
     ]
    },
    {
     "name": "stderr",
     "output_type": "stream",
     "text": [
      "[YoloOW] Epoch 9/30:  21%|██        | 5/24 [00:04<00:16,  1.15it/s]"
     ]
    },
    {
     "name": "stdout",
     "output_type": "stream",
     "text": [
      "[DEBUG] Head 0 | iou.min=0.1372, iou.max=0.9173, iou.mean=0.4363\n",
      "[DEBUG] Head 0 | ps[..., 4].sigmoid().mean = 0.0017\n",
      "[DEBUG] Head 1 | iou.min=0.0704, iou.max=0.8334, iou.mean=0.3733\n",
      "[DEBUG] Head 1 | ps[..., 4].sigmoid().mean = 0.0040\n",
      "[DEBUG] Head 2 | iou.min=-0.0220, iou.max=0.7859, iou.mean=0.3027\n",
      "[DEBUG] Head 2 | ps[..., 4].sigmoid().mean = 0.0089\n"
     ]
    },
    {
     "name": "stderr",
     "output_type": "stream",
     "text": [
      "[YoloOW] Epoch 9/30:  25%|██▌       | 6/24 [00:05<00:15,  1.15it/s]"
     ]
    },
    {
     "name": "stdout",
     "output_type": "stream",
     "text": [
      "[DEBUG] Head 0 | iou.min=0.0878, iou.max=0.8958, iou.mean=0.5157\n",
      "[DEBUG] Head 0 | ps[..., 4].sigmoid().mean = 0.0013\n",
      "[DEBUG] Head 1 | iou.min=0.0531, iou.max=0.8922, iou.mean=0.4388\n",
      "[DEBUG] Head 1 | ps[..., 4].sigmoid().mean = 0.0039\n",
      "[DEBUG] Head 2 | iou.min=0.0312, iou.max=0.8082, iou.mean=0.3057\n",
      "[DEBUG] Head 2 | ps[..., 4].sigmoid().mean = 0.0091\n"
     ]
    },
    {
     "name": "stderr",
     "output_type": "stream",
     "text": [
      "[YoloOW] Epoch 9/30:  29%|██▉       | 7/24 [00:06<00:14,  1.14it/s]"
     ]
    },
    {
     "name": "stdout",
     "output_type": "stream",
     "text": [
      "[DEBUG] Head 0 | iou.min=0.1789, iou.max=0.8731, iou.mean=0.4940\n",
      "[DEBUG] Head 0 | ps[..., 4].sigmoid().mean = 0.0011\n",
      "[DEBUG] Head 1 | iou.min=0.0862, iou.max=0.8331, iou.mean=0.4345\n",
      "[DEBUG] Head 1 | ps[..., 4].sigmoid().mean = 0.0039\n",
      "[DEBUG] Head 2 | iou.min=0.0352, iou.max=0.8203, iou.mean=0.3512\n",
      "[DEBUG] Head 2 | ps[..., 4].sigmoid().mean = 0.0086\n"
     ]
    },
    {
     "name": "stderr",
     "output_type": "stream",
     "text": [
      "[YoloOW] Epoch 9/30:  33%|███▎      | 8/24 [00:06<00:13,  1.17it/s]"
     ]
    },
    {
     "name": "stdout",
     "output_type": "stream",
     "text": [
      "[DEBUG] Head 0 | iou.min=0.0946, iou.max=0.9127, iou.mean=0.4683\n",
      "[DEBUG] Head 0 | ps[..., 4].sigmoid().mean = 0.0016\n",
      "[DEBUG] Head 1 | iou.min=0.0558, iou.max=0.8976, iou.mean=0.3828\n",
      "[DEBUG] Head 1 | ps[..., 4].sigmoid().mean = 0.0040\n",
      "[DEBUG] Head 2 | iou.min=-0.0294, iou.max=0.8639, iou.mean=0.3146\n",
      "[DEBUG] Head 2 | ps[..., 4].sigmoid().mean = 0.0095\n"
     ]
    },
    {
     "name": "stderr",
     "output_type": "stream",
     "text": [
      "[YoloOW] Epoch 9/30:  38%|███▊      | 9/24 [00:07<00:12,  1.17it/s]"
     ]
    },
    {
     "name": "stdout",
     "output_type": "stream",
     "text": [
      "[DEBUG] Head 0 | iou.min=0.1447, iou.max=0.9345, iou.mean=0.4531\n",
      "[DEBUG] Head 0 | ps[..., 4].sigmoid().mean = 0.0014\n",
      "[DEBUG] Head 1 | iou.min=0.0752, iou.max=0.7789, iou.mean=0.3545\n",
      "[DEBUG] Head 1 | ps[..., 4].sigmoid().mean = 0.0040\n",
      "[DEBUG] Head 2 | iou.min=-0.0060, iou.max=0.8404, iou.mean=0.2647\n",
      "[DEBUG] Head 2 | ps[..., 4].sigmoid().mean = 0.0100\n"
     ]
    },
    {
     "name": "stderr",
     "output_type": "stream",
     "text": [
      "[YoloOW] Epoch 9/30:  42%|████▏     | 10/24 [00:08<00:12,  1.14it/s, Loss=6.4489, box=0.096, obj=0.049, cls=0.258, total loss=0.403, lr=0.000894]"
     ]
    },
    {
     "name": "stdout",
     "output_type": "stream",
     "text": [
      "[DEBUG] Head 0 | iou.min=0.1599, iou.max=0.9293, iou.mean=0.4980\n",
      "[DEBUG] Head 0 | ps[..., 4].sigmoid().mean = 0.0024\n",
      "[DEBUG] Head 1 | iou.min=0.1264, iou.max=0.8646, iou.mean=0.4363\n",
      "[DEBUG] Head 1 | ps[..., 4].sigmoid().mean = 0.0042\n",
      "[DEBUG] Head 2 | iou.min=-0.0164, iou.max=0.8950, iou.mean=0.3479\n",
      "[DEBUG] Head 2 | ps[..., 4].sigmoid().mean = 0.0097\n"
     ]
    },
    {
     "name": "stderr",
     "output_type": "stream",
     "text": [
      "[YoloOW] Epoch 9/30:  46%|████▌     | 11/24 [00:09<00:11,  1.15it/s, Loss=6.4489, box=0.096, obj=0.049, cls=0.258, total loss=0.403, lr=0.000894]"
     ]
    },
    {
     "name": "stdout",
     "output_type": "stream",
     "text": [
      "[DEBUG] Head 0 | iou.min=0.2026, iou.max=0.8982, iou.mean=0.5429\n",
      "[DEBUG] Head 0 | ps[..., 4].sigmoid().mean = 0.0014\n",
      "[DEBUG] Head 1 | iou.min=0.0956, iou.max=0.8423, iou.mean=0.4762\n",
      "[DEBUG] Head 1 | ps[..., 4].sigmoid().mean = 0.0042\n",
      "[DEBUG] Head 2 | iou.min=0.0416, iou.max=0.8045, iou.mean=0.3543\n",
      "[DEBUG] Head 2 | ps[..., 4].sigmoid().mean = 0.0098\n"
     ]
    },
    {
     "name": "stderr",
     "output_type": "stream",
     "text": [
      "[YoloOW] Epoch 9/30:  50%|█████     | 12/24 [00:10<00:10,  1.12it/s, Loss=6.4489, box=0.096, obj=0.049, cls=0.258, total loss=0.403, lr=0.000894]"
     ]
    },
    {
     "name": "stdout",
     "output_type": "stream",
     "text": [
      "[DEBUG] Head 0 | iou.min=0.1800, iou.max=0.9117, iou.mean=0.5603\n",
      "[DEBUG] Head 0 | ps[..., 4].sigmoid().mean = 0.0017\n",
      "[DEBUG] Head 1 | iou.min=0.1444, iou.max=0.8060, iou.mean=0.4626\n",
      "[DEBUG] Head 1 | ps[..., 4].sigmoid().mean = 0.0043\n",
      "[DEBUG] Head 2 | iou.min=0.0161, iou.max=0.8132, iou.mean=0.3404\n",
      "[DEBUG] Head 2 | ps[..., 4].sigmoid().mean = 0.0101\n"
     ]
    },
    {
     "name": "stderr",
     "output_type": "stream",
     "text": [
      "[YoloOW] Epoch 9/30:  54%|█████▍    | 13/24 [00:11<00:09,  1.14it/s, Loss=6.4489, box=0.096, obj=0.049, cls=0.258, total loss=0.403, lr=0.000894]"
     ]
    },
    {
     "name": "stdout",
     "output_type": "stream",
     "text": [
      "[DEBUG] Head 0 | iou.min=0.1597, iou.max=0.8973, iou.mean=0.5070\n",
      "[DEBUG] Head 0 | ps[..., 4].sigmoid().mean = 0.0038\n",
      "[DEBUG] Head 1 | iou.min=0.1415, iou.max=0.8833, iou.mean=0.4176\n",
      "[DEBUG] Head 1 | ps[..., 4].sigmoid().mean = 0.0046\n",
      "[DEBUG] Head 2 | iou.min=-0.0227, iou.max=0.7540, iou.mean=0.2960\n",
      "[DEBUG] Head 2 | ps[..., 4].sigmoid().mean = 0.0109\n"
     ]
    },
    {
     "name": "stderr",
     "output_type": "stream",
     "text": [
      "[YoloOW] Epoch 9/30:  58%|█████▊    | 14/24 [00:12<00:08,  1.15it/s, Loss=6.4489, box=0.096, obj=0.049, cls=0.258, total loss=0.403, lr=0.000894]"
     ]
    },
    {
     "name": "stdout",
     "output_type": "stream",
     "text": [
      "[DEBUG] Head 0 | iou.min=0.1070, iou.max=0.8794, iou.mean=0.5000\n",
      "[DEBUG] Head 0 | ps[..., 4].sigmoid().mean = 0.0053\n",
      "[DEBUG] Head 1 | iou.min=0.0679, iou.max=0.8503, iou.mean=0.4092\n",
      "[DEBUG] Head 1 | ps[..., 4].sigmoid().mean = 0.0049\n",
      "[DEBUG] Head 2 | iou.min=-0.0340, iou.max=0.7662, iou.mean=0.3526\n",
      "[DEBUG] Head 2 | ps[..., 4].sigmoid().mean = 0.0106\n"
     ]
    },
    {
     "name": "stderr",
     "output_type": "stream",
     "text": [
      "[YoloOW] Epoch 9/30:  62%|██████▎   | 15/24 [00:13<00:07,  1.14it/s, Loss=6.4489, box=0.096, obj=0.049, cls=0.258, total loss=0.403, lr=0.000894]"
     ]
    },
    {
     "name": "stdout",
     "output_type": "stream",
     "text": [
      "[DEBUG] Head 0 | iou.min=0.0843, iou.max=0.9193, iou.mean=0.5209\n",
      "[DEBUG] Head 0 | ps[..., 4].sigmoid().mean = 0.0015\n",
      "[DEBUG] Head 1 | iou.min=0.0547, iou.max=0.8081, iou.mean=0.4121\n",
      "[DEBUG] Head 1 | ps[..., 4].sigmoid().mean = 0.0045\n",
      "[DEBUG] Head 2 | iou.min=-0.0178, iou.max=0.8516, iou.mean=0.2765\n",
      "[DEBUG] Head 2 | ps[..., 4].sigmoid().mean = 0.0111\n"
     ]
    },
    {
     "name": "stderr",
     "output_type": "stream",
     "text": [
      "[YoloOW] Epoch 9/30:  67%|██████▋   | 16/24 [00:13<00:07,  1.14it/s, Loss=6.4489, box=0.096, obj=0.049, cls=0.258, total loss=0.403, lr=0.000894]"
     ]
    },
    {
     "name": "stdout",
     "output_type": "stream",
     "text": [
      "[DEBUG] Head 0 | iou.min=0.1398, iou.max=0.8796, iou.mean=0.4541\n",
      "[DEBUG] Head 0 | ps[..., 4].sigmoid().mean = 0.0019\n",
      "[DEBUG] Head 1 | iou.min=0.0869, iou.max=0.8739, iou.mean=0.4143\n",
      "[DEBUG] Head 1 | ps[..., 4].sigmoid().mean = 0.0048\n",
      "[DEBUG] Head 2 | iou.min=-0.0303, iou.max=0.8369, iou.mean=0.3237\n",
      "[DEBUG] Head 2 | ps[..., 4].sigmoid().mean = 0.0109\n"
     ]
    },
    {
     "name": "stderr",
     "output_type": "stream",
     "text": [
      "[YoloOW] Epoch 9/30:  71%|███████   | 17/24 [00:14<00:06,  1.13it/s, Loss=6.4489, box=0.096, obj=0.049, cls=0.258, total loss=0.403, lr=0.000894]"
     ]
    },
    {
     "name": "stdout",
     "output_type": "stream",
     "text": [
      "[DEBUG] Head 0 | iou.min=0.1249, iou.max=0.9098, iou.mean=0.5207\n",
      "[DEBUG] Head 0 | ps[..., 4].sigmoid().mean = 0.0020\n",
      "[DEBUG] Head 1 | iou.min=0.0843, iou.max=0.8296, iou.mean=0.4493\n",
      "[DEBUG] Head 1 | ps[..., 4].sigmoid().mean = 0.0052\n",
      "[DEBUG] Head 2 | iou.min=-0.0030, iou.max=0.8387, iou.mean=0.3210\n",
      "[DEBUG] Head 2 | ps[..., 4].sigmoid().mean = 0.0110\n"
     ]
    },
    {
     "name": "stderr",
     "output_type": "stream",
     "text": [
      "[YoloOW] Epoch 9/30:  75%|███████▌  | 18/24 [00:15<00:05,  1.13it/s, Loss=6.4489, box=0.096, obj=0.049, cls=0.258, total loss=0.403, lr=0.000894]"
     ]
    },
    {
     "name": "stdout",
     "output_type": "stream",
     "text": [
      "[DEBUG] Head 0 | iou.min=0.1204, iou.max=0.8925, iou.mean=0.4799\n",
      "[DEBUG] Head 0 | ps[..., 4].sigmoid().mean = 0.0016\n",
      "[DEBUG] Head 1 | iou.min=0.0942, iou.max=0.8113, iou.mean=0.4505\n",
      "[DEBUG] Head 1 | ps[..., 4].sigmoid().mean = 0.0052\n",
      "[DEBUG] Head 2 | iou.min=-0.0184, iou.max=0.7214, iou.mean=0.2858\n",
      "[DEBUG] Head 2 | ps[..., 4].sigmoid().mean = 0.0108\n"
     ]
    },
    {
     "name": "stderr",
     "output_type": "stream",
     "text": [
      "[YoloOW] Epoch 9/30:  79%|███████▉  | 19/24 [00:16<00:04,  1.13it/s, Loss=6.4489, box=0.096, obj=0.049, cls=0.258, total loss=0.403, lr=0.000894]"
     ]
    },
    {
     "name": "stdout",
     "output_type": "stream",
     "text": [
      "[DEBUG] Head 0 | iou.min=0.1406, iou.max=0.9162, iou.mean=0.4232\n",
      "[DEBUG] Head 0 | ps[..., 4].sigmoid().mean = 0.0024\n",
      "[DEBUG] Head 1 | iou.min=0.1330, iou.max=0.8624, iou.mean=0.3842\n",
      "[DEBUG] Head 1 | ps[..., 4].sigmoid().mean = 0.0070\n",
      "[DEBUG] Head 2 | iou.min=-0.0481, iou.max=0.9150, iou.mean=0.3311\n",
      "[DEBUG] Head 2 | ps[..., 4].sigmoid().mean = 0.0106\n"
     ]
    },
    {
     "name": "stderr",
     "output_type": "stream",
     "text": [
      "[YoloOW] Epoch 9/30:  83%|████████▎ | 20/24 [00:17<00:04,  1.03s/it, Loss=6.2197, box=0.093, obj=0.051, cls=0.245, total loss=0.389, lr=0.000894]"
     ]
    },
    {
     "name": "stdout",
     "output_type": "stream",
     "text": [
      "[DEBUG] Head 0 | iou.min=0.1469, iou.max=0.8957, iou.mean=0.5681\n",
      "[DEBUG] Head 0 | ps[..., 4].sigmoid().mean = 0.0021\n",
      "[DEBUG] Head 1 | iou.min=0.1031, iou.max=0.8415, iou.mean=0.4853\n",
      "[DEBUG] Head 1 | ps[..., 4].sigmoid().mean = 0.0075\n",
      "[DEBUG] Head 2 | iou.min=-0.0296, iou.max=0.8206, iou.mean=0.3569\n",
      "[DEBUG] Head 2 | ps[..., 4].sigmoid().mean = 0.0097\n"
     ]
    },
    {
     "name": "stderr",
     "output_type": "stream",
     "text": [
      "[YoloOW] Epoch 9/30:  88%|████████▊ | 21/24 [00:18<00:02,  1.01it/s, Loss=6.2197, box=0.093, obj=0.051, cls=0.245, total loss=0.389, lr=0.000894]"
     ]
    },
    {
     "name": "stdout",
     "output_type": "stream",
     "text": [
      "[DEBUG] Head 0 | iou.min=0.0915, iou.max=0.8702, iou.mean=0.4463\n",
      "[DEBUG] Head 0 | ps[..., 4].sigmoid().mean = 0.0037\n",
      "[DEBUG] Head 1 | iou.min=0.0786, iou.max=0.8531, iou.mean=0.3804\n",
      "[DEBUG] Head 1 | ps[..., 4].sigmoid().mean = 0.0125\n",
      "[DEBUG] Head 2 | iou.min=0.0108, iou.max=0.8426, iou.mean=0.2896\n",
      "[DEBUG] Head 2 | ps[..., 4].sigmoid().mean = 0.0107\n"
     ]
    },
    {
     "name": "stderr",
     "output_type": "stream",
     "text": [
      "[YoloOW] Epoch 9/30:  92%|█████████▏| 22/24 [00:19<00:01,  1.06it/s, Loss=6.2197, box=0.093, obj=0.051, cls=0.245, total loss=0.389, lr=0.000894]"
     ]
    },
    {
     "name": "stdout",
     "output_type": "stream",
     "text": [
      "[DEBUG] Head 0 | iou.min=0.1344, iou.max=0.9173, iou.mean=0.5673\n",
      "[DEBUG] Head 0 | ps[..., 4].sigmoid().mean = 0.0013\n",
      "[DEBUG] Head 1 | iou.min=0.1166, iou.max=0.8471, iou.mean=0.4591\n",
      "[DEBUG] Head 1 | ps[..., 4].sigmoid().mean = 0.0042\n",
      "[DEBUG] Head 2 | iou.min=0.0356, iou.max=0.8400, iou.mean=0.3179\n",
      "[DEBUG] Head 2 | ps[..., 4].sigmoid().mean = 0.0122\n"
     ]
    },
    {
     "name": "stderr",
     "output_type": "stream",
     "text": [
      "[YoloOW] Epoch 9/30:  96%|█████████▌| 23/24 [00:20<00:00,  1.01it/s, Loss=6.2197, box=0.093, obj=0.051, cls=0.245, total loss=0.389, lr=0.000894]"
     ]
    },
    {
     "name": "stdout",
     "output_type": "stream",
     "text": [
      "[DEBUG] Head 0 | iou.min=0.0995, iou.max=0.9122, iou.mean=0.4922\n",
      "[DEBUG] Head 0 | ps[..., 4].sigmoid().mean = 0.0017\n",
      "[DEBUG] Head 1 | iou.min=0.1022, iou.max=0.8161, iou.mean=0.4101\n",
      "[DEBUG] Head 1 | ps[..., 4].sigmoid().mean = 0.0052\n",
      "[DEBUG] Head 2 | iou.min=-0.0489, iou.max=0.7764, iou.mean=0.3091\n",
      "[DEBUG] Head 2 | ps[..., 4].sigmoid().mean = 0.0123\n"
     ]
    },
    {
     "name": "stderr",
     "output_type": "stream",
     "text": [
      "[YoloOW] Epoch 9/30: 100%|██████████| 24/24 [00:22<00:00,  1.09it/s, Loss=5.9473, box=0.089, obj=0.046, cls=0.236, total loss=0.372, lr=0.000894]\n"
     ]
    },
    {
     "name": "stdout",
     "output_type": "stream",
     "text": [
      "\n",
      "[YoloOW] ✅ Epoch 9/30 complete in 22.05s | Avg Loss: 6.4889\n",
      "\n",
      "[YoloOW] 📊 Running evaluation after epoch 9 ...\n",
      "[DEBUG] Head 0 | iou.min=0.1104, iou.max=0.8991, iou.mean=0.5061\n",
      "[DEBUG] Head 0 | ps[..., 4].sigmoid().mean = 0.0012\n",
      "[DEBUG] Head 1 | iou.min=-0.0117, iou.max=0.8624, iou.mean=0.3913\n",
      "[DEBUG] Head 1 | ps[..., 4].sigmoid().mean = 0.0044\n",
      "[DEBUG] Head 2 | iou.min=-0.0511, iou.max=0.7579, iou.mean=0.3364\n",
      "[DEBUG] Head 2 | ps[..., 4].sigmoid().mean = 0.0115\n",
      "[DEBUG] Head 0 | iou.min=0.0853, iou.max=0.8744, iou.mean=0.4766\n",
      "[DEBUG] Head 0 | ps[..., 4].sigmoid().mean = 0.0009\n",
      "[DEBUG] Head 1 | iou.min=-0.0802, iou.max=0.8310, iou.mean=0.3710\n",
      "[DEBUG] Head 1 | ps[..., 4].sigmoid().mean = 0.0037\n",
      "[DEBUG] Head 2 | iou.min=-0.0401, iou.max=0.8353, iou.mean=0.3171\n",
      "[DEBUG] Head 2 | ps[..., 4].sigmoid().mean = 0.0113\n",
      "[DEBUG] Head 0 | iou.min=0.1284, iou.max=0.8844, iou.mean=0.4754\n",
      "[DEBUG] Head 0 | ps[..., 4].sigmoid().mean = 0.0010\n",
      "[DEBUG] Head 1 | iou.min=-0.0812, iou.max=0.8781, iou.mean=0.3836\n",
      "[DEBUG] Head 1 | ps[..., 4].sigmoid().mean = 0.0038\n",
      "[DEBUG] Head 2 | iou.min=-0.0405, iou.max=0.8314, iou.mean=0.3203\n",
      "[DEBUG] Head 2 | ps[..., 4].sigmoid().mean = 0.0114\n",
      "[DEBUG] Head 0 | iou.min=0.0412, iou.max=0.8814, iou.mean=0.5247\n",
      "[DEBUG] Head 0 | ps[..., 4].sigmoid().mean = 0.0011\n",
      "[DEBUG] Head 1 | iou.min=-0.1338, iou.max=0.8315, iou.mean=0.3819\n",
      "[DEBUG] Head 1 | ps[..., 4].sigmoid().mean = 0.0038\n",
      "[DEBUG] Head 2 | iou.min=0.0061, iou.max=0.9368, iou.mean=0.3446\n",
      "[DEBUG] Head 2 | ps[..., 4].sigmoid().mean = 0.0110\n",
      "[DEBUG] Head 0 | iou.min=0.1275, iou.max=0.8980, iou.mean=0.5878\n",
      "[DEBUG] Head 0 | ps[..., 4].sigmoid().mean = 0.0014\n",
      "[DEBUG] Head 1 | iou.min=-0.0580, iou.max=0.8902, iou.mean=0.4720\n",
      "[DEBUG] Head 1 | ps[..., 4].sigmoid().mean = 0.0048\n",
      "[DEBUG] Head 2 | iou.min=0.0455, iou.max=0.8051, iou.mean=0.3545\n",
      "[DEBUG] Head 2 | ps[..., 4].sigmoid().mean = 0.0109\n",
      "[DEBUG] Head 0 | iou.min=0.0951, iou.max=0.8845, iou.mean=0.4947\n",
      "[DEBUG] Head 0 | ps[..., 4].sigmoid().mean = 0.0013\n",
      "[DEBUG] Head 1 | iou.min=-0.0847, iou.max=0.8870, iou.mean=0.3743\n",
      "[DEBUG] Head 1 | ps[..., 4].sigmoid().mean = 0.0047\n",
      "[DEBUG] Head 2 | iou.min=-0.0148, iou.max=0.8224, iou.mean=0.2841\n",
      "[DEBUG] Head 2 | ps[..., 4].sigmoid().mean = 0.0107\n",
      "[DEBUG] Head 0 | iou.min=0.1354, iou.max=0.9171, iou.mean=0.4364\n",
      "[DEBUG] Head 0 | ps[..., 4].sigmoid().mean = 0.0006\n",
      "[DEBUG] Head 1 | iou.min=-0.0195, iou.max=0.8152, iou.mean=0.3486\n",
      "[DEBUG] Head 1 | ps[..., 4].sigmoid().mean = 0.0025\n",
      "[DEBUG] Head 2 | iou.min=-0.0612, iou.max=0.8175, iou.mean=0.3458\n",
      "[DEBUG] Head 2 | ps[..., 4].sigmoid().mean = 0.0117\n",
      "[DEBUG] Head 0 | iou.min=0.0819, iou.max=0.8703, iou.mean=0.3720\n",
      "[DEBUG] Head 0 | ps[..., 4].sigmoid().mean = 0.0012\n",
      "[DEBUG] Head 1 | iou.min=-0.0695, iou.max=0.8307, iou.mean=0.2891\n",
      "[DEBUG] Head 1 | ps[..., 4].sigmoid().mean = 0.0046\n",
      "[DEBUG] Head 2 | iou.min=-0.0373, iou.max=0.8340, iou.mean=0.2723\n",
      "[DEBUG] Head 2 | ps[..., 4].sigmoid().mean = 0.0119\n",
      "[DEBUG] Head 0 | iou.min=0.1894, iou.max=0.7422, iou.mean=0.4705\n",
      "[DEBUG] Head 0 | ps[..., 4].sigmoid().mean = 0.0003\n",
      "[DEBUG] Head 1 | iou.min=-0.0624, iou.max=0.8221, iou.mean=0.2914\n",
      "[DEBUG] Head 1 | ps[..., 4].sigmoid().mean = 0.0014\n",
      "[DEBUG] Head 2 | iou.min=0.0936, iou.max=0.8325, iou.mean=0.3648\n",
      "[DEBUG] Head 2 | ps[..., 4].sigmoid().mean = 0.0117\n",
      "[validate_yoloow_model] ✅  Avg Loss  (box/obj/cls/total): 0.0912 / 0.0525 / 0.2642 / 0.4079\n"
     ]
    },
    {
     "name": "stderr",
     "output_type": "stream",
     "text": [
      "[YoloOW] Epoch 10/30:   0%|          | 0/24 [00:00<?, ?it/s]"
     ]
    },
    {
     "name": "stdout",
     "output_type": "stream",
     "text": [
      "[DEBUG] Head 0 | iou.min=0.1011, iou.max=0.9314, iou.mean=0.5150\n",
      "[DEBUG] Head 0 | ps[..., 4].sigmoid().mean = 0.0015\n",
      "[DEBUG] Head 1 | iou.min=-0.0921, iou.max=0.9190, iou.mean=0.4004\n",
      "[DEBUG] Head 1 | ps[..., 4].sigmoid().mean = 0.0052\n",
      "[DEBUG] Head 2 | iou.min=-0.0039, iou.max=0.8891, iou.mean=0.3392\n",
      "[DEBUG] Head 2 | ps[..., 4].sigmoid().mean = 0.0109\n"
     ]
    },
    {
     "name": "stderr",
     "output_type": "stream",
     "text": [
      "[YoloOW] Epoch 10/30:   4%|▍         | 1/24 [00:00<00:21,  1.06it/s]"
     ]
    },
    {
     "name": "stdout",
     "output_type": "stream",
     "text": [
      "[DEBUG] Head 0 | iou.min=0.1235, iou.max=0.9192, iou.mean=0.5395\n",
      "[DEBUG] Head 0 | ps[..., 4].sigmoid().mean = 0.0021\n",
      "[DEBUG] Head 1 | iou.min=0.0604, iou.max=0.8693, iou.mean=0.4444\n",
      "[DEBUG] Head 1 | ps[..., 4].sigmoid().mean = 0.0068\n",
      "[DEBUG] Head 2 | iou.min=0.0136, iou.max=0.8339, iou.mean=0.3089\n",
      "[DEBUG] Head 2 | ps[..., 4].sigmoid().mean = 0.0106\n"
     ]
    },
    {
     "name": "stderr",
     "output_type": "stream",
     "text": [
      "[YoloOW] Epoch 10/30:   8%|▊         | 2/24 [00:02<00:31,  1.41s/it]"
     ]
    },
    {
     "name": "stdout",
     "output_type": "stream",
     "text": [
      "[DEBUG] Head 0 | iou.min=0.1776, iou.max=0.9091, iou.mean=0.4910\n",
      "[DEBUG] Head 0 | ps[..., 4].sigmoid().mean = 0.0011\n",
      "[DEBUG] Head 1 | iou.min=0.0695, iou.max=0.8338, iou.mean=0.4080\n",
      "[DEBUG] Head 1 | ps[..., 4].sigmoid().mean = 0.0052\n",
      "[DEBUG] Head 2 | iou.min=-0.0208, iou.max=0.8660, iou.mean=0.3340\n",
      "[DEBUG] Head 2 | ps[..., 4].sigmoid().mean = 0.0104\n"
     ]
    },
    {
     "name": "stderr",
     "output_type": "stream",
     "text": [
      "[YoloOW] Epoch 10/30:  12%|█▎        | 3/24 [00:03<00:24,  1.15s/it]"
     ]
    },
    {
     "name": "stdout",
     "output_type": "stream",
     "text": [
      "[DEBUG] Head 0 | iou.min=0.1490, iou.max=0.9235, iou.mean=0.4716\n",
      "[DEBUG] Head 0 | ps[..., 4].sigmoid().mean = 0.0014\n",
      "[DEBUG] Head 1 | iou.min=0.1001, iou.max=0.9421, iou.mean=0.3959\n",
      "[DEBUG] Head 1 | ps[..., 4].sigmoid().mean = 0.0068\n",
      "[DEBUG] Head 2 | iou.min=-0.0490, iou.max=0.7256, iou.mean=0.3019\n",
      "[DEBUG] Head 2 | ps[..., 4].sigmoid().mean = 0.0109\n"
     ]
    },
    {
     "name": "stderr",
     "output_type": "stream",
     "text": [
      "[YoloOW] Epoch 10/30:  17%|█▋        | 4/24 [00:04<00:20,  1.02s/it]"
     ]
    },
    {
     "name": "stdout",
     "output_type": "stream",
     "text": [
      "[DEBUG] Head 0 | iou.min=0.2185, iou.max=0.8858, iou.mean=0.5925\n",
      "[DEBUG] Head 0 | ps[..., 4].sigmoid().mean = 0.0018\n",
      "[DEBUG] Head 1 | iou.min=0.1092, iou.max=0.8832, iou.mean=0.4673\n",
      "[DEBUG] Head 1 | ps[..., 4].sigmoid().mean = 0.0095\n",
      "[DEBUG] Head 2 | iou.min=0.0229, iou.max=0.7118, iou.mean=0.3108\n",
      "[DEBUG] Head 2 | ps[..., 4].sigmoid().mean = 0.0113\n"
     ]
    },
    {
     "name": "stderr",
     "output_type": "stream",
     "text": [
      "[YoloOW] Epoch 10/30:  21%|██        | 5/24 [00:05<00:18,  1.05it/s]"
     ]
    },
    {
     "name": "stdout",
     "output_type": "stream",
     "text": [
      "[DEBUG] Head 0 | iou.min=0.0928, iou.max=0.9216, iou.mean=0.3924\n",
      "[DEBUG] Head 0 | ps[..., 4].sigmoid().mean = 0.0022\n",
      "[DEBUG] Head 1 | iou.min=-0.0215, iou.max=0.8327, iou.mean=0.3169\n",
      "[DEBUG] Head 1 | ps[..., 4].sigmoid().mean = 0.0106\n",
      "[DEBUG] Head 2 | iou.min=-0.0678, iou.max=0.8014, iou.mean=0.2544\n",
      "[DEBUG] Head 2 | ps[..., 4].sigmoid().mean = 0.0121\n"
     ]
    },
    {
     "name": "stderr",
     "output_type": "stream",
     "text": [
      "[YoloOW] Epoch 10/30:  25%|██▌       | 6/24 [00:06<00:20,  1.14s/it]"
     ]
    },
    {
     "name": "stdout",
     "output_type": "stream",
     "text": [
      "[DEBUG] Head 0 | iou.min=0.1313, iou.max=0.8900, iou.mean=0.5331\n",
      "[DEBUG] Head 0 | ps[..., 4].sigmoid().mean = 0.0014\n",
      "[DEBUG] Head 1 | iou.min=0.0648, iou.max=0.8951, iou.mean=0.4149\n",
      "[DEBUG] Head 1 | ps[..., 4].sigmoid().mean = 0.0087\n",
      "[DEBUG] Head 2 | iou.min=-0.0465, iou.max=0.8561, iou.mean=0.2745\n",
      "[DEBUG] Head 2 | ps[..., 4].sigmoid().mean = 0.0117\n"
     ]
    },
    {
     "name": "stderr",
     "output_type": "stream",
     "text": [
      "[YoloOW] Epoch 10/30:  29%|██▉       | 7/24 [00:07<00:18,  1.09s/it]"
     ]
    },
    {
     "name": "stdout",
     "output_type": "stream",
     "text": [
      "[DEBUG] Head 0 | iou.min=0.2718, iou.max=0.8246, iou.mean=0.5956\n",
      "[DEBUG] Head 0 | ps[..., 4].sigmoid().mean = 0.0017\n",
      "[DEBUG] Head 1 | iou.min=0.1434, iou.max=0.8651, iou.mean=0.4712\n",
      "[DEBUG] Head 1 | ps[..., 4].sigmoid().mean = 0.0070\n",
      "[DEBUG] Head 2 | iou.min=-0.0030, iou.max=0.7359, iou.mean=0.3396\n",
      "[DEBUG] Head 2 | ps[..., 4].sigmoid().mean = 0.0108\n"
     ]
    },
    {
     "name": "stderr",
     "output_type": "stream",
     "text": [
      "[YoloOW] Epoch 10/30:  33%|███▎      | 8/24 [00:09<00:19,  1.20s/it]"
     ]
    },
    {
     "name": "stdout",
     "output_type": "stream",
     "text": [
      "[DEBUG] Head 0 | iou.min=0.1369, iou.max=0.8915, iou.mean=0.4876\n",
      "[DEBUG] Head 0 | ps[..., 4].sigmoid().mean = 0.0017\n",
      "[DEBUG] Head 1 | iou.min=0.1081, iou.max=0.8495, iou.mean=0.4085\n",
      "[DEBUG] Head 1 | ps[..., 4].sigmoid().mean = 0.0055\n",
      "[DEBUG] Head 2 | iou.min=-0.0291, iou.max=0.7318, iou.mean=0.3125\n",
      "[DEBUG] Head 2 | ps[..., 4].sigmoid().mean = 0.0103\n"
     ]
    },
    {
     "name": "stderr",
     "output_type": "stream",
     "text": [
      "[YoloOW] Epoch 10/30:  38%|███▊      | 9/24 [00:09<00:16,  1.08s/it]"
     ]
    },
    {
     "name": "stdout",
     "output_type": "stream",
     "text": [
      "[DEBUG] Head 0 | iou.min=0.2013, iou.max=0.7513, iou.mean=0.5258\n",
      "[DEBUG] Head 0 | ps[..., 4].sigmoid().mean = 0.0012\n",
      "[DEBUG] Head 1 | iou.min=0.1025, iou.max=0.8193, iou.mean=0.4385\n",
      "[DEBUG] Head 1 | ps[..., 4].sigmoid().mean = 0.0037\n",
      "[DEBUG] Head 2 | iou.min=0.0290, iou.max=0.7861, iou.mean=0.3124\n",
      "[DEBUG] Head 2 | ps[..., 4].sigmoid().mean = 0.0071\n"
     ]
    },
    {
     "name": "stderr",
     "output_type": "stream",
     "text": [
      "[YoloOW] Epoch 10/30:  42%|████▏     | 10/24 [00:10<00:14,  1.00s/it, Loss=6.1191, box=0.086, obj=0.028, cls=0.268, total loss=0.382, lr=0.000851]"
     ]
    },
    {
     "name": "stdout",
     "output_type": "stream",
     "text": [
      "[DEBUG] Head 0 | iou.min=0.1310, iou.max=0.9072, iou.mean=0.4897\n",
      "[DEBUG] Head 0 | ps[..., 4].sigmoid().mean = 0.0017\n",
      "[DEBUG] Head 1 | iou.min=0.0844, iou.max=0.8429, iou.mean=0.4264\n",
      "[DEBUG] Head 1 | ps[..., 4].sigmoid().mean = 0.0043\n",
      "[DEBUG] Head 2 | iou.min=-0.0571, iou.max=0.9150, iou.mean=0.3300\n",
      "[DEBUG] Head 2 | ps[..., 4].sigmoid().mean = 0.0075\n"
     ]
    },
    {
     "name": "stderr",
     "output_type": "stream",
     "text": [
      "[YoloOW] Epoch 10/30:  46%|████▌     | 11/24 [00:12<00:17,  1.31s/it, Loss=6.1191, box=0.086, obj=0.028, cls=0.268, total loss=0.382, lr=0.000851]"
     ]
    },
    {
     "name": "stdout",
     "output_type": "stream",
     "text": [
      "[DEBUG] Head 0 | iou.min=0.1295, iou.max=0.8853, iou.mean=0.4778\n",
      "[DEBUG] Head 0 | ps[..., 4].sigmoid().mean = 0.0028\n",
      "[DEBUG] Head 1 | iou.min=0.0815, iou.max=0.8460, iou.mean=0.3790\n",
      "[DEBUG] Head 1 | ps[..., 4].sigmoid().mean = 0.0058\n",
      "[DEBUG] Head 2 | iou.min=-0.0390, iou.max=0.8285, iou.mean=0.2977\n",
      "[DEBUG] Head 2 | ps[..., 4].sigmoid().mean = 0.0126\n"
     ]
    },
    {
     "name": "stderr",
     "output_type": "stream",
     "text": [
      "[YoloOW] Epoch 10/30:  50%|█████     | 12/24 [00:14<00:15,  1.32s/it, Loss=6.1191, box=0.086, obj=0.028, cls=0.268, total loss=0.382, lr=0.000851]"
     ]
    },
    {
     "name": "stdout",
     "output_type": "stream",
     "text": [
      "[DEBUG] Head 0 | iou.min=0.1006, iou.max=0.8792, iou.mean=0.4003\n",
      "[DEBUG] Head 0 | ps[..., 4].sigmoid().mean = 0.0017\n",
      "[DEBUG] Head 1 | iou.min=0.0928, iou.max=0.8122, iou.mean=0.3388\n",
      "[DEBUG] Head 1 | ps[..., 4].sigmoid().mean = 0.0050\n",
      "[DEBUG] Head 2 | iou.min=-0.0602, iou.max=0.7593, iou.mean=0.2722\n",
      "[DEBUG] Head 2 | ps[..., 4].sigmoid().mean = 0.0113\n"
     ]
    },
    {
     "name": "stderr",
     "output_type": "stream",
     "text": [
      "[YoloOW] Epoch 10/30:  54%|█████▍    | 13/24 [00:14<00:12,  1.17s/it, Loss=6.1191, box=0.086, obj=0.028, cls=0.268, total loss=0.382, lr=0.000851]"
     ]
    },
    {
     "name": "stdout",
     "output_type": "stream",
     "text": [
      "[DEBUG] Head 0 | iou.min=0.1107, iou.max=0.9365, iou.mean=0.5180\n",
      "[DEBUG] Head 0 | ps[..., 4].sigmoid().mean = 0.0022\n",
      "[DEBUG] Head 1 | iou.min=0.0829, iou.max=0.9102, iou.mean=0.4310\n",
      "[DEBUG] Head 1 | ps[..., 4].sigmoid().mean = 0.0055\n",
      "[DEBUG] Head 2 | iou.min=0.0186, iou.max=0.7549, iou.mean=0.3342\n",
      "[DEBUG] Head 2 | ps[..., 4].sigmoid().mean = 0.0122\n"
     ]
    },
    {
     "name": "stderr",
     "output_type": "stream",
     "text": [
      "[YoloOW] Epoch 10/30:  58%|█████▊    | 14/24 [00:15<00:10,  1.07s/it, Loss=6.1191, box=0.086, obj=0.028, cls=0.268, total loss=0.382, lr=0.000851]"
     ]
    },
    {
     "name": "stdout",
     "output_type": "stream",
     "text": [
      "[DEBUG] Head 0 | iou.min=0.1277, iou.max=0.8388, iou.mean=0.4783\n",
      "[DEBUG] Head 0 | ps[..., 4].sigmoid().mean = 0.0038\n",
      "[DEBUG] Head 1 | iou.min=0.0640, iou.max=0.8310, iou.mean=0.3916\n",
      "[DEBUG] Head 1 | ps[..., 4].sigmoid().mean = 0.0073\n",
      "[DEBUG] Head 2 | iou.min=-0.1505, iou.max=0.8250, iou.mean=0.2915\n",
      "[DEBUG] Head 2 | ps[..., 4].sigmoid().mean = 0.0264\n"
     ]
    },
    {
     "name": "stderr",
     "output_type": "stream",
     "text": [
      "[YoloOW] Epoch 10/30:  62%|██████▎   | 15/24 [00:16<00:09,  1.04s/it, Loss=6.1191, box=0.086, obj=0.028, cls=0.268, total loss=0.382, lr=0.000851]"
     ]
    },
    {
     "name": "stdout",
     "output_type": "stream",
     "text": [
      "[DEBUG] Head 0 | iou.min=0.1088, iou.max=0.9163, iou.mean=0.4819\n",
      "[DEBUG] Head 0 | ps[..., 4].sigmoid().mean = 0.0036\n",
      "[DEBUG] Head 1 | iou.min=-0.0035, iou.max=0.8452, iou.mean=0.4205\n",
      "[DEBUG] Head 1 | ps[..., 4].sigmoid().mean = 0.0067\n",
      "[DEBUG] Head 2 | iou.min=-0.0087, iou.max=0.8103, iou.mean=0.3349\n",
      "[DEBUG] Head 2 | ps[..., 4].sigmoid().mean = 0.0138\n"
     ]
    },
    {
     "name": "stderr",
     "output_type": "stream",
     "text": [
      "[YoloOW] Epoch 10/30:  67%|██████▋   | 16/24 [00:17<00:07,  1.03it/s, Loss=6.1191, box=0.086, obj=0.028, cls=0.268, total loss=0.382, lr=0.000851]"
     ]
    },
    {
     "name": "stdout",
     "output_type": "stream",
     "text": [
      "[DEBUG] Head 0 | iou.min=0.1231, iou.max=0.8775, iou.mean=0.5390\n",
      "[DEBUG] Head 0 | ps[..., 4].sigmoid().mean = 0.0038\n",
      "[DEBUG] Head 1 | iou.min=0.0872, iou.max=0.8642, iou.mean=0.4829\n",
      "[DEBUG] Head 1 | ps[..., 4].sigmoid().mean = 0.0073\n",
      "[DEBUG] Head 2 | iou.min=0.0090, iou.max=0.8601, iou.mean=0.3554\n",
      "[DEBUG] Head 2 | ps[..., 4].sigmoid().mean = 0.0134\n"
     ]
    },
    {
     "name": "stderr",
     "output_type": "stream",
     "text": [
      "[YoloOW] Epoch 10/30:  71%|███████   | 17/24 [00:18<00:06,  1.08it/s, Loss=6.1191, box=0.086, obj=0.028, cls=0.268, total loss=0.382, lr=0.000851]"
     ]
    },
    {
     "name": "stdout",
     "output_type": "stream",
     "text": [
      "[DEBUG] Head 0 | iou.min=0.0476, iou.max=0.8114, iou.mean=0.4485\n",
      "[DEBUG] Head 0 | ps[..., 4].sigmoid().mean = 0.0013\n",
      "[DEBUG] Head 1 | iou.min=0.0198, iou.max=0.8078, iou.mean=0.4120\n",
      "[DEBUG] Head 1 | ps[..., 4].sigmoid().mean = 0.0039\n",
      "[DEBUG] Head 2 | iou.min=0.1315, iou.max=0.7401, iou.mean=0.3799\n",
      "[DEBUG] Head 2 | ps[..., 4].sigmoid().mean = 0.0093\n"
     ]
    },
    {
     "name": "stderr",
     "output_type": "stream",
     "text": [
      "[YoloOW] Epoch 10/30:  75%|███████▌  | 18/24 [00:19<00:05,  1.11it/s, Loss=6.1191, box=0.086, obj=0.028, cls=0.268, total loss=0.382, lr=0.000851]"
     ]
    },
    {
     "name": "stdout",
     "output_type": "stream",
     "text": [
      "[DEBUG] Head 0 | iou.min=0.1049, iou.max=0.9255, iou.mean=0.4887\n",
      "[DEBUG] Head 0 | ps[..., 4].sigmoid().mean = 0.0043\n",
      "[DEBUG] Head 1 | iou.min=0.0881, iou.max=0.9213, iou.mean=0.4345\n",
      "[DEBUG] Head 1 | ps[..., 4].sigmoid().mean = 0.0079\n",
      "[DEBUG] Head 2 | iou.min=-0.0389, iou.max=0.8001, iou.mean=0.3139\n",
      "[DEBUG] Head 2 | ps[..., 4].sigmoid().mean = 0.0133\n"
     ]
    },
    {
     "name": "stderr",
     "output_type": "stream",
     "text": [
      "[YoloOW] Epoch 10/30:  79%|███████▉  | 19/24 [00:20<00:04,  1.14it/s, Loss=6.1191, box=0.086, obj=0.028, cls=0.268, total loss=0.382, lr=0.000851]"
     ]
    },
    {
     "name": "stdout",
     "output_type": "stream",
     "text": [
      "[DEBUG] Head 0 | iou.min=0.1246, iou.max=0.9182, iou.mean=0.4821\n",
      "[DEBUG] Head 0 | ps[..., 4].sigmoid().mean = 0.0021\n",
      "[DEBUG] Head 1 | iou.min=0.0848, iou.max=0.8637, iou.mean=0.4400\n",
      "[DEBUG] Head 1 | ps[..., 4].sigmoid().mean = 0.0058\n",
      "[DEBUG] Head 2 | iou.min=-0.0255, iou.max=0.9544, iou.mean=0.3329\n",
      "[DEBUG] Head 2 | ps[..., 4].sigmoid().mean = 0.0116\n"
     ]
    },
    {
     "name": "stderr",
     "output_type": "stream",
     "text": [
      "[YoloOW] Epoch 10/30:  83%|████████▎ | 20/24 [00:20<00:03,  1.16it/s, Loss=6.0570, box=0.087, obj=0.059, cls=0.233, total loss=0.379, lr=0.000851]"
     ]
    },
    {
     "name": "stdout",
     "output_type": "stream",
     "text": [
      "[DEBUG] Head 0 | iou.min=0.1460, iou.max=0.8880, iou.mean=0.5048\n",
      "[DEBUG] Head 0 | ps[..., 4].sigmoid().mean = 0.0022\n",
      "[DEBUG] Head 1 | iou.min=0.0619, iou.max=0.8404, iou.mean=0.4177\n",
      "[DEBUG] Head 1 | ps[..., 4].sigmoid().mean = 0.0050\n",
      "[DEBUG] Head 2 | iou.min=0.0072, iou.max=0.9015, iou.mean=0.3085\n",
      "[DEBUG] Head 2 | ps[..., 4].sigmoid().mean = 0.0112\n"
     ]
    },
    {
     "name": "stderr",
     "output_type": "stream",
     "text": [
      "[YoloOW] Epoch 10/30:  88%|████████▊ | 21/24 [00:21<00:02,  1.18it/s, Loss=6.0570, box=0.087, obj=0.059, cls=0.233, total loss=0.379, lr=0.000851]"
     ]
    },
    {
     "name": "stdout",
     "output_type": "stream",
     "text": [
      "[DEBUG] Head 0 | iou.min=0.1162, iou.max=0.9218, iou.mean=0.4813\n",
      "[DEBUG] Head 0 | ps[..., 4].sigmoid().mean = 0.0018\n",
      "[DEBUG] Head 1 | iou.min=0.0375, iou.max=0.9168, iou.mean=0.3722\n",
      "[DEBUG] Head 1 | ps[..., 4].sigmoid().mean = 0.0049\n",
      "[DEBUG] Head 2 | iou.min=0.0304, iou.max=0.7524, iou.mean=0.2646\n",
      "[DEBUG] Head 2 | ps[..., 4].sigmoid().mean = 0.0117\n"
     ]
    },
    {
     "name": "stderr",
     "output_type": "stream",
     "text": [
      "[YoloOW] Epoch 10/30:  92%|█████████▏| 22/24 [00:22<00:01,  1.19it/s, Loss=6.0570, box=0.087, obj=0.059, cls=0.233, total loss=0.379, lr=0.000851]"
     ]
    },
    {
     "name": "stdout",
     "output_type": "stream",
     "text": [
      "[DEBUG] Head 0 | iou.min=0.1414, iou.max=0.9504, iou.mean=0.5608\n",
      "[DEBUG] Head 0 | ps[..., 4].sigmoid().mean = 0.0012\n",
      "[DEBUG] Head 1 | iou.min=0.1212, iou.max=0.8420, iou.mean=0.4743\n",
      "[DEBUG] Head 1 | ps[..., 4].sigmoid().mean = 0.0045\n",
      "[DEBUG] Head 2 | iou.min=0.0325, iou.max=0.7997, iou.mean=0.3319\n",
      "[DEBUG] Head 2 | ps[..., 4].sigmoid().mean = 0.0093\n"
     ]
    },
    {
     "name": "stderr",
     "output_type": "stream",
     "text": [
      "[YoloOW] Epoch 10/30:  96%|█████████▌| 23/24 [00:23<00:00,  1.20it/s, Loss=6.0570, box=0.087, obj=0.059, cls=0.233, total loss=0.379, lr=0.000851]"
     ]
    },
    {
     "name": "stdout",
     "output_type": "stream",
     "text": [
      "[DEBUG] Head 0 | iou.min=0.1506, iou.max=0.9012, iou.mean=0.5392\n",
      "[DEBUG] Head 0 | ps[..., 4].sigmoid().mean = 0.0021\n",
      "[DEBUG] Head 1 | iou.min=0.0985, iou.max=0.9050, iou.mean=0.4434\n",
      "[DEBUG] Head 1 | ps[..., 4].sigmoid().mean = 0.0070\n",
      "[DEBUG] Head 2 | iou.min=-0.0099, iou.max=0.7674, iou.mean=0.3307\n",
      "[DEBUG] Head 2 | ps[..., 4].sigmoid().mean = 0.0118\n"
     ]
    },
    {
     "name": "stderr",
     "output_type": "stream",
     "text": [
      "[YoloOW] Epoch 10/30: 100%|██████████| 24/24 [00:24<00:00,  1.01s/it, Loss=5.8274, box=0.084, obj=0.057, cls=0.223, total loss=0.364, lr=0.000851]\n"
     ]
    },
    {
     "name": "stdout",
     "output_type": "stream",
     "text": [
      "\n",
      "[YoloOW] ✅ Epoch 10/30 complete in 24.13s | Avg Loss: 6.1146\n",
      "\n",
      "[YoloOW] 📊 Running evaluation after epoch 10 ...\n",
      "[DEBUG] Head 0 | iou.min=0.1707, iou.max=0.8940, iou.mean=0.5137\n",
      "[DEBUG] Head 0 | ps[..., 4].sigmoid().mean = 0.0028\n",
      "[DEBUG] Head 1 | iou.min=0.1323, iou.max=0.9325, iou.mean=0.4364\n",
      "[DEBUG] Head 1 | ps[..., 4].sigmoid().mean = 0.0087\n",
      "[DEBUG] Head 2 | iou.min=-0.0409, iou.max=0.7866, iou.mean=0.3240\n",
      "[DEBUG] Head 2 | ps[..., 4].sigmoid().mean = 0.0143\n",
      "[DEBUG] Head 0 | iou.min=0.1792, iou.max=0.8887, iou.mean=0.4959\n",
      "[DEBUG] Head 0 | ps[..., 4].sigmoid().mean = 0.0021\n",
      "[DEBUG] Head 1 | iou.min=0.0525, iou.max=0.8918, iou.mean=0.4209\n",
      "[DEBUG] Head 1 | ps[..., 4].sigmoid().mean = 0.0075\n",
      "[DEBUG] Head 2 | iou.min=-0.0298, iou.max=0.8054, iou.mean=0.3072\n",
      "[DEBUG] Head 2 | ps[..., 4].sigmoid().mean = 0.0132\n",
      "[DEBUG] Head 0 | iou.min=0.1895, iou.max=0.9533, iou.mean=0.4854\n",
      "[DEBUG] Head 0 | ps[..., 4].sigmoid().mean = 0.0021\n",
      "[DEBUG] Head 1 | iou.min=0.0851, iou.max=0.8717, iou.mean=0.4156\n",
      "[DEBUG] Head 1 | ps[..., 4].sigmoid().mean = 0.0074\n",
      "[DEBUG] Head 2 | iou.min=-0.0418, iou.max=0.6951, iou.mean=0.3145\n",
      "[DEBUG] Head 2 | ps[..., 4].sigmoid().mean = 0.0127\n",
      "[DEBUG] Head 0 | iou.min=0.1644, iou.max=0.9181, iou.mean=0.5735\n",
      "[DEBUG] Head 0 | ps[..., 4].sigmoid().mean = 0.0024\n",
      "[DEBUG] Head 1 | iou.min=0.1168, iou.max=0.9190, iou.mean=0.4851\n",
      "[DEBUG] Head 1 | ps[..., 4].sigmoid().mean = 0.0078\n",
      "[DEBUG] Head 2 | iou.min=0.0239, iou.max=0.8093, iou.mean=0.3298\n",
      "[DEBUG] Head 2 | ps[..., 4].sigmoid().mean = 0.0125\n",
      "[DEBUG] Head 0 | iou.min=0.1618, iou.max=0.9616, iou.mean=0.6153\n",
      "[DEBUG] Head 0 | ps[..., 4].sigmoid().mean = 0.0032\n",
      "[DEBUG] Head 1 | iou.min=0.1779, iou.max=0.9057, iou.mean=0.5166\n",
      "[DEBUG] Head 1 | ps[..., 4].sigmoid().mean = 0.0096\n",
      "[DEBUG] Head 2 | iou.min=0.0477, iou.max=0.7845, iou.mean=0.3421\n",
      "[DEBUG] Head 2 | ps[..., 4].sigmoid().mean = 0.0137\n",
      "[DEBUG] Head 0 | iou.min=0.2074, iou.max=0.9318, iou.mean=0.5535\n",
      "[DEBUG] Head 0 | ps[..., 4].sigmoid().mean = 0.0031\n",
      "[DEBUG] Head 1 | iou.min=0.0888, iou.max=0.8487, iou.mean=0.4280\n",
      "[DEBUG] Head 1 | ps[..., 4].sigmoid().mean = 0.0096\n",
      "[DEBUG] Head 2 | iou.min=-0.0348, iou.max=0.8371, iou.mean=0.2679\n",
      "[DEBUG] Head 2 | ps[..., 4].sigmoid().mean = 0.0156\n",
      "[DEBUG] Head 0 | iou.min=0.1575, iou.max=0.8952, iou.mean=0.4563\n",
      "[DEBUG] Head 0 | ps[..., 4].sigmoid().mean = 0.0013\n",
      "[DEBUG] Head 1 | iou.min=0.1143, iou.max=0.7709, iou.mean=0.3780\n",
      "[DEBUG] Head 1 | ps[..., 4].sigmoid().mean = 0.0057\n",
      "[DEBUG] Head 2 | iou.min=-0.0342, iou.max=0.8824, iou.mean=0.3318\n",
      "[DEBUG] Head 2 | ps[..., 4].sigmoid().mean = 0.0110\n",
      "[DEBUG] Head 0 | iou.min=0.0757, iou.max=0.9243, iou.mean=0.3784\n",
      "[DEBUG] Head 0 | ps[..., 4].sigmoid().mean = 0.0029\n",
      "[DEBUG] Head 1 | iou.min=0.0524, iou.max=0.8350, iou.mean=0.3189\n",
      "[DEBUG] Head 1 | ps[..., 4].sigmoid().mean = 0.0094\n",
      "[DEBUG] Head 2 | iou.min=-0.0382, iou.max=0.8168, iou.mean=0.2731\n",
      "[DEBUG] Head 2 | ps[..., 4].sigmoid().mean = 0.0147\n",
      "[DEBUG] Head 0 | iou.min=0.2876, iou.max=0.7483, iou.mean=0.5197\n",
      "[DEBUG] Head 0 | ps[..., 4].sigmoid().mean = 0.0006\n",
      "[DEBUG] Head 1 | iou.min=0.0948, iou.max=0.7206, iou.mean=0.5104\n",
      "[DEBUG] Head 1 | ps[..., 4].sigmoid().mean = 0.0037\n",
      "[DEBUG] Head 2 | iou.min=0.0934, iou.max=0.7321, iou.mean=0.3737\n",
      "[DEBUG] Head 2 | ps[..., 4].sigmoid().mean = 0.0079\n",
      "[validate_yoloow_model] ✅  Avg Loss  (box/obj/cls/total): 0.0869 / 0.0556 / 0.2418 / 0.3843\n"
     ]
    },
    {
     "name": "stderr",
     "output_type": "stream",
     "text": [
      "[YoloOW] Epoch 11/30:   0%|          | 0/24 [00:00<?, ?it/s]"
     ]
    },
    {
     "name": "stdout",
     "output_type": "stream",
     "text": [
      "[DEBUG] Head 0 | iou.min=0.1029, iou.max=0.9365, iou.mean=0.4239\n",
      "[DEBUG] Head 0 | ps[..., 4].sigmoid().mean = 0.0035\n",
      "[DEBUG] Head 1 | iou.min=0.0777, iou.max=0.8557, iou.mean=0.3596\n",
      "[DEBUG] Head 1 | ps[..., 4].sigmoid().mean = 0.0093\n",
      "[DEBUG] Head 2 | iou.min=-0.0451, iou.max=0.7621, iou.mean=0.2967\n",
      "[DEBUG] Head 2 | ps[..., 4].sigmoid().mean = 0.0141\n"
     ]
    },
    {
     "name": "stderr",
     "output_type": "stream",
     "text": [
      "[YoloOW] Epoch 11/30:   4%|▍         | 1/24 [00:00<00:19,  1.20it/s]"
     ]
    },
    {
     "name": "stdout",
     "output_type": "stream",
     "text": [
      "[DEBUG] Head 0 | iou.min=0.1787, iou.max=0.8884, iou.mean=0.5563\n",
      "[DEBUG] Head 0 | ps[..., 4].sigmoid().mean = 0.0012\n",
      "[DEBUG] Head 1 | iou.min=0.1130, iou.max=0.8167, iou.mean=0.4607\n",
      "[DEBUG] Head 1 | ps[..., 4].sigmoid().mean = 0.0050\n",
      "[DEBUG] Head 2 | iou.min=-0.0187, iou.max=0.8028, iou.mean=0.3420\n",
      "[DEBUG] Head 2 | ps[..., 4].sigmoid().mean = 0.0094\n"
     ]
    },
    {
     "name": "stderr",
     "output_type": "stream",
     "text": [
      "[YoloOW] Epoch 11/30:   8%|▊         | 2/24 [00:01<00:18,  1.18it/s]"
     ]
    },
    {
     "name": "stdout",
     "output_type": "stream",
     "text": [
      "[DEBUG] Head 0 | iou.min=0.1162, iou.max=0.8882, iou.mean=0.4840\n",
      "[DEBUG] Head 0 | ps[..., 4].sigmoid().mean = 0.0021\n",
      "[DEBUG] Head 1 | iou.min=0.0993, iou.max=0.8630, iou.mean=0.3987\n",
      "[DEBUG] Head 1 | ps[..., 4].sigmoid().mean = 0.0058\n",
      "[DEBUG] Head 2 | iou.min=-0.1383, iou.max=0.8350, iou.mean=0.2671\n",
      "[DEBUG] Head 2 | ps[..., 4].sigmoid().mean = 0.0102\n"
     ]
    },
    {
     "name": "stderr",
     "output_type": "stream",
     "text": [
      "[YoloOW] Epoch 11/30:  12%|█▎        | 3/24 [00:02<00:17,  1.18it/s]"
     ]
    },
    {
     "name": "stdout",
     "output_type": "stream",
     "text": [
      "[DEBUG] Head 0 | iou.min=0.1587, iou.max=0.9257, iou.mean=0.4694\n",
      "[DEBUG] Head 0 | ps[..., 4].sigmoid().mean = 0.0022\n",
      "[DEBUG] Head 1 | iou.min=0.1079, iou.max=0.9270, iou.mean=0.3877\n",
      "[DEBUG] Head 1 | ps[..., 4].sigmoid().mean = 0.0063\n",
      "[DEBUG] Head 2 | iou.min=-0.1715, iou.max=0.8126, iou.mean=0.2646\n",
      "[DEBUG] Head 2 | ps[..., 4].sigmoid().mean = 0.0113\n"
     ]
    },
    {
     "name": "stderr",
     "output_type": "stream",
     "text": [
      "[YoloOW] Epoch 11/30:  17%|█▋        | 4/24 [00:03<00:16,  1.19it/s]"
     ]
    },
    {
     "name": "stdout",
     "output_type": "stream",
     "text": [
      "[DEBUG] Head 0 | iou.min=0.1061, iou.max=0.8710, iou.mean=0.5303\n",
      "[DEBUG] Head 0 | ps[..., 4].sigmoid().mean = 0.0040\n",
      "[DEBUG] Head 1 | iou.min=0.0733, iou.max=0.7951, iou.mean=0.4577\n",
      "[DEBUG] Head 1 | ps[..., 4].sigmoid().mean = 0.0086\n",
      "[DEBUG] Head 2 | iou.min=-0.0779, iou.max=0.8279, iou.mean=0.2988\n",
      "[DEBUG] Head 2 | ps[..., 4].sigmoid().mean = 0.0114\n"
     ]
    },
    {
     "name": "stderr",
     "output_type": "stream",
     "text": [
      "[YoloOW] Epoch 11/30:  21%|██        | 5/24 [00:04<00:16,  1.18it/s]"
     ]
    },
    {
     "name": "stdout",
     "output_type": "stream",
     "text": [
      "[DEBUG] Head 0 | iou.min=0.2845, iou.max=0.8776, iou.mean=0.5907\n",
      "[DEBUG] Head 0 | ps[..., 4].sigmoid().mean = 0.0016\n",
      "[DEBUG] Head 1 | iou.min=0.0547, iou.max=0.7733, iou.mean=0.4864\n",
      "[DEBUG] Head 1 | ps[..., 4].sigmoid().mean = 0.0060\n",
      "[DEBUG] Head 2 | iou.min=0.0343, iou.max=0.8513, iou.mean=0.3368\n",
      "[DEBUG] Head 2 | ps[..., 4].sigmoid().mean = 0.0101\n"
     ]
    },
    {
     "name": "stderr",
     "output_type": "stream",
     "text": [
      "[YoloOW] Epoch 11/30:  25%|██▌       | 6/24 [00:05<00:15,  1.20it/s]"
     ]
    },
    {
     "name": "stdout",
     "output_type": "stream",
     "text": [
      "[DEBUG] Head 0 | iou.min=0.1152, iou.max=0.8545, iou.mean=0.4316\n",
      "[DEBUG] Head 0 | ps[..., 4].sigmoid().mean = 0.0032\n",
      "[DEBUG] Head 1 | iou.min=0.0785, iou.max=0.8719, iou.mean=0.3831\n",
      "[DEBUG] Head 1 | ps[..., 4].sigmoid().mean = 0.0100\n",
      "[DEBUG] Head 2 | iou.min=-0.0269, iou.max=0.8011, iou.mean=0.3185\n",
      "[DEBUG] Head 2 | ps[..., 4].sigmoid().mean = 0.0113\n"
     ]
    },
    {
     "name": "stderr",
     "output_type": "stream",
     "text": [
      "[YoloOW] Epoch 11/30:  29%|██▉       | 7/24 [00:05<00:14,  1.19it/s]"
     ]
    },
    {
     "name": "stdout",
     "output_type": "stream",
     "text": [
      "[DEBUG] Head 0 | iou.min=0.0970, iou.max=0.9300, iou.mean=0.5434\n",
      "[DEBUG] Head 0 | ps[..., 4].sigmoid().mean = 0.0025\n",
      "[DEBUG] Head 1 | iou.min=0.1210, iou.max=0.9103, iou.mean=0.4600\n",
      "[DEBUG] Head 1 | ps[..., 4].sigmoid().mean = 0.0085\n",
      "[DEBUG] Head 2 | iou.min=-0.0686, iou.max=0.9002, iou.mean=0.3420\n",
      "[DEBUG] Head 2 | ps[..., 4].sigmoid().mean = 0.0109\n"
     ]
    },
    {
     "name": "stderr",
     "output_type": "stream",
     "text": [
      "[YoloOW] Epoch 11/30:  33%|███▎      | 8/24 [00:06<00:13,  1.18it/s]"
     ]
    },
    {
     "name": "stdout",
     "output_type": "stream",
     "text": [
      "[DEBUG] Head 0 | iou.min=0.0987, iou.max=0.9189, iou.mean=0.3844\n",
      "[DEBUG] Head 0 | ps[..., 4].sigmoid().mean = 0.0011\n",
      "[DEBUG] Head 1 | iou.min=0.1159, iou.max=0.8590, iou.mean=0.3474\n",
      "[DEBUG] Head 1 | ps[..., 4].sigmoid().mean = 0.0046\n",
      "[DEBUG] Head 2 | iou.min=-0.0809, iou.max=0.7538, iou.mean=0.3142\n",
      "[DEBUG] Head 2 | ps[..., 4].sigmoid().mean = 0.0102\n"
     ]
    },
    {
     "name": "stderr",
     "output_type": "stream",
     "text": [
      "[YoloOW] Epoch 11/30:  38%|███▊      | 9/24 [00:07<00:12,  1.18it/s]"
     ]
    },
    {
     "name": "stdout",
     "output_type": "stream",
     "text": [
      "[DEBUG] Head 0 | iou.min=0.1107, iou.max=0.9031, iou.mean=0.5158\n",
      "[DEBUG] Head 0 | ps[..., 4].sigmoid().mean = 0.0038\n",
      "[DEBUG] Head 1 | iou.min=0.0585, iou.max=0.8507, iou.mean=0.4525\n",
      "[DEBUG] Head 1 | ps[..., 4].sigmoid().mean = 0.0087\n",
      "[DEBUG] Head 2 | iou.min=-0.0541, iou.max=0.8619, iou.mean=0.3206\n",
      "[DEBUG] Head 2 | ps[..., 4].sigmoid().mean = 0.0122\n"
     ]
    },
    {
     "name": "stderr",
     "output_type": "stream",
     "text": [
      "[YoloOW] Epoch 11/30:  42%|████▏     | 10/24 [00:08<00:11,  1.18it/s, Loss=5.7535, box=0.086, obj=0.074, cls=0.200, total loss=0.360, lr=0.000804]"
     ]
    },
    {
     "name": "stdout",
     "output_type": "stream",
     "text": [
      "[DEBUG] Head 0 | iou.min=0.0791, iou.max=0.8078, iou.mean=0.4905\n",
      "[DEBUG] Head 0 | ps[..., 4].sigmoid().mean = 0.0014\n",
      "[DEBUG] Head 1 | iou.min=0.1241, iou.max=0.8812, iou.mean=0.4475\n",
      "[DEBUG] Head 1 | ps[..., 4].sigmoid().mean = 0.0049\n",
      "[DEBUG] Head 2 | iou.min=0.0334, iou.max=0.8765, iou.mean=0.3541\n",
      "[DEBUG] Head 2 | ps[..., 4].sigmoid().mean = 0.0109\n"
     ]
    },
    {
     "name": "stderr",
     "output_type": "stream",
     "text": [
      "[YoloOW] Epoch 11/30:  46%|████▌     | 11/24 [00:09<00:10,  1.19it/s, Loss=5.7535, box=0.086, obj=0.074, cls=0.200, total loss=0.360, lr=0.000804]"
     ]
    },
    {
     "name": "stdout",
     "output_type": "stream",
     "text": [
      "[DEBUG] Head 0 | iou.min=0.1382, iou.max=0.9020, iou.mean=0.4848\n",
      "[DEBUG] Head 0 | ps[..., 4].sigmoid().mean = 0.0016\n",
      "[DEBUG] Head 1 | iou.min=0.1407, iou.max=0.8273, iou.mean=0.4183\n",
      "[DEBUG] Head 1 | ps[..., 4].sigmoid().mean = 0.0058\n",
      "[DEBUG] Head 2 | iou.min=-0.0476, iou.max=0.8343, iou.mean=0.3292\n",
      "[DEBUG] Head 2 | ps[..., 4].sigmoid().mean = 0.0117\n"
     ]
    },
    {
     "name": "stderr",
     "output_type": "stream",
     "text": [
      "[YoloOW] Epoch 11/30:  50%|█████     | 12/24 [00:10<00:09,  1.21it/s, Loss=5.7535, box=0.086, obj=0.074, cls=0.200, total loss=0.360, lr=0.000804]"
     ]
    },
    {
     "name": "stdout",
     "output_type": "stream",
     "text": [
      "[DEBUG] Head 0 | iou.min=0.1435, iou.max=0.8871, iou.mean=0.5479\n",
      "[DEBUG] Head 0 | ps[..., 4].sigmoid().mean = 0.0026\n",
      "[DEBUG] Head 1 | iou.min=0.0989, iou.max=0.9191, iou.mean=0.4610\n",
      "[DEBUG] Head 1 | ps[..., 4].sigmoid().mean = 0.0064\n",
      "[DEBUG] Head 2 | iou.min=0.0142, iou.max=0.8296, iou.mean=0.3075\n",
      "[DEBUG] Head 2 | ps[..., 4].sigmoid().mean = 0.0113\n"
     ]
    },
    {
     "name": "stderr",
     "output_type": "stream",
     "text": [
      "[YoloOW] Epoch 11/30:  54%|█████▍    | 13/24 [00:10<00:09,  1.21it/s, Loss=5.7535, box=0.086, obj=0.074, cls=0.200, total loss=0.360, lr=0.000804]"
     ]
    },
    {
     "name": "stdout",
     "output_type": "stream",
     "text": [
      "[DEBUG] Head 0 | iou.min=0.1228, iou.max=0.9836, iou.mean=0.5085\n",
      "[DEBUG] Head 0 | ps[..., 4].sigmoid().mean = 0.0033\n",
      "[DEBUG] Head 1 | iou.min=0.0721, iou.max=0.8700, iou.mean=0.4376\n",
      "[DEBUG] Head 1 | ps[..., 4].sigmoid().mean = 0.0080\n",
      "[DEBUG] Head 2 | iou.min=0.0339, iou.max=0.7863, iou.mean=0.2860\n",
      "[DEBUG] Head 2 | ps[..., 4].sigmoid().mean = 0.0165\n"
     ]
    },
    {
     "name": "stderr",
     "output_type": "stream",
     "text": [
      "[YoloOW] Epoch 11/30:  58%|█████▊    | 14/24 [00:11<00:08,  1.20it/s, Loss=5.7535, box=0.086, obj=0.074, cls=0.200, total loss=0.360, lr=0.000804]"
     ]
    },
    {
     "name": "stdout",
     "output_type": "stream",
     "text": [
      "[DEBUG] Head 0 | iou.min=0.0640, iou.max=0.9389, iou.mean=0.5488\n",
      "[DEBUG] Head 0 | ps[..., 4].sigmoid().mean = 0.0037\n",
      "[DEBUG] Head 1 | iou.min=0.0674, iou.max=0.8882, iou.mean=0.4664\n",
      "[DEBUG] Head 1 | ps[..., 4].sigmoid().mean = 0.0106\n",
      "[DEBUG] Head 2 | iou.min=0.0764, iou.max=0.7728, iou.mean=0.3300\n",
      "[DEBUG] Head 2 | ps[..., 4].sigmoid().mean = 0.0226\n"
     ]
    },
    {
     "name": "stderr",
     "output_type": "stream",
     "text": [
      "[YoloOW] Epoch 11/30:  62%|██████▎   | 15/24 [00:12<00:07,  1.19it/s, Loss=5.7535, box=0.086, obj=0.074, cls=0.200, total loss=0.360, lr=0.000804]"
     ]
    },
    {
     "name": "stdout",
     "output_type": "stream",
     "text": [
      "[DEBUG] Head 0 | iou.min=0.1239, iou.max=0.8625, iou.mean=0.4876\n",
      "[DEBUG] Head 0 | ps[..., 4].sigmoid().mean = 0.0031\n",
      "[DEBUG] Head 1 | iou.min=0.0682, iou.max=0.9040, iou.mean=0.4105\n",
      "[DEBUG] Head 1 | ps[..., 4].sigmoid().mean = 0.0079\n",
      "[DEBUG] Head 2 | iou.min=-0.0377, iou.max=0.8765, iou.mean=0.3382\n",
      "[DEBUG] Head 2 | ps[..., 4].sigmoid().mean = 0.0153\n"
     ]
    },
    {
     "name": "stderr",
     "output_type": "stream",
     "text": [
      "[YoloOW] Epoch 11/30:  67%|██████▋   | 16/24 [00:13<00:06,  1.20it/s, Loss=5.7535, box=0.086, obj=0.074, cls=0.200, total loss=0.360, lr=0.000804]"
     ]
    },
    {
     "name": "stdout",
     "output_type": "stream",
     "text": [
      "[DEBUG] Head 0 | iou.min=0.1958, iou.max=0.9355, iou.mean=0.5757\n",
      "[DEBUG] Head 0 | ps[..., 4].sigmoid().mean = 0.0030\n",
      "[DEBUG] Head 1 | iou.min=0.0653, iou.max=0.8548, iou.mean=0.4806\n",
      "[DEBUG] Head 1 | ps[..., 4].sigmoid().mean = 0.0086\n",
      "[DEBUG] Head 2 | iou.min=-0.1629, iou.max=0.8007, iou.mean=0.3252\n",
      "[DEBUG] Head 2 | ps[..., 4].sigmoid().mean = 0.0174\n"
     ]
    },
    {
     "name": "stderr",
     "output_type": "stream",
     "text": [
      "[YoloOW] Epoch 11/30:  71%|███████   | 17/24 [00:14<00:05,  1.20it/s, Loss=5.7535, box=0.086, obj=0.074, cls=0.200, total loss=0.360, lr=0.000804]"
     ]
    },
    {
     "name": "stdout",
     "output_type": "stream",
     "text": [
      "[DEBUG] Head 0 | iou.min=0.0643, iou.max=0.8815, iou.mean=0.4507\n",
      "[DEBUG] Head 0 | ps[..., 4].sigmoid().mean = 0.0025\n",
      "[DEBUG] Head 1 | iou.min=0.1075, iou.max=0.9231, iou.mean=0.3916\n",
      "[DEBUG] Head 1 | ps[..., 4].sigmoid().mean = 0.0068\n",
      "[DEBUG] Head 2 | iou.min=-0.1086, iou.max=0.9588, iou.mean=0.2913\n",
      "[DEBUG] Head 2 | ps[..., 4].sigmoid().mean = 0.0128\n"
     ]
    },
    {
     "name": "stderr",
     "output_type": "stream",
     "text": [
      "[YoloOW] Epoch 11/30:  75%|███████▌  | 18/24 [00:15<00:05,  1.18it/s, Loss=5.7535, box=0.086, obj=0.074, cls=0.200, total loss=0.360, lr=0.000804]"
     ]
    },
    {
     "name": "stdout",
     "output_type": "stream",
     "text": [
      "[DEBUG] Head 0 | iou.min=0.0773, iou.max=0.8737, iou.mean=0.3210\n",
      "[DEBUG] Head 0 | ps[..., 4].sigmoid().mean = 0.0028\n",
      "[DEBUG] Head 1 | iou.min=0.0634, iou.max=0.8556, iou.mean=0.2961\n",
      "[DEBUG] Head 1 | ps[..., 4].sigmoid().mean = 0.0062\n",
      "[DEBUG] Head 2 | iou.min=-0.0763, iou.max=0.9613, iou.mean=0.2187\n",
      "[DEBUG] Head 2 | ps[..., 4].sigmoid().mean = 0.0113\n"
     ]
    },
    {
     "name": "stderr",
     "output_type": "stream",
     "text": [
      "[YoloOW] Epoch 11/30:  79%|███████▉  | 19/24 [00:16<00:04,  1.16it/s, Loss=5.7535, box=0.086, obj=0.074, cls=0.200, total loss=0.360, lr=0.000804]"
     ]
    },
    {
     "name": "stdout",
     "output_type": "stream",
     "text": [
      "[DEBUG] Head 0 | iou.min=0.0978, iou.max=0.8912, iou.mean=0.5187\n",
      "[DEBUG] Head 0 | ps[..., 4].sigmoid().mean = 0.0009\n",
      "[DEBUG] Head 1 | iou.min=0.0653, iou.max=0.8620, iou.mean=0.4248\n",
      "[DEBUG] Head 1 | ps[..., 4].sigmoid().mean = 0.0034\n",
      "[DEBUG] Head 2 | iou.min=0.0660, iou.max=0.7608, iou.mean=0.3599\n",
      "[DEBUG] Head 2 | ps[..., 4].sigmoid().mean = 0.0083\n"
     ]
    },
    {
     "name": "stderr",
     "output_type": "stream",
     "text": [
      "[YoloOW] Epoch 11/30:  83%|████████▎ | 20/24 [00:16<00:03,  1.16it/s, Loss=6.0280, box=0.085, obj=0.043, cls=0.249, total loss=0.377, lr=0.000804]"
     ]
    },
    {
     "name": "stdout",
     "output_type": "stream",
     "text": [
      "[DEBUG] Head 0 | iou.min=0.1277, iou.max=0.8503, iou.mean=0.5238\n",
      "[DEBUG] Head 0 | ps[..., 4].sigmoid().mean = 0.0021\n",
      "[DEBUG] Head 1 | iou.min=0.0768, iou.max=0.8772, iou.mean=0.4412\n",
      "[DEBUG] Head 1 | ps[..., 4].sigmoid().mean = 0.0058\n",
      "[DEBUG] Head 2 | iou.min=0.0369, iou.max=0.7992, iou.mean=0.2926\n",
      "[DEBUG] Head 2 | ps[..., 4].sigmoid().mean = 0.0101\n"
     ]
    },
    {
     "name": "stderr",
     "output_type": "stream",
     "text": [
      "[YoloOW] Epoch 11/30:  88%|████████▊ | 21/24 [00:17<00:02,  1.16it/s, Loss=6.0280, box=0.085, obj=0.043, cls=0.249, total loss=0.377, lr=0.000804]"
     ]
    },
    {
     "name": "stdout",
     "output_type": "stream",
     "text": [
      "[DEBUG] Head 0 | iou.min=0.1088, iou.max=0.8985, iou.mean=0.5280\n",
      "[DEBUG] Head 0 | ps[..., 4].sigmoid().mean = 0.0023\n",
      "[DEBUG] Head 1 | iou.min=0.1203, iou.max=0.9020, iou.mean=0.4662\n",
      "[DEBUG] Head 1 | ps[..., 4].sigmoid().mean = 0.0055\n",
      "[DEBUG] Head 2 | iou.min=-0.0442, iou.max=0.7910, iou.mean=0.2843\n",
      "[DEBUG] Head 2 | ps[..., 4].sigmoid().mean = 0.0102\n"
     ]
    },
    {
     "name": "stderr",
     "output_type": "stream",
     "text": [
      "[YoloOW] Epoch 11/30:  92%|█████████▏| 22/24 [00:18<00:01,  1.16it/s, Loss=6.0280, box=0.085, obj=0.043, cls=0.249, total loss=0.377, lr=0.000804]"
     ]
    },
    {
     "name": "stdout",
     "output_type": "stream",
     "text": [
      "[DEBUG] Head 0 | iou.min=0.2039, iou.max=0.9498, iou.mean=0.5602\n",
      "[DEBUG] Head 0 | ps[..., 4].sigmoid().mean = 0.0023\n",
      "[DEBUG] Head 1 | iou.min=0.1303, iou.max=0.9180, iou.mean=0.4782\n",
      "[DEBUG] Head 1 | ps[..., 4].sigmoid().mean = 0.0062\n",
      "[DEBUG] Head 2 | iou.min=-0.0553, iou.max=0.8765, iou.mean=0.3220\n",
      "[DEBUG] Head 2 | ps[..., 4].sigmoid().mean = 0.0107\n"
     ]
    },
    {
     "name": "stderr",
     "output_type": "stream",
     "text": [
      "[YoloOW] Epoch 11/30:  96%|█████████▌| 23/24 [00:19<00:00,  1.17it/s, Loss=6.0280, box=0.085, obj=0.043, cls=0.249, total loss=0.377, lr=0.000804]"
     ]
    },
    {
     "name": "stdout",
     "output_type": "stream",
     "text": [
      "[DEBUG] Head 0 | iou.min=0.2140, iou.max=0.8775, iou.mean=0.5224\n",
      "[DEBUG] Head 0 | ps[..., 4].sigmoid().mean = 0.0033\n",
      "[DEBUG] Head 1 | iou.min=0.0628, iou.max=0.8123, iou.mean=0.4493\n",
      "[DEBUG] Head 1 | ps[..., 4].sigmoid().mean = 0.0072\n",
      "[DEBUG] Head 2 | iou.min=-0.0745, iou.max=0.8432, iou.mean=0.3226\n",
      "[DEBUG] Head 2 | ps[..., 4].sigmoid().mean = 0.0108\n"
     ]
    },
    {
     "name": "stderr",
     "output_type": "stream",
     "text": [
      "[YoloOW] Epoch 11/30: 100%|██████████| 24/24 [00:20<00:00,  1.18it/s, Loss=5.9696, box=0.085, obj=0.061, cls=0.227, total loss=0.373, lr=0.000804]\n"
     ]
    },
    {
     "name": "stdout",
     "output_type": "stream",
     "text": [
      "\n",
      "[YoloOW] ✅ Epoch 11/30 complete in 20.30s | Avg Loss: 5.9743\n",
      "\n",
      "[YoloOW] 📊 Running evaluation after epoch 11 ...\n",
      "[DEBUG] Head 0 | iou.min=0.1400, iou.max=0.9512, iou.mean=0.5353\n",
      "[DEBUG] Head 0 | ps[..., 4].sigmoid().mean = 0.0027\n",
      "[DEBUG] Head 1 | iou.min=0.1548, iou.max=0.9224, iou.mean=0.4511\n",
      "[DEBUG] Head 1 | ps[..., 4].sigmoid().mean = 0.0074\n",
      "[DEBUG] Head 2 | iou.min=-0.1100, iou.max=0.7800, iou.mean=0.3393\n",
      "[DEBUG] Head 2 | ps[..., 4].sigmoid().mean = 0.0107\n",
      "[DEBUG] Head 0 | iou.min=0.2046, iou.max=0.9079, iou.mean=0.5003\n",
      "[DEBUG] Head 0 | ps[..., 4].sigmoid().mean = 0.0021\n",
      "[DEBUG] Head 1 | iou.min=0.0410, iou.max=0.8907, iou.mean=0.4229\n",
      "[DEBUG] Head 1 | ps[..., 4].sigmoid().mean = 0.0073\n",
      "[DEBUG] Head 2 | iou.min=-0.0888, iou.max=0.8273, iou.mean=0.3047\n",
      "[DEBUG] Head 2 | ps[..., 4].sigmoid().mean = 0.0104\n",
      "[DEBUG] Head 0 | iou.min=0.1824, iou.max=0.8743, iou.mean=0.4886\n",
      "[DEBUG] Head 0 | ps[..., 4].sigmoid().mean = 0.0022\n",
      "[DEBUG] Head 1 | iou.min=0.0783, iou.max=0.8605, iou.mean=0.4231\n",
      "[DEBUG] Head 1 | ps[..., 4].sigmoid().mean = 0.0070\n",
      "[DEBUG] Head 2 | iou.min=-0.1046, iou.max=0.9266, iou.mean=0.3297\n",
      "[DEBUG] Head 2 | ps[..., 4].sigmoid().mean = 0.0100\n",
      "[DEBUG] Head 0 | iou.min=0.1365, iou.max=0.8922, iou.mean=0.5400\n",
      "[DEBUG] Head 0 | ps[..., 4].sigmoid().mean = 0.0022\n",
      "[DEBUG] Head 1 | iou.min=0.1145, iou.max=0.8919, iou.mean=0.4786\n",
      "[DEBUG] Head 1 | ps[..., 4].sigmoid().mean = 0.0062\n",
      "[DEBUG] Head 2 | iou.min=-0.0447, iou.max=0.8464, iou.mean=0.3214\n",
      "[DEBUG] Head 2 | ps[..., 4].sigmoid().mean = 0.0087\n",
      "[DEBUG] Head 0 | iou.min=0.1465, iou.max=0.8777, iou.mean=0.5701\n",
      "[DEBUG] Head 0 | ps[..., 4].sigmoid().mean = 0.0030\n",
      "[DEBUG] Head 1 | iou.min=0.1963, iou.max=0.8495, iou.mean=0.4884\n",
      "[DEBUG] Head 1 | ps[..., 4].sigmoid().mean = 0.0084\n",
      "[DEBUG] Head 2 | iou.min=-0.0702, iou.max=0.8198, iou.mean=0.3400\n",
      "[DEBUG] Head 2 | ps[..., 4].sigmoid().mean = 0.0102\n",
      "[DEBUG] Head 0 | iou.min=0.2591, iou.max=0.9057, iou.mean=0.5431\n",
      "[DEBUG] Head 0 | ps[..., 4].sigmoid().mean = 0.0030\n",
      "[DEBUG] Head 1 | iou.min=0.0782, iou.max=0.8491, iou.mean=0.4383\n",
      "[DEBUG] Head 1 | ps[..., 4].sigmoid().mean = 0.0069\n",
      "[DEBUG] Head 2 | iou.min=-0.0861, iou.max=0.7891, iou.mean=0.2585\n",
      "[DEBUG] Head 2 | ps[..., 4].sigmoid().mean = 0.0101\n",
      "[DEBUG] Head 0 | iou.min=0.1399, iou.max=0.8632, iou.mean=0.4442\n",
      "[DEBUG] Head 0 | ps[..., 4].sigmoid().mean = 0.0014\n",
      "[DEBUG] Head 1 | iou.min=0.1184, iou.max=0.8329, iou.mean=0.3787\n",
      "[DEBUG] Head 1 | ps[..., 4].sigmoid().mean = 0.0053\n",
      "[DEBUG] Head 2 | iou.min=-0.0380, iou.max=0.8708, iou.mean=0.3480\n",
      "[DEBUG] Head 2 | ps[..., 4].sigmoid().mean = 0.0088\n",
      "[DEBUG] Head 0 | iou.min=0.1093, iou.max=0.8956, iou.mean=0.4125\n",
      "[DEBUG] Head 0 | ps[..., 4].sigmoid().mean = 0.0028\n",
      "[DEBUG] Head 1 | iou.min=0.0470, iou.max=0.8993, iou.mean=0.3477\n",
      "[DEBUG] Head 1 | ps[..., 4].sigmoid().mean = 0.0079\n",
      "[DEBUG] Head 2 | iou.min=-0.1345, iou.max=0.7938, iou.mean=0.2761\n",
      "[DEBUG] Head 2 | ps[..., 4].sigmoid().mean = 0.0111\n",
      "[DEBUG] Head 0 | iou.min=0.2303, iou.max=0.7575, iou.mean=0.5210\n",
      "[DEBUG] Head 0 | ps[..., 4].sigmoid().mean = 0.0008\n",
      "[DEBUG] Head 1 | iou.min=0.0884, iou.max=0.7326, iou.mean=0.4993\n",
      "[DEBUG] Head 1 | ps[..., 4].sigmoid().mean = 0.0026\n",
      "[DEBUG] Head 2 | iou.min=0.0445, iou.max=0.7899, iou.mean=0.3581\n",
      "[DEBUG] Head 2 | ps[..., 4].sigmoid().mean = 0.0056\n",
      "[validate_yoloow_model] ✅  Avg Loss  (box/obj/cls/total): 0.0869 / 0.0555 / 0.2297 / 0.3721\n"
     ]
    },
    {
     "name": "stderr",
     "output_type": "stream",
     "text": [
      "[YoloOW] Epoch 12/30:   0%|          | 0/24 [00:00<?, ?it/s]"
     ]
    },
    {
     "name": "stdout",
     "output_type": "stream",
     "text": [
      "[DEBUG] Head 0 | iou.min=0.1637, iou.max=0.9368, iou.mean=0.4845\n",
      "[DEBUG] Head 0 | ps[..., 4].sigmoid().mean = 0.0039\n",
      "[DEBUG] Head 1 | iou.min=0.0647, iou.max=0.7599, iou.mean=0.3939\n",
      "[DEBUG] Head 1 | ps[..., 4].sigmoid().mean = 0.0080\n",
      "[DEBUG] Head 2 | iou.min=-0.1057, iou.max=0.8374, iou.mean=0.2546\n",
      "[DEBUG] Head 2 | ps[..., 4].sigmoid().mean = 0.0110\n"
     ]
    },
    {
     "name": "stderr",
     "output_type": "stream",
     "text": [
      "[YoloOW] Epoch 12/30:   4%|▍         | 1/24 [00:00<00:20,  1.14it/s]"
     ]
    },
    {
     "name": "stdout",
     "output_type": "stream",
     "text": [
      "[DEBUG] Head 0 | iou.min=0.1432, iou.max=0.9213, iou.mean=0.5927\n",
      "[DEBUG] Head 0 | ps[..., 4].sigmoid().mean = 0.0026\n",
      "[DEBUG] Head 1 | iou.min=0.0776, iou.max=0.9516, iou.mean=0.4986\n",
      "[DEBUG] Head 1 | ps[..., 4].sigmoid().mean = 0.0082\n",
      "[DEBUG] Head 2 | iou.min=-0.0375, iou.max=0.8711, iou.mean=0.3517\n",
      "[DEBUG] Head 2 | ps[..., 4].sigmoid().mean = 0.0099\n"
     ]
    },
    {
     "name": "stderr",
     "output_type": "stream",
     "text": [
      "[YoloOW] Epoch 12/30:   8%|▊         | 2/24 [00:01<00:19,  1.10it/s]"
     ]
    },
    {
     "name": "stdout",
     "output_type": "stream",
     "text": [
      "[DEBUG] Head 0 | iou.min=0.0935, iou.max=0.9473, iou.mean=0.4944\n",
      "[DEBUG] Head 0 | ps[..., 4].sigmoid().mean = 0.0038\n",
      "[DEBUG] Head 1 | iou.min=0.0640, iou.max=0.8303, iou.mean=0.4088\n",
      "[DEBUG] Head 1 | ps[..., 4].sigmoid().mean = 0.0082\n",
      "[DEBUG] Head 2 | iou.min=-0.0745, iou.max=0.8704, iou.mean=0.3089\n",
      "[DEBUG] Head 2 | ps[..., 4].sigmoid().mean = 0.0111\n"
     ]
    },
    {
     "name": "stderr",
     "output_type": "stream",
     "text": [
      "[YoloOW] Epoch 12/30:  12%|█▎        | 3/24 [00:02<00:18,  1.15it/s]"
     ]
    },
    {
     "name": "stdout",
     "output_type": "stream",
     "text": [
      "[DEBUG] Head 0 | iou.min=0.0996, iou.max=0.9141, iou.mean=0.4790\n",
      "[DEBUG] Head 0 | ps[..., 4].sigmoid().mean = 0.0066\n",
      "[DEBUG] Head 1 | iou.min=0.0503, iou.max=0.8982, iou.mean=0.4229\n",
      "[DEBUG] Head 1 | ps[..., 4].sigmoid().mean = 0.0134\n",
      "[DEBUG] Head 2 | iou.min=-0.0076, iou.max=0.9418, iou.mean=0.3210\n",
      "[DEBUG] Head 2 | ps[..., 4].sigmoid().mean = 0.0165\n"
     ]
    },
    {
     "name": "stderr",
     "output_type": "stream",
     "text": [
      "[YoloOW] Epoch 12/30:  17%|█▋        | 4/24 [00:03<00:17,  1.16it/s]"
     ]
    },
    {
     "name": "stdout",
     "output_type": "stream",
     "text": [
      "[DEBUG] Head 0 | iou.min=0.1387, iou.max=0.8860, iou.mean=0.5421\n",
      "[DEBUG] Head 0 | ps[..., 4].sigmoid().mean = 0.0058\n",
      "[DEBUG] Head 1 | iou.min=0.0558, iou.max=0.8841, iou.mean=0.4406\n",
      "[DEBUG] Head 1 | ps[..., 4].sigmoid().mean = 0.0122\n",
      "[DEBUG] Head 2 | iou.min=-0.0258, iou.max=0.8355, iou.mean=0.3298\n",
      "[DEBUG] Head 2 | ps[..., 4].sigmoid().mean = 0.0127\n"
     ]
    },
    {
     "name": "stderr",
     "output_type": "stream",
     "text": [
      "[YoloOW] Epoch 12/30:  21%|██        | 5/24 [00:04<00:16,  1.18it/s]"
     ]
    },
    {
     "name": "stdout",
     "output_type": "stream",
     "text": [
      "[DEBUG] Head 0 | iou.min=0.1462, iou.max=0.9481, iou.mean=0.5843\n",
      "[DEBUG] Head 0 | ps[..., 4].sigmoid().mean = 0.0060\n",
      "[DEBUG] Head 1 | iou.min=0.1364, iou.max=0.8564, iou.mean=0.5008\n",
      "[DEBUG] Head 1 | ps[..., 4].sigmoid().mean = 0.0078\n",
      "[DEBUG] Head 2 | iou.min=0.0490, iou.max=0.8355, iou.mean=0.3477\n",
      "[DEBUG] Head 2 | ps[..., 4].sigmoid().mean = 0.0078\n"
     ]
    },
    {
     "name": "stderr",
     "output_type": "stream",
     "text": [
      "[YoloOW] Epoch 12/30:  25%|██▌       | 6/24 [00:05<00:15,  1.18it/s]"
     ]
    },
    {
     "name": "stdout",
     "output_type": "stream",
     "text": [
      "[DEBUG] Head 0 | iou.min=0.1003, iou.max=0.8692, iou.mean=0.4634\n",
      "[DEBUG] Head 0 | ps[..., 4].sigmoid().mean = 0.0018\n",
      "[DEBUG] Head 1 | iou.min=0.0969, iou.max=0.9539, iou.mean=0.3878\n",
      "[DEBUG] Head 1 | ps[..., 4].sigmoid().mean = 0.0054\n",
      "[DEBUG] Head 2 | iou.min=-0.1057, iou.max=0.8542, iou.mean=0.3016\n",
      "[DEBUG] Head 2 | ps[..., 4].sigmoid().mean = 0.0075\n"
     ]
    },
    {
     "name": "stderr",
     "output_type": "stream",
     "text": [
      "[YoloOW] Epoch 12/30:  29%|██▉       | 7/24 [00:06<00:14,  1.16it/s]"
     ]
    },
    {
     "name": "stdout",
     "output_type": "stream",
     "text": [
      "[DEBUG] Head 0 | iou.min=0.1960, iou.max=0.8834, iou.mean=0.5363\n",
      "[DEBUG] Head 0 | ps[..., 4].sigmoid().mean = 0.0050\n",
      "[DEBUG] Head 1 | iou.min=0.0960, iou.max=0.8627, iou.mean=0.4378\n",
      "[DEBUG] Head 1 | ps[..., 4].sigmoid().mean = 0.0081\n",
      "[DEBUG] Head 2 | iou.min=-0.0450, iou.max=0.8032, iou.mean=0.2880\n",
      "[DEBUG] Head 2 | ps[..., 4].sigmoid().mean = 0.0112\n"
     ]
    },
    {
     "name": "stderr",
     "output_type": "stream",
     "text": [
      "[YoloOW] Epoch 12/30:  33%|███▎      | 8/24 [00:06<00:14,  1.12it/s]"
     ]
    },
    {
     "name": "stdout",
     "output_type": "stream",
     "text": [
      "[DEBUG] Head 0 | iou.min=0.1067, iou.max=0.8622, iou.mean=0.5551\n",
      "[DEBUG] Head 0 | ps[..., 4].sigmoid().mean = 0.0027\n",
      "[DEBUG] Head 1 | iou.min=0.1036, iou.max=0.8969, iou.mean=0.4781\n",
      "[DEBUG] Head 1 | ps[..., 4].sigmoid().mean = 0.0054\n",
      "[DEBUG] Head 2 | iou.min=0.0427, iou.max=0.8539, iou.mean=0.3536\n",
      "[DEBUG] Head 2 | ps[..., 4].sigmoid().mean = 0.0081\n"
     ]
    },
    {
     "name": "stderr",
     "output_type": "stream",
     "text": [
      "[YoloOW] Epoch 12/30:  38%|███▊      | 9/24 [00:08<00:14,  1.02it/s]"
     ]
    },
    {
     "name": "stdout",
     "output_type": "stream",
     "text": [
      "[DEBUG] Head 0 | iou.min=0.0842, iou.max=0.9508, iou.mean=0.3991\n",
      "[DEBUG] Head 0 | ps[..., 4].sigmoid().mean = 0.0068\n",
      "[DEBUG] Head 1 | iou.min=0.0398, iou.max=0.8582, iou.mean=0.3581\n",
      "[DEBUG] Head 1 | ps[..., 4].sigmoid().mean = 0.0082\n",
      "[DEBUG] Head 2 | iou.min=-0.0690, iou.max=0.8338, iou.mean=0.3106\n",
      "[DEBUG] Head 2 | ps[..., 4].sigmoid().mean = 0.0103\n"
     ]
    },
    {
     "name": "stderr",
     "output_type": "stream",
     "text": [
      "[YoloOW] Epoch 12/30:  42%|████▏     | 10/24 [00:09<00:13,  1.07it/s, Loss=6.1089, box=0.097, obj=0.053, cls=0.232, total loss=0.382, lr=0.000754]"
     ]
    },
    {
     "name": "stdout",
     "output_type": "stream",
     "text": [
      "[DEBUG] Head 0 | iou.min=0.1511, iou.max=0.8540, iou.mean=0.5551\n",
      "[DEBUG] Head 0 | ps[..., 4].sigmoid().mean = 0.0027\n",
      "[DEBUG] Head 1 | iou.min=0.0958, iou.max=0.8142, iou.mean=0.4686\n",
      "[DEBUG] Head 1 | ps[..., 4].sigmoid().mean = 0.0069\n",
      "[DEBUG] Head 2 | iou.min=0.0008, iou.max=0.7352, iou.mean=0.3309\n",
      "[DEBUG] Head 2 | ps[..., 4].sigmoid().mean = 0.0130\n"
     ]
    },
    {
     "name": "stderr",
     "output_type": "stream",
     "text": [
      "[YoloOW] Epoch 12/30:  46%|████▌     | 11/24 [00:09<00:11,  1.09it/s, Loss=6.1089, box=0.097, obj=0.053, cls=0.232, total loss=0.382, lr=0.000754]"
     ]
    },
    {
     "name": "stdout",
     "output_type": "stream",
     "text": [
      "[DEBUG] Head 0 | iou.min=0.1974, iou.max=0.9037, iou.mean=0.5559\n",
      "[DEBUG] Head 0 | ps[..., 4].sigmoid().mean = 0.0043\n",
      "[DEBUG] Head 1 | iou.min=0.1023, iou.max=0.8334, iou.mean=0.4626\n",
      "[DEBUG] Head 1 | ps[..., 4].sigmoid().mean = 0.0083\n",
      "[DEBUG] Head 2 | iou.min=0.0761, iou.max=0.8723, iou.mean=0.3824\n",
      "[DEBUG] Head 2 | ps[..., 4].sigmoid().mean = 0.0152\n"
     ]
    },
    {
     "name": "stderr",
     "output_type": "stream",
     "text": [
      "[YoloOW] Epoch 12/30:  50%|█████     | 12/24 [00:10<00:10,  1.10it/s, Loss=6.1089, box=0.097, obj=0.053, cls=0.232, total loss=0.382, lr=0.000754]"
     ]
    },
    {
     "name": "stdout",
     "output_type": "stream",
     "text": [
      "[DEBUG] Head 0 | iou.min=0.1391, iou.max=0.9076, iou.mean=0.4689\n",
      "[DEBUG] Head 0 | ps[..., 4].sigmoid().mean = 0.0091\n",
      "[DEBUG] Head 1 | iou.min=0.0702, iou.max=0.8356, iou.mean=0.4527\n",
      "[DEBUG] Head 1 | ps[..., 4].sigmoid().mean = 0.0098\n",
      "[DEBUG] Head 2 | iou.min=-0.0902, iou.max=0.8244, iou.mean=0.2563\n",
      "[DEBUG] Head 2 | ps[..., 4].sigmoid().mean = 0.0187\n"
     ]
    },
    {
     "name": "stderr",
     "output_type": "stream",
     "text": [
      "[YoloOW] Epoch 12/30:  54%|█████▍    | 13/24 [00:11<00:09,  1.11it/s, Loss=6.1089, box=0.097, obj=0.053, cls=0.232, total loss=0.382, lr=0.000754]"
     ]
    },
    {
     "name": "stdout",
     "output_type": "stream",
     "text": [
      "[DEBUG] Head 0 | iou.min=0.1080, iou.max=0.9540, iou.mean=0.4770\n",
      "[DEBUG] Head 0 | ps[..., 4].sigmoid().mean = 0.0057\n",
      "[DEBUG] Head 1 | iou.min=0.0960, iou.max=0.9093, iou.mean=0.4073\n",
      "[DEBUG] Head 1 | ps[..., 4].sigmoid().mean = 0.0124\n",
      "[DEBUG] Head 2 | iou.min=-0.0465, iou.max=0.8880, iou.mean=0.2945\n",
      "[DEBUG] Head 2 | ps[..., 4].sigmoid().mean = 0.0264\n"
     ]
    },
    {
     "name": "stderr",
     "output_type": "stream",
     "text": [
      "[YoloOW] Epoch 12/30:  58%|█████▊    | 14/24 [00:13<00:10,  1.05s/it, Loss=6.1089, box=0.097, obj=0.053, cls=0.232, total loss=0.382, lr=0.000754]"
     ]
    },
    {
     "name": "stdout",
     "output_type": "stream",
     "text": [
      "[DEBUG] Head 0 | iou.min=0.2290, iou.max=0.9282, iou.mean=0.5402\n",
      "[DEBUG] Head 0 | ps[..., 4].sigmoid().mean = 0.0024\n",
      "[DEBUG] Head 1 | iou.min=0.0967, iou.max=0.8726, iou.mean=0.4460\n",
      "[DEBUG] Head 1 | ps[..., 4].sigmoid().mean = 0.0080\n",
      "[DEBUG] Head 2 | iou.min=0.0065, iou.max=0.8469, iou.mean=0.3583\n",
      "[DEBUG] Head 2 | ps[..., 4].sigmoid().mean = 0.0181\n"
     ]
    },
    {
     "name": "stderr",
     "output_type": "stream",
     "text": [
      "[YoloOW] Epoch 12/30:  62%|██████▎   | 15/24 [00:13<00:09,  1.00s/it, Loss=6.1089, box=0.097, obj=0.053, cls=0.232, total loss=0.382, lr=0.000754]"
     ]
    },
    {
     "name": "stdout",
     "output_type": "stream",
     "text": [
      "[DEBUG] Head 0 | iou.min=0.1254, iou.max=0.8908, iou.mean=0.4593\n",
      "[DEBUG] Head 0 | ps[..., 4].sigmoid().mean = 0.0039\n",
      "[DEBUG] Head 1 | iou.min=0.0913, iou.max=0.8816, iou.mean=0.3864\n",
      "[DEBUG] Head 1 | ps[..., 4].sigmoid().mean = 0.0114\n",
      "[DEBUG] Head 2 | iou.min=-0.0685, iou.max=0.8234, iou.mean=0.3230\n",
      "[DEBUG] Head 2 | ps[..., 4].sigmoid().mean = 0.0187\n"
     ]
    },
    {
     "name": "stderr",
     "output_type": "stream",
     "text": [
      "[YoloOW] Epoch 12/30:  67%|██████▋   | 16/24 [00:14<00:07,  1.03it/s, Loss=6.1089, box=0.097, obj=0.053, cls=0.232, total loss=0.382, lr=0.000754]"
     ]
    },
    {
     "name": "stdout",
     "output_type": "stream",
     "text": [
      "[DEBUG] Head 0 | iou.min=0.1618, iou.max=0.9075, iou.mean=0.5001\n",
      "[DEBUG] Head 0 | ps[..., 4].sigmoid().mean = 0.0077\n",
      "[DEBUG] Head 1 | iou.min=0.0863, iou.max=0.9259, iou.mean=0.4016\n",
      "[DEBUG] Head 1 | ps[..., 4].sigmoid().mean = 0.0176\n",
      "[DEBUG] Head 2 | iou.min=-0.1300, iou.max=0.8399, iou.mean=0.3063\n",
      "[DEBUG] Head 2 | ps[..., 4].sigmoid().mean = 0.0196\n"
     ]
    },
    {
     "name": "stderr",
     "output_type": "stream",
     "text": [
      "[YoloOW] Epoch 12/30:  71%|███████   | 17/24 [00:15<00:06,  1.07it/s, Loss=6.1089, box=0.097, obj=0.053, cls=0.232, total loss=0.382, lr=0.000754]"
     ]
    },
    {
     "name": "stdout",
     "output_type": "stream",
     "text": [
      "[DEBUG] Head 0 | iou.min=0.2047, iou.max=0.9023, iou.mean=0.5689\n",
      "[DEBUG] Head 0 | ps[..., 4].sigmoid().mean = 0.0029\n",
      "[DEBUG] Head 1 | iou.min=0.1410, iou.max=0.8776, iou.mean=0.5097\n",
      "[DEBUG] Head 1 | ps[..., 4].sigmoid().mean = 0.0083\n",
      "[DEBUG] Head 2 | iou.min=-0.1096, iou.max=0.8118, iou.mean=0.3131\n",
      "[DEBUG] Head 2 | ps[..., 4].sigmoid().mean = 0.0127\n"
     ]
    },
    {
     "name": "stderr",
     "output_type": "stream",
     "text": [
      "[YoloOW] Epoch 12/30:  75%|███████▌  | 18/24 [00:16<00:05,  1.08it/s, Loss=6.1089, box=0.097, obj=0.053, cls=0.232, total loss=0.382, lr=0.000754]"
     ]
    },
    {
     "name": "stdout",
     "output_type": "stream",
     "text": [
      "[DEBUG] Head 0 | iou.min=0.1209, iou.max=0.9245, iou.mean=0.5630\n",
      "[DEBUG] Head 0 | ps[..., 4].sigmoid().mean = 0.0030\n",
      "[DEBUG] Head 1 | iou.min=0.1110, iou.max=0.8382, iou.mean=0.4753\n",
      "[DEBUG] Head 1 | ps[..., 4].sigmoid().mean = 0.0101\n",
      "[DEBUG] Head 2 | iou.min=0.0146, iou.max=0.7636, iou.mean=0.3459\n",
      "[DEBUG] Head 2 | ps[..., 4].sigmoid().mean = 0.0148\n"
     ]
    },
    {
     "name": "stderr",
     "output_type": "stream",
     "text": [
      "[YoloOW] Epoch 12/30:  79%|███████▉  | 19/24 [00:17<00:04,  1.09it/s, Loss=6.1089, box=0.097, obj=0.053, cls=0.232, total loss=0.382, lr=0.000754]"
     ]
    },
    {
     "name": "stdout",
     "output_type": "stream",
     "text": [
      "[DEBUG] Head 0 | iou.min=0.1109, iou.max=0.8702, iou.mean=0.4114\n",
      "[DEBUG] Head 0 | ps[..., 4].sigmoid().mean = 0.0027\n",
      "[DEBUG] Head 1 | iou.min=0.0698, iou.max=0.7863, iou.mean=0.3561\n",
      "[DEBUG] Head 1 | ps[..., 4].sigmoid().mean = 0.0090\n",
      "[DEBUG] Head 2 | iou.min=-0.1585, iou.max=0.8938, iou.mean=0.2983\n",
      "[DEBUG] Head 2 | ps[..., 4].sigmoid().mean = 0.0150\n"
     ]
    },
    {
     "name": "stderr",
     "output_type": "stream",
     "text": [
      "[YoloOW] Epoch 12/30:  83%|████████▎ | 20/24 [00:18<00:03,  1.11it/s, Loss=5.9742, box=0.097, obj=0.054, cls=0.223, total loss=0.373, lr=0.000754]"
     ]
    },
    {
     "name": "stdout",
     "output_type": "stream",
     "text": [
      "[DEBUG] Head 0 | iou.min=0.1164, iou.max=0.8951, iou.mean=0.5143\n",
      "[DEBUG] Head 0 | ps[..., 4].sigmoid().mean = 0.0019\n",
      "[DEBUG] Head 1 | iou.min=0.1195, iou.max=0.8888, iou.mean=0.4568\n",
      "[DEBUG] Head 1 | ps[..., 4].sigmoid().mean = 0.0074\n",
      "[DEBUG] Head 2 | iou.min=-0.0894, iou.max=0.8517, iou.mean=0.3293\n",
      "[DEBUG] Head 2 | ps[..., 4].sigmoid().mean = 0.0131\n"
     ]
    },
    {
     "name": "stderr",
     "output_type": "stream",
     "text": [
      "[YoloOW] Epoch 12/30:  88%|████████▊ | 21/24 [00:19<00:02,  1.12it/s, Loss=5.9742, box=0.097, obj=0.054, cls=0.223, total loss=0.373, lr=0.000754]"
     ]
    },
    {
     "name": "stdout",
     "output_type": "stream",
     "text": [
      "[DEBUG] Head 0 | iou.min=0.0913, iou.max=0.9350, iou.mean=0.4423\n",
      "[DEBUG] Head 0 | ps[..., 4].sigmoid().mean = 0.0014\n",
      "[DEBUG] Head 1 | iou.min=0.0944, iou.max=0.8723, iou.mean=0.3819\n",
      "[DEBUG] Head 1 | ps[..., 4].sigmoid().mean = 0.0068\n",
      "[DEBUG] Head 2 | iou.min=-0.0809, iou.max=0.9392, iou.mean=0.3415\n",
      "[DEBUG] Head 2 | ps[..., 4].sigmoid().mean = 0.0125\n"
     ]
    },
    {
     "name": "stderr",
     "output_type": "stream",
     "text": [
      "[YoloOW] Epoch 12/30:  92%|█████████▏| 22/24 [00:20<00:01,  1.11it/s, Loss=5.9742, box=0.097, obj=0.054, cls=0.223, total loss=0.373, lr=0.000754]"
     ]
    },
    {
     "name": "stdout",
     "output_type": "stream",
     "text": [
      "[DEBUG] Head 0 | iou.min=0.1413, iou.max=0.8944, iou.mean=0.4775\n",
      "[DEBUG] Head 0 | ps[..., 4].sigmoid().mean = 0.0019\n",
      "[DEBUG] Head 1 | iou.min=0.1306, iou.max=0.9071, iou.mean=0.4128\n",
      "[DEBUG] Head 1 | ps[..., 4].sigmoid().mean = 0.0062\n",
      "[DEBUG] Head 2 | iou.min=-0.1006, iou.max=0.8253, iou.mean=0.3240\n",
      "[DEBUG] Head 2 | ps[..., 4].sigmoid().mean = 0.0121\n"
     ]
    },
    {
     "name": "stderr",
     "output_type": "stream",
     "text": [
      "[YoloOW] Epoch 12/30:  96%|█████████▌| 23/24 [00:21<00:00,  1.10it/s, Loss=5.9742, box=0.097, obj=0.054, cls=0.223, total loss=0.373, lr=0.000754]"
     ]
    },
    {
     "name": "stdout",
     "output_type": "stream",
     "text": [
      "[DEBUG] Head 0 | iou.min=0.1593, iou.max=0.8868, iou.mean=0.5463\n",
      "[DEBUG] Head 0 | ps[..., 4].sigmoid().mean = 0.0022\n",
      "[DEBUG] Head 1 | iou.min=0.0956, iou.max=0.8272, iou.mean=0.4503\n",
      "[DEBUG] Head 1 | ps[..., 4].sigmoid().mean = 0.0078\n",
      "[DEBUG] Head 2 | iou.min=-0.1379, iou.max=0.7444, iou.mean=0.2914\n",
      "[DEBUG] Head 2 | ps[..., 4].sigmoid().mean = 0.0129\n"
     ]
    },
    {
     "name": "stderr",
     "output_type": "stream",
     "text": [
      "[YoloOW] Epoch 12/30: 100%|██████████| 24/24 [00:22<00:00,  1.09it/s, Loss=5.4837, box=0.086, obj=0.048, cls=0.209, total loss=0.343, lr=0.000754]\n"
     ]
    },
    {
     "name": "stdout",
     "output_type": "stream",
     "text": [
      "\n",
      "[YoloOW] ✅ Epoch 12/30 complete in 22.02s | Avg Loss: 5.7812\n",
      "\n",
      "[YoloOW] 📊 Running evaluation after epoch 12 ...\n",
      "[DEBUG] Head 0 | iou.min=0.2116, iou.max=0.9283, iou.mean=0.5446\n",
      "[DEBUG] Head 0 | ps[..., 4].sigmoid().mean = 0.0021\n",
      "[DEBUG] Head 1 | iou.min=0.1080, iou.max=0.8566, iou.mean=0.4647\n",
      "[DEBUG] Head 1 | ps[..., 4].sigmoid().mean = 0.0069\n",
      "[DEBUG] Head 2 | iou.min=-0.1028, iou.max=0.8080, iou.mean=0.3109\n",
      "[DEBUG] Head 2 | ps[..., 4].sigmoid().mean = 0.0121\n",
      "[DEBUG] Head 0 | iou.min=0.1430, iou.max=0.9271, iou.mean=0.4935\n",
      "[DEBUG] Head 0 | ps[..., 4].sigmoid().mean = 0.0016\n",
      "[DEBUG] Head 1 | iou.min=0.0569, iou.max=0.9376, iou.mean=0.4110\n",
      "[DEBUG] Head 1 | ps[..., 4].sigmoid().mean = 0.0061\n",
      "[DEBUG] Head 2 | iou.min=-0.1383, iou.max=0.8427, iou.mean=0.3026\n",
      "[DEBUG] Head 2 | ps[..., 4].sigmoid().mean = 0.0122\n",
      "[DEBUG] Head 0 | iou.min=0.1411, iou.max=0.9262, iou.mean=0.4893\n",
      "[DEBUG] Head 0 | ps[..., 4].sigmoid().mean = 0.0017\n",
      "[DEBUG] Head 1 | iou.min=0.0383, iou.max=0.9079, iou.mean=0.4404\n",
      "[DEBUG] Head 1 | ps[..., 4].sigmoid().mean = 0.0060\n",
      "[DEBUG] Head 2 | iou.min=-0.1474, iou.max=0.8471, iou.mean=0.2806\n",
      "[DEBUG] Head 2 | ps[..., 4].sigmoid().mean = 0.0117\n",
      "[DEBUG] Head 0 | iou.min=0.2056, iou.max=0.8490, iou.mean=0.5695\n",
      "[DEBUG] Head 0 | ps[..., 4].sigmoid().mean = 0.0016\n",
      "[DEBUG] Head 1 | iou.min=0.0789, iou.max=0.8288, iou.mean=0.4688\n",
      "[DEBUG] Head 1 | ps[..., 4].sigmoid().mean = 0.0058\n",
      "[DEBUG] Head 2 | iou.min=-0.1065, iou.max=0.7629, iou.mean=0.2989\n",
      "[DEBUG] Head 2 | ps[..., 4].sigmoid().mean = 0.0108\n",
      "[DEBUG] Head 0 | iou.min=0.2059, iou.max=0.9021, iou.mean=0.6021\n",
      "[DEBUG] Head 0 | ps[..., 4].sigmoid().mean = 0.0023\n",
      "[DEBUG] Head 1 | iou.min=0.1738, iou.max=0.8642, iou.mean=0.5134\n",
      "[DEBUG] Head 1 | ps[..., 4].sigmoid().mean = 0.0076\n",
      "[DEBUG] Head 2 | iou.min=0.0092, iou.max=0.8302, iou.mean=0.3555\n",
      "[DEBUG] Head 2 | ps[..., 4].sigmoid().mean = 0.0121\n",
      "[DEBUG] Head 0 | iou.min=0.1783, iou.max=0.9051, iou.mean=0.5321\n",
      "[DEBUG] Head 0 | ps[..., 4].sigmoid().mean = 0.0022\n",
      "[DEBUG] Head 1 | iou.min=0.0673, iou.max=0.8167, iou.mean=0.4448\n",
      "[DEBUG] Head 1 | ps[..., 4].sigmoid().mean = 0.0073\n",
      "[DEBUG] Head 2 | iou.min=-0.1917, iou.max=0.7229, iou.mean=0.2772\n",
      "[DEBUG] Head 2 | ps[..., 4].sigmoid().mean = 0.0117\n",
      "[DEBUG] Head 0 | iou.min=0.1197, iou.max=0.9477, iou.mean=0.4419\n",
      "[DEBUG] Head 0 | ps[..., 4].sigmoid().mean = 0.0010\n",
      "[DEBUG] Head 1 | iou.min=0.0689, iou.max=0.8793, iou.mean=0.3936\n",
      "[DEBUG] Head 1 | ps[..., 4].sigmoid().mean = 0.0043\n",
      "[DEBUG] Head 2 | iou.min=-0.1565, iou.max=0.8545, iou.mean=0.3059\n",
      "[DEBUG] Head 2 | ps[..., 4].sigmoid().mean = 0.0107\n",
      "[DEBUG] Head 0 | iou.min=0.0819, iou.max=0.9390, iou.mean=0.3940\n",
      "[DEBUG] Head 0 | ps[..., 4].sigmoid().mean = 0.0022\n",
      "[DEBUG] Head 1 | iou.min=0.0481, iou.max=0.8550, iou.mean=0.3299\n",
      "[DEBUG] Head 1 | ps[..., 4].sigmoid().mean = 0.0074\n",
      "[DEBUG] Head 2 | iou.min=-0.1779, iou.max=0.8188, iou.mean=0.2455\n",
      "[DEBUG] Head 2 | ps[..., 4].sigmoid().mean = 0.0127\n",
      "[DEBUG] Head 0 | iou.min=0.3349, iou.max=0.7733, iou.mean=0.5159\n",
      "[DEBUG] Head 0 | ps[..., 4].sigmoid().mean = 0.0004\n",
      "[DEBUG] Head 1 | iou.min=0.0651, iou.max=0.7189, iou.mean=0.4763\n",
      "[DEBUG] Head 1 | ps[..., 4].sigmoid().mean = 0.0024\n",
      "[DEBUG] Head 2 | iou.min=-0.0892, iou.max=0.8649, iou.mean=0.2311\n",
      "[DEBUG] Head 2 | ps[..., 4].sigmoid().mean = 0.0079\n",
      "[validate_yoloow_model] ✅  Avg Loss  (box/obj/cls/total): 0.0881 / 0.0537 / 0.2251 / 0.3670\n"
     ]
    },
    {
     "name": "stderr",
     "output_type": "stream",
     "text": [
      "[YoloOW] Epoch 13/30:   0%|          | 0/24 [00:00<?, ?it/s]"
     ]
    },
    {
     "name": "stdout",
     "output_type": "stream",
     "text": [
      "[DEBUG] Head 0 | iou.min=0.1508, iou.max=0.8527, iou.mean=0.5263\n",
      "[DEBUG] Head 0 | ps[..., 4].sigmoid().mean = 0.0036\n",
      "[DEBUG] Head 1 | iou.min=0.0745, iou.max=0.8773, iou.mean=0.4674\n",
      "[DEBUG] Head 1 | ps[..., 4].sigmoid().mean = 0.0087\n",
      "[DEBUG] Head 2 | iou.min=-0.1203, iou.max=0.8518, iou.mean=0.3140\n",
      "[DEBUG] Head 2 | ps[..., 4].sigmoid().mean = 0.0129\n"
     ]
    },
    {
     "name": "stderr",
     "output_type": "stream",
     "text": [
      "[YoloOW] Epoch 13/30:   4%|▍         | 1/24 [00:00<00:22,  1.04it/s]"
     ]
    },
    {
     "name": "stdout",
     "output_type": "stream",
     "text": [
      "[DEBUG] Head 0 | iou.min=0.0925, iou.max=0.9421, iou.mean=0.4451\n",
      "[DEBUG] Head 0 | ps[..., 4].sigmoid().mean = 0.0031\n",
      "[DEBUG] Head 1 | iou.min=0.0527, iou.max=0.8042, iou.mean=0.3629\n",
      "[DEBUG] Head 1 | ps[..., 4].sigmoid().mean = 0.0062\n",
      "[DEBUG] Head 2 | iou.min=-0.1238, iou.max=0.8293, iou.mean=0.2608\n",
      "[DEBUG] Head 2 | ps[..., 4].sigmoid().mean = 0.0098\n"
     ]
    },
    {
     "name": "stderr",
     "output_type": "stream",
     "text": [
      "[YoloOW] Epoch 13/30:   8%|▊         | 2/24 [00:01<00:20,  1.07it/s]"
     ]
    },
    {
     "name": "stdout",
     "output_type": "stream",
     "text": [
      "[DEBUG] Head 0 | iou.min=0.1794, iou.max=0.8801, iou.mean=0.5571\n",
      "[DEBUG] Head 0 | ps[..., 4].sigmoid().mean = 0.0060\n",
      "[DEBUG] Head 1 | iou.min=0.0578, iou.max=0.8139, iou.mean=0.5033\n",
      "[DEBUG] Head 1 | ps[..., 4].sigmoid().mean = 0.0096\n",
      "[DEBUG] Head 2 | iou.min=-0.0117, iou.max=0.8336, iou.mean=0.3012\n",
      "[DEBUG] Head 2 | ps[..., 4].sigmoid().mean = 0.0120\n"
     ]
    },
    {
     "name": "stderr",
     "output_type": "stream",
     "text": [
      "[YoloOW] Epoch 13/30:  12%|█▎        | 3/24 [00:02<00:21,  1.02s/it]"
     ]
    },
    {
     "name": "stdout",
     "output_type": "stream",
     "text": [
      "[DEBUG] Head 0 | iou.min=0.1247, iou.max=0.8993, iou.mean=0.5967\n",
      "[DEBUG] Head 0 | ps[..., 4].sigmoid().mean = 0.0030\n",
      "[DEBUG] Head 1 | iou.min=0.0930, iou.max=0.9415, iou.mean=0.4998\n",
      "[DEBUG] Head 1 | ps[..., 4].sigmoid().mean = 0.0076\n",
      "[DEBUG] Head 2 | iou.min=-0.1148, iou.max=0.7803, iou.mean=0.3350\n",
      "[DEBUG] Head 2 | ps[..., 4].sigmoid().mean = 0.0121\n"
     ]
    },
    {
     "name": "stderr",
     "output_type": "stream",
     "text": [
      "[YoloOW] Epoch 13/30:  17%|█▋        | 4/24 [00:04<00:20,  1.04s/it]"
     ]
    },
    {
     "name": "stdout",
     "output_type": "stream",
     "text": [
      "[DEBUG] Head 0 | iou.min=0.1479, iou.max=0.8834, iou.mean=0.4590\n",
      "[DEBUG] Head 0 | ps[..., 4].sigmoid().mean = 0.0043\n",
      "[DEBUG] Head 1 | iou.min=0.1147, iou.max=0.9066, iou.mean=0.4051\n",
      "[DEBUG] Head 1 | ps[..., 4].sigmoid().mean = 0.0094\n",
      "[DEBUG] Head 2 | iou.min=-0.0689, iou.max=0.8080, iou.mean=0.2699\n",
      "[DEBUG] Head 2 | ps[..., 4].sigmoid().mean = 0.0120\n"
     ]
    },
    {
     "name": "stderr",
     "output_type": "stream",
     "text": [
      "[YoloOW] Epoch 13/30:  21%|██        | 5/24 [00:05<00:19,  1.02s/it]"
     ]
    },
    {
     "name": "stdout",
     "output_type": "stream",
     "text": [
      "[DEBUG] Head 0 | iou.min=0.1074, iou.max=0.8733, iou.mean=0.4782\n",
      "[DEBUG] Head 0 | ps[..., 4].sigmoid().mean = 0.0022\n",
      "[DEBUG] Head 1 | iou.min=0.0637, iou.max=0.8977, iou.mean=0.4206\n",
      "[DEBUG] Head 1 | ps[..., 4].sigmoid().mean = 0.0059\n",
      "[DEBUG] Head 2 | iou.min=-0.0307, iou.max=0.9341, iou.mean=0.3860\n",
      "[DEBUG] Head 2 | ps[..., 4].sigmoid().mean = 0.0092\n"
     ]
    },
    {
     "name": "stderr",
     "output_type": "stream",
     "text": [
      "[YoloOW] Epoch 13/30:  25%|██▌       | 6/24 [00:06<00:20,  1.12s/it]"
     ]
    },
    {
     "name": "stdout",
     "output_type": "stream",
     "text": [
      "[DEBUG] Head 0 | iou.min=0.1943, iou.max=0.9134, iou.mean=0.5272\n",
      "[DEBUG] Head 0 | ps[..., 4].sigmoid().mean = 0.0129\n",
      "[DEBUG] Head 1 | iou.min=0.0559, iou.max=0.8057, iou.mean=0.4383\n",
      "[DEBUG] Head 1 | ps[..., 4].sigmoid().mean = 0.0118\n",
      "[DEBUG] Head 2 | iou.min=-0.1436, iou.max=0.8477, iou.mean=0.2647\n",
      "[DEBUG] Head 2 | ps[..., 4].sigmoid().mean = 0.0111\n"
     ]
    },
    {
     "name": "stderr",
     "output_type": "stream",
     "text": [
      "[YoloOW] Epoch 13/30:  29%|██▉       | 7/24 [00:07<00:18,  1.09s/it]"
     ]
    },
    {
     "name": "stdout",
     "output_type": "stream",
     "text": [
      "[DEBUG] Head 0 | iou.min=0.1419, iou.max=0.8909, iou.mean=0.5611\n",
      "[DEBUG] Head 0 | ps[..., 4].sigmoid().mean = 0.0039\n",
      "[DEBUG] Head 1 | iou.min=0.0979, iou.max=0.8928, iou.mean=0.4987\n",
      "[DEBUG] Head 1 | ps[..., 4].sigmoid().mean = 0.0088\n",
      "[DEBUG] Head 2 | iou.min=-0.0163, iou.max=0.8247, iou.mean=0.3473\n",
      "[DEBUG] Head 2 | ps[..., 4].sigmoid().mean = 0.0109\n"
     ]
    },
    {
     "name": "stderr",
     "output_type": "stream",
     "text": [
      "[YoloOW] Epoch 13/30:  33%|███▎      | 8/24 [00:08<00:17,  1.10s/it]"
     ]
    },
    {
     "name": "stdout",
     "output_type": "stream",
     "text": [
      "[DEBUG] Head 0 | iou.min=0.1327, iou.max=0.8434, iou.mean=0.5257\n",
      "[DEBUG] Head 0 | ps[..., 4].sigmoid().mean = 0.0026\n",
      "[DEBUG] Head 1 | iou.min=0.0776, iou.max=0.8855, iou.mean=0.4715\n",
      "[DEBUG] Head 1 | ps[..., 4].sigmoid().mean = 0.0061\n",
      "[DEBUG] Head 2 | iou.min=-0.0608, iou.max=0.7814, iou.mean=0.3224\n",
      "[DEBUG] Head 2 | ps[..., 4].sigmoid().mean = 0.0091\n"
     ]
    },
    {
     "name": "stderr",
     "output_type": "stream",
     "text": [
      "[YoloOW] Epoch 13/30:  38%|███▊      | 9/24 [00:09<00:17,  1.17s/it]"
     ]
    },
    {
     "name": "stdout",
     "output_type": "stream",
     "text": [
      "[DEBUG] Head 0 | iou.min=0.0924, iou.max=0.8821, iou.mean=0.5115\n",
      "[DEBUG] Head 0 | ps[..., 4].sigmoid().mean = 0.0033\n",
      "[DEBUG] Head 1 | iou.min=0.0620, iou.max=0.8452, iou.mean=0.4358\n",
      "[DEBUG] Head 1 | ps[..., 4].sigmoid().mean = 0.0067\n",
      "[DEBUG] Head 2 | iou.min=0.0426, iou.max=0.8526, iou.mean=0.3871\n",
      "[DEBUG] Head 2 | ps[..., 4].sigmoid().mean = 0.0094\n"
     ]
    },
    {
     "name": "stderr",
     "output_type": "stream",
     "text": [
      "[YoloOW] Epoch 13/30:  42%|████▏     | 10/24 [00:10<00:14,  1.07s/it, Loss=5.5657, box=0.083, obj=0.060, cls=0.205, total loss=0.348, lr=0.000702]"
     ]
    },
    {
     "name": "stdout",
     "output_type": "stream",
     "text": [
      "[DEBUG] Head 0 | iou.min=0.1144, iou.max=0.8328, iou.mean=0.4141\n",
      "[DEBUG] Head 0 | ps[..., 4].sigmoid().mean = 0.0069\n",
      "[DEBUG] Head 1 | iou.min=0.0664, iou.max=0.9095, iou.mean=0.3855\n",
      "[DEBUG] Head 1 | ps[..., 4].sigmoid().mean = 0.0066\n",
      "[DEBUG] Head 2 | iou.min=-0.1171, iou.max=0.8840, iou.mean=0.3227\n",
      "[DEBUG] Head 2 | ps[..., 4].sigmoid().mean = 0.0100\n"
     ]
    },
    {
     "name": "stderr",
     "output_type": "stream",
     "text": [
      "[YoloOW] Epoch 13/30:  46%|████▌     | 11/24 [00:12<00:14,  1.15s/it, Loss=5.5657, box=0.083, obj=0.060, cls=0.205, total loss=0.348, lr=0.000702]"
     ]
    },
    {
     "name": "stdout",
     "output_type": "stream",
     "text": [
      "[DEBUG] Head 0 | iou.min=0.1063, iou.max=0.8731, iou.mean=0.5011\n",
      "[DEBUG] Head 0 | ps[..., 4].sigmoid().mean = 0.0014\n",
      "[DEBUG] Head 1 | iou.min=0.0762, iou.max=0.9229, iou.mean=0.4207\n",
      "[DEBUG] Head 1 | ps[..., 4].sigmoid().mean = 0.0042\n",
      "[DEBUG] Head 2 | iou.min=0.0281, iou.max=0.9028, iou.mean=0.3581\n",
      "[DEBUG] Head 2 | ps[..., 4].sigmoid().mean = 0.0085\n"
     ]
    },
    {
     "name": "stderr",
     "output_type": "stream",
     "text": [
      "[YoloOW] Epoch 13/30:  50%|█████     | 12/24 [00:13<00:14,  1.21s/it, Loss=5.5657, box=0.083, obj=0.060, cls=0.205, total loss=0.348, lr=0.000702]"
     ]
    },
    {
     "name": "stdout",
     "output_type": "stream",
     "text": [
      "[DEBUG] Head 0 | iou.min=0.0841, iou.max=0.8820, iou.mean=0.3784\n",
      "[DEBUG] Head 0 | ps[..., 4].sigmoid().mean = 0.0062\n",
      "[DEBUG] Head 1 | iou.min=-0.0204, iou.max=0.8489, iou.mean=0.3456\n",
      "[DEBUG] Head 1 | ps[..., 4].sigmoid().mean = 0.0072\n",
      "[DEBUG] Head 2 | iou.min=-0.0819, iou.max=0.9039, iou.mean=0.2924\n",
      "[DEBUG] Head 2 | ps[..., 4].sigmoid().mean = 0.0142\n"
     ]
    },
    {
     "name": "stderr",
     "output_type": "stream",
     "text": [
      "[YoloOW] Epoch 13/30:  54%|█████▍    | 13/24 [00:14<00:13,  1.25s/it, Loss=5.5657, box=0.083, obj=0.060, cls=0.205, total loss=0.348, lr=0.000702]"
     ]
    },
    {
     "name": "stdout",
     "output_type": "stream",
     "text": [
      "[DEBUG] Head 0 | iou.min=0.1383, iou.max=0.9464, iou.mean=0.4854\n",
      "[DEBUG] Head 0 | ps[..., 4].sigmoid().mean = 0.0048\n",
      "[DEBUG] Head 1 | iou.min=0.1008, iou.max=0.8496, iou.mean=0.4266\n",
      "[DEBUG] Head 1 | ps[..., 4].sigmoid().mean = 0.0065\n",
      "[DEBUG] Head 2 | iou.min=-0.0587, iou.max=0.8403, iou.mean=0.3034\n",
      "[DEBUG] Head 2 | ps[..., 4].sigmoid().mean = 0.0133\n"
     ]
    },
    {
     "name": "stderr",
     "output_type": "stream",
     "text": [
      "[YoloOW] Epoch 13/30:  58%|█████▊    | 14/24 [00:16<00:12,  1.28s/it, Loss=5.5657, box=0.083, obj=0.060, cls=0.205, total loss=0.348, lr=0.000702]"
     ]
    },
    {
     "name": "stdout",
     "output_type": "stream",
     "text": [
      "[DEBUG] Head 0 | iou.min=0.1520, iou.max=0.8588, iou.mean=0.5578\n",
      "[DEBUG] Head 0 | ps[..., 4].sigmoid().mean = 0.0013\n",
      "[DEBUG] Head 1 | iou.min=0.0983, iou.max=0.8709, iou.mean=0.4561\n",
      "[DEBUG] Head 1 | ps[..., 4].sigmoid().mean = 0.0046\n",
      "[DEBUG] Head 2 | iou.min=0.0217, iou.max=0.9123, iou.mean=0.3468\n",
      "[DEBUG] Head 2 | ps[..., 4].sigmoid().mean = 0.0119\n"
     ]
    },
    {
     "name": "stderr",
     "output_type": "stream",
     "text": [
      "[YoloOW] Epoch 13/30:  62%|██████▎   | 15/24 [00:17<00:11,  1.30s/it, Loss=5.5657, box=0.083, obj=0.060, cls=0.205, total loss=0.348, lr=0.000702]"
     ]
    },
    {
     "name": "stdout",
     "output_type": "stream",
     "text": [
      "[DEBUG] Head 0 | iou.min=0.1603, iou.max=0.9285, iou.mean=0.5535\n",
      "[DEBUG] Head 0 | ps[..., 4].sigmoid().mean = 0.0012\n",
      "[DEBUG] Head 1 | iou.min=0.1708, iou.max=0.9594, iou.mean=0.4688\n",
      "[DEBUG] Head 1 | ps[..., 4].sigmoid().mean = 0.0046\n",
      "[DEBUG] Head 2 | iou.min=0.0199, iou.max=0.8501, iou.mean=0.3589\n",
      "[DEBUG] Head 2 | ps[..., 4].sigmoid().mean = 0.0110\n"
     ]
    },
    {
     "name": "stderr",
     "output_type": "stream",
     "text": [
      "[YoloOW] Epoch 13/30:  67%|██████▋   | 16/24 [00:18<00:10,  1.31s/it, Loss=5.5657, box=0.083, obj=0.060, cls=0.205, total loss=0.348, lr=0.000702]"
     ]
    },
    {
     "name": "stdout",
     "output_type": "stream",
     "text": [
      "[DEBUG] Head 0 | iou.min=0.0766, iou.max=0.9288, iou.mean=0.4687\n",
      "[DEBUG] Head 0 | ps[..., 4].sigmoid().mean = 0.0051\n",
      "[DEBUG] Head 1 | iou.min=0.0303, iou.max=0.8805, iou.mean=0.4169\n",
      "[DEBUG] Head 1 | ps[..., 4].sigmoid().mean = 0.0076\n",
      "[DEBUG] Head 2 | iou.min=-0.0683, iou.max=0.7971, iou.mean=0.2977\n",
      "[DEBUG] Head 2 | ps[..., 4].sigmoid().mean = 0.0149\n"
     ]
    },
    {
     "name": "stderr",
     "output_type": "stream",
     "text": [
      "[YoloOW] Epoch 13/30:  71%|███████   | 17/24 [00:20<00:09,  1.30s/it, Loss=5.5657, box=0.083, obj=0.060, cls=0.205, total loss=0.348, lr=0.000702]"
     ]
    },
    {
     "name": "stdout",
     "output_type": "stream",
     "text": [
      "[DEBUG] Head 0 | iou.min=0.0831, iou.max=0.9245, iou.mean=0.4984\n",
      "[DEBUG] Head 0 | ps[..., 4].sigmoid().mean = 0.0021\n",
      "[DEBUG] Head 1 | iou.min=0.0732, iou.max=0.8731, iou.mean=0.4116\n",
      "[DEBUG] Head 1 | ps[..., 4].sigmoid().mean = 0.0058\n",
      "[DEBUG] Head 2 | iou.min=-0.0998, iou.max=0.8058, iou.mean=0.3448\n",
      "[DEBUG] Head 2 | ps[..., 4].sigmoid().mean = 0.0116\n"
     ]
    },
    {
     "name": "stderr",
     "output_type": "stream",
     "text": [
      "[YoloOW] Epoch 13/30:  75%|███████▌  | 18/24 [00:21<00:07,  1.29s/it, Loss=5.5657, box=0.083, obj=0.060, cls=0.205, total loss=0.348, lr=0.000702]"
     ]
    },
    {
     "name": "stdout",
     "output_type": "stream",
     "text": [
      "[DEBUG] Head 0 | iou.min=0.1532, iou.max=0.8872, iou.mean=0.5391\n",
      "[DEBUG] Head 0 | ps[..., 4].sigmoid().mean = 0.0069\n",
      "[DEBUG] Head 1 | iou.min=0.0905, iou.max=0.8417, iou.mean=0.4441\n",
      "[DEBUG] Head 1 | ps[..., 4].sigmoid().mean = 0.0074\n",
      "[DEBUG] Head 2 | iou.min=0.0050, iou.max=0.6975, iou.mean=0.3083\n",
      "[DEBUG] Head 2 | ps[..., 4].sigmoid().mean = 0.0121\n"
     ]
    },
    {
     "name": "stderr",
     "output_type": "stream",
     "text": [
      "[YoloOW] Epoch 13/30:  79%|███████▉  | 19/24 [00:22<00:05,  1.16s/it, Loss=5.5657, box=0.083, obj=0.060, cls=0.205, total loss=0.348, lr=0.000702]"
     ]
    },
    {
     "name": "stdout",
     "output_type": "stream",
     "text": [
      "[DEBUG] Head 0 | iou.min=0.0756, iou.max=0.9121, iou.mean=0.5059\n",
      "[DEBUG] Head 0 | ps[..., 4].sigmoid().mean = 0.0076\n",
      "[DEBUG] Head 1 | iou.min=0.0555, iou.max=0.9124, iou.mean=0.4651\n",
      "[DEBUG] Head 1 | ps[..., 4].sigmoid().mean = 0.0095\n",
      "[DEBUG] Head 2 | iou.min=-0.0887, iou.max=0.9097, iou.mean=0.3757\n",
      "[DEBUG] Head 2 | ps[..., 4].sigmoid().mean = 0.0146\n"
     ]
    },
    {
     "name": "stderr",
     "output_type": "stream",
     "text": [
      "[YoloOW] Epoch 13/30:  83%|████████▎ | 20/24 [00:23<00:05,  1.30s/it, Loss=5.2006, box=0.083, obj=0.058, cls=0.185, total loss=0.325, lr=0.000702]"
     ]
    },
    {
     "name": "stdout",
     "output_type": "stream",
     "text": [
      "[DEBUG] Head 0 | iou.min=0.0898, iou.max=0.9058, iou.mean=0.5038\n",
      "[DEBUG] Head 0 | ps[..., 4].sigmoid().mean = 0.0106\n",
      "[DEBUG] Head 1 | iou.min=0.0800, iou.max=0.8908, iou.mean=0.4395\n",
      "[DEBUG] Head 1 | ps[..., 4].sigmoid().mean = 0.0080\n",
      "[DEBUG] Head 2 | iou.min=-0.0831, iou.max=0.8664, iou.mean=0.3548\n",
      "[DEBUG] Head 2 | ps[..., 4].sigmoid().mean = 0.0098\n"
     ]
    },
    {
     "name": "stderr",
     "output_type": "stream",
     "text": [
      "[YoloOW] Epoch 13/30:  88%|████████▊ | 21/24 [00:24<00:03,  1.28s/it, Loss=5.2006, box=0.083, obj=0.058, cls=0.185, total loss=0.325, lr=0.000702]"
     ]
    },
    {
     "name": "stdout",
     "output_type": "stream",
     "text": [
      "[DEBUG] Head 0 | iou.min=0.1977, iou.max=0.8627, iou.mean=0.5975\n",
      "[DEBUG] Head 0 | ps[..., 4].sigmoid().mean = 0.0059\n",
      "[DEBUG] Head 1 | iou.min=0.1325, iou.max=0.9074, iou.mean=0.4934\n",
      "[DEBUG] Head 1 | ps[..., 4].sigmoid().mean = 0.0106\n",
      "[DEBUG] Head 2 | iou.min=-0.0321, iou.max=0.9023, iou.mean=0.3845\n",
      "[DEBUG] Head 2 | ps[..., 4].sigmoid().mean = 0.0156\n"
     ]
    },
    {
     "name": "stderr",
     "output_type": "stream",
     "text": [
      "[YoloOW] Epoch 13/30:  92%|█████████▏| 22/24 [00:26<00:02,  1.24s/it, Loss=5.2006, box=0.083, obj=0.058, cls=0.185, total loss=0.325, lr=0.000702]"
     ]
    },
    {
     "name": "stdout",
     "output_type": "stream",
     "text": [
      "[DEBUG] Head 0 | iou.min=0.0956, iou.max=0.9197, iou.mean=0.5406\n",
      "[DEBUG] Head 0 | ps[..., 4].sigmoid().mean = 0.0427\n",
      "[DEBUG] Head 1 | iou.min=0.0587, iou.max=0.8532, iou.mean=0.4365\n",
      "[DEBUG] Head 1 | ps[..., 4].sigmoid().mean = 0.0167\n",
      "[DEBUG] Head 2 | iou.min=-0.0513, iou.max=0.8891, iou.mean=0.3206\n",
      "[DEBUG] Head 2 | ps[..., 4].sigmoid().mean = 0.0213\n"
     ]
    },
    {
     "name": "stderr",
     "output_type": "stream",
     "text": [
      "[YoloOW] Epoch 13/30:  96%|█████████▌| 23/24 [00:27<00:01,  1.29s/it, Loss=5.2006, box=0.083, obj=0.058, cls=0.185, total loss=0.325, lr=0.000702]"
     ]
    },
    {
     "name": "stdout",
     "output_type": "stream",
     "text": [
      "[DEBUG] Head 0 | iou.min=0.0930, iou.max=0.8866, iou.mean=0.4902\n",
      "[DEBUG] Head 0 | ps[..., 4].sigmoid().mean = 0.0037\n",
      "[DEBUG] Head 1 | iou.min=0.0549, iou.max=0.9399, iou.mean=0.4104\n",
      "[DEBUG] Head 1 | ps[..., 4].sigmoid().mean = 0.0086\n",
      "[DEBUG] Head 2 | iou.min=-0.1930, iou.max=0.8259, iou.mean=0.3287\n",
      "[DEBUG] Head 2 | ps[..., 4].sigmoid().mean = 0.0159\n"
     ]
    },
    {
     "name": "stderr",
     "output_type": "stream",
     "text": [
      "[YoloOW] Epoch 13/30: 100%|██████████| 24/24 [00:28<00:00,  1.18s/it, Loss=5.7356, box=0.089, obj=0.054, cls=0.216, total loss=0.358, lr=0.000702]\n"
     ]
    },
    {
     "name": "stdout",
     "output_type": "stream",
     "text": [
      "\n",
      "[YoloOW] ✅ Epoch 13/30 complete in 28.44s | Avg Loss: 5.6932\n",
      "\n",
      "[YoloOW] 📊 Running evaluation after epoch 13 ...\n",
      "[DEBUG] Head 0 | iou.min=0.1528, iou.max=0.9250, iou.mean=0.5410\n",
      "[DEBUG] Head 0 | ps[..., 4].sigmoid().mean = 0.0150\n",
      "[DEBUG] Head 1 | iou.min=0.1683, iou.max=0.8703, iou.mean=0.4586\n",
      "[DEBUG] Head 1 | ps[..., 4].sigmoid().mean = 0.0163\n",
      "[DEBUG] Head 2 | iou.min=-0.1048, iou.max=0.7984, iou.mean=0.3515\n",
      "[DEBUG] Head 2 | ps[..., 4].sigmoid().mean = 0.0233\n",
      "[DEBUG] Head 0 | iou.min=0.1074, iou.max=0.8804, iou.mean=0.4843\n",
      "[DEBUG] Head 0 | ps[..., 4].sigmoid().mean = 0.0051\n",
      "[DEBUG] Head 1 | iou.min=0.0270, iou.max=0.8848, iou.mean=0.4230\n",
      "[DEBUG] Head 1 | ps[..., 4].sigmoid().mean = 0.0129\n",
      "[DEBUG] Head 2 | iou.min=-0.1969, iou.max=0.8461, iou.mean=0.3240\n",
      "[DEBUG] Head 2 | ps[..., 4].sigmoid().mean = 0.0220\n",
      "[DEBUG] Head 0 | iou.min=0.1042, iou.max=0.9548, iou.mean=0.4900\n",
      "[DEBUG] Head 0 | ps[..., 4].sigmoid().mean = 0.0047\n",
      "[DEBUG] Head 1 | iou.min=0.0272, iou.max=0.9001, iou.mean=0.4298\n",
      "[DEBUG] Head 1 | ps[..., 4].sigmoid().mean = 0.0122\n",
      "[DEBUG] Head 2 | iou.min=-0.1432, iou.max=0.8271, iou.mean=0.3330\n",
      "[DEBUG] Head 2 | ps[..., 4].sigmoid().mean = 0.0198\n",
      "[DEBUG] Head 0 | iou.min=0.1382, iou.max=0.9069, iou.mean=0.5777\n",
      "[DEBUG] Head 0 | ps[..., 4].sigmoid().mean = 0.0036\n",
      "[DEBUG] Head 1 | iou.min=0.1034, iou.max=0.8865, iou.mean=0.5061\n",
      "[DEBUG] Head 1 | ps[..., 4].sigmoid().mean = 0.0116\n",
      "[DEBUG] Head 2 | iou.min=0.0175, iou.max=0.8850, iou.mean=0.3551\n",
      "[DEBUG] Head 2 | ps[..., 4].sigmoid().mean = 0.0210\n",
      "[DEBUG] Head 0 | iou.min=0.1422, iou.max=0.8954, iou.mean=0.5939\n",
      "[DEBUG] Head 0 | ps[..., 4].sigmoid().mean = 0.0074\n",
      "[DEBUG] Head 1 | iou.min=0.2071, iou.max=0.8485, iou.mean=0.5453\n",
      "[DEBUG] Head 1 | ps[..., 4].sigmoid().mean = 0.0168\n",
      "[DEBUG] Head 2 | iou.min=-0.0871, iou.max=0.7943, iou.mean=0.3768\n",
      "[DEBUG] Head 2 | ps[..., 4].sigmoid().mean = 0.0244\n",
      "[DEBUG] Head 0 | iou.min=0.1995, iou.max=0.9031, iou.mean=0.5725\n",
      "[DEBUG] Head 0 | ps[..., 4].sigmoid().mean = 0.0209\n",
      "[DEBUG] Head 1 | iou.min=0.0994, iou.max=0.8472, iou.mean=0.4533\n",
      "[DEBUG] Head 1 | ps[..., 4].sigmoid().mean = 0.0174\n",
      "[DEBUG] Head 2 | iou.min=-0.1520, iou.max=0.7204, iou.mean=0.2973\n",
      "[DEBUG] Head 2 | ps[..., 4].sigmoid().mean = 0.0262\n",
      "[DEBUG] Head 0 | iou.min=0.0893, iou.max=0.9319, iou.mean=0.4570\n",
      "[DEBUG] Head 0 | ps[..., 4].sigmoid().mean = 0.0023\n",
      "[DEBUG] Head 1 | iou.min=0.0775, iou.max=0.8883, iou.mean=0.3835\n",
      "[DEBUG] Head 1 | ps[..., 4].sigmoid().mean = 0.0077\n",
      "[DEBUG] Head 2 | iou.min=-0.1527, iou.max=0.8436, iou.mean=0.3499\n",
      "[DEBUG] Head 2 | ps[..., 4].sigmoid().mean = 0.0142\n",
      "[DEBUG] Head 0 | iou.min=0.0741, iou.max=0.9000, iou.mean=0.3951\n",
      "[DEBUG] Head 0 | ps[..., 4].sigmoid().mean = 0.0116\n",
      "[DEBUG] Head 1 | iou.min=-0.0552, iou.max=0.8385, iou.mean=0.3172\n",
      "[DEBUG] Head 1 | ps[..., 4].sigmoid().mean = 0.0160\n",
      "[DEBUG] Head 2 | iou.min=-0.1907, iou.max=0.8713, iou.mean=0.2896\n",
      "[DEBUG] Head 2 | ps[..., 4].sigmoid().mean = 0.0228\n",
      "[DEBUG] Head 0 | iou.min=0.2349, iou.max=0.7569, iou.mean=0.4661\n",
      "[DEBUG] Head 0 | ps[..., 4].sigmoid().mean = 0.0008\n",
      "[DEBUG] Head 1 | iou.min=0.0847, iou.max=0.7980, iou.mean=0.5146\n",
      "[DEBUG] Head 1 | ps[..., 4].sigmoid().mean = 0.0032\n",
      "[DEBUG] Head 2 | iou.min=-0.0919, iou.max=0.7502, iou.mean=0.3704\n",
      "[DEBUG] Head 2 | ps[..., 4].sigmoid().mean = 0.0064\n",
      "[validate_yoloow_model] ✅  Avg Loss  (box/obj/cls/total): 0.0852 / 0.0566 / 0.2234 / 0.3652\n"
     ]
    },
    {
     "name": "stderr",
     "output_type": "stream",
     "text": [
      "[YoloOW] Epoch 14/30:   0%|          | 0/24 [00:00<?, ?it/s]"
     ]
    },
    {
     "name": "stdout",
     "output_type": "stream",
     "text": [
      "[DEBUG] Head 0 | iou.min=0.0930, iou.max=0.9368, iou.mean=0.4732\n",
      "[DEBUG] Head 0 | ps[..., 4].sigmoid().mean = 0.0060\n",
      "[DEBUG] Head 1 | iou.min=0.0479, iou.max=0.8923, iou.mean=0.4233\n",
      "[DEBUG] Head 1 | ps[..., 4].sigmoid().mean = 0.0115\n",
      "[DEBUG] Head 2 | iou.min=-0.1966, iou.max=0.8785, iou.mean=0.3336\n",
      "[DEBUG] Head 2 | ps[..., 4].sigmoid().mean = 0.0207\n"
     ]
    },
    {
     "name": "stderr",
     "output_type": "stream",
     "text": [
      "[YoloOW] Epoch 14/30:   4%|▍         | 1/24 [00:00<00:21,  1.07it/s]"
     ]
    },
    {
     "name": "stdout",
     "output_type": "stream",
     "text": [
      "[DEBUG] Head 0 | iou.min=0.1007, iou.max=0.8793, iou.mean=0.5452\n",
      "[DEBUG] Head 0 | ps[..., 4].sigmoid().mean = 0.0187\n",
      "[DEBUG] Head 1 | iou.min=0.0540, iou.max=0.9224, iou.mean=0.4990\n",
      "[DEBUG] Head 1 | ps[..., 4].sigmoid().mean = 0.0129\n",
      "[DEBUG] Head 2 | iou.min=-0.0503, iou.max=0.8091, iou.mean=0.3625\n",
      "[DEBUG] Head 2 | ps[..., 4].sigmoid().mean = 0.0121\n"
     ]
    },
    {
     "name": "stderr",
     "output_type": "stream",
     "text": [
      "[YoloOW] Epoch 14/30:   8%|▊         | 2/24 [00:01<00:19,  1.15it/s]"
     ]
    },
    {
     "name": "stdout",
     "output_type": "stream",
     "text": [
      "[DEBUG] Head 0 | iou.min=0.1116, iou.max=0.9184, iou.mean=0.4527\n",
      "[DEBUG] Head 0 | ps[..., 4].sigmoid().mean = 0.0019\n",
      "[DEBUG] Head 1 | iou.min=0.0646, iou.max=0.8385, iou.mean=0.4053\n",
      "[DEBUG] Head 1 | ps[..., 4].sigmoid().mean = 0.0078\n",
      "[DEBUG] Head 2 | iou.min=-0.1616, iou.max=0.8854, iou.mean=0.3381\n",
      "[DEBUG] Head 2 | ps[..., 4].sigmoid().mean = 0.0138\n"
     ]
    },
    {
     "name": "stderr",
     "output_type": "stream",
     "text": [
      "[YoloOW] Epoch 14/30:  12%|█▎        | 3/24 [00:02<00:18,  1.14it/s]"
     ]
    },
    {
     "name": "stdout",
     "output_type": "stream",
     "text": [
      "[DEBUG] Head 0 | iou.min=0.0823, iou.max=0.9145, iou.mean=0.5555\n",
      "[DEBUG] Head 0 | ps[..., 4].sigmoid().mean = 0.0029\n",
      "[DEBUG] Head 1 | iou.min=0.0680, iou.max=0.8911, iou.mean=0.4762\n",
      "[DEBUG] Head 1 | ps[..., 4].sigmoid().mean = 0.0121\n",
      "[DEBUG] Head 2 | iou.min=-0.1483, iou.max=0.8596, iou.mean=0.3586\n",
      "[DEBUG] Head 2 | ps[..., 4].sigmoid().mean = 0.0186\n"
     ]
    },
    {
     "name": "stderr",
     "output_type": "stream",
     "text": [
      "[YoloOW] Epoch 14/30:  17%|█▋        | 4/24 [00:03<00:19,  1.03it/s]"
     ]
    },
    {
     "name": "stdout",
     "output_type": "stream",
     "text": [
      "[DEBUG] Head 0 | iou.min=0.0764, iou.max=0.9283, iou.mean=0.4709\n",
      "[DEBUG] Head 0 | ps[..., 4].sigmoid().mean = 0.0128\n",
      "[DEBUG] Head 1 | iou.min=0.0412, iou.max=0.9234, iou.mean=0.4221\n",
      "[DEBUG] Head 1 | ps[..., 4].sigmoid().mean = 0.0269\n",
      "[DEBUG] Head 2 | iou.min=-0.1250, iou.max=0.8535, iou.mean=0.3140\n",
      "[DEBUG] Head 2 | ps[..., 4].sigmoid().mean = 0.0202\n"
     ]
    },
    {
     "name": "stderr",
     "output_type": "stream",
     "text": [
      "[YoloOW] Epoch 14/30:  21%|██        | 5/24 [00:04<00:19,  1.00s/it]"
     ]
    },
    {
     "name": "stdout",
     "output_type": "stream",
     "text": [
      "[DEBUG] Head 0 | iou.min=0.1509, iou.max=0.9158, iou.mean=0.5690\n",
      "[DEBUG] Head 0 | ps[..., 4].sigmoid().mean = 0.0033\n",
      "[DEBUG] Head 1 | iou.min=0.1031, iou.max=0.9463, iou.mean=0.4819\n",
      "[DEBUG] Head 1 | ps[..., 4].sigmoid().mean = 0.0131\n",
      "[DEBUG] Head 2 | iou.min=-0.1515, iou.max=0.8357, iou.mean=0.3616\n",
      "[DEBUG] Head 2 | ps[..., 4].sigmoid().mean = 0.0143\n"
     ]
    },
    {
     "name": "stderr",
     "output_type": "stream",
     "text": [
      "[YoloOW] Epoch 14/30:  25%|██▌       | 6/24 [00:05<00:16,  1.06it/s]"
     ]
    },
    {
     "name": "stdout",
     "output_type": "stream",
     "text": [
      "[DEBUG] Head 0 | iou.min=0.0806, iou.max=0.8402, iou.mean=0.4605\n",
      "[DEBUG] Head 0 | ps[..., 4].sigmoid().mean = 0.0036\n",
      "[DEBUG] Head 1 | iou.min=0.0660, iou.max=0.8484, iou.mean=0.3970\n",
      "[DEBUG] Head 1 | ps[..., 4].sigmoid().mean = 0.0163\n",
      "[DEBUG] Head 2 | iou.min=-0.1742, iou.max=0.8817, iou.mean=0.3792\n",
      "[DEBUG] Head 2 | ps[..., 4].sigmoid().mean = 0.0142\n"
     ]
    },
    {
     "name": "stderr",
     "output_type": "stream",
     "text": [
      "[YoloOW] Epoch 14/30:  29%|██▉       | 7/24 [00:06<00:15,  1.11it/s]"
     ]
    },
    {
     "name": "stdout",
     "output_type": "stream",
     "text": [
      "[DEBUG] Head 0 | iou.min=0.1707, iou.max=0.9498, iou.mean=0.5366\n",
      "[DEBUG] Head 0 | ps[..., 4].sigmoid().mean = 0.0019\n",
      "[DEBUG] Head 1 | iou.min=0.1457, iou.max=0.9194, iou.mean=0.4730\n",
      "[DEBUG] Head 1 | ps[..., 4].sigmoid().mean = 0.0074\n",
      "[DEBUG] Head 2 | iou.min=0.0526, iou.max=0.9132, iou.mean=0.3798\n",
      "[DEBUG] Head 2 | ps[..., 4].sigmoid().mean = 0.0116\n"
     ]
    },
    {
     "name": "stderr",
     "output_type": "stream",
     "text": [
      "[YoloOW] Epoch 14/30:  33%|███▎      | 8/24 [00:07<00:13,  1.16it/s]"
     ]
    },
    {
     "name": "stdout",
     "output_type": "stream",
     "text": [
      "[DEBUG] Head 0 | iou.min=0.1618, iou.max=0.8996, iou.mean=0.5062\n",
      "[DEBUG] Head 0 | ps[..., 4].sigmoid().mean = 0.0137\n",
      "[DEBUG] Head 1 | iou.min=-0.0764, iou.max=0.9487, iou.mean=0.4369\n",
      "[DEBUG] Head 1 | ps[..., 4].sigmoid().mean = 0.0310\n",
      "[DEBUG] Head 2 | iou.min=-0.1345, iou.max=0.7857, iou.mean=0.3550\n",
      "[DEBUG] Head 2 | ps[..., 4].sigmoid().mean = 0.0183\n"
     ]
    },
    {
     "name": "stderr",
     "output_type": "stream",
     "text": [
      "[YoloOW] Epoch 14/30:  38%|███▊      | 9/24 [00:08<00:12,  1.18it/s]"
     ]
    },
    {
     "name": "stdout",
     "output_type": "stream",
     "text": [
      "[DEBUG] Head 0 | iou.min=0.0931, iou.max=0.8867, iou.mean=0.4842\n",
      "[DEBUG] Head 0 | ps[..., 4].sigmoid().mean = 0.0189\n",
      "[DEBUG] Head 1 | iou.min=0.0528, iou.max=0.8942, iou.mean=0.4407\n",
      "[DEBUG] Head 1 | ps[..., 4].sigmoid().mean = 0.0246\n",
      "[DEBUG] Head 2 | iou.min=-0.0724, iou.max=0.8813, iou.mean=0.3318\n",
      "[DEBUG] Head 2 | ps[..., 4].sigmoid().mean = 0.0183\n"
     ]
    },
    {
     "name": "stderr",
     "output_type": "stream",
     "text": [
      "[YoloOW] Epoch 14/30:  42%|████▏     | 10/24 [00:08<00:11,  1.19it/s, Loss=5.1950, box=0.087, obj=0.052, cls=0.186, total loss=0.325, lr=0.000647]"
     ]
    },
    {
     "name": "stdout",
     "output_type": "stream",
     "text": [
      "[DEBUG] Head 0 | iou.min=0.1451, iou.max=0.9061, iou.mean=0.5195\n",
      "[DEBUG] Head 0 | ps[..., 4].sigmoid().mean = 0.0181\n",
      "[DEBUG] Head 1 | iou.min=0.0963, iou.max=0.8941, iou.mean=0.4429\n",
      "[DEBUG] Head 1 | ps[..., 4].sigmoid().mean = 0.0302\n",
      "[DEBUG] Head 2 | iou.min=-0.0708, iou.max=0.8773, iou.mean=0.3440\n",
      "[DEBUG] Head 2 | ps[..., 4].sigmoid().mean = 0.0174\n"
     ]
    },
    {
     "name": "stderr",
     "output_type": "stream",
     "text": [
      "[YoloOW] Epoch 14/30:  46%|████▌     | 11/24 [00:09<00:10,  1.20it/s, Loss=5.1950, box=0.087, obj=0.052, cls=0.186, total loss=0.325, lr=0.000647]"
     ]
    },
    {
     "name": "stdout",
     "output_type": "stream",
     "text": [
      "[DEBUG] Head 0 | iou.min=0.0688, iou.max=0.9513, iou.mean=0.4427\n",
      "[DEBUG] Head 0 | ps[..., 4].sigmoid().mean = 0.0075\n",
      "[DEBUG] Head 1 | iou.min=0.0326, iou.max=0.8501, iou.mean=0.4162\n",
      "[DEBUG] Head 1 | ps[..., 4].sigmoid().mean = 0.0174\n",
      "[DEBUG] Head 2 | iou.min=-0.1255, iou.max=0.9235, iou.mean=0.3412\n",
      "[DEBUG] Head 2 | ps[..., 4].sigmoid().mean = 0.0209\n"
     ]
    },
    {
     "name": "stderr",
     "output_type": "stream",
     "text": [
      "[YoloOW] Epoch 14/30:  50%|█████     | 12/24 [00:10<00:10,  1.17it/s, Loss=5.1950, box=0.087, obj=0.052, cls=0.186, total loss=0.325, lr=0.000647]"
     ]
    },
    {
     "name": "stdout",
     "output_type": "stream",
     "text": [
      "[DEBUG] Head 0 | iou.min=0.0797, iou.max=0.9053, iou.mean=0.5105\n",
      "[DEBUG] Head 0 | ps[..., 4].sigmoid().mean = 0.0134\n",
      "[DEBUG] Head 1 | iou.min=0.0123, iou.max=0.9007, iou.mean=0.4317\n",
      "[DEBUG] Head 1 | ps[..., 4].sigmoid().mean = 0.0126\n",
      "[DEBUG] Head 2 | iou.min=-0.1446, iou.max=0.8012, iou.mean=0.2888\n",
      "[DEBUG] Head 2 | ps[..., 4].sigmoid().mean = 0.0136\n"
     ]
    },
    {
     "name": "stderr",
     "output_type": "stream",
     "text": [
      "[YoloOW] Epoch 14/30:  54%|█████▍    | 13/24 [00:11<00:09,  1.15it/s, Loss=5.1950, box=0.087, obj=0.052, cls=0.186, total loss=0.325, lr=0.000647]"
     ]
    },
    {
     "name": "stdout",
     "output_type": "stream",
     "text": [
      "[DEBUG] Head 0 | iou.min=0.1547, iou.max=0.9115, iou.mean=0.5599\n",
      "[DEBUG] Head 0 | ps[..., 4].sigmoid().mean = 0.0162\n",
      "[DEBUG] Head 1 | iou.min=0.0514, iou.max=0.8853, iou.mean=0.4751\n",
      "[DEBUG] Head 1 | ps[..., 4].sigmoid().mean = 0.0124\n",
      "[DEBUG] Head 2 | iou.min=-0.1853, iou.max=0.8342, iou.mean=0.3315\n",
      "[DEBUG] Head 2 | ps[..., 4].sigmoid().mean = 0.0181\n"
     ]
    },
    {
     "name": "stderr",
     "output_type": "stream",
     "text": [
      "[YoloOW] Epoch 14/30:  58%|█████▊    | 14/24 [00:12<00:10,  1.02s/it, Loss=5.1950, box=0.087, obj=0.052, cls=0.186, total loss=0.325, lr=0.000647]"
     ]
    },
    {
     "name": "stdout",
     "output_type": "stream",
     "text": [
      "[DEBUG] Head 0 | iou.min=0.1154, iou.max=0.9158, iou.mean=0.5074\n",
      "[DEBUG] Head 0 | ps[..., 4].sigmoid().mean = 0.0127\n",
      "[DEBUG] Head 1 | iou.min=-0.1078, iou.max=0.8706, iou.mean=0.4323\n",
      "[DEBUG] Head 1 | ps[..., 4].sigmoid().mean = 0.0119\n",
      "[DEBUG] Head 2 | iou.min=-0.1717, iou.max=0.8966, iou.mean=0.3081\n",
      "[DEBUG] Head 2 | ps[..., 4].sigmoid().mean = 0.0205\n"
     ]
    },
    {
     "name": "stderr",
     "output_type": "stream",
     "text": [
      "[YoloOW] Epoch 14/30:  62%|██████▎   | 15/24 [00:13<00:08,  1.02it/s, Loss=5.1950, box=0.087, obj=0.052, cls=0.186, total loss=0.325, lr=0.000647]"
     ]
    },
    {
     "name": "stdout",
     "output_type": "stream",
     "text": [
      "[DEBUG] Head 0 | iou.min=0.1649, iou.max=0.8896, iou.mean=0.5518\n",
      "[DEBUG] Head 0 | ps[..., 4].sigmoid().mean = 0.0205\n",
      "[DEBUG] Head 1 | iou.min=0.0587, iou.max=0.8250, iou.mean=0.4574\n",
      "[DEBUG] Head 1 | ps[..., 4].sigmoid().mean = 0.0102\n",
      "[DEBUG] Head 2 | iou.min=-0.0279, iou.max=0.7963, iou.mean=0.3472\n",
      "[DEBUG] Head 2 | ps[..., 4].sigmoid().mean = 0.0151\n"
     ]
    },
    {
     "name": "stderr",
     "output_type": "stream",
     "text": [
      "[YoloOW] Epoch 14/30:  67%|██████▋   | 16/24 [00:14<00:07,  1.08it/s, Loss=5.1950, box=0.087, obj=0.052, cls=0.186, total loss=0.325, lr=0.000647]"
     ]
    },
    {
     "name": "stdout",
     "output_type": "stream",
     "text": [
      "[DEBUG] Head 0 | iou.min=0.1453, iou.max=0.8535, iou.mean=0.5798\n",
      "[DEBUG] Head 0 | ps[..., 4].sigmoid().mean = 0.0050\n",
      "[DEBUG] Head 1 | iou.min=0.0742, iou.max=0.8630, iou.mean=0.4937\n",
      "[DEBUG] Head 1 | ps[..., 4].sigmoid().mean = 0.0081\n",
      "[DEBUG] Head 2 | iou.min=0.0208, iou.max=0.8620, iou.mean=0.3616\n",
      "[DEBUG] Head 2 | ps[..., 4].sigmoid().mean = 0.0132\n"
     ]
    },
    {
     "name": "stderr",
     "output_type": "stream",
     "text": [
      "[YoloOW] Epoch 14/30:  71%|███████   | 17/24 [00:15<00:06,  1.01it/s, Loss=5.1950, box=0.087, obj=0.052, cls=0.186, total loss=0.325, lr=0.000647]"
     ]
    },
    {
     "name": "stdout",
     "output_type": "stream",
     "text": [
      "[DEBUG] Head 0 | iou.min=0.1475, iou.max=0.8648, iou.mean=0.5662\n",
      "[DEBUG] Head 0 | ps[..., 4].sigmoid().mean = 0.0030\n",
      "[DEBUG] Head 1 | iou.min=0.1345, iou.max=0.8736, iou.mean=0.4841\n",
      "[DEBUG] Head 1 | ps[..., 4].sigmoid().mean = 0.0071\n",
      "[DEBUG] Head 2 | iou.min=-0.1780, iou.max=0.8737, iou.mean=0.3580\n",
      "[DEBUG] Head 2 | ps[..., 4].sigmoid().mean = 0.0137\n"
     ]
    },
    {
     "name": "stderr",
     "output_type": "stream",
     "text": [
      "[YoloOW] Epoch 14/30:  75%|███████▌  | 18/24 [00:16<00:05,  1.04it/s, Loss=5.1950, box=0.087, obj=0.052, cls=0.186, total loss=0.325, lr=0.000647]"
     ]
    },
    {
     "name": "stdout",
     "output_type": "stream",
     "text": [
      "[DEBUG] Head 0 | iou.min=0.1762, iou.max=0.8973, iou.mean=0.4838\n",
      "[DEBUG] Head 0 | ps[..., 4].sigmoid().mean = 0.0027\n",
      "[DEBUG] Head 1 | iou.min=0.0483, iou.max=0.8904, iou.mean=0.4355\n",
      "[DEBUG] Head 1 | ps[..., 4].sigmoid().mean = 0.0075\n",
      "[DEBUG] Head 2 | iou.min=-0.0623, iou.max=0.8440, iou.mean=0.3514\n",
      "[DEBUG] Head 2 | ps[..., 4].sigmoid().mean = 0.0132\n"
     ]
    },
    {
     "name": "stderr",
     "output_type": "stream",
     "text": [
      "[YoloOW] Epoch 14/30:  79%|███████▉  | 19/24 [00:17<00:04,  1.04it/s, Loss=5.1950, box=0.087, obj=0.052, cls=0.186, total loss=0.325, lr=0.000647]"
     ]
    },
    {
     "name": "stdout",
     "output_type": "stream",
     "text": [
      "[DEBUG] Head 0 | iou.min=0.1500, iou.max=0.8867, iou.mean=0.5729\n",
      "[DEBUG] Head 0 | ps[..., 4].sigmoid().mean = 0.0035\n",
      "[DEBUG] Head 1 | iou.min=0.0932, iou.max=0.9003, iou.mean=0.5139\n",
      "[DEBUG] Head 1 | ps[..., 4].sigmoid().mean = 0.0075\n",
      "[DEBUG] Head 2 | iou.min=-0.1631, iou.max=0.8505, iou.mean=0.3643\n",
      "[DEBUG] Head 2 | ps[..., 4].sigmoid().mean = 0.0106\n"
     ]
    },
    {
     "name": "stderr",
     "output_type": "stream",
     "text": [
      "[YoloOW] Epoch 14/30:  83%|████████▎ | 20/24 [00:18<00:04,  1.09s/it, Loss=5.8336, box=0.077, obj=0.037, cls=0.250, total loss=0.365, lr=0.000647]"
     ]
    },
    {
     "name": "stdout",
     "output_type": "stream",
     "text": [
      "[DEBUG] Head 0 | iou.min=0.1118, iou.max=0.8830, iou.mean=0.5177\n",
      "[DEBUG] Head 0 | ps[..., 4].sigmoid().mean = 0.0089\n",
      "[DEBUG] Head 1 | iou.min=0.0521, iou.max=0.9159, iou.mean=0.4382\n",
      "[DEBUG] Head 1 | ps[..., 4].sigmoid().mean = 0.0101\n",
      "[DEBUG] Head 2 | iou.min=-0.1336, iou.max=0.8876, iou.mean=0.3183\n",
      "[DEBUG] Head 2 | ps[..., 4].sigmoid().mean = 0.0138\n"
     ]
    },
    {
     "name": "stderr",
     "output_type": "stream",
     "text": [
      "[YoloOW] Epoch 14/30:  88%|████████▊ | 21/24 [00:20<00:03,  1.18s/it, Loss=5.8336, box=0.077, obj=0.037, cls=0.250, total loss=0.365, lr=0.000647]"
     ]
    },
    {
     "name": "stdout",
     "output_type": "stream",
     "text": [
      "[DEBUG] Head 0 | iou.min=0.1388, iou.max=0.9368, iou.mean=0.5023\n",
      "[DEBUG] Head 0 | ps[..., 4].sigmoid().mean = 0.0028\n",
      "[DEBUG] Head 1 | iou.min=0.0569, iou.max=0.8934, iou.mean=0.4265\n",
      "[DEBUG] Head 1 | ps[..., 4].sigmoid().mean = 0.0090\n",
      "[DEBUG] Head 2 | iou.min=-0.1491, iou.max=0.8354, iou.mean=0.3524\n",
      "[DEBUG] Head 2 | ps[..., 4].sigmoid().mean = 0.0147\n"
     ]
    },
    {
     "name": "stderr",
     "output_type": "stream",
     "text": [
      "[YoloOW] Epoch 14/30:  92%|█████████▏| 22/24 [00:22<00:02,  1.33s/it, Loss=5.8336, box=0.077, obj=0.037, cls=0.250, total loss=0.365, lr=0.000647]"
     ]
    },
    {
     "name": "stdout",
     "output_type": "stream",
     "text": [
      "[DEBUG] Head 0 | iou.min=0.1536, iou.max=0.9327, iou.mean=0.5459\n",
      "[DEBUG] Head 0 | ps[..., 4].sigmoid().mean = 0.0040\n",
      "[DEBUG] Head 1 | iou.min=0.0763, iou.max=0.8906, iou.mean=0.4599\n",
      "[DEBUG] Head 1 | ps[..., 4].sigmoid().mean = 0.0080\n",
      "[DEBUG] Head 2 | iou.min=-0.1066, iou.max=0.7543, iou.mean=0.3465\n",
      "[DEBUG] Head 2 | ps[..., 4].sigmoid().mean = 0.0143\n"
     ]
    },
    {
     "name": "stderr",
     "output_type": "stream",
     "text": [
      "[YoloOW] Epoch 14/30:  96%|█████████▌| 23/24 [00:23<00:01,  1.34s/it, Loss=5.8336, box=0.077, obj=0.037, cls=0.250, total loss=0.365, lr=0.000647]"
     ]
    },
    {
     "name": "stdout",
     "output_type": "stream",
     "text": [
      "[DEBUG] Head 0 | iou.min=0.1171, iou.max=0.8836, iou.mean=0.4647\n",
      "[DEBUG] Head 0 | ps[..., 4].sigmoid().mean = 0.0071\n",
      "[DEBUG] Head 1 | iou.min=0.0590, iou.max=0.8585, iou.mean=0.3846\n",
      "[DEBUG] Head 1 | ps[..., 4].sigmoid().mean = 0.0112\n",
      "[DEBUG] Head 2 | iou.min=-0.1237, iou.max=0.9133, iou.mean=0.3222\n",
      "[DEBUG] Head 2 | ps[..., 4].sigmoid().mean = 0.0177\n"
     ]
    },
    {
     "name": "stderr",
     "output_type": "stream",
     "text": [
      "[YoloOW] Epoch 14/30: 100%|██████████| 24/24 [00:25<00:00,  1.06s/it, Loss=5.5830, box=0.091, obj=0.047, cls=0.211, total loss=0.349, lr=0.000647]\n"
     ]
    },
    {
     "name": "stdout",
     "output_type": "stream",
     "text": [
      "\n",
      "[YoloOW] ✅ Epoch 14/30 complete in 25.51s | Avg Loss: 5.4991\n",
      "\n",
      "[YoloOW] 📊 Running evaluation after epoch 14 ...\n"
     ]
    },
    {
     "ename": "KeyboardInterrupt",
     "evalue": "",
     "output_type": "error",
     "traceback": [
      "\u001b[1;31m---------------------------------------------------------------------------\u001b[0m",
      "\u001b[1;31mKeyboardInterrupt\u001b[0m                         Traceback (most recent call last)",
      "Cell \u001b[1;32mIn[4], line 49\u001b[0m\n\u001b[0;32m     46\u001b[0m ex_dict[\u001b[38;5;124m'\u001b[39m\u001b[38;5;124mModel Name\u001b[39m\u001b[38;5;124m'\u001b[39m] \u001b[38;5;241m=\u001b[39m model_name; ex_dict[\u001b[38;5;124m'\u001b[39m\u001b[38;5;124mModel\u001b[39m\u001b[38;5;124m'\u001b[39m]\u001b[38;5;241m=\u001b[39mmodel;\n\u001b[0;32m     47\u001b[0m start \u001b[38;5;241m=\u001b[39m timeit\u001b[38;5;241m.\u001b[39mdefault_timer()\n\u001b[1;32m---> 49\u001b[0m ex_dict \u001b[38;5;241m=\u001b[39m \u001b[43mtrain_fn\u001b[49m\u001b[43m(\u001b[49m\u001b[43mex_dict\u001b[49m\u001b[43m)\u001b[49m\n\u001b[0;32m     50\u001b[0m ex_dict \u001b[38;5;241m=\u001b[39m eval_fn(ex_dict)\n\u001b[0;32m     51\u001b[0m ex_dict \u001b[38;5;241m=\u001b[39m test_fn(ex_dict)\n",
      "File \u001b[1;32mc:\\Users\\user\\Desktop\\Aerial Object Detection\\AERIAL_OBJECT_DETECTION\\Models\\YoloOW\\yoloow_utils.py:91\u001b[0m, in \u001b[0;36mtrain_yoloow_model\u001b[1;34m(ex_dict)\u001b[0m\n\u001b[0;32m     88\u001b[0m model\u001b[38;5;241m.\u001b[39mtrain()\n\u001b[0;32m     90\u001b[0m \u001b[38;5;66;03m#학습 시작\u001b[39;00m\n\u001b[1;32m---> 91\u001b[0m ex_dict \u001b[38;5;241m=\u001b[39m \u001b[43mrun_train_loop\u001b[49m\u001b[43m(\u001b[49m\n\u001b[0;32m     92\u001b[0m \u001b[43m    \u001b[49m\u001b[43mmodel\u001b[49m\u001b[38;5;241;43m=\u001b[39;49m\u001b[43mmodel\u001b[49m\u001b[43m,\u001b[49m\n\u001b[0;32m     93\u001b[0m \u001b[43m    \u001b[49m\u001b[43mtrain_loader\u001b[49m\u001b[38;5;241;43m=\u001b[39;49m\u001b[43mtrain_loader\u001b[49m\u001b[43m,\u001b[49m\n\u001b[0;32m     94\u001b[0m \u001b[43m    \u001b[49m\u001b[43mcriterion\u001b[49m\u001b[38;5;241;43m=\u001b[39;49m\u001b[43mcriterion\u001b[49m\u001b[43m,\u001b[49m\n\u001b[0;32m     95\u001b[0m \u001b[43m    \u001b[49m\u001b[43moptimizer\u001b[49m\u001b[38;5;241;43m=\u001b[39;49m\u001b[43moptimizer\u001b[49m\u001b[43m,\u001b[49m\n\u001b[0;32m     96\u001b[0m \u001b[43m    \u001b[49m\u001b[43mscheduler\u001b[49m\u001b[38;5;241;43m=\u001b[39;49m\u001b[43mscheduler\u001b[49m\u001b[43m,\u001b[49m\n\u001b[0;32m     97\u001b[0m \u001b[43m    \u001b[49m\u001b[43mepochs\u001b[49m\u001b[38;5;241;43m=\u001b[39;49m\u001b[43mex_dict\u001b[49m\u001b[43m[\u001b[49m\u001b[38;5;124;43m\"\u001b[39;49m\u001b[38;5;124;43mEpochs\u001b[39;49m\u001b[38;5;124;43m\"\u001b[39;49m\u001b[43m]\u001b[49m\u001b[43m,\u001b[49m\n\u001b[0;32m     98\u001b[0m \u001b[43m    \u001b[49m\u001b[43mdevice\u001b[49m\u001b[38;5;241;43m=\u001b[39;49m\u001b[43mdevice\u001b[49m\u001b[43m,\u001b[49m\n\u001b[0;32m     99\u001b[0m \u001b[43m    \u001b[49m\u001b[43mmodel_name\u001b[49m\u001b[38;5;241;43m=\u001b[39;49m\u001b[38;5;124;43m\"\u001b[39;49m\u001b[38;5;124;43mYoloOW\u001b[39;49m\u001b[38;5;124;43m\"\u001b[39;49m\u001b[43m,\u001b[49m\n\u001b[0;32m    100\u001b[0m \u001b[43m    \u001b[49m\u001b[43mprint_interval\u001b[49m\u001b[38;5;241;43m=\u001b[39;49m\u001b[38;5;241;43m10\u001b[39;49m\u001b[43m,\u001b[49m\n\u001b[0;32m    101\u001b[0m \u001b[43m    \u001b[49m\u001b[43meval_fn\u001b[49m\u001b[38;5;241;43m=\u001b[39;49m\u001b[43meval_yoloow_model\u001b[49m\u001b[43m,\u001b[49m\n\u001b[0;32m    102\u001b[0m \u001b[43m    \u001b[49m\u001b[43mex_dict\u001b[49m\u001b[38;5;241;43m=\u001b[39;49m\u001b[43mex_dict\u001b[49m\n\u001b[0;32m    103\u001b[0m \u001b[43m\u001b[49m\u001b[43m)\u001b[49m\n\u001b[0;32m    106\u001b[0m pt_path \u001b[38;5;241m=\u001b[39m os\u001b[38;5;241m.\u001b[39mpath\u001b[38;5;241m.\u001b[39mjoin(project, \u001b[38;5;124m\"\u001b[39m\u001b[38;5;124mTrain\u001b[39m\u001b[38;5;124m\"\u001b[39m, \u001b[38;5;124m\"\u001b[39m\u001b[38;5;124mweights\u001b[39m\u001b[38;5;124m\"\u001b[39m, \u001b[38;5;124m\"\u001b[39m\u001b[38;5;124mbest.pt\u001b[39m\u001b[38;5;124m\"\u001b[39m)\n\u001b[0;32m    107\u001b[0m os\u001b[38;5;241m.\u001b[39mmakedirs(os\u001b[38;5;241m.\u001b[39mpath\u001b[38;5;241m.\u001b[39mdirname(pt_path), exist_ok\u001b[38;5;241m=\u001b[39m\u001b[38;5;28;01mTrue\u001b[39;00m)\n",
      "File \u001b[1;32mc:\\Users\\user\\Desktop\\Aerial Object Detection\\AERIAL_OBJECT_DETECTION\\utility\\trainer.py:135\u001b[0m, in \u001b[0;36mrun_train_loop\u001b[1;34m(model, train_loader, criterion, optimizer, scheduler, epochs, device, model_name, print_interval, eval_fn, ex_dict)\u001b[0m\n\u001b[0;32m    133\u001b[0m     \u001b[38;5;28;01mif\u001b[39;00m eval_fn:\n\u001b[0;32m    134\u001b[0m         \u001b[38;5;28mprint\u001b[39m(\u001b[38;5;124mf\u001b[39m\u001b[38;5;124m\"\u001b[39m\u001b[38;5;130;01m\\n\u001b[39;00m\u001b[38;5;124m[\u001b[39m\u001b[38;5;132;01m{\u001b[39;00mmodel_name\u001b[38;5;132;01m}\u001b[39;00m\u001b[38;5;124m] 📊 Running evaluation after epoch \u001b[39m\u001b[38;5;132;01m{\u001b[39;00mepoch\u001b[38;5;241m+\u001b[39m\u001b[38;5;241m1\u001b[39m\u001b[38;5;132;01m}\u001b[39;00m\u001b[38;5;124m ...\u001b[39m\u001b[38;5;124m\"\u001b[39m)\n\u001b[1;32m--> 135\u001b[0m         ex_dict \u001b[38;5;241m=\u001b[39m \u001b[43meval_fn\u001b[49m\u001b[43m(\u001b[49m\u001b[43mex_dict\u001b[49m\u001b[43m)\u001b[49m\n\u001b[0;32m    137\u001b[0m \u001b[38;5;28;01mreturn\u001b[39;00m ex_dict\n",
      "File \u001b[1;32mc:\\Users\\user\\anaconda3\\envs\\AerialObjectDetection\\lib\\site-packages\\torch\\utils\\_contextlib.py:116\u001b[0m, in \u001b[0;36mcontext_decorator.<locals>.decorate_context\u001b[1;34m(*args, **kwargs)\u001b[0m\n\u001b[0;32m    113\u001b[0m \u001b[38;5;129m@functools\u001b[39m\u001b[38;5;241m.\u001b[39mwraps(func)\n\u001b[0;32m    114\u001b[0m \u001b[38;5;28;01mdef\u001b[39;00m\u001b[38;5;250m \u001b[39m\u001b[38;5;21mdecorate_context\u001b[39m(\u001b[38;5;241m*\u001b[39margs, \u001b[38;5;241m*\u001b[39m\u001b[38;5;241m*\u001b[39mkwargs):\n\u001b[0;32m    115\u001b[0m     \u001b[38;5;28;01mwith\u001b[39;00m ctx_factory():\n\u001b[1;32m--> 116\u001b[0m         \u001b[38;5;28;01mreturn\u001b[39;00m func(\u001b[38;5;241m*\u001b[39margs, \u001b[38;5;241m*\u001b[39m\u001b[38;5;241m*\u001b[39mkwargs)\n",
      "File \u001b[1;32mc:\\Users\\user\\Desktop\\Aerial Object Detection\\AERIAL_OBJECT_DETECTION\\Models\\YoloOW\\yoloow_utils.py:125\u001b[0m, in \u001b[0;36meval_yoloow_model\u001b[1;34m(ex_dict)\u001b[0m\n\u001b[0;32m    122\u001b[0m nb              \u001b[38;5;241m=\u001b[39m \u001b[38;5;28mlen\u001b[39m(val_loader)       \u001b[38;5;66;03m# #batches\u001b[39;00m\n\u001b[0;32m    123\u001b[0m loss_sum        \u001b[38;5;241m=\u001b[39m torch\u001b[38;5;241m.\u001b[39mzeros(\u001b[38;5;241m4\u001b[39m, device\u001b[38;5;241m=\u001b[39mdevice)  \u001b[38;5;66;03m# box/obj/cls/total\u001b[39;00m\n\u001b[1;32m--> 125\u001b[0m \u001b[38;5;28;01mfor\u001b[39;00m imgs, targets \u001b[38;5;129;01min\u001b[39;00m val_loader:\n\u001b[0;32m    126\u001b[0m     imgs     \u001b[38;5;241m=\u001b[39m imgs\u001b[38;5;241m.\u001b[39mto(device)\n\u001b[0;32m    127\u001b[0m     targets  \u001b[38;5;241m=\u001b[39m targets\u001b[38;5;241m.\u001b[39mto(device)\n",
      "File \u001b[1;32mc:\\Users\\user\\anaconda3\\envs\\AerialObjectDetection\\lib\\site-packages\\torch\\utils\\data\\dataloader.py:735\u001b[0m, in \u001b[0;36m_BaseDataLoaderIter.__next__\u001b[1;34m(self)\u001b[0m\n\u001b[0;32m    732\u001b[0m \u001b[38;5;28;01mif\u001b[39;00m \u001b[38;5;28mself\u001b[39m\u001b[38;5;241m.\u001b[39m_sampler_iter \u001b[38;5;129;01mis\u001b[39;00m \u001b[38;5;28;01mNone\u001b[39;00m:\n\u001b[0;32m    733\u001b[0m     \u001b[38;5;66;03m# TODO(https://github.com/pytorch/pytorch/issues/76750)\u001b[39;00m\n\u001b[0;32m    734\u001b[0m     \u001b[38;5;28mself\u001b[39m\u001b[38;5;241m.\u001b[39m_reset()  \u001b[38;5;66;03m# type: ignore[call-arg]\u001b[39;00m\n\u001b[1;32m--> 735\u001b[0m data \u001b[38;5;241m=\u001b[39m \u001b[38;5;28;43mself\u001b[39;49m\u001b[38;5;241;43m.\u001b[39;49m\u001b[43m_next_data\u001b[49m\u001b[43m(\u001b[49m\u001b[43m)\u001b[49m\n\u001b[0;32m    736\u001b[0m \u001b[38;5;28mself\u001b[39m\u001b[38;5;241m.\u001b[39m_num_yielded \u001b[38;5;241m+\u001b[39m\u001b[38;5;241m=\u001b[39m \u001b[38;5;241m1\u001b[39m\n\u001b[0;32m    737\u001b[0m \u001b[38;5;28;01mif\u001b[39;00m (\n\u001b[0;32m    738\u001b[0m     \u001b[38;5;28mself\u001b[39m\u001b[38;5;241m.\u001b[39m_dataset_kind \u001b[38;5;241m==\u001b[39m _DatasetKind\u001b[38;5;241m.\u001b[39mIterable\n\u001b[0;32m    739\u001b[0m     \u001b[38;5;129;01mand\u001b[39;00m \u001b[38;5;28mself\u001b[39m\u001b[38;5;241m.\u001b[39m_IterableDataset_len_called \u001b[38;5;129;01mis\u001b[39;00m \u001b[38;5;129;01mnot\u001b[39;00m \u001b[38;5;28;01mNone\u001b[39;00m\n\u001b[0;32m    740\u001b[0m     \u001b[38;5;129;01mand\u001b[39;00m \u001b[38;5;28mself\u001b[39m\u001b[38;5;241m.\u001b[39m_num_yielded \u001b[38;5;241m>\u001b[39m \u001b[38;5;28mself\u001b[39m\u001b[38;5;241m.\u001b[39m_IterableDataset_len_called\n\u001b[0;32m    741\u001b[0m ):\n",
      "File \u001b[1;32mc:\\Users\\user\\anaconda3\\envs\\AerialObjectDetection\\lib\\site-packages\\torch\\utils\\data\\dataloader.py:791\u001b[0m, in \u001b[0;36m_SingleProcessDataLoaderIter._next_data\u001b[1;34m(self)\u001b[0m\n\u001b[0;32m    789\u001b[0m \u001b[38;5;28;01mdef\u001b[39;00m\u001b[38;5;250m \u001b[39m\u001b[38;5;21m_next_data\u001b[39m(\u001b[38;5;28mself\u001b[39m):\n\u001b[0;32m    790\u001b[0m     index \u001b[38;5;241m=\u001b[39m \u001b[38;5;28mself\u001b[39m\u001b[38;5;241m.\u001b[39m_next_index()  \u001b[38;5;66;03m# may raise StopIteration\u001b[39;00m\n\u001b[1;32m--> 791\u001b[0m     data \u001b[38;5;241m=\u001b[39m \u001b[38;5;28;43mself\u001b[39;49m\u001b[38;5;241;43m.\u001b[39;49m\u001b[43m_dataset_fetcher\u001b[49m\u001b[38;5;241;43m.\u001b[39;49m\u001b[43mfetch\u001b[49m\u001b[43m(\u001b[49m\u001b[43mindex\u001b[49m\u001b[43m)\u001b[49m  \u001b[38;5;66;03m# may raise StopIteration\u001b[39;00m\n\u001b[0;32m    792\u001b[0m     \u001b[38;5;28;01mif\u001b[39;00m \u001b[38;5;28mself\u001b[39m\u001b[38;5;241m.\u001b[39m_pin_memory:\n\u001b[0;32m    793\u001b[0m         data \u001b[38;5;241m=\u001b[39m _utils\u001b[38;5;241m.\u001b[39mpin_memory\u001b[38;5;241m.\u001b[39mpin_memory(data, \u001b[38;5;28mself\u001b[39m\u001b[38;5;241m.\u001b[39m_pin_memory_device)\n",
      "File \u001b[1;32mc:\\Users\\user\\anaconda3\\envs\\AerialObjectDetection\\lib\\site-packages\\torch\\utils\\data\\_utils\\fetch.py:52\u001b[0m, in \u001b[0;36m_MapDatasetFetcher.fetch\u001b[1;34m(self, possibly_batched_index)\u001b[0m\n\u001b[0;32m     50\u001b[0m         data \u001b[38;5;241m=\u001b[39m \u001b[38;5;28mself\u001b[39m\u001b[38;5;241m.\u001b[39mdataset\u001b[38;5;241m.\u001b[39m__getitems__(possibly_batched_index)\n\u001b[0;32m     51\u001b[0m     \u001b[38;5;28;01melse\u001b[39;00m:\n\u001b[1;32m---> 52\u001b[0m         data \u001b[38;5;241m=\u001b[39m [\u001b[38;5;28mself\u001b[39m\u001b[38;5;241m.\u001b[39mdataset[idx] \u001b[38;5;28;01mfor\u001b[39;00m idx \u001b[38;5;129;01min\u001b[39;00m possibly_batched_index]\n\u001b[0;32m     53\u001b[0m \u001b[38;5;28;01melse\u001b[39;00m:\n\u001b[0;32m     54\u001b[0m     data \u001b[38;5;241m=\u001b[39m \u001b[38;5;28mself\u001b[39m\u001b[38;5;241m.\u001b[39mdataset[possibly_batched_index]\n",
      "File \u001b[1;32mc:\\Users\\user\\anaconda3\\envs\\AerialObjectDetection\\lib\\site-packages\\torch\\utils\\data\\_utils\\fetch.py:52\u001b[0m, in \u001b[0;36m<listcomp>\u001b[1;34m(.0)\u001b[0m\n\u001b[0;32m     50\u001b[0m         data \u001b[38;5;241m=\u001b[39m \u001b[38;5;28mself\u001b[39m\u001b[38;5;241m.\u001b[39mdataset\u001b[38;5;241m.\u001b[39m__getitems__(possibly_batched_index)\n\u001b[0;32m     51\u001b[0m     \u001b[38;5;28;01melse\u001b[39;00m:\n\u001b[1;32m---> 52\u001b[0m         data \u001b[38;5;241m=\u001b[39m [\u001b[38;5;28;43mself\u001b[39;49m\u001b[38;5;241;43m.\u001b[39;49m\u001b[43mdataset\u001b[49m\u001b[43m[\u001b[49m\u001b[43midx\u001b[49m\u001b[43m]\u001b[49m \u001b[38;5;28;01mfor\u001b[39;00m idx \u001b[38;5;129;01min\u001b[39;00m possibly_batched_index]\n\u001b[0;32m     53\u001b[0m \u001b[38;5;28;01melse\u001b[39;00m:\n\u001b[0;32m     54\u001b[0m     data \u001b[38;5;241m=\u001b[39m \u001b[38;5;28mself\u001b[39m\u001b[38;5;241m.\u001b[39mdataset[possibly_batched_index]\n",
      "File \u001b[1;32mc:\\Users\\user\\Desktop\\Aerial Object Detection\\AERIAL_OBJECT_DETECTION\\utility\\dataloader_utils.py:82\u001b[0m, in \u001b[0;36mYOLOTxtDataset.__getitem__\u001b[1;34m(self, idx)\u001b[0m\n\u001b[0;32m     79\u001b[0m h0, w0 \u001b[38;5;241m=\u001b[39m img\u001b[38;5;241m.\u001b[39mheight, img\u001b[38;5;241m.\u001b[39mwidth\n\u001b[0;32m     81\u001b[0m \u001b[38;5;66;03m# (옵션) Data augmentation 자리 – 필요 시 self.augment 체크 후 적용\u001b[39;00m\n\u001b[1;32m---> 82\u001b[0m img \u001b[38;5;241m=\u001b[39m \u001b[38;5;28;43mself\u001b[39;49m\u001b[38;5;241;43m.\u001b[39;49m\u001b[43mtfms\u001b[49m\u001b[43m(\u001b[49m\u001b[43mimg\u001b[49m\u001b[43m)\u001b[49m  \u001b[38;5;66;03m# → 3×S×S tensor (0‑1)\u001b[39;00m\n\u001b[0;32m     83\u001b[0m \u001b[38;5;66;03m#print(f\"[DEBUG] __getitem__ called, self.mode = {self.mode}\")\u001b[39;00m\n\u001b[0;32m     84\u001b[0m \n\u001b[0;32m     85\u001b[0m \u001b[38;5;66;03m# read label\u001b[39;00m\n\u001b[0;32m     86\u001b[0m label_path \u001b[38;5;241m=\u001b[39m \u001b[38;5;28mself\u001b[39m\u001b[38;5;241m.\u001b[39m_label_path(img_path)\n",
      "File \u001b[1;32mc:\\Users\\user\\anaconda3\\envs\\AerialObjectDetection\\lib\\site-packages\\torchvision\\transforms\\transforms.py:95\u001b[0m, in \u001b[0;36mCompose.__call__\u001b[1;34m(self, img)\u001b[0m\n\u001b[0;32m     93\u001b[0m \u001b[38;5;28;01mdef\u001b[39;00m\u001b[38;5;250m \u001b[39m\u001b[38;5;21m__call__\u001b[39m(\u001b[38;5;28mself\u001b[39m, img):\n\u001b[0;32m     94\u001b[0m     \u001b[38;5;28;01mfor\u001b[39;00m t \u001b[38;5;129;01min\u001b[39;00m \u001b[38;5;28mself\u001b[39m\u001b[38;5;241m.\u001b[39mtransforms:\n\u001b[1;32m---> 95\u001b[0m         img \u001b[38;5;241m=\u001b[39m \u001b[43mt\u001b[49m\u001b[43m(\u001b[49m\u001b[43mimg\u001b[49m\u001b[43m)\u001b[49m\n\u001b[0;32m     96\u001b[0m     \u001b[38;5;28;01mreturn\u001b[39;00m img\n",
      "File \u001b[1;32mc:\\Users\\user\\anaconda3\\envs\\AerialObjectDetection\\lib\\site-packages\\torchvision\\transforms\\transforms.py:137\u001b[0m, in \u001b[0;36mToTensor.__call__\u001b[1;34m(self, pic)\u001b[0m\n\u001b[0;32m    129\u001b[0m \u001b[38;5;28;01mdef\u001b[39;00m\u001b[38;5;250m \u001b[39m\u001b[38;5;21m__call__\u001b[39m(\u001b[38;5;28mself\u001b[39m, pic):\n\u001b[0;32m    130\u001b[0m \u001b[38;5;250m    \u001b[39m\u001b[38;5;124;03m\"\"\"\u001b[39;00m\n\u001b[0;32m    131\u001b[0m \u001b[38;5;124;03m    Args:\u001b[39;00m\n\u001b[0;32m    132\u001b[0m \u001b[38;5;124;03m        pic (PIL Image or numpy.ndarray): Image to be converted to tensor.\u001b[39;00m\n\u001b[1;32m   (...)\u001b[0m\n\u001b[0;32m    135\u001b[0m \u001b[38;5;124;03m        Tensor: Converted image.\u001b[39;00m\n\u001b[0;32m    136\u001b[0m \u001b[38;5;124;03m    \"\"\"\u001b[39;00m\n\u001b[1;32m--> 137\u001b[0m     \u001b[38;5;28;01mreturn\u001b[39;00m \u001b[43mF\u001b[49m\u001b[38;5;241;43m.\u001b[39;49m\u001b[43mto_tensor\u001b[49m\u001b[43m(\u001b[49m\u001b[43mpic\u001b[49m\u001b[43m)\u001b[49m\n",
      "File \u001b[1;32mc:\\Users\\user\\anaconda3\\envs\\AerialObjectDetection\\lib\\site-packages\\torchvision\\transforms\\functional.py:176\u001b[0m, in \u001b[0;36mto_tensor\u001b[1;34m(pic)\u001b[0m\n\u001b[0;32m    174\u001b[0m img \u001b[38;5;241m=\u001b[39m img\u001b[38;5;241m.\u001b[39mpermute((\u001b[38;5;241m2\u001b[39m, \u001b[38;5;241m0\u001b[39m, \u001b[38;5;241m1\u001b[39m))\u001b[38;5;241m.\u001b[39mcontiguous()\n\u001b[0;32m    175\u001b[0m \u001b[38;5;28;01mif\u001b[39;00m \u001b[38;5;28misinstance\u001b[39m(img, torch\u001b[38;5;241m.\u001b[39mByteTensor):\n\u001b[1;32m--> 176\u001b[0m     \u001b[38;5;28;01mreturn\u001b[39;00m \u001b[43mimg\u001b[49m\u001b[38;5;241;43m.\u001b[39;49m\u001b[43mto\u001b[49m\u001b[43m(\u001b[49m\u001b[43mdtype\u001b[49m\u001b[38;5;241;43m=\u001b[39;49m\u001b[43mdefault_float_dtype\u001b[49m\u001b[43m)\u001b[49m\u001b[38;5;241m.\u001b[39mdiv(\u001b[38;5;241m255\u001b[39m)\n\u001b[0;32m    177\u001b[0m \u001b[38;5;28;01melse\u001b[39;00m:\n\u001b[0;32m    178\u001b[0m     \u001b[38;5;28;01mreturn\u001b[39;00m img\n",
      "\u001b[1;31mKeyboardInterrupt\u001b[0m: "
     ]
    }
   ],
   "source": [
    "from utility.utils import control_random_seed, update_dataset_paths, format_measures, merge_and_update_df\n",
    "\n",
    "\n",
    "Experiments_Time = datetime.now().strftime(\"%y%m%d_%H%M%S\")\n",
    "print('Experiment Start Time:',Experiments_Time)\n",
    "\n",
    "ex_dict = {}\n",
    "ex_dict['Experiment Time'] = Experiments_Time;ex_dict['Epochs'] = epochs;\n",
    "ex_dict['Batch Size'] = batch_size;\n",
    "ex_dict['Early Stop'] = early_stop;\n",
    "ex_dict['Device'] = device\n",
    "ex_dict['Optimizer'] = optimizer;\n",
    "ex_dict['LR']=optim_args['lr']; ex_dict['Weight Decay']=optim_args['weight_decay'];ex_dict['Momentum']=optim_args['momentum'];\n",
    "#ex_dict['Hyp'] = dict(lr0=ex_dict['LR'], momentum=ex_dict['Momentum'], weight_decay=ex_dict['Weight Decay'])\n",
    "ex_dict['Image Size'] = image_size\n",
    "ex_dict['Output Dir'] = output_dir\n",
    "ex_dict['Num Workers'] = num_workers\n",
    "ex_dict['AutoAnchor'] = True\n",
    "\n",
    "for iteration in range(iterations[0], iterations[1]+1):\n",
    "    print(f'(Iter {iteration})')\n",
    "    seed = iteration\n",
    "    ex_dict['Iteration'] = iteration\n",
    "    for j, Dataset_Name in enumerate(dataset_names):\n",
    "        print(f'Dataset: {Dataset_Name} ({j+1}/{len(dataset_names)})');\n",
    "        # 클래스별 메트릭 초기화 - 이전 데이터셋의 클래스별 메트릭이 남아있는 문제 해결\n",
    "        for key in list(ex_dict.keys()):\n",
    "            if '/' in key:  # 클래스별 메트릭은 'class_name/metric_name' 형식\n",
    "                del ex_dict[key]\n",
    "        control_random_seed(seed)\n",
    "        data_yaml_path = f\"{dataset_root}/{Dataset_Name}/data_iter_{iteration:02d}.yaml\"\n",
    "        with open(data_yaml_path, 'r') as f:\n",
    "            data_config = yaml.load(f, Loader=yaml.FullLoader)\n",
    "        ex_dict['Dataset Name'] = Dataset_Name; ex_dict['Data Config'] = data_yaml_path; ex_dict['Number of Classes'] = data_config['nc']; ex_dict['Class Names'] = data_config['names'];\n",
    "        ex_dict['Split Size'] = f\"{data_config['train_count']}/{data_config['val_count']}/{data_config['test_count']}\"\n",
    "        update_dataset_paths(dataset_root, Dataset_Name, iteration)\n",
    "        \n",
    "        for k, model_name in enumerate(model_names):\n",
    "            print(f'{model_name} ({k+1}/{len(model_names)}) (Iter {iteration})', end=' ')\n",
    "            print(f'Dataset: {Dataset_Name} ({j+1}/{len(dataset_names)})', end=' ')\n",
    "            control_random_seed(seed)\n",
    "            \n",
    "            model = get_model(model_name, ex_dict)\n",
    "            train_fn, eval_fn, test_fn = get_pipeline(model_name)\n",
    "\n",
    "            ex_dict['Model Name'] = model_name; ex_dict['Model']=model;\n",
    "            start = timeit.default_timer()\n",
    "\n",
    "            ex_dict = train_fn(ex_dict)\n",
    "            ex_dict = eval_fn(ex_dict)\n",
    "            ex_dict = test_fn(ex_dict)\n",
    "\n",
    "            ex_dict['Train-Test Time'] = timeit.default_timer() - start\n",
    "            #################\n",
    "            if ex_dict.get('Test Results') is None:\n",
    "                raise RuntimeError(\"평가 결과가 없습니다. 위의 체크리스트를 참고해 원인부터 해결하세요.\")\n",
    "\n",
    "            eval_dict = format_measures(ex_dict.get('Test Results'))\n",
    "            output_csv = f\"{ex_dict['Experiment Time']}_{project_name}_Results.csv\"\n",
    "            merge_and_update_df(ex_dict, eval_dict, output_csv, exclude_columns=['Model', 'Train Results', 'Test Results'])"
   ]
  },
  {
   "cell_type": "code",
   "execution_count": 5,
   "id": "c3a0aa77",
   "metadata": {},
   "outputs": [
    {
     "name": "stdout",
     "output_type": "stream",
     "text": [
      "CUDA 사용 가능 여부: True\n",
      "CUDA 디바이스 수: 1\n",
      "현재 사용 디바이스: 0\n",
      "디바이스 이름: NVIDIA GeForce RTX 5060 Ti\n",
      "PyTorch CUDA 버전: 12.8\n",
      "PyTorch 버전: 2.8.0.dev20250420+cu128\n"
     ]
    }
   ],
   "source": [
    "import torch\n",
    "\n",
    "print(f\"CUDA 사용 가능 여부: {torch.cuda.is_available()}\")\n",
    "print(f\"CUDA 디바이스 수: {torch.cuda.device_count()}\")\n",
    "print(f\"현재 사용 디바이스: {torch.cuda.current_device()}\")\n",
    "print(f\"디바이스 이름: {torch.cuda.get_device_name(0)}\")\n",
    "print(f\"PyTorch CUDA 버전: {torch.version.cuda}\")\n",
    "print(f\"PyTorch 버전: {torch.__version__}\")\n"
   ]
  }
 ],
 "metadata": {
  "colab": {
   "provenance": []
  },
  "kernelspec": {
   "display_name": "AerialObjectDetection",
   "language": "python",
   "name": "python3"
  },
  "language_info": {
   "codemirror_mode": {
    "name": "ipython",
    "version": 3
   },
   "file_extension": ".py",
   "mimetype": "text/x-python",
   "name": "python",
   "nbconvert_exporter": "python",
   "pygments_lexer": "ipython3",
   "version": "3.10.16"
  }
 },
 "nbformat": 4,
 "nbformat_minor": 5
}
