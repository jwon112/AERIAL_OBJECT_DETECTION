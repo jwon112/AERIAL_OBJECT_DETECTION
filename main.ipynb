{
 "cells": [
  {
   "cell_type": "code",
   "execution_count": 1,
   "id": "118onfYAiaC3",
   "metadata": {
    "colab": {
     "base_uri": "https://localhost:8080/"
    },
    "executionInfo": {
     "elapsed": 40835,
     "status": "ok",
     "timestamp": 1744696031236,
     "user": {
      "displayName": "천재원",
      "userId": "10314458299258158887"
     },
     "user_tz": -540
    },
    "id": "118onfYAiaC3",
    "outputId": "a77af88d-3470-4e5c-b532-850bd985cb13"
   },
   "outputs": [
    {
     "ename": "ModuleNotFoundError",
     "evalue": "No module named 'google'",
     "output_type": "error",
     "traceback": [
      "\u001b[1;31m---------------------------------------------------------------------------\u001b[0m",
      "\u001b[1;31mModuleNotFoundError\u001b[0m                       Traceback (most recent call last)",
      "Cell \u001b[1;32mIn[1], line 1\u001b[0m\n\u001b[1;32m----> 1\u001b[0m \u001b[38;5;28;01mfrom\u001b[39;00m\u001b[38;5;250m \u001b[39m\u001b[38;5;21;01mgoogle\u001b[39;00m\u001b[38;5;21;01m.\u001b[39;00m\u001b[38;5;21;01mcolab\u001b[39;00m\u001b[38;5;250m \u001b[39m\u001b[38;5;28;01mimport\u001b[39;00m drive\n\u001b[0;32m      2\u001b[0m drive\u001b[38;5;241m.\u001b[39mmount(\u001b[38;5;124m'\u001b[39m\u001b[38;5;124m/content/drive\u001b[39m\u001b[38;5;124m'\u001b[39m)\n",
      "\u001b[1;31mModuleNotFoundError\u001b[0m: No module named 'google'"
     ]
    }
   ],
   "source": [
    "from google.colab import drive\n",
    "drive.mount('/content/drive')"
   ]
  },
  {
   "cell_type": "code",
   "execution_count": null,
   "id": "PXrP9xO3iZ89",
   "metadata": {
    "colab": {
     "base_uri": "https://localhost:8080/"
    },
    "executionInfo": {
     "elapsed": 723,
     "status": "ok",
     "timestamp": 1744696031957,
     "user": {
      "displayName": "천재원",
      "userId": "10314458299258158887"
     },
     "user_tz": -540
    },
    "id": "PXrP9xO3iZ89",
    "outputId": "b7890770-6141-4d26-8229-6256619003db"
   },
   "outputs": [
    {
     "name": "stdout",
     "output_type": "stream",
     "text": [
      "현재 경로: /content\n",
      "현재 경로: /content/drive/MyDrive/Colab Notebooks/AerialObjectDetection/Aerial_Object_Detection\n"
     ]
    }
   ],
   "source": [
    "import os\n",
    "\n",
    "print(\"현재 경로:\", os.getcwd())\n",
    "os.chdir('/content/drive/MyDrive/Colab Notebooks/AerialObjectDetection/Aerial_Object_Detection')\n",
    "print(\"현재 경로:\", os.getcwd())\n"
   ]
  },
  {
   "cell_type": "code",
   "execution_count": null,
   "id": "I5GOpRY8iceH",
   "metadata": {
    "colab": {
     "base_uri": "https://localhost:8080/"
    },
    "executionInfo": {
     "elapsed": 121074,
     "status": "ok",
     "timestamp": 1744696153033,
     "user": {
      "displayName": "천재원",
      "userId": "10314458299258158887"
     },
     "user_tz": -540
    },
    "id": "I5GOpRY8iceH",
    "outputId": "59ea41f2-0a57-4455-c4ae-89b38873f9fb"
   },
   "outputs": [
    {
     "name": "stdout",
     "output_type": "stream",
     "text": [
      "Requirement already satisfied: torch==2.6.0 in d:\\anaconda3\\envs\\aerialobjectdetection\\lib\\site-packages (from -r requirements.txt (line 1)) (2.6.0)\n",
      "Requirement already satisfied: torchvision==0.21.0 in d:\\anaconda3\\envs\\aerialobjectdetection\\lib\\site-packages (from -r requirements.txt (line 2)) (0.21.0)\n",
      "Requirement already satisfied: ultralytics==8.3.96 in d:\\anaconda3\\envs\\aerialobjectdetection\\lib\\site-packages (from -r requirements.txt (line 5)) (8.3.96)\n",
      "Requirement already satisfied: opencv-python>=4.5.1 in d:\\anaconda3\\envs\\aerialobjectdetection\\lib\\site-packages (from -r requirements.txt (line 6)) (4.11.0.86)\n",
      "Requirement already satisfied: numpy>=1.20.0 in d:\\anaconda3\\envs\\aerialobjectdetection\\lib\\site-packages (from -r requirements.txt (line 7)) (2.1.1)\n",
      "Requirement already satisfied: matplotlib==3.10.1 in d:\\anaconda3\\envs\\aerialobjectdetection\\lib\\site-packages (from -r requirements.txt (line 8)) (3.10.1)\n",
      "Requirement already satisfied: PyYAML==6.0 in d:\\anaconda3\\envs\\aerialobjectdetection\\lib\\site-packages (from -r requirements.txt (line 9)) (6.0)\n",
      "Requirement already satisfied: tqdm==4.64.1 in d:\\anaconda3\\envs\\aerialobjectdetection\\lib\\site-packages (from -r requirements.txt (line 10)) (4.64.1)\n",
      "Requirement already satisfied: scikit-learn==1.6.1 in d:\\anaconda3\\envs\\aerialobjectdetection\\lib\\site-packages (from -r requirements.txt (line 11)) (1.6.1)\n",
      "Requirement already satisfied: ipywidgets==8.1.5 in d:\\anaconda3\\envs\\aerialobjectdetection\\lib\\site-packages (from -r requirements.txt (line 12)) (8.1.5)\n",
      "Requirement already satisfied: natsort in d:\\anaconda3\\envs\\aerialobjectdetection\\lib\\site-packages (from -r requirements.txt (line 13)) (8.4.0)\n",
      "Requirement already satisfied: filelock in d:\\anaconda3\\envs\\aerialobjectdetection\\lib\\site-packages (from torch==2.6.0->-r requirements.txt (line 1)) (3.18.0)\n",
      "Requirement already satisfied: typing-extensions>=4.10.0 in d:\\anaconda3\\envs\\aerialobjectdetection\\lib\\site-packages (from torch==2.6.0->-r requirements.txt (line 1)) (4.13.2)\n",
      "Requirement already satisfied: networkx in d:\\anaconda3\\envs\\aerialobjectdetection\\lib\\site-packages (from torch==2.6.0->-r requirements.txt (line 1)) (3.4.2)\n",
      "Requirement already satisfied: jinja2 in d:\\anaconda3\\envs\\aerialobjectdetection\\lib\\site-packages (from torch==2.6.0->-r requirements.txt (line 1)) (3.1.6)\n",
      "Requirement already satisfied: fsspec in d:\\anaconda3\\envs\\aerialobjectdetection\\lib\\site-packages (from torch==2.6.0->-r requirements.txt (line 1)) (2025.3.2)\n",
      "Requirement already satisfied: sympy==1.13.1 in d:\\anaconda3\\envs\\aerialobjectdetection\\lib\\site-packages (from torch==2.6.0->-r requirements.txt (line 1)) (1.13.1)\n",
      "Requirement already satisfied: pillow!=8.3.*,>=5.3.0 in d:\\anaconda3\\envs\\aerialobjectdetection\\lib\\site-packages (from torchvision==0.21.0->-r requirements.txt (line 2)) (11.2.1)\n",
      "Requirement already satisfied: requests>=2.23.0 in d:\\anaconda3\\envs\\aerialobjectdetection\\lib\\site-packages (from ultralytics==8.3.96->-r requirements.txt (line 5)) (2.32.3)\n",
      "Requirement already satisfied: scipy>=1.4.1 in d:\\anaconda3\\envs\\aerialobjectdetection\\lib\\site-packages (from ultralytics==8.3.96->-r requirements.txt (line 5)) (1.15.2)\n",
      "Requirement already satisfied: psutil in d:\\anaconda3\\envs\\aerialobjectdetection\\lib\\site-packages (from ultralytics==8.3.96->-r requirements.txt (line 5)) (7.0.0)\n",
      "Requirement already satisfied: py-cpuinfo in d:\\anaconda3\\envs\\aerialobjectdetection\\lib\\site-packages (from ultralytics==8.3.96->-r requirements.txt (line 5)) (9.0.0)\n",
      "Requirement already satisfied: pandas>=1.1.4 in d:\\anaconda3\\envs\\aerialobjectdetection\\lib\\site-packages (from ultralytics==8.3.96->-r requirements.txt (line 5)) (2.2.3)\n",
      "Requirement already satisfied: seaborn>=0.11.0 in d:\\anaconda3\\envs\\aerialobjectdetection\\lib\\site-packages (from ultralytics==8.3.96->-r requirements.txt (line 5)) (0.13.2)\n",
      "Requirement already satisfied: ultralytics-thop>=2.0.0 in d:\\anaconda3\\envs\\aerialobjectdetection\\lib\\site-packages (from ultralytics==8.3.96->-r requirements.txt (line 5)) (2.0.14)\n",
      "Requirement already satisfied: contourpy>=1.0.1 in d:\\anaconda3\\envs\\aerialobjectdetection\\lib\\site-packages (from matplotlib==3.10.1->-r requirements.txt (line 8)) (1.3.1)\n",
      "Requirement already satisfied: cycler>=0.10 in d:\\anaconda3\\envs\\aerialobjectdetection\\lib\\site-packages (from matplotlib==3.10.1->-r requirements.txt (line 8)) (0.12.1)\n",
      "Requirement already satisfied: fonttools>=4.22.0 in d:\\anaconda3\\envs\\aerialobjectdetection\\lib\\site-packages (from matplotlib==3.10.1->-r requirements.txt (line 8)) (4.57.0)\n",
      "Requirement already satisfied: kiwisolver>=1.3.1 in d:\\anaconda3\\envs\\aerialobjectdetection\\lib\\site-packages (from matplotlib==3.10.1->-r requirements.txt (line 8)) (1.4.8)\n",
      "Requirement already satisfied: packaging>=20.0 in d:\\anaconda3\\envs\\aerialobjectdetection\\lib\\site-packages (from matplotlib==3.10.1->-r requirements.txt (line 8)) (24.2)\n",
      "Requirement already satisfied: pyparsing>=2.3.1 in d:\\anaconda3\\envs\\aerialobjectdetection\\lib\\site-packages (from matplotlib==3.10.1->-r requirements.txt (line 8)) (3.2.3)\n",
      "Requirement already satisfied: python-dateutil>=2.7 in d:\\anaconda3\\envs\\aerialobjectdetection\\lib\\site-packages (from matplotlib==3.10.1->-r requirements.txt (line 8)) (2.9.0.post0)\n",
      "Requirement already satisfied: colorama in d:\\anaconda3\\envs\\aerialobjectdetection\\lib\\site-packages (from tqdm==4.64.1->-r requirements.txt (line 10)) (0.4.6)\n",
      "Requirement already satisfied: joblib>=1.2.0 in d:\\anaconda3\\envs\\aerialobjectdetection\\lib\\site-packages (from scikit-learn==1.6.1->-r requirements.txt (line 11)) (1.4.2)\n",
      "Requirement already satisfied: threadpoolctl>=3.1.0 in d:\\anaconda3\\envs\\aerialobjectdetection\\lib\\site-packages (from scikit-learn==1.6.1->-r requirements.txt (line 11)) (3.6.0)\n",
      "Requirement already satisfied: comm>=0.1.3 in d:\\anaconda3\\envs\\aerialobjectdetection\\lib\\site-packages (from ipywidgets==8.1.5->-r requirements.txt (line 12)) (0.2.2)\n",
      "Requirement already satisfied: ipython>=6.1.0 in d:\\anaconda3\\envs\\aerialobjectdetection\\lib\\site-packages (from ipywidgets==8.1.5->-r requirements.txt (line 12)) (8.35.0)\n",
      "Requirement already satisfied: traitlets>=4.3.1 in d:\\anaconda3\\envs\\aerialobjectdetection\\lib\\site-packages (from ipywidgets==8.1.5->-r requirements.txt (line 12)) (5.14.3)\n",
      "Requirement already satisfied: widgetsnbextension~=4.0.12 in d:\\anaconda3\\envs\\aerialobjectdetection\\lib\\site-packages (from ipywidgets==8.1.5->-r requirements.txt (line 12)) (4.0.14)\n",
      "Requirement already satisfied: jupyterlab-widgets~=3.0.12 in d:\\anaconda3\\envs\\aerialobjectdetection\\lib\\site-packages (from ipywidgets==8.1.5->-r requirements.txt (line 12)) (3.0.14)\n",
      "Requirement already satisfied: mpmath<1.4,>=1.1.0 in d:\\anaconda3\\envs\\aerialobjectdetection\\lib\\site-packages (from sympy==1.13.1->torch==2.6.0->-r requirements.txt (line 1)) (1.3.0)\n",
      "Requirement already satisfied: decorator in d:\\anaconda3\\envs\\aerialobjectdetection\\lib\\site-packages (from ipython>=6.1.0->ipywidgets==8.1.5->-r requirements.txt (line 12)) (5.2.1)\n",
      "Requirement already satisfied: exceptiongroup in d:\\anaconda3\\envs\\aerialobjectdetection\\lib\\site-packages (from ipython>=6.1.0->ipywidgets==8.1.5->-r requirements.txt (line 12)) (1.2.2)\n",
      "Requirement already satisfied: jedi>=0.16 in d:\\anaconda3\\envs\\aerialobjectdetection\\lib\\site-packages (from ipython>=6.1.0->ipywidgets==8.1.5->-r requirements.txt (line 12)) (0.19.2)\n",
      "Requirement already satisfied: matplotlib-inline in d:\\anaconda3\\envs\\aerialobjectdetection\\lib\\site-packages (from ipython>=6.1.0->ipywidgets==8.1.5->-r requirements.txt (line 12)) (0.1.7)\n",
      "Requirement already satisfied: prompt_toolkit<3.1.0,>=3.0.41 in d:\\anaconda3\\envs\\aerialobjectdetection\\lib\\site-packages (from ipython>=6.1.0->ipywidgets==8.1.5->-r requirements.txt (line 12)) (3.0.50)\n",
      "Requirement already satisfied: pygments>=2.4.0 in d:\\anaconda3\\envs\\aerialobjectdetection\\lib\\site-packages (from ipython>=6.1.0->ipywidgets==8.1.5->-r requirements.txt (line 12)) (2.19.1)\n",
      "Requirement already satisfied: stack_data in d:\\anaconda3\\envs\\aerialobjectdetection\\lib\\site-packages (from ipython>=6.1.0->ipywidgets==8.1.5->-r requirements.txt (line 12)) (0.6.3)\n",
      "Requirement already satisfied: pytz>=2020.1 in d:\\anaconda3\\envs\\aerialobjectdetection\\lib\\site-packages (from pandas>=1.1.4->ultralytics==8.3.96->-r requirements.txt (line 5)) (2025.2)\n",
      "Requirement already satisfied: tzdata>=2022.7 in d:\\anaconda3\\envs\\aerialobjectdetection\\lib\\site-packages (from pandas>=1.1.4->ultralytics==8.3.96->-r requirements.txt (line 5)) (2025.2)\n",
      "Requirement already satisfied: six>=1.5 in d:\\anaconda3\\envs\\aerialobjectdetection\\lib\\site-packages (from python-dateutil>=2.7->matplotlib==3.10.1->-r requirements.txt (line 8)) (1.17.0)\n",
      "Requirement already satisfied: charset-normalizer<4,>=2 in d:\\anaconda3\\envs\\aerialobjectdetection\\lib\\site-packages (from requests>=2.23.0->ultralytics==8.3.96->-r requirements.txt (line 5)) (3.4.1)\n",
      "Requirement already satisfied: idna<4,>=2.5 in d:\\anaconda3\\envs\\aerialobjectdetection\\lib\\site-packages (from requests>=2.23.0->ultralytics==8.3.96->-r requirements.txt (line 5)) (3.10)\n",
      "Requirement already satisfied: urllib3<3,>=1.21.1 in d:\\anaconda3\\envs\\aerialobjectdetection\\lib\\site-packages (from requests>=2.23.0->ultralytics==8.3.96->-r requirements.txt (line 5)) (2.4.0)\n",
      "Requirement already satisfied: certifi>=2017.4.17 in d:\\anaconda3\\envs\\aerialobjectdetection\\lib\\site-packages (from requests>=2.23.0->ultralytics==8.3.96->-r requirements.txt (line 5)) (2025.1.31)\n",
      "Requirement already satisfied: MarkupSafe>=2.0 in d:\\anaconda3\\envs\\aerialobjectdetection\\lib\\site-packages (from jinja2->torch==2.6.0->-r requirements.txt (line 1)) (3.0.2)\n",
      "Requirement already satisfied: parso<0.9.0,>=0.8.4 in d:\\anaconda3\\envs\\aerialobjectdetection\\lib\\site-packages (from jedi>=0.16->ipython>=6.1.0->ipywidgets==8.1.5->-r requirements.txt (line 12)) (0.8.4)\n",
      "Requirement already satisfied: wcwidth in d:\\anaconda3\\envs\\aerialobjectdetection\\lib\\site-packages (from prompt_toolkit<3.1.0,>=3.0.41->ipython>=6.1.0->ipywidgets==8.1.5->-r requirements.txt (line 12)) (0.2.13)\n",
      "Requirement already satisfied: executing>=1.2.0 in d:\\anaconda3\\envs\\aerialobjectdetection\\lib\\site-packages (from stack_data->ipython>=6.1.0->ipywidgets==8.1.5->-r requirements.txt (line 12)) (2.2.0)\n",
      "Requirement already satisfied: asttokens>=2.1.0 in d:\\anaconda3\\envs\\aerialobjectdetection\\lib\\site-packages (from stack_data->ipython>=6.1.0->ipywidgets==8.1.5->-r requirements.txt (line 12)) (3.0.0)\n",
      "Requirement already satisfied: pure-eval in d:\\anaconda3\\envs\\aerialobjectdetection\\lib\\site-packages (from stack_data->ipython>=6.1.0->ipywidgets==8.1.5->-r requirements.txt (line 12)) (0.2.3)\n"
     ]
    }
   ],
   "source": [
    "!pip install -r requirements.txt"
   ]
  },
  {
   "cell_type": "code",
   "execution_count": 13,
   "id": "64c1d42b",
   "metadata": {},
   "outputs": [],
   "source": [
    "%load_ext autoreload\n",
    "%autoreload 2"
   ]
  },
  {
   "cell_type": "code",
   "execution_count": 6,
   "id": "6dd08f52",
   "metadata": {
    "colab": {
     "base_uri": "https://localhost:8080/"
    },
    "execution": {
     "iopub.execute_input": "2025-04-11T09:04:12.198519Z",
     "iopub.status.busy": "2025-04-11T09:04:12.198421Z",
     "iopub.status.idle": "2025-04-11T09:04:15.339455Z",
     "shell.execute_reply": "2025-04-11T09:04:15.339113Z",
     "shell.execute_reply.started": "2025-04-11T09:04:12.198511Z"
    },
    "executionInfo": {
     "elapsed": 13561,
     "status": "ok",
     "timestamp": 1744696166669,
     "user": {
      "displayName": "천재원",
      "userId": "10314458299258158887"
     },
     "user_tz": -540
    },
    "id": "6dd08f52",
    "outputId": "9861d3a5-ad07-48e8-a7a5-716d079f073f"
   },
   "outputs": [],
   "source": [
    "import yaml\n",
    "import timeit\n",
    "import numpy as np\n",
    "import pandas as pd\n",
    "import torch\n",
    "from datetime import datetime\n",
    "from utility import *\n",
    "from ultralytics import settings\n",
    "from registry import get_model, get_pipeline\n",
    "#settings.update({'datasets_dir': os.path.abspath('.')})\n"
   ]
  },
  {
   "cell_type": "code",
   "execution_count": null,
   "id": "3c883b28-7e26-40bb-9d4f-b8a384ed40d8",
   "metadata": {
    "execution": {
     "iopub.execute_input": "2025-04-11T09:04:15.339909Z",
     "iopub.status.busy": "2025-04-11T09:04:15.339783Z",
     "iopub.status.idle": "2025-04-11T09:04:15.342378Z",
     "shell.execute_reply": "2025-04-11T09:04:15.342181Z",
     "shell.execute_reply.started": "2025-04-11T09:04:15.339901Z"
    },
    "executionInfo": {
     "elapsed": 4,
     "status": "ok",
     "timestamp": 1744696166729,
     "user": {
      "displayName": "천재원",
      "userId": "10314458299258158887"
     },
     "user_tz": -540
    },
    "id": "3c883b28-7e26-40bb-9d4f-b8a384ed40d8"
   },
   "outputs": [],
   "source": [
    "project_name = 'Object Detection'\n",
    "# dataset_root 가 상대경로일 경우 colab 환경에서는 무조건 앞에 datasets 를 붙여서 찾는 문제가 있음\n",
    "dataset_root = 'Datasets'\n",
    "output_dir = 'output'\n",
    "dataset_names = ['COCO_airplane']\n",
    "model_names = ['YoloOW', 'yoloh18', 'yoloh50', 'yoloh101' ]\n",
    "iterations = [1, 5]\n",
    "epochs = 20\n",
    "early_stop = 20\n",
    "batch_size = 16\n",
    "image_size = 640\n",
    "optimizer = 'AdamW'\n",
    "lr = 1e-3\n",
    "momentum = 0.9\n",
    "weight_decay = 1e-4\n",
    "optim_args = {'optimizer': optimizer, 'lr': lr, 'momentum': momentum, 'weight_decay': weight_decay}\n",
    "devices = [0]\n",
    "device = torch.device(\"cuda:\"+str(devices[0])) if len(devices)>0 else torch.device(\"cpu\")\n",
    "train_split = 0.6\n",
    "val_split = 0.2\n",
    "test_split = 0.2\n",
    "num_workers = 2"
   ]
  },
  {
   "cell_type": "code",
   "execution_count": null,
   "id": "3564f553-e7b4-45cd-9171-465418f355ae",
   "metadata": {
    "colab": {
     "base_uri": "https://localhost:8080/"
    },
    "execution": {
     "iopub.execute_input": "2025-04-11T09:04:15.342815Z",
     "iopub.status.busy": "2025-04-11T09:04:15.342678Z",
     "iopub.status.idle": "2025-04-11T09:04:20.532205Z",
     "shell.execute_reply": "2025-04-11T09:04:20.531371Z",
     "shell.execute_reply.started": "2025-04-11T09:04:15.342803Z"
    },
    "executionInfo": {
     "elapsed": 5894784,
     "status": "ok",
     "timestamp": 1744702065603,
     "user": {
      "displayName": "천재원",
      "userId": "10314458299258158887"
     },
     "user_tz": -540
    },
    "id": "3564f553-e7b4-45cd-9171-465418f355ae",
    "outputId": "24fde293-4a80-49a9-ed27-3892b0e3e555",
    "scrolled": true
   },
   "outputs": [
    {
     "name": "stdout",
     "output_type": "stream",
     "text": [
      "Experiment Start Time: 250421_173643\n",
      "(Iter 1)\n",
      "Dataset: COCO_airplane (1/1)\n",
      "YoloOW (1/4) (Iter 1) Dataset: COCO_airplane (1/1) [YoloOW] Using config → D:\\강의\\중앙대\\Small Object Detection\\실험 코드\\Aerial_Object_Detection\\Aerial_Object_Detection\\Models\\YoloOW\\cfg\\training\\yoloOW.yaml\n"
     ]
    },
    {
     "ename": "AssertionError",
     "evalue": "Torch not compiled with CUDA enabled",
     "output_type": "error",
     "traceback": [
      "\u001b[1;31m---------------------------------------------------------------------------\u001b[0m",
      "\u001b[1;31mAssertionError\u001b[0m                            Traceback (most recent call last)",
      "Cell \u001b[1;32mIn[8], line 38\u001b[0m\n\u001b[0;32m     35\u001b[0m \u001b[38;5;28mprint\u001b[39m(\u001b[38;5;124mf\u001b[39m\u001b[38;5;124m'\u001b[39m\u001b[38;5;124mDataset: \u001b[39m\u001b[38;5;132;01m{\u001b[39;00mDataset_Name\u001b[38;5;132;01m}\u001b[39;00m\u001b[38;5;124m (\u001b[39m\u001b[38;5;132;01m{\u001b[39;00mj\u001b[38;5;241m+\u001b[39m\u001b[38;5;241m1\u001b[39m\u001b[38;5;132;01m}\u001b[39;00m\u001b[38;5;124m/\u001b[39m\u001b[38;5;132;01m{\u001b[39;00m\u001b[38;5;28mlen\u001b[39m(dataset_names)\u001b[38;5;132;01m}\u001b[39;00m\u001b[38;5;124m)\u001b[39m\u001b[38;5;124m'\u001b[39m, end\u001b[38;5;241m=\u001b[39m\u001b[38;5;124m'\u001b[39m\u001b[38;5;124m \u001b[39m\u001b[38;5;124m'\u001b[39m)\n\u001b[0;32m     36\u001b[0m control_random_seed(seed)\n\u001b[1;32m---> 38\u001b[0m model \u001b[38;5;241m=\u001b[39m \u001b[43mget_model\u001b[49m\u001b[43m(\u001b[49m\u001b[43mmodel_name\u001b[49m\u001b[43m,\u001b[49m\u001b[43m \u001b[49m\u001b[43mex_dict\u001b[49m\u001b[43m)\u001b[49m\n\u001b[0;32m     39\u001b[0m train_fn, eval_fn \u001b[38;5;241m=\u001b[39m get_pipeline(model_name)\n\u001b[0;32m     41\u001b[0m ex_dict[\u001b[38;5;124m'\u001b[39m\u001b[38;5;124mModel Name\u001b[39m\u001b[38;5;124m'\u001b[39m] \u001b[38;5;241m=\u001b[39m model_name; ex_dict[\u001b[38;5;124m'\u001b[39m\u001b[38;5;124mModel\u001b[39m\u001b[38;5;124m'\u001b[39m]\u001b[38;5;241m=\u001b[39mmodel;\n",
      "File \u001b[1;32md:\\강의\\중앙대\\Small Object Detection\\실험 코드\\Aerial_Object_Detection\\Aerial_Object_Detection\\registry.py:32\u001b[0m, in \u001b[0;36mget_model\u001b[1;34m(model_name, ex_dict)\u001b[0m\n\u001b[0;32m     30\u001b[0m \u001b[38;5;28;01mif\u001b[39;00m model_name \u001b[38;5;129;01mnot\u001b[39;00m \u001b[38;5;129;01min\u001b[39;00m model_registry:\n\u001b[0;32m     31\u001b[0m     \u001b[38;5;28;01mraise\u001b[39;00m \u001b[38;5;167;01mValueError\u001b[39;00m(\u001b[38;5;124mf\u001b[39m\u001b[38;5;124m\"\u001b[39m\u001b[38;5;124mUnsupported model: \u001b[39m\u001b[38;5;132;01m{\u001b[39;00mmodel_name\u001b[38;5;132;01m}\u001b[39;00m\u001b[38;5;124m\"\u001b[39m)\n\u001b[1;32m---> 32\u001b[0m \u001b[38;5;28;01mreturn\u001b[39;00m \u001b[43mmodel_registry\u001b[49m\u001b[43m[\u001b[49m\u001b[43mmodel_name\u001b[49m\u001b[43m]\u001b[49m\u001b[43m[\u001b[49m\u001b[38;5;124;43m'\u001b[39;49m\u001b[38;5;124;43mbuild\u001b[39;49m\u001b[38;5;124;43m'\u001b[39;49m\u001b[43m]\u001b[49m\u001b[43m(\u001b[49m\u001b[43mex_dict\u001b[49m\u001b[38;5;241;43m=\u001b[39;49m\u001b[43mex_dict\u001b[49m\u001b[43m)\u001b[49m\n",
      "File \u001b[1;32md:\\강의\\중앙대\\Small Object Detection\\실험 코드\\Aerial_Object_Detection\\Aerial_Object_Detection\\utility\\yoloow_utils.py:29\u001b[0m, in \u001b[0;36mbuild_yoloow_model\u001b[1;34m(cfg, ex_dict)\u001b[0m\n\u001b[0;32m     27\u001b[0m \u001b[38;5;28mprint\u001b[39m(\u001b[38;5;124mf\u001b[39m\u001b[38;5;124m\"\u001b[39m\u001b[38;5;124m[YoloOW] Using config → \u001b[39m\u001b[38;5;132;01m{\u001b[39;00mcfg_path\u001b[38;5;132;01m}\u001b[39;00m\u001b[38;5;124m\"\u001b[39m)         \u001b[38;5;66;03m# 디버그 로그\u001b[39;00m\n\u001b[0;32m     28\u001b[0m \u001b[38;5;66;03m# 하이퍼 파라미터 세팅\u001b[39;00m\n\u001b[1;32m---> 29\u001b[0m model \u001b[38;5;241m=\u001b[39m \u001b[43mYoloOWModel\u001b[49m\u001b[43m(\u001b[49m\u001b[43mcfg\u001b[49m\u001b[38;5;241;43m=\u001b[39;49m\u001b[38;5;28;43mstr\u001b[39;49m\u001b[43m(\u001b[49m\u001b[43mcfg_path\u001b[49m\u001b[43m)\u001b[49m\u001b[43m,\u001b[49m\u001b[43m \u001b[49m\u001b[43mch\u001b[49m\u001b[38;5;241;43m=\u001b[39;49m\u001b[38;5;241;43m3\u001b[39;49m\u001b[43m,\u001b[49m\u001b[43m \u001b[49m\u001b[43mnc\u001b[49m\u001b[38;5;241;43m=\u001b[39;49m\u001b[43mex_dict\u001b[49m\u001b[43m[\u001b[49m\u001b[38;5;124;43m'\u001b[39;49m\u001b[38;5;124;43mNumber of Classes\u001b[39;49m\u001b[38;5;124;43m'\u001b[39;49m\u001b[43m]\u001b[49m\u001b[43m)\u001b[49m\u001b[38;5;241;43m.\u001b[39;49m\u001b[43mto\u001b[49m\u001b[43m(\u001b[49m\u001b[43mex_dict\u001b[49m\u001b[43m[\u001b[49m\u001b[38;5;124;43m'\u001b[39;49m\u001b[38;5;124;43mDevice\u001b[39;49m\u001b[38;5;124;43m'\u001b[39;49m\u001b[43m]\u001b[49m\u001b[43m)\u001b[49m\n\u001b[0;32m     30\u001b[0m \u001b[38;5;28;01mif\u001b[39;00m ex_dict \u001b[38;5;129;01mand\u001b[39;00m \u001b[38;5;124m\"\u001b[39m\u001b[38;5;124mHyp\u001b[39m\u001b[38;5;124m\"\u001b[39m \u001b[38;5;129;01min\u001b[39;00m ex_dict:\n\u001b[0;32m     31\u001b[0m     model\u001b[38;5;241m.\u001b[39mhyp \u001b[38;5;241m=\u001b[39m ex_dict[\u001b[38;5;124m\"\u001b[39m\u001b[38;5;124mHyp\u001b[39m\u001b[38;5;124m\"\u001b[39m]\n",
      "File \u001b[1;32md:\\anaconda3\\envs\\AerialObjectDetection\\lib\\site-packages\\torch\\nn\\modules\\module.py:1343\u001b[0m, in \u001b[0;36mModule.to\u001b[1;34m(self, *args, **kwargs)\u001b[0m\n\u001b[0;32m   1340\u001b[0m         \u001b[38;5;28;01melse\u001b[39;00m:\n\u001b[0;32m   1341\u001b[0m             \u001b[38;5;28;01mraise\u001b[39;00m\n\u001b[1;32m-> 1343\u001b[0m \u001b[38;5;28;01mreturn\u001b[39;00m \u001b[38;5;28;43mself\u001b[39;49m\u001b[38;5;241;43m.\u001b[39;49m\u001b[43m_apply\u001b[49m\u001b[43m(\u001b[49m\u001b[43mconvert\u001b[49m\u001b[43m)\u001b[49m\n",
      "File \u001b[1;32md:\\anaconda3\\envs\\AerialObjectDetection\\lib\\site-packages\\torch\\nn\\modules\\module.py:903\u001b[0m, in \u001b[0;36mModule._apply\u001b[1;34m(self, fn, recurse)\u001b[0m\n\u001b[0;32m    901\u001b[0m \u001b[38;5;28;01mif\u001b[39;00m recurse:\n\u001b[0;32m    902\u001b[0m     \u001b[38;5;28;01mfor\u001b[39;00m module \u001b[38;5;129;01min\u001b[39;00m \u001b[38;5;28mself\u001b[39m\u001b[38;5;241m.\u001b[39mchildren():\n\u001b[1;32m--> 903\u001b[0m         \u001b[43mmodule\u001b[49m\u001b[38;5;241;43m.\u001b[39;49m\u001b[43m_apply\u001b[49m\u001b[43m(\u001b[49m\u001b[43mfn\u001b[49m\u001b[43m)\u001b[49m\n\u001b[0;32m    905\u001b[0m \u001b[38;5;28;01mdef\u001b[39;00m\u001b[38;5;250m \u001b[39m\u001b[38;5;21mcompute_should_use_set_data\u001b[39m(tensor, tensor_applied):\n\u001b[0;32m    906\u001b[0m     \u001b[38;5;28;01mif\u001b[39;00m torch\u001b[38;5;241m.\u001b[39m_has_compatible_shallow_copy_type(tensor, tensor_applied):\n\u001b[0;32m    907\u001b[0m         \u001b[38;5;66;03m# If the new tensor has compatible tensor type as the existing tensor,\u001b[39;00m\n\u001b[0;32m    908\u001b[0m         \u001b[38;5;66;03m# the current behavior is to change the tensor in-place using `.data =`,\u001b[39;00m\n\u001b[1;32m   (...)\u001b[0m\n\u001b[0;32m    913\u001b[0m         \u001b[38;5;66;03m# global flag to let the user control whether they want the future\u001b[39;00m\n\u001b[0;32m    914\u001b[0m         \u001b[38;5;66;03m# behavior of overwriting the existing tensor or not.\u001b[39;00m\n",
      "File \u001b[1;32md:\\anaconda3\\envs\\AerialObjectDetection\\lib\\site-packages\\torch\\nn\\modules\\module.py:903\u001b[0m, in \u001b[0;36mModule._apply\u001b[1;34m(self, fn, recurse)\u001b[0m\n\u001b[0;32m    901\u001b[0m \u001b[38;5;28;01mif\u001b[39;00m recurse:\n\u001b[0;32m    902\u001b[0m     \u001b[38;5;28;01mfor\u001b[39;00m module \u001b[38;5;129;01min\u001b[39;00m \u001b[38;5;28mself\u001b[39m\u001b[38;5;241m.\u001b[39mchildren():\n\u001b[1;32m--> 903\u001b[0m         \u001b[43mmodule\u001b[49m\u001b[38;5;241;43m.\u001b[39;49m\u001b[43m_apply\u001b[49m\u001b[43m(\u001b[49m\u001b[43mfn\u001b[49m\u001b[43m)\u001b[49m\n\u001b[0;32m    905\u001b[0m \u001b[38;5;28;01mdef\u001b[39;00m\u001b[38;5;250m \u001b[39m\u001b[38;5;21mcompute_should_use_set_data\u001b[39m(tensor, tensor_applied):\n\u001b[0;32m    906\u001b[0m     \u001b[38;5;28;01mif\u001b[39;00m torch\u001b[38;5;241m.\u001b[39m_has_compatible_shallow_copy_type(tensor, tensor_applied):\n\u001b[0;32m    907\u001b[0m         \u001b[38;5;66;03m# If the new tensor has compatible tensor type as the existing tensor,\u001b[39;00m\n\u001b[0;32m    908\u001b[0m         \u001b[38;5;66;03m# the current behavior is to change the tensor in-place using `.data =`,\u001b[39;00m\n\u001b[1;32m   (...)\u001b[0m\n\u001b[0;32m    913\u001b[0m         \u001b[38;5;66;03m# global flag to let the user control whether they want the future\u001b[39;00m\n\u001b[0;32m    914\u001b[0m         \u001b[38;5;66;03m# behavior of overwriting the existing tensor or not.\u001b[39;00m\n",
      "    \u001b[1;31m[... skipping similar frames: Module._apply at line 903 (2 times)]\u001b[0m\n",
      "File \u001b[1;32md:\\anaconda3\\envs\\AerialObjectDetection\\lib\\site-packages\\torch\\nn\\modules\\module.py:903\u001b[0m, in \u001b[0;36mModule._apply\u001b[1;34m(self, fn, recurse)\u001b[0m\n\u001b[0;32m    901\u001b[0m \u001b[38;5;28;01mif\u001b[39;00m recurse:\n\u001b[0;32m    902\u001b[0m     \u001b[38;5;28;01mfor\u001b[39;00m module \u001b[38;5;129;01min\u001b[39;00m \u001b[38;5;28mself\u001b[39m\u001b[38;5;241m.\u001b[39mchildren():\n\u001b[1;32m--> 903\u001b[0m         \u001b[43mmodule\u001b[49m\u001b[38;5;241;43m.\u001b[39;49m\u001b[43m_apply\u001b[49m\u001b[43m(\u001b[49m\u001b[43mfn\u001b[49m\u001b[43m)\u001b[49m\n\u001b[0;32m    905\u001b[0m \u001b[38;5;28;01mdef\u001b[39;00m\u001b[38;5;250m \u001b[39m\u001b[38;5;21mcompute_should_use_set_data\u001b[39m(tensor, tensor_applied):\n\u001b[0;32m    906\u001b[0m     \u001b[38;5;28;01mif\u001b[39;00m torch\u001b[38;5;241m.\u001b[39m_has_compatible_shallow_copy_type(tensor, tensor_applied):\n\u001b[0;32m    907\u001b[0m         \u001b[38;5;66;03m# If the new tensor has compatible tensor type as the existing tensor,\u001b[39;00m\n\u001b[0;32m    908\u001b[0m         \u001b[38;5;66;03m# the current behavior is to change the tensor in-place using `.data =`,\u001b[39;00m\n\u001b[1;32m   (...)\u001b[0m\n\u001b[0;32m    913\u001b[0m         \u001b[38;5;66;03m# global flag to let the user control whether they want the future\u001b[39;00m\n\u001b[0;32m    914\u001b[0m         \u001b[38;5;66;03m# behavior of overwriting the existing tensor or not.\u001b[39;00m\n",
      "File \u001b[1;32md:\\anaconda3\\envs\\AerialObjectDetection\\lib\\site-packages\\torch\\nn\\modules\\module.py:930\u001b[0m, in \u001b[0;36mModule._apply\u001b[1;34m(self, fn, recurse)\u001b[0m\n\u001b[0;32m    926\u001b[0m \u001b[38;5;66;03m# Tensors stored in modules are graph leaves, and we don't want to\u001b[39;00m\n\u001b[0;32m    927\u001b[0m \u001b[38;5;66;03m# track autograd history of `param_applied`, so we have to use\u001b[39;00m\n\u001b[0;32m    928\u001b[0m \u001b[38;5;66;03m# `with torch.no_grad():`\u001b[39;00m\n\u001b[0;32m    929\u001b[0m \u001b[38;5;28;01mwith\u001b[39;00m torch\u001b[38;5;241m.\u001b[39mno_grad():\n\u001b[1;32m--> 930\u001b[0m     param_applied \u001b[38;5;241m=\u001b[39m \u001b[43mfn\u001b[49m\u001b[43m(\u001b[49m\u001b[43mparam\u001b[49m\u001b[43m)\u001b[49m\n\u001b[0;32m    931\u001b[0m p_should_use_set_data \u001b[38;5;241m=\u001b[39m compute_should_use_set_data(param, param_applied)\n\u001b[0;32m    933\u001b[0m \u001b[38;5;66;03m# subclasses may have multiple child tensors so we need to use swap_tensors\u001b[39;00m\n",
      "File \u001b[1;32md:\\anaconda3\\envs\\AerialObjectDetection\\lib\\site-packages\\torch\\nn\\modules\\module.py:1329\u001b[0m, in \u001b[0;36mModule.to.<locals>.convert\u001b[1;34m(t)\u001b[0m\n\u001b[0;32m   1322\u001b[0m     \u001b[38;5;28;01mif\u001b[39;00m convert_to_format \u001b[38;5;129;01mis\u001b[39;00m \u001b[38;5;129;01mnot\u001b[39;00m \u001b[38;5;28;01mNone\u001b[39;00m \u001b[38;5;129;01mand\u001b[39;00m t\u001b[38;5;241m.\u001b[39mdim() \u001b[38;5;129;01min\u001b[39;00m (\u001b[38;5;241m4\u001b[39m, \u001b[38;5;241m5\u001b[39m):\n\u001b[0;32m   1323\u001b[0m         \u001b[38;5;28;01mreturn\u001b[39;00m t\u001b[38;5;241m.\u001b[39mto(\n\u001b[0;32m   1324\u001b[0m             device,\n\u001b[0;32m   1325\u001b[0m             dtype \u001b[38;5;28;01mif\u001b[39;00m t\u001b[38;5;241m.\u001b[39mis_floating_point() \u001b[38;5;129;01mor\u001b[39;00m t\u001b[38;5;241m.\u001b[39mis_complex() \u001b[38;5;28;01melse\u001b[39;00m \u001b[38;5;28;01mNone\u001b[39;00m,\n\u001b[0;32m   1326\u001b[0m             non_blocking,\n\u001b[0;32m   1327\u001b[0m             memory_format\u001b[38;5;241m=\u001b[39mconvert_to_format,\n\u001b[0;32m   1328\u001b[0m         )\n\u001b[1;32m-> 1329\u001b[0m     \u001b[38;5;28;01mreturn\u001b[39;00m \u001b[43mt\u001b[49m\u001b[38;5;241;43m.\u001b[39;49m\u001b[43mto\u001b[49m\u001b[43m(\u001b[49m\n\u001b[0;32m   1330\u001b[0m \u001b[43m        \u001b[49m\u001b[43mdevice\u001b[49m\u001b[43m,\u001b[49m\n\u001b[0;32m   1331\u001b[0m \u001b[43m        \u001b[49m\u001b[43mdtype\u001b[49m\u001b[43m \u001b[49m\u001b[38;5;28;43;01mif\u001b[39;49;00m\u001b[43m \u001b[49m\u001b[43mt\u001b[49m\u001b[38;5;241;43m.\u001b[39;49m\u001b[43mis_floating_point\u001b[49m\u001b[43m(\u001b[49m\u001b[43m)\u001b[49m\u001b[43m \u001b[49m\u001b[38;5;129;43;01mor\u001b[39;49;00m\u001b[43m \u001b[49m\u001b[43mt\u001b[49m\u001b[38;5;241;43m.\u001b[39;49m\u001b[43mis_complex\u001b[49m\u001b[43m(\u001b[49m\u001b[43m)\u001b[49m\u001b[43m \u001b[49m\u001b[38;5;28;43;01melse\u001b[39;49;00m\u001b[43m \u001b[49m\u001b[38;5;28;43;01mNone\u001b[39;49;00m\u001b[43m,\u001b[49m\n\u001b[0;32m   1332\u001b[0m \u001b[43m        \u001b[49m\u001b[43mnon_blocking\u001b[49m\u001b[43m,\u001b[49m\n\u001b[0;32m   1333\u001b[0m \u001b[43m    \u001b[49m\u001b[43m)\u001b[49m\n\u001b[0;32m   1334\u001b[0m \u001b[38;5;28;01mexcept\u001b[39;00m \u001b[38;5;167;01mNotImplementedError\u001b[39;00m \u001b[38;5;28;01mas\u001b[39;00m e:\n\u001b[0;32m   1335\u001b[0m     \u001b[38;5;28;01mif\u001b[39;00m \u001b[38;5;28mstr\u001b[39m(e) \u001b[38;5;241m==\u001b[39m \u001b[38;5;124m\"\u001b[39m\u001b[38;5;124mCannot copy out of meta tensor; no data!\u001b[39m\u001b[38;5;124m\"\u001b[39m:\n",
      "File \u001b[1;32md:\\anaconda3\\envs\\AerialObjectDetection\\lib\\site-packages\\torch\\cuda\\__init__.py:310\u001b[0m, in \u001b[0;36m_lazy_init\u001b[1;34m()\u001b[0m\n\u001b[0;32m    305\u001b[0m     \u001b[38;5;28;01mraise\u001b[39;00m \u001b[38;5;167;01mRuntimeError\u001b[39;00m(\n\u001b[0;32m    306\u001b[0m         \u001b[38;5;124m\"\u001b[39m\u001b[38;5;124mCannot re-initialize CUDA in forked subprocess. To use CUDA with \u001b[39m\u001b[38;5;124m\"\u001b[39m\n\u001b[0;32m    307\u001b[0m         \u001b[38;5;124m\"\u001b[39m\u001b[38;5;124mmultiprocessing, you must use the \u001b[39m\u001b[38;5;124m'\u001b[39m\u001b[38;5;124mspawn\u001b[39m\u001b[38;5;124m'\u001b[39m\u001b[38;5;124m start method\u001b[39m\u001b[38;5;124m\"\u001b[39m\n\u001b[0;32m    308\u001b[0m     )\n\u001b[0;32m    309\u001b[0m \u001b[38;5;28;01mif\u001b[39;00m \u001b[38;5;129;01mnot\u001b[39;00m \u001b[38;5;28mhasattr\u001b[39m(torch\u001b[38;5;241m.\u001b[39m_C, \u001b[38;5;124m\"\u001b[39m\u001b[38;5;124m_cuda_getDeviceCount\u001b[39m\u001b[38;5;124m\"\u001b[39m):\n\u001b[1;32m--> 310\u001b[0m     \u001b[38;5;28;01mraise\u001b[39;00m \u001b[38;5;167;01mAssertionError\u001b[39;00m(\u001b[38;5;124m\"\u001b[39m\u001b[38;5;124mTorch not compiled with CUDA enabled\u001b[39m\u001b[38;5;124m\"\u001b[39m)\n\u001b[0;32m    311\u001b[0m \u001b[38;5;28;01mif\u001b[39;00m _cudart \u001b[38;5;129;01mis\u001b[39;00m \u001b[38;5;28;01mNone\u001b[39;00m:\n\u001b[0;32m    312\u001b[0m     \u001b[38;5;28;01mraise\u001b[39;00m \u001b[38;5;167;01mAssertionError\u001b[39;00m(\n\u001b[0;32m    313\u001b[0m         \u001b[38;5;124m\"\u001b[39m\u001b[38;5;124mlibcudart functions unavailable. It looks like you have a broken build?\u001b[39m\u001b[38;5;124m\"\u001b[39m\n\u001b[0;32m    314\u001b[0m     )\n",
      "\u001b[1;31mAssertionError\u001b[0m: Torch not compiled with CUDA enabled"
     ]
    }
   ],
   "source": [
    "from utility.utils import control_random_seed, update_dataset_paths\n",
    "\n",
    "\n",
    "Experiments_Time = datetime.now().strftime(\"%y%m%d_%H%M%S\")\n",
    "print('Experiment Start Time:',Experiments_Time)\n",
    "\n",
    "ex_dict = {}\n",
    "ex_dict['Experiment Time'] = Experiments_Time;ex_dict['Epochs'] = epochs;\n",
    "ex_dict['Batch Size'] = batch_size;\n",
    "ex_dict['Early Stop'] = early_stop;\n",
    "ex_dict['Device'] = device\n",
    "ex_dict['Optimizer'] = optimizer;\n",
    "ex_dict['LR']=optim_args['lr']; ex_dict['Weight Decay']=optim_args['weight_decay'];ex_dict['Momentum']=optim_args['momentum'];\n",
    "#ex_dict['Hyp'] = dict(lr0=ex_dict['LR'], momentum=ex_dict['Momentum'], weight_decay=ex_dict['Weight Decay'])\n",
    "ex_dict['Image Size'] = image_size\n",
    "ex_dict['Output Dir'] = output_dir\n",
    "ex_dict['Num Workers'] = num_workers\n",
    "\n",
    "for iteration in range(iterations[0], iterations[1]+1):\n",
    "    print(f'(Iter {iteration})')\n",
    "    seed = iteration\n",
    "    ex_dict['Iteration'] = iteration\n",
    "    for j, Dataset_Name in enumerate(dataset_names):\n",
    "        print(f'Dataset: {Dataset_Name} ({j+1}/{len(dataset_names)})');\n",
    "        control_random_seed(seed)\n",
    "        data_yaml_path = f\"{dataset_root}/{Dataset_Name}/data_iter_{iteration:02d}.yaml\"\n",
    "        with open(data_yaml_path, 'r') as f:\n",
    "            data_config = yaml.load(f, Loader=yaml.FullLoader)\n",
    "        ex_dict['Dataset Name'] = Dataset_Name; ex_dict['Data Config'] = data_yaml_path; ex_dict['Number of Classes'] = data_config['nc']; ex_dict['Class Names'] = data_config['names'];\n",
    "        ex_dict['Split Size'] = f\"{data_config['train_count']}/{data_config['val_count']}/{data_config['test_count']}\"\n",
    "        update_dataset_paths(dataset_root, Dataset_Name, iteration)\n",
    "        \n",
    "        for k, model_name in enumerate(model_names):\n",
    "            print(f'{model_name} ({k+1}/{len(model_names)}) (Iter {iteration})', end=' ')\n",
    "            print(f'Dataset: {Dataset_Name} ({j+1}/{len(dataset_names)})', end=' ')\n",
    "            control_random_seed(seed)\n",
    "            \n",
    "            model = get_model(model_name, ex_dict)\n",
    "            train_fn, eval_fn = get_pipeline(model_name)\n",
    "\n",
    "            ex_dict['Model Name'] = model_name; ex_dict['Model']=model;\n",
    "            start = timeit.default_timer()\n",
    "\n",
    "            ex_dict = train_fn(ex_dict)\n",
    "            ex_dict = eval_fn(ex_dict)\n",
    "\n",
    "            ex_dict['Train-Test Time'] = timeit.default_timer() - start\n",
    "            eval_dict = format_measures(ex_dict.get('Test Results'))\n",
    "            output_csv = f\"{ex_dict['Experiment Time']}_{project_name}_Results.csv\"\n",
    "            merge_and_update_df(ex_dict, eval_dict, output_csv, exclude_columns=['Model', 'Train Results', 'Test Results'])"
   ]
  },
  {
   "cell_type": "code",
   "execution_count": null,
   "id": "3128ef8a-7dd8-4329-a92d-4e73283bfac4",
   "metadata": {
    "colab": {
     "base_uri": "https://localhost:8080/"
    },
    "executionInfo": {
     "elapsed": 187,
     "status": "ok",
     "timestamp": 1744690106616,
     "user": {
      "displayName": "천재원",
      "userId": "10314458299258158887"
     },
     "user_tz": -540
    },
    "id": "3128ef8a-7dd8-4329-a92d-4e73283bfac4",
    "outputId": "e9d646f5-312a-4f0e-885c-af9229b5ed87"
   },
   "outputs": [
    {
     "name": "stdout",
     "output_type": "stream",
     "text": [
      "cat: /root/.config/Ultralytics/settings.json: No such file or directory\n"
     ]
    }
   ],
   "source": [
    "!cat /root/.config/Ultralytics/settings.json"
   ]
  }
 ],
 "metadata": {
  "colab": {
   "provenance": []
  },
  "kernelspec": {
   "display_name": "AerialObjectDetection",
   "language": "python",
   "name": "python3"
  },
  "language_info": {
   "codemirror_mode": {
    "name": "ipython",
    "version": 3
   },
   "file_extension": ".py",
   "mimetype": "text/x-python",
   "name": "python",
   "nbconvert_exporter": "python",
   "pygments_lexer": "ipython3",
   "version": "3.10.16"
  }
 },
 "nbformat": 4,
 "nbformat_minor": 5
}
