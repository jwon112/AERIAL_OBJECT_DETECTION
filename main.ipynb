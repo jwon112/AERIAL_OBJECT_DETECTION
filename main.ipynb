{
 "cells": [
  {
   "cell_type": "code",
   "execution_count": 1,
   "id": "I5GOpRY8iceH",
   "metadata": {
    "colab": {
     "base_uri": "https://localhost:8080/"
    },
    "executionInfo": {
     "elapsed": 121074,
     "status": "ok",
     "timestamp": 1744696153033,
     "user": {
      "displayName": "천재원",
      "userId": "10314458299258158887"
     },
     "user_tz": -540
    },
    "id": "I5GOpRY8iceH",
    "outputId": "59ea41f2-0a57-4455-c4ae-89b38873f9fb"
   },
   "outputs": [],
   "source": [
    "#!pip install -r requirements.txt"
   ]
  },
  {
   "cell_type": "code",
   "execution_count": 2,
   "id": "6dd08f52",
   "metadata": {
    "colab": {
     "base_uri": "https://localhost:8080/"
    },
    "execution": {
     "iopub.execute_input": "2025-04-11T09:04:12.198519Z",
     "iopub.status.busy": "2025-04-11T09:04:12.198421Z",
     "iopub.status.idle": "2025-04-11T09:04:15.339455Z",
     "shell.execute_reply": "2025-04-11T09:04:15.339113Z",
     "shell.execute_reply.started": "2025-04-11T09:04:12.198511Z"
    },
    "executionInfo": {
     "elapsed": 13561,
     "status": "ok",
     "timestamp": 1744696166669,
     "user": {
      "displayName": "천재원",
      "userId": "10314458299258158887"
     },
     "user_tz": -540
    },
    "id": "6dd08f52",
    "outputId": "9861d3a5-ad07-48e8-a7a5-716d079f073f"
   },
   "outputs": [
    {
     "name": "stderr",
     "output_type": "stream",
     "text": [
      "Install mish-cuda to speed up training and inference. More importantly, replace the naive Mish with MishCuda will give a ~1.5G memory saving during training.\n",
      "c:\\Users\\user\\anaconda3\\envs\\AerialObjectDetection\\lib\\site-packages\\timm\\models\\layers\\__init__.py:48: FutureWarning: Importing from timm.models.layers is deprecated, please import via timm.layers\n",
      "  warnings.warn(f\"Importing from {__name__} is deprecated, please import via timm.layers\", FutureWarning)\n",
      "c:\\Users\\user\\anaconda3\\envs\\AerialObjectDetection\\lib\\site-packages\\timm\\models\\registry.py:4: FutureWarning: Importing from timm.models.registry is deprecated, please import via timm.models\n",
      "  warnings.warn(f\"Importing from {__name__} is deprecated, please import via timm.models\", FutureWarning)\n",
      "C:\\Users\\user\\Desktop\\Aerial Object Detection\\AERIAL_OBJECT_DETECTION\\Models\\YOLOH\\models\\backbone\\convnext.py:204: UserWarning: Overwriting convnext_tiny in registry with models.backbone.convnext.convnext_tiny. This is because the name being registered conflicts with an existing name. Please check if this is not expected.\n",
      "  def convnext_tiny(pretrained=False, res_dilation=False, **kwargs):\n",
      "C:\\Users\\user\\Desktop\\Aerial Object Detection\\AERIAL_OBJECT_DETECTION\\Models\\YOLOH\\models\\backbone\\convnext.py:211: UserWarning: Overwriting convnext_small in registry with models.backbone.convnext.convnext_small. This is because the name being registered conflicts with an existing name. Please check if this is not expected.\n",
      "  def convnext_small(pretrained=False, res_dilation=False, **kwargs):\n",
      "C:\\Users\\user\\Desktop\\Aerial Object Detection\\AERIAL_OBJECT_DETECTION\\Models\\YOLOH\\models\\backbone\\convnext.py:218: UserWarning: Overwriting convnext_base in registry with models.backbone.convnext.convnext_base. This is because the name being registered conflicts with an existing name. Please check if this is not expected.\n",
      "  def convnext_base(pretrained=False, res_dilation=False, in_22k=False, **kwargs):\n",
      "C:\\Users\\user\\Desktop\\Aerial Object Detection\\AERIAL_OBJECT_DETECTION\\Models\\YOLOH\\models\\backbone\\convnext.py:228: UserWarning: Overwriting convnext_large in registry with models.backbone.convnext.convnext_large. This is because the name being registered conflicts with an existing name. Please check if this is not expected.\n",
      "  def convnext_large(pretrained=False, res_dilation=False, in_22k=False, **kwargs):\n",
      "C:\\Users\\user\\Desktop\\Aerial Object Detection\\AERIAL_OBJECT_DETECTION\\Models\\YOLOH\\models\\backbone\\convnext.py:238: UserWarning: Overwriting convnext_xlarge in registry with models.backbone.convnext.convnext_xlarge. This is because the name being registered conflicts with an existing name. Please check if this is not expected.\n",
      "  def convnext_xlarge(pretrained=False, res_dilation=False, in_22k=False, **kwargs):\n"
     ]
    }
   ],
   "source": [
    "import yaml\n",
    "import timeit\n",
    "import numpy as np\n",
    "import pandas as pd\n",
    "import torch\n",
    "from datetime import datetime\n",
    "from utility import *\n",
    "from ultralytics import settings\n",
    "from registry import get_model, get_pipeline\n",
    "import os\n",
    "settings.update({'datasets_dir': os.path.abspath('.')})\n"
   ]
  },
  {
   "cell_type": "code",
   "execution_count": 3,
   "id": "3c883b28-7e26-40bb-9d4f-b8a384ed40d8",
   "metadata": {
    "execution": {
     "iopub.execute_input": "2025-04-11T09:04:15.339909Z",
     "iopub.status.busy": "2025-04-11T09:04:15.339783Z",
     "iopub.status.idle": "2025-04-11T09:04:15.342378Z",
     "shell.execute_reply": "2025-04-11T09:04:15.342181Z",
     "shell.execute_reply.started": "2025-04-11T09:04:15.339901Z"
    },
    "executionInfo": {
     "elapsed": 4,
     "status": "ok",
     "timestamp": 1744696166729,
     "user": {
      "displayName": "천재원",
      "userId": "10314458299258158887"
     },
     "user_tz": -540
    },
    "id": "3c883b28-7e26-40bb-9d4f-b8a384ed40d8"
   },
   "outputs": [],
   "source": [
    "project_name = 'Object Detection'\n",
    "# dataset_root 가 상대경로일 경우 colab 환경에서는 무조건 앞에 datasets 를 붙여서 찾는 문제가 있음\n",
    "dataset_root = 'Datasets'\n",
    "output_dir = 'output'\n",
    "dataset_names = ['NWPU_VHR10_YOLO', 'COCO_airplane',]\n",
    "model_names = ['YoloOW_CLI']\n",
    "iterations = [1, 3]\n",
    "epochs = 10\n",
    "early_stop = 20\n",
    "batch_size = 16\n",
    "image_size = 640\n",
    "optimizer = 'AdamW'\n",
    "lr = 0.001\n",
    "momentum = 0.9\n",
    "weight_decay = 1e-4\n",
    "optim_args = {'optimizer': optimizer, 'lr': lr, 'momentum': momentum, 'weight_decay': weight_decay}\n",
    "devices = [0]\n",
    "device = torch.device(\"cuda:\"+str(devices[0])) if len(devices)>0 else torch.device(\"cpu\")\n",
    "train_split = 0.6\n",
    "val_split = 0.2\n",
    "test_split = 0.2\n",
    "num_workers = 0"
   ]
  },
  {
   "cell_type": "code",
   "execution_count": 4,
   "id": "3564f553-e7b4-45cd-9171-465418f355ae",
   "metadata": {
    "colab": {
     "base_uri": "https://localhost:8080/"
    },
    "execution": {
     "iopub.execute_input": "2025-04-11T09:04:15.342815Z",
     "iopub.status.busy": "2025-04-11T09:04:15.342678Z",
     "iopub.status.idle": "2025-04-11T09:04:20.532205Z",
     "shell.execute_reply": "2025-04-11T09:04:20.531371Z",
     "shell.execute_reply.started": "2025-04-11T09:04:15.342803Z"
    },
    "executionInfo": {
     "elapsed": 5894784,
     "status": "ok",
     "timestamp": 1744702065603,
     "user": {
      "displayName": "천재원",
      "userId": "10314458299258158887"
     },
     "user_tz": -540
    },
    "id": "3564f553-e7b4-45cd-9171-465418f355ae",
    "outputId": "24fde293-4a80-49a9-ed27-3892b0e3e555",
    "scrolled": true
   },
   "outputs": [
    {
     "name": "stdout",
     "output_type": "stream",
     "text": [
      "Experiment Start Time: 250526_213518\n",
      "(Iter 1)\n",
      "Dataset: NWPU_VHR10_YOLO (1/2)\n",
      "YOLOH_CLI (1/1) (Iter 1) Dataset: NWPU_VHR10_YOLO (1/2) 실행 명령어: c:\\Users\\user\\anaconda3\\envs\\AerialObjectDetection\\python.exe c:\\Users\\user\\Desktop\\Aerial Object Detection\\AERIAL_OBJECT_DETECTION\\Models\\YOLOH\\train.py --cuda -d data_iter_01 --root -v YOLOH_CLI --batch_size 16 --train_min_size 640 --train_max_size 640 --val_min_size 640 --val_max_size 640 --schedule 1x --grad_clip_norm 4.0 --save_folder output\\250526_213518_YOLOH_CLI_NWPU_VHR10_YOLO_Iter_1\n",
      "Warning: Model weights not found at output\\250526_213518_YOLOH_CLI_NWPU_VHR10_YOLO_Iter_1\\final.pth\n",
      "Warning: Model weights not found at output\\250526_213518_YOLOH_CLI_NWPU_VHR10_YOLO_Iter_1\\final.pth\n",
      "DataFrame이 '250526_213518_Object Detection_Results.csv'에 저장되었습니다.\n",
      "Dataset: COCO_airplane (2/2)\n",
      "YOLOH_CLI (1/1) (Iter 1) Dataset: COCO_airplane (2/2) 실행 명령어: c:\\Users\\user\\anaconda3\\envs\\AerialObjectDetection\\python.exe c:\\Users\\user\\Desktop\\Aerial Object Detection\\AERIAL_OBJECT_DETECTION\\Models\\YOLOH\\train.py --cuda -d data_iter_01 --root -v YOLOH_CLI --batch_size 16 --train_min_size 640 --train_max_size 640 --val_min_size 640 --val_max_size 640 --schedule 1x --grad_clip_norm 4.0 --save_folder output\\250526_213523_YOLOH_CLI_COCO_airplane_Iter_1\n",
      "Warning: Model weights not found at output\\250526_213523_YOLOH_CLI_COCO_airplane_Iter_1\\final.pth\n",
      "Warning: Model weights not found at output\\250526_213523_YOLOH_CLI_COCO_airplane_Iter_1\\final.pth\n",
      "DataFrame이 '250526_213518_Object Detection_Results.csv'에 저장되었습니다.\n",
      "(Iter 2)\n",
      "Dataset: NWPU_VHR10_YOLO (1/2)\n",
      "YOLOH_CLI (1/1) (Iter 2) Dataset: NWPU_VHR10_YOLO (1/2) 실행 명령어: c:\\Users\\user\\anaconda3\\envs\\AerialObjectDetection\\python.exe c:\\Users\\user\\Desktop\\Aerial Object Detection\\AERIAL_OBJECT_DETECTION\\Models\\YOLOH\\train.py --cuda -d data_iter_02 --root -v YOLOH_CLI --batch_size 16 --train_min_size 640 --train_max_size 640 --val_min_size 640 --val_max_size 640 --schedule 1x --grad_clip_norm 4.0 --save_folder output\\250526_213528_YOLOH_CLI_NWPU_VHR10_YOLO_Iter_2\n",
      "Warning: Model weights not found at output\\250526_213528_YOLOH_CLI_NWPU_VHR10_YOLO_Iter_2\\final.pth\n",
      "Warning: Model weights not found at output\\250526_213528_YOLOH_CLI_NWPU_VHR10_YOLO_Iter_2\\final.pth\n",
      "DataFrame이 '250526_213518_Object Detection_Results.csv'에 저장되었습니다.\n",
      "Dataset: COCO_airplane (2/2)\n",
      "YOLOH_CLI (1/1) (Iter 2) Dataset: COCO_airplane (2/2) 실행 명령어: c:\\Users\\user\\anaconda3\\envs\\AerialObjectDetection\\python.exe c:\\Users\\user\\Desktop\\Aerial Object Detection\\AERIAL_OBJECT_DETECTION\\Models\\YOLOH\\train.py --cuda -d data_iter_02 --root -v YOLOH_CLI --batch_size 16 --train_min_size 640 --train_max_size 640 --val_min_size 640 --val_max_size 640 --schedule 1x --grad_clip_norm 4.0 --save_folder output\\250526_213533_YOLOH_CLI_COCO_airplane_Iter_2\n",
      "Warning: Model weights not found at output\\250526_213533_YOLOH_CLI_COCO_airplane_Iter_2\\final.pth\n",
      "Warning: Model weights not found at output\\250526_213533_YOLOH_CLI_COCO_airplane_Iter_2\\final.pth\n",
      "DataFrame이 '250526_213518_Object Detection_Results.csv'에 저장되었습니다.\n",
      "(Iter 3)\n",
      "Dataset: NWPU_VHR10_YOLO (1/2)\n",
      "YOLOH_CLI (1/1) (Iter 3) Dataset: NWPU_VHR10_YOLO (1/2) 실행 명령어: c:\\Users\\user\\anaconda3\\envs\\AerialObjectDetection\\python.exe c:\\Users\\user\\Desktop\\Aerial Object Detection\\AERIAL_OBJECT_DETECTION\\Models\\YOLOH\\train.py --cuda -d data_iter_03 --root -v YOLOH_CLI --batch_size 16 --train_min_size 640 --train_max_size 640 --val_min_size 640 --val_max_size 640 --schedule 1x --grad_clip_norm 4.0 --save_folder output\\250526_213538_YOLOH_CLI_NWPU_VHR10_YOLO_Iter_3\n",
      "Warning: Model weights not found at output\\250526_213538_YOLOH_CLI_NWPU_VHR10_YOLO_Iter_3\\final.pth\n",
      "Warning: Model weights not found at output\\250526_213538_YOLOH_CLI_NWPU_VHR10_YOLO_Iter_3\\final.pth\n",
      "DataFrame이 '250526_213518_Object Detection_Results.csv'에 저장되었습니다.\n",
      "Dataset: COCO_airplane (2/2)\n",
      "YOLOH_CLI (1/1) (Iter 3) Dataset: COCO_airplane (2/2) 실행 명령어: c:\\Users\\user\\anaconda3\\envs\\AerialObjectDetection\\python.exe c:\\Users\\user\\Desktop\\Aerial Object Detection\\AERIAL_OBJECT_DETECTION\\Models\\YOLOH\\train.py --cuda -d data_iter_03 --root -v YOLOH_CLI --batch_size 16 --train_min_size 640 --train_max_size 640 --val_min_size 640 --val_max_size 640 --schedule 1x --grad_clip_norm 4.0 --save_folder output\\250526_213544_YOLOH_CLI_COCO_airplane_Iter_3\n",
      "Warning: Model weights not found at output\\250526_213544_YOLOH_CLI_COCO_airplane_Iter_3\\final.pth\n",
      "Warning: Model weights not found at output\\250526_213544_YOLOH_CLI_COCO_airplane_Iter_3\\final.pth\n",
      "DataFrame이 '250526_213518_Object Detection_Results.csv'에 저장되었습니다.\n"
     ]
    }
   ],
   "source": [
    "from utility.utils import control_random_seed, update_dataset_paths, format_measures, merge_and_update_df\n",
    "\n",
    "\n",
    "Experiments_Time = datetime.now().strftime(\"%y%m%d_%H%M%S\")\n",
    "print('Experiment Start Time:',Experiments_Time)\n",
    "\n",
    "ex_dict = {}\n",
    "ex_dict['Experiment Time'] = Experiments_Time;ex_dict['Epochs'] = epochs;\n",
    "ex_dict['Batch Size'] = batch_size;\n",
    "ex_dict['Early Stop'] = early_stop;\n",
    "ex_dict['Device'] = device\n",
    "ex_dict['Optimizer'] = optimizer;\n",
    "ex_dict['LR']=optim_args['lr']; ex_dict['Weight Decay']=optim_args['weight_decay'];ex_dict['Momentum']=optim_args['momentum'];\n",
    "#ex_dict['Hyp'] = dict(lr0=ex_dict['LR'], momentum=ex_dict['Momentum'], weight_decay=ex_dict['Weight Decay'])\n",
    "ex_dict['Image Size'] = image_size\n",
    "ex_dict['Output Dir'] = output_dir\n",
    "ex_dict['Num Workers'] = num_workers\n",
    "ex_dict['AutoAnchor'] = True\n",
    "\n",
    "for iteration in range(iterations[0], iterations[1]+1):\n",
    "    print(f'(Iter {iteration})')\n",
    "    seed = iteration\n",
    "    ex_dict['Iteration'] = iteration\n",
    "    for j, Dataset_Name in enumerate(dataset_names):\n",
    "        print(f'Dataset: {Dataset_Name} ({j+1}/{len(dataset_names)})');\n",
    "        # 클래스별 메트릭 초기화 - 이전 데이터셋의 클래스별 메트릭이 남아있는 문제 해결\n",
    "        for key in list(ex_dict.keys()):\n",
    "            if '/' in key:  # 클래스별 메트릭은 'class_name/metric_name' 형식\n",
    "                del ex_dict[key]\n",
    "        control_random_seed(seed)\n",
    "        data_yaml_path = f\"{dataset_root}/{Dataset_Name}/data_iter_{iteration:02d}.yaml\"\n",
    "        with open(data_yaml_path, 'r') as f:\n",
    "            data_config = yaml.load(f, Loader=yaml.FullLoader)\n",
    "        ex_dict['Dataset Name'] = Dataset_Name; ex_dict['Data Config'] = data_yaml_path; ex_dict['Number of Classes'] = data_config['nc']; ex_dict['Class Names'] = data_config['names'];\n",
    "        ex_dict['Split Size'] = f\"{data_config['train_count']}/{data_config['val_count']}/{data_config['test_count']}\"\n",
    "        update_dataset_paths(dataset_root, Dataset_Name, iteration)\n",
    "        \n",
    "        for k, model_name in enumerate(model_names):\n",
    "            print(f'{model_name} ({k+1}/{len(model_names)}) (Iter {iteration})', end=' ')\n",
    "            print(f'Dataset: {Dataset_Name} ({j+1}/{len(dataset_names)})', end=' ')\n",
    "            control_random_seed(seed)\n",
    "            \n",
    "            model = get_model(model_name, ex_dict)\n",
    "            train_fn, eval_fn, test_fn = get_pipeline(model_name)\n",
    "\n",
    "            ex_dict['Model Name'] = model_name; ex_dict['Model']=model;\n",
    "            start = timeit.default_timer()\n",
    "\n",
    "            ex_dict = train_fn(ex_dict)\n",
    "            ex_dict = eval_fn(ex_dict)\n",
    "            ex_dict = test_fn(ex_dict)\n",
    "\n",
    "            ex_dict['Train-Test Time'] = timeit.default_timer() - start\n",
    "            #################\n",
    "            if ex_dict.get('Test Results') is None:\n",
    "                raise RuntimeError(\"평가 결과가 없습니다. 위의 체크리스트를 참고해 원인부터 해결하세요.\")\n",
    "\n",
    "            eval_dict = format_measures(ex_dict.get('Test Results'))\n",
    "            output_csv = f\"{ex_dict['Experiment Time']}_{project_name}_Results.csv\"\n",
    "            merge_and_update_df(ex_dict, eval_dict, output_csv, exclude_columns=['Model', 'Train Results', 'Test Results'])"
   ]
  },
  {
   "cell_type": "code",
   "execution_count": 5,
   "id": "c3a0aa77",
   "metadata": {},
   "outputs": [
    {
     "name": "stdout",
     "output_type": "stream",
     "text": [
      "CUDA 사용 가능 여부: True\n",
      "CUDA 디바이스 수: 1\n",
      "현재 사용 디바이스: 0\n",
      "디바이스 이름: NVIDIA GeForce RTX 5060 Ti\n",
      "PyTorch CUDA 버전: 12.8\n",
      "PyTorch 버전: 2.8.0.dev20250420+cu128\n"
     ]
    }
   ],
   "source": [
    "import torch\n",
    "\n",
    "print(f\"CUDA 사용 가능 여부: {torch.cuda.is_available()}\")\n",
    "print(f\"CUDA 디바이스 수: {torch.cuda.device_count()}\")\n",
    "print(f\"현재 사용 디바이스: {torch.cuda.current_device()}\")\n",
    "print(f\"디바이스 이름: {torch.cuda.get_device_name(0)}\")\n",
    "print(f\"PyTorch CUDA 버전: {torch.version.cuda}\")\n",
    "print(f\"PyTorch 버전: {torch.__version__}\")\n"
   ]
  }
 ],
 "metadata": {
  "colab": {
   "provenance": []
  },
  "kernelspec": {
   "display_name": "AerialObjectDetection",
   "language": "python",
   "name": "python3"
  },
  "language_info": {
   "codemirror_mode": {
    "name": "ipython",
    "version": 3
   },
   "file_extension": ".py",
   "mimetype": "text/x-python",
   "name": "python",
   "nbconvert_exporter": "python",
   "pygments_lexer": "ipython3",
   "version": "3.10.16"
  }
 },
 "nbformat": 4,
 "nbformat_minor": 5
}
